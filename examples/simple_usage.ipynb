{
 "cells": [
  {
   "cell_type": "markdown",
   "id": "66828352",
   "metadata": {},
   "source": [
    "# 📘 Binary Performance Evaluator – Uso Simples"
   ]
  },
  {
   "cell_type": "markdown",
   "id": "9a909fcf",
   "metadata": {},
   "source": [
    "Este notebook demonstra como utilizar a classe `BinaryPerformanceEvaluator` para avaliar um modelo de classificação binária já treinado."
   ]
  },
  {
   "cell_type": "code",
   "execution_count": null,
   "id": "4e1fdc73",
   "metadata": {},
   "outputs": [],
   "source": [
    "# Instalação de dependências (se necessário)\n",
    "# !pip install pandas numpy scikit-learn matplotlib seaborn joblib"
   ]
  },
  {
   "cell_type": "markdown",
   "id": "c513fd45",
   "metadata": {},
   "source": [
    "## 🔁 1. Carregar Modelo Treinado e Bases de Dados"
   ]
  },
  {
   "cell_type": "code",
   "execution_count": null,
   "id": "dc2a844d",
   "metadata": {},
   "outputs": [],
   "source": [
    "import pandas as pd\n",
    "from joblib import load\n",
    "\n",
    "# Exemplo: carregar modelo salvo\n",
    "# modelo = load('modelo_treinado.joblib')\n",
    "\n",
    "# Exemplo fictício de DataFrames\n",
    "# Substitua com suas bases reais\n",
    "df_train = pd.read_parquet('df_train.parquet')\n",
    "df_test = pd.read_parquet('df_test.parquet')\n",
    "df_val = pd.read_parquet('df_val.parquet')"
   ]
  },
  {
   "cell_type": "markdown",
   "id": "8c328fc2",
   "metadata": {},
   "source": [
    "## ⚙️ 2. Importar e Instanciar Avaliador"
   ]
  },
  {
   "cell_type": "code",
   "execution_count": null,
   "id": "d44f2222",
   "metadata": {},
   "outputs": [],
   "source": [
    "from binary_performance_evaluator import BinaryPerformanceEvaluator\n",
    "\n",
    "evaluator = BinaryPerformanceEvaluator(\n",
    "    model='modelo_treinado.joblib',  # pode ser também um objeto já carregado\n",
    "    df_train=df_train,\n",
    "    df_test=df_test,\n",
    "    df_val=df_val,\n",
    "    target_col='default_90d',\n",
    "    id_cols=['contract_id'],\n",
    "    date_col='snapshot_date',\n",
    "    group_col='product_type',\n",
    "    save_dir='figs'\n",
    ")"
   ]
  },
  {
   "cell_type": "markdown",
   "id": "384ad2c0",
   "metadata": {},
   "source": [
    "## 📊 3. Gerar Métricas e Gráficos"
   ]
  },
  {
   "cell_type": "code",
   "execution_count": null,
   "id": "cd873327",
   "metadata": {},
   "outputs": [],
   "source": [
    "# Calcular métricas\n",
    "evaluator.compute_metrics()\n",
    "\n",
    "# Matriz de confusão\n",
    "evaluator.plot_confusion(save=True)\n",
    "\n",
    "# Curva de calibração\n",
    "evaluator.plot_calibration()\n",
    "\n",
    "# Taxa de eventos por grupo\n",
    "evaluator.plot_event_rate()\n",
    "\n",
    "# PSI por variável\n",
    "evaluator.plot_psi()\n",
    "\n",
    "# Evolução do KS\n",
    "evaluator.plot_ks()"
   ]
  },
  {
   "cell_type": "markdown",
   "id": "d10ba634",
   "metadata": {},
   "source": [
    "## 📋 4. Visualizar Métricas Numéricas"
   ]
  },
  {
   "cell_type": "code",
   "execution_count": null,
   "id": "fecd0364",
   "metadata": {},
   "outputs": [],
   "source": [
    "import json\n",
    "print(json.dumps(evaluator.report, indent=2))"
   ]
  },
  {
   "cell_type": "markdown",
   "id": "e4fd3d0a",
   "metadata": {},
   "source": [
    "---\n",
    "Pronto! Agora você tem um diagnóstico completo do seu modelo binário."
   ]
  }
 ],
 "metadata": {},
 "nbformat": 4,
 "nbformat_minor": 5
}
