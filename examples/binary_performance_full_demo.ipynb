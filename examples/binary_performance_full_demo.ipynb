{
 "cells": [
  {
   "cell_type": "markdown",
   "metadata": {},
   "source": [
    "# Binary Performance Evaluator – Demo Completo"
   ]
  },
  {
   "cell_type": "markdown",
   "metadata": {},
   "source": [
    "Neste exemplo vamos treinar um classificador simples e explorar várias funcionalidades do `BinaryPerformanceEvaluator`. Usaremos dados sintéticos."
   ]
  },
  {
   "cell_type": "code",
   "execution_count": 1,
   "metadata": {},
   "outputs": [],
   "source": [
    "import numpy as np\n",
    "import pandas as pd\n",
    "from sklearn.model_selection import train_test_split\n",
    "from sklearn.linear_model import LogisticRegression\n",
    "from sklearn.tree import DecisionTreeClassifier\n",
    "from xgboost import XGBClassifier\n",
    "from lightgbm import LGBMClassifier\n",
    "from riskpilot.evaluation import BinaryPerformanceEvaluator\n",
    "from riskpilot.synthetic import SyntheticVintageGenerator\n",
    "\n",
    "from sklearn.utils.class_weight import compute_sample_weight"
   ]
  },
  {
   "cell_type": "code",
   "execution_count": 2,
   "metadata": {},
   "outputs": [],
   "source": [
    "# --------------------------------------------------\n",
    "# 1. CONFIGURAÇÕES\n",
    "# --------------------------------------------------\n",
    "FILE_PATH = \"../../datasets/lending_club/accepted_2007_to_2018Q4.csv\"\n",
    "NROWS     = 1_000\n",
    "TARGET_RAW = \"loan_status\"          # coluna original\n",
    "TARGET     = \"target\"               # nome final binário\n",
    "\n",
    "# --------------------------------------------------\n",
    "# 2. LEITURA E CONVERSÃO DE TIPOS MISTOS\n",
    "# --------------------------------------------------\n",
    "def read_and_clean_csv_mixed_types(path, nrows=None, verbose=True):\n",
    "    df = pd.read_csv(path, low_memory=False, nrows=nrows)\n",
    "\n",
    "    # identificar colunas com tipos mistos\n",
    "    for col in df.columns:\n",
    "        types = df[col].dropna().map(type).value_counts()\n",
    "        if len(types) > 1 and verbose:\n",
    "            print(f\"[!] '{col}' com múltiplos tipos: {dict(types)}\")\n",
    "\n",
    "        # tentativa de conversão automática p/ numérico\n",
    "        if len(types) > 1:\n",
    "            try:\n",
    "                df[col] = pd.to_numeric(df[col], errors=\"coerce\")\n",
    "            except Exception:\n",
    "                df[col] = df[col].astype(str)\n",
    "\n",
    "    return df\n",
    "\n",
    "df = read_and_clean_csv_mixed_types(FILE_PATH, nrows=NROWS)\n",
    "\n",
    "# drop de colunas não usadas (caso existam)\n",
    "df.drop(columns=[c for c in [\"member_id\"] if c in df.columns], inplace=True)\n",
    "\n",
    "# --------------------------------------------------\n",
    "# 3. TARGET BINÁRIO\n",
    "# --------------------------------------------------\n",
    "bad_status = [\"Charged Off\", \"Default\", \"Late (31-120 days)\"]\n",
    "df[TARGET] = df[TARGET_RAW].isin(bad_status).astype(int)\n",
    "\n",
    "# --------------------------------------------------\n",
    "# 4. DATA E ID\n",
    "# --------------------------------------------------\n",
    "#df[\"date\"] = pd.to_datetime(df[\"issue_d\"], format=\"%b-%Y\", errors=\"coerce\")\n",
    "\n",
    "df[\"date\"] = pd.to_datetime('202201', format=\"%Y%M\", errors=\"coerce\")\n",
    "\n",
    "df.drop(columns=[\"issue_d\", TARGET_RAW], inplace=True)\n",
    "\n",
    "df.reset_index(drop=False, inplace=True)   # index ➜ nova coluna\n",
    "\n",
    "# --------------------------------------------------\n",
    "# 5. FEATURES NUMÉRICAS + IMPUTAÇÃO\n",
    "# --------------------------------------------------\n",
    "numeric_cols = df.select_dtypes(include=[np.number]).columns.drop([\"id\", TARGET])\n",
    "na_threshold = 0.30\n",
    "valid_cols = numeric_cols[df[numeric_cols].isna().mean() < na_threshold].tolist()\n",
    "valid_cols.remove('index')\n",
    "\n",
    "df[valid_cols] = df[valid_cols].fillna(df[valid_cols].median())\n",
    "\n",
    "# --------------------------------------------------\n",
    "# 6. DATAFRAME FINAL\n",
    "# --------------------------------------------------\n",
    "\n",
    "FEATURES = [\n",
    "    \"funded_amnt_inv\",\n",
    "    \"annual_inc\",\n",
    "    \"dti\",\n",
    "    \"fico_range_high\",\n",
    "    \"out_prncp_inv\",\n",
    "    \"total_rec_prncp\",\n",
    "    \"last_pymnt_amnt\",\n",
    "    \"last_fico_range_low\",\n",
    "    \"acc_open_past_24mths\",\n",
    "    \"avg_cur_bal\",\n",
    "    \"bc_open_to_buy\",\n",
    "    \"mo_sin_old_rev_tl_op\",\n",
    "    \"mo_sin_rcnt_rev_tl_op\",\n",
    "    \"mo_sin_rcnt_tl\",\n",
    "    \"mort_acc\",\n",
    "    \"mths_since_recent_bc\",\n",
    "    \"mths_since_recent_inq\",\n",
    "    \"num_tl_op_past_12m\",\n",
    "    \"percent_bc_gt_75\",\n",
    "    \"total_bc_limit\",\n",
    "    #\"sub_grade\"\n",
    "]\n",
    "\n",
    "ID_COLS = ['id']\n",
    "\n",
    "IGNORE_COLS = ['member_id']\n",
    "\n",
    "DATE_COLS = ['date']\n",
    "\n",
    "# --------------------------------------------------\n",
    "# Preparar dataset base\n",
    "# --------------------------------------------------\n",
    "df_model = df[ID_COLS+DATE_COLS+[TARGET] + FEATURES].dropna().copy()"
   ]
  },
  {
   "cell_type": "code",
   "execution_count": 3,
   "id": "771f86e2",
   "metadata": {},
   "outputs": [
    {
     "data": {
      "text/plain": [
       "['id']"
      ]
     },
     "execution_count": 3,
     "metadata": {},
     "output_type": "execute_result"
    }
   ],
   "source": [
    "ID_COLS"
   ]
  },
  {
   "cell_type": "code",
   "execution_count": 4,
   "id": "ab7ee715",
   "metadata": {},
   "outputs": [],
   "source": [
    "import numpy as np\n",
    "from riskpilot.synthetic import SyntheticVintageGenerator\n",
    "\n",
    "gen = SyntheticVintageGenerator(\n",
    "    id_cols=ID_COLS,\n",
    "    date_cols=DATE_COLS\n",
    ").fit(df_model)"
   ]
  },
  {
   "cell_type": "code",
   "execution_count": 6,
   "id": "db7e97e3",
   "metadata": {},
   "outputs": [
    {
     "data": {
      "text/html": [
       "<div>\n",
       "<style scoped>\n",
       "    .dataframe tbody tr th:only-of-type {\n",
       "        vertical-align: middle;\n",
       "    }\n",
       "\n",
       "    .dataframe tbody tr th {\n",
       "        vertical-align: top;\n",
       "    }\n",
       "\n",
       "    .dataframe thead th {\n",
       "        text-align: right;\n",
       "    }\n",
       "</style>\n",
       "<table border=\"1\" class=\"dataframe\">\n",
       "  <thead>\n",
       "    <tr style=\"text-align: right;\">\n",
       "      <th></th>\n",
       "      <th>id</th>\n",
       "      <th>date</th>\n",
       "      <th>target</th>\n",
       "      <th>funded_amnt_inv</th>\n",
       "      <th>annual_inc</th>\n",
       "      <th>dti</th>\n",
       "      <th>fico_range_high</th>\n",
       "      <th>out_prncp_inv</th>\n",
       "      <th>total_rec_prncp</th>\n",
       "      <th>last_pymnt_amnt</th>\n",
       "      <th>...</th>\n",
       "      <th>bc_open_to_buy</th>\n",
       "      <th>mo_sin_old_rev_tl_op</th>\n",
       "      <th>mo_sin_rcnt_rev_tl_op</th>\n",
       "      <th>mo_sin_rcnt_tl</th>\n",
       "      <th>mort_acc</th>\n",
       "      <th>mths_since_recent_bc</th>\n",
       "      <th>mths_since_recent_inq</th>\n",
       "      <th>num_tl_op_past_12m</th>\n",
       "      <th>percent_bc_gt_75</th>\n",
       "      <th>total_bc_limit</th>\n",
       "    </tr>\n",
       "  </thead>\n",
       "  <tbody>\n",
       "    <tr>\n",
       "      <th>0</th>\n",
       "      <td>369f29d5ec804d15813f26e4eed83fd8</td>\n",
       "      <td>2025-06-30</td>\n",
       "      <td>0</td>\n",
       "      <td>30000.0</td>\n",
       "      <td>132814.366241</td>\n",
       "      <td>17.949771</td>\n",
       "      <td>664.0</td>\n",
       "      <td>0.0</td>\n",
       "      <td>31980.889321</td>\n",
       "      <td>748.814641</td>\n",
       "      <td>...</td>\n",
       "      <td>8216.884826</td>\n",
       "      <td>174.0</td>\n",
       "      <td>4.0</td>\n",
       "      <td>5.0</td>\n",
       "      <td>0</td>\n",
       "      <td>25.0</td>\n",
       "      <td>5.0</td>\n",
       "      <td>2</td>\n",
       "      <td>33.3</td>\n",
       "      <td>18104.970951</td>\n",
       "    </tr>\n",
       "    <tr>\n",
       "      <th>1</th>\n",
       "      <td>7b6c8bb560ec48a3924476ac22f87635</td>\n",
       "      <td>2025-06-30</td>\n",
       "      <td>1</td>\n",
       "      <td>15000.0</td>\n",
       "      <td>94761.277294</td>\n",
       "      <td>17.748759</td>\n",
       "      <td>699.0</td>\n",
       "      <td>0.0</td>\n",
       "      <td>9848.376908</td>\n",
       "      <td>4422.016546</td>\n",
       "      <td>...</td>\n",
       "      <td>7957.926767</td>\n",
       "      <td>152.0</td>\n",
       "      <td>2.0</td>\n",
       "      <td>5.0</td>\n",
       "      <td>0</td>\n",
       "      <td>1.0</td>\n",
       "      <td>0.0</td>\n",
       "      <td>2</td>\n",
       "      <td>0.0</td>\n",
       "      <td>13945.425458</td>\n",
       "    </tr>\n",
       "    <tr>\n",
       "      <th>2</th>\n",
       "      <td>70133566f291461d8a1e27de12e152aa</td>\n",
       "      <td>2025-06-30</td>\n",
       "      <td>0</td>\n",
       "      <td>28000.0</td>\n",
       "      <td>123000.000000</td>\n",
       "      <td>14.444879</td>\n",
       "      <td>699.0</td>\n",
       "      <td>0.0</td>\n",
       "      <td>28000.000000</td>\n",
       "      <td>675.157374</td>\n",
       "      <td>...</td>\n",
       "      <td>23055.059392</td>\n",
       "      <td>107.0</td>\n",
       "      <td>25.0</td>\n",
       "      <td>18.0</td>\n",
       "      <td>0</td>\n",
       "      <td>5.0</td>\n",
       "      <td>2.0</td>\n",
       "      <td>1</td>\n",
       "      <td>0.0</td>\n",
       "      <td>24065.135589</td>\n",
       "    </tr>\n",
       "    <tr>\n",
       "      <th>3</th>\n",
       "      <td>b2288eafdac14c73b098da28f04a21b5</td>\n",
       "      <td>2025-06-30</td>\n",
       "      <td>0</td>\n",
       "      <td>14000.0</td>\n",
       "      <td>35982.984766</td>\n",
       "      <td>15.189473</td>\n",
       "      <td>729.0</td>\n",
       "      <td>0.0</td>\n",
       "      <td>12000.000000</td>\n",
       "      <td>49.612043</td>\n",
       "      <td>...</td>\n",
       "      <td>3511.356711</td>\n",
       "      <td>142.0</td>\n",
       "      <td>1.0</td>\n",
       "      <td>2.0</td>\n",
       "      <td>1</td>\n",
       "      <td>2.0</td>\n",
       "      <td>5.0</td>\n",
       "      <td>2</td>\n",
       "      <td>57.1</td>\n",
       "      <td>7600.000000</td>\n",
       "    </tr>\n",
       "    <tr>\n",
       "      <th>4</th>\n",
       "      <td>6665239b26ff499397355b1a9636ac7d</td>\n",
       "      <td>2025-06-30</td>\n",
       "      <td>0</td>\n",
       "      <td>7500.0</td>\n",
       "      <td>45000.000000</td>\n",
       "      <td>25.819285</td>\n",
       "      <td>689.0</td>\n",
       "      <td>0.0</td>\n",
       "      <td>6021.230848</td>\n",
       "      <td>72.635623</td>\n",
       "      <td>...</td>\n",
       "      <td>15152.010332</td>\n",
       "      <td>169.0</td>\n",
       "      <td>1.0</td>\n",
       "      <td>3.0</td>\n",
       "      <td>1</td>\n",
       "      <td>1.0</td>\n",
       "      <td>5.0</td>\n",
       "      <td>0</td>\n",
       "      <td>28.6</td>\n",
       "      <td>18992.844670</td>\n",
       "    </tr>\n",
       "  </tbody>\n",
       "</table>\n",
       "<p>5 rows × 23 columns</p>\n",
       "</div>"
      ],
      "text/plain": [
       "                                 id       date  target  funded_amnt_inv  \\\n",
       "0  369f29d5ec804d15813f26e4eed83fd8 2025-06-30       0          30000.0   \n",
       "1  7b6c8bb560ec48a3924476ac22f87635 2025-06-30       1          15000.0   \n",
       "2  70133566f291461d8a1e27de12e152aa 2025-06-30       0          28000.0   \n",
       "3  b2288eafdac14c73b098da28f04a21b5 2025-06-30       0          14000.0   \n",
       "4  6665239b26ff499397355b1a9636ac7d 2025-06-30       0           7500.0   \n",
       "\n",
       "      annual_inc        dti  fico_range_high  out_prncp_inv  total_rec_prncp  \\\n",
       "0  132814.366241  17.949771            664.0            0.0     31980.889321   \n",
       "1   94761.277294  17.748759            699.0            0.0      9848.376908   \n",
       "2  123000.000000  14.444879            699.0            0.0     28000.000000   \n",
       "3   35982.984766  15.189473            729.0            0.0     12000.000000   \n",
       "4   45000.000000  25.819285            689.0            0.0      6021.230848   \n",
       "\n",
       "   last_pymnt_amnt  ...  bc_open_to_buy  mo_sin_old_rev_tl_op  \\\n",
       "0       748.814641  ...     8216.884826                 174.0   \n",
       "1      4422.016546  ...     7957.926767                 152.0   \n",
       "2       675.157374  ...    23055.059392                 107.0   \n",
       "3        49.612043  ...     3511.356711                 142.0   \n",
       "4        72.635623  ...    15152.010332                 169.0   \n",
       "\n",
       "   mo_sin_rcnt_rev_tl_op  mo_sin_rcnt_tl  mort_acc  mths_since_recent_bc  \\\n",
       "0                    4.0             5.0         0                  25.0   \n",
       "1                    2.0             5.0         0                   1.0   \n",
       "2                   25.0            18.0         0                   5.0   \n",
       "3                    1.0             2.0         1                   2.0   \n",
       "4                    1.0             3.0         1                   1.0   \n",
       "\n",
       "   mths_since_recent_inq  num_tl_op_past_12m  percent_bc_gt_75  total_bc_limit  \n",
       "0                    5.0                   2              33.3    18104.970951  \n",
       "1                    0.0                   2               0.0    13945.425458  \n",
       "2                    2.0                   1               0.0    24065.135589  \n",
       "3                    5.0                   2              57.1     7600.000000  \n",
       "4                    5.0                   0              28.6    18992.844670  \n",
       "\n",
       "[5 rows x 23 columns]"
      ]
     },
     "execution_count": 6,
     "metadata": {},
     "output_type": "execute_result"
    }
   ],
   "source": [
    "synthetic = gen.generate(\n",
    "    n_periods=36,\n",
    "    freq='ME',\n",
    "    scenario='stress')\n",
    "synthetic.head()"
   ]
  },
  {
   "cell_type": "code",
   "execution_count": null,
   "id": "dc15d83d",
   "metadata": {},
   "outputs": [],
   "source": [
    "# --------------------------------------------------\n",
    "# 2. Split treino / teste\n",
    "# --------------------------------------------------\n",
    "train_idx, test_idx = train_test_split(\n",
    "    df_model.index,\n",
    "    test_size=0.30,\n",
    "    stratify=df_model[TARGET],\n",
    "    random_state=42,\n",
    ")\n",
    "\n",
    "# Criar df_train e df_test primeiro\n",
    "df_train = df_model.loc[train_idx].copy()\n",
    "df_test  = df_model.loc[test_idx].copy()\n",
    "\n",
    "# Depois extrair X e y a partir dos DataFrames\n",
    "X_train, y_train = df_train[FEATURES], df_train[TARGET]\n",
    "X_test , y_test  = df_test[FEATURES] , df_test[TARGET]"
   ]
  },
  {
   "cell_type": "code",
   "execution_count": 57,
   "id": "0f0a0eec",
   "metadata": {},
   "outputs": [
    {
     "name": "stdout",
     "output_type": "stream",
     "text": [
      "Colunas 'object' restantes em X_train: Series([], dtype: object)\n",
      "Colunas 'object' restantes em df_test: Series([], dtype: object)\n"
     ]
    }
   ],
   "source": [
    "# --------------------------------------------------\n",
    "# Garantir cópias independentes dos conjuntos de treino e teste\n",
    "# --------------------------------------------------\n",
    "X_train = df_train[FEATURES].copy()\n",
    "X_test = df_test[FEATURES].copy()\n",
    "\n",
    "# --------------------------------------------------\n",
    "# Converter colunas categóricas (tipo object) para 'category' em X e df\n",
    "# --------------------------------------------------\n",
    "def convert_object_to_category(df):\n",
    "    obj_cols = df.select_dtypes(include='object').columns\n",
    "    df[obj_cols] = df[obj_cols].astype('category')\n",
    "    return df\n",
    "\n",
    "# Aplicar nos conjuntos usados no modelo\n",
    "X_train = convert_object_to_category(X_train)\n",
    "X_test = convert_object_to_category(X_test)\n",
    "\n",
    "# Garantir que df_train e df_test também estejam com tipos consistentes\n",
    "df_train = convert_object_to_category(df_train)\n",
    "df_test = convert_object_to_category(df_test)\n",
    "\n",
    "# --------------------------------------------------\n",
    "# Verificações finais\n",
    "# --------------------------------------------------\n",
    "print(\"Colunas 'object' restantes em X_train:\", X_train.dtypes[X_train.dtypes == 'object'])\n",
    "print(\"Colunas 'object' restantes em df_test:\", df_test.dtypes[df_test.dtypes == 'object'])\n"
   ]
  },
  {
   "cell_type": "code",
   "execution_count": 58,
   "id": "54283e46",
   "metadata": {},
   "outputs": [],
   "source": [
    "num_cols = df_train.select_dtypes(include=[float, int]).columns.tolist()\n",
    "\n",
    "for col in ['index', 'id', TARGET]:\n",
    "    try:\n",
    "        num_cols.remove(col)\n",
    "    except:\n",
    "        pass   "
   ]
  },
  {
   "cell_type": "code",
   "execution_count": 59,
   "id": "c955d81b",
   "metadata": {},
   "outputs": [
    {
     "name": "stderr",
     "output_type": "stream",
     "text": [
      "INFO: Ignoring columns (no scaling): ['id', 'target']\n",
      "WARNING: Ignoring non-numeric columns: ['id', 'date', 'target']\n",
      "C:\\Users\\JM\\Documents\\0_CienciaDados\\1_Frameworks\\RiskPilot\\riskpilot\\utils\\scaler.py:233: RuntimeWarning:\n",
      "\n",
      "Precision loss occurred in moment calculation due to catastrophic cancellation. This occurs when the data are nearly identical. Results may be unreliable.\n",
      "\n",
      "C:\\Users\\JM\\Documents\\0_CienciaDados\\1_Frameworks\\RiskPilot\\riskpilot\\utils\\scaler.py:234: RuntimeWarning:\n",
      "\n",
      "Precision loss occurred in moment calculation due to catastrophic cancellation. This occurs when the data are nearly identical. Results may be unreliable.\n",
      "\n",
      "c:\\Users\\JM\\AppData\\Local\\anaconda3\\envs\\ENV_STONE\\lib\\site-packages\\sklearn\\preprocessing\\_data.py:2785: UserWarning:\n",
      "\n",
      "n_quantiles (1000) is greater than the total number of samples (700). n_quantiles is set to n_samples.\n",
      "\n",
      "c:\\Users\\JM\\AppData\\Local\\anaconda3\\envs\\ENV_STONE\\lib\\site-packages\\sklearn\\preprocessing\\_data.py:2785: UserWarning:\n",
      "\n",
      "n_quantiles (1000) is greater than the total number of samples (700). n_quantiles is set to n_samples.\n",
      "\n",
      "c:\\Users\\JM\\AppData\\Local\\anaconda3\\envs\\ENV_STONE\\lib\\site-packages\\sklearn\\preprocessing\\_data.py:2785: UserWarning:\n",
      "\n",
      "n_quantiles (1000) is greater than the total number of samples (700). n_quantiles is set to n_samples.\n",
      "\n",
      "INFO: Coluna 'funded_amnt_inv' → RobustScaler (p=0.000, skew=0.51, kurt=-0.4) | motivo: skew moderado/outliers\n",
      "INFO: Coluna 'funded_amnt_inv' → RobustScaler (p=0.000, skew=0.51, kurt=-0.4) | motivo: skew moderado/outliers\n",
      "INFO: Coluna 'annual_inc' → RobustScaler (p=0.000, skew=2.11, kurt=11.0) | motivo: skew moderado/outliers\n",
      "INFO: Coluna 'annual_inc' → RobustScaler (p=0.000, skew=2.11, kurt=11.0) | motivo: skew moderado/outliers\n",
      "INFO: Coluna 'dti' → MinMaxScaler (p=0.000, skew=0.27, kurt=-0.4) | motivo: default\n",
      "INFO: Coluna 'dti' → MinMaxScaler (p=0.000, skew=0.27, kurt=-0.4) | motivo: default\n",
      "INFO: Coluna 'fico_range_high' → PowerTransformer (p=0.000, skew=1.13, kurt=1.1) | motivo: box-cox (high skew)\n",
      "C:\\Users\\JM\\Documents\\0_CienciaDados\\1_Frameworks\\RiskPilot\\riskpilot\\utils\\scaler.py:299: RuntimeWarning:\n",
      "\n",
      "Precision loss occurred in moment calculation due to catastrophic cancellation. This occurs when the data are nearly identical. Results may be unreliable.\n",
      "\n",
      "C:\\Users\\JM\\Documents\\0_CienciaDados\\1_Frameworks\\RiskPilot\\riskpilot\\utils\\scaler.py:300: RuntimeWarning:\n",
      "\n",
      "Precision loss occurred in moment calculation due to catastrophic cancellation. This occurs when the data are nearly identical. Results may be unreliable.\n",
      "\n",
      "INFO: Coluna 'fico_range_high' → PowerTransformer (p=0.000, skew=1.13, kurt=1.1) | motivo: box-cox (high skew)\n",
      "INFO: Coluna 'out_prncp_inv' → PowerTransformer (p=0.000, skew=2.99, kurt=8.5) | motivo: yeo-johnson (high skew)\n",
      "INFO: Coluna 'out_prncp_inv' → PowerTransformer (p=0.000, skew=2.99, kurt=8.5) | motivo: yeo-johnson (high skew)\n",
      "INFO: Coluna 'total_rec_prncp' → RobustScaler (p=0.000, skew=0.78, kurt=0.0) | motivo: skew moderado/outliers\n",
      "INFO: Coluna 'total_rec_prncp' → RobustScaler (p=0.000, skew=0.78, kurt=0.0) | motivo: skew moderado/outliers\n",
      "INFO: Coluna 'last_pymnt_amnt' → PowerTransformer (p=0.000, skew=1.80, kurt=3.0) | motivo: box-cox (high skew)\n",
      "INFO: Coluna 'last_pymnt_amnt' → PowerTransformer (p=0.000, skew=1.80, kurt=3.0) | motivo: box-cox (high skew)\n",
      "INFO: Coluna 'last_fico_range_low' → QuantileTransformer (p=0.000, skew=-3.46, kurt=15.5) | motivo: assimetria/kurtosis extrema\n",
      "c:\\Users\\JM\\AppData\\Local\\anaconda3\\envs\\ENV_STONE\\lib\\site-packages\\sklearn\\preprocessing\\_data.py:2785: UserWarning:\n",
      "\n",
      "n_quantiles (1000) is greater than the total number of samples (700). n_quantiles is set to n_samples.\n",
      "\n",
      "INFO: Coluna 'last_fico_range_low' → QuantileTransformer (p=0.000, skew=-3.46, kurt=15.5) | motivo: assimetria/kurtosis extrema\n",
      "INFO: Coluna 'acc_open_past_24mths' → PowerTransformer (p=0.000, skew=1.14, kurt=2.3) | motivo: yeo-johnson (high skew)\n",
      "INFO: Coluna 'acc_open_past_24mths' → PowerTransformer (p=0.000, skew=1.14, kurt=2.3) | motivo: yeo-johnson (high skew)\n",
      "INFO: Coluna 'avg_cur_bal' → RobustScaler (p=0.000, skew=2.52, kurt=11.6) | motivo: skew moderado/outliers\n",
      "INFO: Coluna 'avg_cur_bal' → RobustScaler (p=0.000, skew=2.52, kurt=11.6) | motivo: skew moderado/outliers\n",
      "INFO: Coluna 'bc_open_to_buy' → QuantileTransformer (p=0.000, skew=3.17, kurt=14.5) | motivo: assimetria/kurtosis extrema\n",
      "c:\\Users\\JM\\AppData\\Local\\anaconda3\\envs\\ENV_STONE\\lib\\site-packages\\sklearn\\preprocessing\\_data.py:2785: UserWarning:\n",
      "\n",
      "n_quantiles (1000) is greater than the total number of samples (700). n_quantiles is set to n_samples.\n",
      "\n",
      "INFO: Coluna 'bc_open_to_buy' → QuantileTransformer (p=0.000, skew=3.17, kurt=14.5) | motivo: assimetria/kurtosis extrema\n",
      "INFO: Coluna 'mo_sin_old_rev_tl_op' → PowerTransformer (p=0.000, skew=1.07, kurt=1.9) | motivo: box-cox (high skew)\n",
      "INFO: Coluna 'mo_sin_old_rev_tl_op' → PowerTransformer (p=0.000, skew=1.07, kurt=1.9) | motivo: box-cox (high skew)\n",
      "INFO: Coluna 'mo_sin_rcnt_rev_tl_op' → QuantileTransformer (p=0.000, skew=3.23, kurt=14.3) | motivo: assimetria/kurtosis extrema\n",
      "c:\\Users\\JM\\AppData\\Local\\anaconda3\\envs\\ENV_STONE\\lib\\site-packages\\sklearn\\preprocessing\\_data.py:2785: UserWarning:\n",
      "\n",
      "n_quantiles (1000) is greater than the total number of samples (700). n_quantiles is set to n_samples.\n",
      "\n",
      "INFO: Coluna 'mo_sin_rcnt_rev_tl_op' → QuantileTransformer (p=0.000, skew=3.23, kurt=14.3) | motivo: assimetria/kurtosis extrema\n",
      "INFO: Coluna 'mo_sin_rcnt_tl' → PowerTransformer (p=0.000, skew=2.69, kurt=9.5) | motivo: yeo-johnson (high skew)\n",
      "INFO: Coluna 'mo_sin_rcnt_tl' → PowerTransformer (p=0.000, skew=2.69, kurt=9.5) | motivo: yeo-johnson (high skew)\n",
      "INFO: Coluna 'mort_acc' → PowerTransformer (p=0.000, skew=1.03, kurt=0.4) | motivo: yeo-johnson (high skew)\n",
      "INFO: Coluna 'mort_acc' → PowerTransformer (p=0.000, skew=1.03, kurt=0.4) | motivo: yeo-johnson (high skew)\n",
      "INFO: Coluna 'mths_since_recent_bc' → RobustScaler (p=0.000, skew=2.91, kurt=11.1) | motivo: skew moderado/outliers\n",
      "INFO: Coluna 'mths_since_recent_bc' → RobustScaler (p=0.000, skew=2.91, kurt=11.1) | motivo: skew moderado/outliers\n",
      "INFO: Coluna 'mths_since_recent_inq' → PowerTransformer (p=0.000, skew=1.15, kurt=0.9) | motivo: yeo-johnson (high skew)\n",
      "INFO: Coluna 'mths_since_recent_inq' → PowerTransformer (p=0.000, skew=1.15, kurt=0.9) | motivo: yeo-johnson (high skew)\n",
      "INFO: Coluna 'num_tl_op_past_12m' → PowerTransformer (p=0.000, skew=1.33, kurt=2.4) | motivo: yeo-johnson (high skew)\n",
      "INFO: Coluna 'num_tl_op_past_12m' → PowerTransformer (p=0.000, skew=1.33, kurt=2.4) | motivo: yeo-johnson (high skew)\n",
      "INFO: Coluna 'percent_bc_gt_75' → MinMaxScaler (p=0.000, skew=0.33, kurt=-1.2) | motivo: default\n",
      "INFO: Coluna 'percent_bc_gt_75' → MinMaxScaler (p=0.000, skew=0.33, kurt=-1.2) | motivo: default\n",
      "INFO: Coluna 'total_bc_limit' → PowerTransformer (p=0.000, skew=2.06, kurt=6.1) | motivo: yeo-johnson (high skew)\n",
      "INFO: Coluna 'total_bc_limit' → PowerTransformer (p=0.000, skew=2.06, kurt=6.1) | motivo: yeo-johnson (high skew)\n"
     ]
    },
    {
     "name": "stdout",
     "output_type": "stream",
     "text": [
      "\n",
      "Resumo das decisões por feature:\n"
     ]
    },
    {
     "data": {
      "text/html": [
       "<div>\n",
       "<style scoped>\n",
       "    .dataframe tbody tr th:only-of-type {\n",
       "        vertical-align: middle;\n",
       "    }\n",
       "\n",
       "    .dataframe tbody tr th {\n",
       "        vertical-align: top;\n",
       "    }\n",
       "\n",
       "    .dataframe thead th {\n",
       "        text-align: right;\n",
       "    }\n",
       "</style>\n",
       "<table border=\"1\" class=\"dataframe\">\n",
       "  <thead>\n",
       "    <tr style=\"text-align: right;\">\n",
       "      <th></th>\n",
       "      <th>p_value</th>\n",
       "      <th>skew</th>\n",
       "      <th>kurtosis</th>\n",
       "      <th>reason</th>\n",
       "      <th>scaler</th>\n",
       "      <th>post_skew</th>\n",
       "      <th>post_kurtosis</th>\n",
       "    </tr>\n",
       "  </thead>\n",
       "  <tbody>\n",
       "    <tr>\n",
       "      <th>funded_amnt_inv</th>\n",
       "      <td>1.664211e-12</td>\n",
       "      <td>0.508500</td>\n",
       "      <td>-0.395900</td>\n",
       "      <td>skew moderado/outliers</td>\n",
       "      <td>RobustScaler</td>\n",
       "      <td>NaN</td>\n",
       "      <td>NaN</td>\n",
       "    </tr>\n",
       "    <tr>\n",
       "      <th>annual_inc</th>\n",
       "      <td>1.079659e-23</td>\n",
       "      <td>2.106841</td>\n",
       "      <td>10.974685</td>\n",
       "      <td>skew moderado/outliers</td>\n",
       "      <td>RobustScaler</td>\n",
       "      <td>NaN</td>\n",
       "      <td>NaN</td>\n",
       "    </tr>\n",
       "    <tr>\n",
       "      <th>dti</th>\n",
       "      <td>3.934199e-05</td>\n",
       "      <td>0.271101</td>\n",
       "      <td>-0.415908</td>\n",
       "      <td>default</td>\n",
       "      <td>MinMaxScaler</td>\n",
       "      <td>NaN</td>\n",
       "      <td>NaN</td>\n",
       "    </tr>\n",
       "    <tr>\n",
       "      <th>fico_range_high</th>\n",
       "      <td>2.394015e-20</td>\n",
       "      <td>1.134391</td>\n",
       "      <td>1.118171</td>\n",
       "      <td>box-cox (high skew)</td>\n",
       "      <td>PowerTransformer</td>\n",
       "      <td>NaN</td>\n",
       "      <td>NaN</td>\n",
       "    </tr>\n",
       "    <tr>\n",
       "      <th>out_prncp_inv</th>\n",
       "      <td>5.757863e-43</td>\n",
       "      <td>2.988878</td>\n",
       "      <td>8.468441</td>\n",
       "      <td>yeo-johnson (high skew)</td>\n",
       "      <td>PowerTransformer</td>\n",
       "      <td>2.220930</td>\n",
       "      <td>2.935013</td>\n",
       "    </tr>\n",
       "    <tr>\n",
       "      <th>total_rec_prncp</th>\n",
       "      <td>2.924658e-16</td>\n",
       "      <td>0.779351</td>\n",
       "      <td>0.007893</td>\n",
       "      <td>skew moderado/outliers</td>\n",
       "      <td>RobustScaler</td>\n",
       "      <td>NaN</td>\n",
       "      <td>NaN</td>\n",
       "    </tr>\n",
       "    <tr>\n",
       "      <th>last_pymnt_amnt</th>\n",
       "      <td>2.650596e-32</td>\n",
       "      <td>1.798974</td>\n",
       "      <td>2.986320</td>\n",
       "      <td>box-cox (high skew)</td>\n",
       "      <td>PowerTransformer</td>\n",
       "      <td>-0.027852</td>\n",
       "      <td>-0.542435</td>\n",
       "    </tr>\n",
       "    <tr>\n",
       "      <th>last_fico_range_low</th>\n",
       "      <td>5.991563e-35</td>\n",
       "      <td>-3.457413</td>\n",
       "      <td>15.468496</td>\n",
       "      <td>assimetria/kurtosis extrema</td>\n",
       "      <td>QuantileTransformer</td>\n",
       "      <td>NaN</td>\n",
       "      <td>NaN</td>\n",
       "    </tr>\n",
       "    <tr>\n",
       "      <th>acc_open_past_24mths</th>\n",
       "      <td>4.447859e-18</td>\n",
       "      <td>1.141839</td>\n",
       "      <td>2.281581</td>\n",
       "      <td>yeo-johnson (high skew)</td>\n",
       "      <td>PowerTransformer</td>\n",
       "      <td>-0.010969</td>\n",
       "      <td>-0.102870</td>\n",
       "    </tr>\n",
       "    <tr>\n",
       "      <th>avg_cur_bal</th>\n",
       "      <td>8.915346e-30</td>\n",
       "      <td>2.522677</td>\n",
       "      <td>11.611790</td>\n",
       "      <td>skew moderado/outliers</td>\n",
       "      <td>RobustScaler</td>\n",
       "      <td>NaN</td>\n",
       "      <td>NaN</td>\n",
       "    </tr>\n",
       "    <tr>\n",
       "      <th>bc_open_to_buy</th>\n",
       "      <td>1.141826e-34</td>\n",
       "      <td>3.165806</td>\n",
       "      <td>14.530676</td>\n",
       "      <td>assimetria/kurtosis extrema</td>\n",
       "      <td>QuantileTransformer</td>\n",
       "      <td>NaN</td>\n",
       "      <td>NaN</td>\n",
       "    </tr>\n",
       "    <tr>\n",
       "      <th>mo_sin_old_rev_tl_op</th>\n",
       "      <td>4.425005e-16</td>\n",
       "      <td>1.067449</td>\n",
       "      <td>1.854049</td>\n",
       "      <td>box-cox (high skew)</td>\n",
       "      <td>PowerTransformer</td>\n",
       "      <td>0.017761</td>\n",
       "      <td>0.239014</td>\n",
       "    </tr>\n",
       "    <tr>\n",
       "      <th>mo_sin_rcnt_rev_tl_op</th>\n",
       "      <td>1.328592e-34</td>\n",
       "      <td>3.227606</td>\n",
       "      <td>14.268815</td>\n",
       "      <td>assimetria/kurtosis extrema</td>\n",
       "      <td>QuantileTransformer</td>\n",
       "      <td>NaN</td>\n",
       "      <td>NaN</td>\n",
       "    </tr>\n",
       "    <tr>\n",
       "      <th>mo_sin_rcnt_tl</th>\n",
       "      <td>3.035827e-32</td>\n",
       "      <td>2.689500</td>\n",
       "      <td>9.468881</td>\n",
       "      <td>yeo-johnson (high skew)</td>\n",
       "      <td>PowerTransformer</td>\n",
       "      <td>0.002792</td>\n",
       "      <td>-0.197807</td>\n",
       "    </tr>\n",
       "    <tr>\n",
       "      <th>mort_acc</th>\n",
       "      <td>5.321661e-25</td>\n",
       "      <td>1.031049</td>\n",
       "      <td>0.373948</td>\n",
       "      <td>yeo-johnson (high skew)</td>\n",
       "      <td>PowerTransformer</td>\n",
       "      <td>0.040425</td>\n",
       "      <td>-1.353412</td>\n",
       "    </tr>\n",
       "    <tr>\n",
       "      <th>mths_since_recent_bc</th>\n",
       "      <td>4.517450e-34</td>\n",
       "      <td>2.909190</td>\n",
       "      <td>11.083723</td>\n",
       "      <td>skew moderado/outliers</td>\n",
       "      <td>RobustScaler</td>\n",
       "      <td>NaN</td>\n",
       "      <td>NaN</td>\n",
       "    </tr>\n",
       "    <tr>\n",
       "      <th>mths_since_recent_inq</th>\n",
       "      <td>3.898576e-22</td>\n",
       "      <td>1.148795</td>\n",
       "      <td>0.858217</td>\n",
       "      <td>yeo-johnson (high skew)</td>\n",
       "      <td>PowerTransformer</td>\n",
       "      <td>-0.049420</td>\n",
       "      <td>-0.633332</td>\n",
       "    </tr>\n",
       "    <tr>\n",
       "      <th>num_tl_op_past_12m</th>\n",
       "      <td>8.913619e-23</td>\n",
       "      <td>1.325584</td>\n",
       "      <td>2.418544</td>\n",
       "      <td>yeo-johnson (high skew)</td>\n",
       "      <td>PowerTransformer</td>\n",
       "      <td>-0.011580</td>\n",
       "      <td>-0.431667</td>\n",
       "    </tr>\n",
       "    <tr>\n",
       "      <th>percent_bc_gt_75</th>\n",
       "      <td>1.384414e-22</td>\n",
       "      <td>0.332398</td>\n",
       "      <td>-1.218013</td>\n",
       "      <td>default</td>\n",
       "      <td>MinMaxScaler</td>\n",
       "      <td>NaN</td>\n",
       "      <td>NaN</td>\n",
       "    </tr>\n",
       "    <tr>\n",
       "      <th>total_bc_limit</th>\n",
       "      <td>1.937671e-27</td>\n",
       "      <td>2.062492</td>\n",
       "      <td>6.074500</td>\n",
       "      <td>yeo-johnson (high skew)</td>\n",
       "      <td>PowerTransformer</td>\n",
       "      <td>0.030615</td>\n",
       "      <td>0.313639</td>\n",
       "    </tr>\n",
       "  </tbody>\n",
       "</table>\n",
       "</div>"
      ],
      "text/plain": [
       "                            p_value      skew   kurtosis  \\\n",
       "funded_amnt_inv        1.664211e-12  0.508500  -0.395900   \n",
       "annual_inc             1.079659e-23  2.106841  10.974685   \n",
       "dti                    3.934199e-05  0.271101  -0.415908   \n",
       "fico_range_high        2.394015e-20  1.134391   1.118171   \n",
       "out_prncp_inv          5.757863e-43  2.988878   8.468441   \n",
       "total_rec_prncp        2.924658e-16  0.779351   0.007893   \n",
       "last_pymnt_amnt        2.650596e-32  1.798974   2.986320   \n",
       "last_fico_range_low    5.991563e-35 -3.457413  15.468496   \n",
       "acc_open_past_24mths   4.447859e-18  1.141839   2.281581   \n",
       "avg_cur_bal            8.915346e-30  2.522677  11.611790   \n",
       "bc_open_to_buy         1.141826e-34  3.165806  14.530676   \n",
       "mo_sin_old_rev_tl_op   4.425005e-16  1.067449   1.854049   \n",
       "mo_sin_rcnt_rev_tl_op  1.328592e-34  3.227606  14.268815   \n",
       "mo_sin_rcnt_tl         3.035827e-32  2.689500   9.468881   \n",
       "mort_acc               5.321661e-25  1.031049   0.373948   \n",
       "mths_since_recent_bc   4.517450e-34  2.909190  11.083723   \n",
       "mths_since_recent_inq  3.898576e-22  1.148795   0.858217   \n",
       "num_tl_op_past_12m     8.913619e-23  1.325584   2.418544   \n",
       "percent_bc_gt_75       1.384414e-22  0.332398  -1.218013   \n",
       "total_bc_limit         1.937671e-27  2.062492   6.074500   \n",
       "\n",
       "                                            reason               scaler  \\\n",
       "funded_amnt_inv             skew moderado/outliers         RobustScaler   \n",
       "annual_inc                  skew moderado/outliers         RobustScaler   \n",
       "dti                                        default         MinMaxScaler   \n",
       "fico_range_high                box-cox (high skew)     PowerTransformer   \n",
       "out_prncp_inv              yeo-johnson (high skew)     PowerTransformer   \n",
       "total_rec_prncp             skew moderado/outliers         RobustScaler   \n",
       "last_pymnt_amnt                box-cox (high skew)     PowerTransformer   \n",
       "last_fico_range_low    assimetria/kurtosis extrema  QuantileTransformer   \n",
       "acc_open_past_24mths       yeo-johnson (high skew)     PowerTransformer   \n",
       "avg_cur_bal                 skew moderado/outliers         RobustScaler   \n",
       "bc_open_to_buy         assimetria/kurtosis extrema  QuantileTransformer   \n",
       "mo_sin_old_rev_tl_op           box-cox (high skew)     PowerTransformer   \n",
       "mo_sin_rcnt_rev_tl_op  assimetria/kurtosis extrema  QuantileTransformer   \n",
       "mo_sin_rcnt_tl             yeo-johnson (high skew)     PowerTransformer   \n",
       "mort_acc                   yeo-johnson (high skew)     PowerTransformer   \n",
       "mths_since_recent_bc        skew moderado/outliers         RobustScaler   \n",
       "mths_since_recent_inq      yeo-johnson (high skew)     PowerTransformer   \n",
       "num_tl_op_past_12m         yeo-johnson (high skew)     PowerTransformer   \n",
       "percent_bc_gt_75                           default         MinMaxScaler   \n",
       "total_bc_limit             yeo-johnson (high skew)     PowerTransformer   \n",
       "\n",
       "                       post_skew  post_kurtosis  \n",
       "funded_amnt_inv              NaN            NaN  \n",
       "annual_inc                   NaN            NaN  \n",
       "dti                          NaN            NaN  \n",
       "fico_range_high              NaN            NaN  \n",
       "out_prncp_inv           2.220930       2.935013  \n",
       "total_rec_prncp              NaN            NaN  \n",
       "last_pymnt_amnt        -0.027852      -0.542435  \n",
       "last_fico_range_low          NaN            NaN  \n",
       "acc_open_past_24mths   -0.010969      -0.102870  \n",
       "avg_cur_bal                  NaN            NaN  \n",
       "bc_open_to_buy               NaN            NaN  \n",
       "mo_sin_old_rev_tl_op    0.017761       0.239014  \n",
       "mo_sin_rcnt_rev_tl_op        NaN            NaN  \n",
       "mo_sin_rcnt_tl          0.002792      -0.197807  \n",
       "mort_acc                0.040425      -1.353412  \n",
       "mths_since_recent_bc         NaN            NaN  \n",
       "mths_since_recent_inq  -0.049420      -0.633332  \n",
       "num_tl_op_past_12m     -0.011580      -0.431667  \n",
       "percent_bc_gt_75             NaN            NaN  \n",
       "total_bc_limit          0.030615       0.313639  "
      ]
     },
     "metadata": {},
     "output_type": "display_data"
    }
   ],
   "source": [
    "# Aplicar o DynamicScaler no treino\n",
    "from riskpilot.utils.scaler import DynamicScaler\n",
    "scaler = DynamicScaler(\n",
    "    strategy=\"auto\",\n",
    "    shapiro_p_val = 0.01, # se aumentar fica mais restritiva a escolha de StandardScaler()\n",
    "    #serialize=True,\n",
    "    #save_path=\"scalers.pkl\", # arquivo com informações de escalonamento salvas \n",
    "    random_state=42,\n",
    "    ignore_cols=ID_COLS+IGNORE_COLS+DATE_COLS+[TARGET]\n",
    ")\n",
    "\n",
    "scaler.fit(df_train)\n",
    "\n",
    "# Relatório das decisões\n",
    "print(\"\\nResumo das decisões por feature:\")\n",
    "display(scaler.report_as_df())"
   ]
  },
  {
   "cell_type": "code",
   "execution_count": 60,
   "id": "42b96416",
   "metadata": {},
   "outputs": [
    {
     "data": {
      "text/html": [
       "<div>\n",
       "<style scoped>\n",
       "    .dataframe tbody tr th:only-of-type {\n",
       "        vertical-align: middle;\n",
       "    }\n",
       "\n",
       "    .dataframe tbody tr th {\n",
       "        vertical-align: top;\n",
       "    }\n",
       "\n",
       "    .dataframe thead th {\n",
       "        text-align: right;\n",
       "    }\n",
       "</style>\n",
       "<table border=\"1\" class=\"dataframe\">\n",
       "  <thead>\n",
       "    <tr style=\"text-align: right;\">\n",
       "      <th></th>\n",
       "      <th>funded_amnt_inv</th>\n",
       "      <th>annual_inc</th>\n",
       "      <th>dti</th>\n",
       "      <th>fico_range_high</th>\n",
       "      <th>out_prncp_inv</th>\n",
       "      <th>total_rec_prncp</th>\n",
       "      <th>last_pymnt_amnt</th>\n",
       "      <th>last_fico_range_low</th>\n",
       "      <th>acc_open_past_24mths</th>\n",
       "      <th>avg_cur_bal</th>\n",
       "      <th>bc_open_to_buy</th>\n",
       "      <th>mo_sin_old_rev_tl_op</th>\n",
       "      <th>mo_sin_rcnt_rev_tl_op</th>\n",
       "      <th>mo_sin_rcnt_tl</th>\n",
       "      <th>mort_acc</th>\n",
       "      <th>mths_since_recent_bc</th>\n",
       "      <th>mths_since_recent_inq</th>\n",
       "      <th>num_tl_op_past_12m</th>\n",
       "      <th>percent_bc_gt_75</th>\n",
       "      <th>total_bc_limit</th>\n",
       "    </tr>\n",
       "  </thead>\n",
       "  <tbody>\n",
       "    <tr>\n",
       "      <th>967</th>\n",
       "      <td>12000.0</td>\n",
       "      <td>50000.0</td>\n",
       "      <td>7.54</td>\n",
       "      <td>774.0</td>\n",
       "      <td>0.0</td>\n",
       "      <td>12000.00</td>\n",
       "      <td>361.28</td>\n",
       "      <td>805.0</td>\n",
       "      <td>2.0</td>\n",
       "      <td>1288.0</td>\n",
       "      <td>50612.0</td>\n",
       "      <td>266.0</td>\n",
       "      <td>24.0</td>\n",
       "      <td>24.0</td>\n",
       "      <td>0.0</td>\n",
       "      <td>24.0</td>\n",
       "      <td>5.0</td>\n",
       "      <td>0.0</td>\n",
       "      <td>0.0</td>\n",
       "      <td>61700.0</td>\n",
       "    </tr>\n",
       "    <tr>\n",
       "      <th>993</th>\n",
       "      <td>14000.0</td>\n",
       "      <td>132700.0</td>\n",
       "      <td>25.38</td>\n",
       "      <td>664.0</td>\n",
       "      <td>0.0</td>\n",
       "      <td>14000.00</td>\n",
       "      <td>93.38</td>\n",
       "      <td>705.0</td>\n",
       "      <td>10.0</td>\n",
       "      <td>9813.0</td>\n",
       "      <td>94.0</td>\n",
       "      <td>124.0</td>\n",
       "      <td>5.0</td>\n",
       "      <td>1.0</td>\n",
       "      <td>5.0</td>\n",
       "      <td>19.0</td>\n",
       "      <td>1.0</td>\n",
       "      <td>3.0</td>\n",
       "      <td>100.0</td>\n",
       "      <td>1300.0</td>\n",
       "    </tr>\n",
       "    <tr>\n",
       "      <th>78</th>\n",
       "      <td>20200.0</td>\n",
       "      <td>60000.0</td>\n",
       "      <td>34.84</td>\n",
       "      <td>724.0</td>\n",
       "      <td>0.0</td>\n",
       "      <td>4258.61</td>\n",
       "      <td>518.35</td>\n",
       "      <td>560.0</td>\n",
       "      <td>6.0</td>\n",
       "      <td>4322.0</td>\n",
       "      <td>9516.0</td>\n",
       "      <td>74.0</td>\n",
       "      <td>7.0</td>\n",
       "      <td>7.0</td>\n",
       "      <td>0.0</td>\n",
       "      <td>16.0</td>\n",
       "      <td>9.0</td>\n",
       "      <td>4.0</td>\n",
       "      <td>25.0</td>\n",
       "      <td>17800.0</td>\n",
       "    </tr>\n",
       "    <tr>\n",
       "      <th>305</th>\n",
       "      <td>12700.0</td>\n",
       "      <td>32760.0</td>\n",
       "      <td>34.32</td>\n",
       "      <td>679.0</td>\n",
       "      <td>0.0</td>\n",
       "      <td>12700.00</td>\n",
       "      <td>458.68</td>\n",
       "      <td>640.0</td>\n",
       "      <td>19.0</td>\n",
       "      <td>1300.0</td>\n",
       "      <td>12822.0</td>\n",
       "      <td>129.0</td>\n",
       "      <td>1.0</td>\n",
       "      <td>1.0</td>\n",
       "      <td>0.0</td>\n",
       "      <td>2.0</td>\n",
       "      <td>1.0</td>\n",
       "      <td>11.0</td>\n",
       "      <td>33.3</td>\n",
       "      <td>22000.0</td>\n",
       "    </tr>\n",
       "    <tr>\n",
       "      <th>577</th>\n",
       "      <td>9600.0</td>\n",
       "      <td>110000.0</td>\n",
       "      <td>13.83</td>\n",
       "      <td>669.0</td>\n",
       "      <td>0.0</td>\n",
       "      <td>9600.00</td>\n",
       "      <td>5548.36</td>\n",
       "      <td>720.0</td>\n",
       "      <td>4.0</td>\n",
       "      <td>4003.0</td>\n",
       "      <td>2456.0</td>\n",
       "      <td>335.0</td>\n",
       "      <td>4.0</td>\n",
       "      <td>4.0</td>\n",
       "      <td>1.0</td>\n",
       "      <td>4.0</td>\n",
       "      <td>5.0</td>\n",
       "      <td>2.0</td>\n",
       "      <td>33.3</td>\n",
       "      <td>10000.0</td>\n",
       "    </tr>\n",
       "  </tbody>\n",
       "</table>\n",
       "</div>"
      ],
      "text/plain": [
       "     funded_amnt_inv  annual_inc    dti  fico_range_high  out_prncp_inv  \\\n",
       "967          12000.0     50000.0   7.54            774.0            0.0   \n",
       "993          14000.0    132700.0  25.38            664.0            0.0   \n",
       "78           20200.0     60000.0  34.84            724.0            0.0   \n",
       "305          12700.0     32760.0  34.32            679.0            0.0   \n",
       "577           9600.0    110000.0  13.83            669.0            0.0   \n",
       "\n",
       "     total_rec_prncp  last_pymnt_amnt  last_fico_range_low  \\\n",
       "967         12000.00           361.28                805.0   \n",
       "993         14000.00            93.38                705.0   \n",
       "78           4258.61           518.35                560.0   \n",
       "305         12700.00           458.68                640.0   \n",
       "577          9600.00          5548.36                720.0   \n",
       "\n",
       "     acc_open_past_24mths  avg_cur_bal  bc_open_to_buy  mo_sin_old_rev_tl_op  \\\n",
       "967                   2.0       1288.0         50612.0                 266.0   \n",
       "993                  10.0       9813.0            94.0                 124.0   \n",
       "78                    6.0       4322.0          9516.0                  74.0   \n",
       "305                  19.0       1300.0         12822.0                 129.0   \n",
       "577                   4.0       4003.0          2456.0                 335.0   \n",
       "\n",
       "     mo_sin_rcnt_rev_tl_op  mo_sin_rcnt_tl  mort_acc  mths_since_recent_bc  \\\n",
       "967                   24.0            24.0       0.0                  24.0   \n",
       "993                    5.0             1.0       5.0                  19.0   \n",
       "78                     7.0             7.0       0.0                  16.0   \n",
       "305                    1.0             1.0       0.0                   2.0   \n",
       "577                    4.0             4.0       1.0                   4.0   \n",
       "\n",
       "     mths_since_recent_inq  num_tl_op_past_12m  percent_bc_gt_75  \\\n",
       "967                    5.0                 0.0               0.0   \n",
       "993                    1.0                 3.0             100.0   \n",
       "78                     9.0                 4.0              25.0   \n",
       "305                    1.0                11.0              33.3   \n",
       "577                    5.0                 2.0              33.3   \n",
       "\n",
       "     total_bc_limit  \n",
       "967         61700.0  \n",
       "993          1300.0  \n",
       "78          17800.0  \n",
       "305         22000.0  \n",
       "577         10000.0  "
      ]
     },
     "metadata": {},
     "output_type": "display_data"
    },
    {
     "name": "stderr",
     "output_type": "stream",
     "text": [
      "INFO: Untouched columns preserved: ['id', 'date', 'target']\n"
     ]
    },
    {
     "name": "stdout",
     "output_type": "stream",
     "text": [
      "\n",
      "Exemplo de dados escalados (treino):\n"
     ]
    },
    {
     "data": {
      "text/html": [
       "<div>\n",
       "<style scoped>\n",
       "    .dataframe tbody tr th:only-of-type {\n",
       "        vertical-align: middle;\n",
       "    }\n",
       "\n",
       "    .dataframe tbody tr th {\n",
       "        vertical-align: top;\n",
       "    }\n",
       "\n",
       "    .dataframe thead th {\n",
       "        text-align: right;\n",
       "    }\n",
       "</style>\n",
       "<table border=\"1\" class=\"dataframe\">\n",
       "  <thead>\n",
       "    <tr style=\"text-align: right;\">\n",
       "      <th></th>\n",
       "      <th>funded_amnt_inv</th>\n",
       "      <th>annual_inc</th>\n",
       "      <th>dti</th>\n",
       "      <th>fico_range_high</th>\n",
       "      <th>out_prncp_inv</th>\n",
       "      <th>total_rec_prncp</th>\n",
       "      <th>last_pymnt_amnt</th>\n",
       "      <th>last_fico_range_low</th>\n",
       "      <th>acc_open_past_24mths</th>\n",
       "      <th>avg_cur_bal</th>\n",
       "      <th>bc_open_to_buy</th>\n",
       "      <th>mo_sin_old_rev_tl_op</th>\n",
       "      <th>mo_sin_rcnt_rev_tl_op</th>\n",
       "      <th>mo_sin_rcnt_tl</th>\n",
       "      <th>mort_acc</th>\n",
       "      <th>mths_since_recent_bc</th>\n",
       "      <th>mths_since_recent_inq</th>\n",
       "      <th>num_tl_op_past_12m</th>\n",
       "      <th>percent_bc_gt_75</th>\n",
       "      <th>total_bc_limit</th>\n",
       "    </tr>\n",
       "  </thead>\n",
       "  <tbody>\n",
       "    <tr>\n",
       "      <th>967</th>\n",
       "      <td>-0.272109</td>\n",
       "      <td>-0.4400</td>\n",
       "      <td>0.149957</td>\n",
       "      <td>1.387779e-17</td>\n",
       "      <td>-0.384032</td>\n",
       "      <td>0.079348</td>\n",
       "      <td>-0.739481</td>\n",
       "      <td>2.053158</td>\n",
       "      <td>-0.924677</td>\n",
       "      <td>-0.522282</td>\n",
       "      <td>1.784195</td>\n",
       "      <td>0.847090</td>\n",
       "      <td>1.125512</td>\n",
       "      <td>1.810554</td>\n",
       "      <td>-1.217353</td>\n",
       "      <td>0.571429</td>\n",
       "      <td>0.038210</td>\n",
       "      <td>-1.709949</td>\n",
       "      <td>0.000</td>\n",
       "      <td>1.464760</td>\n",
       "    </tr>\n",
       "    <tr>\n",
       "      <th>993</th>\n",
       "      <td>-0.090703</td>\n",
       "      <td>1.2140</td>\n",
       "      <td>0.537109</td>\n",
       "      <td>1.387779e-17</td>\n",
       "      <td>-0.384032</td>\n",
       "      <td>0.244882</td>\n",
       "      <td>-1.309063</td>\n",
       "      <td>0.109593</td>\n",
       "      <td>1.392940</td>\n",
       "      <td>-0.038320</td>\n",
       "      <td>-1.733675</td>\n",
       "      <td>-0.677463</td>\n",
       "      <td>-0.277865</td>\n",
       "      <td>-1.317889</td>\n",
       "      <td>1.347085</td>\n",
       "      <td>0.333333</td>\n",
       "      <td>-1.146720</td>\n",
       "      <td>0.550157</td>\n",
       "      <td>1.000</td>\n",
       "      <td>-1.852264</td>\n",
       "    </tr>\n",
       "    <tr>\n",
       "      <th>78</th>\n",
       "      <td>0.471655</td>\n",
       "      <td>-0.2400</td>\n",
       "      <td>0.742405</td>\n",
       "      <td>1.387779e-17</td>\n",
       "      <td>-0.384032</td>\n",
       "      <td>-0.561382</td>\n",
       "      <td>-0.571379</td>\n",
       "      <td>-1.256679</td>\n",
       "      <td>0.473660</td>\n",
       "      <td>-0.350043</td>\n",
       "      <td>0.281594</td>\n",
       "      <td>-1.502001</td>\n",
       "      <td>0.008965</td>\n",
       "      <td>0.451281</td>\n",
       "      <td>-1.217353</td>\n",
       "      <td>0.190476</td>\n",
       "      <td>0.710408</td>\n",
       "      <td>0.953208</td>\n",
       "      <td>0.250</td>\n",
       "      <td>-0.064110</td>\n",
       "    </tr>\n",
       "    <tr>\n",
       "      <th>305</th>\n",
       "      <td>-0.208617</td>\n",
       "      <td>-0.7848</td>\n",
       "      <td>0.731120</td>\n",
       "      <td>1.387779e-17</td>\n",
       "      <td>-0.384032</td>\n",
       "      <td>0.137285</td>\n",
       "      <td>-0.629138</td>\n",
       "      <td>-0.693749</td>\n",
       "      <td>2.836107</td>\n",
       "      <td>-0.521601</td>\n",
       "      <td>0.531408</td>\n",
       "      <td>-0.608021</td>\n",
       "      <td>-1.371423</td>\n",
       "      <td>-1.317889</td>\n",
       "      <td>-1.217353</td>\n",
       "      <td>-0.476190</td>\n",
       "      <td>-1.146720</td>\n",
       "      <td>2.651423</td>\n",
       "      <td>0.333</td>\n",
       "      <td>0.155909</td>\n",
       "    </tr>\n",
       "    <tr>\n",
       "      <th>577</th>\n",
       "      <td>-0.489796</td>\n",
       "      <td>0.7600</td>\n",
       "      <td>0.286458</td>\n",
       "      <td>1.387779e-17</td>\n",
       "      <td>-0.384032</td>\n",
       "      <td>-0.119292</td>\n",
       "      <td>0.731299</td>\n",
       "      <td>0.416996</td>\n",
       "      <td>-0.128114</td>\n",
       "      <td>-0.368152</td>\n",
       "      <td>-0.535543</td>\n",
       "      <td>1.393063</td>\n",
       "      <td>-0.476438</td>\n",
       "      <td>-0.133928</td>\n",
       "      <td>-0.154114</td>\n",
       "      <td>-0.380952</td>\n",
       "      <td>0.038210</td>\n",
       "      <td>0.047358</td>\n",
       "      <td>0.333</td>\n",
       "      <td>-0.593499</td>\n",
       "    </tr>\n",
       "  </tbody>\n",
       "</table>\n",
       "</div>"
      ],
      "text/plain": [
       "     funded_amnt_inv  annual_inc       dti  fico_range_high  out_prncp_inv  \\\n",
       "967        -0.272109     -0.4400  0.149957     1.387779e-17      -0.384032   \n",
       "993        -0.090703      1.2140  0.537109     1.387779e-17      -0.384032   \n",
       "78          0.471655     -0.2400  0.742405     1.387779e-17      -0.384032   \n",
       "305        -0.208617     -0.7848  0.731120     1.387779e-17      -0.384032   \n",
       "577        -0.489796      0.7600  0.286458     1.387779e-17      -0.384032   \n",
       "\n",
       "     total_rec_prncp  last_pymnt_amnt  last_fico_range_low  \\\n",
       "967         0.079348        -0.739481             2.053158   \n",
       "993         0.244882        -1.309063             0.109593   \n",
       "78         -0.561382        -0.571379            -1.256679   \n",
       "305         0.137285        -0.629138            -0.693749   \n",
       "577        -0.119292         0.731299             0.416996   \n",
       "\n",
       "     acc_open_past_24mths  avg_cur_bal  bc_open_to_buy  mo_sin_old_rev_tl_op  \\\n",
       "967             -0.924677    -0.522282        1.784195              0.847090   \n",
       "993              1.392940    -0.038320       -1.733675             -0.677463   \n",
       "78               0.473660    -0.350043        0.281594             -1.502001   \n",
       "305              2.836107    -0.521601        0.531408             -0.608021   \n",
       "577             -0.128114    -0.368152       -0.535543              1.393063   \n",
       "\n",
       "     mo_sin_rcnt_rev_tl_op  mo_sin_rcnt_tl  mort_acc  mths_since_recent_bc  \\\n",
       "967               1.125512        1.810554 -1.217353              0.571429   \n",
       "993              -0.277865       -1.317889  1.347085              0.333333   \n",
       "78                0.008965        0.451281 -1.217353              0.190476   \n",
       "305              -1.371423       -1.317889 -1.217353             -0.476190   \n",
       "577              -0.476438       -0.133928 -0.154114             -0.380952   \n",
       "\n",
       "     mths_since_recent_inq  num_tl_op_past_12m  percent_bc_gt_75  \\\n",
       "967               0.038210           -1.709949             0.000   \n",
       "993              -1.146720            0.550157             1.000   \n",
       "78                0.710408            0.953208             0.250   \n",
       "305              -1.146720            2.651423             0.333   \n",
       "577               0.038210            0.047358             0.333   \n",
       "\n",
       "     total_bc_limit  \n",
       "967        1.464760  \n",
       "993       -1.852264  \n",
       "78        -0.064110  \n",
       "305        0.155909  \n",
       "577       -0.593499  "
      ]
     },
     "metadata": {},
     "output_type": "display_data"
    }
   ],
   "source": [
    "display(X_train.head())\n",
    "\n",
    "# 5. Transformar o conjunto de treino\n",
    "df_train_scaled = scaler.transform(df_train, return_df=True)\n",
    "X_train_scaled = scaler.transform(X_train, return_df=True)\n",
    "\n",
    "print(\"\\nExemplo de dados escalados (treino):\")\n",
    "display(X_train_scaled.head())"
   ]
  },
  {
   "cell_type": "code",
   "execution_count": 61,
   "id": "4bacd8fa",
   "metadata": {},
   "outputs": [
    {
     "data": {
      "text/html": [
       "<div>\n",
       "<style scoped>\n",
       "    .dataframe tbody tr th:only-of-type {\n",
       "        vertical-align: middle;\n",
       "    }\n",
       "\n",
       "    .dataframe tbody tr th {\n",
       "        vertical-align: top;\n",
       "    }\n",
       "\n",
       "    .dataframe thead th {\n",
       "        text-align: right;\n",
       "    }\n",
       "</style>\n",
       "<table border=\"1\" class=\"dataframe\">\n",
       "  <thead>\n",
       "    <tr style=\"text-align: right;\">\n",
       "      <th></th>\n",
       "      <th>funded_amnt_inv</th>\n",
       "      <th>annual_inc</th>\n",
       "      <th>dti</th>\n",
       "      <th>fico_range_high</th>\n",
       "      <th>out_prncp_inv</th>\n",
       "      <th>total_rec_prncp</th>\n",
       "      <th>last_pymnt_amnt</th>\n",
       "      <th>last_fico_range_low</th>\n",
       "      <th>acc_open_past_24mths</th>\n",
       "      <th>avg_cur_bal</th>\n",
       "      <th>bc_open_to_buy</th>\n",
       "      <th>mo_sin_old_rev_tl_op</th>\n",
       "      <th>mo_sin_rcnt_rev_tl_op</th>\n",
       "      <th>mo_sin_rcnt_tl</th>\n",
       "      <th>mort_acc</th>\n",
       "      <th>mths_since_recent_bc</th>\n",
       "      <th>mths_since_recent_inq</th>\n",
       "      <th>num_tl_op_past_12m</th>\n",
       "      <th>percent_bc_gt_75</th>\n",
       "      <th>total_bc_limit</th>\n",
       "    </tr>\n",
       "  </thead>\n",
       "  <tbody>\n",
       "    <tr>\n",
       "      <th>14</th>\n",
       "      <td>28000.0</td>\n",
       "      <td>92000.0</td>\n",
       "      <td>21.60</td>\n",
       "      <td>724.0</td>\n",
       "      <td>0.0</td>\n",
       "      <td>28000.0</td>\n",
       "      <td>17093.51</td>\n",
       "      <td>760.0</td>\n",
       "      <td>1.0</td>\n",
       "      <td>13819.0</td>\n",
       "      <td>16623.0</td>\n",
       "      <td>379.0</td>\n",
       "      <td>19.0</td>\n",
       "      <td>19.0</td>\n",
       "      <td>2.0</td>\n",
       "      <td>19.0</td>\n",
       "      <td>5.0</td>\n",
       "      <td>0.0</td>\n",
       "      <td>22.2</td>\n",
       "      <td>41500.0</td>\n",
       "    </tr>\n",
       "    <tr>\n",
       "      <th>272</th>\n",
       "      <td>7200.0</td>\n",
       "      <td>60000.0</td>\n",
       "      <td>20.68</td>\n",
       "      <td>729.0</td>\n",
       "      <td>0.0</td>\n",
       "      <td>7200.0</td>\n",
       "      <td>3196.17</td>\n",
       "      <td>725.0</td>\n",
       "      <td>4.0</td>\n",
       "      <td>13026.0</td>\n",
       "      <td>2273.0</td>\n",
       "      <td>159.0</td>\n",
       "      <td>16.0</td>\n",
       "      <td>8.0</td>\n",
       "      <td>1.0</td>\n",
       "      <td>55.0</td>\n",
       "      <td>8.0</td>\n",
       "      <td>1.0</td>\n",
       "      <td>0.0</td>\n",
       "      <td>7000.0</td>\n",
       "    </tr>\n",
       "    <tr>\n",
       "      <th>928</th>\n",
       "      <td>28000.0</td>\n",
       "      <td>82000.0</td>\n",
       "      <td>12.67</td>\n",
       "      <td>704.0</td>\n",
       "      <td>0.0</td>\n",
       "      <td>28000.0</td>\n",
       "      <td>857.84</td>\n",
       "      <td>800.0</td>\n",
       "      <td>6.0</td>\n",
       "      <td>25361.0</td>\n",
       "      <td>6508.0</td>\n",
       "      <td>187.0</td>\n",
       "      <td>9.0</td>\n",
       "      <td>9.0</td>\n",
       "      <td>5.0</td>\n",
       "      <td>9.0</td>\n",
       "      <td>8.0</td>\n",
       "      <td>2.0</td>\n",
       "      <td>66.7</td>\n",
       "      <td>39050.0</td>\n",
       "    </tr>\n",
       "    <tr>\n",
       "      <th>723</th>\n",
       "      <td>10000.0</td>\n",
       "      <td>100000.0</td>\n",
       "      <td>16.18</td>\n",
       "      <td>679.0</td>\n",
       "      <td>0.0</td>\n",
       "      <td>10000.0</td>\n",
       "      <td>9437.82</td>\n",
       "      <td>555.0</td>\n",
       "      <td>9.0</td>\n",
       "      <td>3273.0</td>\n",
       "      <td>5982.0</td>\n",
       "      <td>349.0</td>\n",
       "      <td>14.0</td>\n",
       "      <td>2.0</td>\n",
       "      <td>0.0</td>\n",
       "      <td>14.0</td>\n",
       "      <td>14.0</td>\n",
       "      <td>3.0</td>\n",
       "      <td>80.0</td>\n",
       "      <td>15100.0</td>\n",
       "    </tr>\n",
       "    <tr>\n",
       "      <th>244</th>\n",
       "      <td>13875.0</td>\n",
       "      <td>32500.0</td>\n",
       "      <td>23.53</td>\n",
       "      <td>714.0</td>\n",
       "      <td>0.0</td>\n",
       "      <td>13875.0</td>\n",
       "      <td>11101.71</td>\n",
       "      <td>705.0</td>\n",
       "      <td>3.0</td>\n",
       "      <td>17421.0</td>\n",
       "      <td>2076.0</td>\n",
       "      <td>177.0</td>\n",
       "      <td>1.0</td>\n",
       "      <td>1.0</td>\n",
       "      <td>1.0</td>\n",
       "      <td>15.0</td>\n",
       "      <td>15.0</td>\n",
       "      <td>1.0</td>\n",
       "      <td>75.0</td>\n",
       "      <td>12500.0</td>\n",
       "    </tr>\n",
       "  </tbody>\n",
       "</table>\n",
       "</div>"
      ],
      "text/plain": [
       "     funded_amnt_inv  annual_inc    dti  fico_range_high  out_prncp_inv  \\\n",
       "14           28000.0     92000.0  21.60            724.0            0.0   \n",
       "272           7200.0     60000.0  20.68            729.0            0.0   \n",
       "928          28000.0     82000.0  12.67            704.0            0.0   \n",
       "723          10000.0    100000.0  16.18            679.0            0.0   \n",
       "244          13875.0     32500.0  23.53            714.0            0.0   \n",
       "\n",
       "     total_rec_prncp  last_pymnt_amnt  last_fico_range_low  \\\n",
       "14           28000.0         17093.51                760.0   \n",
       "272           7200.0          3196.17                725.0   \n",
       "928          28000.0           857.84                800.0   \n",
       "723          10000.0          9437.82                555.0   \n",
       "244          13875.0         11101.71                705.0   \n",
       "\n",
       "     acc_open_past_24mths  avg_cur_bal  bc_open_to_buy  mo_sin_old_rev_tl_op  \\\n",
       "14                    1.0      13819.0         16623.0                 379.0   \n",
       "272                   4.0      13026.0          2273.0                 159.0   \n",
       "928                   6.0      25361.0          6508.0                 187.0   \n",
       "723                   9.0       3273.0          5982.0                 349.0   \n",
       "244                   3.0      17421.0          2076.0                 177.0   \n",
       "\n",
       "     mo_sin_rcnt_rev_tl_op  mo_sin_rcnt_tl  mort_acc  mths_since_recent_bc  \\\n",
       "14                    19.0            19.0       2.0                  19.0   \n",
       "272                   16.0             8.0       1.0                  55.0   \n",
       "928                    9.0             9.0       5.0                   9.0   \n",
       "723                   14.0             2.0       0.0                  14.0   \n",
       "244                    1.0             1.0       1.0                  15.0   \n",
       "\n",
       "     mths_since_recent_inq  num_tl_op_past_12m  percent_bc_gt_75  \\\n",
       "14                     5.0                 0.0              22.2   \n",
       "272                    8.0                 1.0               0.0   \n",
       "928                    8.0                 2.0              66.7   \n",
       "723                   14.0                 3.0              80.0   \n",
       "244                   15.0                 1.0              75.0   \n",
       "\n",
       "     total_bc_limit  \n",
       "14          41500.0  \n",
       "272          7000.0  \n",
       "928         39050.0  \n",
       "723         15100.0  \n",
       "244         12500.0  "
      ]
     },
     "metadata": {},
     "output_type": "display_data"
    },
    {
     "name": "stderr",
     "output_type": "stream",
     "text": [
      "INFO: Untouched columns preserved: ['id', 'date', 'target']\n"
     ]
    },
    {
     "name": "stdout",
     "output_type": "stream",
     "text": [
      "\n",
      "Exemplo de dados escalados (treino):\n"
     ]
    },
    {
     "data": {
      "text/html": [
       "<div>\n",
       "<style scoped>\n",
       "    .dataframe tbody tr th:only-of-type {\n",
       "        vertical-align: middle;\n",
       "    }\n",
       "\n",
       "    .dataframe tbody tr th {\n",
       "        vertical-align: top;\n",
       "    }\n",
       "\n",
       "    .dataframe thead th {\n",
       "        text-align: right;\n",
       "    }\n",
       "</style>\n",
       "<table border=\"1\" class=\"dataframe\">\n",
       "  <thead>\n",
       "    <tr style=\"text-align: right;\">\n",
       "      <th></th>\n",
       "      <th>funded_amnt_inv</th>\n",
       "      <th>annual_inc</th>\n",
       "      <th>dti</th>\n",
       "      <th>fico_range_high</th>\n",
       "      <th>out_prncp_inv</th>\n",
       "      <th>total_rec_prncp</th>\n",
       "      <th>last_pymnt_amnt</th>\n",
       "      <th>last_fico_range_low</th>\n",
       "      <th>acc_open_past_24mths</th>\n",
       "      <th>avg_cur_bal</th>\n",
       "      <th>bc_open_to_buy</th>\n",
       "      <th>mo_sin_old_rev_tl_op</th>\n",
       "      <th>mo_sin_rcnt_rev_tl_op</th>\n",
       "      <th>mo_sin_rcnt_tl</th>\n",
       "      <th>mort_acc</th>\n",
       "      <th>mths_since_recent_bc</th>\n",
       "      <th>mths_since_recent_inq</th>\n",
       "      <th>num_tl_op_past_12m</th>\n",
       "      <th>percent_bc_gt_75</th>\n",
       "      <th>total_bc_limit</th>\n",
       "    </tr>\n",
       "  </thead>\n",
       "  <tbody>\n",
       "    <tr>\n",
       "      <th>14</th>\n",
       "      <td>1.179138</td>\n",
       "      <td>0.40</td>\n",
       "      <td>0.455078</td>\n",
       "      <td>1.387779e-17</td>\n",
       "      <td>-0.384032</td>\n",
       "      <td>1.403617</td>\n",
       "      <td>1.490442</td>\n",
       "      <td>1.035513</td>\n",
       "      <td>-1.469213</td>\n",
       "      <td>0.189100</td>\n",
       "      <td>0.720768</td>\n",
       "      <td>1.703650</td>\n",
       "      <td>0.925333</td>\n",
       "      <td>1.550825</td>\n",
       "      <td>0.424968</td>\n",
       "      <td>0.333333</td>\n",
       "      <td>0.038210</td>\n",
       "      <td>-1.709949</td>\n",
       "      <td>0.222</td>\n",
       "      <td>0.910440</td>\n",
       "    </tr>\n",
       "    <tr>\n",
       "      <th>272</th>\n",
       "      <td>-0.707483</td>\n",
       "      <td>-0.24</td>\n",
       "      <td>0.435113</td>\n",
       "      <td>1.387779e-17</td>\n",
       "      <td>-0.384032</td>\n",
       "      <td>-0.317933</td>\n",
       "      <td>0.394668</td>\n",
       "      <td>0.508828</td>\n",
       "      <td>-0.128114</td>\n",
       "      <td>0.144082</td>\n",
       "      <td>-0.568958</td>\n",
       "      <td>-0.224443</td>\n",
       "      <td>0.700608</td>\n",
       "      <td>0.595649</td>\n",
       "      <td>-0.154114</td>\n",
       "      <td>2.047619</td>\n",
       "      <td>0.564644</td>\n",
       "      <td>-0.630364</td>\n",
       "      <td>0.000</td>\n",
       "      <td>-0.875845</td>\n",
       "    </tr>\n",
       "    <tr>\n",
       "      <th>928</th>\n",
       "      <td>1.179138</td>\n",
       "      <td>0.20</td>\n",
       "      <td>0.261285</td>\n",
       "      <td>1.387779e-17</td>\n",
       "      <td>-0.384032</td>\n",
       "      <td>1.403617</td>\n",
       "      <td>-0.324404</td>\n",
       "      <td>1.912641</td>\n",
       "      <td>0.473660</td>\n",
       "      <td>0.844337</td>\n",
       "      <td>0.093467</td>\n",
       "      <td>0.092898</td>\n",
       "      <td>0.218685</td>\n",
       "      <td>0.724024</td>\n",
       "      <td>1.347085</td>\n",
       "      <td>-0.142857</td>\n",
       "      <td>0.564644</td>\n",
       "      <td>0.047358</td>\n",
       "      <td>0.667</td>\n",
       "      <td>0.831365</td>\n",
       "    </tr>\n",
       "    <tr>\n",
       "      <th>723</th>\n",
       "      <td>-0.453515</td>\n",
       "      <td>0.56</td>\n",
       "      <td>0.337457</td>\n",
       "      <td>1.387779e-17</td>\n",
       "      <td>-0.384032</td>\n",
       "      <td>-0.086186</td>\n",
       "      <td>1.077071</td>\n",
       "      <td>-1.314015</td>\n",
       "      <td>1.187695</td>\n",
       "      <td>-0.409594</td>\n",
       "      <td>0.034369</td>\n",
       "      <td>1.494633</td>\n",
       "      <td>0.596581</td>\n",
       "      <td>-0.786831</td>\n",
       "      <td>-1.217353</td>\n",
       "      <td>0.095238</td>\n",
       "      <td>1.308619</td>\n",
       "      <td>0.550157</td>\n",
       "      <td>0.800</td>\n",
       "      <td>-0.225093</td>\n",
       "    </tr>\n",
       "    <tr>\n",
       "      <th>244</th>\n",
       "      <td>-0.102041</td>\n",
       "      <td>-0.79</td>\n",
       "      <td>0.496962</td>\n",
       "      <td>1.387779e-17</td>\n",
       "      <td>-0.384032</td>\n",
       "      <td>0.234536</td>\n",
       "      <td>1.187191</td>\n",
       "      <td>0.109593</td>\n",
       "      <td>-0.492397</td>\n",
       "      <td>0.393585</td>\n",
       "      <td>-0.610349</td>\n",
       "      <td>-0.016632</td>\n",
       "      <td>-1.371423</td>\n",
       "      <td>-1.317889</td>\n",
       "      <td>-0.154114</td>\n",
       "      <td>0.142857</td>\n",
       "      <td>1.409561</td>\n",
       "      <td>-0.630364</td>\n",
       "      <td>0.750</td>\n",
       "      <td>-0.399981</td>\n",
       "    </tr>\n",
       "  </tbody>\n",
       "</table>\n",
       "</div>"
      ],
      "text/plain": [
       "     funded_amnt_inv  annual_inc       dti  fico_range_high  out_prncp_inv  \\\n",
       "14          1.179138        0.40  0.455078     1.387779e-17      -0.384032   \n",
       "272        -0.707483       -0.24  0.435113     1.387779e-17      -0.384032   \n",
       "928         1.179138        0.20  0.261285     1.387779e-17      -0.384032   \n",
       "723        -0.453515        0.56  0.337457     1.387779e-17      -0.384032   \n",
       "244        -0.102041       -0.79  0.496962     1.387779e-17      -0.384032   \n",
       "\n",
       "     total_rec_prncp  last_pymnt_amnt  last_fico_range_low  \\\n",
       "14          1.403617         1.490442             1.035513   \n",
       "272        -0.317933         0.394668             0.508828   \n",
       "928         1.403617        -0.324404             1.912641   \n",
       "723        -0.086186         1.077071            -1.314015   \n",
       "244         0.234536         1.187191             0.109593   \n",
       "\n",
       "     acc_open_past_24mths  avg_cur_bal  bc_open_to_buy  mo_sin_old_rev_tl_op  \\\n",
       "14              -1.469213     0.189100        0.720768              1.703650   \n",
       "272             -0.128114     0.144082       -0.568958             -0.224443   \n",
       "928              0.473660     0.844337        0.093467              0.092898   \n",
       "723              1.187695    -0.409594        0.034369              1.494633   \n",
       "244             -0.492397     0.393585       -0.610349             -0.016632   \n",
       "\n",
       "     mo_sin_rcnt_rev_tl_op  mo_sin_rcnt_tl  mort_acc  mths_since_recent_bc  \\\n",
       "14                0.925333        1.550825  0.424968              0.333333   \n",
       "272               0.700608        0.595649 -0.154114              2.047619   \n",
       "928               0.218685        0.724024  1.347085             -0.142857   \n",
       "723               0.596581       -0.786831 -1.217353              0.095238   \n",
       "244              -1.371423       -1.317889 -0.154114              0.142857   \n",
       "\n",
       "     mths_since_recent_inq  num_tl_op_past_12m  percent_bc_gt_75  \\\n",
       "14                0.038210           -1.709949             0.222   \n",
       "272               0.564644           -0.630364             0.000   \n",
       "928               0.564644            0.047358             0.667   \n",
       "723               1.308619            0.550157             0.800   \n",
       "244               1.409561           -0.630364             0.750   \n",
       "\n",
       "     total_bc_limit  \n",
       "14         0.910440  \n",
       "272       -0.875845  \n",
       "928        0.831365  \n",
       "723       -0.225093  \n",
       "244       -0.399981  "
      ]
     },
     "metadata": {},
     "output_type": "display_data"
    }
   ],
   "source": [
    "display(X_test.head())\n",
    "\n",
    "# 5. Transformar o conjunto de treino\n",
    "df_test_scaled = scaler.transform(df_test, return_df=True)\n",
    "X_test_scaled = scaler.transform(X_test, return_df=True)\n",
    "\n",
    "print(\"\\nExemplo de dados escalados (treino):\")\n",
    "display(X_test_scaled.head())"
   ]
  },
  {
   "cell_type": "code",
   "execution_count": 39,
   "id": "2472fa54",
   "metadata": {},
   "outputs": [],
   "source": [
    "# # Visualizar\n",
    "# scaler.plot_histograms(\n",
    "#     df_train,\n",
    "#     X_train_scaled,\n",
    "#     features=num_cols)"
   ]
  },
  {
   "cell_type": "code",
   "execution_count": 9,
   "id": "5e4b67fa",
   "metadata": {},
   "outputs": [],
   "source": [
    "# encoder = WOEGuard(\n",
    "#     categorical_cols=categorical_cols,\n",
    "#     drop_original=True,       # mantém ou remove colunas originais\n",
    "#     suffix='_woe',            # sufixo para as novas colunas\n",
    "#     alpha=0.5,                # suavização Laplace\n",
    "#     default_woe=0.0,          # WoE default para categorias novas\n",
    "#     include_nan=True          # trata NaN como categoria separada\n",
    "# )"
   ]
  },
  {
   "cell_type": "code",
   "execution_count": 10,
   "id": "115645bf",
   "metadata": {},
   "outputs": [],
   "source": [
    "# # 2. Ajustar e transformar\n",
    "# df_transformed = encoder.fit_transform(\n",
    "#     X=df[categorical_cols], # a lista de colunas não precisa ser igual à categorical_cols, mas somente as que forem instanciadas no WOEGuard que serão codificadas.\n",
    "#     y=df[TARGET]\n",
    "# )\n",
    "# display(df_transformed)"
   ]
  },
  {
   "cell_type": "code",
   "execution_count": 64,
   "id": "0e73d52a",
   "metadata": {},
   "outputs": [],
   "source": [
    "sample_weights_train = compute_sample_weight(class_weight='balanced', y=y_train)\n",
    "\n",
    "# # Modelo 1: Regressão Logística\n",
    "# model1 = LogisticRegression(\n",
    "#     max_iter=2000,\n",
    "#     solver='lbfgs',\n",
    "#     class_weight=None,      # Removido porque vamos usar sample_weight manualmente\n",
    "#     C=1.0\n",
    "# )\n",
    "# model1.fit(X_train, y_train, sample_weight=sample_weights_train)\n",
    "\n",
    "\n",
    "# Modelo 2: XGBoost\n",
    "\n",
    "\n",
    "model2 = XGBClassifier(\n",
    "    n_estimators=150,\n",
    "    #class_weights='balanced',\n",
    "    learning_rate=0.05,\n",
    "    max_depth=5,\n",
    "    subsample=0.85,\n",
    "    colsample_bytree=0.80,\n",
    "    #scale_pos_weight=1.0,\n",
    "    eval_metric='logloss',\n",
    "    random_state=42,\n",
    "    n_jobs=-1,\n",
    "    #enable_categorical=True,\n",
    "    #tree_method='hist'  # necessário com enable_categorical=True\n",
    ")\n",
    "model2.fit(\n",
    "    X_train_scaled,\n",
    "    y_train,\n",
    "    sample_weight=sample_weights_train\n",
    "    );"
   ]
  },
  {
   "cell_type": "code",
   "execution_count": null,
   "id": "ed77aa39",
   "metadata": {},
   "outputs": [],
   "source": [
    "# gambiarra rapida\n",
    "#df_train = pd.concat([X_train_scaled, y_train], axis=1)\n",
    "#df_test = pd.concat([X_test_scaled, y_train], axis=1)"
   ]
  },
  {
   "cell_type": "code",
   "execution_count": 65,
   "metadata": {},
   "outputs": [],
   "source": [
    "evaluator = BinaryPerformanceEvaluator(\n",
    "    model=model2,\n",
    "    df_train=df_train,\n",
    "    df_test=df_test,\n",
    "    target_col='target',\n",
    "    id_cols=['id'],\n",
    "    date_col='date',\n",
    "    homogeneous_group='auto'\n",
    "    #group_col='group'\n",
    ")"
   ]
  },
  {
   "cell_type": "code",
   "execution_count": 66,
   "metadata": {},
   "outputs": [
    {
     "data": {
      "text/html": [
       "<div>\n",
       "<style scoped>\n",
       "    .dataframe tbody tr th:only-of-type {\n",
       "        vertical-align: middle;\n",
       "    }\n",
       "\n",
       "    .dataframe tbody tr th {\n",
       "        vertical-align: top;\n",
       "    }\n",
       "\n",
       "    .dataframe thead th {\n",
       "        text-align: right;\n",
       "    }\n",
       "</style>\n",
       "<table border=\"1\" class=\"dataframe\">\n",
       "  <thead>\n",
       "    <tr style=\"text-align: right;\">\n",
       "      <th></th>\n",
       "      <th>MCC</th>\n",
       "      <th>AUC_ROC</th>\n",
       "      <th>AUC_PR</th>\n",
       "      <th>Precision</th>\n",
       "      <th>Recall</th>\n",
       "      <th>Brier</th>\n",
       "    </tr>\n",
       "    <tr>\n",
       "      <th>Split</th>\n",
       "      <th></th>\n",
       "      <th></th>\n",
       "      <th></th>\n",
       "      <th></th>\n",
       "      <th></th>\n",
       "      <th></th>\n",
       "    </tr>\n",
       "  </thead>\n",
       "  <tbody>\n",
       "    <tr>\n",
       "      <th>Train</th>\n",
       "      <td>0.0</td>\n",
       "      <td>0.596519</td>\n",
       "      <td>0.193577</td>\n",
       "      <td>0.15</td>\n",
       "      <td>1.0</td>\n",
       "      <td>0.841397</td>\n",
       "    </tr>\n",
       "    <tr>\n",
       "      <th>Test</th>\n",
       "      <td>0.0</td>\n",
       "      <td>0.601830</td>\n",
       "      <td>0.206996</td>\n",
       "      <td>0.15</td>\n",
       "      <td>1.0</td>\n",
       "      <td>0.841403</td>\n",
       "    </tr>\n",
       "  </tbody>\n",
       "</table>\n",
       "</div>"
      ],
      "text/plain": [
       "       MCC   AUC_ROC    AUC_PR  Precision  Recall     Brier\n",
       "Split                                                      \n",
       "Train  0.0  0.596519  0.193577       0.15     1.0  0.841397\n",
       "Test   0.0  0.601830  0.206996       0.15     1.0  0.841403"
      ]
     },
     "execution_count": 66,
     "metadata": {},
     "output_type": "execute_result"
    }
   ],
   "source": [
    "metrics = evaluator.compute_metrics()\n",
    "metrics"
   ]
  },
  {
   "cell_type": "code",
   "execution_count": 67,
   "metadata": {},
   "outputs": [
    {
     "data": {
      "application/vnd.plotly.v1+json": {
       "config": {
        "plotlyServerURL": "https://plot.ly"
       },
       "data": [
        {
         "colorscale": [
          [
           0,
           "rgb(247,251,255)"
          ],
          [
           0.125,
           "rgb(222,235,247)"
          ],
          [
           0.25,
           "rgb(198,219,239)"
          ],
          [
           0.375,
           "rgb(158,202,225)"
          ],
          [
           0.5,
           "rgb(107,174,214)"
          ],
          [
           0.625,
           "rgb(66,146,198)"
          ],
          [
           0.75,
           "rgb(33,113,181)"
          ],
          [
           0.875,
           "rgb(8,81,156)"
          ],
          [
           1,
           "rgb(8,48,107)"
          ]
         ],
         "showscale": false,
         "type": "heatmap",
         "x": [
          "Pred 0",
          "Pred 1"
         ],
         "y": [
          "True 0",
          "True 1"
         ],
         "z": {
          "bdata": "TQCyAAQAKQA=",
          "dtype": "i2",
          "shape": "2, 2"
         }
        }
       ],
       "layout": {
        "annotations": [
         {
          "font": {
           "color": "black"
          },
          "showarrow": false,
          "text": "77\n(25.7%)",
          "x": 0,
          "y": 0
         },
         {
          "font": {
           "color": "white"
          },
          "showarrow": false,
          "text": "178\n(59.3%)",
          "x": 1,
          "y": 0
         },
         {
          "font": {
           "color": "black"
          },
          "showarrow": false,
          "text": "4\n(1.3%)",
          "x": 0,
          "y": 1
         },
         {
          "font": {
           "color": "black"
          },
          "showarrow": false,
          "text": "41\n(13.7%)",
          "x": 1,
          "y": 1
         }
        ],
        "template": {
         "data": {
          "bar": [
           {
            "error_x": {
             "color": "#2a3f5f"
            },
            "error_y": {
             "color": "#2a3f5f"
            },
            "marker": {
             "line": {
              "color": "white",
              "width": 0.5
             },
             "pattern": {
              "fillmode": "overlay",
              "size": 10,
              "solidity": 0.2
             }
            },
            "type": "bar"
           }
          ],
          "barpolar": [
           {
            "marker": {
             "line": {
              "color": "white",
              "width": 0.5
             },
             "pattern": {
              "fillmode": "overlay",
              "size": 10,
              "solidity": 0.2
             }
            },
            "type": "barpolar"
           }
          ],
          "carpet": [
           {
            "aaxis": {
             "endlinecolor": "#2a3f5f",
             "gridcolor": "#C8D4E3",
             "linecolor": "#C8D4E3",
             "minorgridcolor": "#C8D4E3",
             "startlinecolor": "#2a3f5f"
            },
            "baxis": {
             "endlinecolor": "#2a3f5f",
             "gridcolor": "#C8D4E3",
             "linecolor": "#C8D4E3",
             "minorgridcolor": "#C8D4E3",
             "startlinecolor": "#2a3f5f"
            },
            "type": "carpet"
           }
          ],
          "choropleth": [
           {
            "colorbar": {
             "outlinewidth": 0,
             "ticks": ""
            },
            "type": "choropleth"
           }
          ],
          "contour": [
           {
            "colorbar": {
             "outlinewidth": 0,
             "ticks": ""
            },
            "colorscale": [
             [
              0,
              "#0d0887"
             ],
             [
              0.1111111111111111,
              "#46039f"
             ],
             [
              0.2222222222222222,
              "#7201a8"
             ],
             [
              0.3333333333333333,
              "#9c179e"
             ],
             [
              0.4444444444444444,
              "#bd3786"
             ],
             [
              0.5555555555555556,
              "#d8576b"
             ],
             [
              0.6666666666666666,
              "#ed7953"
             ],
             [
              0.7777777777777778,
              "#fb9f3a"
             ],
             [
              0.8888888888888888,
              "#fdca26"
             ],
             [
              1,
              "#f0f921"
             ]
            ],
            "type": "contour"
           }
          ],
          "contourcarpet": [
           {
            "colorbar": {
             "outlinewidth": 0,
             "ticks": ""
            },
            "type": "contourcarpet"
           }
          ],
          "heatmap": [
           {
            "colorbar": {
             "outlinewidth": 0,
             "ticks": ""
            },
            "colorscale": [
             [
              0,
              "#0d0887"
             ],
             [
              0.1111111111111111,
              "#46039f"
             ],
             [
              0.2222222222222222,
              "#7201a8"
             ],
             [
              0.3333333333333333,
              "#9c179e"
             ],
             [
              0.4444444444444444,
              "#bd3786"
             ],
             [
              0.5555555555555556,
              "#d8576b"
             ],
             [
              0.6666666666666666,
              "#ed7953"
             ],
             [
              0.7777777777777778,
              "#fb9f3a"
             ],
             [
              0.8888888888888888,
              "#fdca26"
             ],
             [
              1,
              "#f0f921"
             ]
            ],
            "type": "heatmap"
           }
          ],
          "histogram": [
           {
            "marker": {
             "pattern": {
              "fillmode": "overlay",
              "size": 10,
              "solidity": 0.2
             }
            },
            "type": "histogram"
           }
          ],
          "histogram2d": [
           {
            "colorbar": {
             "outlinewidth": 0,
             "ticks": ""
            },
            "colorscale": [
             [
              0,
              "#0d0887"
             ],
             [
              0.1111111111111111,
              "#46039f"
             ],
             [
              0.2222222222222222,
              "#7201a8"
             ],
             [
              0.3333333333333333,
              "#9c179e"
             ],
             [
              0.4444444444444444,
              "#bd3786"
             ],
             [
              0.5555555555555556,
              "#d8576b"
             ],
             [
              0.6666666666666666,
              "#ed7953"
             ],
             [
              0.7777777777777778,
              "#fb9f3a"
             ],
             [
              0.8888888888888888,
              "#fdca26"
             ],
             [
              1,
              "#f0f921"
             ]
            ],
            "type": "histogram2d"
           }
          ],
          "histogram2dcontour": [
           {
            "colorbar": {
             "outlinewidth": 0,
             "ticks": ""
            },
            "colorscale": [
             [
              0,
              "#0d0887"
             ],
             [
              0.1111111111111111,
              "#46039f"
             ],
             [
              0.2222222222222222,
              "#7201a8"
             ],
             [
              0.3333333333333333,
              "#9c179e"
             ],
             [
              0.4444444444444444,
              "#bd3786"
             ],
             [
              0.5555555555555556,
              "#d8576b"
             ],
             [
              0.6666666666666666,
              "#ed7953"
             ],
             [
              0.7777777777777778,
              "#fb9f3a"
             ],
             [
              0.8888888888888888,
              "#fdca26"
             ],
             [
              1,
              "#f0f921"
             ]
            ],
            "type": "histogram2dcontour"
           }
          ],
          "mesh3d": [
           {
            "colorbar": {
             "outlinewidth": 0,
             "ticks": ""
            },
            "type": "mesh3d"
           }
          ],
          "parcoords": [
           {
            "line": {
             "colorbar": {
              "outlinewidth": 0,
              "ticks": ""
             }
            },
            "type": "parcoords"
           }
          ],
          "pie": [
           {
            "automargin": true,
            "type": "pie"
           }
          ],
          "scatter": [
           {
            "fillpattern": {
             "fillmode": "overlay",
             "size": 10,
             "solidity": 0.2
            },
            "type": "scatter"
           }
          ],
          "scatter3d": [
           {
            "line": {
             "colorbar": {
              "outlinewidth": 0,
              "ticks": ""
             }
            },
            "marker": {
             "colorbar": {
              "outlinewidth": 0,
              "ticks": ""
             }
            },
            "type": "scatter3d"
           }
          ],
          "scattercarpet": [
           {
            "marker": {
             "colorbar": {
              "outlinewidth": 0,
              "ticks": ""
             }
            },
            "type": "scattercarpet"
           }
          ],
          "scattergeo": [
           {
            "marker": {
             "colorbar": {
              "outlinewidth": 0,
              "ticks": ""
             }
            },
            "type": "scattergeo"
           }
          ],
          "scattergl": [
           {
            "marker": {
             "colorbar": {
              "outlinewidth": 0,
              "ticks": ""
             }
            },
            "type": "scattergl"
           }
          ],
          "scattermap": [
           {
            "marker": {
             "colorbar": {
              "outlinewidth": 0,
              "ticks": ""
             }
            },
            "type": "scattermap"
           }
          ],
          "scattermapbox": [
           {
            "marker": {
             "colorbar": {
              "outlinewidth": 0,
              "ticks": ""
             }
            },
            "type": "scattermapbox"
           }
          ],
          "scatterpolar": [
           {
            "marker": {
             "colorbar": {
              "outlinewidth": 0,
              "ticks": ""
             }
            },
            "type": "scatterpolar"
           }
          ],
          "scatterpolargl": [
           {
            "marker": {
             "colorbar": {
              "outlinewidth": 0,
              "ticks": ""
             }
            },
            "type": "scatterpolargl"
           }
          ],
          "scatterternary": [
           {
            "marker": {
             "colorbar": {
              "outlinewidth": 0,
              "ticks": ""
             }
            },
            "type": "scatterternary"
           }
          ],
          "surface": [
           {
            "colorbar": {
             "outlinewidth": 0,
             "ticks": ""
            },
            "colorscale": [
             [
              0,
              "#0d0887"
             ],
             [
              0.1111111111111111,
              "#46039f"
             ],
             [
              0.2222222222222222,
              "#7201a8"
             ],
             [
              0.3333333333333333,
              "#9c179e"
             ],
             [
              0.4444444444444444,
              "#bd3786"
             ],
             [
              0.5555555555555556,
              "#d8576b"
             ],
             [
              0.6666666666666666,
              "#ed7953"
             ],
             [
              0.7777777777777778,
              "#fb9f3a"
             ],
             [
              0.8888888888888888,
              "#fdca26"
             ],
             [
              1,
              "#f0f921"
             ]
            ],
            "type": "surface"
           }
          ],
          "table": [
           {
            "cells": {
             "fill": {
              "color": "#EBF0F8"
             },
             "line": {
              "color": "white"
             }
            },
            "header": {
             "fill": {
              "color": "#C8D4E3"
             },
             "line": {
              "color": "white"
             }
            },
            "type": "table"
           }
          ]
         },
         "layout": {
          "annotationdefaults": {
           "arrowcolor": "#2a3f5f",
           "arrowhead": 0,
           "arrowwidth": 1
          },
          "autotypenumbers": "strict",
          "coloraxis": {
           "colorbar": {
            "outlinewidth": 0,
            "ticks": ""
           }
          },
          "colorscale": {
           "diverging": [
            [
             0,
             "#8e0152"
            ],
            [
             0.1,
             "#c51b7d"
            ],
            [
             0.2,
             "#de77ae"
            ],
            [
             0.3,
             "#f1b6da"
            ],
            [
             0.4,
             "#fde0ef"
            ],
            [
             0.5,
             "#f7f7f7"
            ],
            [
             0.6,
             "#e6f5d0"
            ],
            [
             0.7,
             "#b8e186"
            ],
            [
             0.8,
             "#7fbc41"
            ],
            [
             0.9,
             "#4d9221"
            ],
            [
             1,
             "#276419"
            ]
           ],
           "sequential": [
            [
             0,
             "#0d0887"
            ],
            [
             0.1111111111111111,
             "#46039f"
            ],
            [
             0.2222222222222222,
             "#7201a8"
            ],
            [
             0.3333333333333333,
             "#9c179e"
            ],
            [
             0.4444444444444444,
             "#bd3786"
            ],
            [
             0.5555555555555556,
             "#d8576b"
            ],
            [
             0.6666666666666666,
             "#ed7953"
            ],
            [
             0.7777777777777778,
             "#fb9f3a"
            ],
            [
             0.8888888888888888,
             "#fdca26"
            ],
            [
             1,
             "#f0f921"
            ]
           ],
           "sequentialminus": [
            [
             0,
             "#0d0887"
            ],
            [
             0.1111111111111111,
             "#46039f"
            ],
            [
             0.2222222222222222,
             "#7201a8"
            ],
            [
             0.3333333333333333,
             "#9c179e"
            ],
            [
             0.4444444444444444,
             "#bd3786"
            ],
            [
             0.5555555555555556,
             "#d8576b"
            ],
            [
             0.6666666666666666,
             "#ed7953"
            ],
            [
             0.7777777777777778,
             "#fb9f3a"
            ],
            [
             0.8888888888888888,
             "#fdca26"
            ],
            [
             1,
             "#f0f921"
            ]
           ]
          },
          "colorway": [
           "#636efa",
           "#EF553B",
           "#00cc96",
           "#ab63fa",
           "#FFA15A",
           "#19d3f3",
           "#FF6692",
           "#B6E880",
           "#FF97FF",
           "#FECB52"
          ],
          "font": {
           "color": "#2a3f5f"
          },
          "geo": {
           "bgcolor": "white",
           "lakecolor": "white",
           "landcolor": "white",
           "showlakes": true,
           "showland": true,
           "subunitcolor": "#C8D4E3"
          },
          "hoverlabel": {
           "align": "left"
          },
          "hovermode": "closest",
          "mapbox": {
           "style": "light"
          },
          "paper_bgcolor": "white",
          "plot_bgcolor": "white",
          "polar": {
           "angularaxis": {
            "gridcolor": "#EBF0F8",
            "linecolor": "#EBF0F8",
            "ticks": ""
           },
           "bgcolor": "white",
           "radialaxis": {
            "gridcolor": "#EBF0F8",
            "linecolor": "#EBF0F8",
            "ticks": ""
           }
          },
          "scene": {
           "xaxis": {
            "backgroundcolor": "white",
            "gridcolor": "#DFE8F3",
            "gridwidth": 2,
            "linecolor": "#EBF0F8",
            "showbackground": true,
            "ticks": "",
            "zerolinecolor": "#EBF0F8"
           },
           "yaxis": {
            "backgroundcolor": "white",
            "gridcolor": "#DFE8F3",
            "gridwidth": 2,
            "linecolor": "#EBF0F8",
            "showbackground": true,
            "ticks": "",
            "zerolinecolor": "#EBF0F8"
           },
           "zaxis": {
            "backgroundcolor": "white",
            "gridcolor": "#DFE8F3",
            "gridwidth": 2,
            "linecolor": "#EBF0F8",
            "showbackground": true,
            "ticks": "",
            "zerolinecolor": "#EBF0F8"
           }
          },
          "shapedefaults": {
           "line": {
            "color": "#2a3f5f"
           }
          },
          "ternary": {
           "aaxis": {
            "gridcolor": "#DFE8F3",
            "linecolor": "#A2B1C6",
            "ticks": ""
           },
           "baxis": {
            "gridcolor": "#DFE8F3",
            "linecolor": "#A2B1C6",
            "ticks": ""
           },
           "bgcolor": "white",
           "caxis": {
            "gridcolor": "#DFE8F3",
            "linecolor": "#A2B1C6",
            "ticks": ""
           }
          },
          "title": {
           "x": 0.05
          },
          "xaxis": {
           "automargin": true,
           "gridcolor": "#EBF0F8",
           "linecolor": "#EBF0F8",
           "ticks": "",
           "title": {
            "standoff": 15
           },
           "zerolinecolor": "#EBF0F8",
           "zerolinewidth": 2
          },
          "yaxis": {
           "automargin": true,
           "gridcolor": "#EBF0F8",
           "linecolor": "#EBF0F8",
           "ticks": "",
           "title": {
            "standoff": 15
           },
           "zerolinecolor": "#EBF0F8",
           "zerolinewidth": 2
          }
         }
        },
        "title": {
         "text": "Confusion Matrix"
        },
        "xaxis": {
         "title": {
          "text": "Predicted label"
         }
        },
        "yaxis": {
         "autorange": "reversed",
         "title": {
          "text": "True label"
         }
        }
       }
      }
     },
     "metadata": {},
     "output_type": "display_data"
    }
   ],
   "source": [
    "evaluator.plot_confusion(evaluator.df_test['target'], evaluator.df_test['y_pred_proba'], threshold='ks')"
   ]
  },
  {
   "cell_type": "code",
   "execution_count": 68,
   "metadata": {},
   "outputs": [
    {
     "data": {
      "application/vnd.plotly.v1+json": {
       "config": {
        "plotlyServerURL": "https://plot.ly"
       },
       "data": [
        {
         "mode": "lines+markers",
         "name": "Model",
         "type": "scatter",
         "x": {
          "bdata": "N9Bpc6i7dD8=",
          "dtype": "f8"
         },
         "y": {
          "bdata": "MzMzMzMzwz8=",
          "dtype": "f8"
         }
        },
        {
         "line": {
          "dash": "dash"
         },
         "mode": "lines",
         "name": "Ideal",
         "type": "scatter",
         "x": [
          0,
          1
         ],
         "y": [
          0,
          1
         ]
        }
       ],
       "layout": {
        "template": {
         "data": {
          "bar": [
           {
            "error_x": {
             "color": "#2a3f5f"
            },
            "error_y": {
             "color": "#2a3f5f"
            },
            "marker": {
             "line": {
              "color": "white",
              "width": 0.5
             },
             "pattern": {
              "fillmode": "overlay",
              "size": 10,
              "solidity": 0.2
             }
            },
            "type": "bar"
           }
          ],
          "barpolar": [
           {
            "marker": {
             "line": {
              "color": "white",
              "width": 0.5
             },
             "pattern": {
              "fillmode": "overlay",
              "size": 10,
              "solidity": 0.2
             }
            },
            "type": "barpolar"
           }
          ],
          "carpet": [
           {
            "aaxis": {
             "endlinecolor": "#2a3f5f",
             "gridcolor": "#C8D4E3",
             "linecolor": "#C8D4E3",
             "minorgridcolor": "#C8D4E3",
             "startlinecolor": "#2a3f5f"
            },
            "baxis": {
             "endlinecolor": "#2a3f5f",
             "gridcolor": "#C8D4E3",
             "linecolor": "#C8D4E3",
             "minorgridcolor": "#C8D4E3",
             "startlinecolor": "#2a3f5f"
            },
            "type": "carpet"
           }
          ],
          "choropleth": [
           {
            "colorbar": {
             "outlinewidth": 0,
             "ticks": ""
            },
            "type": "choropleth"
           }
          ],
          "contour": [
           {
            "colorbar": {
             "outlinewidth": 0,
             "ticks": ""
            },
            "colorscale": [
             [
              0,
              "#0d0887"
             ],
             [
              0.1111111111111111,
              "#46039f"
             ],
             [
              0.2222222222222222,
              "#7201a8"
             ],
             [
              0.3333333333333333,
              "#9c179e"
             ],
             [
              0.4444444444444444,
              "#bd3786"
             ],
             [
              0.5555555555555556,
              "#d8576b"
             ],
             [
              0.6666666666666666,
              "#ed7953"
             ],
             [
              0.7777777777777778,
              "#fb9f3a"
             ],
             [
              0.8888888888888888,
              "#fdca26"
             ],
             [
              1,
              "#f0f921"
             ]
            ],
            "type": "contour"
           }
          ],
          "contourcarpet": [
           {
            "colorbar": {
             "outlinewidth": 0,
             "ticks": ""
            },
            "type": "contourcarpet"
           }
          ],
          "heatmap": [
           {
            "colorbar": {
             "outlinewidth": 0,
             "ticks": ""
            },
            "colorscale": [
             [
              0,
              "#0d0887"
             ],
             [
              0.1111111111111111,
              "#46039f"
             ],
             [
              0.2222222222222222,
              "#7201a8"
             ],
             [
              0.3333333333333333,
              "#9c179e"
             ],
             [
              0.4444444444444444,
              "#bd3786"
             ],
             [
              0.5555555555555556,
              "#d8576b"
             ],
             [
              0.6666666666666666,
              "#ed7953"
             ],
             [
              0.7777777777777778,
              "#fb9f3a"
             ],
             [
              0.8888888888888888,
              "#fdca26"
             ],
             [
              1,
              "#f0f921"
             ]
            ],
            "type": "heatmap"
           }
          ],
          "histogram": [
           {
            "marker": {
             "pattern": {
              "fillmode": "overlay",
              "size": 10,
              "solidity": 0.2
             }
            },
            "type": "histogram"
           }
          ],
          "histogram2d": [
           {
            "colorbar": {
             "outlinewidth": 0,
             "ticks": ""
            },
            "colorscale": [
             [
              0,
              "#0d0887"
             ],
             [
              0.1111111111111111,
              "#46039f"
             ],
             [
              0.2222222222222222,
              "#7201a8"
             ],
             [
              0.3333333333333333,
              "#9c179e"
             ],
             [
              0.4444444444444444,
              "#bd3786"
             ],
             [
              0.5555555555555556,
              "#d8576b"
             ],
             [
              0.6666666666666666,
              "#ed7953"
             ],
             [
              0.7777777777777778,
              "#fb9f3a"
             ],
             [
              0.8888888888888888,
              "#fdca26"
             ],
             [
              1,
              "#f0f921"
             ]
            ],
            "type": "histogram2d"
           }
          ],
          "histogram2dcontour": [
           {
            "colorbar": {
             "outlinewidth": 0,
             "ticks": ""
            },
            "colorscale": [
             [
              0,
              "#0d0887"
             ],
             [
              0.1111111111111111,
              "#46039f"
             ],
             [
              0.2222222222222222,
              "#7201a8"
             ],
             [
              0.3333333333333333,
              "#9c179e"
             ],
             [
              0.4444444444444444,
              "#bd3786"
             ],
             [
              0.5555555555555556,
              "#d8576b"
             ],
             [
              0.6666666666666666,
              "#ed7953"
             ],
             [
              0.7777777777777778,
              "#fb9f3a"
             ],
             [
              0.8888888888888888,
              "#fdca26"
             ],
             [
              1,
              "#f0f921"
             ]
            ],
            "type": "histogram2dcontour"
           }
          ],
          "mesh3d": [
           {
            "colorbar": {
             "outlinewidth": 0,
             "ticks": ""
            },
            "type": "mesh3d"
           }
          ],
          "parcoords": [
           {
            "line": {
             "colorbar": {
              "outlinewidth": 0,
              "ticks": ""
             }
            },
            "type": "parcoords"
           }
          ],
          "pie": [
           {
            "automargin": true,
            "type": "pie"
           }
          ],
          "scatter": [
           {
            "fillpattern": {
             "fillmode": "overlay",
             "size": 10,
             "solidity": 0.2
            },
            "type": "scatter"
           }
          ],
          "scatter3d": [
           {
            "line": {
             "colorbar": {
              "outlinewidth": 0,
              "ticks": ""
             }
            },
            "marker": {
             "colorbar": {
              "outlinewidth": 0,
              "ticks": ""
             }
            },
            "type": "scatter3d"
           }
          ],
          "scattercarpet": [
           {
            "marker": {
             "colorbar": {
              "outlinewidth": 0,
              "ticks": ""
             }
            },
            "type": "scattercarpet"
           }
          ],
          "scattergeo": [
           {
            "marker": {
             "colorbar": {
              "outlinewidth": 0,
              "ticks": ""
             }
            },
            "type": "scattergeo"
           }
          ],
          "scattergl": [
           {
            "marker": {
             "colorbar": {
              "outlinewidth": 0,
              "ticks": ""
             }
            },
            "type": "scattergl"
           }
          ],
          "scattermap": [
           {
            "marker": {
             "colorbar": {
              "outlinewidth": 0,
              "ticks": ""
             }
            },
            "type": "scattermap"
           }
          ],
          "scattermapbox": [
           {
            "marker": {
             "colorbar": {
              "outlinewidth": 0,
              "ticks": ""
             }
            },
            "type": "scattermapbox"
           }
          ],
          "scatterpolar": [
           {
            "marker": {
             "colorbar": {
              "outlinewidth": 0,
              "ticks": ""
             }
            },
            "type": "scatterpolar"
           }
          ],
          "scatterpolargl": [
           {
            "marker": {
             "colorbar": {
              "outlinewidth": 0,
              "ticks": ""
             }
            },
            "type": "scatterpolargl"
           }
          ],
          "scatterternary": [
           {
            "marker": {
             "colorbar": {
              "outlinewidth": 0,
              "ticks": ""
             }
            },
            "type": "scatterternary"
           }
          ],
          "surface": [
           {
            "colorbar": {
             "outlinewidth": 0,
             "ticks": ""
            },
            "colorscale": [
             [
              0,
              "#0d0887"
             ],
             [
              0.1111111111111111,
              "#46039f"
             ],
             [
              0.2222222222222222,
              "#7201a8"
             ],
             [
              0.3333333333333333,
              "#9c179e"
             ],
             [
              0.4444444444444444,
              "#bd3786"
             ],
             [
              0.5555555555555556,
              "#d8576b"
             ],
             [
              0.6666666666666666,
              "#ed7953"
             ],
             [
              0.7777777777777778,
              "#fb9f3a"
             ],
             [
              0.8888888888888888,
              "#fdca26"
             ],
             [
              1,
              "#f0f921"
             ]
            ],
            "type": "surface"
           }
          ],
          "table": [
           {
            "cells": {
             "fill": {
              "color": "#EBF0F8"
             },
             "line": {
              "color": "white"
             }
            },
            "header": {
             "fill": {
              "color": "#C8D4E3"
             },
             "line": {
              "color": "white"
             }
            },
            "type": "table"
           }
          ]
         },
         "layout": {
          "annotationdefaults": {
           "arrowcolor": "#2a3f5f",
           "arrowhead": 0,
           "arrowwidth": 1
          },
          "autotypenumbers": "strict",
          "coloraxis": {
           "colorbar": {
            "outlinewidth": 0,
            "ticks": ""
           }
          },
          "colorscale": {
           "diverging": [
            [
             0,
             "#8e0152"
            ],
            [
             0.1,
             "#c51b7d"
            ],
            [
             0.2,
             "#de77ae"
            ],
            [
             0.3,
             "#f1b6da"
            ],
            [
             0.4,
             "#fde0ef"
            ],
            [
             0.5,
             "#f7f7f7"
            ],
            [
             0.6,
             "#e6f5d0"
            ],
            [
             0.7,
             "#b8e186"
            ],
            [
             0.8,
             "#7fbc41"
            ],
            [
             0.9,
             "#4d9221"
            ],
            [
             1,
             "#276419"
            ]
           ],
           "sequential": [
            [
             0,
             "#0d0887"
            ],
            [
             0.1111111111111111,
             "#46039f"
            ],
            [
             0.2222222222222222,
             "#7201a8"
            ],
            [
             0.3333333333333333,
             "#9c179e"
            ],
            [
             0.4444444444444444,
             "#bd3786"
            ],
            [
             0.5555555555555556,
             "#d8576b"
            ],
            [
             0.6666666666666666,
             "#ed7953"
            ],
            [
             0.7777777777777778,
             "#fb9f3a"
            ],
            [
             0.8888888888888888,
             "#fdca26"
            ],
            [
             1,
             "#f0f921"
            ]
           ],
           "sequentialminus": [
            [
             0,
             "#0d0887"
            ],
            [
             0.1111111111111111,
             "#46039f"
            ],
            [
             0.2222222222222222,
             "#7201a8"
            ],
            [
             0.3333333333333333,
             "#9c179e"
            ],
            [
             0.4444444444444444,
             "#bd3786"
            ],
            [
             0.5555555555555556,
             "#d8576b"
            ],
            [
             0.6666666666666666,
             "#ed7953"
            ],
            [
             0.7777777777777778,
             "#fb9f3a"
            ],
            [
             0.8888888888888888,
             "#fdca26"
            ],
            [
             1,
             "#f0f921"
            ]
           ]
          },
          "colorway": [
           "#636efa",
           "#EF553B",
           "#00cc96",
           "#ab63fa",
           "#FFA15A",
           "#19d3f3",
           "#FF6692",
           "#B6E880",
           "#FF97FF",
           "#FECB52"
          ],
          "font": {
           "color": "#2a3f5f"
          },
          "geo": {
           "bgcolor": "white",
           "lakecolor": "white",
           "landcolor": "white",
           "showlakes": true,
           "showland": true,
           "subunitcolor": "#C8D4E3"
          },
          "hoverlabel": {
           "align": "left"
          },
          "hovermode": "closest",
          "mapbox": {
           "style": "light"
          },
          "paper_bgcolor": "white",
          "plot_bgcolor": "white",
          "polar": {
           "angularaxis": {
            "gridcolor": "#EBF0F8",
            "linecolor": "#EBF0F8",
            "ticks": ""
           },
           "bgcolor": "white",
           "radialaxis": {
            "gridcolor": "#EBF0F8",
            "linecolor": "#EBF0F8",
            "ticks": ""
           }
          },
          "scene": {
           "xaxis": {
            "backgroundcolor": "white",
            "gridcolor": "#DFE8F3",
            "gridwidth": 2,
            "linecolor": "#EBF0F8",
            "showbackground": true,
            "ticks": "",
            "zerolinecolor": "#EBF0F8"
           },
           "yaxis": {
            "backgroundcolor": "white",
            "gridcolor": "#DFE8F3",
            "gridwidth": 2,
            "linecolor": "#EBF0F8",
            "showbackground": true,
            "ticks": "",
            "zerolinecolor": "#EBF0F8"
           },
           "zaxis": {
            "backgroundcolor": "white",
            "gridcolor": "#DFE8F3",
            "gridwidth": 2,
            "linecolor": "#EBF0F8",
            "showbackground": true,
            "ticks": "",
            "zerolinecolor": "#EBF0F8"
           }
          },
          "shapedefaults": {
           "line": {
            "color": "#2a3f5f"
           }
          },
          "ternary": {
           "aaxis": {
            "gridcolor": "#DFE8F3",
            "linecolor": "#A2B1C6",
            "ticks": ""
           },
           "baxis": {
            "gridcolor": "#DFE8F3",
            "linecolor": "#A2B1C6",
            "ticks": ""
           },
           "bgcolor": "white",
           "caxis": {
            "gridcolor": "#DFE8F3",
            "linecolor": "#A2B1C6",
            "ticks": ""
           }
          },
          "title": {
           "x": 0.05
          },
          "xaxis": {
           "automargin": true,
           "gridcolor": "#EBF0F8",
           "linecolor": "#EBF0F8",
           "ticks": "",
           "title": {
            "standoff": 15
           },
           "zerolinecolor": "#EBF0F8",
           "zerolinewidth": 2
          },
          "yaxis": {
           "automargin": true,
           "gridcolor": "#EBF0F8",
           "linecolor": "#EBF0F8",
           "ticks": "",
           "title": {
            "standoff": 15
           },
           "zerolinecolor": "#EBF0F8",
           "zerolinewidth": 2
          }
         }
        },
        "title": {
         "text": "Calibration Curve – Test (Brier = 0.1485)"
        },
        "xaxis": {
         "title": {
          "text": "Predicted probability"
         }
        },
        "yaxis": {
         "title": {
          "text": "Observed frequency"
         }
        }
       }
      }
     },
     "metadata": {},
     "output_type": "display_data"
    }
   ],
   "source": [
    "evaluator.plot_calibration()"
   ]
  },
  {
   "cell_type": "code",
   "execution_count": 69,
   "metadata": {},
   "outputs": [
    {
     "data": {
      "application/vnd.plotly.v1+json": {
       "config": {
        "plotlyServerURL": "https://plot.ly"
       },
       "data": [
        {
         "line": {
          "color": "rgb(65,124,167)"
         },
         "mode": "lines+markers",
         "name": "(-inf, inf)",
         "type": "scatter",
         "x": [
          "2015-12-01T00:00:00.000000000"
         ],
         "y": {
          "bdata": "MzMzMzMzwz8=",
          "dtype": "f8"
         }
        }
       ],
       "layout": {
        "template": {
         "data": {
          "bar": [
           {
            "error_x": {
             "color": "#2a3f5f"
            },
            "error_y": {
             "color": "#2a3f5f"
            },
            "marker": {
             "line": {
              "color": "white",
              "width": 0.5
             },
             "pattern": {
              "fillmode": "overlay",
              "size": 10,
              "solidity": 0.2
             }
            },
            "type": "bar"
           }
          ],
          "barpolar": [
           {
            "marker": {
             "line": {
              "color": "white",
              "width": 0.5
             },
             "pattern": {
              "fillmode": "overlay",
              "size": 10,
              "solidity": 0.2
             }
            },
            "type": "barpolar"
           }
          ],
          "carpet": [
           {
            "aaxis": {
             "endlinecolor": "#2a3f5f",
             "gridcolor": "#C8D4E3",
             "linecolor": "#C8D4E3",
             "minorgridcolor": "#C8D4E3",
             "startlinecolor": "#2a3f5f"
            },
            "baxis": {
             "endlinecolor": "#2a3f5f",
             "gridcolor": "#C8D4E3",
             "linecolor": "#C8D4E3",
             "minorgridcolor": "#C8D4E3",
             "startlinecolor": "#2a3f5f"
            },
            "type": "carpet"
           }
          ],
          "choropleth": [
           {
            "colorbar": {
             "outlinewidth": 0,
             "ticks": ""
            },
            "type": "choropleth"
           }
          ],
          "contour": [
           {
            "colorbar": {
             "outlinewidth": 0,
             "ticks": ""
            },
            "colorscale": [
             [
              0,
              "#0d0887"
             ],
             [
              0.1111111111111111,
              "#46039f"
             ],
             [
              0.2222222222222222,
              "#7201a8"
             ],
             [
              0.3333333333333333,
              "#9c179e"
             ],
             [
              0.4444444444444444,
              "#bd3786"
             ],
             [
              0.5555555555555556,
              "#d8576b"
             ],
             [
              0.6666666666666666,
              "#ed7953"
             ],
             [
              0.7777777777777778,
              "#fb9f3a"
             ],
             [
              0.8888888888888888,
              "#fdca26"
             ],
             [
              1,
              "#f0f921"
             ]
            ],
            "type": "contour"
           }
          ],
          "contourcarpet": [
           {
            "colorbar": {
             "outlinewidth": 0,
             "ticks": ""
            },
            "type": "contourcarpet"
           }
          ],
          "heatmap": [
           {
            "colorbar": {
             "outlinewidth": 0,
             "ticks": ""
            },
            "colorscale": [
             [
              0,
              "#0d0887"
             ],
             [
              0.1111111111111111,
              "#46039f"
             ],
             [
              0.2222222222222222,
              "#7201a8"
             ],
             [
              0.3333333333333333,
              "#9c179e"
             ],
             [
              0.4444444444444444,
              "#bd3786"
             ],
             [
              0.5555555555555556,
              "#d8576b"
             ],
             [
              0.6666666666666666,
              "#ed7953"
             ],
             [
              0.7777777777777778,
              "#fb9f3a"
             ],
             [
              0.8888888888888888,
              "#fdca26"
             ],
             [
              1,
              "#f0f921"
             ]
            ],
            "type": "heatmap"
           }
          ],
          "histogram": [
           {
            "marker": {
             "pattern": {
              "fillmode": "overlay",
              "size": 10,
              "solidity": 0.2
             }
            },
            "type": "histogram"
           }
          ],
          "histogram2d": [
           {
            "colorbar": {
             "outlinewidth": 0,
             "ticks": ""
            },
            "colorscale": [
             [
              0,
              "#0d0887"
             ],
             [
              0.1111111111111111,
              "#46039f"
             ],
             [
              0.2222222222222222,
              "#7201a8"
             ],
             [
              0.3333333333333333,
              "#9c179e"
             ],
             [
              0.4444444444444444,
              "#bd3786"
             ],
             [
              0.5555555555555556,
              "#d8576b"
             ],
             [
              0.6666666666666666,
              "#ed7953"
             ],
             [
              0.7777777777777778,
              "#fb9f3a"
             ],
             [
              0.8888888888888888,
              "#fdca26"
             ],
             [
              1,
              "#f0f921"
             ]
            ],
            "type": "histogram2d"
           }
          ],
          "histogram2dcontour": [
           {
            "colorbar": {
             "outlinewidth": 0,
             "ticks": ""
            },
            "colorscale": [
             [
              0,
              "#0d0887"
             ],
             [
              0.1111111111111111,
              "#46039f"
             ],
             [
              0.2222222222222222,
              "#7201a8"
             ],
             [
              0.3333333333333333,
              "#9c179e"
             ],
             [
              0.4444444444444444,
              "#bd3786"
             ],
             [
              0.5555555555555556,
              "#d8576b"
             ],
             [
              0.6666666666666666,
              "#ed7953"
             ],
             [
              0.7777777777777778,
              "#fb9f3a"
             ],
             [
              0.8888888888888888,
              "#fdca26"
             ],
             [
              1,
              "#f0f921"
             ]
            ],
            "type": "histogram2dcontour"
           }
          ],
          "mesh3d": [
           {
            "colorbar": {
             "outlinewidth": 0,
             "ticks": ""
            },
            "type": "mesh3d"
           }
          ],
          "parcoords": [
           {
            "line": {
             "colorbar": {
              "outlinewidth": 0,
              "ticks": ""
             }
            },
            "type": "parcoords"
           }
          ],
          "pie": [
           {
            "automargin": true,
            "type": "pie"
           }
          ],
          "scatter": [
           {
            "fillpattern": {
             "fillmode": "overlay",
             "size": 10,
             "solidity": 0.2
            },
            "type": "scatter"
           }
          ],
          "scatter3d": [
           {
            "line": {
             "colorbar": {
              "outlinewidth": 0,
              "ticks": ""
             }
            },
            "marker": {
             "colorbar": {
              "outlinewidth": 0,
              "ticks": ""
             }
            },
            "type": "scatter3d"
           }
          ],
          "scattercarpet": [
           {
            "marker": {
             "colorbar": {
              "outlinewidth": 0,
              "ticks": ""
             }
            },
            "type": "scattercarpet"
           }
          ],
          "scattergeo": [
           {
            "marker": {
             "colorbar": {
              "outlinewidth": 0,
              "ticks": ""
             }
            },
            "type": "scattergeo"
           }
          ],
          "scattergl": [
           {
            "marker": {
             "colorbar": {
              "outlinewidth": 0,
              "ticks": ""
             }
            },
            "type": "scattergl"
           }
          ],
          "scattermap": [
           {
            "marker": {
             "colorbar": {
              "outlinewidth": 0,
              "ticks": ""
             }
            },
            "type": "scattermap"
           }
          ],
          "scattermapbox": [
           {
            "marker": {
             "colorbar": {
              "outlinewidth": 0,
              "ticks": ""
             }
            },
            "type": "scattermapbox"
           }
          ],
          "scatterpolar": [
           {
            "marker": {
             "colorbar": {
              "outlinewidth": 0,
              "ticks": ""
             }
            },
            "type": "scatterpolar"
           }
          ],
          "scatterpolargl": [
           {
            "marker": {
             "colorbar": {
              "outlinewidth": 0,
              "ticks": ""
             }
            },
            "type": "scatterpolargl"
           }
          ],
          "scatterternary": [
           {
            "marker": {
             "colorbar": {
              "outlinewidth": 0,
              "ticks": ""
             }
            },
            "type": "scatterternary"
           }
          ],
          "surface": [
           {
            "colorbar": {
             "outlinewidth": 0,
             "ticks": ""
            },
            "colorscale": [
             [
              0,
              "#0d0887"
             ],
             [
              0.1111111111111111,
              "#46039f"
             ],
             [
              0.2222222222222222,
              "#7201a8"
             ],
             [
              0.3333333333333333,
              "#9c179e"
             ],
             [
              0.4444444444444444,
              "#bd3786"
             ],
             [
              0.5555555555555556,
              "#d8576b"
             ],
             [
              0.6666666666666666,
              "#ed7953"
             ],
             [
              0.7777777777777778,
              "#fb9f3a"
             ],
             [
              0.8888888888888888,
              "#fdca26"
             ],
             [
              1,
              "#f0f921"
             ]
            ],
            "type": "surface"
           }
          ],
          "table": [
           {
            "cells": {
             "fill": {
              "color": "#EBF0F8"
             },
             "line": {
              "color": "white"
             }
            },
            "header": {
             "fill": {
              "color": "#C8D4E3"
             },
             "line": {
              "color": "white"
             }
            },
            "type": "table"
           }
          ]
         },
         "layout": {
          "annotationdefaults": {
           "arrowcolor": "#2a3f5f",
           "arrowhead": 0,
           "arrowwidth": 1
          },
          "autotypenumbers": "strict",
          "coloraxis": {
           "colorbar": {
            "outlinewidth": 0,
            "ticks": ""
           }
          },
          "colorscale": {
           "diverging": [
            [
             0,
             "#8e0152"
            ],
            [
             0.1,
             "#c51b7d"
            ],
            [
             0.2,
             "#de77ae"
            ],
            [
             0.3,
             "#f1b6da"
            ],
            [
             0.4,
             "#fde0ef"
            ],
            [
             0.5,
             "#f7f7f7"
            ],
            [
             0.6,
             "#e6f5d0"
            ],
            [
             0.7,
             "#b8e186"
            ],
            [
             0.8,
             "#7fbc41"
            ],
            [
             0.9,
             "#4d9221"
            ],
            [
             1,
             "#276419"
            ]
           ],
           "sequential": [
            [
             0,
             "#0d0887"
            ],
            [
             0.1111111111111111,
             "#46039f"
            ],
            [
             0.2222222222222222,
             "#7201a8"
            ],
            [
             0.3333333333333333,
             "#9c179e"
            ],
            [
             0.4444444444444444,
             "#bd3786"
            ],
            [
             0.5555555555555556,
             "#d8576b"
            ],
            [
             0.6666666666666666,
             "#ed7953"
            ],
            [
             0.7777777777777778,
             "#fb9f3a"
            ],
            [
             0.8888888888888888,
             "#fdca26"
            ],
            [
             1,
             "#f0f921"
            ]
           ],
           "sequentialminus": [
            [
             0,
             "#0d0887"
            ],
            [
             0.1111111111111111,
             "#46039f"
            ],
            [
             0.2222222222222222,
             "#7201a8"
            ],
            [
             0.3333333333333333,
             "#9c179e"
            ],
            [
             0.4444444444444444,
             "#bd3786"
            ],
            [
             0.5555555555555556,
             "#d8576b"
            ],
            [
             0.6666666666666666,
             "#ed7953"
            ],
            [
             0.7777777777777778,
             "#fb9f3a"
            ],
            [
             0.8888888888888888,
             "#fdca26"
            ],
            [
             1,
             "#f0f921"
            ]
           ]
          },
          "colorway": [
           "#636efa",
           "#EF553B",
           "#00cc96",
           "#ab63fa",
           "#FFA15A",
           "#19d3f3",
           "#FF6692",
           "#B6E880",
           "#FF97FF",
           "#FECB52"
          ],
          "font": {
           "color": "#2a3f5f"
          },
          "geo": {
           "bgcolor": "white",
           "lakecolor": "white",
           "landcolor": "white",
           "showlakes": true,
           "showland": true,
           "subunitcolor": "#C8D4E3"
          },
          "hoverlabel": {
           "align": "left"
          },
          "hovermode": "closest",
          "mapbox": {
           "style": "light"
          },
          "paper_bgcolor": "white",
          "plot_bgcolor": "white",
          "polar": {
           "angularaxis": {
            "gridcolor": "#EBF0F8",
            "linecolor": "#EBF0F8",
            "ticks": ""
           },
           "bgcolor": "white",
           "radialaxis": {
            "gridcolor": "#EBF0F8",
            "linecolor": "#EBF0F8",
            "ticks": ""
           }
          },
          "scene": {
           "xaxis": {
            "backgroundcolor": "white",
            "gridcolor": "#DFE8F3",
            "gridwidth": 2,
            "linecolor": "#EBF0F8",
            "showbackground": true,
            "ticks": "",
            "zerolinecolor": "#EBF0F8"
           },
           "yaxis": {
            "backgroundcolor": "white",
            "gridcolor": "#DFE8F3",
            "gridwidth": 2,
            "linecolor": "#EBF0F8",
            "showbackground": true,
            "ticks": "",
            "zerolinecolor": "#EBF0F8"
           },
           "zaxis": {
            "backgroundcolor": "white",
            "gridcolor": "#DFE8F3",
            "gridwidth": 2,
            "linecolor": "#EBF0F8",
            "showbackground": true,
            "ticks": "",
            "zerolinecolor": "#EBF0F8"
           }
          },
          "shapedefaults": {
           "line": {
            "color": "#2a3f5f"
           }
          },
          "ternary": {
           "aaxis": {
            "gridcolor": "#DFE8F3",
            "linecolor": "#A2B1C6",
            "ticks": ""
           },
           "baxis": {
            "gridcolor": "#DFE8F3",
            "linecolor": "#A2B1C6",
            "ticks": ""
           },
           "bgcolor": "white",
           "caxis": {
            "gridcolor": "#DFE8F3",
            "linecolor": "#A2B1C6",
            "ticks": ""
           }
          },
          "title": {
           "x": 0.05
          },
          "xaxis": {
           "automargin": true,
           "gridcolor": "#EBF0F8",
           "linecolor": "#EBF0F8",
           "ticks": "",
           "title": {
            "standoff": 15
           },
           "zerolinecolor": "#EBF0F8",
           "zerolinewidth": 2
          },
          "yaxis": {
           "automargin": true,
           "gridcolor": "#EBF0F8",
           "linecolor": "#EBF0F8",
           "ticks": "",
           "title": {
            "standoff": 15
           },
           "zerolinecolor": "#EBF0F8",
           "zerolinewidth": 2
          }
         }
        },
        "title": {
         "text": "Event Rate by Group over Time"
        },
        "xaxis": {
         "title": {
          "text": "date"
         }
        },
        "yaxis": {
         "title": {
          "text": "Event rate"
         }
        }
       }
      }
     },
     "metadata": {},
     "output_type": "display_data"
    },
    {
     "data": {
      "application/vnd.plotly.v1+json": {
       "config": {
        "plotlyServerURL": "https://plot.ly"
       },
       "data": [
        {
         "marker": {
          "color": "rgb(65,124,167)"
         },
         "name": "(-inf, inf)",
         "type": "bar",
         "x": [
          "2015-12-01T00:00:00.000000000"
         ],
         "y": {
          "bdata": "AAAAAAAA8D8=",
          "dtype": "f8"
         }
        }
       ],
       "layout": {
        "barmode": "stack",
        "template": {
         "data": {
          "bar": [
           {
            "error_x": {
             "color": "#2a3f5f"
            },
            "error_y": {
             "color": "#2a3f5f"
            },
            "marker": {
             "line": {
              "color": "white",
              "width": 0.5
             },
             "pattern": {
              "fillmode": "overlay",
              "size": 10,
              "solidity": 0.2
             }
            },
            "type": "bar"
           }
          ],
          "barpolar": [
           {
            "marker": {
             "line": {
              "color": "white",
              "width": 0.5
             },
             "pattern": {
              "fillmode": "overlay",
              "size": 10,
              "solidity": 0.2
             }
            },
            "type": "barpolar"
           }
          ],
          "carpet": [
           {
            "aaxis": {
             "endlinecolor": "#2a3f5f",
             "gridcolor": "#C8D4E3",
             "linecolor": "#C8D4E3",
             "minorgridcolor": "#C8D4E3",
             "startlinecolor": "#2a3f5f"
            },
            "baxis": {
             "endlinecolor": "#2a3f5f",
             "gridcolor": "#C8D4E3",
             "linecolor": "#C8D4E3",
             "minorgridcolor": "#C8D4E3",
             "startlinecolor": "#2a3f5f"
            },
            "type": "carpet"
           }
          ],
          "choropleth": [
           {
            "colorbar": {
             "outlinewidth": 0,
             "ticks": ""
            },
            "type": "choropleth"
           }
          ],
          "contour": [
           {
            "colorbar": {
             "outlinewidth": 0,
             "ticks": ""
            },
            "colorscale": [
             [
              0,
              "#0d0887"
             ],
             [
              0.1111111111111111,
              "#46039f"
             ],
             [
              0.2222222222222222,
              "#7201a8"
             ],
             [
              0.3333333333333333,
              "#9c179e"
             ],
             [
              0.4444444444444444,
              "#bd3786"
             ],
             [
              0.5555555555555556,
              "#d8576b"
             ],
             [
              0.6666666666666666,
              "#ed7953"
             ],
             [
              0.7777777777777778,
              "#fb9f3a"
             ],
             [
              0.8888888888888888,
              "#fdca26"
             ],
             [
              1,
              "#f0f921"
             ]
            ],
            "type": "contour"
           }
          ],
          "contourcarpet": [
           {
            "colorbar": {
             "outlinewidth": 0,
             "ticks": ""
            },
            "type": "contourcarpet"
           }
          ],
          "heatmap": [
           {
            "colorbar": {
             "outlinewidth": 0,
             "ticks": ""
            },
            "colorscale": [
             [
              0,
              "#0d0887"
             ],
             [
              0.1111111111111111,
              "#46039f"
             ],
             [
              0.2222222222222222,
              "#7201a8"
             ],
             [
              0.3333333333333333,
              "#9c179e"
             ],
             [
              0.4444444444444444,
              "#bd3786"
             ],
             [
              0.5555555555555556,
              "#d8576b"
             ],
             [
              0.6666666666666666,
              "#ed7953"
             ],
             [
              0.7777777777777778,
              "#fb9f3a"
             ],
             [
              0.8888888888888888,
              "#fdca26"
             ],
             [
              1,
              "#f0f921"
             ]
            ],
            "type": "heatmap"
           }
          ],
          "histogram": [
           {
            "marker": {
             "pattern": {
              "fillmode": "overlay",
              "size": 10,
              "solidity": 0.2
             }
            },
            "type": "histogram"
           }
          ],
          "histogram2d": [
           {
            "colorbar": {
             "outlinewidth": 0,
             "ticks": ""
            },
            "colorscale": [
             [
              0,
              "#0d0887"
             ],
             [
              0.1111111111111111,
              "#46039f"
             ],
             [
              0.2222222222222222,
              "#7201a8"
             ],
             [
              0.3333333333333333,
              "#9c179e"
             ],
             [
              0.4444444444444444,
              "#bd3786"
             ],
             [
              0.5555555555555556,
              "#d8576b"
             ],
             [
              0.6666666666666666,
              "#ed7953"
             ],
             [
              0.7777777777777778,
              "#fb9f3a"
             ],
             [
              0.8888888888888888,
              "#fdca26"
             ],
             [
              1,
              "#f0f921"
             ]
            ],
            "type": "histogram2d"
           }
          ],
          "histogram2dcontour": [
           {
            "colorbar": {
             "outlinewidth": 0,
             "ticks": ""
            },
            "colorscale": [
             [
              0,
              "#0d0887"
             ],
             [
              0.1111111111111111,
              "#46039f"
             ],
             [
              0.2222222222222222,
              "#7201a8"
             ],
             [
              0.3333333333333333,
              "#9c179e"
             ],
             [
              0.4444444444444444,
              "#bd3786"
             ],
             [
              0.5555555555555556,
              "#d8576b"
             ],
             [
              0.6666666666666666,
              "#ed7953"
             ],
             [
              0.7777777777777778,
              "#fb9f3a"
             ],
             [
              0.8888888888888888,
              "#fdca26"
             ],
             [
              1,
              "#f0f921"
             ]
            ],
            "type": "histogram2dcontour"
           }
          ],
          "mesh3d": [
           {
            "colorbar": {
             "outlinewidth": 0,
             "ticks": ""
            },
            "type": "mesh3d"
           }
          ],
          "parcoords": [
           {
            "line": {
             "colorbar": {
              "outlinewidth": 0,
              "ticks": ""
             }
            },
            "type": "parcoords"
           }
          ],
          "pie": [
           {
            "automargin": true,
            "type": "pie"
           }
          ],
          "scatter": [
           {
            "fillpattern": {
             "fillmode": "overlay",
             "size": 10,
             "solidity": 0.2
            },
            "type": "scatter"
           }
          ],
          "scatter3d": [
           {
            "line": {
             "colorbar": {
              "outlinewidth": 0,
              "ticks": ""
             }
            },
            "marker": {
             "colorbar": {
              "outlinewidth": 0,
              "ticks": ""
             }
            },
            "type": "scatter3d"
           }
          ],
          "scattercarpet": [
           {
            "marker": {
             "colorbar": {
              "outlinewidth": 0,
              "ticks": ""
             }
            },
            "type": "scattercarpet"
           }
          ],
          "scattergeo": [
           {
            "marker": {
             "colorbar": {
              "outlinewidth": 0,
              "ticks": ""
             }
            },
            "type": "scattergeo"
           }
          ],
          "scattergl": [
           {
            "marker": {
             "colorbar": {
              "outlinewidth": 0,
              "ticks": ""
             }
            },
            "type": "scattergl"
           }
          ],
          "scattermap": [
           {
            "marker": {
             "colorbar": {
              "outlinewidth": 0,
              "ticks": ""
             }
            },
            "type": "scattermap"
           }
          ],
          "scattermapbox": [
           {
            "marker": {
             "colorbar": {
              "outlinewidth": 0,
              "ticks": ""
             }
            },
            "type": "scattermapbox"
           }
          ],
          "scatterpolar": [
           {
            "marker": {
             "colorbar": {
              "outlinewidth": 0,
              "ticks": ""
             }
            },
            "type": "scatterpolar"
           }
          ],
          "scatterpolargl": [
           {
            "marker": {
             "colorbar": {
              "outlinewidth": 0,
              "ticks": ""
             }
            },
            "type": "scatterpolargl"
           }
          ],
          "scatterternary": [
           {
            "marker": {
             "colorbar": {
              "outlinewidth": 0,
              "ticks": ""
             }
            },
            "type": "scatterternary"
           }
          ],
          "surface": [
           {
            "colorbar": {
             "outlinewidth": 0,
             "ticks": ""
            },
            "colorscale": [
             [
              0,
              "#0d0887"
             ],
             [
              0.1111111111111111,
              "#46039f"
             ],
             [
              0.2222222222222222,
              "#7201a8"
             ],
             [
              0.3333333333333333,
              "#9c179e"
             ],
             [
              0.4444444444444444,
              "#bd3786"
             ],
             [
              0.5555555555555556,
              "#d8576b"
             ],
             [
              0.6666666666666666,
              "#ed7953"
             ],
             [
              0.7777777777777778,
              "#fb9f3a"
             ],
             [
              0.8888888888888888,
              "#fdca26"
             ],
             [
              1,
              "#f0f921"
             ]
            ],
            "type": "surface"
           }
          ],
          "table": [
           {
            "cells": {
             "fill": {
              "color": "#EBF0F8"
             },
             "line": {
              "color": "white"
             }
            },
            "header": {
             "fill": {
              "color": "#C8D4E3"
             },
             "line": {
              "color": "white"
             }
            },
            "type": "table"
           }
          ]
         },
         "layout": {
          "annotationdefaults": {
           "arrowcolor": "#2a3f5f",
           "arrowhead": 0,
           "arrowwidth": 1
          },
          "autotypenumbers": "strict",
          "coloraxis": {
           "colorbar": {
            "outlinewidth": 0,
            "ticks": ""
           }
          },
          "colorscale": {
           "diverging": [
            [
             0,
             "#8e0152"
            ],
            [
             0.1,
             "#c51b7d"
            ],
            [
             0.2,
             "#de77ae"
            ],
            [
             0.3,
             "#f1b6da"
            ],
            [
             0.4,
             "#fde0ef"
            ],
            [
             0.5,
             "#f7f7f7"
            ],
            [
             0.6,
             "#e6f5d0"
            ],
            [
             0.7,
             "#b8e186"
            ],
            [
             0.8,
             "#7fbc41"
            ],
            [
             0.9,
             "#4d9221"
            ],
            [
             1,
             "#276419"
            ]
           ],
           "sequential": [
            [
             0,
             "#0d0887"
            ],
            [
             0.1111111111111111,
             "#46039f"
            ],
            [
             0.2222222222222222,
             "#7201a8"
            ],
            [
             0.3333333333333333,
             "#9c179e"
            ],
            [
             0.4444444444444444,
             "#bd3786"
            ],
            [
             0.5555555555555556,
             "#d8576b"
            ],
            [
             0.6666666666666666,
             "#ed7953"
            ],
            [
             0.7777777777777778,
             "#fb9f3a"
            ],
            [
             0.8888888888888888,
             "#fdca26"
            ],
            [
             1,
             "#f0f921"
            ]
           ],
           "sequentialminus": [
            [
             0,
             "#0d0887"
            ],
            [
             0.1111111111111111,
             "#46039f"
            ],
            [
             0.2222222222222222,
             "#7201a8"
            ],
            [
             0.3333333333333333,
             "#9c179e"
            ],
            [
             0.4444444444444444,
             "#bd3786"
            ],
            [
             0.5555555555555556,
             "#d8576b"
            ],
            [
             0.6666666666666666,
             "#ed7953"
            ],
            [
             0.7777777777777778,
             "#fb9f3a"
            ],
            [
             0.8888888888888888,
             "#fdca26"
            ],
            [
             1,
             "#f0f921"
            ]
           ]
          },
          "colorway": [
           "#636efa",
           "#EF553B",
           "#00cc96",
           "#ab63fa",
           "#FFA15A",
           "#19d3f3",
           "#FF6692",
           "#B6E880",
           "#FF97FF",
           "#FECB52"
          ],
          "font": {
           "color": "#2a3f5f"
          },
          "geo": {
           "bgcolor": "white",
           "lakecolor": "white",
           "landcolor": "white",
           "showlakes": true,
           "showland": true,
           "subunitcolor": "#C8D4E3"
          },
          "hoverlabel": {
           "align": "left"
          },
          "hovermode": "closest",
          "mapbox": {
           "style": "light"
          },
          "paper_bgcolor": "white",
          "plot_bgcolor": "white",
          "polar": {
           "angularaxis": {
            "gridcolor": "#EBF0F8",
            "linecolor": "#EBF0F8",
            "ticks": ""
           },
           "bgcolor": "white",
           "radialaxis": {
            "gridcolor": "#EBF0F8",
            "linecolor": "#EBF0F8",
            "ticks": ""
           }
          },
          "scene": {
           "xaxis": {
            "backgroundcolor": "white",
            "gridcolor": "#DFE8F3",
            "gridwidth": 2,
            "linecolor": "#EBF0F8",
            "showbackground": true,
            "ticks": "",
            "zerolinecolor": "#EBF0F8"
           },
           "yaxis": {
            "backgroundcolor": "white",
            "gridcolor": "#DFE8F3",
            "gridwidth": 2,
            "linecolor": "#EBF0F8",
            "showbackground": true,
            "ticks": "",
            "zerolinecolor": "#EBF0F8"
           },
           "zaxis": {
            "backgroundcolor": "white",
            "gridcolor": "#DFE8F3",
            "gridwidth": 2,
            "linecolor": "#EBF0F8",
            "showbackground": true,
            "ticks": "",
            "zerolinecolor": "#EBF0F8"
           }
          },
          "shapedefaults": {
           "line": {
            "color": "#2a3f5f"
           }
          },
          "ternary": {
           "aaxis": {
            "gridcolor": "#DFE8F3",
            "linecolor": "#A2B1C6",
            "ticks": ""
           },
           "baxis": {
            "gridcolor": "#DFE8F3",
            "linecolor": "#A2B1C6",
            "ticks": ""
           },
           "bgcolor": "white",
           "caxis": {
            "gridcolor": "#DFE8F3",
            "linecolor": "#A2B1C6",
            "ticks": ""
           }
          },
          "title": {
           "x": 0.05
          },
          "xaxis": {
           "automargin": true,
           "gridcolor": "#EBF0F8",
           "linecolor": "#EBF0F8",
           "ticks": "",
           "title": {
            "standoff": 15
           },
           "zerolinecolor": "#EBF0F8",
           "zerolinewidth": 2
          },
          "yaxis": {
           "automargin": true,
           "gridcolor": "#EBF0F8",
           "linecolor": "#EBF0F8",
           "ticks": "",
           "title": {
            "standoff": 15
           },
           "zerolinecolor": "#EBF0F8",
           "zerolinewidth": 2
          }
         }
        },
        "title": {
         "text": "Group Share over Time"
        },
        "xaxis": {
         "title": {
          "text": "date"
         }
        },
        "yaxis": {
         "tickformat": ".0%",
         "title": {
          "text": "Group share"
         }
        }
       }
      }
     },
     "metadata": {},
     "output_type": "display_data"
    },
    {
     "data": {
      "text/plain": [
       "(Figure({\n",
       "     'data': [{'line': {'color': 'rgb(65,124,167)'},\n",
       "               'mode': 'lines+markers',\n",
       "               'name': '(-inf, inf)',\n",
       "               'type': 'scatter',\n",
       "               'x': array(['2015-12-01T00:00:00.000000000'], dtype='datetime64[ns]'),\n",
       "               'y': {'bdata': 'MzMzMzMzwz8=', 'dtype': 'f8'}}],\n",
       "     'layout': {'template': '...',\n",
       "                'title': {'text': 'Event Rate by Group over Time'},\n",
       "                'xaxis': {'title': {'text': 'date'}},\n",
       "                'yaxis': {'title': {'text': 'Event rate'}}}\n",
       " }),\n",
       " Figure({\n",
       "     'data': [{'marker': {'color': 'rgb(65,124,167)'},\n",
       "               'name': '(-inf, inf)',\n",
       "               'type': 'bar',\n",
       "               'x': array(['2015-12-01T00:00:00.000000000'], dtype='datetime64[ns]'),\n",
       "               'y': {'bdata': 'AAAAAAAA8D8=', 'dtype': 'f8'}}],\n",
       "     'layout': {'barmode': 'stack',\n",
       "                'template': '...',\n",
       "                'title': {'text': 'Group Share over Time'},\n",
       "                'xaxis': {'title': {'text': 'date'}},\n",
       "                'yaxis': {'tickformat': '.0%', 'title': {'text': 'Group share'}}}\n",
       " }))"
      ]
     },
     "execution_count": 69,
     "metadata": {},
     "output_type": "execute_result"
    }
   ],
   "source": [
    "evaluator.plot_event_rate()"
   ]
  },
  {
   "cell_type": "code",
   "execution_count": 70,
   "metadata": {},
   "outputs": [
    {
     "data": {
      "application/vnd.plotly.v1+json": {
       "config": {
        "plotlyServerURL": "https://plot.ly"
       },
       "data": [
        {
         "mode": "lines+markers",
         "name": "acc_open_past_24mths",
         "type": "scatter",
         "x": [
          "2015-12-01T00:00:00.000000000"
         ],
         "y": {
          "bdata": "NWO8DLCsmD8=",
          "dtype": "f8"
         }
        },
        {
         "mode": "lines+markers",
         "name": "annual_inc",
         "type": "scatter",
         "x": [
          "2015-12-01T00:00:00.000000000"
         ],
         "y": {
          "bdata": "yeQWxbXerj8=",
          "dtype": "f8"
         }
        },
        {
         "mode": "lines+markers",
         "name": "avg_cur_bal",
         "type": "scatter",
         "x": [
          "2015-12-01T00:00:00.000000000"
         ],
         "y": {
          "bdata": "CAN6PHQJrD8=",
          "dtype": "f8"
         }
        },
        {
         "mode": "lines+markers",
         "name": "bc_open_to_buy",
         "type": "scatter",
         "x": [
          "2015-12-01T00:00:00.000000000"
         ],
         "y": {
          "bdata": "cmqztIXIrT8=",
          "dtype": "f8"
         }
        },
        {
         "mode": "lines+markers",
         "name": "dti",
         "type": "scatter",
         "x": [
          "2015-12-01T00:00:00.000000000"
         ],
         "y": {
          "bdata": "5JRLsL1Gqz8=",
          "dtype": "f8"
         }
        },
        {
         "mode": "lines+markers",
         "name": "fico_range_high",
         "type": "scatter",
         "x": [
          "2015-12-01T00:00:00.000000000"
         ],
         "y": {
          "bdata": "n3/X6eDrqj8=",
          "dtype": "f8"
         }
        },
        {
         "mode": "lines+markers",
         "name": "funded_amnt_inv",
         "type": "scatter",
         "x": [
          "2015-12-01T00:00:00.000000000"
         ],
         "y": {
          "bdata": "pDQKL6pDpD8=",
          "dtype": "f8"
         }
        },
        {
         "mode": "lines+markers",
         "name": "last_fico_range_low",
         "type": "scatter",
         "x": [
          "2015-12-01T00:00:00.000000000"
         ],
         "y": {
          "bdata": "dk1h3b6Flj8=",
          "dtype": "f8"
         }
        },
        {
         "mode": "lines+markers",
         "name": "last_pymnt_amnt",
         "type": "scatter",
         "x": [
          "2015-12-01T00:00:00.000000000"
         ],
         "y": {
          "bdata": "UtDxWn6Orz8=",
          "dtype": "f8"
         }
        },
        {
         "mode": "lines+markers",
         "name": "mo_sin_old_rev_tl_op",
         "type": "scatter",
         "x": [
          "2015-12-01T00:00:00.000000000"
         ],
         "y": {
          "bdata": "OQ9qa9W2pD8=",
          "dtype": "f8"
         }
        },
        {
         "mode": "lines+markers",
         "name": "mo_sin_rcnt_rev_tl_op",
         "type": "scatter",
         "x": [
          "2015-12-01T00:00:00.000000000"
         ],
         "y": {
          "bdata": "i3vNEMVbpD8=",
          "dtype": "f8"
         }
        },
        {
         "mode": "lines+markers",
         "name": "mo_sin_rcnt_tl",
         "type": "scatter",
         "x": [
          "2015-12-01T00:00:00.000000000"
         ],
         "y": {
          "bdata": "qOZ0vHRNnz8=",
          "dtype": "f8"
         }
        },
        {
         "mode": "lines+markers",
         "name": "mort_acc",
         "type": "scatter",
         "x": [
          "2015-12-01T00:00:00.000000000"
         ],
         "y": {
          "bdata": "QxCtke2ylD8=",
          "dtype": "f8"
         }
        },
        {
         "mode": "lines+markers",
         "name": "mths_since_recent_bc",
         "type": "scatter",
         "x": [
          "2015-12-01T00:00:00.000000000"
         ],
         "y": {
          "bdata": "owqEJTzOpT8=",
          "dtype": "f8"
         }
        },
        {
         "mode": "lines+markers",
         "name": "mths_since_recent_inq",
         "type": "scatter",
         "x": [
          "2015-12-01T00:00:00.000000000"
         ],
         "y": {
          "bdata": "X0R2XgWVqD8=",
          "dtype": "f8"
         }
        },
        {
         "mode": "lines+markers",
         "name": "num_tl_op_past_12m",
         "type": "scatter",
         "x": [
          "2015-12-01T00:00:00.000000000"
         ],
         "y": {
          "bdata": "amvB3o5Vmj8=",
          "dtype": "f8"
         }
        },
        {
         "mode": "lines+markers",
         "name": "out_prncp_inv",
         "type": "scatter",
         "x": [
          "2015-12-01T00:00:00.000000000"
         ],
         "y": {
          "bdata": "RMbscwDlHz8=",
          "dtype": "f8"
         }
        },
        {
         "mode": "lines+markers",
         "name": "percent_bc_gt_75",
         "type": "scatter",
         "x": [
          "2015-12-01T00:00:00.000000000"
         ],
         "y": {
          "bdata": "AAr91JxImD8=",
          "dtype": "f8"
         }
        },
        {
         "mode": "lines+markers",
         "name": "total_bc_limit",
         "type": "scatter",
         "x": [
          "2015-12-01T00:00:00.000000000"
         ],
         "y": {
          "bdata": "pEFcNjdAuz8=",
          "dtype": "f8"
         }
        },
        {
         "mode": "lines+markers",
         "name": "total_rec_prncp",
         "type": "scatter",
         "x": [
          "2015-12-01T00:00:00.000000000"
         ],
         "y": {
          "bdata": "2tSWAUKlrD8=",
          "dtype": "f8"
         }
        },
        {
         "mode": "lines+markers",
         "name": "y_pred_label",
         "type": "scatter",
         "x": [
          "2015-12-01T00:00:00.000000000"
         ],
         "y": {
          "bdata": "AAAAAAAAAAA=",
          "dtype": "f8"
         }
        },
        {
         "mode": "lines+markers",
         "name": "y_pred_proba",
         "type": "scatter",
         "x": [
          "2015-12-01T00:00:00.000000000"
         ],
         "y": {
          "bdata": "5NCKvF2Onj8=",
          "dtype": "f8"
         }
        }
       ],
       "layout": {
        "annotations": [
         {
          "showarrow": false,
          "text": "0.10",
          "x": 1,
          "xanchor": "right",
          "xref": "x domain",
          "y": 0.1,
          "yanchor": "bottom",
          "yref": "y"
         },
         {
          "showarrow": false,
          "text": "0.25",
          "x": 1,
          "xanchor": "right",
          "xref": "x domain",
          "y": 0.25,
          "yanchor": "bottom",
          "yref": "y"
         }
        ],
        "shapes": [
         {
          "line": {
           "color": "orange",
           "dash": "dash"
          },
          "type": "line",
          "x0": 0,
          "x1": 1,
          "xref": "x domain",
          "y0": 0.1,
          "y1": 0.1,
          "yref": "y"
         },
         {
          "line": {
           "color": "red",
           "dash": "dash"
          },
          "type": "line",
          "x0": 0,
          "x1": 1,
          "xref": "x domain",
          "y0": 0.25,
          "y1": 0.25,
          "yref": "y"
         }
        ],
        "template": {
         "data": {
          "bar": [
           {
            "error_x": {
             "color": "#2a3f5f"
            },
            "error_y": {
             "color": "#2a3f5f"
            },
            "marker": {
             "line": {
              "color": "white",
              "width": 0.5
             },
             "pattern": {
              "fillmode": "overlay",
              "size": 10,
              "solidity": 0.2
             }
            },
            "type": "bar"
           }
          ],
          "barpolar": [
           {
            "marker": {
             "line": {
              "color": "white",
              "width": 0.5
             },
             "pattern": {
              "fillmode": "overlay",
              "size": 10,
              "solidity": 0.2
             }
            },
            "type": "barpolar"
           }
          ],
          "carpet": [
           {
            "aaxis": {
             "endlinecolor": "#2a3f5f",
             "gridcolor": "#C8D4E3",
             "linecolor": "#C8D4E3",
             "minorgridcolor": "#C8D4E3",
             "startlinecolor": "#2a3f5f"
            },
            "baxis": {
             "endlinecolor": "#2a3f5f",
             "gridcolor": "#C8D4E3",
             "linecolor": "#C8D4E3",
             "minorgridcolor": "#C8D4E3",
             "startlinecolor": "#2a3f5f"
            },
            "type": "carpet"
           }
          ],
          "choropleth": [
           {
            "colorbar": {
             "outlinewidth": 0,
             "ticks": ""
            },
            "type": "choropleth"
           }
          ],
          "contour": [
           {
            "colorbar": {
             "outlinewidth": 0,
             "ticks": ""
            },
            "colorscale": [
             [
              0,
              "#0d0887"
             ],
             [
              0.1111111111111111,
              "#46039f"
             ],
             [
              0.2222222222222222,
              "#7201a8"
             ],
             [
              0.3333333333333333,
              "#9c179e"
             ],
             [
              0.4444444444444444,
              "#bd3786"
             ],
             [
              0.5555555555555556,
              "#d8576b"
             ],
             [
              0.6666666666666666,
              "#ed7953"
             ],
             [
              0.7777777777777778,
              "#fb9f3a"
             ],
             [
              0.8888888888888888,
              "#fdca26"
             ],
             [
              1,
              "#f0f921"
             ]
            ],
            "type": "contour"
           }
          ],
          "contourcarpet": [
           {
            "colorbar": {
             "outlinewidth": 0,
             "ticks": ""
            },
            "type": "contourcarpet"
           }
          ],
          "heatmap": [
           {
            "colorbar": {
             "outlinewidth": 0,
             "ticks": ""
            },
            "colorscale": [
             [
              0,
              "#0d0887"
             ],
             [
              0.1111111111111111,
              "#46039f"
             ],
             [
              0.2222222222222222,
              "#7201a8"
             ],
             [
              0.3333333333333333,
              "#9c179e"
             ],
             [
              0.4444444444444444,
              "#bd3786"
             ],
             [
              0.5555555555555556,
              "#d8576b"
             ],
             [
              0.6666666666666666,
              "#ed7953"
             ],
             [
              0.7777777777777778,
              "#fb9f3a"
             ],
             [
              0.8888888888888888,
              "#fdca26"
             ],
             [
              1,
              "#f0f921"
             ]
            ],
            "type": "heatmap"
           }
          ],
          "histogram": [
           {
            "marker": {
             "pattern": {
              "fillmode": "overlay",
              "size": 10,
              "solidity": 0.2
             }
            },
            "type": "histogram"
           }
          ],
          "histogram2d": [
           {
            "colorbar": {
             "outlinewidth": 0,
             "ticks": ""
            },
            "colorscale": [
             [
              0,
              "#0d0887"
             ],
             [
              0.1111111111111111,
              "#46039f"
             ],
             [
              0.2222222222222222,
              "#7201a8"
             ],
             [
              0.3333333333333333,
              "#9c179e"
             ],
             [
              0.4444444444444444,
              "#bd3786"
             ],
             [
              0.5555555555555556,
              "#d8576b"
             ],
             [
              0.6666666666666666,
              "#ed7953"
             ],
             [
              0.7777777777777778,
              "#fb9f3a"
             ],
             [
              0.8888888888888888,
              "#fdca26"
             ],
             [
              1,
              "#f0f921"
             ]
            ],
            "type": "histogram2d"
           }
          ],
          "histogram2dcontour": [
           {
            "colorbar": {
             "outlinewidth": 0,
             "ticks": ""
            },
            "colorscale": [
             [
              0,
              "#0d0887"
             ],
             [
              0.1111111111111111,
              "#46039f"
             ],
             [
              0.2222222222222222,
              "#7201a8"
             ],
             [
              0.3333333333333333,
              "#9c179e"
             ],
             [
              0.4444444444444444,
              "#bd3786"
             ],
             [
              0.5555555555555556,
              "#d8576b"
             ],
             [
              0.6666666666666666,
              "#ed7953"
             ],
             [
              0.7777777777777778,
              "#fb9f3a"
             ],
             [
              0.8888888888888888,
              "#fdca26"
             ],
             [
              1,
              "#f0f921"
             ]
            ],
            "type": "histogram2dcontour"
           }
          ],
          "mesh3d": [
           {
            "colorbar": {
             "outlinewidth": 0,
             "ticks": ""
            },
            "type": "mesh3d"
           }
          ],
          "parcoords": [
           {
            "line": {
             "colorbar": {
              "outlinewidth": 0,
              "ticks": ""
             }
            },
            "type": "parcoords"
           }
          ],
          "pie": [
           {
            "automargin": true,
            "type": "pie"
           }
          ],
          "scatter": [
           {
            "fillpattern": {
             "fillmode": "overlay",
             "size": 10,
             "solidity": 0.2
            },
            "type": "scatter"
           }
          ],
          "scatter3d": [
           {
            "line": {
             "colorbar": {
              "outlinewidth": 0,
              "ticks": ""
             }
            },
            "marker": {
             "colorbar": {
              "outlinewidth": 0,
              "ticks": ""
             }
            },
            "type": "scatter3d"
           }
          ],
          "scattercarpet": [
           {
            "marker": {
             "colorbar": {
              "outlinewidth": 0,
              "ticks": ""
             }
            },
            "type": "scattercarpet"
           }
          ],
          "scattergeo": [
           {
            "marker": {
             "colorbar": {
              "outlinewidth": 0,
              "ticks": ""
             }
            },
            "type": "scattergeo"
           }
          ],
          "scattergl": [
           {
            "marker": {
             "colorbar": {
              "outlinewidth": 0,
              "ticks": ""
             }
            },
            "type": "scattergl"
           }
          ],
          "scattermap": [
           {
            "marker": {
             "colorbar": {
              "outlinewidth": 0,
              "ticks": ""
             }
            },
            "type": "scattermap"
           }
          ],
          "scattermapbox": [
           {
            "marker": {
             "colorbar": {
              "outlinewidth": 0,
              "ticks": ""
             }
            },
            "type": "scattermapbox"
           }
          ],
          "scatterpolar": [
           {
            "marker": {
             "colorbar": {
              "outlinewidth": 0,
              "ticks": ""
             }
            },
            "type": "scatterpolar"
           }
          ],
          "scatterpolargl": [
           {
            "marker": {
             "colorbar": {
              "outlinewidth": 0,
              "ticks": ""
             }
            },
            "type": "scatterpolargl"
           }
          ],
          "scatterternary": [
           {
            "marker": {
             "colorbar": {
              "outlinewidth": 0,
              "ticks": ""
             }
            },
            "type": "scatterternary"
           }
          ],
          "surface": [
           {
            "colorbar": {
             "outlinewidth": 0,
             "ticks": ""
            },
            "colorscale": [
             [
              0,
              "#0d0887"
             ],
             [
              0.1111111111111111,
              "#46039f"
             ],
             [
              0.2222222222222222,
              "#7201a8"
             ],
             [
              0.3333333333333333,
              "#9c179e"
             ],
             [
              0.4444444444444444,
              "#bd3786"
             ],
             [
              0.5555555555555556,
              "#d8576b"
             ],
             [
              0.6666666666666666,
              "#ed7953"
             ],
             [
              0.7777777777777778,
              "#fb9f3a"
             ],
             [
              0.8888888888888888,
              "#fdca26"
             ],
             [
              1,
              "#f0f921"
             ]
            ],
            "type": "surface"
           }
          ],
          "table": [
           {
            "cells": {
             "fill": {
              "color": "#EBF0F8"
             },
             "line": {
              "color": "white"
             }
            },
            "header": {
             "fill": {
              "color": "#C8D4E3"
             },
             "line": {
              "color": "white"
             }
            },
            "type": "table"
           }
          ]
         },
         "layout": {
          "annotationdefaults": {
           "arrowcolor": "#2a3f5f",
           "arrowhead": 0,
           "arrowwidth": 1
          },
          "autotypenumbers": "strict",
          "coloraxis": {
           "colorbar": {
            "outlinewidth": 0,
            "ticks": ""
           }
          },
          "colorscale": {
           "diverging": [
            [
             0,
             "#8e0152"
            ],
            [
             0.1,
             "#c51b7d"
            ],
            [
             0.2,
             "#de77ae"
            ],
            [
             0.3,
             "#f1b6da"
            ],
            [
             0.4,
             "#fde0ef"
            ],
            [
             0.5,
             "#f7f7f7"
            ],
            [
             0.6,
             "#e6f5d0"
            ],
            [
             0.7,
             "#b8e186"
            ],
            [
             0.8,
             "#7fbc41"
            ],
            [
             0.9,
             "#4d9221"
            ],
            [
             1,
             "#276419"
            ]
           ],
           "sequential": [
            [
             0,
             "#0d0887"
            ],
            [
             0.1111111111111111,
             "#46039f"
            ],
            [
             0.2222222222222222,
             "#7201a8"
            ],
            [
             0.3333333333333333,
             "#9c179e"
            ],
            [
             0.4444444444444444,
             "#bd3786"
            ],
            [
             0.5555555555555556,
             "#d8576b"
            ],
            [
             0.6666666666666666,
             "#ed7953"
            ],
            [
             0.7777777777777778,
             "#fb9f3a"
            ],
            [
             0.8888888888888888,
             "#fdca26"
            ],
            [
             1,
             "#f0f921"
            ]
           ],
           "sequentialminus": [
            [
             0,
             "#0d0887"
            ],
            [
             0.1111111111111111,
             "#46039f"
            ],
            [
             0.2222222222222222,
             "#7201a8"
            ],
            [
             0.3333333333333333,
             "#9c179e"
            ],
            [
             0.4444444444444444,
             "#bd3786"
            ],
            [
             0.5555555555555556,
             "#d8576b"
            ],
            [
             0.6666666666666666,
             "#ed7953"
            ],
            [
             0.7777777777777778,
             "#fb9f3a"
            ],
            [
             0.8888888888888888,
             "#fdca26"
            ],
            [
             1,
             "#f0f921"
            ]
           ]
          },
          "colorway": [
           "#636efa",
           "#EF553B",
           "#00cc96",
           "#ab63fa",
           "#FFA15A",
           "#19d3f3",
           "#FF6692",
           "#B6E880",
           "#FF97FF",
           "#FECB52"
          ],
          "font": {
           "color": "#2a3f5f"
          },
          "geo": {
           "bgcolor": "white",
           "lakecolor": "white",
           "landcolor": "white",
           "showlakes": true,
           "showland": true,
           "subunitcolor": "#C8D4E3"
          },
          "hoverlabel": {
           "align": "left"
          },
          "hovermode": "closest",
          "mapbox": {
           "style": "light"
          },
          "paper_bgcolor": "white",
          "plot_bgcolor": "white",
          "polar": {
           "angularaxis": {
            "gridcolor": "#EBF0F8",
            "linecolor": "#EBF0F8",
            "ticks": ""
           },
           "bgcolor": "white",
           "radialaxis": {
            "gridcolor": "#EBF0F8",
            "linecolor": "#EBF0F8",
            "ticks": ""
           }
          },
          "scene": {
           "xaxis": {
            "backgroundcolor": "white",
            "gridcolor": "#DFE8F3",
            "gridwidth": 2,
            "linecolor": "#EBF0F8",
            "showbackground": true,
            "ticks": "",
            "zerolinecolor": "#EBF0F8"
           },
           "yaxis": {
            "backgroundcolor": "white",
            "gridcolor": "#DFE8F3",
            "gridwidth": 2,
            "linecolor": "#EBF0F8",
            "showbackground": true,
            "ticks": "",
            "zerolinecolor": "#EBF0F8"
           },
           "zaxis": {
            "backgroundcolor": "white",
            "gridcolor": "#DFE8F3",
            "gridwidth": 2,
            "linecolor": "#EBF0F8",
            "showbackground": true,
            "ticks": "",
            "zerolinecolor": "#EBF0F8"
           }
          },
          "shapedefaults": {
           "line": {
            "color": "#2a3f5f"
           }
          },
          "ternary": {
           "aaxis": {
            "gridcolor": "#DFE8F3",
            "linecolor": "#A2B1C6",
            "ticks": ""
           },
           "baxis": {
            "gridcolor": "#DFE8F3",
            "linecolor": "#A2B1C6",
            "ticks": ""
           },
           "bgcolor": "white",
           "caxis": {
            "gridcolor": "#DFE8F3",
            "linecolor": "#A2B1C6",
            "ticks": ""
           }
          },
          "title": {
           "x": 0.05
          },
          "xaxis": {
           "automargin": true,
           "gridcolor": "#EBF0F8",
           "linecolor": "#EBF0F8",
           "ticks": "",
           "title": {
            "standoff": 15
           },
           "zerolinecolor": "#EBF0F8",
           "zerolinewidth": 2
          },
          "yaxis": {
           "automargin": true,
           "gridcolor": "#EBF0F8",
           "linecolor": "#EBF0F8",
           "ticks": "",
           "title": {
            "standoff": 15
           },
           "zerolinecolor": "#EBF0F8",
           "zerolinewidth": 2
          }
         }
        },
        "title": {
         "text": "PSI over Time by Variable"
        },
        "xaxis": {
         "title": {
          "text": "Period"
         }
        },
        "yaxis": {
         "title": {
          "text": "Population Stability Index"
         }
        }
       }
      }
     },
     "metadata": {},
     "output_type": "display_data"
    }
   ],
   "source": [
    "evaluator.plot_psi()"
   ]
  },
  {
   "cell_type": "code",
   "execution_count": null,
   "metadata": {},
   "outputs": [],
   "source": [
    "evaluator.plot_ks()"
   ]
  },
  {
   "cell_type": "code",
   "execution_count": null,
   "metadata": {},
   "outputs": [],
   "source": [
    "evaluator.plot_group_radar()"
   ]
  },
  {
   "cell_type": "code",
   "execution_count": null,
   "metadata": {},
   "outputs": [],
   "source": [
    "evaluator.plot_decile_ks()"
   ]
  },
  {
   "cell_type": "markdown",
   "metadata": {},
   "source": [
    "### Teste de Stress"
   ]
  },
  {
   "cell_type": "code",
   "execution_count": null,
   "metadata": {},
   "outputs": [],
   "source": [
    "gen = SyntheticVintageGenerator(id_cols=['id'], date_cols=['date']).fit(train)\n",
    "evaluator.synthetic_gen = gen\n",
    "stress = evaluator.run_stress_test()\n",
    "stress['metrics']"
   ]
  }
 ],
 "metadata": {
  "kernelspec": {
   "display_name": "ENV_STONE",
   "language": "python",
   "name": "python3"
  },
  "language_info": {
   "codemirror_mode": {
    "name": "ipython",
    "version": 3
   },
   "file_extension": ".py",
   "mimetype": "text/x-python",
   "name": "python",
   "nbconvert_exporter": "python",
   "pygments_lexer": "ipython3",
   "version": "3.10.16"
  }
 },
 "nbformat": 4,
 "nbformat_minor": 5
}
