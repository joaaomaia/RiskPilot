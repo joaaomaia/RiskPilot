{
 "cells": [
  {
   "cell_type": "markdown",
   "metadata": {},
   "source": [
    "# Binary Performance Evaluator – Demo Completo"
   ]
  },
  {
   "cell_type": "markdown",
   "metadata": {},
   "source": [
    "Neste exemplo vamos treinar um classificador simples e explorar várias funcionalidades do `BinaryPerformanceEvaluator`. Usaremos dados sintéticos."
   ]
  },
  {
   "cell_type": "code",
   "execution_count": 26,
   "metadata": {},
   "outputs": [],
   "source": [
    "import numpy as np\n",
    "import pandas as pd\n",
    "from sklearn.model_selection import train_test_split\n",
    "from sklearn.linear_model import LogisticRegression\n",
    "from sklearn.tree import DecisionTreeClassifier\n",
    "from xgboost import XGBClassifier\n",
    "from lightgbm import LGBMClassifier\n",
    "from riskpilot.evaluation import BinaryPerformanceEvaluator\n",
    "from riskpilot.synthetic import SyntheticVintageGenerator\n",
    "\n",
    "from sklearn.utils.class_weight import compute_sample_weight"
   ]
  },
  {
   "cell_type": "code",
   "execution_count": 27,
   "metadata": {},
   "outputs": [],
   "source": [
    "# --------------------------------------------------\n",
    "# 1. CONFIGURAÇÕES\n",
    "# --------------------------------------------------\n",
    "FILE_PATH = \"../../datasets/lending_club/accepted_2007_to_2018Q4.csv\"\n",
    "NROWS     = 10_000\n",
    "TARGET_RAW = \"loan_status\"          # coluna original\n",
    "TARGET     = \"target\"               # nome final binário\n",
    "\n",
    "# --------------------------------------------------\n",
    "# 2. LEITURA E CONVERSÃO DE TIPOS MISTOS\n",
    "# --------------------------------------------------\n",
    "def read_and_clean_csv_mixed_types(path, nrows=None, verbose=True):\n",
    "    df = pd.read_csv(path, low_memory=False, nrows=nrows)\n",
    "\n",
    "    # identificar colunas com tipos mistos\n",
    "    for col in df.columns:\n",
    "        types = df[col].dropna().map(type).value_counts()\n",
    "        if len(types) > 1 and verbose:\n",
    "            print(f\"[!] '{col}' com múltiplos tipos: {dict(types)}\")\n",
    "\n",
    "        # tentativa de conversão automática p/ numérico\n",
    "        if len(types) > 1:\n",
    "            try:\n",
    "                df[col] = pd.to_numeric(df[col], errors=\"coerce\")\n",
    "            except Exception:\n",
    "                df[col] = df[col].astype(str)\n",
    "\n",
    "    return df\n",
    "\n",
    "df = read_and_clean_csv_mixed_types(FILE_PATH, nrows=NROWS)\n",
    "\n",
    "# drop de colunas não usadas (caso existam)\n",
    "df.drop(columns=[c for c in [\"member_id\"] if c in df.columns], inplace=True)\n",
    "\n",
    "# --------------------------------------------------\n",
    "# 3. TARGET BINÁRIO\n",
    "# --------------------------------------------------\n",
    "bad_status = [\"Charged Off\", \"Default\", \"Late (31-120 days)\"]\n",
    "df[TARGET] = df[TARGET_RAW].isin(bad_status).astype(int)\n",
    "\n",
    "# --------------------------------------------------\n",
    "# 4. DATA E ID\n",
    "# --------------------------------------------------\n",
    "#df[\"date\"] = pd.to_datetime(df[\"issue_d\"], format=\"%b-%Y\", errors=\"coerce\")\n",
    "\n",
    "df[\"date\"] = pd.to_datetime('202201', format=\"%Y%M\", errors=\"coerce\")\n",
    "\n",
    "df.drop(columns=[\"issue_d\", TARGET_RAW], inplace=True)\n",
    "\n",
    "df.reset_index(drop=False, inplace=True)   # index ➜ nova coluna\n",
    "\n",
    "# --------------------------------------------------\n",
    "# 5. FEATURES NUMÉRICAS + IMPUTAÇÃO\n",
    "# --------------------------------------------------\n",
    "numeric_cols = df.select_dtypes(include=[np.number]).columns.drop([\"id\", TARGET])\n",
    "na_threshold = 0.30\n",
    "valid_cols = numeric_cols[df[numeric_cols].isna().mean() < na_threshold].tolist()\n",
    "valid_cols.remove('index')\n",
    "\n",
    "df[valid_cols] = df[valid_cols].fillna(df[valid_cols].median())\n",
    "\n",
    "# --------------------------------------------------\n",
    "# 6. DATAFRAME FINAL\n",
    "# --------------------------------------------------\n",
    "\n",
    "FEATURES = [\n",
    "    \"funded_amnt_inv\",\n",
    "    \"annual_inc\",\n",
    "    \"dti\",\n",
    "    \"fico_range_high\",\n",
    "    \"out_prncp_inv\",\n",
    "    \"total_rec_prncp\",\n",
    "    \"last_pymnt_amnt\",\n",
    "    \"last_fico_range_low\",\n",
    "    \"acc_open_past_24mths\",\n",
    "    \"avg_cur_bal\",\n",
    "    \"bc_open_to_buy\",\n",
    "    \"mo_sin_old_rev_tl_op\",\n",
    "    \"mo_sin_rcnt_rev_tl_op\",\n",
    "    \"mo_sin_rcnt_tl\",\n",
    "    \"mort_acc\",\n",
    "    \"mths_since_recent_bc\",\n",
    "    \"mths_since_recent_inq\",\n",
    "    \"num_tl_op_past_12m\",\n",
    "    \"percent_bc_gt_75\",\n",
    "    \"total_bc_limit\",\n",
    "    #\"sub_grade\"\n",
    "]\n",
    "\n",
    "ID_COLS = ['id']\n",
    "\n",
    "IGNORE_COLS = ['member_id']\n",
    "\n",
    "DATE_COLS = ['date']\n",
    "\n",
    "# --------------------------------------------------\n",
    "# Preparar dataset base\n",
    "# --------------------------------------------------\n",
    "df_model = df[ID_COLS+DATE_COLS+[TARGET] + FEATURES].dropna().copy()"
   ]
  },
  {
   "cell_type": "code",
   "execution_count": 28,
   "id": "771f86e2",
   "metadata": {},
   "outputs": [
    {
     "data": {
      "text/plain": [
       "['id']"
      ]
     },
     "execution_count": 28,
     "metadata": {},
     "output_type": "execute_result"
    }
   ],
   "source": [
    "ID_COLS"
   ]
  },
  {
   "cell_type": "code",
   "execution_count": 29,
   "id": "ab7ee715",
   "metadata": {},
   "outputs": [],
   "source": [
    "import numpy as np\n",
    "from riskpilot.synthetic import SyntheticVintageGenerator\n",
    "\n",
    "gen = SyntheticVintageGenerator(\n",
    "    id_cols=ID_COLS,\n",
    "    date_cols=DATE_COLS\n",
    ").fit(df_model)"
   ]
  },
  {
   "cell_type": "code",
   "execution_count": 30,
   "id": "db7e97e3",
   "metadata": {},
   "outputs": [
    {
     "data": {
      "text/html": [
       "<div>\n",
       "<style scoped>\n",
       "    .dataframe tbody tr th:only-of-type {\n",
       "        vertical-align: middle;\n",
       "    }\n",
       "\n",
       "    .dataframe tbody tr th {\n",
       "        vertical-align: top;\n",
       "    }\n",
       "\n",
       "    .dataframe thead th {\n",
       "        text-align: right;\n",
       "    }\n",
       "</style>\n",
       "<table border=\"1\" class=\"dataframe\">\n",
       "  <thead>\n",
       "    <tr style=\"text-align: right;\">\n",
       "      <th></th>\n",
       "      <th>id</th>\n",
       "      <th>date</th>\n",
       "      <th>target</th>\n",
       "      <th>funded_amnt_inv</th>\n",
       "      <th>annual_inc</th>\n",
       "      <th>dti</th>\n",
       "      <th>fico_range_high</th>\n",
       "      <th>out_prncp_inv</th>\n",
       "      <th>total_rec_prncp</th>\n",
       "      <th>last_pymnt_amnt</th>\n",
       "      <th>...</th>\n",
       "      <th>bc_open_to_buy</th>\n",
       "      <th>mo_sin_old_rev_tl_op</th>\n",
       "      <th>mo_sin_rcnt_rev_tl_op</th>\n",
       "      <th>mo_sin_rcnt_tl</th>\n",
       "      <th>mort_acc</th>\n",
       "      <th>mths_since_recent_bc</th>\n",
       "      <th>mths_since_recent_inq</th>\n",
       "      <th>num_tl_op_past_12m</th>\n",
       "      <th>percent_bc_gt_75</th>\n",
       "      <th>total_bc_limit</th>\n",
       "    </tr>\n",
       "  </thead>\n",
       "  <tbody>\n",
       "    <tr>\n",
       "      <th>0</th>\n",
       "      <td>2324c0858cf74899ac1183a9eb510575</td>\n",
       "      <td>2025-06-30</td>\n",
       "      <td>0</td>\n",
       "      <td>14000.0</td>\n",
       "      <td>85000.000000</td>\n",
       "      <td>20.879445</td>\n",
       "      <td>719.0</td>\n",
       "      <td>0.000000</td>\n",
       "      <td>6000.000000</td>\n",
       "      <td>153.384186</td>\n",
       "      <td>...</td>\n",
       "      <td>55108.782525</td>\n",
       "      <td>113.000000</td>\n",
       "      <td>9.0</td>\n",
       "      <td>3.000000</td>\n",
       "      <td>0</td>\n",
       "      <td>13.000000</td>\n",
       "      <td>10.0</td>\n",
       "      <td>0.0</td>\n",
       "      <td>20.0</td>\n",
       "      <td>66535.584554</td>\n",
       "    </tr>\n",
       "    <tr>\n",
       "      <th>1</th>\n",
       "      <td>cd6a2d22605744a2a148a672a73dde33</td>\n",
       "      <td>2025-06-30</td>\n",
       "      <td>0</td>\n",
       "      <td>3600.0</td>\n",
       "      <td>20000.000000</td>\n",
       "      <td>33.714352</td>\n",
       "      <td>749.0</td>\n",
       "      <td>0.000000</td>\n",
       "      <td>3600.000000</td>\n",
       "      <td>349.960981</td>\n",
       "      <td>...</td>\n",
       "      <td>39525.028911</td>\n",
       "      <td>182.000000</td>\n",
       "      <td>11.0</td>\n",
       "      <td>7.000000</td>\n",
       "      <td>4</td>\n",
       "      <td>48.560176</td>\n",
       "      <td>6.0</td>\n",
       "      <td>2.0</td>\n",
       "      <td>40.0</td>\n",
       "      <td>56732.646926</td>\n",
       "    </tr>\n",
       "    <tr>\n",
       "      <th>2</th>\n",
       "      <td>88830529b21b4d319c273bd3eea09b4d</td>\n",
       "      <td>2025-06-30</td>\n",
       "      <td>0</td>\n",
       "      <td>22000.0</td>\n",
       "      <td>93729.007573</td>\n",
       "      <td>7.507042</td>\n",
       "      <td>779.0</td>\n",
       "      <td>0.000000</td>\n",
       "      <td>25928.546227</td>\n",
       "      <td>1022.251910</td>\n",
       "      <td>...</td>\n",
       "      <td>62975.413678</td>\n",
       "      <td>124.000000</td>\n",
       "      <td>7.0</td>\n",
       "      <td>3.000000</td>\n",
       "      <td>2</td>\n",
       "      <td>13.000000</td>\n",
       "      <td>9.0</td>\n",
       "      <td>4.0</td>\n",
       "      <td>0.0</td>\n",
       "      <td>81510.172189</td>\n",
       "    </tr>\n",
       "    <tr>\n",
       "      <th>3</th>\n",
       "      <td>640fd3ce09bb42749ad7acbf3f070bd7</td>\n",
       "      <td>2025-06-30</td>\n",
       "      <td>0</td>\n",
       "      <td>12000.0</td>\n",
       "      <td>62000.000000</td>\n",
       "      <td>11.164088</td>\n",
       "      <td>664.0</td>\n",
       "      <td>0.000000</td>\n",
       "      <td>11845.130528</td>\n",
       "      <td>10152.251155</td>\n",
       "      <td>...</td>\n",
       "      <td>3127.573686</td>\n",
       "      <td>136.288064</td>\n",
       "      <td>0.0</td>\n",
       "      <td>0.000000</td>\n",
       "      <td>0</td>\n",
       "      <td>0.000000</td>\n",
       "      <td>2.0</td>\n",
       "      <td>8.0</td>\n",
       "      <td>66.7</td>\n",
       "      <td>18700.000000</td>\n",
       "    </tr>\n",
       "    <tr>\n",
       "      <th>4</th>\n",
       "      <td>fd23945b4fe24d3b86484ca6def88f27</td>\n",
       "      <td>2025-06-30</td>\n",
       "      <td>0</td>\n",
       "      <td>4800.0</td>\n",
       "      <td>45000.000000</td>\n",
       "      <td>10.931047</td>\n",
       "      <td>704.0</td>\n",
       "      <td>5912.087373</td>\n",
       "      <td>494.051448</td>\n",
       "      <td>0.623031</td>\n",
       "      <td>...</td>\n",
       "      <td>0.000000</td>\n",
       "      <td>254.186744</td>\n",
       "      <td>25.0</td>\n",
       "      <td>28.760823</td>\n",
       "      <td>6</td>\n",
       "      <td>30.000000</td>\n",
       "      <td>5.0</td>\n",
       "      <td>0.0</td>\n",
       "      <td>100.0</td>\n",
       "      <td>11500.000000</td>\n",
       "    </tr>\n",
       "  </tbody>\n",
       "</table>\n",
       "<p>5 rows × 23 columns</p>\n",
       "</div>"
      ],
      "text/plain": [
       "                                 id       date  target  funded_amnt_inv  \\\n",
       "0  2324c0858cf74899ac1183a9eb510575 2025-06-30       0          14000.0   \n",
       "1  cd6a2d22605744a2a148a672a73dde33 2025-06-30       0           3600.0   \n",
       "2  88830529b21b4d319c273bd3eea09b4d 2025-06-30       0          22000.0   \n",
       "3  640fd3ce09bb42749ad7acbf3f070bd7 2025-06-30       0          12000.0   \n",
       "4  fd23945b4fe24d3b86484ca6def88f27 2025-06-30       0           4800.0   \n",
       "\n",
       "     annual_inc        dti  fico_range_high  out_prncp_inv  total_rec_prncp  \\\n",
       "0  85000.000000  20.879445            719.0       0.000000      6000.000000   \n",
       "1  20000.000000  33.714352            749.0       0.000000      3600.000000   \n",
       "2  93729.007573   7.507042            779.0       0.000000     25928.546227   \n",
       "3  62000.000000  11.164088            664.0       0.000000     11845.130528   \n",
       "4  45000.000000  10.931047            704.0    5912.087373       494.051448   \n",
       "\n",
       "   last_pymnt_amnt  ...  bc_open_to_buy  mo_sin_old_rev_tl_op  \\\n",
       "0       153.384186  ...    55108.782525            113.000000   \n",
       "1       349.960981  ...    39525.028911            182.000000   \n",
       "2      1022.251910  ...    62975.413678            124.000000   \n",
       "3     10152.251155  ...     3127.573686            136.288064   \n",
       "4         0.623031  ...        0.000000            254.186744   \n",
       "\n",
       "   mo_sin_rcnt_rev_tl_op  mo_sin_rcnt_tl  mort_acc  mths_since_recent_bc  \\\n",
       "0                    9.0        3.000000         0             13.000000   \n",
       "1                   11.0        7.000000         4             48.560176   \n",
       "2                    7.0        3.000000         2             13.000000   \n",
       "3                    0.0        0.000000         0              0.000000   \n",
       "4                   25.0       28.760823         6             30.000000   \n",
       "\n",
       "   mths_since_recent_inq  num_tl_op_past_12m  percent_bc_gt_75  total_bc_limit  \n",
       "0                   10.0                 0.0              20.0    66535.584554  \n",
       "1                    6.0                 2.0              40.0    56732.646926  \n",
       "2                    9.0                 4.0               0.0    81510.172189  \n",
       "3                    2.0                 8.0              66.7    18700.000000  \n",
       "4                    5.0                 0.0             100.0    11500.000000  \n",
       "\n",
       "[5 rows x 23 columns]"
      ]
     },
     "execution_count": 30,
     "metadata": {},
     "output_type": "execute_result"
    }
   ],
   "source": [
    "synthetic = gen.generate(\n",
    "    n_periods=36,\n",
    "    freq='ME',\n",
    "    scenario='stress')\n",
    "synthetic.head()"
   ]
  },
  {
   "cell_type": "code",
   "execution_count": 31,
   "id": "dc15d83d",
   "metadata": {},
   "outputs": [],
   "source": [
    "# --------------------------------------------------\n",
    "# 2. Split treino / teste\n",
    "# --------------------------------------------------\n",
    "train_idx, test_idx = train_test_split(\n",
    "    df_model.index,\n",
    "    test_size=0.30,\n",
    "    stratify=df_model[TARGET],\n",
    "    random_state=42,\n",
    ")\n",
    "\n",
    "# Criar df_train e df_test primeiro\n",
    "df_train = df_model.loc[train_idx].copy()\n",
    "df_test  = df_model.loc[test_idx].copy()\n",
    "\n",
    "# Depois extrair X e y a partir dos DataFrames\n",
    "X_train, y_train = df_train[FEATURES], df_train[TARGET]\n",
    "X_test , y_test  = df_test[FEATURES] , df_test[TARGET]"
   ]
  },
  {
   "cell_type": "code",
   "execution_count": 32,
   "id": "0f0a0eec",
   "metadata": {},
   "outputs": [
    {
     "name": "stdout",
     "output_type": "stream",
     "text": [
      "Colunas 'object' restantes em X_train: Series([], dtype: object)\n",
      "Colunas 'object' restantes em df_test: Series([], dtype: object)\n"
     ]
    }
   ],
   "source": [
    "# --------------------------------------------------\n",
    "# Garantir cópias independentes dos conjuntos de treino e teste\n",
    "# --------------------------------------------------\n",
    "X_train = df_train[FEATURES].copy()\n",
    "X_test = df_test[FEATURES].copy()\n",
    "\n",
    "# --------------------------------------------------\n",
    "# Converter colunas categóricas (tipo object) para 'category' em X e df\n",
    "# --------------------------------------------------\n",
    "def convert_object_to_category(df):\n",
    "    obj_cols = df.select_dtypes(include='object').columns\n",
    "    df[obj_cols] = df[obj_cols].astype('category')\n",
    "    return df\n",
    "\n",
    "# Aplicar nos conjuntos usados no modelo\n",
    "X_train = convert_object_to_category(X_train)\n",
    "X_test = convert_object_to_category(X_test)\n",
    "\n",
    "# Garantir que df_train e df_test também estejam com tipos consistentes\n",
    "df_train = convert_object_to_category(df_train)\n",
    "df_test = convert_object_to_category(df_test)\n",
    "\n",
    "# --------------------------------------------------\n",
    "# Verificações finais\n",
    "# --------------------------------------------------\n",
    "print(\"Colunas 'object' restantes em X_train:\", X_train.dtypes[X_train.dtypes == 'object'])\n",
    "print(\"Colunas 'object' restantes em df_test:\", df_test.dtypes[df_test.dtypes == 'object'])\n"
   ]
  },
  {
   "cell_type": "code",
   "execution_count": 33,
   "id": "54283e46",
   "metadata": {},
   "outputs": [],
   "source": [
    "num_cols = df_train.select_dtypes(include=[float, int]).columns.tolist()\n",
    "\n",
    "for col in ['index', 'id', TARGET]:\n",
    "    try:\n",
    "        num_cols.remove(col)\n",
    "    except:\n",
    "        pass   "
   ]
  },
  {
   "cell_type": "code",
   "execution_count": 34,
   "id": "c955d81b",
   "metadata": {},
   "outputs": [
    {
     "name": "stderr",
     "output_type": "stream",
     "text": [
      "INFO: Ignoring columns (no scaling): ['target', 'id']\n",
      "WARNING: Ignoring non-numeric columns: ['date', 'target', 'id']\n"
     ]
    },
    {
     "name": "stdout",
     "output_type": "stream",
     "text": [
      "\n",
      "Resumo das decisões por feature:\n"
     ]
    },
    {
     "data": {
      "text/html": [
       "<div>\n",
       "<style scoped>\n",
       "    .dataframe tbody tr th:only-of-type {\n",
       "        vertical-align: middle;\n",
       "    }\n",
       "\n",
       "    .dataframe tbody tr th {\n",
       "        vertical-align: top;\n",
       "    }\n",
       "\n",
       "    .dataframe thead th {\n",
       "        text-align: right;\n",
       "    }\n",
       "</style>\n",
       "<table border=\"1\" class=\"dataframe\">\n",
       "  <thead>\n",
       "    <tr style=\"text-align: right;\">\n",
       "      <th></th>\n",
       "      <th>chosen_scaler</th>\n",
       "      <th>validation_stats</th>\n",
       "      <th>ignored</th>\n",
       "      <th>candidates_tried</th>\n",
       "      <th>reason</th>\n",
       "    </tr>\n",
       "  </thead>\n",
       "  <tbody>\n",
       "    <tr>\n",
       "      <th>funded_amnt_inv</th>\n",
       "      <td>None</td>\n",
       "      <td>{'post_std': nan, 'post_iqr': nan, 'post_n_uni...</td>\n",
       "      <td>[]</td>\n",
       "      <td>[PowerTransformer, QuantileTransformer, Robust...</td>\n",
       "      <td>all_rejected</td>\n",
       "    </tr>\n",
       "    <tr>\n",
       "      <th>annual_inc</th>\n",
       "      <td>PowerTransformer</td>\n",
       "      <td>{'post_std': 1.0, 'post_iqr': 1.25859163507898...</td>\n",
       "      <td>[]</td>\n",
       "      <td>[PowerTransformer]</td>\n",
       "      <td>stats|skew|kurt</td>\n",
       "    </tr>\n",
       "    <tr>\n",
       "      <th>dti</th>\n",
       "      <td>None</td>\n",
       "      <td>{'post_std': nan, 'post_iqr': nan, 'post_n_uni...</td>\n",
       "      <td>[]</td>\n",
       "      <td>[PowerTransformer, QuantileTransformer, Robust...</td>\n",
       "      <td>all_rejected</td>\n",
       "    </tr>\n",
       "    <tr>\n",
       "      <th>fico_range_high</th>\n",
       "      <td>None</td>\n",
       "      <td>{'post_std': nan, 'post_iqr': nan, 'post_n_uni...</td>\n",
       "      <td>[]</td>\n",
       "      <td>[PowerTransformer, QuantileTransformer, Robust...</td>\n",
       "      <td>all_rejected</td>\n",
       "    </tr>\n",
       "    <tr>\n",
       "      <th>out_prncp_inv</th>\n",
       "      <td>None</td>\n",
       "      <td>{'post_std': nan, 'post_iqr': nan, 'post_n_uni...</td>\n",
       "      <td>[]</td>\n",
       "      <td>[PowerTransformer, QuantileTransformer, Robust...</td>\n",
       "      <td>all_rejected</td>\n",
       "    </tr>\n",
       "    <tr>\n",
       "      <th>total_rec_prncp</th>\n",
       "      <td>None</td>\n",
       "      <td>{'post_std': nan, 'post_iqr': nan, 'post_n_uni...</td>\n",
       "      <td>[]</td>\n",
       "      <td>[PowerTransformer, QuantileTransformer, Robust...</td>\n",
       "      <td>all_rejected</td>\n",
       "    </tr>\n",
       "    <tr>\n",
       "      <th>last_pymnt_amnt</th>\n",
       "      <td>PowerTransformer</td>\n",
       "      <td>{'post_std': 1.0, 'post_iqr': 1.57111067419720...</td>\n",
       "      <td>[]</td>\n",
       "      <td>[PowerTransformer]</td>\n",
       "      <td>stats|skew|kurt</td>\n",
       "    </tr>\n",
       "    <tr>\n",
       "      <th>last_fico_range_low</th>\n",
       "      <td>PowerTransformer</td>\n",
       "      <td>{'post_std': 0.9999999999999998, 'post_iqr': 1...</td>\n",
       "      <td>[]</td>\n",
       "      <td>[PowerTransformer]</td>\n",
       "      <td>stats|skew|kurt</td>\n",
       "    </tr>\n",
       "    <tr>\n",
       "      <th>acc_open_past_24mths</th>\n",
       "      <td>None</td>\n",
       "      <td>{'post_std': nan, 'post_iqr': nan, 'post_n_uni...</td>\n",
       "      <td>[]</td>\n",
       "      <td>[PowerTransformer, QuantileTransformer, Robust...</td>\n",
       "      <td>all_rejected</td>\n",
       "    </tr>\n",
       "    <tr>\n",
       "      <th>avg_cur_bal</th>\n",
       "      <td>PowerTransformer</td>\n",
       "      <td>{'post_std': 1.0, 'post_iqr': 1.50721730183757...</td>\n",
       "      <td>[]</td>\n",
       "      <td>[PowerTransformer]</td>\n",
       "      <td>stats|skew|kurt</td>\n",
       "    </tr>\n",
       "    <tr>\n",
       "      <th>bc_open_to_buy</th>\n",
       "      <td>PowerTransformer</td>\n",
       "      <td>{'post_std': 1.0, 'post_iqr': 1.31538951688303...</td>\n",
       "      <td>[]</td>\n",
       "      <td>[PowerTransformer]</td>\n",
       "      <td>stats|skew|kurt</td>\n",
       "    </tr>\n",
       "    <tr>\n",
       "      <th>mo_sin_old_rev_tl_op</th>\n",
       "      <td>QuantileTransformer</td>\n",
       "      <td>{'post_std': 1.0024883396833077, 'post_iqr': 1...</td>\n",
       "      <td>[]</td>\n",
       "      <td>[PowerTransformer, QuantileTransformer]</td>\n",
       "      <td>stats|skew|kurt</td>\n",
       "    </tr>\n",
       "    <tr>\n",
       "      <th>mo_sin_rcnt_rev_tl_op</th>\n",
       "      <td>PowerTransformer</td>\n",
       "      <td>{'post_std': 1.0, 'post_iqr': 1.44155562994203...</td>\n",
       "      <td>[]</td>\n",
       "      <td>[PowerTransformer]</td>\n",
       "      <td>stats|skew|kurt</td>\n",
       "    </tr>\n",
       "    <tr>\n",
       "      <th>mo_sin_rcnt_tl</th>\n",
       "      <td>PowerTransformer</td>\n",
       "      <td>{'post_std': 1.0, 'post_iqr': 1.49029726602493...</td>\n",
       "      <td>[]</td>\n",
       "      <td>[PowerTransformer]</td>\n",
       "      <td>stats|skew|kurt</td>\n",
       "    </tr>\n",
       "    <tr>\n",
       "      <th>mort_acc</th>\n",
       "      <td>PowerTransformer</td>\n",
       "      <td>{'post_std': 1.0, 'post_iqr': 2.10094791524395...</td>\n",
       "      <td>[]</td>\n",
       "      <td>[PowerTransformer]</td>\n",
       "      <td>stats|skew|kurt</td>\n",
       "    </tr>\n",
       "    <tr>\n",
       "      <th>mths_since_recent_bc</th>\n",
       "      <td>PowerTransformer</td>\n",
       "      <td>{'post_std': 1.0, 'post_iqr': 1.46550573846345...</td>\n",
       "      <td>[]</td>\n",
       "      <td>[PowerTransformer]</td>\n",
       "      <td>stats|skew|kurt</td>\n",
       "    </tr>\n",
       "    <tr>\n",
       "      <th>mths_since_recent_inq</th>\n",
       "      <td>None</td>\n",
       "      <td>{'post_std': nan, 'post_iqr': nan, 'post_n_uni...</td>\n",
       "      <td>[]</td>\n",
       "      <td>[PowerTransformer, QuantileTransformer, Robust...</td>\n",
       "      <td>all_rejected</td>\n",
       "    </tr>\n",
       "    <tr>\n",
       "      <th>num_tl_op_past_12m</th>\n",
       "      <td>None</td>\n",
       "      <td>{'post_std': nan, 'post_iqr': nan, 'post_n_uni...</td>\n",
       "      <td>[]</td>\n",
       "      <td>[PowerTransformer, QuantileTransformer, Robust...</td>\n",
       "      <td>all_rejected</td>\n",
       "    </tr>\n",
       "    <tr>\n",
       "      <th>percent_bc_gt_75</th>\n",
       "      <td>PowerTransformer</td>\n",
       "      <td>{'post_std': 0.9999999999999999, 'post_iqr': 2...</td>\n",
       "      <td>[]</td>\n",
       "      <td>[PowerTransformer]</td>\n",
       "      <td>stats|skew|kurt</td>\n",
       "    </tr>\n",
       "    <tr>\n",
       "      <th>total_bc_limit</th>\n",
       "      <td>PowerTransformer</td>\n",
       "      <td>{'post_std': 1.0, 'post_iqr': 1.26811985463548...</td>\n",
       "      <td>[]</td>\n",
       "      <td>[PowerTransformer]</td>\n",
       "      <td>stats|skew|kurt</td>\n",
       "    </tr>\n",
       "  </tbody>\n",
       "</table>\n",
       "</div>"
      ],
      "text/plain": [
       "                             chosen_scaler  \\\n",
       "funded_amnt_inv                       None   \n",
       "annual_inc                PowerTransformer   \n",
       "dti                                   None   \n",
       "fico_range_high                       None   \n",
       "out_prncp_inv                         None   \n",
       "total_rec_prncp                       None   \n",
       "last_pymnt_amnt           PowerTransformer   \n",
       "last_fico_range_low       PowerTransformer   \n",
       "acc_open_past_24mths                  None   \n",
       "avg_cur_bal               PowerTransformer   \n",
       "bc_open_to_buy            PowerTransformer   \n",
       "mo_sin_old_rev_tl_op   QuantileTransformer   \n",
       "mo_sin_rcnt_rev_tl_op     PowerTransformer   \n",
       "mo_sin_rcnt_tl            PowerTransformer   \n",
       "mort_acc                  PowerTransformer   \n",
       "mths_since_recent_bc      PowerTransformer   \n",
       "mths_since_recent_inq                 None   \n",
       "num_tl_op_past_12m                    None   \n",
       "percent_bc_gt_75          PowerTransformer   \n",
       "total_bc_limit            PowerTransformer   \n",
       "\n",
       "                                                        validation_stats  \\\n",
       "funded_amnt_inv        {'post_std': nan, 'post_iqr': nan, 'post_n_uni...   \n",
       "annual_inc             {'post_std': 1.0, 'post_iqr': 1.25859163507898...   \n",
       "dti                    {'post_std': nan, 'post_iqr': nan, 'post_n_uni...   \n",
       "fico_range_high        {'post_std': nan, 'post_iqr': nan, 'post_n_uni...   \n",
       "out_prncp_inv          {'post_std': nan, 'post_iqr': nan, 'post_n_uni...   \n",
       "total_rec_prncp        {'post_std': nan, 'post_iqr': nan, 'post_n_uni...   \n",
       "last_pymnt_amnt        {'post_std': 1.0, 'post_iqr': 1.57111067419720...   \n",
       "last_fico_range_low    {'post_std': 0.9999999999999998, 'post_iqr': 1...   \n",
       "acc_open_past_24mths   {'post_std': nan, 'post_iqr': nan, 'post_n_uni...   \n",
       "avg_cur_bal            {'post_std': 1.0, 'post_iqr': 1.50721730183757...   \n",
       "bc_open_to_buy         {'post_std': 1.0, 'post_iqr': 1.31538951688303...   \n",
       "mo_sin_old_rev_tl_op   {'post_std': 1.0024883396833077, 'post_iqr': 1...   \n",
       "mo_sin_rcnt_rev_tl_op  {'post_std': 1.0, 'post_iqr': 1.44155562994203...   \n",
       "mo_sin_rcnt_tl         {'post_std': 1.0, 'post_iqr': 1.49029726602493...   \n",
       "mort_acc               {'post_std': 1.0, 'post_iqr': 2.10094791524395...   \n",
       "mths_since_recent_bc   {'post_std': 1.0, 'post_iqr': 1.46550573846345...   \n",
       "mths_since_recent_inq  {'post_std': nan, 'post_iqr': nan, 'post_n_uni...   \n",
       "num_tl_op_past_12m     {'post_std': nan, 'post_iqr': nan, 'post_n_uni...   \n",
       "percent_bc_gt_75       {'post_std': 0.9999999999999999, 'post_iqr': 2...   \n",
       "total_bc_limit         {'post_std': 1.0, 'post_iqr': 1.26811985463548...   \n",
       "\n",
       "                      ignored  \\\n",
       "funded_amnt_inv            []   \n",
       "annual_inc                 []   \n",
       "dti                        []   \n",
       "fico_range_high            []   \n",
       "out_prncp_inv              []   \n",
       "total_rec_prncp            []   \n",
       "last_pymnt_amnt            []   \n",
       "last_fico_range_low        []   \n",
       "acc_open_past_24mths       []   \n",
       "avg_cur_bal                []   \n",
       "bc_open_to_buy             []   \n",
       "mo_sin_old_rev_tl_op       []   \n",
       "mo_sin_rcnt_rev_tl_op      []   \n",
       "mo_sin_rcnt_tl             []   \n",
       "mort_acc                   []   \n",
       "mths_since_recent_bc       []   \n",
       "mths_since_recent_inq      []   \n",
       "num_tl_op_past_12m         []   \n",
       "percent_bc_gt_75           []   \n",
       "total_bc_limit             []   \n",
       "\n",
       "                                                        candidates_tried  \\\n",
       "funded_amnt_inv        [PowerTransformer, QuantileTransformer, Robust...   \n",
       "annual_inc                                            [PowerTransformer]   \n",
       "dti                    [PowerTransformer, QuantileTransformer, Robust...   \n",
       "fico_range_high        [PowerTransformer, QuantileTransformer, Robust...   \n",
       "out_prncp_inv          [PowerTransformer, QuantileTransformer, Robust...   \n",
       "total_rec_prncp        [PowerTransformer, QuantileTransformer, Robust...   \n",
       "last_pymnt_amnt                                       [PowerTransformer]   \n",
       "last_fico_range_low                                   [PowerTransformer]   \n",
       "acc_open_past_24mths   [PowerTransformer, QuantileTransformer, Robust...   \n",
       "avg_cur_bal                                           [PowerTransformer]   \n",
       "bc_open_to_buy                                        [PowerTransformer]   \n",
       "mo_sin_old_rev_tl_op             [PowerTransformer, QuantileTransformer]   \n",
       "mo_sin_rcnt_rev_tl_op                                 [PowerTransformer]   \n",
       "mo_sin_rcnt_tl                                        [PowerTransformer]   \n",
       "mort_acc                                              [PowerTransformer]   \n",
       "mths_since_recent_bc                                  [PowerTransformer]   \n",
       "mths_since_recent_inq  [PowerTransformer, QuantileTransformer, Robust...   \n",
       "num_tl_op_past_12m     [PowerTransformer, QuantileTransformer, Robust...   \n",
       "percent_bc_gt_75                                      [PowerTransformer]   \n",
       "total_bc_limit                                        [PowerTransformer]   \n",
       "\n",
       "                                reason  \n",
       "funded_amnt_inv           all_rejected  \n",
       "annual_inc             stats|skew|kurt  \n",
       "dti                       all_rejected  \n",
       "fico_range_high           all_rejected  \n",
       "out_prncp_inv             all_rejected  \n",
       "total_rec_prncp           all_rejected  \n",
       "last_pymnt_amnt        stats|skew|kurt  \n",
       "last_fico_range_low    stats|skew|kurt  \n",
       "acc_open_past_24mths      all_rejected  \n",
       "avg_cur_bal            stats|skew|kurt  \n",
       "bc_open_to_buy         stats|skew|kurt  \n",
       "mo_sin_old_rev_tl_op   stats|skew|kurt  \n",
       "mo_sin_rcnt_rev_tl_op  stats|skew|kurt  \n",
       "mo_sin_rcnt_tl         stats|skew|kurt  \n",
       "mort_acc               stats|skew|kurt  \n",
       "mths_since_recent_bc   stats|skew|kurt  \n",
       "mths_since_recent_inq     all_rejected  \n",
       "num_tl_op_past_12m        all_rejected  \n",
       "percent_bc_gt_75       stats|skew|kurt  \n",
       "total_bc_limit         stats|skew|kurt  "
      ]
     },
     "metadata": {},
     "output_type": "display_data"
    }
   ],
   "source": [
    "# Aplicar o DynamicScaler no treino\n",
    "from riskpilot.utils.scaler import DynamicScaler\n",
    "scaler = DynamicScaler(\n",
    "    strategy=\"auto\",\n",
    "    shapiro_p_val = 0.01, # se aumentar fica mais restritiva a escolha de StandardScaler()\n",
    "    #serialize=True,\n",
    "    #save_path=\"scalers.pkl\", # arquivo com informações de escalonamento salvas \n",
    "    random_state=42,\n",
    "    ignore_cols=ID_COLS+IGNORE_COLS+DATE_COLS+[TARGET]\n",
    ")\n",
    "\n",
    "scaler.fit(df_train)\n",
    "\n",
    "# Relatório das decisões\n",
    "print(\"\\nResumo das decisões por feature:\")\n",
    "display(scaler.report_as_df())"
   ]
  },
  {
   "cell_type": "code",
   "execution_count": 35,
   "id": "1533e978",
   "metadata": {},
   "outputs": [
    {
     "data": {
      "text/plain": [
       "funded_amnt_inv          [PowerTransformer, QuantileTransformer, Robust...\n",
       "annual_inc                                              [PowerTransformer]\n",
       "dti                      [PowerTransformer, QuantileTransformer, Robust...\n",
       "fico_range_high          [PowerTransformer, QuantileTransformer, Robust...\n",
       "out_prncp_inv            [PowerTransformer, QuantileTransformer, Robust...\n",
       "total_rec_prncp          [PowerTransformer, QuantileTransformer, Robust...\n",
       "last_pymnt_amnt                                         [PowerTransformer]\n",
       "last_fico_range_low                                     [PowerTransformer]\n",
       "acc_open_past_24mths     [PowerTransformer, QuantileTransformer, Robust...\n",
       "avg_cur_bal                                             [PowerTransformer]\n",
       "bc_open_to_buy                                          [PowerTransformer]\n",
       "mo_sin_old_rev_tl_op               [PowerTransformer, QuantileTransformer]\n",
       "mo_sin_rcnt_rev_tl_op                                   [PowerTransformer]\n",
       "mo_sin_rcnt_tl                                          [PowerTransformer]\n",
       "mort_acc                                                [PowerTransformer]\n",
       "mths_since_recent_bc                                    [PowerTransformer]\n",
       "mths_since_recent_inq    [PowerTransformer, QuantileTransformer, Robust...\n",
       "num_tl_op_past_12m       [PowerTransformer, QuantileTransformer, Robust...\n",
       "percent_bc_gt_75                                        [PowerTransformer]\n",
       "total_bc_limit                                          [PowerTransformer]\n",
       "Name: candidates_tried, dtype: object"
      ]
     },
     "execution_count": 35,
     "metadata": {},
     "output_type": "execute_result"
    }
   ],
   "source": [
    "scaler.report_as_df()['candidates_tried']"
   ]
  },
  {
   "cell_type": "code",
   "execution_count": 36,
   "id": "42b96416",
   "metadata": {},
   "outputs": [
    {
     "data": {
      "text/html": [
       "<div>\n",
       "<style scoped>\n",
       "    .dataframe tbody tr th:only-of-type {\n",
       "        vertical-align: middle;\n",
       "    }\n",
       "\n",
       "    .dataframe tbody tr th {\n",
       "        vertical-align: top;\n",
       "    }\n",
       "\n",
       "    .dataframe thead th {\n",
       "        text-align: right;\n",
       "    }\n",
       "</style>\n",
       "<table border=\"1\" class=\"dataframe\">\n",
       "  <thead>\n",
       "    <tr style=\"text-align: right;\">\n",
       "      <th></th>\n",
       "      <th>funded_amnt_inv</th>\n",
       "      <th>annual_inc</th>\n",
       "      <th>dti</th>\n",
       "      <th>fico_range_high</th>\n",
       "      <th>out_prncp_inv</th>\n",
       "      <th>total_rec_prncp</th>\n",
       "      <th>last_pymnt_amnt</th>\n",
       "      <th>last_fico_range_low</th>\n",
       "      <th>acc_open_past_24mths</th>\n",
       "      <th>avg_cur_bal</th>\n",
       "      <th>bc_open_to_buy</th>\n",
       "      <th>mo_sin_old_rev_tl_op</th>\n",
       "      <th>mo_sin_rcnt_rev_tl_op</th>\n",
       "      <th>mo_sin_rcnt_tl</th>\n",
       "      <th>mort_acc</th>\n",
       "      <th>mths_since_recent_bc</th>\n",
       "      <th>mths_since_recent_inq</th>\n",
       "      <th>num_tl_op_past_12m</th>\n",
       "      <th>percent_bc_gt_75</th>\n",
       "      <th>total_bc_limit</th>\n",
       "    </tr>\n",
       "  </thead>\n",
       "  <tbody>\n",
       "    <tr>\n",
       "      <th>6440</th>\n",
       "      <td>15550.0</td>\n",
       "      <td>53000.0</td>\n",
       "      <td>32.72</td>\n",
       "      <td>704.0</td>\n",
       "      <td>0.0</td>\n",
       "      <td>1924.93</td>\n",
       "      <td>395.89</td>\n",
       "      <td>0.0</td>\n",
       "      <td>7.0</td>\n",
       "      <td>2571.0</td>\n",
       "      <td>1297.0</td>\n",
       "      <td>172.0</td>\n",
       "      <td>8.0</td>\n",
       "      <td>4.0</td>\n",
       "      <td>2.0</td>\n",
       "      <td>8.0</td>\n",
       "      <td>8.0</td>\n",
       "      <td>3.0</td>\n",
       "      <td>100.0</td>\n",
       "      <td>7300.0</td>\n",
       "    </tr>\n",
       "    <tr>\n",
       "      <th>582</th>\n",
       "      <td>5000.0</td>\n",
       "      <td>85000.0</td>\n",
       "      <td>8.28</td>\n",
       "      <td>674.0</td>\n",
       "      <td>0.0</td>\n",
       "      <td>5000.00</td>\n",
       "      <td>2742.11</td>\n",
       "      <td>650.0</td>\n",
       "      <td>2.0</td>\n",
       "      <td>50544.0</td>\n",
       "      <td>1773.0</td>\n",
       "      <td>301.0</td>\n",
       "      <td>2.0</td>\n",
       "      <td>2.0</td>\n",
       "      <td>6.0</td>\n",
       "      <td>2.0</td>\n",
       "      <td>0.0</td>\n",
       "      <td>2.0</td>\n",
       "      <td>0.0</td>\n",
       "      <td>2100.0</td>\n",
       "    </tr>\n",
       "    <tr>\n",
       "      <th>4660</th>\n",
       "      <td>6000.0</td>\n",
       "      <td>80000.0</td>\n",
       "      <td>6.78</td>\n",
       "      <td>664.0</td>\n",
       "      <td>0.0</td>\n",
       "      <td>6000.00</td>\n",
       "      <td>5967.67</td>\n",
       "      <td>690.0</td>\n",
       "      <td>2.0</td>\n",
       "      <td>4044.0</td>\n",
       "      <td>21.0</td>\n",
       "      <td>363.0</td>\n",
       "      <td>3.0</td>\n",
       "      <td>3.0</td>\n",
       "      <td>2.0</td>\n",
       "      <td>3.0</td>\n",
       "      <td>3.0</td>\n",
       "      <td>2.0</td>\n",
       "      <td>100.0</td>\n",
       "      <td>2000.0</td>\n",
       "    </tr>\n",
       "    <tr>\n",
       "      <th>8753</th>\n",
       "      <td>8000.0</td>\n",
       "      <td>44000.0</td>\n",
       "      <td>12.25</td>\n",
       "      <td>689.0</td>\n",
       "      <td>0.0</td>\n",
       "      <td>8000.00</td>\n",
       "      <td>265.52</td>\n",
       "      <td>670.0</td>\n",
       "      <td>5.0</td>\n",
       "      <td>1092.0</td>\n",
       "      <td>423.0</td>\n",
       "      <td>102.0</td>\n",
       "      <td>2.0</td>\n",
       "      <td>2.0</td>\n",
       "      <td>0.0</td>\n",
       "      <td>48.0</td>\n",
       "      <td>4.0</td>\n",
       "      <td>4.0</td>\n",
       "      <td>100.0</td>\n",
       "      <td>1800.0</td>\n",
       "    </tr>\n",
       "    <tr>\n",
       "      <th>8045</th>\n",
       "      <td>2000.0</td>\n",
       "      <td>38000.0</td>\n",
       "      <td>20.56</td>\n",
       "      <td>739.0</td>\n",
       "      <td>0.0</td>\n",
       "      <td>2000.00</td>\n",
       "      <td>62.23</td>\n",
       "      <td>640.0</td>\n",
       "      <td>1.0</td>\n",
       "      <td>2072.0</td>\n",
       "      <td>13487.0</td>\n",
       "      <td>110.0</td>\n",
       "      <td>26.0</td>\n",
       "      <td>13.0</td>\n",
       "      <td>0.0</td>\n",
       "      <td>26.0</td>\n",
       "      <td>19.0</td>\n",
       "      <td>0.0</td>\n",
       "      <td>20.0</td>\n",
       "      <td>19900.0</td>\n",
       "    </tr>\n",
       "  </tbody>\n",
       "</table>\n",
       "</div>"
      ],
      "text/plain": [
       "      funded_amnt_inv  annual_inc    dti  fico_range_high  out_prncp_inv  \\\n",
       "6440          15550.0     53000.0  32.72            704.0            0.0   \n",
       "582            5000.0     85000.0   8.28            674.0            0.0   \n",
       "4660           6000.0     80000.0   6.78            664.0            0.0   \n",
       "8753           8000.0     44000.0  12.25            689.0            0.0   \n",
       "8045           2000.0     38000.0  20.56            739.0            0.0   \n",
       "\n",
       "      total_rec_prncp  last_pymnt_amnt  last_fico_range_low  \\\n",
       "6440          1924.93           395.89                  0.0   \n",
       "582           5000.00          2742.11                650.0   \n",
       "4660          6000.00          5967.67                690.0   \n",
       "8753          8000.00           265.52                670.0   \n",
       "8045          2000.00            62.23                640.0   \n",
       "\n",
       "      acc_open_past_24mths  avg_cur_bal  bc_open_to_buy  mo_sin_old_rev_tl_op  \\\n",
       "6440                   7.0       2571.0          1297.0                 172.0   \n",
       "582                    2.0      50544.0          1773.0                 301.0   \n",
       "4660                   2.0       4044.0            21.0                 363.0   \n",
       "8753                   5.0       1092.0           423.0                 102.0   \n",
       "8045                   1.0       2072.0         13487.0                 110.0   \n",
       "\n",
       "      mo_sin_rcnt_rev_tl_op  mo_sin_rcnt_tl  mort_acc  mths_since_recent_bc  \\\n",
       "6440                    8.0             4.0       2.0                   8.0   \n",
       "582                     2.0             2.0       6.0                   2.0   \n",
       "4660                    3.0             3.0       2.0                   3.0   \n",
       "8753                    2.0             2.0       0.0                  48.0   \n",
       "8045                   26.0            13.0       0.0                  26.0   \n",
       "\n",
       "      mths_since_recent_inq  num_tl_op_past_12m  percent_bc_gt_75  \\\n",
       "6440                    8.0                 3.0             100.0   \n",
       "582                     0.0                 2.0               0.0   \n",
       "4660                    3.0                 2.0             100.0   \n",
       "8753                    4.0                 4.0             100.0   \n",
       "8045                   19.0                 0.0              20.0   \n",
       "\n",
       "      total_bc_limit  \n",
       "6440          7300.0  \n",
       "582           2100.0  \n",
       "4660          2000.0  \n",
       "8753          1800.0  \n",
       "8045         19900.0  "
      ]
     },
     "metadata": {},
     "output_type": "display_data"
    },
    {
     "name": "stderr",
     "output_type": "stream",
     "text": [
      "INFO: Untouched columns preserved: ['date', 'target', 'id']\n"
     ]
    },
    {
     "name": "stdout",
     "output_type": "stream",
     "text": [
      "\n",
      "Exemplo de dados escalados (treino):\n"
     ]
    },
    {
     "data": {
      "text/html": [
       "<div>\n",
       "<style scoped>\n",
       "    .dataframe tbody tr th:only-of-type {\n",
       "        vertical-align: middle;\n",
       "    }\n",
       "\n",
       "    .dataframe tbody tr th {\n",
       "        vertical-align: top;\n",
       "    }\n",
       "\n",
       "    .dataframe thead th {\n",
       "        text-align: right;\n",
       "    }\n",
       "</style>\n",
       "<table border=\"1\" class=\"dataframe\">\n",
       "  <thead>\n",
       "    <tr style=\"text-align: right;\">\n",
       "      <th></th>\n",
       "      <th>funded_amnt_inv</th>\n",
       "      <th>annual_inc</th>\n",
       "      <th>dti</th>\n",
       "      <th>fico_range_high</th>\n",
       "      <th>out_prncp_inv</th>\n",
       "      <th>total_rec_prncp</th>\n",
       "      <th>last_pymnt_amnt</th>\n",
       "      <th>last_fico_range_low</th>\n",
       "      <th>acc_open_past_24mths</th>\n",
       "      <th>avg_cur_bal</th>\n",
       "      <th>bc_open_to_buy</th>\n",
       "      <th>mo_sin_old_rev_tl_op</th>\n",
       "      <th>mo_sin_rcnt_rev_tl_op</th>\n",
       "      <th>mo_sin_rcnt_tl</th>\n",
       "      <th>mort_acc</th>\n",
       "      <th>mths_since_recent_bc</th>\n",
       "      <th>mths_since_recent_inq</th>\n",
       "      <th>num_tl_op_past_12m</th>\n",
       "      <th>percent_bc_gt_75</th>\n",
       "      <th>total_bc_limit</th>\n",
       "    </tr>\n",
       "  </thead>\n",
       "  <tbody>\n",
       "    <tr>\n",
       "      <th>6440</th>\n",
       "      <td>15550.0</td>\n",
       "      <td>-0.457281</td>\n",
       "      <td>32.72</td>\n",
       "      <td>704.0</td>\n",
       "      <td>0.0</td>\n",
       "      <td>1924.93</td>\n",
       "      <td>-0.632941</td>\n",
       "      <td>-3.672808</td>\n",
       "      <td>7.0</td>\n",
       "      <td>-0.966288</td>\n",
       "      <td>-0.797710</td>\n",
       "      <td>0.045180</td>\n",
       "      <td>0.084247</td>\n",
       "      <td>-0.165189</td>\n",
       "      <td>0.591133</td>\n",
       "      <td>-0.392183</td>\n",
       "      <td>8.0</td>\n",
       "      <td>3.0</td>\n",
       "      <td>1.244780</td>\n",
       "      <td>-0.774825</td>\n",
       "    </tr>\n",
       "    <tr>\n",
       "      <th>582</th>\n",
       "      <td>5000.0</td>\n",
       "      <td>0.444742</td>\n",
       "      <td>8.28</td>\n",
       "      <td>674.0</td>\n",
       "      <td>0.0</td>\n",
       "      <td>5000.00</td>\n",
       "      <td>0.379891</td>\n",
       "      <td>-0.309933</td>\n",
       "      <td>2.0</td>\n",
       "      <td>1.792006</td>\n",
       "      <td>-0.642909</td>\n",
       "      <td>1.159515</td>\n",
       "      <td>-1.028981</td>\n",
       "      <td>-0.813399</td>\n",
       "      <td>1.607872</td>\n",
       "      <td>-1.428347</td>\n",
       "      <td>0.0</td>\n",
       "      <td>2.0</td>\n",
       "      <td>-1.490288</td>\n",
       "      <td>-1.596509</td>\n",
       "    </tr>\n",
       "    <tr>\n",
       "      <th>4660</th>\n",
       "      <td>6000.0</td>\n",
       "      <td>0.330593</td>\n",
       "      <td>6.78</td>\n",
       "      <td>664.0</td>\n",
       "      <td>0.0</td>\n",
       "      <td>6000.00</td>\n",
       "      <td>0.844349</td>\n",
       "      <td>0.139826</td>\n",
       "      <td>2.0</td>\n",
       "      <td>-0.597450</td>\n",
       "      <td>-2.095093</td>\n",
       "      <td>1.630850</td>\n",
       "      <td>-0.733502</td>\n",
       "      <td>-0.445587</td>\n",
       "      <td>0.591133</td>\n",
       "      <td>-1.155398</td>\n",
       "      <td>3.0</td>\n",
       "      <td>2.0</td>\n",
       "      <td>1.244780</td>\n",
       "      <td>-1.622986</td>\n",
       "    </tr>\n",
       "    <tr>\n",
       "      <th>8753</th>\n",
       "      <td>8000.0</td>\n",
       "      <td>-0.820729</td>\n",
       "      <td>12.25</td>\n",
       "      <td>689.0</td>\n",
       "      <td>0.0</td>\n",
       "      <td>8000.00</td>\n",
       "      <td>-0.818827</td>\n",
       "      <td>-0.088757</td>\n",
       "      <td>5.0</td>\n",
       "      <td>-1.619834</td>\n",
       "      <td>-1.273633</td>\n",
       "      <td>-1.004131</td>\n",
       "      <td>-1.028981</td>\n",
       "      <td>-0.813399</td>\n",
       "      <td>-1.136794</td>\n",
       "      <td>1.173640</td>\n",
       "      <td>4.0</td>\n",
       "      <td>4.0</td>\n",
       "      <td>1.244780</td>\n",
       "      <td>-1.678890</td>\n",
       "    </tr>\n",
       "    <tr>\n",
       "      <th>8045</th>\n",
       "      <td>2000.0</td>\n",
       "      <td>-1.110307</td>\n",
       "      <td>20.56</td>\n",
       "      <td>739.0</td>\n",
       "      <td>0.0</td>\n",
       "      <td>2000.00</td>\n",
       "      <td>-1.433181</td>\n",
       "      <td>-0.417751</td>\n",
       "      <td>1.0</td>\n",
       "      <td>-1.136258</td>\n",
       "      <td>0.662181</td>\n",
       "      <td>-0.864365</td>\n",
       "      <td>1.157264</td>\n",
       "      <td>1.075069</td>\n",
       "      <td>-1.136794</td>\n",
       "      <td>0.627386</td>\n",
       "      <td>19.0</td>\n",
       "      <td>0.0</td>\n",
       "      <td>-0.303982</td>\n",
       "      <td>0.142283</td>\n",
       "    </tr>\n",
       "  </tbody>\n",
       "</table>\n",
       "</div>"
      ],
      "text/plain": [
       "      funded_amnt_inv  annual_inc    dti  fico_range_high  out_prncp_inv  \\\n",
       "6440          15550.0   -0.457281  32.72            704.0            0.0   \n",
       "582            5000.0    0.444742   8.28            674.0            0.0   \n",
       "4660           6000.0    0.330593   6.78            664.0            0.0   \n",
       "8753           8000.0   -0.820729  12.25            689.0            0.0   \n",
       "8045           2000.0   -1.110307  20.56            739.0            0.0   \n",
       "\n",
       "      total_rec_prncp  last_pymnt_amnt  last_fico_range_low  \\\n",
       "6440          1924.93        -0.632941            -3.672808   \n",
       "582           5000.00         0.379891            -0.309933   \n",
       "4660          6000.00         0.844349             0.139826   \n",
       "8753          8000.00        -0.818827            -0.088757   \n",
       "8045          2000.00        -1.433181            -0.417751   \n",
       "\n",
       "      acc_open_past_24mths  avg_cur_bal  bc_open_to_buy  mo_sin_old_rev_tl_op  \\\n",
       "6440                   7.0    -0.966288       -0.797710              0.045180   \n",
       "582                    2.0     1.792006       -0.642909              1.159515   \n",
       "4660                   2.0    -0.597450       -2.095093              1.630850   \n",
       "8753                   5.0    -1.619834       -1.273633             -1.004131   \n",
       "8045                   1.0    -1.136258        0.662181             -0.864365   \n",
       "\n",
       "      mo_sin_rcnt_rev_tl_op  mo_sin_rcnt_tl  mort_acc  mths_since_recent_bc  \\\n",
       "6440               0.084247       -0.165189  0.591133             -0.392183   \n",
       "582               -1.028981       -0.813399  1.607872             -1.428347   \n",
       "4660              -0.733502       -0.445587  0.591133             -1.155398   \n",
       "8753              -1.028981       -0.813399 -1.136794              1.173640   \n",
       "8045               1.157264        1.075069 -1.136794              0.627386   \n",
       "\n",
       "      mths_since_recent_inq  num_tl_op_past_12m  percent_bc_gt_75  \\\n",
       "6440                    8.0                 3.0          1.244780   \n",
       "582                     0.0                 2.0         -1.490288   \n",
       "4660                    3.0                 2.0          1.244780   \n",
       "8753                    4.0                 4.0          1.244780   \n",
       "8045                   19.0                 0.0         -0.303982   \n",
       "\n",
       "      total_bc_limit  \n",
       "6440       -0.774825  \n",
       "582        -1.596509  \n",
       "4660       -1.622986  \n",
       "8753       -1.678890  \n",
       "8045        0.142283  "
      ]
     },
     "metadata": {},
     "output_type": "display_data"
    }
   ],
   "source": [
    "display(X_train.head())\n",
    "\n",
    "# 5. Transformar o conjunto de treino\n",
    "df_train_scaled = scaler.transform(df_train, return_df=True)\n",
    "X_train_scaled = scaler.transform(X_train, return_df=True)\n",
    "\n",
    "print(\"\\nExemplo de dados escalados (treino):\")\n",
    "display(X_train_scaled.head())"
   ]
  },
  {
   "cell_type": "code",
   "execution_count": 37,
   "id": "4bacd8fa",
   "metadata": {},
   "outputs": [
    {
     "data": {
      "text/html": [
       "<div>\n",
       "<style scoped>\n",
       "    .dataframe tbody tr th:only-of-type {\n",
       "        vertical-align: middle;\n",
       "    }\n",
       "\n",
       "    .dataframe tbody tr th {\n",
       "        vertical-align: top;\n",
       "    }\n",
       "\n",
       "    .dataframe thead th {\n",
       "        text-align: right;\n",
       "    }\n",
       "</style>\n",
       "<table border=\"1\" class=\"dataframe\">\n",
       "  <thead>\n",
       "    <tr style=\"text-align: right;\">\n",
       "      <th></th>\n",
       "      <th>funded_amnt_inv</th>\n",
       "      <th>annual_inc</th>\n",
       "      <th>dti</th>\n",
       "      <th>fico_range_high</th>\n",
       "      <th>out_prncp_inv</th>\n",
       "      <th>total_rec_prncp</th>\n",
       "      <th>last_pymnt_amnt</th>\n",
       "      <th>last_fico_range_low</th>\n",
       "      <th>acc_open_past_24mths</th>\n",
       "      <th>avg_cur_bal</th>\n",
       "      <th>bc_open_to_buy</th>\n",
       "      <th>mo_sin_old_rev_tl_op</th>\n",
       "      <th>mo_sin_rcnt_rev_tl_op</th>\n",
       "      <th>mo_sin_rcnt_tl</th>\n",
       "      <th>mort_acc</th>\n",
       "      <th>mths_since_recent_bc</th>\n",
       "      <th>mths_since_recent_inq</th>\n",
       "      <th>num_tl_op_past_12m</th>\n",
       "      <th>percent_bc_gt_75</th>\n",
       "      <th>total_bc_limit</th>\n",
       "    </tr>\n",
       "  </thead>\n",
       "  <tbody>\n",
       "    <tr>\n",
       "      <th>5787</th>\n",
       "      <td>15000.0</td>\n",
       "      <td>55000.0</td>\n",
       "      <td>11.63</td>\n",
       "      <td>714.0</td>\n",
       "      <td>0.0</td>\n",
       "      <td>15000.0</td>\n",
       "      <td>3456.96</td>\n",
       "      <td>650.0</td>\n",
       "      <td>5.0</td>\n",
       "      <td>1987.0</td>\n",
       "      <td>7094.0</td>\n",
       "      <td>131.0</td>\n",
       "      <td>12.0</td>\n",
       "      <td>8.0</td>\n",
       "      <td>0.0</td>\n",
       "      <td>12.0</td>\n",
       "      <td>12.0</td>\n",
       "      <td>3.0</td>\n",
       "      <td>16.7</td>\n",
       "      <td>15900.0</td>\n",
       "    </tr>\n",
       "    <tr>\n",
       "      <th>8238</th>\n",
       "      <td>12000.0</td>\n",
       "      <td>50000.0</td>\n",
       "      <td>19.25</td>\n",
       "      <td>719.0</td>\n",
       "      <td>0.0</td>\n",
       "      <td>12000.0</td>\n",
       "      <td>7745.48</td>\n",
       "      <td>735.0</td>\n",
       "      <td>1.0</td>\n",
       "      <td>16492.0</td>\n",
       "      <td>11752.0</td>\n",
       "      <td>189.0</td>\n",
       "      <td>29.0</td>\n",
       "      <td>16.0</td>\n",
       "      <td>3.0</td>\n",
       "      <td>123.0</td>\n",
       "      <td>3.0</td>\n",
       "      <td>0.0</td>\n",
       "      <td>50.0</td>\n",
       "      <td>20700.0</td>\n",
       "    </tr>\n",
       "    <tr>\n",
       "      <th>5574</th>\n",
       "      <td>1500.0</td>\n",
       "      <td>93000.0</td>\n",
       "      <td>33.40</td>\n",
       "      <td>709.0</td>\n",
       "      <td>0.0</td>\n",
       "      <td>1500.0</td>\n",
       "      <td>1.24</td>\n",
       "      <td>655.0</td>\n",
       "      <td>2.0</td>\n",
       "      <td>22156.0</td>\n",
       "      <td>5546.0</td>\n",
       "      <td>307.0</td>\n",
       "      <td>19.0</td>\n",
       "      <td>4.0</td>\n",
       "      <td>3.0</td>\n",
       "      <td>19.0</td>\n",
       "      <td>5.0</td>\n",
       "      <td>1.0</td>\n",
       "      <td>85.7</td>\n",
       "      <td>73300.0</td>\n",
       "    </tr>\n",
       "    <tr>\n",
       "      <th>5644</th>\n",
       "      <td>20000.0</td>\n",
       "      <td>51450.0</td>\n",
       "      <td>27.83</td>\n",
       "      <td>699.0</td>\n",
       "      <td>0.0</td>\n",
       "      <td>20000.0</td>\n",
       "      <td>1302.57</td>\n",
       "      <td>740.0</td>\n",
       "      <td>3.0</td>\n",
       "      <td>7616.0</td>\n",
       "      <td>0.0</td>\n",
       "      <td>240.0</td>\n",
       "      <td>2.0</td>\n",
       "      <td>2.0</td>\n",
       "      <td>0.0</td>\n",
       "      <td>16.0</td>\n",
       "      <td>2.0</td>\n",
       "      <td>1.0</td>\n",
       "      <td>100.0</td>\n",
       "      <td>22100.0</td>\n",
       "    </tr>\n",
       "    <tr>\n",
       "      <th>790</th>\n",
       "      <td>4500.0</td>\n",
       "      <td>39600.0</td>\n",
       "      <td>22.82</td>\n",
       "      <td>709.0</td>\n",
       "      <td>0.0</td>\n",
       "      <td>4500.0</td>\n",
       "      <td>4437.16</td>\n",
       "      <td>605.0</td>\n",
       "      <td>1.0</td>\n",
       "      <td>18737.0</td>\n",
       "      <td>115.0</td>\n",
       "      <td>113.0</td>\n",
       "      <td>45.0</td>\n",
       "      <td>17.0</td>\n",
       "      <td>1.0</td>\n",
       "      <td>45.0</td>\n",
       "      <td>5.0</td>\n",
       "      <td>0.0</td>\n",
       "      <td>100.0</td>\n",
       "      <td>9100.0</td>\n",
       "    </tr>\n",
       "  </tbody>\n",
       "</table>\n",
       "</div>"
      ],
      "text/plain": [
       "      funded_amnt_inv  annual_inc    dti  fico_range_high  out_prncp_inv  \\\n",
       "5787          15000.0     55000.0  11.63            714.0            0.0   \n",
       "8238          12000.0     50000.0  19.25            719.0            0.0   \n",
       "5574           1500.0     93000.0  33.40            709.0            0.0   \n",
       "5644          20000.0     51450.0  27.83            699.0            0.0   \n",
       "790            4500.0     39600.0  22.82            709.0            0.0   \n",
       "\n",
       "      total_rec_prncp  last_pymnt_amnt  last_fico_range_low  \\\n",
       "5787          15000.0          3456.96                650.0   \n",
       "8238          12000.0          7745.48                735.0   \n",
       "5574           1500.0             1.24                655.0   \n",
       "5644          20000.0          1302.57                740.0   \n",
       "790            4500.0          4437.16                605.0   \n",
       "\n",
       "      acc_open_past_24mths  avg_cur_bal  bc_open_to_buy  mo_sin_old_rev_tl_op  \\\n",
       "5787                   5.0       1987.0          7094.0                 131.0   \n",
       "8238                   1.0      16492.0         11752.0                 189.0   \n",
       "5574                   2.0      22156.0          5546.0                 307.0   \n",
       "5644                   3.0       7616.0             0.0                 240.0   \n",
       "790                    1.0      18737.0           115.0                 113.0   \n",
       "\n",
       "      mo_sin_rcnt_rev_tl_op  mo_sin_rcnt_tl  mort_acc  mths_since_recent_bc  \\\n",
       "5787                   12.0             8.0       0.0                  12.0   \n",
       "8238                   29.0            16.0       3.0                 123.0   \n",
       "5574                   19.0             4.0       3.0                  19.0   \n",
       "5644                    2.0             2.0       0.0                  16.0   \n",
       "790                    45.0            17.0       1.0                  45.0   \n",
       "\n",
       "      mths_since_recent_inq  num_tl_op_past_12m  percent_bc_gt_75  \\\n",
       "5787                   12.0                 3.0              16.7   \n",
       "8238                    3.0                 0.0              50.0   \n",
       "5574                    5.0                 1.0              85.7   \n",
       "5644                    2.0                 1.0             100.0   \n",
       "790                     5.0                 0.0             100.0   \n",
       "\n",
       "      total_bc_limit  \n",
       "5787         15900.0  \n",
       "8238         20700.0  \n",
       "5574         73300.0  \n",
       "5644         22100.0  \n",
       "790           9100.0  "
      ]
     },
     "metadata": {},
     "output_type": "display_data"
    },
    {
     "name": "stderr",
     "output_type": "stream",
     "text": [
      "INFO: Untouched columns preserved: ['date', 'target', 'id']\n"
     ]
    },
    {
     "name": "stdout",
     "output_type": "stream",
     "text": [
      "\n",
      "Exemplo de dados escalados (treino):\n"
     ]
    },
    {
     "data": {
      "text/html": [
       "<div>\n",
       "<style scoped>\n",
       "    .dataframe tbody tr th:only-of-type {\n",
       "        vertical-align: middle;\n",
       "    }\n",
       "\n",
       "    .dataframe tbody tr th {\n",
       "        vertical-align: top;\n",
       "    }\n",
       "\n",
       "    .dataframe thead th {\n",
       "        text-align: right;\n",
       "    }\n",
       "</style>\n",
       "<table border=\"1\" class=\"dataframe\">\n",
       "  <thead>\n",
       "    <tr style=\"text-align: right;\">\n",
       "      <th></th>\n",
       "      <th>funded_amnt_inv</th>\n",
       "      <th>annual_inc</th>\n",
       "      <th>dti</th>\n",
       "      <th>fico_range_high</th>\n",
       "      <th>out_prncp_inv</th>\n",
       "      <th>total_rec_prncp</th>\n",
       "      <th>last_pymnt_amnt</th>\n",
       "      <th>last_fico_range_low</th>\n",
       "      <th>acc_open_past_24mths</th>\n",
       "      <th>avg_cur_bal</th>\n",
       "      <th>bc_open_to_buy</th>\n",
       "      <th>mo_sin_old_rev_tl_op</th>\n",
       "      <th>mo_sin_rcnt_rev_tl_op</th>\n",
       "      <th>mo_sin_rcnt_tl</th>\n",
       "      <th>mort_acc</th>\n",
       "      <th>mths_since_recent_bc</th>\n",
       "      <th>mths_since_recent_inq</th>\n",
       "      <th>num_tl_op_past_12m</th>\n",
       "      <th>percent_bc_gt_75</th>\n",
       "      <th>total_bc_limit</th>\n",
       "    </tr>\n",
       "  </thead>\n",
       "  <tbody>\n",
       "    <tr>\n",
       "      <th>5787</th>\n",
       "      <td>15000.0</td>\n",
       "      <td>-0.385490</td>\n",
       "      <td>11.63</td>\n",
       "      <td>714.0</td>\n",
       "      <td>0.0</td>\n",
       "      <td>15000.0</td>\n",
       "      <td>0.514573</td>\n",
       "      <td>-0.309933</td>\n",
       "      <td>5.0</td>\n",
       "      <td>-1.168833</td>\n",
       "      <td>0.185454</td>\n",
       "      <td>-0.496390</td>\n",
       "      <td>0.447809</td>\n",
       "      <td>0.553431</td>\n",
       "      <td>-1.136794</td>\n",
       "      <td>-0.049081</td>\n",
       "      <td>12.0</td>\n",
       "      <td>3.0</td>\n",
       "      <td>-0.418408</td>\n",
       "      <td>-0.086890</td>\n",
       "    </tr>\n",
       "    <tr>\n",
       "      <th>8238</th>\n",
       "      <td>12000.0</td>\n",
       "      <td>-0.570581</td>\n",
       "      <td>19.25</td>\n",
       "      <td>719.0</td>\n",
       "      <td>0.0</td>\n",
       "      <td>12000.0</td>\n",
       "      <td>1.008182</td>\n",
       "      <td>0.681335</td>\n",
       "      <td>1.0</td>\n",
       "      <td>0.658471</td>\n",
       "      <td>0.554349</td>\n",
       "      <td>0.253606</td>\n",
       "      <td>1.258111</td>\n",
       "      <td>1.299399</td>\n",
       "      <td>0.963359</td>\n",
       "      <td>2.015154</td>\n",
       "      <td>3.0</td>\n",
       "      <td>0.0</td>\n",
       "      <td>0.443548</td>\n",
       "      <td>0.184111</td>\n",
       "    </tr>\n",
       "    <tr>\n",
       "      <th>5574</th>\n",
       "      <td>1500.0</td>\n",
       "      <td>0.613235</td>\n",
       "      <td>33.40</td>\n",
       "      <td>709.0</td>\n",
       "      <td>0.0</td>\n",
       "      <td>1500.0</td>\n",
       "      <td>-2.566437</td>\n",
       "      <td>-0.255332</td>\n",
       "      <td>2.0</td>\n",
       "      <td>0.945200</td>\n",
       "      <td>0.019657</td>\n",
       "      <td>1.204935</td>\n",
       "      <td>0.868059</td>\n",
       "      <td>-0.165189</td>\n",
       "      <td>0.963359</td>\n",
       "      <td>0.350505</td>\n",
       "      <td>5.0</td>\n",
       "      <td>1.0</td>\n",
       "      <td>1.045108</td>\n",
       "      <td>1.817012</td>\n",
       "    </tr>\n",
       "    <tr>\n",
       "      <th>5644</th>\n",
       "      <td>20000.0</td>\n",
       "      <td>-0.514938</td>\n",
       "      <td>27.83</td>\n",
       "      <td>699.0</td>\n",
       "      <td>0.0</td>\n",
       "      <td>20000.0</td>\n",
       "      <td>-0.032711</td>\n",
       "      <td>0.743836</td>\n",
       "      <td>3.0</td>\n",
       "      <td>-0.053431</td>\n",
       "      <td>-2.541752</td>\n",
       "      <td>0.694311</td>\n",
       "      <td>-1.028981</td>\n",
       "      <td>-0.813399</td>\n",
       "      <td>-1.136794</td>\n",
       "      <td>0.200053</td>\n",
       "      <td>2.0</td>\n",
       "      <td>1.0</td>\n",
       "      <td>1.244780</td>\n",
       "      <td>0.254637</td>\n",
       "    </tr>\n",
       "    <tr>\n",
       "      <th>790</th>\n",
       "      <td>4500.0</td>\n",
       "      <td>-1.028548</td>\n",
       "      <td>22.82</td>\n",
       "      <td>709.0</td>\n",
       "      <td>0.0</td>\n",
       "      <td>4500.0</td>\n",
       "      <td>0.663164</td>\n",
       "      <td>-0.780621</td>\n",
       "      <td>1.0</td>\n",
       "      <td>0.781393</td>\n",
       "      <td>-1.698542</td>\n",
       "      <td>-0.810910</td>\n",
       "      <td>1.663611</td>\n",
       "      <td>1.364880</td>\n",
       "      <td>0.013599</td>\n",
       "      <td>1.115959</td>\n",
       "      <td>5.0</td>\n",
       "      <td>0.0</td>\n",
       "      <td>1.244780</td>\n",
       "      <td>-0.595669</td>\n",
       "    </tr>\n",
       "  </tbody>\n",
       "</table>\n",
       "</div>"
      ],
      "text/plain": [
       "      funded_amnt_inv  annual_inc    dti  fico_range_high  out_prncp_inv  \\\n",
       "5787          15000.0   -0.385490  11.63            714.0            0.0   \n",
       "8238          12000.0   -0.570581  19.25            719.0            0.0   \n",
       "5574           1500.0    0.613235  33.40            709.0            0.0   \n",
       "5644          20000.0   -0.514938  27.83            699.0            0.0   \n",
       "790            4500.0   -1.028548  22.82            709.0            0.0   \n",
       "\n",
       "      total_rec_prncp  last_pymnt_amnt  last_fico_range_low  \\\n",
       "5787          15000.0         0.514573            -0.309933   \n",
       "8238          12000.0         1.008182             0.681335   \n",
       "5574           1500.0        -2.566437            -0.255332   \n",
       "5644          20000.0        -0.032711             0.743836   \n",
       "790            4500.0         0.663164            -0.780621   \n",
       "\n",
       "      acc_open_past_24mths  avg_cur_bal  bc_open_to_buy  mo_sin_old_rev_tl_op  \\\n",
       "5787                   5.0    -1.168833        0.185454             -0.496390   \n",
       "8238                   1.0     0.658471        0.554349              0.253606   \n",
       "5574                   2.0     0.945200        0.019657              1.204935   \n",
       "5644                   3.0    -0.053431       -2.541752              0.694311   \n",
       "790                    1.0     0.781393       -1.698542             -0.810910   \n",
       "\n",
       "      mo_sin_rcnt_rev_tl_op  mo_sin_rcnt_tl  mort_acc  mths_since_recent_bc  \\\n",
       "5787               0.447809        0.553431 -1.136794             -0.049081   \n",
       "8238               1.258111        1.299399  0.963359              2.015154   \n",
       "5574               0.868059       -0.165189  0.963359              0.350505   \n",
       "5644              -1.028981       -0.813399 -1.136794              0.200053   \n",
       "790                1.663611        1.364880  0.013599              1.115959   \n",
       "\n",
       "      mths_since_recent_inq  num_tl_op_past_12m  percent_bc_gt_75  \\\n",
       "5787                   12.0                 3.0         -0.418408   \n",
       "8238                    3.0                 0.0          0.443548   \n",
       "5574                    5.0                 1.0          1.045108   \n",
       "5644                    2.0                 1.0          1.244780   \n",
       "790                     5.0                 0.0          1.244780   \n",
       "\n",
       "      total_bc_limit  \n",
       "5787       -0.086890  \n",
       "8238        0.184111  \n",
       "5574        1.817012  \n",
       "5644        0.254637  \n",
       "790        -0.595669  "
      ]
     },
     "metadata": {},
     "output_type": "display_data"
    }
   ],
   "source": [
    "display(X_test.head())\n",
    "\n",
    "# 5. Transformar o conjunto de treino\n",
    "df_test_scaled = scaler.transform(df_test, return_df=True)\n",
    "X_test_scaled = scaler.transform(X_test, return_df=True)\n",
    "\n",
    "print(\"\\nExemplo de dados escalados (treino):\")\n",
    "display(X_test_scaled.head())"
   ]
  },
  {
   "cell_type": "code",
   "execution_count": 49,
   "id": "2472fa54",
   "metadata": {},
   "outputs": [],
   "source": [
    "# # Visualizar\n",
    "# scaler.plot_histograms(\n",
    "#     df_train,\n",
    "#     X_train_scaled,\n",
    "#     features=num_cols)"
   ]
  },
  {
   "cell_type": "code",
   "execution_count": 39,
   "id": "5e4b67fa",
   "metadata": {},
   "outputs": [],
   "source": [
    "# encoder = WOEGuard(\n",
    "#     categorical_cols=categorical_cols,\n",
    "#     drop_original=True,       # mantém ou remove colunas originais\n",
    "#     suffix='_woe',            # sufixo para as novas colunas\n",
    "#     alpha=0.5,                # suavização Laplace\n",
    "#     default_woe=0.0,          # WoE default para categorias novas\n",
    "#     include_nan=True          # trata NaN como categoria separada\n",
    "# )"
   ]
  },
  {
   "cell_type": "code",
   "execution_count": 40,
   "id": "115645bf",
   "metadata": {},
   "outputs": [],
   "source": [
    "# # 2. Ajustar e transformar\n",
    "# df_transformed = encoder.fit_transform(\n",
    "#     X=df[categorical_cols], # a lista de colunas não precisa ser igual à categorical_cols, mas somente as que forem instanciadas no WOEGuard que serão codificadas.\n",
    "#     y=df[TARGET]\n",
    "# )\n",
    "# display(df_transformed)"
   ]
  },
  {
   "cell_type": "code",
   "execution_count": 41,
   "id": "0e73d52a",
   "metadata": {},
   "outputs": [],
   "source": [
    "sample_weights_train = compute_sample_weight(class_weight='balanced', y=y_train)\n",
    "\n",
    "# # Modelo 1: Regressão Logística\n",
    "# model1 = LogisticRegression(\n",
    "#     max_iter=2000,\n",
    "#     solver='lbfgs',\n",
    "#     class_weight=None,      # Removido porque vamos usar sample_weight manualmente\n",
    "#     C=1.0\n",
    "# )\n",
    "# model1.fit(X_train, y_train, sample_weight=sample_weights_train)\n",
    "\n",
    "\n",
    "# Modelo 2: XGBoost\n",
    "\n",
    "\n",
    "model2 = XGBClassifier(\n",
    "    n_estimators=150,\n",
    "    #class_weights='balanced',\n",
    "    learning_rate=0.05,\n",
    "    max_depth=5,\n",
    "    subsample=0.85,\n",
    "    colsample_bytree=0.80,\n",
    "    #scale_pos_weight=1.0,\n",
    "    eval_metric='logloss',\n",
    "    random_state=42,\n",
    "    n_jobs=-1,\n",
    "    #enable_categorical=True,\n",
    "    #tree_method='hist'  # necessário com enable_categorical=True\n",
    ")\n",
    "model2.fit(\n",
    "    X_train_scaled,\n",
    "    y_train,\n",
    "    sample_weight=sample_weights_train\n",
    "    );"
   ]
  },
  {
   "cell_type": "code",
   "execution_count": 42,
   "id": "ed77aa39",
   "metadata": {},
   "outputs": [],
   "source": [
    "# gambiarra rapida\n",
    "#df_train = pd.concat([X_train_scaled, y_train], axis=1)\n",
    "#df_test = pd.concat([X_test_scaled, y_train], axis=1)"
   ]
  },
  {
   "cell_type": "code",
   "execution_count": 50,
   "id": "b41417db",
   "metadata": {},
   "outputs": [
    {
     "data": {
      "text/plain": [
       "(7000, 23)"
      ]
     },
     "execution_count": 50,
     "metadata": {},
     "output_type": "execute_result"
    }
   ],
   "source": [
    "df_train.shape"
   ]
  },
  {
   "cell_type": "code",
   "execution_count": 43,
   "metadata": {},
   "outputs": [],
   "source": [
    "evaluator = BinaryPerformanceEvaluator(\n",
    "    model=model2,\n",
    "    df_train=df_train,\n",
    "    df_test=df_test,\n",
    "    target_col='target',\n",
    "    id_cols=['id'],\n",
    "    date_col='date',\n",
    "    homogeneous_group='auto'\n",
    "    #group_col='group'\n",
    ")"
   ]
  },
  {
   "cell_type": "code",
   "execution_count": 44,
   "metadata": {},
   "outputs": [
    {
     "data": {
      "text/html": [
       "<div>\n",
       "<style scoped>\n",
       "    .dataframe tbody tr th:only-of-type {\n",
       "        vertical-align: middle;\n",
       "    }\n",
       "\n",
       "    .dataframe tbody tr th {\n",
       "        vertical-align: top;\n",
       "    }\n",
       "\n",
       "    .dataframe thead th {\n",
       "        text-align: right;\n",
       "    }\n",
       "</style>\n",
       "<table border=\"1\" class=\"dataframe\">\n",
       "  <thead>\n",
       "    <tr style=\"text-align: right;\">\n",
       "      <th></th>\n",
       "      <th>MCC</th>\n",
       "      <th>AUC_ROC</th>\n",
       "      <th>AUC_PR</th>\n",
       "      <th>Precision</th>\n",
       "      <th>Recall</th>\n",
       "      <th>Brier</th>\n",
       "    </tr>\n",
       "    <tr>\n",
       "      <th>Split</th>\n",
       "      <th></th>\n",
       "      <th></th>\n",
       "      <th></th>\n",
       "      <th></th>\n",
       "      <th></th>\n",
       "      <th></th>\n",
       "    </tr>\n",
       "  </thead>\n",
       "  <tbody>\n",
       "    <tr>\n",
       "      <th>Train</th>\n",
       "      <td>-0.697713</td>\n",
       "      <td>0.014128</td>\n",
       "      <td>0.094472</td>\n",
       "      <td>0.090909</td>\n",
       "      <td>0.464516</td>\n",
       "      <td>0.879471</td>\n",
       "    </tr>\n",
       "    <tr>\n",
       "      <th>Test</th>\n",
       "      <td>-0.665637</td>\n",
       "      <td>0.019514</td>\n",
       "      <td>0.094615</td>\n",
       "      <td>0.098576</td>\n",
       "      <td>0.508475</td>\n",
       "      <td>0.874006</td>\n",
       "    </tr>\n",
       "  </tbody>\n",
       "</table>\n",
       "</div>"
      ],
      "text/plain": [
       "            MCC   AUC_ROC    AUC_PR  Precision    Recall     Brier\n",
       "Split                                                             \n",
       "Train -0.697713  0.014128  0.094472   0.090909  0.464516  0.879471\n",
       "Test  -0.665637  0.019514  0.094615   0.098576  0.508475  0.874006"
      ]
     },
     "execution_count": 44,
     "metadata": {},
     "output_type": "execute_result"
    }
   ],
   "source": [
    "metrics = evaluator.compute_metrics()\n",
    "metrics"
   ]
  },
  {
   "cell_type": "code",
   "execution_count": 45,
   "metadata": {},
   "outputs": [
    {
     "data": {
      "application/vnd.plotly.v1+json": {
       "config": {
        "plotlyServerURL": "https://plot.ly"
       },
       "data": [
        {
         "colorscale": [
          [
           0,
           "rgb(247,251,255)"
          ],
          [
           0.125,
           "rgb(222,235,247)"
          ],
          [
           0.25,
           "rgb(198,219,239)"
          ],
          [
           0.375,
           "rgb(158,202,225)"
          ],
          [
           0.5,
           "rgb(107,174,214)"
          ],
          [
           0.625,
           "rgb(66,146,198)"
          ],
          [
           0.75,
           "rgb(33,113,181)"
          ],
          [
           0.875,
           "rgb(8,81,156)"
          ],
          [
           1,
           "rgb(8,48,107)"
          ]
         ],
         "showscale": false,
         "type": "heatmap",
         "x": [
          "Pred 0",
          "Pred 1"
         ],
         "y": [
          "True 0",
          "True 1"
         ],
         "z": {
          "bdata": "pQkAABMCAAA=",
          "dtype": "i2",
          "shape": "2, 2"
         }
        }
       ],
       "layout": {
        "annotations": [
         {
          "font": {
           "color": "white"
          },
          "showarrow": false,
          "text": "2,469\n(82.3%)",
          "x": 0,
          "y": 0
         },
         {
          "font": {
           "color": "black"
          },
          "showarrow": false,
          "text": "0\n(0.0%)",
          "x": 1,
          "y": 0
         },
         {
          "font": {
           "color": "black"
          },
          "showarrow": false,
          "text": "531\n(17.7%)",
          "x": 0,
          "y": 1
         },
         {
          "font": {
           "color": "black"
          },
          "showarrow": false,
          "text": "0\n(0.0%)",
          "x": 1,
          "y": 1
         }
        ],
        "template": {
         "data": {
          "bar": [
           {
            "error_x": {
             "color": "#2a3f5f"
            },
            "error_y": {
             "color": "#2a3f5f"
            },
            "marker": {
             "line": {
              "color": "white",
              "width": 0.5
             },
             "pattern": {
              "fillmode": "overlay",
              "size": 10,
              "solidity": 0.2
             }
            },
            "type": "bar"
           }
          ],
          "barpolar": [
           {
            "marker": {
             "line": {
              "color": "white",
              "width": 0.5
             },
             "pattern": {
              "fillmode": "overlay",
              "size": 10,
              "solidity": 0.2
             }
            },
            "type": "barpolar"
           }
          ],
          "carpet": [
           {
            "aaxis": {
             "endlinecolor": "#2a3f5f",
             "gridcolor": "#C8D4E3",
             "linecolor": "#C8D4E3",
             "minorgridcolor": "#C8D4E3",
             "startlinecolor": "#2a3f5f"
            },
            "baxis": {
             "endlinecolor": "#2a3f5f",
             "gridcolor": "#C8D4E3",
             "linecolor": "#C8D4E3",
             "minorgridcolor": "#C8D4E3",
             "startlinecolor": "#2a3f5f"
            },
            "type": "carpet"
           }
          ],
          "choropleth": [
           {
            "colorbar": {
             "outlinewidth": 0,
             "ticks": ""
            },
            "type": "choropleth"
           }
          ],
          "contour": [
           {
            "colorbar": {
             "outlinewidth": 0,
             "ticks": ""
            },
            "colorscale": [
             [
              0,
              "#0d0887"
             ],
             [
              0.1111111111111111,
              "#46039f"
             ],
             [
              0.2222222222222222,
              "#7201a8"
             ],
             [
              0.3333333333333333,
              "#9c179e"
             ],
             [
              0.4444444444444444,
              "#bd3786"
             ],
             [
              0.5555555555555556,
              "#d8576b"
             ],
             [
              0.6666666666666666,
              "#ed7953"
             ],
             [
              0.7777777777777778,
              "#fb9f3a"
             ],
             [
              0.8888888888888888,
              "#fdca26"
             ],
             [
              1,
              "#f0f921"
             ]
            ],
            "type": "contour"
           }
          ],
          "contourcarpet": [
           {
            "colorbar": {
             "outlinewidth": 0,
             "ticks": ""
            },
            "type": "contourcarpet"
           }
          ],
          "heatmap": [
           {
            "colorbar": {
             "outlinewidth": 0,
             "ticks": ""
            },
            "colorscale": [
             [
              0,
              "#0d0887"
             ],
             [
              0.1111111111111111,
              "#46039f"
             ],
             [
              0.2222222222222222,
              "#7201a8"
             ],
             [
              0.3333333333333333,
              "#9c179e"
             ],
             [
              0.4444444444444444,
              "#bd3786"
             ],
             [
              0.5555555555555556,
              "#d8576b"
             ],
             [
              0.6666666666666666,
              "#ed7953"
             ],
             [
              0.7777777777777778,
              "#fb9f3a"
             ],
             [
              0.8888888888888888,
              "#fdca26"
             ],
             [
              1,
              "#f0f921"
             ]
            ],
            "type": "heatmap"
           }
          ],
          "histogram": [
           {
            "marker": {
             "pattern": {
              "fillmode": "overlay",
              "size": 10,
              "solidity": 0.2
             }
            },
            "type": "histogram"
           }
          ],
          "histogram2d": [
           {
            "colorbar": {
             "outlinewidth": 0,
             "ticks": ""
            },
            "colorscale": [
             [
              0,
              "#0d0887"
             ],
             [
              0.1111111111111111,
              "#46039f"
             ],
             [
              0.2222222222222222,
              "#7201a8"
             ],
             [
              0.3333333333333333,
              "#9c179e"
             ],
             [
              0.4444444444444444,
              "#bd3786"
             ],
             [
              0.5555555555555556,
              "#d8576b"
             ],
             [
              0.6666666666666666,
              "#ed7953"
             ],
             [
              0.7777777777777778,
              "#fb9f3a"
             ],
             [
              0.8888888888888888,
              "#fdca26"
             ],
             [
              1,
              "#f0f921"
             ]
            ],
            "type": "histogram2d"
           }
          ],
          "histogram2dcontour": [
           {
            "colorbar": {
             "outlinewidth": 0,
             "ticks": ""
            },
            "colorscale": [
             [
              0,
              "#0d0887"
             ],
             [
              0.1111111111111111,
              "#46039f"
             ],
             [
              0.2222222222222222,
              "#7201a8"
             ],
             [
              0.3333333333333333,
              "#9c179e"
             ],
             [
              0.4444444444444444,
              "#bd3786"
             ],
             [
              0.5555555555555556,
              "#d8576b"
             ],
             [
              0.6666666666666666,
              "#ed7953"
             ],
             [
              0.7777777777777778,
              "#fb9f3a"
             ],
             [
              0.8888888888888888,
              "#fdca26"
             ],
             [
              1,
              "#f0f921"
             ]
            ],
            "type": "histogram2dcontour"
           }
          ],
          "mesh3d": [
           {
            "colorbar": {
             "outlinewidth": 0,
             "ticks": ""
            },
            "type": "mesh3d"
           }
          ],
          "parcoords": [
           {
            "line": {
             "colorbar": {
              "outlinewidth": 0,
              "ticks": ""
             }
            },
            "type": "parcoords"
           }
          ],
          "pie": [
           {
            "automargin": true,
            "type": "pie"
           }
          ],
          "scatter": [
           {
            "fillpattern": {
             "fillmode": "overlay",
             "size": 10,
             "solidity": 0.2
            },
            "type": "scatter"
           }
          ],
          "scatter3d": [
           {
            "line": {
             "colorbar": {
              "outlinewidth": 0,
              "ticks": ""
             }
            },
            "marker": {
             "colorbar": {
              "outlinewidth": 0,
              "ticks": ""
             }
            },
            "type": "scatter3d"
           }
          ],
          "scattercarpet": [
           {
            "marker": {
             "colorbar": {
              "outlinewidth": 0,
              "ticks": ""
             }
            },
            "type": "scattercarpet"
           }
          ],
          "scattergeo": [
           {
            "marker": {
             "colorbar": {
              "outlinewidth": 0,
              "ticks": ""
             }
            },
            "type": "scattergeo"
           }
          ],
          "scattergl": [
           {
            "marker": {
             "colorbar": {
              "outlinewidth": 0,
              "ticks": ""
             }
            },
            "type": "scattergl"
           }
          ],
          "scattermap": [
           {
            "marker": {
             "colorbar": {
              "outlinewidth": 0,
              "ticks": ""
             }
            },
            "type": "scattermap"
           }
          ],
          "scattermapbox": [
           {
            "marker": {
             "colorbar": {
              "outlinewidth": 0,
              "ticks": ""
             }
            },
            "type": "scattermapbox"
           }
          ],
          "scatterpolar": [
           {
            "marker": {
             "colorbar": {
              "outlinewidth": 0,
              "ticks": ""
             }
            },
            "type": "scatterpolar"
           }
          ],
          "scatterpolargl": [
           {
            "marker": {
             "colorbar": {
              "outlinewidth": 0,
              "ticks": ""
             }
            },
            "type": "scatterpolargl"
           }
          ],
          "scatterternary": [
           {
            "marker": {
             "colorbar": {
              "outlinewidth": 0,
              "ticks": ""
             }
            },
            "type": "scatterternary"
           }
          ],
          "surface": [
           {
            "colorbar": {
             "outlinewidth": 0,
             "ticks": ""
            },
            "colorscale": [
             [
              0,
              "#0d0887"
             ],
             [
              0.1111111111111111,
              "#46039f"
             ],
             [
              0.2222222222222222,
              "#7201a8"
             ],
             [
              0.3333333333333333,
              "#9c179e"
             ],
             [
              0.4444444444444444,
              "#bd3786"
             ],
             [
              0.5555555555555556,
              "#d8576b"
             ],
             [
              0.6666666666666666,
              "#ed7953"
             ],
             [
              0.7777777777777778,
              "#fb9f3a"
             ],
             [
              0.8888888888888888,
              "#fdca26"
             ],
             [
              1,
              "#f0f921"
             ]
            ],
            "type": "surface"
           }
          ],
          "table": [
           {
            "cells": {
             "fill": {
              "color": "#EBF0F8"
             },
             "line": {
              "color": "white"
             }
            },
            "header": {
             "fill": {
              "color": "#C8D4E3"
             },
             "line": {
              "color": "white"
             }
            },
            "type": "table"
           }
          ]
         },
         "layout": {
          "annotationdefaults": {
           "arrowcolor": "#2a3f5f",
           "arrowhead": 0,
           "arrowwidth": 1
          },
          "autotypenumbers": "strict",
          "coloraxis": {
           "colorbar": {
            "outlinewidth": 0,
            "ticks": ""
           }
          },
          "colorscale": {
           "diverging": [
            [
             0,
             "#8e0152"
            ],
            [
             0.1,
             "#c51b7d"
            ],
            [
             0.2,
             "#de77ae"
            ],
            [
             0.3,
             "#f1b6da"
            ],
            [
             0.4,
             "#fde0ef"
            ],
            [
             0.5,
             "#f7f7f7"
            ],
            [
             0.6,
             "#e6f5d0"
            ],
            [
             0.7,
             "#b8e186"
            ],
            [
             0.8,
             "#7fbc41"
            ],
            [
             0.9,
             "#4d9221"
            ],
            [
             1,
             "#276419"
            ]
           ],
           "sequential": [
            [
             0,
             "#0d0887"
            ],
            [
             0.1111111111111111,
             "#46039f"
            ],
            [
             0.2222222222222222,
             "#7201a8"
            ],
            [
             0.3333333333333333,
             "#9c179e"
            ],
            [
             0.4444444444444444,
             "#bd3786"
            ],
            [
             0.5555555555555556,
             "#d8576b"
            ],
            [
             0.6666666666666666,
             "#ed7953"
            ],
            [
             0.7777777777777778,
             "#fb9f3a"
            ],
            [
             0.8888888888888888,
             "#fdca26"
            ],
            [
             1,
             "#f0f921"
            ]
           ],
           "sequentialminus": [
            [
             0,
             "#0d0887"
            ],
            [
             0.1111111111111111,
             "#46039f"
            ],
            [
             0.2222222222222222,
             "#7201a8"
            ],
            [
             0.3333333333333333,
             "#9c179e"
            ],
            [
             0.4444444444444444,
             "#bd3786"
            ],
            [
             0.5555555555555556,
             "#d8576b"
            ],
            [
             0.6666666666666666,
             "#ed7953"
            ],
            [
             0.7777777777777778,
             "#fb9f3a"
            ],
            [
             0.8888888888888888,
             "#fdca26"
            ],
            [
             1,
             "#f0f921"
            ]
           ]
          },
          "colorway": [
           "#636efa",
           "#EF553B",
           "#00cc96",
           "#ab63fa",
           "#FFA15A",
           "#19d3f3",
           "#FF6692",
           "#B6E880",
           "#FF97FF",
           "#FECB52"
          ],
          "font": {
           "color": "#2a3f5f"
          },
          "geo": {
           "bgcolor": "white",
           "lakecolor": "white",
           "landcolor": "white",
           "showlakes": true,
           "showland": true,
           "subunitcolor": "#C8D4E3"
          },
          "hoverlabel": {
           "align": "left"
          },
          "hovermode": "closest",
          "mapbox": {
           "style": "light"
          },
          "paper_bgcolor": "white",
          "plot_bgcolor": "white",
          "polar": {
           "angularaxis": {
            "gridcolor": "#EBF0F8",
            "linecolor": "#EBF0F8",
            "ticks": ""
           },
           "bgcolor": "white",
           "radialaxis": {
            "gridcolor": "#EBF0F8",
            "linecolor": "#EBF0F8",
            "ticks": ""
           }
          },
          "scene": {
           "xaxis": {
            "backgroundcolor": "white",
            "gridcolor": "#DFE8F3",
            "gridwidth": 2,
            "linecolor": "#EBF0F8",
            "showbackground": true,
            "ticks": "",
            "zerolinecolor": "#EBF0F8"
           },
           "yaxis": {
            "backgroundcolor": "white",
            "gridcolor": "#DFE8F3",
            "gridwidth": 2,
            "linecolor": "#EBF0F8",
            "showbackground": true,
            "ticks": "",
            "zerolinecolor": "#EBF0F8"
           },
           "zaxis": {
            "backgroundcolor": "white",
            "gridcolor": "#DFE8F3",
            "gridwidth": 2,
            "linecolor": "#EBF0F8",
            "showbackground": true,
            "ticks": "",
            "zerolinecolor": "#EBF0F8"
           }
          },
          "shapedefaults": {
           "line": {
            "color": "#2a3f5f"
           }
          },
          "ternary": {
           "aaxis": {
            "gridcolor": "#DFE8F3",
            "linecolor": "#A2B1C6",
            "ticks": ""
           },
           "baxis": {
            "gridcolor": "#DFE8F3",
            "linecolor": "#A2B1C6",
            "ticks": ""
           },
           "bgcolor": "white",
           "caxis": {
            "gridcolor": "#DFE8F3",
            "linecolor": "#A2B1C6",
            "ticks": ""
           }
          },
          "title": {
           "x": 0.05
          },
          "xaxis": {
           "automargin": true,
           "gridcolor": "#EBF0F8",
           "linecolor": "#EBF0F8",
           "ticks": "",
           "title": {
            "standoff": 15
           },
           "zerolinecolor": "#EBF0F8",
           "zerolinewidth": 2
          },
          "yaxis": {
           "automargin": true,
           "gridcolor": "#EBF0F8",
           "linecolor": "#EBF0F8",
           "ticks": "",
           "title": {
            "standoff": 15
           },
           "zerolinecolor": "#EBF0F8",
           "zerolinewidth": 2
          }
         }
        },
        "title": {
         "text": "Confusion Matrix"
        },
        "xaxis": {
         "title": {
          "text": "Predicted label"
         }
        },
        "yaxis": {
         "autorange": "reversed",
         "title": {
          "text": "True label"
         }
        }
       }
      }
     },
     "metadata": {},
     "output_type": "display_data"
    }
   ],
   "source": [
    "evaluator.plot_confusion(evaluator.df_test['target'], evaluator.df_test['y_pred_proba'], threshold='ks')"
   ]
  },
  {
   "cell_type": "code",
   "execution_count": 46,
   "metadata": {},
   "outputs": [
    {
     "data": {
      "application/vnd.plotly.v1+json": {
       "config": {
        "plotlyServerURL": "https://plot.ly"
       },
       "data": [
        {
         "mode": "lines+markers",
         "name": "Model",
         "type": "scatter",
         "x": {
          "bdata": "CcSF4+U6dj8cTJFvZGrEP47jOE7yhM4/vYbyOn8U1j9mZmYWtqbcP3qe5zm8rOE/Pc/zfBfd5D+fRljOIBzoPxM/ozQgmOs/AAAAkDdQ7T8=",
          "dtype": "f8"
         },
         "y": {
          "bdata": "0itj+x29sj8AAAAAAADwPwAAAAAAAPA/AAAAAAAA8D8AAAAAAADwPwAAAAAAAPA/AAAAAAAA8D8AAAAAAADwPwAAAAAAAPA/AAAAAAAA8D8=",
          "dtype": "f8"
         }
        },
        {
         "line": {
          "dash": "dash"
         },
         "mode": "lines",
         "name": "Ideal",
         "type": "scatter",
         "x": [
          0,
          1
         ],
         "y": [
          0,
          1
         ]
        }
       ],
       "layout": {
        "template": {
         "data": {
          "bar": [
           {
            "error_x": {
             "color": "#2a3f5f"
            },
            "error_y": {
             "color": "#2a3f5f"
            },
            "marker": {
             "line": {
              "color": "white",
              "width": 0.5
             },
             "pattern": {
              "fillmode": "overlay",
              "size": 10,
              "solidity": 0.2
             }
            },
            "type": "bar"
           }
          ],
          "barpolar": [
           {
            "marker": {
             "line": {
              "color": "white",
              "width": 0.5
             },
             "pattern": {
              "fillmode": "overlay",
              "size": 10,
              "solidity": 0.2
             }
            },
            "type": "barpolar"
           }
          ],
          "carpet": [
           {
            "aaxis": {
             "endlinecolor": "#2a3f5f",
             "gridcolor": "#C8D4E3",
             "linecolor": "#C8D4E3",
             "minorgridcolor": "#C8D4E3",
             "startlinecolor": "#2a3f5f"
            },
            "baxis": {
             "endlinecolor": "#2a3f5f",
             "gridcolor": "#C8D4E3",
             "linecolor": "#C8D4E3",
             "minorgridcolor": "#C8D4E3",
             "startlinecolor": "#2a3f5f"
            },
            "type": "carpet"
           }
          ],
          "choropleth": [
           {
            "colorbar": {
             "outlinewidth": 0,
             "ticks": ""
            },
            "type": "choropleth"
           }
          ],
          "contour": [
           {
            "colorbar": {
             "outlinewidth": 0,
             "ticks": ""
            },
            "colorscale": [
             [
              0,
              "#0d0887"
             ],
             [
              0.1111111111111111,
              "#46039f"
             ],
             [
              0.2222222222222222,
              "#7201a8"
             ],
             [
              0.3333333333333333,
              "#9c179e"
             ],
             [
              0.4444444444444444,
              "#bd3786"
             ],
             [
              0.5555555555555556,
              "#d8576b"
             ],
             [
              0.6666666666666666,
              "#ed7953"
             ],
             [
              0.7777777777777778,
              "#fb9f3a"
             ],
             [
              0.8888888888888888,
              "#fdca26"
             ],
             [
              1,
              "#f0f921"
             ]
            ],
            "type": "contour"
           }
          ],
          "contourcarpet": [
           {
            "colorbar": {
             "outlinewidth": 0,
             "ticks": ""
            },
            "type": "contourcarpet"
           }
          ],
          "heatmap": [
           {
            "colorbar": {
             "outlinewidth": 0,
             "ticks": ""
            },
            "colorscale": [
             [
              0,
              "#0d0887"
             ],
             [
              0.1111111111111111,
              "#46039f"
             ],
             [
              0.2222222222222222,
              "#7201a8"
             ],
             [
              0.3333333333333333,
              "#9c179e"
             ],
             [
              0.4444444444444444,
              "#bd3786"
             ],
             [
              0.5555555555555556,
              "#d8576b"
             ],
             [
              0.6666666666666666,
              "#ed7953"
             ],
             [
              0.7777777777777778,
              "#fb9f3a"
             ],
             [
              0.8888888888888888,
              "#fdca26"
             ],
             [
              1,
              "#f0f921"
             ]
            ],
            "type": "heatmap"
           }
          ],
          "histogram": [
           {
            "marker": {
             "pattern": {
              "fillmode": "overlay",
              "size": 10,
              "solidity": 0.2
             }
            },
            "type": "histogram"
           }
          ],
          "histogram2d": [
           {
            "colorbar": {
             "outlinewidth": 0,
             "ticks": ""
            },
            "colorscale": [
             [
              0,
              "#0d0887"
             ],
             [
              0.1111111111111111,
              "#46039f"
             ],
             [
              0.2222222222222222,
              "#7201a8"
             ],
             [
              0.3333333333333333,
              "#9c179e"
             ],
             [
              0.4444444444444444,
              "#bd3786"
             ],
             [
              0.5555555555555556,
              "#d8576b"
             ],
             [
              0.6666666666666666,
              "#ed7953"
             ],
             [
              0.7777777777777778,
              "#fb9f3a"
             ],
             [
              0.8888888888888888,
              "#fdca26"
             ],
             [
              1,
              "#f0f921"
             ]
            ],
            "type": "histogram2d"
           }
          ],
          "histogram2dcontour": [
           {
            "colorbar": {
             "outlinewidth": 0,
             "ticks": ""
            },
            "colorscale": [
             [
              0,
              "#0d0887"
             ],
             [
              0.1111111111111111,
              "#46039f"
             ],
             [
              0.2222222222222222,
              "#7201a8"
             ],
             [
              0.3333333333333333,
              "#9c179e"
             ],
             [
              0.4444444444444444,
              "#bd3786"
             ],
             [
              0.5555555555555556,
              "#d8576b"
             ],
             [
              0.6666666666666666,
              "#ed7953"
             ],
             [
              0.7777777777777778,
              "#fb9f3a"
             ],
             [
              0.8888888888888888,
              "#fdca26"
             ],
             [
              1,
              "#f0f921"
             ]
            ],
            "type": "histogram2dcontour"
           }
          ],
          "mesh3d": [
           {
            "colorbar": {
             "outlinewidth": 0,
             "ticks": ""
            },
            "type": "mesh3d"
           }
          ],
          "parcoords": [
           {
            "line": {
             "colorbar": {
              "outlinewidth": 0,
              "ticks": ""
             }
            },
            "type": "parcoords"
           }
          ],
          "pie": [
           {
            "automargin": true,
            "type": "pie"
           }
          ],
          "scatter": [
           {
            "fillpattern": {
             "fillmode": "overlay",
             "size": 10,
             "solidity": 0.2
            },
            "type": "scatter"
           }
          ],
          "scatter3d": [
           {
            "line": {
             "colorbar": {
              "outlinewidth": 0,
              "ticks": ""
             }
            },
            "marker": {
             "colorbar": {
              "outlinewidth": 0,
              "ticks": ""
             }
            },
            "type": "scatter3d"
           }
          ],
          "scattercarpet": [
           {
            "marker": {
             "colorbar": {
              "outlinewidth": 0,
              "ticks": ""
             }
            },
            "type": "scattercarpet"
           }
          ],
          "scattergeo": [
           {
            "marker": {
             "colorbar": {
              "outlinewidth": 0,
              "ticks": ""
             }
            },
            "type": "scattergeo"
           }
          ],
          "scattergl": [
           {
            "marker": {
             "colorbar": {
              "outlinewidth": 0,
              "ticks": ""
             }
            },
            "type": "scattergl"
           }
          ],
          "scattermap": [
           {
            "marker": {
             "colorbar": {
              "outlinewidth": 0,
              "ticks": ""
             }
            },
            "type": "scattermap"
           }
          ],
          "scattermapbox": [
           {
            "marker": {
             "colorbar": {
              "outlinewidth": 0,
              "ticks": ""
             }
            },
            "type": "scattermapbox"
           }
          ],
          "scatterpolar": [
           {
            "marker": {
             "colorbar": {
              "outlinewidth": 0,
              "ticks": ""
             }
            },
            "type": "scatterpolar"
           }
          ],
          "scatterpolargl": [
           {
            "marker": {
             "colorbar": {
              "outlinewidth": 0,
              "ticks": ""
             }
            },
            "type": "scatterpolargl"
           }
          ],
          "scatterternary": [
           {
            "marker": {
             "colorbar": {
              "outlinewidth": 0,
              "ticks": ""
             }
            },
            "type": "scatterternary"
           }
          ],
          "surface": [
           {
            "colorbar": {
             "outlinewidth": 0,
             "ticks": ""
            },
            "colorscale": [
             [
              0,
              "#0d0887"
             ],
             [
              0.1111111111111111,
              "#46039f"
             ],
             [
              0.2222222222222222,
              "#7201a8"
             ],
             [
              0.3333333333333333,
              "#9c179e"
             ],
             [
              0.4444444444444444,
              "#bd3786"
             ],
             [
              0.5555555555555556,
              "#d8576b"
             ],
             [
              0.6666666666666666,
              "#ed7953"
             ],
             [
              0.7777777777777778,
              "#fb9f3a"
             ],
             [
              0.8888888888888888,
              "#fdca26"
             ],
             [
              1,
              "#f0f921"
             ]
            ],
            "type": "surface"
           }
          ],
          "table": [
           {
            "cells": {
             "fill": {
              "color": "#EBF0F8"
             },
             "line": {
              "color": "white"
             }
            },
            "header": {
             "fill": {
              "color": "#C8D4E3"
             },
             "line": {
              "color": "white"
             }
            },
            "type": "table"
           }
          ]
         },
         "layout": {
          "annotationdefaults": {
           "arrowcolor": "#2a3f5f",
           "arrowhead": 0,
           "arrowwidth": 1
          },
          "autotypenumbers": "strict",
          "coloraxis": {
           "colorbar": {
            "outlinewidth": 0,
            "ticks": ""
           }
          },
          "colorscale": {
           "diverging": [
            [
             0,
             "#8e0152"
            ],
            [
             0.1,
             "#c51b7d"
            ],
            [
             0.2,
             "#de77ae"
            ],
            [
             0.3,
             "#f1b6da"
            ],
            [
             0.4,
             "#fde0ef"
            ],
            [
             0.5,
             "#f7f7f7"
            ],
            [
             0.6,
             "#e6f5d0"
            ],
            [
             0.7,
             "#b8e186"
            ],
            [
             0.8,
             "#7fbc41"
            ],
            [
             0.9,
             "#4d9221"
            ],
            [
             1,
             "#276419"
            ]
           ],
           "sequential": [
            [
             0,
             "#0d0887"
            ],
            [
             0.1111111111111111,
             "#46039f"
            ],
            [
             0.2222222222222222,
             "#7201a8"
            ],
            [
             0.3333333333333333,
             "#9c179e"
            ],
            [
             0.4444444444444444,
             "#bd3786"
            ],
            [
             0.5555555555555556,
             "#d8576b"
            ],
            [
             0.6666666666666666,
             "#ed7953"
            ],
            [
             0.7777777777777778,
             "#fb9f3a"
            ],
            [
             0.8888888888888888,
             "#fdca26"
            ],
            [
             1,
             "#f0f921"
            ]
           ],
           "sequentialminus": [
            [
             0,
             "#0d0887"
            ],
            [
             0.1111111111111111,
             "#46039f"
            ],
            [
             0.2222222222222222,
             "#7201a8"
            ],
            [
             0.3333333333333333,
             "#9c179e"
            ],
            [
             0.4444444444444444,
             "#bd3786"
            ],
            [
             0.5555555555555556,
             "#d8576b"
            ],
            [
             0.6666666666666666,
             "#ed7953"
            ],
            [
             0.7777777777777778,
             "#fb9f3a"
            ],
            [
             0.8888888888888888,
             "#fdca26"
            ],
            [
             1,
             "#f0f921"
            ]
           ]
          },
          "colorway": [
           "#636efa",
           "#EF553B",
           "#00cc96",
           "#ab63fa",
           "#FFA15A",
           "#19d3f3",
           "#FF6692",
           "#B6E880",
           "#FF97FF",
           "#FECB52"
          ],
          "font": {
           "color": "#2a3f5f"
          },
          "geo": {
           "bgcolor": "white",
           "lakecolor": "white",
           "landcolor": "white",
           "showlakes": true,
           "showland": true,
           "subunitcolor": "#C8D4E3"
          },
          "hoverlabel": {
           "align": "left"
          },
          "hovermode": "closest",
          "mapbox": {
           "style": "light"
          },
          "paper_bgcolor": "white",
          "plot_bgcolor": "white",
          "polar": {
           "angularaxis": {
            "gridcolor": "#EBF0F8",
            "linecolor": "#EBF0F8",
            "ticks": ""
           },
           "bgcolor": "white",
           "radialaxis": {
            "gridcolor": "#EBF0F8",
            "linecolor": "#EBF0F8",
            "ticks": ""
           }
          },
          "scene": {
           "xaxis": {
            "backgroundcolor": "white",
            "gridcolor": "#DFE8F3",
            "gridwidth": 2,
            "linecolor": "#EBF0F8",
            "showbackground": true,
            "ticks": "",
            "zerolinecolor": "#EBF0F8"
           },
           "yaxis": {
            "backgroundcolor": "white",
            "gridcolor": "#DFE8F3",
            "gridwidth": 2,
            "linecolor": "#EBF0F8",
            "showbackground": true,
            "ticks": "",
            "zerolinecolor": "#EBF0F8"
           },
           "zaxis": {
            "backgroundcolor": "white",
            "gridcolor": "#DFE8F3",
            "gridwidth": 2,
            "linecolor": "#EBF0F8",
            "showbackground": true,
            "ticks": "",
            "zerolinecolor": "#EBF0F8"
           }
          },
          "shapedefaults": {
           "line": {
            "color": "#2a3f5f"
           }
          },
          "ternary": {
           "aaxis": {
            "gridcolor": "#DFE8F3",
            "linecolor": "#A2B1C6",
            "ticks": ""
           },
           "baxis": {
            "gridcolor": "#DFE8F3",
            "linecolor": "#A2B1C6",
            "ticks": ""
           },
           "bgcolor": "white",
           "caxis": {
            "gridcolor": "#DFE8F3",
            "linecolor": "#A2B1C6",
            "ticks": ""
           }
          },
          "title": {
           "x": 0.05
          },
          "xaxis": {
           "automargin": true,
           "gridcolor": "#EBF0F8",
           "linecolor": "#EBF0F8",
           "ticks": "",
           "title": {
            "standoff": 15
           },
           "zerolinecolor": "#EBF0F8",
           "zerolinewidth": 2
          },
          "yaxis": {
           "automargin": true,
           "gridcolor": "#EBF0F8",
           "linecolor": "#EBF0F8",
           "ticks": "",
           "title": {
            "standoff": 15
           },
           "zerolinecolor": "#EBF0F8",
           "zerolinewidth": 2
          }
         }
        },
        "title": {
         "text": "Calibration Curve – Test (Brier = 0.0799)"
        },
        "xaxis": {
         "title": {
          "text": "Predicted probability"
         }
        },
        "yaxis": {
         "title": {
          "text": "Observed frequency"
         }
        }
       }
      }
     },
     "metadata": {},
     "output_type": "display_data"
    }
   ],
   "source": [
    "evaluator.plot_calibration()"
   ]
  },
  {
   "cell_type": "code",
   "execution_count": 47,
   "metadata": {},
   "outputs": [
    {
     "data": {
      "application/vnd.plotly.v1+json": {
       "config": {
        "plotlyServerURL": "https://plot.ly"
       },
       "data": [
        {
         "line": {
          "color": "rgb(217,58,70)"
         },
         "mode": "lines+markers",
         "name": "(-inf, 977.70)",
         "type": "scatter",
         "x": [
          "2022-01-01T00:01:00.000000000"
         ],
         "y": {
          "bdata": "A9ycoSL17z8=",
          "dtype": "f8"
         }
        },
        {
         "line": {
          "color": "rgb(234,180,184)"
         },
         "mode": "lines+markers",
         "name": "[977.70, 994.32)",
         "type": "scatter",
         "x": [
          "2022-01-01T00:01:00.000000000"
         ],
         "y": {
          "bdata": "Hug+rSUQ0D8=",
          "dtype": "f8"
         }
        },
        {
         "line": {
          "color": "rgb(182,202,217)"
         },
         "mode": "lines+markers",
         "name": "[994.32, 996.02)",
         "type": "scatter",
         "x": [
          "2022-01-01T00:01:00.000000000"
         ],
         "y": {
          "bdata": "nrzD8aOboD8=",
          "dtype": "f8"
         }
        },
        {
         "line": {
          "color": "rgb(65,124,167)"
         },
         "mode": "lines+markers",
         "name": "[996.02, inf)",
         "type": "scatter",
         "x": [
          "2022-01-01T00:01:00.000000000"
         ],
         "y": {
          "bdata": "3qCVzLEDeD8=",
          "dtype": "f8"
         }
        }
       ],
       "layout": {
        "template": {
         "data": {
          "bar": [
           {
            "error_x": {
             "color": "#2a3f5f"
            },
            "error_y": {
             "color": "#2a3f5f"
            },
            "marker": {
             "line": {
              "color": "white",
              "width": 0.5
             },
             "pattern": {
              "fillmode": "overlay",
              "size": 10,
              "solidity": 0.2
             }
            },
            "type": "bar"
           }
          ],
          "barpolar": [
           {
            "marker": {
             "line": {
              "color": "white",
              "width": 0.5
             },
             "pattern": {
              "fillmode": "overlay",
              "size": 10,
              "solidity": 0.2
             }
            },
            "type": "barpolar"
           }
          ],
          "carpet": [
           {
            "aaxis": {
             "endlinecolor": "#2a3f5f",
             "gridcolor": "#C8D4E3",
             "linecolor": "#C8D4E3",
             "minorgridcolor": "#C8D4E3",
             "startlinecolor": "#2a3f5f"
            },
            "baxis": {
             "endlinecolor": "#2a3f5f",
             "gridcolor": "#C8D4E3",
             "linecolor": "#C8D4E3",
             "minorgridcolor": "#C8D4E3",
             "startlinecolor": "#2a3f5f"
            },
            "type": "carpet"
           }
          ],
          "choropleth": [
           {
            "colorbar": {
             "outlinewidth": 0,
             "ticks": ""
            },
            "type": "choropleth"
           }
          ],
          "contour": [
           {
            "colorbar": {
             "outlinewidth": 0,
             "ticks": ""
            },
            "colorscale": [
             [
              0,
              "#0d0887"
             ],
             [
              0.1111111111111111,
              "#46039f"
             ],
             [
              0.2222222222222222,
              "#7201a8"
             ],
             [
              0.3333333333333333,
              "#9c179e"
             ],
             [
              0.4444444444444444,
              "#bd3786"
             ],
             [
              0.5555555555555556,
              "#d8576b"
             ],
             [
              0.6666666666666666,
              "#ed7953"
             ],
             [
              0.7777777777777778,
              "#fb9f3a"
             ],
             [
              0.8888888888888888,
              "#fdca26"
             ],
             [
              1,
              "#f0f921"
             ]
            ],
            "type": "contour"
           }
          ],
          "contourcarpet": [
           {
            "colorbar": {
             "outlinewidth": 0,
             "ticks": ""
            },
            "type": "contourcarpet"
           }
          ],
          "heatmap": [
           {
            "colorbar": {
             "outlinewidth": 0,
             "ticks": ""
            },
            "colorscale": [
             [
              0,
              "#0d0887"
             ],
             [
              0.1111111111111111,
              "#46039f"
             ],
             [
              0.2222222222222222,
              "#7201a8"
             ],
             [
              0.3333333333333333,
              "#9c179e"
             ],
             [
              0.4444444444444444,
              "#bd3786"
             ],
             [
              0.5555555555555556,
              "#d8576b"
             ],
             [
              0.6666666666666666,
              "#ed7953"
             ],
             [
              0.7777777777777778,
              "#fb9f3a"
             ],
             [
              0.8888888888888888,
              "#fdca26"
             ],
             [
              1,
              "#f0f921"
             ]
            ],
            "type": "heatmap"
           }
          ],
          "histogram": [
           {
            "marker": {
             "pattern": {
              "fillmode": "overlay",
              "size": 10,
              "solidity": 0.2
             }
            },
            "type": "histogram"
           }
          ],
          "histogram2d": [
           {
            "colorbar": {
             "outlinewidth": 0,
             "ticks": ""
            },
            "colorscale": [
             [
              0,
              "#0d0887"
             ],
             [
              0.1111111111111111,
              "#46039f"
             ],
             [
              0.2222222222222222,
              "#7201a8"
             ],
             [
              0.3333333333333333,
              "#9c179e"
             ],
             [
              0.4444444444444444,
              "#bd3786"
             ],
             [
              0.5555555555555556,
              "#d8576b"
             ],
             [
              0.6666666666666666,
              "#ed7953"
             ],
             [
              0.7777777777777778,
              "#fb9f3a"
             ],
             [
              0.8888888888888888,
              "#fdca26"
             ],
             [
              1,
              "#f0f921"
             ]
            ],
            "type": "histogram2d"
           }
          ],
          "histogram2dcontour": [
           {
            "colorbar": {
             "outlinewidth": 0,
             "ticks": ""
            },
            "colorscale": [
             [
              0,
              "#0d0887"
             ],
             [
              0.1111111111111111,
              "#46039f"
             ],
             [
              0.2222222222222222,
              "#7201a8"
             ],
             [
              0.3333333333333333,
              "#9c179e"
             ],
             [
              0.4444444444444444,
              "#bd3786"
             ],
             [
              0.5555555555555556,
              "#d8576b"
             ],
             [
              0.6666666666666666,
              "#ed7953"
             ],
             [
              0.7777777777777778,
              "#fb9f3a"
             ],
             [
              0.8888888888888888,
              "#fdca26"
             ],
             [
              1,
              "#f0f921"
             ]
            ],
            "type": "histogram2dcontour"
           }
          ],
          "mesh3d": [
           {
            "colorbar": {
             "outlinewidth": 0,
             "ticks": ""
            },
            "type": "mesh3d"
           }
          ],
          "parcoords": [
           {
            "line": {
             "colorbar": {
              "outlinewidth": 0,
              "ticks": ""
             }
            },
            "type": "parcoords"
           }
          ],
          "pie": [
           {
            "automargin": true,
            "type": "pie"
           }
          ],
          "scatter": [
           {
            "fillpattern": {
             "fillmode": "overlay",
             "size": 10,
             "solidity": 0.2
            },
            "type": "scatter"
           }
          ],
          "scatter3d": [
           {
            "line": {
             "colorbar": {
              "outlinewidth": 0,
              "ticks": ""
             }
            },
            "marker": {
             "colorbar": {
              "outlinewidth": 0,
              "ticks": ""
             }
            },
            "type": "scatter3d"
           }
          ],
          "scattercarpet": [
           {
            "marker": {
             "colorbar": {
              "outlinewidth": 0,
              "ticks": ""
             }
            },
            "type": "scattercarpet"
           }
          ],
          "scattergeo": [
           {
            "marker": {
             "colorbar": {
              "outlinewidth": 0,
              "ticks": ""
             }
            },
            "type": "scattergeo"
           }
          ],
          "scattergl": [
           {
            "marker": {
             "colorbar": {
              "outlinewidth": 0,
              "ticks": ""
             }
            },
            "type": "scattergl"
           }
          ],
          "scattermap": [
           {
            "marker": {
             "colorbar": {
              "outlinewidth": 0,
              "ticks": ""
             }
            },
            "type": "scattermap"
           }
          ],
          "scattermapbox": [
           {
            "marker": {
             "colorbar": {
              "outlinewidth": 0,
              "ticks": ""
             }
            },
            "type": "scattermapbox"
           }
          ],
          "scatterpolar": [
           {
            "marker": {
             "colorbar": {
              "outlinewidth": 0,
              "ticks": ""
             }
            },
            "type": "scatterpolar"
           }
          ],
          "scatterpolargl": [
           {
            "marker": {
             "colorbar": {
              "outlinewidth": 0,
              "ticks": ""
             }
            },
            "type": "scatterpolargl"
           }
          ],
          "scatterternary": [
           {
            "marker": {
             "colorbar": {
              "outlinewidth": 0,
              "ticks": ""
             }
            },
            "type": "scatterternary"
           }
          ],
          "surface": [
           {
            "colorbar": {
             "outlinewidth": 0,
             "ticks": ""
            },
            "colorscale": [
             [
              0,
              "#0d0887"
             ],
             [
              0.1111111111111111,
              "#46039f"
             ],
             [
              0.2222222222222222,
              "#7201a8"
             ],
             [
              0.3333333333333333,
              "#9c179e"
             ],
             [
              0.4444444444444444,
              "#bd3786"
             ],
             [
              0.5555555555555556,
              "#d8576b"
             ],
             [
              0.6666666666666666,
              "#ed7953"
             ],
             [
              0.7777777777777778,
              "#fb9f3a"
             ],
             [
              0.8888888888888888,
              "#fdca26"
             ],
             [
              1,
              "#f0f921"
             ]
            ],
            "type": "surface"
           }
          ],
          "table": [
           {
            "cells": {
             "fill": {
              "color": "#EBF0F8"
             },
             "line": {
              "color": "white"
             }
            },
            "header": {
             "fill": {
              "color": "#C8D4E3"
             },
             "line": {
              "color": "white"
             }
            },
            "type": "table"
           }
          ]
         },
         "layout": {
          "annotationdefaults": {
           "arrowcolor": "#2a3f5f",
           "arrowhead": 0,
           "arrowwidth": 1
          },
          "autotypenumbers": "strict",
          "coloraxis": {
           "colorbar": {
            "outlinewidth": 0,
            "ticks": ""
           }
          },
          "colorscale": {
           "diverging": [
            [
             0,
             "#8e0152"
            ],
            [
             0.1,
             "#c51b7d"
            ],
            [
             0.2,
             "#de77ae"
            ],
            [
             0.3,
             "#f1b6da"
            ],
            [
             0.4,
             "#fde0ef"
            ],
            [
             0.5,
             "#f7f7f7"
            ],
            [
             0.6,
             "#e6f5d0"
            ],
            [
             0.7,
             "#b8e186"
            ],
            [
             0.8,
             "#7fbc41"
            ],
            [
             0.9,
             "#4d9221"
            ],
            [
             1,
             "#276419"
            ]
           ],
           "sequential": [
            [
             0,
             "#0d0887"
            ],
            [
             0.1111111111111111,
             "#46039f"
            ],
            [
             0.2222222222222222,
             "#7201a8"
            ],
            [
             0.3333333333333333,
             "#9c179e"
            ],
            [
             0.4444444444444444,
             "#bd3786"
            ],
            [
             0.5555555555555556,
             "#d8576b"
            ],
            [
             0.6666666666666666,
             "#ed7953"
            ],
            [
             0.7777777777777778,
             "#fb9f3a"
            ],
            [
             0.8888888888888888,
             "#fdca26"
            ],
            [
             1,
             "#f0f921"
            ]
           ],
           "sequentialminus": [
            [
             0,
             "#0d0887"
            ],
            [
             0.1111111111111111,
             "#46039f"
            ],
            [
             0.2222222222222222,
             "#7201a8"
            ],
            [
             0.3333333333333333,
             "#9c179e"
            ],
            [
             0.4444444444444444,
             "#bd3786"
            ],
            [
             0.5555555555555556,
             "#d8576b"
            ],
            [
             0.6666666666666666,
             "#ed7953"
            ],
            [
             0.7777777777777778,
             "#fb9f3a"
            ],
            [
             0.8888888888888888,
             "#fdca26"
            ],
            [
             1,
             "#f0f921"
            ]
           ]
          },
          "colorway": [
           "#636efa",
           "#EF553B",
           "#00cc96",
           "#ab63fa",
           "#FFA15A",
           "#19d3f3",
           "#FF6692",
           "#B6E880",
           "#FF97FF",
           "#FECB52"
          ],
          "font": {
           "color": "#2a3f5f"
          },
          "geo": {
           "bgcolor": "white",
           "lakecolor": "white",
           "landcolor": "white",
           "showlakes": true,
           "showland": true,
           "subunitcolor": "#C8D4E3"
          },
          "hoverlabel": {
           "align": "left"
          },
          "hovermode": "closest",
          "mapbox": {
           "style": "light"
          },
          "paper_bgcolor": "white",
          "plot_bgcolor": "white",
          "polar": {
           "angularaxis": {
            "gridcolor": "#EBF0F8",
            "linecolor": "#EBF0F8",
            "ticks": ""
           },
           "bgcolor": "white",
           "radialaxis": {
            "gridcolor": "#EBF0F8",
            "linecolor": "#EBF0F8",
            "ticks": ""
           }
          },
          "scene": {
           "xaxis": {
            "backgroundcolor": "white",
            "gridcolor": "#DFE8F3",
            "gridwidth": 2,
            "linecolor": "#EBF0F8",
            "showbackground": true,
            "ticks": "",
            "zerolinecolor": "#EBF0F8"
           },
           "yaxis": {
            "backgroundcolor": "white",
            "gridcolor": "#DFE8F3",
            "gridwidth": 2,
            "linecolor": "#EBF0F8",
            "showbackground": true,
            "ticks": "",
            "zerolinecolor": "#EBF0F8"
           },
           "zaxis": {
            "backgroundcolor": "white",
            "gridcolor": "#DFE8F3",
            "gridwidth": 2,
            "linecolor": "#EBF0F8",
            "showbackground": true,
            "ticks": "",
            "zerolinecolor": "#EBF0F8"
           }
          },
          "shapedefaults": {
           "line": {
            "color": "#2a3f5f"
           }
          },
          "ternary": {
           "aaxis": {
            "gridcolor": "#DFE8F3",
            "linecolor": "#A2B1C6",
            "ticks": ""
           },
           "baxis": {
            "gridcolor": "#DFE8F3",
            "linecolor": "#A2B1C6",
            "ticks": ""
           },
           "bgcolor": "white",
           "caxis": {
            "gridcolor": "#DFE8F3",
            "linecolor": "#A2B1C6",
            "ticks": ""
           }
          },
          "title": {
           "x": 0.05
          },
          "xaxis": {
           "automargin": true,
           "gridcolor": "#EBF0F8",
           "linecolor": "#EBF0F8",
           "ticks": "",
           "title": {
            "standoff": 15
           },
           "zerolinecolor": "#EBF0F8",
           "zerolinewidth": 2
          },
          "yaxis": {
           "automargin": true,
           "gridcolor": "#EBF0F8",
           "linecolor": "#EBF0F8",
           "ticks": "",
           "title": {
            "standoff": 15
           },
           "zerolinecolor": "#EBF0F8",
           "zerolinewidth": 2
          }
         }
        },
        "title": {
         "text": "Event Rate by Group over Time"
        },
        "xaxis": {
         "title": {
          "text": "date"
         }
        },
        "yaxis": {
         "title": {
          "text": "Event rate"
         }
        }
       }
      }
     },
     "metadata": {},
     "output_type": "display_data"
    },
    {
     "data": {
      "application/vnd.plotly.v1+json": {
       "config": {
        "plotlyServerURL": "https://plot.ly"
       },
       "data": [
        {
         "marker": {
          "color": "rgb(217,58,70)"
         },
         "name": "(-inf, 977.70)",
         "type": "bar",
         "x": [
          "2022-01-01T00:01:00.000000000"
         ],
         "y": {
          "bdata": "dk8eFmpNwz8=",
          "dtype": "f8"
         }
        },
        {
         "marker": {
          "color": "rgb(234,180,184)"
         },
         "name": "[977.70, 994.32)",
         "type": "bar",
         "x": [
          "2022-01-01T00:01:00.000000000"
         ],
         "y": {
          "bdata": "7MA5I0p7sz8=",
          "dtype": "f8"
         }
        },
        {
         "marker": {
          "color": "rgb(182,202,217)"
         },
         "name": "[994.32, 996.02)",
         "type": "bar",
         "x": [
          "2022-01-01T00:01:00.000000000"
         ],
         "y": {
          "bdata": "yAc9m1Wfuz8=",
          "dtype": "f8"
         }
        },
        {
         "marker": {
          "color": "rgb(65,124,167)"
         },
         "name": "[996.02, inf)",
         "type": "bar",
         "x": [
          "2022-01-01T00:01:00.000000000"
         ],
         "y": {
          "bdata": "DJOpglFJ5T8=",
          "dtype": "f8"
         }
        }
       ],
       "layout": {
        "barmode": "stack",
        "template": {
         "data": {
          "bar": [
           {
            "error_x": {
             "color": "#2a3f5f"
            },
            "error_y": {
             "color": "#2a3f5f"
            },
            "marker": {
             "line": {
              "color": "white",
              "width": 0.5
             },
             "pattern": {
              "fillmode": "overlay",
              "size": 10,
              "solidity": 0.2
             }
            },
            "type": "bar"
           }
          ],
          "barpolar": [
           {
            "marker": {
             "line": {
              "color": "white",
              "width": 0.5
             },
             "pattern": {
              "fillmode": "overlay",
              "size": 10,
              "solidity": 0.2
             }
            },
            "type": "barpolar"
           }
          ],
          "carpet": [
           {
            "aaxis": {
             "endlinecolor": "#2a3f5f",
             "gridcolor": "#C8D4E3",
             "linecolor": "#C8D4E3",
             "minorgridcolor": "#C8D4E3",
             "startlinecolor": "#2a3f5f"
            },
            "baxis": {
             "endlinecolor": "#2a3f5f",
             "gridcolor": "#C8D4E3",
             "linecolor": "#C8D4E3",
             "minorgridcolor": "#C8D4E3",
             "startlinecolor": "#2a3f5f"
            },
            "type": "carpet"
           }
          ],
          "choropleth": [
           {
            "colorbar": {
             "outlinewidth": 0,
             "ticks": ""
            },
            "type": "choropleth"
           }
          ],
          "contour": [
           {
            "colorbar": {
             "outlinewidth": 0,
             "ticks": ""
            },
            "colorscale": [
             [
              0,
              "#0d0887"
             ],
             [
              0.1111111111111111,
              "#46039f"
             ],
             [
              0.2222222222222222,
              "#7201a8"
             ],
             [
              0.3333333333333333,
              "#9c179e"
             ],
             [
              0.4444444444444444,
              "#bd3786"
             ],
             [
              0.5555555555555556,
              "#d8576b"
             ],
             [
              0.6666666666666666,
              "#ed7953"
             ],
             [
              0.7777777777777778,
              "#fb9f3a"
             ],
             [
              0.8888888888888888,
              "#fdca26"
             ],
             [
              1,
              "#f0f921"
             ]
            ],
            "type": "contour"
           }
          ],
          "contourcarpet": [
           {
            "colorbar": {
             "outlinewidth": 0,
             "ticks": ""
            },
            "type": "contourcarpet"
           }
          ],
          "heatmap": [
           {
            "colorbar": {
             "outlinewidth": 0,
             "ticks": ""
            },
            "colorscale": [
             [
              0,
              "#0d0887"
             ],
             [
              0.1111111111111111,
              "#46039f"
             ],
             [
              0.2222222222222222,
              "#7201a8"
             ],
             [
              0.3333333333333333,
              "#9c179e"
             ],
             [
              0.4444444444444444,
              "#bd3786"
             ],
             [
              0.5555555555555556,
              "#d8576b"
             ],
             [
              0.6666666666666666,
              "#ed7953"
             ],
             [
              0.7777777777777778,
              "#fb9f3a"
             ],
             [
              0.8888888888888888,
              "#fdca26"
             ],
             [
              1,
              "#f0f921"
             ]
            ],
            "type": "heatmap"
           }
          ],
          "histogram": [
           {
            "marker": {
             "pattern": {
              "fillmode": "overlay",
              "size": 10,
              "solidity": 0.2
             }
            },
            "type": "histogram"
           }
          ],
          "histogram2d": [
           {
            "colorbar": {
             "outlinewidth": 0,
             "ticks": ""
            },
            "colorscale": [
             [
              0,
              "#0d0887"
             ],
             [
              0.1111111111111111,
              "#46039f"
             ],
             [
              0.2222222222222222,
              "#7201a8"
             ],
             [
              0.3333333333333333,
              "#9c179e"
             ],
             [
              0.4444444444444444,
              "#bd3786"
             ],
             [
              0.5555555555555556,
              "#d8576b"
             ],
             [
              0.6666666666666666,
              "#ed7953"
             ],
             [
              0.7777777777777778,
              "#fb9f3a"
             ],
             [
              0.8888888888888888,
              "#fdca26"
             ],
             [
              1,
              "#f0f921"
             ]
            ],
            "type": "histogram2d"
           }
          ],
          "histogram2dcontour": [
           {
            "colorbar": {
             "outlinewidth": 0,
             "ticks": ""
            },
            "colorscale": [
             [
              0,
              "#0d0887"
             ],
             [
              0.1111111111111111,
              "#46039f"
             ],
             [
              0.2222222222222222,
              "#7201a8"
             ],
             [
              0.3333333333333333,
              "#9c179e"
             ],
             [
              0.4444444444444444,
              "#bd3786"
             ],
             [
              0.5555555555555556,
              "#d8576b"
             ],
             [
              0.6666666666666666,
              "#ed7953"
             ],
             [
              0.7777777777777778,
              "#fb9f3a"
             ],
             [
              0.8888888888888888,
              "#fdca26"
             ],
             [
              1,
              "#f0f921"
             ]
            ],
            "type": "histogram2dcontour"
           }
          ],
          "mesh3d": [
           {
            "colorbar": {
             "outlinewidth": 0,
             "ticks": ""
            },
            "type": "mesh3d"
           }
          ],
          "parcoords": [
           {
            "line": {
             "colorbar": {
              "outlinewidth": 0,
              "ticks": ""
             }
            },
            "type": "parcoords"
           }
          ],
          "pie": [
           {
            "automargin": true,
            "type": "pie"
           }
          ],
          "scatter": [
           {
            "fillpattern": {
             "fillmode": "overlay",
             "size": 10,
             "solidity": 0.2
            },
            "type": "scatter"
           }
          ],
          "scatter3d": [
           {
            "line": {
             "colorbar": {
              "outlinewidth": 0,
              "ticks": ""
             }
            },
            "marker": {
             "colorbar": {
              "outlinewidth": 0,
              "ticks": ""
             }
            },
            "type": "scatter3d"
           }
          ],
          "scattercarpet": [
           {
            "marker": {
             "colorbar": {
              "outlinewidth": 0,
              "ticks": ""
             }
            },
            "type": "scattercarpet"
           }
          ],
          "scattergeo": [
           {
            "marker": {
             "colorbar": {
              "outlinewidth": 0,
              "ticks": ""
             }
            },
            "type": "scattergeo"
           }
          ],
          "scattergl": [
           {
            "marker": {
             "colorbar": {
              "outlinewidth": 0,
              "ticks": ""
             }
            },
            "type": "scattergl"
           }
          ],
          "scattermap": [
           {
            "marker": {
             "colorbar": {
              "outlinewidth": 0,
              "ticks": ""
             }
            },
            "type": "scattermap"
           }
          ],
          "scattermapbox": [
           {
            "marker": {
             "colorbar": {
              "outlinewidth": 0,
              "ticks": ""
             }
            },
            "type": "scattermapbox"
           }
          ],
          "scatterpolar": [
           {
            "marker": {
             "colorbar": {
              "outlinewidth": 0,
              "ticks": ""
             }
            },
            "type": "scatterpolar"
           }
          ],
          "scatterpolargl": [
           {
            "marker": {
             "colorbar": {
              "outlinewidth": 0,
              "ticks": ""
             }
            },
            "type": "scatterpolargl"
           }
          ],
          "scatterternary": [
           {
            "marker": {
             "colorbar": {
              "outlinewidth": 0,
              "ticks": ""
             }
            },
            "type": "scatterternary"
           }
          ],
          "surface": [
           {
            "colorbar": {
             "outlinewidth": 0,
             "ticks": ""
            },
            "colorscale": [
             [
              0,
              "#0d0887"
             ],
             [
              0.1111111111111111,
              "#46039f"
             ],
             [
              0.2222222222222222,
              "#7201a8"
             ],
             [
              0.3333333333333333,
              "#9c179e"
             ],
             [
              0.4444444444444444,
              "#bd3786"
             ],
             [
              0.5555555555555556,
              "#d8576b"
             ],
             [
              0.6666666666666666,
              "#ed7953"
             ],
             [
              0.7777777777777778,
              "#fb9f3a"
             ],
             [
              0.8888888888888888,
              "#fdca26"
             ],
             [
              1,
              "#f0f921"
             ]
            ],
            "type": "surface"
           }
          ],
          "table": [
           {
            "cells": {
             "fill": {
              "color": "#EBF0F8"
             },
             "line": {
              "color": "white"
             }
            },
            "header": {
             "fill": {
              "color": "#C8D4E3"
             },
             "line": {
              "color": "white"
             }
            },
            "type": "table"
           }
          ]
         },
         "layout": {
          "annotationdefaults": {
           "arrowcolor": "#2a3f5f",
           "arrowhead": 0,
           "arrowwidth": 1
          },
          "autotypenumbers": "strict",
          "coloraxis": {
           "colorbar": {
            "outlinewidth": 0,
            "ticks": ""
           }
          },
          "colorscale": {
           "diverging": [
            [
             0,
             "#8e0152"
            ],
            [
             0.1,
             "#c51b7d"
            ],
            [
             0.2,
             "#de77ae"
            ],
            [
             0.3,
             "#f1b6da"
            ],
            [
             0.4,
             "#fde0ef"
            ],
            [
             0.5,
             "#f7f7f7"
            ],
            [
             0.6,
             "#e6f5d0"
            ],
            [
             0.7,
             "#b8e186"
            ],
            [
             0.8,
             "#7fbc41"
            ],
            [
             0.9,
             "#4d9221"
            ],
            [
             1,
             "#276419"
            ]
           ],
           "sequential": [
            [
             0,
             "#0d0887"
            ],
            [
             0.1111111111111111,
             "#46039f"
            ],
            [
             0.2222222222222222,
             "#7201a8"
            ],
            [
             0.3333333333333333,
             "#9c179e"
            ],
            [
             0.4444444444444444,
             "#bd3786"
            ],
            [
             0.5555555555555556,
             "#d8576b"
            ],
            [
             0.6666666666666666,
             "#ed7953"
            ],
            [
             0.7777777777777778,
             "#fb9f3a"
            ],
            [
             0.8888888888888888,
             "#fdca26"
            ],
            [
             1,
             "#f0f921"
            ]
           ],
           "sequentialminus": [
            [
             0,
             "#0d0887"
            ],
            [
             0.1111111111111111,
             "#46039f"
            ],
            [
             0.2222222222222222,
             "#7201a8"
            ],
            [
             0.3333333333333333,
             "#9c179e"
            ],
            [
             0.4444444444444444,
             "#bd3786"
            ],
            [
             0.5555555555555556,
             "#d8576b"
            ],
            [
             0.6666666666666666,
             "#ed7953"
            ],
            [
             0.7777777777777778,
             "#fb9f3a"
            ],
            [
             0.8888888888888888,
             "#fdca26"
            ],
            [
             1,
             "#f0f921"
            ]
           ]
          },
          "colorway": [
           "#636efa",
           "#EF553B",
           "#00cc96",
           "#ab63fa",
           "#FFA15A",
           "#19d3f3",
           "#FF6692",
           "#B6E880",
           "#FF97FF",
           "#FECB52"
          ],
          "font": {
           "color": "#2a3f5f"
          },
          "geo": {
           "bgcolor": "white",
           "lakecolor": "white",
           "landcolor": "white",
           "showlakes": true,
           "showland": true,
           "subunitcolor": "#C8D4E3"
          },
          "hoverlabel": {
           "align": "left"
          },
          "hovermode": "closest",
          "mapbox": {
           "style": "light"
          },
          "paper_bgcolor": "white",
          "plot_bgcolor": "white",
          "polar": {
           "angularaxis": {
            "gridcolor": "#EBF0F8",
            "linecolor": "#EBF0F8",
            "ticks": ""
           },
           "bgcolor": "white",
           "radialaxis": {
            "gridcolor": "#EBF0F8",
            "linecolor": "#EBF0F8",
            "ticks": ""
           }
          },
          "scene": {
           "xaxis": {
            "backgroundcolor": "white",
            "gridcolor": "#DFE8F3",
            "gridwidth": 2,
            "linecolor": "#EBF0F8",
            "showbackground": true,
            "ticks": "",
            "zerolinecolor": "#EBF0F8"
           },
           "yaxis": {
            "backgroundcolor": "white",
            "gridcolor": "#DFE8F3",
            "gridwidth": 2,
            "linecolor": "#EBF0F8",
            "showbackground": true,
            "ticks": "",
            "zerolinecolor": "#EBF0F8"
           },
           "zaxis": {
            "backgroundcolor": "white",
            "gridcolor": "#DFE8F3",
            "gridwidth": 2,
            "linecolor": "#EBF0F8",
            "showbackground": true,
            "ticks": "",
            "zerolinecolor": "#EBF0F8"
           }
          },
          "shapedefaults": {
           "line": {
            "color": "#2a3f5f"
           }
          },
          "ternary": {
           "aaxis": {
            "gridcolor": "#DFE8F3",
            "linecolor": "#A2B1C6",
            "ticks": ""
           },
           "baxis": {
            "gridcolor": "#DFE8F3",
            "linecolor": "#A2B1C6",
            "ticks": ""
           },
           "bgcolor": "white",
           "caxis": {
            "gridcolor": "#DFE8F3",
            "linecolor": "#A2B1C6",
            "ticks": ""
           }
          },
          "title": {
           "x": 0.05
          },
          "xaxis": {
           "automargin": true,
           "gridcolor": "#EBF0F8",
           "linecolor": "#EBF0F8",
           "ticks": "",
           "title": {
            "standoff": 15
           },
           "zerolinecolor": "#EBF0F8",
           "zerolinewidth": 2
          },
          "yaxis": {
           "automargin": true,
           "gridcolor": "#EBF0F8",
           "linecolor": "#EBF0F8",
           "ticks": "",
           "title": {
            "standoff": 15
           },
           "zerolinecolor": "#EBF0F8",
           "zerolinewidth": 2
          }
         }
        },
        "title": {
         "text": "Group Share over Time"
        },
        "xaxis": {
         "title": {
          "text": "date"
         }
        },
        "yaxis": {
         "tickformat": ".0%",
         "title": {
          "text": "Group share"
         }
        }
       }
      }
     },
     "metadata": {},
     "output_type": "display_data"
    },
    {
     "data": {
      "text/plain": [
       "(Figure({\n",
       "     'data': [{'line': {'color': 'rgb(217,58,70)'},\n",
       "               'mode': 'lines+markers',\n",
       "               'name': '(-inf, 977.70)',\n",
       "               'type': 'scatter',\n",
       "               'x': array(['2022-01-01T00:01:00.000000000'], dtype='datetime64[ns]'),\n",
       "               'y': {'bdata': 'A9ycoSL17z8=', 'dtype': 'f8'}},\n",
       "              {'line': {'color': 'rgb(234,180,184)'},\n",
       "               'mode': 'lines+markers',\n",
       "               'name': '[977.70, 994.32)',\n",
       "               'type': 'scatter',\n",
       "               'x': array(['2022-01-01T00:01:00.000000000'], dtype='datetime64[ns]'),\n",
       "               'y': {'bdata': 'Hug+rSUQ0D8=', 'dtype': 'f8'}},\n",
       "              {'line': {'color': 'rgb(182,202,217)'},\n",
       "               'mode': 'lines+markers',\n",
       "               'name': '[994.32, 996.02)',\n",
       "               'type': 'scatter',\n",
       "               'x': array(['2022-01-01T00:01:00.000000000'], dtype='datetime64[ns]'),\n",
       "               'y': {'bdata': 'nrzD8aOboD8=', 'dtype': 'f8'}},\n",
       "              {'line': {'color': 'rgb(65,124,167)'},\n",
       "               'mode': 'lines+markers',\n",
       "               'name': '[996.02, inf)',\n",
       "               'type': 'scatter',\n",
       "               'x': array(['2022-01-01T00:01:00.000000000'], dtype='datetime64[ns]'),\n",
       "               'y': {'bdata': '3qCVzLEDeD8=', 'dtype': 'f8'}}],\n",
       "     'layout': {'template': '...',\n",
       "                'title': {'text': 'Event Rate by Group over Time'},\n",
       "                'xaxis': {'title': {'text': 'date'}},\n",
       "                'yaxis': {'title': {'text': 'Event rate'}}}\n",
       " }),\n",
       " Figure({\n",
       "     'data': [{'marker': {'color': 'rgb(217,58,70)'},\n",
       "               'name': '(-inf, 977.70)',\n",
       "               'type': 'bar',\n",
       "               'x': array(['2022-01-01T00:01:00.000000000'], dtype='datetime64[ns]'),\n",
       "               'y': {'bdata': 'dk8eFmpNwz8=', 'dtype': 'f8'}},\n",
       "              {'marker': {'color': 'rgb(234,180,184)'},\n",
       "               'name': '[977.70, 994.32)',\n",
       "               'type': 'bar',\n",
       "               'x': array(['2022-01-01T00:01:00.000000000'], dtype='datetime64[ns]'),\n",
       "               'y': {'bdata': '7MA5I0p7sz8=', 'dtype': 'f8'}},\n",
       "              {'marker': {'color': 'rgb(182,202,217)'},\n",
       "               'name': '[994.32, 996.02)',\n",
       "               'type': 'bar',\n",
       "               'x': array(['2022-01-01T00:01:00.000000000'], dtype='datetime64[ns]'),\n",
       "               'y': {'bdata': 'yAc9m1Wfuz8=', 'dtype': 'f8'}},\n",
       "              {'marker': {'color': 'rgb(65,124,167)'},\n",
       "               'name': '[996.02, inf)',\n",
       "               'type': 'bar',\n",
       "               'x': array(['2022-01-01T00:01:00.000000000'], dtype='datetime64[ns]'),\n",
       "               'y': {'bdata': 'DJOpglFJ5T8=', 'dtype': 'f8'}}],\n",
       "     'layout': {'barmode': 'stack',\n",
       "                'template': '...',\n",
       "                'title': {'text': 'Group Share over Time'},\n",
       "                'xaxis': {'title': {'text': 'date'}},\n",
       "                'yaxis': {'tickformat': '.0%', 'title': {'text': 'Group share'}}}\n",
       " }))"
      ]
     },
     "execution_count": 47,
     "metadata": {},
     "output_type": "execute_result"
    }
   ],
   "source": [
    "evaluator.plot_event_rate()"
   ]
  },
  {
   "cell_type": "code",
   "execution_count": 48,
   "id": "5547e6ac",
   "metadata": {},
   "outputs": [
    {
     "name": "stderr",
     "output_type": "stream",
     "text": [
      "C:\\Users\\JM\\Documents\\0_CienciaDados\\1_Frameworks\\RiskPilot\\riskpilot\\evaluation\\binary_performance_evaluator.py:695: UserWarning:\n",
      "\n",
      "PSI could not be computed (insufficient data).\n",
      "\n"
     ]
    },
    {
     "data": {
      "text/plain": [
       "(Figure({\n",
       "     'data': [], 'layout': {'template': '...'}\n",
       " }),\n",
       " Empty DataFrame\n",
       " Columns: []\n",
       " Index: [])"
      ]
     },
     "execution_count": 48,
     "metadata": {},
     "output_type": "execute_result"
    }
   ],
   "source": [
    "evaluator.plot_psi(reference_last_period=True)"
   ]
  },
  {
   "cell_type": "code",
   "execution_count": null,
   "metadata": {},
   "outputs": [],
   "source": [
    "evaluator.plot_ks()"
   ]
  },
  {
   "cell_type": "code",
   "execution_count": null,
   "metadata": {},
   "outputs": [],
   "source": [
    "evaluator.plot_group_radar()"
   ]
  },
  {
   "cell_type": "code",
   "execution_count": null,
   "metadata": {},
   "outputs": [],
   "source": [
    "evaluator.plot_decile_ks()"
   ]
  },
  {
   "cell_type": "markdown",
   "metadata": {},
   "source": [
    "### Teste de Stress"
   ]
  },
  {
   "cell_type": "code",
   "execution_count": null,
   "metadata": {},
   "outputs": [],
   "source": [
    "gen = SyntheticVintageGenerator(id_cols=['id'], date_cols=['date']).fit(train)\n",
    "evaluator.synthetic_gen = gen\n",
    "stress = evaluator.run_stress_test()\n",
    "stress['metrics']"
   ]
  }
 ],
 "metadata": {
  "kernelspec": {
   "display_name": "ENV_STONE",
   "language": "python",
   "name": "python3"
  },
  "language_info": {
   "codemirror_mode": {
    "name": "ipython",
    "version": 3
   },
   "file_extension": ".py",
   "mimetype": "text/x-python",
   "name": "python",
   "nbconvert_exporter": "python",
   "pygments_lexer": "ipython3",
   "version": "3.10.16"
  }
 },
 "nbformat": 4,
 "nbformat_minor": 5
}
