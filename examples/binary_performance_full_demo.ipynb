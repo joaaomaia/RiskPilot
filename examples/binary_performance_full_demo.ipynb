{
 "cells": [
  {
   "cell_type": "markdown",
   "metadata": {},
   "source": [
    "# Binary Performance Evaluator – Demo Completo"
   ]
  },
  {
   "cell_type": "markdown",
   "metadata": {},
   "source": [
    "Neste exemplo vamos treinar um classificador simples e explorar várias funcionalidades do `BinaryPerformanceEvaluator`. Usaremos dados sintéticos."
   ]
  },
  {
   "cell_type": "code",
   "execution_count": 1,
   "id": "cb2e5ef4",
   "metadata": {},
   "outputs": [],
   "source": [
    "import numpy as np\n",
    "import pandas as pd\n",
    "from sklearn.model_selection import train_test_split\n",
    "from sklearn.linear_model import LogisticRegression\n",
    "from sklearn.tree import DecisionTreeClassifier\n",
    "from xgboost import XGBClassifier\n",
    "from lightgbm import LGBMClassifier\n",
    "from riskpilot.evaluation import BinaryPerformanceEvaluator\n",
    "from riskpilot.synthetic import LookAhead\n",
    "\n",
    "from sklearn.utils.class_weight import compute_sample_weight"
   ]
  },
  {
   "cell_type": "code",
   "execution_count": 2,
   "id": "9a7762b4",
   "metadata": {},
   "outputs": [],
   "source": [
    "# --------------------------------------------------\n",
    "# 1. CONFIGURAÇÕES\n",
    "# --------------------------------------------------\n",
    "FILE_PATH = \"../../datasets/lending_club/accepted_2007_to_2018Q4.csv\"\n",
    "NROWS     = 10_000\n",
    "TARGET_RAW = \"loan_status\"          # coluna original\n",
    "TARGET     = \"target\"               # nome final binário\n",
    "\n",
    "# --------------------------------------------------\n",
    "# 2. LEITURA E CONVERSÃO DE TIPOS MISTOS\n",
    "# --------------------------------------------------\n",
    "def read_and_clean_csv_mixed_types(path, nrows=None, verbose=True):\n",
    "    df = pd.read_csv(path, low_memory=False, nrows=nrows)\n",
    "\n",
    "    # identificar colunas com tipos mistos\n",
    "    for col in df.columns:\n",
    "        types = df[col].dropna().map(type).value_counts()\n",
    "        if len(types) > 1 and verbose:\n",
    "            print(f\"[!] '{col}' com múltiplos tipos: {dict(types)}\")\n",
    "\n",
    "        # tentativa de conversão automática p/ numérico\n",
    "        if len(types) > 1:\n",
    "            try:\n",
    "                df[col] = pd.to_numeric(df[col], errors=\"coerce\")\n",
    "            except Exception:\n",
    "                df[col] = df[col].astype(str)\n",
    "\n",
    "    return df\n",
    "\n",
    "df = read_and_clean_csv_mixed_types(FILE_PATH, nrows=NROWS)\n",
    "\n",
    "# drop de colunas não usadas (caso existam)\n",
    "df.drop(columns=[c for c in [\"member_id\"] if c in df.columns], inplace=True)\n",
    "\n",
    "# --------------------------------------------------\n",
    "# 3. TARGET BINÁRIO\n",
    "# --------------------------------------------------\n",
    "bad_status = [\"Charged Off\", \"Default\", \"Late (31-120 days)\"]\n",
    "df[TARGET] = df[TARGET_RAW].isin(bad_status).astype(int)\n",
    "\n",
    "# --------------------------------------------------\n",
    "# 4. DATA E ID\n",
    "# --------------------------------------------------\n",
    "#df[\"date\"] = pd.to_datetime(df[\"issue_d\"], format=\"%b-%Y\", errors=\"coerce\")\n",
    "\n",
    "df[\"date\"] = pd.to_datetime('202201', format=\"%Y%M\", errors=\"coerce\")\n",
    "\n",
    "df.drop(columns=[\"issue_d\", TARGET_RAW], inplace=True)\n",
    "\n",
    "df.reset_index(drop=False, inplace=True)   # index ➜ nova coluna\n",
    "\n",
    "# --------------------------------------------------\n",
    "# 5. FEATURES NUMÉRICAS + IMPUTAÇÃO\n",
    "# --------------------------------------------------\n",
    "numeric_cols = df.select_dtypes(include=[np.number]).columns.drop([\"id\", TARGET])\n",
    "na_threshold = 0.30\n",
    "valid_cols = numeric_cols[df[numeric_cols].isna().mean() < na_threshold].tolist()\n",
    "valid_cols.remove('index')\n",
    "\n",
    "df[valid_cols] = df[valid_cols].fillna(df[valid_cols].median())\n",
    "\n",
    "# --------------------------------------------------\n",
    "# 6. DATAFRAME FINAL\n",
    "# --------------------------------------------------\n",
    "\n",
    "FEATURES = [\n",
    "    \"funded_amnt_inv\",\n",
    "    \"annual_inc\",\n",
    "    \"dti\",\n",
    "    \"fico_range_high\",\n",
    "    \"out_prncp_inv\",\n",
    "    \"total_rec_prncp\",\n",
    "    \"last_pymnt_amnt\",\n",
    "    \"last_fico_range_low\",\n",
    "    \"acc_open_past_24mths\",\n",
    "    \"avg_cur_bal\",\n",
    "    \"bc_open_to_buy\",\n",
    "    \"mo_sin_old_rev_tl_op\",\n",
    "    \"mo_sin_rcnt_rev_tl_op\",\n",
    "    \"mo_sin_rcnt_tl\",\n",
    "    \"mort_acc\",\n",
    "    \"mths_since_recent_bc\",\n",
    "    \"mths_since_recent_inq\",\n",
    "    \"num_tl_op_past_12m\",\n",
    "    \"percent_bc_gt_75\",\n",
    "    \"total_bc_limit\",\n",
    "    #\"sub_grade\"\n",
    "]\n",
    "\n",
    "ID_COLS = ['id']\n",
    "\n",
    "IGNORE_COLS = ['member_id']\n",
    "\n",
    "DATE_COLS = ['date']\n",
    "\n",
    "# --------------------------------------------------\n",
    "# Preparar dataset base\n",
    "# --------------------------------------------------\n",
    "df_model = df[ID_COLS+DATE_COLS+[TARGET] + FEATURES].dropna().copy()"
   ]
  },
  {
   "cell_type": "code",
   "execution_count": 3,
   "id": "771f86e2",
   "metadata": {},
   "outputs": [
    {
     "data": {
      "text/plain": [
       "['id']"
      ]
     },
     "execution_count": 3,
     "metadata": {},
     "output_type": "execute_result"
    }
   ],
   "source": [
    "ID_COLS"
   ]
  },
  {
   "cell_type": "code",
   "execution_count": 4,
   "id": "6c75e7da",
   "metadata": {},
   "outputs": [
    {
     "data": {
      "text/plain": [
       "['date']"
      ]
     },
     "execution_count": 4,
     "metadata": {},
     "output_type": "execute_result"
    }
   ],
   "source": [
    "# df_model['date'] = pd.to_datetime(df_model['date'], format='%yyyy%mm')\n",
    "# Cria a coluna yyyymm como inteiro\n",
    "df_model['date'] = df_model['date'].dt.year * 100 + df_model['date'].dt.month\n",
    "\n",
    "\n",
    "#df_model['yyyymm_datetime'] = df_model['date'].dt.to_period('M').dt.to_timestamp()\n",
    "#DATE_COLS = ['date']\n",
    "DATE_COLS"
   ]
  },
  {
   "cell_type": "code",
   "execution_count": 5,
   "id": "ab7ee715",
   "metadata": {},
   "outputs": [],
   "source": [
    "import numpy as np\n",
    "from riskpilot.synthetic import LookAhead\n",
    "\n",
    "gen = LookAhead(\n",
    "    id_cols=ID_COLS,\n",
    "    date_cols=DATE_COLS\n",
    ").fit(df_model)"
   ]
  },
  {
   "cell_type": "code",
   "execution_count": 6,
   "id": "d61dadc3",
   "metadata": {},
   "outputs": [
    {
     "name": "stdout",
     "output_type": "stream",
     "text": [
      "202201\n",
      "202201\n"
     ]
    }
   ],
   "source": [
    "print(df_model['date'].min())\n",
    "print(df_model['date'].max())"
   ]
  },
  {
   "cell_type": "code",
   "execution_count": 7,
   "id": "bdcb5d64",
   "metadata": {},
   "outputs": [
    {
     "name": "stdout",
     "output_type": "stream",
     "text": [
      "202202\n",
      "202501\n"
     ]
    },
    {
     "data": {
      "text/html": [
       "<div>\n",
       "<style scoped>\n",
       "    .dataframe tbody tr th:only-of-type {\n",
       "        vertical-align: middle;\n",
       "    }\n",
       "\n",
       "    .dataframe tbody tr th {\n",
       "        vertical-align: top;\n",
       "    }\n",
       "\n",
       "    .dataframe thead th {\n",
       "        text-align: right;\n",
       "    }\n",
       "</style>\n",
       "<table border=\"1\" class=\"dataframe\">\n",
       "  <thead>\n",
       "    <tr style=\"text-align: right;\">\n",
       "      <th></th>\n",
       "      <th>id</th>\n",
       "      <th>date</th>\n",
       "      <th>target</th>\n",
       "      <th>funded_amnt_inv</th>\n",
       "      <th>annual_inc</th>\n",
       "      <th>dti</th>\n",
       "      <th>fico_range_high</th>\n",
       "      <th>out_prncp_inv</th>\n",
       "      <th>total_rec_prncp</th>\n",
       "      <th>last_pymnt_amnt</th>\n",
       "      <th>...</th>\n",
       "      <th>bc_open_to_buy</th>\n",
       "      <th>mo_sin_old_rev_tl_op</th>\n",
       "      <th>mo_sin_rcnt_rev_tl_op</th>\n",
       "      <th>mo_sin_rcnt_tl</th>\n",
       "      <th>mort_acc</th>\n",
       "      <th>mths_since_recent_bc</th>\n",
       "      <th>mths_since_recent_inq</th>\n",
       "      <th>num_tl_op_past_12m</th>\n",
       "      <th>percent_bc_gt_75</th>\n",
       "      <th>total_bc_limit</th>\n",
       "    </tr>\n",
       "  </thead>\n",
       "  <tbody>\n",
       "    <tr>\n",
       "      <th>0</th>\n",
       "      <td>64088cbaa65b4d369c658b9771cedfef</td>\n",
       "      <td>202202</td>\n",
       "      <td>1</td>\n",
       "      <td>1680.469330</td>\n",
       "      <td>43000.0</td>\n",
       "      <td>25.471291</td>\n",
       "      <td>674.0</td>\n",
       "      <td>0.0</td>\n",
       "      <td>979.960198</td>\n",
       "      <td>290.823111</td>\n",
       "      <td>...</td>\n",
       "      <td>2.445705</td>\n",
       "      <td>127.000000</td>\n",
       "      <td>7.0</td>\n",
       "      <td>5.901403</td>\n",
       "      <td>1</td>\n",
       "      <td>13.000000</td>\n",
       "      <td>17.0</td>\n",
       "      <td>1.0</td>\n",
       "      <td>75.0</td>\n",
       "      <td>3693.459891</td>\n",
       "    </tr>\n",
       "    <tr>\n",
       "      <th>1</th>\n",
       "      <td>05f2c58a62ff4843bae6541d997fd819</td>\n",
       "      <td>202202</td>\n",
       "      <td>0</td>\n",
       "      <td>12601.380305</td>\n",
       "      <td>90000.0</td>\n",
       "      <td>23.338011</td>\n",
       "      <td>674.0</td>\n",
       "      <td>0.0</td>\n",
       "      <td>20013.354080</td>\n",
       "      <td>1557.002085</td>\n",
       "      <td>...</td>\n",
       "      <td>795.560055</td>\n",
       "      <td>168.000000</td>\n",
       "      <td>4.0</td>\n",
       "      <td>1.000000</td>\n",
       "      <td>5</td>\n",
       "      <td>15.000000</td>\n",
       "      <td>1.0</td>\n",
       "      <td>4.0</td>\n",
       "      <td>50.0</td>\n",
       "      <td>4100.000000</td>\n",
       "    </tr>\n",
       "    <tr>\n",
       "      <th>2</th>\n",
       "      <td>b24242bf4e054483ba7d0dfb8d34ea33</td>\n",
       "      <td>202202</td>\n",
       "      <td>0</td>\n",
       "      <td>5784.431582</td>\n",
       "      <td>80000.0</td>\n",
       "      <td>11.632748</td>\n",
       "      <td>799.0</td>\n",
       "      <td>0.0</td>\n",
       "      <td>2997.757078</td>\n",
       "      <td>276.841670</td>\n",
       "      <td>...</td>\n",
       "      <td>16011.861313</td>\n",
       "      <td>486.566164</td>\n",
       "      <td>1.0</td>\n",
       "      <td>0.000000</td>\n",
       "      <td>13</td>\n",
       "      <td>26.000000</td>\n",
       "      <td>0.0</td>\n",
       "      <td>4.0</td>\n",
       "      <td>0.0</td>\n",
       "      <td>25200.000000</td>\n",
       "    </tr>\n",
       "    <tr>\n",
       "      <th>3</th>\n",
       "      <td>5057d3dfa41a4cf281e1662ea7e75ef2</td>\n",
       "      <td>202202</td>\n",
       "      <td>0</td>\n",
       "      <td>12022.713009</td>\n",
       "      <td>38000.0</td>\n",
       "      <td>16.902878</td>\n",
       "      <td>684.0</td>\n",
       "      <td>0.0</td>\n",
       "      <td>9000.000000</td>\n",
       "      <td>11313.174482</td>\n",
       "      <td>...</td>\n",
       "      <td>11955.972001</td>\n",
       "      <td>355.217824</td>\n",
       "      <td>14.0</td>\n",
       "      <td>2.000000</td>\n",
       "      <td>1</td>\n",
       "      <td>7.000000</td>\n",
       "      <td>1.0</td>\n",
       "      <td>1.0</td>\n",
       "      <td>0.0</td>\n",
       "      <td>26001.275666</td>\n",
       "    </tr>\n",
       "    <tr>\n",
       "      <th>4</th>\n",
       "      <td>60d756a76572412c8d528e0b6f0a5f5c</td>\n",
       "      <td>202202</td>\n",
       "      <td>1</td>\n",
       "      <td>1000.357484</td>\n",
       "      <td>62000.0</td>\n",
       "      <td>11.677518</td>\n",
       "      <td>694.0</td>\n",
       "      <td>0.0</td>\n",
       "      <td>831.511063</td>\n",
       "      <td>427.263240</td>\n",
       "      <td>...</td>\n",
       "      <td>1800.448439</td>\n",
       "      <td>188.000000</td>\n",
       "      <td>3.0</td>\n",
       "      <td>1.000000</td>\n",
       "      <td>1</td>\n",
       "      <td>36.480449</td>\n",
       "      <td>7.0</td>\n",
       "      <td>3.0</td>\n",
       "      <td>0.0</td>\n",
       "      <td>3000.000000</td>\n",
       "    </tr>\n",
       "  </tbody>\n",
       "</table>\n",
       "<p>5 rows × 23 columns</p>\n",
       "</div>"
      ],
      "text/plain": [
       "                                 id    date  target  funded_amnt_inv  \\\n",
       "0  64088cbaa65b4d369c658b9771cedfef  202202       1      1680.469330   \n",
       "1  05f2c58a62ff4843bae6541d997fd819  202202       0     12601.380305   \n",
       "2  b24242bf4e054483ba7d0dfb8d34ea33  202202       0      5784.431582   \n",
       "3  5057d3dfa41a4cf281e1662ea7e75ef2  202202       0     12022.713009   \n",
       "4  60d756a76572412c8d528e0b6f0a5f5c  202202       1      1000.357484   \n",
       "\n",
       "   annual_inc        dti  fico_range_high  out_prncp_inv  total_rec_prncp  \\\n",
       "0     43000.0  25.471291            674.0            0.0       979.960198   \n",
       "1     90000.0  23.338011            674.0            0.0     20013.354080   \n",
       "2     80000.0  11.632748            799.0            0.0      2997.757078   \n",
       "3     38000.0  16.902878            684.0            0.0      9000.000000   \n",
       "4     62000.0  11.677518            694.0            0.0       831.511063   \n",
       "\n",
       "   last_pymnt_amnt  ...  bc_open_to_buy  mo_sin_old_rev_tl_op  \\\n",
       "0       290.823111  ...        2.445705            127.000000   \n",
       "1      1557.002085  ...      795.560055            168.000000   \n",
       "2       276.841670  ...    16011.861313            486.566164   \n",
       "3     11313.174482  ...    11955.972001            355.217824   \n",
       "4       427.263240  ...     1800.448439            188.000000   \n",
       "\n",
       "   mo_sin_rcnt_rev_tl_op  mo_sin_rcnt_tl  mort_acc  mths_since_recent_bc  \\\n",
       "0                    7.0        5.901403         1             13.000000   \n",
       "1                    4.0        1.000000         5             15.000000   \n",
       "2                    1.0        0.000000        13             26.000000   \n",
       "3                   14.0        2.000000         1              7.000000   \n",
       "4                    3.0        1.000000         1             36.480449   \n",
       "\n",
       "   mths_since_recent_inq  num_tl_op_past_12m  percent_bc_gt_75  total_bc_limit  \n",
       "0                   17.0                 1.0              75.0     3693.459891  \n",
       "1                    1.0                 4.0              50.0     4100.000000  \n",
       "2                    0.0                 4.0               0.0    25200.000000  \n",
       "3                    1.0                 1.0               0.0    26001.275666  \n",
       "4                    7.0                 3.0               0.0     3000.000000  \n",
       "\n",
       "[5 rows x 23 columns]"
      ]
     },
     "metadata": {},
     "output_type": "display_data"
    }
   ],
   "source": [
    "synthetic = gen.generate(\n",
    "    n_periods=36,\n",
    "    freq='ME',\n",
    "    scenario='stress')\n",
    "print(synthetic['date'].min())\n",
    "print(synthetic['date'].max())\n",
    "\n",
    "display(synthetic.head())"
   ]
  },
  {
   "cell_type": "code",
   "execution_count": 8,
   "id": "db7e97e3",
   "metadata": {},
   "outputs": [
    {
     "name": "stdout",
     "output_type": "stream",
     "text": [
      "202202\n",
      "202203\n"
     ]
    },
    {
     "data": {
      "text/html": [
       "<div>\n",
       "<style scoped>\n",
       "    .dataframe tbody tr th:only-of-type {\n",
       "        vertical-align: middle;\n",
       "    }\n",
       "\n",
       "    .dataframe tbody tr th {\n",
       "        vertical-align: top;\n",
       "    }\n",
       "\n",
       "    .dataframe thead th {\n",
       "        text-align: right;\n",
       "    }\n",
       "</style>\n",
       "<table border=\"1\" class=\"dataframe\">\n",
       "  <thead>\n",
       "    <tr style=\"text-align: right;\">\n",
       "      <th></th>\n",
       "      <th>id</th>\n",
       "      <th>date</th>\n",
       "      <th>target</th>\n",
       "      <th>funded_amnt_inv</th>\n",
       "      <th>annual_inc</th>\n",
       "      <th>dti</th>\n",
       "      <th>fico_range_high</th>\n",
       "      <th>out_prncp_inv</th>\n",
       "      <th>total_rec_prncp</th>\n",
       "      <th>last_pymnt_amnt</th>\n",
       "      <th>...</th>\n",
       "      <th>bc_open_to_buy</th>\n",
       "      <th>mo_sin_old_rev_tl_op</th>\n",
       "      <th>mo_sin_rcnt_rev_tl_op</th>\n",
       "      <th>mo_sin_rcnt_tl</th>\n",
       "      <th>mort_acc</th>\n",
       "      <th>mths_since_recent_bc</th>\n",
       "      <th>mths_since_recent_inq</th>\n",
       "      <th>num_tl_op_past_12m</th>\n",
       "      <th>percent_bc_gt_75</th>\n",
       "      <th>total_bc_limit</th>\n",
       "    </tr>\n",
       "  </thead>\n",
       "  <tbody>\n",
       "    <tr>\n",
       "      <th>0</th>\n",
       "      <td>d646031cae64498a83ec0be3ed6822f1</td>\n",
       "      <td>202202</td>\n",
       "      <td>0</td>\n",
       "      <td>2067.637511</td>\n",
       "      <td>36000.000000</td>\n",
       "      <td>6.743116</td>\n",
       "      <td>669.0</td>\n",
       "      <td>0.0</td>\n",
       "      <td>1000.201705</td>\n",
       "      <td>220.166571</td>\n",
       "      <td>...</td>\n",
       "      <td>622.557051</td>\n",
       "      <td>121.000000</td>\n",
       "      <td>12.0</td>\n",
       "      <td>5.0</td>\n",
       "      <td>0</td>\n",
       "      <td>44.237909</td>\n",
       "      <td>5.0</td>\n",
       "      <td>2.0</td>\n",
       "      <td>0.0</td>\n",
       "      <td>2000.000000</td>\n",
       "    </tr>\n",
       "    <tr>\n",
       "      <th>1</th>\n",
       "      <td>138d33b7cff945dd9e4c3b3bcba08564</td>\n",
       "      <td>202202</td>\n",
       "      <td>1</td>\n",
       "      <td>16000.000000</td>\n",
       "      <td>70000.000000</td>\n",
       "      <td>33.928111</td>\n",
       "      <td>789.0</td>\n",
       "      <td>0.0</td>\n",
       "      <td>3012.483593</td>\n",
       "      <td>10085.826149</td>\n",
       "      <td>...</td>\n",
       "      <td>27127.915485</td>\n",
       "      <td>180.000000</td>\n",
       "      <td>3.0</td>\n",
       "      <td>7.0</td>\n",
       "      <td>2</td>\n",
       "      <td>2.000000</td>\n",
       "      <td>17.0</td>\n",
       "      <td>3.0</td>\n",
       "      <td>66.7</td>\n",
       "      <td>154613.706466</td>\n",
       "    </tr>\n",
       "    <tr>\n",
       "      <th>2</th>\n",
       "      <td>95eefb7ebc7d488c8e82b3ec193e9f03</td>\n",
       "      <td>202202</td>\n",
       "      <td>1</td>\n",
       "      <td>8000.000000</td>\n",
       "      <td>60000.000000</td>\n",
       "      <td>14.865377</td>\n",
       "      <td>689.0</td>\n",
       "      <td>0.0</td>\n",
       "      <td>4497.015206</td>\n",
       "      <td>215.152529</td>\n",
       "      <td>...</td>\n",
       "      <td>13530.669617</td>\n",
       "      <td>52.293515</td>\n",
       "      <td>4.0</td>\n",
       "      <td>4.0</td>\n",
       "      <td>1</td>\n",
       "      <td>8.449097</td>\n",
       "      <td>2.0</td>\n",
       "      <td>3.0</td>\n",
       "      <td>12.5</td>\n",
       "      <td>16276.450600</td>\n",
       "    </tr>\n",
       "    <tr>\n",
       "      <th>3</th>\n",
       "      <td>8172c3bf87e8451dab81b0ae002ddd35</td>\n",
       "      <td>202202</td>\n",
       "      <td>0</td>\n",
       "      <td>20489.193786</td>\n",
       "      <td>88821.897239</td>\n",
       "      <td>7.709062</td>\n",
       "      <td>699.0</td>\n",
       "      <td>0.0</td>\n",
       "      <td>24000.000000</td>\n",
       "      <td>2030.753284</td>\n",
       "      <td>...</td>\n",
       "      <td>8625.743232</td>\n",
       "      <td>316.576276</td>\n",
       "      <td>18.0</td>\n",
       "      <td>17.0</td>\n",
       "      <td>5</td>\n",
       "      <td>10.000000</td>\n",
       "      <td>15.0</td>\n",
       "      <td>1.0</td>\n",
       "      <td>100.0</td>\n",
       "      <td>25340.038613</td>\n",
       "    </tr>\n",
       "    <tr>\n",
       "      <th>4</th>\n",
       "      <td>c27646feb69f4e85a030fddafb9e5b8e</td>\n",
       "      <td>202202</td>\n",
       "      <td>0</td>\n",
       "      <td>6375.506999</td>\n",
       "      <td>74000.000000</td>\n",
       "      <td>29.852360</td>\n",
       "      <td>689.0</td>\n",
       "      <td>0.0</td>\n",
       "      <td>7000.000000</td>\n",
       "      <td>101.866400</td>\n",
       "      <td>...</td>\n",
       "      <td>1368.777377</td>\n",
       "      <td>169.000000</td>\n",
       "      <td>23.0</td>\n",
       "      <td>7.0</td>\n",
       "      <td>1</td>\n",
       "      <td>106.725286</td>\n",
       "      <td>2.0</td>\n",
       "      <td>0.0</td>\n",
       "      <td>100.0</td>\n",
       "      <td>23623.144370</td>\n",
       "    </tr>\n",
       "  </tbody>\n",
       "</table>\n",
       "<p>5 rows × 23 columns</p>\n",
       "</div>"
      ],
      "text/plain": [
       "                                 id    date  target  funded_amnt_inv  \\\n",
       "0  d646031cae64498a83ec0be3ed6822f1  202202       0      2067.637511   \n",
       "1  138d33b7cff945dd9e4c3b3bcba08564  202202       1     16000.000000   \n",
       "2  95eefb7ebc7d488c8e82b3ec193e9f03  202202       1      8000.000000   \n",
       "3  8172c3bf87e8451dab81b0ae002ddd35  202202       0     20489.193786   \n",
       "4  c27646feb69f4e85a030fddafb9e5b8e  202202       0      6375.506999   \n",
       "\n",
       "     annual_inc        dti  fico_range_high  out_prncp_inv  total_rec_prncp  \\\n",
       "0  36000.000000   6.743116            669.0            0.0      1000.201705   \n",
       "1  70000.000000  33.928111            789.0            0.0      3012.483593   \n",
       "2  60000.000000  14.865377            689.0            0.0      4497.015206   \n",
       "3  88821.897239   7.709062            699.0            0.0     24000.000000   \n",
       "4  74000.000000  29.852360            689.0            0.0      7000.000000   \n",
       "\n",
       "   last_pymnt_amnt  ...  bc_open_to_buy  mo_sin_old_rev_tl_op  \\\n",
       "0       220.166571  ...      622.557051            121.000000   \n",
       "1     10085.826149  ...    27127.915485            180.000000   \n",
       "2       215.152529  ...    13530.669617             52.293515   \n",
       "3      2030.753284  ...     8625.743232            316.576276   \n",
       "4       101.866400  ...     1368.777377            169.000000   \n",
       "\n",
       "   mo_sin_rcnt_rev_tl_op  mo_sin_rcnt_tl  mort_acc  mths_since_recent_bc  \\\n",
       "0                   12.0             5.0         0             44.237909   \n",
       "1                    3.0             7.0         2              2.000000   \n",
       "2                    4.0             4.0         1              8.449097   \n",
       "3                   18.0            17.0         5             10.000000   \n",
       "4                   23.0             7.0         1            106.725286   \n",
       "\n",
       "   mths_since_recent_inq  num_tl_op_past_12m  percent_bc_gt_75  total_bc_limit  \n",
       "0                    5.0                 2.0               0.0     2000.000000  \n",
       "1                   17.0                 3.0              66.7   154613.706466  \n",
       "2                    2.0                 3.0              12.5    16276.450600  \n",
       "3                   15.0                 1.0             100.0    25340.038613  \n",
       "4                    2.0                 0.0             100.0    23623.144370  \n",
       "\n",
       "[5 rows x 23 columns]"
      ]
     },
     "metadata": {},
     "output_type": "display_data"
    }
   ],
   "source": [
    "custom_noise = {\n",
    "    'utilifico_range_highzation': {'func': np.random.exponential, 'kwargs': {'scale':50}},\n",
    "}\n",
    "custom_gen = LookAhead(\n",
    "    id_cols=['id'],\n",
    "    date_cols=['date'],\n",
    "    custom_noise=custom_noise).fit(df_model)\n",
    "\n",
    "custom = custom_gen.generate(\n",
    "    n_periods=2,\n",
    "    freq='ME',\n",
    "    scenario='stress'\n",
    "    )\n",
    "\n",
    "custom.head()\n",
    "print(custom['date'].min())\n",
    "print(custom['date'].max())\n",
    "\n",
    "display(custom.head())\n",
    "\n"
   ]
  },
  {
   "cell_type": "code",
   "execution_count": 9,
   "id": "1d2af027",
   "metadata": {},
   "outputs": [],
   "source": [
    "df_model = pd.concat([df_model, synthetic], axis=0)"
   ]
  },
  {
   "cell_type": "code",
   "execution_count": 10,
   "id": "dc15d83d",
   "metadata": {},
   "outputs": [],
   "source": [
    "# --------------------------------------------------\n",
    "# 2. Split treino / teste\n",
    "# --------------------------------------------------\n",
    "train_idx, test_idx = train_test_split(\n",
    "    df_model.index,\n",
    "    test_size=0.30,\n",
    "    stratify=df_model[TARGET],\n",
    "    random_state=42,\n",
    ")\n",
    "\n",
    "# Criar df_train e df_test primeiro\n",
    "df_train = df_model.loc[train_idx].copy()\n",
    "df_test  = df_model.loc[test_idx].copy()\n",
    "\n",
    "# Depois extrair X e y a partir dos DataFrames\n",
    "X_train, y_train = df_train[FEATURES], df_train[TARGET]\n",
    "X_test , y_test  = df_test[FEATURES] , df_test[TARGET]"
   ]
  },
  {
   "cell_type": "code",
   "execution_count": 11,
   "id": "0f0a0eec",
   "metadata": {},
   "outputs": [
    {
     "name": "stdout",
     "output_type": "stream",
     "text": [
      "Colunas 'object' restantes em X_train: Series([], dtype: object)\n",
      "Colunas 'object' restantes em df_test: Series([], dtype: object)\n"
     ]
    }
   ],
   "source": [
    "# --------------------------------------------------\n",
    "# Garantir cópias independentes dos conjuntos de treino e teste\n",
    "# --------------------------------------------------\n",
    "X_train = df_train[FEATURES].copy()\n",
    "X_test = df_test[FEATURES].copy()\n",
    "\n",
    "# --------------------------------------------------\n",
    "# Converter colunas categóricas (tipo object) para 'category' em X e df\n",
    "# --------------------------------------------------\n",
    "def convert_object_to_category(df):\n",
    "    obj_cols = df.select_dtypes(include='object').columns\n",
    "    df[obj_cols] = df[obj_cols].astype('category')\n",
    "    return df\n",
    "\n",
    "# Aplicar nos conjuntos usados no modelo\n",
    "X_train = convert_object_to_category(X_train)\n",
    "X_test = convert_object_to_category(X_test)\n",
    "\n",
    "# Garantir que df_train e df_test também estejam com tipos consistentes\n",
    "df_train = convert_object_to_category(df_train)\n",
    "df_test = convert_object_to_category(df_test)\n",
    "\n",
    "# --------------------------------------------------\n",
    "# Verificações finais\n",
    "# --------------------------------------------------\n",
    "print(\"Colunas 'object' restantes em X_train:\", X_train.dtypes[X_train.dtypes == 'object'])\n",
    "print(\"Colunas 'object' restantes em df_test:\", df_test.dtypes[df_test.dtypes == 'object'])\n"
   ]
  },
  {
   "cell_type": "code",
   "execution_count": 12,
   "id": "54283e46",
   "metadata": {},
   "outputs": [],
   "source": [
    "num_cols = df_train.select_dtypes(include=[float, int]).columns.tolist()\n",
    "\n",
    "for col in ['index', 'id', TARGET]:\n",
    "    try:\n",
    "        num_cols.remove(col)\n",
    "    except:\n",
    "        pass   "
   ]
  },
  {
   "cell_type": "code",
   "execution_count": 13,
   "id": "c955d81b",
   "metadata": {},
   "outputs": [
    {
     "name": "stderr",
     "output_type": "stream",
     "text": [
      "INFO: Ignoring columns (no scaling): ['date', 'target']\n",
      "WARNING: Ignoring non-numeric columns: ['id', 'date', 'target']\n"
     ]
    },
    {
     "name": "stdout",
     "output_type": "stream",
     "text": [
      "\n",
      "Resumo das decisões por feature:\n"
     ]
    },
    {
     "data": {
      "text/html": [
       "<div>\n",
       "<style scoped>\n",
       "    .dataframe tbody tr th:only-of-type {\n",
       "        vertical-align: middle;\n",
       "    }\n",
       "\n",
       "    .dataframe tbody tr th {\n",
       "        vertical-align: top;\n",
       "    }\n",
       "\n",
       "    .dataframe thead th {\n",
       "        text-align: right;\n",
       "    }\n",
       "</style>\n",
       "<table border=\"1\" class=\"dataframe\">\n",
       "  <thead>\n",
       "    <tr style=\"text-align: right;\">\n",
       "      <th></th>\n",
       "      <th>chosen_scaler</th>\n",
       "      <th>validation_stats</th>\n",
       "      <th>ignored</th>\n",
       "      <th>candidates_tried</th>\n",
       "      <th>reason</th>\n",
       "    </tr>\n",
       "  </thead>\n",
       "  <tbody>\n",
       "    <tr>\n",
       "      <th>funded_amnt_inv</th>\n",
       "      <td>None</td>\n",
       "      <td>{'post_std': nan, 'post_iqr': nan, 'post_n_uni...</td>\n",
       "      <td>[]</td>\n",
       "      <td>[PowerTransformer, QuantileTransformer, Robust...</td>\n",
       "      <td>all_rejected</td>\n",
       "    </tr>\n",
       "    <tr>\n",
       "      <th>annual_inc</th>\n",
       "      <td>PowerTransformer</td>\n",
       "      <td>{'post_std': 1.0, 'post_iqr': 1.25883383964778...</td>\n",
       "      <td>[]</td>\n",
       "      <td>[PowerTransformer]</td>\n",
       "      <td>stats|skew|kurt</td>\n",
       "    </tr>\n",
       "    <tr>\n",
       "      <th>dti</th>\n",
       "      <td>PowerTransformer</td>\n",
       "      <td>{'post_std': 1.0, 'post_iqr': 1.31074266651550...</td>\n",
       "      <td>[]</td>\n",
       "      <td>[PowerTransformer]</td>\n",
       "      <td>stats|skew|kurt</td>\n",
       "    </tr>\n",
       "    <tr>\n",
       "      <th>fico_range_high</th>\n",
       "      <td>None</td>\n",
       "      <td>{'post_std': nan, 'post_iqr': nan, 'post_n_uni...</td>\n",
       "      <td>[]</td>\n",
       "      <td>[PowerTransformer, QuantileTransformer, Robust...</td>\n",
       "      <td>all_rejected</td>\n",
       "    </tr>\n",
       "    <tr>\n",
       "      <th>out_prncp_inv</th>\n",
       "      <td>None</td>\n",
       "      <td>{'post_std': nan, 'post_iqr': nan, 'post_n_uni...</td>\n",
       "      <td>[]</td>\n",
       "      <td>[PowerTransformer, QuantileTransformer, Robust...</td>\n",
       "      <td>all_rejected</td>\n",
       "    </tr>\n",
       "    <tr>\n",
       "      <th>total_rec_prncp</th>\n",
       "      <td>None</td>\n",
       "      <td>{'post_std': nan, 'post_iqr': nan, 'post_n_uni...</td>\n",
       "      <td>[]</td>\n",
       "      <td>[PowerTransformer, QuantileTransformer, Robust...</td>\n",
       "      <td>all_rejected</td>\n",
       "    </tr>\n",
       "    <tr>\n",
       "      <th>last_pymnt_amnt</th>\n",
       "      <td>PowerTransformer</td>\n",
       "      <td>{'post_std': 1.0, 'post_iqr': 1.57758984077859...</td>\n",
       "      <td>[]</td>\n",
       "      <td>[PowerTransformer]</td>\n",
       "      <td>stats|skew|kurt</td>\n",
       "    </tr>\n",
       "    <tr>\n",
       "      <th>last_fico_range_low</th>\n",
       "      <td>PowerTransformer</td>\n",
       "      <td>{'post_std': 0.9999999999999999, 'post_iqr': 1...</td>\n",
       "      <td>[]</td>\n",
       "      <td>[PowerTransformer]</td>\n",
       "      <td>stats|skew|kurt</td>\n",
       "    </tr>\n",
       "    <tr>\n",
       "      <th>acc_open_past_24mths</th>\n",
       "      <td>PowerTransformer</td>\n",
       "      <td>{'post_std': 0.9999999999999999, 'post_iqr': 1...</td>\n",
       "      <td>[]</td>\n",
       "      <td>[PowerTransformer]</td>\n",
       "      <td>stats|skew|kurt</td>\n",
       "    </tr>\n",
       "    <tr>\n",
       "      <th>avg_cur_bal</th>\n",
       "      <td>PowerTransformer</td>\n",
       "      <td>{'post_std': 0.9999999999999999, 'post_iqr': 1...</td>\n",
       "      <td>[]</td>\n",
       "      <td>[PowerTransformer]</td>\n",
       "      <td>stats|skew|kurt</td>\n",
       "    </tr>\n",
       "    <tr>\n",
       "      <th>bc_open_to_buy</th>\n",
       "      <td>PowerTransformer</td>\n",
       "      <td>{'post_std': 0.9999999999999999, 'post_iqr': 1...</td>\n",
       "      <td>[]</td>\n",
       "      <td>[PowerTransformer]</td>\n",
       "      <td>stats|skew|kurt</td>\n",
       "    </tr>\n",
       "    <tr>\n",
       "      <th>mo_sin_old_rev_tl_op</th>\n",
       "      <td>None</td>\n",
       "      <td>{'post_std': nan, 'post_iqr': nan, 'post_n_uni...</td>\n",
       "      <td>[]</td>\n",
       "      <td>[PowerTransformer, QuantileTransformer, Robust...</td>\n",
       "      <td>all_rejected</td>\n",
       "    </tr>\n",
       "    <tr>\n",
       "      <th>mo_sin_rcnt_rev_tl_op</th>\n",
       "      <td>PowerTransformer</td>\n",
       "      <td>{'post_std': 1.0, 'post_iqr': 1.43999081590609...</td>\n",
       "      <td>[]</td>\n",
       "      <td>[PowerTransformer]</td>\n",
       "      <td>stats|skew|kurt</td>\n",
       "    </tr>\n",
       "    <tr>\n",
       "      <th>mo_sin_rcnt_tl</th>\n",
       "      <td>PowerTransformer</td>\n",
       "      <td>{'post_std': 1.0, 'post_iqr': 1.49073061074189...</td>\n",
       "      <td>[]</td>\n",
       "      <td>[PowerTransformer]</td>\n",
       "      <td>stats|skew|kurt</td>\n",
       "    </tr>\n",
       "    <tr>\n",
       "      <th>mort_acc</th>\n",
       "      <td>PowerTransformer</td>\n",
       "      <td>{'post_std': 1.0, 'post_iqr': 2.08200283993549...</td>\n",
       "      <td>[]</td>\n",
       "      <td>[PowerTransformer]</td>\n",
       "      <td>stats|skew|kurt</td>\n",
       "    </tr>\n",
       "    <tr>\n",
       "      <th>mths_since_recent_bc</th>\n",
       "      <td>PowerTransformer</td>\n",
       "      <td>{'post_std': 1.0, 'post_iqr': 1.45805020999448...</td>\n",
       "      <td>[]</td>\n",
       "      <td>[PowerTransformer]</td>\n",
       "      <td>stats|skew|kurt</td>\n",
       "    </tr>\n",
       "    <tr>\n",
       "      <th>mths_since_recent_inq</th>\n",
       "      <td>PowerTransformer</td>\n",
       "      <td>{'post_std': 1.0, 'post_iqr': 1.43983286137965...</td>\n",
       "      <td>[]</td>\n",
       "      <td>[PowerTransformer]</td>\n",
       "      <td>stats|skew|kurt</td>\n",
       "    </tr>\n",
       "    <tr>\n",
       "      <th>num_tl_op_past_12m</th>\n",
       "      <td>PowerTransformer</td>\n",
       "      <td>{'post_std': 1.0, 'post_iqr': 1.16650974893866...</td>\n",
       "      <td>[]</td>\n",
       "      <td>[PowerTransformer]</td>\n",
       "      <td>stats|skew|kurt</td>\n",
       "    </tr>\n",
       "    <tr>\n",
       "      <th>percent_bc_gt_75</th>\n",
       "      <td>PowerTransformer</td>\n",
       "      <td>{'post_std': 0.9999999999999999, 'post_iqr': 1...</td>\n",
       "      <td>[]</td>\n",
       "      <td>[PowerTransformer]</td>\n",
       "      <td>stats|skew|kurt</td>\n",
       "    </tr>\n",
       "    <tr>\n",
       "      <th>total_bc_limit</th>\n",
       "      <td>PowerTransformer</td>\n",
       "      <td>{'post_std': 1.0, 'post_iqr': 1.28017710749762...</td>\n",
       "      <td>[]</td>\n",
       "      <td>[PowerTransformer]</td>\n",
       "      <td>stats|skew|kurt</td>\n",
       "    </tr>\n",
       "  </tbody>\n",
       "</table>\n",
       "</div>"
      ],
      "text/plain": [
       "                          chosen_scaler  \\\n",
       "funded_amnt_inv                    None   \n",
       "annual_inc             PowerTransformer   \n",
       "dti                    PowerTransformer   \n",
       "fico_range_high                    None   \n",
       "out_prncp_inv                      None   \n",
       "total_rec_prncp                    None   \n",
       "last_pymnt_amnt        PowerTransformer   \n",
       "last_fico_range_low    PowerTransformer   \n",
       "acc_open_past_24mths   PowerTransformer   \n",
       "avg_cur_bal            PowerTransformer   \n",
       "bc_open_to_buy         PowerTransformer   \n",
       "mo_sin_old_rev_tl_op               None   \n",
       "mo_sin_rcnt_rev_tl_op  PowerTransformer   \n",
       "mo_sin_rcnt_tl         PowerTransformer   \n",
       "mort_acc               PowerTransformer   \n",
       "mths_since_recent_bc   PowerTransformer   \n",
       "mths_since_recent_inq  PowerTransformer   \n",
       "num_tl_op_past_12m     PowerTransformer   \n",
       "percent_bc_gt_75       PowerTransformer   \n",
       "total_bc_limit         PowerTransformer   \n",
       "\n",
       "                                                        validation_stats  \\\n",
       "funded_amnt_inv        {'post_std': nan, 'post_iqr': nan, 'post_n_uni...   \n",
       "annual_inc             {'post_std': 1.0, 'post_iqr': 1.25883383964778...   \n",
       "dti                    {'post_std': 1.0, 'post_iqr': 1.31074266651550...   \n",
       "fico_range_high        {'post_std': nan, 'post_iqr': nan, 'post_n_uni...   \n",
       "out_prncp_inv          {'post_std': nan, 'post_iqr': nan, 'post_n_uni...   \n",
       "total_rec_prncp        {'post_std': nan, 'post_iqr': nan, 'post_n_uni...   \n",
       "last_pymnt_amnt        {'post_std': 1.0, 'post_iqr': 1.57758984077859...   \n",
       "last_fico_range_low    {'post_std': 0.9999999999999999, 'post_iqr': 1...   \n",
       "acc_open_past_24mths   {'post_std': 0.9999999999999999, 'post_iqr': 1...   \n",
       "avg_cur_bal            {'post_std': 0.9999999999999999, 'post_iqr': 1...   \n",
       "bc_open_to_buy         {'post_std': 0.9999999999999999, 'post_iqr': 1...   \n",
       "mo_sin_old_rev_tl_op   {'post_std': nan, 'post_iqr': nan, 'post_n_uni...   \n",
       "mo_sin_rcnt_rev_tl_op  {'post_std': 1.0, 'post_iqr': 1.43999081590609...   \n",
       "mo_sin_rcnt_tl         {'post_std': 1.0, 'post_iqr': 1.49073061074189...   \n",
       "mort_acc               {'post_std': 1.0, 'post_iqr': 2.08200283993549...   \n",
       "mths_since_recent_bc   {'post_std': 1.0, 'post_iqr': 1.45805020999448...   \n",
       "mths_since_recent_inq  {'post_std': 1.0, 'post_iqr': 1.43983286137965...   \n",
       "num_tl_op_past_12m     {'post_std': 1.0, 'post_iqr': 1.16650974893866...   \n",
       "percent_bc_gt_75       {'post_std': 0.9999999999999999, 'post_iqr': 1...   \n",
       "total_bc_limit         {'post_std': 1.0, 'post_iqr': 1.28017710749762...   \n",
       "\n",
       "                      ignored  \\\n",
       "funded_amnt_inv            []   \n",
       "annual_inc                 []   \n",
       "dti                        []   \n",
       "fico_range_high            []   \n",
       "out_prncp_inv              []   \n",
       "total_rec_prncp            []   \n",
       "last_pymnt_amnt            []   \n",
       "last_fico_range_low        []   \n",
       "acc_open_past_24mths       []   \n",
       "avg_cur_bal                []   \n",
       "bc_open_to_buy             []   \n",
       "mo_sin_old_rev_tl_op       []   \n",
       "mo_sin_rcnt_rev_tl_op      []   \n",
       "mo_sin_rcnt_tl             []   \n",
       "mort_acc                   []   \n",
       "mths_since_recent_bc       []   \n",
       "mths_since_recent_inq      []   \n",
       "num_tl_op_past_12m         []   \n",
       "percent_bc_gt_75           []   \n",
       "total_bc_limit             []   \n",
       "\n",
       "                                                        candidates_tried  \\\n",
       "funded_amnt_inv        [PowerTransformer, QuantileTransformer, Robust...   \n",
       "annual_inc                                            [PowerTransformer]   \n",
       "dti                                                   [PowerTransformer]   \n",
       "fico_range_high        [PowerTransformer, QuantileTransformer, Robust...   \n",
       "out_prncp_inv          [PowerTransformer, QuantileTransformer, Robust...   \n",
       "total_rec_prncp        [PowerTransformer, QuantileTransformer, Robust...   \n",
       "last_pymnt_amnt                                       [PowerTransformer]   \n",
       "last_fico_range_low                                   [PowerTransformer]   \n",
       "acc_open_past_24mths                                  [PowerTransformer]   \n",
       "avg_cur_bal                                           [PowerTransformer]   \n",
       "bc_open_to_buy                                        [PowerTransformer]   \n",
       "mo_sin_old_rev_tl_op   [PowerTransformer, QuantileTransformer, Robust...   \n",
       "mo_sin_rcnt_rev_tl_op                                 [PowerTransformer]   \n",
       "mo_sin_rcnt_tl                                        [PowerTransformer]   \n",
       "mort_acc                                              [PowerTransformer]   \n",
       "mths_since_recent_bc                                  [PowerTransformer]   \n",
       "mths_since_recent_inq                                 [PowerTransformer]   \n",
       "num_tl_op_past_12m                                    [PowerTransformer]   \n",
       "percent_bc_gt_75                                      [PowerTransformer]   \n",
       "total_bc_limit                                        [PowerTransformer]   \n",
       "\n",
       "                                reason  \n",
       "funded_amnt_inv           all_rejected  \n",
       "annual_inc             stats|skew|kurt  \n",
       "dti                    stats|skew|kurt  \n",
       "fico_range_high           all_rejected  \n",
       "out_prncp_inv             all_rejected  \n",
       "total_rec_prncp           all_rejected  \n",
       "last_pymnt_amnt        stats|skew|kurt  \n",
       "last_fico_range_low    stats|skew|kurt  \n",
       "acc_open_past_24mths   stats|skew|kurt  \n",
       "avg_cur_bal            stats|skew|kurt  \n",
       "bc_open_to_buy         stats|skew|kurt  \n",
       "mo_sin_old_rev_tl_op      all_rejected  \n",
       "mo_sin_rcnt_rev_tl_op  stats|skew|kurt  \n",
       "mo_sin_rcnt_tl         stats|skew|kurt  \n",
       "mort_acc               stats|skew|kurt  \n",
       "mths_since_recent_bc   stats|skew|kurt  \n",
       "mths_since_recent_inq  stats|skew|kurt  \n",
       "num_tl_op_past_12m     stats|skew|kurt  \n",
       "percent_bc_gt_75       stats|skew|kurt  \n",
       "total_bc_limit         stats|skew|kurt  "
      ]
     },
     "metadata": {},
     "output_type": "display_data"
    }
   ],
   "source": [
    "# Aplicar o DynamicScaler no treino\n",
    "from riskpilot.utils.scaler import DynamicScaler\n",
    "scaler = DynamicScaler(\n",
    "    strategy=\"auto\",\n",
    "    shapiro_p_val = 0.01, # se aumentar fica mais restritiva a escolha de StandardScaler()\n",
    "    #serialize=True,\n",
    "    #save_path=\"scalers.pkl\", # arquivo com informações de escalonamento salvas \n",
    "    random_state=42,\n",
    "    ignore_cols=ID_COLS+IGNORE_COLS+DATE_COLS+[TARGET]\n",
    ")\n",
    "\n",
    "scaler.fit(df_train)\n",
    "\n",
    "# Relatório das decisões\n",
    "print(\"\\nResumo das decisões por feature:\")\n",
    "display(scaler.report_as_df())"
   ]
  },
  {
   "cell_type": "code",
   "execution_count": 14,
   "id": "42b96416",
   "metadata": {},
   "outputs": [
    {
     "data": {
      "text/html": [
       "<div>\n",
       "<style scoped>\n",
       "    .dataframe tbody tr th:only-of-type {\n",
       "        vertical-align: middle;\n",
       "    }\n",
       "\n",
       "    .dataframe tbody tr th {\n",
       "        vertical-align: top;\n",
       "    }\n",
       "\n",
       "    .dataframe thead th {\n",
       "        text-align: right;\n",
       "    }\n",
       "</style>\n",
       "<table border=\"1\" class=\"dataframe\">\n",
       "  <thead>\n",
       "    <tr style=\"text-align: right;\">\n",
       "      <th></th>\n",
       "      <th>funded_amnt_inv</th>\n",
       "      <th>annual_inc</th>\n",
       "      <th>dti</th>\n",
       "      <th>fico_range_high</th>\n",
       "      <th>out_prncp_inv</th>\n",
       "      <th>total_rec_prncp</th>\n",
       "      <th>last_pymnt_amnt</th>\n",
       "      <th>last_fico_range_low</th>\n",
       "      <th>acc_open_past_24mths</th>\n",
       "      <th>avg_cur_bal</th>\n",
       "      <th>bc_open_to_buy</th>\n",
       "      <th>mo_sin_old_rev_tl_op</th>\n",
       "      <th>mo_sin_rcnt_rev_tl_op</th>\n",
       "      <th>mo_sin_rcnt_tl</th>\n",
       "      <th>mort_acc</th>\n",
       "      <th>mths_since_recent_bc</th>\n",
       "      <th>mths_since_recent_inq</th>\n",
       "      <th>num_tl_op_past_12m</th>\n",
       "      <th>percent_bc_gt_75</th>\n",
       "      <th>total_bc_limit</th>\n",
       "    </tr>\n",
       "  </thead>\n",
       "  <tbody>\n",
       "    <tr>\n",
       "      <th>2323</th>\n",
       "      <td>20800.0</td>\n",
       "      <td>109000.00000</td>\n",
       "      <td>32.550000</td>\n",
       "      <td>709.0</td>\n",
       "      <td>1380.390000</td>\n",
       "      <td>19419.610000</td>\n",
       "      <td>650.940000</td>\n",
       "      <td>625.0</td>\n",
       "      <td>1.0</td>\n",
       "      <td>14188.000000</td>\n",
       "      <td>3480.000000</td>\n",
       "      <td>153.000000</td>\n",
       "      <td>28.0</td>\n",
       "      <td>10.0</td>\n",
       "      <td>3.0</td>\n",
       "      <td>28.0</td>\n",
       "      <td>10.0</td>\n",
       "      <td>1.0</td>\n",
       "      <td>14.3</td>\n",
       "      <td>8800.000000</td>\n",
       "    </tr>\n",
       "    <tr>\n",
       "      <th>2323</th>\n",
       "      <td>6400.0</td>\n",
       "      <td>44326.96338</td>\n",
       "      <td>22.239569</td>\n",
       "      <td>664.0</td>\n",
       "      <td>0.000000</td>\n",
       "      <td>1530.466588</td>\n",
       "      <td>400.135533</td>\n",
       "      <td>510.0</td>\n",
       "      <td>11.0</td>\n",
       "      <td>1654.014555</td>\n",
       "      <td>1514.578254</td>\n",
       "      <td>164.000000</td>\n",
       "      <td>3.0</td>\n",
       "      <td>1.0</td>\n",
       "      <td>0.0</td>\n",
       "      <td>4.0</td>\n",
       "      <td>3.0</td>\n",
       "      <td>4.0</td>\n",
       "      <td>66.7</td>\n",
       "      <td>7300.000000</td>\n",
       "    </tr>\n",
       "    <tr>\n",
       "      <th>16081</th>\n",
       "      <td>18000.0</td>\n",
       "      <td>50000.00000</td>\n",
       "      <td>21.842074</td>\n",
       "      <td>684.0</td>\n",
       "      <td>0.000000</td>\n",
       "      <td>10000.000000</td>\n",
       "      <td>300.260335</td>\n",
       "      <td>685.0</td>\n",
       "      <td>3.0</td>\n",
       "      <td>9126.145146</td>\n",
       "      <td>3874.796460</td>\n",
       "      <td>166.000000</td>\n",
       "      <td>6.0</td>\n",
       "      <td>3.0</td>\n",
       "      <td>4.0</td>\n",
       "      <td>10.0</td>\n",
       "      <td>9.0</td>\n",
       "      <td>5.0</td>\n",
       "      <td>33.3</td>\n",
       "      <td>6000.000000</td>\n",
       "    </tr>\n",
       "    <tr>\n",
       "      <th>28947</th>\n",
       "      <td>11000.0</td>\n",
       "      <td>68000.00000</td>\n",
       "      <td>11.980068</td>\n",
       "      <td>719.0</td>\n",
       "      <td>15672.493832</td>\n",
       "      <td>5883.854656</td>\n",
       "      <td>359.035539</td>\n",
       "      <td>810.0</td>\n",
       "      <td>6.0</td>\n",
       "      <td>24251.252649</td>\n",
       "      <td>19426.055683</td>\n",
       "      <td>100.698422</td>\n",
       "      <td>9.0</td>\n",
       "      <td>2.0</td>\n",
       "      <td>0.0</td>\n",
       "      <td>2.0</td>\n",
       "      <td>2.0</td>\n",
       "      <td>3.0</td>\n",
       "      <td>0.0</td>\n",
       "      <td>26010.693823</td>\n",
       "    </tr>\n",
       "    <tr>\n",
       "      <th>2905</th>\n",
       "      <td>24000.0</td>\n",
       "      <td>147000.00000</td>\n",
       "      <td>23.810000</td>\n",
       "      <td>714.0</td>\n",
       "      <td>0.000000</td>\n",
       "      <td>24000.000000</td>\n",
       "      <td>16026.450000</td>\n",
       "      <td>725.0</td>\n",
       "      <td>2.0</td>\n",
       "      <td>8511.000000</td>\n",
       "      <td>20239.000000</td>\n",
       "      <td>184.000000</td>\n",
       "      <td>7.0</td>\n",
       "      <td>7.0</td>\n",
       "      <td>2.0</td>\n",
       "      <td>80.0</td>\n",
       "      <td>5.0</td>\n",
       "      <td>1.0</td>\n",
       "      <td>25.0</td>\n",
       "      <td>58500.000000</td>\n",
       "    </tr>\n",
       "  </tbody>\n",
       "</table>\n",
       "</div>"
      ],
      "text/plain": [
       "       funded_amnt_inv    annual_inc        dti  fico_range_high  \\\n",
       "2323           20800.0  109000.00000  32.550000            709.0   \n",
       "2323            6400.0   44326.96338  22.239569            664.0   \n",
       "16081          18000.0   50000.00000  21.842074            684.0   \n",
       "28947          11000.0   68000.00000  11.980068            719.0   \n",
       "2905           24000.0  147000.00000  23.810000            714.0   \n",
       "\n",
       "       out_prncp_inv  total_rec_prncp  last_pymnt_amnt  last_fico_range_low  \\\n",
       "2323     1380.390000     19419.610000       650.940000                625.0   \n",
       "2323        0.000000      1530.466588       400.135533                510.0   \n",
       "16081       0.000000     10000.000000       300.260335                685.0   \n",
       "28947   15672.493832      5883.854656       359.035539                810.0   \n",
       "2905        0.000000     24000.000000     16026.450000                725.0   \n",
       "\n",
       "       acc_open_past_24mths   avg_cur_bal  bc_open_to_buy  \\\n",
       "2323                    1.0  14188.000000     3480.000000   \n",
       "2323                   11.0   1654.014555     1514.578254   \n",
       "16081                   3.0   9126.145146     3874.796460   \n",
       "28947                   6.0  24251.252649    19426.055683   \n",
       "2905                    2.0   8511.000000    20239.000000   \n",
       "\n",
       "       mo_sin_old_rev_tl_op  mo_sin_rcnt_rev_tl_op  mo_sin_rcnt_tl  mort_acc  \\\n",
       "2323             153.000000                   28.0            10.0       3.0   \n",
       "2323             164.000000                    3.0             1.0       0.0   \n",
       "16081            166.000000                    6.0             3.0       4.0   \n",
       "28947            100.698422                    9.0             2.0       0.0   \n",
       "2905             184.000000                    7.0             7.0       2.0   \n",
       "\n",
       "       mths_since_recent_bc  mths_since_recent_inq  num_tl_op_past_12m  \\\n",
       "2323                   28.0                   10.0                 1.0   \n",
       "2323                    4.0                    3.0                 4.0   \n",
       "16081                  10.0                    9.0                 5.0   \n",
       "28947                   2.0                    2.0                 3.0   \n",
       "2905                   80.0                    5.0                 1.0   \n",
       "\n",
       "       percent_bc_gt_75  total_bc_limit  \n",
       "2323               14.3     8800.000000  \n",
       "2323               66.7     7300.000000  \n",
       "16081              33.3     6000.000000  \n",
       "28947               0.0    26010.693823  \n",
       "2905               25.0    58500.000000  "
      ]
     },
     "metadata": {},
     "output_type": "display_data"
    },
    {
     "name": "stderr",
     "output_type": "stream",
     "text": [
      "INFO: Untouched columns preserved: ['id', 'date', 'target']\n"
     ]
    },
    {
     "name": "stdout",
     "output_type": "stream",
     "text": [
      "\n",
      "Exemplo de dados escalados (treino):\n"
     ]
    },
    {
     "data": {
      "text/html": [
       "<div>\n",
       "<style scoped>\n",
       "    .dataframe tbody tr th:only-of-type {\n",
       "        vertical-align: middle;\n",
       "    }\n",
       "\n",
       "    .dataframe tbody tr th {\n",
       "        vertical-align: top;\n",
       "    }\n",
       "\n",
       "    .dataframe thead th {\n",
       "        text-align: right;\n",
       "    }\n",
       "</style>\n",
       "<table border=\"1\" class=\"dataframe\">\n",
       "  <thead>\n",
       "    <tr style=\"text-align: right;\">\n",
       "      <th></th>\n",
       "      <th>funded_amnt_inv</th>\n",
       "      <th>annual_inc</th>\n",
       "      <th>dti</th>\n",
       "      <th>fico_range_high</th>\n",
       "      <th>out_prncp_inv</th>\n",
       "      <th>total_rec_prncp</th>\n",
       "      <th>last_pymnt_amnt</th>\n",
       "      <th>last_fico_range_low</th>\n",
       "      <th>acc_open_past_24mths</th>\n",
       "      <th>avg_cur_bal</th>\n",
       "      <th>bc_open_to_buy</th>\n",
       "      <th>mo_sin_old_rev_tl_op</th>\n",
       "      <th>mo_sin_rcnt_rev_tl_op</th>\n",
       "      <th>mo_sin_rcnt_tl</th>\n",
       "      <th>mort_acc</th>\n",
       "      <th>mths_since_recent_bc</th>\n",
       "      <th>mths_since_recent_inq</th>\n",
       "      <th>num_tl_op_past_12m</th>\n",
       "      <th>percent_bc_gt_75</th>\n",
       "      <th>total_bc_limit</th>\n",
       "    </tr>\n",
       "  </thead>\n",
       "  <tbody>\n",
       "    <tr>\n",
       "      <th>2323</th>\n",
       "      <td>20800.0</td>\n",
       "      <td>0.901128</td>\n",
       "      <td>1.224344</td>\n",
       "      <td>709.0</td>\n",
       "      <td>1380.390000</td>\n",
       "      <td>19419.610000</td>\n",
       "      <td>-0.396687</td>\n",
       "      <td>-0.566489</td>\n",
       "      <td>-1.462000</td>\n",
       "      <td>0.523200</td>\n",
       "      <td>-0.258031</td>\n",
       "      <td>153.000000</td>\n",
       "      <td>1.221213</td>\n",
       "      <td>0.790870</td>\n",
       "      <td>0.948472</td>\n",
       "      <td>0.678946</td>\n",
       "      <td>0.866477</td>\n",
       "      <td>-0.608237</td>\n",
       "      <td>-0.525287</td>\n",
       "      <td>-0.608031</td>\n",
       "    </tr>\n",
       "    <tr>\n",
       "      <th>2323</th>\n",
       "      <td>6400.0</td>\n",
       "      <td>-0.794475</td>\n",
       "      <td>0.419812</td>\n",
       "      <td>664.0</td>\n",
       "      <td>0.000000</td>\n",
       "      <td>1530.466588</td>\n",
       "      <td>-0.633694</td>\n",
       "      <td>-1.642417</td>\n",
       "      <td>1.584364</td>\n",
       "      <td>-1.312304</td>\n",
       "      <td>-0.708497</td>\n",
       "      <td>164.000000</td>\n",
       "      <td>-0.733274</td>\n",
       "      <td>-1.340783</td>\n",
       "      <td>-1.134461</td>\n",
       "      <td>-0.951355</td>\n",
       "      <td>-0.389054</td>\n",
       "      <td>0.961930</td>\n",
       "      <td>0.741226</td>\n",
       "      <td>-0.757333</td>\n",
       "    </tr>\n",
       "    <tr>\n",
       "      <th>16081</th>\n",
       "      <td>18000.0</td>\n",
       "      <td>-0.558499</td>\n",
       "      <td>0.383897</td>\n",
       "      <td>684.0</td>\n",
       "      <td>0.000000</td>\n",
       "      <td>10000.000000</td>\n",
       "      <td>-0.768212</td>\n",
       "      <td>0.090983</td>\n",
       "      <td>-0.476236</td>\n",
       "      <td>0.117148</td>\n",
       "      <td>-0.193861</td>\n",
       "      <td>166.000000</td>\n",
       "      <td>-0.170393</td>\n",
       "      <td>-0.448727</td>\n",
       "      <td>1.216725</td>\n",
       "      <td>-0.216256</td>\n",
       "      <td>0.736022</td>\n",
       "      <td>1.300851</td>\n",
       "      <td>0.061365</td>\n",
       "      <td>-0.905394</td>\n",
       "    </tr>\n",
       "    <tr>\n",
       "      <th>28947</th>\n",
       "      <td>11000.0</td>\n",
       "      <td>0.031151</td>\n",
       "      <td>-0.706591</td>\n",
       "      <td>719.0</td>\n",
       "      <td>15672.493832</td>\n",
       "      <td>5883.854656</td>\n",
       "      <td>-0.684925</td>\n",
       "      <td>1.675829</td>\n",
       "      <td>0.487014</td>\n",
       "      <td>1.038451</td>\n",
       "      <td>0.965692</td>\n",
       "      <td>100.698422</td>\n",
       "      <td>0.183901</td>\n",
       "      <td>-0.814644</td>\n",
       "      <td>-1.134461</td>\n",
       "      <td>-1.430986</td>\n",
       "      <td>-0.698380</td>\n",
       "      <td>0.559505</td>\n",
       "      <td>-1.499756</td>\n",
       "      <td>0.441037</td>\n",
       "    </tr>\n",
       "    <tr>\n",
       "      <th>2905</th>\n",
       "      <td>24000.0</td>\n",
       "      <td>1.431505</td>\n",
       "      <td>0.557438</td>\n",
       "      <td>714.0</td>\n",
       "      <td>0.000000</td>\n",
       "      <td>24000.000000</td>\n",
       "      <td>1.484337</td>\n",
       "      <td>0.566350</td>\n",
       "      <td>-0.910857</td>\n",
       "      <td>0.054380</td>\n",
       "      <td>1.000623</td>\n",
       "      <td>184.000000</td>\n",
       "      <td>-0.037348</td>\n",
       "      <td>0.408406</td>\n",
       "      <td>0.577897</td>\n",
       "      <td>1.617241</td>\n",
       "      <td>0.081209</td>\n",
       "      <td>-0.608237</td>\n",
       "      <td>-0.163342</td>\n",
       "      <td>1.477129</td>\n",
       "    </tr>\n",
       "  </tbody>\n",
       "</table>\n",
       "</div>"
      ],
      "text/plain": [
       "       funded_amnt_inv  annual_inc       dti  fico_range_high  out_prncp_inv  \\\n",
       "2323           20800.0    0.901128  1.224344            709.0    1380.390000   \n",
       "2323            6400.0   -0.794475  0.419812            664.0       0.000000   \n",
       "16081          18000.0   -0.558499  0.383897            684.0       0.000000   \n",
       "28947          11000.0    0.031151 -0.706591            719.0   15672.493832   \n",
       "2905           24000.0    1.431505  0.557438            714.0       0.000000   \n",
       "\n",
       "       total_rec_prncp  last_pymnt_amnt  last_fico_range_low  \\\n",
       "2323      19419.610000        -0.396687            -0.566489   \n",
       "2323       1530.466588        -0.633694            -1.642417   \n",
       "16081     10000.000000        -0.768212             0.090983   \n",
       "28947      5883.854656        -0.684925             1.675829   \n",
       "2905      24000.000000         1.484337             0.566350   \n",
       "\n",
       "       acc_open_past_24mths  avg_cur_bal  bc_open_to_buy  \\\n",
       "2323              -1.462000     0.523200       -0.258031   \n",
       "2323               1.584364    -1.312304       -0.708497   \n",
       "16081             -0.476236     0.117148       -0.193861   \n",
       "28947              0.487014     1.038451        0.965692   \n",
       "2905              -0.910857     0.054380        1.000623   \n",
       "\n",
       "       mo_sin_old_rev_tl_op  mo_sin_rcnt_rev_tl_op  mo_sin_rcnt_tl  mort_acc  \\\n",
       "2323             153.000000               1.221213        0.790870  0.948472   \n",
       "2323             164.000000              -0.733274       -1.340783 -1.134461   \n",
       "16081            166.000000              -0.170393       -0.448727  1.216725   \n",
       "28947            100.698422               0.183901       -0.814644 -1.134461   \n",
       "2905             184.000000              -0.037348        0.408406  0.577897   \n",
       "\n",
       "       mths_since_recent_bc  mths_since_recent_inq  num_tl_op_past_12m  \\\n",
       "2323               0.678946               0.866477           -0.608237   \n",
       "2323              -0.951355              -0.389054            0.961930   \n",
       "16081             -0.216256               0.736022            1.300851   \n",
       "28947             -1.430986              -0.698380            0.559505   \n",
       "2905               1.617241               0.081209           -0.608237   \n",
       "\n",
       "       percent_bc_gt_75  total_bc_limit  \n",
       "2323          -0.525287       -0.608031  \n",
       "2323           0.741226       -0.757333  \n",
       "16081          0.061365       -0.905394  \n",
       "28947         -1.499756        0.441037  \n",
       "2905          -0.163342        1.477129  "
      ]
     },
     "metadata": {},
     "output_type": "display_data"
    }
   ],
   "source": [
    "display(X_train.head())\n",
    "\n",
    "# 5. Transformar o conjunto de treino\n",
    "df_train_scaled = scaler.transform(df_train, return_df=True)\n",
    "X_train_scaled = scaler.transform(X_train, return_df=True)\n",
    "\n",
    "print(\"\\nExemplo de dados escalados (treino):\")\n",
    "display(X_train_scaled.head())"
   ]
  },
  {
   "cell_type": "code",
   "execution_count": 15,
   "id": "4bacd8fa",
   "metadata": {},
   "outputs": [
    {
     "data": {
      "text/html": [
       "<div>\n",
       "<style scoped>\n",
       "    .dataframe tbody tr th:only-of-type {\n",
       "        vertical-align: middle;\n",
       "    }\n",
       "\n",
       "    .dataframe tbody tr th {\n",
       "        vertical-align: top;\n",
       "    }\n",
       "\n",
       "    .dataframe thead th {\n",
       "        text-align: right;\n",
       "    }\n",
       "</style>\n",
       "<table border=\"1\" class=\"dataframe\">\n",
       "  <thead>\n",
       "    <tr style=\"text-align: right;\">\n",
       "      <th></th>\n",
       "      <th>funded_amnt_inv</th>\n",
       "      <th>annual_inc</th>\n",
       "      <th>dti</th>\n",
       "      <th>fico_range_high</th>\n",
       "      <th>out_prncp_inv</th>\n",
       "      <th>total_rec_prncp</th>\n",
       "      <th>last_pymnt_amnt</th>\n",
       "      <th>last_fico_range_low</th>\n",
       "      <th>acc_open_past_24mths</th>\n",
       "      <th>avg_cur_bal</th>\n",
       "      <th>bc_open_to_buy</th>\n",
       "      <th>mo_sin_old_rev_tl_op</th>\n",
       "      <th>mo_sin_rcnt_rev_tl_op</th>\n",
       "      <th>mo_sin_rcnt_tl</th>\n",
       "      <th>mort_acc</th>\n",
       "      <th>mths_since_recent_bc</th>\n",
       "      <th>mths_since_recent_inq</th>\n",
       "      <th>num_tl_op_past_12m</th>\n",
       "      <th>percent_bc_gt_75</th>\n",
       "      <th>total_bc_limit</th>\n",
       "    </tr>\n",
       "  </thead>\n",
       "  <tbody>\n",
       "    <tr>\n",
       "      <th>7702</th>\n",
       "      <td>2500.000000</td>\n",
       "      <td>75000.000000</td>\n",
       "      <td>17.690000</td>\n",
       "      <td>689.0</td>\n",
       "      <td>0.000000</td>\n",
       "      <td>2500.000000</td>\n",
       "      <td>756.000000</td>\n",
       "      <td>620.000000</td>\n",
       "      <td>12.0</td>\n",
       "      <td>21130.000000</td>\n",
       "      <td>163.000000</td>\n",
       "      <td>306.0</td>\n",
       "      <td>8.0</td>\n",
       "      <td>4.0</td>\n",
       "      <td>7.0</td>\n",
       "      <td>8.000000</td>\n",
       "      <td>7.0</td>\n",
       "      <td>4.0</td>\n",
       "      <td>100.0</td>\n",
       "      <td>34500.0</td>\n",
       "    </tr>\n",
       "    <tr>\n",
       "      <th>7702</th>\n",
       "      <td>5691.063525</td>\n",
       "      <td>30000.000000</td>\n",
       "      <td>20.543915</td>\n",
       "      <td>714.0</td>\n",
       "      <td>6490.464345</td>\n",
       "      <td>2230.567429</td>\n",
       "      <td>781.471297</td>\n",
       "      <td>695.000000</td>\n",
       "      <td>1.0</td>\n",
       "      <td>1303.264282</td>\n",
       "      <td>22217.183455</td>\n",
       "      <td>122.0</td>\n",
       "      <td>26.0</td>\n",
       "      <td>7.0</td>\n",
       "      <td>0.0</td>\n",
       "      <td>30.000000</td>\n",
       "      <td>5.0</td>\n",
       "      <td>1.0</td>\n",
       "      <td>0.0</td>\n",
       "      <td>11300.0</td>\n",
       "    </tr>\n",
       "    <tr>\n",
       "      <th>27501</th>\n",
       "      <td>12000.000000</td>\n",
       "      <td>75000.000000</td>\n",
       "      <td>31.989242</td>\n",
       "      <td>669.0</td>\n",
       "      <td>0.000000</td>\n",
       "      <td>12958.935741</td>\n",
       "      <td>5484.641719</td>\n",
       "      <td>723.357858</td>\n",
       "      <td>6.0</td>\n",
       "      <td>1655.100897</td>\n",
       "      <td>2151.950839</td>\n",
       "      <td>143.0</td>\n",
       "      <td>5.0</td>\n",
       "      <td>3.0</td>\n",
       "      <td>0.0</td>\n",
       "      <td>12.000000</td>\n",
       "      <td>7.0</td>\n",
       "      <td>2.0</td>\n",
       "      <td>100.0</td>\n",
       "      <td>6500.0</td>\n",
       "    </tr>\n",
       "    <tr>\n",
       "      <th>23665</th>\n",
       "      <td>21000.000000</td>\n",
       "      <td>109899.940797</td>\n",
       "      <td>15.168199</td>\n",
       "      <td>689.0</td>\n",
       "      <td>0.000000</td>\n",
       "      <td>8155.302536</td>\n",
       "      <td>7801.434493</td>\n",
       "      <td>640.000000</td>\n",
       "      <td>1.0</td>\n",
       "      <td>13561.468207</td>\n",
       "      <td>254.994001</td>\n",
       "      <td>112.0</td>\n",
       "      <td>7.0</td>\n",
       "      <td>6.0</td>\n",
       "      <td>0.0</td>\n",
       "      <td>5.221468</td>\n",
       "      <td>0.0</td>\n",
       "      <td>0.0</td>\n",
       "      <td>100.0</td>\n",
       "      <td>7700.0</td>\n",
       "    </tr>\n",
       "    <tr>\n",
       "      <th>851</th>\n",
       "      <td>18000.000000</td>\n",
       "      <td>45000.000000</td>\n",
       "      <td>10.480000</td>\n",
       "      <td>694.0</td>\n",
       "      <td>0.000000</td>\n",
       "      <td>18000.000000</td>\n",
       "      <td>566.500000</td>\n",
       "      <td>705.000000</td>\n",
       "      <td>5.0</td>\n",
       "      <td>4977.000000</td>\n",
       "      <td>22939.000000</td>\n",
       "      <td>107.0</td>\n",
       "      <td>1.0</td>\n",
       "      <td>1.0</td>\n",
       "      <td>0.0</td>\n",
       "      <td>1.000000</td>\n",
       "      <td>9.0</td>\n",
       "      <td>5.0</td>\n",
       "      <td>14.3</td>\n",
       "      <td>37300.0</td>\n",
       "    </tr>\n",
       "  </tbody>\n",
       "</table>\n",
       "</div>"
      ],
      "text/plain": [
       "       funded_amnt_inv     annual_inc        dti  fico_range_high  \\\n",
       "7702       2500.000000   75000.000000  17.690000            689.0   \n",
       "7702       5691.063525   30000.000000  20.543915            714.0   \n",
       "27501     12000.000000   75000.000000  31.989242            669.0   \n",
       "23665     21000.000000  109899.940797  15.168199            689.0   \n",
       "851       18000.000000   45000.000000  10.480000            694.0   \n",
       "\n",
       "       out_prncp_inv  total_rec_prncp  last_pymnt_amnt  last_fico_range_low  \\\n",
       "7702        0.000000      2500.000000       756.000000           620.000000   \n",
       "7702     6490.464345      2230.567429       781.471297           695.000000   \n",
       "27501       0.000000     12958.935741      5484.641719           723.357858   \n",
       "23665       0.000000      8155.302536      7801.434493           640.000000   \n",
       "851         0.000000     18000.000000       566.500000           705.000000   \n",
       "\n",
       "       acc_open_past_24mths   avg_cur_bal  bc_open_to_buy  \\\n",
       "7702                   12.0  21130.000000      163.000000   \n",
       "7702                    1.0   1303.264282    22217.183455   \n",
       "27501                   6.0   1655.100897     2151.950839   \n",
       "23665                   1.0  13561.468207      254.994001   \n",
       "851                     5.0   4977.000000    22939.000000   \n",
       "\n",
       "       mo_sin_old_rev_tl_op  mo_sin_rcnt_rev_tl_op  mo_sin_rcnt_tl  mort_acc  \\\n",
       "7702                  306.0                    8.0             4.0       7.0   \n",
       "7702                  122.0                   26.0             7.0       0.0   \n",
       "27501                 143.0                    5.0             3.0       0.0   \n",
       "23665                 112.0                    7.0             6.0       0.0   \n",
       "851                   107.0                    1.0             1.0       0.0   \n",
       "\n",
       "       mths_since_recent_bc  mths_since_recent_inq  num_tl_op_past_12m  \\\n",
       "7702               8.000000                    7.0                 4.0   \n",
       "7702              30.000000                    5.0                 1.0   \n",
       "27501             12.000000                    7.0                 2.0   \n",
       "23665              5.221468                    0.0                 0.0   \n",
       "851                1.000000                    9.0                 5.0   \n",
       "\n",
       "       percent_bc_gt_75  total_bc_limit  \n",
       "7702              100.0         34500.0  \n",
       "7702                0.0         11300.0  \n",
       "27501             100.0          6500.0  \n",
       "23665             100.0          7700.0  \n",
       "851                14.3         37300.0  "
      ]
     },
     "metadata": {},
     "output_type": "display_data"
    },
    {
     "name": "stderr",
     "output_type": "stream",
     "text": [
      "INFO: Untouched columns preserved: ['id', 'date', 'target']\n"
     ]
    },
    {
     "name": "stdout",
     "output_type": "stream",
     "text": [
      "\n",
      "Exemplo de dados escalados (treino):\n"
     ]
    },
    {
     "data": {
      "text/html": [
       "<div>\n",
       "<style scoped>\n",
       "    .dataframe tbody tr th:only-of-type {\n",
       "        vertical-align: middle;\n",
       "    }\n",
       "\n",
       "    .dataframe tbody tr th {\n",
       "        vertical-align: top;\n",
       "    }\n",
       "\n",
       "    .dataframe thead th {\n",
       "        text-align: right;\n",
       "    }\n",
       "</style>\n",
       "<table border=\"1\" class=\"dataframe\">\n",
       "  <thead>\n",
       "    <tr style=\"text-align: right;\">\n",
       "      <th></th>\n",
       "      <th>funded_amnt_inv</th>\n",
       "      <th>annual_inc</th>\n",
       "      <th>dti</th>\n",
       "      <th>fico_range_high</th>\n",
       "      <th>out_prncp_inv</th>\n",
       "      <th>total_rec_prncp</th>\n",
       "      <th>last_pymnt_amnt</th>\n",
       "      <th>last_fico_range_low</th>\n",
       "      <th>acc_open_past_24mths</th>\n",
       "      <th>avg_cur_bal</th>\n",
       "      <th>bc_open_to_buy</th>\n",
       "      <th>mo_sin_old_rev_tl_op</th>\n",
       "      <th>mo_sin_rcnt_rev_tl_op</th>\n",
       "      <th>mo_sin_rcnt_tl</th>\n",
       "      <th>mort_acc</th>\n",
       "      <th>mths_since_recent_bc</th>\n",
       "      <th>mths_since_recent_inq</th>\n",
       "      <th>num_tl_op_past_12m</th>\n",
       "      <th>percent_bc_gt_75</th>\n",
       "      <th>total_bc_limit</th>\n",
       "    </tr>\n",
       "  </thead>\n",
       "  <tbody>\n",
       "    <tr>\n",
       "      <th>7702</th>\n",
       "      <td>2500.000000</td>\n",
       "      <td>0.215231</td>\n",
       "      <td>-0.021943</td>\n",
       "      <td>689.0</td>\n",
       "      <td>0.000000</td>\n",
       "      <td>2500.000000</td>\n",
       "      <td>-0.321465</td>\n",
       "      <td>-0.618284</td>\n",
       "      <td>1.763303</td>\n",
       "      <td>0.903672</td>\n",
       "      <td>-1.588490</td>\n",
       "      <td>306.0</td>\n",
       "      <td>0.079603</td>\n",
       "      <td>-0.169047</td>\n",
       "      <td>1.731521</td>\n",
       "      <td>-0.402749</td>\n",
       "      <td>0.440992</td>\n",
       "      <td>0.961930</td>\n",
       "      <td>1.244885</td>\n",
       "      <td>0.774291</td>\n",
       "    </tr>\n",
       "    <tr>\n",
       "      <th>7702</th>\n",
       "      <td>5691.063525</td>\n",
       "      <td>-1.579457</td>\n",
       "      <td>0.263301</td>\n",
       "      <td>714.0</td>\n",
       "      <td>6490.464345</td>\n",
       "      <td>2230.567429</td>\n",
       "      <td>-0.304653</td>\n",
       "      <td>0.207036</td>\n",
       "      <td>-1.462000</td>\n",
       "      <td>-1.494999</td>\n",
       "      <td>1.081215</td>\n",
       "      <td>122.0</td>\n",
       "      <td>1.152533</td>\n",
       "      <td>0.408406</td>\n",
       "      <td>-1.134461</td>\n",
       "      <td>0.740187</td>\n",
       "      <td>0.081209</td>\n",
       "      <td>-0.608237</td>\n",
       "      <td>-1.499756</td>\n",
       "      <td>-0.394908</td>\n",
       "    </tr>\n",
       "    <tr>\n",
       "      <th>27501</th>\n",
       "      <td>12000.000000</td>\n",
       "      <td>0.215231</td>\n",
       "      <td>1.185678</td>\n",
       "      <td>669.0</td>\n",
       "      <td>0.000000</td>\n",
       "      <td>12958.935741</td>\n",
       "      <td>0.787511</td>\n",
       "      <td>0.546248</td>\n",
       "      <td>0.487014</td>\n",
       "      <td>-1.311796</td>\n",
       "      <td>-0.527901</td>\n",
       "      <td>143.0</td>\n",
       "      <td>-0.324586</td>\n",
       "      <td>-0.448727</td>\n",
       "      <td>-1.134461</td>\n",
       "      <td>-0.061314</td>\n",
       "      <td>0.440992</td>\n",
       "      <td>0.060115</td>\n",
       "      <td>1.244885</td>\n",
       "      <td>-0.845999</td>\n",
       "    </tr>\n",
       "    <tr>\n",
       "      <th>23665</th>\n",
       "      <td>21000.000000</td>\n",
       "      <td>0.915924</td>\n",
       "      <td>-0.302058</td>\n",
       "      <td>689.0</td>\n",
       "      <td>0.000000</td>\n",
       "      <td>8155.302536</td>\n",
       "      <td>1.008423</td>\n",
       "      <td>-0.408346</td>\n",
       "      <td>-1.462000</td>\n",
       "      <td>0.480903</td>\n",
       "      <td>-1.443657</td>\n",
       "      <td>112.0</td>\n",
       "      <td>-0.037348</td>\n",
       "      <td>0.245935</td>\n",
       "      <td>-1.134461</td>\n",
       "      <td>-0.746946</td>\n",
       "      <td>-1.716246</td>\n",
       "      <td>-1.661001</td>\n",
       "      <td>1.244885</td>\n",
       "      <td>-0.715551</td>\n",
       "    </tr>\n",
       "    <tr>\n",
       "      <th>851</th>\n",
       "      <td>18000.000000</td>\n",
       "      <td>-0.764790</td>\n",
       "      <td>-0.922763</td>\n",
       "      <td>694.0</td>\n",
       "      <td>0.000000</td>\n",
       "      <td>18000.000000</td>\n",
       "      <td>-0.465540</td>\n",
       "      <td>0.324946</td>\n",
       "      <td>0.205028</td>\n",
       "      <td>-0.415402</td>\n",
       "      <td>1.109213</td>\n",
       "      <td>107.0</td>\n",
       "      <td>-1.442496</td>\n",
       "      <td>-1.340783</td>\n",
       "      <td>-1.134461</td>\n",
       "      <td>-1.813591</td>\n",
       "      <td>0.736022</td>\n",
       "      <td>1.300851</td>\n",
       "      <td>-0.525287</td>\n",
       "      <td>0.871373</td>\n",
       "    </tr>\n",
       "  </tbody>\n",
       "</table>\n",
       "</div>"
      ],
      "text/plain": [
       "       funded_amnt_inv  annual_inc       dti  fico_range_high  out_prncp_inv  \\\n",
       "7702       2500.000000    0.215231 -0.021943            689.0       0.000000   \n",
       "7702       5691.063525   -1.579457  0.263301            714.0    6490.464345   \n",
       "27501     12000.000000    0.215231  1.185678            669.0       0.000000   \n",
       "23665     21000.000000    0.915924 -0.302058            689.0       0.000000   \n",
       "851       18000.000000   -0.764790 -0.922763            694.0       0.000000   \n",
       "\n",
       "       total_rec_prncp  last_pymnt_amnt  last_fico_range_low  \\\n",
       "7702       2500.000000        -0.321465            -0.618284   \n",
       "7702       2230.567429        -0.304653             0.207036   \n",
       "27501     12958.935741         0.787511             0.546248   \n",
       "23665      8155.302536         1.008423            -0.408346   \n",
       "851       18000.000000        -0.465540             0.324946   \n",
       "\n",
       "       acc_open_past_24mths  avg_cur_bal  bc_open_to_buy  \\\n",
       "7702               1.763303     0.903672       -1.588490   \n",
       "7702              -1.462000    -1.494999        1.081215   \n",
       "27501              0.487014    -1.311796       -0.527901   \n",
       "23665             -1.462000     0.480903       -1.443657   \n",
       "851                0.205028    -0.415402        1.109213   \n",
       "\n",
       "       mo_sin_old_rev_tl_op  mo_sin_rcnt_rev_tl_op  mo_sin_rcnt_tl  mort_acc  \\\n",
       "7702                  306.0               0.079603       -0.169047  1.731521   \n",
       "7702                  122.0               1.152533        0.408406 -1.134461   \n",
       "27501                 143.0              -0.324586       -0.448727 -1.134461   \n",
       "23665                 112.0              -0.037348        0.245935 -1.134461   \n",
       "851                   107.0              -1.442496       -1.340783 -1.134461   \n",
       "\n",
       "       mths_since_recent_bc  mths_since_recent_inq  num_tl_op_past_12m  \\\n",
       "7702              -0.402749               0.440992            0.961930   \n",
       "7702               0.740187               0.081209           -0.608237   \n",
       "27501             -0.061314               0.440992            0.060115   \n",
       "23665             -0.746946              -1.716246           -1.661001   \n",
       "851               -1.813591               0.736022            1.300851   \n",
       "\n",
       "       percent_bc_gt_75  total_bc_limit  \n",
       "7702           1.244885        0.774291  \n",
       "7702          -1.499756       -0.394908  \n",
       "27501          1.244885       -0.845999  \n",
       "23665          1.244885       -0.715551  \n",
       "851           -0.525287        0.871373  "
      ]
     },
     "metadata": {},
     "output_type": "display_data"
    }
   ],
   "source": [
    "display(X_test.head())\n",
    "\n",
    "# 5. Transformar o conjunto de treino\n",
    "df_test_scaled = scaler.transform(df_test, return_df=True)\n",
    "X_test_scaled = scaler.transform(X_test, return_df=True)\n",
    "\n",
    "print(\"\\nExemplo de dados escalados (treino):\")\n",
    "display(X_test_scaled.head())"
   ]
  },
  {
   "cell_type": "code",
   "execution_count": 16,
   "id": "2472fa54",
   "metadata": {},
   "outputs": [],
   "source": [
    "# # Visualizar\n",
    "# scaler.plot_histograms(\n",
    "#     df_train,\n",
    "#     X_train_scaled,\n",
    "#     features=num_cols)"
   ]
  },
  {
   "cell_type": "code",
   "execution_count": 17,
   "id": "5e4b67fa",
   "metadata": {},
   "outputs": [],
   "source": [
    "# encoder = WOEGuard(\n",
    "#     categorical_cols=categorical_cols,\n",
    "#     drop_original=True,       # mantém ou remove colunas originais\n",
    "#     suffix='_woe',            # sufixo para as novas colunas\n",
    "#     alpha=0.5,                # suavização Laplace\n",
    "#     default_woe=0.0,          # WoE default para categorias novas\n",
    "#     include_nan=True          # trata NaN como categoria separada\n",
    "# )"
   ]
  },
  {
   "cell_type": "code",
   "execution_count": 18,
   "id": "115645bf",
   "metadata": {},
   "outputs": [],
   "source": [
    "# # 2. Ajustar e transformar\n",
    "# df_transformed = encoder.fit_transform(\n",
    "#     X=df[categorical_cols], # a lista de colunas não precisa ser igual à categorical_cols, mas somente as que forem instanciadas no WOEGuard que serão codificadas.\n",
    "#     y=df[TARGET]\n",
    "# )\n",
    "# display(df_transformed)"
   ]
  },
  {
   "cell_type": "code",
   "execution_count": 19,
   "id": "0e73d52a",
   "metadata": {},
   "outputs": [],
   "source": [
    "sample_weights_train = compute_sample_weight(class_weight='balanced', y=y_train)\n",
    "\n",
    "# # Modelo 1: Regressão Logística\n",
    "# model1 = LogisticRegression(\n",
    "#     max_iter=2000,\n",
    "#     solver='lbfgs',\n",
    "#     class_weight=None,      # Removido porque vamos usar sample_weight manualmente\n",
    "#     C=1.0\n",
    "# )\n",
    "# model1.fit(X_train, y_train, sample_weight=sample_weights_train)\n",
    "\n",
    "\n",
    "# Modelo 2: XGBoost\n",
    "\n",
    "\n",
    "model2 = XGBClassifier(\n",
    "    n_estimators=150,\n",
    "    #class_weights='balanced',\n",
    "    learning_rate=0.05,\n",
    "    max_depth=5,\n",
    "    subsample=0.85,\n",
    "    colsample_bytree=0.80,\n",
    "    #scale_pos_weight=1.0,\n",
    "    eval_metric='logloss',\n",
    "    random_state=42,\n",
    "    n_jobs=-1,\n",
    "    #enable_categorical=True,\n",
    "    #tree_method='hist'  # necessário com enable_categorical=True\n",
    ")\n",
    "model2.fit(\n",
    "    X_train_scaled,\n",
    "    y_train,\n",
    "    sample_weight=sample_weights_train\n",
    "    );"
   ]
  },
  {
   "cell_type": "code",
   "execution_count": 20,
   "id": "ed77aa39",
   "metadata": {},
   "outputs": [],
   "source": [
    "# gambiarra rapida\n",
    "#df_train = pd.concat([X_train_scaled, y_train], axis=1)\n",
    "#df_test = pd.concat([X_test_scaled, y_train], axis=1)"
   ]
  },
  {
   "cell_type": "code",
   "execution_count": 21,
   "id": "b41417db",
   "metadata": {},
   "outputs": [
    {
     "data": {
      "text/plain": [
       "(202201, 202501)"
      ]
     },
     "execution_count": 21,
     "metadata": {},
     "output_type": "execute_result"
    }
   ],
   "source": [
    "#df_train.shape\n",
    "\n",
    "df_train['date'].min(),df_train['date'].max()"
   ]
  },
  {
   "cell_type": "code",
   "execution_count": 22,
   "id": "9f09ed14",
   "metadata": {},
   "outputs": [],
   "source": [
    "evaluator = BinaryPerformanceEvaluator(\n",
    "    model=model2,\n",
    "    df_train=df_train,\n",
    "    df_test=df_test,\n",
    "    target_col='target',\n",
    "    id_cols=['id'],\n",
    "    date_col='date',\n",
    "    homogeneous_group='auto'\n",
    "    #group_col='group'\n",
    ")"
   ]
  },
  {
   "cell_type": "code",
   "execution_count": 23,
   "id": "5da19b01",
   "metadata": {},
   "outputs": [
    {
     "data": {
      "text/html": [
       "<div>\n",
       "<style scoped>\n",
       "    .dataframe tbody tr th:only-of-type {\n",
       "        vertical-align: middle;\n",
       "    }\n",
       "\n",
       "    .dataframe tbody tr th {\n",
       "        vertical-align: top;\n",
       "    }\n",
       "\n",
       "    .dataframe thead th {\n",
       "        text-align: right;\n",
       "    }\n",
       "</style>\n",
       "<table border=\"1\" class=\"dataframe\">\n",
       "  <thead>\n",
       "    <tr style=\"text-align: right;\">\n",
       "      <th></th>\n",
       "      <th>MCC</th>\n",
       "      <th>AUC_ROC</th>\n",
       "      <th>AUC_PR</th>\n",
       "      <th>Precision</th>\n",
       "      <th>Recall</th>\n",
       "      <th>Brier</th>\n",
       "    </tr>\n",
       "    <tr>\n",
       "      <th>Split</th>\n",
       "      <th></th>\n",
       "      <th></th>\n",
       "      <th></th>\n",
       "      <th></th>\n",
       "      <th></th>\n",
       "      <th></th>\n",
       "    </tr>\n",
       "  </thead>\n",
       "  <tbody>\n",
       "    <tr>\n",
       "      <th>Train</th>\n",
       "      <td>-0.427396</td>\n",
       "      <td>0.080835</td>\n",
       "      <td>0.097026</td>\n",
       "      <td>0.141908</td>\n",
       "      <td>0.766323</td>\n",
       "      <td>0.741918</td>\n",
       "    </tr>\n",
       "    <tr>\n",
       "      <th>Test</th>\n",
       "      <td>-0.426755</td>\n",
       "      <td>0.087091</td>\n",
       "      <td>0.097867</td>\n",
       "      <td>0.142351</td>\n",
       "      <td>0.763690</td>\n",
       "      <td>0.739465</td>\n",
       "    </tr>\n",
       "  </tbody>\n",
       "</table>\n",
       "</div>"
      ],
      "text/plain": [
       "            MCC   AUC_ROC    AUC_PR  Precision    Recall     Brier\n",
       "Split                                                             \n",
       "Train -0.427396  0.080835  0.097026   0.141908  0.766323  0.741918\n",
       "Test  -0.426755  0.087091  0.097867   0.142351  0.763690  0.739465"
      ]
     },
     "execution_count": 23,
     "metadata": {},
     "output_type": "execute_result"
    }
   ],
   "source": [
    "metrics = evaluator.compute_metrics()\n",
    "metrics"
   ]
  },
  {
   "cell_type": "code",
   "execution_count": 24,
   "id": "57a4aaa8",
   "metadata": {},
   "outputs": [],
   "source": [
    "# falta validar matriz de confusao\n",
    "\n",
    "# evaluator.plot_confusion(\n",
    "#     evaluator.df_test['target'],\n",
    "#     evaluator.df_test['y_pred_proba'],\n",
    "#     #threshold='ks'\n",
    "# )"
   ]
  },
  {
   "cell_type": "code",
   "execution_count": 25,
   "id": "4237ea03",
   "metadata": {},
   "outputs": [],
   "source": [
    "#evaluator.plot_calibration()"
   ]
  },
  {
   "cell_type": "code",
   "execution_count": 26,
   "id": "e63df1e0",
   "metadata": {},
   "outputs": [],
   "source": [
    "# hover text nao foi melhorado\n",
    "\n",
    "#evaluator.plot_event_rate()"
   ]
  },
  {
   "cell_type": "code",
   "execution_count": 27,
   "id": "5547e6ac",
   "metadata": {},
   "outputs": [],
   "source": [
    "# falta aplicar a separação por graficos com parametro features\n",
    "# feature='acc_open_past_24_mths'\n",
    "\n",
    "#evaluator.plot_psi()"
   ]
  },
  {
   "cell_type": "code",
   "execution_count": 28,
   "id": "96a246ff",
   "metadata": {},
   "outputs": [],
   "source": [
    "#evaluator.plot_ks()"
   ]
  },
  {
   "cell_type": "code",
   "execution_count": 29,
   "id": "31d816de",
   "metadata": {},
   "outputs": [
    {
     "data": {
      "application/vnd.plotly.v1+json": {
       "config": {
        "plotlyServerURL": "https://plot.ly"
       },
       "data": [
        {
         "fill": "toself",
         "fillcolor": "rgba(217,58,70,0.3)",
         "line": {
          "color": "rgba(217,58,70,0.8)"
         },
         "name": "Group (-inf, 531.05)",
         "r": [
          0.24503112152010212,
          -0.06790644161041338,
          0.14492573058836397,
          -0.37153626545445373,
          -0.15991081440655155,
          -0.9999268764791742,
          -0.5208050730601055,
          -2.1972093489573776,
          0.3539823656507875,
          -0.13858125612873964,
          -0.20743421301576062,
          -0.20816228576607276,
          -0.12383371384055121,
          -0.16045090145776028,
          -0.1380364825056576,
          -0.14522019753878643,
          -0.14438315878167426,
          0.27312431147253885,
          0.17313012790131088,
          -0.1973987852992217,
          0.24503112152010212
         ],
         "theta": [
          "funded_amnt_inv",
          "annual_inc",
          "dti",
          "fico_range_high",
          "out_prncp_inv",
          "total_rec_prncp",
          "last_pymnt_amnt",
          "last_fico_range_low",
          "acc_open_past_24mths",
          "avg_cur_bal",
          "bc_open_to_buy",
          "mo_sin_old_rev_tl_op",
          "mo_sin_rcnt_rev_tl_op",
          "mo_sin_rcnt_tl",
          "mort_acc",
          "mths_since_recent_bc",
          "mths_since_recent_inq",
          "num_tl_op_past_12m",
          "percent_bc_gt_75",
          "total_bc_limit",
          "funded_amnt_inv"
         ],
         "type": "scatterpolar"
        },
        {
         "fill": "toself",
         "fillcolor": "rgba(230,148,154,0.3)",
         "line": {
          "color": "rgba(230,148,154,0.8)"
         },
         "name": "Group [531.05, 805.94)",
         "r": [
          0.1508727708171203,
          -0.014423713521561958,
          0.10972966903930341,
          -0.15834051810551714,
          -0.011332129778680625,
          -0.5982778275913998,
          -0.3466384922750043,
          -0.4582521043673515,
          0.13467268351308107,
          -0.011521145261415466,
          -0.100455698350413,
          -0.08941375709853445,
          -0.0450994995942115,
          -0.058627989745560695,
          -0.029723395804981772,
          -0.05090003656853105,
          -0.05347652497084611,
          0.09471490288856463,
          0.10050274514024606,
          -0.06205028477022061,
          0.1508727708171203
         ],
         "theta": [
          "funded_amnt_inv",
          "annual_inc",
          "dti",
          "fico_range_high",
          "out_prncp_inv",
          "total_rec_prncp",
          "last_pymnt_amnt",
          "last_fico_range_low",
          "acc_open_past_24mths",
          "avg_cur_bal",
          "bc_open_to_buy",
          "mo_sin_old_rev_tl_op",
          "mo_sin_rcnt_rev_tl_op",
          "mo_sin_rcnt_tl",
          "mort_acc",
          "mths_since_recent_bc",
          "mths_since_recent_inq",
          "num_tl_op_past_12m",
          "percent_bc_gt_75",
          "total_bc_limit",
          "funded_amnt_inv"
         ],
         "type": "scatterpolar"
        },
        {
         "fill": "toself",
         "fillcolor": "rgba(242,241,241,0.3)",
         "line": {
          "color": "rgba(242,241,241,0.8)"
         },
         "name": "Group [805.94, 922.41)",
         "r": [
          0.16876482150325742,
          0.03282167383728016,
          0.03656345829736935,
          -0.0561522257969113,
          0.119228701677089,
          -0.1888155047577555,
          -0.14118772834915677,
          -0.0676709817576835,
          0.02951877168301092,
          0.0074324158733277594,
          -0.03496168392373914,
          -0.012176482692404783,
          0.01154867375193654,
          -0.0004428428672924891,
          0.009959697037942679,
          0.0040837355597443566,
          0.001379053125521184,
          0.01637579757691439,
          0.04814129818346197,
          -0.0003722374093085859,
          0.16876482150325742
         ],
         "theta": [
          "funded_amnt_inv",
          "annual_inc",
          "dti",
          "fico_range_high",
          "out_prncp_inv",
          "total_rec_prncp",
          "last_pymnt_amnt",
          "last_fico_range_low",
          "acc_open_past_24mths",
          "avg_cur_bal",
          "bc_open_to_buy",
          "mo_sin_old_rev_tl_op",
          "mo_sin_rcnt_rev_tl_op",
          "mo_sin_rcnt_tl",
          "mort_acc",
          "mths_since_recent_bc",
          "mths_since_recent_inq",
          "num_tl_op_past_12m",
          "percent_bc_gt_75",
          "total_bc_limit",
          "funded_amnt_inv"
         ],
         "type": "scatterpolar"
        },
        {
         "fill": "toself",
         "fillcolor": "rgba(153,183,205,0.3)",
         "line": {
          "color": "rgba(153,183,205,0.8)"
         },
         "name": "Group [922.41, 957.31)",
         "r": [
          -0.11326128098298817,
          0.007259133337654163,
          -0.00788401964339058,
          -0.025553624141572712,
          0.13169178535002676,
          -0.0014252529076616504,
          0.004182454609794035,
          0.17725441084905966,
          -0.014671040094788547,
          0.028208519144638906,
          -0.04150635355841165,
          -0.03860781155265085,
          0.027028817393748083,
          0.011902868929406828,
          0.037023646350053584,
          0.03522878673330413,
          0.07615070254750823,
          -0.0215018111029245,
          0.04721275457457538,
          -0.030550693446904514,
          -0.11326128098298817
         ],
         "theta": [
          "funded_amnt_inv",
          "annual_inc",
          "dti",
          "fico_range_high",
          "out_prncp_inv",
          "total_rec_prncp",
          "last_pymnt_amnt",
          "last_fico_range_low",
          "acc_open_past_24mths",
          "avg_cur_bal",
          "bc_open_to_buy",
          "mo_sin_old_rev_tl_op",
          "mo_sin_rcnt_rev_tl_op",
          "mo_sin_rcnt_tl",
          "mort_acc",
          "mths_since_recent_bc",
          "mths_since_recent_inq",
          "num_tl_op_past_12m",
          "percent_bc_gt_75",
          "total_bc_limit",
          "funded_amnt_inv"
         ],
         "type": "scatterpolar"
        },
        {
         "fill": "toself",
         "fillcolor": "rgba(65,124,167,0.3)",
         "line": {
          "color": "rgba(65,124,167,0.8)"
         },
         "name": "Group [957.31, inf)",
         "r": [
          -0.10876189489851369,
          -0.00722224909807854,
          -0.06775541021699923,
          0.137921104037427,
          -0.10198324347005547,
          0.41206427362403397,
          0.24516705089075508,
          0.3670512245559758,
          -0.0948322046092976,
          0.003273264247586158,
          0.09609120970714745,
          0.0796381257778595,
          0.010618573244663485,
          0.03304360075370027,
          0.0033784467962211036,
          0.014895536934361606,
          -0.003156797489108503,
          -0.061970020701512675,
          -0.10134884782550288,
          0.05960300286686919,
          -0.10876189489851369
         ],
         "theta": [
          "funded_amnt_inv",
          "annual_inc",
          "dti",
          "fico_range_high",
          "out_prncp_inv",
          "total_rec_prncp",
          "last_pymnt_amnt",
          "last_fico_range_low",
          "acc_open_past_24mths",
          "avg_cur_bal",
          "bc_open_to_buy",
          "mo_sin_old_rev_tl_op",
          "mo_sin_rcnt_rev_tl_op",
          "mo_sin_rcnt_tl",
          "mort_acc",
          "mths_since_recent_bc",
          "mths_since_recent_inq",
          "num_tl_op_past_12m",
          "percent_bc_gt_75",
          "total_bc_limit",
          "funded_amnt_inv"
         ],
         "type": "scatterpolar"
        }
       ],
       "layout": {
        "polar": {
         "radialaxis": {
          "visible": false
         }
        },
        "showlegend": true,
        "template": {
         "data": {
          "bar": [
           {
            "error_x": {
             "color": "#2a3f5f"
            },
            "error_y": {
             "color": "#2a3f5f"
            },
            "marker": {
             "line": {
              "color": "white",
              "width": 0.5
             },
             "pattern": {
              "fillmode": "overlay",
              "size": 10,
              "solidity": 0.2
             }
            },
            "type": "bar"
           }
          ],
          "barpolar": [
           {
            "marker": {
             "line": {
              "color": "white",
              "width": 0.5
             },
             "pattern": {
              "fillmode": "overlay",
              "size": 10,
              "solidity": 0.2
             }
            },
            "type": "barpolar"
           }
          ],
          "carpet": [
           {
            "aaxis": {
             "endlinecolor": "#2a3f5f",
             "gridcolor": "#C8D4E3",
             "linecolor": "#C8D4E3",
             "minorgridcolor": "#C8D4E3",
             "startlinecolor": "#2a3f5f"
            },
            "baxis": {
             "endlinecolor": "#2a3f5f",
             "gridcolor": "#C8D4E3",
             "linecolor": "#C8D4E3",
             "minorgridcolor": "#C8D4E3",
             "startlinecolor": "#2a3f5f"
            },
            "type": "carpet"
           }
          ],
          "choropleth": [
           {
            "colorbar": {
             "outlinewidth": 0,
             "ticks": ""
            },
            "type": "choropleth"
           }
          ],
          "contour": [
           {
            "colorbar": {
             "outlinewidth": 0,
             "ticks": ""
            },
            "colorscale": [
             [
              0,
              "#0d0887"
             ],
             [
              0.1111111111111111,
              "#46039f"
             ],
             [
              0.2222222222222222,
              "#7201a8"
             ],
             [
              0.3333333333333333,
              "#9c179e"
             ],
             [
              0.4444444444444444,
              "#bd3786"
             ],
             [
              0.5555555555555556,
              "#d8576b"
             ],
             [
              0.6666666666666666,
              "#ed7953"
             ],
             [
              0.7777777777777778,
              "#fb9f3a"
             ],
             [
              0.8888888888888888,
              "#fdca26"
             ],
             [
              1,
              "#f0f921"
             ]
            ],
            "type": "contour"
           }
          ],
          "contourcarpet": [
           {
            "colorbar": {
             "outlinewidth": 0,
             "ticks": ""
            },
            "type": "contourcarpet"
           }
          ],
          "heatmap": [
           {
            "colorbar": {
             "outlinewidth": 0,
             "ticks": ""
            },
            "colorscale": [
             [
              0,
              "#0d0887"
             ],
             [
              0.1111111111111111,
              "#46039f"
             ],
             [
              0.2222222222222222,
              "#7201a8"
             ],
             [
              0.3333333333333333,
              "#9c179e"
             ],
             [
              0.4444444444444444,
              "#bd3786"
             ],
             [
              0.5555555555555556,
              "#d8576b"
             ],
             [
              0.6666666666666666,
              "#ed7953"
             ],
             [
              0.7777777777777778,
              "#fb9f3a"
             ],
             [
              0.8888888888888888,
              "#fdca26"
             ],
             [
              1,
              "#f0f921"
             ]
            ],
            "type": "heatmap"
           }
          ],
          "histogram": [
           {
            "marker": {
             "pattern": {
              "fillmode": "overlay",
              "size": 10,
              "solidity": 0.2
             }
            },
            "type": "histogram"
           }
          ],
          "histogram2d": [
           {
            "colorbar": {
             "outlinewidth": 0,
             "ticks": ""
            },
            "colorscale": [
             [
              0,
              "#0d0887"
             ],
             [
              0.1111111111111111,
              "#46039f"
             ],
             [
              0.2222222222222222,
              "#7201a8"
             ],
             [
              0.3333333333333333,
              "#9c179e"
             ],
             [
              0.4444444444444444,
              "#bd3786"
             ],
             [
              0.5555555555555556,
              "#d8576b"
             ],
             [
              0.6666666666666666,
              "#ed7953"
             ],
             [
              0.7777777777777778,
              "#fb9f3a"
             ],
             [
              0.8888888888888888,
              "#fdca26"
             ],
             [
              1,
              "#f0f921"
             ]
            ],
            "type": "histogram2d"
           }
          ],
          "histogram2dcontour": [
           {
            "colorbar": {
             "outlinewidth": 0,
             "ticks": ""
            },
            "colorscale": [
             [
              0,
              "#0d0887"
             ],
             [
              0.1111111111111111,
              "#46039f"
             ],
             [
              0.2222222222222222,
              "#7201a8"
             ],
             [
              0.3333333333333333,
              "#9c179e"
             ],
             [
              0.4444444444444444,
              "#bd3786"
             ],
             [
              0.5555555555555556,
              "#d8576b"
             ],
             [
              0.6666666666666666,
              "#ed7953"
             ],
             [
              0.7777777777777778,
              "#fb9f3a"
             ],
             [
              0.8888888888888888,
              "#fdca26"
             ],
             [
              1,
              "#f0f921"
             ]
            ],
            "type": "histogram2dcontour"
           }
          ],
          "mesh3d": [
           {
            "colorbar": {
             "outlinewidth": 0,
             "ticks": ""
            },
            "type": "mesh3d"
           }
          ],
          "parcoords": [
           {
            "line": {
             "colorbar": {
              "outlinewidth": 0,
              "ticks": ""
             }
            },
            "type": "parcoords"
           }
          ],
          "pie": [
           {
            "automargin": true,
            "type": "pie"
           }
          ],
          "scatter": [
           {
            "fillpattern": {
             "fillmode": "overlay",
             "size": 10,
             "solidity": 0.2
            },
            "type": "scatter"
           }
          ],
          "scatter3d": [
           {
            "line": {
             "colorbar": {
              "outlinewidth": 0,
              "ticks": ""
             }
            },
            "marker": {
             "colorbar": {
              "outlinewidth": 0,
              "ticks": ""
             }
            },
            "type": "scatter3d"
           }
          ],
          "scattercarpet": [
           {
            "marker": {
             "colorbar": {
              "outlinewidth": 0,
              "ticks": ""
             }
            },
            "type": "scattercarpet"
           }
          ],
          "scattergeo": [
           {
            "marker": {
             "colorbar": {
              "outlinewidth": 0,
              "ticks": ""
             }
            },
            "type": "scattergeo"
           }
          ],
          "scattergl": [
           {
            "marker": {
             "colorbar": {
              "outlinewidth": 0,
              "ticks": ""
             }
            },
            "type": "scattergl"
           }
          ],
          "scattermap": [
           {
            "marker": {
             "colorbar": {
              "outlinewidth": 0,
              "ticks": ""
             }
            },
            "type": "scattermap"
           }
          ],
          "scattermapbox": [
           {
            "marker": {
             "colorbar": {
              "outlinewidth": 0,
              "ticks": ""
             }
            },
            "type": "scattermapbox"
           }
          ],
          "scatterpolar": [
           {
            "marker": {
             "colorbar": {
              "outlinewidth": 0,
              "ticks": ""
             }
            },
            "type": "scatterpolar"
           }
          ],
          "scatterpolargl": [
           {
            "marker": {
             "colorbar": {
              "outlinewidth": 0,
              "ticks": ""
             }
            },
            "type": "scatterpolargl"
           }
          ],
          "scatterternary": [
           {
            "marker": {
             "colorbar": {
              "outlinewidth": 0,
              "ticks": ""
             }
            },
            "type": "scatterternary"
           }
          ],
          "surface": [
           {
            "colorbar": {
             "outlinewidth": 0,
             "ticks": ""
            },
            "colorscale": [
             [
              0,
              "#0d0887"
             ],
             [
              0.1111111111111111,
              "#46039f"
             ],
             [
              0.2222222222222222,
              "#7201a8"
             ],
             [
              0.3333333333333333,
              "#9c179e"
             ],
             [
              0.4444444444444444,
              "#bd3786"
             ],
             [
              0.5555555555555556,
              "#d8576b"
             ],
             [
              0.6666666666666666,
              "#ed7953"
             ],
             [
              0.7777777777777778,
              "#fb9f3a"
             ],
             [
              0.8888888888888888,
              "#fdca26"
             ],
             [
              1,
              "#f0f921"
             ]
            ],
            "type": "surface"
           }
          ],
          "table": [
           {
            "cells": {
             "fill": {
              "color": "#EBF0F8"
             },
             "line": {
              "color": "white"
             }
            },
            "header": {
             "fill": {
              "color": "#C8D4E3"
             },
             "line": {
              "color": "white"
             }
            },
            "type": "table"
           }
          ]
         },
         "layout": {
          "annotationdefaults": {
           "arrowcolor": "#2a3f5f",
           "arrowhead": 0,
           "arrowwidth": 1
          },
          "autotypenumbers": "strict",
          "coloraxis": {
           "colorbar": {
            "outlinewidth": 0,
            "ticks": ""
           }
          },
          "colorscale": {
           "diverging": [
            [
             0,
             "#8e0152"
            ],
            [
             0.1,
             "#c51b7d"
            ],
            [
             0.2,
             "#de77ae"
            ],
            [
             0.3,
             "#f1b6da"
            ],
            [
             0.4,
             "#fde0ef"
            ],
            [
             0.5,
             "#f7f7f7"
            ],
            [
             0.6,
             "#e6f5d0"
            ],
            [
             0.7,
             "#b8e186"
            ],
            [
             0.8,
             "#7fbc41"
            ],
            [
             0.9,
             "#4d9221"
            ],
            [
             1,
             "#276419"
            ]
           ],
           "sequential": [
            [
             0,
             "#0d0887"
            ],
            [
             0.1111111111111111,
             "#46039f"
            ],
            [
             0.2222222222222222,
             "#7201a8"
            ],
            [
             0.3333333333333333,
             "#9c179e"
            ],
            [
             0.4444444444444444,
             "#bd3786"
            ],
            [
             0.5555555555555556,
             "#d8576b"
            ],
            [
             0.6666666666666666,
             "#ed7953"
            ],
            [
             0.7777777777777778,
             "#fb9f3a"
            ],
            [
             0.8888888888888888,
             "#fdca26"
            ],
            [
             1,
             "#f0f921"
            ]
           ],
           "sequentialminus": [
            [
             0,
             "#0d0887"
            ],
            [
             0.1111111111111111,
             "#46039f"
            ],
            [
             0.2222222222222222,
             "#7201a8"
            ],
            [
             0.3333333333333333,
             "#9c179e"
            ],
            [
             0.4444444444444444,
             "#bd3786"
            ],
            [
             0.5555555555555556,
             "#d8576b"
            ],
            [
             0.6666666666666666,
             "#ed7953"
            ],
            [
             0.7777777777777778,
             "#fb9f3a"
            ],
            [
             0.8888888888888888,
             "#fdca26"
            ],
            [
             1,
             "#f0f921"
            ]
           ]
          },
          "colorway": [
           "#636efa",
           "#EF553B",
           "#00cc96",
           "#ab63fa",
           "#FFA15A",
           "#19d3f3",
           "#FF6692",
           "#B6E880",
           "#FF97FF",
           "#FECB52"
          ],
          "font": {
           "color": "#2a3f5f"
          },
          "geo": {
           "bgcolor": "white",
           "lakecolor": "white",
           "landcolor": "white",
           "showlakes": true,
           "showland": true,
           "subunitcolor": "#C8D4E3"
          },
          "hoverlabel": {
           "align": "left"
          },
          "hovermode": "closest",
          "mapbox": {
           "style": "light"
          },
          "paper_bgcolor": "white",
          "plot_bgcolor": "white",
          "polar": {
           "angularaxis": {
            "gridcolor": "#EBF0F8",
            "linecolor": "#EBF0F8",
            "ticks": ""
           },
           "bgcolor": "white",
           "radialaxis": {
            "gridcolor": "#EBF0F8",
            "linecolor": "#EBF0F8",
            "ticks": ""
           }
          },
          "scene": {
           "xaxis": {
            "backgroundcolor": "white",
            "gridcolor": "#DFE8F3",
            "gridwidth": 2,
            "linecolor": "#EBF0F8",
            "showbackground": true,
            "ticks": "",
            "zerolinecolor": "#EBF0F8"
           },
           "yaxis": {
            "backgroundcolor": "white",
            "gridcolor": "#DFE8F3",
            "gridwidth": 2,
            "linecolor": "#EBF0F8",
            "showbackground": true,
            "ticks": "",
            "zerolinecolor": "#EBF0F8"
           },
           "zaxis": {
            "backgroundcolor": "white",
            "gridcolor": "#DFE8F3",
            "gridwidth": 2,
            "linecolor": "#EBF0F8",
            "showbackground": true,
            "ticks": "",
            "zerolinecolor": "#EBF0F8"
           }
          },
          "shapedefaults": {
           "line": {
            "color": "#2a3f5f"
           }
          },
          "ternary": {
           "aaxis": {
            "gridcolor": "#DFE8F3",
            "linecolor": "#A2B1C6",
            "ticks": ""
           },
           "baxis": {
            "gridcolor": "#DFE8F3",
            "linecolor": "#A2B1C6",
            "ticks": ""
           },
           "bgcolor": "white",
           "caxis": {
            "gridcolor": "#DFE8F3",
            "linecolor": "#A2B1C6",
            "ticks": ""
           }
          },
          "title": {
           "x": 0.05
          },
          "xaxis": {
           "automargin": true,
           "gridcolor": "#EBF0F8",
           "linecolor": "#EBF0F8",
           "ticks": "",
           "title": {
            "standoff": 15
           },
           "zerolinecolor": "#EBF0F8",
           "zerolinewidth": 2
          },
          "yaxis": {
           "automargin": true,
           "gridcolor": "#EBF0F8",
           "linecolor": "#EBF0F8",
           "ticks": "",
           "title": {
            "standoff": 15
           },
           "zerolinecolor": "#EBF0F8",
           "zerolinewidth": 2
          }
         }
        },
        "title": {
         "text": "Group Radar"
        }
       }
      }
     },
     "metadata": {},
     "output_type": "display_data"
    }
   ],
   "source": [
    "evaluator.plot_group_radar()"
   ]
  },
  {
   "cell_type": "code",
   "execution_count": null,
   "id": "7f354455",
   "metadata": {},
   "outputs": [],
   "source": [
    "evaluator.plot_decile_ks()"
   ]
  },
  {
   "cell_type": "markdown",
   "id": "c37de622",
   "metadata": {},
   "source": [
    "### Teste de Stress"
   ]
  },
  {
   "cell_type": "code",
   "execution_count": null,
   "id": "aeb091ee",
   "metadata": {},
   "outputs": [],
   "source": [
    "gen = LookAhead(id_cols=['id'], date_cols=['date']).fit(train)\n",
    "evaluator.synthetic_gen = gen\n",
    "stress = evaluator.run_stress_test()\n",
    "stress['metrics']"
   ]
  }
 ],
 "metadata": {
  "kernelspec": {
   "display_name": "ENV_STONE",
   "language": "python",
   "name": "python3"
  },
  "language_info": {
   "codemirror_mode": {
    "name": "ipython",
    "version": 3
   },
   "file_extension": ".py",
   "mimetype": "text/x-python",
   "name": "python",
   "nbconvert_exporter": "python",
   "pygments_lexer": "ipython3",
   "version": "3.10.16"
  }
 },
 "nbformat": 4,
 "nbformat_minor": 5
}
