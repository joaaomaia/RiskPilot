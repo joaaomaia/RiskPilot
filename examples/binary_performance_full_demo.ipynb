{
 "cells": [
  {
   "cell_type": "markdown",
   "metadata": {},
   "source": [
    "# Binary Performance Evaluator – Demo Completo"
   ]
  },
  {
   "cell_type": "markdown",
   "metadata": {},
   "source": [
    "Neste exemplo vamos treinar um classificador simples e explorar várias funcionalidades do `BinaryPerformanceEvaluator`. Usaremos dados sintéticos."
   ]
  },
  {
   "cell_type": "code",
   "execution_count": 14,
   "metadata": {},
   "outputs": [],
   "source": [
    "import numpy as np\n",
    "import pandas as pd\n",
    "from sklearn.model_selection import train_test_split\n",
    "from sklearn.linear_model import LogisticRegression\n",
    "from sklearn.tree import DecisionTreeClassifier\n",
    "from xgboost import XGBClassifier\n",
    "from lightgbm import LGBMClassifier\n",
    "from riskpilot.evaluation import BinaryPerformanceEvaluator\n",
    "from riskpilot.synthetic import SyntheticVintageGenerator\n",
    "\n",
    "from sklearn.utils.class_weight import compute_sample_weight"
   ]
  },
  {
   "cell_type": "code",
   "execution_count": 15,
   "metadata": {},
   "outputs": [],
   "source": [
    "# --------------------------------------------------\n",
    "# 1. CONFIGURAÇÕES\n",
    "# --------------------------------------------------\n",
    "FILE_PATH = \"../../datasets/lending_club/accepted_2007_to_2018Q4.csv\"\n",
    "NROWS     = 1_000\n",
    "TARGET_RAW = \"loan_status\"          # coluna original\n",
    "TARGET     = \"target\"               # nome final binário\n",
    "\n",
    "# --------------------------------------------------\n",
    "# 2. LEITURA E CONVERSÃO DE TIPOS MISTOS\n",
    "# --------------------------------------------------\n",
    "def read_and_clean_csv_mixed_types(path, nrows=None, verbose=True):\n",
    "    df = pd.read_csv(path, low_memory=False, nrows=nrows)\n",
    "\n",
    "    # identificar colunas com tipos mistos\n",
    "    for col in df.columns:\n",
    "        types = df[col].dropna().map(type).value_counts()\n",
    "        if len(types) > 1 and verbose:\n",
    "            print(f\"[!] '{col}' com múltiplos tipos: {dict(types)}\")\n",
    "\n",
    "        # tentativa de conversão automática p/ numérico\n",
    "        if len(types) > 1:\n",
    "            try:\n",
    "                df[col] = pd.to_numeric(df[col], errors=\"coerce\")\n",
    "            except Exception:\n",
    "                df[col] = df[col].astype(str)\n",
    "\n",
    "    return df\n",
    "\n",
    "df = read_and_clean_csv_mixed_types(FILE_PATH, nrows=NROWS)\n",
    "\n",
    "# drop de colunas não usadas (caso existam)\n",
    "df.drop(columns=[c for c in [\"member_id\"] if c in df.columns], inplace=True)\n",
    "\n",
    "# --------------------------------------------------\n",
    "# 3. TARGET BINÁRIO\n",
    "# --------------------------------------------------\n",
    "bad_status = [\"Charged Off\", \"Default\", \"Late (31-120 days)\"]\n",
    "df[TARGET] = df[TARGET_RAW].isin(bad_status).astype(int)\n",
    "\n",
    "# --------------------------------------------------\n",
    "# 4. DATA E ID\n",
    "# --------------------------------------------------\n",
    "#df[\"date\"] = pd.to_datetime(df[\"issue_d\"], format=\"%b-%Y\", errors=\"coerce\")\n",
    "\n",
    "df[\"date\"] = pd.to_datetime('202201', format=\"%Y%M\", errors=\"coerce\")\n",
    "\n",
    "df.drop(columns=[\"issue_d\", TARGET_RAW], inplace=True)\n",
    "\n",
    "df.reset_index(drop=False, inplace=True)   # index ➜ nova coluna\n",
    "\n",
    "# --------------------------------------------------\n",
    "# 5. FEATURES NUMÉRICAS + IMPUTAÇÃO\n",
    "# --------------------------------------------------\n",
    "numeric_cols = df.select_dtypes(include=[np.number]).columns.drop([\"id\", TARGET])\n",
    "na_threshold = 0.30\n",
    "valid_cols = numeric_cols[df[numeric_cols].isna().mean() < na_threshold].tolist()\n",
    "valid_cols.remove('index')\n",
    "\n",
    "df[valid_cols] = df[valid_cols].fillna(df[valid_cols].median())\n",
    "\n",
    "# --------------------------------------------------\n",
    "# 6. DATAFRAME FINAL\n",
    "# --------------------------------------------------\n",
    "\n",
    "FEATURES = [\n",
    "    \"funded_amnt_inv\",\n",
    "    \"annual_inc\",\n",
    "    \"dti\",\n",
    "    \"fico_range_high\",\n",
    "    \"out_prncp_inv\",\n",
    "    \"total_rec_prncp\",\n",
    "    \"last_pymnt_amnt\",\n",
    "    \"last_fico_range_low\",\n",
    "    \"acc_open_past_24mths\",\n",
    "    \"avg_cur_bal\",\n",
    "    \"bc_open_to_buy\",\n",
    "    \"mo_sin_old_rev_tl_op\",\n",
    "    \"mo_sin_rcnt_rev_tl_op\",\n",
    "    \"mo_sin_rcnt_tl\",\n",
    "    \"mort_acc\",\n",
    "    \"mths_since_recent_bc\",\n",
    "    \"mths_since_recent_inq\",\n",
    "    \"num_tl_op_past_12m\",\n",
    "    \"percent_bc_gt_75\",\n",
    "    \"total_bc_limit\",\n",
    "    #\"sub_grade\"\n",
    "]\n",
    "\n",
    "ID_COLS = ['id']\n",
    "\n",
    "IGNORE_COLS = ['member_id']\n",
    "\n",
    "DATE_COLS = ['date']\n",
    "\n",
    "# --------------------------------------------------\n",
    "# Preparar dataset base\n",
    "# --------------------------------------------------\n",
    "df_model = df[ID_COLS+DATE_COLS+[TARGET] + FEATURES].dropna().copy()"
   ]
  },
  {
   "cell_type": "code",
   "execution_count": 16,
   "id": "771f86e2",
   "metadata": {},
   "outputs": [
    {
     "data": {
      "text/plain": [
       "['id']"
      ]
     },
     "execution_count": 16,
     "metadata": {},
     "output_type": "execute_result"
    }
   ],
   "source": [
    "ID_COLS"
   ]
  },
  {
   "cell_type": "code",
   "execution_count": 17,
   "id": "ab7ee715",
   "metadata": {},
   "outputs": [],
   "source": [
    "import numpy as np\n",
    "from riskpilot.synthetic import SyntheticVintageGenerator\n",
    "\n",
    "gen = SyntheticVintageGenerator(\n",
    "    id_cols=ID_COLS,\n",
    "    date_cols=DATE_COLS\n",
    ").fit(df_model)"
   ]
  },
  {
   "cell_type": "code",
   "execution_count": 18,
   "id": "db7e97e3",
   "metadata": {},
   "outputs": [
    {
     "data": {
      "text/html": [
       "<div>\n",
       "<style scoped>\n",
       "    .dataframe tbody tr th:only-of-type {\n",
       "        vertical-align: middle;\n",
       "    }\n",
       "\n",
       "    .dataframe tbody tr th {\n",
       "        vertical-align: top;\n",
       "    }\n",
       "\n",
       "    .dataframe thead th {\n",
       "        text-align: right;\n",
       "    }\n",
       "</style>\n",
       "<table border=\"1\" class=\"dataframe\">\n",
       "  <thead>\n",
       "    <tr style=\"text-align: right;\">\n",
       "      <th></th>\n",
       "      <th>id</th>\n",
       "      <th>date</th>\n",
       "      <th>target</th>\n",
       "      <th>funded_amnt_inv</th>\n",
       "      <th>annual_inc</th>\n",
       "      <th>dti</th>\n",
       "      <th>fico_range_high</th>\n",
       "      <th>out_prncp_inv</th>\n",
       "      <th>total_rec_prncp</th>\n",
       "      <th>last_pymnt_amnt</th>\n",
       "      <th>...</th>\n",
       "      <th>bc_open_to_buy</th>\n",
       "      <th>mo_sin_old_rev_tl_op</th>\n",
       "      <th>mo_sin_rcnt_rev_tl_op</th>\n",
       "      <th>mo_sin_rcnt_tl</th>\n",
       "      <th>mort_acc</th>\n",
       "      <th>mths_since_recent_bc</th>\n",
       "      <th>mths_since_recent_inq</th>\n",
       "      <th>num_tl_op_past_12m</th>\n",
       "      <th>percent_bc_gt_75</th>\n",
       "      <th>total_bc_limit</th>\n",
       "    </tr>\n",
       "  </thead>\n",
       "  <tbody>\n",
       "    <tr>\n",
       "      <th>0</th>\n",
       "      <td>b9e41a477f684532a598a9cd6e2f59f0</td>\n",
       "      <td>2025-06-30</td>\n",
       "      <td>0</td>\n",
       "      <td>12000.0</td>\n",
       "      <td>82000.000000</td>\n",
       "      <td>12.670064</td>\n",
       "      <td>709.0</td>\n",
       "      <td>0.000000</td>\n",
       "      <td>6264.049981</td>\n",
       "      <td>984.719948</td>\n",
       "      <td>...</td>\n",
       "      <td>18421.268648</td>\n",
       "      <td>153.000000</td>\n",
       "      <td>43.025843</td>\n",
       "      <td>7.000000</td>\n",
       "      <td>5</td>\n",
       "      <td>71.063516</td>\n",
       "      <td>5.309105</td>\n",
       "      <td>4</td>\n",
       "      <td>42.9</td>\n",
       "      <td>41000.000000</td>\n",
       "    </tr>\n",
       "    <tr>\n",
       "      <th>1</th>\n",
       "      <td>c81d6525e6db411993ad3a8b15e6d099</td>\n",
       "      <td>2025-06-30</td>\n",
       "      <td>0</td>\n",
       "      <td>6000.0</td>\n",
       "      <td>31984.049803</td>\n",
       "      <td>13.912898</td>\n",
       "      <td>679.0</td>\n",
       "      <td>9580.147387</td>\n",
       "      <td>1777.011451</td>\n",
       "      <td>292.422176</td>\n",
       "      <td>...</td>\n",
       "      <td>278.252063</td>\n",
       "      <td>130.000000</td>\n",
       "      <td>24.000000</td>\n",
       "      <td>13.000000</td>\n",
       "      <td>0</td>\n",
       "      <td>123.205994</td>\n",
       "      <td>7.000000</td>\n",
       "      <td>1</td>\n",
       "      <td>100.0</td>\n",
       "      <td>3142.929444</td>\n",
       "    </tr>\n",
       "    <tr>\n",
       "      <th>2</th>\n",
       "      <td>001b8217591247969c69ebbde3f00014</td>\n",
       "      <td>2025-06-30</td>\n",
       "      <td>0</td>\n",
       "      <td>15000.0</td>\n",
       "      <td>135000.000000</td>\n",
       "      <td>22.906248</td>\n",
       "      <td>729.0</td>\n",
       "      <td>0.000000</td>\n",
       "      <td>7000.000000</td>\n",
       "      <td>3805.423957</td>\n",
       "      <td>...</td>\n",
       "      <td>10472.162342</td>\n",
       "      <td>257.000000</td>\n",
       "      <td>32.079301</td>\n",
       "      <td>36.000799</td>\n",
       "      <td>4</td>\n",
       "      <td>68.030138</td>\n",
       "      <td>1.000000</td>\n",
       "      <td>0</td>\n",
       "      <td>66.7</td>\n",
       "      <td>99517.354370</td>\n",
       "    </tr>\n",
       "    <tr>\n",
       "      <th>3</th>\n",
       "      <td>8f6f76f9df974112bb0d93c9521be72c</td>\n",
       "      <td>2025-06-30</td>\n",
       "      <td>0</td>\n",
       "      <td>12000.0</td>\n",
       "      <td>75000.000000</td>\n",
       "      <td>20.348964</td>\n",
       "      <td>754.0</td>\n",
       "      <td>0.000000</td>\n",
       "      <td>16000.000000</td>\n",
       "      <td>7173.956284</td>\n",
       "      <td>...</td>\n",
       "      <td>4151.820450</td>\n",
       "      <td>180.000000</td>\n",
       "      <td>6.000000</td>\n",
       "      <td>9.000000</td>\n",
       "      <td>2</td>\n",
       "      <td>11.000000</td>\n",
       "      <td>15.000000</td>\n",
       "      <td>2</td>\n",
       "      <td>100.0</td>\n",
       "      <td>23440.535188</td>\n",
       "    </tr>\n",
       "    <tr>\n",
       "      <th>4</th>\n",
       "      <td>768928d7b33e4cdcaaf75b2c1e238908</td>\n",
       "      <td>2025-06-30</td>\n",
       "      <td>0</td>\n",
       "      <td>18000.0</td>\n",
       "      <td>84000.000000</td>\n",
       "      <td>8.339263</td>\n",
       "      <td>744.0</td>\n",
       "      <td>0.000000</td>\n",
       "      <td>11512.624933</td>\n",
       "      <td>1513.866069</td>\n",
       "      <td>...</td>\n",
       "      <td>1313.543575</td>\n",
       "      <td>169.609776</td>\n",
       "      <td>1.000000</td>\n",
       "      <td>3.000000</td>\n",
       "      <td>3</td>\n",
       "      <td>12.000000</td>\n",
       "      <td>13.000000</td>\n",
       "      <td>2</td>\n",
       "      <td>100.0</td>\n",
       "      <td>21500.000000</td>\n",
       "    </tr>\n",
       "  </tbody>\n",
       "</table>\n",
       "<p>5 rows × 23 columns</p>\n",
       "</div>"
      ],
      "text/plain": [
       "                                 id       date  target  funded_amnt_inv  \\\n",
       "0  b9e41a477f684532a598a9cd6e2f59f0 2025-06-30       0          12000.0   \n",
       "1  c81d6525e6db411993ad3a8b15e6d099 2025-06-30       0           6000.0   \n",
       "2  001b8217591247969c69ebbde3f00014 2025-06-30       0          15000.0   \n",
       "3  8f6f76f9df974112bb0d93c9521be72c 2025-06-30       0          12000.0   \n",
       "4  768928d7b33e4cdcaaf75b2c1e238908 2025-06-30       0          18000.0   \n",
       "\n",
       "      annual_inc        dti  fico_range_high  out_prncp_inv  total_rec_prncp  \\\n",
       "0   82000.000000  12.670064            709.0       0.000000      6264.049981   \n",
       "1   31984.049803  13.912898            679.0    9580.147387      1777.011451   \n",
       "2  135000.000000  22.906248            729.0       0.000000      7000.000000   \n",
       "3   75000.000000  20.348964            754.0       0.000000     16000.000000   \n",
       "4   84000.000000   8.339263            744.0       0.000000     11512.624933   \n",
       "\n",
       "   last_pymnt_amnt  ...  bc_open_to_buy  mo_sin_old_rev_tl_op  \\\n",
       "0       984.719948  ...    18421.268648            153.000000   \n",
       "1       292.422176  ...      278.252063            130.000000   \n",
       "2      3805.423957  ...    10472.162342            257.000000   \n",
       "3      7173.956284  ...     4151.820450            180.000000   \n",
       "4      1513.866069  ...     1313.543575            169.609776   \n",
       "\n",
       "   mo_sin_rcnt_rev_tl_op  mo_sin_rcnt_tl  mort_acc  mths_since_recent_bc  \\\n",
       "0              43.025843        7.000000         5             71.063516   \n",
       "1              24.000000       13.000000         0            123.205994   \n",
       "2              32.079301       36.000799         4             68.030138   \n",
       "3               6.000000        9.000000         2             11.000000   \n",
       "4               1.000000        3.000000         3             12.000000   \n",
       "\n",
       "   mths_since_recent_inq  num_tl_op_past_12m  percent_bc_gt_75  total_bc_limit  \n",
       "0               5.309105                   4              42.9    41000.000000  \n",
       "1               7.000000                   1             100.0     3142.929444  \n",
       "2               1.000000                   0              66.7    99517.354370  \n",
       "3              15.000000                   2             100.0    23440.535188  \n",
       "4              13.000000                   2             100.0    21500.000000  \n",
       "\n",
       "[5 rows x 23 columns]"
      ]
     },
     "execution_count": 18,
     "metadata": {},
     "output_type": "execute_result"
    }
   ],
   "source": [
    "synthetic = gen.generate(\n",
    "    n_periods=36,\n",
    "    freq='ME',\n",
    "    scenario='stress')\n",
    "synthetic.head()"
   ]
  },
  {
   "cell_type": "code",
   "execution_count": 19,
   "id": "dc15d83d",
   "metadata": {},
   "outputs": [],
   "source": [
    "# --------------------------------------------------\n",
    "# 2. Split treino / teste\n",
    "# --------------------------------------------------\n",
    "train_idx, test_idx = train_test_split(\n",
    "    df_model.index,\n",
    "    test_size=0.30,\n",
    "    stratify=df_model[TARGET],\n",
    "    random_state=42,\n",
    ")\n",
    "\n",
    "# Criar df_train e df_test primeiro\n",
    "df_train = df_model.loc[train_idx].copy()\n",
    "df_test  = df_model.loc[test_idx].copy()\n",
    "\n",
    "# Depois extrair X e y a partir dos DataFrames\n",
    "X_train, y_train = df_train[FEATURES], df_train[TARGET]\n",
    "X_test , y_test  = df_test[FEATURES] , df_test[TARGET]"
   ]
  },
  {
   "cell_type": "code",
   "execution_count": 20,
   "id": "0f0a0eec",
   "metadata": {},
   "outputs": [
    {
     "name": "stdout",
     "output_type": "stream",
     "text": [
      "Colunas 'object' restantes em X_train: Series([], dtype: object)\n",
      "Colunas 'object' restantes em df_test: Series([], dtype: object)\n"
     ]
    }
   ],
   "source": [
    "# --------------------------------------------------\n",
    "# Garantir cópias independentes dos conjuntos de treino e teste\n",
    "# --------------------------------------------------\n",
    "X_train = df_train[FEATURES].copy()\n",
    "X_test = df_test[FEATURES].copy()\n",
    "\n",
    "# --------------------------------------------------\n",
    "# Converter colunas categóricas (tipo object) para 'category' em X e df\n",
    "# --------------------------------------------------\n",
    "def convert_object_to_category(df):\n",
    "    obj_cols = df.select_dtypes(include='object').columns\n",
    "    df[obj_cols] = df[obj_cols].astype('category')\n",
    "    return df\n",
    "\n",
    "# Aplicar nos conjuntos usados no modelo\n",
    "X_train = convert_object_to_category(X_train)\n",
    "X_test = convert_object_to_category(X_test)\n",
    "\n",
    "# Garantir que df_train e df_test também estejam com tipos consistentes\n",
    "df_train = convert_object_to_category(df_train)\n",
    "df_test = convert_object_to_category(df_test)\n",
    "\n",
    "# --------------------------------------------------\n",
    "# Verificações finais\n",
    "# --------------------------------------------------\n",
    "print(\"Colunas 'object' restantes em X_train:\", X_train.dtypes[X_train.dtypes == 'object'])\n",
    "print(\"Colunas 'object' restantes em df_test:\", df_test.dtypes[df_test.dtypes == 'object'])\n"
   ]
  },
  {
   "cell_type": "code",
   "execution_count": 21,
   "id": "54283e46",
   "metadata": {},
   "outputs": [],
   "source": [
    "num_cols = df_train.select_dtypes(include=[float, int]).columns.tolist()\n",
    "\n",
    "for col in ['index', 'id', TARGET]:\n",
    "    try:\n",
    "        num_cols.remove(col)\n",
    "    except:\n",
    "        pass   "
   ]
  },
  {
   "cell_type": "code",
   "execution_count": 22,
   "id": "c955d81b",
   "metadata": {},
   "outputs": [
    {
     "name": "stderr",
     "output_type": "stream",
     "text": [
      "INFO: Ignoring columns (no scaling): ['target', 'id']\n",
      "WARNING: Ignoring non-numeric columns: ['target', 'id', 'date']\n"
     ]
    },
    {
     "name": "stdout",
     "output_type": "stream",
     "text": [
      "\n",
      "Resumo das decisões por feature:\n"
     ]
    },
    {
     "name": "stderr",
     "output_type": "stream",
     "text": [
      "c:\\Users\\JM\\AppData\\Local\\anaconda3\\envs\\ENV_STONE\\lib\\site-packages\\sklearn\\preprocessing\\_data.py:2785: UserWarning: n_quantiles (1000) is greater than the total number of samples (630). n_quantiles is set to n_samples.\n",
      "  warnings.warn(\n",
      "c:\\Users\\JM\\AppData\\Local\\anaconda3\\envs\\ENV_STONE\\lib\\site-packages\\sklearn\\preprocessing\\_data.py:2785: UserWarning: n_quantiles (1000) is greater than the total number of samples (630). n_quantiles is set to n_samples.\n",
      "  warnings.warn(\n",
      "c:\\Users\\JM\\AppData\\Local\\anaconda3\\envs\\ENV_STONE\\lib\\site-packages\\sklearn\\preprocessing\\_data.py:2785: UserWarning: n_quantiles (1000) is greater than the total number of samples (630). n_quantiles is set to n_samples.\n",
      "  warnings.warn(\n",
      "c:\\Users\\JM\\AppData\\Local\\anaconda3\\envs\\ENV_STONE\\lib\\site-packages\\sklearn\\preprocessing\\_data.py:2785: UserWarning: n_quantiles (1000) is greater than the total number of samples (630). n_quantiles is set to n_samples.\n",
      "  warnings.warn(\n",
      "c:\\Users\\JM\\AppData\\Local\\anaconda3\\envs\\ENV_STONE\\lib\\site-packages\\sklearn\\preprocessing\\_data.py:2785: UserWarning: n_quantiles (1000) is greater than the total number of samples (630). n_quantiles is set to n_samples.\n",
      "  warnings.warn(\n",
      "c:\\Users\\JM\\AppData\\Local\\anaconda3\\envs\\ENV_STONE\\lib\\site-packages\\sklearn\\preprocessing\\_data.py:2785: UserWarning: n_quantiles (1000) is greater than the total number of samples (700). n_quantiles is set to n_samples.\n",
      "  warnings.warn(\n"
     ]
    },
    {
     "data": {
      "text/html": [
       "<div>\n",
       "<style scoped>\n",
       "    .dataframe tbody tr th:only-of-type {\n",
       "        vertical-align: middle;\n",
       "    }\n",
       "\n",
       "    .dataframe tbody tr th {\n",
       "        vertical-align: top;\n",
       "    }\n",
       "\n",
       "    .dataframe thead th {\n",
       "        text-align: right;\n",
       "    }\n",
       "</style>\n",
       "<table border=\"1\" class=\"dataframe\">\n",
       "  <thead>\n",
       "    <tr style=\"text-align: right;\">\n",
       "      <th></th>\n",
       "      <th>chosen_scaler</th>\n",
       "      <th>validation_stats</th>\n",
       "      <th>ignored</th>\n",
       "      <th>candidates_tried</th>\n",
       "      <th>reason</th>\n",
       "    </tr>\n",
       "  </thead>\n",
       "  <tbody>\n",
       "    <tr>\n",
       "      <th>funded_amnt_inv</th>\n",
       "      <td>None</td>\n",
       "      <td>{'post_std': nan, 'post_iqr': nan, 'post_n_uni...</td>\n",
       "      <td>[]</td>\n",
       "      <td>[PowerTransformer, QuantileTransformer, Robust...</td>\n",
       "      <td>all_rejected</td>\n",
       "    </tr>\n",
       "    <tr>\n",
       "      <th>annual_inc</th>\n",
       "      <td>PowerTransformer</td>\n",
       "      <td>{'post_std': 1.0000000000000002, 'post_iqr': 1...</td>\n",
       "      <td>[]</td>\n",
       "      <td>[PowerTransformer]</td>\n",
       "      <td>NaN</td>\n",
       "    </tr>\n",
       "    <tr>\n",
       "      <th>dti</th>\n",
       "      <td>None</td>\n",
       "      <td>{'post_std': nan, 'post_iqr': nan, 'post_n_uni...</td>\n",
       "      <td>[]</td>\n",
       "      <td>[PowerTransformer, QuantileTransformer, Robust...</td>\n",
       "      <td>all_rejected</td>\n",
       "    </tr>\n",
       "    <tr>\n",
       "      <th>fico_range_high</th>\n",
       "      <td>None</td>\n",
       "      <td>{'post_std': nan, 'post_iqr': nan, 'post_n_uni...</td>\n",
       "      <td>[]</td>\n",
       "      <td>[PowerTransformer, QuantileTransformer, Robust...</td>\n",
       "      <td>all_rejected</td>\n",
       "    </tr>\n",
       "    <tr>\n",
       "      <th>out_prncp_inv</th>\n",
       "      <td>None</td>\n",
       "      <td>{'post_std': nan, 'post_iqr': nan, 'post_n_uni...</td>\n",
       "      <td>[]</td>\n",
       "      <td>[PowerTransformer, QuantileTransformer, Robust...</td>\n",
       "      <td>all_rejected</td>\n",
       "    </tr>\n",
       "    <tr>\n",
       "      <th>total_rec_prncp</th>\n",
       "      <td>PowerTransformer</td>\n",
       "      <td>{'post_std': 1.0, 'post_iqr': 1.48435930287225...</td>\n",
       "      <td>[]</td>\n",
       "      <td>[PowerTransformer]</td>\n",
       "      <td>NaN</td>\n",
       "    </tr>\n",
       "    <tr>\n",
       "      <th>last_pymnt_amnt</th>\n",
       "      <td>PowerTransformer</td>\n",
       "      <td>{'post_std': 0.9999999999999998, 'post_iqr': 1...</td>\n",
       "      <td>[]</td>\n",
       "      <td>[PowerTransformer]</td>\n",
       "      <td>NaN</td>\n",
       "    </tr>\n",
       "    <tr>\n",
       "      <th>last_fico_range_low</th>\n",
       "      <td>PowerTransformer</td>\n",
       "      <td>{'post_std': 1.0, 'post_iqr': 1.04340299282014...</td>\n",
       "      <td>[]</td>\n",
       "      <td>[PowerTransformer]</td>\n",
       "      <td>NaN</td>\n",
       "    </tr>\n",
       "    <tr>\n",
       "      <th>acc_open_past_24mths</th>\n",
       "      <td>PowerTransformer</td>\n",
       "      <td>{'post_std': 1.0, 'post_iqr': 1.68934796129987...</td>\n",
       "      <td>[]</td>\n",
       "      <td>[PowerTransformer]</td>\n",
       "      <td>NaN</td>\n",
       "    </tr>\n",
       "    <tr>\n",
       "      <th>avg_cur_bal</th>\n",
       "      <td>PowerTransformer</td>\n",
       "      <td>{'post_std': 1.0, 'post_iqr': 1.50197816963828...</td>\n",
       "      <td>[]</td>\n",
       "      <td>[PowerTransformer]</td>\n",
       "      <td>NaN</td>\n",
       "    </tr>\n",
       "    <tr>\n",
       "      <th>bc_open_to_buy</th>\n",
       "      <td>PowerTransformer</td>\n",
       "      <td>{'post_std': 1.0, 'post_iqr': 1.36522412863677...</td>\n",
       "      <td>[]</td>\n",
       "      <td>[PowerTransformer]</td>\n",
       "      <td>NaN</td>\n",
       "    </tr>\n",
       "    <tr>\n",
       "      <th>mo_sin_old_rev_tl_op</th>\n",
       "      <td>QuantileTransformer</td>\n",
       "      <td>{'post_std': 1.031818331048691, 'post_iqr': 1....</td>\n",
       "      <td>[]</td>\n",
       "      <td>[PowerTransformer, QuantileTransformer]</td>\n",
       "      <td>NaN</td>\n",
       "    </tr>\n",
       "    <tr>\n",
       "      <th>mo_sin_rcnt_rev_tl_op</th>\n",
       "      <td>PowerTransformer</td>\n",
       "      <td>{'post_std': 1.0, 'post_iqr': 1.47730543372855...</td>\n",
       "      <td>[]</td>\n",
       "      <td>[PowerTransformer]</td>\n",
       "      <td>NaN</td>\n",
       "    </tr>\n",
       "    <tr>\n",
       "      <th>mo_sin_rcnt_tl</th>\n",
       "      <td>PowerTransformer</td>\n",
       "      <td>{'post_std': 1.0, 'post_iqr': 1.52472389842518...</td>\n",
       "      <td>[]</td>\n",
       "      <td>[PowerTransformer]</td>\n",
       "      <td>NaN</td>\n",
       "    </tr>\n",
       "    <tr>\n",
       "      <th>mort_acc</th>\n",
       "      <td>PowerTransformer</td>\n",
       "      <td>{'post_std': 1.0, 'post_iqr': 2.03682739874526...</td>\n",
       "      <td>[]</td>\n",
       "      <td>[PowerTransformer]</td>\n",
       "      <td>NaN</td>\n",
       "    </tr>\n",
       "    <tr>\n",
       "      <th>mths_since_recent_bc</th>\n",
       "      <td>PowerTransformer</td>\n",
       "      <td>{'post_std': 0.9999999999999999, 'post_iqr': 1...</td>\n",
       "      <td>[]</td>\n",
       "      <td>[PowerTransformer]</td>\n",
       "      <td>NaN</td>\n",
       "    </tr>\n",
       "    <tr>\n",
       "      <th>mths_since_recent_inq</th>\n",
       "      <td>PowerTransformer</td>\n",
       "      <td>{'post_std': 0.9999999999999998, 'post_iqr': 1...</td>\n",
       "      <td>[]</td>\n",
       "      <td>[PowerTransformer]</td>\n",
       "      <td>NaN</td>\n",
       "    </tr>\n",
       "    <tr>\n",
       "      <th>num_tl_op_past_12m</th>\n",
       "      <td>PowerTransformer</td>\n",
       "      <td>{'post_std': 1.0, 'post_iqr': 1.19829768813251...</td>\n",
       "      <td>[]</td>\n",
       "      <td>[PowerTransformer]</td>\n",
       "      <td>NaN</td>\n",
       "    </tr>\n",
       "    <tr>\n",
       "      <th>percent_bc_gt_75</th>\n",
       "      <td>PowerTransformer</td>\n",
       "      <td>{'post_std': 1.0, 'post_iqr': 2.22029331392884...</td>\n",
       "      <td>[]</td>\n",
       "      <td>[PowerTransformer]</td>\n",
       "      <td>NaN</td>\n",
       "    </tr>\n",
       "    <tr>\n",
       "      <th>total_bc_limit</th>\n",
       "      <td>PowerTransformer</td>\n",
       "      <td>{'post_std': 1.0, 'post_iqr': 1.33474505581407...</td>\n",
       "      <td>[]</td>\n",
       "      <td>[PowerTransformer]</td>\n",
       "      <td>NaN</td>\n",
       "    </tr>\n",
       "  </tbody>\n",
       "</table>\n",
       "</div>"
      ],
      "text/plain": [
       "                             chosen_scaler  \\\n",
       "funded_amnt_inv                       None   \n",
       "annual_inc                PowerTransformer   \n",
       "dti                                   None   \n",
       "fico_range_high                       None   \n",
       "out_prncp_inv                         None   \n",
       "total_rec_prncp           PowerTransformer   \n",
       "last_pymnt_amnt           PowerTransformer   \n",
       "last_fico_range_low       PowerTransformer   \n",
       "acc_open_past_24mths      PowerTransformer   \n",
       "avg_cur_bal               PowerTransformer   \n",
       "bc_open_to_buy            PowerTransformer   \n",
       "mo_sin_old_rev_tl_op   QuantileTransformer   \n",
       "mo_sin_rcnt_rev_tl_op     PowerTransformer   \n",
       "mo_sin_rcnt_tl            PowerTransformer   \n",
       "mort_acc                  PowerTransformer   \n",
       "mths_since_recent_bc      PowerTransformer   \n",
       "mths_since_recent_inq     PowerTransformer   \n",
       "num_tl_op_past_12m        PowerTransformer   \n",
       "percent_bc_gt_75          PowerTransformer   \n",
       "total_bc_limit            PowerTransformer   \n",
       "\n",
       "                                                        validation_stats  \\\n",
       "funded_amnt_inv        {'post_std': nan, 'post_iqr': nan, 'post_n_uni...   \n",
       "annual_inc             {'post_std': 1.0000000000000002, 'post_iqr': 1...   \n",
       "dti                    {'post_std': nan, 'post_iqr': nan, 'post_n_uni...   \n",
       "fico_range_high        {'post_std': nan, 'post_iqr': nan, 'post_n_uni...   \n",
       "out_prncp_inv          {'post_std': nan, 'post_iqr': nan, 'post_n_uni...   \n",
       "total_rec_prncp        {'post_std': 1.0, 'post_iqr': 1.48435930287225...   \n",
       "last_pymnt_amnt        {'post_std': 0.9999999999999998, 'post_iqr': 1...   \n",
       "last_fico_range_low    {'post_std': 1.0, 'post_iqr': 1.04340299282014...   \n",
       "acc_open_past_24mths   {'post_std': 1.0, 'post_iqr': 1.68934796129987...   \n",
       "avg_cur_bal            {'post_std': 1.0, 'post_iqr': 1.50197816963828...   \n",
       "bc_open_to_buy         {'post_std': 1.0, 'post_iqr': 1.36522412863677...   \n",
       "mo_sin_old_rev_tl_op   {'post_std': 1.031818331048691, 'post_iqr': 1....   \n",
       "mo_sin_rcnt_rev_tl_op  {'post_std': 1.0, 'post_iqr': 1.47730543372855...   \n",
       "mo_sin_rcnt_tl         {'post_std': 1.0, 'post_iqr': 1.52472389842518...   \n",
       "mort_acc               {'post_std': 1.0, 'post_iqr': 2.03682739874526...   \n",
       "mths_since_recent_bc   {'post_std': 0.9999999999999999, 'post_iqr': 1...   \n",
       "mths_since_recent_inq  {'post_std': 0.9999999999999998, 'post_iqr': 1...   \n",
       "num_tl_op_past_12m     {'post_std': 1.0, 'post_iqr': 1.19829768813251...   \n",
       "percent_bc_gt_75       {'post_std': 1.0, 'post_iqr': 2.22029331392884...   \n",
       "total_bc_limit         {'post_std': 1.0, 'post_iqr': 1.33474505581407...   \n",
       "\n",
       "                      ignored  \\\n",
       "funded_amnt_inv            []   \n",
       "annual_inc                 []   \n",
       "dti                        []   \n",
       "fico_range_high            []   \n",
       "out_prncp_inv              []   \n",
       "total_rec_prncp            []   \n",
       "last_pymnt_amnt            []   \n",
       "last_fico_range_low        []   \n",
       "acc_open_past_24mths       []   \n",
       "avg_cur_bal                []   \n",
       "bc_open_to_buy             []   \n",
       "mo_sin_old_rev_tl_op       []   \n",
       "mo_sin_rcnt_rev_tl_op      []   \n",
       "mo_sin_rcnt_tl             []   \n",
       "mort_acc                   []   \n",
       "mths_since_recent_bc       []   \n",
       "mths_since_recent_inq      []   \n",
       "num_tl_op_past_12m         []   \n",
       "percent_bc_gt_75           []   \n",
       "total_bc_limit             []   \n",
       "\n",
       "                                                        candidates_tried  \\\n",
       "funded_amnt_inv        [PowerTransformer, QuantileTransformer, Robust...   \n",
       "annual_inc                                            [PowerTransformer]   \n",
       "dti                    [PowerTransformer, QuantileTransformer, Robust...   \n",
       "fico_range_high        [PowerTransformer, QuantileTransformer, Robust...   \n",
       "out_prncp_inv          [PowerTransformer, QuantileTransformer, Robust...   \n",
       "total_rec_prncp                                       [PowerTransformer]   \n",
       "last_pymnt_amnt                                       [PowerTransformer]   \n",
       "last_fico_range_low                                   [PowerTransformer]   \n",
       "acc_open_past_24mths                                  [PowerTransformer]   \n",
       "avg_cur_bal                                           [PowerTransformer]   \n",
       "bc_open_to_buy                                        [PowerTransformer]   \n",
       "mo_sin_old_rev_tl_op             [PowerTransformer, QuantileTransformer]   \n",
       "mo_sin_rcnt_rev_tl_op                                 [PowerTransformer]   \n",
       "mo_sin_rcnt_tl                                        [PowerTransformer]   \n",
       "mort_acc                                              [PowerTransformer]   \n",
       "mths_since_recent_bc                                  [PowerTransformer]   \n",
       "mths_since_recent_inq                                 [PowerTransformer]   \n",
       "num_tl_op_past_12m                                    [PowerTransformer]   \n",
       "percent_bc_gt_75                                      [PowerTransformer]   \n",
       "total_bc_limit                                        [PowerTransformer]   \n",
       "\n",
       "                             reason  \n",
       "funded_amnt_inv        all_rejected  \n",
       "annual_inc                      NaN  \n",
       "dti                    all_rejected  \n",
       "fico_range_high        all_rejected  \n",
       "out_prncp_inv          all_rejected  \n",
       "total_rec_prncp                 NaN  \n",
       "last_pymnt_amnt                 NaN  \n",
       "last_fico_range_low             NaN  \n",
       "acc_open_past_24mths            NaN  \n",
       "avg_cur_bal                     NaN  \n",
       "bc_open_to_buy                  NaN  \n",
       "mo_sin_old_rev_tl_op            NaN  \n",
       "mo_sin_rcnt_rev_tl_op           NaN  \n",
       "mo_sin_rcnt_tl                  NaN  \n",
       "mort_acc                        NaN  \n",
       "mths_since_recent_bc            NaN  \n",
       "mths_since_recent_inq           NaN  \n",
       "num_tl_op_past_12m              NaN  \n",
       "percent_bc_gt_75                NaN  \n",
       "total_bc_limit                  NaN  "
      ]
     },
     "metadata": {},
     "output_type": "display_data"
    }
   ],
   "source": [
    "# Aplicar o DynamicScaler no treino\n",
    "from riskpilot.utils.scaler import DynamicScaler\n",
    "scaler = DynamicScaler(\n",
    "    strategy=\"auto\",\n",
    "    shapiro_p_val = 0.01, # se aumentar fica mais restritiva a escolha de StandardScaler()\n",
    "    #serialize=True,\n",
    "    #save_path=\"scalers.pkl\", # arquivo com informações de escalonamento salvas \n",
    "    random_state=42,\n",
    "    ignore_cols=ID_COLS+IGNORE_COLS+DATE_COLS+[TARGET]\n",
    ")\n",
    "\n",
    "scaler.fit(df_train)\n",
    "\n",
    "# Relatório das decisões\n",
    "print(\"\\nResumo das decisões por feature:\")\n",
    "display(scaler.report_as_df())"
   ]
  },
  {
   "cell_type": "code",
   "execution_count": 23,
   "id": "1533e978",
   "metadata": {},
   "outputs": [
    {
     "data": {
      "text/plain": [
       "funded_amnt_inv          [PowerTransformer, QuantileTransformer, Robust...\n",
       "annual_inc                                              [PowerTransformer]\n",
       "dti                      [PowerTransformer, QuantileTransformer, Robust...\n",
       "fico_range_high          [PowerTransformer, QuantileTransformer, Robust...\n",
       "out_prncp_inv            [PowerTransformer, QuantileTransformer, Robust...\n",
       "total_rec_prncp                                         [PowerTransformer]\n",
       "last_pymnt_amnt                                         [PowerTransformer]\n",
       "last_fico_range_low                                     [PowerTransformer]\n",
       "acc_open_past_24mths                                    [PowerTransformer]\n",
       "avg_cur_bal                                             [PowerTransformer]\n",
       "bc_open_to_buy                                          [PowerTransformer]\n",
       "mo_sin_old_rev_tl_op               [PowerTransformer, QuantileTransformer]\n",
       "mo_sin_rcnt_rev_tl_op                                   [PowerTransformer]\n",
       "mo_sin_rcnt_tl                                          [PowerTransformer]\n",
       "mort_acc                                                [PowerTransformer]\n",
       "mths_since_recent_bc                                    [PowerTransformer]\n",
       "mths_since_recent_inq                                   [PowerTransformer]\n",
       "num_tl_op_past_12m                                      [PowerTransformer]\n",
       "percent_bc_gt_75                                        [PowerTransformer]\n",
       "total_bc_limit                                          [PowerTransformer]\n",
       "Name: candidates_tried, dtype: object"
      ]
     },
     "execution_count": 23,
     "metadata": {},
     "output_type": "execute_result"
    }
   ],
   "source": [
    "scaler.report_as_df()['candidates_tried']"
   ]
  },
  {
   "cell_type": "code",
   "execution_count": 24,
   "id": "42b96416",
   "metadata": {},
   "outputs": [
    {
     "data": {
      "text/html": [
       "<div>\n",
       "<style scoped>\n",
       "    .dataframe tbody tr th:only-of-type {\n",
       "        vertical-align: middle;\n",
       "    }\n",
       "\n",
       "    .dataframe tbody tr th {\n",
       "        vertical-align: top;\n",
       "    }\n",
       "\n",
       "    .dataframe thead th {\n",
       "        text-align: right;\n",
       "    }\n",
       "</style>\n",
       "<table border=\"1\" class=\"dataframe\">\n",
       "  <thead>\n",
       "    <tr style=\"text-align: right;\">\n",
       "      <th></th>\n",
       "      <th>funded_amnt_inv</th>\n",
       "      <th>annual_inc</th>\n",
       "      <th>dti</th>\n",
       "      <th>fico_range_high</th>\n",
       "      <th>out_prncp_inv</th>\n",
       "      <th>total_rec_prncp</th>\n",
       "      <th>last_pymnt_amnt</th>\n",
       "      <th>last_fico_range_low</th>\n",
       "      <th>acc_open_past_24mths</th>\n",
       "      <th>avg_cur_bal</th>\n",
       "      <th>bc_open_to_buy</th>\n",
       "      <th>mo_sin_old_rev_tl_op</th>\n",
       "      <th>mo_sin_rcnt_rev_tl_op</th>\n",
       "      <th>mo_sin_rcnt_tl</th>\n",
       "      <th>mort_acc</th>\n",
       "      <th>mths_since_recent_bc</th>\n",
       "      <th>mths_since_recent_inq</th>\n",
       "      <th>num_tl_op_past_12m</th>\n",
       "      <th>percent_bc_gt_75</th>\n",
       "      <th>total_bc_limit</th>\n",
       "    </tr>\n",
       "  </thead>\n",
       "  <tbody>\n",
       "    <tr>\n",
       "      <th>967</th>\n",
       "      <td>12000.0</td>\n",
       "      <td>50000.0</td>\n",
       "      <td>7.54</td>\n",
       "      <td>774.0</td>\n",
       "      <td>0.0</td>\n",
       "      <td>12000.00</td>\n",
       "      <td>361.28</td>\n",
       "      <td>805.0</td>\n",
       "      <td>2.0</td>\n",
       "      <td>1288.0</td>\n",
       "      <td>50612.0</td>\n",
       "      <td>266.0</td>\n",
       "      <td>24.0</td>\n",
       "      <td>24.0</td>\n",
       "      <td>0.0</td>\n",
       "      <td>24.0</td>\n",
       "      <td>5.0</td>\n",
       "      <td>0.0</td>\n",
       "      <td>0.0</td>\n",
       "      <td>61700.0</td>\n",
       "    </tr>\n",
       "    <tr>\n",
       "      <th>993</th>\n",
       "      <td>14000.0</td>\n",
       "      <td>132700.0</td>\n",
       "      <td>25.38</td>\n",
       "      <td>664.0</td>\n",
       "      <td>0.0</td>\n",
       "      <td>14000.00</td>\n",
       "      <td>93.38</td>\n",
       "      <td>705.0</td>\n",
       "      <td>10.0</td>\n",
       "      <td>9813.0</td>\n",
       "      <td>94.0</td>\n",
       "      <td>124.0</td>\n",
       "      <td>5.0</td>\n",
       "      <td>1.0</td>\n",
       "      <td>5.0</td>\n",
       "      <td>19.0</td>\n",
       "      <td>1.0</td>\n",
       "      <td>3.0</td>\n",
       "      <td>100.0</td>\n",
       "      <td>1300.0</td>\n",
       "    </tr>\n",
       "    <tr>\n",
       "      <th>78</th>\n",
       "      <td>20200.0</td>\n",
       "      <td>60000.0</td>\n",
       "      <td>34.84</td>\n",
       "      <td>724.0</td>\n",
       "      <td>0.0</td>\n",
       "      <td>4258.61</td>\n",
       "      <td>518.35</td>\n",
       "      <td>560.0</td>\n",
       "      <td>6.0</td>\n",
       "      <td>4322.0</td>\n",
       "      <td>9516.0</td>\n",
       "      <td>74.0</td>\n",
       "      <td>7.0</td>\n",
       "      <td>7.0</td>\n",
       "      <td>0.0</td>\n",
       "      <td>16.0</td>\n",
       "      <td>9.0</td>\n",
       "      <td>4.0</td>\n",
       "      <td>25.0</td>\n",
       "      <td>17800.0</td>\n",
       "    </tr>\n",
       "    <tr>\n",
       "      <th>305</th>\n",
       "      <td>12700.0</td>\n",
       "      <td>32760.0</td>\n",
       "      <td>34.32</td>\n",
       "      <td>679.0</td>\n",
       "      <td>0.0</td>\n",
       "      <td>12700.00</td>\n",
       "      <td>458.68</td>\n",
       "      <td>640.0</td>\n",
       "      <td>19.0</td>\n",
       "      <td>1300.0</td>\n",
       "      <td>12822.0</td>\n",
       "      <td>129.0</td>\n",
       "      <td>1.0</td>\n",
       "      <td>1.0</td>\n",
       "      <td>0.0</td>\n",
       "      <td>2.0</td>\n",
       "      <td>1.0</td>\n",
       "      <td>11.0</td>\n",
       "      <td>33.3</td>\n",
       "      <td>22000.0</td>\n",
       "    </tr>\n",
       "    <tr>\n",
       "      <th>577</th>\n",
       "      <td>9600.0</td>\n",
       "      <td>110000.0</td>\n",
       "      <td>13.83</td>\n",
       "      <td>669.0</td>\n",
       "      <td>0.0</td>\n",
       "      <td>9600.00</td>\n",
       "      <td>5548.36</td>\n",
       "      <td>720.0</td>\n",
       "      <td>4.0</td>\n",
       "      <td>4003.0</td>\n",
       "      <td>2456.0</td>\n",
       "      <td>335.0</td>\n",
       "      <td>4.0</td>\n",
       "      <td>4.0</td>\n",
       "      <td>1.0</td>\n",
       "      <td>4.0</td>\n",
       "      <td>5.0</td>\n",
       "      <td>2.0</td>\n",
       "      <td>33.3</td>\n",
       "      <td>10000.0</td>\n",
       "    </tr>\n",
       "  </tbody>\n",
       "</table>\n",
       "</div>"
      ],
      "text/plain": [
       "     funded_amnt_inv  annual_inc    dti  fico_range_high  out_prncp_inv  \\\n",
       "967          12000.0     50000.0   7.54            774.0            0.0   \n",
       "993          14000.0    132700.0  25.38            664.0            0.0   \n",
       "78           20200.0     60000.0  34.84            724.0            0.0   \n",
       "305          12700.0     32760.0  34.32            679.0            0.0   \n",
       "577           9600.0    110000.0  13.83            669.0            0.0   \n",
       "\n",
       "     total_rec_prncp  last_pymnt_amnt  last_fico_range_low  \\\n",
       "967         12000.00           361.28                805.0   \n",
       "993         14000.00            93.38                705.0   \n",
       "78           4258.61           518.35                560.0   \n",
       "305         12700.00           458.68                640.0   \n",
       "577          9600.00          5548.36                720.0   \n",
       "\n",
       "     acc_open_past_24mths  avg_cur_bal  bc_open_to_buy  mo_sin_old_rev_tl_op  \\\n",
       "967                   2.0       1288.0         50612.0                 266.0   \n",
       "993                  10.0       9813.0            94.0                 124.0   \n",
       "78                    6.0       4322.0          9516.0                  74.0   \n",
       "305                  19.0       1300.0         12822.0                 129.0   \n",
       "577                   4.0       4003.0          2456.0                 335.0   \n",
       "\n",
       "     mo_sin_rcnt_rev_tl_op  mo_sin_rcnt_tl  mort_acc  mths_since_recent_bc  \\\n",
       "967                   24.0            24.0       0.0                  24.0   \n",
       "993                    5.0             1.0       5.0                  19.0   \n",
       "78                     7.0             7.0       0.0                  16.0   \n",
       "305                    1.0             1.0       0.0                   2.0   \n",
       "577                    4.0             4.0       1.0                   4.0   \n",
       "\n",
       "     mths_since_recent_inq  num_tl_op_past_12m  percent_bc_gt_75  \\\n",
       "967                    5.0                 0.0               0.0   \n",
       "993                    1.0                 3.0             100.0   \n",
       "78                     9.0                 4.0              25.0   \n",
       "305                    1.0                11.0              33.3   \n",
       "577                    5.0                 2.0              33.3   \n",
       "\n",
       "     total_bc_limit  \n",
       "967         61700.0  \n",
       "993          1300.0  \n",
       "78          17800.0  \n",
       "305         22000.0  \n",
       "577         10000.0  "
      ]
     },
     "metadata": {},
     "output_type": "display_data"
    },
    {
     "name": "stderr",
     "output_type": "stream",
     "text": [
      "INFO: Untouched columns preserved: ['target', 'id', 'date']\n"
     ]
    },
    {
     "name": "stdout",
     "output_type": "stream",
     "text": [
      "\n",
      "Exemplo de dados escalados (treino):\n"
     ]
    },
    {
     "data": {
      "text/html": [
       "<div>\n",
       "<style scoped>\n",
       "    .dataframe tbody tr th:only-of-type {\n",
       "        vertical-align: middle;\n",
       "    }\n",
       "\n",
       "    .dataframe tbody tr th {\n",
       "        vertical-align: top;\n",
       "    }\n",
       "\n",
       "    .dataframe thead th {\n",
       "        text-align: right;\n",
       "    }\n",
       "</style>\n",
       "<table border=\"1\" class=\"dataframe\">\n",
       "  <thead>\n",
       "    <tr style=\"text-align: right;\">\n",
       "      <th></th>\n",
       "      <th>funded_amnt_inv</th>\n",
       "      <th>annual_inc</th>\n",
       "      <th>dti</th>\n",
       "      <th>fico_range_high</th>\n",
       "      <th>out_prncp_inv</th>\n",
       "      <th>total_rec_prncp</th>\n",
       "      <th>last_pymnt_amnt</th>\n",
       "      <th>last_fico_range_low</th>\n",
       "      <th>acc_open_past_24mths</th>\n",
       "      <th>avg_cur_bal</th>\n",
       "      <th>bc_open_to_buy</th>\n",
       "      <th>mo_sin_old_rev_tl_op</th>\n",
       "      <th>mo_sin_rcnt_rev_tl_op</th>\n",
       "      <th>mo_sin_rcnt_tl</th>\n",
       "      <th>mort_acc</th>\n",
       "      <th>mths_since_recent_bc</th>\n",
       "      <th>mths_since_recent_inq</th>\n",
       "      <th>num_tl_op_past_12m</th>\n",
       "      <th>percent_bc_gt_75</th>\n",
       "      <th>total_bc_limit</th>\n",
       "    </tr>\n",
       "  </thead>\n",
       "  <tbody>\n",
       "    <tr>\n",
       "      <th>967</th>\n",
       "      <td>12000.0</td>\n",
       "      <td>-0.722739</td>\n",
       "      <td>7.54</td>\n",
       "      <td>774.0</td>\n",
       "      <td>0.0</td>\n",
       "      <td>0.087341</td>\n",
       "      <td>-0.741696</td>\n",
       "      <td>1.540560</td>\n",
       "      <td>-0.924677</td>\n",
       "      <td>-1.539897</td>\n",
       "      <td>1.758913</td>\n",
       "      <td>0.856017</td>\n",
       "      <td>1.148261</td>\n",
       "      <td>1.810554</td>\n",
       "      <td>-1.217353</td>\n",
       "      <td>0.613780</td>\n",
       "      <td>0.038210</td>\n",
       "      <td>-1.709949</td>\n",
       "      <td>-1.452773</td>\n",
       "      <td>1.464760</td>\n",
       "    </tr>\n",
       "    <tr>\n",
       "      <th>993</th>\n",
       "      <td>14000.0</td>\n",
       "      <td>1.309040</td>\n",
       "      <td>25.38</td>\n",
       "      <td>664.0</td>\n",
       "      <td>0.0</td>\n",
       "      <td>0.313503</td>\n",
       "      <td>-1.331462</td>\n",
       "      <td>0.247349</td>\n",
       "      <td>1.392940</td>\n",
       "      <td>0.001404</td>\n",
       "      <td>-1.757893</td>\n",
       "      <td>-0.693749</td>\n",
       "      <td>-0.284326</td>\n",
       "      <td>-1.317889</td>\n",
       "      <td>1.347085</td>\n",
       "      <td>0.401500</td>\n",
       "      <td>-1.146720</td>\n",
       "      <td>0.550157</td>\n",
       "      <td>1.243026</td>\n",
       "      <td>-1.852264</td>\n",
       "    </tr>\n",
       "    <tr>\n",
       "      <th>78</th>\n",
       "      <td>20200.0</td>\n",
       "      <td>-0.348660</td>\n",
       "      <td>34.84</td>\n",
       "      <td>724.0</td>\n",
       "      <td>0.0</td>\n",
       "      <td>-1.094868</td>\n",
       "      <td>-0.569343</td>\n",
       "      <td>-1.284193</td>\n",
       "      <td>0.473660</td>\n",
       "      <td>-0.682840</td>\n",
       "      <td>0.319734</td>\n",
       "      <td>-1.480388</td>\n",
       "      <td>0.008623</td>\n",
       "      <td>0.451281</td>\n",
       "      <td>-1.217353</td>\n",
       "      <td>0.246818</td>\n",
       "      <td>0.710408</td>\n",
       "      <td>0.953208</td>\n",
       "      <td>-0.091682</td>\n",
       "      <td>-0.064110</td>\n",
       "    </tr>\n",
       "    <tr>\n",
       "      <th>305</th>\n",
       "      <td>12700.0</td>\n",
       "      <td>-1.580790</td>\n",
       "      <td>34.32</td>\n",
       "      <td>679.0</td>\n",
       "      <td>0.0</td>\n",
       "      <td>0.168759</td>\n",
       "      <td>-0.628469</td>\n",
       "      <td>-0.488904</td>\n",
       "      <td>2.836107</td>\n",
       "      <td>-1.533954</td>\n",
       "      <td>0.539712</td>\n",
       "      <td>-0.644404</td>\n",
       "      <td>-1.422810</td>\n",
       "      <td>-1.317889</td>\n",
       "      <td>-1.217353</td>\n",
       "      <td>-1.408076</td>\n",
       "      <td>-1.146720</td>\n",
       "      <td>2.651423</td>\n",
       "      <td>0.125905</td>\n",
       "      <td>0.155909</td>\n",
       "    </tr>\n",
       "    <tr>\n",
       "      <th>577</th>\n",
       "      <td>9600.0</td>\n",
       "      <td>0.912908</td>\n",
       "      <td>13.83</td>\n",
       "      <td>669.0</td>\n",
       "      <td>0.0</td>\n",
       "      <td>-0.214245</td>\n",
       "      <td>0.739388</td>\n",
       "      <td>0.428860</td>\n",
       "      <td>-0.128114</td>\n",
       "      <td>-0.742277</td>\n",
       "      <td>-0.517849</td>\n",
       "      <td>1.305559</td>\n",
       "      <td>-0.471088</td>\n",
       "      <td>-0.133928</td>\n",
       "      <td>-0.154114</td>\n",
       "      <td>-0.919974</td>\n",
       "      <td>0.038210</td>\n",
       "      <td>0.047358</td>\n",
       "      <td>0.125905</td>\n",
       "      <td>-0.593499</td>\n",
       "    </tr>\n",
       "  </tbody>\n",
       "</table>\n",
       "</div>"
      ],
      "text/plain": [
       "     funded_amnt_inv  annual_inc    dti  fico_range_high  out_prncp_inv  \\\n",
       "967          12000.0   -0.722739   7.54            774.0            0.0   \n",
       "993          14000.0    1.309040  25.38            664.0            0.0   \n",
       "78           20200.0   -0.348660  34.84            724.0            0.0   \n",
       "305          12700.0   -1.580790  34.32            679.0            0.0   \n",
       "577           9600.0    0.912908  13.83            669.0            0.0   \n",
       "\n",
       "     total_rec_prncp  last_pymnt_amnt  last_fico_range_low  \\\n",
       "967         0.087341        -0.741696             1.540560   \n",
       "993         0.313503        -1.331462             0.247349   \n",
       "78         -1.094868        -0.569343            -1.284193   \n",
       "305         0.168759        -0.628469            -0.488904   \n",
       "577        -0.214245         0.739388             0.428860   \n",
       "\n",
       "     acc_open_past_24mths  avg_cur_bal  bc_open_to_buy  mo_sin_old_rev_tl_op  \\\n",
       "967             -0.924677    -1.539897        1.758913              0.856017   \n",
       "993              1.392940     0.001404       -1.757893             -0.693749   \n",
       "78               0.473660    -0.682840        0.319734             -1.480388   \n",
       "305              2.836107    -1.533954        0.539712             -0.644404   \n",
       "577             -0.128114    -0.742277       -0.517849              1.305559   \n",
       "\n",
       "     mo_sin_rcnt_rev_tl_op  mo_sin_rcnt_tl  mort_acc  mths_since_recent_bc  \\\n",
       "967               1.148261        1.810554 -1.217353              0.613780   \n",
       "993              -0.284326       -1.317889  1.347085              0.401500   \n",
       "78                0.008623        0.451281 -1.217353              0.246818   \n",
       "305              -1.422810       -1.317889 -1.217353             -1.408076   \n",
       "577              -0.471088       -0.133928 -0.154114             -0.919974   \n",
       "\n",
       "     mths_since_recent_inq  num_tl_op_past_12m  percent_bc_gt_75  \\\n",
       "967               0.038210           -1.709949         -1.452773   \n",
       "993              -1.146720            0.550157          1.243026   \n",
       "78                0.710408            0.953208         -0.091682   \n",
       "305              -1.146720            2.651423          0.125905   \n",
       "577               0.038210            0.047358          0.125905   \n",
       "\n",
       "     total_bc_limit  \n",
       "967        1.464760  \n",
       "993       -1.852264  \n",
       "78        -0.064110  \n",
       "305        0.155909  \n",
       "577       -0.593499  "
      ]
     },
     "metadata": {},
     "output_type": "display_data"
    }
   ],
   "source": [
    "display(X_train.head())\n",
    "\n",
    "# 5. Transformar o conjunto de treino\n",
    "df_train_scaled = scaler.transform(df_train, return_df=True)\n",
    "X_train_scaled = scaler.transform(X_train, return_df=True)\n",
    "\n",
    "print(\"\\nExemplo de dados escalados (treino):\")\n",
    "display(X_train_scaled.head())"
   ]
  },
  {
   "cell_type": "code",
   "execution_count": 25,
   "id": "4bacd8fa",
   "metadata": {},
   "outputs": [
    {
     "data": {
      "text/html": [
       "<div>\n",
       "<style scoped>\n",
       "    .dataframe tbody tr th:only-of-type {\n",
       "        vertical-align: middle;\n",
       "    }\n",
       "\n",
       "    .dataframe tbody tr th {\n",
       "        vertical-align: top;\n",
       "    }\n",
       "\n",
       "    .dataframe thead th {\n",
       "        text-align: right;\n",
       "    }\n",
       "</style>\n",
       "<table border=\"1\" class=\"dataframe\">\n",
       "  <thead>\n",
       "    <tr style=\"text-align: right;\">\n",
       "      <th></th>\n",
       "      <th>funded_amnt_inv</th>\n",
       "      <th>annual_inc</th>\n",
       "      <th>dti</th>\n",
       "      <th>fico_range_high</th>\n",
       "      <th>out_prncp_inv</th>\n",
       "      <th>total_rec_prncp</th>\n",
       "      <th>last_pymnt_amnt</th>\n",
       "      <th>last_fico_range_low</th>\n",
       "      <th>acc_open_past_24mths</th>\n",
       "      <th>avg_cur_bal</th>\n",
       "      <th>bc_open_to_buy</th>\n",
       "      <th>mo_sin_old_rev_tl_op</th>\n",
       "      <th>mo_sin_rcnt_rev_tl_op</th>\n",
       "      <th>mo_sin_rcnt_tl</th>\n",
       "      <th>mort_acc</th>\n",
       "      <th>mths_since_recent_bc</th>\n",
       "      <th>mths_since_recent_inq</th>\n",
       "      <th>num_tl_op_past_12m</th>\n",
       "      <th>percent_bc_gt_75</th>\n",
       "      <th>total_bc_limit</th>\n",
       "    </tr>\n",
       "  </thead>\n",
       "  <tbody>\n",
       "    <tr>\n",
       "      <th>14</th>\n",
       "      <td>28000.0</td>\n",
       "      <td>92000.0</td>\n",
       "      <td>21.60</td>\n",
       "      <td>724.0</td>\n",
       "      <td>0.0</td>\n",
       "      <td>28000.0</td>\n",
       "      <td>17093.51</td>\n",
       "      <td>760.0</td>\n",
       "      <td>1.0</td>\n",
       "      <td>13819.0</td>\n",
       "      <td>16623.0</td>\n",
       "      <td>379.0</td>\n",
       "      <td>19.0</td>\n",
       "      <td>19.0</td>\n",
       "      <td>2.0</td>\n",
       "      <td>19.0</td>\n",
       "      <td>5.0</td>\n",
       "      <td>0.0</td>\n",
       "      <td>22.2</td>\n",
       "      <td>41500.0</td>\n",
       "    </tr>\n",
       "    <tr>\n",
       "      <th>272</th>\n",
       "      <td>7200.0</td>\n",
       "      <td>60000.0</td>\n",
       "      <td>20.68</td>\n",
       "      <td>729.0</td>\n",
       "      <td>0.0</td>\n",
       "      <td>7200.0</td>\n",
       "      <td>3196.17</td>\n",
       "      <td>725.0</td>\n",
       "      <td>4.0</td>\n",
       "      <td>13026.0</td>\n",
       "      <td>2273.0</td>\n",
       "      <td>159.0</td>\n",
       "      <td>16.0</td>\n",
       "      <td>8.0</td>\n",
       "      <td>1.0</td>\n",
       "      <td>55.0</td>\n",
       "      <td>8.0</td>\n",
       "      <td>1.0</td>\n",
       "      <td>0.0</td>\n",
       "      <td>7000.0</td>\n",
       "    </tr>\n",
       "    <tr>\n",
       "      <th>928</th>\n",
       "      <td>28000.0</td>\n",
       "      <td>82000.0</td>\n",
       "      <td>12.67</td>\n",
       "      <td>704.0</td>\n",
       "      <td>0.0</td>\n",
       "      <td>28000.0</td>\n",
       "      <td>857.84</td>\n",
       "      <td>800.0</td>\n",
       "      <td>6.0</td>\n",
       "      <td>25361.0</td>\n",
       "      <td>6508.0</td>\n",
       "      <td>187.0</td>\n",
       "      <td>9.0</td>\n",
       "      <td>9.0</td>\n",
       "      <td>5.0</td>\n",
       "      <td>9.0</td>\n",
       "      <td>8.0</td>\n",
       "      <td>2.0</td>\n",
       "      <td>66.7</td>\n",
       "      <td>39050.0</td>\n",
       "    </tr>\n",
       "    <tr>\n",
       "      <th>723</th>\n",
       "      <td>10000.0</td>\n",
       "      <td>100000.0</td>\n",
       "      <td>16.18</td>\n",
       "      <td>679.0</td>\n",
       "      <td>0.0</td>\n",
       "      <td>10000.0</td>\n",
       "      <td>9437.82</td>\n",
       "      <td>555.0</td>\n",
       "      <td>9.0</td>\n",
       "      <td>3273.0</td>\n",
       "      <td>5982.0</td>\n",
       "      <td>349.0</td>\n",
       "      <td>14.0</td>\n",
       "      <td>2.0</td>\n",
       "      <td>0.0</td>\n",
       "      <td>14.0</td>\n",
       "      <td>14.0</td>\n",
       "      <td>3.0</td>\n",
       "      <td>80.0</td>\n",
       "      <td>15100.0</td>\n",
       "    </tr>\n",
       "    <tr>\n",
       "      <th>244</th>\n",
       "      <td>13875.0</td>\n",
       "      <td>32500.0</td>\n",
       "      <td>23.53</td>\n",
       "      <td>714.0</td>\n",
       "      <td>0.0</td>\n",
       "      <td>13875.0</td>\n",
       "      <td>11101.71</td>\n",
       "      <td>705.0</td>\n",
       "      <td>3.0</td>\n",
       "      <td>17421.0</td>\n",
       "      <td>2076.0</td>\n",
       "      <td>177.0</td>\n",
       "      <td>1.0</td>\n",
       "      <td>1.0</td>\n",
       "      <td>1.0</td>\n",
       "      <td>15.0</td>\n",
       "      <td>15.0</td>\n",
       "      <td>1.0</td>\n",
       "      <td>75.0</td>\n",
       "      <td>12500.0</td>\n",
       "    </tr>\n",
       "  </tbody>\n",
       "</table>\n",
       "</div>"
      ],
      "text/plain": [
       "     funded_amnt_inv  annual_inc    dti  fico_range_high  out_prncp_inv  \\\n",
       "14           28000.0     92000.0  21.60            724.0            0.0   \n",
       "272           7200.0     60000.0  20.68            729.0            0.0   \n",
       "928          28000.0     82000.0  12.67            704.0            0.0   \n",
       "723          10000.0    100000.0  16.18            679.0            0.0   \n",
       "244          13875.0     32500.0  23.53            714.0            0.0   \n",
       "\n",
       "     total_rec_prncp  last_pymnt_amnt  last_fico_range_low  \\\n",
       "14           28000.0         17093.51                760.0   \n",
       "272           7200.0          3196.17                725.0   \n",
       "928          28000.0           857.84                800.0   \n",
       "723          10000.0          9437.82                555.0   \n",
       "244          13875.0         11101.71                705.0   \n",
       "\n",
       "     acc_open_past_24mths  avg_cur_bal  bc_open_to_buy  mo_sin_old_rev_tl_op  \\\n",
       "14                    1.0      13819.0         16623.0                 379.0   \n",
       "272                   4.0      13026.0          2273.0                 159.0   \n",
       "928                   6.0      25361.0          6508.0                 187.0   \n",
       "723                   9.0       3273.0          5982.0                 349.0   \n",
       "244                   3.0      17421.0          2076.0                 177.0   \n",
       "\n",
       "     mo_sin_rcnt_rev_tl_op  mo_sin_rcnt_tl  mort_acc  mths_since_recent_bc  \\\n",
       "14                    19.0            19.0       2.0                  19.0   \n",
       "272                   16.0             8.0       1.0                  55.0   \n",
       "928                    9.0             9.0       5.0                   9.0   \n",
       "723                   14.0             2.0       0.0                  14.0   \n",
       "244                    1.0             1.0       1.0                  15.0   \n",
       "\n",
       "     mths_since_recent_inq  num_tl_op_past_12m  percent_bc_gt_75  \\\n",
       "14                     5.0                 0.0              22.2   \n",
       "272                    8.0                 1.0               0.0   \n",
       "928                    8.0                 2.0              66.7   \n",
       "723                   14.0                 3.0              80.0   \n",
       "244                   15.0                 1.0              75.0   \n",
       "\n",
       "     total_bc_limit  \n",
       "14          41500.0  \n",
       "272          7000.0  \n",
       "928         39050.0  \n",
       "723         15100.0  \n",
       "244         12500.0  "
      ]
     },
     "metadata": {},
     "output_type": "display_data"
    },
    {
     "name": "stderr",
     "output_type": "stream",
     "text": [
      "INFO: Untouched columns preserved: ['target', 'id', 'date']\n"
     ]
    },
    {
     "name": "stdout",
     "output_type": "stream",
     "text": [
      "\n",
      "Exemplo de dados escalados (treino):\n"
     ]
    },
    {
     "data": {
      "text/html": [
       "<div>\n",
       "<style scoped>\n",
       "    .dataframe tbody tr th:only-of-type {\n",
       "        vertical-align: middle;\n",
       "    }\n",
       "\n",
       "    .dataframe tbody tr th {\n",
       "        vertical-align: top;\n",
       "    }\n",
       "\n",
       "    .dataframe thead th {\n",
       "        text-align: right;\n",
       "    }\n",
       "</style>\n",
       "<table border=\"1\" class=\"dataframe\">\n",
       "  <thead>\n",
       "    <tr style=\"text-align: right;\">\n",
       "      <th></th>\n",
       "      <th>funded_amnt_inv</th>\n",
       "      <th>annual_inc</th>\n",
       "      <th>dti</th>\n",
       "      <th>fico_range_high</th>\n",
       "      <th>out_prncp_inv</th>\n",
       "      <th>total_rec_prncp</th>\n",
       "      <th>last_pymnt_amnt</th>\n",
       "      <th>last_fico_range_low</th>\n",
       "      <th>acc_open_past_24mths</th>\n",
       "      <th>avg_cur_bal</th>\n",
       "      <th>bc_open_to_buy</th>\n",
       "      <th>mo_sin_old_rev_tl_op</th>\n",
       "      <th>mo_sin_rcnt_rev_tl_op</th>\n",
       "      <th>mo_sin_rcnt_tl</th>\n",
       "      <th>mort_acc</th>\n",
       "      <th>mths_since_recent_bc</th>\n",
       "      <th>mths_since_recent_inq</th>\n",
       "      <th>num_tl_op_past_12m</th>\n",
       "      <th>percent_bc_gt_75</th>\n",
       "      <th>total_bc_limit</th>\n",
       "    </tr>\n",
       "  </thead>\n",
       "  <tbody>\n",
       "    <tr>\n",
       "      <th>14</th>\n",
       "      <td>28000.0</td>\n",
       "      <td>0.538105</td>\n",
       "      <td>21.60</td>\n",
       "      <td>724.0</td>\n",
       "      <td>0.0</td>\n",
       "      <td>1.541292</td>\n",
       "      <td>1.482690</td>\n",
       "      <td>0.934344</td>\n",
       "      <td>-1.469213</td>\n",
       "      <td>0.315198</td>\n",
       "      <td>0.743219</td>\n",
       "      <td>1.725673</td>\n",
       "      <td>0.927649</td>\n",
       "      <td>1.550825</td>\n",
       "      <td>0.424968</td>\n",
       "      <td>0.401500</td>\n",
       "      <td>0.038210</td>\n",
       "      <td>-1.709949</td>\n",
       "      <td>-0.174479</td>\n",
       "      <td>0.910440</td>\n",
       "    </tr>\n",
       "    <tr>\n",
       "      <th>272</th>\n",
       "      <td>7200.0</td>\n",
       "      <td>-0.348660</td>\n",
       "      <td>20.68</td>\n",
       "      <td>729.0</td>\n",
       "      <td>0.0</td>\n",
       "      <td>-0.562154</td>\n",
       "      <td>0.405497</td>\n",
       "      <td>0.490336</td>\n",
       "      <td>-0.128114</td>\n",
       "      <td>0.259773</td>\n",
       "      <td>-0.558673</td>\n",
       "      <td>-0.213179</td>\n",
       "      <td>0.766190</td>\n",
       "      <td>0.595649</td>\n",
       "      <td>-0.154114</td>\n",
       "      <td>1.379999</td>\n",
       "      <td>0.564644</td>\n",
       "      <td>-0.630364</td>\n",
       "      <td>-1.452773</td>\n",
       "      <td>-0.875845</td>\n",
       "    </tr>\n",
       "    <tr>\n",
       "      <th>928</th>\n",
       "      <td>28000.0</td>\n",
       "      <td>0.298032</td>\n",
       "      <td>12.67</td>\n",
       "      <td>704.0</td>\n",
       "      <td>0.0</td>\n",
       "      <td>1.541292</td>\n",
       "      <td>-0.317624</td>\n",
       "      <td>1.471230</td>\n",
       "      <td>0.473660</td>\n",
       "      <td>0.916579</td>\n",
       "      <td>0.059355</td>\n",
       "      <td>0.142125</td>\n",
       "      <td>0.234392</td>\n",
       "      <td>0.724024</td>\n",
       "      <td>1.347085</td>\n",
       "      <td>-0.258661</td>\n",
       "      <td>0.564644</td>\n",
       "      <td>0.047358</td>\n",
       "      <td>0.772776</td>\n",
       "      <td>0.831365</td>\n",
       "    </tr>\n",
       "    <tr>\n",
       "      <th>723</th>\n",
       "      <td>10000.0</td>\n",
       "      <td>0.712695</td>\n",
       "      <td>16.18</td>\n",
       "      <td>679.0</td>\n",
       "      <td>0.0</td>\n",
       "      <td>-0.161243</td>\n",
       "      <td>1.079532</td>\n",
       "      <td>-1.329884</td>\n",
       "      <td>1.187695</td>\n",
       "      <td>-0.894863</td>\n",
       "      <td>0.004459</td>\n",
       "      <td>1.454085</td>\n",
       "      <td>0.641392</td>\n",
       "      <td>-0.786831</td>\n",
       "      <td>-1.217353</td>\n",
       "      <td>0.127648</td>\n",
       "      <td>1.308619</td>\n",
       "      <td>0.550157</td>\n",
       "      <td>0.974452</td>\n",
       "      <td>-0.225093</td>\n",
       "    </tr>\n",
       "    <tr>\n",
       "      <th>244</th>\n",
       "      <td>13875.0</td>\n",
       "      <td>-1.596835</td>\n",
       "      <td>23.53</td>\n",
       "      <td>714.0</td>\n",
       "      <td>0.0</td>\n",
       "      <td>0.299924</td>\n",
       "      <td>1.187291</td>\n",
       "      <td>0.247349</td>\n",
       "      <td>-0.492397</td>\n",
       "      <td>0.537646</td>\n",
       "      <td>-0.605602</td>\n",
       "      <td>0.008965</td>\n",
       "      <td>-1.422810</td>\n",
       "      <td>-1.317889</td>\n",
       "      <td>-0.154114</td>\n",
       "      <td>0.189101</td>\n",
       "      <td>1.409561</td>\n",
       "      <td>-0.630364</td>\n",
       "      <td>0.901166</td>\n",
       "      <td>-0.399981</td>\n",
       "    </tr>\n",
       "  </tbody>\n",
       "</table>\n",
       "</div>"
      ],
      "text/plain": [
       "     funded_amnt_inv  annual_inc    dti  fico_range_high  out_prncp_inv  \\\n",
       "14           28000.0    0.538105  21.60            724.0            0.0   \n",
       "272           7200.0   -0.348660  20.68            729.0            0.0   \n",
       "928          28000.0    0.298032  12.67            704.0            0.0   \n",
       "723          10000.0    0.712695  16.18            679.0            0.0   \n",
       "244          13875.0   -1.596835  23.53            714.0            0.0   \n",
       "\n",
       "     total_rec_prncp  last_pymnt_amnt  last_fico_range_low  \\\n",
       "14          1.541292         1.482690             0.934344   \n",
       "272        -0.562154         0.405497             0.490336   \n",
       "928         1.541292        -0.317624             1.471230   \n",
       "723        -0.161243         1.079532            -1.329884   \n",
       "244         0.299924         1.187291             0.247349   \n",
       "\n",
       "     acc_open_past_24mths  avg_cur_bal  bc_open_to_buy  mo_sin_old_rev_tl_op  \\\n",
       "14              -1.469213     0.315198        0.743219              1.725673   \n",
       "272             -0.128114     0.259773       -0.558673             -0.213179   \n",
       "928              0.473660     0.916579        0.059355              0.142125   \n",
       "723              1.187695    -0.894863        0.004459              1.454085   \n",
       "244             -0.492397     0.537646       -0.605602              0.008965   \n",
       "\n",
       "     mo_sin_rcnt_rev_tl_op  mo_sin_rcnt_tl  mort_acc  mths_since_recent_bc  \\\n",
       "14                0.927649        1.550825  0.424968              0.401500   \n",
       "272               0.766190        0.595649 -0.154114              1.379999   \n",
       "928               0.234392        0.724024  1.347085             -0.258661   \n",
       "723               0.641392       -0.786831 -1.217353              0.127648   \n",
       "244              -1.422810       -1.317889 -0.154114              0.189101   \n",
       "\n",
       "     mths_since_recent_inq  num_tl_op_past_12m  percent_bc_gt_75  \\\n",
       "14                0.038210           -1.709949         -0.174479   \n",
       "272               0.564644           -0.630364         -1.452773   \n",
       "928               0.564644            0.047358          0.772776   \n",
       "723               1.308619            0.550157          0.974452   \n",
       "244               1.409561           -0.630364          0.901166   \n",
       "\n",
       "     total_bc_limit  \n",
       "14         0.910440  \n",
       "272       -0.875845  \n",
       "928        0.831365  \n",
       "723       -0.225093  \n",
       "244       -0.399981  "
      ]
     },
     "metadata": {},
     "output_type": "display_data"
    }
   ],
   "source": [
    "display(X_test.head())\n",
    "\n",
    "# 5. Transformar o conjunto de treino\n",
    "df_test_scaled = scaler.transform(df_test, return_df=True)\n",
    "X_test_scaled = scaler.transform(X_test, return_df=True)\n",
    "\n",
    "print(\"\\nExemplo de dados escalados (treino):\")\n",
    "display(X_test_scaled.head())"
   ]
  },
  {
   "cell_type": "code",
   "execution_count": 26,
   "id": "2472fa54",
   "metadata": {},
   "outputs": [
    {
     "name": "stderr",
     "output_type": "stream",
     "text": [
      "INFO: Plotando histograma de funded_amnt_inv — scaler = Nenhum\n"
     ]
    },
    {
     "data": {
      "image/png": "[encoded data removed]",
      "text/plain": [
       "<Figure size 1200x400 with 2 Axes>"
      ]
     },
     "metadata": {},
     "output_type": "display_data"
    },
    {
     "name": "stderr",
     "output_type": "stream",
     "text": [
      "INFO: Plotando histograma de annual_inc — scaler = PowerTransformer\n"
     ]
    },
    {
     "data": {
      "image/png": "[encoded data removed]",
      "text/plain": [
       "<Figure size 1200x400 with 2 Axes>"
      ]
     },
     "metadata": {},
     "output_type": "display_data"
    },
    {
     "name": "stderr",
     "output_type": "stream",
     "text": [
      "INFO: Plotando histograma de dti — scaler = Nenhum\n"
     ]
    },
    {
     "data": {
      "image/png": "[encoded data removed]",
      "text/plain": [
       "<Figure size 1200x400 with 2 Axes>"
      ]
     },
     "metadata": {},
     "output_type": "display_data"
    },
    {
     "name": "stderr",
     "output_type": "stream",
     "text": [
      "INFO: Plotando histograma de fico_range_high — scaler = Nenhum\n"
     ]
    },
    {
     "data": {
      "image/png": "[encoded data removed]",
      "text/plain": [
       "<Figure size 1200x400 with 2 Axes>"
      ]
     },
     "metadata": {},
     "output_type": "display_data"
    },
    {
     "name": "stderr",
     "output_type": "stream",
     "text": [
      "INFO: Plotando histograma de out_prncp_inv — scaler = Nenhum\n"
     ]
    },
    {
     "data": {
      "image/png": "[encoded data removed]",
      "text/plain": [
       "<Figure size 1200x400 with 2 Axes>"
      ]
     },
     "metadata": {},
     "output_type": "display_data"
    },
    {
     "name": "stderr",
     "output_type": "stream",
     "text": [
      "INFO: Plotando histograma de total_rec_prncp — scaler = PowerTransformer\n"
     ]
    },
    {
     "data": {
      "image/png": "[encoded data removed]",
      "text/plain": [
       "<Figure size 1200x400 with 2 Axes>"
      ]
     },
     "metadata": {},
     "output_type": "display_data"
    },
    {
     "name": "stderr",
     "output_type": "stream",
     "text": [
      "INFO: Plotando histograma de last_pymnt_amnt — scaler = PowerTransformer\n"
     ]
    },
    {
     "data": {
      "image/png": "[encoded data removed]",
      "text/plain": [
       "<Figure size 1200x400 with 2 Axes>"
      ]
     },
     "metadata": {},
     "output_type": "display_data"
    },
    {
     "name": "stderr",
     "output_type": "stream",
     "text": [
      "INFO: Plotando histograma de last_fico_range_low — scaler = PowerTransformer\n"
     ]
    },
    {
     "data": {
      "image/png": "[encoded data removed]",
      "text/plain": [
       "<Figure size 1200x400 with 2 Axes>"
      ]
     },
     "metadata": {},
     "output_type": "display_data"
    },
    {
     "name": "stderr",
     "output_type": "stream",
     "text": [
      "INFO: Plotando histograma de acc_open_past_24mths — scaler = PowerTransformer\n"
     ]
    },
    {
     "data": {
      "image/png": "[encoded data removed]",
      "text/plain": [
       "<Figure size 1200x400 with 2 Axes>"
      ]
     },
     "metadata": {},
     "output_type": "display_data"
    },
    {
     "name": "stderr",
     "output_type": "stream",
     "text": [
      "INFO: Plotando histograma de avg_cur_bal — scaler = PowerTransformer\n"
     ]
    },
    {
     "data": {
      "image/png": "[encoded data removed]",
      "text/plain": [
       "<Figure size 1200x400 with 2 Axes>"
      ]
     },
     "metadata": {},
     "output_type": "display_data"
    },
    {
     "name": "stderr",
     "output_type": "stream",
     "text": [
      "INFO: Plotando histograma de bc_open_to_buy — scaler = PowerTransformer\n"
     ]
    },
    {
     "data": {
      "image/png": "[encoded data removed]",
      "text/plain": [
       "<Figure size 1200x400 with 2 Axes>"
      ]
     },
     "metadata": {},
     "output_type": "display_data"
    },
    {
     "name": "stderr",
     "output_type": "stream",
     "text": [
      "INFO: Plotando histograma de mo_sin_old_rev_tl_op — scaler = QuantileTransformer\n"
     ]
    },
    {
     "data": {
      "image/png": "[encoded data removed]",
      "text/plain": [
       "<Figure size 1200x400 with 2 Axes>"
      ]
     },
     "metadata": {},
     "output_type": "display_data"
    },
    {
     "name": "stderr",
     "output_type": "stream",
     "text": [
      "INFO: Plotando histograma de mo_sin_rcnt_rev_tl_op — scaler = PowerTransformer\n"
     ]
    },
    {
     "data": {
      "image/png": "[encoded data removed]",
      "text/plain": [
       "<Figure size 1200x400 with 2 Axes>"
      ]
     },
     "metadata": {},
     "output_type": "display_data"
    },
    {
     "name": "stderr",
     "output_type": "stream",
     "text": [
      "INFO: Plotando histograma de mo_sin_rcnt_tl — scaler = PowerTransformer\n"
     ]
    },
    {
     "data": {
      "image/png": "[encoded data removed]",
      "text/plain": [
       "<Figure size 1200x400 with 2 Axes>"
      ]
     },
     "metadata": {},
     "output_type": "display_data"
    },
    {
     "name": "stderr",
     "output_type": "stream",
     "text": [
      "INFO: Plotando histograma de mort_acc — scaler = PowerTransformer\n"
     ]
    },
    {
     "data": {
      "image/png": "[encoded data removed]",
      "text/plain": [
       "<Figure size 1200x400 with 2 Axes>"
      ]
     },
     "metadata": {},
     "output_type": "display_data"
    },
    {
     "name": "stderr",
     "output_type": "stream",
     "text": [
      "INFO: Plotando histograma de mths_since_recent_bc — scaler = PowerTransformer\n"
     ]
    },
    {
     "data": {
      "image/png": "[encoded data removed]",
      "text/plain": [
       "<Figure size 1200x400 with 2 Axes>"
      ]
     },
     "metadata": {},
     "output_type": "display_data"
    },
    {
     "name": "stderr",
     "output_type": "stream",
     "text": [
      "INFO: Plotando histograma de mths_since_recent_inq — scaler = PowerTransformer\n"
     ]
    },
    {
     "data": {
      "image/png": "[encoded data removed]",
      "text/plain": [
       "<Figure size 1200x400 with 2 Axes>"
      ]
     },
     "metadata": {},
     "output_type": "display_data"
    },
    {
     "name": "stderr",
     "output_type": "stream",
     "text": [
      "INFO: Plotando histograma de num_tl_op_past_12m — scaler = PowerTransformer\n"
     ]
    },
    {
     "data": {
      "image/png": "[encoded data removed]",
      "text/plain": [
       "<Figure size 1200x400 with 2 Axes>"
      ]
     },
     "metadata": {},
     "output_type": "display_data"
    },
    {
     "name": "stderr",
     "output_type": "stream",
     "text": [
      "INFO: Plotando histograma de percent_bc_gt_75 — scaler = PowerTransformer\n"
     ]
    },
    {
     "data": {
      "image/png": "[encoded data removed]",
      "text/plain": [
       "<Figure size 1200x400 with 2 Axes>"
      ]
     },
     "metadata": {},
     "output_type": "display_data"
    },
    {
     "name": "stderr",
     "output_type": "stream",
     "text": [
      "INFO: Plotando histograma de total_bc_limit — scaler = PowerTransformer\n"
     ]
    },
    {
     "data": {
      "image/png": "[encoded data removed]",
      "text/plain": [
       "<Figure size 1200x400 with 2 Axes>"
      ]
     },
     "metadata": {},
     "output_type": "display_data"
    }
   ],
   "source": [
    "# Visualizar\n",
    "scaler.plot_histograms(\n",
    "    df_train,\n",
    "    X_train_scaled,\n",
    "    features=num_cols)"
   ]
  },
  {
   "cell_type": "code",
   "execution_count": 9,
   "id": "5e4b67fa",
   "metadata": {},
   "outputs": [],
   "source": [
    "# encoder = WOEGuard(\n",
    "#     categorical_cols=categorical_cols,\n",
    "#     drop_original=True,       # mantém ou remove colunas originais\n",
    "#     suffix='_woe',            # sufixo para as novas colunas\n",
    "#     alpha=0.5,                # suavização Laplace\n",
    "#     default_woe=0.0,          # WoE default para categorias novas\n",
    "#     include_nan=True          # trata NaN como categoria separada\n",
    "# )"
   ]
  },
  {
   "cell_type": "code",
   "execution_count": 10,
   "id": "115645bf",
   "metadata": {},
   "outputs": [],
   "source": [
    "# # 2. Ajustar e transformar\n",
    "# df_transformed = encoder.fit_transform(\n",
    "#     X=df[categorical_cols], # a lista de colunas não precisa ser igual à categorical_cols, mas somente as que forem instanciadas no WOEGuard que serão codificadas.\n",
    "#     y=df[TARGET]\n",
    "# )\n",
    "# display(df_transformed)"
   ]
  },
  {
   "cell_type": "code",
   "execution_count": 64,
   "id": "0e73d52a",
   "metadata": {},
   "outputs": [],
   "source": [
    "sample_weights_train = compute_sample_weight(class_weight='balanced', y=y_train)\n",
    "\n",
    "# # Modelo 1: Regressão Logística\n",
    "# model1 = LogisticRegression(\n",
    "#     max_iter=2000,\n",
    "#     solver='lbfgs',\n",
    "#     class_weight=None,      # Removido porque vamos usar sample_weight manualmente\n",
    "#     C=1.0\n",
    "# )\n",
    "# model1.fit(X_train, y_train, sample_weight=sample_weights_train)\n",
    "\n",
    "\n",
    "# Modelo 2: XGBoost\n",
    "\n",
    "\n",
    "model2 = XGBClassifier(\n",
    "    n_estimators=150,\n",
    "    #class_weights='balanced',\n",
    "    learning_rate=0.05,\n",
    "    max_depth=5,\n",
    "    subsample=0.85,\n",
    "    colsample_bytree=0.80,\n",
    "    #scale_pos_weight=1.0,\n",
    "    eval_metric='logloss',\n",
    "    random_state=42,\n",
    "    n_jobs=-1,\n",
    "    #enable_categorical=True,\n",
    "    #tree_method='hist'  # necessário com enable_categorical=True\n",
    ")\n",
    "model2.fit(\n",
    "    X_train_scaled,\n",
    "    y_train,\n",
    "    sample_weight=sample_weights_train\n",
    "    );"
   ]
  },
  {
   "cell_type": "code",
   "execution_count": null,
   "id": "ed77aa39",
   "metadata": {},
   "outputs": [],
   "source": [
    "# gambiarra rapida\n",
    "#df_train = pd.concat([X_train_scaled, y_train], axis=1)\n",
    "#df_test = pd.concat([X_test_scaled, y_train], axis=1)"
   ]
  },
  {
   "cell_type": "code",
   "execution_count": 65,
   "metadata": {},
   "outputs": [],
   "source": [
    "evaluator = BinaryPerformanceEvaluator(\n",
    "    model=model2,\n",
    "    df_train=df_train,\n",
    "    df_test=df_test,\n",
    "    target_col='target',\n",
    "    id_cols=['id'],\n",
    "    date_col='date',\n",
    "    homogeneous_group='auto'\n",
    "    #group_col='group'\n",
    ")"
   ]
  },
  {
   "cell_type": "code",
   "execution_count": 66,
   "metadata": {},
   "outputs": [
    {
     "data": {
      "text/html": [
       "<div>\n",
       "<style scoped>\n",
       "    .dataframe tbody tr th:only-of-type {\n",
       "        vertical-align: middle;\n",
       "    }\n",
       "\n",
       "    .dataframe tbody tr th {\n",
       "        vertical-align: top;\n",
       "    }\n",
       "\n",
       "    .dataframe thead th {\n",
       "        text-align: right;\n",
       "    }\n",
       "</style>\n",
       "<table border=\"1\" class=\"dataframe\">\n",
       "  <thead>\n",
       "    <tr style=\"text-align: right;\">\n",
       "      <th></th>\n",
       "      <th>MCC</th>\n",
       "      <th>AUC_ROC</th>\n",
       "      <th>AUC_PR</th>\n",
       "      <th>Precision</th>\n",
       "      <th>Recall</th>\n",
       "      <th>Brier</th>\n",
       "    </tr>\n",
       "    <tr>\n",
       "      <th>Split</th>\n",
       "      <th></th>\n",
       "      <th></th>\n",
       "      <th></th>\n",
       "      <th></th>\n",
       "      <th></th>\n",
       "      <th></th>\n",
       "    </tr>\n",
       "  </thead>\n",
       "  <tbody>\n",
       "    <tr>\n",
       "      <th>Train</th>\n",
       "      <td>0.0</td>\n",
       "      <td>0.596519</td>\n",
       "      <td>0.193577</td>\n",
       "      <td>0.15</td>\n",
       "      <td>1.0</td>\n",
       "      <td>0.841397</td>\n",
       "    </tr>\n",
       "    <tr>\n",
       "      <th>Test</th>\n",
       "      <td>0.0</td>\n",
       "      <td>0.601830</td>\n",
       "      <td>0.206996</td>\n",
       "      <td>0.15</td>\n",
       "      <td>1.0</td>\n",
       "      <td>0.841403</td>\n",
       "    </tr>\n",
       "  </tbody>\n",
       "</table>\n",
       "</div>"
      ],
      "text/plain": [
       "       MCC   AUC_ROC    AUC_PR  Precision  Recall     Brier\n",
       "Split                                                      \n",
       "Train  0.0  0.596519  0.193577       0.15     1.0  0.841397\n",
       "Test   0.0  0.601830  0.206996       0.15     1.0  0.841403"
      ]
     },
     "execution_count": 66,
     "metadata": {},
     "output_type": "execute_result"
    }
   ],
   "source": [
    "metrics = evaluator.compute_metrics()\n",
    "metrics"
   ]
  },
  {
   "cell_type": "code",
   "execution_count": 67,
   "metadata": {},
   "outputs": [
    {
     "data": {
      "application/vnd.plotly.v1+json": {
       "config": {
        "plotlyServerURL": "https://plot.ly"
       },
       "data": [
        {
         "colorscale": [
          [
           0,
           "rgb(247,251,255)"
          ],
          [
           0.125,
           "rgb(222,235,247)"
          ],
          [
           0.25,
           "rgb(198,219,239)"
          ],
          [
           0.375,
           "rgb(158,202,225)"
          ],
          [
           0.5,
           "rgb(107,174,214)"
          ],
          [
           0.625,
           "rgb(66,146,198)"
          ],
          [
           0.75,
           "rgb(33,113,181)"
          ],
          [
           0.875,
           "rgb(8,81,156)"
          ],
          [
           1,
           "rgb(8,48,107)"
          ]
         ],
         "showscale": false,
         "type": "heatmap",
         "x": [
          "Pred 0",
          "Pred 1"
         ],
         "y": [
          "True 0",
          "True 1"
         ],
         "z": {
          "bdata": "TQCyAAQAKQA=",
          "dtype": "i2",
          "shape": "2, 2"
         }
        }
       ],
       "layout": {
        "annotations": [
         {
          "font": {
           "color": "black"
          },
          "showarrow": false,
          "text": "77\n(25.7%)",
          "x": 0,
          "y": 0
         },
         {
          "font": {
           "color": "white"
          },
          "showarrow": false,
          "text": "178\n(59.3%)",
          "x": 1,
          "y": 0
         },
         {
          "font": {
           "color": "black"
          },
          "showarrow": false,
          "text": "4\n(1.3%)",
          "x": 0,
          "y": 1
         },
         {
          "font": {
           "color": "black"
          },
          "showarrow": false,
          "text": "41\n(13.7%)",
          "x": 1,
          "y": 1
         }
        ],
        "template": {
         "data": {
          "bar": [
           {
            "error_x": {
             "color": "#2a3f5f"
            },
            "error_y": {
             "color": "#2a3f5f"
            },
            "marker": {
             "line": {
              "color": "white",
              "width": 0.5
             },
             "pattern": {
              "fillmode": "overlay",
              "size": 10,
              "solidity": 0.2
             }
            },
            "type": "bar"
           }
          ],
          "barpolar": [
           {
            "marker": {
             "line": {
              "color": "white",
              "width": 0.5
             },
             "pattern": {
              "fillmode": "overlay",
              "size": 10,
              "solidity": 0.2
             }
            },
            "type": "barpolar"
           }
          ],
          "carpet": [
           {
            "aaxis": {
             "endlinecolor": "#2a3f5f",
             "gridcolor": "#C8D4E3",
             "linecolor": "#C8D4E3",
             "minorgridcolor": "#C8D4E3",
             "startlinecolor": "#2a3f5f"
            },
            "baxis": {
             "endlinecolor": "#2a3f5f",
             "gridcolor": "#C8D4E3",
             "linecolor": "#C8D4E3",
             "minorgridcolor": "#C8D4E3",
             "startlinecolor": "#2a3f5f"
            },
            "type": "carpet"
           }
          ],
          "choropleth": [
           {
            "colorbar": {
             "outlinewidth": 0,
             "ticks": ""
            },
            "type": "choropleth"
           }
          ],
          "contour": [
           {
            "colorbar": {
             "outlinewidth": 0,
             "ticks": ""
            },
            "colorscale": [
             [
              0,
              "#0d0887"
             ],
             [
              0.1111111111111111,
              "#46039f"
             ],
             [
              0.2222222222222222,
              "#7201a8"
             ],
             [
              0.3333333333333333,
              "#9c179e"
             ],
             [
              0.4444444444444444,
              "#bd3786"
             ],
             [
              0.5555555555555556,
              "#d8576b"
             ],
             [
              0.6666666666666666,
              "#ed7953"
             ],
             [
              0.7777777777777778,
              "#fb9f3a"
             ],
             [
              0.8888888888888888,
              "#fdca26"
             ],
             [
              1,
              "#f0f921"
             ]
            ],
            "type": "contour"
           }
          ],
          "contourcarpet": [
           {
            "colorbar": {
             "outlinewidth": 0,
             "ticks": ""
            },
            "type": "contourcarpet"
           }
          ],
          "heatmap": [
           {
            "colorbar": {
             "outlinewidth": 0,
             "ticks": ""
            },
            "colorscale": [
             [
              0,
              "#0d0887"
             ],
             [
              0.1111111111111111,
              "#46039f"
             ],
             [
              0.2222222222222222,
              "#7201a8"
             ],
             [
              0.3333333333333333,
              "#9c179e"
             ],
             [
              0.4444444444444444,
              "#bd3786"
             ],
             [
              0.5555555555555556,
              "#d8576b"
             ],
             [
              0.6666666666666666,
              "#ed7953"
             ],
             [
              0.7777777777777778,
              "#fb9f3a"
             ],
             [
              0.8888888888888888,
              "#fdca26"
             ],
             [
              1,
              "#f0f921"
             ]
            ],
            "type": "heatmap"
           }
          ],
          "histogram": [
           {
            "marker": {
             "pattern": {
              "fillmode": "overlay",
              "size": 10,
              "solidity": 0.2
             }
            },
            "type": "histogram"
           }
          ],
          "histogram2d": [
           {
            "colorbar": {
             "outlinewidth": 0,
             "ticks": ""
            },
            "colorscale": [
             [
              0,
              "#0d0887"
             ],
             [
              0.1111111111111111,
              "#46039f"
             ],
             [
              0.2222222222222222,
              "#7201a8"
             ],
             [
              0.3333333333333333,
              "#9c179e"
             ],
             [
              0.4444444444444444,
              "#bd3786"
             ],
             [
              0.5555555555555556,
              "#d8576b"
             ],
             [
              0.6666666666666666,
              "#ed7953"
             ],
             [
              0.7777777777777778,
              "#fb9f3a"
             ],
             [
              0.8888888888888888,
              "#fdca26"
             ],
             [
              1,
              "#f0f921"
             ]
            ],
            "type": "histogram2d"
           }
          ],
          "histogram2dcontour": [
           {
            "colorbar": {
             "outlinewidth": 0,
             "ticks": ""
            },
            "colorscale": [
             [
              0,
              "#0d0887"
             ],
             [
              0.1111111111111111,
              "#46039f"
             ],
             [
              0.2222222222222222,
              "#7201a8"
             ],
             [
              0.3333333333333333,
              "#9c179e"
             ],
             [
              0.4444444444444444,
              "#bd3786"
             ],
             [
              0.5555555555555556,
              "#d8576b"
             ],
             [
              0.6666666666666666,
              "#ed7953"
             ],
             [
              0.7777777777777778,
              "#fb9f3a"
             ],
             [
              0.8888888888888888,
              "#fdca26"
             ],
             [
              1,
              "#f0f921"
             ]
            ],
            "type": "histogram2dcontour"
           }
          ],
          "mesh3d": [
           {
            "colorbar": {
             "outlinewidth": 0,
             "ticks": ""
            },
            "type": "mesh3d"
           }
          ],
          "parcoords": [
           {
            "line": {
             "colorbar": {
              "outlinewidth": 0,
              "ticks": ""
             }
            },
            "type": "parcoords"
           }
          ],
          "pie": [
           {
            "automargin": true,
            "type": "pie"
           }
          ],
          "scatter": [
           {
            "fillpattern": {
             "fillmode": "overlay",
             "size": 10,
             "solidity": 0.2
            },
            "type": "scatter"
           }
          ],
          "scatter3d": [
           {
            "line": {
             "colorbar": {
              "outlinewidth": 0,
              "ticks": ""
             }
            },
            "marker": {
             "colorbar": {
              "outlinewidth": 0,
              "ticks": ""
             }
            },
            "type": "scatter3d"
           }
          ],
          "scattercarpet": [
           {
            "marker": {
             "colorbar": {
              "outlinewidth": 0,
              "ticks": ""
             }
            },
            "type": "scattercarpet"
           }
          ],
          "scattergeo": [
           {
            "marker": {
             "colorbar": {
              "outlinewidth": 0,
              "ticks": ""
             }
            },
            "type": "scattergeo"
           }
          ],
          "scattergl": [
           {
            "marker": {
             "colorbar": {
              "outlinewidth": 0,
              "ticks": ""
             }
            },
            "type": "scattergl"
           }
          ],
          "scattermap": [
           {
            "marker": {
             "colorbar": {
              "outlinewidth": 0,
              "ticks": ""
             }
            },
            "type": "scattermap"
           }
          ],
          "scattermapbox": [
           {
            "marker": {
             "colorbar": {
              "outlinewidth": 0,
              "ticks": ""
             }
            },
            "type": "scattermapbox"
           }
          ],
          "scatterpolar": [
           {
            "marker": {
             "colorbar": {
              "outlinewidth": 0,
              "ticks": ""
             }
            },
            "type": "scatterpolar"
           }
          ],
          "scatterpolargl": [
           {
            "marker": {
             "colorbar": {
              "outlinewidth": 0,
              "ticks": ""
             }
            },
            "type": "scatterpolargl"
           }
          ],
          "scatterternary": [
           {
            "marker": {
             "colorbar": {
              "outlinewidth": 0,
              "ticks": ""
             }
            },
            "type": "scatterternary"
           }
          ],
          "surface": [
           {
            "colorbar": {
             "outlinewidth": 0,
             "ticks": ""
            },
            "colorscale": [
             [
              0,
              "#0d0887"
             ],
             [
              0.1111111111111111,
              "#46039f"
             ],
             [
              0.2222222222222222,
              "#7201a8"
             ],
             [
              0.3333333333333333,
              "#9c179e"
             ],
             [
              0.4444444444444444,
              "#bd3786"
             ],
             [
              0.5555555555555556,
              "#d8576b"
             ],
             [
              0.6666666666666666,
              "#ed7953"
             ],
             [
              0.7777777777777778,
              "#fb9f3a"
             ],
             [
              0.8888888888888888,
              "#fdca26"
             ],
             [
              1,
              "#f0f921"
             ]
            ],
            "type": "surface"
           }
          ],
          "table": [
           {
            "cells": {
             "fill": {
              "color": "#EBF0F8"
             },
             "line": {
              "color": "white"
             }
            },
            "header": {
             "fill": {
              "color": "#C8D4E3"
             },
             "line": {
              "color": "white"
             }
            },
            "type": "table"
           }
          ]
         },
         "layout": {
          "annotationdefaults": {
           "arrowcolor": "#2a3f5f",
           "arrowhead": 0,
           "arrowwidth": 1
          },
          "autotypenumbers": "strict",
          "coloraxis": {
           "colorbar": {
            "outlinewidth": 0,
            "ticks": ""
           }
          },
          "colorscale": {
           "diverging": [
            [
             0,
             "#8e0152"
            ],
            [
             0.1,
             "#c51b7d"
            ],
            [
             0.2,
             "#de77ae"
            ],
            [
             0.3,
             "#f1b6da"
            ],
            [
             0.4,
             "#fde0ef"
            ],
            [
             0.5,
             "#f7f7f7"
            ],
            [
             0.6,
             "#e6f5d0"
            ],
            [
             0.7,
             "#b8e186"
            ],
            [
             0.8,
             "#7fbc41"
            ],
            [
             0.9,
             "#4d9221"
            ],
            [
             1,
             "#276419"
            ]
           ],
           "sequential": [
            [
             0,
             "#0d0887"
            ],
            [
             0.1111111111111111,
             "#46039f"
            ],
            [
             0.2222222222222222,
             "#7201a8"
            ],
            [
             0.3333333333333333,
             "#9c179e"
            ],
            [
             0.4444444444444444,
             "#bd3786"
            ],
            [
             0.5555555555555556,
             "#d8576b"
            ],
            [
             0.6666666666666666,
             "#ed7953"
            ],
            [
             0.7777777777777778,
             "#fb9f3a"
            ],
            [
             0.8888888888888888,
             "#fdca26"
            ],
            [
             1,
             "#f0f921"
            ]
           ],
           "sequentialminus": [
            [
             0,
             "#0d0887"
            ],
            [
             0.1111111111111111,
             "#46039f"
            ],
            [
             0.2222222222222222,
             "#7201a8"
            ],
            [
             0.3333333333333333,
             "#9c179e"
            ],
            [
             0.4444444444444444,
             "#bd3786"
            ],
            [
             0.5555555555555556,
             "#d8576b"
            ],
            [
             0.6666666666666666,
             "#ed7953"
            ],
            [
             0.7777777777777778,
             "#fb9f3a"
            ],
            [
             0.8888888888888888,
             "#fdca26"
            ],
            [
             1,
             "#f0f921"
            ]
           ]
          },
          "colorway": [
           "#636efa",
           "#EF553B",
           "#00cc96",
           "#ab63fa",
           "#FFA15A",
           "#19d3f3",
           "#FF6692",
           "#B6E880",
           "#FF97FF",
           "#FECB52"
          ],
          "font": {
           "color": "#2a3f5f"
          },
          "geo": {
           "bgcolor": "white",
           "lakecolor": "white",
           "landcolor": "white",
           "showlakes": true,
           "showland": true,
           "subunitcolor": "#C8D4E3"
          },
          "hoverlabel": {
           "align": "left"
          },
          "hovermode": "closest",
          "mapbox": {
           "style": "light"
          },
          "paper_bgcolor": "white",
          "plot_bgcolor": "white",
          "polar": {
           "angularaxis": {
            "gridcolor": "#EBF0F8",
            "linecolor": "#EBF0F8",
            "ticks": ""
           },
           "bgcolor": "white",
           "radialaxis": {
            "gridcolor": "#EBF0F8",
            "linecolor": "#EBF0F8",
            "ticks": ""
           }
          },
          "scene": {
           "xaxis": {
            "backgroundcolor": "white",
            "gridcolor": "#DFE8F3",
            "gridwidth": 2,
            "linecolor": "#EBF0F8",
            "showbackground": true,
            "ticks": "",
            "zerolinecolor": "#EBF0F8"
           },
           "yaxis": {
            "backgroundcolor": "white",
            "gridcolor": "#DFE8F3",
            "gridwidth": 2,
            "linecolor": "#EBF0F8",
            "showbackground": true,
            "ticks": "",
            "zerolinecolor": "#EBF0F8"
           },
           "zaxis": {
            "backgroundcolor": "white",
            "gridcolor": "#DFE8F3",
            "gridwidth": 2,
            "linecolor": "#EBF0F8",
            "showbackground": true,
            "ticks": "",
            "zerolinecolor": "#EBF0F8"
           }
          },
          "shapedefaults": {
           "line": {
            "color": "#2a3f5f"
           }
          },
          "ternary": {
           "aaxis": {
            "gridcolor": "#DFE8F3",
            "linecolor": "#A2B1C6",
            "ticks": ""
           },
           "baxis": {
            "gridcolor": "#DFE8F3",
            "linecolor": "#A2B1C6",
            "ticks": ""
           },
           "bgcolor": "white",
           "caxis": {
            "gridcolor": "#DFE8F3",
            "linecolor": "#A2B1C6",
            "ticks": ""
           }
          },
          "title": {
           "x": 0.05
          },
          "xaxis": {
           "automargin": true,
           "gridcolor": "#EBF0F8",
           "linecolor": "#EBF0F8",
           "ticks": "",
           "title": {
            "standoff": 15
           },
           "zerolinecolor": "#EBF0F8",
           "zerolinewidth": 2
          },
          "yaxis": {
           "automargin": true,
           "gridcolor": "#EBF0F8",
           "linecolor": "#EBF0F8",
           "ticks": "",
           "title": {
            "standoff": 15
           },
           "zerolinecolor": "#EBF0F8",
           "zerolinewidth": 2
          }
         }
        },
        "title": {
         "text": "Confusion Matrix"
        },
        "xaxis": {
         "title": {
          "text": "Predicted label"
         }
        },
        "yaxis": {
         "autorange": "reversed",
         "title": {
          "text": "True label"
         }
        }
       }
      }
     },
     "metadata": {},
     "output_type": "display_data"
    }
   ],
   "source": [
    "evaluator.plot_confusion(evaluator.df_test['target'], evaluator.df_test['y_pred_proba'], threshold='ks')"
   ]
  },
  {
   "cell_type": "code",
   "execution_count": 68,
   "metadata": {},
   "outputs": [
    {
     "data": {
      "application/vnd.plotly.v1+json": {
       "config": {
        "plotlyServerURL": "https://plot.ly"
       },
       "data": [
        {
         "mode": "lines+markers",
         "name": "Model",
         "type": "scatter",
         "x": {
          "bdata": "N9Bpc6i7dD8=",
          "dtype": "f8"
         },
         "y": {
          "bdata": "MzMzMzMzwz8=",
          "dtype": "f8"
         }
        },
        {
         "line": {
          "dash": "dash"
         },
         "mode": "lines",
         "name": "Ideal",
         "type": "scatter",
         "x": [
          0,
          1
         ],
         "y": [
          0,
          1
         ]
        }
       ],
       "layout": {
        "template": {
         "data": {
          "bar": [
           {
            "error_x": {
             "color": "#2a3f5f"
            },
            "error_y": {
             "color": "#2a3f5f"
            },
            "marker": {
             "line": {
              "color": "white",
              "width": 0.5
             },
             "pattern": {
              "fillmode": "overlay",
              "size": 10,
              "solidity": 0.2
             }
            },
            "type": "bar"
           }
          ],
          "barpolar": [
           {
            "marker": {
             "line": {
              "color": "white",
              "width": 0.5
             },
             "pattern": {
              "fillmode": "overlay",
              "size": 10,
              "solidity": 0.2
             }
            },
            "type": "barpolar"
           }
          ],
          "carpet": [
           {
            "aaxis": {
             "endlinecolor": "#2a3f5f",
             "gridcolor": "#C8D4E3",
             "linecolor": "#C8D4E3",
             "minorgridcolor": "#C8D4E3",
             "startlinecolor": "#2a3f5f"
            },
            "baxis": {
             "endlinecolor": "#2a3f5f",
             "gridcolor": "#C8D4E3",
             "linecolor": "#C8D4E3",
             "minorgridcolor": "#C8D4E3",
             "startlinecolor": "#2a3f5f"
            },
            "type": "carpet"
           }
          ],
          "choropleth": [
           {
            "colorbar": {
             "outlinewidth": 0,
             "ticks": ""
            },
            "type": "choropleth"
           }
          ],
          "contour": [
           {
            "colorbar": {
             "outlinewidth": 0,
             "ticks": ""
            },
            "colorscale": [
             [
              0,
              "#0d0887"
             ],
             [
              0.1111111111111111,
              "#46039f"
             ],
             [
              0.2222222222222222,
              "#7201a8"
             ],
             [
              0.3333333333333333,
              "#9c179e"
             ],
             [
              0.4444444444444444,
              "#bd3786"
             ],
             [
              0.5555555555555556,
              "#d8576b"
             ],
             [
              0.6666666666666666,
              "#ed7953"
             ],
             [
              0.7777777777777778,
              "#fb9f3a"
             ],
             [
              0.8888888888888888,
              "#fdca26"
             ],
             [
              1,
              "#f0f921"
             ]
            ],
            "type": "contour"
           }
          ],
          "contourcarpet": [
           {
            "colorbar": {
             "outlinewidth": 0,
             "ticks": ""
            },
            "type": "contourcarpet"
           }
          ],
          "heatmap": [
           {
            "colorbar": {
             "outlinewidth": 0,
             "ticks": ""
            },
            "colorscale": [
             [
              0,
              "#0d0887"
             ],
             [
              0.1111111111111111,
              "#46039f"
             ],
             [
              0.2222222222222222,
              "#7201a8"
             ],
             [
              0.3333333333333333,
              "#9c179e"
             ],
             [
              0.4444444444444444,
              "#bd3786"
             ],
             [
              0.5555555555555556,
              "#d8576b"
             ],
             [
              0.6666666666666666,
              "#ed7953"
             ],
             [
              0.7777777777777778,
              "#fb9f3a"
             ],
             [
              0.8888888888888888,
              "#fdca26"
             ],
             [
              1,
              "#f0f921"
             ]
            ],
            "type": "heatmap"
           }
          ],
          "histogram": [
           {
            "marker": {
             "pattern": {
              "fillmode": "overlay",
              "size": 10,
              "solidity": 0.2
             }
            },
            "type": "histogram"
           }
          ],
          "histogram2d": [
           {
            "colorbar": {
             "outlinewidth": 0,
             "ticks": ""
            },
            "colorscale": [
             [
              0,
              "#0d0887"
             ],
             [
              0.1111111111111111,
              "#46039f"
             ],
             [
              0.2222222222222222,
              "#7201a8"
             ],
             [
              0.3333333333333333,
              "#9c179e"
             ],
             [
              0.4444444444444444,
              "#bd3786"
             ],
             [
              0.5555555555555556,
              "#d8576b"
             ],
             [
              0.6666666666666666,
              "#ed7953"
             ],
             [
              0.7777777777777778,
              "#fb9f3a"
             ],
             [
              0.8888888888888888,
              "#fdca26"
             ],
             [
              1,
              "#f0f921"
             ]
            ],
            "type": "histogram2d"
           }
          ],
          "histogram2dcontour": [
           {
            "colorbar": {
             "outlinewidth": 0,
             "ticks": ""
            },
            "colorscale": [
             [
              0,
              "#0d0887"
             ],
             [
              0.1111111111111111,
              "#46039f"
             ],
             [
              0.2222222222222222,
              "#7201a8"
             ],
             [
              0.3333333333333333,
              "#9c179e"
             ],
             [
              0.4444444444444444,
              "#bd3786"
             ],
             [
              0.5555555555555556,
              "#d8576b"
             ],
             [
              0.6666666666666666,
              "#ed7953"
             ],
             [
              0.7777777777777778,
              "#fb9f3a"
             ],
             [
              0.8888888888888888,
              "#fdca26"
             ],
             [
              1,
              "#f0f921"
             ]
            ],
            "type": "histogram2dcontour"
           }
          ],
          "mesh3d": [
           {
            "colorbar": {
             "outlinewidth": 0,
             "ticks": ""
            },
            "type": "mesh3d"
           }
          ],
          "parcoords": [
           {
            "line": {
             "colorbar": {
              "outlinewidth": 0,
              "ticks": ""
             }
            },
            "type": "parcoords"
           }
          ],
          "pie": [
           {
            "automargin": true,
            "type": "pie"
           }
          ],
          "scatter": [
           {
            "fillpattern": {
             "fillmode": "overlay",
             "size": 10,
             "solidity": 0.2
            },
            "type": "scatter"
           }
          ],
          "scatter3d": [
           {
            "line": {
             "colorbar": {
              "outlinewidth": 0,
              "ticks": ""
             }
            },
            "marker": {
             "colorbar": {
              "outlinewidth": 0,
              "ticks": ""
             }
            },
            "type": "scatter3d"
           }
          ],
          "scattercarpet": [
           {
            "marker": {
             "colorbar": {
              "outlinewidth": 0,
              "ticks": ""
             }
            },
            "type": "scattercarpet"
           }
          ],
          "scattergeo": [
           {
            "marker": {
             "colorbar": {
              "outlinewidth": 0,
              "ticks": ""
             }
            },
            "type": "scattergeo"
           }
          ],
          "scattergl": [
           {
            "marker": {
             "colorbar": {
              "outlinewidth": 0,
              "ticks": ""
             }
            },
            "type": "scattergl"
           }
          ],
          "scattermap": [
           {
            "marker": {
             "colorbar": {
              "outlinewidth": 0,
              "ticks": ""
             }
            },
            "type": "scattermap"
           }
          ],
          "scattermapbox": [
           {
            "marker": {
             "colorbar": {
              "outlinewidth": 0,
              "ticks": ""
             }
            },
            "type": "scattermapbox"
           }
          ],
          "scatterpolar": [
           {
            "marker": {
             "colorbar": {
              "outlinewidth": 0,
              "ticks": ""
             }
            },
            "type": "scatterpolar"
           }
          ],
          "scatterpolargl": [
           {
            "marker": {
             "colorbar": {
              "outlinewidth": 0,
              "ticks": ""
             }
            },
            "type": "scatterpolargl"
           }
          ],
          "scatterternary": [
           {
            "marker": {
             "colorbar": {
              "outlinewidth": 0,
              "ticks": ""
             }
            },
            "type": "scatterternary"
           }
          ],
          "surface": [
           {
            "colorbar": {
             "outlinewidth": 0,
             "ticks": ""
            },
            "colorscale": [
             [
              0,
              "#0d0887"
             ],
             [
              0.1111111111111111,
              "#46039f"
             ],
             [
              0.2222222222222222,
              "#7201a8"
             ],
             [
              0.3333333333333333,
              "#9c179e"
             ],
             [
              0.4444444444444444,
              "#bd3786"
             ],
             [
              0.5555555555555556,
              "#d8576b"
             ],
             [
              0.6666666666666666,
              "#ed7953"
             ],
             [
              0.7777777777777778,
              "#fb9f3a"
             ],
             [
              0.8888888888888888,
              "#fdca26"
             ],
             [
              1,
              "#f0f921"
             ]
            ],
            "type": "surface"
           }
          ],
          "table": [
           {
            "cells": {
             "fill": {
              "color": "#EBF0F8"
             },
             "line": {
              "color": "white"
             }
            },
            "header": {
             "fill": {
              "color": "#C8D4E3"
             },
             "line": {
              "color": "white"
             }
            },
            "type": "table"
           }
          ]
         },
         "layout": {
          "annotationdefaults": {
           "arrowcolor": "#2a3f5f",
           "arrowhead": 0,
           "arrowwidth": 1
          },
          "autotypenumbers": "strict",
          "coloraxis": {
           "colorbar": {
            "outlinewidth": 0,
            "ticks": ""
           }
          },
          "colorscale": {
           "diverging": [
            [
             0,
             "#8e0152"
            ],
            [
             0.1,
             "#c51b7d"
            ],
            [
             0.2,
             "#de77ae"
            ],
            [
             0.3,
             "#f1b6da"
            ],
            [
             0.4,
             "#fde0ef"
            ],
            [
             0.5,
             "#f7f7f7"
            ],
            [
             0.6,
             "#e6f5d0"
            ],
            [
             0.7,
             "#b8e186"
            ],
            [
             0.8,
             "#7fbc41"
            ],
            [
             0.9,
             "#4d9221"
            ],
            [
             1,
             "#276419"
            ]
           ],
           "sequential": [
            [
             0,
             "#0d0887"
            ],
            [
             0.1111111111111111,
             "#46039f"
            ],
            [
             0.2222222222222222,
             "#7201a8"
            ],
            [
             0.3333333333333333,
             "#9c179e"
            ],
            [
             0.4444444444444444,
             "#bd3786"
            ],
            [
             0.5555555555555556,
             "#d8576b"
            ],
            [
             0.6666666666666666,
             "#ed7953"
            ],
            [
             0.7777777777777778,
             "#fb9f3a"
            ],
            [
             0.8888888888888888,
             "#fdca26"
            ],
            [
             1,
             "#f0f921"
            ]
           ],
           "sequentialminus": [
            [
             0,
             "#0d0887"
            ],
            [
             0.1111111111111111,
             "#46039f"
            ],
            [
             0.2222222222222222,
             "#7201a8"
            ],
            [
             0.3333333333333333,
             "#9c179e"
            ],
            [
             0.4444444444444444,
             "#bd3786"
            ],
            [
             0.5555555555555556,
             "#d8576b"
            ],
            [
             0.6666666666666666,
             "#ed7953"
            ],
            [
             0.7777777777777778,
             "#fb9f3a"
            ],
            [
             0.8888888888888888,
             "#fdca26"
            ],
            [
             1,
             "#f0f921"
            ]
           ]
          },
          "colorway": [
           "#636efa",
           "#EF553B",
           "#00cc96",
           "#ab63fa",
           "#FFA15A",
           "#19d3f3",
           "#FF6692",
           "#B6E880",
           "#FF97FF",
           "#FECB52"
          ],
          "font": {
           "color": "#2a3f5f"
          },
          "geo": {
           "bgcolor": "white",
           "lakecolor": "white",
           "landcolor": "white",
           "showlakes": true,
           "showland": true,
           "subunitcolor": "#C8D4E3"
          },
          "hoverlabel": {
           "align": "left"
          },
          "hovermode": "closest",
          "mapbox": {
           "style": "light"
          },
          "paper_bgcolor": "white",
          "plot_bgcolor": "white",
          "polar": {
           "angularaxis": {
            "gridcolor": "#EBF0F8",
            "linecolor": "#EBF0F8",
            "ticks": ""
           },
           "bgcolor": "white",
           "radialaxis": {
            "gridcolor": "#EBF0F8",
            "linecolor": "#EBF0F8",
            "ticks": ""
           }
          },
          "scene": {
           "xaxis": {
            "backgroundcolor": "white",
            "gridcolor": "#DFE8F3",
            "gridwidth": 2,
            "linecolor": "#EBF0F8",
            "showbackground": true,
            "ticks": "",
            "zerolinecolor": "#EBF0F8"
           },
           "yaxis": {
            "backgroundcolor": "white",
            "gridcolor": "#DFE8F3",
            "gridwidth": 2,
            "linecolor": "#EBF0F8",
            "showbackground": true,
            "ticks": "",
            "zerolinecolor": "#EBF0F8"
           },
           "zaxis": {
            "backgroundcolor": "white",
            "gridcolor": "#DFE8F3",
            "gridwidth": 2,
            "linecolor": "#EBF0F8",
            "showbackground": true,
            "ticks": "",
            "zerolinecolor": "#EBF0F8"
           }
          },
          "shapedefaults": {
           "line": {
            "color": "#2a3f5f"
           }
          },
          "ternary": {
           "aaxis": {
            "gridcolor": "#DFE8F3",
            "linecolor": "#A2B1C6",
            "ticks": ""
           },
           "baxis": {
            "gridcolor": "#DFE8F3",
            "linecolor": "#A2B1C6",
            "ticks": ""
           },
           "bgcolor": "white",
           "caxis": {
            "gridcolor": "#DFE8F3",
            "linecolor": "#A2B1C6",
            "ticks": ""
           }
          },
          "title": {
           "x": 0.05
          },
          "xaxis": {
           "automargin": true,
           "gridcolor": "#EBF0F8",
           "linecolor": "#EBF0F8",
           "ticks": "",
           "title": {
            "standoff": 15
           },
           "zerolinecolor": "#EBF0F8",
           "zerolinewidth": 2
          },
          "yaxis": {
           "automargin": true,
           "gridcolor": "#EBF0F8",
           "linecolor": "#EBF0F8",
           "ticks": "",
           "title": {
            "standoff": 15
           },
           "zerolinecolor": "#EBF0F8",
           "zerolinewidth": 2
          }
         }
        },
        "title": {
         "text": "Calibration Curve – Test (Brier = 0.1485)"
        },
        "xaxis": {
         "title": {
          "text": "Predicted probability"
         }
        },
        "yaxis": {
         "title": {
          "text": "Observed frequency"
         }
        }
       }
      }
     },
     "metadata": {},
     "output_type": "display_data"
    }
   ],
   "source": [
    "evaluator.plot_calibration()"
   ]
  },
  {
   "cell_type": "code",
   "execution_count": 69,
   "metadata": {},
   "outputs": [
    {
     "data": {
      "application/vnd.plotly.v1+json": {
       "config": {
        "plotlyServerURL": "https://plot.ly"
       },
       "data": [
        {
         "line": {
          "color": "rgb(65,124,167)"
         },
         "mode": "lines+markers",
         "name": "(-inf, inf)",
         "type": "scatter",
         "x": [
          "2015-12-01T00:00:00.000000000"
         ],
         "y": {
          "bdata": "MzMzMzMzwz8=",
          "dtype": "f8"
         }
        }
       ],
       "layout": {
        "template": {
         "data": {
          "bar": [
           {
            "error_x": {
             "color": "#2a3f5f"
            },
            "error_y": {
             "color": "#2a3f5f"
            },
            "marker": {
             "line": {
              "color": "white",
              "width": 0.5
             },
             "pattern": {
              "fillmode": "overlay",
              "size": 10,
              "solidity": 0.2
             }
            },
            "type": "bar"
           }
          ],
          "barpolar": [
           {
            "marker": {
             "line": {
              "color": "white",
              "width": 0.5
             },
             "pattern": {
              "fillmode": "overlay",
              "size": 10,
              "solidity": 0.2
             }
            },
            "type": "barpolar"
           }
          ],
          "carpet": [
           {
            "aaxis": {
             "endlinecolor": "#2a3f5f",
             "gridcolor": "#C8D4E3",
             "linecolor": "#C8D4E3",
             "minorgridcolor": "#C8D4E3",
             "startlinecolor": "#2a3f5f"
            },
            "baxis": {
             "endlinecolor": "#2a3f5f",
             "gridcolor": "#C8D4E3",
             "linecolor": "#C8D4E3",
             "minorgridcolor": "#C8D4E3",
             "startlinecolor": "#2a3f5f"
            },
            "type": "carpet"
           }
          ],
          "choropleth": [
           {
            "colorbar": {
             "outlinewidth": 0,
             "ticks": ""
            },
            "type": "choropleth"
           }
          ],
          "contour": [
           {
            "colorbar": {
             "outlinewidth": 0,
             "ticks": ""
            },
            "colorscale": [
             [
              0,
              "#0d0887"
             ],
             [
              0.1111111111111111,
              "#46039f"
             ],
             [
              0.2222222222222222,
              "#7201a8"
             ],
             [
              0.3333333333333333,
              "#9c179e"
             ],
             [
              0.4444444444444444,
              "#bd3786"
             ],
             [
              0.5555555555555556,
              "#d8576b"
             ],
             [
              0.6666666666666666,
              "#ed7953"
             ],
             [
              0.7777777777777778,
              "#fb9f3a"
             ],
             [
              0.8888888888888888,
              "#fdca26"
             ],
             [
              1,
              "#f0f921"
             ]
            ],
            "type": "contour"
           }
          ],
          "contourcarpet": [
           {
            "colorbar": {
             "outlinewidth": 0,
             "ticks": ""
            },
            "type": "contourcarpet"
           }
          ],
          "heatmap": [
           {
            "colorbar": {
             "outlinewidth": 0,
             "ticks": ""
            },
            "colorscale": [
             [
              0,
              "#0d0887"
             ],
             [
              0.1111111111111111,
              "#46039f"
             ],
             [
              0.2222222222222222,
              "#7201a8"
             ],
             [
              0.3333333333333333,
              "#9c179e"
             ],
             [
              0.4444444444444444,
              "#bd3786"
             ],
             [
              0.5555555555555556,
              "#d8576b"
             ],
             [
              0.6666666666666666,
              "#ed7953"
             ],
             [
              0.7777777777777778,
              "#fb9f3a"
             ],
             [
              0.8888888888888888,
              "#fdca26"
             ],
             [
              1,
              "#f0f921"
             ]
            ],
            "type": "heatmap"
           }
          ],
          "histogram": [
           {
            "marker": {
             "pattern": {
              "fillmode": "overlay",
              "size": 10,
              "solidity": 0.2
             }
            },
            "type": "histogram"
           }
          ],
          "histogram2d": [
           {
            "colorbar": {
             "outlinewidth": 0,
             "ticks": ""
            },
            "colorscale": [
             [
              0,
              "#0d0887"
             ],
             [
              0.1111111111111111,
              "#46039f"
             ],
             [
              0.2222222222222222,
              "#7201a8"
             ],
             [
              0.3333333333333333,
              "#9c179e"
             ],
             [
              0.4444444444444444,
              "#bd3786"
             ],
             [
              0.5555555555555556,
              "#d8576b"
             ],
             [
              0.6666666666666666,
              "#ed7953"
             ],
             [
              0.7777777777777778,
              "#fb9f3a"
             ],
             [
              0.8888888888888888,
              "#fdca26"
             ],
             [
              1,
              "#f0f921"
             ]
            ],
            "type": "histogram2d"
           }
          ],
          "histogram2dcontour": [
           {
            "colorbar": {
             "outlinewidth": 0,
             "ticks": ""
            },
            "colorscale": [
             [
              0,
              "#0d0887"
             ],
             [
              0.1111111111111111,
              "#46039f"
             ],
             [
              0.2222222222222222,
              "#7201a8"
             ],
             [
              0.3333333333333333,
              "#9c179e"
             ],
             [
              0.4444444444444444,
              "#bd3786"
             ],
             [
              0.5555555555555556,
              "#d8576b"
             ],
             [
              0.6666666666666666,
              "#ed7953"
             ],
             [
              0.7777777777777778,
              "#fb9f3a"
             ],
             [
              0.8888888888888888,
              "#fdca26"
             ],
             [
              1,
              "#f0f921"
             ]
            ],
            "type": "histogram2dcontour"
           }
          ],
          "mesh3d": [
           {
            "colorbar": {
             "outlinewidth": 0,
             "ticks": ""
            },
            "type": "mesh3d"
           }
          ],
          "parcoords": [
           {
            "line": {
             "colorbar": {
              "outlinewidth": 0,
              "ticks": ""
             }
            },
            "type": "parcoords"
           }
          ],
          "pie": [
           {
            "automargin": true,
            "type": "pie"
           }
          ],
          "scatter": [
           {
            "fillpattern": {
             "fillmode": "overlay",
             "size": 10,
             "solidity": 0.2
            },
            "type": "scatter"
           }
          ],
          "scatter3d": [
           {
            "line": {
             "colorbar": {
              "outlinewidth": 0,
              "ticks": ""
             }
            },
            "marker": {
             "colorbar": {
              "outlinewidth": 0,
              "ticks": ""
             }
            },
            "type": "scatter3d"
           }
          ],
          "scattercarpet": [
           {
            "marker": {
             "colorbar": {
              "outlinewidth": 0,
              "ticks": ""
             }
            },
            "type": "scattercarpet"
           }
          ],
          "scattergeo": [
           {
            "marker": {
             "colorbar": {
              "outlinewidth": 0,
              "ticks": ""
             }
            },
            "type": "scattergeo"
           }
          ],
          "scattergl": [
           {
            "marker": {
             "colorbar": {
              "outlinewidth": 0,
              "ticks": ""
             }
            },
            "type": "scattergl"
           }
          ],
          "scattermap": [
           {
            "marker": {
             "colorbar": {
              "outlinewidth": 0,
              "ticks": ""
             }
            },
            "type": "scattermap"
           }
          ],
          "scattermapbox": [
           {
            "marker": {
             "colorbar": {
              "outlinewidth": 0,
              "ticks": ""
             }
            },
            "type": "scattermapbox"
           }
          ],
          "scatterpolar": [
           {
            "marker": {
             "colorbar": {
              "outlinewidth": 0,
              "ticks": ""
             }
            },
            "type": "scatterpolar"
           }
          ],
          "scatterpolargl": [
           {
            "marker": {
             "colorbar": {
              "outlinewidth": 0,
              "ticks": ""
             }
            },
            "type": "scatterpolargl"
           }
          ],
          "scatterternary": [
           {
            "marker": {
             "colorbar": {
              "outlinewidth": 0,
              "ticks": ""
             }
            },
            "type": "scatterternary"
           }
          ],
          "surface": [
           {
            "colorbar": {
             "outlinewidth": 0,
             "ticks": ""
            },
            "colorscale": [
             [
              0,
              "#0d0887"
             ],
             [
              0.1111111111111111,
              "#46039f"
             ],
             [
              0.2222222222222222,
              "#7201a8"
             ],
             [
              0.3333333333333333,
              "#9c179e"
             ],
             [
              0.4444444444444444,
              "#bd3786"
             ],
             [
              0.5555555555555556,
              "#d8576b"
             ],
             [
              0.6666666666666666,
              "#ed7953"
             ],
             [
              0.7777777777777778,
              "#fb9f3a"
             ],
             [
              0.8888888888888888,
              "#fdca26"
             ],
             [
              1,
              "#f0f921"
             ]
            ],
            "type": "surface"
           }
          ],
          "table": [
           {
            "cells": {
             "fill": {
              "color": "#EBF0F8"
             },
             "line": {
              "color": "white"
             }
            },
            "header": {
             "fill": {
              "color": "#C8D4E3"
             },
             "line": {
              "color": "white"
             }
            },
            "type": "table"
           }
          ]
         },
         "layout": {
          "annotationdefaults": {
           "arrowcolor": "#2a3f5f",
           "arrowhead": 0,
           "arrowwidth": 1
          },
          "autotypenumbers": "strict",
          "coloraxis": {
           "colorbar": {
            "outlinewidth": 0,
            "ticks": ""
           }
          },
          "colorscale": {
           "diverging": [
            [
             0,
             "#8e0152"
            ],
            [
             0.1,
             "#c51b7d"
            ],
            [
             0.2,
             "#de77ae"
            ],
            [
             0.3,
             "#f1b6da"
            ],
            [
             0.4,
             "#fde0ef"
            ],
            [
             0.5,
             "#f7f7f7"
            ],
            [
             0.6,
             "#e6f5d0"
            ],
            [
             0.7,
             "#b8e186"
            ],
            [
             0.8,
             "#7fbc41"
            ],
            [
             0.9,
             "#4d9221"
            ],
            [
             1,
             "#276419"
            ]
           ],
           "sequential": [
            [
             0,
             "#0d0887"
            ],
            [
             0.1111111111111111,
             "#46039f"
            ],
            [
             0.2222222222222222,
             "#7201a8"
            ],
            [
             0.3333333333333333,
             "#9c179e"
            ],
            [
             0.4444444444444444,
             "#bd3786"
            ],
            [
             0.5555555555555556,
             "#d8576b"
            ],
            [
             0.6666666666666666,
             "#ed7953"
            ],
            [
             0.7777777777777778,
             "#fb9f3a"
            ],
            [
             0.8888888888888888,
             "#fdca26"
            ],
            [
             1,
             "#f0f921"
            ]
           ],
           "sequentialminus": [
            [
             0,
             "#0d0887"
            ],
            [
             0.1111111111111111,
             "#46039f"
            ],
            [
             0.2222222222222222,
             "#7201a8"
            ],
            [
             0.3333333333333333,
             "#9c179e"
            ],
            [
             0.4444444444444444,
             "#bd3786"
            ],
            [
             0.5555555555555556,
             "#d8576b"
            ],
            [
             0.6666666666666666,
             "#ed7953"
            ],
            [
             0.7777777777777778,
             "#fb9f3a"
            ],
            [
             0.8888888888888888,
             "#fdca26"
            ],
            [
             1,
             "#f0f921"
            ]
           ]
          },
          "colorway": [
           "#636efa",
           "#EF553B",
           "#00cc96",
           "#ab63fa",
           "#FFA15A",
           "#19d3f3",
           "#FF6692",
           "#B6E880",
           "#FF97FF",
           "#FECB52"
          ],
          "font": {
           "color": "#2a3f5f"
          },
          "geo": {
           "bgcolor": "white",
           "lakecolor": "white",
           "landcolor": "white",
           "showlakes": true,
           "showland": true,
           "subunitcolor": "#C8D4E3"
          },
          "hoverlabel": {
           "align": "left"
          },
          "hovermode": "closest",
          "mapbox": {
           "style": "light"
          },
          "paper_bgcolor": "white",
          "plot_bgcolor": "white",
          "polar": {
           "angularaxis": {
            "gridcolor": "#EBF0F8",
            "linecolor": "#EBF0F8",
            "ticks": ""
           },
           "bgcolor": "white",
           "radialaxis": {
            "gridcolor": "#EBF0F8",
            "linecolor": "#EBF0F8",
            "ticks": ""
           }
          },
          "scene": {
           "xaxis": {
            "backgroundcolor": "white",
            "gridcolor": "#DFE8F3",
            "gridwidth": 2,
            "linecolor": "#EBF0F8",
            "showbackground": true,
            "ticks": "",
            "zerolinecolor": "#EBF0F8"
           },
           "yaxis": {
            "backgroundcolor": "white",
            "gridcolor": "#DFE8F3",
            "gridwidth": 2,
            "linecolor": "#EBF0F8",
            "showbackground": true,
            "ticks": "",
            "zerolinecolor": "#EBF0F8"
           },
           "zaxis": {
            "backgroundcolor": "white",
            "gridcolor": "#DFE8F3",
            "gridwidth": 2,
            "linecolor": "#EBF0F8",
            "showbackground": true,
            "ticks": "",
            "zerolinecolor": "#EBF0F8"
           }
          },
          "shapedefaults": {
           "line": {
            "color": "#2a3f5f"
           }
          },
          "ternary": {
           "aaxis": {
            "gridcolor": "#DFE8F3",
            "linecolor": "#A2B1C6",
            "ticks": ""
           },
           "baxis": {
            "gridcolor": "#DFE8F3",
            "linecolor": "#A2B1C6",
            "ticks": ""
           },
           "bgcolor": "white",
           "caxis": {
            "gridcolor": "#DFE8F3",
            "linecolor": "#A2B1C6",
            "ticks": ""
           }
          },
          "title": {
           "x": 0.05
          },
          "xaxis": {
           "automargin": true,
           "gridcolor": "#EBF0F8",
           "linecolor": "#EBF0F8",
           "ticks": "",
           "title": {
            "standoff": 15
           },
           "zerolinecolor": "#EBF0F8",
           "zerolinewidth": 2
          },
          "yaxis": {
           "automargin": true,
           "gridcolor": "#EBF0F8",
           "linecolor": "#EBF0F8",
           "ticks": "",
           "title": {
            "standoff": 15
           },
           "zerolinecolor": "#EBF0F8",
           "zerolinewidth": 2
          }
         }
        },
        "title": {
         "text": "Event Rate by Group over Time"
        },
        "xaxis": {
         "title": {
          "text": "date"
         }
        },
        "yaxis": {
         "title": {
          "text": "Event rate"
         }
        }
       }
      }
     },
     "metadata": {},
     "output_type": "display_data"
    },
    {
     "data": {
      "application/vnd.plotly.v1+json": {
       "config": {
        "plotlyServerURL": "https://plot.ly"
       },
       "data": [
        {
         "marker": {
          "color": "rgb(65,124,167)"
         },
         "name": "(-inf, inf)",
         "type": "bar",
         "x": [
          "2015-12-01T00:00:00.000000000"
         ],
         "y": {
          "bdata": "AAAAAAAA8D8=",
          "dtype": "f8"
         }
        }
       ],
       "layout": {
        "barmode": "stack",
        "template": {
         "data": {
          "bar": [
           {
            "error_x": {
             "color": "#2a3f5f"
            },
            "error_y": {
             "color": "#2a3f5f"
            },
            "marker": {
             "line": {
              "color": "white",
              "width": 0.5
             },
             "pattern": {
              "fillmode": "overlay",
              "size": 10,
              "solidity": 0.2
             }
            },
            "type": "bar"
           }
          ],
          "barpolar": [
           {
            "marker": {
             "line": {
              "color": "white",
              "width": 0.5
             },
             "pattern": {
              "fillmode": "overlay",
              "size": 10,
              "solidity": 0.2
             }
            },
            "type": "barpolar"
           }
          ],
          "carpet": [
           {
            "aaxis": {
             "endlinecolor": "#2a3f5f",
             "gridcolor": "#C8D4E3",
             "linecolor": "#C8D4E3",
             "minorgridcolor": "#C8D4E3",
             "startlinecolor": "#2a3f5f"
            },
            "baxis": {
             "endlinecolor": "#2a3f5f",
             "gridcolor": "#C8D4E3",
             "linecolor": "#C8D4E3",
             "minorgridcolor": "#C8D4E3",
             "startlinecolor": "#2a3f5f"
            },
            "type": "carpet"
           }
          ],
          "choropleth": [
           {
            "colorbar": {
             "outlinewidth": 0,
             "ticks": ""
            },
            "type": "choropleth"
           }
          ],
          "contour": [
           {
            "colorbar": {
             "outlinewidth": 0,
             "ticks": ""
            },
            "colorscale": [
             [
              0,
              "#0d0887"
             ],
             [
              0.1111111111111111,
              "#46039f"
             ],
             [
              0.2222222222222222,
              "#7201a8"
             ],
             [
              0.3333333333333333,
              "#9c179e"
             ],
             [
              0.4444444444444444,
              "#bd3786"
             ],
             [
              0.5555555555555556,
              "#d8576b"
             ],
             [
              0.6666666666666666,
              "#ed7953"
             ],
             [
              0.7777777777777778,
              "#fb9f3a"
             ],
             [
              0.8888888888888888,
              "#fdca26"
             ],
             [
              1,
              "#f0f921"
             ]
            ],
            "type": "contour"
           }
          ],
          "contourcarpet": [
           {
            "colorbar": {
             "outlinewidth": 0,
             "ticks": ""
            },
            "type": "contourcarpet"
           }
          ],
          "heatmap": [
           {
            "colorbar": {
             "outlinewidth": 0,
             "ticks": ""
            },
            "colorscale": [
             [
              0,
              "#0d0887"
             ],
             [
              0.1111111111111111,
              "#46039f"
             ],
             [
              0.2222222222222222,
              "#7201a8"
             ],
             [
              0.3333333333333333,
              "#9c179e"
             ],
             [
              0.4444444444444444,
              "#bd3786"
             ],
             [
              0.5555555555555556,
              "#d8576b"
             ],
             [
              0.6666666666666666,
              "#ed7953"
             ],
             [
              0.7777777777777778,
              "#fb9f3a"
             ],
             [
              0.8888888888888888,
              "#fdca26"
             ],
             [
              1,
              "#f0f921"
             ]
            ],
            "type": "heatmap"
           }
          ],
          "histogram": [
           {
            "marker": {
             "pattern": {
              "fillmode": "overlay",
              "size": 10,
              "solidity": 0.2
             }
            },
            "type": "histogram"
           }
          ],
          "histogram2d": [
           {
            "colorbar": {
             "outlinewidth": 0,
             "ticks": ""
            },
            "colorscale": [
             [
              0,
              "#0d0887"
             ],
             [
              0.1111111111111111,
              "#46039f"
             ],
             [
              0.2222222222222222,
              "#7201a8"
             ],
             [
              0.3333333333333333,
              "#9c179e"
             ],
             [
              0.4444444444444444,
              "#bd3786"
             ],
             [
              0.5555555555555556,
              "#d8576b"
             ],
             [
              0.6666666666666666,
              "#ed7953"
             ],
             [
              0.7777777777777778,
              "#fb9f3a"
             ],
             [
              0.8888888888888888,
              "#fdca26"
             ],
             [
              1,
              "#f0f921"
             ]
            ],
            "type": "histogram2d"
           }
          ],
          "histogram2dcontour": [
           {
            "colorbar": {
             "outlinewidth": 0,
             "ticks": ""
            },
            "colorscale": [
             [
              0,
              "#0d0887"
             ],
             [
              0.1111111111111111,
              "#46039f"
             ],
             [
              0.2222222222222222,
              "#7201a8"
             ],
             [
              0.3333333333333333,
              "#9c179e"
             ],
             [
              0.4444444444444444,
              "#bd3786"
             ],
             [
              0.5555555555555556,
              "#d8576b"
             ],
             [
              0.6666666666666666,
              "#ed7953"
             ],
             [
              0.7777777777777778,
              "#fb9f3a"
             ],
             [
              0.8888888888888888,
              "#fdca26"
             ],
             [
              1,
              "#f0f921"
             ]
            ],
            "type": "histogram2dcontour"
           }
          ],
          "mesh3d": [
           {
            "colorbar": {
             "outlinewidth": 0,
             "ticks": ""
            },
            "type": "mesh3d"
           }
          ],
          "parcoords": [
           {
            "line": {
             "colorbar": {
              "outlinewidth": 0,
              "ticks": ""
             }
            },
            "type": "parcoords"
           }
          ],
          "pie": [
           {
            "automargin": true,
            "type": "pie"
           }
          ],
          "scatter": [
           {
            "fillpattern": {
             "fillmode": "overlay",
             "size": 10,
             "solidity": 0.2
            },
            "type": "scatter"
           }
          ],
          "scatter3d": [
           {
            "line": {
             "colorbar": {
              "outlinewidth": 0,
              "ticks": ""
             }
            },
            "marker": {
             "colorbar": {
              "outlinewidth": 0,
              "ticks": ""
             }
            },
            "type": "scatter3d"
           }
          ],
          "scattercarpet": [
           {
            "marker": {
             "colorbar": {
              "outlinewidth": 0,
              "ticks": ""
             }
            },
            "type": "scattercarpet"
           }
          ],
          "scattergeo": [
           {
            "marker": {
             "colorbar": {
              "outlinewidth": 0,
              "ticks": ""
             }
            },
            "type": "scattergeo"
           }
          ],
          "scattergl": [
           {
            "marker": {
             "colorbar": {
              "outlinewidth": 0,
              "ticks": ""
             }
            },
            "type": "scattergl"
           }
          ],
          "scattermap": [
           {
            "marker": {
             "colorbar": {
              "outlinewidth": 0,
              "ticks": ""
             }
            },
            "type": "scattermap"
           }
          ],
          "scattermapbox": [
           {
            "marker": {
             "colorbar": {
              "outlinewidth": 0,
              "ticks": ""
             }
            },
            "type": "scattermapbox"
           }
          ],
          "scatterpolar": [
           {
            "marker": {
             "colorbar": {
              "outlinewidth": 0,
              "ticks": ""
             }
            },
            "type": "scatterpolar"
           }
          ],
          "scatterpolargl": [
           {
            "marker": {
             "colorbar": {
              "outlinewidth": 0,
              "ticks": ""
             }
            },
            "type": "scatterpolargl"
           }
          ],
          "scatterternary": [
           {
            "marker": {
             "colorbar": {
              "outlinewidth": 0,
              "ticks": ""
             }
            },
            "type": "scatterternary"
           }
          ],
          "surface": [
           {
            "colorbar": {
             "outlinewidth": 0,
             "ticks": ""
            },
            "colorscale": [
             [
              0,
              "#0d0887"
             ],
             [
              0.1111111111111111,
              "#46039f"
             ],
             [
              0.2222222222222222,
              "#7201a8"
             ],
             [
              0.3333333333333333,
              "#9c179e"
             ],
             [
              0.4444444444444444,
              "#bd3786"
             ],
             [
              0.5555555555555556,
              "#d8576b"
             ],
             [
              0.6666666666666666,
              "#ed7953"
             ],
             [
              0.7777777777777778,
              "#fb9f3a"
             ],
             [
              0.8888888888888888,
              "#fdca26"
             ],
             [
              1,
              "#f0f921"
             ]
            ],
            "type": "surface"
           }
          ],
          "table": [
           {
            "cells": {
             "fill": {
              "color": "#EBF0F8"
             },
             "line": {
              "color": "white"
             }
            },
            "header": {
             "fill": {
              "color": "#C8D4E3"
             },
             "line": {
              "color": "white"
             }
            },
            "type": "table"
           }
          ]
         },
         "layout": {
          "annotationdefaults": {
           "arrowcolor": "#2a3f5f",
           "arrowhead": 0,
           "arrowwidth": 1
          },
          "autotypenumbers": "strict",
          "coloraxis": {
           "colorbar": {
            "outlinewidth": 0,
            "ticks": ""
           }
          },
          "colorscale": {
           "diverging": [
            [
             0,
             "#8e0152"
            ],
            [
             0.1,
             "#c51b7d"
            ],
            [
             0.2,
             "#de77ae"
            ],
            [
             0.3,
             "#f1b6da"
            ],
            [
             0.4,
             "#fde0ef"
            ],
            [
             0.5,
             "#f7f7f7"
            ],
            [
             0.6,
             "#e6f5d0"
            ],
            [
             0.7,
             "#b8e186"
            ],
            [
             0.8,
             "#7fbc41"
            ],
            [
             0.9,
             "#4d9221"
            ],
            [
             1,
             "#276419"
            ]
           ],
           "sequential": [
            [
             0,
             "#0d0887"
            ],
            [
             0.1111111111111111,
             "#46039f"
            ],
            [
             0.2222222222222222,
             "#7201a8"
            ],
            [
             0.3333333333333333,
             "#9c179e"
            ],
            [
             0.4444444444444444,
             "#bd3786"
            ],
            [
             0.5555555555555556,
             "#d8576b"
            ],
            [
             0.6666666666666666,
             "#ed7953"
            ],
            [
             0.7777777777777778,
             "#fb9f3a"
            ],
            [
             0.8888888888888888,
             "#fdca26"
            ],
            [
             1,
             "#f0f921"
            ]
           ],
           "sequentialminus": [
            [
             0,
             "#0d0887"
            ],
            [
             0.1111111111111111,
             "#46039f"
            ],
            [
             0.2222222222222222,
             "#7201a8"
            ],
            [
             0.3333333333333333,
             "#9c179e"
            ],
            [
             0.4444444444444444,
             "#bd3786"
            ],
            [
             0.5555555555555556,
             "#d8576b"
            ],
            [
             0.6666666666666666,
             "#ed7953"
            ],
            [
             0.7777777777777778,
             "#fb9f3a"
            ],
            [
             0.8888888888888888,
             "#fdca26"
            ],
            [
             1,
             "#f0f921"
            ]
           ]
          },
          "colorway": [
           "#636efa",
           "#EF553B",
           "#00cc96",
           "#ab63fa",
           "#FFA15A",
           "#19d3f3",
           "#FF6692",
           "#B6E880",
           "#FF97FF",
           "#FECB52"
          ],
          "font": {
           "color": "#2a3f5f"
          },
          "geo": {
           "bgcolor": "white",
           "lakecolor": "white",
           "landcolor": "white",
           "showlakes": true,
           "showland": true,
           "subunitcolor": "#C8D4E3"
          },
          "hoverlabel": {
           "align": "left"
          },
          "hovermode": "closest",
          "mapbox": {
           "style": "light"
          },
          "paper_bgcolor": "white",
          "plot_bgcolor": "white",
          "polar": {
           "angularaxis": {
            "gridcolor": "#EBF0F8",
            "linecolor": "#EBF0F8",
            "ticks": ""
           },
           "bgcolor": "white",
           "radialaxis": {
            "gridcolor": "#EBF0F8",
            "linecolor": "#EBF0F8",
            "ticks": ""
           }
          },
          "scene": {
           "xaxis": {
            "backgroundcolor": "white",
            "gridcolor": "#DFE8F3",
            "gridwidth": 2,
            "linecolor": "#EBF0F8",
            "showbackground": true,
            "ticks": "",
            "zerolinecolor": "#EBF0F8"
           },
           "yaxis": {
            "backgroundcolor": "white",
            "gridcolor": "#DFE8F3",
            "gridwidth": 2,
            "linecolor": "#EBF0F8",
            "showbackground": true,
            "ticks": "",
            "zerolinecolor": "#EBF0F8"
           },
           "zaxis": {
            "backgroundcolor": "white",
            "gridcolor": "#DFE8F3",
            "gridwidth": 2,
            "linecolor": "#EBF0F8",
            "showbackground": true,
            "ticks": "",
            "zerolinecolor": "#EBF0F8"
           }
          },
          "shapedefaults": {
           "line": {
            "color": "#2a3f5f"
           }
          },
          "ternary": {
           "aaxis": {
            "gridcolor": "#DFE8F3",
            "linecolor": "#A2B1C6",
            "ticks": ""
           },
           "baxis": {
            "gridcolor": "#DFE8F3",
            "linecolor": "#A2B1C6",
            "ticks": ""
           },
           "bgcolor": "white",
           "caxis": {
            "gridcolor": "#DFE8F3",
            "linecolor": "#A2B1C6",
            "ticks": ""
           }
          },
          "title": {
           "x": 0.05
          },
          "xaxis": {
           "automargin": true,
           "gridcolor": "#EBF0F8",
           "linecolor": "#EBF0F8",
           "ticks": "",
           "title": {
            "standoff": 15
           },
           "zerolinecolor": "#EBF0F8",
           "zerolinewidth": 2
          },
          "yaxis": {
           "automargin": true,
           "gridcolor": "#EBF0F8",
           "linecolor": "#EBF0F8",
           "ticks": "",
           "title": {
            "standoff": 15
           },
           "zerolinecolor": "#EBF0F8",
           "zerolinewidth": 2
          }
         }
        },
        "title": {
         "text": "Group Share over Time"
        },
        "xaxis": {
         "title": {
          "text": "date"
         }
        },
        "yaxis": {
         "tickformat": ".0%",
         "title": {
          "text": "Group share"
         }
        }
       }
      }
     },
     "metadata": {},
     "output_type": "display_data"
    },
    {
     "data": {
      "text/plain": [
       "(Figure({\n",
       "     'data': [{'line': {'color': 'rgb(65,124,167)'},\n",
       "               'mode': 'lines+markers',\n",
       "               'name': '(-inf, inf)',\n",
       "               'type': 'scatter',\n",
       "               'x': array(['2015-12-01T00:00:00.000000000'], dtype='datetime64[ns]'),\n",
       "               'y': {'bdata': 'MzMzMzMzwz8=', 'dtype': 'f8'}}],\n",
       "     'layout': {'template': '...',\n",
       "                'title': {'text': 'Event Rate by Group over Time'},\n",
       "                'xaxis': {'title': {'text': 'date'}},\n",
       "                'yaxis': {'title': {'text': 'Event rate'}}}\n",
       " }),\n",
       " Figure({\n",
       "     'data': [{'marker': {'color': 'rgb(65,124,167)'},\n",
       "               'name': '(-inf, inf)',\n",
       "               'type': 'bar',\n",
       "               'x': array(['2015-12-01T00:00:00.000000000'], dtype='datetime64[ns]'),\n",
       "               'y': {'bdata': 'AAAAAAAA8D8=', 'dtype': 'f8'}}],\n",
       "     'layout': {'barmode': 'stack',\n",
       "                'template': '...',\n",
       "                'title': {'text': 'Group Share over Time'},\n",
       "                'xaxis': {'title': {'text': 'date'}},\n",
       "                'yaxis': {'tickformat': '.0%', 'title': {'text': 'Group share'}}}\n",
       " }))"
      ]
     },
     "execution_count": 69,
     "metadata": {},
     "output_type": "execute_result"
    }
   ],
   "source": [
    "evaluator.plot_event_rate()"
   ]
  },
  {
   "cell_type": "code",
   "execution_count": 70,
   "metadata": {},
   "outputs": [
    {
     "data": {
      "application/vnd.plotly.v1+json": {
       "config": {
        "plotlyServerURL": "https://plot.ly"
       },
       "data": [
        {
         "mode": "lines+markers",
         "name": "acc_open_past_24mths",
         "type": "scatter",
         "x": [
          "2015-12-01T00:00:00.000000000"
         ],
         "y": {
          "bdata": "NWO8DLCsmD8=",
          "dtype": "f8"
         }
        },
        {
         "mode": "lines+markers",
         "name": "annual_inc",
         "type": "scatter",
         "x": [
          "2015-12-01T00:00:00.000000000"
         ],
         "y": {
          "bdata": "yeQWxbXerj8=",
          "dtype": "f8"
         }
        },
        {
         "mode": "lines+markers",
         "name": "avg_cur_bal",
         "type": "scatter",
         "x": [
          "2015-12-01T00:00:00.000000000"
         ],
         "y": {
          "bdata": "CAN6PHQJrD8=",
          "dtype": "f8"
         }
        },
        {
         "mode": "lines+markers",
         "name": "bc_open_to_buy",
         "type": "scatter",
         "x": [
          "2015-12-01T00:00:00.000000000"
         ],
         "y": {
          "bdata": "cmqztIXIrT8=",
          "dtype": "f8"
         }
        },
        {
         "mode": "lines+markers",
         "name": "dti",
         "type": "scatter",
         "x": [
          "2015-12-01T00:00:00.000000000"
         ],
         "y": {
          "bdata": "5JRLsL1Gqz8=",
          "dtype": "f8"
         }
        },
        {
         "mode": "lines+markers",
         "name": "fico_range_high",
         "type": "scatter",
         "x": [
          "2015-12-01T00:00:00.000000000"
         ],
         "y": {
          "bdata": "n3/X6eDrqj8=",
          "dtype": "f8"
         }
        },
        {
         "mode": "lines+markers",
         "name": "funded_amnt_inv",
         "type": "scatter",
         "x": [
          "2015-12-01T00:00:00.000000000"
         ],
         "y": {
          "bdata": "pDQKL6pDpD8=",
          "dtype": "f8"
         }
        },
        {
         "mode": "lines+markers",
         "name": "last_fico_range_low",
         "type": "scatter",
         "x": [
          "2015-12-01T00:00:00.000000000"
         ],
         "y": {
          "bdata": "dk1h3b6Flj8=",
          "dtype": "f8"
         }
        },
        {
         "mode": "lines+markers",
         "name": "last_pymnt_amnt",
         "type": "scatter",
         "x": [
          "2015-12-01T00:00:00.000000000"
         ],
         "y": {
          "bdata": "UtDxWn6Orz8=",
          "dtype": "f8"
         }
        },
        {
         "mode": "lines+markers",
         "name": "mo_sin_old_rev_tl_op",
         "type": "scatter",
         "x": [
          "2015-12-01T00:00:00.000000000"
         ],
         "y": {
          "bdata": "OQ9qa9W2pD8=",
          "dtype": "f8"
         }
        },
        {
         "mode": "lines+markers",
         "name": "mo_sin_rcnt_rev_tl_op",
         "type": "scatter",
         "x": [
          "2015-12-01T00:00:00.000000000"
         ],
         "y": {
          "bdata": "i3vNEMVbpD8=",
          "dtype": "f8"
         }
        },
        {
         "mode": "lines+markers",
         "name": "mo_sin_rcnt_tl",
         "type": "scatter",
         "x": [
          "2015-12-01T00:00:00.000000000"
         ],
         "y": {
          "bdata": "qOZ0vHRNnz8=",
          "dtype": "f8"
         }
        },
        {
         "mode": "lines+markers",
         "name": "mort_acc",
         "type": "scatter",
         "x": [
          "2015-12-01T00:00:00.000000000"
         ],
         "y": {
          "bdata": "QxCtke2ylD8=",
          "dtype": "f8"
         }
        },
        {
         "mode": "lines+markers",
         "name": "mths_since_recent_bc",
         "type": "scatter",
         "x": [
          "2015-12-01T00:00:00.000000000"
         ],
         "y": {
          "bdata": "owqEJTzOpT8=",
          "dtype": "f8"
         }
        },
        {
         "mode": "lines+markers",
         "name": "mths_since_recent_inq",
         "type": "scatter",
         "x": [
          "2015-12-01T00:00:00.000000000"
         ],
         "y": {
          "bdata": "X0R2XgWVqD8=",
          "dtype": "f8"
         }
        },
        {
         "mode": "lines+markers",
         "name": "num_tl_op_past_12m",
         "type": "scatter",
         "x": [
          "2015-12-01T00:00:00.000000000"
         ],
         "y": {
          "bdata": "amvB3o5Vmj8=",
          "dtype": "f8"
         }
        },
        {
         "mode": "lines+markers",
         "name": "out_prncp_inv",
         "type": "scatter",
         "x": [
          "2015-12-01T00:00:00.000000000"
         ],
         "y": {
          "bdata": "RMbscwDlHz8=",
          "dtype": "f8"
         }
        },
        {
         "mode": "lines+markers",
         "name": "percent_bc_gt_75",
         "type": "scatter",
         "x": [
          "2015-12-01T00:00:00.000000000"
         ],
         "y": {
          "bdata": "AAr91JxImD8=",
          "dtype": "f8"
         }
        },
        {
         "mode": "lines+markers",
         "name": "total_bc_limit",
         "type": "scatter",
         "x": [
          "2015-12-01T00:00:00.000000000"
         ],
         "y": {
          "bdata": "pEFcNjdAuz8=",
          "dtype": "f8"
         }
        },
        {
         "mode": "lines+markers",
         "name": "total_rec_prncp",
         "type": "scatter",
         "x": [
          "2015-12-01T00:00:00.000000000"
         ],
         "y": {
          "bdata": "2tSWAUKlrD8=",
          "dtype": "f8"
         }
        },
        {
         "mode": "lines+markers",
         "name": "y_pred_label",
         "type": "scatter",
         "x": [
          "2015-12-01T00:00:00.000000000"
         ],
         "y": {
          "bdata": "AAAAAAAAAAA=",
          "dtype": "f8"
         }
        },
        {
         "mode": "lines+markers",
         "name": "y_pred_proba",
         "type": "scatter",
         "x": [
          "2015-12-01T00:00:00.000000000"
         ],
         "y": {
          "bdata": "5NCKvF2Onj8=",
          "dtype": "f8"
         }
        }
       ],
       "layout": {
        "annotations": [
         {
          "showarrow": false,
          "text": "0.10",
          "x": 1,
          "xanchor": "right",
          "xref": "x domain",
          "y": 0.1,
          "yanchor": "bottom",
          "yref": "y"
         },
         {
          "showarrow": false,
          "text": "0.25",
          "x": 1,
          "xanchor": "right",
          "xref": "x domain",
          "y": 0.25,
          "yanchor": "bottom",
          "yref": "y"
         }
        ],
        "shapes": [
         {
          "line": {
           "color": "orange",
           "dash": "dash"
          },
          "type": "line",
          "x0": 0,
          "x1": 1,
          "xref": "x domain",
          "y0": 0.1,
          "y1": 0.1,
          "yref": "y"
         },
         {
          "line": {
           "color": "red",
           "dash": "dash"
          },
          "type": "line",
          "x0": 0,
          "x1": 1,
          "xref": "x domain",
          "y0": 0.25,
          "y1": 0.25,
          "yref": "y"
         }
        ],
        "template": {
         "data": {
          "bar": [
           {
            "error_x": {
             "color": "#2a3f5f"
            },
            "error_y": {
             "color": "#2a3f5f"
            },
            "marker": {
             "line": {
              "color": "white",
              "width": 0.5
             },
             "pattern": {
              "fillmode": "overlay",
              "size": 10,
              "solidity": 0.2
             }
            },
            "type": "bar"
           }
          ],
          "barpolar": [
           {
            "marker": {
             "line": {
              "color": "white",
              "width": 0.5
             },
             "pattern": {
              "fillmode": "overlay",
              "size": 10,
              "solidity": 0.2
             }
            },
            "type": "barpolar"
           }
          ],
          "carpet": [
           {
            "aaxis": {
             "endlinecolor": "#2a3f5f",
             "gridcolor": "#C8D4E3",
             "linecolor": "#C8D4E3",
             "minorgridcolor": "#C8D4E3",
             "startlinecolor": "#2a3f5f"
            },
            "baxis": {
             "endlinecolor": "#2a3f5f",
             "gridcolor": "#C8D4E3",
             "linecolor": "#C8D4E3",
             "minorgridcolor": "#C8D4E3",
             "startlinecolor": "#2a3f5f"
            },
            "type": "carpet"
           }
          ],
          "choropleth": [
           {
            "colorbar": {
             "outlinewidth": 0,
             "ticks": ""
            },
            "type": "choropleth"
           }
          ],
          "contour": [
           {
            "colorbar": {
             "outlinewidth": 0,
             "ticks": ""
            },
            "colorscale": [
             [
              0,
              "#0d0887"
             ],
             [
              0.1111111111111111,
              "#46039f"
             ],
             [
              0.2222222222222222,
              "#7201a8"
             ],
             [
              0.3333333333333333,
              "#9c179e"
             ],
             [
              0.4444444444444444,
              "#bd3786"
             ],
             [
              0.5555555555555556,
              "#d8576b"
             ],
             [
              0.6666666666666666,
              "#ed7953"
             ],
             [
              0.7777777777777778,
              "#fb9f3a"
             ],
             [
              0.8888888888888888,
              "#fdca26"
             ],
             [
              1,
              "#f0f921"
             ]
            ],
            "type": "contour"
           }
          ],
          "contourcarpet": [
           {
            "colorbar": {
             "outlinewidth": 0,
             "ticks": ""
            },
            "type": "contourcarpet"
           }
          ],
          "heatmap": [
           {
            "colorbar": {
             "outlinewidth": 0,
             "ticks": ""
            },
            "colorscale": [
             [
              0,
              "#0d0887"
             ],
             [
              0.1111111111111111,
              "#46039f"
             ],
             [
              0.2222222222222222,
              "#7201a8"
             ],
             [
              0.3333333333333333,
              "#9c179e"
             ],
             [
              0.4444444444444444,
              "#bd3786"
             ],
             [
              0.5555555555555556,
              "#d8576b"
             ],
             [
              0.6666666666666666,
              "#ed7953"
             ],
             [
              0.7777777777777778,
              "#fb9f3a"
             ],
             [
              0.8888888888888888,
              "#fdca26"
             ],
             [
              1,
              "#f0f921"
             ]
            ],
            "type": "heatmap"
           }
          ],
          "histogram": [
           {
            "marker": {
             "pattern": {
              "fillmode": "overlay",
              "size": 10,
              "solidity": 0.2
             }
            },
            "type": "histogram"
           }
          ],
          "histogram2d": [
           {
            "colorbar": {
             "outlinewidth": 0,
             "ticks": ""
            },
            "colorscale": [
             [
              0,
              "#0d0887"
             ],
             [
              0.1111111111111111,
              "#46039f"
             ],
             [
              0.2222222222222222,
              "#7201a8"
             ],
             [
              0.3333333333333333,
              "#9c179e"
             ],
             [
              0.4444444444444444,
              "#bd3786"
             ],
             [
              0.5555555555555556,
              "#d8576b"
             ],
             [
              0.6666666666666666,
              "#ed7953"
             ],
             [
              0.7777777777777778,
              "#fb9f3a"
             ],
             [
              0.8888888888888888,
              "#fdca26"
             ],
             [
              1,
              "#f0f921"
             ]
            ],
            "type": "histogram2d"
           }
          ],
          "histogram2dcontour": [
           {
            "colorbar": {
             "outlinewidth": 0,
             "ticks": ""
            },
            "colorscale": [
             [
              0,
              "#0d0887"
             ],
             [
              0.1111111111111111,
              "#46039f"
             ],
             [
              0.2222222222222222,
              "#7201a8"
             ],
             [
              0.3333333333333333,
              "#9c179e"
             ],
             [
              0.4444444444444444,
              "#bd3786"
             ],
             [
              0.5555555555555556,
              "#d8576b"
             ],
             [
              0.6666666666666666,
              "#ed7953"
             ],
             [
              0.7777777777777778,
              "#fb9f3a"
             ],
             [
              0.8888888888888888,
              "#fdca26"
             ],
             [
              1,
              "#f0f921"
             ]
            ],
            "type": "histogram2dcontour"
           }
          ],
          "mesh3d": [
           {
            "colorbar": {
             "outlinewidth": 0,
             "ticks": ""
            },
            "type": "mesh3d"
           }
          ],
          "parcoords": [
           {
            "line": {
             "colorbar": {
              "outlinewidth": 0,
              "ticks": ""
             }
            },
            "type": "parcoords"
           }
          ],
          "pie": [
           {
            "automargin": true,
            "type": "pie"
           }
          ],
          "scatter": [
           {
            "fillpattern": {
             "fillmode": "overlay",
             "size": 10,
             "solidity": 0.2
            },
            "type": "scatter"
           }
          ],
          "scatter3d": [
           {
            "line": {
             "colorbar": {
              "outlinewidth": 0,
              "ticks": ""
             }
            },
            "marker": {
             "colorbar": {
              "outlinewidth": 0,
              "ticks": ""
             }
            },
            "type": "scatter3d"
           }
          ],
          "scattercarpet": [
           {
            "marker": {
             "colorbar": {
              "outlinewidth": 0,
              "ticks": ""
             }
            },
            "type": "scattercarpet"
           }
          ],
          "scattergeo": [
           {
            "marker": {
             "colorbar": {
              "outlinewidth": 0,
              "ticks": ""
             }
            },
            "type": "scattergeo"
           }
          ],
          "scattergl": [
           {
            "marker": {
             "colorbar": {
              "outlinewidth": 0,
              "ticks": ""
             }
            },
            "type": "scattergl"
           }
          ],
          "scattermap": [
           {
            "marker": {
             "colorbar": {
              "outlinewidth": 0,
              "ticks": ""
             }
            },
            "type": "scattermap"
           }
          ],
          "scattermapbox": [
           {
            "marker": {
             "colorbar": {
              "outlinewidth": 0,
              "ticks": ""
             }
            },
            "type": "scattermapbox"
           }
          ],
          "scatterpolar": [
           {
            "marker": {
             "colorbar": {
              "outlinewidth": 0,
              "ticks": ""
             }
            },
            "type": "scatterpolar"
           }
          ],
          "scatterpolargl": [
           {
            "marker": {
             "colorbar": {
              "outlinewidth": 0,
              "ticks": ""
             }
            },
            "type": "scatterpolargl"
           }
          ],
          "scatterternary": [
           {
            "marker": {
             "colorbar": {
              "outlinewidth": 0,
              "ticks": ""
             }
            },
            "type": "scatterternary"
           }
          ],
          "surface": [
           {
            "colorbar": {
             "outlinewidth": 0,
             "ticks": ""
            },
            "colorscale": [
             [
              0,
              "#0d0887"
             ],
             [
              0.1111111111111111,
              "#46039f"
             ],
             [
              0.2222222222222222,
              "#7201a8"
             ],
             [
              0.3333333333333333,
              "#9c179e"
             ],
             [
              0.4444444444444444,
              "#bd3786"
             ],
             [
              0.5555555555555556,
              "#d8576b"
             ],
             [
              0.6666666666666666,
              "#ed7953"
             ],
             [
              0.7777777777777778,
              "#fb9f3a"
             ],
             [
              0.8888888888888888,
              "#fdca26"
             ],
             [
              1,
              "#f0f921"
             ]
            ],
            "type": "surface"
           }
          ],
          "table": [
           {
            "cells": {
             "fill": {
              "color": "#EBF0F8"
             },
             "line": {
              "color": "white"
             }
            },
            "header": {
             "fill": {
              "color": "#C8D4E3"
             },
             "line": {
              "color": "white"
             }
            },
            "type": "table"
           }
          ]
         },
         "layout": {
          "annotationdefaults": {
           "arrowcolor": "#2a3f5f",
           "arrowhead": 0,
           "arrowwidth": 1
          },
          "autotypenumbers": "strict",
          "coloraxis": {
           "colorbar": {
            "outlinewidth": 0,
            "ticks": ""
           }
          },
          "colorscale": {
           "diverging": [
            [
             0,
             "#8e0152"
            ],
            [
             0.1,
             "#c51b7d"
            ],
            [
             0.2,
             "#de77ae"
            ],
            [
             0.3,
             "#f1b6da"
            ],
            [
             0.4,
             "#fde0ef"
            ],
            [
             0.5,
             "#f7f7f7"
            ],
            [
             0.6,
             "#e6f5d0"
            ],
            [
             0.7,
             "#b8e186"
            ],
            [
             0.8,
             "#7fbc41"
            ],
            [
             0.9,
             "#4d9221"
            ],
            [
             1,
             "#276419"
            ]
           ],
           "sequential": [
            [
             0,
             "#0d0887"
            ],
            [
             0.1111111111111111,
             "#46039f"
            ],
            [
             0.2222222222222222,
             "#7201a8"
            ],
            [
             0.3333333333333333,
             "#9c179e"
            ],
            [
             0.4444444444444444,
             "#bd3786"
            ],
            [
             0.5555555555555556,
             "#d8576b"
            ],
            [
             0.6666666666666666,
             "#ed7953"
            ],
            [
             0.7777777777777778,
             "#fb9f3a"
            ],
            [
             0.8888888888888888,
             "#fdca26"
            ],
            [
             1,
             "#f0f921"
            ]
           ],
           "sequentialminus": [
            [
             0,
             "#0d0887"
            ],
            [
             0.1111111111111111,
             "#46039f"
            ],
            [
             0.2222222222222222,
             "#7201a8"
            ],
            [
             0.3333333333333333,
             "#9c179e"
            ],
            [
             0.4444444444444444,
             "#bd3786"
            ],
            [
             0.5555555555555556,
             "#d8576b"
            ],
            [
             0.6666666666666666,
             "#ed7953"
            ],
            [
             0.7777777777777778,
             "#fb9f3a"
            ],
            [
             0.8888888888888888,
             "#fdca26"
            ],
            [
             1,
             "#f0f921"
            ]
           ]
          },
          "colorway": [
           "#636efa",
           "#EF553B",
           "#00cc96",
           "#ab63fa",
           "#FFA15A",
           "#19d3f3",
           "#FF6692",
           "#B6E880",
           "#FF97FF",
           "#FECB52"
          ],
          "font": {
           "color": "#2a3f5f"
          },
          "geo": {
           "bgcolor": "white",
           "lakecolor": "white",
           "landcolor": "white",
           "showlakes": true,
           "showland": true,
           "subunitcolor": "#C8D4E3"
          },
          "hoverlabel": {
           "align": "left"
          },
          "hovermode": "closest",
          "mapbox": {
           "style": "light"
          },
          "paper_bgcolor": "white",
          "plot_bgcolor": "white",
          "polar": {
           "angularaxis": {
            "gridcolor": "#EBF0F8",
            "linecolor": "#EBF0F8",
            "ticks": ""
           },
           "bgcolor": "white",
           "radialaxis": {
            "gridcolor": "#EBF0F8",
            "linecolor": "#EBF0F8",
            "ticks": ""
           }
          },
          "scene": {
           "xaxis": {
            "backgroundcolor": "white",
            "gridcolor": "#DFE8F3",
            "gridwidth": 2,
            "linecolor": "#EBF0F8",
            "showbackground": true,
            "ticks": "",
            "zerolinecolor": "#EBF0F8"
           },
           "yaxis": {
            "backgroundcolor": "white",
            "gridcolor": "#DFE8F3",
            "gridwidth": 2,
            "linecolor": "#EBF0F8",
            "showbackground": true,
            "ticks": "",
            "zerolinecolor": "#EBF0F8"
           },
           "zaxis": {
            "backgroundcolor": "white",
            "gridcolor": "#DFE8F3",
            "gridwidth": 2,
            "linecolor": "#EBF0F8",
            "showbackground": true,
            "ticks": "",
            "zerolinecolor": "#EBF0F8"
           }
          },
          "shapedefaults": {
           "line": {
            "color": "#2a3f5f"
           }
          },
          "ternary": {
           "aaxis": {
            "gridcolor": "#DFE8F3",
            "linecolor": "#A2B1C6",
            "ticks": ""
           },
           "baxis": {
            "gridcolor": "#DFE8F3",
            "linecolor": "#A2B1C6",
            "ticks": ""
           },
           "bgcolor": "white",
           "caxis": {
            "gridcolor": "#DFE8F3",
            "linecolor": "#A2B1C6",
            "ticks": ""
           }
          },
          "title": {
           "x": 0.05
          },
          "xaxis": {
           "automargin": true,
           "gridcolor": "#EBF0F8",
           "linecolor": "#EBF0F8",
           "ticks": "",
           "title": {
            "standoff": 15
           },
           "zerolinecolor": "#EBF0F8",
           "zerolinewidth": 2
          },
          "yaxis": {
           "automargin": true,
           "gridcolor": "#EBF0F8",
           "linecolor": "#EBF0F8",
           "ticks": "",
           "title": {
            "standoff": 15
           },
           "zerolinecolor": "#EBF0F8",
           "zerolinewidth": 2
          }
         }
        },
        "title": {
         "text": "PSI over Time by Variable"
        },
        "xaxis": {
         "title": {
          "text": "Period"
         }
        },
        "yaxis": {
         "title": {
          "text": "Population Stability Index"
         }
        }
       }
      }
     },
     "metadata": {},
     "output_type": "display_data"
    }
   ],
"source": [
    "evaluator.plot_psi(reference_last_period=True)"
]
  },
  {
   "cell_type": "code",
   "execution_count": null,
   "metadata": {},
   "outputs": [],
   "source": [
    "evaluator.plot_ks()"
   ]
  },
  {
   "cell_type": "code",
   "execution_count": null,
   "metadata": {},
   "outputs": [],
   "source": [
    "evaluator.plot_group_radar()"
   ]
  },
  {
   "cell_type": "code",
   "execution_count": null,
   "metadata": {},
   "outputs": [],
   "source": [
    "evaluator.plot_decile_ks()"
   ]
  },
  {
   "cell_type": "markdown",
   "metadata": {},
   "source": [
    "### Teste de Stress"
   ]
  },
  {
   "cell_type": "code",
   "execution_count": null,
   "metadata": {},
   "outputs": [],
   "source": [
    "gen = SyntheticVintageGenerator(id_cols=['id'], date_cols=['date']).fit(train)\n",
    "evaluator.synthetic_gen = gen\n",
    "stress = evaluator.run_stress_test()\n",
    "stress['metrics']"
   ]
  }
 ],
 "metadata": {
  "kernelspec": {
   "display_name": "ENV_STONE",
   "language": "python",
   "name": "python3"
  },
  "language_info": {
   "codemirror_mode": {
    "name": "ipython",
    "version": 3
   },
   "file_extension": ".py",
   "mimetype": "text/x-python",
   "name": "python",
   "nbconvert_exporter": "python",
   "pygments_lexer": "ipython3",
   "version": "3.10.16"
  }
 },
 "nbformat": 4,
 "nbformat_minor": 5
}
