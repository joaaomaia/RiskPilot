{
 "cells": [
  {
   "cell_type": "markdown",
   "metadata": {},
   "source": [
    "# Binary Performance Evaluator – Demo Completo"
   ]
  },
  {
   "cell_type": "markdown",
   "metadata": {},
   "source": [
    "Neste exemplo vamos treinar um classificador simples e explorar várias funcionalidades do `BinaryPerformanceEvaluator`. Usaremos dados sintéticos."
   ]
  },
  {
   "cell_type": "code",
   "execution_count": 40,
   "metadata": {},
   "outputs": [],
   "source": [
    "import numpy as np\n",
    "import pandas as pd\n",
    "from sklearn.model_selection import train_test_split\n",
    "from sklearn.linear_model import LogisticRegression\n",
    "from sklearn.tree import DecisionTreeClassifier\n",
    "from xgboost import XGBClassifier\n",
    "from lightgbm import LGBMClassifier\n",
    "from riskpilot.evaluation import BinaryPerformanceEvaluator\n",
    "from riskpilot.synthetic import LookAhead\n",
    "\n",
    "from sklearn.utils.class_weight import compute_sample_weight"
   ]
  },
  {
   "cell_type": "code",
   "execution_count": 41,
   "metadata": {},
   "outputs": [],
   "source": [
    "# --------------------------------------------------\n",
    "# 1. CONFIGURAÇÕES\n",
    "# --------------------------------------------------\n",
    "FILE_PATH = \"../../datasets/lending_club/accepted_2007_to_2018Q4.csv\"\n",
    "NROWS     = 10_000\n",
    "TARGET_RAW = \"loan_status\"          # coluna original\n",
    "TARGET     = \"target\"               # nome final binário\n",
    "\n",
    "# --------------------------------------------------\n",
    "# 2. LEITURA E CONVERSÃO DE TIPOS MISTOS\n",
    "# --------------------------------------------------\n",
    "def read_and_clean_csv_mixed_types(path, nrows=None, verbose=True):\n",
    "    df = pd.read_csv(path, low_memory=False, nrows=nrows)\n",
    "\n",
    "    # identificar colunas com tipos mistos\n",
    "    for col in df.columns:\n",
    "        types = df[col].dropna().map(type).value_counts()\n",
    "        if len(types) > 1 and verbose:\n",
    "            print(f\"[!] '{col}' com múltiplos tipos: {dict(types)}\")\n",
    "\n",
    "        # tentativa de conversão automática p/ numérico\n",
    "        if len(types) > 1:\n",
    "            try:\n",
    "                df[col] = pd.to_numeric(df[col], errors=\"coerce\")\n",
    "            except Exception:\n",
    "                df[col] = df[col].astype(str)\n",
    "\n",
    "    return df\n",
    "\n",
    "df = read_and_clean_csv_mixed_types(FILE_PATH, nrows=NROWS)\n",
    "\n",
    "# drop de colunas não usadas (caso existam)\n",
    "df.drop(columns=[c for c in [\"member_id\"] if c in df.columns], inplace=True)\n",
    "\n",
    "# --------------------------------------------------\n",
    "# 3. TARGET BINÁRIO\n",
    "# --------------------------------------------------\n",
    "bad_status = [\"Charged Off\", \"Default\", \"Late (31-120 days)\"]\n",
    "df[TARGET] = df[TARGET_RAW].isin(bad_status).astype(int)\n",
    "\n",
    "# --------------------------------------------------\n",
    "# 4. DATA E ID\n",
    "# --------------------------------------------------\n",
    "#df[\"date\"] = pd.to_datetime(df[\"issue_d\"], format=\"%b-%Y\", errors=\"coerce\")\n",
    "\n",
    "df[\"date\"] = pd.to_datetime('202201', format=\"%Y%M\", errors=\"coerce\")\n",
    "\n",
    "df.drop(columns=[\"issue_d\", TARGET_RAW], inplace=True)\n",
    "\n",
    "df.reset_index(drop=False, inplace=True)   # index ➜ nova coluna\n",
    "\n",
    "# --------------------------------------------------\n",
    "# 5. FEATURES NUMÉRICAS + IMPUTAÇÃO\n",
    "# --------------------------------------------------\n",
    "numeric_cols = df.select_dtypes(include=[np.number]).columns.drop([\"id\", TARGET])\n",
    "na_threshold = 0.30\n",
    "valid_cols = numeric_cols[df[numeric_cols].isna().mean() < na_threshold].tolist()\n",
    "valid_cols.remove('index')\n",
    "\n",
    "df[valid_cols] = df[valid_cols].fillna(df[valid_cols].median())\n",
    "\n",
    "# --------------------------------------------------\n",
    "# 6. DATAFRAME FINAL\n",
    "# --------------------------------------------------\n",
    "\n",
    "FEATURES = [\n",
    "    \"funded_amnt_inv\",\n",
    "    \"annual_inc\",\n",
    "    \"dti\",\n",
    "    \"fico_range_high\",\n",
    "    \"out_prncp_inv\",\n",
    "    \"total_rec_prncp\",\n",
    "    \"last_pymnt_amnt\",\n",
    "    \"last_fico_range_low\",\n",
    "    \"acc_open_past_24mths\",\n",
    "    \"avg_cur_bal\",\n",
    "    \"bc_open_to_buy\",\n",
    "    \"mo_sin_old_rev_tl_op\",\n",
    "    \"mo_sin_rcnt_rev_tl_op\",\n",
    "    \"mo_sin_rcnt_tl\",\n",
    "    \"mort_acc\",\n",
    "    \"mths_since_recent_bc\",\n",
    "    \"mths_since_recent_inq\",\n",
    "    \"num_tl_op_past_12m\",\n",
    "    \"percent_bc_gt_75\",\n",
    "    \"total_bc_limit\",\n",
    "    #\"sub_grade\"\n",
    "]\n",
    "\n",
    "ID_COLS = ['id']\n",
    "\n",
    "IGNORE_COLS = ['member_id']\n",
    "\n",
    "DATE_COLS = ['date']\n",
    "\n",
    "# --------------------------------------------------\n",
    "# Preparar dataset base\n",
    "# --------------------------------------------------\n",
    "df_model = df[ID_COLS+DATE_COLS+[TARGET] + FEATURES].dropna().copy()"
   ]
  },
  {
   "cell_type": "code",
   "execution_count": 42,
   "id": "771f86e2",
   "metadata": {},
   "outputs": [
    {
     "data": {
      "text/plain": [
       "['id']"
      ]
     },
     "execution_count": 42,
     "metadata": {},
     "output_type": "execute_result"
    }
   ],
   "source": [
    "ID_COLS"
   ]
  },
  {
   "cell_type": "code",
   "execution_count": null,
   "id": "6c75e7da",
   "metadata": {},
   "outputs": [
    {
     "data": {
      "text/plain": [
       "['yyyymm_datetime']"
      ]
     },
     "execution_count": 43,
     "metadata": {},
     "output_type": "execute_result"
    }
   ],
   "source": [
    "# df_model['date'] = pd.to_datetime(df_model['date'], format='%yyyy%mm')\n",
    "# Cria a coluna yyyymm como inteiro\n",
    "#df_model['yyyymm_int'] = df_model['date'].dt.year * 100 + df_model['date'].dt.month\n",
    "\n",
    "\n",
    "df_model['yyyymm_datetime'] = df_model['date'].dt.to_period('M').dt.to_timestamp()\n",
    "DATE_COLS = ['yyyymm_datetime']\n",
    "DATE_COLS"
   ]
  },
  {
   "cell_type": "code",
   "execution_count": 44,
   "id": "ab7ee715",
   "metadata": {},
   "outputs": [],
   "source": [
    "import numpy as np\n",
    "from riskpilot.synthetic import LookAhead\n",
    "\n",
    "gen = LookAhead(\n",
    "    id_cols=ID_COLS,\n",
    "    date_cols=DATE_COLS\n",
    ").fit(df_model)"
   ]
  },
  {
   "cell_type": "code",
   "execution_count": 45,
   "id": "d61dadc3",
   "metadata": {},
   "outputs": [
    {
     "name": "stdout",
     "output_type": "stream",
     "text": [
      "2022-01-01 00:00:00\n",
      "2022-01-01 00:00:00\n"
     ]
    }
   ],
   "source": [
    "print(df_model['yyyymm_datetime'].min())\n",
    "print(df_model['yyyymm_datetime'].max())"
   ]
  },
  {
   "cell_type": "code",
   "execution_count": 46,
   "id": "bdcb5d64",
   "metadata": {},
   "outputs": [
    {
     "name": "stdout",
     "output_type": "stream",
     "text": [
      "2022-01-01 00:00:00\n",
      "2024-12-01 00:00:00\n"
     ]
    },
    {
     "data": {
      "text/html": [
       "<div>\n",
       "<style scoped>\n",
       "    .dataframe tbody tr th:only-of-type {\n",
       "        vertical-align: middle;\n",
       "    }\n",
       "\n",
       "    .dataframe tbody tr th {\n",
       "        vertical-align: top;\n",
       "    }\n",
       "\n",
       "    .dataframe thead th {\n",
       "        text-align: right;\n",
       "    }\n",
       "</style>\n",
       "<table border=\"1\" class=\"dataframe\">\n",
       "  <thead>\n",
       "    <tr style=\"text-align: right;\">\n",
       "      <th></th>\n",
       "      <th>id</th>\n",
       "      <th>yyyymm_datetime</th>\n",
       "      <th>date</th>\n",
       "      <th>target</th>\n",
       "      <th>funded_amnt_inv</th>\n",
       "      <th>annual_inc</th>\n",
       "      <th>dti</th>\n",
       "      <th>fico_range_high</th>\n",
       "      <th>out_prncp_inv</th>\n",
       "      <th>total_rec_prncp</th>\n",
       "      <th>...</th>\n",
       "      <th>mo_sin_old_rev_tl_op</th>\n",
       "      <th>mo_sin_rcnt_rev_tl_op</th>\n",
       "      <th>mo_sin_rcnt_tl</th>\n",
       "      <th>mort_acc</th>\n",
       "      <th>mths_since_recent_bc</th>\n",
       "      <th>mths_since_recent_inq</th>\n",
       "      <th>num_tl_op_past_12m</th>\n",
       "      <th>percent_bc_gt_75</th>\n",
       "      <th>total_bc_limit</th>\n",
       "      <th>yyyymm_int</th>\n",
       "    </tr>\n",
       "  </thead>\n",
       "  <tbody>\n",
       "    <tr>\n",
       "      <th>0</th>\n",
       "      <td>f126cf0c708e43e8a48f4a9685a594bd</td>\n",
       "      <td>2022-01-01</td>\n",
       "      <td>2022-01-01 00:01:00</td>\n",
       "      <td>0</td>\n",
       "      <td>20000.0</td>\n",
       "      <td>85000.0</td>\n",
       "      <td>25.427224</td>\n",
       "      <td>734.0</td>\n",
       "      <td>0.000000</td>\n",
       "      <td>8873.222445</td>\n",
       "      <td>...</td>\n",
       "      <td>146.000000</td>\n",
       "      <td>4.0</td>\n",
       "      <td>6.0</td>\n",
       "      <td>1</td>\n",
       "      <td>3.0</td>\n",
       "      <td>8.0</td>\n",
       "      <td>3.0</td>\n",
       "      <td>60.000000</td>\n",
       "      <td>43416.252730</td>\n",
       "      <td>1</td>\n",
       "    </tr>\n",
       "    <tr>\n",
       "      <th>1</th>\n",
       "      <td>9e7a6effda354d7cb5a2d0ac62db83d4</td>\n",
       "      <td>2022-01-01</td>\n",
       "      <td>2022-01-01 00:01:00</td>\n",
       "      <td>0</td>\n",
       "      <td>19200.0</td>\n",
       "      <td>38000.0</td>\n",
       "      <td>18.757780</td>\n",
       "      <td>709.0</td>\n",
       "      <td>6991.533308</td>\n",
       "      <td>15386.617673</td>\n",
       "      <td>...</td>\n",
       "      <td>154.737669</td>\n",
       "      <td>6.0</td>\n",
       "      <td>5.0</td>\n",
       "      <td>0</td>\n",
       "      <td>7.0</td>\n",
       "      <td>1.0</td>\n",
       "      <td>2.0</td>\n",
       "      <td>0.000000</td>\n",
       "      <td>12868.865004</td>\n",
       "      <td>1</td>\n",
       "    </tr>\n",
       "    <tr>\n",
       "      <th>2</th>\n",
       "      <td>a3aadc6f1f654fd6af8abd0e945b9862</td>\n",
       "      <td>2022-01-01</td>\n",
       "      <td>2022-01-01 00:01:00</td>\n",
       "      <td>0</td>\n",
       "      <td>28000.0</td>\n",
       "      <td>57000.0</td>\n",
       "      <td>10.840848</td>\n",
       "      <td>729.0</td>\n",
       "      <td>0.000000</td>\n",
       "      <td>24000.000000</td>\n",
       "      <td>...</td>\n",
       "      <td>31.553253</td>\n",
       "      <td>10.0</td>\n",
       "      <td>3.0</td>\n",
       "      <td>1</td>\n",
       "      <td>22.0</td>\n",
       "      <td>2.0</td>\n",
       "      <td>2.0</td>\n",
       "      <td>58.460914</td>\n",
       "      <td>8197.341187</td>\n",
       "      <td>1</td>\n",
       "    </tr>\n",
       "    <tr>\n",
       "      <th>3</th>\n",
       "      <td>3723e8cf6458470292bf84492f70341e</td>\n",
       "      <td>2022-01-01</td>\n",
       "      <td>2022-01-01 00:01:00</td>\n",
       "      <td>1</td>\n",
       "      <td>24000.0</td>\n",
       "      <td>80000.0</td>\n",
       "      <td>34.920760</td>\n",
       "      <td>719.0</td>\n",
       "      <td>0.000000</td>\n",
       "      <td>7200.000000</td>\n",
       "      <td>...</td>\n",
       "      <td>108.000000</td>\n",
       "      <td>9.0</td>\n",
       "      <td>1.0</td>\n",
       "      <td>1</td>\n",
       "      <td>7.0</td>\n",
       "      <td>0.0</td>\n",
       "      <td>5.0</td>\n",
       "      <td>80.000000</td>\n",
       "      <td>17800.000000</td>\n",
       "      <td>1</td>\n",
       "    </tr>\n",
       "    <tr>\n",
       "      <th>4</th>\n",
       "      <td>da3eff1030fa42ee9db0be2fe131423d</td>\n",
       "      <td>2022-01-01</td>\n",
       "      <td>2022-01-01 00:01:00</td>\n",
       "      <td>0</td>\n",
       "      <td>6000.0</td>\n",
       "      <td>70000.0</td>\n",
       "      <td>8.363058</td>\n",
       "      <td>699.0</td>\n",
       "      <td>0.000000</td>\n",
       "      <td>7677.174808</td>\n",
       "      <td>...</td>\n",
       "      <td>7.890073</td>\n",
       "      <td>7.0</td>\n",
       "      <td>2.0</td>\n",
       "      <td>0</td>\n",
       "      <td>20.0</td>\n",
       "      <td>3.0</td>\n",
       "      <td>5.0</td>\n",
       "      <td>0.000000</td>\n",
       "      <td>28.131561</td>\n",
       "      <td>1</td>\n",
       "    </tr>\n",
       "  </tbody>\n",
       "</table>\n",
       "<p>5 rows × 25 columns</p>\n",
       "</div>"
      ],
      "text/plain": [
       "                                 id yyyymm_datetime                 date  \\\n",
       "0  f126cf0c708e43e8a48f4a9685a594bd      2022-01-01  2022-01-01 00:01:00   \n",
       "1  9e7a6effda354d7cb5a2d0ac62db83d4      2022-01-01  2022-01-01 00:01:00   \n",
       "2  a3aadc6f1f654fd6af8abd0e945b9862      2022-01-01  2022-01-01 00:01:00   \n",
       "3  3723e8cf6458470292bf84492f70341e      2022-01-01  2022-01-01 00:01:00   \n",
       "4  da3eff1030fa42ee9db0be2fe131423d      2022-01-01  2022-01-01 00:01:00   \n",
       "\n",
       "   target  funded_amnt_inv  annual_inc        dti  fico_range_high  \\\n",
       "0       0          20000.0     85000.0  25.427224            734.0   \n",
       "1       0          19200.0     38000.0  18.757780            709.0   \n",
       "2       0          28000.0     57000.0  10.840848            729.0   \n",
       "3       1          24000.0     80000.0  34.920760            719.0   \n",
       "4       0           6000.0     70000.0   8.363058            699.0   \n",
       "\n",
       "   out_prncp_inv  total_rec_prncp  ...  mo_sin_old_rev_tl_op  \\\n",
       "0       0.000000      8873.222445  ...            146.000000   \n",
       "1    6991.533308     15386.617673  ...            154.737669   \n",
       "2       0.000000     24000.000000  ...             31.553253   \n",
       "3       0.000000      7200.000000  ...            108.000000   \n",
       "4       0.000000      7677.174808  ...              7.890073   \n",
       "\n",
       "   mo_sin_rcnt_rev_tl_op  mo_sin_rcnt_tl  mort_acc  mths_since_recent_bc  \\\n",
       "0                    4.0             6.0         1                   3.0   \n",
       "1                    6.0             5.0         0                   7.0   \n",
       "2                   10.0             3.0         1                  22.0   \n",
       "3                    9.0             1.0         1                   7.0   \n",
       "4                    7.0             2.0         0                  20.0   \n",
       "\n",
       "   mths_since_recent_inq  num_tl_op_past_12m  percent_bc_gt_75  \\\n",
       "0                    8.0                 3.0         60.000000   \n",
       "1                    1.0                 2.0          0.000000   \n",
       "2                    2.0                 2.0         58.460914   \n",
       "3                    0.0                 5.0         80.000000   \n",
       "4                    3.0                 5.0          0.000000   \n",
       "\n",
       "   total_bc_limit  yyyymm_int  \n",
       "0    43416.252730           1  \n",
       "1    12868.865004           1  \n",
       "2     8197.341187           1  \n",
       "3    17800.000000           1  \n",
       "4       28.131561           1  \n",
       "\n",
       "[5 rows x 25 columns]"
      ]
     },
     "metadata": {},
     "output_type": "display_data"
    }
   ],
   "source": [
    "synthetic = gen.generate(\n",
    "    n_periods=36,\n",
    "    freq='ME',\n",
    "    scenario='stress')\n",
    "print(synthetic['yyyymm_datetime'].min())\n",
    "print(synthetic['yyyymm_datetime'].max())\n",
    "\n",
    "display(synthetic.head())"
   ]
  },
  {
   "cell_type": "code",
   "execution_count": 33,
   "id": "db7e97e3",
   "metadata": {},
   "outputs": [
    {
     "name": "stdout",
     "output_type": "stream",
     "text": [
      "2025-01-31 00:01:00\n",
      "2025-02-28 00:01:00\n"
     ]
    },
    {
     "data": {
      "text/html": [
       "<div>\n",
       "<style scoped>\n",
       "    .dataframe tbody tr th:only-of-type {\n",
       "        vertical-align: middle;\n",
       "    }\n",
       "\n",
       "    .dataframe tbody tr th {\n",
       "        vertical-align: top;\n",
       "    }\n",
       "\n",
       "    .dataframe thead th {\n",
       "        text-align: right;\n",
       "    }\n",
       "</style>\n",
       "<table border=\"1\" class=\"dataframe\">\n",
       "  <thead>\n",
       "    <tr style=\"text-align: right;\">\n",
       "      <th></th>\n",
       "      <th>id</th>\n",
       "      <th>date</th>\n",
       "      <th>target</th>\n",
       "      <th>funded_amnt_inv</th>\n",
       "      <th>annual_inc</th>\n",
       "      <th>dti</th>\n",
       "      <th>fico_range_high</th>\n",
       "      <th>out_prncp_inv</th>\n",
       "      <th>total_rec_prncp</th>\n",
       "      <th>last_pymnt_amnt</th>\n",
       "      <th>...</th>\n",
       "      <th>bc_open_to_buy</th>\n",
       "      <th>mo_sin_old_rev_tl_op</th>\n",
       "      <th>mo_sin_rcnt_rev_tl_op</th>\n",
       "      <th>mo_sin_rcnt_tl</th>\n",
       "      <th>mort_acc</th>\n",
       "      <th>mths_since_recent_bc</th>\n",
       "      <th>mths_since_recent_inq</th>\n",
       "      <th>num_tl_op_past_12m</th>\n",
       "      <th>percent_bc_gt_75</th>\n",
       "      <th>total_bc_limit</th>\n",
       "    </tr>\n",
       "  </thead>\n",
       "  <tbody>\n",
       "    <tr>\n",
       "      <th>0</th>\n",
       "      <td>58d57219719a4e46a4aaec71d95488c2</td>\n",
       "      <td>2025-01-31 00:01:00</td>\n",
       "      <td>0</td>\n",
       "      <td>3305.474703</td>\n",
       "      <td>42849.519590</td>\n",
       "      <td>34.999199</td>\n",
       "      <td>664.0</td>\n",
       "      <td>0.000000</td>\n",
       "      <td>5000.00000</td>\n",
       "      <td>354.909263</td>\n",
       "      <td>...</td>\n",
       "      <td>0.000000</td>\n",
       "      <td>156.000000</td>\n",
       "      <td>15.982875</td>\n",
       "      <td>2.0</td>\n",
       "      <td>0</td>\n",
       "      <td>62.197912</td>\n",
       "      <td>0.000000</td>\n",
       "      <td>2.0</td>\n",
       "      <td>100.0</td>\n",
       "      <td>1496.200098</td>\n",
       "    </tr>\n",
       "    <tr>\n",
       "      <th>1</th>\n",
       "      <td>2731efc54db94070a1a149822735f142</td>\n",
       "      <td>2025-01-31 00:01:00</td>\n",
       "      <td>0</td>\n",
       "      <td>15000.000000</td>\n",
       "      <td>30011.484177</td>\n",
       "      <td>34.735067</td>\n",
       "      <td>679.0</td>\n",
       "      <td>0.000000</td>\n",
       "      <td>15000.00000</td>\n",
       "      <td>151.888972</td>\n",
       "      <td>...</td>\n",
       "      <td>503.008925</td>\n",
       "      <td>194.082392</td>\n",
       "      <td>20.000000</td>\n",
       "      <td>6.0</td>\n",
       "      <td>0</td>\n",
       "      <td>25.000000</td>\n",
       "      <td>2.000000</td>\n",
       "      <td>1.0</td>\n",
       "      <td>100.0</td>\n",
       "      <td>1000.000000</td>\n",
       "    </tr>\n",
       "    <tr>\n",
       "      <th>2</th>\n",
       "      <td>8a6868d7576749bd86bcae2524daed34</td>\n",
       "      <td>2025-01-31 00:01:00</td>\n",
       "      <td>1</td>\n",
       "      <td>6000.000000</td>\n",
       "      <td>36000.000000</td>\n",
       "      <td>12.067352</td>\n",
       "      <td>664.0</td>\n",
       "      <td>0.000000</td>\n",
       "      <td>1622.26629</td>\n",
       "      <td>153.767846</td>\n",
       "      <td>...</td>\n",
       "      <td>234.187713</td>\n",
       "      <td>123.000000</td>\n",
       "      <td>0.000000</td>\n",
       "      <td>1.0</td>\n",
       "      <td>0</td>\n",
       "      <td>13.000000</td>\n",
       "      <td>12.000000</td>\n",
       "      <td>2.0</td>\n",
       "      <td>100.0</td>\n",
       "      <td>7700.000000</td>\n",
       "    </tr>\n",
       "    <tr>\n",
       "      <th>3</th>\n",
       "      <td>28d9a69ba81d4483b7f5bc2c49ef4427</td>\n",
       "      <td>2025-01-31 00:01:00</td>\n",
       "      <td>0</td>\n",
       "      <td>15927.811215</td>\n",
       "      <td>120000.000000</td>\n",
       "      <td>14.563062</td>\n",
       "      <td>784.0</td>\n",
       "      <td>0.000000</td>\n",
       "      <td>12000.00000</td>\n",
       "      <td>6967.254844</td>\n",
       "      <td>...</td>\n",
       "      <td>14758.713874</td>\n",
       "      <td>230.856003</td>\n",
       "      <td>2.000000</td>\n",
       "      <td>3.0</td>\n",
       "      <td>4</td>\n",
       "      <td>20.000000</td>\n",
       "      <td>3.000000</td>\n",
       "      <td>2.0</td>\n",
       "      <td>33.3</td>\n",
       "      <td>19365.958360</td>\n",
       "    </tr>\n",
       "    <tr>\n",
       "      <th>4</th>\n",
       "      <td>26fbaac3e6284e2599ab16b9e05f099b</td>\n",
       "      <td>2025-01-31 00:01:00</td>\n",
       "      <td>0</td>\n",
       "      <td>16802.990713</td>\n",
       "      <td>67299.200279</td>\n",
       "      <td>12.360282</td>\n",
       "      <td>669.0</td>\n",
       "      <td>7290.280399</td>\n",
       "      <td>9000.00000</td>\n",
       "      <td>526.815823</td>\n",
       "      <td>...</td>\n",
       "      <td>743.632365</td>\n",
       "      <td>104.000000</td>\n",
       "      <td>5.000000</td>\n",
       "      <td>5.0</td>\n",
       "      <td>0</td>\n",
       "      <td>5.000000</td>\n",
       "      <td>20.397743</td>\n",
       "      <td>1.0</td>\n",
       "      <td>33.3</td>\n",
       "      <td>10092.397199</td>\n",
       "    </tr>\n",
       "  </tbody>\n",
       "</table>\n",
       "<p>5 rows × 23 columns</p>\n",
       "</div>"
      ],
      "text/plain": [
       "                                 id                date  target  \\\n",
       "0  58d57219719a4e46a4aaec71d95488c2 2025-01-31 00:01:00       0   \n",
       "1  2731efc54db94070a1a149822735f142 2025-01-31 00:01:00       0   \n",
       "2  8a6868d7576749bd86bcae2524daed34 2025-01-31 00:01:00       1   \n",
       "3  28d9a69ba81d4483b7f5bc2c49ef4427 2025-01-31 00:01:00       0   \n",
       "4  26fbaac3e6284e2599ab16b9e05f099b 2025-01-31 00:01:00       0   \n",
       "\n",
       "   funded_amnt_inv     annual_inc        dti  fico_range_high  out_prncp_inv  \\\n",
       "0      3305.474703   42849.519590  34.999199            664.0       0.000000   \n",
       "1     15000.000000   30011.484177  34.735067            679.0       0.000000   \n",
       "2      6000.000000   36000.000000  12.067352            664.0       0.000000   \n",
       "3     15927.811215  120000.000000  14.563062            784.0       0.000000   \n",
       "4     16802.990713   67299.200279  12.360282            669.0    7290.280399   \n",
       "\n",
       "   total_rec_prncp  last_pymnt_amnt  ...  bc_open_to_buy  \\\n",
       "0       5000.00000       354.909263  ...        0.000000   \n",
       "1      15000.00000       151.888972  ...      503.008925   \n",
       "2       1622.26629       153.767846  ...      234.187713   \n",
       "3      12000.00000      6967.254844  ...    14758.713874   \n",
       "4       9000.00000       526.815823  ...      743.632365   \n",
       "\n",
       "   mo_sin_old_rev_tl_op  mo_sin_rcnt_rev_tl_op  mo_sin_rcnt_tl  mort_acc  \\\n",
       "0            156.000000              15.982875             2.0         0   \n",
       "1            194.082392              20.000000             6.0         0   \n",
       "2            123.000000               0.000000             1.0         0   \n",
       "3            230.856003               2.000000             3.0         4   \n",
       "4            104.000000               5.000000             5.0         0   \n",
       "\n",
       "   mths_since_recent_bc  mths_since_recent_inq  num_tl_op_past_12m  \\\n",
       "0             62.197912               0.000000                 2.0   \n",
       "1             25.000000               2.000000                 1.0   \n",
       "2             13.000000              12.000000                 2.0   \n",
       "3             20.000000               3.000000                 2.0   \n",
       "4              5.000000              20.397743                 1.0   \n",
       "\n",
       "   percent_bc_gt_75  total_bc_limit  \n",
       "0             100.0     1496.200098  \n",
       "1             100.0     1000.000000  \n",
       "2             100.0     7700.000000  \n",
       "3              33.3    19365.958360  \n",
       "4              33.3    10092.397199  \n",
       "\n",
       "[5 rows x 23 columns]"
      ]
     },
     "metadata": {},
     "output_type": "display_data"
    }
   ],
   "source": [
    "custom_noise = {\n",
    "    'utilifico_range_highzation': {'func': np.random.exponential, 'kwargs': {'scale':50}},\n",
    "}\n",
    "custom_gen = LookAhead(\n",
    "    id_cols=['id'],\n",
    "    date_cols=['date'],\n",
    "    custom_noise=custom_noise).fit(df_model)\n",
    "\n",
    "custom = custom_gen.generate(\n",
    "    n_periods=2,\n",
    "    freq='ME',\n",
    "    scenario='stress'\n",
    "    )\n",
    "\n",
    "custom.head()\n",
    "print(custom['date'].min())\n",
    "print(custom['date'].max())\n",
    "\n",
    "display(custom.head())\n",
    "\n",
    "\n"
   ]
  },
  {
   "cell_type": "code",
   "execution_count": 34,
   "id": "1d2af027",
   "metadata": {},
   "outputs": [],
   "source": [
    "df_model = pd.concat([df_model, synthetic], axis=0)"
   ]
  },
  {
   "cell_type": "code",
   "execution_count": 35,
   "id": "dc15d83d",
   "metadata": {},
   "outputs": [],
   "source": [
    "# --------------------------------------------------\n",
    "# 2. Split treino / teste\n",
    "# --------------------------------------------------\n",
    "train_idx, test_idx = train_test_split(\n",
    "    df_model.index,\n",
    "    test_size=0.30,\n",
    "    stratify=df_model[TARGET],\n",
    "    random_state=42,\n",
    ")\n",
    "\n",
    "# Criar df_train e df_test primeiro\n",
    "df_train = df_model.loc[train_idx].copy()\n",
    "df_test  = df_model.loc[test_idx].copy()\n",
    "\n",
    "# Depois extrair X e y a partir dos DataFrames\n",
    "X_train, y_train = df_train[FEATURES], df_train[TARGET]\n",
    "X_test , y_test  = df_test[FEATURES] , df_test[TARGET]"
   ]
  },
  {
   "cell_type": "code",
   "execution_count": 36,
   "id": "0f0a0eec",
   "metadata": {},
   "outputs": [
    {
     "name": "stdout",
     "output_type": "stream",
     "text": [
      "Colunas 'object' restantes em X_train: Series([], dtype: object)\n",
      "Colunas 'object' restantes em df_test: Series([], dtype: object)\n"
     ]
    }
   ],
   "source": [
    "# --------------------------------------------------\n",
    "# Garantir cópias independentes dos conjuntos de treino e teste\n",
    "# --------------------------------------------------\n",
    "X_train = df_train[FEATURES].copy()\n",
    "X_test = df_test[FEATURES].copy()\n",
    "\n",
    "# --------------------------------------------------\n",
    "# Converter colunas categóricas (tipo object) para 'category' em X e df\n",
    "# --------------------------------------------------\n",
    "def convert_object_to_category(df):\n",
    "    obj_cols = df.select_dtypes(include='object').columns\n",
    "    df[obj_cols] = df[obj_cols].astype('category')\n",
    "    return df\n",
    "\n",
    "# Aplicar nos conjuntos usados no modelo\n",
    "X_train = convert_object_to_category(X_train)\n",
    "X_test = convert_object_to_category(X_test)\n",
    "\n",
    "# Garantir que df_train e df_test também estejam com tipos consistentes\n",
    "df_train = convert_object_to_category(df_train)\n",
    "df_test = convert_object_to_category(df_test)\n",
    "\n",
    "# --------------------------------------------------\n",
    "# Verificações finais\n",
    "# --------------------------------------------------\n",
    "print(\"Colunas 'object' restantes em X_train:\", X_train.dtypes[X_train.dtypes == 'object'])\n",
    "print(\"Colunas 'object' restantes em df_test:\", df_test.dtypes[df_test.dtypes == 'object'])\n"
   ]
  },
  {
   "cell_type": "code",
   "execution_count": 37,
   "id": "54283e46",
   "metadata": {},
   "outputs": [],
   "source": [
    "num_cols = df_train.select_dtypes(include=[float, int]).columns.tolist()\n",
    "\n",
    "for col in ['index', 'id', TARGET]:\n",
    "    try:\n",
    "        num_cols.remove(col)\n",
    "    except:\n",
    "        pass   "
   ]
  },
  {
   "cell_type": "code",
   "execution_count": 38,
   "id": "c955d81b",
   "metadata": {},
   "outputs": [
    {
     "name": "stderr",
     "output_type": "stream",
     "text": [
      "INFO: Ignoring columns (no scaling): ['target']\n",
      "WARNING: Ignoring non-numeric columns: ['id', 'target', 'date']\n"
     ]
    },
    {
     "name": "stdout",
     "output_type": "stream",
     "text": [
      "\n",
      "Resumo das decisões por feature:\n"
     ]
    },
    {
     "data": {
      "text/html": [
       "<div>\n",
       "<style scoped>\n",
       "    .dataframe tbody tr th:only-of-type {\n",
       "        vertical-align: middle;\n",
       "    }\n",
       "\n",
       "    .dataframe tbody tr th {\n",
       "        vertical-align: top;\n",
       "    }\n",
       "\n",
       "    .dataframe thead th {\n",
       "        text-align: right;\n",
       "    }\n",
       "</style>\n",
       "<table border=\"1\" class=\"dataframe\">\n",
       "  <thead>\n",
       "    <tr style=\"text-align: right;\">\n",
       "      <th></th>\n",
       "      <th>chosen_scaler</th>\n",
       "      <th>validation_stats</th>\n",
       "      <th>ignored</th>\n",
       "      <th>candidates_tried</th>\n",
       "      <th>reason</th>\n",
       "    </tr>\n",
       "  </thead>\n",
       "  <tbody>\n",
       "    <tr>\n",
       "      <th>funded_amnt_inv</th>\n",
       "      <td>None</td>\n",
       "      <td>{'post_std': nan, 'post_iqr': nan, 'post_n_uni...</td>\n",
       "      <td>[]</td>\n",
       "      <td>[PowerTransformer, QuantileTransformer, Robust...</td>\n",
       "      <td>all_rejected</td>\n",
       "    </tr>\n",
       "    <tr>\n",
       "      <th>annual_inc</th>\n",
       "      <td>PowerTransformer</td>\n",
       "      <td>{'post_std': 0.9999999999999999, 'post_iqr': 1...</td>\n",
       "      <td>[]</td>\n",
       "      <td>[PowerTransformer]</td>\n",
       "      <td>stats|skew|kurt</td>\n",
       "    </tr>\n",
       "    <tr>\n",
       "      <th>dti</th>\n",
       "      <td>QuantileTransformer</td>\n",
       "      <td>{'post_std': 0.9976154944313745, 'post_iqr': 1...</td>\n",
       "      <td>[]</td>\n",
       "      <td>[PowerTransformer, QuantileTransformer]</td>\n",
       "      <td>stats|skew|kurt</td>\n",
       "    </tr>\n",
       "    <tr>\n",
       "      <th>fico_range_high</th>\n",
       "      <td>None</td>\n",
       "      <td>{'post_std': nan, 'post_iqr': nan, 'post_n_uni...</td>\n",
       "      <td>[]</td>\n",
       "      <td>[PowerTransformer, QuantileTransformer, Robust...</td>\n",
       "      <td>all_rejected</td>\n",
       "    </tr>\n",
       "    <tr>\n",
       "      <th>out_prncp_inv</th>\n",
       "      <td>None</td>\n",
       "      <td>{'post_std': nan, 'post_iqr': nan, 'post_n_uni...</td>\n",
       "      <td>[]</td>\n",
       "      <td>[PowerTransformer, QuantileTransformer, Robust...</td>\n",
       "      <td>all_rejected</td>\n",
       "    </tr>\n",
       "    <tr>\n",
       "      <th>total_rec_prncp</th>\n",
       "      <td>None</td>\n",
       "      <td>{'post_std': nan, 'post_iqr': nan, 'post_n_uni...</td>\n",
       "      <td>[]</td>\n",
       "      <td>[PowerTransformer, QuantileTransformer, Robust...</td>\n",
       "      <td>all_rejected</td>\n",
       "    </tr>\n",
       "    <tr>\n",
       "      <th>last_pymnt_amnt</th>\n",
       "      <td>PowerTransformer</td>\n",
       "      <td>{'post_std': 1.0, 'post_iqr': 1.57396239380647...</td>\n",
       "      <td>[]</td>\n",
       "      <td>[PowerTransformer]</td>\n",
       "      <td>stats|skew|kurt</td>\n",
       "    </tr>\n",
       "    <tr>\n",
       "      <th>last_fico_range_low</th>\n",
       "      <td>PowerTransformer</td>\n",
       "      <td>{'post_std': 1.0, 'post_iqr': 1.14477131370102...</td>\n",
       "      <td>[]</td>\n",
       "      <td>[PowerTransformer]</td>\n",
       "      <td>stats|skew|kurt</td>\n",
       "    </tr>\n",
       "    <tr>\n",
       "      <th>acc_open_past_24mths</th>\n",
       "      <td>PowerTransformer</td>\n",
       "      <td>{'post_std': 1.0, 'post_iqr': 1.22882412681832...</td>\n",
       "      <td>[]</td>\n",
       "      <td>[PowerTransformer]</td>\n",
       "      <td>stats|skew|kurt</td>\n",
       "    </tr>\n",
       "    <tr>\n",
       "      <th>avg_cur_bal</th>\n",
       "      <td>PowerTransformer</td>\n",
       "      <td>{'post_std': 1.0000000000000002, 'post_iqr': 1...</td>\n",
       "      <td>[]</td>\n",
       "      <td>[PowerTransformer]</td>\n",
       "      <td>stats|skew|kurt</td>\n",
       "    </tr>\n",
       "    <tr>\n",
       "      <th>bc_open_to_buy</th>\n",
       "      <td>PowerTransformer</td>\n",
       "      <td>{'post_std': 0.9999999999999999, 'post_iqr': 1...</td>\n",
       "      <td>[]</td>\n",
       "      <td>[PowerTransformer]</td>\n",
       "      <td>stats|skew|kurt</td>\n",
       "    </tr>\n",
       "    <tr>\n",
       "      <th>mo_sin_old_rev_tl_op</th>\n",
       "      <td>None</td>\n",
       "      <td>{'post_std': nan, 'post_iqr': nan, 'post_n_uni...</td>\n",
       "      <td>[]</td>\n",
       "      <td>[PowerTransformer, QuantileTransformer, Robust...</td>\n",
       "      <td>all_rejected</td>\n",
       "    </tr>\n",
       "    <tr>\n",
       "      <th>mo_sin_rcnt_rev_tl_op</th>\n",
       "      <td>PowerTransformer</td>\n",
       "      <td>{'post_std': 1.0000000000000002, 'post_iqr': 1...</td>\n",
       "      <td>[]</td>\n",
       "      <td>[PowerTransformer]</td>\n",
       "      <td>stats|skew|kurt</td>\n",
       "    </tr>\n",
       "    <tr>\n",
       "      <th>mo_sin_rcnt_tl</th>\n",
       "      <td>PowerTransformer</td>\n",
       "      <td>{'post_std': 1.0, 'post_iqr': 1.48970469746390...</td>\n",
       "      <td>[]</td>\n",
       "      <td>[PowerTransformer]</td>\n",
       "      <td>stats|skew|kurt</td>\n",
       "    </tr>\n",
       "    <tr>\n",
       "      <th>mort_acc</th>\n",
       "      <td>PowerTransformer</td>\n",
       "      <td>{'post_std': 1.0000000000000002, 'post_iqr': 2...</td>\n",
       "      <td>[]</td>\n",
       "      <td>[PowerTransformer]</td>\n",
       "      <td>stats|skew|kurt</td>\n",
       "    </tr>\n",
       "    <tr>\n",
       "      <th>mths_since_recent_bc</th>\n",
       "      <td>PowerTransformer</td>\n",
       "      <td>{'post_std': 0.9999999999999999, 'post_iqr': 1...</td>\n",
       "      <td>[]</td>\n",
       "      <td>[PowerTransformer]</td>\n",
       "      <td>stats|skew|kurt</td>\n",
       "    </tr>\n",
       "    <tr>\n",
       "      <th>mths_since_recent_inq</th>\n",
       "      <td>None</td>\n",
       "      <td>{'post_std': nan, 'post_iqr': nan, 'post_n_uni...</td>\n",
       "      <td>[]</td>\n",
       "      <td>[PowerTransformer, QuantileTransformer, Robust...</td>\n",
       "      <td>all_rejected</td>\n",
       "    </tr>\n",
       "    <tr>\n",
       "      <th>num_tl_op_past_12m</th>\n",
       "      <td>PowerTransformer</td>\n",
       "      <td>{'post_std': 1.0, 'post_iqr': 1.16770881405409...</td>\n",
       "      <td>[]</td>\n",
       "      <td>[PowerTransformer]</td>\n",
       "      <td>stats|skew|kurt</td>\n",
       "    </tr>\n",
       "    <tr>\n",
       "      <th>percent_bc_gt_75</th>\n",
       "      <td>QuantileTransformer</td>\n",
       "      <td>{'post_std': 3.399076383488967, 'post_iqr': 5....</td>\n",
       "      <td>[]</td>\n",
       "      <td>[PowerTransformer, QuantileTransformer]</td>\n",
       "      <td>stats|skew|kurt</td>\n",
       "    </tr>\n",
       "    <tr>\n",
       "      <th>total_bc_limit</th>\n",
       "      <td>PowerTransformer</td>\n",
       "      <td>{'post_std': 1.0000000000000002, 'post_iqr': 1...</td>\n",
       "      <td>[]</td>\n",
       "      <td>[PowerTransformer]</td>\n",
       "      <td>stats|skew|kurt</td>\n",
       "    </tr>\n",
       "  </tbody>\n",
       "</table>\n",
       "</div>"
      ],
      "text/plain": [
       "                             chosen_scaler  \\\n",
       "funded_amnt_inv                       None   \n",
       "annual_inc                PowerTransformer   \n",
       "dti                    QuantileTransformer   \n",
       "fico_range_high                       None   \n",
       "out_prncp_inv                         None   \n",
       "total_rec_prncp                       None   \n",
       "last_pymnt_amnt           PowerTransformer   \n",
       "last_fico_range_low       PowerTransformer   \n",
       "acc_open_past_24mths      PowerTransformer   \n",
       "avg_cur_bal               PowerTransformer   \n",
       "bc_open_to_buy            PowerTransformer   \n",
       "mo_sin_old_rev_tl_op                  None   \n",
       "mo_sin_rcnt_rev_tl_op     PowerTransformer   \n",
       "mo_sin_rcnt_tl            PowerTransformer   \n",
       "mort_acc                  PowerTransformer   \n",
       "mths_since_recent_bc      PowerTransformer   \n",
       "mths_since_recent_inq                 None   \n",
       "num_tl_op_past_12m        PowerTransformer   \n",
       "percent_bc_gt_75       QuantileTransformer   \n",
       "total_bc_limit            PowerTransformer   \n",
       "\n",
       "                                                        validation_stats  \\\n",
       "funded_amnt_inv        {'post_std': nan, 'post_iqr': nan, 'post_n_uni...   \n",
       "annual_inc             {'post_std': 0.9999999999999999, 'post_iqr': 1...   \n",
       "dti                    {'post_std': 0.9976154944313745, 'post_iqr': 1...   \n",
       "fico_range_high        {'post_std': nan, 'post_iqr': nan, 'post_n_uni...   \n",
       "out_prncp_inv          {'post_std': nan, 'post_iqr': nan, 'post_n_uni...   \n",
       "total_rec_prncp        {'post_std': nan, 'post_iqr': nan, 'post_n_uni...   \n",
       "last_pymnt_amnt        {'post_std': 1.0, 'post_iqr': 1.57396239380647...   \n",
       "last_fico_range_low    {'post_std': 1.0, 'post_iqr': 1.14477131370102...   \n",
       "acc_open_past_24mths   {'post_std': 1.0, 'post_iqr': 1.22882412681832...   \n",
       "avg_cur_bal            {'post_std': 1.0000000000000002, 'post_iqr': 1...   \n",
       "bc_open_to_buy         {'post_std': 0.9999999999999999, 'post_iqr': 1...   \n",
       "mo_sin_old_rev_tl_op   {'post_std': nan, 'post_iqr': nan, 'post_n_uni...   \n",
       "mo_sin_rcnt_rev_tl_op  {'post_std': 1.0000000000000002, 'post_iqr': 1...   \n",
       "mo_sin_rcnt_tl         {'post_std': 1.0, 'post_iqr': 1.48970469746390...   \n",
       "mort_acc               {'post_std': 1.0000000000000002, 'post_iqr': 2...   \n",
       "mths_since_recent_bc   {'post_std': 0.9999999999999999, 'post_iqr': 1...   \n",
       "mths_since_recent_inq  {'post_std': nan, 'post_iqr': nan, 'post_n_uni...   \n",
       "num_tl_op_past_12m     {'post_std': 1.0, 'post_iqr': 1.16770881405409...   \n",
       "percent_bc_gt_75       {'post_std': 3.399076383488967, 'post_iqr': 5....   \n",
       "total_bc_limit         {'post_std': 1.0000000000000002, 'post_iqr': 1...   \n",
       "\n",
       "                      ignored  \\\n",
       "funded_amnt_inv            []   \n",
       "annual_inc                 []   \n",
       "dti                        []   \n",
       "fico_range_high            []   \n",
       "out_prncp_inv              []   \n",
       "total_rec_prncp            []   \n",
       "last_pymnt_amnt            []   \n",
       "last_fico_range_low        []   \n",
       "acc_open_past_24mths       []   \n",
       "avg_cur_bal                []   \n",
       "bc_open_to_buy             []   \n",
       "mo_sin_old_rev_tl_op       []   \n",
       "mo_sin_rcnt_rev_tl_op      []   \n",
       "mo_sin_rcnt_tl             []   \n",
       "mort_acc                   []   \n",
       "mths_since_recent_bc       []   \n",
       "mths_since_recent_inq      []   \n",
       "num_tl_op_past_12m         []   \n",
       "percent_bc_gt_75           []   \n",
       "total_bc_limit             []   \n",
       "\n",
       "                                                        candidates_tried  \\\n",
       "funded_amnt_inv        [PowerTransformer, QuantileTransformer, Robust...   \n",
       "annual_inc                                            [PowerTransformer]   \n",
       "dti                              [PowerTransformer, QuantileTransformer]   \n",
       "fico_range_high        [PowerTransformer, QuantileTransformer, Robust...   \n",
       "out_prncp_inv          [PowerTransformer, QuantileTransformer, Robust...   \n",
       "total_rec_prncp        [PowerTransformer, QuantileTransformer, Robust...   \n",
       "last_pymnt_amnt                                       [PowerTransformer]   \n",
       "last_fico_range_low                                   [PowerTransformer]   \n",
       "acc_open_past_24mths                                  [PowerTransformer]   \n",
       "avg_cur_bal                                           [PowerTransformer]   \n",
       "bc_open_to_buy                                        [PowerTransformer]   \n",
       "mo_sin_old_rev_tl_op   [PowerTransformer, QuantileTransformer, Robust...   \n",
       "mo_sin_rcnt_rev_tl_op                                 [PowerTransformer]   \n",
       "mo_sin_rcnt_tl                                        [PowerTransformer]   \n",
       "mort_acc                                              [PowerTransformer]   \n",
       "mths_since_recent_bc                                  [PowerTransformer]   \n",
       "mths_since_recent_inq  [PowerTransformer, QuantileTransformer, Robust...   \n",
       "num_tl_op_past_12m                                    [PowerTransformer]   \n",
       "percent_bc_gt_75                 [PowerTransformer, QuantileTransformer]   \n",
       "total_bc_limit                                        [PowerTransformer]   \n",
       "\n",
       "                                reason  \n",
       "funded_amnt_inv           all_rejected  \n",
       "annual_inc             stats|skew|kurt  \n",
       "dti                    stats|skew|kurt  \n",
       "fico_range_high           all_rejected  \n",
       "out_prncp_inv             all_rejected  \n",
       "total_rec_prncp           all_rejected  \n",
       "last_pymnt_amnt        stats|skew|kurt  \n",
       "last_fico_range_low    stats|skew|kurt  \n",
       "acc_open_past_24mths   stats|skew|kurt  \n",
       "avg_cur_bal            stats|skew|kurt  \n",
       "bc_open_to_buy         stats|skew|kurt  \n",
       "mo_sin_old_rev_tl_op      all_rejected  \n",
       "mo_sin_rcnt_rev_tl_op  stats|skew|kurt  \n",
       "mo_sin_rcnt_tl         stats|skew|kurt  \n",
       "mort_acc               stats|skew|kurt  \n",
       "mths_since_recent_bc   stats|skew|kurt  \n",
       "mths_since_recent_inq     all_rejected  \n",
       "num_tl_op_past_12m     stats|skew|kurt  \n",
       "percent_bc_gt_75       stats|skew|kurt  \n",
       "total_bc_limit         stats|skew|kurt  "
      ]
     },
     "metadata": {},
     "output_type": "display_data"
    }
   ],
   "source": [
    "# Aplicar o DynamicScaler no treino\n",
    "from riskpilot.utils.scaler import DynamicScaler\n",
    "scaler = DynamicScaler(\n",
    "    strategy=\"auto\",\n",
    "    shapiro_p_val = 0.01, # se aumentar fica mais restritiva a escolha de StandardScaler()\n",
    "    #serialize=True,\n",
    "    #save_path=\"scalers.pkl\", # arquivo com informações de escalonamento salvas \n",
    "    random_state=42,\n",
    "    ignore_cols=ID_COLS+IGNORE_COLS+DATE_COLS+[TARGET]\n",
    ")\n",
    "\n",
    "scaler.fit(df_train)\n",
    "\n",
    "# Relatório das decisões\n",
    "print(\"\\nResumo das decisões por feature:\")\n",
    "display(scaler.report_as_df())"
   ]
  },
  {
   "cell_type": "code",
   "execution_count": 39,
   "id": "1533e978",
   "metadata": {},
   "outputs": [
    {
     "data": {
      "text/plain": [
       "funded_amnt_inv          [PowerTransformer, QuantileTransformer, Robust...\n",
       "annual_inc                                              [PowerTransformer]\n",
       "dti                                [PowerTransformer, QuantileTransformer]\n",
       "fico_range_high          [PowerTransformer, QuantileTransformer, Robust...\n",
       "out_prncp_inv            [PowerTransformer, QuantileTransformer, Robust...\n",
       "total_rec_prncp          [PowerTransformer, QuantileTransformer, Robust...\n",
       "last_pymnt_amnt                                         [PowerTransformer]\n",
       "last_fico_range_low                                     [PowerTransformer]\n",
       "acc_open_past_24mths                                    [PowerTransformer]\n",
       "avg_cur_bal                                             [PowerTransformer]\n",
       "bc_open_to_buy                                          [PowerTransformer]\n",
       "mo_sin_old_rev_tl_op     [PowerTransformer, QuantileTransformer, Robust...\n",
       "mo_sin_rcnt_rev_tl_op                                   [PowerTransformer]\n",
       "mo_sin_rcnt_tl                                          [PowerTransformer]\n",
       "mort_acc                                                [PowerTransformer]\n",
       "mths_since_recent_bc                                    [PowerTransformer]\n",
       "mths_since_recent_inq    [PowerTransformer, QuantileTransformer, Robust...\n",
       "num_tl_op_past_12m                                      [PowerTransformer]\n",
       "percent_bc_gt_75                   [PowerTransformer, QuantileTransformer]\n",
       "total_bc_limit                                          [PowerTransformer]\n",
       "Name: candidates_tried, dtype: object"
      ]
     },
     "execution_count": 39,
     "metadata": {},
     "output_type": "execute_result"
    }
   ],
   "source": [
    "scaler.report_as_df()['candidates_tried']"
   ]
  },
  {
   "cell_type": "code",
   "execution_count": 40,
   "id": "42b96416",
   "metadata": {},
   "outputs": [
    {
     "data": {
      "text/html": [
       "<div>\n",
       "<style scoped>\n",
       "    .dataframe tbody tr th:only-of-type {\n",
       "        vertical-align: middle;\n",
       "    }\n",
       "\n",
       "    .dataframe tbody tr th {\n",
       "        vertical-align: top;\n",
       "    }\n",
       "\n",
       "    .dataframe thead th {\n",
       "        text-align: right;\n",
       "    }\n",
       "</style>\n",
       "<table border=\"1\" class=\"dataframe\">\n",
       "  <thead>\n",
       "    <tr style=\"text-align: right;\">\n",
       "      <th></th>\n",
       "      <th>funded_amnt_inv</th>\n",
       "      <th>annual_inc</th>\n",
       "      <th>dti</th>\n",
       "      <th>fico_range_high</th>\n",
       "      <th>out_prncp_inv</th>\n",
       "      <th>total_rec_prncp</th>\n",
       "      <th>last_pymnt_amnt</th>\n",
       "      <th>last_fico_range_low</th>\n",
       "      <th>acc_open_past_24mths</th>\n",
       "      <th>avg_cur_bal</th>\n",
       "      <th>bc_open_to_buy</th>\n",
       "      <th>mo_sin_old_rev_tl_op</th>\n",
       "      <th>mo_sin_rcnt_rev_tl_op</th>\n",
       "      <th>mo_sin_rcnt_tl</th>\n",
       "      <th>mort_acc</th>\n",
       "      <th>mths_since_recent_bc</th>\n",
       "      <th>mths_since_recent_inq</th>\n",
       "      <th>num_tl_op_past_12m</th>\n",
       "      <th>percent_bc_gt_75</th>\n",
       "      <th>total_bc_limit</th>\n",
       "    </tr>\n",
       "  </thead>\n",
       "  <tbody>\n",
       "    <tr>\n",
       "      <th>25381</th>\n",
       "      <td>11837.372011</td>\n",
       "      <td>84000.000000</td>\n",
       "      <td>0.088439</td>\n",
       "      <td>764.0</td>\n",
       "      <td>0.0</td>\n",
       "      <td>10922.171341</td>\n",
       "      <td>472.328201</td>\n",
       "      <td>685.0</td>\n",
       "      <td>1.0</td>\n",
       "      <td>2499.497568</td>\n",
       "      <td>23942.803630</td>\n",
       "      <td>94.921757</td>\n",
       "      <td>14.0</td>\n",
       "      <td>5.0</td>\n",
       "      <td>0.0</td>\n",
       "      <td>76.969682</td>\n",
       "      <td>0.0</td>\n",
       "      <td>0.0</td>\n",
       "      <td>0.000000</td>\n",
       "      <td>36084.616674</td>\n",
       "    </tr>\n",
       "    <tr>\n",
       "      <th>25381</th>\n",
       "      <td>11837.372011</td>\n",
       "      <td>84000.000000</td>\n",
       "      <td>0.088439</td>\n",
       "      <td>764.0</td>\n",
       "      <td>0.0</td>\n",
       "      <td>10922.171341</td>\n",
       "      <td>472.328201</td>\n",
       "      <td>685.0</td>\n",
       "      <td>1.0</td>\n",
       "      <td>2499.497568</td>\n",
       "      <td>23942.803630</td>\n",
       "      <td>94.921757</td>\n",
       "      <td>14.0</td>\n",
       "      <td>5.0</td>\n",
       "      <td>0.0</td>\n",
       "      <td>76.969682</td>\n",
       "      <td>0.0</td>\n",
       "      <td>0.0</td>\n",
       "      <td>0.000000</td>\n",
       "      <td>36084.616674</td>\n",
       "    </tr>\n",
       "    <tr>\n",
       "      <th>3048</th>\n",
       "      <td>12000.000000</td>\n",
       "      <td>45000.000000</td>\n",
       "      <td>15.520000</td>\n",
       "      <td>744.0</td>\n",
       "      <td>0.0</td>\n",
       "      <td>12000.000000</td>\n",
       "      <td>10242.700000</td>\n",
       "      <td>805.0</td>\n",
       "      <td>1.0</td>\n",
       "      <td>10963.000000</td>\n",
       "      <td>11391.000000</td>\n",
       "      <td>221.000000</td>\n",
       "      <td>38.0</td>\n",
       "      <td>19.0</td>\n",
       "      <td>1.0</td>\n",
       "      <td>38.000000</td>\n",
       "      <td>19.0</td>\n",
       "      <td>0.0</td>\n",
       "      <td>20.000000</td>\n",
       "      <td>24300.000000</td>\n",
       "    </tr>\n",
       "    <tr>\n",
       "      <th>3048</th>\n",
       "      <td>18150.162539</td>\n",
       "      <td>41860.885255</td>\n",
       "      <td>32.967164</td>\n",
       "      <td>734.0</td>\n",
       "      <td>0.0</td>\n",
       "      <td>7964.719222</td>\n",
       "      <td>86.596853</td>\n",
       "      <td>700.0</td>\n",
       "      <td>2.0</td>\n",
       "      <td>5948.032575</td>\n",
       "      <td>3143.642675</td>\n",
       "      <td>65.000000</td>\n",
       "      <td>24.0</td>\n",
       "      <td>5.0</td>\n",
       "      <td>0.0</td>\n",
       "      <td>31.000000</td>\n",
       "      <td>7.0</td>\n",
       "      <td>1.0</td>\n",
       "      <td>87.514987</td>\n",
       "      <td>38500.000000</td>\n",
       "    </tr>\n",
       "    <tr>\n",
       "      <th>3048</th>\n",
       "      <td>18150.162539</td>\n",
       "      <td>41860.885255</td>\n",
       "      <td>32.967164</td>\n",
       "      <td>734.0</td>\n",
       "      <td>0.0</td>\n",
       "      <td>7964.719222</td>\n",
       "      <td>86.596853</td>\n",
       "      <td>700.0</td>\n",
       "      <td>2.0</td>\n",
       "      <td>5948.032575</td>\n",
       "      <td>3143.642675</td>\n",
       "      <td>65.000000</td>\n",
       "      <td>24.0</td>\n",
       "      <td>5.0</td>\n",
       "      <td>0.0</td>\n",
       "      <td>31.000000</td>\n",
       "      <td>7.0</td>\n",
       "      <td>1.0</td>\n",
       "      <td>87.514987</td>\n",
       "      <td>38500.000000</td>\n",
       "    </tr>\n",
       "  </tbody>\n",
       "</table>\n",
       "</div>"
      ],
      "text/plain": [
       "       funded_amnt_inv    annual_inc        dti  fico_range_high  \\\n",
       "25381     11837.372011  84000.000000   0.088439            764.0   \n",
       "25381     11837.372011  84000.000000   0.088439            764.0   \n",
       "3048      12000.000000  45000.000000  15.520000            744.0   \n",
       "3048      18150.162539  41860.885255  32.967164            734.0   \n",
       "3048      18150.162539  41860.885255  32.967164            734.0   \n",
       "\n",
       "       out_prncp_inv  total_rec_prncp  last_pymnt_amnt  last_fico_range_low  \\\n",
       "25381            0.0     10922.171341       472.328201                685.0   \n",
       "25381            0.0     10922.171341       472.328201                685.0   \n",
       "3048             0.0     12000.000000     10242.700000                805.0   \n",
       "3048             0.0      7964.719222        86.596853                700.0   \n",
       "3048             0.0      7964.719222        86.596853                700.0   \n",
       "\n",
       "       acc_open_past_24mths   avg_cur_bal  bc_open_to_buy  \\\n",
       "25381                   1.0   2499.497568    23942.803630   \n",
       "25381                   1.0   2499.497568    23942.803630   \n",
       "3048                    1.0  10963.000000    11391.000000   \n",
       "3048                    2.0   5948.032575     3143.642675   \n",
       "3048                    2.0   5948.032575     3143.642675   \n",
       "\n",
       "       mo_sin_old_rev_tl_op  mo_sin_rcnt_rev_tl_op  mo_sin_rcnt_tl  mort_acc  \\\n",
       "25381             94.921757                   14.0             5.0       0.0   \n",
       "25381             94.921757                   14.0             5.0       0.0   \n",
       "3048             221.000000                   38.0            19.0       1.0   \n",
       "3048              65.000000                   24.0             5.0       0.0   \n",
       "3048              65.000000                   24.0             5.0       0.0   \n",
       "\n",
       "       mths_since_recent_bc  mths_since_recent_inq  num_tl_op_past_12m  \\\n",
       "25381             76.969682                    0.0                 0.0   \n",
       "25381             76.969682                    0.0                 0.0   \n",
       "3048              38.000000                   19.0                 0.0   \n",
       "3048              31.000000                    7.0                 1.0   \n",
       "3048              31.000000                    7.0                 1.0   \n",
       "\n",
       "       percent_bc_gt_75  total_bc_limit  \n",
       "25381          0.000000    36084.616674  \n",
       "25381          0.000000    36084.616674  \n",
       "3048          20.000000    24300.000000  \n",
       "3048          87.514987    38500.000000  \n",
       "3048          87.514987    38500.000000  "
      ]
     },
     "metadata": {},
     "output_type": "display_data"
    },
    {
     "name": "stderr",
     "output_type": "stream",
     "text": [
      "INFO: Untouched columns preserved: ['id', 'target', 'date']\n"
     ]
    },
    {
     "name": "stdout",
     "output_type": "stream",
     "text": [
      "\n",
      "Exemplo de dados escalados (treino):\n"
     ]
    },
    {
     "data": {
      "text/html": [
       "<div>\n",
       "<style scoped>\n",
       "    .dataframe tbody tr th:only-of-type {\n",
       "        vertical-align: middle;\n",
       "    }\n",
       "\n",
       "    .dataframe tbody tr th {\n",
       "        vertical-align: top;\n",
       "    }\n",
       "\n",
       "    .dataframe thead th {\n",
       "        text-align: right;\n",
       "    }\n",
       "</style>\n",
       "<table border=\"1\" class=\"dataframe\">\n",
       "  <thead>\n",
       "    <tr style=\"text-align: right;\">\n",
       "      <th></th>\n",
       "      <th>funded_amnt_inv</th>\n",
       "      <th>annual_inc</th>\n",
       "      <th>dti</th>\n",
       "      <th>fico_range_high</th>\n",
       "      <th>out_prncp_inv</th>\n",
       "      <th>total_rec_prncp</th>\n",
       "      <th>last_pymnt_amnt</th>\n",
       "      <th>last_fico_range_low</th>\n",
       "      <th>acc_open_past_24mths</th>\n",
       "      <th>avg_cur_bal</th>\n",
       "      <th>bc_open_to_buy</th>\n",
       "      <th>mo_sin_old_rev_tl_op</th>\n",
       "      <th>mo_sin_rcnt_rev_tl_op</th>\n",
       "      <th>mo_sin_rcnt_tl</th>\n",
       "      <th>mort_acc</th>\n",
       "      <th>mths_since_recent_bc</th>\n",
       "      <th>mths_since_recent_inq</th>\n",
       "      <th>num_tl_op_past_12m</th>\n",
       "      <th>percent_bc_gt_75</th>\n",
       "      <th>total_bc_limit</th>\n",
       "    </tr>\n",
       "  </thead>\n",
       "  <tbody>\n",
       "    <tr>\n",
       "      <th>25381</th>\n",
       "      <td>11837.372011</td>\n",
       "      <td>0.421523</td>\n",
       "      <td>-3.912660</td>\n",
       "      <td>764.0</td>\n",
       "      <td>0.0</td>\n",
       "      <td>10922.171341</td>\n",
       "      <td>-0.552686</td>\n",
       "      <td>0.087909</td>\n",
       "      <td>-1.483916</td>\n",
       "      <td>-0.981994</td>\n",
       "      <td>1.137365</td>\n",
       "      <td>94.921757</td>\n",
       "      <td>0.590358</td>\n",
       "      <td>0.069049</td>\n",
       "      <td>-1.128465</td>\n",
       "      <td>1.584465</td>\n",
       "      <td>0.0</td>\n",
       "      <td>-1.663449</td>\n",
       "      <td>-5.199338</td>\n",
       "      <td>0.823418</td>\n",
       "    </tr>\n",
       "    <tr>\n",
       "      <th>25381</th>\n",
       "      <td>11837.372011</td>\n",
       "      <td>0.421523</td>\n",
       "      <td>-3.912660</td>\n",
       "      <td>764.0</td>\n",
       "      <td>0.0</td>\n",
       "      <td>10922.171341</td>\n",
       "      <td>-0.552686</td>\n",
       "      <td>0.087909</td>\n",
       "      <td>-1.483916</td>\n",
       "      <td>-0.981994</td>\n",
       "      <td>1.137365</td>\n",
       "      <td>94.921757</td>\n",
       "      <td>0.590358</td>\n",
       "      <td>0.069049</td>\n",
       "      <td>-1.128465</td>\n",
       "      <td>1.584465</td>\n",
       "      <td>0.0</td>\n",
       "      <td>-1.663449</td>\n",
       "      <td>-5.199338</td>\n",
       "      <td>0.823418</td>\n",
       "    </tr>\n",
       "    <tr>\n",
       "      <th>3048</th>\n",
       "      <td>12000.000000</td>\n",
       "      <td>-0.765683</td>\n",
       "      <td>-0.391385</td>\n",
       "      <td>744.0</td>\n",
       "      <td>0.0</td>\n",
       "      <td>12000.000000</td>\n",
       "      <td>1.189591</td>\n",
       "      <td>1.625057</td>\n",
       "      <td>-1.483916</td>\n",
       "      <td>0.290632</td>\n",
       "      <td>0.524175</td>\n",
       "      <td>221.000000</td>\n",
       "      <td>1.512078</td>\n",
       "      <td>1.490485</td>\n",
       "      <td>0.017618</td>\n",
       "      <td>0.956140</td>\n",
       "      <td>19.0</td>\n",
       "      <td>-1.663449</td>\n",
       "      <td>-0.451469</td>\n",
       "      <td>0.357893</td>\n",
       "    </tr>\n",
       "    <tr>\n",
       "      <th>3048</th>\n",
       "      <td>18150.162539</td>\n",
       "      <td>-0.907351</td>\n",
       "      <td>1.409189</td>\n",
       "      <td>734.0</td>\n",
       "      <td>0.0</td>\n",
       "      <td>7964.719222</td>\n",
       "      <td>-1.313598</td>\n",
       "      <td>0.264816</td>\n",
       "      <td>-0.927458</td>\n",
       "      <td>-0.255640</td>\n",
       "      <td>-0.333914</td>\n",
       "      <td>65.000000</td>\n",
       "      <td>1.086313</td>\n",
       "      <td>0.069049</td>\n",
       "      <td>-1.128465</td>\n",
       "      <td>0.775668</td>\n",
       "      <td>7.0</td>\n",
       "      <td>-0.613222</td>\n",
       "      <td>0.926611</td>\n",
       "      <td>0.904982</td>\n",
       "    </tr>\n",
       "    <tr>\n",
       "      <th>3048</th>\n",
       "      <td>18150.162539</td>\n",
       "      <td>-0.907351</td>\n",
       "      <td>1.409189</td>\n",
       "      <td>734.0</td>\n",
       "      <td>0.0</td>\n",
       "      <td>7964.719222</td>\n",
       "      <td>-1.313598</td>\n",
       "      <td>0.264816</td>\n",
       "      <td>-0.927458</td>\n",
       "      <td>-0.255640</td>\n",
       "      <td>-0.333914</td>\n",
       "      <td>65.000000</td>\n",
       "      <td>1.086313</td>\n",
       "      <td>0.069049</td>\n",
       "      <td>-1.128465</td>\n",
       "      <td>0.775668</td>\n",
       "      <td>7.0</td>\n",
       "      <td>-0.613222</td>\n",
       "      <td>0.926611</td>\n",
       "      <td>0.904982</td>\n",
       "    </tr>\n",
       "  </tbody>\n",
       "</table>\n",
       "</div>"
      ],
      "text/plain": [
       "       funded_amnt_inv  annual_inc       dti  fico_range_high  out_prncp_inv  \\\n",
       "25381     11837.372011    0.421523 -3.912660            764.0            0.0   \n",
       "25381     11837.372011    0.421523 -3.912660            764.0            0.0   \n",
       "3048      12000.000000   -0.765683 -0.391385            744.0            0.0   \n",
       "3048      18150.162539   -0.907351  1.409189            734.0            0.0   \n",
       "3048      18150.162539   -0.907351  1.409189            734.0            0.0   \n",
       "\n",
       "       total_rec_prncp  last_pymnt_amnt  last_fico_range_low  \\\n",
       "25381     10922.171341        -0.552686             0.087909   \n",
       "25381     10922.171341        -0.552686             0.087909   \n",
       "3048      12000.000000         1.189591             1.625057   \n",
       "3048       7964.719222        -1.313598             0.264816   \n",
       "3048       7964.719222        -1.313598             0.264816   \n",
       "\n",
       "       acc_open_past_24mths  avg_cur_bal  bc_open_to_buy  \\\n",
       "25381             -1.483916    -0.981994        1.137365   \n",
       "25381             -1.483916    -0.981994        1.137365   \n",
       "3048              -1.483916     0.290632        0.524175   \n",
       "3048              -0.927458    -0.255640       -0.333914   \n",
       "3048              -0.927458    -0.255640       -0.333914   \n",
       "\n",
       "       mo_sin_old_rev_tl_op  mo_sin_rcnt_rev_tl_op  mo_sin_rcnt_tl  mort_acc  \\\n",
       "25381             94.921757               0.590358        0.069049 -1.128465   \n",
       "25381             94.921757               0.590358        0.069049 -1.128465   \n",
       "3048             221.000000               1.512078        1.490485  0.017618   \n",
       "3048              65.000000               1.086313        0.069049 -1.128465   \n",
       "3048              65.000000               1.086313        0.069049 -1.128465   \n",
       "\n",
       "       mths_since_recent_bc  mths_since_recent_inq  num_tl_op_past_12m  \\\n",
       "25381              1.584465                    0.0           -1.663449   \n",
       "25381              1.584465                    0.0           -1.663449   \n",
       "3048               0.956140                   19.0           -1.663449   \n",
       "3048               0.775668                    7.0           -0.613222   \n",
       "3048               0.775668                    7.0           -0.613222   \n",
       "\n",
       "       percent_bc_gt_75  total_bc_limit  \n",
       "25381         -5.199338        0.823418  \n",
       "25381         -5.199338        0.823418  \n",
       "3048          -0.451469        0.357893  \n",
       "3048           0.926611        0.904982  \n",
       "3048           0.926611        0.904982  "
      ]
     },
     "metadata": {},
     "output_type": "display_data"
    }
   ],
   "source": [
    "display(X_train.head())\n",
    "\n",
    "# 5. Transformar o conjunto de treino\n",
    "df_train_scaled = scaler.transform(df_train, return_df=True)\n",
    "X_train_scaled = scaler.transform(X_train, return_df=True)\n",
    "\n",
    "print(\"\\nExemplo de dados escalados (treino):\")\n",
    "display(X_train_scaled.head())"
   ]
  },
  {
   "cell_type": "code",
   "execution_count": 41,
   "id": "4bacd8fa",
   "metadata": {},
   "outputs": [
    {
     "data": {
      "text/html": [
       "<div>\n",
       "<style scoped>\n",
       "    .dataframe tbody tr th:only-of-type {\n",
       "        vertical-align: middle;\n",
       "    }\n",
       "\n",
       "    .dataframe tbody tr th {\n",
       "        vertical-align: top;\n",
       "    }\n",
       "\n",
       "    .dataframe thead th {\n",
       "        text-align: right;\n",
       "    }\n",
       "</style>\n",
       "<table border=\"1\" class=\"dataframe\">\n",
       "  <thead>\n",
       "    <tr style=\"text-align: right;\">\n",
       "      <th></th>\n",
       "      <th>funded_amnt_inv</th>\n",
       "      <th>annual_inc</th>\n",
       "      <th>dti</th>\n",
       "      <th>fico_range_high</th>\n",
       "      <th>out_prncp_inv</th>\n",
       "      <th>total_rec_prncp</th>\n",
       "      <th>last_pymnt_amnt</th>\n",
       "      <th>last_fico_range_low</th>\n",
       "      <th>acc_open_past_24mths</th>\n",
       "      <th>avg_cur_bal</th>\n",
       "      <th>bc_open_to_buy</th>\n",
       "      <th>mo_sin_old_rev_tl_op</th>\n",
       "      <th>mo_sin_rcnt_rev_tl_op</th>\n",
       "      <th>mo_sin_rcnt_tl</th>\n",
       "      <th>mort_acc</th>\n",
       "      <th>mths_since_recent_bc</th>\n",
       "      <th>mths_since_recent_inq</th>\n",
       "      <th>num_tl_op_past_12m</th>\n",
       "      <th>percent_bc_gt_75</th>\n",
       "      <th>total_bc_limit</th>\n",
       "    </tr>\n",
       "  </thead>\n",
       "  <tbody>\n",
       "    <tr>\n",
       "      <th>9806</th>\n",
       "      <td>28000.0</td>\n",
       "      <td>92281.000000</td>\n",
       "      <td>20.100000</td>\n",
       "      <td>669.0</td>\n",
       "      <td>12018.050000</td>\n",
       "      <td>15981.950000</td>\n",
       "      <td>646.740000</td>\n",
       "      <td>660.0</td>\n",
       "      <td>3.000000</td>\n",
       "      <td>5899.000000</td>\n",
       "      <td>7143.000000</td>\n",
       "      <td>194.0</td>\n",
       "      <td>17.0</td>\n",
       "      <td>17.0</td>\n",
       "      <td>2.0</td>\n",
       "      <td>52.0</td>\n",
       "      <td>4.0</td>\n",
       "      <td>0.000000</td>\n",
       "      <td>20.0</td>\n",
       "      <td>18900.000000</td>\n",
       "    </tr>\n",
       "    <tr>\n",
       "      <th>9806</th>\n",
       "      <td>12000.0</td>\n",
       "      <td>62105.086247</td>\n",
       "      <td>7.313272</td>\n",
       "      <td>664.0</td>\n",
       "      <td>0.000000</td>\n",
       "      <td>3982.034536</td>\n",
       "      <td>1321.479593</td>\n",
       "      <td>705.0</td>\n",
       "      <td>12.000000</td>\n",
       "      <td>478.905505</td>\n",
       "      <td>2648.750388</td>\n",
       "      <td>115.0</td>\n",
       "      <td>0.0</td>\n",
       "      <td>0.0</td>\n",
       "      <td>0.0</td>\n",
       "      <td>1.0</td>\n",
       "      <td>1.0</td>\n",
       "      <td>10.485255</td>\n",
       "      <td>0.0</td>\n",
       "      <td>8200.000000</td>\n",
       "    </tr>\n",
       "    <tr>\n",
       "      <th>9806</th>\n",
       "      <td>12000.0</td>\n",
       "      <td>62105.086247</td>\n",
       "      <td>7.313272</td>\n",
       "      <td>664.0</td>\n",
       "      <td>0.000000</td>\n",
       "      <td>3982.034536</td>\n",
       "      <td>1321.479593</td>\n",
       "      <td>705.0</td>\n",
       "      <td>12.000000</td>\n",
       "      <td>478.905505</td>\n",
       "      <td>2648.750388</td>\n",
       "      <td>115.0</td>\n",
       "      <td>0.0</td>\n",
       "      <td>0.0</td>\n",
       "      <td>0.0</td>\n",
       "      <td>1.0</td>\n",
       "      <td>1.0</td>\n",
       "      <td>10.485255</td>\n",
       "      <td>0.0</td>\n",
       "      <td>8200.000000</td>\n",
       "    </tr>\n",
       "    <tr>\n",
       "      <th>12844</th>\n",
       "      <td>12000.0</td>\n",
       "      <td>99824.993747</td>\n",
       "      <td>33.559887</td>\n",
       "      <td>699.0</td>\n",
       "      <td>12514.013382</td>\n",
       "      <td>4515.701652</td>\n",
       "      <td>277.173786</td>\n",
       "      <td>685.0</td>\n",
       "      <td>17.758868</td>\n",
       "      <td>5089.888668</td>\n",
       "      <td>14215.483479</td>\n",
       "      <td>192.0</td>\n",
       "      <td>1.0</td>\n",
       "      <td>2.0</td>\n",
       "      <td>3.0</td>\n",
       "      <td>0.0</td>\n",
       "      <td>3.0</td>\n",
       "      <td>6.000000</td>\n",
       "      <td>100.0</td>\n",
       "      <td>36301.903109</td>\n",
       "    </tr>\n",
       "    <tr>\n",
       "      <th>12844</th>\n",
       "      <td>12000.0</td>\n",
       "      <td>99824.993747</td>\n",
       "      <td>33.559887</td>\n",
       "      <td>699.0</td>\n",
       "      <td>12514.013382</td>\n",
       "      <td>4515.701652</td>\n",
       "      <td>277.173786</td>\n",
       "      <td>685.0</td>\n",
       "      <td>17.758868</td>\n",
       "      <td>5089.888668</td>\n",
       "      <td>14215.483479</td>\n",
       "      <td>192.0</td>\n",
       "      <td>1.0</td>\n",
       "      <td>2.0</td>\n",
       "      <td>3.0</td>\n",
       "      <td>0.0</td>\n",
       "      <td>3.0</td>\n",
       "      <td>6.000000</td>\n",
       "      <td>100.0</td>\n",
       "      <td>36301.903109</td>\n",
       "    </tr>\n",
       "  </tbody>\n",
       "</table>\n",
       "</div>"
      ],
      "text/plain": [
       "       funded_amnt_inv    annual_inc        dti  fico_range_high  \\\n",
       "9806           28000.0  92281.000000  20.100000            669.0   \n",
       "9806           12000.0  62105.086247   7.313272            664.0   \n",
       "9806           12000.0  62105.086247   7.313272            664.0   \n",
       "12844          12000.0  99824.993747  33.559887            699.0   \n",
       "12844          12000.0  99824.993747  33.559887            699.0   \n",
       "\n",
       "       out_prncp_inv  total_rec_prncp  last_pymnt_amnt  last_fico_range_low  \\\n",
       "9806    12018.050000     15981.950000       646.740000                660.0   \n",
       "9806        0.000000      3982.034536      1321.479593                705.0   \n",
       "9806        0.000000      3982.034536      1321.479593                705.0   \n",
       "12844   12514.013382      4515.701652       277.173786                685.0   \n",
       "12844   12514.013382      4515.701652       277.173786                685.0   \n",
       "\n",
       "       acc_open_past_24mths  avg_cur_bal  bc_open_to_buy  \\\n",
       "9806               3.000000  5899.000000     7143.000000   \n",
       "9806              12.000000   478.905505     2648.750388   \n",
       "9806              12.000000   478.905505     2648.750388   \n",
       "12844             17.758868  5089.888668    14215.483479   \n",
       "12844             17.758868  5089.888668    14215.483479   \n",
       "\n",
       "       mo_sin_old_rev_tl_op  mo_sin_rcnt_rev_tl_op  mo_sin_rcnt_tl  mort_acc  \\\n",
       "9806                  194.0                   17.0            17.0       2.0   \n",
       "9806                  115.0                    0.0             0.0       0.0   \n",
       "9806                  115.0                    0.0             0.0       0.0   \n",
       "12844                 192.0                    1.0             2.0       3.0   \n",
       "12844                 192.0                    1.0             2.0       3.0   \n",
       "\n",
       "       mths_since_recent_bc  mths_since_recent_inq  num_tl_op_past_12m  \\\n",
       "9806                   52.0                    4.0            0.000000   \n",
       "9806                    1.0                    1.0           10.485255   \n",
       "9806                    1.0                    1.0           10.485255   \n",
       "12844                   0.0                    3.0            6.000000   \n",
       "12844                   0.0                    3.0            6.000000   \n",
       "\n",
       "       percent_bc_gt_75  total_bc_limit  \n",
       "9806               20.0    18900.000000  \n",
       "9806                0.0     8200.000000  \n",
       "9806                0.0     8200.000000  \n",
       "12844             100.0    36301.903109  \n",
       "12844             100.0    36301.903109  "
      ]
     },
     "metadata": {},
     "output_type": "display_data"
    },
    {
     "name": "stderr",
     "output_type": "stream",
     "text": [
      "INFO: Untouched columns preserved: ['id', 'target', 'date']\n"
     ]
    },
    {
     "name": "stdout",
     "output_type": "stream",
     "text": [
      "\n",
      "Exemplo de dados escalados (treino):\n"
     ]
    },
    {
     "data": {
      "text/html": [
       "<div>\n",
       "<style scoped>\n",
       "    .dataframe tbody tr th:only-of-type {\n",
       "        vertical-align: middle;\n",
       "    }\n",
       "\n",
       "    .dataframe tbody tr th {\n",
       "        vertical-align: top;\n",
       "    }\n",
       "\n",
       "    .dataframe thead th {\n",
       "        text-align: right;\n",
       "    }\n",
       "</style>\n",
       "<table border=\"1\" class=\"dataframe\">\n",
       "  <thead>\n",
       "    <tr style=\"text-align: right;\">\n",
       "      <th></th>\n",
       "      <th>funded_amnt_inv</th>\n",
       "      <th>annual_inc</th>\n",
       "      <th>dti</th>\n",
       "      <th>fico_range_high</th>\n",
       "      <th>out_prncp_inv</th>\n",
       "      <th>total_rec_prncp</th>\n",
       "      <th>last_pymnt_amnt</th>\n",
       "      <th>last_fico_range_low</th>\n",
       "      <th>acc_open_past_24mths</th>\n",
       "      <th>avg_cur_bal</th>\n",
       "      <th>bc_open_to_buy</th>\n",
       "      <th>mo_sin_old_rev_tl_op</th>\n",
       "      <th>mo_sin_rcnt_rev_tl_op</th>\n",
       "      <th>mo_sin_rcnt_tl</th>\n",
       "      <th>mort_acc</th>\n",
       "      <th>mths_since_recent_bc</th>\n",
       "      <th>mths_since_recent_inq</th>\n",
       "      <th>num_tl_op_past_12m</th>\n",
       "      <th>percent_bc_gt_75</th>\n",
       "      <th>total_bc_limit</th>\n",
       "    </tr>\n",
       "  </thead>\n",
       "  <tbody>\n",
       "    <tr>\n",
       "      <th>9806</th>\n",
       "      <td>28000.0</td>\n",
       "      <td>0.594951</td>\n",
       "      <td>0.117505</td>\n",
       "      <td>669.0</td>\n",
       "      <td>12018.050000</td>\n",
       "      <td>15981.950000</td>\n",
       "      <td>-0.397279</td>\n",
       "      <td>-0.197348</td>\n",
       "      <td>-0.488912</td>\n",
       "      <td>-0.262837</td>\n",
       "      <td>0.185658</td>\n",
       "      <td>194.0</td>\n",
       "      <td>0.768221</td>\n",
       "      <td>1.370815</td>\n",
       "      <td>0.592254</td>\n",
       "      <td>1.235043</td>\n",
       "      <td>4.0</td>\n",
       "      <td>-1.663449</td>\n",
       "      <td>-0.451469</td>\n",
       "      <td>0.088859</td>\n",
       "    </tr>\n",
       "    <tr>\n",
       "      <th>9806</th>\n",
       "      <td>12000.0</td>\n",
       "      <td>-0.145008</td>\n",
       "      <td>-1.462489</td>\n",
       "      <td>664.0</td>\n",
       "      <td>0.000000</td>\n",
       "      <td>3982.034536</td>\n",
       "      <td>-0.025967</td>\n",
       "      <td>0.324747</td>\n",
       "      <td>1.767807</td>\n",
       "      <td>-2.222782</td>\n",
       "      <td>-0.431366</td>\n",
       "      <td>115.0</td>\n",
       "      <td>-2.165940</td>\n",
       "      <td>-2.280702</td>\n",
       "      <td>-1.128465</td>\n",
       "      <td>-1.803403</td>\n",
       "      <td>1.0</td>\n",
       "      <td>2.573768</td>\n",
       "      <td>-5.199338</td>\n",
       "      <td>-0.675143</td>\n",
       "    </tr>\n",
       "    <tr>\n",
       "      <th>9806</th>\n",
       "      <td>12000.0</td>\n",
       "      <td>-0.145008</td>\n",
       "      <td>-1.462489</td>\n",
       "      <td>664.0</td>\n",
       "      <td>0.000000</td>\n",
       "      <td>3982.034536</td>\n",
       "      <td>-0.025967</td>\n",
       "      <td>0.324747</td>\n",
       "      <td>1.767807</td>\n",
       "      <td>-2.222782</td>\n",
       "      <td>-0.431366</td>\n",
       "      <td>115.0</td>\n",
       "      <td>-2.165940</td>\n",
       "      <td>-2.280702</td>\n",
       "      <td>-1.128465</td>\n",
       "      <td>-1.803403</td>\n",
       "      <td>1.0</td>\n",
       "      <td>2.573768</td>\n",
       "      <td>-5.199338</td>\n",
       "      <td>-0.675143</td>\n",
       "    </tr>\n",
       "    <tr>\n",
       "      <th>12844</th>\n",
       "      <td>12000.0</td>\n",
       "      <td>0.738835</td>\n",
       "      <td>1.482388</td>\n",
       "      <td>699.0</td>\n",
       "      <td>12514.013382</td>\n",
       "      <td>4515.701652</td>\n",
       "      <td>-0.805687</td>\n",
       "      <td>0.087909</td>\n",
       "      <td>2.651595</td>\n",
       "      <td>-0.390249</td>\n",
       "      <td>0.696995</td>\n",
       "      <td>192.0</td>\n",
       "      <td>-1.439578</td>\n",
       "      <td>-0.805228</td>\n",
       "      <td>0.962317</td>\n",
       "      <td>-2.462900</td>\n",
       "      <td>3.0</td>\n",
       "      <td>1.584786</td>\n",
       "      <td>5.199338</td>\n",
       "      <td>0.830910</td>\n",
       "    </tr>\n",
       "    <tr>\n",
       "      <th>12844</th>\n",
       "      <td>12000.0</td>\n",
       "      <td>0.738835</td>\n",
       "      <td>1.482388</td>\n",
       "      <td>699.0</td>\n",
       "      <td>12514.013382</td>\n",
       "      <td>4515.701652</td>\n",
       "      <td>-0.805687</td>\n",
       "      <td>0.087909</td>\n",
       "      <td>2.651595</td>\n",
       "      <td>-0.390249</td>\n",
       "      <td>0.696995</td>\n",
       "      <td>192.0</td>\n",
       "      <td>-1.439578</td>\n",
       "      <td>-0.805228</td>\n",
       "      <td>0.962317</td>\n",
       "      <td>-2.462900</td>\n",
       "      <td>3.0</td>\n",
       "      <td>1.584786</td>\n",
       "      <td>5.199338</td>\n",
       "      <td>0.830910</td>\n",
       "    </tr>\n",
       "  </tbody>\n",
       "</table>\n",
       "</div>"
      ],
      "text/plain": [
       "       funded_amnt_inv  annual_inc       dti  fico_range_high  out_prncp_inv  \\\n",
       "9806           28000.0    0.594951  0.117505            669.0   12018.050000   \n",
       "9806           12000.0   -0.145008 -1.462489            664.0       0.000000   \n",
       "9806           12000.0   -0.145008 -1.462489            664.0       0.000000   \n",
       "12844          12000.0    0.738835  1.482388            699.0   12514.013382   \n",
       "12844          12000.0    0.738835  1.482388            699.0   12514.013382   \n",
       "\n",
       "       total_rec_prncp  last_pymnt_amnt  last_fico_range_low  \\\n",
       "9806      15981.950000        -0.397279            -0.197348   \n",
       "9806       3982.034536        -0.025967             0.324747   \n",
       "9806       3982.034536        -0.025967             0.324747   \n",
       "12844      4515.701652        -0.805687             0.087909   \n",
       "12844      4515.701652        -0.805687             0.087909   \n",
       "\n",
       "       acc_open_past_24mths  avg_cur_bal  bc_open_to_buy  \\\n",
       "9806              -0.488912    -0.262837        0.185658   \n",
       "9806               1.767807    -2.222782       -0.431366   \n",
       "9806               1.767807    -2.222782       -0.431366   \n",
       "12844              2.651595    -0.390249        0.696995   \n",
       "12844              2.651595    -0.390249        0.696995   \n",
       "\n",
       "       mo_sin_old_rev_tl_op  mo_sin_rcnt_rev_tl_op  mo_sin_rcnt_tl  mort_acc  \\\n",
       "9806                  194.0               0.768221        1.370815  0.592254   \n",
       "9806                  115.0              -2.165940       -2.280702 -1.128465   \n",
       "9806                  115.0              -2.165940       -2.280702 -1.128465   \n",
       "12844                 192.0              -1.439578       -0.805228  0.962317   \n",
       "12844                 192.0              -1.439578       -0.805228  0.962317   \n",
       "\n",
       "       mths_since_recent_bc  mths_since_recent_inq  num_tl_op_past_12m  \\\n",
       "9806               1.235043                    4.0           -1.663449   \n",
       "9806              -1.803403                    1.0            2.573768   \n",
       "9806              -1.803403                    1.0            2.573768   \n",
       "12844             -2.462900                    3.0            1.584786   \n",
       "12844             -2.462900                    3.0            1.584786   \n",
       "\n",
       "       percent_bc_gt_75  total_bc_limit  \n",
       "9806          -0.451469        0.088859  \n",
       "9806          -5.199338       -0.675143  \n",
       "9806          -5.199338       -0.675143  \n",
       "12844          5.199338        0.830910  \n",
       "12844          5.199338        0.830910  "
      ]
     },
     "metadata": {},
     "output_type": "display_data"
    }
   ],
   "source": [
    "display(X_test.head())\n",
    "\n",
    "# 5. Transformar o conjunto de treino\n",
    "df_test_scaled = scaler.transform(df_test, return_df=True)\n",
    "X_test_scaled = scaler.transform(X_test, return_df=True)\n",
    "\n",
    "print(\"\\nExemplo de dados escalados (treino):\")\n",
    "display(X_test_scaled.head())"
   ]
  },
  {
   "cell_type": "code",
   "execution_count": 42,
   "id": "2472fa54",
   "metadata": {},
   "outputs": [],
   "source": [
    "# # Visualizar\n",
    "# scaler.plot_histograms(\n",
    "#     df_train,\n",
    "#     X_train_scaled,\n",
    "#     features=num_cols)"
   ]
  },
  {
   "cell_type": "code",
   "execution_count": 43,
   "id": "5e4b67fa",
   "metadata": {},
   "outputs": [],
   "source": [
    "# encoder = WOEGuard(\n",
    "#     categorical_cols=categorical_cols,\n",
    "#     drop_original=True,       # mantém ou remove colunas originais\n",
    "#     suffix='_woe',            # sufixo para as novas colunas\n",
    "#     alpha=0.5,                # suavização Laplace\n",
    "#     default_woe=0.0,          # WoE default para categorias novas\n",
    "#     include_nan=True          # trata NaN como categoria separada\n",
    "# )"
   ]
  },
  {
   "cell_type": "code",
   "execution_count": 44,
   "id": "115645bf",
   "metadata": {},
   "outputs": [],
   "source": [
    "# # 2. Ajustar e transformar\n",
    "# df_transformed = encoder.fit_transform(\n",
    "#     X=df[categorical_cols], # a lista de colunas não precisa ser igual à categorical_cols, mas somente as que forem instanciadas no WOEGuard que serão codificadas.\n",
    "#     y=df[TARGET]\n",
    "# )\n",
    "# display(df_transformed)"
   ]
  },
  {
   "cell_type": "code",
   "execution_count": 45,
   "id": "0e73d52a",
   "metadata": {},
   "outputs": [],
   "source": [
    "sample_weights_train = compute_sample_weight(class_weight='balanced', y=y_train)\n",
    "\n",
    "# # Modelo 1: Regressão Logística\n",
    "# model1 = LogisticRegression(\n",
    "#     max_iter=2000,\n",
    "#     solver='lbfgs',\n",
    "#     class_weight=None,      # Removido porque vamos usar sample_weight manualmente\n",
    "#     C=1.0\n",
    "# )\n",
    "# model1.fit(X_train, y_train, sample_weight=sample_weights_train)\n",
    "\n",
    "\n",
    "# Modelo 2: XGBoost\n",
    "\n",
    "\n",
    "model2 = XGBClassifier(\n",
    "    n_estimators=150,\n",
    "    #class_weights='balanced',\n",
    "    learning_rate=0.05,\n",
    "    max_depth=5,\n",
    "    subsample=0.85,\n",
    "    colsample_bytree=0.80,\n",
    "    #scale_pos_weight=1.0,\n",
    "    eval_metric='logloss',\n",
    "    random_state=42,\n",
    "    n_jobs=-1,\n",
    "    #enable_categorical=True,\n",
    "    #tree_method='hist'  # necessário com enable_categorical=True\n",
    ")\n",
    "model2.fit(\n",
    "    X_train_scaled,\n",
    "    y_train,\n",
    "    sample_weight=sample_weights_train\n",
    "    );"
   ]
  },
  {
   "cell_type": "code",
   "execution_count": 46,
   "id": "ed77aa39",
   "metadata": {},
   "outputs": [],
   "source": [
    "# gambiarra rapida\n",
    "#df_train = pd.concat([X_train_scaled, y_train], axis=1)\n",
    "#df_test = pd.concat([X_test_scaled, y_train], axis=1)"
   ]
  },
  {
   "cell_type": "code",
   "execution_count": 47,
   "id": "b41417db",
   "metadata": {},
   "outputs": [
    {
     "data": {
      "text/plain": [
       "(Timestamp('2022-01-01 00:01:00'), Timestamp('2024-12-31 00:01:00'))"
      ]
     },
     "execution_count": 47,
     "metadata": {},
     "output_type": "execute_result"
    }
   ],
   "source": [
    "#df_train.shape\n",
    "\n",
    "df_train['date'].min(),df_train['date'].max()"
   ]
  },
  {
   "cell_type": "code",
   "execution_count": 48,
   "metadata": {},
   "outputs": [],
   "source": [
    "evaluator = BinaryPerformanceEvaluator(\n",
    "    model=model2,\n",
    "    df_train=df_train,\n",
    "    df_test=df_test,\n",
    "    target_col='target',\n",
    "    id_cols=['id'],\n",
    "    date_col='date',\n",
    "    homogeneous_group='auto'\n",
    "    #group_col='group'\n",
    ")"
   ]
  },
  {
   "cell_type": "code",
   "execution_count": 49,
   "metadata": {},
   "outputs": [
    {
     "data": {
      "text/html": [
       "<div>\n",
       "<style scoped>\n",
       "    .dataframe tbody tr th:only-of-type {\n",
       "        vertical-align: middle;\n",
       "    }\n",
       "\n",
       "    .dataframe tbody tr th {\n",
       "        vertical-align: top;\n",
       "    }\n",
       "\n",
       "    .dataframe thead th {\n",
       "        text-align: right;\n",
       "    }\n",
       "</style>\n",
       "<table border=\"1\" class=\"dataframe\">\n",
       "  <thead>\n",
       "    <tr style=\"text-align: right;\">\n",
       "      <th></th>\n",
       "      <th>MCC</th>\n",
       "      <th>AUC_ROC</th>\n",
       "      <th>AUC_PR</th>\n",
       "      <th>Precision</th>\n",
       "      <th>Recall</th>\n",
       "      <th>Brier</th>\n",
       "    </tr>\n",
       "    <tr>\n",
       "      <th>Split</th>\n",
       "      <th></th>\n",
       "      <th></th>\n",
       "      <th></th>\n",
       "      <th></th>\n",
       "      <th></th>\n",
       "      <th></th>\n",
       "    </tr>\n",
       "  </thead>\n",
       "  <tbody>\n",
       "    <tr>\n",
       "      <th>Train</th>\n",
       "      <td>-0.471458</td>\n",
       "      <td>0.105048</td>\n",
       "      <td>0.096827</td>\n",
       "      <td>0.128001</td>\n",
       "      <td>0.686166</td>\n",
       "      <td>0.718856</td>\n",
       "    </tr>\n",
       "    <tr>\n",
       "      <th>Test</th>\n",
       "      <td>-0.462820</td>\n",
       "      <td>0.111294</td>\n",
       "      <td>0.098042</td>\n",
       "      <td>0.129928</td>\n",
       "      <td>0.690772</td>\n",
       "      <td>0.716016</td>\n",
       "    </tr>\n",
       "  </tbody>\n",
       "</table>\n",
       "</div>"
      ],
      "text/plain": [
       "            MCC   AUC_ROC    AUC_PR  Precision    Recall     Brier\n",
       "Split                                                             \n",
       "Train -0.471458  0.105048  0.096827   0.128001  0.686166  0.718856\n",
       "Test  -0.462820  0.111294  0.098042   0.129928  0.690772  0.716016"
      ]
     },
     "execution_count": 49,
     "metadata": {},
     "output_type": "execute_result"
    }
   ],
   "source": [
    "metrics = evaluator.compute_metrics()\n",
    "metrics"
   ]
  },
  {
   "cell_type": "code",
   "execution_count": 50,
   "metadata": {},
   "outputs": [
    {
     "data": {
      "application/vnd.plotly.v1+json": {
       "config": {
        "plotlyServerURL": "https://plot.ly"
       },
       "data": [
        {
         "colorscale": [
          [
           0,
           "rgb(247,251,255)"
          ],
          [
           0.125,
           "rgb(222,235,247)"
          ],
          [
           0.25,
           "rgb(198,219,239)"
          ],
          [
           0.375,
           "rgb(158,202,225)"
          ],
          [
           0.5,
           "rgb(107,174,214)"
          ],
          [
           0.625,
           "rgb(66,146,198)"
          ],
          [
           0.75,
           "rgb(33,113,181)"
          ],
          [
           0.875,
           "rgb(8,81,156)"
          ],
          [
           1,
           "rgb(8,48,107)"
          ]
         ],
         "showscale": false,
         "type": "heatmap",
         "x": [
          "Pred 0",
          "Pred 1"
         ],
         "y": [
          "True 0",
          "True 1"
         ],
         "z": {
          "bdata": "uMYAAAAAAAB1KgAAAAAAAA==",
          "dtype": "i4",
          "shape": "2, 2"
         }
        }
       ],
       "layout": {
        "annotations": [
         {
          "font": {
           "color": "white"
          },
          "showarrow": false,
          "text": "50,872\n(82.4%)",
          "x": 0,
          "y": 0
         },
         {
          "font": {
           "color": "black"
          },
          "showarrow": false,
          "text": "0\n(0.0%)",
          "x": 1,
          "y": 0
         },
         {
          "font": {
           "color": "black"
          },
          "showarrow": false,
          "text": "10,869\n(17.6%)",
          "x": 0,
          "y": 1
         },
         {
          "font": {
           "color": "black"
          },
          "showarrow": false,
          "text": "0\n(0.0%)",
          "x": 1,
          "y": 1
         }
        ],
        "template": {
         "data": {
          "bar": [
           {
            "error_x": {
             "color": "#2a3f5f"
            },
            "error_y": {
             "color": "#2a3f5f"
            },
            "marker": {
             "line": {
              "color": "white",
              "width": 0.5
             },
             "pattern": {
              "fillmode": "overlay",
              "size": 10,
              "solidity": 0.2
             }
            },
            "type": "bar"
           }
          ],
          "barpolar": [
           {
            "marker": {
             "line": {
              "color": "white",
              "width": 0.5
             },
             "pattern": {
              "fillmode": "overlay",
              "size": 10,
              "solidity": 0.2
             }
            },
            "type": "barpolar"
           }
          ],
          "carpet": [
           {
            "aaxis": {
             "endlinecolor": "#2a3f5f",
             "gridcolor": "#C8D4E3",
             "linecolor": "#C8D4E3",
             "minorgridcolor": "#C8D4E3",
             "startlinecolor": "#2a3f5f"
            },
            "baxis": {
             "endlinecolor": "#2a3f5f",
             "gridcolor": "#C8D4E3",
             "linecolor": "#C8D4E3",
             "minorgridcolor": "#C8D4E3",
             "startlinecolor": "#2a3f5f"
            },
            "type": "carpet"
           }
          ],
          "choropleth": [
           {
            "colorbar": {
             "outlinewidth": 0,
             "ticks": ""
            },
            "type": "choropleth"
           }
          ],
          "contour": [
           {
            "colorbar": {
             "outlinewidth": 0,
             "ticks": ""
            },
            "colorscale": [
             [
              0,
              "#0d0887"
             ],
             [
              0.1111111111111111,
              "#46039f"
             ],
             [
              0.2222222222222222,
              "#7201a8"
             ],
             [
              0.3333333333333333,
              "#9c179e"
             ],
             [
              0.4444444444444444,
              "#bd3786"
             ],
             [
              0.5555555555555556,
              "#d8576b"
             ],
             [
              0.6666666666666666,
              "#ed7953"
             ],
             [
              0.7777777777777778,
              "#fb9f3a"
             ],
             [
              0.8888888888888888,
              "#fdca26"
             ],
             [
              1,
              "#f0f921"
             ]
            ],
            "type": "contour"
           }
          ],
          "contourcarpet": [
           {
            "colorbar": {
             "outlinewidth": 0,
             "ticks": ""
            },
            "type": "contourcarpet"
           }
          ],
          "heatmap": [
           {
            "colorbar": {
             "outlinewidth": 0,
             "ticks": ""
            },
            "colorscale": [
             [
              0,
              "#0d0887"
             ],
             [
              0.1111111111111111,
              "#46039f"
             ],
             [
              0.2222222222222222,
              "#7201a8"
             ],
             [
              0.3333333333333333,
              "#9c179e"
             ],
             [
              0.4444444444444444,
              "#bd3786"
             ],
             [
              0.5555555555555556,
              "#d8576b"
             ],
             [
              0.6666666666666666,
              "#ed7953"
             ],
             [
              0.7777777777777778,
              "#fb9f3a"
             ],
             [
              0.8888888888888888,
              "#fdca26"
             ],
             [
              1,
              "#f0f921"
             ]
            ],
            "type": "heatmap"
           }
          ],
          "histogram": [
           {
            "marker": {
             "pattern": {
              "fillmode": "overlay",
              "size": 10,
              "solidity": 0.2
             }
            },
            "type": "histogram"
           }
          ],
          "histogram2d": [
           {
            "colorbar": {
             "outlinewidth": 0,
             "ticks": ""
            },
            "colorscale": [
             [
              0,
              "#0d0887"
             ],
             [
              0.1111111111111111,
              "#46039f"
             ],
             [
              0.2222222222222222,
              "#7201a8"
             ],
             [
              0.3333333333333333,
              "#9c179e"
             ],
             [
              0.4444444444444444,
              "#bd3786"
             ],
             [
              0.5555555555555556,
              "#d8576b"
             ],
             [
              0.6666666666666666,
              "#ed7953"
             ],
             [
              0.7777777777777778,
              "#fb9f3a"
             ],
             [
              0.8888888888888888,
              "#fdca26"
             ],
             [
              1,
              "#f0f921"
             ]
            ],
            "type": "histogram2d"
           }
          ],
          "histogram2dcontour": [
           {
            "colorbar": {
             "outlinewidth": 0,
             "ticks": ""
            },
            "colorscale": [
             [
              0,
              "#0d0887"
             ],
             [
              0.1111111111111111,
              "#46039f"
             ],
             [
              0.2222222222222222,
              "#7201a8"
             ],
             [
              0.3333333333333333,
              "#9c179e"
             ],
             [
              0.4444444444444444,
              "#bd3786"
             ],
             [
              0.5555555555555556,
              "#d8576b"
             ],
             [
              0.6666666666666666,
              "#ed7953"
             ],
             [
              0.7777777777777778,
              "#fb9f3a"
             ],
             [
              0.8888888888888888,
              "#fdca26"
             ],
             [
              1,
              "#f0f921"
             ]
            ],
            "type": "histogram2dcontour"
           }
          ],
          "mesh3d": [
           {
            "colorbar": {
             "outlinewidth": 0,
             "ticks": ""
            },
            "type": "mesh3d"
           }
          ],
          "parcoords": [
           {
            "line": {
             "colorbar": {
              "outlinewidth": 0,
              "ticks": ""
             }
            },
            "type": "parcoords"
           }
          ],
          "pie": [
           {
            "automargin": true,
            "type": "pie"
           }
          ],
          "scatter": [
           {
            "fillpattern": {
             "fillmode": "overlay",
             "size": 10,
             "solidity": 0.2
            },
            "type": "scatter"
           }
          ],
          "scatter3d": [
           {
            "line": {
             "colorbar": {
              "outlinewidth": 0,
              "ticks": ""
             }
            },
            "marker": {
             "colorbar": {
              "outlinewidth": 0,
              "ticks": ""
             }
            },
            "type": "scatter3d"
           }
          ],
          "scattercarpet": [
           {
            "marker": {
             "colorbar": {
              "outlinewidth": 0,
              "ticks": ""
             }
            },
            "type": "scattercarpet"
           }
          ],
          "scattergeo": [
           {
            "marker": {
             "colorbar": {
              "outlinewidth": 0,
              "ticks": ""
             }
            },
            "type": "scattergeo"
           }
          ],
          "scattergl": [
           {
            "marker": {
             "colorbar": {
              "outlinewidth": 0,
              "ticks": ""
             }
            },
            "type": "scattergl"
           }
          ],
          "scattermap": [
           {
            "marker": {
             "colorbar": {
              "outlinewidth": 0,
              "ticks": ""
             }
            },
            "type": "scattermap"
           }
          ],
          "scattermapbox": [
           {
            "marker": {
             "colorbar": {
              "outlinewidth": 0,
              "ticks": ""
             }
            },
            "type": "scattermapbox"
           }
          ],
          "scatterpolar": [
           {
            "marker": {
             "colorbar": {
              "outlinewidth": 0,
              "ticks": ""
             }
            },
            "type": "scatterpolar"
           }
          ],
          "scatterpolargl": [
           {
            "marker": {
             "colorbar": {
              "outlinewidth": 0,
              "ticks": ""
             }
            },
            "type": "scatterpolargl"
           }
          ],
          "scatterternary": [
           {
            "marker": {
             "colorbar": {
              "outlinewidth": 0,
              "ticks": ""
             }
            },
            "type": "scatterternary"
           }
          ],
          "surface": [
           {
            "colorbar": {
             "outlinewidth": 0,
             "ticks": ""
            },
            "colorscale": [
             [
              0,
              "#0d0887"
             ],
             [
              0.1111111111111111,
              "#46039f"
             ],
             [
              0.2222222222222222,
              "#7201a8"
             ],
             [
              0.3333333333333333,
              "#9c179e"
             ],
             [
              0.4444444444444444,
              "#bd3786"
             ],
             [
              0.5555555555555556,
              "#d8576b"
             ],
             [
              0.6666666666666666,
              "#ed7953"
             ],
             [
              0.7777777777777778,
              "#fb9f3a"
             ],
             [
              0.8888888888888888,
              "#fdca26"
             ],
             [
              1,
              "#f0f921"
             ]
            ],
            "type": "surface"
           }
          ],
          "table": [
           {
            "cells": {
             "fill": {
              "color": "#EBF0F8"
             },
             "line": {
              "color": "white"
             }
            },
            "header": {
             "fill": {
              "color": "#C8D4E3"
             },
             "line": {
              "color": "white"
             }
            },
            "type": "table"
           }
          ]
         },
         "layout": {
          "annotationdefaults": {
           "arrowcolor": "#2a3f5f",
           "arrowhead": 0,
           "arrowwidth": 1
          },
          "autotypenumbers": "strict",
          "coloraxis": {
           "colorbar": {
            "outlinewidth": 0,
            "ticks": ""
           }
          },
          "colorscale": {
           "diverging": [
            [
             0,
             "#8e0152"
            ],
            [
             0.1,
             "#c51b7d"
            ],
            [
             0.2,
             "#de77ae"
            ],
            [
             0.3,
             "#f1b6da"
            ],
            [
             0.4,
             "#fde0ef"
            ],
            [
             0.5,
             "#f7f7f7"
            ],
            [
             0.6,
             "#e6f5d0"
            ],
            [
             0.7,
             "#b8e186"
            ],
            [
             0.8,
             "#7fbc41"
            ],
            [
             0.9,
             "#4d9221"
            ],
            [
             1,
             "#276419"
            ]
           ],
           "sequential": [
            [
             0,
             "#0d0887"
            ],
            [
             0.1111111111111111,
             "#46039f"
            ],
            [
             0.2222222222222222,
             "#7201a8"
            ],
            [
             0.3333333333333333,
             "#9c179e"
            ],
            [
             0.4444444444444444,
             "#bd3786"
            ],
            [
             0.5555555555555556,
             "#d8576b"
            ],
            [
             0.6666666666666666,
             "#ed7953"
            ],
            [
             0.7777777777777778,
             "#fb9f3a"
            ],
            [
             0.8888888888888888,
             "#fdca26"
            ],
            [
             1,
             "#f0f921"
            ]
           ],
           "sequentialminus": [
            [
             0,
             "#0d0887"
            ],
            [
             0.1111111111111111,
             "#46039f"
            ],
            [
             0.2222222222222222,
             "#7201a8"
            ],
            [
             0.3333333333333333,
             "#9c179e"
            ],
            [
             0.4444444444444444,
             "#bd3786"
            ],
            [
             0.5555555555555556,
             "#d8576b"
            ],
            [
             0.6666666666666666,
             "#ed7953"
            ],
            [
             0.7777777777777778,
             "#fb9f3a"
            ],
            [
             0.8888888888888888,
             "#fdca26"
            ],
            [
             1,
             "#f0f921"
            ]
           ]
          },
          "colorway": [
           "#636efa",
           "#EF553B",
           "#00cc96",
           "#ab63fa",
           "#FFA15A",
           "#19d3f3",
           "#FF6692",
           "#B6E880",
           "#FF97FF",
           "#FECB52"
          ],
          "font": {
           "color": "#2a3f5f"
          },
          "geo": {
           "bgcolor": "white",
           "lakecolor": "white",
           "landcolor": "white",
           "showlakes": true,
           "showland": true,
           "subunitcolor": "#C8D4E3"
          },
          "hoverlabel": {
           "align": "left"
          },
          "hovermode": "closest",
          "mapbox": {
           "style": "light"
          },
          "paper_bgcolor": "white",
          "plot_bgcolor": "white",
          "polar": {
           "angularaxis": {
            "gridcolor": "#EBF0F8",
            "linecolor": "#EBF0F8",
            "ticks": ""
           },
           "bgcolor": "white",
           "radialaxis": {
            "gridcolor": "#EBF0F8",
            "linecolor": "#EBF0F8",
            "ticks": ""
           }
          },
          "scene": {
           "xaxis": {
            "backgroundcolor": "white",
            "gridcolor": "#DFE8F3",
            "gridwidth": 2,
            "linecolor": "#EBF0F8",
            "showbackground": true,
            "ticks": "",
            "zerolinecolor": "#EBF0F8"
           },
           "yaxis": {
            "backgroundcolor": "white",
            "gridcolor": "#DFE8F3",
            "gridwidth": 2,
            "linecolor": "#EBF0F8",
            "showbackground": true,
            "ticks": "",
            "zerolinecolor": "#EBF0F8"
           },
           "zaxis": {
            "backgroundcolor": "white",
            "gridcolor": "#DFE8F3",
            "gridwidth": 2,
            "linecolor": "#EBF0F8",
            "showbackground": true,
            "ticks": "",
            "zerolinecolor": "#EBF0F8"
           }
          },
          "shapedefaults": {
           "line": {
            "color": "#2a3f5f"
           }
          },
          "ternary": {
           "aaxis": {
            "gridcolor": "#DFE8F3",
            "linecolor": "#A2B1C6",
            "ticks": ""
           },
           "baxis": {
            "gridcolor": "#DFE8F3",
            "linecolor": "#A2B1C6",
            "ticks": ""
           },
           "bgcolor": "white",
           "caxis": {
            "gridcolor": "#DFE8F3",
            "linecolor": "#A2B1C6",
            "ticks": ""
           }
          },
          "title": {
           "x": 0.05
          },
          "xaxis": {
           "automargin": true,
           "gridcolor": "#EBF0F8",
           "linecolor": "#EBF0F8",
           "ticks": "",
           "title": {
            "standoff": 15
           },
           "zerolinecolor": "#EBF0F8",
           "zerolinewidth": 2
          },
          "yaxis": {
           "automargin": true,
           "gridcolor": "#EBF0F8",
           "linecolor": "#EBF0F8",
           "ticks": "",
           "title": {
            "standoff": 15
           },
           "zerolinecolor": "#EBF0F8",
           "zerolinewidth": 2
          }
         }
        },
        "title": {
         "text": "Confusion Matrix"
        },
        "xaxis": {
         "title": {
          "text": "Predicted label"
         }
        },
        "yaxis": {
         "autorange": "reversed",
         "title": {
          "text": "True label"
         }
        }
       }
      }
     },
     "metadata": {},
     "output_type": "display_data"
    }
   ],
   "source": [
    "evaluator.plot_confusion(evaluator.df_test['target'], evaluator.df_test['y_pred_proba'], threshold='ks')"
   ]
  },
  {
   "cell_type": "code",
   "execution_count": 51,
   "metadata": {},
   "outputs": [
    {
     "data": {
      "application/vnd.plotly.v1+json": {
       "config": {
        "plotlyServerURL": "https://plot.ly"
       },
       "data": [
        {
         "mode": "lines+markers",
         "name": "Model",
         "type": "scatter",
         "x": {
          "bdata": "qmbG9oUMpz9ZD7+szmXCP0c+vz5ZW88/NIyvDQNI1j/BoAgsqKPcP6X9WkFRi+E/AEcVZ6G95D+/s1F5SffnP3htmR4/F+s/hl+Nefui7T8=",
          "dtype": "f8"
         },
         "y": {
          "bdata": "dhcHVIqloT8hQJ8HU8nFPxSGPsw0aNQ/CWoqRBs+3z+Scxo5p5HjP2P8AtEmneg/3m632+126z8LYnIFMbnuPxZ2n+/aMu0/AAAAAAAA8D8=",
          "dtype": "f8"
         }
        },
        {
         "line": {
          "dash": "dash"
         },
         "mode": "lines",
         "name": "Ideal",
         "type": "scatter",
         "x": [
          0,
          1
         ],
         "y": [
          0,
          1
         ]
        }
       ],
       "layout": {
        "template": {
         "data": {
          "bar": [
           {
            "error_x": {
             "color": "#2a3f5f"
            },
            "error_y": {
             "color": "#2a3f5f"
            },
            "marker": {
             "line": {
              "color": "white",
              "width": 0.5
             },
             "pattern": {
              "fillmode": "overlay",
              "size": 10,
              "solidity": 0.2
             }
            },
            "type": "bar"
           }
          ],
          "barpolar": [
           {
            "marker": {
             "line": {
              "color": "white",
              "width": 0.5
             },
             "pattern": {
              "fillmode": "overlay",
              "size": 10,
              "solidity": 0.2
             }
            },
            "type": "barpolar"
           }
          ],
          "carpet": [
           {
            "aaxis": {
             "endlinecolor": "#2a3f5f",
             "gridcolor": "#C8D4E3",
             "linecolor": "#C8D4E3",
             "minorgridcolor": "#C8D4E3",
             "startlinecolor": "#2a3f5f"
            },
            "baxis": {
             "endlinecolor": "#2a3f5f",
             "gridcolor": "#C8D4E3",
             "linecolor": "#C8D4E3",
             "minorgridcolor": "#C8D4E3",
             "startlinecolor": "#2a3f5f"
            },
            "type": "carpet"
           }
          ],
          "choropleth": [
           {
            "colorbar": {
             "outlinewidth": 0,
             "ticks": ""
            },
            "type": "choropleth"
           }
          ],
          "contour": [
           {
            "colorbar": {
             "outlinewidth": 0,
             "ticks": ""
            },
            "colorscale": [
             [
              0,
              "#0d0887"
             ],
             [
              0.1111111111111111,
              "#46039f"
             ],
             [
              0.2222222222222222,
              "#7201a8"
             ],
             [
              0.3333333333333333,
              "#9c179e"
             ],
             [
              0.4444444444444444,
              "#bd3786"
             ],
             [
              0.5555555555555556,
              "#d8576b"
             ],
             [
              0.6666666666666666,
              "#ed7953"
             ],
             [
              0.7777777777777778,
              "#fb9f3a"
             ],
             [
              0.8888888888888888,
              "#fdca26"
             ],
             [
              1,
              "#f0f921"
             ]
            ],
            "type": "contour"
           }
          ],
          "contourcarpet": [
           {
            "colorbar": {
             "outlinewidth": 0,
             "ticks": ""
            },
            "type": "contourcarpet"
           }
          ],
          "heatmap": [
           {
            "colorbar": {
             "outlinewidth": 0,
             "ticks": ""
            },
            "colorscale": [
             [
              0,
              "#0d0887"
             ],
             [
              0.1111111111111111,
              "#46039f"
             ],
             [
              0.2222222222222222,
              "#7201a8"
             ],
             [
              0.3333333333333333,
              "#9c179e"
             ],
             [
              0.4444444444444444,
              "#bd3786"
             ],
             [
              0.5555555555555556,
              "#d8576b"
             ],
             [
              0.6666666666666666,
              "#ed7953"
             ],
             [
              0.7777777777777778,
              "#fb9f3a"
             ],
             [
              0.8888888888888888,
              "#fdca26"
             ],
             [
              1,
              "#f0f921"
             ]
            ],
            "type": "heatmap"
           }
          ],
          "histogram": [
           {
            "marker": {
             "pattern": {
              "fillmode": "overlay",
              "size": 10,
              "solidity": 0.2
             }
            },
            "type": "histogram"
           }
          ],
          "histogram2d": [
           {
            "colorbar": {
             "outlinewidth": 0,
             "ticks": ""
            },
            "colorscale": [
             [
              0,
              "#0d0887"
             ],
             [
              0.1111111111111111,
              "#46039f"
             ],
             [
              0.2222222222222222,
              "#7201a8"
             ],
             [
              0.3333333333333333,
              "#9c179e"
             ],
             [
              0.4444444444444444,
              "#bd3786"
             ],
             [
              0.5555555555555556,
              "#d8576b"
             ],
             [
              0.6666666666666666,
              "#ed7953"
             ],
             [
              0.7777777777777778,
              "#fb9f3a"
             ],
             [
              0.8888888888888888,
              "#fdca26"
             ],
             [
              1,
              "#f0f921"
             ]
            ],
            "type": "histogram2d"
           }
          ],
          "histogram2dcontour": [
           {
            "colorbar": {
             "outlinewidth": 0,
             "ticks": ""
            },
            "colorscale": [
             [
              0,
              "#0d0887"
             ],
             [
              0.1111111111111111,
              "#46039f"
             ],
             [
              0.2222222222222222,
              "#7201a8"
             ],
             [
              0.3333333333333333,
              "#9c179e"
             ],
             [
              0.4444444444444444,
              "#bd3786"
             ],
             [
              0.5555555555555556,
              "#d8576b"
             ],
             [
              0.6666666666666666,
              "#ed7953"
             ],
             [
              0.7777777777777778,
              "#fb9f3a"
             ],
             [
              0.8888888888888888,
              "#fdca26"
             ],
             [
              1,
              "#f0f921"
             ]
            ],
            "type": "histogram2dcontour"
           }
          ],
          "mesh3d": [
           {
            "colorbar": {
             "outlinewidth": 0,
             "ticks": ""
            },
            "type": "mesh3d"
           }
          ],
          "parcoords": [
           {
            "line": {
             "colorbar": {
              "outlinewidth": 0,
              "ticks": ""
             }
            },
            "type": "parcoords"
           }
          ],
          "pie": [
           {
            "automargin": true,
            "type": "pie"
           }
          ],
          "scatter": [
           {
            "fillpattern": {
             "fillmode": "overlay",
             "size": 10,
             "solidity": 0.2
            },
            "type": "scatter"
           }
          ],
          "scatter3d": [
           {
            "line": {
             "colorbar": {
              "outlinewidth": 0,
              "ticks": ""
             }
            },
            "marker": {
             "colorbar": {
              "outlinewidth": 0,
              "ticks": ""
             }
            },
            "type": "scatter3d"
           }
          ],
          "scattercarpet": [
           {
            "marker": {
             "colorbar": {
              "outlinewidth": 0,
              "ticks": ""
             }
            },
            "type": "scattercarpet"
           }
          ],
          "scattergeo": [
           {
            "marker": {
             "colorbar": {
              "outlinewidth": 0,
              "ticks": ""
             }
            },
            "type": "scattergeo"
           }
          ],
          "scattergl": [
           {
            "marker": {
             "colorbar": {
              "outlinewidth": 0,
              "ticks": ""
             }
            },
            "type": "scattergl"
           }
          ],
          "scattermap": [
           {
            "marker": {
             "colorbar": {
              "outlinewidth": 0,
              "ticks": ""
             }
            },
            "type": "scattermap"
           }
          ],
          "scattermapbox": [
           {
            "marker": {
             "colorbar": {
              "outlinewidth": 0,
              "ticks": ""
             }
            },
            "type": "scattermapbox"
           }
          ],
          "scatterpolar": [
           {
            "marker": {
             "colorbar": {
              "outlinewidth": 0,
              "ticks": ""
             }
            },
            "type": "scatterpolar"
           }
          ],
          "scatterpolargl": [
           {
            "marker": {
             "colorbar": {
              "outlinewidth": 0,
              "ticks": ""
             }
            },
            "type": "scatterpolargl"
           }
          ],
          "scatterternary": [
           {
            "marker": {
             "colorbar": {
              "outlinewidth": 0,
              "ticks": ""
             }
            },
            "type": "scatterternary"
           }
          ],
          "surface": [
           {
            "colorbar": {
             "outlinewidth": 0,
             "ticks": ""
            },
            "colorscale": [
             [
              0,
              "#0d0887"
             ],
             [
              0.1111111111111111,
              "#46039f"
             ],
             [
              0.2222222222222222,
              "#7201a8"
             ],
             [
              0.3333333333333333,
              "#9c179e"
             ],
             [
              0.4444444444444444,
              "#bd3786"
             ],
             [
              0.5555555555555556,
              "#d8576b"
             ],
             [
              0.6666666666666666,
              "#ed7953"
             ],
             [
              0.7777777777777778,
              "#fb9f3a"
             ],
             [
              0.8888888888888888,
              "#fdca26"
             ],
             [
              1,
              "#f0f921"
             ]
            ],
            "type": "surface"
           }
          ],
          "table": [
           {
            "cells": {
             "fill": {
              "color": "#EBF0F8"
             },
             "line": {
              "color": "white"
             }
            },
            "header": {
             "fill": {
              "color": "#C8D4E3"
             },
             "line": {
              "color": "white"
             }
            },
            "type": "table"
           }
          ]
         },
         "layout": {
          "annotationdefaults": {
           "arrowcolor": "#2a3f5f",
           "arrowhead": 0,
           "arrowwidth": 1
          },
          "autotypenumbers": "strict",
          "coloraxis": {
           "colorbar": {
            "outlinewidth": 0,
            "ticks": ""
           }
          },
          "colorscale": {
           "diverging": [
            [
             0,
             "#8e0152"
            ],
            [
             0.1,
             "#c51b7d"
            ],
            [
             0.2,
             "#de77ae"
            ],
            [
             0.3,
             "#f1b6da"
            ],
            [
             0.4,
             "#fde0ef"
            ],
            [
             0.5,
             "#f7f7f7"
            ],
            [
             0.6,
             "#e6f5d0"
            ],
            [
             0.7,
             "#b8e186"
            ],
            [
             0.8,
             "#7fbc41"
            ],
            [
             0.9,
             "#4d9221"
            ],
            [
             1,
             "#276419"
            ]
           ],
           "sequential": [
            [
             0,
             "#0d0887"
            ],
            [
             0.1111111111111111,
             "#46039f"
            ],
            [
             0.2222222222222222,
             "#7201a8"
            ],
            [
             0.3333333333333333,
             "#9c179e"
            ],
            [
             0.4444444444444444,
             "#bd3786"
            ],
            [
             0.5555555555555556,
             "#d8576b"
            ],
            [
             0.6666666666666666,
             "#ed7953"
            ],
            [
             0.7777777777777778,
             "#fb9f3a"
            ],
            [
             0.8888888888888888,
             "#fdca26"
            ],
            [
             1,
             "#f0f921"
            ]
           ],
           "sequentialminus": [
            [
             0,
             "#0d0887"
            ],
            [
             0.1111111111111111,
             "#46039f"
            ],
            [
             0.2222222222222222,
             "#7201a8"
            ],
            [
             0.3333333333333333,
             "#9c179e"
            ],
            [
             0.4444444444444444,
             "#bd3786"
            ],
            [
             0.5555555555555556,
             "#d8576b"
            ],
            [
             0.6666666666666666,
             "#ed7953"
            ],
            [
             0.7777777777777778,
             "#fb9f3a"
            ],
            [
             0.8888888888888888,
             "#fdca26"
            ],
            [
             1,
             "#f0f921"
            ]
           ]
          },
          "colorway": [
           "#636efa",
           "#EF553B",
           "#00cc96",
           "#ab63fa",
           "#FFA15A",
           "#19d3f3",
           "#FF6692",
           "#B6E880",
           "#FF97FF",
           "#FECB52"
          ],
          "font": {
           "color": "#2a3f5f"
          },
          "geo": {
           "bgcolor": "white",
           "lakecolor": "white",
           "landcolor": "white",
           "showlakes": true,
           "showland": true,
           "subunitcolor": "#C8D4E3"
          },
          "hoverlabel": {
           "align": "left"
          },
          "hovermode": "closest",
          "mapbox": {
           "style": "light"
          },
          "paper_bgcolor": "white",
          "plot_bgcolor": "white",
          "polar": {
           "angularaxis": {
            "gridcolor": "#EBF0F8",
            "linecolor": "#EBF0F8",
            "ticks": ""
           },
           "bgcolor": "white",
           "radialaxis": {
            "gridcolor": "#EBF0F8",
            "linecolor": "#EBF0F8",
            "ticks": ""
           }
          },
          "scene": {
           "xaxis": {
            "backgroundcolor": "white",
            "gridcolor": "#DFE8F3",
            "gridwidth": 2,
            "linecolor": "#EBF0F8",
            "showbackground": true,
            "ticks": "",
            "zerolinecolor": "#EBF0F8"
           },
           "yaxis": {
            "backgroundcolor": "white",
            "gridcolor": "#DFE8F3",
            "gridwidth": 2,
            "linecolor": "#EBF0F8",
            "showbackground": true,
            "ticks": "",
            "zerolinecolor": "#EBF0F8"
           },
           "zaxis": {
            "backgroundcolor": "white",
            "gridcolor": "#DFE8F3",
            "gridwidth": 2,
            "linecolor": "#EBF0F8",
            "showbackground": true,
            "ticks": "",
            "zerolinecolor": "#EBF0F8"
           }
          },
          "shapedefaults": {
           "line": {
            "color": "#2a3f5f"
           }
          },
          "ternary": {
           "aaxis": {
            "gridcolor": "#DFE8F3",
            "linecolor": "#A2B1C6",
            "ticks": ""
           },
           "baxis": {
            "gridcolor": "#DFE8F3",
            "linecolor": "#A2B1C6",
            "ticks": ""
           },
           "bgcolor": "white",
           "caxis": {
            "gridcolor": "#DFE8F3",
            "linecolor": "#A2B1C6",
            "ticks": ""
           }
          },
          "title": {
           "x": 0.05
          },
          "xaxis": {
           "automargin": true,
           "gridcolor": "#EBF0F8",
           "linecolor": "#EBF0F8",
           "ticks": "",
           "title": {
            "standoff": 15
           },
           "zerolinecolor": "#EBF0F8",
           "zerolinewidth": 2
          },
          "yaxis": {
           "automargin": true,
           "gridcolor": "#EBF0F8",
           "linecolor": "#EBF0F8",
           "ticks": "",
           "title": {
            "standoff": 15
           },
           "zerolinecolor": "#EBF0F8",
           "zerolinewidth": 2
          }
         }
        },
        "title": {
         "text": "Calibration Curve – Test (Brier = 0.0943)"
        },
        "xaxis": {
         "title": {
          "text": "Predicted probability"
         }
        },
        "yaxis": {
         "title": {
          "text": "Observed frequency"
         }
        }
       }
      }
     },
     "metadata": {},
     "output_type": "display_data"
    }
   ],
   "source": [
    "evaluator.plot_calibration()"
   ]
  },
  {
   "cell_type": "code",
   "execution_count": 52,
   "metadata": {},
   "outputs": [
    {
     "data": {
      "application/vnd.plotly.v1+json": {
       "config": {
        "plotlyServerURL": "https://plot.ly"
       },
       "data": [
        {
         "line": {
          "color": "rgb(217,58,70)"
         },
         "mode": "lines+markers",
         "name": "(-inf, 526.83)",
         "type": "scatter",
         "x": [
          "2022-01-01T00:01:00.000000000",
          "2022-01-31T00:01:00.000000000",
          "2022-02-28T00:01:00.000000000",
          "2022-03-31T00:01:00.000000000",
          "2022-04-30T00:01:00.000000000",
          "2022-05-31T00:01:00.000000000",
          "2022-06-30T00:01:00.000000000",
          "2022-07-31T00:01:00.000000000",
          "2022-08-31T00:01:00.000000000",
          "2022-09-30T00:01:00.000000000",
          "2022-10-31T00:01:00.000000000",
          "2022-11-30T00:01:00.000000000",
          "2022-12-31T00:01:00.000000000",
          "2023-01-31T00:01:00.000000000",
          "2023-02-28T00:01:00.000000000",
          "2023-03-31T00:01:00.000000000",
          "2023-04-30T00:01:00.000000000",
          "2023-05-31T00:01:00.000000000",
          "2023-06-30T00:01:00.000000000",
          "2023-07-31T00:01:00.000000000",
          "2023-08-31T00:01:00.000000000",
          "2023-09-30T00:01:00.000000000",
          "2023-10-31T00:01:00.000000000",
          "2023-11-30T00:01:00.000000000",
          "2023-12-31T00:01:00.000000000",
          "2024-01-31T00:01:00.000000000",
          "2024-02-29T00:01:00.000000000",
          "2024-03-31T00:01:00.000000000",
          "2024-04-30T00:01:00.000000000",
          "2024-05-31T00:01:00.000000000",
          "2024-06-30T00:01:00.000000000",
          "2024-07-31T00:01:00.000000000",
          "2024-08-31T00:01:00.000000000",
          "2024-09-30T00:01:00.000000000",
          "2024-10-31T00:01:00.000000000",
          "2024-11-30T00:01:00.000000000",
          "2024-12-31T00:01:00.000000000"
         ],
         "y": {
          "bdata": "AAAAAAAA8D/cWAalwsTrP2tMpAcqZ+c/jbDc0wjL7T8IgiAIgiDoP26KUcPfpug/r6G8hvIa6j8Opshn3WDqP8qcb0IV6Oo/t23btm3b5j85juM4juPoP+q+PLYiaOg/F1100UUX7T/EHXFH3BHnP7q5ubm5uek/yKR4gUyK5z/fe++9997rP+5ST8Zvl+o/src2THMX7D+oEZZ7GmHpP47jOI7jOOo/SZIkSZIk6T+amZmZmZnpP3aDKfJZN+g/GmG5pxGW6z+rqqqqqqrqP5qZmZmZmek/BzptoNMG6j+ogzqogzroPz744IMPPug/X0J7Ce0l5D9ba6211lrrP/iBH/iBH+g/HXOJ8KQg6T+1tLS0tLTsP55lRB9QHes/QnsJ7SW05z8=",
          "dtype": "f8"
         }
        },
        {
         "line": {
          "color": "rgb(230,148,154)"
         },
         "mode": "lines+markers",
         "name": "[526.83, 711.23)",
         "type": "scatter",
         "x": [
          "2022-01-01T00:01:00.000000000",
          "2022-01-31T00:01:00.000000000",
          "2022-02-28T00:01:00.000000000",
          "2022-03-31T00:01:00.000000000",
          "2022-04-30T00:01:00.000000000",
          "2022-05-31T00:01:00.000000000",
          "2022-06-30T00:01:00.000000000",
          "2022-07-31T00:01:00.000000000",
          "2022-08-31T00:01:00.000000000",
          "2022-09-30T00:01:00.000000000",
          "2022-10-31T00:01:00.000000000",
          "2022-11-30T00:01:00.000000000",
          "2022-12-31T00:01:00.000000000",
          "2023-01-31T00:01:00.000000000",
          "2023-02-28T00:01:00.000000000",
          "2023-03-31T00:01:00.000000000",
          "2023-04-30T00:01:00.000000000",
          "2023-05-31T00:01:00.000000000",
          "2023-06-30T00:01:00.000000000",
          "2023-07-31T00:01:00.000000000",
          "2023-08-31T00:01:00.000000000",
          "2023-09-30T00:01:00.000000000",
          "2023-10-31T00:01:00.000000000",
          "2023-11-30T00:01:00.000000000",
          "2023-12-31T00:01:00.000000000",
          "2024-01-31T00:01:00.000000000",
          "2024-02-29T00:01:00.000000000",
          "2024-03-31T00:01:00.000000000",
          "2024-04-30T00:01:00.000000000",
          "2024-05-31T00:01:00.000000000",
          "2024-06-30T00:01:00.000000000",
          "2024-07-31T00:01:00.000000000",
          "2024-08-31T00:01:00.000000000",
          "2024-09-30T00:01:00.000000000",
          "2024-10-31T00:01:00.000000000",
          "2024-11-30T00:01:00.000000000",
          "2024-12-31T00:01:00.000000000"
         ],
         "y": {
          "bdata": "ROLIy0e96z8VvJyCl1PgP4/C9Shcj+I/ZCELWchC1j8rEEbasQLhP/NSInikv94/GPQFfUFf4D+rqqqqqqrcP3kN5TWU1+A/jLeyzyE14T/QusEU+azbP1100UUXXdw/j8L1KFyP4j9fX19fX1/fPyebbLLJJts/jC666KKL3j8eHh4eHh7eP7KxsbGxseE/xJsRb0a82T8441okqKngP8TkCmJyBeE/oJ+fn5+f3z9kcD4G52PgPxaykIUsZOE/DeU1lNdQ3j/DMAzDMAzjPxdddNFFF90/RhdddNFF3z9ddNFFF13gP0jhehSuR+E/MjIyMjIy4j9yXhbxCaTiPwAAAAAAAOA/v/RLv/RL3z9xPQrXo3DdP4wuuuiii+A/0iAN0iAN4j8=",
          "dtype": "f8"
         }
        },
        {
         "line": {
          "color": "rgb(242,241,241)"
         },
         "mode": "lines+markers",
         "name": "[711.23, 909.45)",
         "type": "scatter",
         "x": [
          "2022-01-01T00:01:00.000000000",
          "2022-01-31T00:01:00.000000000",
          "2022-02-28T00:01:00.000000000",
          "2022-03-31T00:01:00.000000000",
          "2022-04-30T00:01:00.000000000",
          "2022-05-31T00:01:00.000000000",
          "2022-06-30T00:01:00.000000000",
          "2022-07-31T00:01:00.000000000",
          "2022-08-31T00:01:00.000000000",
          "2022-09-30T00:01:00.000000000",
          "2022-10-31T00:01:00.000000000",
          "2022-11-30T00:01:00.000000000",
          "2022-12-31T00:01:00.000000000",
          "2023-01-31T00:01:00.000000000",
          "2023-02-28T00:01:00.000000000",
          "2023-03-31T00:01:00.000000000",
          "2023-04-30T00:01:00.000000000",
          "2023-05-31T00:01:00.000000000",
          "2023-06-30T00:01:00.000000000",
          "2023-07-31T00:01:00.000000000",
          "2023-08-31T00:01:00.000000000",
          "2023-09-30T00:01:00.000000000",
          "2023-10-31T00:01:00.000000000",
          "2023-11-30T00:01:00.000000000",
          "2023-12-31T00:01:00.000000000",
          "2024-01-31T00:01:00.000000000",
          "2024-02-29T00:01:00.000000000",
          "2024-03-31T00:01:00.000000000",
          "2024-04-30T00:01:00.000000000",
          "2024-05-31T00:01:00.000000000",
          "2024-06-30T00:01:00.000000000",
          "2024-07-31T00:01:00.000000000",
          "2024-08-31T00:01:00.000000000",
          "2024-09-30T00:01:00.000000000",
          "2024-10-31T00:01:00.000000000",
          "2024-11-30T00:01:00.000000000",
          "2024-12-31T00:01:00.000000000"
         ],
         "y": {
          "bdata": "/0eXr10Dzj+AUeFfVPjHPwubA4lW2Mw/AAAAAAAAyD9paWlpaWnJPyhlHMCPvMc/UOtXCtT6xT9YtvlygGXLP7PPITXBeMs/mpmZmZmZyT/WDabIZ93QP6B4A6SFKsk/61x5QLLOxT/xqzGRHqjMPx0V+OLqB80/BqLSkT0DwT/blahdidrFP4f8W3rV5so/UsPfphg1zD8LhJF2rEDIP1gWeGWBV8Y/1s5qZ7Wzyj9huacRlnvKP2XHLCVsgMg/+awbTJHPyj/qo9UkRPHHP6kn47dLPck/JtIDlbNbyD9vj7UMHbDLP6vkzc6l2sA/dNFFF1100T/qoA7qoA7KP/nTFhqwpMc/WqAFWqAFyj+qz7Q1/m7OP/KfEfjpics/+awbTJHPyj8=",
          "dtype": "f8"
         }
        },
        {
         "line": {
          "color": "rgb(153,183,205)"
         },
         "mode": "lines+markers",
         "name": "[909.45, 966.40)",
         "type": "scatter",
         "x": [
          "2022-01-01T00:01:00.000000000",
          "2022-01-31T00:01:00.000000000",
          "2022-02-28T00:01:00.000000000",
          "2022-03-31T00:01:00.000000000",
          "2022-04-30T00:01:00.000000000",
          "2022-05-31T00:01:00.000000000",
          "2022-06-30T00:01:00.000000000",
          "2022-07-31T00:01:00.000000000",
          "2022-08-31T00:01:00.000000000",
          "2022-09-30T00:01:00.000000000",
          "2022-10-31T00:01:00.000000000",
          "2022-11-30T00:01:00.000000000",
          "2022-12-31T00:01:00.000000000",
          "2023-01-31T00:01:00.000000000",
          "2023-02-28T00:01:00.000000000",
          "2023-03-31T00:01:00.000000000",
          "2023-04-30T00:01:00.000000000",
          "2023-05-31T00:01:00.000000000",
          "2023-06-30T00:01:00.000000000",
          "2023-07-31T00:01:00.000000000",
          "2023-08-31T00:01:00.000000000",
          "2023-09-30T00:01:00.000000000",
          "2023-10-31T00:01:00.000000000",
          "2023-11-30T00:01:00.000000000",
          "2023-12-31T00:01:00.000000000",
          "2024-01-31T00:01:00.000000000",
          "2024-02-29T00:01:00.000000000",
          "2024-03-31T00:01:00.000000000",
          "2024-04-30T00:01:00.000000000",
          "2024-05-31T00:01:00.000000000",
          "2024-06-30T00:01:00.000000000",
          "2024-07-31T00:01:00.000000000",
          "2024-08-31T00:01:00.000000000",
          "2024-09-30T00:01:00.000000000",
          "2024-10-31T00:01:00.000000000",
          "2024-11-30T00:01:00.000000000",
          "2024-12-31T00:01:00.000000000"
         ],
         "y": {
          "bdata": "dptjtzl2mz/uj6tT0lSpP+fXHnJZMbA/hBBCCCGEoD8ZErALN+KoPxy5kRu5kas/0LrBFPmsqz+035TnEsiqP9Y0IfmxwK4/E98Xtfwboj+kDDzdmh+mP4pGzb/apLA/nhLkKUGesj/TGDCNAdOoP4s5tmuqm6c/VVVVVVVVpT/0JxmLapidP8EOhHd6LqM/gsU8sJgHpj+gcnYLvxqjP6CkggFKKqg/0xgwjQHTmD+cML+rxU2oPxEREREREbE/nhLkKUGeoj/SeYshnbeoPxmcj8H5GKw/hr3Sn7Mdrz+XlpaWlpamP1Km4rlmdag/H+/xHu/xrj+9AC25H4+qP1aKCbqrFJM/7Q9ImVXjpz+cML+rxU2oP8BslgHMZpk/XJzWbJ+orj8=",
          "dtype": "f8"
         }
        },
        {
         "line": {
          "color": "rgb(65,124,167)"
         },
         "mode": "lines+markers",
         "name": "[966.40, inf)",
         "type": "scatter",
         "x": [
          "2022-01-01T00:01:00.000000000",
          "2022-01-31T00:01:00.000000000",
          "2022-02-28T00:01:00.000000000",
          "2022-03-31T00:01:00.000000000",
          "2022-04-30T00:01:00.000000000",
          "2022-05-31T00:01:00.000000000",
          "2022-06-30T00:01:00.000000000",
          "2022-07-31T00:01:00.000000000",
          "2022-08-31T00:01:00.000000000",
          "2022-09-30T00:01:00.000000000",
          "2022-10-31T00:01:00.000000000",
          "2022-11-30T00:01:00.000000000",
          "2022-12-31T00:01:00.000000000",
          "2023-01-31T00:01:00.000000000",
          "2023-02-28T00:01:00.000000000",
          "2023-03-31T00:01:00.000000000",
          "2023-04-30T00:01:00.000000000",
          "2023-05-31T00:01:00.000000000",
          "2023-06-30T00:01:00.000000000",
          "2023-07-31T00:01:00.000000000",
          "2023-08-31T00:01:00.000000000",
          "2023-09-30T00:01:00.000000000",
          "2023-10-31T00:01:00.000000000",
          "2023-11-30T00:01:00.000000000",
          "2023-12-31T00:01:00.000000000",
          "2024-01-31T00:01:00.000000000",
          "2024-02-29T00:01:00.000000000",
          "2024-03-31T00:01:00.000000000",
          "2024-04-30T00:01:00.000000000",
          "2024-05-31T00:01:00.000000000",
          "2024-06-30T00:01:00.000000000",
          "2024-07-31T00:01:00.000000000",
          "2024-08-31T00:01:00.000000000",
          "2024-09-30T00:01:00.000000000",
          "2024-10-31T00:01:00.000000000",
          "2024-11-30T00:01:00.000000000",
          "2024-12-31T00:01:00.000000000"
         ],
         "y": {
          "bdata": "kQPo2l8bez8R8P4Q8P5wP5eAS8Al4II/AAAAAAAAAABZ4Bz8IsWBP71KLmf12IE/ntiJndiJjT+eEuQpQZ6CP+Ysm3/GNHk/HAjNGwjNiz8SGIERGIGRP3lzQokGbnE/AAAAAAAAAAAAAAAAAAAAAMF4K/scUnM/E7CIErCIcj872rxPccmgP/vZYmX4RnQ/nKKMgFOUgT/xkoBwIl6CP54S5ClBnpI/RaGbkuoQiz8AAAAAAAAAAPoYnI/B+Yg/+9liZfhGhD/bgbl2YK59P54S5ClBnoI/24G5dmCujT+eEuQpQZ5yPwAAAAAAAAAAFfji6gcdhT8UO7ETO7FzPxwIzRsIzYs/mpmZmZmZeT9kIQtZyEKWP9srkIOwinE/Ecg1Ecg1gT8=",
          "dtype": "f8"
         }
        }
       ],
       "layout": {
        "template": {
         "data": {
          "bar": [
           {
            "error_x": {
             "color": "#2a3f5f"
            },
            "error_y": {
             "color": "#2a3f5f"
            },
            "marker": {
             "line": {
              "color": "white",
              "width": 0.5
             },
             "pattern": {
              "fillmode": "overlay",
              "size": 10,
              "solidity": 0.2
             }
            },
            "type": "bar"
           }
          ],
          "barpolar": [
           {
            "marker": {
             "line": {
              "color": "white",
              "width": 0.5
             },
             "pattern": {
              "fillmode": "overlay",
              "size": 10,
              "solidity": 0.2
             }
            },
            "type": "barpolar"
           }
          ],
          "carpet": [
           {
            "aaxis": {
             "endlinecolor": "#2a3f5f",
             "gridcolor": "#C8D4E3",
             "linecolor": "#C8D4E3",
             "minorgridcolor": "#C8D4E3",
             "startlinecolor": "#2a3f5f"
            },
            "baxis": {
             "endlinecolor": "#2a3f5f",
             "gridcolor": "#C8D4E3",
             "linecolor": "#C8D4E3",
             "minorgridcolor": "#C8D4E3",
             "startlinecolor": "#2a3f5f"
            },
            "type": "carpet"
           }
          ],
          "choropleth": [
           {
            "colorbar": {
             "outlinewidth": 0,
             "ticks": ""
            },
            "type": "choropleth"
           }
          ],
          "contour": [
           {
            "colorbar": {
             "outlinewidth": 0,
             "ticks": ""
            },
            "colorscale": [
             [
              0,
              "#0d0887"
             ],
             [
              0.1111111111111111,
              "#46039f"
             ],
             [
              0.2222222222222222,
              "#7201a8"
             ],
             [
              0.3333333333333333,
              "#9c179e"
             ],
             [
              0.4444444444444444,
              "#bd3786"
             ],
             [
              0.5555555555555556,
              "#d8576b"
             ],
             [
              0.6666666666666666,
              "#ed7953"
             ],
             [
              0.7777777777777778,
              "#fb9f3a"
             ],
             [
              0.8888888888888888,
              "#fdca26"
             ],
             [
              1,
              "#f0f921"
             ]
            ],
            "type": "contour"
           }
          ],
          "contourcarpet": [
           {
            "colorbar": {
             "outlinewidth": 0,
             "ticks": ""
            },
            "type": "contourcarpet"
           }
          ],
          "heatmap": [
           {
            "colorbar": {
             "outlinewidth": 0,
             "ticks": ""
            },
            "colorscale": [
             [
              0,
              "#0d0887"
             ],
             [
              0.1111111111111111,
              "#46039f"
             ],
             [
              0.2222222222222222,
              "#7201a8"
             ],
             [
              0.3333333333333333,
              "#9c179e"
             ],
             [
              0.4444444444444444,
              "#bd3786"
             ],
             [
              0.5555555555555556,
              "#d8576b"
             ],
             [
              0.6666666666666666,
              "#ed7953"
             ],
             [
              0.7777777777777778,
              "#fb9f3a"
             ],
             [
              0.8888888888888888,
              "#fdca26"
             ],
             [
              1,
              "#f0f921"
             ]
            ],
            "type": "heatmap"
           }
          ],
          "histogram": [
           {
            "marker": {
             "pattern": {
              "fillmode": "overlay",
              "size": 10,
              "solidity": 0.2
             }
            },
            "type": "histogram"
           }
          ],
          "histogram2d": [
           {
            "colorbar": {
             "outlinewidth": 0,
             "ticks": ""
            },
            "colorscale": [
             [
              0,
              "#0d0887"
             ],
             [
              0.1111111111111111,
              "#46039f"
             ],
             [
              0.2222222222222222,
              "#7201a8"
             ],
             [
              0.3333333333333333,
              "#9c179e"
             ],
             [
              0.4444444444444444,
              "#bd3786"
             ],
             [
              0.5555555555555556,
              "#d8576b"
             ],
             [
              0.6666666666666666,
              "#ed7953"
             ],
             [
              0.7777777777777778,
              "#fb9f3a"
             ],
             [
              0.8888888888888888,
              "#fdca26"
             ],
             [
              1,
              "#f0f921"
             ]
            ],
            "type": "histogram2d"
           }
          ],
          "histogram2dcontour": [
           {
            "colorbar": {
             "outlinewidth": 0,
             "ticks": ""
            },
            "colorscale": [
             [
              0,
              "#0d0887"
             ],
             [
              0.1111111111111111,
              "#46039f"
             ],
             [
              0.2222222222222222,
              "#7201a8"
             ],
             [
              0.3333333333333333,
              "#9c179e"
             ],
             [
              0.4444444444444444,
              "#bd3786"
             ],
             [
              0.5555555555555556,
              "#d8576b"
             ],
             [
              0.6666666666666666,
              "#ed7953"
             ],
             [
              0.7777777777777778,
              "#fb9f3a"
             ],
             [
              0.8888888888888888,
              "#fdca26"
             ],
             [
              1,
              "#f0f921"
             ]
            ],
            "type": "histogram2dcontour"
           }
          ],
          "mesh3d": [
           {
            "colorbar": {
             "outlinewidth": 0,
             "ticks": ""
            },
            "type": "mesh3d"
           }
          ],
          "parcoords": [
           {
            "line": {
             "colorbar": {
              "outlinewidth": 0,
              "ticks": ""
             }
            },
            "type": "parcoords"
           }
          ],
          "pie": [
           {
            "automargin": true,
            "type": "pie"
           }
          ],
          "scatter": [
           {
            "fillpattern": {
             "fillmode": "overlay",
             "size": 10,
             "solidity": 0.2
            },
            "type": "scatter"
           }
          ],
          "scatter3d": [
           {
            "line": {
             "colorbar": {
              "outlinewidth": 0,
              "ticks": ""
             }
            },
            "marker": {
             "colorbar": {
              "outlinewidth": 0,
              "ticks": ""
             }
            },
            "type": "scatter3d"
           }
          ],
          "scattercarpet": [
           {
            "marker": {
             "colorbar": {
              "outlinewidth": 0,
              "ticks": ""
             }
            },
            "type": "scattercarpet"
           }
          ],
          "scattergeo": [
           {
            "marker": {
             "colorbar": {
              "outlinewidth": 0,
              "ticks": ""
             }
            },
            "type": "scattergeo"
           }
          ],
          "scattergl": [
           {
            "marker": {
             "colorbar": {
              "outlinewidth": 0,
              "ticks": ""
             }
            },
            "type": "scattergl"
           }
          ],
          "scattermap": [
           {
            "marker": {
             "colorbar": {
              "outlinewidth": 0,
              "ticks": ""
             }
            },
            "type": "scattermap"
           }
          ],
          "scattermapbox": [
           {
            "marker": {
             "colorbar": {
              "outlinewidth": 0,
              "ticks": ""
             }
            },
            "type": "scattermapbox"
           }
          ],
          "scatterpolar": [
           {
            "marker": {
             "colorbar": {
              "outlinewidth": 0,
              "ticks": ""
             }
            },
            "type": "scatterpolar"
           }
          ],
          "scatterpolargl": [
           {
            "marker": {
             "colorbar": {
              "outlinewidth": 0,
              "ticks": ""
             }
            },
            "type": "scatterpolargl"
           }
          ],
          "scatterternary": [
           {
            "marker": {
             "colorbar": {
              "outlinewidth": 0,
              "ticks": ""
             }
            },
            "type": "scatterternary"
           }
          ],
          "surface": [
           {
            "colorbar": {
             "outlinewidth": 0,
             "ticks": ""
            },
            "colorscale": [
             [
              0,
              "#0d0887"
             ],
             [
              0.1111111111111111,
              "#46039f"
             ],
             [
              0.2222222222222222,
              "#7201a8"
             ],
             [
              0.3333333333333333,
              "#9c179e"
             ],
             [
              0.4444444444444444,
              "#bd3786"
             ],
             [
              0.5555555555555556,
              "#d8576b"
             ],
             [
              0.6666666666666666,
              "#ed7953"
             ],
             [
              0.7777777777777778,
              "#fb9f3a"
             ],
             [
              0.8888888888888888,
              "#fdca26"
             ],
             [
              1,
              "#f0f921"
             ]
            ],
            "type": "surface"
           }
          ],
          "table": [
           {
            "cells": {
             "fill": {
              "color": "#EBF0F8"
             },
             "line": {
              "color": "white"
             }
            },
            "header": {
             "fill": {
              "color": "#C8D4E3"
             },
             "line": {
              "color": "white"
             }
            },
            "type": "table"
           }
          ]
         },
         "layout": {
          "annotationdefaults": {
           "arrowcolor": "#2a3f5f",
           "arrowhead": 0,
           "arrowwidth": 1
          },
          "autotypenumbers": "strict",
          "coloraxis": {
           "colorbar": {
            "outlinewidth": 0,
            "ticks": ""
           }
          },
          "colorscale": {
           "diverging": [
            [
             0,
             "#8e0152"
            ],
            [
             0.1,
             "#c51b7d"
            ],
            [
             0.2,
             "#de77ae"
            ],
            [
             0.3,
             "#f1b6da"
            ],
            [
             0.4,
             "#fde0ef"
            ],
            [
             0.5,
             "#f7f7f7"
            ],
            [
             0.6,
             "#e6f5d0"
            ],
            [
             0.7,
             "#b8e186"
            ],
            [
             0.8,
             "#7fbc41"
            ],
            [
             0.9,
             "#4d9221"
            ],
            [
             1,
             "#276419"
            ]
           ],
           "sequential": [
            [
             0,
             "#0d0887"
            ],
            [
             0.1111111111111111,
             "#46039f"
            ],
            [
             0.2222222222222222,
             "#7201a8"
            ],
            [
             0.3333333333333333,
             "#9c179e"
            ],
            [
             0.4444444444444444,
             "#bd3786"
            ],
            [
             0.5555555555555556,
             "#d8576b"
            ],
            [
             0.6666666666666666,
             "#ed7953"
            ],
            [
             0.7777777777777778,
             "#fb9f3a"
            ],
            [
             0.8888888888888888,
             "#fdca26"
            ],
            [
             1,
             "#f0f921"
            ]
           ],
           "sequentialminus": [
            [
             0,
             "#0d0887"
            ],
            [
             0.1111111111111111,
             "#46039f"
            ],
            [
             0.2222222222222222,
             "#7201a8"
            ],
            [
             0.3333333333333333,
             "#9c179e"
            ],
            [
             0.4444444444444444,
             "#bd3786"
            ],
            [
             0.5555555555555556,
             "#d8576b"
            ],
            [
             0.6666666666666666,
             "#ed7953"
            ],
            [
             0.7777777777777778,
             "#fb9f3a"
            ],
            [
             0.8888888888888888,
             "#fdca26"
            ],
            [
             1,
             "#f0f921"
            ]
           ]
          },
          "colorway": [
           "#636efa",
           "#EF553B",
           "#00cc96",
           "#ab63fa",
           "#FFA15A",
           "#19d3f3",
           "#FF6692",
           "#B6E880",
           "#FF97FF",
           "#FECB52"
          ],
          "font": {
           "color": "#2a3f5f"
          },
          "geo": {
           "bgcolor": "white",
           "lakecolor": "white",
           "landcolor": "white",
           "showlakes": true,
           "showland": true,
           "subunitcolor": "#C8D4E3"
          },
          "hoverlabel": {
           "align": "left"
          },
          "hovermode": "closest",
          "mapbox": {
           "style": "light"
          },
          "paper_bgcolor": "white",
          "plot_bgcolor": "white",
          "polar": {
           "angularaxis": {
            "gridcolor": "#EBF0F8",
            "linecolor": "#EBF0F8",
            "ticks": ""
           },
           "bgcolor": "white",
           "radialaxis": {
            "gridcolor": "#EBF0F8",
            "linecolor": "#EBF0F8",
            "ticks": ""
           }
          },
          "scene": {
           "xaxis": {
            "backgroundcolor": "white",
            "gridcolor": "#DFE8F3",
            "gridwidth": 2,
            "linecolor": "#EBF0F8",
            "showbackground": true,
            "ticks": "",
            "zerolinecolor": "#EBF0F8"
           },
           "yaxis": {
            "backgroundcolor": "white",
            "gridcolor": "#DFE8F3",
            "gridwidth": 2,
            "linecolor": "#EBF0F8",
            "showbackground": true,
            "ticks": "",
            "zerolinecolor": "#EBF0F8"
           },
           "zaxis": {
            "backgroundcolor": "white",
            "gridcolor": "#DFE8F3",
            "gridwidth": 2,
            "linecolor": "#EBF0F8",
            "showbackground": true,
            "ticks": "",
            "zerolinecolor": "#EBF0F8"
           }
          },
          "shapedefaults": {
           "line": {
            "color": "#2a3f5f"
           }
          },
          "ternary": {
           "aaxis": {
            "gridcolor": "#DFE8F3",
            "linecolor": "#A2B1C6",
            "ticks": ""
           },
           "baxis": {
            "gridcolor": "#DFE8F3",
            "linecolor": "#A2B1C6",
            "ticks": ""
           },
           "bgcolor": "white",
           "caxis": {
            "gridcolor": "#DFE8F3",
            "linecolor": "#A2B1C6",
            "ticks": ""
           }
          },
          "title": {
           "x": 0.05
          },
          "xaxis": {
           "automargin": true,
           "gridcolor": "#EBF0F8",
           "linecolor": "#EBF0F8",
           "ticks": "",
           "title": {
            "standoff": 15
           },
           "zerolinecolor": "#EBF0F8",
           "zerolinewidth": 2
          },
          "yaxis": {
           "automargin": true,
           "gridcolor": "#EBF0F8",
           "linecolor": "#EBF0F8",
           "ticks": "",
           "title": {
            "standoff": 15
           },
           "zerolinecolor": "#EBF0F8",
           "zerolinewidth": 2
          }
         }
        },
        "title": {
         "text": "Event Rate by Group over Time"
        },
        "xaxis": {
         "title": {
          "text": "date"
         }
        },
        "yaxis": {
         "title": {
          "text": "Event rate"
         }
        }
       }
      }
     },
     "metadata": {},
     "output_type": "display_data"
    },
    {
     "data": {
      "application/vnd.plotly.v1+json": {
       "config": {
        "plotlyServerURL": "https://plot.ly"
       },
       "data": [
        {
         "marker": {
          "color": "rgb(217,58,70)"
         },
         "name": "(-inf, 526.83)",
         "type": "bar",
         "x": [
          "2022-01-01T00:01:00.000000000",
          "2022-01-31T00:01:00.000000000",
          "2022-02-28T00:01:00.000000000",
          "2022-03-31T00:01:00.000000000",
          "2022-04-30T00:01:00.000000000",
          "2022-05-31T00:01:00.000000000",
          "2022-06-30T00:01:00.000000000",
          "2022-07-31T00:01:00.000000000",
          "2022-08-31T00:01:00.000000000",
          "2022-09-30T00:01:00.000000000",
          "2022-10-31T00:01:00.000000000",
          "2022-11-30T00:01:00.000000000",
          "2022-12-31T00:01:00.000000000",
          "2023-01-31T00:01:00.000000000",
          "2023-02-28T00:01:00.000000000",
          "2023-03-31T00:01:00.000000000",
          "2023-04-30T00:01:00.000000000",
          "2023-05-31T00:01:00.000000000",
          "2023-06-30T00:01:00.000000000",
          "2023-07-31T00:01:00.000000000",
          "2023-08-31T00:01:00.000000000",
          "2023-09-30T00:01:00.000000000",
          "2023-10-31T00:01:00.000000000",
          "2023-11-30T00:01:00.000000000",
          "2023-12-31T00:01:00.000000000",
          "2024-01-31T00:01:00.000000000",
          "2024-02-29T00:01:00.000000000",
          "2024-03-31T00:01:00.000000000",
          "2024-04-30T00:01:00.000000000",
          "2024-05-31T00:01:00.000000000",
          "2024-06-30T00:01:00.000000000",
          "2024-07-31T00:01:00.000000000",
          "2024-08-31T00:01:00.000000000",
          "2024-09-30T00:01:00.000000000",
          "2024-10-31T00:01:00.000000000",
          "2024-11-30T00:01:00.000000000",
          "2024-12-31T00:01:00.000000000"
         ],
         "y": {
          "bdata": "Dwu1pnnHuT9g5dAi2/muP/T91HjpJrE/GQRWDi2yrT9U46WbxCCwP0jhehSuR7E/2/l+arx0sz+LbOf7qfGyP5PyHhjecLA/g8DKoUW2sz8730+Nl26yP2iR7Xw/Na4/TDeJQWDlsD9qvHSTGAS2P+kmMQisHKo/EoPAyqFFtj9YObTIdr6vP5MYBFYOLbI/+FPjpZvEsD+PwvUoXI+yPzvfT42XbrI/eekmMQisrD97FK5H4Xq0P4ts5/up8bI/GQRWDi2yrT8730+Nl26yP3sUrkfherQ/MzMzMzMzsz/sUbgeheuxP0w3iUFg5bA/2c73U+Olqz9YObTIdr6vP6RwPQrXo7A/30+Nl24Ssz+cxCCwcmixP/hT46WbxLA/2c73U+Olqz8=",
          "dtype": "f8"
         }
        },
        {
         "marker": {
          "color": "rgb(230,148,154)"
         },
         "name": "[526.83, 711.23)",
         "type": "bar",
         "x": [
          "2022-01-01T00:01:00.000000000",
          "2022-01-31T00:01:00.000000000",
          "2022-02-28T00:01:00.000000000",
          "2022-03-31T00:01:00.000000000",
          "2022-04-30T00:01:00.000000000",
          "2022-05-31T00:01:00.000000000",
          "2022-06-30T00:01:00.000000000",
          "2022-07-31T00:01:00.000000000",
          "2022-08-31T00:01:00.000000000",
          "2022-09-30T00:01:00.000000000",
          "2022-10-31T00:01:00.000000000",
          "2022-11-30T00:01:00.000000000",
          "2022-12-31T00:01:00.000000000",
          "2023-01-31T00:01:00.000000000",
          "2023-02-28T00:01:00.000000000",
          "2023-03-31T00:01:00.000000000",
          "2023-04-30T00:01:00.000000000",
          "2023-05-31T00:01:00.000000000",
          "2023-06-30T00:01:00.000000000",
          "2023-07-31T00:01:00.000000000",
          "2023-08-31T00:01:00.000000000",
          "2023-09-30T00:01:00.000000000",
          "2023-10-31T00:01:00.000000000",
          "2023-11-30T00:01:00.000000000",
          "2023-12-31T00:01:00.000000000",
          "2024-01-31T00:01:00.000000000",
          "2024-02-29T00:01:00.000000000",
          "2024-03-31T00:01:00.000000000",
          "2024-04-30T00:01:00.000000000",
          "2024-05-31T00:01:00.000000000",
          "2024-06-30T00:01:00.000000000",
          "2024-07-31T00:01:00.000000000",
          "2024-08-31T00:01:00.000000000",
          "2024-09-30T00:01:00.000000000",
          "2024-10-31T00:01:00.000000000",
          "2024-11-30T00:01:00.000000000",
          "2024-12-31T00:01:00.000000000"
         ],
         "y": {
          "bdata": "UPwYc9cSoj9KDAIrhxa5P5qZmZmZmbk/WmQ730+Ntz9SuB6F61G4P7bz/dR46bY/arx0kxgEtj/6fmq8dJO4P4AjlNHbsrY/iUFg5dAiuz+LbOf7qfGyP7pJDAIrh7Y/mpmZmZmZuT/pJjEIrBy6P/LSTWIQWLk/ukkMAiuHtj/pJjEIrBy6P8P1KFyPwrU//tR46SYxuD9vEoPAyqG1P6rx0k1iELg/w/UoXI/CtT/LoUW28/20P1pkO99Pjbc/yXa+nxovvT8bL90kBoG1P7pJDAIrh7Y/ukkMAiuHtj+6SQwCK4e2P5qZmZmZmbk/6SYxCKwcuj+R7Xw/NV66PyuHFtnO97M/sp3vp8ZLtz+amZmZmZm5P7pJDAIrh7Y/K4cW2c73sz8=",
          "dtype": "f8"
         }
        },
        {
         "marker": {
          "color": "rgb(242,241,241)"
         },
         "name": "[711.23, 909.45)",
         "type": "bar",
         "x": [
          "2022-01-01T00:01:00.000000000",
          "2022-01-31T00:01:00.000000000",
          "2022-02-28T00:01:00.000000000",
          "2022-03-31T00:01:00.000000000",
          "2022-04-30T00:01:00.000000000",
          "2022-05-31T00:01:00.000000000",
          "2022-06-30T00:01:00.000000000",
          "2022-07-31T00:01:00.000000000",
          "2022-08-31T00:01:00.000000000",
          "2022-09-30T00:01:00.000000000",
          "2022-10-31T00:01:00.000000000",
          "2022-11-30T00:01:00.000000000",
          "2022-12-31T00:01:00.000000000",
          "2023-01-31T00:01:00.000000000",
          "2023-02-28T00:01:00.000000000",
          "2023-03-31T00:01:00.000000000",
          "2023-04-30T00:01:00.000000000",
          "2023-05-31T00:01:00.000000000",
          "2023-06-30T00:01:00.000000000",
          "2023-07-31T00:01:00.000000000",
          "2023-08-31T00:01:00.000000000",
          "2023-09-30T00:01:00.000000000",
          "2023-10-31T00:01:00.000000000",
          "2023-11-30T00:01:00.000000000",
          "2023-12-31T00:01:00.000000000",
          "2024-01-31T00:01:00.000000000",
          "2024-02-29T00:01:00.000000000",
          "2024-03-31T00:01:00.000000000",
          "2024-04-30T00:01:00.000000000",
          "2024-05-31T00:01:00.000000000",
          "2024-06-30T00:01:00.000000000",
          "2024-07-31T00:01:00.000000000",
          "2024-08-31T00:01:00.000000000",
          "2024-09-30T00:01:00.000000000",
          "2024-10-31T00:01:00.000000000",
          "2024-11-30T00:01:00.000000000",
          "2024-12-31T00:01:00.000000000"
         ],
         "y": {
          "bdata": "Z0Rpb/CFwT9KDAIrhxbRP5MYBFYOLdI/exSuR+F61D+cxCCwcmjRPxBYObTIdtI/NV66SQwC0z89CtejcD3SP7ErQO41F9I/PQrXo3A90j+LbOf7qfHSP+F6FK5H4dI/SOF6FK5H0T/0/dR46SbRPzm0yHa+n9I/001iEFg51D+wcmiR7XzPP+F6FK5H4dI/SOF6FK5H0T89CtejcD3SP5qZmZmZmdE/hxbZzvdT0z+PwvUoXI/SPzEIrBxaZNM/i2zn+6nx0j+YbhKDwMrRP5MYBFYOLdI/9P3UeOkm0T8/NV66SQzSP5ZDi2zn+9E/5/up8dJN0j/sUbgehevRP39qvHSTGNQ/Rrbz/dR40T/n+6nx0k3SP2Q730+Nl9I/i2zn+6nx0j8=",
          "dtype": "f8"
         }
        },
        {
         "marker": {
          "color": "rgb(153,183,205)"
         },
         "name": "[909.45, 966.40)",
         "type": "bar",
         "x": [
          "2022-01-01T00:01:00.000000000",
          "2022-01-31T00:01:00.000000000",
          "2022-02-28T00:01:00.000000000",
          "2022-03-31T00:01:00.000000000",
          "2022-04-30T00:01:00.000000000",
          "2022-05-31T00:01:00.000000000",
          "2022-06-30T00:01:00.000000000",
          "2022-07-31T00:01:00.000000000",
          "2022-08-31T00:01:00.000000000",
          "2022-09-30T00:01:00.000000000",
          "2022-10-31T00:01:00.000000000",
          "2022-11-30T00:01:00.000000000",
          "2022-12-31T00:01:00.000000000",
          "2023-01-31T00:01:00.000000000",
          "2023-02-28T00:01:00.000000000",
          "2023-03-31T00:01:00.000000000",
          "2023-04-30T00:01:00.000000000",
          "2023-05-31T00:01:00.000000000",
          "2023-06-30T00:01:00.000000000",
          "2023-07-31T00:01:00.000000000",
          "2023-08-31T00:01:00.000000000",
          "2023-09-30T00:01:00.000000000",
          "2023-10-31T00:01:00.000000000",
          "2023-11-30T00:01:00.000000000",
          "2023-12-31T00:01:00.000000000",
          "2024-01-31T00:01:00.000000000",
          "2024-02-29T00:01:00.000000000",
          "2024-03-31T00:01:00.000000000",
          "2024-04-30T00:01:00.000000000",
          "2024-05-31T00:01:00.000000000",
          "2024-06-30T00:01:00.000000000",
          "2024-07-31T00:01:00.000000000",
          "2024-08-31T00:01:00.000000000",
          "2024-09-30T00:01:00.000000000",
          "2024-10-31T00:01:00.000000000",
          "2024-11-30T00:01:00.000000000",
          "2024-12-31T00:01:00.000000000"
         ],
         "y": {
          "bdata": "KVyPwvUo3D/y0k1iEFjVP3Noke18P9U/16NwPQrX0z/ufD81XrrVP83MzMzMzNQ/HVpkO99P1T/NzMzMzMzUP+0wdbn9QdY/gZVDi2zn0z8j2/l+arzUP3npJjEIrNQ/H4XrUbge1T8fhetRuB7VP2iR7Xw/NdY/O99PjZdu0j++nxov3STWP2iR7Xw/NdY/xSCwcmiR1T9xPQrXo3DVPxkEVg4tstU/H4XrUbge1T/TTWIQWDnUPz0K16NwPdI/H4XrUbge1T+PwvUoXI/SP8uhRbbz/dQ/XrpJDAIr1z/D9Shcj8LVP39qvHSTGNQ/sp3vp8ZL1z9oke18PzXWP8/3U+Olm9Q/+n5qvHST1D/TTWIQWDnUP6RwPQrXo9Q/x0s3iUFg1T8=",
          "dtype": "f8"
         }
        },
        {
         "marker": {
          "color": "rgb(65,124,167)"
         },
         "name": "[966.40, inf)",
         "type": "bar",
         "x": [
          "2022-01-01T00:01:00.000000000",
          "2022-01-31T00:01:00.000000000",
          "2022-02-28T00:01:00.000000000",
          "2022-03-31T00:01:00.000000000",
          "2022-04-30T00:01:00.000000000",
          "2022-05-31T00:01:00.000000000",
          "2022-06-30T00:01:00.000000000",
          "2022-07-31T00:01:00.000000000",
          "2022-08-31T00:01:00.000000000",
          "2022-09-30T00:01:00.000000000",
          "2022-10-31T00:01:00.000000000",
          "2022-11-30T00:01:00.000000000",
          "2022-12-31T00:01:00.000000000",
          "2023-01-31T00:01:00.000000000",
          "2023-02-28T00:01:00.000000000",
          "2023-03-31T00:01:00.000000000",
          "2023-04-30T00:01:00.000000000",
          "2023-05-31T00:01:00.000000000",
          "2023-06-30T00:01:00.000000000",
          "2023-07-31T00:01:00.000000000",
          "2023-08-31T00:01:00.000000000",
          "2023-09-30T00:01:00.000000000",
          "2023-10-31T00:01:00.000000000",
          "2023-11-30T00:01:00.000000000",
          "2023-12-31T00:01:00.000000000",
          "2024-01-31T00:01:00.000000000",
          "2024-02-29T00:01:00.000000000",
          "2024-03-31T00:01:00.000000000",
          "2024-04-30T00:01:00.000000000",
          "2024-05-31T00:01:00.000000000",
          "2024-06-30T00:01:00.000000000",
          "2024-07-31T00:01:00.000000000",
          "2024-08-31T00:01:00.000000000",
          "2024-09-30T00:01:00.000000000",
          "2024-10-31T00:01:00.000000000",
          "2024-11-30T00:01:00.000000000",
          "2024-12-31T00:01:00.000000000"
         ],
         "y": {
          "bdata": "Vp+rrdhf0j8MAiuHFtnOPy2yne+nxss/KVyPwvUozD8bL90kBoHNP8dLN4lBYM0/ObTIdr6fyj8pXI/C9SjMP7y7u7u7u8s/fT81XrpJzD/ByqFFtvPNPxSuR+F6FM4/wcqhRbbzzT8xCKwcWmTLP4lBYOXQIss/fT81XrpJzD8IrBxaZDvPP0Jg5dAi28k/bef7qfHSzT8lBoGVQ4vMPylcj8L1KMw/dZMYBFYOzT8ZBFYOLbLNP7ByaJHtfM8/QmDl0CLbyT9Ei2zn+6nRPylcj8L1KMw/5dAi2/l+yj8pXI/C9SjMP2Q730+Nl84/okW28/3UyD85tMh2vp/KP30/NV66Scw/uB6F61G4zj9xPQrXo3DNPxfZzvdT480/EFg5tMh2zj8=",
          "dtype": "f8"
         }
        }
       ],
       "layout": {
        "barmode": "stack",
        "template": {
         "data": {
          "bar": [
           {
            "error_x": {
             "color": "#2a3f5f"
            },
            "error_y": {
             "color": "#2a3f5f"
            },
            "marker": {
             "line": {
              "color": "white",
              "width": 0.5
             },
             "pattern": {
              "fillmode": "overlay",
              "size": 10,
              "solidity": 0.2
             }
            },
            "type": "bar"
           }
          ],
          "barpolar": [
           {
            "marker": {
             "line": {
              "color": "white",
              "width": 0.5
             },
             "pattern": {
              "fillmode": "overlay",
              "size": 10,
              "solidity": 0.2
             }
            },
            "type": "barpolar"
           }
          ],
          "carpet": [
           {
            "aaxis": {
             "endlinecolor": "#2a3f5f",
             "gridcolor": "#C8D4E3",
             "linecolor": "#C8D4E3",
             "minorgridcolor": "#C8D4E3",
             "startlinecolor": "#2a3f5f"
            },
            "baxis": {
             "endlinecolor": "#2a3f5f",
             "gridcolor": "#C8D4E3",
             "linecolor": "#C8D4E3",
             "minorgridcolor": "#C8D4E3",
             "startlinecolor": "#2a3f5f"
            },
            "type": "carpet"
           }
          ],
          "choropleth": [
           {
            "colorbar": {
             "outlinewidth": 0,
             "ticks": ""
            },
            "type": "choropleth"
           }
          ],
          "contour": [
           {
            "colorbar": {
             "outlinewidth": 0,
             "ticks": ""
            },
            "colorscale": [
             [
              0,
              "#0d0887"
             ],
             [
              0.1111111111111111,
              "#46039f"
             ],
             [
              0.2222222222222222,
              "#7201a8"
             ],
             [
              0.3333333333333333,
              "#9c179e"
             ],
             [
              0.4444444444444444,
              "#bd3786"
             ],
             [
              0.5555555555555556,
              "#d8576b"
             ],
             [
              0.6666666666666666,
              "#ed7953"
             ],
             [
              0.7777777777777778,
              "#fb9f3a"
             ],
             [
              0.8888888888888888,
              "#fdca26"
             ],
             [
              1,
              "#f0f921"
             ]
            ],
            "type": "contour"
           }
          ],
          "contourcarpet": [
           {
            "colorbar": {
             "outlinewidth": 0,
             "ticks": ""
            },
            "type": "contourcarpet"
           }
          ],
          "heatmap": [
           {
            "colorbar": {
             "outlinewidth": 0,
             "ticks": ""
            },
            "colorscale": [
             [
              0,
              "#0d0887"
             ],
             [
              0.1111111111111111,
              "#46039f"
             ],
             [
              0.2222222222222222,
              "#7201a8"
             ],
             [
              0.3333333333333333,
              "#9c179e"
             ],
             [
              0.4444444444444444,
              "#bd3786"
             ],
             [
              0.5555555555555556,
              "#d8576b"
             ],
             [
              0.6666666666666666,
              "#ed7953"
             ],
             [
              0.7777777777777778,
              "#fb9f3a"
             ],
             [
              0.8888888888888888,
              "#fdca26"
             ],
             [
              1,
              "#f0f921"
             ]
            ],
            "type": "heatmap"
           }
          ],
          "histogram": [
           {
            "marker": {
             "pattern": {
              "fillmode": "overlay",
              "size": 10,
              "solidity": 0.2
             }
            },
            "type": "histogram"
           }
          ],
          "histogram2d": [
           {
            "colorbar": {
             "outlinewidth": 0,
             "ticks": ""
            },
            "colorscale": [
             [
              0,
              "#0d0887"
             ],
             [
              0.1111111111111111,
              "#46039f"
             ],
             [
              0.2222222222222222,
              "#7201a8"
             ],
             [
              0.3333333333333333,
              "#9c179e"
             ],
             [
              0.4444444444444444,
              "#bd3786"
             ],
             [
              0.5555555555555556,
              "#d8576b"
             ],
             [
              0.6666666666666666,
              "#ed7953"
             ],
             [
              0.7777777777777778,
              "#fb9f3a"
             ],
             [
              0.8888888888888888,
              "#fdca26"
             ],
             [
              1,
              "#f0f921"
             ]
            ],
            "type": "histogram2d"
           }
          ],
          "histogram2dcontour": [
           {
            "colorbar": {
             "outlinewidth": 0,
             "ticks": ""
            },
            "colorscale": [
             [
              0,
              "#0d0887"
             ],
             [
              0.1111111111111111,
              "#46039f"
             ],
             [
              0.2222222222222222,
              "#7201a8"
             ],
             [
              0.3333333333333333,
              "#9c179e"
             ],
             [
              0.4444444444444444,
              "#bd3786"
             ],
             [
              0.5555555555555556,
              "#d8576b"
             ],
             [
              0.6666666666666666,
              "#ed7953"
             ],
             [
              0.7777777777777778,
              "#fb9f3a"
             ],
             [
              0.8888888888888888,
              "#fdca26"
             ],
             [
              1,
              "#f0f921"
             ]
            ],
            "type": "histogram2dcontour"
           }
          ],
          "mesh3d": [
           {
            "colorbar": {
             "outlinewidth": 0,
             "ticks": ""
            },
            "type": "mesh3d"
           }
          ],
          "parcoords": [
           {
            "line": {
             "colorbar": {
              "outlinewidth": 0,
              "ticks": ""
             }
            },
            "type": "parcoords"
           }
          ],
          "pie": [
           {
            "automargin": true,
            "type": "pie"
           }
          ],
          "scatter": [
           {
            "fillpattern": {
             "fillmode": "overlay",
             "size": 10,
             "solidity": 0.2
            },
            "type": "scatter"
           }
          ],
          "scatter3d": [
           {
            "line": {
             "colorbar": {
              "outlinewidth": 0,
              "ticks": ""
             }
            },
            "marker": {
             "colorbar": {
              "outlinewidth": 0,
              "ticks": ""
             }
            },
            "type": "scatter3d"
           }
          ],
          "scattercarpet": [
           {
            "marker": {
             "colorbar": {
              "outlinewidth": 0,
              "ticks": ""
             }
            },
            "type": "scattercarpet"
           }
          ],
          "scattergeo": [
           {
            "marker": {
             "colorbar": {
              "outlinewidth": 0,
              "ticks": ""
             }
            },
            "type": "scattergeo"
           }
          ],
          "scattergl": [
           {
            "marker": {
             "colorbar": {
              "outlinewidth": 0,
              "ticks": ""
             }
            },
            "type": "scattergl"
           }
          ],
          "scattermap": [
           {
            "marker": {
             "colorbar": {
              "outlinewidth": 0,
              "ticks": ""
             }
            },
            "type": "scattermap"
           }
          ],
          "scattermapbox": [
           {
            "marker": {
             "colorbar": {
              "outlinewidth": 0,
              "ticks": ""
             }
            },
            "type": "scattermapbox"
           }
          ],
          "scatterpolar": [
           {
            "marker": {
             "colorbar": {
              "outlinewidth": 0,
              "ticks": ""
             }
            },
            "type": "scatterpolar"
           }
          ],
          "scatterpolargl": [
           {
            "marker": {
             "colorbar": {
              "outlinewidth": 0,
              "ticks": ""
             }
            },
            "type": "scatterpolargl"
           }
          ],
          "scatterternary": [
           {
            "marker": {
             "colorbar": {
              "outlinewidth": 0,
              "ticks": ""
             }
            },
            "type": "scatterternary"
           }
          ],
          "surface": [
           {
            "colorbar": {
             "outlinewidth": 0,
             "ticks": ""
            },
            "colorscale": [
             [
              0,
              "#0d0887"
             ],
             [
              0.1111111111111111,
              "#46039f"
             ],
             [
              0.2222222222222222,
              "#7201a8"
             ],
             [
              0.3333333333333333,
              "#9c179e"
             ],
             [
              0.4444444444444444,
              "#bd3786"
             ],
             [
              0.5555555555555556,
              "#d8576b"
             ],
             [
              0.6666666666666666,
              "#ed7953"
             ],
             [
              0.7777777777777778,
              "#fb9f3a"
             ],
             [
              0.8888888888888888,
              "#fdca26"
             ],
             [
              1,
              "#f0f921"
             ]
            ],
            "type": "surface"
           }
          ],
          "table": [
           {
            "cells": {
             "fill": {
              "color": "#EBF0F8"
             },
             "line": {
              "color": "white"
             }
            },
            "header": {
             "fill": {
              "color": "#C8D4E3"
             },
             "line": {
              "color": "white"
             }
            },
            "type": "table"
           }
          ]
         },
         "layout": {
          "annotationdefaults": {
           "arrowcolor": "#2a3f5f",
           "arrowhead": 0,
           "arrowwidth": 1
          },
          "autotypenumbers": "strict",
          "coloraxis": {
           "colorbar": {
            "outlinewidth": 0,
            "ticks": ""
           }
          },
          "colorscale": {
           "diverging": [
            [
             0,
             "#8e0152"
            ],
            [
             0.1,
             "#c51b7d"
            ],
            [
             0.2,
             "#de77ae"
            ],
            [
             0.3,
             "#f1b6da"
            ],
            [
             0.4,
             "#fde0ef"
            ],
            [
             0.5,
             "#f7f7f7"
            ],
            [
             0.6,
             "#e6f5d0"
            ],
            [
             0.7,
             "#b8e186"
            ],
            [
             0.8,
             "#7fbc41"
            ],
            [
             0.9,
             "#4d9221"
            ],
            [
             1,
             "#276419"
            ]
           ],
           "sequential": [
            [
             0,
             "#0d0887"
            ],
            [
             0.1111111111111111,
             "#46039f"
            ],
            [
             0.2222222222222222,
             "#7201a8"
            ],
            [
             0.3333333333333333,
             "#9c179e"
            ],
            [
             0.4444444444444444,
             "#bd3786"
            ],
            [
             0.5555555555555556,
             "#d8576b"
            ],
            [
             0.6666666666666666,
             "#ed7953"
            ],
            [
             0.7777777777777778,
             "#fb9f3a"
            ],
            [
             0.8888888888888888,
             "#fdca26"
            ],
            [
             1,
             "#f0f921"
            ]
           ],
           "sequentialminus": [
            [
             0,
             "#0d0887"
            ],
            [
             0.1111111111111111,
             "#46039f"
            ],
            [
             0.2222222222222222,
             "#7201a8"
            ],
            [
             0.3333333333333333,
             "#9c179e"
            ],
            [
             0.4444444444444444,
             "#bd3786"
            ],
            [
             0.5555555555555556,
             "#d8576b"
            ],
            [
             0.6666666666666666,
             "#ed7953"
            ],
            [
             0.7777777777777778,
             "#fb9f3a"
            ],
            [
             0.8888888888888888,
             "#fdca26"
            ],
            [
             1,
             "#f0f921"
            ]
           ]
          },
          "colorway": [
           "#636efa",
           "#EF553B",
           "#00cc96",
           "#ab63fa",
           "#FFA15A",
           "#19d3f3",
           "#FF6692",
           "#B6E880",
           "#FF97FF",
           "#FECB52"
          ],
          "font": {
           "color": "#2a3f5f"
          },
          "geo": {
           "bgcolor": "white",
           "lakecolor": "white",
           "landcolor": "white",
           "showlakes": true,
           "showland": true,
           "subunitcolor": "#C8D4E3"
          },
          "hoverlabel": {
           "align": "left"
          },
          "hovermode": "closest",
          "mapbox": {
           "style": "light"
          },
          "paper_bgcolor": "white",
          "plot_bgcolor": "white",
          "polar": {
           "angularaxis": {
            "gridcolor": "#EBF0F8",
            "linecolor": "#EBF0F8",
            "ticks": ""
           },
           "bgcolor": "white",
           "radialaxis": {
            "gridcolor": "#EBF0F8",
            "linecolor": "#EBF0F8",
            "ticks": ""
           }
          },
          "scene": {
           "xaxis": {
            "backgroundcolor": "white",
            "gridcolor": "#DFE8F3",
            "gridwidth": 2,
            "linecolor": "#EBF0F8",
            "showbackground": true,
            "ticks": "",
            "zerolinecolor": "#EBF0F8"
           },
           "yaxis": {
            "backgroundcolor": "white",
            "gridcolor": "#DFE8F3",
            "gridwidth": 2,
            "linecolor": "#EBF0F8",
            "showbackground": true,
            "ticks": "",
            "zerolinecolor": "#EBF0F8"
           },
           "zaxis": {
            "backgroundcolor": "white",
            "gridcolor": "#DFE8F3",
            "gridwidth": 2,
            "linecolor": "#EBF0F8",
            "showbackground": true,
            "ticks": "",
            "zerolinecolor": "#EBF0F8"
           }
          },
          "shapedefaults": {
           "line": {
            "color": "#2a3f5f"
           }
          },
          "ternary": {
           "aaxis": {
            "gridcolor": "#DFE8F3",
            "linecolor": "#A2B1C6",
            "ticks": ""
           },
           "baxis": {
            "gridcolor": "#DFE8F3",
            "linecolor": "#A2B1C6",
            "ticks": ""
           },
           "bgcolor": "white",
           "caxis": {
            "gridcolor": "#DFE8F3",
            "linecolor": "#A2B1C6",
            "ticks": ""
           }
          },
          "title": {
           "x": 0.05
          },
          "xaxis": {
           "automargin": true,
           "gridcolor": "#EBF0F8",
           "linecolor": "#EBF0F8",
           "ticks": "",
           "title": {
            "standoff": 15
           },
           "zerolinecolor": "#EBF0F8",
           "zerolinewidth": 2
          },
          "yaxis": {
           "automargin": true,
           "gridcolor": "#EBF0F8",
           "linecolor": "#EBF0F8",
           "ticks": "",
           "title": {
            "standoff": 15
           },
           "zerolinecolor": "#EBF0F8",
           "zerolinewidth": 2
          }
         }
        },
        "title": {
         "text": "Group Share over Time"
        },
        "xaxis": {
         "title": {
          "text": "date"
         }
        },
        "yaxis": {
         "tickformat": ".0%",
         "title": {
          "text": "Group share"
         }
        }
       }
      }
     },
     "metadata": {},
     "output_type": "display_data"
    },
    {
     "data": {
      "text/plain": [
       "(Figure({\n",
       "     'data': [{'line': {'color': 'rgb(217,58,70)'},\n",
       "               'mode': 'lines+markers',\n",
       "               'name': '(-inf, 526.83)',\n",
       "               'type': 'scatter',\n",
       "               'x': array(['2022-01-01T00:01:00.000000000', '2022-01-31T00:01:00.000000000',\n",
       "                           '2022-02-28T00:01:00.000000000', '2022-03-31T00:01:00.000000000',\n",
       "                           '2022-04-30T00:01:00.000000000', '2022-05-31T00:01:00.000000000',\n",
       "                           '2022-06-30T00:01:00.000000000', '2022-07-31T00:01:00.000000000',\n",
       "                           '2022-08-31T00:01:00.000000000', '2022-09-30T00:01:00.000000000',\n",
       "                           '2022-10-31T00:01:00.000000000', '2022-11-30T00:01:00.000000000',\n",
       "                           '2022-12-31T00:01:00.000000000', '2023-01-31T00:01:00.000000000',\n",
       "                           '2023-02-28T00:01:00.000000000', '2023-03-31T00:01:00.000000000',\n",
       "                           '2023-04-30T00:01:00.000000000', '2023-05-31T00:01:00.000000000',\n",
       "                           '2023-06-30T00:01:00.000000000', '2023-07-31T00:01:00.000000000',\n",
       "                           '2023-08-31T00:01:00.000000000', '2023-09-30T00:01:00.000000000',\n",
       "                           '2023-10-31T00:01:00.000000000', '2023-11-30T00:01:00.000000000',\n",
       "                           '2023-12-31T00:01:00.000000000', '2024-01-31T00:01:00.000000000',\n",
       "                           '2024-02-29T00:01:00.000000000', '2024-03-31T00:01:00.000000000',\n",
       "                           '2024-04-30T00:01:00.000000000', '2024-05-31T00:01:00.000000000',\n",
       "                           '2024-06-30T00:01:00.000000000', '2024-07-31T00:01:00.000000000',\n",
       "                           '2024-08-31T00:01:00.000000000', '2024-09-30T00:01:00.000000000',\n",
       "                           '2024-10-31T00:01:00.000000000', '2024-11-30T00:01:00.000000000',\n",
       "                           '2024-12-31T00:01:00.000000000'], dtype='datetime64[ns]'),\n",
       "               'y': {'bdata': ('AAAAAAAA8D/cWAalwsTrP2tMpAcqZ+' ... 'S0tLTsP55lRB9QHes/QnsJ7SW05z8='),\n",
       "                     'dtype': 'f8'}},\n",
       "              {'line': {'color': 'rgb(230,148,154)'},\n",
       "               'mode': 'lines+markers',\n",
       "               'name': '[526.83, 711.23)',\n",
       "               'type': 'scatter',\n",
       "               'x': array(['2022-01-01T00:01:00.000000000', '2022-01-31T00:01:00.000000000',\n",
       "                           '2022-02-28T00:01:00.000000000', '2022-03-31T00:01:00.000000000',\n",
       "                           '2022-04-30T00:01:00.000000000', '2022-05-31T00:01:00.000000000',\n",
       "                           '2022-06-30T00:01:00.000000000', '2022-07-31T00:01:00.000000000',\n",
       "                           '2022-08-31T00:01:00.000000000', '2022-09-30T00:01:00.000000000',\n",
       "                           '2022-10-31T00:01:00.000000000', '2022-11-30T00:01:00.000000000',\n",
       "                           '2022-12-31T00:01:00.000000000', '2023-01-31T00:01:00.000000000',\n",
       "                           '2023-02-28T00:01:00.000000000', '2023-03-31T00:01:00.000000000',\n",
       "                           '2023-04-30T00:01:00.000000000', '2023-05-31T00:01:00.000000000',\n",
       "                           '2023-06-30T00:01:00.000000000', '2023-07-31T00:01:00.000000000',\n",
       "                           '2023-08-31T00:01:00.000000000', '2023-09-30T00:01:00.000000000',\n",
       "                           '2023-10-31T00:01:00.000000000', '2023-11-30T00:01:00.000000000',\n",
       "                           '2023-12-31T00:01:00.000000000', '2024-01-31T00:01:00.000000000',\n",
       "                           '2024-02-29T00:01:00.000000000', '2024-03-31T00:01:00.000000000',\n",
       "                           '2024-04-30T00:01:00.000000000', '2024-05-31T00:01:00.000000000',\n",
       "                           '2024-06-30T00:01:00.000000000', '2024-07-31T00:01:00.000000000',\n",
       "                           '2024-08-31T00:01:00.000000000', '2024-09-30T00:01:00.000000000',\n",
       "                           '2024-10-31T00:01:00.000000000', '2024-11-30T00:01:00.000000000',\n",
       "                           '2024-12-31T00:01:00.000000000'], dtype='datetime64[ns]'),\n",
       "               'y': {'bdata': ('ROLIy0e96z8VvJyCl1PgP4/C9Shcj+' ... 'rXo3DdP4wuuuiii+A/0iAN0iAN4j8='),\n",
       "                     'dtype': 'f8'}},\n",
       "              {'line': {'color': 'rgb(242,241,241)'},\n",
       "               'mode': 'lines+markers',\n",
       "               'name': '[711.23, 909.45)',\n",
       "               'type': 'scatter',\n",
       "               'x': array(['2022-01-01T00:01:00.000000000', '2022-01-31T00:01:00.000000000',\n",
       "                           '2022-02-28T00:01:00.000000000', '2022-03-31T00:01:00.000000000',\n",
       "                           '2022-04-30T00:01:00.000000000', '2022-05-31T00:01:00.000000000',\n",
       "                           '2022-06-30T00:01:00.000000000', '2022-07-31T00:01:00.000000000',\n",
       "                           '2022-08-31T00:01:00.000000000', '2022-09-30T00:01:00.000000000',\n",
       "                           '2022-10-31T00:01:00.000000000', '2022-11-30T00:01:00.000000000',\n",
       "                           '2022-12-31T00:01:00.000000000', '2023-01-31T00:01:00.000000000',\n",
       "                           '2023-02-28T00:01:00.000000000', '2023-03-31T00:01:00.000000000',\n",
       "                           '2023-04-30T00:01:00.000000000', '2023-05-31T00:01:00.000000000',\n",
       "                           '2023-06-30T00:01:00.000000000', '2023-07-31T00:01:00.000000000',\n",
       "                           '2023-08-31T00:01:00.000000000', '2023-09-30T00:01:00.000000000',\n",
       "                           '2023-10-31T00:01:00.000000000', '2023-11-30T00:01:00.000000000',\n",
       "                           '2023-12-31T00:01:00.000000000', '2024-01-31T00:01:00.000000000',\n",
       "                           '2024-02-29T00:01:00.000000000', '2024-03-31T00:01:00.000000000',\n",
       "                           '2024-04-30T00:01:00.000000000', '2024-05-31T00:01:00.000000000',\n",
       "                           '2024-06-30T00:01:00.000000000', '2024-07-31T00:01:00.000000000',\n",
       "                           '2024-08-31T00:01:00.000000000', '2024-09-30T00:01:00.000000000',\n",
       "                           '2024-10-31T00:01:00.000000000', '2024-11-30T00:01:00.000000000',\n",
       "                           '2024-12-31T00:01:00.000000000'], dtype='datetime64[ns]'),\n",
       "               'y': {'bdata': ('/0eXr10Dzj+AUeFfVPjHPwubA4lW2M' ... 'Q1/m7OP/KfEfjpics/+awbTJHPyj8='),\n",
       "                     'dtype': 'f8'}},\n",
       "              {'line': {'color': 'rgb(153,183,205)'},\n",
       "               'mode': 'lines+markers',\n",
       "               'name': '[909.45, 966.40)',\n",
       "               'type': 'scatter',\n",
       "               'x': array(['2022-01-01T00:01:00.000000000', '2022-01-31T00:01:00.000000000',\n",
       "                           '2022-02-28T00:01:00.000000000', '2022-03-31T00:01:00.000000000',\n",
       "                           '2022-04-30T00:01:00.000000000', '2022-05-31T00:01:00.000000000',\n",
       "                           '2022-06-30T00:01:00.000000000', '2022-07-31T00:01:00.000000000',\n",
       "                           '2022-08-31T00:01:00.000000000', '2022-09-30T00:01:00.000000000',\n",
       "                           '2022-10-31T00:01:00.000000000', '2022-11-30T00:01:00.000000000',\n",
       "                           '2022-12-31T00:01:00.000000000', '2023-01-31T00:01:00.000000000',\n",
       "                           '2023-02-28T00:01:00.000000000', '2023-03-31T00:01:00.000000000',\n",
       "                           '2023-04-30T00:01:00.000000000', '2023-05-31T00:01:00.000000000',\n",
       "                           '2023-06-30T00:01:00.000000000', '2023-07-31T00:01:00.000000000',\n",
       "                           '2023-08-31T00:01:00.000000000', '2023-09-30T00:01:00.000000000',\n",
       "                           '2023-10-31T00:01:00.000000000', '2023-11-30T00:01:00.000000000',\n",
       "                           '2023-12-31T00:01:00.000000000', '2024-01-31T00:01:00.000000000',\n",
       "                           '2024-02-29T00:01:00.000000000', '2024-03-31T00:01:00.000000000',\n",
       "                           '2024-04-30T00:01:00.000000000', '2024-05-31T00:01:00.000000000',\n",
       "                           '2024-06-30T00:01:00.000000000', '2024-07-31T00:01:00.000000000',\n",
       "                           '2024-08-31T00:01:00.000000000', '2024-09-30T00:01:00.000000000',\n",
       "                           '2024-10-31T00:01:00.000000000', '2024-11-30T00:01:00.000000000',\n",
       "                           '2024-12-31T00:01:00.000000000'], dtype='datetime64[ns]'),\n",
       "               'y': {'bdata': ('dptjtzl2mz/uj6tT0lSpP+fXHnJZMb' ... '+rxU2oP8BslgHMZpk/XJzWbJ+orj8='),\n",
       "                     'dtype': 'f8'}},\n",
       "              {'line': {'color': 'rgb(65,124,167)'},\n",
       "               'mode': 'lines+markers',\n",
       "               'name': '[966.40, inf)',\n",
       "               'type': 'scatter',\n",
       "               'x': array(['2022-01-01T00:01:00.000000000', '2022-01-31T00:01:00.000000000',\n",
       "                           '2022-02-28T00:01:00.000000000', '2022-03-31T00:01:00.000000000',\n",
       "                           '2022-04-30T00:01:00.000000000', '2022-05-31T00:01:00.000000000',\n",
       "                           '2022-06-30T00:01:00.000000000', '2022-07-31T00:01:00.000000000',\n",
       "                           '2022-08-31T00:01:00.000000000', '2022-09-30T00:01:00.000000000',\n",
       "                           '2022-10-31T00:01:00.000000000', '2022-11-30T00:01:00.000000000',\n",
       "                           '2022-12-31T00:01:00.000000000', '2023-01-31T00:01:00.000000000',\n",
       "                           '2023-02-28T00:01:00.000000000', '2023-03-31T00:01:00.000000000',\n",
       "                           '2023-04-30T00:01:00.000000000', '2023-05-31T00:01:00.000000000',\n",
       "                           '2023-06-30T00:01:00.000000000', '2023-07-31T00:01:00.000000000',\n",
       "                           '2023-08-31T00:01:00.000000000', '2023-09-30T00:01:00.000000000',\n",
       "                           '2023-10-31T00:01:00.000000000', '2023-11-30T00:01:00.000000000',\n",
       "                           '2023-12-31T00:01:00.000000000', '2024-01-31T00:01:00.000000000',\n",
       "                           '2024-02-29T00:01:00.000000000', '2024-03-31T00:01:00.000000000',\n",
       "                           '2024-04-30T00:01:00.000000000', '2024-05-31T00:01:00.000000000',\n",
       "                           '2024-06-30T00:01:00.000000000', '2024-07-31T00:01:00.000000000',\n",
       "                           '2024-08-31T00:01:00.000000000', '2024-09-30T00:01:00.000000000',\n",
       "                           '2024-10-31T00:01:00.000000000', '2024-11-30T00:01:00.000000000',\n",
       "                           '2024-12-31T00:01:00.000000000'], dtype='datetime64[ns]'),\n",
       "               'y': {'bdata': ('kQPo2l8bez8R8P4Q8P5wP5eAS8Al4I' ... 'tZyEKWP9srkIOwinE/Ecg1Ecg1gT8='),\n",
       "                     'dtype': 'f8'}}],\n",
       "     'layout': {'template': '...',\n",
       "                'title': {'text': 'Event Rate by Group over Time'},\n",
       "                'xaxis': {'title': {'text': 'date'}},\n",
       "                'yaxis': {'title': {'text': 'Event rate'}}}\n",
       " }),\n",
       " Figure({\n",
       "     'data': [{'marker': {'color': 'rgb(217,58,70)'},\n",
       "               'name': '(-inf, 526.83)',\n",
       "               'type': 'bar',\n",
       "               'x': array(['2022-01-01T00:01:00.000000000', '2022-01-31T00:01:00.000000000',\n",
       "                           '2022-02-28T00:01:00.000000000', '2022-03-31T00:01:00.000000000',\n",
       "                           '2022-04-30T00:01:00.000000000', '2022-05-31T00:01:00.000000000',\n",
       "                           '2022-06-30T00:01:00.000000000', '2022-07-31T00:01:00.000000000',\n",
       "                           '2022-08-31T00:01:00.000000000', '2022-09-30T00:01:00.000000000',\n",
       "                           '2022-10-31T00:01:00.000000000', '2022-11-30T00:01:00.000000000',\n",
       "                           '2022-12-31T00:01:00.000000000', '2023-01-31T00:01:00.000000000',\n",
       "                           '2023-02-28T00:01:00.000000000', '2023-03-31T00:01:00.000000000',\n",
       "                           '2023-04-30T00:01:00.000000000', '2023-05-31T00:01:00.000000000',\n",
       "                           '2023-06-30T00:01:00.000000000', '2023-07-31T00:01:00.000000000',\n",
       "                           '2023-08-31T00:01:00.000000000', '2023-09-30T00:01:00.000000000',\n",
       "                           '2023-10-31T00:01:00.000000000', '2023-11-30T00:01:00.000000000',\n",
       "                           '2023-12-31T00:01:00.000000000', '2024-01-31T00:01:00.000000000',\n",
       "                           '2024-02-29T00:01:00.000000000', '2024-03-31T00:01:00.000000000',\n",
       "                           '2024-04-30T00:01:00.000000000', '2024-05-31T00:01:00.000000000',\n",
       "                           '2024-06-30T00:01:00.000000000', '2024-07-31T00:01:00.000000000',\n",
       "                           '2024-08-31T00:01:00.000000000', '2024-09-30T00:01:00.000000000',\n",
       "                           '2024-10-31T00:01:00.000000000', '2024-11-30T00:01:00.000000000',\n",
       "                           '2024-12-31T00:01:00.000000000'], dtype='datetime64[ns]'),\n",
       "               'y': {'bdata': ('Dwu1pnnHuT9g5dAi2/muP/T91HjpJr' ... 'CwcmixP/hT46WbxLA/2c73U+Olqz8='),\n",
       "                     'dtype': 'f8'}},\n",
       "              {'marker': {'color': 'rgb(230,148,154)'},\n",
       "               'name': '[526.83, 711.23)',\n",
       "               'type': 'bar',\n",
       "               'x': array(['2022-01-01T00:01:00.000000000', '2022-01-31T00:01:00.000000000',\n",
       "                           '2022-02-28T00:01:00.000000000', '2022-03-31T00:01:00.000000000',\n",
       "                           '2022-04-30T00:01:00.000000000', '2022-05-31T00:01:00.000000000',\n",
       "                           '2022-06-30T00:01:00.000000000', '2022-07-31T00:01:00.000000000',\n",
       "                           '2022-08-31T00:01:00.000000000', '2022-09-30T00:01:00.000000000',\n",
       "                           '2022-10-31T00:01:00.000000000', '2022-11-30T00:01:00.000000000',\n",
       "                           '2022-12-31T00:01:00.000000000', '2023-01-31T00:01:00.000000000',\n",
       "                           '2023-02-28T00:01:00.000000000', '2023-03-31T00:01:00.000000000',\n",
       "                           '2023-04-30T00:01:00.000000000', '2023-05-31T00:01:00.000000000',\n",
       "                           '2023-06-30T00:01:00.000000000', '2023-07-31T00:01:00.000000000',\n",
       "                           '2023-08-31T00:01:00.000000000', '2023-09-30T00:01:00.000000000',\n",
       "                           '2023-10-31T00:01:00.000000000', '2023-11-30T00:01:00.000000000',\n",
       "                           '2023-12-31T00:01:00.000000000', '2024-01-31T00:01:00.000000000',\n",
       "                           '2024-02-29T00:01:00.000000000', '2024-03-31T00:01:00.000000000',\n",
       "                           '2024-04-30T00:01:00.000000000', '2024-05-31T00:01:00.000000000',\n",
       "                           '2024-06-30T00:01:00.000000000', '2024-07-31T00:01:00.000000000',\n",
       "                           '2024-08-31T00:01:00.000000000', '2024-09-30T00:01:00.000000000',\n",
       "                           '2024-10-31T00:01:00.000000000', '2024-11-30T00:01:00.000000000',\n",
       "                           '2024-12-31T00:01:00.000000000'], dtype='datetime64[ns]'),\n",
       "               'y': {'bdata': ('UPwYc9cSoj9KDAIrhxa5P5qZmZmZmb' ... 'mZmZm5P7pJDAIrh7Y/K4cW2c73sz8='),\n",
       "                     'dtype': 'f8'}},\n",
       "              {'marker': {'color': 'rgb(242,241,241)'},\n",
       "               'name': '[711.23, 909.45)',\n",
       "               'type': 'bar',\n",
       "               'x': array(['2022-01-01T00:01:00.000000000', '2022-01-31T00:01:00.000000000',\n",
       "                           '2022-02-28T00:01:00.000000000', '2022-03-31T00:01:00.000000000',\n",
       "                           '2022-04-30T00:01:00.000000000', '2022-05-31T00:01:00.000000000',\n",
       "                           '2022-06-30T00:01:00.000000000', '2022-07-31T00:01:00.000000000',\n",
       "                           '2022-08-31T00:01:00.000000000', '2022-09-30T00:01:00.000000000',\n",
       "                           '2022-10-31T00:01:00.000000000', '2022-11-30T00:01:00.000000000',\n",
       "                           '2022-12-31T00:01:00.000000000', '2023-01-31T00:01:00.000000000',\n",
       "                           '2023-02-28T00:01:00.000000000', '2023-03-31T00:01:00.000000000',\n",
       "                           '2023-04-30T00:01:00.000000000', '2023-05-31T00:01:00.000000000',\n",
       "                           '2023-06-30T00:01:00.000000000', '2023-07-31T00:01:00.000000000',\n",
       "                           '2023-08-31T00:01:00.000000000', '2023-09-30T00:01:00.000000000',\n",
       "                           '2023-10-31T00:01:00.000000000', '2023-11-30T00:01:00.000000000',\n",
       "                           '2023-12-31T00:01:00.000000000', '2024-01-31T00:01:00.000000000',\n",
       "                           '2024-02-29T00:01:00.000000000', '2024-03-31T00:01:00.000000000',\n",
       "                           '2024-04-30T00:01:00.000000000', '2024-05-31T00:01:00.000000000',\n",
       "                           '2024-06-30T00:01:00.000000000', '2024-07-31T00:01:00.000000000',\n",
       "                           '2024-08-31T00:01:00.000000000', '2024-09-30T00:01:00.000000000',\n",
       "                           '2024-10-31T00:01:00.000000000', '2024-11-30T00:01:00.000000000',\n",
       "                           '2024-12-31T00:01:00.000000000'], dtype='datetime64[ns]'),\n",
       "               'y': {'bdata': ('Z0Rpb/CFwT9KDAIrhxbRP5MYBFYOLd' ... 'nx0k3SP2Q730+Nl9I/i2zn+6nx0j8='),\n",
       "                     'dtype': 'f8'}},\n",
       "              {'marker': {'color': 'rgb(153,183,205)'},\n",
       "               'name': '[909.45, 966.40)',\n",
       "               'type': 'bar',\n",
       "               'x': array(['2022-01-01T00:01:00.000000000', '2022-01-31T00:01:00.000000000',\n",
       "                           '2022-02-28T00:01:00.000000000', '2022-03-31T00:01:00.000000000',\n",
       "                           '2022-04-30T00:01:00.000000000', '2022-05-31T00:01:00.000000000',\n",
       "                           '2022-06-30T00:01:00.000000000', '2022-07-31T00:01:00.000000000',\n",
       "                           '2022-08-31T00:01:00.000000000', '2022-09-30T00:01:00.000000000',\n",
       "                           '2022-10-31T00:01:00.000000000', '2022-11-30T00:01:00.000000000',\n",
       "                           '2022-12-31T00:01:00.000000000', '2023-01-31T00:01:00.000000000',\n",
       "                           '2023-02-28T00:01:00.000000000', '2023-03-31T00:01:00.000000000',\n",
       "                           '2023-04-30T00:01:00.000000000', '2023-05-31T00:01:00.000000000',\n",
       "                           '2023-06-30T00:01:00.000000000', '2023-07-31T00:01:00.000000000',\n",
       "                           '2023-08-31T00:01:00.000000000', '2023-09-30T00:01:00.000000000',\n",
       "                           '2023-10-31T00:01:00.000000000', '2023-11-30T00:01:00.000000000',\n",
       "                           '2023-12-31T00:01:00.000000000', '2024-01-31T00:01:00.000000000',\n",
       "                           '2024-02-29T00:01:00.000000000', '2024-03-31T00:01:00.000000000',\n",
       "                           '2024-04-30T00:01:00.000000000', '2024-05-31T00:01:00.000000000',\n",
       "                           '2024-06-30T00:01:00.000000000', '2024-07-31T00:01:00.000000000',\n",
       "                           '2024-08-31T00:01:00.000000000', '2024-09-30T00:01:00.000000000',\n",
       "                           '2024-10-31T00:01:00.000000000', '2024-11-30T00:01:00.000000000',\n",
       "                           '2024-12-31T00:01:00.000000000'], dtype='datetime64[ns]'),\n",
       "               'y': {'bdata': ('KVyPwvUo3D/y0k1iEFjVP3Noke18P9' ... 'IQWDnUP6RwPQrXo9Q/x0s3iUFg1T8='),\n",
       "                     'dtype': 'f8'}},\n",
       "              {'marker': {'color': 'rgb(65,124,167)'},\n",
       "               'name': '[966.40, inf)',\n",
       "               'type': 'bar',\n",
       "               'x': array(['2022-01-01T00:01:00.000000000', '2022-01-31T00:01:00.000000000',\n",
       "                           '2022-02-28T00:01:00.000000000', '2022-03-31T00:01:00.000000000',\n",
       "                           '2022-04-30T00:01:00.000000000', '2022-05-31T00:01:00.000000000',\n",
       "                           '2022-06-30T00:01:00.000000000', '2022-07-31T00:01:00.000000000',\n",
       "                           '2022-08-31T00:01:00.000000000', '2022-09-30T00:01:00.000000000',\n",
       "                           '2022-10-31T00:01:00.000000000', '2022-11-30T00:01:00.000000000',\n",
       "                           '2022-12-31T00:01:00.000000000', '2023-01-31T00:01:00.000000000',\n",
       "                           '2023-02-28T00:01:00.000000000', '2023-03-31T00:01:00.000000000',\n",
       "                           '2023-04-30T00:01:00.000000000', '2023-05-31T00:01:00.000000000',\n",
       "                           '2023-06-30T00:01:00.000000000', '2023-07-31T00:01:00.000000000',\n",
       "                           '2023-08-31T00:01:00.000000000', '2023-09-30T00:01:00.000000000',\n",
       "                           '2023-10-31T00:01:00.000000000', '2023-11-30T00:01:00.000000000',\n",
       "                           '2023-12-31T00:01:00.000000000', '2024-01-31T00:01:00.000000000',\n",
       "                           '2024-02-29T00:01:00.000000000', '2024-03-31T00:01:00.000000000',\n",
       "                           '2024-04-30T00:01:00.000000000', '2024-05-31T00:01:00.000000000',\n",
       "                           '2024-06-30T00:01:00.000000000', '2024-07-31T00:01:00.000000000',\n",
       "                           '2024-08-31T00:01:00.000000000', '2024-09-30T00:01:00.000000000',\n",
       "                           '2024-10-31T00:01:00.000000000', '2024-11-30T00:01:00.000000000',\n",
       "                           '2024-12-31T00:01:00.000000000'], dtype='datetime64[ns]'),\n",
       "               'y': {'bdata': ('Vp+rrdhf0j8MAiuHFtnOPy2yne+nxs' ... 'rXo3DNPxfZzvdT480/EFg5tMh2zj8='),\n",
       "                     'dtype': 'f8'}}],\n",
       "     'layout': {'barmode': 'stack',\n",
       "                'template': '...',\n",
       "                'title': {'text': 'Group Share over Time'},\n",
       "                'xaxis': {'title': {'text': 'date'}},\n",
       "                'yaxis': {'tickformat': '.0%', 'title': {'text': 'Group share'}}}\n",
       " }))"
      ]
     },
     "execution_count": 52,
     "metadata": {},
     "output_type": "execute_result"
    }
   ],
   "source": [
    "evaluator.plot_event_rate()"
   ]
  },
  {
   "cell_type": "code",
   "execution_count": 53,
   "id": "5547e6ac",
   "metadata": {},
   "outputs": [
    {
     "data": {
      "application/vnd.plotly.v1+json": {
       "config": {
        "plotlyServerURL": "https://plot.ly"
       },
       "data": [
        {
         "mode": "lines+markers",
         "name": "acc_open_past_24mths (Test)",
         "type": "scatter",
         "x": [
          "2022-02-01T00:00:00.000000000",
          "2022-03-01T00:00:00.000000000",
          "2022-04-01T00:00:00.000000000",
          "2022-05-01T00:00:00.000000000",
          "2022-06-01T00:00:00.000000000",
          "2022-07-01T00:00:00.000000000",
          "2022-08-01T00:00:00.000000000",
          "2022-09-01T00:00:00.000000000",
          "2022-10-01T00:00:00.000000000",
          "2022-11-01T00:00:00.000000000",
          "2022-12-01T00:00:00.000000000",
          "2023-01-01T00:00:00.000000000",
          "2023-02-01T00:00:00.000000000",
          "2023-03-01T00:00:00.000000000",
          "2023-04-01T00:00:00.000000000",
          "2023-05-01T00:00:00.000000000",
          "2023-06-01T00:00:00.000000000",
          "2023-07-01T00:00:00.000000000",
          "2023-08-01T00:00:00.000000000",
          "2023-09-01T00:00:00.000000000",
          "2023-10-01T00:00:00.000000000",
          "2023-11-01T00:00:00.000000000",
          "2023-12-01T00:00:00.000000000",
          "2024-01-01T00:00:00.000000000",
          "2024-02-01T00:00:00.000000000",
          "2024-03-01T00:00:00.000000000",
          "2024-04-01T00:00:00.000000000",
          "2024-05-01T00:00:00.000000000",
          "2024-06-01T00:00:00.000000000",
          "2024-07-01T00:00:00.000000000",
          "2024-08-01T00:00:00.000000000",
          "2024-09-01T00:00:00.000000000",
          "2024-10-01T00:00:00.000000000",
          "2024-11-01T00:00:00.000000000",
          "2024-12-01T00:00:00.000000000"
         ],
         "y": {
          "bdata": "xIeED5n/cT9TF8lz9GegP8IUPiYVJJI/gBLKGOWfgz+lsNA9knWoP8w77e//AbE/y8skuLplkj9vKVzv7yanP3y3Lrd5YqU/IOc9tT7/pz/8pLFGsVnAPz9R+liGxLU/LwRCtLaWnT81PExlGB6aP9AmRUTzP5s/p778akF7nj/DbCW0HwmaP6RQR5B3aYA/ahnNQ5U3lD+XloG/Rv2iP+6eeSdJ96M/Y6avHtHynz8D/UjK+YChP2BEvbGZeJg/cKwnWAq5oT9iqS1Ylg6iP5Qny1V0BqA/Y7YFiG9QpD/SwLkcPj2xP+1zmDIbxKs/qPSRY/QQoj+IIBRr6hSwP0Lb9xG89p4/fsUzJyAFmj91/hlom9qyPw==",
          "dtype": "f8"
         }
        },
        {
         "mode": "lines+markers",
         "name": "acc_open_past_24mths (Train)",
         "type": "scatter",
         "x": [
          "2022-02-01T00:00:00.000000000",
          "2022-03-01T00:00:00.000000000",
          "2022-04-01T00:00:00.000000000",
          "2022-05-01T00:00:00.000000000",
          "2022-06-01T00:00:00.000000000",
          "2022-07-01T00:00:00.000000000",
          "2022-08-01T00:00:00.000000000",
          "2022-09-01T00:00:00.000000000",
          "2022-10-01T00:00:00.000000000",
          "2022-11-01T00:00:00.000000000",
          "2022-12-01T00:00:00.000000000",
          "2023-01-01T00:00:00.000000000",
          "2023-02-01T00:00:00.000000000",
          "2023-03-01T00:00:00.000000000",
          "2023-04-01T00:00:00.000000000",
          "2023-05-01T00:00:00.000000000",
          "2023-06-01T00:00:00.000000000",
          "2023-07-01T00:00:00.000000000",
          "2023-08-01T00:00:00.000000000",
          "2023-09-01T00:00:00.000000000",
          "2023-10-01T00:00:00.000000000",
          "2023-11-01T00:00:00.000000000",
          "2023-12-01T00:00:00.000000000",
          "2024-01-01T00:00:00.000000000",
          "2024-02-01T00:00:00.000000000",
          "2024-03-01T00:00:00.000000000",
          "2024-04-01T00:00:00.000000000",
          "2024-05-01T00:00:00.000000000",
          "2024-06-01T00:00:00.000000000",
          "2024-07-01T00:00:00.000000000",
          "2024-08-01T00:00:00.000000000",
          "2024-09-01T00:00:00.000000000",
          "2024-10-01T00:00:00.000000000",
          "2024-11-01T00:00:00.000000000",
          "2024-12-01T00:00:00.000000000"
         ],
         "y": {
          "bdata": "M40ZNqGlez8xxrLYlCmaPyNeDiGK4pY/l3hsOjiNgT98WreEsGuVP3PtJGhfRZM//SQS5qRjnD++CKcsZtWZP2mmnamyO5w/CS4Z4YadnD+sSupLU3+KP7YaiM2KrXE/vNItbCxZiz9ELVPEyDydP9MmTzdSfqo/rPePl2XQlD9YGnVLKAB4P5w9MXAzcIU/4SgrRPtLgj+uucuVM3OiPwoJNDJrP4g/d8pM5K0Chz+n0N0s8dGiP29nw1yRcr4//WLuLOlWnD9waYrCYZeVP+VrzIsb7YI/wqyfHZjomz8XO4ylIb2bP2NfjHOShpY/NkJJkbU0kD9wcAVRH0mPPwlNVT+evo4/RlEEiXjhkj8wpaxbOV+nPw==",
          "dtype": "f8"
         }
        },
        {
         "mode": "lines+markers",
         "name": "annual_inc (Test)",
         "type": "scatter",
         "x": [
          "2022-02-01T00:00:00.000000000",
          "2022-03-01T00:00:00.000000000",
          "2022-04-01T00:00:00.000000000",
          "2022-05-01T00:00:00.000000000",
          "2022-06-01T00:00:00.000000000",
          "2022-07-01T00:00:00.000000000",
          "2022-08-01T00:00:00.000000000",
          "2022-09-01T00:00:00.000000000",
          "2022-10-01T00:00:00.000000000",
          "2022-11-01T00:00:00.000000000",
          "2022-12-01T00:00:00.000000000",
          "2023-01-01T00:00:00.000000000",
          "2023-02-01T00:00:00.000000000",
          "2023-03-01T00:00:00.000000000",
          "2023-04-01T00:00:00.000000000",
          "2023-05-01T00:00:00.000000000",
          "2023-06-01T00:00:00.000000000",
          "2023-07-01T00:00:00.000000000",
          "2023-08-01T00:00:00.000000000",
          "2023-09-01T00:00:00.000000000",
          "2023-10-01T00:00:00.000000000",
          "2023-11-01T00:00:00.000000000",
          "2023-12-01T00:00:00.000000000",
          "2024-01-01T00:00:00.000000000",
          "2024-02-01T00:00:00.000000000",
          "2024-03-01T00:00:00.000000000",
          "2024-04-01T00:00:00.000000000",
          "2024-05-01T00:00:00.000000000",
          "2024-06-01T00:00:00.000000000",
          "2024-07-01T00:00:00.000000000",
          "2024-08-01T00:00:00.000000000",
          "2024-09-01T00:00:00.000000000",
          "2024-10-01T00:00:00.000000000",
          "2024-11-01T00:00:00.000000000",
          "2024-12-01T00:00:00.000000000"
         ],
         "y": {
          "bdata": "rFaU/BQ6kT9PQQ9JMrqwP+7jVLXy7a0/4i/GGpbLkj9ok6lwKzihP5fWYnsMXq8/UCstTdJjlT8cgoAOElagP5fh0XOZacI/org0tBrkwz+s793hvCifP1AgdhmdRbI/kP5oQOqprz+JwcEsKJmqPyxG6G6QZaQ/1bMz+D0RoT8NMzFLLBOjP3DJgFShIps/HbUv0cvEoT9JIhdbV6KiPyZkG2BqNpg/Fe28U8wLqj9x0ulUsSykPwHIGxuVx68/kkmmsYRTrT9oSyLdQn+tP75dJCLovJQ/d4dXCeVMlj+z1NrWjZywP1/xjdrfErg/fZZ/Uancqj+DhLRIhoqiP9dODH4pGqA/cM3net4glj+ntSAlJ1ukPw==",
          "dtype": "f8"
         }
        },
        {
         "mode": "lines+markers",
         "name": "annual_inc (Train)",
         "type": "scatter",
         "x": [
          "2022-02-01T00:00:00.000000000",
          "2022-03-01T00:00:00.000000000",
          "2022-04-01T00:00:00.000000000",
          "2022-05-01T00:00:00.000000000",
          "2022-06-01T00:00:00.000000000",
          "2022-07-01T00:00:00.000000000",
          "2022-08-01T00:00:00.000000000",
          "2022-09-01T00:00:00.000000000",
          "2022-10-01T00:00:00.000000000",
          "2022-11-01T00:00:00.000000000",
          "2022-12-01T00:00:00.000000000",
          "2023-01-01T00:00:00.000000000",
          "2023-02-01T00:00:00.000000000",
          "2023-03-01T00:00:00.000000000",
          "2023-04-01T00:00:00.000000000",
          "2023-05-01T00:00:00.000000000",
          "2023-06-01T00:00:00.000000000",
          "2023-07-01T00:00:00.000000000",
          "2023-08-01T00:00:00.000000000",
          "2023-09-01T00:00:00.000000000",
          "2023-10-01T00:00:00.000000000",
          "2023-11-01T00:00:00.000000000",
          "2023-12-01T00:00:00.000000000",
          "2024-01-01T00:00:00.000000000",
          "2024-02-01T00:00:00.000000000",
          "2024-03-01T00:00:00.000000000",
          "2024-04-01T00:00:00.000000000",
          "2024-05-01T00:00:00.000000000",
          "2024-06-01T00:00:00.000000000",
          "2024-07-01T00:00:00.000000000",
          "2024-08-01T00:00:00.000000000",
          "2024-09-01T00:00:00.000000000",
          "2024-10-01T00:00:00.000000000",
          "2024-11-01T00:00:00.000000000",
          "2024-12-01T00:00:00.000000000"
         ],
         "y": {
          "bdata": "R7EFSKJQij9D/7Io4fmnP+Xx3JOzPJk/yF+Vw+Tbhj9kPV4KNhuSP4bfswStzpM/GMt35zjnWz8r/tios4qKP6FpCdZvPJE/bDT11U3frD8Q0p2BaLuVP+ZgZPISXLg/yowHR6B2oT+RvmfM5qCbP8cSXSeFP5A/ISx5n4vXlz/x4hHAyLGRPybbjWrgiYY/J7RIz7HNlz+HyrbolBaGP2WKtm9FiaQ/JFLXCmB1oD/GO2+EAXygP29EhhT/AaQ/cBcJzS95tD9Gn94XGUukPxX9LcHgFqE/7KXkhcMMfj8KhCMnUPKiP5FhvCU8Vpg/haR3Fc84nz+o2gFx5k6IPxx2zfQxGX0/dvvd9vE/cj/R8EqwnZeiPw==",
          "dtype": "f8"
         }
        },
        {
         "mode": "lines+markers",
         "name": "avg_cur_bal (Test)",
         "type": "scatter",
         "x": [
          "2022-02-01T00:00:00.000000000",
          "2022-03-01T00:00:00.000000000",
          "2022-04-01T00:00:00.000000000",
          "2022-05-01T00:00:00.000000000",
          "2022-06-01T00:00:00.000000000",
          "2022-07-01T00:00:00.000000000",
          "2022-08-01T00:00:00.000000000",
          "2022-09-01T00:00:00.000000000",
          "2022-10-01T00:00:00.000000000",
          "2022-11-01T00:00:00.000000000",
          "2022-12-01T00:00:00.000000000",
          "2023-01-01T00:00:00.000000000",
          "2023-02-01T00:00:00.000000000",
          "2023-03-01T00:00:00.000000000",
          "2023-04-01T00:00:00.000000000",
          "2023-05-01T00:00:00.000000000",
          "2023-06-01T00:00:00.000000000",
          "2023-07-01T00:00:00.000000000",
          "2023-08-01T00:00:00.000000000",
          "2023-09-01T00:00:00.000000000",
          "2023-10-01T00:00:00.000000000",
          "2023-11-01T00:00:00.000000000",
          "2023-12-01T00:00:00.000000000",
          "2024-01-01T00:00:00.000000000",
          "2024-02-01T00:00:00.000000000",
          "2024-03-01T00:00:00.000000000",
          "2024-04-01T00:00:00.000000000",
          "2024-05-01T00:00:00.000000000",
          "2024-06-01T00:00:00.000000000",
          "2024-07-01T00:00:00.000000000",
          "2024-08-01T00:00:00.000000000",
          "2024-09-01T00:00:00.000000000",
          "2024-10-01T00:00:00.000000000",
          "2024-11-01T00:00:00.000000000",
          "2024-12-01T00:00:00.000000000"
         ],
         "y": {
          "bdata": "53mDVRxajD/GXT6dQN+tPzkg4UfUI6M/QxiJ7oOZoD/juON0Yx+kP9xUVSNbpJ8/E3eQn92Znj/54TX9JsaTP9bsbKFK+J0/yKVgMK7+oj/8z9hXZ/K3P35ByN4Kn7k/yCIlWUi3sD+gABO0l7uWP8UBm6zD4KY/CjI/OdcIvT85AK41AwayP3ggbmvBbJc/sKZ/x0HZpD8bOGLEoN6rPyaT1s6xuKc/XritK0JtpT+C2Kq2AVm5P1yRfCvth8Q/CvgSgOnQwT8NsIU5VoKYP+rjUvZ5+5I/gK9QO7Icmj82J2VIAW23P2cgdcdjNrU//3y5AZY2qT92vuaC41WSP8y4Ru16cJM/Oui7MOFsnT82AiLqyIyjPw==",
          "dtype": "f8"
         }
        },
        {
         "mode": "lines+markers",
         "name": "avg_cur_bal (Train)",
         "type": "scatter",
         "x": [
          "2022-02-01T00:00:00.000000000",
          "2022-03-01T00:00:00.000000000",
          "2022-04-01T00:00:00.000000000",
          "2022-05-01T00:00:00.000000000",
          "2022-06-01T00:00:00.000000000",
          "2022-07-01T00:00:00.000000000",
          "2022-08-01T00:00:00.000000000",
          "2022-09-01T00:00:00.000000000",
          "2022-10-01T00:00:00.000000000",
          "2022-11-01T00:00:00.000000000",
          "2022-12-01T00:00:00.000000000",
          "2023-01-01T00:00:00.000000000",
          "2023-02-01T00:00:00.000000000",
          "2023-03-01T00:00:00.000000000",
          "2023-04-01T00:00:00.000000000",
          "2023-05-01T00:00:00.000000000",
          "2023-06-01T00:00:00.000000000",
          "2023-07-01T00:00:00.000000000",
          "2023-08-01T00:00:00.000000000",
          "2023-09-01T00:00:00.000000000",
          "2023-10-01T00:00:00.000000000",
          "2023-11-01T00:00:00.000000000",
          "2023-12-01T00:00:00.000000000",
          "2024-01-01T00:00:00.000000000",
          "2024-02-01T00:00:00.000000000",
          "2024-03-01T00:00:00.000000000",
          "2024-04-01T00:00:00.000000000",
          "2024-05-01T00:00:00.000000000",
          "2024-06-01T00:00:00.000000000",
          "2024-07-01T00:00:00.000000000",
          "2024-08-01T00:00:00.000000000",
          "2024-09-01T00:00:00.000000000",
          "2024-10-01T00:00:00.000000000",
          "2024-11-01T00:00:00.000000000",
          "2024-12-01T00:00:00.000000000"
         ],
         "y": {
          "bdata": "3dNlOmcUiT8X9lgfe+mjPyxqHrY7io8/cDaSD7ZfcD+ly7BmZgmLPzzGWF5igoc/Pwl5CLgelD/8Bt5StM2cPzjVhwGtLZ0/jXLHlwp8pD91rWb9pr6hP64PStQmgKs/dWV4HDmarD+5D+/09SmlPxcQX2QBhY4/i6e8uv6OkD98H0CibSGmPxvcWMf35Ic/eW8UfzjSgD8tCGJgv3uJP1eTpgzPOpI/DSezr56VlT8EniXoMmqjP56VUNMAM6U/uagMIaPHlT/obPWAsmChP/xhf69uRIk/eGcjscMUpz/deRrnCIeoP1boTOkdbpA/Y1IhPvCagz8ofH5DxKGIPyhkh0VqG5E/0xPZTl+Glz9QEnVGOtGjPw==",
          "dtype": "f8"
         }
        },
        {
         "mode": "lines+markers",
         "name": "bc_open_to_buy (Test)",
         "type": "scatter",
         "x": [
          "2022-02-01T00:00:00.000000000",
          "2022-03-01T00:00:00.000000000",
          "2022-04-01T00:00:00.000000000",
          "2022-05-01T00:00:00.000000000",
          "2022-06-01T00:00:00.000000000",
          "2022-07-01T00:00:00.000000000",
          "2022-08-01T00:00:00.000000000",
          "2022-09-01T00:00:00.000000000",
          "2022-10-01T00:00:00.000000000",
          "2022-11-01T00:00:00.000000000",
          "2022-12-01T00:00:00.000000000",
          "2023-01-01T00:00:00.000000000",
          "2023-02-01T00:00:00.000000000",
          "2023-03-01T00:00:00.000000000",
          "2023-04-01T00:00:00.000000000",
          "2023-05-01T00:00:00.000000000",
          "2023-06-01T00:00:00.000000000",
          "2023-07-01T00:00:00.000000000",
          "2023-08-01T00:00:00.000000000",
          "2023-09-01T00:00:00.000000000",
          "2023-10-01T00:00:00.000000000",
          "2023-11-01T00:00:00.000000000",
          "2023-12-01T00:00:00.000000000",
          "2024-01-01T00:00:00.000000000",
          "2024-02-01T00:00:00.000000000",
          "2024-03-01T00:00:00.000000000",
          "2024-04-01T00:00:00.000000000",
          "2024-05-01T00:00:00.000000000",
          "2024-06-01T00:00:00.000000000",
          "2024-07-01T00:00:00.000000000",
          "2024-08-01T00:00:00.000000000",
          "2024-09-01T00:00:00.000000000",
          "2024-10-01T00:00:00.000000000",
          "2024-11-01T00:00:00.000000000",
          "2024-12-01T00:00:00.000000000"
         ],
         "y": {
          "bdata": "j0T90GMkjD+cPfEY7FykP22NRWYXrqE/+MLNQLt4oD9rsnEUUTOcPweMbIPblJE/rwo3BjB8hz9tNd8wH46XP2ARtCMc6LA/dDzSDfIDsj9O/Ewm+9GqP6QmdOj7o7Q/9uFKUmQAnj96MOsM7lmFP8OoabXdt6c/nzb290ZKoj8vSpjeYuWyP1dRR8cXWY0/0U7TPjfAfT9ZnNlUr0KIP/HiJA3slaA/oJki+fZjrD8h+ZvPk2SkP3MGWiNIIrc/k13522F2qj8YNFlcUkGqP8yFdBETK5U/VnUg5vqPsT/qEAY5uomqP9vYY8M656c/AUyWr8MfsD/g/Ms1ooqkP9GArZH5y60/Emtqf/i8nz+0yK8WYSSjPw==",
          "dtype": "f8"
         }
        },
        {
         "mode": "lines+markers",
         "name": "bc_open_to_buy (Train)",
         "type": "scatter",
         "x": [
          "2022-02-01T00:00:00.000000000",
          "2022-03-01T00:00:00.000000000",
          "2022-04-01T00:00:00.000000000",
          "2022-05-01T00:00:00.000000000",
          "2022-06-01T00:00:00.000000000",
          "2022-07-01T00:00:00.000000000",
          "2022-08-01T00:00:00.000000000",
          "2022-09-01T00:00:00.000000000",
          "2022-10-01T00:00:00.000000000",
          "2022-11-01T00:00:00.000000000",
          "2022-12-01T00:00:00.000000000",
          "2023-01-01T00:00:00.000000000",
          "2023-02-01T00:00:00.000000000",
          "2023-03-01T00:00:00.000000000",
          "2023-04-01T00:00:00.000000000",
          "2023-05-01T00:00:00.000000000",
          "2023-06-01T00:00:00.000000000",
          "2023-07-01T00:00:00.000000000",
          "2023-08-01T00:00:00.000000000",
          "2023-09-01T00:00:00.000000000",
          "2023-10-01T00:00:00.000000000",
          "2023-11-01T00:00:00.000000000",
          "2023-12-01T00:00:00.000000000",
          "2024-01-01T00:00:00.000000000",
          "2024-02-01T00:00:00.000000000",
          "2024-03-01T00:00:00.000000000",
          "2024-04-01T00:00:00.000000000",
          "2024-05-01T00:00:00.000000000",
          "2024-06-01T00:00:00.000000000",
          "2024-07-01T00:00:00.000000000",
          "2024-08-01T00:00:00.000000000",
          "2024-09-01T00:00:00.000000000",
          "2024-10-01T00:00:00.000000000",
          "2024-11-01T00:00:00.000000000",
          "2024-12-01T00:00:00.000000000"
         ],
         "y": {
          "bdata": "wRVP2691Zz951GSCVYWgP/F+mxUB4Zc/t+HKP0tYjT8nWvjwCLuGPyjzFurdBJc/gryYdDxbjj9IHC9RGdmFPxbEcu+9hrE/8HX5QtKNnj+bQAryxAugP05pLX1UYr4/PGeuI6Nmrz9fmQmKsQOYP4fuU2arALA/I2XKWnmOqT8fUPAAKNaIPzA3rxbCSoI/xEd+/tbEjD8yh8kEYAqFPwSnGfMBrY4/vgKgN1xzlD9sPqnvuk+SP7Wry43NE6Y/heJDDCkkqj8a1MI/eoGkP+Nu5+vHkqM/hjFEd7kLnT81F37hqDWgP8kcckyU4IU/jJg88MrdoD9K7eopwKOFPwkKDJA9G4M/JS8i/f9njj+g3TI10TuhPw==",
          "dtype": "f8"
         }
        },
        {
         "mode": "lines+markers",
         "name": "dti (Test)",
         "type": "scatter",
         "x": [
          "2022-02-01T00:00:00.000000000",
          "2022-03-01T00:00:00.000000000",
          "2022-04-01T00:00:00.000000000",
          "2022-05-01T00:00:00.000000000",
          "2022-06-01T00:00:00.000000000",
          "2022-07-01T00:00:00.000000000",
          "2022-08-01T00:00:00.000000000",
          "2022-09-01T00:00:00.000000000",
          "2022-10-01T00:00:00.000000000",
          "2022-11-01T00:00:00.000000000",
          "2022-12-01T00:00:00.000000000",
          "2023-01-01T00:00:00.000000000",
          "2023-02-01T00:00:00.000000000",
          "2023-03-01T00:00:00.000000000",
          "2023-04-01T00:00:00.000000000",
          "2023-05-01T00:00:00.000000000",
          "2023-06-01T00:00:00.000000000",
          "2023-07-01T00:00:00.000000000",
          "2023-08-01T00:00:00.000000000",
          "2023-09-01T00:00:00.000000000",
          "2023-10-01T00:00:00.000000000",
          "2023-11-01T00:00:00.000000000",
          "2023-12-01T00:00:00.000000000",
          "2024-01-01T00:00:00.000000000",
          "2024-02-01T00:00:00.000000000",
          "2024-03-01T00:00:00.000000000",
          "2024-04-01T00:00:00.000000000",
          "2024-05-01T00:00:00.000000000",
          "2024-06-01T00:00:00.000000000",
          "2024-07-01T00:00:00.000000000",
          "2024-08-01T00:00:00.000000000",
          "2024-09-01T00:00:00.000000000",
          "2024-10-01T00:00:00.000000000",
          "2024-11-01T00:00:00.000000000",
          "2024-12-01T00:00:00.000000000"
         ],
         "y": {
          "bdata": "EAmtei97nD8y1Yc/07eqP7fFM1sin4w/S1YeNaswkD+jfQDJJt2SP+Nc0TEJY5g/ad7lDN3cgj+p/83cIh+VP0BcP3YZirM//EBIxWwWlz9tJ9rOwBOiPw47G3Ji0J4/UhP0QJasqT/KKx2VnbijP5AUAyL3E6I/nkGGMKGXmD+6M4+T1TOhP67gU6llAYc/+OUvrBXrmz9MSV+YyEKfP+SptHIvKJQ/bSC1KxiwpT//qxDRxDmwP97BusaNg6g/NGjL5PstmT9R1KkLPdmnP/vzOemuNKA/LQhN5d7BpT9WAuSwTnuvP6UqNsX1XK4/ir1yQ0bIpj/YcSaUGYWQP8HL1+YrJKA/hcoZWjFXkD+6innOkiycPw==",
          "dtype": "f8"
         }
        },
        {
         "mode": "lines+markers",
         "name": "dti (Train)",
         "type": "scatter",
         "x": [
          "2022-02-01T00:00:00.000000000",
          "2022-03-01T00:00:00.000000000",
          "2022-04-01T00:00:00.000000000",
          "2022-05-01T00:00:00.000000000",
          "2022-06-01T00:00:00.000000000",
          "2022-07-01T00:00:00.000000000",
          "2022-08-01T00:00:00.000000000",
          "2022-09-01T00:00:00.000000000",
          "2022-10-01T00:00:00.000000000",
          "2022-11-01T00:00:00.000000000",
          "2022-12-01T00:00:00.000000000",
          "2023-01-01T00:00:00.000000000",
          "2023-02-01T00:00:00.000000000",
          "2023-03-01T00:00:00.000000000",
          "2023-04-01T00:00:00.000000000",
          "2023-05-01T00:00:00.000000000",
          "2023-06-01T00:00:00.000000000",
          "2023-07-01T00:00:00.000000000",
          "2023-08-01T00:00:00.000000000",
          "2023-09-01T00:00:00.000000000",
          "2023-10-01T00:00:00.000000000",
          "2023-11-01T00:00:00.000000000",
          "2023-12-01T00:00:00.000000000",
          "2024-01-01T00:00:00.000000000",
          "2024-02-01T00:00:00.000000000",
          "2024-03-01T00:00:00.000000000",
          "2024-04-01T00:00:00.000000000",
          "2024-05-01T00:00:00.000000000",
          "2024-06-01T00:00:00.000000000",
          "2024-07-01T00:00:00.000000000",
          "2024-08-01T00:00:00.000000000",
          "2024-09-01T00:00:00.000000000",
          "2024-10-01T00:00:00.000000000",
          "2024-11-01T00:00:00.000000000",
          "2024-12-01T00:00:00.000000000"
         ],
         "y": {
          "bdata": "6YKkWxyCiD9JiXOvgWiePwLvrIuZV4g/AJ5qiKTThD/c0dMiWWuPP4JZ6cguV5s/Y6HBy5vgij/prbei5OqXPxkU2n7wBJE/xwaMCJmajD9doHg31ZmQP440XL+Y1Kg/Hkbm6mY7lD8Q1tojvySQP+69+UxJvpI/3mh/ZmnapT+euysDE0B/Py5CRjXXjno/znOsXV/Kmz9oIyUhqXKKP4kp7FB+TIA/rafxf2/ykT+AahslzCiCP0uaYtNZiZo/2n4epKrLqD8XsXTicw6aP6VoRwXtzow/mwGaoGKopD/pFWXgjwGXP6jS58lWGoc/e8Ys8w4ZoT+I7mM53UuPP5tEi4Ek7pg/J73bD+apiT/eMToQRHehPw==",
          "dtype": "f8"
         }
        },
        {
         "mode": "lines+markers",
         "name": "fico_range_high (Test)",
         "type": "scatter",
         "x": [
          "2022-02-01T00:00:00.000000000",
          "2022-03-01T00:00:00.000000000",
          "2022-04-01T00:00:00.000000000",
          "2022-05-01T00:00:00.000000000",
          "2022-06-01T00:00:00.000000000",
          "2022-07-01T00:00:00.000000000",
          "2022-08-01T00:00:00.000000000",
          "2022-09-01T00:00:00.000000000",
          "2022-10-01T00:00:00.000000000",
          "2022-11-01T00:00:00.000000000",
          "2022-12-01T00:00:00.000000000",
          "2023-01-01T00:00:00.000000000",
          "2023-02-01T00:00:00.000000000",
          "2023-03-01T00:00:00.000000000",
          "2023-04-01T00:00:00.000000000",
          "2023-05-01T00:00:00.000000000",
          "2023-06-01T00:00:00.000000000",
          "2023-07-01T00:00:00.000000000",
          "2023-08-01T00:00:00.000000000",
          "2023-09-01T00:00:00.000000000",
          "2023-10-01T00:00:00.000000000",
          "2023-11-01T00:00:00.000000000",
          "2023-12-01T00:00:00.000000000",
          "2024-01-01T00:00:00.000000000",
          "2024-02-01T00:00:00.000000000",
          "2024-03-01T00:00:00.000000000",
          "2024-04-01T00:00:00.000000000",
          "2024-05-01T00:00:00.000000000",
          "2024-06-01T00:00:00.000000000",
          "2024-07-01T00:00:00.000000000",
          "2024-08-01T00:00:00.000000000",
          "2024-09-01T00:00:00.000000000",
          "2024-10-01T00:00:00.000000000",
          "2024-11-01T00:00:00.000000000",
          "2024-12-01T00:00:00.000000000"
         ],
         "y": {
          "bdata": "WR0KD0u/iT9G7qubN/CbP/aRwcuY+qs/+WlsAdvTjT/JA9GsB2aCP2fRCl1cI7I/brYBHAxKnT90w1EYz1KaPw47G8HCVLA/H6oobo3ptD8jvl1FnHetP6pyuaYhsKQ/dFeBhmH0sD/lHWBn0uGvP2Gdw+m0Z7M/iLZmpbDgnz9TT4iWoLKUP4BX29aZ3pY/wkQK66Y1ij/2nKiVkPOgPwevSuTpB5o/cLnYSC5RjT/vB6QoQriyP2URWOEil6I/2CKHe5a2qD9Ina9lhBW6P3LjPywlAJU/ih5ZjjXrnj+iIAXfelGsP13WEmBTZcI/xHkWkACDpz9Yn+6lCymQP5oKEbZk8JM/3EP8NedGdT9gpbtWkZajPw==",
          "dtype": "f8"
         }
        },
        {
         "mode": "lines+markers",
         "name": "fico_range_high (Train)",
         "type": "scatter",
         "x": [
          "2022-02-01T00:00:00.000000000",
          "2022-03-01T00:00:00.000000000",
          "2022-04-01T00:00:00.000000000",
          "2022-05-01T00:00:00.000000000",
          "2022-06-01T00:00:00.000000000",
          "2022-07-01T00:00:00.000000000",
          "2022-08-01T00:00:00.000000000",
          "2022-09-01T00:00:00.000000000",
          "2022-10-01T00:00:00.000000000",
          "2022-11-01T00:00:00.000000000",
          "2022-12-01T00:00:00.000000000",
          "2023-01-01T00:00:00.000000000",
          "2023-02-01T00:00:00.000000000",
          "2023-03-01T00:00:00.000000000",
          "2023-04-01T00:00:00.000000000",
          "2023-05-01T00:00:00.000000000",
          "2023-06-01T00:00:00.000000000",
          "2023-07-01T00:00:00.000000000",
          "2023-08-01T00:00:00.000000000",
          "2023-09-01T00:00:00.000000000",
          "2023-10-01T00:00:00.000000000",
          "2023-11-01T00:00:00.000000000",
          "2023-12-01T00:00:00.000000000",
          "2024-01-01T00:00:00.000000000",
          "2024-02-01T00:00:00.000000000",
          "2024-03-01T00:00:00.000000000",
          "2024-04-01T00:00:00.000000000",
          "2024-05-01T00:00:00.000000000",
          "2024-06-01T00:00:00.000000000",
          "2024-07-01T00:00:00.000000000",
          "2024-08-01T00:00:00.000000000",
          "2024-09-01T00:00:00.000000000",
          "2024-10-01T00:00:00.000000000",
          "2024-11-01T00:00:00.000000000",
          "2024-12-01T00:00:00.000000000"
         ],
         "y": {
          "bdata": "7SzTvKmHkD9mgJ2qXjicPzl+SLNpFaE/b/K1MXhKgz9iJnkxZfqTPzcVEWSx+JM/IuFxDPRnkT+zwkGzjCiUP7qfY7kvFZ4/vo6Z9yDRdj/YZAIDWsaXP/rLotIG8KY/lDJMIvRloT+UcLQcyaWVP6Tkmid/E5M/LYnPS1L+nz8viP/7wTqFP06FLSN0oIc/LRUlrXWxfz+qLtq+kqGSP8biCuVsQ5E/k24NN/+alD/coKbXN/GfP3XIWCPIRJs/7RLLdS4uoj+RheYGPXqSP/cyvtOujpo/o6RktoWqmj8yZVa1aLyqPxgcry/u/LE/ClRh2DEInT9fX1WnrZmRP5JUdZh2Z4Q//k0SPkCchj8YM8afvJGXPw==",
          "dtype": "f8"
         }
        },
        {
         "mode": "lines+markers",
         "name": "funded_amnt_inv (Test)",
         "type": "scatter",
         "x": [
          "2022-02-01T00:00:00.000000000",
          "2022-03-01T00:00:00.000000000",
          "2022-04-01T00:00:00.000000000",
          "2022-05-01T00:00:00.000000000",
          "2022-06-01T00:00:00.000000000",
          "2022-07-01T00:00:00.000000000",
          "2022-08-01T00:00:00.000000000",
          "2022-09-01T00:00:00.000000000",
          "2022-10-01T00:00:00.000000000",
          "2022-11-01T00:00:00.000000000",
          "2022-12-01T00:00:00.000000000",
          "2023-01-01T00:00:00.000000000",
          "2023-02-01T00:00:00.000000000",
          "2023-03-01T00:00:00.000000000",
          "2023-04-01T00:00:00.000000000",
          "2023-05-01T00:00:00.000000000",
          "2023-06-01T00:00:00.000000000",
          "2023-07-01T00:00:00.000000000",
          "2023-08-01T00:00:00.000000000",
          "2023-09-01T00:00:00.000000000",
          "2023-10-01T00:00:00.000000000",
          "2023-11-01T00:00:00.000000000",
          "2023-12-01T00:00:00.000000000",
          "2024-01-01T00:00:00.000000000",
          "2024-02-01T00:00:00.000000000",
          "2024-03-01T00:00:00.000000000",
          "2024-04-01T00:00:00.000000000",
          "2024-05-01T00:00:00.000000000",
          "2024-06-01T00:00:00.000000000",
          "2024-07-01T00:00:00.000000000",
          "2024-08-01T00:00:00.000000000",
          "2024-09-01T00:00:00.000000000",
          "2024-10-01T00:00:00.000000000",
          "2024-11-01T00:00:00.000000000",
          "2024-12-01T00:00:00.000000000"
         ],
         "y": {
          "bdata": "8JTJOMZVlj+AB0SywnKpP286dJbZJaM/+1yp/2OAgz+ISQ4vhOSeP+IW78Md2q0/Slg3MJWnjT/eK5Q7t2iUP1qzyGHxobA/SglqxAS3wj8ypuY+Qh21P/hBHyeWLaw/DBhKLfhUpz9LGAVIUdWBP/N3cKgEAsM/V/8g4n7sqT/qpl+yqVCRP5UMJmg0nIU/9HQI2oHsoj9fW/oB4vSyP5Jt7meKILI/emVJynC/pj/XK3jGR5e1P+VfKbOXtbk/EPzhaLLurD8tzj8X856CP3XGZqZtn6A/TUdhl0gAtz+xnN1DoEaiP5ryXWNezbU/1SI4OM5xsj/5ctA1RcqiP3C3FpLbXak/pJYV4FjPrT+a3PIh+Z2tPw==",
          "dtype": "f8"
         }
        },
        {
         "mode": "lines+markers",
         "name": "funded_amnt_inv (Train)",
         "type": "scatter",
         "x": [
          "2022-02-01T00:00:00.000000000",
          "2022-03-01T00:00:00.000000000",
          "2022-04-01T00:00:00.000000000",
          "2022-05-01T00:00:00.000000000",
          "2022-06-01T00:00:00.000000000",
          "2022-07-01T00:00:00.000000000",
          "2022-08-01T00:00:00.000000000",
          "2022-09-01T00:00:00.000000000",
          "2022-10-01T00:00:00.000000000",
          "2022-11-01T00:00:00.000000000",
          "2022-12-01T00:00:00.000000000",
          "2023-01-01T00:00:00.000000000",
          "2023-02-01T00:00:00.000000000",
          "2023-03-01T00:00:00.000000000",
          "2023-04-01T00:00:00.000000000",
          "2023-05-01T00:00:00.000000000",
          "2023-06-01T00:00:00.000000000",
          "2023-07-01T00:00:00.000000000",
          "2023-08-01T00:00:00.000000000",
          "2023-09-01T00:00:00.000000000",
          "2023-10-01T00:00:00.000000000",
          "2023-11-01T00:00:00.000000000",
          "2023-12-01T00:00:00.000000000",
          "2024-01-01T00:00:00.000000000",
          "2024-02-01T00:00:00.000000000",
          "2024-03-01T00:00:00.000000000",
          "2024-04-01T00:00:00.000000000",
          "2024-05-01T00:00:00.000000000",
          "2024-06-01T00:00:00.000000000",
          "2024-07-01T00:00:00.000000000",
          "2024-08-01T00:00:00.000000000",
          "2024-09-01T00:00:00.000000000",
          "2024-10-01T00:00:00.000000000",
          "2024-11-01T00:00:00.000000000",
          "2024-12-01T00:00:00.000000000"
         ],
         "y": {
          "bdata": "Z3PMfUxJfj/Na/12H2yXP4F3tCR715E/7u4v7LPBgz9PgDngZZ+MP1fwAVNPQIo/7o8HDn0qmT9iYQHytx2UP2gQ+S/7S6I/I7yue+Xznj87WeU9fEOoP03zUpPU5bA/bWYPb5ICrz+tcTq7MveWP/4hZxLzlpM/sIkrW1+cpz9MXScdBB+bP2HzJAnJo4Y/Hg7yMUxZhT98dGYSq7ejP/QSvaClTZY/hvF0hhgzoD85WCgp5dOxP5CL5kPscaY/G+Ih2bdRmj+aRVO54SlkP0HlDk2bKJk/luVO4djvnT9p7le7VimqPyuXoPmzYqQ/j4nYZY3TkD8uJaUrI66WP4MrHAb79Yc/D0oLRCrdhz85vU4rac+XPw==",
          "dtype": "f8"
         }
        },
        {
         "mode": "lines+markers",
         "name": "last_fico_range_low (Test)",
         "type": "scatter",
         "x": [
          "2022-02-01T00:00:00.000000000",
          "2022-03-01T00:00:00.000000000",
          "2022-04-01T00:00:00.000000000",
          "2022-05-01T00:00:00.000000000",
          "2022-06-01T00:00:00.000000000",
          "2022-07-01T00:00:00.000000000",
          "2022-08-01T00:00:00.000000000",
          "2022-09-01T00:00:00.000000000",
          "2022-10-01T00:00:00.000000000",
          "2022-11-01T00:00:00.000000000",
          "2022-12-01T00:00:00.000000000",
          "2023-01-01T00:00:00.000000000",
          "2023-02-01T00:00:00.000000000",
          "2023-03-01T00:00:00.000000000",
          "2023-04-01T00:00:00.000000000",
          "2023-05-01T00:00:00.000000000",
          "2023-06-01T00:00:00.000000000",
          "2023-07-01T00:00:00.000000000",
          "2023-08-01T00:00:00.000000000",
          "2023-09-01T00:00:00.000000000",
          "2023-10-01T00:00:00.000000000",
          "2023-11-01T00:00:00.000000000",
          "2023-12-01T00:00:00.000000000",
          "2024-01-01T00:00:00.000000000",
          "2024-02-01T00:00:00.000000000",
          "2024-03-01T00:00:00.000000000",
          "2024-04-01T00:00:00.000000000",
          "2024-05-01T00:00:00.000000000",
          "2024-06-01T00:00:00.000000000",
          "2024-07-01T00:00:00.000000000",
          "2024-08-01T00:00:00.000000000",
          "2024-09-01T00:00:00.000000000",
          "2024-10-01T00:00:00.000000000",
          "2024-11-01T00:00:00.000000000",
          "2024-12-01T00:00:00.000000000"
         ],
         "y": {
          "bdata": "YIyeA1BHlj8oqtrrOD6xP4BKDRVY7KQ/d7vM0475kD/+dZi61n2ZP5dD3L0SMqI/DvGtLbp3lT+ohEqGWReQP7JZp1IeJrA/rsG+Qwn1uz9/8qiNP/OiP0QqrZx/yKQ/uZo2RsbNrT+aLfwptkePPy0VGsmbj50/JqeQX8mmrj9cs2zpJdOQP3H6wCHY8YE/bGbxSa3klj9O1SRmGiKpP0SeE8R7lJg/y1YtF8omlj97t/90Cw6zP0lHjHhQqLM/SPAB1bbsvD/4dQpElIKwP0p+4d7YTbM/fRsMAFw5oD9zlJGtNGSxP6//n65aFbA/KrfwCKhooz+hklmsKGOhPwgf3TJoQZE/31srFcolkT8sN+fD5HOkPw==",
          "dtype": "f8"
         }
        },
        {
         "mode": "lines+markers",
         "name": "last_fico_range_low (Train)",
         "type": "scatter",
         "x": [
          "2022-02-01T00:00:00.000000000",
          "2022-03-01T00:00:00.000000000",
          "2022-04-01T00:00:00.000000000",
          "2022-05-01T00:00:00.000000000",
          "2022-06-01T00:00:00.000000000",
          "2022-07-01T00:00:00.000000000",
          "2022-08-01T00:00:00.000000000",
          "2022-09-01T00:00:00.000000000",
          "2022-10-01T00:00:00.000000000",
          "2022-11-01T00:00:00.000000000",
          "2022-12-01T00:00:00.000000000",
          "2023-01-01T00:00:00.000000000",
          "2023-02-01T00:00:00.000000000",
          "2023-03-01T00:00:00.000000000",
          "2023-04-01T00:00:00.000000000",
          "2023-05-01T00:00:00.000000000",
          "2023-06-01T00:00:00.000000000",
          "2023-07-01T00:00:00.000000000",
          "2023-08-01T00:00:00.000000000",
          "2023-09-01T00:00:00.000000000",
          "2023-10-01T00:00:00.000000000",
          "2023-11-01T00:00:00.000000000",
          "2023-12-01T00:00:00.000000000",
          "2024-01-01T00:00:00.000000000",
          "2024-02-01T00:00:00.000000000",
          "2024-03-01T00:00:00.000000000",
          "2024-04-01T00:00:00.000000000",
          "2024-05-01T00:00:00.000000000",
          "2024-06-01T00:00:00.000000000",
          "2024-07-01T00:00:00.000000000",
          "2024-08-01T00:00:00.000000000",
          "2024-09-01T00:00:00.000000000",
          "2024-10-01T00:00:00.000000000",
          "2024-11-01T00:00:00.000000000",
          "2024-12-01T00:00:00.000000000"
         ],
         "y": {
          "bdata": "j/ygF1Yqaz8oip5XDk+NP5oe/x96FI0/X8xdsDYsfT/Tm1gyJLKTP3wpI/xZFp8/WPGP6PEShz/ESXfoaeWHP2igcKt7R6E/MUjsaE7hoD9oxUy8BGCZPwprzmPno7o/ZDb+NERDnz/myKzdJPZ8PwZxLcETcqE/fhnMxW62mD/XR3E5AeSEP9GPcTlVP4w/ulLPQaddkD+0BI+qVHWdP+EZtRe0AZE/GIm+kSqspz99wj+4gO2kP56V7DpDHLA/D0Oci/L0mD9bTgR/G7GpPzPGwhnuh5M/+4aWJ5calD8r172Ty0eeP/X9IVRvuKE/1fN1vtLupT9qPPYSJwaVPwrjFs/RQoo/rCW7/OdGkT/H1a8UdrKTPw==",
          "dtype": "f8"
         }
        },
        {
         "mode": "lines+markers",
         "name": "last_pymnt_amnt (Test)",
         "type": "scatter",
         "x": [
          "2022-02-01T00:00:00.000000000",
          "2022-03-01T00:00:00.000000000",
          "2022-04-01T00:00:00.000000000",
          "2022-05-01T00:00:00.000000000",
          "2022-06-01T00:00:00.000000000",
          "2022-07-01T00:00:00.000000000",
          "2022-08-01T00:00:00.000000000",
          "2022-09-01T00:00:00.000000000",
          "2022-10-01T00:00:00.000000000",
          "2022-11-01T00:00:00.000000000",
          "2022-12-01T00:00:00.000000000",
          "2023-01-01T00:00:00.000000000",
          "2023-02-01T00:00:00.000000000",
          "2023-03-01T00:00:00.000000000",
          "2023-04-01T00:00:00.000000000",
          "2023-05-01T00:00:00.000000000",
          "2023-06-01T00:00:00.000000000",
          "2023-07-01T00:00:00.000000000",
          "2023-08-01T00:00:00.000000000",
          "2023-09-01T00:00:00.000000000",
          "2023-10-01T00:00:00.000000000",
          "2023-11-01T00:00:00.000000000",
          "2023-12-01T00:00:00.000000000",
          "2024-01-01T00:00:00.000000000",
          "2024-02-01T00:00:00.000000000",
          "2024-03-01T00:00:00.000000000",
          "2024-04-01T00:00:00.000000000",
          "2024-05-01T00:00:00.000000000",
          "2024-06-01T00:00:00.000000000",
          "2024-07-01T00:00:00.000000000",
          "2024-08-01T00:00:00.000000000",
          "2024-09-01T00:00:00.000000000",
          "2024-10-01T00:00:00.000000000",
          "2024-11-01T00:00:00.000000000",
          "2024-12-01T00:00:00.000000000"
         ],
         "y": {
          "bdata": "julosU8nij9YfmzwvIqXP86oycKfnpc/3DWhwl6ZhT9He3huQnuJP7G/fxHISJE/S1cjhh5EiT/hD4cSlSGhPy9qvDiA+aA/IZeCK4Z5tT+0Z0mRr/CvP6xgO8CR1LE/yTBoy8f4sT+zKvttULe2P1s/JtR4DKo/3EkPb1vfsj+f6EmpbX6ZP8BNm2g2K5Y/HumT6zJwpD/E6DEaEFapP4bKhcrEs7Y/WokCIskKpD/k2pVcJMSoP8MnmP4fSq0/V31domBOsj8NMGwEZnurPzZZdbLiJZE/pLZpRz7akT/Kf8vgSda3P5JmST2mFsE/vUlV4ByRsD8wkxR1v9iXPwtMitXIF5Q/JKkVbyWtkD9RfF9EKLqvPw==",
          "dtype": "f8"
         }
        },
        {
         "mode": "lines+markers",
         "name": "last_pymnt_amnt (Train)",
         "type": "scatter",
         "x": [
          "2022-02-01T00:00:00.000000000",
          "2022-03-01T00:00:00.000000000",
          "2022-04-01T00:00:00.000000000",
          "2022-05-01T00:00:00.000000000",
          "2022-06-01T00:00:00.000000000",
          "2022-07-01T00:00:00.000000000",
          "2022-08-01T00:00:00.000000000",
          "2022-09-01T00:00:00.000000000",
          "2022-10-01T00:00:00.000000000",
          "2022-11-01T00:00:00.000000000",
          "2022-12-01T00:00:00.000000000",
          "2023-01-01T00:00:00.000000000",
          "2023-02-01T00:00:00.000000000",
          "2023-03-01T00:00:00.000000000",
          "2023-04-01T00:00:00.000000000",
          "2023-05-01T00:00:00.000000000",
          "2023-06-01T00:00:00.000000000",
          "2023-07-01T00:00:00.000000000",
          "2023-08-01T00:00:00.000000000",
          "2023-09-01T00:00:00.000000000",
          "2023-10-01T00:00:00.000000000",
          "2023-11-01T00:00:00.000000000",
          "2023-12-01T00:00:00.000000000",
          "2024-01-01T00:00:00.000000000",
          "2024-02-01T00:00:00.000000000",
          "2024-03-01T00:00:00.000000000",
          "2024-04-01T00:00:00.000000000",
          "2024-05-01T00:00:00.000000000",
          "2024-06-01T00:00:00.000000000",
          "2024-07-01T00:00:00.000000000",
          "2024-08-01T00:00:00.000000000",
          "2024-09-01T00:00:00.000000000",
          "2024-10-01T00:00:00.000000000",
          "2024-11-01T00:00:00.000000000",
          "2024-12-01T00:00:00.000000000"
         ],
         "y": {
          "bdata": "4ouZTHACgT/jODBwCgmkP2IskSzE5Jk/P4Au2jfbhD/CHceiD1aQP/DRbgCHtZY/7tgVuHCbnD9nfRSnJIqGP1HySHhFwJA/sERNc7jUdz+/CynWe2WYP349tlQOEak/CIHS5lWYlj8IcFzd1riTP6pYsiyFj5U/gjTjMtuZoD/W7cqEeZ6HPzqK9oMTXIU/K2dZ/ISVlD85P3XI84KbPyqgqNglV4g/rtHmppn+oD/I6Iy39P2kP7EiyQCpEbY/HHYHuw/Kkz9QVdgSGgScP3NlQfJeE4g/iXTgxF11lj+1y2DV6PeVP/Myutr/NJc/f/y6w38jiT+n8mqlCGCTP6TcBHkhA4w/YRKFW2i2kz+wVEdWtOCcPw==",
          "dtype": "f8"
         }
        },
        {
         "mode": "lines+markers",
         "name": "mo_sin_old_rev_tl_op (Test)",
         "type": "scatter",
         "x": [
          "2022-02-01T00:00:00.000000000",
          "2022-03-01T00:00:00.000000000",
          "2022-04-01T00:00:00.000000000",
          "2022-05-01T00:00:00.000000000",
          "2022-06-01T00:00:00.000000000",
          "2022-07-01T00:00:00.000000000",
          "2022-08-01T00:00:00.000000000",
          "2022-09-01T00:00:00.000000000",
          "2022-10-01T00:00:00.000000000",
          "2022-11-01T00:00:00.000000000",
          "2022-12-01T00:00:00.000000000",
          "2023-01-01T00:00:00.000000000",
          "2023-02-01T00:00:00.000000000",
          "2023-03-01T00:00:00.000000000",
          "2023-04-01T00:00:00.000000000",
          "2023-05-01T00:00:00.000000000",
          "2023-06-01T00:00:00.000000000",
          "2023-07-01T00:00:00.000000000",
          "2023-08-01T00:00:00.000000000",
          "2023-09-01T00:00:00.000000000",
          "2023-10-01T00:00:00.000000000",
          "2023-11-01T00:00:00.000000000",
          "2023-12-01T00:00:00.000000000",
          "2024-01-01T00:00:00.000000000",
          "2024-02-01T00:00:00.000000000",
          "2024-03-01T00:00:00.000000000",
          "2024-04-01T00:00:00.000000000",
          "2024-05-01T00:00:00.000000000",
          "2024-06-01T00:00:00.000000000",
          "2024-07-01T00:00:00.000000000",
          "2024-08-01T00:00:00.000000000",
          "2024-09-01T00:00:00.000000000",
          "2024-10-01T00:00:00.000000000",
          "2024-11-01T00:00:00.000000000",
          "2024-12-01T00:00:00.000000000"
         ],
         "y": {
          "bdata": "WOZokSxejD907CjSaH2tPyJ4Ddzy7qs/phOIcbmrfz+1svLJDR+jP6jTFd5ibJo/H2jDW8x/kT9PZvAyO+2oP7abP1Lsb7w/1Iw1iA7asD+U6Mq6jG6mP+4rS/jjNqs/iO/m+5Y+nT8IZNRWhJypP54C5RK7Hp8/nrkoowsutD+Jf3NOJQCSP/tW5eb3HpE/khadLXFkpj8GayARldytP9yC4aC57ZY/6rtaDShGpj+dHe0zSbmnP7y+vIUQ8pQ/IB2hCJg/rz/kbp9RFqa6P85Na+KMXpE/fWfNz95yqT+Ez4Y0PGC6P6EgAs/k/aE/bdlMd2kxlD/egG3lmtSUPzXYtKiKV5M/fLwpIbZ3kT8g/MNZOOWYPw==",
          "dtype": "f8"
         }
        },
        {
         "mode": "lines+markers",
         "name": "mo_sin_old_rev_tl_op (Train)",
         "type": "scatter",
         "x": [
          "2022-02-01T00:00:00.000000000",
          "2022-03-01T00:00:00.000000000",
          "2022-04-01T00:00:00.000000000",
          "2022-05-01T00:00:00.000000000",
          "2022-06-01T00:00:00.000000000",
          "2022-07-01T00:00:00.000000000",
          "2022-08-01T00:00:00.000000000",
          "2022-09-01T00:00:00.000000000",
          "2022-10-01T00:00:00.000000000",
          "2022-11-01T00:00:00.000000000",
          "2022-12-01T00:00:00.000000000",
          "2023-01-01T00:00:00.000000000",
          "2023-02-01T00:00:00.000000000",
          "2023-03-01T00:00:00.000000000",
          "2023-04-01T00:00:00.000000000",
          "2023-05-01T00:00:00.000000000",
          "2023-06-01T00:00:00.000000000",
          "2023-07-01T00:00:00.000000000",
          "2023-08-01T00:00:00.000000000",
          "2023-09-01T00:00:00.000000000",
          "2023-10-01T00:00:00.000000000",
          "2023-11-01T00:00:00.000000000",
          "2023-12-01T00:00:00.000000000",
          "2024-01-01T00:00:00.000000000",
          "2024-02-01T00:00:00.000000000",
          "2024-03-01T00:00:00.000000000",
          "2024-04-01T00:00:00.000000000",
          "2024-05-01T00:00:00.000000000",
          "2024-06-01T00:00:00.000000000",
          "2024-07-01T00:00:00.000000000",
          "2024-08-01T00:00:00.000000000",
          "2024-09-01T00:00:00.000000000",
          "2024-10-01T00:00:00.000000000",
          "2024-11-01T00:00:00.000000000",
          "2024-12-01T00:00:00.000000000"
         ],
         "y": {
          "bdata": "qqDPzacJiz9fVzCgsqR/P6uQf2pCwpg/l265ZPUZkT8au76AdcZ5PyIFcUQewnw/V/msV5b8iD+1NWmveLSkP09qpwh/sJI/JZxc72E3pz8jLUZNwaGnP03qeLqHyrU/BA9Xg+Bnmz+5GT4UjR2aP38NkzwB36A/g8zp5bqUqD9C51CCaOB+P59sB5kBr3U/SRmrJEdRgz8s2SMESNFkP9GlRqEeIo8/9x/4XGZ8pT85M+A3nROTP0ImsbDqX7M/KUqLInJqsD/13YNrHU2fP+eN4yfdfZw/JCytvzPpjD9itFz1uQSpP+i+IZbX8JY/Q+XvASz6lD9yEZdj8xSLP5Q9MOclh5g/FzsMS09UmD+5rYhol3+lPw==",
          "dtype": "f8"
         }
        },
        {
         "mode": "lines+markers",
         "name": "mo_sin_rcnt_rev_tl_op (Test)",
         "type": "scatter",
         "x": [
          "2022-02-01T00:00:00.000000000",
          "2022-03-01T00:00:00.000000000",
          "2022-04-01T00:00:00.000000000",
          "2022-05-01T00:00:00.000000000",
          "2022-06-01T00:00:00.000000000",
          "2022-07-01T00:00:00.000000000",
          "2022-08-01T00:00:00.000000000",
          "2022-09-01T00:00:00.000000000",
          "2022-10-01T00:00:00.000000000",
          "2022-11-01T00:00:00.000000000",
          "2022-12-01T00:00:00.000000000",
          "2023-01-01T00:00:00.000000000",
          "2023-02-01T00:00:00.000000000",
          "2023-03-01T00:00:00.000000000",
          "2023-04-01T00:00:00.000000000",
          "2023-05-01T00:00:00.000000000",
          "2023-06-01T00:00:00.000000000",
          "2023-07-01T00:00:00.000000000",
          "2023-08-01T00:00:00.000000000",
          "2023-09-01T00:00:00.000000000",
          "2023-10-01T00:00:00.000000000",
          "2023-11-01T00:00:00.000000000",
          "2023-12-01T00:00:00.000000000",
          "2024-01-01T00:00:00.000000000",
          "2024-02-01T00:00:00.000000000",
          "2024-03-01T00:00:00.000000000",
          "2024-04-01T00:00:00.000000000",
          "2024-05-01T00:00:00.000000000",
          "2024-06-01T00:00:00.000000000",
          "2024-07-01T00:00:00.000000000",
          "2024-08-01T00:00:00.000000000",
          "2024-09-01T00:00:00.000000000",
          "2024-10-01T00:00:00.000000000",
          "2024-11-01T00:00:00.000000000",
          "2024-12-01T00:00:00.000000000"
         ],
         "y": {
          "bdata": "K7hi8x0kiD+3LeVtyHikP0Q8ATvGdq8/qqa6kAIppj9W1HQKqjWXP3F1B1Zyt6g/sTBFHutnpT+mOOFM1uqtP1uSdxHF0LA/fRr75h1/pT/V/JpubBKtP1Ff7dlEeoM/qFNPcPARoj953DRRvx+UP4TJFRurtJs/X9PLa6wRoT8Cp97rBmehP3WjLrsNfoY/zBstJR5EfT9SWns1hTevP2FckPa3v6o/hyt/Fcayqj8y83d2JOumP1IfllaVjKM/OAel9mBdoj9wZMWqr2mWP+SKZ51geaM/zA4Jt47Gkj9gX9RjOw61P0RY50amSa4/cL0x2ochmT/lsHOqFtuGP5bTlFdOwKI/Qpky4AkEoT+wk+z6DsWnPw==",
          "dtype": "f8"
         }
        },
        {
         "mode": "lines+markers",
         "name": "mo_sin_rcnt_rev_tl_op (Train)",
         "type": "scatter",
         "x": [
          "2022-02-01T00:00:00.000000000",
          "2022-03-01T00:00:00.000000000",
          "2022-04-01T00:00:00.000000000",
          "2022-05-01T00:00:00.000000000",
          "2022-06-01T00:00:00.000000000",
          "2022-07-01T00:00:00.000000000",
          "2022-08-01T00:00:00.000000000",
          "2022-09-01T00:00:00.000000000",
          "2022-10-01T00:00:00.000000000",
          "2022-11-01T00:00:00.000000000",
          "2022-12-01T00:00:00.000000000",
          "2023-01-01T00:00:00.000000000",
          "2023-02-01T00:00:00.000000000",
          "2023-03-01T00:00:00.000000000",
          "2023-04-01T00:00:00.000000000",
          "2023-05-01T00:00:00.000000000",
          "2023-06-01T00:00:00.000000000",
          "2023-07-01T00:00:00.000000000",
          "2023-08-01T00:00:00.000000000",
          "2023-09-01T00:00:00.000000000",
          "2023-10-01T00:00:00.000000000",
          "2023-11-01T00:00:00.000000000",
          "2023-12-01T00:00:00.000000000",
          "2024-01-01T00:00:00.000000000",
          "2024-02-01T00:00:00.000000000",
          "2024-03-01T00:00:00.000000000",
          "2024-04-01T00:00:00.000000000",
          "2024-05-01T00:00:00.000000000",
          "2024-06-01T00:00:00.000000000",
          "2024-07-01T00:00:00.000000000",
          "2024-08-01T00:00:00.000000000",
          "2024-09-01T00:00:00.000000000",
          "2024-10-01T00:00:00.000000000",
          "2024-11-01T00:00:00.000000000",
          "2024-12-01T00:00:00.000000000"
         ],
         "y": {
          "bdata": "frHzNpvzhT92NTQZ98+bP8ICh8/7ZJE/dzoFGb/hhD+1p9aMzpaGP1B6iJqc65M/KpS8XmkLhz9eTECtSWqLP0rMWnt8mq0/4gRrsL12oj8CX28yvDGTP46FX/2YBKQ/Sby2d8DKpT/AxaG30CV8P3VH0XRG55I/FOs0HUGFlD/rjrzhAjKbP6R0zd3DH4E/H4iP3BHjgj9yDOPleP2APx5NJX2Qq5A/edwE6mt1fT/pk1/dUhefP9NFcutMQ5o/2/R73zVTsz+PI+7xtJ+QP+vgQgBg1KE/CkJfUn3fmT+MrA2FwOuQP95eiONdKKM/rlXRRRxYkj8sislMMk2YPzQ0NtKN0Ys/wCN/HNDSkj/T3580O8ekPw==",
          "dtype": "f8"
         }
        },
        {
         "mode": "lines+markers",
         "name": "mo_sin_rcnt_tl (Test)",
         "type": "scatter",
         "x": [
          "2022-02-01T00:00:00.000000000",
          "2022-03-01T00:00:00.000000000",
          "2022-04-01T00:00:00.000000000",
          "2022-05-01T00:00:00.000000000",
          "2022-06-01T00:00:00.000000000",
          "2022-07-01T00:00:00.000000000",
          "2022-08-01T00:00:00.000000000",
          "2022-09-01T00:00:00.000000000",
          "2022-10-01T00:00:00.000000000",
          "2022-11-01T00:00:00.000000000",
          "2022-12-01T00:00:00.000000000",
          "2023-01-01T00:00:00.000000000",
          "2023-02-01T00:00:00.000000000",
          "2023-03-01T00:00:00.000000000",
          "2023-04-01T00:00:00.000000000",
          "2023-05-01T00:00:00.000000000",
          "2023-06-01T00:00:00.000000000",
          "2023-07-01T00:00:00.000000000",
          "2023-08-01T00:00:00.000000000",
          "2023-09-01T00:00:00.000000000",
          "2023-10-01T00:00:00.000000000",
          "2023-11-01T00:00:00.000000000",
          "2023-12-01T00:00:00.000000000",
          "2024-01-01T00:00:00.000000000",
          "2024-02-01T00:00:00.000000000",
          "2024-03-01T00:00:00.000000000",
          "2024-04-01T00:00:00.000000000",
          "2024-05-01T00:00:00.000000000",
          "2024-06-01T00:00:00.000000000",
          "2024-07-01T00:00:00.000000000",
          "2024-08-01T00:00:00.000000000",
          "2024-09-01T00:00:00.000000000",
          "2024-10-01T00:00:00.000000000",
          "2024-11-01T00:00:00.000000000",
          "2024-12-01T00:00:00.000000000"
         ],
         "y": {
          "bdata": "UZF9M31goT9/p0nD/sW5P8Z3W8RPy6g/YJyd3CL8jT8+W2Q/IdehP/ju1XGsEYk/4/TKaa4Fgj9ywnRJPlepPwXrgSrXP6E/sn2hgC1Lpj+osXpmPQW0P1WDbjAZw60/Pd6KvLCIxj8PcEmcVFiyP0MCzXAC7J4/NZ3HpAqSoD/cjfKt7sWBPzOsvlmyb5U/62IO7ThJpD+hkqQObxGTP15mfmDSFKs/codsYeJwkD8uJyY7y1GiP1p0jDty46I/+blFaNvzsz85540BfGWqP7JTR/QbupY/rDlIode5nz+vB8nKXK2qP/5si8iTP6c/2ovMeQqyrD9Hs8gOfjevP2COmK+TKKs/FzrrRLKaoz/jZbvDX1yfPw==",
          "dtype": "f8"
         }
        },
        {
         "mode": "lines+markers",
         "name": "mo_sin_rcnt_tl (Train)",
         "type": "scatter",
         "x": [
          "2022-02-01T00:00:00.000000000",
          "2022-03-01T00:00:00.000000000",
          "2022-04-01T00:00:00.000000000",
          "2022-05-01T00:00:00.000000000",
          "2022-06-01T00:00:00.000000000",
          "2022-07-01T00:00:00.000000000",
          "2022-08-01T00:00:00.000000000",
          "2022-09-01T00:00:00.000000000",
          "2022-10-01T00:00:00.000000000",
          "2022-11-01T00:00:00.000000000",
          "2022-12-01T00:00:00.000000000",
          "2023-01-01T00:00:00.000000000",
          "2023-02-01T00:00:00.000000000",
          "2023-03-01T00:00:00.000000000",
          "2023-04-01T00:00:00.000000000",
          "2023-05-01T00:00:00.000000000",
          "2023-06-01T00:00:00.000000000",
          "2023-07-01T00:00:00.000000000",
          "2023-08-01T00:00:00.000000000",
          "2023-09-01T00:00:00.000000000",
          "2023-10-01T00:00:00.000000000",
          "2023-11-01T00:00:00.000000000",
          "2023-12-01T00:00:00.000000000",
          "2024-01-01T00:00:00.000000000",
          "2024-02-01T00:00:00.000000000",
          "2024-03-01T00:00:00.000000000",
          "2024-04-01T00:00:00.000000000",
          "2024-05-01T00:00:00.000000000",
          "2024-06-01T00:00:00.000000000",
          "2024-07-01T00:00:00.000000000",
          "2024-08-01T00:00:00.000000000",
          "2024-09-01T00:00:00.000000000",
          "2024-10-01T00:00:00.000000000",
          "2024-11-01T00:00:00.000000000",
          "2024-12-01T00:00:00.000000000"
         ],
         "y": {
          "bdata": "0tINKqnZij8W7nIMcJSGPy4NvNk5tJQ/ZmwEcIeqcD9wtSX72qCXP7vtoYHT35Q/SS5ufHskfj8fSSbpaUx7P+uGRLkuCI4/0EY/4Q+AlT9YzNUKB6ujP5N2fxuzk6M/AezkLDBMnj+QZczEl4OGP+Bv6hyFmJQ/qqvT1JcClT+o/fh+TCuNP0NKXH56VIE/dGV7roA8hT+Mq7OLICCFP/ps37Y4ToQ/bxrq5BP4kD8EpA8RBa+kPyZsB2hcMbI//qtFPi8rtT+41CAIPGCoP+mTeO4d644/KFz2DGizkj/bCnHZtqKsP7INr+EydqY/ObOqynlGlT9Ap0Vin3J9P5Am66FkRpE/2PhW4op4iz/mDAY4wC9/Pw==",
          "dtype": "f8"
         }
        },
        {
         "mode": "lines+markers",
         "name": "mort_acc (Test)",
         "type": "scatter",
         "x": [
          "2022-02-01T00:00:00.000000000",
          "2022-03-01T00:00:00.000000000",
          "2022-04-01T00:00:00.000000000",
          "2022-05-01T00:00:00.000000000",
          "2022-06-01T00:00:00.000000000",
          "2022-07-01T00:00:00.000000000",
          "2022-08-01T00:00:00.000000000",
          "2022-09-01T00:00:00.000000000",
          "2022-10-01T00:00:00.000000000",
          "2022-11-01T00:00:00.000000000",
          "2022-12-01T00:00:00.000000000",
          "2023-01-01T00:00:00.000000000",
          "2023-02-01T00:00:00.000000000",
          "2023-03-01T00:00:00.000000000",
          "2023-04-01T00:00:00.000000000",
          "2023-05-01T00:00:00.000000000",
          "2023-06-01T00:00:00.000000000",
          "2023-07-01T00:00:00.000000000",
          "2023-08-01T00:00:00.000000000",
          "2023-09-01T00:00:00.000000000",
          "2023-10-01T00:00:00.000000000",
          "2023-11-01T00:00:00.000000000",
          "2023-12-01T00:00:00.000000000",
          "2024-01-01T00:00:00.000000000",
          "2024-02-01T00:00:00.000000000",
          "2024-03-01T00:00:00.000000000",
          "2024-04-01T00:00:00.000000000",
          "2024-05-01T00:00:00.000000000",
          "2024-06-01T00:00:00.000000000",
          "2024-07-01T00:00:00.000000000",
          "2024-08-01T00:00:00.000000000",
          "2024-09-01T00:00:00.000000000",
          "2024-10-01T00:00:00.000000000",
          "2024-11-01T00:00:00.000000000",
          "2024-12-01T00:00:00.000000000"
         ],
         "y": {
          "bdata": "br27X9LHhj/dUTZWM3+bP0ASPtHP5oA/R24a7FPkdT9qDchKLWGSP1+8d22ZhKI/1wBfcduwgT83O9y6meyMP18ZjAEVbp8/piCm5Bbnpj+4gZvZG8i1PxQ1nYYL+J0/BlojtK3eqj/z1QzTAZ2UP0UEVcrF060/3x9e1kRKsD9+12zdMhuMP1NUbxOmuYk/EFTG5urUmT9SwPe8QHeeP7KtCO/prJc/PXanoRM2oT+RZDIjauuXP8nspPj5y60/wKoOB4DLqz9e3LHSDIKGPy/UEcuIfYw/uSlkFC3djj+U1/z7k+2aPzbDczeIuqw/oom6LEE0iD9HXhXrqnCeP9xMuZUvtZA/hypkd3MDdD/jtMt2ITaiPw==",
          "dtype": "f8"
         }
        },
        {
         "mode": "lines+markers",
         "name": "mort_acc (Train)",
         "type": "scatter",
         "x": [
          "2022-02-01T00:00:00.000000000",
          "2022-03-01T00:00:00.000000000",
          "2022-04-01T00:00:00.000000000",
          "2022-05-01T00:00:00.000000000",
          "2022-06-01T00:00:00.000000000",
          "2022-07-01T00:00:00.000000000",
          "2022-08-01T00:00:00.000000000",
          "2022-09-01T00:00:00.000000000",
          "2022-10-01T00:00:00.000000000",
          "2022-11-01T00:00:00.000000000",
          "2022-12-01T00:00:00.000000000",
          "2023-01-01T00:00:00.000000000",
          "2023-02-01T00:00:00.000000000",
          "2023-03-01T00:00:00.000000000",
          "2023-04-01T00:00:00.000000000",
          "2023-05-01T00:00:00.000000000",
          "2023-06-01T00:00:00.000000000",
          "2023-07-01T00:00:00.000000000",
          "2023-08-01T00:00:00.000000000",
          "2023-09-01T00:00:00.000000000",
          "2023-10-01T00:00:00.000000000",
          "2023-11-01T00:00:00.000000000",
          "2023-12-01T00:00:00.000000000",
          "2024-01-01T00:00:00.000000000",
          "2024-02-01T00:00:00.000000000",
          "2024-03-01T00:00:00.000000000",
          "2024-04-01T00:00:00.000000000",
          "2024-05-01T00:00:00.000000000",
          "2024-06-01T00:00:00.000000000",
          "2024-07-01T00:00:00.000000000",
          "2024-08-01T00:00:00.000000000",
          "2024-09-01T00:00:00.000000000",
          "2024-10-01T00:00:00.000000000",
          "2024-11-01T00:00:00.000000000",
          "2024-12-01T00:00:00.000000000"
         ],
         "y": {
          "bdata": "ebB89pPReD+wPO/oBfuSP0aPbNW1BIo/5r0Qm8C9ZD9rQtkkyi9sP44IeM3neHc/VrEFzEpocD8ZT2li4C9cPyWUDW7oJZE/3Fhj9NT5kD9qIH5rMEqgP8JxmEzGb5o/0hlTGd6Bnz/TQSMM4g1/P47ruzXd1IY/LFo8J/UFgT9k6yTVJOd4P/X8dYphgYg/BiiGOkqmfz9M1295sT1xPxVh5VEB0IE/evmzg8dMkT+ZOdyjVAubP0SvpLfpCJw/KpJ5/OthfT+eCdQewy6HP9HIEHpjcXc/uS6bT0Xvmj/yX2PubA+jP7FthX9qEp8/44pTMyYaZT/sZCLan8FNPw6+HZM+7o4/gVmDxyN6iT9Gq7mxBhyOPw==",
          "dtype": "f8"
         }
        },
        {
         "mode": "lines+markers",
         "name": "mths_since_recent_bc (Test)",
         "type": "scatter",
         "x": [
          "2022-02-01T00:00:00.000000000",
          "2022-03-01T00:00:00.000000000",
          "2022-04-01T00:00:00.000000000",
          "2022-05-01T00:00:00.000000000",
          "2022-06-01T00:00:00.000000000",
          "2022-07-01T00:00:00.000000000",
          "2022-08-01T00:00:00.000000000",
          "2022-09-01T00:00:00.000000000",
          "2022-10-01T00:00:00.000000000",
          "2022-11-01T00:00:00.000000000",
          "2022-12-01T00:00:00.000000000",
          "2023-01-01T00:00:00.000000000",
          "2023-02-01T00:00:00.000000000",
          "2023-03-01T00:00:00.000000000",
          "2023-04-01T00:00:00.000000000",
          "2023-05-01T00:00:00.000000000",
          "2023-06-01T00:00:00.000000000",
          "2023-07-01T00:00:00.000000000",
          "2023-08-01T00:00:00.000000000",
          "2023-09-01T00:00:00.000000000",
          "2023-10-01T00:00:00.000000000",
          "2023-11-01T00:00:00.000000000",
          "2023-12-01T00:00:00.000000000",
          "2024-01-01T00:00:00.000000000",
          "2024-02-01T00:00:00.000000000",
          "2024-03-01T00:00:00.000000000",
          "2024-04-01T00:00:00.000000000",
          "2024-05-01T00:00:00.000000000",
          "2024-06-01T00:00:00.000000000",
          "2024-07-01T00:00:00.000000000",
          "2024-08-01T00:00:00.000000000",
          "2024-09-01T00:00:00.000000000",
          "2024-10-01T00:00:00.000000000",
          "2024-11-01T00:00:00.000000000",
          "2024-12-01T00:00:00.000000000"
         ],
         "y": {
          "bdata": "mzJEWYNjmT/GQtHJ1xWsP6bwFAthqqg/4MAQzy/anj8wv7slA/N/P2E13iCLapM/SylRR4bugT9KsbF38aGZP0gv3ecESJY/4yD3yEhLmT+NXhtB6g+kP6Olg6i7/as/N6465Mh0tj+oEOhZxDKTPwcNllKBTp4/zY8a2ZOfrj85leH8M52iP98hAhOutZE/WUrJO+d/kj8xJc7tIUKqP94PLB0uh6c/HREG7KO9mD9ugOH3D0qdPzEeAlYkBqE/TZwueYigsD91oZD9F6GOP0Bk2BOgaaQ/UYT12JvNoT9kL0dfhy63PyUyRP1vkK8/O6qGwpKRoz/HwoU3ouekP+Jms7eICpg/zIY3uvmdmz/E9HW6LEi0Pw==",
          "dtype": "f8"
         }
        },
        {
         "mode": "lines+markers",
         "name": "mths_since_recent_bc (Train)",
         "type": "scatter",
         "x": [
          "2022-02-01T00:00:00.000000000",
          "2022-03-01T00:00:00.000000000",
          "2022-04-01T00:00:00.000000000",
          "2022-05-01T00:00:00.000000000",
          "2022-06-01T00:00:00.000000000",
          "2022-07-01T00:00:00.000000000",
          "2022-08-01T00:00:00.000000000",
          "2022-09-01T00:00:00.000000000",
          "2022-10-01T00:00:00.000000000",
          "2022-11-01T00:00:00.000000000",
          "2022-12-01T00:00:00.000000000",
          "2023-01-01T00:00:00.000000000",
          "2023-02-01T00:00:00.000000000",
          "2023-03-01T00:00:00.000000000",
          "2023-04-01T00:00:00.000000000",
          "2023-05-01T00:00:00.000000000",
          "2023-06-01T00:00:00.000000000",
          "2023-07-01T00:00:00.000000000",
          "2023-08-01T00:00:00.000000000",
          "2023-09-01T00:00:00.000000000",
          "2023-10-01T00:00:00.000000000",
          "2023-11-01T00:00:00.000000000",
          "2023-12-01T00:00:00.000000000",
          "2024-01-01T00:00:00.000000000",
          "2024-02-01T00:00:00.000000000",
          "2024-03-01T00:00:00.000000000",
          "2024-04-01T00:00:00.000000000",
          "2024-05-01T00:00:00.000000000",
          "2024-06-01T00:00:00.000000000",
          "2024-07-01T00:00:00.000000000",
          "2024-08-01T00:00:00.000000000",
          "2024-09-01T00:00:00.000000000",
          "2024-10-01T00:00:00.000000000",
          "2024-11-01T00:00:00.000000000",
          "2024-12-01T00:00:00.000000000"
         ],
         "y": {
          "bdata": "LTf19V4vhz90luJcbqOTP35HVgjIxY0/S/pRNPZWfD+UhsuSyKCLPxzfleElboU/iqqlbz46kT9ZsQ6e7T2HP2kdbl0yo6E/kJY+NoBhoz//q5UQFX6LP7K7G16FN6s/Vjvf3XiupT9xKL02dEKRPxLcCXuYZ54/07NUBgfekD88Um9OGeaVP6YupYaOBYk/weyjXPdDhT9zG6cAJu2bPzaoiO/k65c/rPm8KI5Biz+mBMv9/LaXPyhlcCgqJaI/PJSa9ApPnj+GD9paQqmdP4ztcJGk8Jw/W3v8ADlwmT/npKL5rvecP1T700xcqpA/h3Ap1ruUjD+YcYfxndKJP/yyZ0UMr50/Qyj56jE0mD/qy1gNEM+wPw==",
          "dtype": "f8"
         }
        },
        {
         "mode": "lines+markers",
         "name": "mths_since_recent_inq (Test)",
         "type": "scatter",
         "x": [
          "2022-02-01T00:00:00.000000000",
          "2022-03-01T00:00:00.000000000",
          "2022-04-01T00:00:00.000000000",
          "2022-05-01T00:00:00.000000000",
          "2022-06-01T00:00:00.000000000",
          "2022-07-01T00:00:00.000000000",
          "2022-08-01T00:00:00.000000000",
          "2022-09-01T00:00:00.000000000",
          "2022-10-01T00:00:00.000000000",
          "2022-11-01T00:00:00.000000000",
          "2022-12-01T00:00:00.000000000",
          "2023-01-01T00:00:00.000000000",
          "2023-02-01T00:00:00.000000000",
          "2023-03-01T00:00:00.000000000",
          "2023-04-01T00:00:00.000000000",
          "2023-05-01T00:00:00.000000000",
          "2023-06-01T00:00:00.000000000",
          "2023-07-01T00:00:00.000000000",
          "2023-08-01T00:00:00.000000000",
          "2023-09-01T00:00:00.000000000",
          "2023-10-01T00:00:00.000000000",
          "2023-11-01T00:00:00.000000000",
          "2023-12-01T00:00:00.000000000",
          "2024-01-01T00:00:00.000000000",
          "2024-02-01T00:00:00.000000000",
          "2024-03-01T00:00:00.000000000",
          "2024-04-01T00:00:00.000000000",
          "2024-05-01T00:00:00.000000000",
          "2024-06-01T00:00:00.000000000",
          "2024-07-01T00:00:00.000000000",
          "2024-08-01T00:00:00.000000000",
          "2024-09-01T00:00:00.000000000",
          "2024-10-01T00:00:00.000000000",
          "2024-11-01T00:00:00.000000000",
          "2024-12-01T00:00:00.000000000"
         ],
         "y": {
          "bdata": "IvVFKwZmfT8qPkMhJfKaPxb5LJ7rcIs/CL9eNVBfgj/ebi1Oc4x0P1zIwp2Q8ZA/RLiCiIxMoz8wtp0ogpCEP0LTzMZuPoQ/qsVhhjw/nT/SJuSATYJ8P1KDo5kyvpY/m15U1Eokmz+ckqrYi5CgP2ppL0O7Z6o/IarSEl9YlD9k5vIvuyebPwt37By6lJY/KCK3w6/4oj+U4r7xk1KfP0UN+bFJrpA/4tC7eDdVoT++gKZAt6yEP46pYH+oeLs/Tp7QQ2LKrD855B42lKORP259dlo75p4/+2IFqjqrhz+C1y4zaAGsP0hUuDsqiq8/6ve2rHlkoD8THjVLiPeOP9DAfJck+J4/cmOa8+lTsD9FskjZpVGrPw==",
          "dtype": "f8"
         }
        },
        {
         "mode": "lines+markers",
         "name": "mths_since_recent_inq (Train)",
         "type": "scatter",
         "x": [
          "2022-02-01T00:00:00.000000000",
          "2022-03-01T00:00:00.000000000",
          "2022-04-01T00:00:00.000000000",
          "2022-05-01T00:00:00.000000000",
          "2022-06-01T00:00:00.000000000",
          "2022-07-01T00:00:00.000000000",
          "2022-08-01T00:00:00.000000000",
          "2022-09-01T00:00:00.000000000",
          "2022-10-01T00:00:00.000000000",
          "2022-11-01T00:00:00.000000000",
          "2022-12-01T00:00:00.000000000",
          "2023-01-01T00:00:00.000000000",
          "2023-02-01T00:00:00.000000000",
          "2023-03-01T00:00:00.000000000",
          "2023-04-01T00:00:00.000000000",
          "2023-05-01T00:00:00.000000000",
          "2023-06-01T00:00:00.000000000",
          "2023-07-01T00:00:00.000000000",
          "2023-08-01T00:00:00.000000000",
          "2023-09-01T00:00:00.000000000",
          "2023-10-01T00:00:00.000000000",
          "2023-11-01T00:00:00.000000000",
          "2023-12-01T00:00:00.000000000",
          "2024-01-01T00:00:00.000000000",
          "2024-02-01T00:00:00.000000000",
          "2024-03-01T00:00:00.000000000",
          "2024-04-01T00:00:00.000000000",
          "2024-05-01T00:00:00.000000000",
          "2024-06-01T00:00:00.000000000",
          "2024-07-01T00:00:00.000000000",
          "2024-08-01T00:00:00.000000000",
          "2024-09-01T00:00:00.000000000",
          "2024-10-01T00:00:00.000000000",
          "2024-11-01T00:00:00.000000000",
          "2024-12-01T00:00:00.000000000"
         ],
         "y": {
          "bdata": "jkPrWDuEaD+003UbcSKVP0Ii03L4/pM/QNI07KHZcT/GkRyx8zJ8PytcDRnvGZE/8jbNY782nz8WrlinM4CCP/ikNXLdIJc/O0S7jg4Gdj+7ThIZfZeIPyQeWFuFF7I/qIjD0ei0kD+VGa+hULiQPzmeJVpNnXg/XGq7OXXCmT85s9ZxKXeKP1RrhJYqxXI/Yy4AkExphT/f92doHvx1P2QKCUjwPZw//swpJTG9kz8b4UJtlv98PyYI+Nu2Cqs/bkksP+5YnT9KvV8n5iCZP/fU+quzM5s/ZCJl8xvahz/hXpzezbWhP4DH6iWAsKc/4amaMqepgD/0wfnrD7F0P+OelDfYU48/iz5KKB/hij/r4FBXoziePw==",
          "dtype": "f8"
         }
        },
        {
         "mode": "lines+markers",
         "name": "num_tl_op_past_12m (Test)",
         "type": "scatter",
         "x": [
          "2022-02-01T00:00:00.000000000",
          "2022-03-01T00:00:00.000000000",
          "2022-04-01T00:00:00.000000000",
          "2022-05-01T00:00:00.000000000",
          "2022-06-01T00:00:00.000000000",
          "2022-07-01T00:00:00.000000000",
          "2022-08-01T00:00:00.000000000",
          "2022-09-01T00:00:00.000000000",
          "2022-10-01T00:00:00.000000000",
          "2022-11-01T00:00:00.000000000",
          "2022-12-01T00:00:00.000000000",
          "2023-01-01T00:00:00.000000000",
          "2023-02-01T00:00:00.000000000",
          "2023-03-01T00:00:00.000000000",
          "2023-04-01T00:00:00.000000000",
          "2023-05-01T00:00:00.000000000",
          "2023-06-01T00:00:00.000000000",
          "2023-07-01T00:00:00.000000000",
          "2023-08-01T00:00:00.000000000",
          "2023-09-01T00:00:00.000000000",
          "2023-10-01T00:00:00.000000000",
          "2023-11-01T00:00:00.000000000",
          "2023-12-01T00:00:00.000000000",
          "2024-01-01T00:00:00.000000000",
          "2024-02-01T00:00:00.000000000",
          "2024-03-01T00:00:00.000000000",
          "2024-04-01T00:00:00.000000000",
          "2024-05-01T00:00:00.000000000",
          "2024-06-01T00:00:00.000000000",
          "2024-07-01T00:00:00.000000000",
          "2024-08-01T00:00:00.000000000",
          "2024-09-01T00:00:00.000000000",
          "2024-10-01T00:00:00.000000000",
          "2024-11-01T00:00:00.000000000",
          "2024-12-01T00:00:00.000000000"
         ],
         "y": {
          "bdata": "c6+sNIIKaz+zq5vzVgy/P6i2VmP6RaA/rOY/jWq7mj9xGJt/KemIP+Rjou+fjJE/Jkvq0qfIeD96mKTuoleLPz3vFFWFFqY/bcVDnunviT+goH8G9QKeP0yaSnix6Jg/YrCeC5t2fT/Z4U8RVjqLPyB77zx5dYE/29y1HG4bmz8A0y5lNkOWP62DVJnGmoU/r1gmjswHoD9BBUK1rv/APyyH4E3aNZk/h9h7R9rvoj/U2LxVUoWXP6+BJO0P7aE/iOSaernOvz8ZNlDhwwKVP1s+mHIPLZk/isRZRg8foT9oqY4gNdGUP4wy5eduI6k/mSzgWtqjjT9OmmU/EpeFPycqMKHfcYQ/XnLRxbaRgD9Ue6Z1DApnPw==",
          "dtype": "f8"
         }
        },
        {
         "mode": "lines+markers",
         "name": "num_tl_op_past_12m (Train)",
         "type": "scatter",
         "x": [
          "2022-02-01T00:00:00.000000000",
          "2022-03-01T00:00:00.000000000",
          "2022-04-01T00:00:00.000000000",
          "2022-05-01T00:00:00.000000000",
          "2022-06-01T00:00:00.000000000",
          "2022-07-01T00:00:00.000000000",
          "2022-08-01T00:00:00.000000000",
          "2022-09-01T00:00:00.000000000",
          "2022-10-01T00:00:00.000000000",
          "2022-11-01T00:00:00.000000000",
          "2022-12-01T00:00:00.000000000",
          "2023-01-01T00:00:00.000000000",
          "2023-02-01T00:00:00.000000000",
          "2023-03-01T00:00:00.000000000",
          "2023-04-01T00:00:00.000000000",
          "2023-05-01T00:00:00.000000000",
          "2023-06-01T00:00:00.000000000",
          "2023-07-01T00:00:00.000000000",
          "2023-08-01T00:00:00.000000000",
          "2023-09-01T00:00:00.000000000",
          "2023-10-01T00:00:00.000000000",
          "2023-11-01T00:00:00.000000000",
          "2023-12-01T00:00:00.000000000",
          "2024-01-01T00:00:00.000000000",
          "2024-02-01T00:00:00.000000000",
          "2024-03-01T00:00:00.000000000",
          "2024-04-01T00:00:00.000000000",
          "2024-05-01T00:00:00.000000000",
          "2024-06-01T00:00:00.000000000",
          "2024-07-01T00:00:00.000000000",
          "2024-08-01T00:00:00.000000000",
          "2024-09-01T00:00:00.000000000",
          "2024-10-01T00:00:00.000000000",
          "2024-11-01T00:00:00.000000000",
          "2024-12-01T00:00:00.000000000"
         ],
         "y": {
          "bdata": "hwepd4gpZT/zOdaTe6yJP/axGbaXUGM/HWOILeAMgz9277g85BOHPzTl9rBEgH0/NJEtM7E7gD/owen+pyN3PxAh3UQ+YJY/vKl7QrCtiD8aE3KLT4OQPyFFeKEpTmE/3CwIIJrIgD8uBC6VtPqEPwUYAJ+mOIM/CqUPVHPDlD+NBn5/nz+AP6T9NM3BuII/xLv3O3tGcj91DB+ekwBfP9MhUhSDqWA/B4v896m/aT+YbPaB7gKWP+jT4zfUGKY/oCL5jtEKoD97/2oVK3WXPwE0HMZFfpQ/Hu2/gojhej9vMvY5IXuDP0dCcuJVnoQ/u+REfytUeT+Cbl6X1pORPzuDK5CI1IY/Kulf8FYAdT+ok95rWXaOPw==",
          "dtype": "f8"
         }
        },
        {
         "mode": "lines+markers",
         "name": "out_prncp_inv (Test)",
         "type": "scatter",
         "x": [
          "2022-02-01T00:00:00.000000000",
          "2022-03-01T00:00:00.000000000",
          "2022-04-01T00:00:00.000000000",
          "2022-05-01T00:00:00.000000000",
          "2022-06-01T00:00:00.000000000",
          "2022-07-01T00:00:00.000000000",
          "2022-08-01T00:00:00.000000000",
          "2022-09-01T00:00:00.000000000",
          "2022-10-01T00:00:00.000000000",
          "2022-11-01T00:00:00.000000000",
          "2022-12-01T00:00:00.000000000",
          "2023-01-01T00:00:00.000000000",
          "2023-02-01T00:00:00.000000000",
          "2023-03-01T00:00:00.000000000",
          "2023-04-01T00:00:00.000000000",
          "2023-05-01T00:00:00.000000000",
          "2023-06-01T00:00:00.000000000",
          "2023-07-01T00:00:00.000000000",
          "2023-08-01T00:00:00.000000000",
          "2023-09-01T00:00:00.000000000",
          "2023-10-01T00:00:00.000000000",
          "2023-11-01T00:00:00.000000000",
          "2023-12-01T00:00:00.000000000",
          "2024-01-01T00:00:00.000000000",
          "2024-02-01T00:00:00.000000000",
          "2024-03-01T00:00:00.000000000",
          "2024-04-01T00:00:00.000000000",
          "2024-05-01T00:00:00.000000000",
          "2024-06-01T00:00:00.000000000",
          "2024-07-01T00:00:00.000000000",
          "2024-08-01T00:00:00.000000000",
          "2024-09-01T00:00:00.000000000",
          "2024-10-01T00:00:00.000000000",
          "2024-11-01T00:00:00.000000000",
          "2024-12-01T00:00:00.000000000"
         ],
         "y": {
          "bdata": "F2s6C6qDCD/ukl5rprkCP40T6ezC5Dg/3eFeQ/wr8j5jGn+UEthaP1LcKuZ0pME+bR6TS9hbgD8AAAAAAAAAALrmyn18M2Q/droFLsqbez+73yLqpqtGPzwKfvyC3zA/rYrXW9xK1j7gIKcFkglgP6CaZn1s2IU/AAAAAAAAAADOguGopyQ1P3Se33Og9nA/AAAAAAAAAAAAAAAAAAAAAN9iKOZwdDY/+PShfD22cT/qzQSUBNA1PyPPNpu5SXE/yfvhQn5zED8Dg9cfYMAVP9MVdRRohoI/AAAAAAAAAAA2CUnE7vReP7/i5fLzzlU/Qv4hZcR3Tj8AAAAAAAAAAIeU96r27yc/QCz1QOsyFz8EsT9KHvx9Pw==",
          "dtype": "f8"
         }
        },
        {
         "mode": "lines+markers",
         "name": "out_prncp_inv (Train)",
         "type": "scatter",
         "x": [
          "2022-02-01T00:00:00.000000000",
          "2022-03-01T00:00:00.000000000",
          "2022-04-01T00:00:00.000000000",
          "2022-05-01T00:00:00.000000000",
          "2022-06-01T00:00:00.000000000",
          "2022-07-01T00:00:00.000000000",
          "2022-08-01T00:00:00.000000000",
          "2022-09-01T00:00:00.000000000",
          "2022-10-01T00:00:00.000000000",
          "2022-11-01T00:00:00.000000000",
          "2022-12-01T00:00:00.000000000",
          "2023-01-01T00:00:00.000000000",
          "2023-02-01T00:00:00.000000000",
          "2023-03-01T00:00:00.000000000",
          "2023-04-01T00:00:00.000000000",
          "2023-05-01T00:00:00.000000000",
          "2023-06-01T00:00:00.000000000",
          "2023-07-01T00:00:00.000000000",
          "2023-08-01T00:00:00.000000000",
          "2023-09-01T00:00:00.000000000",
          "2023-10-01T00:00:00.000000000",
          "2023-11-01T00:00:00.000000000",
          "2023-12-01T00:00:00.000000000",
          "2024-01-01T00:00:00.000000000",
          "2024-02-01T00:00:00.000000000",
          "2024-03-01T00:00:00.000000000",
          "2024-04-01T00:00:00.000000000",
          "2024-05-01T00:00:00.000000000",
          "2024-06-01T00:00:00.000000000",
          "2024-07-01T00:00:00.000000000",
          "2024-08-01T00:00:00.000000000",
          "2024-09-01T00:00:00.000000000",
          "2024-10-01T00:00:00.000000000",
          "2024-11-01T00:00:00.000000000",
          "2024-12-01T00:00:00.000000000"
         ],
         "y": {
          "bdata": "UC9CLUw6VT8c968WjtdVPzoLfSxHniQ/CrHMPz87Bj8phmw+atc7P7SyRlHLCGc/MK1zJb60Sj/33eStSa5oP4lwWTpg12g/kHv80q28HT8sGu11yZN/PwAAAAAAAAAAAAAAAAAAAAC4v+EmzBBrPxFzeb7LRCY/PAjLmk31XD+E7aij+PUtP4BWaV/eiWA/1Fu/Iz88Aj9c1S3GxmoDP6dY5ybUU2Q/zjc5UbT9hD8AAAAAAAAAAK1h1TYVRfs+brk/vUfgVz/Yd9hR2N9bP6ul1ud5ujU/aeWDtlN1cD8AAAAAAAAAAAAAAAAAAAAAEuUzhmViaT/V+aONW9cjPzBOAGfmOOs+DFtAeZhmIz+6mkIrYXNQPw==",
          "dtype": "f8"
         }
        },
        {
         "mode": "lines+markers",
         "name": "percent_bc_gt_75 (Test)",
         "type": "scatter",
         "x": [
          "2022-02-01T00:00:00.000000000",
          "2022-03-01T00:00:00.000000000",
          "2022-04-01T00:00:00.000000000",
          "2022-05-01T00:00:00.000000000",
          "2022-06-01T00:00:00.000000000",
          "2022-07-01T00:00:00.000000000",
          "2022-08-01T00:00:00.000000000",
          "2022-09-01T00:00:00.000000000",
          "2022-10-01T00:00:00.000000000",
          "2022-11-01T00:00:00.000000000",
          "2022-12-01T00:00:00.000000000",
          "2023-01-01T00:00:00.000000000",
          "2023-02-01T00:00:00.000000000",
          "2023-03-01T00:00:00.000000000",
          "2023-04-01T00:00:00.000000000",
          "2023-05-01T00:00:00.000000000",
          "2023-06-01T00:00:00.000000000",
          "2023-07-01T00:00:00.000000000",
          "2023-08-01T00:00:00.000000000",
          "2023-09-01T00:00:00.000000000",
          "2023-10-01T00:00:00.000000000",
          "2023-11-01T00:00:00.000000000",
          "2023-12-01T00:00:00.000000000",
          "2024-01-01T00:00:00.000000000",
          "2024-02-01T00:00:00.000000000",
          "2024-03-01T00:00:00.000000000",
          "2024-04-01T00:00:00.000000000",
          "2024-05-01T00:00:00.000000000",
          "2024-06-01T00:00:00.000000000",
          "2024-07-01T00:00:00.000000000",
          "2024-08-01T00:00:00.000000000",
          "2024-09-01T00:00:00.000000000",
          "2024-10-01T00:00:00.000000000",
          "2024-11-01T00:00:00.000000000",
          "2024-12-01T00:00:00.000000000"
         ],
         "y": {
          "bdata": "mAv+pzzYiD9D6zTpA7meP9Z/yhHiKqU/Ud4tbEdrjz8GcXZkL8N3P0xoGClvmnw/hQQdpNQ9bT8xU/2BsdeAP6ixtvYoT7E/MFwc/6JTrz9n9a+0axijPxMP7EQor7U/tp3rRHUQkD+v31k6t2ySPymuaeLYYZk/HLQglmPHjz9Q4b8tARyXP+ldfWucbYU/5DufTdgieT+rwEG1OoiXP8B9/COXGYg/y+tae/S6pD/jJ4p1jNCWP+yf0emppaM/GZagJ6KJkD82vZ1tyxGRP3Y5HtbYN5Y/v+ezE8LcfD/cjJKpI6CuP7zeWDsQfaA/d1ny9QGigz+G4vBgaXybP6IHbgFNX48/EW0cLdFZez+YHSDJcECVPw==",
          "dtype": "f8"
         }
        },
        {
         "mode": "lines+markers",
         "name": "percent_bc_gt_75 (Train)",
         "type": "scatter",
         "x": [
          "2022-02-01T00:00:00.000000000",
          "2022-03-01T00:00:00.000000000",
          "2022-04-01T00:00:00.000000000",
          "2022-05-01T00:00:00.000000000",
          "2022-06-01T00:00:00.000000000",
          "2022-07-01T00:00:00.000000000",
          "2022-08-01T00:00:00.000000000",
          "2022-09-01T00:00:00.000000000",
          "2022-10-01T00:00:00.000000000",
          "2022-11-01T00:00:00.000000000",
          "2022-12-01T00:00:00.000000000",
          "2023-01-01T00:00:00.000000000",
          "2023-02-01T00:00:00.000000000",
          "2023-03-01T00:00:00.000000000",
          "2023-04-01T00:00:00.000000000",
          "2023-05-01T00:00:00.000000000",
          "2023-06-01T00:00:00.000000000",
          "2023-07-01T00:00:00.000000000",
          "2023-08-01T00:00:00.000000000",
          "2023-09-01T00:00:00.000000000",
          "2023-10-01T00:00:00.000000000",
          "2023-11-01T00:00:00.000000000",
          "2023-12-01T00:00:00.000000000",
          "2024-01-01T00:00:00.000000000",
          "2024-02-01T00:00:00.000000000",
          "2024-03-01T00:00:00.000000000",
          "2024-04-01T00:00:00.000000000",
          "2024-05-01T00:00:00.000000000",
          "2024-06-01T00:00:00.000000000",
          "2024-07-01T00:00:00.000000000",
          "2024-08-01T00:00:00.000000000",
          "2024-09-01T00:00:00.000000000",
          "2024-10-01T00:00:00.000000000",
          "2024-11-01T00:00:00.000000000",
          "2024-12-01T00:00:00.000000000"
         ],
         "y": {
          "bdata": "OTJp4LAuej+MbLjAL7iBP2UfJsLWSaA/AyO9D5bkfT8quXzJXEuGP5VDVvfYVZo/BfzJtdEBgD9vGnWl/KCEPzCPDrlXC4I/W2xkJLtllz+Ia+j7ghmdP1tCDWACzKA/rbCQeG+nij9MhNdSuCeNPykjJs7C0qE/kNcg9bLJnD/ZSGeDIbCXPwnO1/K9Q3c/1FIBQ6/ohj9s3TC1Z/SKP+IE9QNLuoQ/fmdijRiGbj9uP+h9n+GKP6i6r+hvJqQ/p8NEjrq0pz84rpFibPahPwqVeWtzr3w/yHsAfU+RlD8bs3jUPzqhP7ZQwvsnDos/lU73IA8Zmz+nL4c95yShP8wrF5YL/G8/l7ZKR2OfgD+1F4ZfEPGePw==",
          "dtype": "f8"
         }
        },
        {
         "mode": "lines+markers",
         "name": "total_bc_limit (Test)",
         "type": "scatter",
         "x": [
          "2022-02-01T00:00:00.000000000",
          "2022-03-01T00:00:00.000000000",
          "2022-04-01T00:00:00.000000000",
          "2022-05-01T00:00:00.000000000",
          "2022-06-01T00:00:00.000000000",
          "2022-07-01T00:00:00.000000000",
          "2022-08-01T00:00:00.000000000",
          "2022-09-01T00:00:00.000000000",
          "2022-10-01T00:00:00.000000000",
          "2022-11-01T00:00:00.000000000",
          "2022-12-01T00:00:00.000000000",
          "2023-01-01T00:00:00.000000000",
          "2023-02-01T00:00:00.000000000",
          "2023-03-01T00:00:00.000000000",
          "2023-04-01T00:00:00.000000000",
          "2023-05-01T00:00:00.000000000",
          "2023-06-01T00:00:00.000000000",
          "2023-07-01T00:00:00.000000000",
          "2023-08-01T00:00:00.000000000",
          "2023-09-01T00:00:00.000000000",
          "2023-10-01T00:00:00.000000000",
          "2023-11-01T00:00:00.000000000",
          "2023-12-01T00:00:00.000000000",
          "2024-01-01T00:00:00.000000000",
          "2024-02-01T00:00:00.000000000",
          "2024-03-01T00:00:00.000000000",
          "2024-04-01T00:00:00.000000000",
          "2024-05-01T00:00:00.000000000",
          "2024-06-01T00:00:00.000000000",
          "2024-07-01T00:00:00.000000000",
          "2024-08-01T00:00:00.000000000",
          "2024-09-01T00:00:00.000000000",
          "2024-10-01T00:00:00.000000000",
          "2024-11-01T00:00:00.000000000",
          "2024-12-01T00:00:00.000000000"
         ],
         "y": {
          "bdata": "yrZWuVqkgD+GbhgIU/uXP4CDk9JbaqM/5G4KN/Ugmz/qdbk2jrOvP+yEwqS1VbI/qrWTIPfVlj+coB3hYr+iP0bQmcwS3bk/D6f2dNe7wz8dXYVRXeSyPySp9rWQDr4/nPzIwR6Wrz928y9Z8rKSPxYFQHd5m6o/nJdGxJI2oz9UCjj3PWGiP5IERNRgIIk/v5cca9Opgj/EskWb3baGP7pWGQixZ6g/lSq5FHWwsj97jb1hGZWzP3Xu+BXAXMA/RPUgouMdwz8TylqboIWzPxiWZGNjwoM/LzOxeJ2qrT8UwgGqixijP5z9p5lXoqM/xewV7/xFpD/wOGbNGWOjP4D5qoDdxZA/Do3gSQJEmz/NSNIlaV2hPw==",
          "dtype": "f8"
         }
        },
        {
         "mode": "lines+markers",
         "name": "total_bc_limit (Train)",
         "type": "scatter",
         "x": [
          "2022-02-01T00:00:00.000000000",
          "2022-03-01T00:00:00.000000000",
          "2022-04-01T00:00:00.000000000",
          "2022-05-01T00:00:00.000000000",
          "2022-06-01T00:00:00.000000000",
          "2022-07-01T00:00:00.000000000",
          "2022-08-01T00:00:00.000000000",
          "2022-09-01T00:00:00.000000000",
          "2022-10-01T00:00:00.000000000",
          "2022-11-01T00:00:00.000000000",
          "2022-12-01T00:00:00.000000000",
          "2023-01-01T00:00:00.000000000",
          "2023-02-01T00:00:00.000000000",
          "2023-03-01T00:00:00.000000000",
          "2023-04-01T00:00:00.000000000",
          "2023-05-01T00:00:00.000000000",
          "2023-06-01T00:00:00.000000000",
          "2023-07-01T00:00:00.000000000",
          "2023-08-01T00:00:00.000000000",
          "2023-09-01T00:00:00.000000000",
          "2023-10-01T00:00:00.000000000",
          "2023-11-01T00:00:00.000000000",
          "2023-12-01T00:00:00.000000000",
          "2024-01-01T00:00:00.000000000",
          "2024-02-01T00:00:00.000000000",
          "2024-03-01T00:00:00.000000000",
          "2024-04-01T00:00:00.000000000",
          "2024-05-01T00:00:00.000000000",
          "2024-06-01T00:00:00.000000000",
          "2024-07-01T00:00:00.000000000",
          "2024-08-01T00:00:00.000000000",
          "2024-09-01T00:00:00.000000000",
          "2024-10-01T00:00:00.000000000",
          "2024-11-01T00:00:00.000000000",
          "2024-12-01T00:00:00.000000000"
         ],
         "y": {
          "bdata": "mW+CZrCjez+zH3lBXGuNPyUythr1cJU/WWFn20gYkD/gh07JddOZP8CWdKgq+Yg/XNIzj4x4jz8Ty9yphjBmP/qCj1XBEaM/MOx/oE8OnT9/fbqlfV2iP+QWGZLPerI/sWyMVjNohT+nFkyyU5GfPwJ5dMtkkJ0/fdma9rR3pD/ztd1rM6+JP6CSvsbcao0/L1oasqsIgT8zMvTB6AODP1gS66aEV6I/mnQGHVyVnj8hhyVXVEaRP/jgDxTjnKc/Ss7BY+ZyrT+074eVOBWjP+6JZ/T/8oQ/iOG4KMiYjD8kOAX1DNyzPwEQyFS4qKM/eq59cmGJlT/XZGG/cyuePwFtROhBboE/tY36p4/gjD8SGuNNEHOWPw==",
          "dtype": "f8"
         }
        },
        {
         "mode": "lines+markers",
         "name": "total_rec_prncp (Test)",
         "type": "scatter",
         "x": [
          "2022-02-01T00:00:00.000000000",
          "2022-03-01T00:00:00.000000000",
          "2022-04-01T00:00:00.000000000",
          "2022-05-01T00:00:00.000000000",
          "2022-06-01T00:00:00.000000000",
          "2022-07-01T00:00:00.000000000",
          "2022-08-01T00:00:00.000000000",
          "2022-09-01T00:00:00.000000000",
          "2022-10-01T00:00:00.000000000",
          "2022-11-01T00:00:00.000000000",
          "2022-12-01T00:00:00.000000000",
          "2023-01-01T00:00:00.000000000",
          "2023-02-01T00:00:00.000000000",
          "2023-03-01T00:00:00.000000000",
          "2023-04-01T00:00:00.000000000",
          "2023-05-01T00:00:00.000000000",
          "2023-06-01T00:00:00.000000000",
          "2023-07-01T00:00:00.000000000",
          "2023-08-01T00:00:00.000000000",
          "2023-09-01T00:00:00.000000000",
          "2023-10-01T00:00:00.000000000",
          "2023-11-01T00:00:00.000000000",
          "2023-12-01T00:00:00.000000000",
          "2024-01-01T00:00:00.000000000",
          "2024-02-01T00:00:00.000000000",
          "2024-03-01T00:00:00.000000000",
          "2024-04-01T00:00:00.000000000",
          "2024-05-01T00:00:00.000000000",
          "2024-06-01T00:00:00.000000000",
          "2024-07-01T00:00:00.000000000",
          "2024-08-01T00:00:00.000000000",
          "2024-09-01T00:00:00.000000000",
          "2024-10-01T00:00:00.000000000",
          "2024-11-01T00:00:00.000000000",
          "2024-12-01T00:00:00.000000000"
         ],
         "y": {
          "bdata": "LUFrqEALnj9mEqk7786mP4H+HfNdk6Y/8FhAgQQehj8s6/DHkXugP5i6NfMdNKE/JgdfZKBenz+idFONDKihP+zAPemYuqw/CaPFFlI+vD+WUqVUjVW6P7gJIUB3rb0/ISzlImJZqj9kk/wX9BmiP9b64ua7G8E/fry6aHLUtD8ByVJpq/WSP2O8kEII2pQ/T/96IQL3pj9Wk42+l4utP/iPKT2R7L4/wW1Zn2enoz/vKH4kHo20P5bBdciGdas/LZjNVa3loj8pFmuhazaWP9RPUf9Zfak/0EffdnLIlz/1MavxUaSpPxaD2KMx6LA/ZhL3BBOloT9Z0l815sSNP5FJSzAOEZA/w/P5Q/dwkT/w20CB1/aoPw==",
          "dtype": "f8"
         }
        },
        {
         "mode": "lines+markers",
         "name": "total_rec_prncp (Train)",
         "type": "scatter",
         "x": [
          "2022-02-01T00:00:00.000000000",
          "2022-03-01T00:00:00.000000000",
          "2022-04-01T00:00:00.000000000",
          "2022-05-01T00:00:00.000000000",
          "2022-06-01T00:00:00.000000000",
          "2022-07-01T00:00:00.000000000",
          "2022-08-01T00:00:00.000000000",
          "2022-09-01T00:00:00.000000000",
          "2022-10-01T00:00:00.000000000",
          "2022-11-01T00:00:00.000000000",
          "2022-12-01T00:00:00.000000000",
          "2023-01-01T00:00:00.000000000",
          "2023-02-01T00:00:00.000000000",
          "2023-03-01T00:00:00.000000000",
          "2023-04-01T00:00:00.000000000",
          "2023-05-01T00:00:00.000000000",
          "2023-06-01T00:00:00.000000000",
          "2023-07-01T00:00:00.000000000",
          "2023-08-01T00:00:00.000000000",
          "2023-09-01T00:00:00.000000000",
          "2023-10-01T00:00:00.000000000",
          "2023-11-01T00:00:00.000000000",
          "2023-12-01T00:00:00.000000000",
          "2024-01-01T00:00:00.000000000",
          "2024-02-01T00:00:00.000000000",
          "2024-03-01T00:00:00.000000000",
          "2024-04-01T00:00:00.000000000",
          "2024-05-01T00:00:00.000000000",
          "2024-06-01T00:00:00.000000000",
          "2024-07-01T00:00:00.000000000",
          "2024-08-01T00:00:00.000000000",
          "2024-09-01T00:00:00.000000000",
          "2024-10-01T00:00:00.000000000",
          "2024-11-01T00:00:00.000000000",
          "2024-12-01T00:00:00.000000000"
         ],
         "y": {
          "bdata": "t0FRplalhT/vhH5p2FqMP8N1kMFIe5E/Bk5CY/SEgD8d0enA/M+bP5pD8FZzN5k/vzgTh+bsiz+QXLtkwQ2jP/h7Pjmy26Q/9z6NZc7ppj/H624CQzmqP4YFdNUVSrU/gtoA+ixIpD9KxrFzA92hP3jxxhnsQJ8/LeE4AAWYlj9n/u1MMipzPwApcvJ/C4Q/BguPWDD8gD8s8kgBpsOkP/kdt5LKvqE/lzHioBFirT/4P1vFU3CnP4lVw0fnAqk/CYJwEJULpD8bFGkV826bPxOMW02qdpI/zXVEWrnDmD/aDbikixmOP2wFcVyug6E/28GGxuUGjz8iLpsua6+HPwrYuSvKRY8/iUzEDQNzqT/XSB8cRyqHPw==",
          "dtype": "f8"
         }
        },
        {
         "mode": "lines+markers",
         "name": "y_pred_label (Test)",
         "type": "scatter",
         "x": [
          "2022-02-01T00:00:00.000000000",
          "2022-03-01T00:00:00.000000000",
          "2022-04-01T00:00:00.000000000",
          "2022-05-01T00:00:00.000000000",
          "2022-06-01T00:00:00.000000000",
          "2022-07-01T00:00:00.000000000",
          "2022-08-01T00:00:00.000000000",
          "2022-09-01T00:00:00.000000000",
          "2022-10-01T00:00:00.000000000",
          "2022-11-01T00:00:00.000000000",
          "2022-12-01T00:00:00.000000000",
          "2023-01-01T00:00:00.000000000",
          "2023-02-01T00:00:00.000000000",
          "2023-03-01T00:00:00.000000000",
          "2023-04-01T00:00:00.000000000",
          "2023-05-01T00:00:00.000000000",
          "2023-06-01T00:00:00.000000000",
          "2023-07-01T00:00:00.000000000",
          "2023-08-01T00:00:00.000000000",
          "2023-09-01T00:00:00.000000000",
          "2023-10-01T00:00:00.000000000",
          "2023-11-01T00:00:00.000000000",
          "2023-12-01T00:00:00.000000000",
          "2024-01-01T00:00:00.000000000",
          "2024-02-01T00:00:00.000000000",
          "2024-03-01T00:00:00.000000000",
          "2024-04-01T00:00:00.000000000",
          "2024-05-01T00:00:00.000000000",
          "2024-06-01T00:00:00.000000000",
          "2024-07-01T00:00:00.000000000",
          "2024-08-01T00:00:00.000000000",
          "2024-09-01T00:00:00.000000000",
          "2024-10-01T00:00:00.000000000",
          "2024-11-01T00:00:00.000000000",
          "2024-12-01T00:00:00.000000000"
         ],
         "y": {
          "bdata": "AAAAAAAAAAAAAAAAAAAAAAAAAAAAAAAAAAAAAAAAAAAAAAAAAAAAAAAAAAAAAAAAAAAAAAAAAAAAAAAAAAAAAAAAAAAAAAAAAAAAAAAAAAAAAAAAAAAAAAAAAAAAAAAAAAAAAAAAAAAAAAAAAAAAAAAAAAAAAAAAAAAAAAAAAAAAAAAAAAAAAAAAAAAAAAAAAAAAAAAAAAAAAAAAAAAAAAAAAAAAAAAAAAAAAAAAAAAAAAAAAAAAAAAAAAAAAAAAAAAAAAAAAAAAAAAAAAAAAAAAAAAAAAAAAAAAAAAAAAAAAAAAAAAAAAAAAAAAAAAAAAAAAAAAAAAAAAAAAAAAAAAAAAAAAAAAAAAAAAAAAAAAAAAAAAAAAA==",
          "dtype": "f8"
         }
        },
        {
         "mode": "lines+markers",
         "name": "y_pred_label (Train)",
         "type": "scatter",
         "x": [
          "2022-02-01T00:00:00.000000000",
          "2022-03-01T00:00:00.000000000",
          "2022-04-01T00:00:00.000000000",
          "2022-05-01T00:00:00.000000000",
          "2022-06-01T00:00:00.000000000",
          "2022-07-01T00:00:00.000000000",
          "2022-08-01T00:00:00.000000000",
          "2022-09-01T00:00:00.000000000",
          "2022-10-01T00:00:00.000000000",
          "2022-11-01T00:00:00.000000000",
          "2022-12-01T00:00:00.000000000",
          "2023-01-01T00:00:00.000000000",
          "2023-02-01T00:00:00.000000000",
          "2023-03-01T00:00:00.000000000",
          "2023-04-01T00:00:00.000000000",
          "2023-05-01T00:00:00.000000000",
          "2023-06-01T00:00:00.000000000",
          "2023-07-01T00:00:00.000000000",
          "2023-08-01T00:00:00.000000000",
          "2023-09-01T00:00:00.000000000",
          "2023-10-01T00:00:00.000000000",
          "2023-11-01T00:00:00.000000000",
          "2023-12-01T00:00:00.000000000",
          "2024-01-01T00:00:00.000000000",
          "2024-02-01T00:00:00.000000000",
          "2024-03-01T00:00:00.000000000",
          "2024-04-01T00:00:00.000000000",
          "2024-05-01T00:00:00.000000000",
          "2024-06-01T00:00:00.000000000",
          "2024-07-01T00:00:00.000000000",
          "2024-08-01T00:00:00.000000000",
          "2024-09-01T00:00:00.000000000",
          "2024-10-01T00:00:00.000000000",
          "2024-11-01T00:00:00.000000000",
          "2024-12-01T00:00:00.000000000"
         ],
         "y": {
          "bdata": "AAAAAAAAAAAAAAAAAAAAAAAAAAAAAAAAAAAAAAAAAAAAAAAAAAAAAAAAAAAAAAAAAAAAAAAAAAAAAAAAAAAAAAAAAAAAAAAAAAAAAAAAAAAAAAAAAAAAAAAAAAAAAAAAAAAAAAAAAAAAAAAAAAAAAAAAAAAAAAAAAAAAAAAAAAAAAAAAAAAAAAAAAAAAAAAAAAAAAAAAAAAAAAAAAAAAAAAAAAAAAAAAAAAAAAAAAAAAAAAAAAAAAAAAAAAAAAAAAAAAAAAAAAAAAAAAAAAAAAAAAAAAAAAAAAAAAAAAAAAAAAAAAAAAAAAAAAAAAAAAAAAAAAAAAAAAAAAAAAAAAAAAAAAAAAAAAAAAAAAAAAAAAAAAAAAAAA==",
          "dtype": "f8"
         }
        },
        {
         "mode": "lines+markers",
         "name": "y_pred_proba (Test)",
         "type": "scatter",
         "x": [
          "2022-02-01T00:00:00.000000000",
          "2022-03-01T00:00:00.000000000",
          "2022-04-01T00:00:00.000000000",
          "2022-05-01T00:00:00.000000000",
          "2022-06-01T00:00:00.000000000",
          "2022-07-01T00:00:00.000000000",
          "2022-08-01T00:00:00.000000000",
          "2022-09-01T00:00:00.000000000",
          "2022-10-01T00:00:00.000000000",
          "2022-11-01T00:00:00.000000000",
          "2022-12-01T00:00:00.000000000",
          "2023-01-01T00:00:00.000000000",
          "2023-02-01T00:00:00.000000000",
          "2023-03-01T00:00:00.000000000",
          "2023-04-01T00:00:00.000000000",
          "2023-05-01T00:00:00.000000000",
          "2023-06-01T00:00:00.000000000",
          "2023-07-01T00:00:00.000000000",
          "2023-08-01T00:00:00.000000000",
          "2023-09-01T00:00:00.000000000",
          "2023-10-01T00:00:00.000000000",
          "2023-11-01T00:00:00.000000000",
          "2023-12-01T00:00:00.000000000",
          "2024-01-01T00:00:00.000000000",
          "2024-02-01T00:00:00.000000000",
          "2024-03-01T00:00:00.000000000",
          "2024-04-01T00:00:00.000000000",
          "2024-05-01T00:00:00.000000000",
          "2024-06-01T00:00:00.000000000",
          "2024-07-01T00:00:00.000000000",
          "2024-08-01T00:00:00.000000000",
          "2024-09-01T00:00:00.000000000",
          "2024-10-01T00:00:00.000000000",
          "2024-11-01T00:00:00.000000000",
          "2024-12-01T00:00:00.000000000"
         ],
         "y": {
          "bdata": "AMBv9QmhuT9M6wtLoc6WPypo7WaHjZw/PYsvsim2iT8GcMKQq6ajP02M8nurHpQ/TtZdRMq0jz9mbUZQnlSjP7dJTINF7qI/BjiuyOFHmj+2/KJmiOuuP8xWpMy7Uak/Xg5Fq1Wntz8Ek45rKfuwP/iWH8AT27c/4QEg/uzFsz/F/xySlcOaPwbAyuZiPJ8/lzzbrU0Hhz+VuUL6abyqPwnWDCs2FqI/8TYS68y7pj+JmGWYKxK8P6Bro9xxU78/m6MzrEJkrT+iXw81O/CjPwbLzOGBirU/iV4C+qakmz9J7mz7iGSYP/YY/zbMmqc/NwK2mE8Wij8oz0I2rq2PP8AtNmiExqA/RP49M+vyhj8m1DPEtTOwPw==",
          "dtype": "f8"
         }
        },
        {
         "mode": "lines+markers",
         "name": "y_pred_proba (Train)",
         "type": "scatter",
         "x": [
          "2022-02-01T00:00:00.000000000",
          "2022-03-01T00:00:00.000000000",
          "2022-04-01T00:00:00.000000000",
          "2022-05-01T00:00:00.000000000",
          "2022-06-01T00:00:00.000000000",
          "2022-07-01T00:00:00.000000000",
          "2022-08-01T00:00:00.000000000",
          "2022-09-01T00:00:00.000000000",
          "2022-10-01T00:00:00.000000000",
          "2022-11-01T00:00:00.000000000",
          "2022-12-01T00:00:00.000000000",
          "2023-01-01T00:00:00.000000000",
          "2023-02-01T00:00:00.000000000",
          "2023-03-01T00:00:00.000000000",
          "2023-04-01T00:00:00.000000000",
          "2023-05-01T00:00:00.000000000",
          "2023-06-01T00:00:00.000000000",
          "2023-07-01T00:00:00.000000000",
          "2023-08-01T00:00:00.000000000",
          "2023-09-01T00:00:00.000000000",
          "2023-10-01T00:00:00.000000000",
          "2023-11-01T00:00:00.000000000",
          "2023-12-01T00:00:00.000000000",
          "2024-01-01T00:00:00.000000000",
          "2024-02-01T00:00:00.000000000",
          "2024-03-01T00:00:00.000000000",
          "2024-04-01T00:00:00.000000000",
          "2024-05-01T00:00:00.000000000",
          "2024-06-01T00:00:00.000000000",
          "2024-07-01T00:00:00.000000000",
          "2024-08-01T00:00:00.000000000",
          "2024-09-01T00:00:00.000000000",
          "2024-10-01T00:00:00.000000000",
          "2024-11-01T00:00:00.000000000",
          "2024-12-01T00:00:00.000000000"
         ],
         "y": {
          "bdata": "WcBb9SRfwz9Y+5UL/6uLP3LbTwyuDo0/UHzfFJV3hT9hyEnjgDB/PzWP/aWGdJE/ffBS6hhokj+Vhoa67fmLP6p9YmSSFqc/TPHR4JKVjj9YQzzEirOAPwIth+BNaqA/5ZgcDkzipz+afzeRypqkP7up29yBcp4/FveCgdPFqT8oIV+3BdeMPyQjzUL6e3U/rItN9sJOaj8Y+Hx62h2HPyAMnLp2AZI/77xK7k2NmT92FYXRRVGiP5r5VYU7DrA/vXoSBJfTsD9qC72jXHOgP0rPI93xnKM/om4wBPImhT8k8H/jLzSjP16xtbTk7Ys/Sm1CMp3koT/21VzdhY+ZP3vuoE8325A/8AJyqpRNkj8KTsTY5l2rPw==",
          "dtype": "f8"
         }
        }
       ],
       "layout": {
        "annotations": [
         {
          "showarrow": false,
          "text": "0.10",
          "x": 1,
          "xanchor": "right",
          "xref": "x domain",
          "y": 0.1,
          "yanchor": "bottom",
          "yref": "y"
         },
         {
          "showarrow": false,
          "text": "0.25",
          "x": 1,
          "xanchor": "right",
          "xref": "x domain",
          "y": 0.25,
          "yanchor": "bottom",
          "yref": "y"
         }
        ],
        "shapes": [
         {
          "line": {
           "color": "orange",
           "dash": "dash"
          },
          "type": "line",
          "x0": 0,
          "x1": 1,
          "xref": "x domain",
          "y0": 0.1,
          "y1": 0.1,
          "yref": "y"
         },
         {
          "line": {
           "color": "red",
           "dash": "dash"
          },
          "type": "line",
          "x0": 0,
          "x1": 1,
          "xref": "x domain",
          "y0": 0.25,
          "y1": 0.25,
          "yref": "y"
         }
        ],
        "template": {
         "data": {
          "bar": [
           {
            "error_x": {
             "color": "#2a3f5f"
            },
            "error_y": {
             "color": "#2a3f5f"
            },
            "marker": {
             "line": {
              "color": "white",
              "width": 0.5
             },
             "pattern": {
              "fillmode": "overlay",
              "size": 10,
              "solidity": 0.2
             }
            },
            "type": "bar"
           }
          ],
          "barpolar": [
           {
            "marker": {
             "line": {
              "color": "white",
              "width": 0.5
             },
             "pattern": {
              "fillmode": "overlay",
              "size": 10,
              "solidity": 0.2
             }
            },
            "type": "barpolar"
           }
          ],
          "carpet": [
           {
            "aaxis": {
             "endlinecolor": "#2a3f5f",
             "gridcolor": "#C8D4E3",
             "linecolor": "#C8D4E3",
             "minorgridcolor": "#C8D4E3",
             "startlinecolor": "#2a3f5f"
            },
            "baxis": {
             "endlinecolor": "#2a3f5f",
             "gridcolor": "#C8D4E3",
             "linecolor": "#C8D4E3",
             "minorgridcolor": "#C8D4E3",
             "startlinecolor": "#2a3f5f"
            },
            "type": "carpet"
           }
          ],
          "choropleth": [
           {
            "colorbar": {
             "outlinewidth": 0,
             "ticks": ""
            },
            "type": "choropleth"
           }
          ],
          "contour": [
           {
            "colorbar": {
             "outlinewidth": 0,
             "ticks": ""
            },
            "colorscale": [
             [
              0,
              "#0d0887"
             ],
             [
              0.1111111111111111,
              "#46039f"
             ],
             [
              0.2222222222222222,
              "#7201a8"
             ],
             [
              0.3333333333333333,
              "#9c179e"
             ],
             [
              0.4444444444444444,
              "#bd3786"
             ],
             [
              0.5555555555555556,
              "#d8576b"
             ],
             [
              0.6666666666666666,
              "#ed7953"
             ],
             [
              0.7777777777777778,
              "#fb9f3a"
             ],
             [
              0.8888888888888888,
              "#fdca26"
             ],
             [
              1,
              "#f0f921"
             ]
            ],
            "type": "contour"
           }
          ],
          "contourcarpet": [
           {
            "colorbar": {
             "outlinewidth": 0,
             "ticks": ""
            },
            "type": "contourcarpet"
           }
          ],
          "heatmap": [
           {
            "colorbar": {
             "outlinewidth": 0,
             "ticks": ""
            },
            "colorscale": [
             [
              0,
              "#0d0887"
             ],
             [
              0.1111111111111111,
              "#46039f"
             ],
             [
              0.2222222222222222,
              "#7201a8"
             ],
             [
              0.3333333333333333,
              "#9c179e"
             ],
             [
              0.4444444444444444,
              "#bd3786"
             ],
             [
              0.5555555555555556,
              "#d8576b"
             ],
             [
              0.6666666666666666,
              "#ed7953"
             ],
             [
              0.7777777777777778,
              "#fb9f3a"
             ],
             [
              0.8888888888888888,
              "#fdca26"
             ],
             [
              1,
              "#f0f921"
             ]
            ],
            "type": "heatmap"
           }
          ],
          "histogram": [
           {
            "marker": {
             "pattern": {
              "fillmode": "overlay",
              "size": 10,
              "solidity": 0.2
             }
            },
            "type": "histogram"
           }
          ],
          "histogram2d": [
           {
            "colorbar": {
             "outlinewidth": 0,
             "ticks": ""
            },
            "colorscale": [
             [
              0,
              "#0d0887"
             ],
             [
              0.1111111111111111,
              "#46039f"
             ],
             [
              0.2222222222222222,
              "#7201a8"
             ],
             [
              0.3333333333333333,
              "#9c179e"
             ],
             [
              0.4444444444444444,
              "#bd3786"
             ],
             [
              0.5555555555555556,
              "#d8576b"
             ],
             [
              0.6666666666666666,
              "#ed7953"
             ],
             [
              0.7777777777777778,
              "#fb9f3a"
             ],
             [
              0.8888888888888888,
              "#fdca26"
             ],
             [
              1,
              "#f0f921"
             ]
            ],
            "type": "histogram2d"
           }
          ],
          "histogram2dcontour": [
           {
            "colorbar": {
             "outlinewidth": 0,
             "ticks": ""
            },
            "colorscale": [
             [
              0,
              "#0d0887"
             ],
             [
              0.1111111111111111,
              "#46039f"
             ],
             [
              0.2222222222222222,
              "#7201a8"
             ],
             [
              0.3333333333333333,
              "#9c179e"
             ],
             [
              0.4444444444444444,
              "#bd3786"
             ],
             [
              0.5555555555555556,
              "#d8576b"
             ],
             [
              0.6666666666666666,
              "#ed7953"
             ],
             [
              0.7777777777777778,
              "#fb9f3a"
             ],
             [
              0.8888888888888888,
              "#fdca26"
             ],
             [
              1,
              "#f0f921"
             ]
            ],
            "type": "histogram2dcontour"
           }
          ],
          "mesh3d": [
           {
            "colorbar": {
             "outlinewidth": 0,
             "ticks": ""
            },
            "type": "mesh3d"
           }
          ],
          "parcoords": [
           {
            "line": {
             "colorbar": {
              "outlinewidth": 0,
              "ticks": ""
             }
            },
            "type": "parcoords"
           }
          ],
          "pie": [
           {
            "automargin": true,
            "type": "pie"
           }
          ],
          "scatter": [
           {
            "fillpattern": {
             "fillmode": "overlay",
             "size": 10,
             "solidity": 0.2
            },
            "type": "scatter"
           }
          ],
          "scatter3d": [
           {
            "line": {
             "colorbar": {
              "outlinewidth": 0,
              "ticks": ""
             }
            },
            "marker": {
             "colorbar": {
              "outlinewidth": 0,
              "ticks": ""
             }
            },
            "type": "scatter3d"
           }
          ],
          "scattercarpet": [
           {
            "marker": {
             "colorbar": {
              "outlinewidth": 0,
              "ticks": ""
             }
            },
            "type": "scattercarpet"
           }
          ],
          "scattergeo": [
           {
            "marker": {
             "colorbar": {
              "outlinewidth": 0,
              "ticks": ""
             }
            },
            "type": "scattergeo"
           }
          ],
          "scattergl": [
           {
            "marker": {
             "colorbar": {
              "outlinewidth": 0,
              "ticks": ""
             }
            },
            "type": "scattergl"
           }
          ],
          "scattermap": [
           {
            "marker": {
             "colorbar": {
              "outlinewidth": 0,
              "ticks": ""
             }
            },
            "type": "scattermap"
           }
          ],
          "scattermapbox": [
           {
            "marker": {
             "colorbar": {
              "outlinewidth": 0,
              "ticks": ""
             }
            },
            "type": "scattermapbox"
           }
          ],
          "scatterpolar": [
           {
            "marker": {
             "colorbar": {
              "outlinewidth": 0,
              "ticks": ""
             }
            },
            "type": "scatterpolar"
           }
          ],
          "scatterpolargl": [
           {
            "marker": {
             "colorbar": {
              "outlinewidth": 0,
              "ticks": ""
             }
            },
            "type": "scatterpolargl"
           }
          ],
          "scatterternary": [
           {
            "marker": {
             "colorbar": {
              "outlinewidth": 0,
              "ticks": ""
             }
            },
            "type": "scatterternary"
           }
          ],
          "surface": [
           {
            "colorbar": {
             "outlinewidth": 0,
             "ticks": ""
            },
            "colorscale": [
             [
              0,
              "#0d0887"
             ],
             [
              0.1111111111111111,
              "#46039f"
             ],
             [
              0.2222222222222222,
              "#7201a8"
             ],
             [
              0.3333333333333333,
              "#9c179e"
             ],
             [
              0.4444444444444444,
              "#bd3786"
             ],
             [
              0.5555555555555556,
              "#d8576b"
             ],
             [
              0.6666666666666666,
              "#ed7953"
             ],
             [
              0.7777777777777778,
              "#fb9f3a"
             ],
             [
              0.8888888888888888,
              "#fdca26"
             ],
             [
              1,
              "#f0f921"
             ]
            ],
            "type": "surface"
           }
          ],
          "table": [
           {
            "cells": {
             "fill": {
              "color": "#EBF0F8"
             },
             "line": {
              "color": "white"
             }
            },
            "header": {
             "fill": {
              "color": "#C8D4E3"
             },
             "line": {
              "color": "white"
             }
            },
            "type": "table"
           }
          ]
         },
         "layout": {
          "annotationdefaults": {
           "arrowcolor": "#2a3f5f",
           "arrowhead": 0,
           "arrowwidth": 1
          },
          "autotypenumbers": "strict",
          "coloraxis": {
           "colorbar": {
            "outlinewidth": 0,
            "ticks": ""
           }
          },
          "colorscale": {
           "diverging": [
            [
             0,
             "#8e0152"
            ],
            [
             0.1,
             "#c51b7d"
            ],
            [
             0.2,
             "#de77ae"
            ],
            [
             0.3,
             "#f1b6da"
            ],
            [
             0.4,
             "#fde0ef"
            ],
            [
             0.5,
             "#f7f7f7"
            ],
            [
             0.6,
             "#e6f5d0"
            ],
            [
             0.7,
             "#b8e186"
            ],
            [
             0.8,
             "#7fbc41"
            ],
            [
             0.9,
             "#4d9221"
            ],
            [
             1,
             "#276419"
            ]
           ],
           "sequential": [
            [
             0,
             "#0d0887"
            ],
            [
             0.1111111111111111,
             "#46039f"
            ],
            [
             0.2222222222222222,
             "#7201a8"
            ],
            [
             0.3333333333333333,
             "#9c179e"
            ],
            [
             0.4444444444444444,
             "#bd3786"
            ],
            [
             0.5555555555555556,
             "#d8576b"
            ],
            [
             0.6666666666666666,
             "#ed7953"
            ],
            [
             0.7777777777777778,
             "#fb9f3a"
            ],
            [
             0.8888888888888888,
             "#fdca26"
            ],
            [
             1,
             "#f0f921"
            ]
           ],
           "sequentialminus": [
            [
             0,
             "#0d0887"
            ],
            [
             0.1111111111111111,
             "#46039f"
            ],
            [
             0.2222222222222222,
             "#7201a8"
            ],
            [
             0.3333333333333333,
             "#9c179e"
            ],
            [
             0.4444444444444444,
             "#bd3786"
            ],
            [
             0.5555555555555556,
             "#d8576b"
            ],
            [
             0.6666666666666666,
             "#ed7953"
            ],
            [
             0.7777777777777778,
             "#fb9f3a"
            ],
            [
             0.8888888888888888,
             "#fdca26"
            ],
            [
             1,
             "#f0f921"
            ]
           ]
          },
          "colorway": [
           "#636efa",
           "#EF553B",
           "#00cc96",
           "#ab63fa",
           "#FFA15A",
           "#19d3f3",
           "#FF6692",
           "#B6E880",
           "#FF97FF",
           "#FECB52"
          ],
          "font": {
           "color": "#2a3f5f"
          },
          "geo": {
           "bgcolor": "white",
           "lakecolor": "white",
           "landcolor": "white",
           "showlakes": true,
           "showland": true,
           "subunitcolor": "#C8D4E3"
          },
          "hoverlabel": {
           "align": "left"
          },
          "hovermode": "closest",
          "mapbox": {
           "style": "light"
          },
          "paper_bgcolor": "white",
          "plot_bgcolor": "white",
          "polar": {
           "angularaxis": {
            "gridcolor": "#EBF0F8",
            "linecolor": "#EBF0F8",
            "ticks": ""
           },
           "bgcolor": "white",
           "radialaxis": {
            "gridcolor": "#EBF0F8",
            "linecolor": "#EBF0F8",
            "ticks": ""
           }
          },
          "scene": {
           "xaxis": {
            "backgroundcolor": "white",
            "gridcolor": "#DFE8F3",
            "gridwidth": 2,
            "linecolor": "#EBF0F8",
            "showbackground": true,
            "ticks": "",
            "zerolinecolor": "#EBF0F8"
           },
           "yaxis": {
            "backgroundcolor": "white",
            "gridcolor": "#DFE8F3",
            "gridwidth": 2,
            "linecolor": "#EBF0F8",
            "showbackground": true,
            "ticks": "",
            "zerolinecolor": "#EBF0F8"
           },
           "zaxis": {
            "backgroundcolor": "white",
            "gridcolor": "#DFE8F3",
            "gridwidth": 2,
            "linecolor": "#EBF0F8",
            "showbackground": true,
            "ticks": "",
            "zerolinecolor": "#EBF0F8"
           }
          },
          "shapedefaults": {
           "line": {
            "color": "#2a3f5f"
           }
          },
          "ternary": {
           "aaxis": {
            "gridcolor": "#DFE8F3",
            "linecolor": "#A2B1C6",
            "ticks": ""
           },
           "baxis": {
            "gridcolor": "#DFE8F3",
            "linecolor": "#A2B1C6",
            "ticks": ""
           },
           "bgcolor": "white",
           "caxis": {
            "gridcolor": "#DFE8F3",
            "linecolor": "#A2B1C6",
            "ticks": ""
           }
          },
          "title": {
           "x": 0.05
          },
          "xaxis": {
           "automargin": true,
           "gridcolor": "#EBF0F8",
           "linecolor": "#EBF0F8",
           "ticks": "",
           "title": {
            "standoff": 15
           },
           "zerolinecolor": "#EBF0F8",
           "zerolinewidth": 2
          },
          "yaxis": {
           "automargin": true,
           "gridcolor": "#EBF0F8",
           "linecolor": "#EBF0F8",
           "ticks": "",
           "title": {
            "standoff": 15
           },
           "zerolinecolor": "#EBF0F8",
           "zerolinewidth": 2
          }
         }
        },
        "title": {
         "text": "PSI over Time by Variable"
        },
        "xaxis": {
         "title": {
          "text": "Period"
         }
        },
        "yaxis": {
         "title": {
          "text": "Population Stability Index"
         }
        }
       }
      }
     },
     "metadata": {},
     "output_type": "display_data"
    },
    {
     "data": {
      "text/plain": [
       "(Figure({\n",
       "     'data': [{'mode': 'lines+markers',\n",
       "               'name': 'acc_open_past_24mths (Test)',\n",
       "               'type': 'scatter',\n",
       "               'x': array(['2022-02-01T00:00:00.000000000', '2022-03-01T00:00:00.000000000',\n",
       "                           '2022-04-01T00:00:00.000000000', '2022-05-01T00:00:00.000000000',\n",
       "                           '2022-06-01T00:00:00.000000000', '2022-07-01T00:00:00.000000000',\n",
       "                           '2022-08-01T00:00:00.000000000', '2022-09-01T00:00:00.000000000',\n",
       "                           '2022-10-01T00:00:00.000000000', '2022-11-01T00:00:00.000000000',\n",
       "                           '2022-12-01T00:00:00.000000000', '2023-01-01T00:00:00.000000000',\n",
       "                           '2023-02-01T00:00:00.000000000', '2023-03-01T00:00:00.000000000',\n",
       "                           '2023-04-01T00:00:00.000000000', '2023-05-01T00:00:00.000000000',\n",
       "                           '2023-06-01T00:00:00.000000000', '2023-07-01T00:00:00.000000000',\n",
       "                           '2023-08-01T00:00:00.000000000', '2023-09-01T00:00:00.000000000',\n",
       "                           '2023-10-01T00:00:00.000000000', '2023-11-01T00:00:00.000000000',\n",
       "                           '2023-12-01T00:00:00.000000000', '2024-01-01T00:00:00.000000000',\n",
       "                           '2024-02-01T00:00:00.000000000', '2024-03-01T00:00:00.000000000',\n",
       "                           '2024-04-01T00:00:00.000000000', '2024-05-01T00:00:00.000000000',\n",
       "                           '2024-06-01T00:00:00.000000000', '2024-07-01T00:00:00.000000000',\n",
       "                           '2024-08-01T00:00:00.000000000', '2024-09-01T00:00:00.000000000',\n",
       "                           '2024-10-01T00:00:00.000000000', '2024-11-01T00:00:00.000000000',\n",
       "                           '2024-12-01T00:00:00.000000000'], dtype='datetime64[ns]'),\n",
       "               'y': {'bdata': ('xIeED5n/cT9TF8lz9GegP8IUPiYVJJ' ... 'G89p4/fsUzJyAFmj91/hlom9qyPw=='),\n",
       "                     'dtype': 'f8'}},\n",
       "              {'mode': 'lines+markers',\n",
       "               'name': 'acc_open_past_24mths (Train)',\n",
       "               'type': 'scatter',\n",
       "               'x': array(['2022-02-01T00:00:00.000000000', '2022-03-01T00:00:00.000000000',\n",
       "                           '2022-04-01T00:00:00.000000000', '2022-05-01T00:00:00.000000000',\n",
       "                           '2022-06-01T00:00:00.000000000', '2022-07-01T00:00:00.000000000',\n",
       "                           '2022-08-01T00:00:00.000000000', '2022-09-01T00:00:00.000000000',\n",
       "                           '2022-10-01T00:00:00.000000000', '2022-11-01T00:00:00.000000000',\n",
       "                           '2022-12-01T00:00:00.000000000', '2023-01-01T00:00:00.000000000',\n",
       "                           '2023-02-01T00:00:00.000000000', '2023-03-01T00:00:00.000000000',\n",
       "                           '2023-04-01T00:00:00.000000000', '2023-05-01T00:00:00.000000000',\n",
       "                           '2023-06-01T00:00:00.000000000', '2023-07-01T00:00:00.000000000',\n",
       "                           '2023-08-01T00:00:00.000000000', '2023-09-01T00:00:00.000000000',\n",
       "                           '2023-10-01T00:00:00.000000000', '2023-11-01T00:00:00.000000000',\n",
       "                           '2023-12-01T00:00:00.000000000', '2024-01-01T00:00:00.000000000',\n",
       "                           '2024-02-01T00:00:00.000000000', '2024-03-01T00:00:00.000000000',\n",
       "                           '2024-04-01T00:00:00.000000000', '2024-05-01T00:00:00.000000000',\n",
       "                           '2024-06-01T00:00:00.000000000', '2024-07-01T00:00:00.000000000',\n",
       "                           '2024-08-01T00:00:00.000000000', '2024-09-01T00:00:00.000000000',\n",
       "                           '2024-10-01T00:00:00.000000000', '2024-11-01T00:00:00.000000000',\n",
       "                           '2024-12-01T00:00:00.000000000'], dtype='datetime64[ns]'),\n",
       "               'y': {'bdata': ('M40ZNqGlez8xxrLYlCmaPyNeDiGK4p' ... '+evo4/RlEEiXjhkj8wpaxbOV+nPw=='),\n",
       "                     'dtype': 'f8'}},\n",
       "              {'mode': 'lines+markers',\n",
       "               'name': 'annual_inc (Test)',\n",
       "               'type': 'scatter',\n",
       "               'x': array(['2022-02-01T00:00:00.000000000', '2022-03-01T00:00:00.000000000',\n",
       "                           '2022-04-01T00:00:00.000000000', '2022-05-01T00:00:00.000000000',\n",
       "                           '2022-06-01T00:00:00.000000000', '2022-07-01T00:00:00.000000000',\n",
       "                           '2022-08-01T00:00:00.000000000', '2022-09-01T00:00:00.000000000',\n",
       "                           '2022-10-01T00:00:00.000000000', '2022-11-01T00:00:00.000000000',\n",
       "                           '2022-12-01T00:00:00.000000000', '2023-01-01T00:00:00.000000000',\n",
       "                           '2023-02-01T00:00:00.000000000', '2023-03-01T00:00:00.000000000',\n",
       "                           '2023-04-01T00:00:00.000000000', '2023-05-01T00:00:00.000000000',\n",
       "                           '2023-06-01T00:00:00.000000000', '2023-07-01T00:00:00.000000000',\n",
       "                           '2023-08-01T00:00:00.000000000', '2023-09-01T00:00:00.000000000',\n",
       "                           '2023-10-01T00:00:00.000000000', '2023-11-01T00:00:00.000000000',\n",
       "                           '2023-12-01T00:00:00.000000000', '2024-01-01T00:00:00.000000000',\n",
       "                           '2024-02-01T00:00:00.000000000', '2024-03-01T00:00:00.000000000',\n",
       "                           '2024-04-01T00:00:00.000000000', '2024-05-01T00:00:00.000000000',\n",
       "                           '2024-06-01T00:00:00.000000000', '2024-07-01T00:00:00.000000000',\n",
       "                           '2024-08-01T00:00:00.000000000', '2024-09-01T00:00:00.000000000',\n",
       "                           '2024-10-01T00:00:00.000000000', '2024-11-01T00:00:00.000000000',\n",
       "                           '2024-12-01T00:00:00.000000000'], dtype='datetime64[ns]'),\n",
       "               'y': {'bdata': ('rFaU/BQ6kT9PQQ9JMrqwP+7jVLXy7a' ... '4pGqA/cM3net4glj+ntSAlJ1ukPw=='),\n",
       "                     'dtype': 'f8'}},\n",
       "              {'mode': 'lines+markers',\n",
       "               'name': 'annual_inc (Train)',\n",
       "               'type': 'scatter',\n",
       "               'x': array(['2022-02-01T00:00:00.000000000', '2022-03-01T00:00:00.000000000',\n",
       "                           '2022-04-01T00:00:00.000000000', '2022-05-01T00:00:00.000000000',\n",
       "                           '2022-06-01T00:00:00.000000000', '2022-07-01T00:00:00.000000000',\n",
       "                           '2022-08-01T00:00:00.000000000', '2022-09-01T00:00:00.000000000',\n",
       "                           '2022-10-01T00:00:00.000000000', '2022-11-01T00:00:00.000000000',\n",
       "                           '2022-12-01T00:00:00.000000000', '2023-01-01T00:00:00.000000000',\n",
       "                           '2023-02-01T00:00:00.000000000', '2023-03-01T00:00:00.000000000',\n",
       "                           '2023-04-01T00:00:00.000000000', '2023-05-01T00:00:00.000000000',\n",
       "                           '2023-06-01T00:00:00.000000000', '2023-07-01T00:00:00.000000000',\n",
       "                           '2023-08-01T00:00:00.000000000', '2023-09-01T00:00:00.000000000',\n",
       "                           '2023-10-01T00:00:00.000000000', '2023-11-01T00:00:00.000000000',\n",
       "                           '2023-12-01T00:00:00.000000000', '2024-01-01T00:00:00.000000000',\n",
       "                           '2024-02-01T00:00:00.000000000', '2024-03-01T00:00:00.000000000',\n",
       "                           '2024-04-01T00:00:00.000000000', '2024-05-01T00:00:00.000000000',\n",
       "                           '2024-06-01T00:00:00.000000000', '2024-07-01T00:00:00.000000000',\n",
       "                           '2024-08-01T00:00:00.000000000', '2024-09-01T00:00:00.000000000',\n",
       "                           '2024-10-01T00:00:00.000000000', '2024-11-01T00:00:00.000000000',\n",
       "                           '2024-12-01T00:00:00.000000000'], dtype='datetime64[ns]'),\n",
       "               'y': {'bdata': ('R7EFSKJQij9D/7Io4fmnP+Xx3JOzPJ' ... 'QxGX0/dvvd9vE/cj/R8EqwnZeiPw=='),\n",
       "                     'dtype': 'f8'}},\n",
       "              {'mode': 'lines+markers',\n",
       "               'name': 'avg_cur_bal (Test)',\n",
       "               'type': 'scatter',\n",
       "               'x': array(['2022-02-01T00:00:00.000000000', '2022-03-01T00:00:00.000000000',\n",
       "                           '2022-04-01T00:00:00.000000000', '2022-05-01T00:00:00.000000000',\n",
       "                           '2022-06-01T00:00:00.000000000', '2022-07-01T00:00:00.000000000',\n",
       "                           '2022-08-01T00:00:00.000000000', '2022-09-01T00:00:00.000000000',\n",
       "                           '2022-10-01T00:00:00.000000000', '2022-11-01T00:00:00.000000000',\n",
       "                           '2022-12-01T00:00:00.000000000', '2023-01-01T00:00:00.000000000',\n",
       "                           '2023-02-01T00:00:00.000000000', '2023-03-01T00:00:00.000000000',\n",
       "                           '2023-04-01T00:00:00.000000000', '2023-05-01T00:00:00.000000000',\n",
       "                           '2023-06-01T00:00:00.000000000', '2023-07-01T00:00:00.000000000',\n",
       "                           '2023-08-01T00:00:00.000000000', '2023-09-01T00:00:00.000000000',\n",
       "                           '2023-10-01T00:00:00.000000000', '2023-11-01T00:00:00.000000000',\n",
       "                           '2023-12-01T00:00:00.000000000', '2024-01-01T00:00:00.000000000',\n",
       "                           '2024-02-01T00:00:00.000000000', '2024-03-01T00:00:00.000000000',\n",
       "                           '2024-04-01T00:00:00.000000000', '2024-05-01T00:00:00.000000000',\n",
       "                           '2024-06-01T00:00:00.000000000', '2024-07-01T00:00:00.000000000',\n",
       "                           '2024-08-01T00:00:00.000000000', '2024-09-01T00:00:00.000000000',\n",
       "                           '2024-10-01T00:00:00.000000000', '2024-11-01T00:00:00.000000000',\n",
       "                           '2024-12-01T00:00:00.000000000'], dtype='datetime64[ns]'),\n",
       "               'y': {'bdata': ('53mDVRxajD/GXT6dQN+tPzkg4UfUI6' ... '16cJM/Oui7MOFsnT82AiLqyIyjPw=='),\n",
       "                     'dtype': 'f8'}},\n",
       "              {'mode': 'lines+markers',\n",
       "               'name': 'avg_cur_bal (Train)',\n",
       "               'type': 'scatter',\n",
       "               'x': array(['2022-02-01T00:00:00.000000000', '2022-03-01T00:00:00.000000000',\n",
       "                           '2022-04-01T00:00:00.000000000', '2022-05-01T00:00:00.000000000',\n",
       "                           '2022-06-01T00:00:00.000000000', '2022-07-01T00:00:00.000000000',\n",
       "                           '2022-08-01T00:00:00.000000000', '2022-09-01T00:00:00.000000000',\n",
       "                           '2022-10-01T00:00:00.000000000', '2022-11-01T00:00:00.000000000',\n",
       "                           '2022-12-01T00:00:00.000000000', '2023-01-01T00:00:00.000000000',\n",
       "                           '2023-02-01T00:00:00.000000000', '2023-03-01T00:00:00.000000000',\n",
       "                           '2023-04-01T00:00:00.000000000', '2023-05-01T00:00:00.000000000',\n",
       "                           '2023-06-01T00:00:00.000000000', '2023-07-01T00:00:00.000000000',\n",
       "                           '2023-08-01T00:00:00.000000000', '2023-09-01T00:00:00.000000000',\n",
       "                           '2023-10-01T00:00:00.000000000', '2023-11-01T00:00:00.000000000',\n",
       "                           '2023-12-01T00:00:00.000000000', '2024-01-01T00:00:00.000000000',\n",
       "                           '2024-02-01T00:00:00.000000000', '2024-03-01T00:00:00.000000000',\n",
       "                           '2024-04-01T00:00:00.000000000', '2024-05-01T00:00:00.000000000',\n",
       "                           '2024-06-01T00:00:00.000000000', '2024-07-01T00:00:00.000000000',\n",
       "                           '2024-08-01T00:00:00.000000000', '2024-09-01T00:00:00.000000000',\n",
       "                           '2024-10-01T00:00:00.000000000', '2024-11-01T00:00:00.000000000',\n",
       "                           '2024-12-01T00:00:00.000000000'], dtype='datetime64[ns]'),\n",
       "               'y': {'bdata': ('3dNlOmcUiT8X9lgfe+mjPyxqHrY7io' ... 'VqG5E/0xPZTl+Glz9QEnVGOtGjPw=='),\n",
       "                     'dtype': 'f8'}},\n",
       "              {'mode': 'lines+markers',\n",
       "               'name': 'bc_open_to_buy (Test)',\n",
       "               'type': 'scatter',\n",
       "               'x': array(['2022-02-01T00:00:00.000000000', '2022-03-01T00:00:00.000000000',\n",
       "                           '2022-04-01T00:00:00.000000000', '2022-05-01T00:00:00.000000000',\n",
       "                           '2022-06-01T00:00:00.000000000', '2022-07-01T00:00:00.000000000',\n",
       "                           '2022-08-01T00:00:00.000000000', '2022-09-01T00:00:00.000000000',\n",
       "                           '2022-10-01T00:00:00.000000000', '2022-11-01T00:00:00.000000000',\n",
       "                           '2022-12-01T00:00:00.000000000', '2023-01-01T00:00:00.000000000',\n",
       "                           '2023-02-01T00:00:00.000000000', '2023-03-01T00:00:00.000000000',\n",
       "                           '2023-04-01T00:00:00.000000000', '2023-05-01T00:00:00.000000000',\n",
       "                           '2023-06-01T00:00:00.000000000', '2023-07-01T00:00:00.000000000',\n",
       "                           '2023-08-01T00:00:00.000000000', '2023-09-01T00:00:00.000000000',\n",
       "                           '2023-10-01T00:00:00.000000000', '2023-11-01T00:00:00.000000000',\n",
       "                           '2023-12-01T00:00:00.000000000', '2024-01-01T00:00:00.000000000',\n",
       "                           '2024-02-01T00:00:00.000000000', '2024-03-01T00:00:00.000000000',\n",
       "                           '2024-04-01T00:00:00.000000000', '2024-05-01T00:00:00.000000000',\n",
       "                           '2024-06-01T00:00:00.000000000', '2024-07-01T00:00:00.000000000',\n",
       "                           '2024-08-01T00:00:00.000000000', '2024-09-01T00:00:00.000000000',\n",
       "                           '2024-10-01T00:00:00.000000000', '2024-11-01T00:00:00.000000000',\n",
       "                           '2024-12-01T00:00:00.000000000'], dtype='datetime64[ns]'),\n",
       "               'y': {'bdata': ('j0T90GMkjD+cPfEY7FykP22NRWYXrq' ... 'H5y60/Emtqf/i8nz+0yK8WYSSjPw=='),\n",
       "                     'dtype': 'f8'}},\n",
       "              {'mode': 'lines+markers',\n",
       "               'name': 'bc_open_to_buy (Train)',\n",
       "               'type': 'scatter',\n",
       "               'x': array(['2022-02-01T00:00:00.000000000', '2022-03-01T00:00:00.000000000',\n",
       "                           '2022-04-01T00:00:00.000000000', '2022-05-01T00:00:00.000000000',\n",
       "                           '2022-06-01T00:00:00.000000000', '2022-07-01T00:00:00.000000000',\n",
       "                           '2022-08-01T00:00:00.000000000', '2022-09-01T00:00:00.000000000',\n",
       "                           '2022-10-01T00:00:00.000000000', '2022-11-01T00:00:00.000000000',\n",
       "                           '2022-12-01T00:00:00.000000000', '2023-01-01T00:00:00.000000000',\n",
       "                           '2023-02-01T00:00:00.000000000', '2023-03-01T00:00:00.000000000',\n",
       "                           '2023-04-01T00:00:00.000000000', '2023-05-01T00:00:00.000000000',\n",
       "                           '2023-06-01T00:00:00.000000000', '2023-07-01T00:00:00.000000000',\n",
       "                           '2023-08-01T00:00:00.000000000', '2023-09-01T00:00:00.000000000',\n",
       "                           '2023-10-01T00:00:00.000000000', '2023-11-01T00:00:00.000000000',\n",
       "                           '2023-12-01T00:00:00.000000000', '2024-01-01T00:00:00.000000000',\n",
       "                           '2024-02-01T00:00:00.000000000', '2024-03-01T00:00:00.000000000',\n",
       "                           '2024-04-01T00:00:00.000000000', '2024-05-01T00:00:00.000000000',\n",
       "                           '2024-06-01T00:00:00.000000000', '2024-07-01T00:00:00.000000000',\n",
       "                           '2024-08-01T00:00:00.000000000', '2024-09-01T00:00:00.000000000',\n",
       "                           '2024-10-01T00:00:00.000000000', '2024-11-01T00:00:00.000000000',\n",
       "                           '2024-12-01T00:00:00.000000000'], dtype='datetime64[ns]'),\n",
       "               'y': {'bdata': ('wRVP2691Zz951GSCVYWgP/F+mxUB4Z' ... 'A9G4M/JS8i/f9njj+g3TI10TuhPw=='),\n",
       "                     'dtype': 'f8'}},\n",
       "              {'mode': 'lines+markers',\n",
       "               'name': 'dti (Test)',\n",
       "               'type': 'scatter',\n",
       "               'x': array(['2022-02-01T00:00:00.000000000', '2022-03-01T00:00:00.000000000',\n",
       "                           '2022-04-01T00:00:00.000000000', '2022-05-01T00:00:00.000000000',\n",
       "                           '2022-06-01T00:00:00.000000000', '2022-07-01T00:00:00.000000000',\n",
       "                           '2022-08-01T00:00:00.000000000', '2022-09-01T00:00:00.000000000',\n",
       "                           '2022-10-01T00:00:00.000000000', '2022-11-01T00:00:00.000000000',\n",
       "                           '2022-12-01T00:00:00.000000000', '2023-01-01T00:00:00.000000000',\n",
       "                           '2023-02-01T00:00:00.000000000', '2023-03-01T00:00:00.000000000',\n",
       "                           '2023-04-01T00:00:00.000000000', '2023-05-01T00:00:00.000000000',\n",
       "                           '2023-06-01T00:00:00.000000000', '2023-07-01T00:00:00.000000000',\n",
       "                           '2023-08-01T00:00:00.000000000', '2023-09-01T00:00:00.000000000',\n",
       "                           '2023-10-01T00:00:00.000000000', '2023-11-01T00:00:00.000000000',\n",
       "                           '2023-12-01T00:00:00.000000000', '2024-01-01T00:00:00.000000000',\n",
       "                           '2024-02-01T00:00:00.000000000', '2024-03-01T00:00:00.000000000',\n",
       "                           '2024-04-01T00:00:00.000000000', '2024-05-01T00:00:00.000000000',\n",
       "                           '2024-06-01T00:00:00.000000000', '2024-07-01T00:00:00.000000000',\n",
       "                           '2024-08-01T00:00:00.000000000', '2024-09-01T00:00:00.000000000',\n",
       "                           '2024-10-01T00:00:00.000000000', '2024-11-01T00:00:00.000000000',\n",
       "                           '2024-12-01T00:00:00.000000000'], dtype='datetime64[ns]'),\n",
       "               'y': {'bdata': ('EAmtei97nD8y1Yc/07eqP7fFM1sin4' ... 'YrJKA/hcoZWjFXkD+6innOkiycPw=='),\n",
       "                     'dtype': 'f8'}},\n",
       "              {'mode': 'lines+markers',\n",
       "               'name': 'dti (Train)',\n",
       "               'type': 'scatter',\n",
       "               'x': array(['2022-02-01T00:00:00.000000000', '2022-03-01T00:00:00.000000000',\n",
       "                           '2022-04-01T00:00:00.000000000', '2022-05-01T00:00:00.000000000',\n",
       "                           '2022-06-01T00:00:00.000000000', '2022-07-01T00:00:00.000000000',\n",
       "                           '2022-08-01T00:00:00.000000000', '2022-09-01T00:00:00.000000000',\n",
       "                           '2022-10-01T00:00:00.000000000', '2022-11-01T00:00:00.000000000',\n",
       "                           '2022-12-01T00:00:00.000000000', '2023-01-01T00:00:00.000000000',\n",
       "                           '2023-02-01T00:00:00.000000000', '2023-03-01T00:00:00.000000000',\n",
       "                           '2023-04-01T00:00:00.000000000', '2023-05-01T00:00:00.000000000',\n",
       "                           '2023-06-01T00:00:00.000000000', '2023-07-01T00:00:00.000000000',\n",
       "                           '2023-08-01T00:00:00.000000000', '2023-09-01T00:00:00.000000000',\n",
       "                           '2023-10-01T00:00:00.000000000', '2023-11-01T00:00:00.000000000',\n",
       "                           '2023-12-01T00:00:00.000000000', '2024-01-01T00:00:00.000000000',\n",
       "                           '2024-02-01T00:00:00.000000000', '2024-03-01T00:00:00.000000000',\n",
       "                           '2024-04-01T00:00:00.000000000', '2024-05-01T00:00:00.000000000',\n",
       "                           '2024-06-01T00:00:00.000000000', '2024-07-01T00:00:00.000000000',\n",
       "                           '2024-08-01T00:00:00.000000000', '2024-09-01T00:00:00.000000000',\n",
       "                           '2024-10-01T00:00:00.000000000', '2024-11-01T00:00:00.000000000',\n",
       "                           '2024-12-01T00:00:00.000000000'], dtype='datetime64[ns]'),\n",
       "               'y': {'bdata': ('6YKkWxyCiD9JiXOvgWiePwLvrIuZV4' ... 'Ek7pg/J73bD+apiT/eMToQRHehPw=='),\n",
       "                     'dtype': 'f8'}},\n",
       "              {'mode': 'lines+markers',\n",
       "               'name': 'fico_range_high (Test)',\n",
       "               'type': 'scatter',\n",
       "               'x': array(['2022-02-01T00:00:00.000000000', '2022-03-01T00:00:00.000000000',\n",
       "                           '2022-04-01T00:00:00.000000000', '2022-05-01T00:00:00.000000000',\n",
       "                           '2022-06-01T00:00:00.000000000', '2022-07-01T00:00:00.000000000',\n",
       "                           '2022-08-01T00:00:00.000000000', '2022-09-01T00:00:00.000000000',\n",
       "                           '2022-10-01T00:00:00.000000000', '2022-11-01T00:00:00.000000000',\n",
       "                           '2022-12-01T00:00:00.000000000', '2023-01-01T00:00:00.000000000',\n",
       "                           '2023-02-01T00:00:00.000000000', '2023-03-01T00:00:00.000000000',\n",
       "                           '2023-04-01T00:00:00.000000000', '2023-05-01T00:00:00.000000000',\n",
       "                           '2023-06-01T00:00:00.000000000', '2023-07-01T00:00:00.000000000',\n",
       "                           '2023-08-01T00:00:00.000000000', '2023-09-01T00:00:00.000000000',\n",
       "                           '2023-10-01T00:00:00.000000000', '2023-11-01T00:00:00.000000000',\n",
       "                           '2023-12-01T00:00:00.000000000', '2024-01-01T00:00:00.000000000',\n",
       "                           '2024-02-01T00:00:00.000000000', '2024-03-01T00:00:00.000000000',\n",
       "                           '2024-04-01T00:00:00.000000000', '2024-05-01T00:00:00.000000000',\n",
       "                           '2024-06-01T00:00:00.000000000', '2024-07-01T00:00:00.000000000',\n",
       "                           '2024-08-01T00:00:00.000000000', '2024-09-01T00:00:00.000000000',\n",
       "                           '2024-10-01T00:00:00.000000000', '2024-11-01T00:00:00.000000000',\n",
       "                           '2024-12-01T00:00:00.000000000'], dtype='datetime64[ns]'),\n",
       "               'y': {'bdata': ('WR0KD0u/iT9G7qubN/CbP/aRwcuY+q' ... 'Zk8JM/3EP8NedGdT9gpbtWkZajPw=='),\n",
       "                     'dtype': 'f8'}},\n",
       "              {'mode': 'lines+markers',\n",
       "               'name': 'fico_range_high (Train)',\n",
       "               'type': 'scatter',\n",
       "               'x': array(['2022-02-01T00:00:00.000000000', '2022-03-01T00:00:00.000000000',\n",
       "                           '2022-04-01T00:00:00.000000000', '2022-05-01T00:00:00.000000000',\n",
       "                           '2022-06-01T00:00:00.000000000', '2022-07-01T00:00:00.000000000',\n",
       "                           '2022-08-01T00:00:00.000000000', '2022-09-01T00:00:00.000000000',\n",
       "                           '2022-10-01T00:00:00.000000000', '2022-11-01T00:00:00.000000000',\n",
       "                           '2022-12-01T00:00:00.000000000', '2023-01-01T00:00:00.000000000',\n",
       "                           '2023-02-01T00:00:00.000000000', '2023-03-01T00:00:00.000000000',\n",
       "                           '2023-04-01T00:00:00.000000000', '2023-05-01T00:00:00.000000000',\n",
       "                           '2023-06-01T00:00:00.000000000', '2023-07-01T00:00:00.000000000',\n",
       "                           '2023-08-01T00:00:00.000000000', '2023-09-01T00:00:00.000000000',\n",
       "                           '2023-10-01T00:00:00.000000000', '2023-11-01T00:00:00.000000000',\n",
       "                           '2023-12-01T00:00:00.000000000', '2024-01-01T00:00:00.000000000',\n",
       "                           '2024-02-01T00:00:00.000000000', '2024-03-01T00:00:00.000000000',\n",
       "                           '2024-04-01T00:00:00.000000000', '2024-05-01T00:00:00.000000000',\n",
       "                           '2024-06-01T00:00:00.000000000', '2024-07-01T00:00:00.000000000',\n",
       "                           '2024-08-01T00:00:00.000000000', '2024-09-01T00:00:00.000000000',\n",
       "                           '2024-10-01T00:00:00.000000000', '2024-11-01T00:00:00.000000000',\n",
       "                           '2024-12-01T00:00:00.000000000'], dtype='datetime64[ns]'),\n",
       "               'y': {'bdata': ('7SzTvKmHkD9mgJ2qXjicPzl+SLNpFa' ... 'h2Z4Q//k0SPkCchj8YM8afvJGXPw=='),\n",
       "                     'dtype': 'f8'}},\n",
       "              {'mode': 'lines+markers',\n",
       "               'name': 'funded_amnt_inv (Test)',\n",
       "               'type': 'scatter',\n",
       "               'x': array(['2022-02-01T00:00:00.000000000', '2022-03-01T00:00:00.000000000',\n",
       "                           '2022-04-01T00:00:00.000000000', '2022-05-01T00:00:00.000000000',\n",
       "                           '2022-06-01T00:00:00.000000000', '2022-07-01T00:00:00.000000000',\n",
       "                           '2022-08-01T00:00:00.000000000', '2022-09-01T00:00:00.000000000',\n",
       "                           '2022-10-01T00:00:00.000000000', '2022-11-01T00:00:00.000000000',\n",
       "                           '2022-12-01T00:00:00.000000000', '2023-01-01T00:00:00.000000000',\n",
       "                           '2023-02-01T00:00:00.000000000', '2023-03-01T00:00:00.000000000',\n",
       "                           '2023-04-01T00:00:00.000000000', '2023-05-01T00:00:00.000000000',\n",
       "                           '2023-06-01T00:00:00.000000000', '2023-07-01T00:00:00.000000000',\n",
       "                           '2023-08-01T00:00:00.000000000', '2023-09-01T00:00:00.000000000',\n",
       "                           '2023-10-01T00:00:00.000000000', '2023-11-01T00:00:00.000000000',\n",
       "                           '2023-12-01T00:00:00.000000000', '2024-01-01T00:00:00.000000000',\n",
       "                           '2024-02-01T00:00:00.000000000', '2024-03-01T00:00:00.000000000',\n",
       "                           '2024-04-01T00:00:00.000000000', '2024-05-01T00:00:00.000000000',\n",
       "                           '2024-06-01T00:00:00.000000000', '2024-07-01T00:00:00.000000000',\n",
       "                           '2024-08-01T00:00:00.000000000', '2024-09-01T00:00:00.000000000',\n",
       "                           '2024-10-01T00:00:00.000000000', '2024-11-01T00:00:00.000000000',\n",
       "                           '2024-12-01T00:00:00.000000000'], dtype='datetime64[ns]'),\n",
       "               'y': {'bdata': ('8JTJOMZVlj+AB0SywnKpP286dJbZJa' ... 'LbXak/pJYV4FjPrT+a3PIh+Z2tPw=='),\n",
       "                     'dtype': 'f8'}},\n",
       "              {'mode': 'lines+markers',\n",
       "               'name': 'funded_amnt_inv (Train)',\n",
       "               'type': 'scatter',\n",
       "               'x': array(['2022-02-01T00:00:00.000000000', '2022-03-01T00:00:00.000000000',\n",
       "                           '2022-04-01T00:00:00.000000000', '2022-05-01T00:00:00.000000000',\n",
       "                           '2022-06-01T00:00:00.000000000', '2022-07-01T00:00:00.000000000',\n",
       "                           '2022-08-01T00:00:00.000000000', '2022-09-01T00:00:00.000000000',\n",
       "                           '2022-10-01T00:00:00.000000000', '2022-11-01T00:00:00.000000000',\n",
       "                           '2022-12-01T00:00:00.000000000', '2023-01-01T00:00:00.000000000',\n",
       "                           '2023-02-01T00:00:00.000000000', '2023-03-01T00:00:00.000000000',\n",
       "                           '2023-04-01T00:00:00.000000000', '2023-05-01T00:00:00.000000000',\n",
       "                           '2023-06-01T00:00:00.000000000', '2023-07-01T00:00:00.000000000',\n",
       "                           '2023-08-01T00:00:00.000000000', '2023-09-01T00:00:00.000000000',\n",
       "                           '2023-10-01T00:00:00.000000000', '2023-11-01T00:00:00.000000000',\n",
       "                           '2023-12-01T00:00:00.000000000', '2024-01-01T00:00:00.000000000',\n",
       "                           '2024-02-01T00:00:00.000000000', '2024-03-01T00:00:00.000000000',\n",
       "                           '2024-04-01T00:00:00.000000000', '2024-05-01T00:00:00.000000000',\n",
       "                           '2024-06-01T00:00:00.000000000', '2024-07-01T00:00:00.000000000',\n",
       "                           '2024-08-01T00:00:00.000000000', '2024-09-01T00:00:00.000000000',\n",
       "                           '2024-10-01T00:00:00.000000000', '2024-11-01T00:00:00.000000000',\n",
       "                           '2024-12-01T00:00:00.000000000'], dtype='datetime64[ns]'),\n",
       "               'y': {'bdata': ('Z3PMfUxJfj/Na/12H2yXP4F3tCR715' ... 'b79Yc/D0oLRCrdhz85vU4rac+XPw=='),\n",
       "                     'dtype': 'f8'}},\n",
       "              {'mode': 'lines+markers',\n",
       "               'name': 'last_fico_range_low (Test)',\n",
       "               'type': 'scatter',\n",
       "               'x': array(['2022-02-01T00:00:00.000000000', '2022-03-01T00:00:00.000000000',\n",
       "                           '2022-04-01T00:00:00.000000000', '2022-05-01T00:00:00.000000000',\n",
       "                           '2022-06-01T00:00:00.000000000', '2022-07-01T00:00:00.000000000',\n",
       "                           '2022-08-01T00:00:00.000000000', '2022-09-01T00:00:00.000000000',\n",
       "                           '2022-10-01T00:00:00.000000000', '2022-11-01T00:00:00.000000000',\n",
       "                           '2022-12-01T00:00:00.000000000', '2023-01-01T00:00:00.000000000',\n",
       "                           '2023-02-01T00:00:00.000000000', '2023-03-01T00:00:00.000000000',\n",
       "                           '2023-04-01T00:00:00.000000000', '2023-05-01T00:00:00.000000000',\n",
       "                           '2023-06-01T00:00:00.000000000', '2023-07-01T00:00:00.000000000',\n",
       "                           '2023-08-01T00:00:00.000000000', '2023-09-01T00:00:00.000000000',\n",
       "                           '2023-10-01T00:00:00.000000000', '2023-11-01T00:00:00.000000000',\n",
       "                           '2023-12-01T00:00:00.000000000', '2024-01-01T00:00:00.000000000',\n",
       "                           '2024-02-01T00:00:00.000000000', '2024-03-01T00:00:00.000000000',\n",
       "                           '2024-04-01T00:00:00.000000000', '2024-05-01T00:00:00.000000000',\n",
       "                           '2024-06-01T00:00:00.000000000', '2024-07-01T00:00:00.000000000',\n",
       "                           '2024-08-01T00:00:00.000000000', '2024-09-01T00:00:00.000000000',\n",
       "                           '2024-10-01T00:00:00.000000000', '2024-11-01T00:00:00.000000000',\n",
       "                           '2024-12-01T00:00:00.000000000'], dtype='datetime64[ns]'),\n",
       "               'y': {'bdata': ('YIyeA1BHlj8oqtrrOD6xP4BKDRVY7K' ... 'JoQZE/31srFcolkT8sN+fD5HOkPw=='),\n",
       "                     'dtype': 'f8'}},\n",
       "              {'mode': 'lines+markers',\n",
       "               'name': 'last_fico_range_low (Train)',\n",
       "               'type': 'scatter',\n",
       "               'x': array(['2022-02-01T00:00:00.000000000', '2022-03-01T00:00:00.000000000',\n",
       "                           '2022-04-01T00:00:00.000000000', '2022-05-01T00:00:00.000000000',\n",
       "                           '2022-06-01T00:00:00.000000000', '2022-07-01T00:00:00.000000000',\n",
       "                           '2022-08-01T00:00:00.000000000', '2022-09-01T00:00:00.000000000',\n",
       "                           '2022-10-01T00:00:00.000000000', '2022-11-01T00:00:00.000000000',\n",
       "                           '2022-12-01T00:00:00.000000000', '2023-01-01T00:00:00.000000000',\n",
       "                           '2023-02-01T00:00:00.000000000', '2023-03-01T00:00:00.000000000',\n",
       "                           '2023-04-01T00:00:00.000000000', '2023-05-01T00:00:00.000000000',\n",
       "                           '2023-06-01T00:00:00.000000000', '2023-07-01T00:00:00.000000000',\n",
       "                           '2023-08-01T00:00:00.000000000', '2023-09-01T00:00:00.000000000',\n",
       "                           '2023-10-01T00:00:00.000000000', '2023-11-01T00:00:00.000000000',\n",
       "                           '2023-12-01T00:00:00.000000000', '2024-01-01T00:00:00.000000000',\n",
       "                           '2024-02-01T00:00:00.000000000', '2024-03-01T00:00:00.000000000',\n",
       "                           '2024-04-01T00:00:00.000000000', '2024-05-01T00:00:00.000000000',\n",
       "                           '2024-06-01T00:00:00.000000000', '2024-07-01T00:00:00.000000000',\n",
       "                           '2024-08-01T00:00:00.000000000', '2024-09-01T00:00:00.000000000',\n",
       "                           '2024-10-01T00:00:00.000000000', '2024-11-01T00:00:00.000000000',\n",
       "                           '2024-12-01T00:00:00.000000000'], dtype='datetime64[ns]'),\n",
       "               'y': {'bdata': ('j/ygF1Yqaz8oip5XDk+NP5oe/x96FI' ... '/RQoo/rCW7/OdGkT/H1a8UdrKTPw=='),\n",
       "                     'dtype': 'f8'}},\n",
       "              {'mode': 'lines+markers',\n",
       "               'name': 'last_pymnt_amnt (Test)',\n",
       "               'type': 'scatter',\n",
       "               'x': array(['2022-02-01T00:00:00.000000000', '2022-03-01T00:00:00.000000000',\n",
       "                           '2022-04-01T00:00:00.000000000', '2022-05-01T00:00:00.000000000',\n",
       "                           '2022-06-01T00:00:00.000000000', '2022-07-01T00:00:00.000000000',\n",
       "                           '2022-08-01T00:00:00.000000000', '2022-09-01T00:00:00.000000000',\n",
       "                           '2022-10-01T00:00:00.000000000', '2022-11-01T00:00:00.000000000',\n",
       "                           '2022-12-01T00:00:00.000000000', '2023-01-01T00:00:00.000000000',\n",
       "                           '2023-02-01T00:00:00.000000000', '2023-03-01T00:00:00.000000000',\n",
       "                           '2023-04-01T00:00:00.000000000', '2023-05-01T00:00:00.000000000',\n",
       "                           '2023-06-01T00:00:00.000000000', '2023-07-01T00:00:00.000000000',\n",
       "                           '2023-08-01T00:00:00.000000000', '2023-09-01T00:00:00.000000000',\n",
       "                           '2023-10-01T00:00:00.000000000', '2023-11-01T00:00:00.000000000',\n",
       "                           '2023-12-01T00:00:00.000000000', '2024-01-01T00:00:00.000000000',\n",
       "                           '2024-02-01T00:00:00.000000000', '2024-03-01T00:00:00.000000000',\n",
       "                           '2024-04-01T00:00:00.000000000', '2024-05-01T00:00:00.000000000',\n",
       "                           '2024-06-01T00:00:00.000000000', '2024-07-01T00:00:00.000000000',\n",
       "                           '2024-08-01T00:00:00.000000000', '2024-09-01T00:00:00.000000000',\n",
       "                           '2024-10-01T00:00:00.000000000', '2024-11-01T00:00:00.000000000',\n",
       "                           '2024-12-01T00:00:00.000000000'], dtype='datetime64[ns]'),\n",
       "               'y': {'bdata': ('julosU8nij9YfmzwvIqXP86oycKfnp' ... 'XIF5Q/JKkVbyWtkD9RfF9EKLqvPw=='),\n",
       "                     'dtype': 'f8'}},\n",
       "              {'mode': 'lines+markers',\n",
       "               'name': 'last_pymnt_amnt (Train)',\n",
       "               'type': 'scatter',\n",
       "               'x': array(['2022-02-01T00:00:00.000000000', '2022-03-01T00:00:00.000000000',\n",
       "                           '2022-04-01T00:00:00.000000000', '2022-05-01T00:00:00.000000000',\n",
       "                           '2022-06-01T00:00:00.000000000', '2022-07-01T00:00:00.000000000',\n",
       "                           '2022-08-01T00:00:00.000000000', '2022-09-01T00:00:00.000000000',\n",
       "                           '2022-10-01T00:00:00.000000000', '2022-11-01T00:00:00.000000000',\n",
       "                           '2022-12-01T00:00:00.000000000', '2023-01-01T00:00:00.000000000',\n",
       "                           '2023-02-01T00:00:00.000000000', '2023-03-01T00:00:00.000000000',\n",
       "                           '2023-04-01T00:00:00.000000000', '2023-05-01T00:00:00.000000000',\n",
       "                           '2023-06-01T00:00:00.000000000', '2023-07-01T00:00:00.000000000',\n",
       "                           '2023-08-01T00:00:00.000000000', '2023-09-01T00:00:00.000000000',\n",
       "                           '2023-10-01T00:00:00.000000000', '2023-11-01T00:00:00.000000000',\n",
       "                           '2023-12-01T00:00:00.000000000', '2024-01-01T00:00:00.000000000',\n",
       "                           '2024-02-01T00:00:00.000000000', '2024-03-01T00:00:00.000000000',\n",
       "                           '2024-04-01T00:00:00.000000000', '2024-05-01T00:00:00.000000000',\n",
       "                           '2024-06-01T00:00:00.000000000', '2024-07-01T00:00:00.000000000',\n",
       "                           '2024-08-01T00:00:00.000000000', '2024-09-01T00:00:00.000000000',\n",
       "                           '2024-10-01T00:00:00.000000000', '2024-11-01T00:00:00.000000000',\n",
       "                           '2024-12-01T00:00:00.000000000'], dtype='datetime64[ns]'),\n",
       "               'y': {'bdata': ('4ouZTHACgT/jODBwCgmkP2IskSzE5J' ... 'khA4w/YRKFW2i2kz+wVEdWtOCcPw=='),\n",
       "                     'dtype': 'f8'}},\n",
       "              {'mode': 'lines+markers',\n",
       "               'name': 'mo_sin_old_rev_tl_op (Test)',\n",
       "               'type': 'scatter',\n",
       "               'x': array(['2022-02-01T00:00:00.000000000', '2022-03-01T00:00:00.000000000',\n",
       "                           '2022-04-01T00:00:00.000000000', '2022-05-01T00:00:00.000000000',\n",
       "                           '2022-06-01T00:00:00.000000000', '2022-07-01T00:00:00.000000000',\n",
       "                           '2022-08-01T00:00:00.000000000', '2022-09-01T00:00:00.000000000',\n",
       "                           '2022-10-01T00:00:00.000000000', '2022-11-01T00:00:00.000000000',\n",
       "                           '2022-12-01T00:00:00.000000000', '2023-01-01T00:00:00.000000000',\n",
       "                           '2023-02-01T00:00:00.000000000', '2023-03-01T00:00:00.000000000',\n",
       "                           '2023-04-01T00:00:00.000000000', '2023-05-01T00:00:00.000000000',\n",
       "                           '2023-06-01T00:00:00.000000000', '2023-07-01T00:00:00.000000000',\n",
       "                           '2023-08-01T00:00:00.000000000', '2023-09-01T00:00:00.000000000',\n",
       "                           '2023-10-01T00:00:00.000000000', '2023-11-01T00:00:00.000000000',\n",
       "                           '2023-12-01T00:00:00.000000000', '2024-01-01T00:00:00.000000000',\n",
       "                           '2024-02-01T00:00:00.000000000', '2024-03-01T00:00:00.000000000',\n",
       "                           '2024-04-01T00:00:00.000000000', '2024-05-01T00:00:00.000000000',\n",
       "                           '2024-06-01T00:00:00.000000000', '2024-07-01T00:00:00.000000000',\n",
       "                           '2024-08-01T00:00:00.000000000', '2024-09-01T00:00:00.000000000',\n",
       "                           '2024-10-01T00:00:00.000000000', '2024-11-01T00:00:00.000000000',\n",
       "                           '2024-12-01T00:00:00.000000000'], dtype='datetime64[ns]'),\n",
       "               'y': {'bdata': ('WOZokSxejD907CjSaH2tPyJ4Ddzy7q' ... 'iKV5M/fLwpIbZ3kT8g/MNZOOWYPw=='),\n",
       "                     'dtype': 'f8'}},\n",
       "              {'mode': 'lines+markers',\n",
       "               'name': 'mo_sin_old_rev_tl_op (Train)',\n",
       "               'type': 'scatter',\n",
       "               'x': array(['2022-02-01T00:00:00.000000000', '2022-03-01T00:00:00.000000000',\n",
       "                           '2022-04-01T00:00:00.000000000', '2022-05-01T00:00:00.000000000',\n",
       "                           '2022-06-01T00:00:00.000000000', '2022-07-01T00:00:00.000000000',\n",
       "                           '2022-08-01T00:00:00.000000000', '2022-09-01T00:00:00.000000000',\n",
       "                           '2022-10-01T00:00:00.000000000', '2022-11-01T00:00:00.000000000',\n",
       "                           '2022-12-01T00:00:00.000000000', '2023-01-01T00:00:00.000000000',\n",
       "                           '2023-02-01T00:00:00.000000000', '2023-03-01T00:00:00.000000000',\n",
       "                           '2023-04-01T00:00:00.000000000', '2023-05-01T00:00:00.000000000',\n",
       "                           '2023-06-01T00:00:00.000000000', '2023-07-01T00:00:00.000000000',\n",
       "                           '2023-08-01T00:00:00.000000000', '2023-09-01T00:00:00.000000000',\n",
       "                           '2023-10-01T00:00:00.000000000', '2023-11-01T00:00:00.000000000',\n",
       "                           '2023-12-01T00:00:00.000000000', '2024-01-01T00:00:00.000000000',\n",
       "                           '2024-02-01T00:00:00.000000000', '2024-03-01T00:00:00.000000000',\n",
       "                           '2024-04-01T00:00:00.000000000', '2024-05-01T00:00:00.000000000',\n",
       "                           '2024-06-01T00:00:00.000000000', '2024-07-01T00:00:00.000000000',\n",
       "                           '2024-08-01T00:00:00.000000000', '2024-09-01T00:00:00.000000000',\n",
       "                           '2024-10-01T00:00:00.000000000', '2024-11-01T00:00:00.000000000',\n",
       "                           '2024-12-01T00:00:00.000000000'], dtype='datetime64[ns]'),\n",
       "               'y': {'bdata': ('qqDPzacJiz9fVzCgsqR/P6uQf2pCwp' ... 'clh5g/FzsMS09UmD+5rYhol3+lPw=='),\n",
       "                     'dtype': 'f8'}},\n",
       "              {'mode': 'lines+markers',\n",
       "               'name': 'mo_sin_rcnt_rev_tl_op (Test)',\n",
       "               'type': 'scatter',\n",
       "               'x': array(['2022-02-01T00:00:00.000000000', '2022-03-01T00:00:00.000000000',\n",
       "                           '2022-04-01T00:00:00.000000000', '2022-05-01T00:00:00.000000000',\n",
       "                           '2022-06-01T00:00:00.000000000', '2022-07-01T00:00:00.000000000',\n",
       "                           '2022-08-01T00:00:00.000000000', '2022-09-01T00:00:00.000000000',\n",
       "                           '2022-10-01T00:00:00.000000000', '2022-11-01T00:00:00.000000000',\n",
       "                           '2022-12-01T00:00:00.000000000', '2023-01-01T00:00:00.000000000',\n",
       "                           '2023-02-01T00:00:00.000000000', '2023-03-01T00:00:00.000000000',\n",
       "                           '2023-04-01T00:00:00.000000000', '2023-05-01T00:00:00.000000000',\n",
       "                           '2023-06-01T00:00:00.000000000', '2023-07-01T00:00:00.000000000',\n",
       "                           '2023-08-01T00:00:00.000000000', '2023-09-01T00:00:00.000000000',\n",
       "                           '2023-10-01T00:00:00.000000000', '2023-11-01T00:00:00.000000000',\n",
       "                           '2023-12-01T00:00:00.000000000', '2024-01-01T00:00:00.000000000',\n",
       "                           '2024-02-01T00:00:00.000000000', '2024-03-01T00:00:00.000000000',\n",
       "                           '2024-04-01T00:00:00.000000000', '2024-05-01T00:00:00.000000000',\n",
       "                           '2024-06-01T00:00:00.000000000', '2024-07-01T00:00:00.000000000',\n",
       "                           '2024-08-01T00:00:00.000000000', '2024-09-01T00:00:00.000000000',\n",
       "                           '2024-10-01T00:00:00.000000000', '2024-11-01T00:00:00.000000000',\n",
       "                           '2024-12-01T00:00:00.000000000'], dtype='datetime64[ns]'),\n",
       "               'y': {'bdata': ('K7hi8x0kiD+3LeVtyHikP0Q8ATvGdq' ... 'dOwKI/Qpky4AkEoT+wk+z6DsWnPw=='),\n",
       "                     'dtype': 'f8'}},\n",
       "              {'mode': 'lines+markers',\n",
       "               'name': 'mo_sin_rcnt_rev_tl_op (Train)',\n",
       "               'type': 'scatter',\n",
       "               'x': array(['2022-02-01T00:00:00.000000000', '2022-03-01T00:00:00.000000000',\n",
       "                           '2022-04-01T00:00:00.000000000', '2022-05-01T00:00:00.000000000',\n",
       "                           '2022-06-01T00:00:00.000000000', '2022-07-01T00:00:00.000000000',\n",
       "                           '2022-08-01T00:00:00.000000000', '2022-09-01T00:00:00.000000000',\n",
       "                           '2022-10-01T00:00:00.000000000', '2022-11-01T00:00:00.000000000',\n",
       "                           '2022-12-01T00:00:00.000000000', '2023-01-01T00:00:00.000000000',\n",
       "                           '2023-02-01T00:00:00.000000000', '2023-03-01T00:00:00.000000000',\n",
       "                           '2023-04-01T00:00:00.000000000', '2023-05-01T00:00:00.000000000',\n",
       "                           '2023-06-01T00:00:00.000000000', '2023-07-01T00:00:00.000000000',\n",
       "                           '2023-08-01T00:00:00.000000000', '2023-09-01T00:00:00.000000000',\n",
       "                           '2023-10-01T00:00:00.000000000', '2023-11-01T00:00:00.000000000',\n",
       "                           '2023-12-01T00:00:00.000000000', '2024-01-01T00:00:00.000000000',\n",
       "                           '2024-02-01T00:00:00.000000000', '2024-03-01T00:00:00.000000000',\n",
       "                           '2024-04-01T00:00:00.000000000', '2024-05-01T00:00:00.000000000',\n",
       "                           '2024-06-01T00:00:00.000000000', '2024-07-01T00:00:00.000000000',\n",
       "                           '2024-08-01T00:00:00.000000000', '2024-09-01T00:00:00.000000000',\n",
       "                           '2024-10-01T00:00:00.000000000', '2024-11-01T00:00:00.000000000',\n",
       "                           '2024-12-01T00:00:00.000000000'], dtype='datetime64[ns]'),\n",
       "               'y': {'bdata': ('frHzNpvzhT92NTQZ98+bP8ICh8/7ZJ' ... 'KN0Ys/wCN/HNDSkj/T3580O8ekPw=='),\n",
       "                     'dtype': 'f8'}},\n",
       "              {'mode': 'lines+markers',\n",
       "               'name': 'mo_sin_rcnt_tl (Test)',\n",
       "               'type': 'scatter',\n",
       "               'x': array(['2022-02-01T00:00:00.000000000', '2022-03-01T00:00:00.000000000',\n",
       "                           '2022-04-01T00:00:00.000000000', '2022-05-01T00:00:00.000000000',\n",
       "                           '2022-06-01T00:00:00.000000000', '2022-07-01T00:00:00.000000000',\n",
       "                           '2022-08-01T00:00:00.000000000', '2022-09-01T00:00:00.000000000',\n",
       "                           '2022-10-01T00:00:00.000000000', '2022-11-01T00:00:00.000000000',\n",
       "                           '2022-12-01T00:00:00.000000000', '2023-01-01T00:00:00.000000000',\n",
       "                           '2023-02-01T00:00:00.000000000', '2023-03-01T00:00:00.000000000',\n",
       "                           '2023-04-01T00:00:00.000000000', '2023-05-01T00:00:00.000000000',\n",
       "                           '2023-06-01T00:00:00.000000000', '2023-07-01T00:00:00.000000000',\n",
       "                           '2023-08-01T00:00:00.000000000', '2023-09-01T00:00:00.000000000',\n",
       "                           '2023-10-01T00:00:00.000000000', '2023-11-01T00:00:00.000000000',\n",
       "                           '2023-12-01T00:00:00.000000000', '2024-01-01T00:00:00.000000000',\n",
       "                           '2024-02-01T00:00:00.000000000', '2024-03-01T00:00:00.000000000',\n",
       "                           '2024-04-01T00:00:00.000000000', '2024-05-01T00:00:00.000000000',\n",
       "                           '2024-06-01T00:00:00.000000000', '2024-07-01T00:00:00.000000000',\n",
       "                           '2024-08-01T00:00:00.000000000', '2024-09-01T00:00:00.000000000',\n",
       "                           '2024-10-01T00:00:00.000000000', '2024-11-01T00:00:00.000000000',\n",
       "                           '2024-12-01T00:00:00.000000000'], dtype='datetime64[ns]'),\n",
       "               'y': {'bdata': ('UZF9M31goT9/p0nD/sW5P8Z3W8RPy6' ... '+TKKs/FzrrRLKaoz/jZbvDX1yfPw=='),\n",
       "                     'dtype': 'f8'}},\n",
       "              {'mode': 'lines+markers',\n",
       "               'name': 'mo_sin_rcnt_tl (Train)',\n",
       "               'type': 'scatter',\n",
       "               'x': array(['2022-02-01T00:00:00.000000000', '2022-03-01T00:00:00.000000000',\n",
       "                           '2022-04-01T00:00:00.000000000', '2022-05-01T00:00:00.000000000',\n",
       "                           '2022-06-01T00:00:00.000000000', '2022-07-01T00:00:00.000000000',\n",
       "                           '2022-08-01T00:00:00.000000000', '2022-09-01T00:00:00.000000000',\n",
       "                           '2022-10-01T00:00:00.000000000', '2022-11-01T00:00:00.000000000',\n",
       "                           '2022-12-01T00:00:00.000000000', '2023-01-01T00:00:00.000000000',\n",
       "                           '2023-02-01T00:00:00.000000000', '2023-03-01T00:00:00.000000000',\n",
       "                           '2023-04-01T00:00:00.000000000', '2023-05-01T00:00:00.000000000',\n",
       "                           '2023-06-01T00:00:00.000000000', '2023-07-01T00:00:00.000000000',\n",
       "                           '2023-08-01T00:00:00.000000000', '2023-09-01T00:00:00.000000000',\n",
       "                           '2023-10-01T00:00:00.000000000', '2023-11-01T00:00:00.000000000',\n",
       "                           '2023-12-01T00:00:00.000000000', '2024-01-01T00:00:00.000000000',\n",
       "                           '2024-02-01T00:00:00.000000000', '2024-03-01T00:00:00.000000000',\n",
       "                           '2024-04-01T00:00:00.000000000', '2024-05-01T00:00:00.000000000',\n",
       "                           '2024-06-01T00:00:00.000000000', '2024-07-01T00:00:00.000000000',\n",
       "                           '2024-08-01T00:00:00.000000000', '2024-09-01T00:00:00.000000000',\n",
       "                           '2024-10-01T00:00:00.000000000', '2024-11-01T00:00:00.000000000',\n",
       "                           '2024-12-01T00:00:00.000000000'], dtype='datetime64[ns]'),\n",
       "               'y': {'bdata': ('0tINKqnZij8W7nIMcJSGPy4NvNk5tJ' ... 'FkRpE/2PhW4op4iz/mDAY4wC9/Pw=='),\n",
       "                     'dtype': 'f8'}},\n",
       "              {'mode': 'lines+markers',\n",
       "               'name': 'mort_acc (Test)',\n",
       "               'type': 'scatter',\n",
       "               'x': array(['2022-02-01T00:00:00.000000000', '2022-03-01T00:00:00.000000000',\n",
       "                           '2022-04-01T00:00:00.000000000', '2022-05-01T00:00:00.000000000',\n",
       "                           '2022-06-01T00:00:00.000000000', '2022-07-01T00:00:00.000000000',\n",
       "                           '2022-08-01T00:00:00.000000000', '2022-09-01T00:00:00.000000000',\n",
       "                           '2022-10-01T00:00:00.000000000', '2022-11-01T00:00:00.000000000',\n",
       "                           '2022-12-01T00:00:00.000000000', '2023-01-01T00:00:00.000000000',\n",
       "                           '2023-02-01T00:00:00.000000000', '2023-03-01T00:00:00.000000000',\n",
       "                           '2023-04-01T00:00:00.000000000', '2023-05-01T00:00:00.000000000',\n",
       "                           '2023-06-01T00:00:00.000000000', '2023-07-01T00:00:00.000000000',\n",
       "                           '2023-08-01T00:00:00.000000000', '2023-09-01T00:00:00.000000000',\n",
       "                           '2023-10-01T00:00:00.000000000', '2023-11-01T00:00:00.000000000',\n",
       "                           '2023-12-01T00:00:00.000000000', '2024-01-01T00:00:00.000000000',\n",
       "                           '2024-02-01T00:00:00.000000000', '2024-03-01T00:00:00.000000000',\n",
       "                           '2024-04-01T00:00:00.000000000', '2024-05-01T00:00:00.000000000',\n",
       "                           '2024-06-01T00:00:00.000000000', '2024-07-01T00:00:00.000000000',\n",
       "                           '2024-08-01T00:00:00.000000000', '2024-09-01T00:00:00.000000000',\n",
       "                           '2024-10-01T00:00:00.000000000', '2024-11-01T00:00:00.000000000',\n",
       "                           '2024-12-01T00:00:00.000000000'], dtype='datetime64[ns]'),\n",
       "               'y': {'bdata': ('br27X9LHhj/dUTZWM3+bP0ASPtHP5o' ... 'UvtZA/hypkd3MDdD/jtMt2ITaiPw=='),\n",
       "                     'dtype': 'f8'}},\n",
       "              {'mode': 'lines+markers',\n",
       "               'name': 'mort_acc (Train)',\n",
       "               'type': 'scatter',\n",
       "               'x': array(['2022-02-01T00:00:00.000000000', '2022-03-01T00:00:00.000000000',\n",
       "                           '2022-04-01T00:00:00.000000000', '2022-05-01T00:00:00.000000000',\n",
       "                           '2022-06-01T00:00:00.000000000', '2022-07-01T00:00:00.000000000',\n",
       "                           '2022-08-01T00:00:00.000000000', '2022-09-01T00:00:00.000000000',\n",
       "                           '2022-10-01T00:00:00.000000000', '2022-11-01T00:00:00.000000000',\n",
       "                           '2022-12-01T00:00:00.000000000', '2023-01-01T00:00:00.000000000',\n",
       "                           '2023-02-01T00:00:00.000000000', '2023-03-01T00:00:00.000000000',\n",
       "                           '2023-04-01T00:00:00.000000000', '2023-05-01T00:00:00.000000000',\n",
       "                           '2023-06-01T00:00:00.000000000', '2023-07-01T00:00:00.000000000',\n",
       "                           '2023-08-01T00:00:00.000000000', '2023-09-01T00:00:00.000000000',\n",
       "                           '2023-10-01T00:00:00.000000000', '2023-11-01T00:00:00.000000000',\n",
       "                           '2023-12-01T00:00:00.000000000', '2024-01-01T00:00:00.000000000',\n",
       "                           '2024-02-01T00:00:00.000000000', '2024-03-01T00:00:00.000000000',\n",
       "                           '2024-04-01T00:00:00.000000000', '2024-05-01T00:00:00.000000000',\n",
       "                           '2024-06-01T00:00:00.000000000', '2024-07-01T00:00:00.000000000',\n",
       "                           '2024-08-01T00:00:00.000000000', '2024-09-01T00:00:00.000000000',\n",
       "                           '2024-10-01T00:00:00.000000000', '2024-11-01T00:00:00.000000000',\n",
       "                           '2024-12-01T00:00:00.000000000'], dtype='datetime64[ns]'),\n",
       "               'y': {'bdata': ('ebB89pPReD+wPO/oBfuSP0aPbNW1BI' ... 'M+7o4/gVmDxyN6iT9Gq7mxBhyOPw=='),\n",
       "                     'dtype': 'f8'}},\n",
       "              {'mode': 'lines+markers',\n",
       "               'name': 'mths_since_recent_bc (Test)',\n",
       "               'type': 'scatter',\n",
       "               'x': array(['2022-02-01T00:00:00.000000000', '2022-03-01T00:00:00.000000000',\n",
       "                           '2022-04-01T00:00:00.000000000', '2022-05-01T00:00:00.000000000',\n",
       "                           '2022-06-01T00:00:00.000000000', '2022-07-01T00:00:00.000000000',\n",
       "                           '2022-08-01T00:00:00.000000000', '2022-09-01T00:00:00.000000000',\n",
       "                           '2022-10-01T00:00:00.000000000', '2022-11-01T00:00:00.000000000',\n",
       "                           '2022-12-01T00:00:00.000000000', '2023-01-01T00:00:00.000000000',\n",
       "                           '2023-02-01T00:00:00.000000000', '2023-03-01T00:00:00.000000000',\n",
       "                           '2023-04-01T00:00:00.000000000', '2023-05-01T00:00:00.000000000',\n",
       "                           '2023-06-01T00:00:00.000000000', '2023-07-01T00:00:00.000000000',\n",
       "                           '2023-08-01T00:00:00.000000000', '2023-09-01T00:00:00.000000000',\n",
       "                           '2023-10-01T00:00:00.000000000', '2023-11-01T00:00:00.000000000',\n",
       "                           '2023-12-01T00:00:00.000000000', '2024-01-01T00:00:00.000000000',\n",
       "                           '2024-02-01T00:00:00.000000000', '2024-03-01T00:00:00.000000000',\n",
       "                           '2024-04-01T00:00:00.000000000', '2024-05-01T00:00:00.000000000',\n",
       "                           '2024-06-01T00:00:00.000000000', '2024-07-01T00:00:00.000000000',\n",
       "                           '2024-08-01T00:00:00.000000000', '2024-09-01T00:00:00.000000000',\n",
       "                           '2024-10-01T00:00:00.000000000', '2024-11-01T00:00:00.000000000',\n",
       "                           '2024-12-01T00:00:00.000000000'], dtype='datetime64[ns]'),\n",
       "               'y': {'bdata': ('mzJEWYNjmT/GQtHJ1xWsP6bwFAthqq' ... 'eICpg/zIY3uvmdmz/E9HW6LEi0Pw=='),\n",
       "                     'dtype': 'f8'}},\n",
       "              {'mode': 'lines+markers',\n",
       "               'name': 'mths_since_recent_bc (Train)',\n",
       "               'type': 'scatter',\n",
       "               'x': array(['2022-02-01T00:00:00.000000000', '2022-03-01T00:00:00.000000000',\n",
       "                           '2022-04-01T00:00:00.000000000', '2022-05-01T00:00:00.000000000',\n",
       "                           '2022-06-01T00:00:00.000000000', '2022-07-01T00:00:00.000000000',\n",
       "                           '2022-08-01T00:00:00.000000000', '2022-09-01T00:00:00.000000000',\n",
       "                           '2022-10-01T00:00:00.000000000', '2022-11-01T00:00:00.000000000',\n",
       "                           '2022-12-01T00:00:00.000000000', '2023-01-01T00:00:00.000000000',\n",
       "                           '2023-02-01T00:00:00.000000000', '2023-03-01T00:00:00.000000000',\n",
       "                           '2023-04-01T00:00:00.000000000', '2023-05-01T00:00:00.000000000',\n",
       "                           '2023-06-01T00:00:00.000000000', '2023-07-01T00:00:00.000000000',\n",
       "                           '2023-08-01T00:00:00.000000000', '2023-09-01T00:00:00.000000000',\n",
       "                           '2023-10-01T00:00:00.000000000', '2023-11-01T00:00:00.000000000',\n",
       "                           '2023-12-01T00:00:00.000000000', '2024-01-01T00:00:00.000000000',\n",
       "                           '2024-02-01T00:00:00.000000000', '2024-03-01T00:00:00.000000000',\n",
       "                           '2024-04-01T00:00:00.000000000', '2024-05-01T00:00:00.000000000',\n",
       "                           '2024-06-01T00:00:00.000000000', '2024-07-01T00:00:00.000000000',\n",
       "                           '2024-08-01T00:00:00.000000000', '2024-09-01T00:00:00.000000000',\n",
       "                           '2024-10-01T00:00:00.000000000', '2024-11-01T00:00:00.000000000',\n",
       "                           '2024-12-01T00:00:00.000000000'], dtype='datetime64[ns]'),\n",
       "               'y': {'bdata': ('LTf19V4vhz90luJcbqOTP35HVgjIxY' ... 'UMr50/Qyj56jE0mD/qy1gNEM+wPw=='),\n",
       "                     'dtype': 'f8'}},\n",
       "              {'mode': 'lines+markers',\n",
       "               'name': 'mths_since_recent_inq (Test)',\n",
       "               'type': 'scatter',\n",
       "               'x': array(['2022-02-01T00:00:00.000000000', '2022-03-01T00:00:00.000000000',\n",
       "                           '2022-04-01T00:00:00.000000000', '2022-05-01T00:00:00.000000000',\n",
       "                           '2022-06-01T00:00:00.000000000', '2022-07-01T00:00:00.000000000',\n",
       "                           '2022-08-01T00:00:00.000000000', '2022-09-01T00:00:00.000000000',\n",
       "                           '2022-10-01T00:00:00.000000000', '2022-11-01T00:00:00.000000000',\n",
       "                           '2022-12-01T00:00:00.000000000', '2023-01-01T00:00:00.000000000',\n",
       "                           '2023-02-01T00:00:00.000000000', '2023-03-01T00:00:00.000000000',\n",
       "                           '2023-04-01T00:00:00.000000000', '2023-05-01T00:00:00.000000000',\n",
       "                           '2023-06-01T00:00:00.000000000', '2023-07-01T00:00:00.000000000',\n",
       "                           '2023-08-01T00:00:00.000000000', '2023-09-01T00:00:00.000000000',\n",
       "                           '2023-10-01T00:00:00.000000000', '2023-11-01T00:00:00.000000000',\n",
       "                           '2023-12-01T00:00:00.000000000', '2024-01-01T00:00:00.000000000',\n",
       "                           '2024-02-01T00:00:00.000000000', '2024-03-01T00:00:00.000000000',\n",
       "                           '2024-04-01T00:00:00.000000000', '2024-05-01T00:00:00.000000000',\n",
       "                           '2024-06-01T00:00:00.000000000', '2024-07-01T00:00:00.000000000',\n",
       "                           '2024-08-01T00:00:00.000000000', '2024-09-01T00:00:00.000000000',\n",
       "                           '2024-10-01T00:00:00.000000000', '2024-11-01T00:00:00.000000000',\n",
       "                           '2024-12-01T00:00:00.000000000'], dtype='datetime64[ns]'),\n",
       "               'y': {'bdata': ('IvVFKwZmfT8qPkMhJfKaPxb5LJ7rcI' ... 'ck+J4/cmOa8+lTsD9FskjZpVGrPw=='),\n",
       "                     'dtype': 'f8'}},\n",
       "              {'mode': 'lines+markers',\n",
       "               'name': 'mths_since_recent_inq (Train)',\n",
       "               'type': 'scatter',\n",
       "               'x': array(['2022-02-01T00:00:00.000000000', '2022-03-01T00:00:00.000000000',\n",
       "                           '2022-04-01T00:00:00.000000000', '2022-05-01T00:00:00.000000000',\n",
       "                           '2022-06-01T00:00:00.000000000', '2022-07-01T00:00:00.000000000',\n",
       "                           '2022-08-01T00:00:00.000000000', '2022-09-01T00:00:00.000000000',\n",
       "                           '2022-10-01T00:00:00.000000000', '2022-11-01T00:00:00.000000000',\n",
       "                           '2022-12-01T00:00:00.000000000', '2023-01-01T00:00:00.000000000',\n",
       "                           '2023-02-01T00:00:00.000000000', '2023-03-01T00:00:00.000000000',\n",
       "                           '2023-04-01T00:00:00.000000000', '2023-05-01T00:00:00.000000000',\n",
       "                           '2023-06-01T00:00:00.000000000', '2023-07-01T00:00:00.000000000',\n",
       "                           '2023-08-01T00:00:00.000000000', '2023-09-01T00:00:00.000000000',\n",
       "                           '2023-10-01T00:00:00.000000000', '2023-11-01T00:00:00.000000000',\n",
       "                           '2023-12-01T00:00:00.000000000', '2024-01-01T00:00:00.000000000',\n",
       "                           '2024-02-01T00:00:00.000000000', '2024-03-01T00:00:00.000000000',\n",
       "                           '2024-04-01T00:00:00.000000000', '2024-05-01T00:00:00.000000000',\n",
       "                           '2024-06-01T00:00:00.000000000', '2024-07-01T00:00:00.000000000',\n",
       "                           '2024-08-01T00:00:00.000000000', '2024-09-01T00:00:00.000000000',\n",
       "                           '2024-10-01T00:00:00.000000000', '2024-11-01T00:00:00.000000000',\n",
       "                           '2024-12-01T00:00:00.000000000'], dtype='datetime64[ns]'),\n",
       "               'y': {'bdata': ('jkPrWDuEaD+003UbcSKVP0Ii03L4/p' ... 'fYU48/iz5KKB/hij/r4FBXoziePw=='),\n",
       "                     'dtype': 'f8'}},\n",
       "              {'mode': 'lines+markers',\n",
       "               'name': 'num_tl_op_past_12m (Test)',\n",
       "               'type': 'scatter',\n",
       "               'x': array(['2022-02-01T00:00:00.000000000', '2022-03-01T00:00:00.000000000',\n",
       "                           '2022-04-01T00:00:00.000000000', '2022-05-01T00:00:00.000000000',\n",
       "                           '2022-06-01T00:00:00.000000000', '2022-07-01T00:00:00.000000000',\n",
       "                           '2022-08-01T00:00:00.000000000', '2022-09-01T00:00:00.000000000',\n",
       "                           '2022-10-01T00:00:00.000000000', '2022-11-01T00:00:00.000000000',\n",
       "                           '2022-12-01T00:00:00.000000000', '2023-01-01T00:00:00.000000000',\n",
       "                           '2023-02-01T00:00:00.000000000', '2023-03-01T00:00:00.000000000',\n",
       "                           '2023-04-01T00:00:00.000000000', '2023-05-01T00:00:00.000000000',\n",
       "                           '2023-06-01T00:00:00.000000000', '2023-07-01T00:00:00.000000000',\n",
       "                           '2023-08-01T00:00:00.000000000', '2023-09-01T00:00:00.000000000',\n",
       "                           '2023-10-01T00:00:00.000000000', '2023-11-01T00:00:00.000000000',\n",
       "                           '2023-12-01T00:00:00.000000000', '2024-01-01T00:00:00.000000000',\n",
       "                           '2024-02-01T00:00:00.000000000', '2024-03-01T00:00:00.000000000',\n",
       "                           '2024-04-01T00:00:00.000000000', '2024-05-01T00:00:00.000000000',\n",
       "                           '2024-06-01T00:00:00.000000000', '2024-07-01T00:00:00.000000000',\n",
       "                           '2024-08-01T00:00:00.000000000', '2024-09-01T00:00:00.000000000',\n",
       "                           '2024-10-01T00:00:00.000000000', '2024-11-01T00:00:00.000000000',\n",
       "                           '2024-12-01T00:00:00.000000000'], dtype='datetime64[ns]'),\n",
       "               'y': {'bdata': ('c6+sNIIKaz+zq5vzVgy/P6i2VmP6Ra' ... 'HfcYQ/XnLRxbaRgD9Ue6Z1DApnPw=='),\n",
       "                     'dtype': 'f8'}},\n",
       "              {'mode': 'lines+markers',\n",
       "               'name': 'num_tl_op_past_12m (Train)',\n",
       "               'type': 'scatter',\n",
       "               'x': array(['2022-02-01T00:00:00.000000000', '2022-03-01T00:00:00.000000000',\n",
       "                           '2022-04-01T00:00:00.000000000', '2022-05-01T00:00:00.000000000',\n",
       "                           '2022-06-01T00:00:00.000000000', '2022-07-01T00:00:00.000000000',\n",
       "                           '2022-08-01T00:00:00.000000000', '2022-09-01T00:00:00.000000000',\n",
       "                           '2022-10-01T00:00:00.000000000', '2022-11-01T00:00:00.000000000',\n",
       "                           '2022-12-01T00:00:00.000000000', '2023-01-01T00:00:00.000000000',\n",
       "                           '2023-02-01T00:00:00.000000000', '2023-03-01T00:00:00.000000000',\n",
       "                           '2023-04-01T00:00:00.000000000', '2023-05-01T00:00:00.000000000',\n",
       "                           '2023-06-01T00:00:00.000000000', '2023-07-01T00:00:00.000000000',\n",
       "                           '2023-08-01T00:00:00.000000000', '2023-09-01T00:00:00.000000000',\n",
       "                           '2023-10-01T00:00:00.000000000', '2023-11-01T00:00:00.000000000',\n",
       "                           '2023-12-01T00:00:00.000000000', '2024-01-01T00:00:00.000000000',\n",
       "                           '2024-02-01T00:00:00.000000000', '2024-03-01T00:00:00.000000000',\n",
       "                           '2024-04-01T00:00:00.000000000', '2024-05-01T00:00:00.000000000',\n",
       "                           '2024-06-01T00:00:00.000000000', '2024-07-01T00:00:00.000000000',\n",
       "                           '2024-08-01T00:00:00.000000000', '2024-09-01T00:00:00.000000000',\n",
       "                           '2024-10-01T00:00:00.000000000', '2024-11-01T00:00:00.000000000',\n",
       "                           '2024-12-01T00:00:00.000000000'], dtype='datetime64[ns]'),\n",
       "               'y': {'bdata': ('hwepd4gpZT/zOdaTe6yJP/axGbaXUG' ... 'CI1IY/Kulf8FYAdT+ok95rWXaOPw=='),\n",
       "                     'dtype': 'f8'}},\n",
       "              {'mode': 'lines+markers',\n",
       "               'name': 'out_prncp_inv (Test)',\n",
       "               'type': 'scatter',\n",
       "               'x': array(['2022-02-01T00:00:00.000000000', '2022-03-01T00:00:00.000000000',\n",
       "                           '2022-04-01T00:00:00.000000000', '2022-05-01T00:00:00.000000000',\n",
       "                           '2022-06-01T00:00:00.000000000', '2022-07-01T00:00:00.000000000',\n",
       "                           '2022-08-01T00:00:00.000000000', '2022-09-01T00:00:00.000000000',\n",
       "                           '2022-10-01T00:00:00.000000000', '2022-11-01T00:00:00.000000000',\n",
       "                           '2022-12-01T00:00:00.000000000', '2023-01-01T00:00:00.000000000',\n",
       "                           '2023-02-01T00:00:00.000000000', '2023-03-01T00:00:00.000000000',\n",
       "                           '2023-04-01T00:00:00.000000000', '2023-05-01T00:00:00.000000000',\n",
       "                           '2023-06-01T00:00:00.000000000', '2023-07-01T00:00:00.000000000',\n",
       "                           '2023-08-01T00:00:00.000000000', '2023-09-01T00:00:00.000000000',\n",
       "                           '2023-10-01T00:00:00.000000000', '2023-11-01T00:00:00.000000000',\n",
       "                           '2023-12-01T00:00:00.000000000', '2024-01-01T00:00:00.000000000',\n",
       "                           '2024-02-01T00:00:00.000000000', '2024-03-01T00:00:00.000000000',\n",
       "                           '2024-04-01T00:00:00.000000000', '2024-05-01T00:00:00.000000000',\n",
       "                           '2024-06-01T00:00:00.000000000', '2024-07-01T00:00:00.000000000',\n",
       "                           '2024-08-01T00:00:00.000000000', '2024-09-01T00:00:00.000000000',\n",
       "                           '2024-10-01T00:00:00.000000000', '2024-11-01T00:00:00.000000000',\n",
       "                           '2024-12-01T00:00:00.000000000'], dtype='datetime64[ns]'),\n",
       "               'y': {'bdata': ('F2s6C6qDCD/ukl5rprkCP40T6ezC5D' ... 'r27yc/QCz1QOsyFz8EsT9KHvx9Pw=='),\n",
       "                     'dtype': 'f8'}},\n",
       "              {'mode': 'lines+markers',\n",
       "               'name': 'out_prncp_inv (Train)',\n",
       "               'type': 'scatter',\n",
       "               'x': array(['2022-02-01T00:00:00.000000000', '2022-03-01T00:00:00.000000000',\n",
       "                           '2022-04-01T00:00:00.000000000', '2022-05-01T00:00:00.000000000',\n",
       "                           '2022-06-01T00:00:00.000000000', '2022-07-01T00:00:00.000000000',\n",
       "                           '2022-08-01T00:00:00.000000000', '2022-09-01T00:00:00.000000000',\n",
       "                           '2022-10-01T00:00:00.000000000', '2022-11-01T00:00:00.000000000',\n",
       "                           '2022-12-01T00:00:00.000000000', '2023-01-01T00:00:00.000000000',\n",
       "                           '2023-02-01T00:00:00.000000000', '2023-03-01T00:00:00.000000000',\n",
       "                           '2023-04-01T00:00:00.000000000', '2023-05-01T00:00:00.000000000',\n",
       "                           '2023-06-01T00:00:00.000000000', '2023-07-01T00:00:00.000000000',\n",
       "                           '2023-08-01T00:00:00.000000000', '2023-09-01T00:00:00.000000000',\n",
       "                           '2023-10-01T00:00:00.000000000', '2023-11-01T00:00:00.000000000',\n",
       "                           '2023-12-01T00:00:00.000000000', '2024-01-01T00:00:00.000000000',\n",
       "                           '2024-02-01T00:00:00.000000000', '2024-03-01T00:00:00.000000000',\n",
       "                           '2024-04-01T00:00:00.000000000', '2024-05-01T00:00:00.000000000',\n",
       "                           '2024-06-01T00:00:00.000000000', '2024-07-01T00:00:00.000000000',\n",
       "                           '2024-08-01T00:00:00.000000000', '2024-09-01T00:00:00.000000000',\n",
       "                           '2024-10-01T00:00:00.000000000', '2024-11-01T00:00:00.000000000',\n",
       "                           '2024-12-01T00:00:00.000000000'], dtype='datetime64[ns]'),\n",
       "               'y': {'bdata': ('UC9CLUw6VT8c968WjtdVPzoLfSxHni' ... 'fmOOs+DFtAeZhmIz+6mkIrYXNQPw=='),\n",
       "                     'dtype': 'f8'}},\n",
       "              {'mode': 'lines+markers',\n",
       "               'name': 'percent_bc_gt_75 (Test)',\n",
       "               'type': 'scatter',\n",
       "               'x': array(['2022-02-01T00:00:00.000000000', '2022-03-01T00:00:00.000000000',\n",
       "                           '2022-04-01T00:00:00.000000000', '2022-05-01T00:00:00.000000000',\n",
       "                           '2022-06-01T00:00:00.000000000', '2022-07-01T00:00:00.000000000',\n",
       "                           '2022-08-01T00:00:00.000000000', '2022-09-01T00:00:00.000000000',\n",
       "                           '2022-10-01T00:00:00.000000000', '2022-11-01T00:00:00.000000000',\n",
       "                           '2022-12-01T00:00:00.000000000', '2023-01-01T00:00:00.000000000',\n",
       "                           '2023-02-01T00:00:00.000000000', '2023-03-01T00:00:00.000000000',\n",
       "                           '2023-04-01T00:00:00.000000000', '2023-05-01T00:00:00.000000000',\n",
       "                           '2023-06-01T00:00:00.000000000', '2023-07-01T00:00:00.000000000',\n",
       "                           '2023-08-01T00:00:00.000000000', '2023-09-01T00:00:00.000000000',\n",
       "                           '2023-10-01T00:00:00.000000000', '2023-11-01T00:00:00.000000000',\n",
       "                           '2023-12-01T00:00:00.000000000', '2024-01-01T00:00:00.000000000',\n",
       "                           '2024-02-01T00:00:00.000000000', '2024-03-01T00:00:00.000000000',\n",
       "                           '2024-04-01T00:00:00.000000000', '2024-05-01T00:00:00.000000000',\n",
       "                           '2024-06-01T00:00:00.000000000', '2024-07-01T00:00:00.000000000',\n",
       "                           '2024-08-01T00:00:00.000000000', '2024-09-01T00:00:00.000000000',\n",
       "                           '2024-10-01T00:00:00.000000000', '2024-11-01T00:00:00.000000000',\n",
       "                           '2024-12-01T00:00:00.000000000'], dtype='datetime64[ns]'),\n",
       "               'y': {'bdata': ('mAv+pzzYiD9D6zTpA7meP9Z/yhHiKq' ... 'FNX48/EW0cLdFZez+YHSDJcECVPw=='),\n",
       "                     'dtype': 'f8'}},\n",
       "              {'mode': 'lines+markers',\n",
       "               'name': 'percent_bc_gt_75 (Train)',\n",
       "               'type': 'scatter',\n",
       "               'x': array(['2022-02-01T00:00:00.000000000', '2022-03-01T00:00:00.000000000',\n",
       "                           '2022-04-01T00:00:00.000000000', '2022-05-01T00:00:00.000000000',\n",
       "                           '2022-06-01T00:00:00.000000000', '2022-07-01T00:00:00.000000000',\n",
       "                           '2022-08-01T00:00:00.000000000', '2022-09-01T00:00:00.000000000',\n",
       "                           '2022-10-01T00:00:00.000000000', '2022-11-01T00:00:00.000000000',\n",
       "                           '2022-12-01T00:00:00.000000000', '2023-01-01T00:00:00.000000000',\n",
       "                           '2023-02-01T00:00:00.000000000', '2023-03-01T00:00:00.000000000',\n",
       "                           '2023-04-01T00:00:00.000000000', '2023-05-01T00:00:00.000000000',\n",
       "                           '2023-06-01T00:00:00.000000000', '2023-07-01T00:00:00.000000000',\n",
       "                           '2023-08-01T00:00:00.000000000', '2023-09-01T00:00:00.000000000',\n",
       "                           '2023-10-01T00:00:00.000000000', '2023-11-01T00:00:00.000000000',\n",
       "                           '2023-12-01T00:00:00.000000000', '2024-01-01T00:00:00.000000000',\n",
       "                           '2024-02-01T00:00:00.000000000', '2024-03-01T00:00:00.000000000',\n",
       "                           '2024-04-01T00:00:00.000000000', '2024-05-01T00:00:00.000000000',\n",
       "                           '2024-06-01T00:00:00.000000000', '2024-07-01T00:00:00.000000000',\n",
       "                           '2024-08-01T00:00:00.000000000', '2024-09-01T00:00:00.000000000',\n",
       "                           '2024-10-01T00:00:00.000000000', '2024-11-01T00:00:00.000000000',\n",
       "                           '2024-12-01T00:00:00.000000000'], dtype='datetime64[ns]'),\n",
       "               'y': {'bdata': ('OTJp4LAuej+MbLjAL7iBP2UfJsLWSa' ... 'YL/G8/l7ZKR2OfgD+1F4ZfEPGePw=='),\n",
       "                     'dtype': 'f8'}},\n",
       "              {'mode': 'lines+markers',\n",
       "               'name': 'total_bc_limit (Test)',\n",
       "               'type': 'scatter',\n",
       "               'x': array(['2022-02-01T00:00:00.000000000', '2022-03-01T00:00:00.000000000',\n",
       "                           '2022-04-01T00:00:00.000000000', '2022-05-01T00:00:00.000000000',\n",
       "                           '2022-06-01T00:00:00.000000000', '2022-07-01T00:00:00.000000000',\n",
       "                           '2022-08-01T00:00:00.000000000', '2022-09-01T00:00:00.000000000',\n",
       "                           '2022-10-01T00:00:00.000000000', '2022-11-01T00:00:00.000000000',\n",
       "                           '2022-12-01T00:00:00.000000000', '2023-01-01T00:00:00.000000000',\n",
       "                           '2023-02-01T00:00:00.000000000', '2023-03-01T00:00:00.000000000',\n",
       "                           '2023-04-01T00:00:00.000000000', '2023-05-01T00:00:00.000000000',\n",
       "                           '2023-06-01T00:00:00.000000000', '2023-07-01T00:00:00.000000000',\n",
       "                           '2023-08-01T00:00:00.000000000', '2023-09-01T00:00:00.000000000',\n",
       "                           '2023-10-01T00:00:00.000000000', '2023-11-01T00:00:00.000000000',\n",
       "                           '2023-12-01T00:00:00.000000000', '2024-01-01T00:00:00.000000000',\n",
       "                           '2024-02-01T00:00:00.000000000', '2024-03-01T00:00:00.000000000',\n",
       "                           '2024-04-01T00:00:00.000000000', '2024-05-01T00:00:00.000000000',\n",
       "                           '2024-06-01T00:00:00.000000000', '2024-07-01T00:00:00.000000000',\n",
       "                           '2024-08-01T00:00:00.000000000', '2024-09-01T00:00:00.000000000',\n",
       "                           '2024-10-01T00:00:00.000000000', '2024-11-01T00:00:00.000000000',\n",
       "                           '2024-12-01T00:00:00.000000000'], dtype='datetime64[ns]'),\n",
       "               'y': {'bdata': ('yrZWuVqkgD+GbhgIU/uXP4CDk9Jbaq' ... 'DdxZA/Do3gSQJEmz/NSNIlaV2hPw=='),\n",
       "                     'dtype': 'f8'}},\n",
       "              {'mode': 'lines+markers',\n",
       "               'name': 'total_bc_limit (Train)',\n",
       "               'type': 'scatter',\n",
       "               'x': array(['2022-02-01T00:00:00.000000000', '2022-03-01T00:00:00.000000000',\n",
       "                           '2022-04-01T00:00:00.000000000', '2022-05-01T00:00:00.000000000',\n",
       "                           '2022-06-01T00:00:00.000000000', '2022-07-01T00:00:00.000000000',\n",
       "                           '2022-08-01T00:00:00.000000000', '2022-09-01T00:00:00.000000000',\n",
       "                           '2022-10-01T00:00:00.000000000', '2022-11-01T00:00:00.000000000',\n",
       "                           '2022-12-01T00:00:00.000000000', '2023-01-01T00:00:00.000000000',\n",
       "                           '2023-02-01T00:00:00.000000000', '2023-03-01T00:00:00.000000000',\n",
       "                           '2023-04-01T00:00:00.000000000', '2023-05-01T00:00:00.000000000',\n",
       "                           '2023-06-01T00:00:00.000000000', '2023-07-01T00:00:00.000000000',\n",
       "                           '2023-08-01T00:00:00.000000000', '2023-09-01T00:00:00.000000000',\n",
       "                           '2023-10-01T00:00:00.000000000', '2023-11-01T00:00:00.000000000',\n",
       "                           '2023-12-01T00:00:00.000000000', '2024-01-01T00:00:00.000000000',\n",
       "                           '2024-02-01T00:00:00.000000000', '2024-03-01T00:00:00.000000000',\n",
       "                           '2024-04-01T00:00:00.000000000', '2024-05-01T00:00:00.000000000',\n",
       "                           '2024-06-01T00:00:00.000000000', '2024-07-01T00:00:00.000000000',\n",
       "                           '2024-08-01T00:00:00.000000000', '2024-09-01T00:00:00.000000000',\n",
       "                           '2024-10-01T00:00:00.000000000', '2024-11-01T00:00:00.000000000',\n",
       "                           '2024-12-01T00:00:00.000000000'], dtype='datetime64[ns]'),\n",
       "               'y': {'bdata': ('mW+CZrCjez+zH3lBXGuNPyUythr1cJ' ... 'hBboE/tY36p4/gjD8SGuNNEHOWPw=='),\n",
       "                     'dtype': 'f8'}},\n",
       "              {'mode': 'lines+markers',\n",
       "               'name': 'total_rec_prncp (Test)',\n",
       "               'type': 'scatter',\n",
       "               'x': array(['2022-02-01T00:00:00.000000000', '2022-03-01T00:00:00.000000000',\n",
       "                           '2022-04-01T00:00:00.000000000', '2022-05-01T00:00:00.000000000',\n",
       "                           '2022-06-01T00:00:00.000000000', '2022-07-01T00:00:00.000000000',\n",
       "                           '2022-08-01T00:00:00.000000000', '2022-09-01T00:00:00.000000000',\n",
       "                           '2022-10-01T00:00:00.000000000', '2022-11-01T00:00:00.000000000',\n",
       "                           '2022-12-01T00:00:00.000000000', '2023-01-01T00:00:00.000000000',\n",
       "                           '2023-02-01T00:00:00.000000000', '2023-03-01T00:00:00.000000000',\n",
       "                           '2023-04-01T00:00:00.000000000', '2023-05-01T00:00:00.000000000',\n",
       "                           '2023-06-01T00:00:00.000000000', '2023-07-01T00:00:00.000000000',\n",
       "                           '2023-08-01T00:00:00.000000000', '2023-09-01T00:00:00.000000000',\n",
       "                           '2023-10-01T00:00:00.000000000', '2023-11-01T00:00:00.000000000',\n",
       "                           '2023-12-01T00:00:00.000000000', '2024-01-01T00:00:00.000000000',\n",
       "                           '2024-02-01T00:00:00.000000000', '2024-03-01T00:00:00.000000000',\n",
       "                           '2024-04-01T00:00:00.000000000', '2024-05-01T00:00:00.000000000',\n",
       "                           '2024-06-01T00:00:00.000000000', '2024-07-01T00:00:00.000000000',\n",
       "                           '2024-08-01T00:00:00.000000000', '2024-09-01T00:00:00.000000000',\n",
       "                           '2024-10-01T00:00:00.000000000', '2024-11-01T00:00:00.000000000',\n",
       "                           '2024-12-01T00:00:00.000000000'], dtype='datetime64[ns]'),\n",
       "               'y': {'bdata': ('LUFrqEALnj9mEqk7786mP4H+HfNdk6' ... 'AOEZA/w/P5Q/dwkT/w20CB1/aoPw=='),\n",
       "                     'dtype': 'f8'}},\n",
       "              {'mode': 'lines+markers',\n",
       "               'name': 'total_rec_prncp (Train)',\n",
       "               'type': 'scatter',\n",
       "               'x': array(['2022-02-01T00:00:00.000000000', '2022-03-01T00:00:00.000000000',\n",
       "                           '2022-04-01T00:00:00.000000000', '2022-05-01T00:00:00.000000000',\n",
       "                           '2022-06-01T00:00:00.000000000', '2022-07-01T00:00:00.000000000',\n",
       "                           '2022-08-01T00:00:00.000000000', '2022-09-01T00:00:00.000000000',\n",
       "                           '2022-10-01T00:00:00.000000000', '2022-11-01T00:00:00.000000000',\n",
       "                           '2022-12-01T00:00:00.000000000', '2023-01-01T00:00:00.000000000',\n",
       "                           '2023-02-01T00:00:00.000000000', '2023-03-01T00:00:00.000000000',\n",
       "                           '2023-04-01T00:00:00.000000000', '2023-05-01T00:00:00.000000000',\n",
       "                           '2023-06-01T00:00:00.000000000', '2023-07-01T00:00:00.000000000',\n",
       "                           '2023-08-01T00:00:00.000000000', '2023-09-01T00:00:00.000000000',\n",
       "                           '2023-10-01T00:00:00.000000000', '2023-11-01T00:00:00.000000000',\n",
       "                           '2023-12-01T00:00:00.000000000', '2024-01-01T00:00:00.000000000',\n",
       "                           '2024-02-01T00:00:00.000000000', '2024-03-01T00:00:00.000000000',\n",
       "                           '2024-04-01T00:00:00.000000000', '2024-05-01T00:00:00.000000000',\n",
       "                           '2024-06-01T00:00:00.000000000', '2024-07-01T00:00:00.000000000',\n",
       "                           '2024-08-01T00:00:00.000000000', '2024-09-01T00:00:00.000000000',\n",
       "                           '2024-10-01T00:00:00.000000000', '2024-11-01T00:00:00.000000000',\n",
       "                           '2024-12-01T00:00:00.000000000'], dtype='datetime64[ns]'),\n",
       "               'y': {'bdata': ('t0FRplalhT/vhH5p2FqMP8N1kMFIe5' ... 'vKRY8/iUzEDQNzqT/XSB8cRyqHPw=='),\n",
       "                     'dtype': 'f8'}},\n",
       "              {'mode': 'lines+markers',\n",
       "               'name': 'y_pred_label (Test)',\n",
       "               'type': 'scatter',\n",
       "               'x': array(['2022-02-01T00:00:00.000000000', '2022-03-01T00:00:00.000000000',\n",
       "                           '2022-04-01T00:00:00.000000000', '2022-05-01T00:00:00.000000000',\n",
       "                           '2022-06-01T00:00:00.000000000', '2022-07-01T00:00:00.000000000',\n",
       "                           '2022-08-01T00:00:00.000000000', '2022-09-01T00:00:00.000000000',\n",
       "                           '2022-10-01T00:00:00.000000000', '2022-11-01T00:00:00.000000000',\n",
       "                           '2022-12-01T00:00:00.000000000', '2023-01-01T00:00:00.000000000',\n",
       "                           '2023-02-01T00:00:00.000000000', '2023-03-01T00:00:00.000000000',\n",
       "                           '2023-04-01T00:00:00.000000000', '2023-05-01T00:00:00.000000000',\n",
       "                           '2023-06-01T00:00:00.000000000', '2023-07-01T00:00:00.000000000',\n",
       "                           '2023-08-01T00:00:00.000000000', '2023-09-01T00:00:00.000000000',\n",
       "                           '2023-10-01T00:00:00.000000000', '2023-11-01T00:00:00.000000000',\n",
       "                           '2023-12-01T00:00:00.000000000', '2024-01-01T00:00:00.000000000',\n",
       "                           '2024-02-01T00:00:00.000000000', '2024-03-01T00:00:00.000000000',\n",
       "                           '2024-04-01T00:00:00.000000000', '2024-05-01T00:00:00.000000000',\n",
       "                           '2024-06-01T00:00:00.000000000', '2024-07-01T00:00:00.000000000',\n",
       "                           '2024-08-01T00:00:00.000000000', '2024-09-01T00:00:00.000000000',\n",
       "                           '2024-10-01T00:00:00.000000000', '2024-11-01T00:00:00.000000000',\n",
       "                           '2024-12-01T00:00:00.000000000'], dtype='datetime64[ns]'),\n",
       "               'y': {'bdata': ('AAAAAAAAAAAAAAAAAAAAAAAAAAAAAA' ... 'AAAAAAAAAAAAAAAAAAAAAAAAAAAA=='),\n",
       "                     'dtype': 'f8'}},\n",
       "              {'mode': 'lines+markers',\n",
       "               'name': 'y_pred_label (Train)',\n",
       "               'type': 'scatter',\n",
       "               'x': array(['2022-02-01T00:00:00.000000000', '2022-03-01T00:00:00.000000000',\n",
       "                           '2022-04-01T00:00:00.000000000', '2022-05-01T00:00:00.000000000',\n",
       "                           '2022-06-01T00:00:00.000000000', '2022-07-01T00:00:00.000000000',\n",
       "                           '2022-08-01T00:00:00.000000000', '2022-09-01T00:00:00.000000000',\n",
       "                           '2022-10-01T00:00:00.000000000', '2022-11-01T00:00:00.000000000',\n",
       "                           '2022-12-01T00:00:00.000000000', '2023-01-01T00:00:00.000000000',\n",
       "                           '2023-02-01T00:00:00.000000000', '2023-03-01T00:00:00.000000000',\n",
       "                           '2023-04-01T00:00:00.000000000', '2023-05-01T00:00:00.000000000',\n",
       "                           '2023-06-01T00:00:00.000000000', '2023-07-01T00:00:00.000000000',\n",
       "                           '2023-08-01T00:00:00.000000000', '2023-09-01T00:00:00.000000000',\n",
       "                           '2023-10-01T00:00:00.000000000', '2023-11-01T00:00:00.000000000',\n",
       "                           '2023-12-01T00:00:00.000000000', '2024-01-01T00:00:00.000000000',\n",
       "                           '2024-02-01T00:00:00.000000000', '2024-03-01T00:00:00.000000000',\n",
       "                           '2024-04-01T00:00:00.000000000', '2024-05-01T00:00:00.000000000',\n",
       "                           '2024-06-01T00:00:00.000000000', '2024-07-01T00:00:00.000000000',\n",
       "                           '2024-08-01T00:00:00.000000000', '2024-09-01T00:00:00.000000000',\n",
       "                           '2024-10-01T00:00:00.000000000', '2024-11-01T00:00:00.000000000',\n",
       "                           '2024-12-01T00:00:00.000000000'], dtype='datetime64[ns]'),\n",
       "               'y': {'bdata': ('AAAAAAAAAAAAAAAAAAAAAAAAAAAAAA' ... 'AAAAAAAAAAAAAAAAAAAAAAAAAAAA=='),\n",
       "                     'dtype': 'f8'}},\n",
       "              {'mode': 'lines+markers',\n",
       "               'name': 'y_pred_proba (Test)',\n",
       "               'type': 'scatter',\n",
       "               'x': array(['2022-02-01T00:00:00.000000000', '2022-03-01T00:00:00.000000000',\n",
       "                           '2022-04-01T00:00:00.000000000', '2022-05-01T00:00:00.000000000',\n",
       "                           '2022-06-01T00:00:00.000000000', '2022-07-01T00:00:00.000000000',\n",
       "                           '2022-08-01T00:00:00.000000000', '2022-09-01T00:00:00.000000000',\n",
       "                           '2022-10-01T00:00:00.000000000', '2022-11-01T00:00:00.000000000',\n",
       "                           '2022-12-01T00:00:00.000000000', '2023-01-01T00:00:00.000000000',\n",
       "                           '2023-02-01T00:00:00.000000000', '2023-03-01T00:00:00.000000000',\n",
       "                           '2023-04-01T00:00:00.000000000', '2023-05-01T00:00:00.000000000',\n",
       "                           '2023-06-01T00:00:00.000000000', '2023-07-01T00:00:00.000000000',\n",
       "                           '2023-08-01T00:00:00.000000000', '2023-09-01T00:00:00.000000000',\n",
       "                           '2023-10-01T00:00:00.000000000', '2023-11-01T00:00:00.000000000',\n",
       "                           '2023-12-01T00:00:00.000000000', '2024-01-01T00:00:00.000000000',\n",
       "                           '2024-02-01T00:00:00.000000000', '2024-03-01T00:00:00.000000000',\n",
       "                           '2024-04-01T00:00:00.000000000', '2024-05-01T00:00:00.000000000',\n",
       "                           '2024-06-01T00:00:00.000000000', '2024-07-01T00:00:00.000000000',\n",
       "                           '2024-08-01T00:00:00.000000000', '2024-09-01T00:00:00.000000000',\n",
       "                           '2024-10-01T00:00:00.000000000', '2024-11-01T00:00:00.000000000',\n",
       "                           '2024-12-01T00:00:00.000000000'], dtype='datetime64[ns]'),\n",
       "               'y': {'bdata': ('AMBv9QmhuT9M6wtLoc6WPypo7WaHjZ' ... 'iExqA/RP49M+vyhj8m1DPEtTOwPw=='),\n",
       "                     'dtype': 'f8'}},\n",
       "              {'mode': 'lines+markers',\n",
       "               'name': 'y_pred_proba (Train)',\n",
       "               'type': 'scatter',\n",
       "               'x': array(['2022-02-01T00:00:00.000000000', '2022-03-01T00:00:00.000000000',\n",
       "                           '2022-04-01T00:00:00.000000000', '2022-05-01T00:00:00.000000000',\n",
       "                           '2022-06-01T00:00:00.000000000', '2022-07-01T00:00:00.000000000',\n",
       "                           '2022-08-01T00:00:00.000000000', '2022-09-01T00:00:00.000000000',\n",
       "                           '2022-10-01T00:00:00.000000000', '2022-11-01T00:00:00.000000000',\n",
       "                           '2022-12-01T00:00:00.000000000', '2023-01-01T00:00:00.000000000',\n",
       "                           '2023-02-01T00:00:00.000000000', '2023-03-01T00:00:00.000000000',\n",
       "                           '2023-04-01T00:00:00.000000000', '2023-05-01T00:00:00.000000000',\n",
       "                           '2023-06-01T00:00:00.000000000', '2023-07-01T00:00:00.000000000',\n",
       "                           '2023-08-01T00:00:00.000000000', '2023-09-01T00:00:00.000000000',\n",
       "                           '2023-10-01T00:00:00.000000000', '2023-11-01T00:00:00.000000000',\n",
       "                           '2023-12-01T00:00:00.000000000', '2024-01-01T00:00:00.000000000',\n",
       "                           '2024-02-01T00:00:00.000000000', '2024-03-01T00:00:00.000000000',\n",
       "                           '2024-04-01T00:00:00.000000000', '2024-05-01T00:00:00.000000000',\n",
       "                           '2024-06-01T00:00:00.000000000', '2024-07-01T00:00:00.000000000',\n",
       "                           '2024-08-01T00:00:00.000000000', '2024-09-01T00:00:00.000000000',\n",
       "                           '2024-10-01T00:00:00.000000000', '2024-11-01T00:00:00.000000000',\n",
       "                           '2024-12-01T00:00:00.000000000'], dtype='datetime64[ns]'),\n",
       "               'y': {'bdata': ('WcBb9SRfwz9Y+5UL/6uLP3LbTwyuDo' ... '8325A/8AJyqpRNkj8KTsTY5l2rPw=='),\n",
       "                     'dtype': 'f8'}}],\n",
       "     'layout': {'annotations': [{'showarrow': False,\n",
       "                                 'text': '0.10',\n",
       "                                 'x': 1,\n",
       "                                 'xanchor': 'right',\n",
       "                                 'xref': 'x domain',\n",
       "                                 'y': 0.1,\n",
       "                                 'yanchor': 'bottom',\n",
       "                                 'yref': 'y'},\n",
       "                                {'showarrow': False,\n",
       "                                 'text': '0.25',\n",
       "                                 'x': 1,\n",
       "                                 'xanchor': 'right',\n",
       "                                 'xref': 'x domain',\n",
       "                                 'y': 0.25,\n",
       "                                 'yanchor': 'bottom',\n",
       "                                 'yref': 'y'}],\n",
       "                'shapes': [{'line': {'color': 'orange', 'dash': 'dash'},\n",
       "                            'type': 'line',\n",
       "                            'x0': 0,\n",
       "                            'x1': 1,\n",
       "                            'xref': 'x domain',\n",
       "                            'y0': 0.1,\n",
       "                            'y1': 0.1,\n",
       "                            'yref': 'y'},\n",
       "                           {'line': {'color': 'red', 'dash': 'dash'},\n",
       "                            'type': 'line',\n",
       "                            'x0': 0,\n",
       "                            'x1': 1,\n",
       "                            'xref': 'x domain',\n",
       "                            'y0': 0.25,\n",
       "                            'y1': 0.25,\n",
       "                            'yref': 'y'}],\n",
       "                'template': '...',\n",
       "                'title': {'text': 'PSI over Time by Variable'},\n",
       "                'xaxis': {'title': {'text': 'Period'}},\n",
       "                'yaxis': {'title': {'text': 'Population Stability Index'}}}\n",
       " }),\n",
       "                 Variable     Period       PSI  Split reference_type\n",
       " 0        funded_amnt_inv 2022-02-01  0.007394  Train    last_period\n",
       " 1             annual_inc 2022-02-01  0.012849  Train    last_period\n",
       " 2                    dti 2022-02-01  0.011967  Train    last_period\n",
       " 3        fico_range_high 2022-02-01  0.016143  Train    last_period\n",
       " 4          out_prncp_inv 2022-02-01  0.001296  Train    last_period\n",
       " ...                  ...        ...       ...    ...            ...\n",
       " 1535  num_tl_op_past_12m 2024-12-01  0.002812   Test    last_period\n",
       " 1536    percent_bc_gt_75 2024-12-01  0.020754   Test    last_period\n",
       " 1537      total_bc_limit 2024-12-01  0.033916   Test    last_period\n",
       " 1538        y_pred_proba 2024-12-01  0.063289   Test    last_period\n",
       " 1539        y_pred_label 2024-12-01  0.000000   Test    last_period\n",
       " \n",
       " [1540 rows x 5 columns])"
      ]
     },
     "execution_count": 53,
     "metadata": {},
     "output_type": "execute_result"
    }
   ],
   "source": [
    "evaluator.plot_psi(reference_last_period=True)"
   ]
  },
  {
   "cell_type": "code",
   "execution_count": 54,
   "metadata": {},
   "outputs": [
    {
     "data": {
      "application/vnd.plotly.v1+json": {
       "config": {
        "plotlyServerURL": "https://plot.ly"
       },
       "data": [
        {
         "mode": "lines+markers",
         "name": "Test",
         "type": "scatter",
         "x": [
          "2022-01-01T00:00:00.000000000",
          "2022-02-01T00:00:00.000000000",
          "2022-03-01T00:00:00.000000000",
          "2022-04-01T00:00:00.000000000",
          "2022-05-01T00:00:00.000000000",
          "2022-06-01T00:00:00.000000000",
          "2022-07-01T00:00:00.000000000",
          "2022-08-01T00:00:00.000000000",
          "2022-09-01T00:00:00.000000000",
          "2022-10-01T00:00:00.000000000",
          "2022-11-01T00:00:00.000000000",
          "2022-12-01T00:00:00.000000000",
          "2023-01-01T00:00:00.000000000",
          "2023-02-01T00:00:00.000000000",
          "2023-03-01T00:00:00.000000000",
          "2023-04-01T00:00:00.000000000",
          "2023-05-01T00:00:00.000000000",
          "2023-06-01T00:00:00.000000000",
          "2023-07-01T00:00:00.000000000",
          "2023-08-01T00:00:00.000000000",
          "2023-09-01T00:00:00.000000000",
          "2023-10-01T00:00:00.000000000",
          "2023-11-01T00:00:00.000000000",
          "2023-12-01T00:00:00.000000000",
          "2024-01-01T00:00:00.000000000",
          "2024-02-01T00:00:00.000000000",
          "2024-03-01T00:00:00.000000000",
          "2024-04-01T00:00:00.000000000",
          "2024-05-01T00:00:00.000000000",
          "2024-06-01T00:00:00.000000000",
          "2024-07-01T00:00:00.000000000",
          "2024-08-01T00:00:00.000000000",
          "2024-09-01T00:00:00.000000000",
          "2024-10-01T00:00:00.000000000",
          "2024-11-01T00:00:00.000000000",
          "2024-12-01T00:00:00.000000000"
         ],
         "y": {
          "bdata": "IOSGelM76D8ZegSBV2XjP+KOpLoKiOE/BDRAAzRA4z/8TTQU7DnjPyGE6M/0fuM/vXx5NoAg4z8cghIx9XTjP1uXD9xfJ+I/c83zAH7Q5D85G6Z8lLPhP+iiiy666OI/1JBIVRqw4T9mTZrBtVvjP6uQcdiXqOM/Ijr5iwj65T/pZaqfqp7jPy996VdwN+M/Pm+f9pI35D+8lZTE8HvjP3wT9ALGGOQ/6ESTgIpO5D9W/eZnaBDiP/pxZW5Dq+U/+pZv+ZZv5T9Qa+d6mQDlP66UP1TFjuE/UOvKDc724z/TsN0sTyLjP7Q/sY5hIeI/XGTr5CvS4z+8a/Xm1wPjPxTTUDSoaOM/1NpK58tF4j8Aj+H5TaXjP1OnT+ElMeM/",
          "dtype": "f8"
         }
        },
        {
         "mode": "lines+markers",
         "name": "Train",
         "type": "scatter",
         "x": [
          "2022-01-01T00:00:00.000000000",
          "2022-02-01T00:00:00.000000000",
          "2022-03-01T00:00:00.000000000",
          "2022-04-01T00:00:00.000000000",
          "2022-05-01T00:00:00.000000000",
          "2022-06-01T00:00:00.000000000",
          "2022-07-01T00:00:00.000000000",
          "2022-08-01T00:00:00.000000000",
          "2022-09-01T00:00:00.000000000",
          "2022-10-01T00:00:00.000000000",
          "2022-11-01T00:00:00.000000000",
          "2022-12-01T00:00:00.000000000",
          "2023-01-01T00:00:00.000000000",
          "2023-02-01T00:00:00.000000000",
          "2023-03-01T00:00:00.000000000",
          "2023-04-01T00:00:00.000000000",
          "2023-05-01T00:00:00.000000000",
          "2023-06-01T00:00:00.000000000",
          "2023-07-01T00:00:00.000000000",
          "2023-08-01T00:00:00.000000000",
          "2023-09-01T00:00:00.000000000",
          "2023-10-01T00:00:00.000000000",
          "2023-11-01T00:00:00.000000000",
          "2023-12-01T00:00:00.000000000",
          "2024-01-01T00:00:00.000000000",
          "2024-02-01T00:00:00.000000000",
          "2024-03-01T00:00:00.000000000",
          "2024-04-01T00:00:00.000000000",
          "2024-05-01T00:00:00.000000000",
          "2024-06-01T00:00:00.000000000",
          "2024-07-01T00:00:00.000000000",
          "2024-08-01T00:00:00.000000000",
          "2024-09-01T00:00:00.000000000",
          "2024-10-01T00:00:00.000000000",
          "2024-11-01T00:00:00.000000000",
          "2024-12-01T00:00:00.000000000"
         ],
         "y": {
          "bdata": "v70hwvRW6D+Ym5TbpYziP1sdSzsSE+M/LkaLLUSF4z8iMpbkiXLiP5odQkmuquM/PHv0CsC24j9ad6buI4viP5TpC1tOLOM/adUKgxFS4z+TomAyfQ7jP+aWGmyrVOQ/HLmRG7kR5D8eh1GCAeTiP8vh6V6E3eM/7NatW7du4z/Y9SEb2n7kPwT9uDK3oeM/JpyOs4Fp5D+7wAGCzSbjPwZmxHZgteQ/3cx4cFNQ5D/J8lamHTfjP/Uuoo1JleI/hCS3R1Dc5T/04Byh7m/kP4r0VKi7b+M/WO5phOWe4j824x+LNsnkP3h+tq5o8uE/daoVriN55D/wBgANYBjkPzhYMO/RruM/4AXx2HtM5T/oiIuHEV3lP7cFDtBwf+I/",
          "dtype": "f8"
         }
        }
       ],
       "layout": {
        "annotations": [
         {
          "showarrow": false,
          "text": "0.05",
          "x": 1,
          "xanchor": "right",
          "xref": "x domain",
          "y": 0.05,
          "yanchor": "bottom",
          "yref": "y"
         }
        ],
        "shapes": [
         {
          "line": {
           "color": "gray",
           "dash": "dash"
          },
          "type": "line",
          "x0": 0,
          "x1": 1,
          "xref": "x domain",
          "y0": 0.05,
          "y1": 0.05,
          "yref": "y"
         }
        ],
        "template": {
         "data": {
          "bar": [
           {
            "error_x": {
             "color": "#2a3f5f"
            },
            "error_y": {
             "color": "#2a3f5f"
            },
            "marker": {
             "line": {
              "color": "white",
              "width": 0.5
             },
             "pattern": {
              "fillmode": "overlay",
              "size": 10,
              "solidity": 0.2
             }
            },
            "type": "bar"
           }
          ],
          "barpolar": [
           {
            "marker": {
             "line": {
              "color": "white",
              "width": 0.5
             },
             "pattern": {
              "fillmode": "overlay",
              "size": 10,
              "solidity": 0.2
             }
            },
            "type": "barpolar"
           }
          ],
          "carpet": [
           {
            "aaxis": {
             "endlinecolor": "#2a3f5f",
             "gridcolor": "#C8D4E3",
             "linecolor": "#C8D4E3",
             "minorgridcolor": "#C8D4E3",
             "startlinecolor": "#2a3f5f"
            },
            "baxis": {
             "endlinecolor": "#2a3f5f",
             "gridcolor": "#C8D4E3",
             "linecolor": "#C8D4E3",
             "minorgridcolor": "#C8D4E3",
             "startlinecolor": "#2a3f5f"
            },
            "type": "carpet"
           }
          ],
          "choropleth": [
           {
            "colorbar": {
             "outlinewidth": 0,
             "ticks": ""
            },
            "type": "choropleth"
           }
          ],
          "contour": [
           {
            "colorbar": {
             "outlinewidth": 0,
             "ticks": ""
            },
            "colorscale": [
             [
              0,
              "#0d0887"
             ],
             [
              0.1111111111111111,
              "#46039f"
             ],
             [
              0.2222222222222222,
              "#7201a8"
             ],
             [
              0.3333333333333333,
              "#9c179e"
             ],
             [
              0.4444444444444444,
              "#bd3786"
             ],
             [
              0.5555555555555556,
              "#d8576b"
             ],
             [
              0.6666666666666666,
              "#ed7953"
             ],
             [
              0.7777777777777778,
              "#fb9f3a"
             ],
             [
              0.8888888888888888,
              "#fdca26"
             ],
             [
              1,
              "#f0f921"
             ]
            ],
            "type": "contour"
           }
          ],
          "contourcarpet": [
           {
            "colorbar": {
             "outlinewidth": 0,
             "ticks": ""
            },
            "type": "contourcarpet"
           }
          ],
          "heatmap": [
           {
            "colorbar": {
             "outlinewidth": 0,
             "ticks": ""
            },
            "colorscale": [
             [
              0,
              "#0d0887"
             ],
             [
              0.1111111111111111,
              "#46039f"
             ],
             [
              0.2222222222222222,
              "#7201a8"
             ],
             [
              0.3333333333333333,
              "#9c179e"
             ],
             [
              0.4444444444444444,
              "#bd3786"
             ],
             [
              0.5555555555555556,
              "#d8576b"
             ],
             [
              0.6666666666666666,
              "#ed7953"
             ],
             [
              0.7777777777777778,
              "#fb9f3a"
             ],
             [
              0.8888888888888888,
              "#fdca26"
             ],
             [
              1,
              "#f0f921"
             ]
            ],
            "type": "heatmap"
           }
          ],
          "histogram": [
           {
            "marker": {
             "pattern": {
              "fillmode": "overlay",
              "size": 10,
              "solidity": 0.2
             }
            },
            "type": "histogram"
           }
          ],
          "histogram2d": [
           {
            "colorbar": {
             "outlinewidth": 0,
             "ticks": ""
            },
            "colorscale": [
             [
              0,
              "#0d0887"
             ],
             [
              0.1111111111111111,
              "#46039f"
             ],
             [
              0.2222222222222222,
              "#7201a8"
             ],
             [
              0.3333333333333333,
              "#9c179e"
             ],
             [
              0.4444444444444444,
              "#bd3786"
             ],
             [
              0.5555555555555556,
              "#d8576b"
             ],
             [
              0.6666666666666666,
              "#ed7953"
             ],
             [
              0.7777777777777778,
              "#fb9f3a"
             ],
             [
              0.8888888888888888,
              "#fdca26"
             ],
             [
              1,
              "#f0f921"
             ]
            ],
            "type": "histogram2d"
           }
          ],
          "histogram2dcontour": [
           {
            "colorbar": {
             "outlinewidth": 0,
             "ticks": ""
            },
            "colorscale": [
             [
              0,
              "#0d0887"
             ],
             [
              0.1111111111111111,
              "#46039f"
             ],
             [
              0.2222222222222222,
              "#7201a8"
             ],
             [
              0.3333333333333333,
              "#9c179e"
             ],
             [
              0.4444444444444444,
              "#bd3786"
             ],
             [
              0.5555555555555556,
              "#d8576b"
             ],
             [
              0.6666666666666666,
              "#ed7953"
             ],
             [
              0.7777777777777778,
              "#fb9f3a"
             ],
             [
              0.8888888888888888,
              "#fdca26"
             ],
             [
              1,
              "#f0f921"
             ]
            ],
            "type": "histogram2dcontour"
           }
          ],
          "mesh3d": [
           {
            "colorbar": {
             "outlinewidth": 0,
             "ticks": ""
            },
            "type": "mesh3d"
           }
          ],
          "parcoords": [
           {
            "line": {
             "colorbar": {
              "outlinewidth": 0,
              "ticks": ""
             }
            },
            "type": "parcoords"
           }
          ],
          "pie": [
           {
            "automargin": true,
            "type": "pie"
           }
          ],
          "scatter": [
           {
            "fillpattern": {
             "fillmode": "overlay",
             "size": 10,
             "solidity": 0.2
            },
            "type": "scatter"
           }
          ],
          "scatter3d": [
           {
            "line": {
             "colorbar": {
              "outlinewidth": 0,
              "ticks": ""
             }
            },
            "marker": {
             "colorbar": {
              "outlinewidth": 0,
              "ticks": ""
             }
            },
            "type": "scatter3d"
           }
          ],
          "scattercarpet": [
           {
            "marker": {
             "colorbar": {
              "outlinewidth": 0,
              "ticks": ""
             }
            },
            "type": "scattercarpet"
           }
          ],
          "scattergeo": [
           {
            "marker": {
             "colorbar": {
              "outlinewidth": 0,
              "ticks": ""
             }
            },
            "type": "scattergeo"
           }
          ],
          "scattergl": [
           {
            "marker": {
             "colorbar": {
              "outlinewidth": 0,
              "ticks": ""
             }
            },
            "type": "scattergl"
           }
          ],
          "scattermap": [
           {
            "marker": {
             "colorbar": {
              "outlinewidth": 0,
              "ticks": ""
             }
            },
            "type": "scattermap"
           }
          ],
          "scattermapbox": [
           {
            "marker": {
             "colorbar": {
              "outlinewidth": 0,
              "ticks": ""
             }
            },
            "type": "scattermapbox"
           }
          ],
          "scatterpolar": [
           {
            "marker": {
             "colorbar": {
              "outlinewidth": 0,
              "ticks": ""
             }
            },
            "type": "scatterpolar"
           }
          ],
          "scatterpolargl": [
           {
            "marker": {
             "colorbar": {
              "outlinewidth": 0,
              "ticks": ""
             }
            },
            "type": "scatterpolargl"
           }
          ],
          "scatterternary": [
           {
            "marker": {
             "colorbar": {
              "outlinewidth": 0,
              "ticks": ""
             }
            },
            "type": "scatterternary"
           }
          ],
          "surface": [
           {
            "colorbar": {
             "outlinewidth": 0,
             "ticks": ""
            },
            "colorscale": [
             [
              0,
              "#0d0887"
             ],
             [
              0.1111111111111111,
              "#46039f"
             ],
             [
              0.2222222222222222,
              "#7201a8"
             ],
             [
              0.3333333333333333,
              "#9c179e"
             ],
             [
              0.4444444444444444,
              "#bd3786"
             ],
             [
              0.5555555555555556,
              "#d8576b"
             ],
             [
              0.6666666666666666,
              "#ed7953"
             ],
             [
              0.7777777777777778,
              "#fb9f3a"
             ],
             [
              0.8888888888888888,
              "#fdca26"
             ],
             [
              1,
              "#f0f921"
             ]
            ],
            "type": "surface"
           }
          ],
          "table": [
           {
            "cells": {
             "fill": {
              "color": "#EBF0F8"
             },
             "line": {
              "color": "white"
             }
            },
            "header": {
             "fill": {
              "color": "#C8D4E3"
             },
             "line": {
              "color": "white"
             }
            },
            "type": "table"
           }
          ]
         },
         "layout": {
          "annotationdefaults": {
           "arrowcolor": "#2a3f5f",
           "arrowhead": 0,
           "arrowwidth": 1
          },
          "autotypenumbers": "strict",
          "coloraxis": {
           "colorbar": {
            "outlinewidth": 0,
            "ticks": ""
           }
          },
          "colorscale": {
           "diverging": [
            [
             0,
             "#8e0152"
            ],
            [
             0.1,
             "#c51b7d"
            ],
            [
             0.2,
             "#de77ae"
            ],
            [
             0.3,
             "#f1b6da"
            ],
            [
             0.4,
             "#fde0ef"
            ],
            [
             0.5,
             "#f7f7f7"
            ],
            [
             0.6,
             "#e6f5d0"
            ],
            [
             0.7,
             "#b8e186"
            ],
            [
             0.8,
             "#7fbc41"
            ],
            [
             0.9,
             "#4d9221"
            ],
            [
             1,
             "#276419"
            ]
           ],
           "sequential": [
            [
             0,
             "#0d0887"
            ],
            [
             0.1111111111111111,
             "#46039f"
            ],
            [
             0.2222222222222222,
             "#7201a8"
            ],
            [
             0.3333333333333333,
             "#9c179e"
            ],
            [
             0.4444444444444444,
             "#bd3786"
            ],
            [
             0.5555555555555556,
             "#d8576b"
            ],
            [
             0.6666666666666666,
             "#ed7953"
            ],
            [
             0.7777777777777778,
             "#fb9f3a"
            ],
            [
             0.8888888888888888,
             "#fdca26"
            ],
            [
             1,
             "#f0f921"
            ]
           ],
           "sequentialminus": [
            [
             0,
             "#0d0887"
            ],
            [
             0.1111111111111111,
             "#46039f"
            ],
            [
             0.2222222222222222,
             "#7201a8"
            ],
            [
             0.3333333333333333,
             "#9c179e"
            ],
            [
             0.4444444444444444,
             "#bd3786"
            ],
            [
             0.5555555555555556,
             "#d8576b"
            ],
            [
             0.6666666666666666,
             "#ed7953"
            ],
            [
             0.7777777777777778,
             "#fb9f3a"
            ],
            [
             0.8888888888888888,
             "#fdca26"
            ],
            [
             1,
             "#f0f921"
            ]
           ]
          },
          "colorway": [
           "#636efa",
           "#EF553B",
           "#00cc96",
           "#ab63fa",
           "#FFA15A",
           "#19d3f3",
           "#FF6692",
           "#B6E880",
           "#FF97FF",
           "#FECB52"
          ],
          "font": {
           "color": "#2a3f5f"
          },
          "geo": {
           "bgcolor": "white",
           "lakecolor": "white",
           "landcolor": "white",
           "showlakes": true,
           "showland": true,
           "subunitcolor": "#C8D4E3"
          },
          "hoverlabel": {
           "align": "left"
          },
          "hovermode": "closest",
          "mapbox": {
           "style": "light"
          },
          "paper_bgcolor": "white",
          "plot_bgcolor": "white",
          "polar": {
           "angularaxis": {
            "gridcolor": "#EBF0F8",
            "linecolor": "#EBF0F8",
            "ticks": ""
           },
           "bgcolor": "white",
           "radialaxis": {
            "gridcolor": "#EBF0F8",
            "linecolor": "#EBF0F8",
            "ticks": ""
           }
          },
          "scene": {
           "xaxis": {
            "backgroundcolor": "white",
            "gridcolor": "#DFE8F3",
            "gridwidth": 2,
            "linecolor": "#EBF0F8",
            "showbackground": true,
            "ticks": "",
            "zerolinecolor": "#EBF0F8"
           },
           "yaxis": {
            "backgroundcolor": "white",
            "gridcolor": "#DFE8F3",
            "gridwidth": 2,
            "linecolor": "#EBF0F8",
            "showbackground": true,
            "ticks": "",
            "zerolinecolor": "#EBF0F8"
           },
           "zaxis": {
            "backgroundcolor": "white",
            "gridcolor": "#DFE8F3",
            "gridwidth": 2,
            "linecolor": "#EBF0F8",
            "showbackground": true,
            "ticks": "",
            "zerolinecolor": "#EBF0F8"
           }
          },
          "shapedefaults": {
           "line": {
            "color": "#2a3f5f"
           }
          },
          "ternary": {
           "aaxis": {
            "gridcolor": "#DFE8F3",
            "linecolor": "#A2B1C6",
            "ticks": ""
           },
           "baxis": {
            "gridcolor": "#DFE8F3",
            "linecolor": "#A2B1C6",
            "ticks": ""
           },
           "bgcolor": "white",
           "caxis": {
            "gridcolor": "#DFE8F3",
            "linecolor": "#A2B1C6",
            "ticks": ""
           }
          },
          "title": {
           "x": 0.05
          },
          "xaxis": {
           "automargin": true,
           "gridcolor": "#EBF0F8",
           "linecolor": "#EBF0F8",
           "ticks": "",
           "title": {
            "standoff": 15
           },
           "zerolinecolor": "#EBF0F8",
           "zerolinewidth": 2
          },
          "yaxis": {
           "automargin": true,
           "gridcolor": "#EBF0F8",
           "linecolor": "#EBF0F8",
           "ticks": "",
           "title": {
            "standoff": 15
           },
           "zerolinecolor": "#EBF0F8",
           "zerolinewidth": 2
          }
         }
        },
        "title": {
         "text": "KS Evolution over Time"
        },
        "xaxis": {
         "title": {
          "text": "Period"
         }
        },
        "yaxis": {
         "title": {
          "text": "Kolmogorov–Smirnov"
         }
        }
       }
      }
     },
     "metadata": {},
     "output_type": "display_data"
    }
   ],
   "source": [
    "evaluator.plot_ks()"
   ]
  },
  {
   "cell_type": "code",
   "execution_count": 55,
   "metadata": {},
   "outputs": [
    {
     "data": {
      "application/vnd.plotly.v1+json": {
       "config": {
        "plotlyServerURL": "https://plot.ly"
       },
       "data": [
        {
         "fill": "toself",
         "fillcolor": "rgba(217,58,70,0.3)",
         "line": {
          "color": "rgba(217,58,70,0.8)"
         },
         "name": "Group (-inf, 526.83)",
         "r": {
          "bdata": "vBtlk+d0xD/oFZDHaPutv2v0x11B2MI/C1Uboh5k0b9swg4BYfTMv7Z8hpcSqO2/YrI0aUW63b8pHLr2n5/4vw08lvgKs9o/6xB50+IOuL96EId0AnrAvwInwrxIqcS/499UgR/gxL/eRtpXUSDJvz/KVSb7iLe/u8gGPaS+wr+Iy382ViLFvwrhA+G+0NU/TQDEfmZGuD/uDW5UG9XBvw==",
          "dtype": "f8"
         },
         "theta": [
          "funded_amnt_inv",
          "annual_inc",
          "dti",
          "fico_range_high",
          "out_prncp_inv",
          "total_rec_prncp",
          "last_pymnt_amnt",
          "last_fico_range_low",
          "acc_open_past_24mths",
          "avg_cur_bal",
          "bc_open_to_buy",
          "mo_sin_old_rev_tl_op",
          "mo_sin_rcnt_rev_tl_op",
          "mo_sin_rcnt_tl",
          "mort_acc",
          "mths_since_recent_bc",
          "mths_since_recent_inq",
          "num_tl_op_past_12m",
          "percent_bc_gt_75",
          "total_bc_limit"
         ],
         "type": "scatterpolar"
        },
        {
         "fill": "toself",
         "fillcolor": "rgba(230,148,154,0.3)",
         "line": {
          "color": "rgba(230,148,154,0.8)"
         },
         "name": "Group [526.83, 711.23)",
         "r": {
          "bdata": "lHz7BxZ80b/8MMp5T1C+v0I1qx35kbI/+4bp5i1gx79UkW4loR66v5NBzD3KKuu/nrpfz2Tg2r/4RzXvJ+ngv8CgvVrRT8s/W2ADyNfVuL8YY9iTUmnCvwrkxahuScO/+9y3unKIwL9BMl2pNc3Bvx8mgX0xS7m/PesRAK9vur/SJi5dEHW9v5QZhi+NMsk/xLO3F+Y3nD+obhvO5mLMvw==",
          "dtype": "f8"
         },
         "theta": [
          "funded_amnt_inv",
          "annual_inc",
          "dti",
          "fico_range_high",
          "out_prncp_inv",
          "total_rec_prncp",
          "last_pymnt_amnt",
          "last_fico_range_low",
          "acc_open_past_24mths",
          "avg_cur_bal",
          "bc_open_to_buy",
          "mo_sin_old_rev_tl_op",
          "mo_sin_rcnt_rev_tl_op",
          "mo_sin_rcnt_tl",
          "mort_acc",
          "mths_since_recent_bc",
          "mths_since_recent_inq",
          "num_tl_op_past_12m",
          "percent_bc_gt_75",
          "total_bc_limit"
         ],
         "type": "scatterpolar"
        },
        {
         "fill": "toself",
         "fillcolor": "rgba(242,241,241,0.3)",
         "line": {
          "color": "rgba(242,241,241,0.8)"
         },
         "name": "Group [711.23, 909.45)",
         "r": {
          "bdata": "pfzBhb1x0r+eR5FCPAu1vyVaNYY2/4c/1hFWpEHLs7/psN9Z/SG2v/f2emQucOC/9Fg4V8Gsz7/nENwHBlK3v1uNW2gF0LU/U86t+fsOsr/QOOIDOtixv+RqiXDXZLq/v2S4dF5msb8cQIWA1iyzvx+L8UiDnqe/q0A/ZzUNrL/Uu4wXJIOzvwk2gmpKibg/16Dr0J/vhr81ulv9wg3Cvw==",
          "dtype": "f8"
         },
         "theta": [
          "funded_amnt_inv",
          "annual_inc",
          "dti",
          "fico_range_high",
          "out_prncp_inv",
          "total_rec_prncp",
          "last_pymnt_amnt",
          "last_fico_range_low",
          "acc_open_past_24mths",
          "avg_cur_bal",
          "bc_open_to_buy",
          "mo_sin_old_rev_tl_op",
          "mo_sin_rcnt_rev_tl_op",
          "mo_sin_rcnt_tl",
          "mort_acc",
          "mths_since_recent_bc",
          "mths_since_recent_inq",
          "num_tl_op_past_12m",
          "percent_bc_gt_75",
          "total_bc_limit"
         ],
         "type": "scatterpolar"
        },
        {
         "fill": "toself",
         "fillcolor": "rgba(153,183,205,0.3)",
         "line": {
          "color": "rgba(153,183,205,0.8)"
         },
         "name": "Group [909.45, 966.40)",
         "r": {
          "bdata": "4m7UmhBCwD/oZJC1OFSsP0H/9XAjG5G/vaXCDVQUpz9BeXg07AZ0PzMJnhJWY9M/ZNR0/821xT8PRSKCwyXNP0/MX4POmbI/xG7Qn2cLlz9pICMs7GGyP6ZP2hIjaZ0/Nx6cNawWpL8N1ypUqbuivznWwXDjKKI/RH9eCjiYor+MSnEElo91v/YJcjgZ8KM/ZsV4qltto7/TOV6FrTe2Pw==",
          "dtype": "f8"
         },
         "theta": [
          "funded_amnt_inv",
          "annual_inc",
          "dti",
          "fico_range_high",
          "out_prncp_inv",
          "total_rec_prncp",
          "last_pymnt_amnt",
          "last_fico_range_low",
          "acc_open_past_24mths",
          "avg_cur_bal",
          "bc_open_to_buy",
          "mo_sin_old_rev_tl_op",
          "mo_sin_rcnt_rev_tl_op",
          "mo_sin_rcnt_tl",
          "mort_acc",
          "mths_since_recent_bc",
          "mths_since_recent_inq",
          "num_tl_op_past_12m",
          "percent_bc_gt_75",
          "total_bc_limit"
         ],
         "type": "scatterpolar"
        },
        {
         "fill": "toself",
         "fillcolor": "rgba(65,124,167,0.3)",
         "line": {
          "color": "rgba(65,124,167,0.8)"
         },
         "name": "Group [966.40, inf)",
         "r": {
          "bdata": "nbpufWyIxz9LQJ14HyeyP3oQiRrwoK6/xXsMkFinxT+/V0y13QzJP/8cSC5P+eY/k6oRUyiD1D9magmIjIfbP8Dvg1epC9q/JM8WMzcDvD9/r6XeHDuwP8ajRWminMY/m92bA7Z0zT+SNr8V07bPP//7hlZLJLA/IZhkx+gtyT/CDeJ10q3HPzOoMu0qwNW/9gg3gpX2nT8Kl/FXVn3DPw==",
          "dtype": "f8"
         },
         "theta": [
          "funded_amnt_inv",
          "annual_inc",
          "dti",
          "fico_range_high",
          "out_prncp_inv",
          "total_rec_prncp",
          "last_pymnt_amnt",
          "last_fico_range_low",
          "acc_open_past_24mths",
          "avg_cur_bal",
          "bc_open_to_buy",
          "mo_sin_old_rev_tl_op",
          "mo_sin_rcnt_rev_tl_op",
          "mo_sin_rcnt_tl",
          "mort_acc",
          "mths_since_recent_bc",
          "mths_since_recent_inq",
          "num_tl_op_past_12m",
          "percent_bc_gt_75",
          "total_bc_limit"
         ],
         "type": "scatterpolar"
        }
       ],
       "layout": {
        "polar": {
         "radialaxis": {
          "showticklabels": false
         }
        },
        "template": {
         "data": {
          "bar": [
           {
            "error_x": {
             "color": "#2a3f5f"
            },
            "error_y": {
             "color": "#2a3f5f"
            },
            "marker": {
             "line": {
              "color": "white",
              "width": 0.5
             },
             "pattern": {
              "fillmode": "overlay",
              "size": 10,
              "solidity": 0.2
             }
            },
            "type": "bar"
           }
          ],
          "barpolar": [
           {
            "marker": {
             "line": {
              "color": "white",
              "width": 0.5
             },
             "pattern": {
              "fillmode": "overlay",
              "size": 10,
              "solidity": 0.2
             }
            },
            "type": "barpolar"
           }
          ],
          "carpet": [
           {
            "aaxis": {
             "endlinecolor": "#2a3f5f",
             "gridcolor": "#C8D4E3",
             "linecolor": "#C8D4E3",
             "minorgridcolor": "#C8D4E3",
             "startlinecolor": "#2a3f5f"
            },
            "baxis": {
             "endlinecolor": "#2a3f5f",
             "gridcolor": "#C8D4E3",
             "linecolor": "#C8D4E3",
             "minorgridcolor": "#C8D4E3",
             "startlinecolor": "#2a3f5f"
            },
            "type": "carpet"
           }
          ],
          "choropleth": [
           {
            "colorbar": {
             "outlinewidth": 0,
             "ticks": ""
            },
            "type": "choropleth"
           }
          ],
          "contour": [
           {
            "colorbar": {
             "outlinewidth": 0,
             "ticks": ""
            },
            "colorscale": [
             [
              0,
              "#0d0887"
             ],
             [
              0.1111111111111111,
              "#46039f"
             ],
             [
              0.2222222222222222,
              "#7201a8"
             ],
             [
              0.3333333333333333,
              "#9c179e"
             ],
             [
              0.4444444444444444,
              "#bd3786"
             ],
             [
              0.5555555555555556,
              "#d8576b"
             ],
             [
              0.6666666666666666,
              "#ed7953"
             ],
             [
              0.7777777777777778,
              "#fb9f3a"
             ],
             [
              0.8888888888888888,
              "#fdca26"
             ],
             [
              1,
              "#f0f921"
             ]
            ],
            "type": "contour"
           }
          ],
          "contourcarpet": [
           {
            "colorbar": {
             "outlinewidth": 0,
             "ticks": ""
            },
            "type": "contourcarpet"
           }
          ],
          "heatmap": [
           {
            "colorbar": {
             "outlinewidth": 0,
             "ticks": ""
            },
            "colorscale": [
             [
              0,
              "#0d0887"
             ],
             [
              0.1111111111111111,
              "#46039f"
             ],
             [
              0.2222222222222222,
              "#7201a8"
             ],
             [
              0.3333333333333333,
              "#9c179e"
             ],
             [
              0.4444444444444444,
              "#bd3786"
             ],
             [
              0.5555555555555556,
              "#d8576b"
             ],
             [
              0.6666666666666666,
              "#ed7953"
             ],
             [
              0.7777777777777778,
              "#fb9f3a"
             ],
             [
              0.8888888888888888,
              "#fdca26"
             ],
             [
              1,
              "#f0f921"
             ]
            ],
            "type": "heatmap"
           }
          ],
          "histogram": [
           {
            "marker": {
             "pattern": {
              "fillmode": "overlay",
              "size": 10,
              "solidity": 0.2
             }
            },
            "type": "histogram"
           }
          ],
          "histogram2d": [
           {
            "colorbar": {
             "outlinewidth": 0,
             "ticks": ""
            },
            "colorscale": [
             [
              0,
              "#0d0887"
             ],
             [
              0.1111111111111111,
              "#46039f"
             ],
             [
              0.2222222222222222,
              "#7201a8"
             ],
             [
              0.3333333333333333,
              "#9c179e"
             ],
             [
              0.4444444444444444,
              "#bd3786"
             ],
             [
              0.5555555555555556,
              "#d8576b"
             ],
             [
              0.6666666666666666,
              "#ed7953"
             ],
             [
              0.7777777777777778,
              "#fb9f3a"
             ],
             [
              0.8888888888888888,
              "#fdca26"
             ],
             [
              1,
              "#f0f921"
             ]
            ],
            "type": "histogram2d"
           }
          ],
          "histogram2dcontour": [
           {
            "colorbar": {
             "outlinewidth": 0,
             "ticks": ""
            },
            "colorscale": [
             [
              0,
              "#0d0887"
             ],
             [
              0.1111111111111111,
              "#46039f"
             ],
             [
              0.2222222222222222,
              "#7201a8"
             ],
             [
              0.3333333333333333,
              "#9c179e"
             ],
             [
              0.4444444444444444,
              "#bd3786"
             ],
             [
              0.5555555555555556,
              "#d8576b"
             ],
             [
              0.6666666666666666,
              "#ed7953"
             ],
             [
              0.7777777777777778,
              "#fb9f3a"
             ],
             [
              0.8888888888888888,
              "#fdca26"
             ],
             [
              1,
              "#f0f921"
             ]
            ],
            "type": "histogram2dcontour"
           }
          ],
          "mesh3d": [
           {
            "colorbar": {
             "outlinewidth": 0,
             "ticks": ""
            },
            "type": "mesh3d"
           }
          ],
          "parcoords": [
           {
            "line": {
             "colorbar": {
              "outlinewidth": 0,
              "ticks": ""
             }
            },
            "type": "parcoords"
           }
          ],
          "pie": [
           {
            "automargin": true,
            "type": "pie"
           }
          ],
          "scatter": [
           {
            "fillpattern": {
             "fillmode": "overlay",
             "size": 10,
             "solidity": 0.2
            },
            "type": "scatter"
           }
          ],
          "scatter3d": [
           {
            "line": {
             "colorbar": {
              "outlinewidth": 0,
              "ticks": ""
             }
            },
            "marker": {
             "colorbar": {
              "outlinewidth": 0,
              "ticks": ""
             }
            },
            "type": "scatter3d"
           }
          ],
          "scattercarpet": [
           {
            "marker": {
             "colorbar": {
              "outlinewidth": 0,
              "ticks": ""
             }
            },
            "type": "scattercarpet"
           }
          ],
          "scattergeo": [
           {
            "marker": {
             "colorbar": {
              "outlinewidth": 0,
              "ticks": ""
             }
            },
            "type": "scattergeo"
           }
          ],
          "scattergl": [
           {
            "marker": {
             "colorbar": {
              "outlinewidth": 0,
              "ticks": ""
             }
            },
            "type": "scattergl"
           }
          ],
          "scattermap": [
           {
            "marker": {
             "colorbar": {
              "outlinewidth": 0,
              "ticks": ""
             }
            },
            "type": "scattermap"
           }
          ],
          "scattermapbox": [
           {
            "marker": {
             "colorbar": {
              "outlinewidth": 0,
              "ticks": ""
             }
            },
            "type": "scattermapbox"
           }
          ],
          "scatterpolar": [
           {
            "marker": {
             "colorbar": {
              "outlinewidth": 0,
              "ticks": ""
             }
            },
            "type": "scatterpolar"
           }
          ],
          "scatterpolargl": [
           {
            "marker": {
             "colorbar": {
              "outlinewidth": 0,
              "ticks": ""
             }
            },
            "type": "scatterpolargl"
           }
          ],
          "scatterternary": [
           {
            "marker": {
             "colorbar": {
              "outlinewidth": 0,
              "ticks": ""
             }
            },
            "type": "scatterternary"
           }
          ],
          "surface": [
           {
            "colorbar": {
             "outlinewidth": 0,
             "ticks": ""
            },
            "colorscale": [
             [
              0,
              "#0d0887"
             ],
             [
              0.1111111111111111,
              "#46039f"
             ],
             [
              0.2222222222222222,
              "#7201a8"
             ],
             [
              0.3333333333333333,
              "#9c179e"
             ],
             [
              0.4444444444444444,
              "#bd3786"
             ],
             [
              0.5555555555555556,
              "#d8576b"
             ],
             [
              0.6666666666666666,
              "#ed7953"
             ],
             [
              0.7777777777777778,
              "#fb9f3a"
             ],
             [
              0.8888888888888888,
              "#fdca26"
             ],
             [
              1,
              "#f0f921"
             ]
            ],
            "type": "surface"
           }
          ],
          "table": [
           {
            "cells": {
             "fill": {
              "color": "#EBF0F8"
             },
             "line": {
              "color": "white"
             }
            },
            "header": {
             "fill": {
              "color": "#C8D4E3"
             },
             "line": {
              "color": "white"
             }
            },
            "type": "table"
           }
          ]
         },
         "layout": {
          "annotationdefaults": {
           "arrowcolor": "#2a3f5f",
           "arrowhead": 0,
           "arrowwidth": 1
          },
          "autotypenumbers": "strict",
          "coloraxis": {
           "colorbar": {
            "outlinewidth": 0,
            "ticks": ""
           }
          },
          "colorscale": {
           "diverging": [
            [
             0,
             "#8e0152"
            ],
            [
             0.1,
             "#c51b7d"
            ],
            [
             0.2,
             "#de77ae"
            ],
            [
             0.3,
             "#f1b6da"
            ],
            [
             0.4,
             "#fde0ef"
            ],
            [
             0.5,
             "#f7f7f7"
            ],
            [
             0.6,
             "#e6f5d0"
            ],
            [
             0.7,
             "#b8e186"
            ],
            [
             0.8,
             "#7fbc41"
            ],
            [
             0.9,
             "#4d9221"
            ],
            [
             1,
             "#276419"
            ]
           ],
           "sequential": [
            [
             0,
             "#0d0887"
            ],
            [
             0.1111111111111111,
             "#46039f"
            ],
            [
             0.2222222222222222,
             "#7201a8"
            ],
            [
             0.3333333333333333,
             "#9c179e"
            ],
            [
             0.4444444444444444,
             "#bd3786"
            ],
            [
             0.5555555555555556,
             "#d8576b"
            ],
            [
             0.6666666666666666,
             "#ed7953"
            ],
            [
             0.7777777777777778,
             "#fb9f3a"
            ],
            [
             0.8888888888888888,
             "#fdca26"
            ],
            [
             1,
             "#f0f921"
            ]
           ],
           "sequentialminus": [
            [
             0,
             "#0d0887"
            ],
            [
             0.1111111111111111,
             "#46039f"
            ],
            [
             0.2222222222222222,
             "#7201a8"
            ],
            [
             0.3333333333333333,
             "#9c179e"
            ],
            [
             0.4444444444444444,
             "#bd3786"
            ],
            [
             0.5555555555555556,
             "#d8576b"
            ],
            [
             0.6666666666666666,
             "#ed7953"
            ],
            [
             0.7777777777777778,
             "#fb9f3a"
            ],
            [
             0.8888888888888888,
             "#fdca26"
            ],
            [
             1,
             "#f0f921"
            ]
           ]
          },
          "colorway": [
           "#636efa",
           "#EF553B",
           "#00cc96",
           "#ab63fa",
           "#FFA15A",
           "#19d3f3",
           "#FF6692",
           "#B6E880",
           "#FF97FF",
           "#FECB52"
          ],
          "font": {
           "color": "#2a3f5f"
          },
          "geo": {
           "bgcolor": "white",
           "lakecolor": "white",
           "landcolor": "white",
           "showlakes": true,
           "showland": true,
           "subunitcolor": "#C8D4E3"
          },
          "hoverlabel": {
           "align": "left"
          },
          "hovermode": "closest",
          "mapbox": {
           "style": "light"
          },
          "paper_bgcolor": "white",
          "plot_bgcolor": "white",
          "polar": {
           "angularaxis": {
            "gridcolor": "#EBF0F8",
            "linecolor": "#EBF0F8",
            "ticks": ""
           },
           "bgcolor": "white",
           "radialaxis": {
            "gridcolor": "#EBF0F8",
            "linecolor": "#EBF0F8",
            "ticks": ""
           }
          },
          "scene": {
           "xaxis": {
            "backgroundcolor": "white",
            "gridcolor": "#DFE8F3",
            "gridwidth": 2,
            "linecolor": "#EBF0F8",
            "showbackground": true,
            "ticks": "",
            "zerolinecolor": "#EBF0F8"
           },
           "yaxis": {
            "backgroundcolor": "white",
            "gridcolor": "#DFE8F3",
            "gridwidth": 2,
            "linecolor": "#EBF0F8",
            "showbackground": true,
            "ticks": "",
            "zerolinecolor": "#EBF0F8"
           },
           "zaxis": {
            "backgroundcolor": "white",
            "gridcolor": "#DFE8F3",
            "gridwidth": 2,
            "linecolor": "#EBF0F8",
            "showbackground": true,
            "ticks": "",
            "zerolinecolor": "#EBF0F8"
           }
          },
          "shapedefaults": {
           "line": {
            "color": "#2a3f5f"
           }
          },
          "ternary": {
           "aaxis": {
            "gridcolor": "#DFE8F3",
            "linecolor": "#A2B1C6",
            "ticks": ""
           },
           "baxis": {
            "gridcolor": "#DFE8F3",
            "linecolor": "#A2B1C6",
            "ticks": ""
           },
           "bgcolor": "white",
           "caxis": {
            "gridcolor": "#DFE8F3",
            "linecolor": "#A2B1C6",
            "ticks": ""
           }
          },
          "title": {
           "x": 0.05
          },
          "xaxis": {
           "automargin": true,
           "gridcolor": "#EBF0F8",
           "linecolor": "#EBF0F8",
           "ticks": "",
           "title": {
            "standoff": 15
           },
           "zerolinecolor": "#EBF0F8",
           "zerolinewidth": 2
          },
          "yaxis": {
           "automargin": true,
           "gridcolor": "#EBF0F8",
           "linecolor": "#EBF0F8",
           "ticks": "",
           "title": {
            "standoff": 15
           },
           "zerolinecolor": "#EBF0F8",
           "zerolinewidth": 2
          }
         }
        },
        "title": {
         "text": "Group Radar"
        }
       }
      }
     },
     "metadata": {},
     "output_type": "display_data"
    }
   ],
   "source": [
    "evaluator.plot_group_radar()"
   ]
  },
  {
   "cell_type": "code",
   "execution_count": 56,
   "metadata": {},
   "outputs": [
    {
     "data": {
      "application/vnd.plotly.v1+json": {
       "config": {
        "plotlyServerURL": "https://plot.ly"
       },
       "data": [
        {
         "marker": {
          "color": "#4527a0"
         },
         "name": "Qtd contrato decil",
         "text": [
          "20.600",
          "20.600",
          "20.600",
          "20.600",
          "20.600",
          "20.600",
          "20.600",
          "20.600",
          "20.600",
          "20.600"
         ],
         "textfont": {
          "family": "Arial Black"
         },
         "type": "bar",
         "x": [
          "1",
          "2",
          "3",
          "4",
          "5",
          "6",
          "7",
          "8",
          "9",
          "10"
         ],
         "xaxis": "x",
         "y": {
          "bdata": "eFB4UHhQeFB4UHhQeFB4UHhQeFA=",
          "dtype": "i2"
         },
         "yaxis": "y"
        },
        {
         "line": {
          "color": "#fa6300"
         },
         "marker": {
          "color": "#fa6300"
         },
         "mode": "lines+markers+text",
         "name": "Taxa default",
         "text": [
          "77.57%",
          "41.02%",
          "23.39%",
          "14.10%",
          "7.66%",
          "4.41%",
          "3.27%",
          "2.23%",
          "1.00%",
          "0.43%"
         ],
         "textfont": {
          "color": "#fa6300",
          "family": "Arial Black"
         },
         "textposition": "top center",
         "type": "scatter",
         "x": [
          "1",
          "2",
          "3",
          "4",
          "5",
          "6",
          "7",
          "8",
          "9",
          "10"
         ],
         "xaxis": "x",
         "y": {
          "bdata": "AKs42sPS6D8l52URn0DaPx4wJCx88c0/+vJMZlULwj8u0A7lAJmzP3DGjAi2l6Y/yjRD5HjAoD9cwtNys92WPzwtN9ttYYQ/nsmsakGycT8=",
          "dtype": "f8"
         },
         "yaxis": "y2"
        }
       ],
       "layout": {
        "annotations": [
         {
          "font": {
           "color": "#059fed"
          },
          "showarrow": false,
          "text": "<b>Média</b>",
          "x": 1,
          "xanchor": "right",
          "xref": "x domain",
          "y": 0.17508252427184465,
          "yanchor": "bottom",
          "yref": "y"
         }
        ],
        "bargap": 0.2,
        "legend": {
         "orientation": "h",
         "x": 1,
         "xanchor": "right",
         "y": 1.02,
         "yanchor": "bottom"
        },
        "shapes": [
         {
          "line": {
           "color": "#059fed",
           "dash": "dash"
          },
          "type": "line",
          "x0": 0,
          "x1": 1,
          "xref": "x domain",
          "y0": 0.17508252427184465,
          "y1": 0.17508252427184465,
          "yref": "y2"
         }
        ],
        "template": {
         "data": {
          "bar": [
           {
            "error_x": {
             "color": "rgb(36,36,36)"
            },
            "error_y": {
             "color": "rgb(36,36,36)"
            },
            "marker": {
             "line": {
              "color": "white",
              "width": 0.5
             },
             "pattern": {
              "fillmode": "overlay",
              "size": 10,
              "solidity": 0.2
             }
            },
            "type": "bar"
           }
          ],
          "barpolar": [
           {
            "marker": {
             "line": {
              "color": "white",
              "width": 0.5
             },
             "pattern": {
              "fillmode": "overlay",
              "size": 10,
              "solidity": 0.2
             }
            },
            "type": "barpolar"
           }
          ],
          "carpet": [
           {
            "aaxis": {
             "endlinecolor": "rgb(36,36,36)",
             "gridcolor": "white",
             "linecolor": "white",
             "minorgridcolor": "white",
             "startlinecolor": "rgb(36,36,36)"
            },
            "baxis": {
             "endlinecolor": "rgb(36,36,36)",
             "gridcolor": "white",
             "linecolor": "white",
             "minorgridcolor": "white",
             "startlinecolor": "rgb(36,36,36)"
            },
            "type": "carpet"
           }
          ],
          "choropleth": [
           {
            "colorbar": {
             "outlinewidth": 1,
             "tickcolor": "rgb(36,36,36)",
             "ticks": "outside"
            },
            "type": "choropleth"
           }
          ],
          "contour": [
           {
            "colorbar": {
             "outlinewidth": 1,
             "tickcolor": "rgb(36,36,36)",
             "ticks": "outside"
            },
            "colorscale": [
             [
              0,
              "#440154"
             ],
             [
              0.1111111111111111,
              "#482878"
             ],
             [
              0.2222222222222222,
              "#3e4989"
             ],
             [
              0.3333333333333333,
              "#31688e"
             ],
             [
              0.4444444444444444,
              "#26828e"
             ],
             [
              0.5555555555555556,
              "#1f9e89"
             ],
             [
              0.6666666666666666,
              "#35b779"
             ],
             [
              0.7777777777777778,
              "#6ece58"
             ],
             [
              0.8888888888888888,
              "#b5de2b"
             ],
             [
              1,
              "#fde725"
             ]
            ],
            "type": "contour"
           }
          ],
          "contourcarpet": [
           {
            "colorbar": {
             "outlinewidth": 1,
             "tickcolor": "rgb(36,36,36)",
             "ticks": "outside"
            },
            "type": "contourcarpet"
           }
          ],
          "heatmap": [
           {
            "colorbar": {
             "outlinewidth": 1,
             "tickcolor": "rgb(36,36,36)",
             "ticks": "outside"
            },
            "colorscale": [
             [
              0,
              "#440154"
             ],
             [
              0.1111111111111111,
              "#482878"
             ],
             [
              0.2222222222222222,
              "#3e4989"
             ],
             [
              0.3333333333333333,
              "#31688e"
             ],
             [
              0.4444444444444444,
              "#26828e"
             ],
             [
              0.5555555555555556,
              "#1f9e89"
             ],
             [
              0.6666666666666666,
              "#35b779"
             ],
             [
              0.7777777777777778,
              "#6ece58"
             ],
             [
              0.8888888888888888,
              "#b5de2b"
             ],
             [
              1,
              "#fde725"
             ]
            ],
            "type": "heatmap"
           }
          ],
          "histogram": [
           {
            "marker": {
             "line": {
              "color": "white",
              "width": 0.6
             }
            },
            "type": "histogram"
           }
          ],
          "histogram2d": [
           {
            "colorbar": {
             "outlinewidth": 1,
             "tickcolor": "rgb(36,36,36)",
             "ticks": "outside"
            },
            "colorscale": [
             [
              0,
              "#440154"
             ],
             [
              0.1111111111111111,
              "#482878"
             ],
             [
              0.2222222222222222,
              "#3e4989"
             ],
             [
              0.3333333333333333,
              "#31688e"
             ],
             [
              0.4444444444444444,
              "#26828e"
             ],
             [
              0.5555555555555556,
              "#1f9e89"
             ],
             [
              0.6666666666666666,
              "#35b779"
             ],
             [
              0.7777777777777778,
              "#6ece58"
             ],
             [
              0.8888888888888888,
              "#b5de2b"
             ],
             [
              1,
              "#fde725"
             ]
            ],
            "type": "histogram2d"
           }
          ],
          "histogram2dcontour": [
           {
            "colorbar": {
             "outlinewidth": 1,
             "tickcolor": "rgb(36,36,36)",
             "ticks": "outside"
            },
            "colorscale": [
             [
              0,
              "#440154"
             ],
             [
              0.1111111111111111,
              "#482878"
             ],
             [
              0.2222222222222222,
              "#3e4989"
             ],
             [
              0.3333333333333333,
              "#31688e"
             ],
             [
              0.4444444444444444,
              "#26828e"
             ],
             [
              0.5555555555555556,
              "#1f9e89"
             ],
             [
              0.6666666666666666,
              "#35b779"
             ],
             [
              0.7777777777777778,
              "#6ece58"
             ],
             [
              0.8888888888888888,
              "#b5de2b"
             ],
             [
              1,
              "#fde725"
             ]
            ],
            "type": "histogram2dcontour"
           }
          ],
          "mesh3d": [
           {
            "colorbar": {
             "outlinewidth": 1,
             "tickcolor": "rgb(36,36,36)",
             "ticks": "outside"
            },
            "type": "mesh3d"
           }
          ],
          "parcoords": [
           {
            "line": {
             "colorbar": {
              "outlinewidth": 1,
              "tickcolor": "rgb(36,36,36)",
              "ticks": "outside"
             }
            },
            "type": "parcoords"
           }
          ],
          "pie": [
           {
            "automargin": true,
            "type": "pie"
           }
          ],
          "scatter": [
           {
            "fillpattern": {
             "fillmode": "overlay",
             "size": 10,
             "solidity": 0.2
            },
            "type": "scatter"
           }
          ],
          "scatter3d": [
           {
            "line": {
             "colorbar": {
              "outlinewidth": 1,
              "tickcolor": "rgb(36,36,36)",
              "ticks": "outside"
             }
            },
            "marker": {
             "colorbar": {
              "outlinewidth": 1,
              "tickcolor": "rgb(36,36,36)",
              "ticks": "outside"
             }
            },
            "type": "scatter3d"
           }
          ],
          "scattercarpet": [
           {
            "marker": {
             "colorbar": {
              "outlinewidth": 1,
              "tickcolor": "rgb(36,36,36)",
              "ticks": "outside"
             }
            },
            "type": "scattercarpet"
           }
          ],
          "scattergeo": [
           {
            "marker": {
             "colorbar": {
              "outlinewidth": 1,
              "tickcolor": "rgb(36,36,36)",
              "ticks": "outside"
             }
            },
            "type": "scattergeo"
           }
          ],
          "scattergl": [
           {
            "marker": {
             "colorbar": {
              "outlinewidth": 1,
              "tickcolor": "rgb(36,36,36)",
              "ticks": "outside"
             }
            },
            "type": "scattergl"
           }
          ],
          "scattermap": [
           {
            "marker": {
             "colorbar": {
              "outlinewidth": 1,
              "tickcolor": "rgb(36,36,36)",
              "ticks": "outside"
             }
            },
            "type": "scattermap"
           }
          ],
          "scattermapbox": [
           {
            "marker": {
             "colorbar": {
              "outlinewidth": 1,
              "tickcolor": "rgb(36,36,36)",
              "ticks": "outside"
             }
            },
            "type": "scattermapbox"
           }
          ],
          "scatterpolar": [
           {
            "marker": {
             "colorbar": {
              "outlinewidth": 1,
              "tickcolor": "rgb(36,36,36)",
              "ticks": "outside"
             }
            },
            "type": "scatterpolar"
           }
          ],
          "scatterpolargl": [
           {
            "marker": {
             "colorbar": {
              "outlinewidth": 1,
              "tickcolor": "rgb(36,36,36)",
              "ticks": "outside"
             }
            },
            "type": "scatterpolargl"
           }
          ],
          "scatterternary": [
           {
            "marker": {
             "colorbar": {
              "outlinewidth": 1,
              "tickcolor": "rgb(36,36,36)",
              "ticks": "outside"
             }
            },
            "type": "scatterternary"
           }
          ],
          "surface": [
           {
            "colorbar": {
             "outlinewidth": 1,
             "tickcolor": "rgb(36,36,36)",
             "ticks": "outside"
            },
            "colorscale": [
             [
              0,
              "#440154"
             ],
             [
              0.1111111111111111,
              "#482878"
             ],
             [
              0.2222222222222222,
              "#3e4989"
             ],
             [
              0.3333333333333333,
              "#31688e"
             ],
             [
              0.4444444444444444,
              "#26828e"
             ],
             [
              0.5555555555555556,
              "#1f9e89"
             ],
             [
              0.6666666666666666,
              "#35b779"
             ],
             [
              0.7777777777777778,
              "#6ece58"
             ],
             [
              0.8888888888888888,
              "#b5de2b"
             ],
             [
              1,
              "#fde725"
             ]
            ],
            "type": "surface"
           }
          ],
          "table": [
           {
            "cells": {
             "fill": {
              "color": "rgb(237,237,237)"
             },
             "line": {
              "color": "white"
             }
            },
            "header": {
             "fill": {
              "color": "rgb(217,217,217)"
             },
             "line": {
              "color": "white"
             }
            },
            "type": "table"
           }
          ]
         },
         "layout": {
          "annotationdefaults": {
           "arrowhead": 0,
           "arrowwidth": 1
          },
          "autotypenumbers": "strict",
          "coloraxis": {
           "colorbar": {
            "outlinewidth": 1,
            "tickcolor": "rgb(36,36,36)",
            "ticks": "outside"
           }
          },
          "colorscale": {
           "diverging": [
            [
             0,
             "rgb(103,0,31)"
            ],
            [
             0.1,
             "rgb(178,24,43)"
            ],
            [
             0.2,
             "rgb(214,96,77)"
            ],
            [
             0.3,
             "rgb(244,165,130)"
            ],
            [
             0.4,
             "rgb(253,219,199)"
            ],
            [
             0.5,
             "rgb(247,247,247)"
            ],
            [
             0.6,
             "rgb(209,229,240)"
            ],
            [
             0.7,
             "rgb(146,197,222)"
            ],
            [
             0.8,
             "rgb(67,147,195)"
            ],
            [
             0.9,
             "rgb(33,102,172)"
            ],
            [
             1,
             "rgb(5,48,97)"
            ]
           ],
           "sequential": [
            [
             0,
             "#440154"
            ],
            [
             0.1111111111111111,
             "#482878"
            ],
            [
             0.2222222222222222,
             "#3e4989"
            ],
            [
             0.3333333333333333,
             "#31688e"
            ],
            [
             0.4444444444444444,
             "#26828e"
            ],
            [
             0.5555555555555556,
             "#1f9e89"
            ],
            [
             0.6666666666666666,
             "#35b779"
            ],
            [
             0.7777777777777778,
             "#6ece58"
            ],
            [
             0.8888888888888888,
             "#b5de2b"
            ],
            [
             1,
             "#fde725"
            ]
           ],
           "sequentialminus": [
            [
             0,
             "#440154"
            ],
            [
             0.1111111111111111,
             "#482878"
            ],
            [
             0.2222222222222222,
             "#3e4989"
            ],
            [
             0.3333333333333333,
             "#31688e"
            ],
            [
             0.4444444444444444,
             "#26828e"
            ],
            [
             0.5555555555555556,
             "#1f9e89"
            ],
            [
             0.6666666666666666,
             "#35b779"
            ],
            [
             0.7777777777777778,
             "#6ece58"
            ],
            [
             0.8888888888888888,
             "#b5de2b"
            ],
            [
             1,
             "#fde725"
            ]
           ]
          },
          "colorway": [
           "#1F77B4",
           "#FF7F0E",
           "#2CA02C",
           "#D62728",
           "#9467BD",
           "#8C564B",
           "#E377C2",
           "#7F7F7F",
           "#BCBD22",
           "#17BECF"
          ],
          "font": {
           "color": "rgb(36,36,36)"
          },
          "geo": {
           "bgcolor": "white",
           "lakecolor": "white",
           "landcolor": "white",
           "showlakes": true,
           "showland": true,
           "subunitcolor": "white"
          },
          "hoverlabel": {
           "align": "left"
          },
          "hovermode": "closest",
          "mapbox": {
           "style": "light"
          },
          "paper_bgcolor": "white",
          "plot_bgcolor": "white",
          "polar": {
           "angularaxis": {
            "gridcolor": "rgb(232,232,232)",
            "linecolor": "rgb(36,36,36)",
            "showgrid": false,
            "showline": true,
            "ticks": "outside"
           },
           "bgcolor": "white",
           "radialaxis": {
            "gridcolor": "rgb(232,232,232)",
            "linecolor": "rgb(36,36,36)",
            "showgrid": false,
            "showline": true,
            "ticks": "outside"
           }
          },
          "scene": {
           "xaxis": {
            "backgroundcolor": "white",
            "gridcolor": "rgb(232,232,232)",
            "gridwidth": 2,
            "linecolor": "rgb(36,36,36)",
            "showbackground": true,
            "showgrid": false,
            "showline": true,
            "ticks": "outside",
            "zeroline": false,
            "zerolinecolor": "rgb(36,36,36)"
           },
           "yaxis": {
            "backgroundcolor": "white",
            "gridcolor": "rgb(232,232,232)",
            "gridwidth": 2,
            "linecolor": "rgb(36,36,36)",
            "showbackground": true,
            "showgrid": false,
            "showline": true,
            "ticks": "outside",
            "zeroline": false,
            "zerolinecolor": "rgb(36,36,36)"
           },
           "zaxis": {
            "backgroundcolor": "white",
            "gridcolor": "rgb(232,232,232)",
            "gridwidth": 2,
            "linecolor": "rgb(36,36,36)",
            "showbackground": true,
            "showgrid": false,
            "showline": true,
            "ticks": "outside",
            "zeroline": false,
            "zerolinecolor": "rgb(36,36,36)"
           }
          },
          "shapedefaults": {
           "fillcolor": "black",
           "line": {
            "width": 0
           },
           "opacity": 0.3
          },
          "ternary": {
           "aaxis": {
            "gridcolor": "rgb(232,232,232)",
            "linecolor": "rgb(36,36,36)",
            "showgrid": false,
            "showline": true,
            "ticks": "outside"
           },
           "baxis": {
            "gridcolor": "rgb(232,232,232)",
            "linecolor": "rgb(36,36,36)",
            "showgrid": false,
            "showline": true,
            "ticks": "outside"
           },
           "bgcolor": "white",
           "caxis": {
            "gridcolor": "rgb(232,232,232)",
            "linecolor": "rgb(36,36,36)",
            "showgrid": false,
            "showline": true,
            "ticks": "outside"
           }
          },
          "title": {
           "x": 0.05
          },
          "xaxis": {
           "automargin": true,
           "gridcolor": "rgb(232,232,232)",
           "linecolor": "rgb(36,36,36)",
           "showgrid": false,
           "showline": true,
           "ticks": "outside",
           "title": {
            "standoff": 15
           },
           "zeroline": false,
           "zerolinecolor": "rgb(36,36,36)"
          },
          "yaxis": {
           "automargin": true,
           "gridcolor": "rgb(232,232,232)",
           "linecolor": "rgb(36,36,36)",
           "showgrid": false,
           "showline": true,
           "ticks": "outside",
           "title": {
            "standoff": 15
           },
           "zeroline": false,
           "zerolinecolor": "rgb(36,36,36)"
          }
         }
        },
        "title": {
         "font": {
          "family": "Arial Black"
         },
         "text": "Ordenação por decil – KS 61.94%"
        },
        "xaxis": {
         "anchor": "y",
         "domain": [
          0,
          0.94
         ],
         "title": {
          "font": {
           "family": "Arial Black"
          },
          "text": "Decil"
         }
        },
        "yaxis": {
         "anchor": "x",
         "domain": [
          0,
          1
         ],
         "title": {
          "font": {
           "family": "Arial Black"
          },
          "text": "<b>Total Ocorrências<b>"
         }
        },
        "yaxis2": {
         "anchor": "x",
         "overlaying": "y",
         "side": "right",
         "tickformat": ".2%",
         "title": {
          "text": "<b>Taxa target – MEC2<b>"
         }
        }
       }
      }
     },
     "metadata": {},
     "output_type": "display_data"
    }
   ],
   "source": [
    "evaluator.plot_decile_ks()"
   ]
  },
  {
   "cell_type": "markdown",
   "metadata": {},
   "source": [
    "### Teste de Stress"
   ]
  },
  {
   "cell_type": "code",
   "execution_count": 57,
   "metadata": {},
   "outputs": [
    {
     "ename": "NameError",
     "evalue": "name 'train' is not defined",
     "output_type": "error",
     "traceback": [
      "\u001b[1;31m---------------------------------------------------------------------------\u001b[0m",
      "\u001b[1;31mNameError\u001b[0m                                 Traceback (most recent call last)",
      "Cell \u001b[1;32mIn[57], line 1\u001b[0m\n\u001b[1;32m----> 1\u001b[0m gen \u001b[38;5;241m=\u001b[39m LookAhead(id_cols\u001b[38;5;241m=\u001b[39m[\u001b[38;5;124m'\u001b[39m\u001b[38;5;124mid\u001b[39m\u001b[38;5;124m'\u001b[39m], date_cols\u001b[38;5;241m=\u001b[39m[\u001b[38;5;124m'\u001b[39m\u001b[38;5;124mdate\u001b[39m\u001b[38;5;124m'\u001b[39m])\u001b[38;5;241m.\u001b[39mfit(\u001b[43mtrain\u001b[49m)\n\u001b[0;32m      2\u001b[0m evaluator\u001b[38;5;241m.\u001b[39msynthetic_gen \u001b[38;5;241m=\u001b[39m gen\n\u001b[0;32m      3\u001b[0m stress \u001b[38;5;241m=\u001b[39m evaluator\u001b[38;5;241m.\u001b[39mrun_stress_test()\n",
      "\u001b[1;31mNameError\u001b[0m: name 'train' is not defined"
     ]
    }
   ],
   "source": [
    "gen = LookAhead(id_cols=['id'], date_cols=['date']).fit(train)\n",
    "evaluator.synthetic_gen = gen\n",
    "stress = evaluator.run_stress_test()\n",
    "stress['metrics']"
   ]
  }
 ],
 "metadata": {
  "kernelspec": {
   "display_name": "ENV_STONE",
   "language": "python",
   "name": "python3"
  },
  "language_info": {
   "codemirror_mode": {
    "name": "ipython",
    "version": 3
   },
   "file_extension": ".py",
   "mimetype": "text/x-python",
   "name": "python",
   "nbconvert_exporter": "python",
   "pygments_lexer": "ipython3",
   "version": "3.10.16"
  }
 },
 "nbformat": 4,
 "nbformat_minor": 5
}
