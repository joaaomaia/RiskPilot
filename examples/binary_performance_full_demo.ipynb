{
 "cells": [
  {
   "cell_type": "markdown",
   "metadata": {},
   "source": [
    "# Binary Performance Evaluator – Demo Completo"
   ]
  },
  {
   "cell_type": "markdown",
   "metadata": {},
   "source": [
    "Neste exemplo vamos treinar um classificador simples e explorar várias funcionalidades do `BinaryPerformanceEvaluator`. Usaremos dados sintéticos."
   ]
  },
  {
   "cell_type": "code",
   "execution_count": 73,
   "id": "cb2e5ef4",
   "metadata": {},
   "outputs": [],
   "source": [
    "import numpy as np\n",
    "import pandas as pd\n",
    "from sklearn.model_selection import train_test_split\n",
    "from sklearn.linear_model import LogisticRegression\n",
    "from sklearn.tree import DecisionTreeClassifier\n",
    "from xgboost import XGBClassifier\n",
    "from lightgbm import LGBMClassifier\n",
    "from riskpilot.evaluation import BinaryPerformanceEvaluator\n",
    "from riskpilot.synthetic import LookAhead\n",
    "\n",
    "from sklearn.utils.class_weight import compute_sample_weight"
   ]
  },
  {
   "cell_type": "code",
   "execution_count": 74,
   "id": "9a7762b4",
   "metadata": {},
   "outputs": [],
   "source": [
    "# --------------------------------------------------\n",
    "# 1. CONFIGURAÇÕES\n",
    "# --------------------------------------------------\n",
    "FILE_PATH = \"../../datasets/lending_club/accepted_2007_to_2018Q4.csv\"\n",
    "NROWS     = 10_000\n",
    "TARGET_RAW = \"loan_status\"          # coluna original\n",
    "TARGET     = \"target\"               # nome final binário\n",
    "\n",
    "# --------------------------------------------------\n",
    "# 2. LEITURA E CONVERSÃO DE TIPOS MISTOS\n",
    "# --------------------------------------------------\n",
    "def read_and_clean_csv_mixed_types(path, nrows=None, verbose=True):\n",
    "    df = pd.read_csv(path, low_memory=False, nrows=nrows)\n",
    "\n",
    "    # identificar colunas com tipos mistos\n",
    "    for col in df.columns:\n",
    "        types = df[col].dropna().map(type).value_counts()\n",
    "        if len(types) > 1 and verbose:\n",
    "            print(f\"[!] '{col}' com múltiplos tipos: {dict(types)}\")\n",
    "\n",
    "        # tentativa de conversão automática p/ numérico\n",
    "        if len(types) > 1:\n",
    "            try:\n",
    "                df[col] = pd.to_numeric(df[col], errors=\"coerce\")\n",
    "            except Exception:\n",
    "                df[col] = df[col].astype(str)\n",
    "\n",
    "    return df\n",
    "\n",
    "df = read_and_clean_csv_mixed_types(FILE_PATH, nrows=NROWS)\n",
    "\n",
    "# drop de colunas não usadas (caso existam)\n",
    "df.drop(columns=[c for c in [\"member_id\"] if c in df.columns], inplace=True)\n",
    "\n",
    "# --------------------------------------------------\n",
    "# 3. TARGET BINÁRIO\n",
    "# --------------------------------------------------\n",
    "bad_status = [\"Charged Off\", \"Default\", \"Late (31-120 days)\"]\n",
    "df[TARGET] = df[TARGET_RAW].isin(bad_status).astype(int)\n",
    "\n",
    "# --------------------------------------------------\n",
    "# 4. DATA E ID\n",
    "# --------------------------------------------------\n",
    "#df[\"date\"] = pd.to_datetime(df[\"issue_d\"], format=\"%b-%Y\", errors=\"coerce\")\n",
    "\n",
    "df[\"date\"] = pd.to_datetime('202201', format=\"%Y%M\", errors=\"coerce\")\n",
    "\n",
    "df.drop(columns=[\"issue_d\", TARGET_RAW], inplace=True)\n",
    "\n",
    "df.reset_index(drop=False, inplace=True)   # index ➜ nova coluna\n",
    "\n",
    "# --------------------------------------------------\n",
    "# 5. FEATURES NUMÉRICAS + IMPUTAÇÃO\n",
    "# --------------------------------------------------\n",
    "numeric_cols = df.select_dtypes(include=[np.number]).columns.drop([\"id\", TARGET])\n",
    "na_threshold = 0.30\n",
    "valid_cols = numeric_cols[df[numeric_cols].isna().mean() < na_threshold].tolist()\n",
    "valid_cols.remove('index')\n",
    "\n",
    "df[valid_cols] = df[valid_cols].fillna(df[valid_cols].median())\n",
    "\n",
    "# --------------------------------------------------\n",
    "# 6. DATAFRAME FINAL\n",
    "# --------------------------------------------------\n",
    "\n",
    "FEATURES = [\n",
    "    \"funded_amnt_inv\",\n",
    "    \"annual_inc\",\n",
    "    \"dti\",\n",
    "    \"fico_range_high\",\n",
    "    \"out_prncp_inv\",\n",
    "    \"total_rec_prncp\",\n",
    "    \"last_pymnt_amnt\",\n",
    "    \"last_fico_range_low\",\n",
    "    \"acc_open_past_24mths\",\n",
    "    \"avg_cur_bal\",\n",
    "    \"bc_open_to_buy\",\n",
    "    \"mo_sin_old_rev_tl_op\",\n",
    "    \"mo_sin_rcnt_rev_tl_op\",\n",
    "    \"mo_sin_rcnt_tl\",\n",
    "    \"mort_acc\",\n",
    "    \"mths_since_recent_bc\",\n",
    "    \"mths_since_recent_inq\",\n",
    "    \"num_tl_op_past_12m\",\n",
    "    \"percent_bc_gt_75\",\n",
    "    \"total_bc_limit\",\n",
    "    #\"sub_grade\"\n",
    "]\n",
    "\n",
    "ID_COLS = ['id']\n",
    "\n",
    "IGNORE_COLS = ['member_id']\n",
    "\n",
    "DATE_COLS = ['date']\n",
    "\n",
    "# --------------------------------------------------\n",
    "# Preparar dataset base\n",
    "# --------------------------------------------------\n",
    "df_model = df[ID_COLS+DATE_COLS+[TARGET] + FEATURES].dropna().copy()"
   ]
  },
  {
   "cell_type": "code",
   "execution_count": 75,
   "id": "771f86e2",
   "metadata": {},
   "outputs": [
    {
     "data": {
      "text/plain": [
       "['id']"
      ]
     },
     "execution_count": 75,
     "metadata": {},
     "output_type": "execute_result"
    }
   ],
   "source": [
    "ID_COLS"
   ]
  },
  {
   "cell_type": "code",
   "execution_count": 76,
   "id": "6c75e7da",
   "metadata": {},
   "outputs": [
    {
     "data": {
      "text/plain": [
       "['date']"
      ]
     },
     "execution_count": 76,
     "metadata": {},
     "output_type": "execute_result"
    }
   ],
   "source": [
    "# df_model['date'] = pd.to_datetime(df_model['date'], format='%yyyy%mm')\n",
    "# Cria a coluna yyyymm como inteiro\n",
    "df_model['date'] = df_model['date'].dt.year * 100 + df_model['date'].dt.month\n",
    "\n",
    "\n",
    "#df_model['yyyymm_datetime'] = df_model['date'].dt.to_period('M').dt.to_timestamp()\n",
    "#DATE_COLS = ['date']\n",
    "DATE_COLS"
   ]
  },
  {
   "cell_type": "code",
   "execution_count": 77,
   "id": "ab7ee715",
   "metadata": {},
   "outputs": [],
   "source": [
    "import numpy as np\n",
    "from riskpilot.synthetic import LookAhead\n",
    "\n",
    "gen = LookAhead(\n",
    "    id_cols=ID_COLS,\n",
    "    date_cols=DATE_COLS\n",
    ").fit(df_model)"
   ]
  },
  {
   "cell_type": "code",
   "execution_count": 78,
   "id": "d61dadc3",
   "metadata": {},
   "outputs": [
    {
     "name": "stdout",
     "output_type": "stream",
     "text": [
      "202201\n",
      "202201\n"
     ]
    }
   ],
   "source": [
    "print(df_model['date'].min())\n",
    "print(df_model['date'].max())"
   ]
  },
  {
   "cell_type": "code",
   "execution_count": 79,
   "id": "bdcb5d64",
   "metadata": {},
   "outputs": [
    {
     "name": "stdout",
     "output_type": "stream",
     "text": [
      "202202\n",
      "202501\n"
     ]
    },
    {
     "data": {
      "text/html": [
       "<div>\n",
       "<style scoped>\n",
       "    .dataframe tbody tr th:only-of-type {\n",
       "        vertical-align: middle;\n",
       "    }\n",
       "\n",
       "    .dataframe tbody tr th {\n",
       "        vertical-align: top;\n",
       "    }\n",
       "\n",
       "    .dataframe thead th {\n",
       "        text-align: right;\n",
       "    }\n",
       "</style>\n",
       "<table border=\"1\" class=\"dataframe\">\n",
       "  <thead>\n",
       "    <tr style=\"text-align: right;\">\n",
       "      <th></th>\n",
       "      <th>id</th>\n",
       "      <th>date</th>\n",
       "      <th>target</th>\n",
       "      <th>funded_amnt_inv</th>\n",
       "      <th>annual_inc</th>\n",
       "      <th>dti</th>\n",
       "      <th>fico_range_high</th>\n",
       "      <th>out_prncp_inv</th>\n",
       "      <th>total_rec_prncp</th>\n",
       "      <th>last_pymnt_amnt</th>\n",
       "      <th>...</th>\n",
       "      <th>bc_open_to_buy</th>\n",
       "      <th>mo_sin_old_rev_tl_op</th>\n",
       "      <th>mo_sin_rcnt_rev_tl_op</th>\n",
       "      <th>mo_sin_rcnt_tl</th>\n",
       "      <th>mort_acc</th>\n",
       "      <th>mths_since_recent_bc</th>\n",
       "      <th>mths_since_recent_inq</th>\n",
       "      <th>num_tl_op_past_12m</th>\n",
       "      <th>percent_bc_gt_75</th>\n",
       "      <th>total_bc_limit</th>\n",
       "    </tr>\n",
       "  </thead>\n",
       "  <tbody>\n",
       "    <tr>\n",
       "      <th>0</th>\n",
       "      <td>ab13e9088eec4061abdfa4339f6e6bec</td>\n",
       "      <td>202202</td>\n",
       "      <td>0</td>\n",
       "      <td>16000.00000</td>\n",
       "      <td>50000.0</td>\n",
       "      <td>22.617275</td>\n",
       "      <td>722.081945</td>\n",
       "      <td>0.0</td>\n",
       "      <td>20000.0</td>\n",
       "      <td>6132.335674</td>\n",
       "      <td>...</td>\n",
       "      <td>18766.350843</td>\n",
       "      <td>203.000000</td>\n",
       "      <td>7.0</td>\n",
       "      <td>8.0</td>\n",
       "      <td>1</td>\n",
       "      <td>17.0</td>\n",
       "      <td>0.0</td>\n",
       "      <td>1.0</td>\n",
       "      <td>33.3</td>\n",
       "      <td>20714.542610</td>\n",
       "    </tr>\n",
       "    <tr>\n",
       "      <th>1</th>\n",
       "      <td>219d5bc4bb8e4e2baafcacf491b129f5</td>\n",
       "      <td>202202</td>\n",
       "      <td>0</td>\n",
       "      <td>25000.00000</td>\n",
       "      <td>135000.0</td>\n",
       "      <td>19.191627</td>\n",
       "      <td>664.000000</td>\n",
       "      <td>0.0</td>\n",
       "      <td>18000.0</td>\n",
       "      <td>5800.698294</td>\n",
       "      <td>...</td>\n",
       "      <td>6881.015012</td>\n",
       "      <td>265.000000</td>\n",
       "      <td>0.0</td>\n",
       "      <td>0.0</td>\n",
       "      <td>1</td>\n",
       "      <td>2.0</td>\n",
       "      <td>0.0</td>\n",
       "      <td>3.0</td>\n",
       "      <td>0.0</td>\n",
       "      <td>15900.000000</td>\n",
       "    </tr>\n",
       "    <tr>\n",
       "      <th>2</th>\n",
       "      <td>4cd86f8c9a9d499ba7719ebda12bece5</td>\n",
       "      <td>202202</td>\n",
       "      <td>0</td>\n",
       "      <td>16071.86395</td>\n",
       "      <td>90000.0</td>\n",
       "      <td>16.638849</td>\n",
       "      <td>684.000000</td>\n",
       "      <td>0.0</td>\n",
       "      <td>20000.0</td>\n",
       "      <td>1260.598618</td>\n",
       "      <td>...</td>\n",
       "      <td>549.487684</td>\n",
       "      <td>79.177297</td>\n",
       "      <td>7.0</td>\n",
       "      <td>14.0</td>\n",
       "      <td>6</td>\n",
       "      <td>7.0</td>\n",
       "      <td>12.0</td>\n",
       "      <td>2.0</td>\n",
       "      <td>60.0</td>\n",
       "      <td>14426.945999</td>\n",
       "    </tr>\n",
       "    <tr>\n",
       "      <th>3</th>\n",
       "      <td>5c71070c26114ec7ab9411c620308bda</td>\n",
       "      <td>202202</td>\n",
       "      <td>0</td>\n",
       "      <td>11000.00000</td>\n",
       "      <td>60000.0</td>\n",
       "      <td>19.179529</td>\n",
       "      <td>669.000000</td>\n",
       "      <td>0.0</td>\n",
       "      <td>8000.0</td>\n",
       "      <td>446.807527</td>\n",
       "      <td>...</td>\n",
       "      <td>967.984435</td>\n",
       "      <td>184.000000</td>\n",
       "      <td>10.0</td>\n",
       "      <td>2.0</td>\n",
       "      <td>2</td>\n",
       "      <td>18.0</td>\n",
       "      <td>2.0</td>\n",
       "      <td>1.0</td>\n",
       "      <td>100.0</td>\n",
       "      <td>7700.000000</td>\n",
       "    </tr>\n",
       "    <tr>\n",
       "      <th>4</th>\n",
       "      <td>c2d859e085434ce99ac6e0e767e17ae3</td>\n",
       "      <td>202202</td>\n",
       "      <td>0</td>\n",
       "      <td>8000.00000</td>\n",
       "      <td>60000.0</td>\n",
       "      <td>22.856283</td>\n",
       "      <td>679.000000</td>\n",
       "      <td>0.0</td>\n",
       "      <td>5600.0</td>\n",
       "      <td>507.454316</td>\n",
       "      <td>...</td>\n",
       "      <td>2613.297233</td>\n",
       "      <td>157.000000</td>\n",
       "      <td>3.0</td>\n",
       "      <td>6.0</td>\n",
       "      <td>0</td>\n",
       "      <td>5.0</td>\n",
       "      <td>6.0</td>\n",
       "      <td>3.0</td>\n",
       "      <td>25.0</td>\n",
       "      <td>23848.685245</td>\n",
       "    </tr>\n",
       "  </tbody>\n",
       "</table>\n",
       "<p>5 rows × 23 columns</p>\n",
       "</div>"
      ],
      "text/plain": [
       "                                 id    date  target  funded_amnt_inv  \\\n",
       "0  ab13e9088eec4061abdfa4339f6e6bec  202202       0      16000.00000   \n",
       "1  219d5bc4bb8e4e2baafcacf491b129f5  202202       0      25000.00000   \n",
       "2  4cd86f8c9a9d499ba7719ebda12bece5  202202       0      16071.86395   \n",
       "3  5c71070c26114ec7ab9411c620308bda  202202       0      11000.00000   \n",
       "4  c2d859e085434ce99ac6e0e767e17ae3  202202       0       8000.00000   \n",
       "\n",
       "   annual_inc        dti  fico_range_high  out_prncp_inv  total_rec_prncp  \\\n",
       "0     50000.0  22.617275       722.081945            0.0          20000.0   \n",
       "1    135000.0  19.191627       664.000000            0.0          18000.0   \n",
       "2     90000.0  16.638849       684.000000            0.0          20000.0   \n",
       "3     60000.0  19.179529       669.000000            0.0           8000.0   \n",
       "4     60000.0  22.856283       679.000000            0.0           5600.0   \n",
       "\n",
       "   last_pymnt_amnt  ...  bc_open_to_buy  mo_sin_old_rev_tl_op  \\\n",
       "0      6132.335674  ...    18766.350843            203.000000   \n",
       "1      5800.698294  ...     6881.015012            265.000000   \n",
       "2      1260.598618  ...      549.487684             79.177297   \n",
       "3       446.807527  ...      967.984435            184.000000   \n",
       "4       507.454316  ...     2613.297233            157.000000   \n",
       "\n",
       "   mo_sin_rcnt_rev_tl_op  mo_sin_rcnt_tl  mort_acc  mths_since_recent_bc  \\\n",
       "0                    7.0             8.0         1                  17.0   \n",
       "1                    0.0             0.0         1                   2.0   \n",
       "2                    7.0            14.0         6                   7.0   \n",
       "3                   10.0             2.0         2                  18.0   \n",
       "4                    3.0             6.0         0                   5.0   \n",
       "\n",
       "   mths_since_recent_inq  num_tl_op_past_12m  percent_bc_gt_75  total_bc_limit  \n",
       "0                    0.0                 1.0              33.3    20714.542610  \n",
       "1                    0.0                 3.0               0.0    15900.000000  \n",
       "2                   12.0                 2.0              60.0    14426.945999  \n",
       "3                    2.0                 1.0             100.0     7700.000000  \n",
       "4                    6.0                 3.0              25.0    23848.685245  \n",
       "\n",
       "[5 rows x 23 columns]"
      ]
     },
     "metadata": {},
     "output_type": "display_data"
    }
   ],
   "source": [
    "synthetic = gen.generate(\n",
    "    n_periods=36,\n",
    "    freq='ME',\n",
    "    scenario='stress')\n",
    "print(synthetic['date'].min())\n",
    "print(synthetic['date'].max())\n",
    "\n",
    "display(synthetic.head())"
   ]
  },
  {
   "cell_type": "code",
   "execution_count": 80,
   "id": "db7e97e3",
   "metadata": {},
   "outputs": [
    {
     "name": "stdout",
     "output_type": "stream",
     "text": [
      "202202\n",
      "202203\n"
     ]
    },
    {
     "data": {
      "text/html": [
       "<div>\n",
       "<style scoped>\n",
       "    .dataframe tbody tr th:only-of-type {\n",
       "        vertical-align: middle;\n",
       "    }\n",
       "\n",
       "    .dataframe tbody tr th {\n",
       "        vertical-align: top;\n",
       "    }\n",
       "\n",
       "    .dataframe thead th {\n",
       "        text-align: right;\n",
       "    }\n",
       "</style>\n",
       "<table border=\"1\" class=\"dataframe\">\n",
       "  <thead>\n",
       "    <tr style=\"text-align: right;\">\n",
       "      <th></th>\n",
       "      <th>id</th>\n",
       "      <th>date</th>\n",
       "      <th>target</th>\n",
       "      <th>funded_amnt_inv</th>\n",
       "      <th>annual_inc</th>\n",
       "      <th>dti</th>\n",
       "      <th>fico_range_high</th>\n",
       "      <th>out_prncp_inv</th>\n",
       "      <th>total_rec_prncp</th>\n",
       "      <th>last_pymnt_amnt</th>\n",
       "      <th>...</th>\n",
       "      <th>bc_open_to_buy</th>\n",
       "      <th>mo_sin_old_rev_tl_op</th>\n",
       "      <th>mo_sin_rcnt_rev_tl_op</th>\n",
       "      <th>mo_sin_rcnt_tl</th>\n",
       "      <th>mort_acc</th>\n",
       "      <th>mths_since_recent_bc</th>\n",
       "      <th>mths_since_recent_inq</th>\n",
       "      <th>num_tl_op_past_12m</th>\n",
       "      <th>percent_bc_gt_75</th>\n",
       "      <th>total_bc_limit</th>\n",
       "    </tr>\n",
       "  </thead>\n",
       "  <tbody>\n",
       "    <tr>\n",
       "      <th>0</th>\n",
       "      <td>f7c0190a224e4eb79d18dd1ae447e8e0</td>\n",
       "      <td>202202</td>\n",
       "      <td>0</td>\n",
       "      <td>10005.150463</td>\n",
       "      <td>72000.000000</td>\n",
       "      <td>19.349710</td>\n",
       "      <td>729.0</td>\n",
       "      <td>0.000000</td>\n",
       "      <td>6000.0</td>\n",
       "      <td>648.851688</td>\n",
       "      <td>...</td>\n",
       "      <td>1515.087824</td>\n",
       "      <td>384.110666</td>\n",
       "      <td>29.000000</td>\n",
       "      <td>4.0</td>\n",
       "      <td>4</td>\n",
       "      <td>19.234754</td>\n",
       "      <td>7.0</td>\n",
       "      <td>1.0</td>\n",
       "      <td>75.000000</td>\n",
       "      <td>14297.065962</td>\n",
       "    </tr>\n",
       "    <tr>\n",
       "      <th>1</th>\n",
       "      <td>3f7a86d938a9400e9dfaca31fc1b8cce</td>\n",
       "      <td>202202</td>\n",
       "      <td>0</td>\n",
       "      <td>21000.000000</td>\n",
       "      <td>95000.000000</td>\n",
       "      <td>12.455457</td>\n",
       "      <td>714.0</td>\n",
       "      <td>0.000000</td>\n",
       "      <td>21000.0</td>\n",
       "      <td>7120.141430</td>\n",
       "      <td>...</td>\n",
       "      <td>5406.491706</td>\n",
       "      <td>180.000000</td>\n",
       "      <td>13.000000</td>\n",
       "      <td>5.0</td>\n",
       "      <td>0</td>\n",
       "      <td>16.000000</td>\n",
       "      <td>5.0</td>\n",
       "      <td>1.0</td>\n",
       "      <td>13.021342</td>\n",
       "      <td>22700.000000</td>\n",
       "    </tr>\n",
       "    <tr>\n",
       "      <th>2</th>\n",
       "      <td>3fa501d80ec745cca39b1a0b61a347c5</td>\n",
       "      <td>202202</td>\n",
       "      <td>0</td>\n",
       "      <td>29409.573588</td>\n",
       "      <td>112612.748236</td>\n",
       "      <td>30.309571</td>\n",
       "      <td>709.0</td>\n",
       "      <td>0.000000</td>\n",
       "      <td>20000.0</td>\n",
       "      <td>5586.496795</td>\n",
       "      <td>...</td>\n",
       "      <td>5294.851427</td>\n",
       "      <td>249.885298</td>\n",
       "      <td>10.414023</td>\n",
       "      <td>5.0</td>\n",
       "      <td>2</td>\n",
       "      <td>39.000000</td>\n",
       "      <td>5.0</td>\n",
       "      <td>0.0</td>\n",
       "      <td>50.000000</td>\n",
       "      <td>23000.000000</td>\n",
       "    </tr>\n",
       "    <tr>\n",
       "      <th>3</th>\n",
       "      <td>bd9dd096f6e44ffca75dad38c9230f05</td>\n",
       "      <td>202202</td>\n",
       "      <td>0</td>\n",
       "      <td>35000.000000</td>\n",
       "      <td>129158.236157</td>\n",
       "      <td>20.176387</td>\n",
       "      <td>679.0</td>\n",
       "      <td>0.000000</td>\n",
       "      <td>35000.0</td>\n",
       "      <td>13316.309069</td>\n",
       "      <td>...</td>\n",
       "      <td>26266.748440</td>\n",
       "      <td>179.000000</td>\n",
       "      <td>7.000000</td>\n",
       "      <td>1.0</td>\n",
       "      <td>0</td>\n",
       "      <td>12.000000</td>\n",
       "      <td>1.0</td>\n",
       "      <td>3.0</td>\n",
       "      <td>0.000000</td>\n",
       "      <td>50965.773516</td>\n",
       "    </tr>\n",
       "    <tr>\n",
       "      <th>4</th>\n",
       "      <td>c5a4551732464cb389167f6601ee008e</td>\n",
       "      <td>202202</td>\n",
       "      <td>0</td>\n",
       "      <td>12081.785811</td>\n",
       "      <td>97377.822890</td>\n",
       "      <td>10.109593</td>\n",
       "      <td>679.0</td>\n",
       "      <td>0.027952</td>\n",
       "      <td>15000.0</td>\n",
       "      <td>300.739722</td>\n",
       "      <td>...</td>\n",
       "      <td>21482.499910</td>\n",
       "      <td>227.000000</td>\n",
       "      <td>8.000000</td>\n",
       "      <td>6.0</td>\n",
       "      <td>2</td>\n",
       "      <td>6.000000</td>\n",
       "      <td>5.0</td>\n",
       "      <td>1.0</td>\n",
       "      <td>83.300000</td>\n",
       "      <td>88058.439382</td>\n",
       "    </tr>\n",
       "  </tbody>\n",
       "</table>\n",
       "<p>5 rows × 23 columns</p>\n",
       "</div>"
      ],
      "text/plain": [
       "                                 id    date  target  funded_amnt_inv  \\\n",
       "0  f7c0190a224e4eb79d18dd1ae447e8e0  202202       0     10005.150463   \n",
       "1  3f7a86d938a9400e9dfaca31fc1b8cce  202202       0     21000.000000   \n",
       "2  3fa501d80ec745cca39b1a0b61a347c5  202202       0     29409.573588   \n",
       "3  bd9dd096f6e44ffca75dad38c9230f05  202202       0     35000.000000   \n",
       "4  c5a4551732464cb389167f6601ee008e  202202       0     12081.785811   \n",
       "\n",
       "      annual_inc        dti  fico_range_high  out_prncp_inv  total_rec_prncp  \\\n",
       "0   72000.000000  19.349710            729.0       0.000000           6000.0   \n",
       "1   95000.000000  12.455457            714.0       0.000000          21000.0   \n",
       "2  112612.748236  30.309571            709.0       0.000000          20000.0   \n",
       "3  129158.236157  20.176387            679.0       0.000000          35000.0   \n",
       "4   97377.822890  10.109593            679.0       0.027952          15000.0   \n",
       "\n",
       "   last_pymnt_amnt  ...  bc_open_to_buy  mo_sin_old_rev_tl_op  \\\n",
       "0       648.851688  ...     1515.087824            384.110666   \n",
       "1      7120.141430  ...     5406.491706            180.000000   \n",
       "2      5586.496795  ...     5294.851427            249.885298   \n",
       "3     13316.309069  ...    26266.748440            179.000000   \n",
       "4       300.739722  ...    21482.499910            227.000000   \n",
       "\n",
       "   mo_sin_rcnt_rev_tl_op  mo_sin_rcnt_tl  mort_acc  mths_since_recent_bc  \\\n",
       "0              29.000000             4.0         4             19.234754   \n",
       "1              13.000000             5.0         0             16.000000   \n",
       "2              10.414023             5.0         2             39.000000   \n",
       "3               7.000000             1.0         0             12.000000   \n",
       "4               8.000000             6.0         2              6.000000   \n",
       "\n",
       "   mths_since_recent_inq  num_tl_op_past_12m  percent_bc_gt_75  total_bc_limit  \n",
       "0                    7.0                 1.0         75.000000    14297.065962  \n",
       "1                    5.0                 1.0         13.021342    22700.000000  \n",
       "2                    5.0                 0.0         50.000000    23000.000000  \n",
       "3                    1.0                 3.0          0.000000    50965.773516  \n",
       "4                    5.0                 1.0         83.300000    88058.439382  \n",
       "\n",
       "[5 rows x 23 columns]"
      ]
     },
     "metadata": {},
     "output_type": "display_data"
    }
   ],
   "source": [
    "custom_noise = {\n",
    "    'utilifico_range_highzation': {'func': np.random.exponential, 'kwargs': {'scale':50}},\n",
    "}\n",
    "custom_gen = LookAhead(\n",
    "    id_cols=['id'],\n",
    "    date_cols=['date'],\n",
    "    custom_noise=custom_noise).fit(df_model)\n",
    "\n",
    "custom = custom_gen.generate(\n",
    "    n_periods=2,\n",
    "    freq='ME',\n",
    "    scenario='stress'\n",
    "    )\n",
    "\n",
    "custom.head()\n",
    "print(custom['date'].min())\n",
    "print(custom['date'].max())\n",
    "\n",
    "display(custom.head())\n",
    "\n"
   ]
  },
  {
   "cell_type": "code",
   "execution_count": 81,
   "id": "1d2af027",
   "metadata": {},
   "outputs": [
    {
     "name": "stdout",
     "output_type": "stream",
     "text": [
      "(10000, 23)\n",
      "(58000, 23)\n"
     ]
    }
   ],
   "source": [
    "len1=len(df_model)\n",
    "print(df_model.shape)\n",
    "\n",
    "df_model = pd.concat([df_model, synthetic], axis=0)\n",
    "\n",
    "len2=len(df_model)\n",
    "print(df_model.shape)\n",
    "\n",
    "assert len2-len1==len(synthetic)"
   ]
  },
  {
   "cell_type": "code",
   "execution_count": 82,
   "id": "dc15d83d",
   "metadata": {},
   "outputs": [],
   "source": [
    "# # --------------------------------------------------\n",
    "# # 2. Split treino / teste\n",
    "# # --------------------------------------------------\n",
    "# train_idx, test_idx = train_test_split(\n",
    "#     df_model.index,\n",
    "#     test_size=0.30,\n",
    "#     stratify=df_model[TARGET],\n",
    "#     random_state=42,\n",
    "# )\n",
    "\n",
    "# # Criar df_train e df_test primeiro\n",
    "# df_train = df_model.loc[train_idx].copy()\n",
    "# df_test  = df_model.loc[test_idx].copy()\n",
    "\n",
    "# # Depois extrair X e y a partir dos DataFrames\n",
    "# X_train, y_train = df_train[FEATURES], df_train[TARGET]\n",
    "# X_test , y_test  = df_test[FEATURES] , df_test[TARGET]\n",
    "\n",
    "\n",
    "# print(X_train.shape)\n",
    "# print(X_test.shape)"
   ]
  },
  {
   "cell_type": "code",
   "execution_count": 87,
   "id": "6b60b93d",
   "metadata": {},
   "outputs": [],
   "source": [
    "import logging\n",
    "from typing import Literal, Optional, Tuple, Sequence\n",
    "\n",
    "import numpy as np\n",
    "import pandas as pd\n",
    "\n",
    "logger = logging.getLogger(__name__)\n",
    "logger.setLevel(logging.INFO)  # ajuste o nível conforme necessidade\n",
    "\n",
    "\n",
    "class TemporalIDSampler:\n",
    "    \"\"\"\n",
    "    Amostrador de contratos/IDs para criar splits de treino e teste\n",
    "    com suportes a *snapshot* e *full history*.\n",
    "\n",
    "    Parameters\n",
    "    ----------\n",
    "    df : pd.DataFrame\n",
    "        Base completa contendo as colunas de data e id.\n",
    "    date_col : str\n",
    "        Nome da coluna de data (tipo datetime64[ns] ou yyyymm_int etc.).\n",
    "    id_col : str\n",
    "        Nome da coluna de identificação do contrato.\n",
    "    start_train, end_train, start_test, end_test : hashable\n",
    "        Delimitadores temporais para cada split (mesma granularidade do\n",
    "        `date_col`). Se `mode=\"snapshot\"`, eles definem *janelas* de onde\n",
    "        as amostras serão tiradas.\n",
    "    mode : {\"snapshot\", \"full\"}, default \"snapshot\"\n",
    "        • \"snapshot\": amostra até `snapshot_counts` registros aleatórios\n",
    "          **por id** dentro da janela.  \n",
    "        • \"full\": devolve todo o histórico (todas as datas) do id\n",
    "          pertencente ao período de cada split.\n",
    "    snapshot_counts : int, default 1\n",
    "        Quantidade máxima de linhas aleatórias por contrato em \"snapshot\".\n",
    "    force_gap : bool, default False\n",
    "        Se True, garante que **nenhum** id presente no train apareça no test.\n",
    "    force_continuous : bool, default False\n",
    "        Se True, garante que **todo** id presente no train tenha\n",
    "        **pelo menos um** registro no test e vice-versa.\n",
    "\n",
    "    Notes\n",
    "    -----\n",
    "    • `force_gap` e `force_continuous` são mutuamente excludentes.  \n",
    "    • Todas as verificações de consistência disparam AssertionError.\n",
    "    \"\"\"\n",
    "\n",
    "    def __init__(\n",
    "        self,\n",
    "        df: pd.DataFrame,\n",
    "        date_col: str,\n",
    "        id_col: str,\n",
    "        *,\n",
    "        start_train,\n",
    "        end_train,\n",
    "        start_test,\n",
    "        end_test,\n",
    "        mode: Literal[\"snapshot\", \"full\"] = \"snapshot\",\n",
    "        snapshot_counts: int = 1,\n",
    "        force_gap: bool = False,\n",
    "        force_continuous: bool = False,\n",
    "    ):\n",
    "        # ---------------- assertions ---------------- #\n",
    "        assert mode in {\"snapshot\", \"full\"}, \"`mode` deve ser 'snapshot' ou 'full'.\"\n",
    "        assert not (force_gap and force_continuous), (\n",
    "            \"Não é permitido definir force_gap=True e force_continuous=True simultaneamente.\"\n",
    "        )\n",
    "        assert date_col in df.columns, f\"{date_col!r} não encontrado no DataFrame.\"\n",
    "        assert id_col in df.columns, f\"{id_col!r} não encontrado no DataFrame.\"\n",
    "        assert snapshot_counts >= 1, \"snapshot_counts precisa ser >= 1.\"\n",
    "\n",
    "        self.df = df.copy()\n",
    "        self.date_col = date_col\n",
    "        self.id_col = id_col\n",
    "        self.mode = mode\n",
    "        self.snapshot_counts = snapshot_counts\n",
    "        self.force_gap = force_gap\n",
    "        self.force_continuous = force_continuous\n",
    "\n",
    "        # converte coluna de data se for int-like yyyymm\n",
    "        if pd.api.types.is_integer_dtype(self.df[date_col]):\n",
    "            self.df[date_col] = pd.to_datetime(\n",
    "                self.df[date_col].astype(str), format=\"%Y%m\"\n",
    "            )\n",
    "\n",
    "        self._window_train = (start_train, end_train)\n",
    "        self._window_test = (start_test, end_test)\n",
    "\n",
    "        logger.info(\n",
    "            \"TemporalIDSampler inicializado: mode=%s, snapshot_counts=%s, force_gap=%s, \"\n",
    "            \"force_continuous=%s\",\n",
    "            mode,\n",
    "            snapshot_counts,\n",
    "            force_gap,\n",
    "            force_continuous,\n",
    "        )\n",
    "\n",
    "    # ----------------------------------------------------------------- #\n",
    "    def _to_dt(self, val):\n",
    "        \"\"\"Converte limites em datetime compatível com date_col.\"\"\"\n",
    "        if isinstance(val, (int, np.integer, str)) and len(str(val)) in (6, 8):\n",
    "            # 6 dígitos = yyyymm   | 8 dígitos = yyyymmdd\n",
    "            fmt = \"%Y%m\" if len(str(val)) == 6 else \"%Y%m%d\"\n",
    "            return pd.to_datetime(str(val), format=fmt)\n",
    "        return pd.to_datetime(val)\n",
    "\n",
    "    def _subset_window(self, start, end) -> pd.DataFrame:\n",
    "        start_dt, end_dt = self._to_dt(start), self._to_dt(end)\n",
    "        mask = (self.df[self.date_col] >= start_dt) & (self.df[self.date_col] <= end_dt)\n",
    "        subset = self.df.loc[mask].copy()\n",
    "        logger.info(\n",
    "            \"Seleção janela %s → %s: %d registros\", start_dt.date(), end_dt.date(), len(subset)\n",
    "        )\n",
    "        return subset\n",
    "\n",
    "\n",
    "    # --------------------------------------------------------------------- #\n",
    "    def _sample_snapshot(self, df_win: pd.DataFrame) -> pd.DataFrame:\n",
    "        n_before = len(df_win)\n",
    "        sampled = (\n",
    "            df_win.groupby(self.id_col, group_keys=False)\n",
    "            .apply(lambda x: x.sample(min(len(x), self.snapshot_counts), random_state=42))\n",
    "        )\n",
    "        logger.info(\n",
    "            \"Snapshot de %d → %d linhas (snapshot_counts=%d)\",\n",
    "            n_before,\n",
    "            len(sampled),\n",
    "            self.snapshot_counts,\n",
    "        )\n",
    "        return sampled\n",
    "\n",
    "    # --------------------------------------------------------------------- #\n",
    "    def sample(self) -> Tuple[pd.DataFrame, pd.DataFrame]:\n",
    "        \"\"\"Retorna (df_train, df_test) de acordo com as regras.\"\"\"\n",
    "        # ---------- gerar splits brutos pela janela -----------\n",
    "        df_train = self._subset_window(*self._window_train)\n",
    "        df_test = self._subset_window(*self._window_test)\n",
    "\n",
    "        # ---------- aplicar modo snapshot se necessário -------\n",
    "        if self.mode == \"snapshot\":\n",
    "            df_train = self._sample_snapshot(df_train)\n",
    "            df_test = self._sample_snapshot(df_test)\n",
    "\n",
    "        # ---------- checagens force_gap / force_continuous ----\n",
    "        ids_train: set = set(df_train[self.id_col])\n",
    "        ids_test: set = set(df_test[self.id_col])\n",
    "\n",
    "        if self.force_gap:\n",
    "            overlap = ids_train & ids_test\n",
    "            assert (\n",
    "                len(overlap) == 0\n",
    "            ), f\"force_gap=True, mas {len(overlap)} ids aparecem em train e test.\"\n",
    "\n",
    "        if self.force_continuous:\n",
    "            missing_train = ids_train - ids_test\n",
    "            missing_test = ids_test - ids_train\n",
    "            assert (\n",
    "                len(missing_train) == 0 and len(missing_test) == 0\n",
    "            ), (\n",
    "                f\"force_continuous=True, mas {len(missing_train)} ids do train \"\n",
    "                f\"não aparecem no test e {len(missing_test)} ids do test \"\n",
    "                f\"não aparecem no train.\"\n",
    "            )\n",
    "\n",
    "        logger.info(\n",
    "            \"Amostragem finalizada: train=%d linhas (%d ids) | test=%d linhas (%d ids)\",\n",
    "            len(df_train),\n",
    "            len(ids_train),\n",
    "            len(df_test),\n",
    "            len(ids_test),\n",
    "        )\n",
    "        return df_train.reset_index(drop=True), df_test.reset_index(drop=True)\n"
   ]
  },
  {
   "cell_type": "code",
   "execution_count": 88,
   "id": "63491cea",
   "metadata": {},
   "outputs": [
    {
     "name": "stderr",
     "output_type": "stream",
     "text": [
      "INFO: TemporalIDSampler inicializado: mode=snapshot, snapshot_counts=2, force_gap=True, force_continuous=False\n",
      "INFO: Seleção janela 2022-01-01 → 2022-12-01: 23000 registros\n",
      "INFO: Seleção janela 2023-01-01 → 2023-12-01: 17000 registros\n",
      "C:\\Users\\JM\\AppData\\Local\\Temp\\ipykernel_10544\\787391977.py:121: FutureWarning: DataFrameGroupBy.apply operated on the grouping columns. This behavior is deprecated, and in a future version of pandas the grouping columns will be excluded from the operation. Either pass `include_groups=False` to exclude the groupings or explicitly select the grouping columns after groupby to silence this warning.\n",
      "  .apply(lambda x: x.sample(min(len(x), self.snapshot_counts), random_state=42))\n",
      "INFO: Snapshot de 23000 → 23000 linhas (snapshot_counts=2)\n",
      "C:\\Users\\JM\\AppData\\Local\\Temp\\ipykernel_10544\\787391977.py:121: FutureWarning: DataFrameGroupBy.apply operated on the grouping columns. This behavior is deprecated, and in a future version of pandas the grouping columns will be excluded from the operation. Either pass `include_groups=False` to exclude the groupings or explicitly select the grouping columns after groupby to silence this warning.\n",
      "  .apply(lambda x: x.sample(min(len(x), self.snapshot_counts), random_state=42))\n",
      "INFO: Snapshot de 17000 → 17000 linhas (snapshot_counts=2)\n",
      "INFO: Amostragem finalizada: train=23000 linhas (23000 ids) | test=17000 linhas (17000 ids)\n"
     ]
    },
    {
     "name": "stdout",
     "output_type": "stream",
     "text": [
      "(23000, 23) (17000, 23)\n",
      "(23000, 20)\n",
      "(17000, 20)\n"
     ]
    }
   ],
   "source": [
    "sampler = TemporalIDSampler(\n",
    "    df=df_model,\n",
    "    date_col=DATE_COLS[0],\n",
    "    id_col=ID_COLS[0],\n",
    "    start_train=202201,\n",
    "    end_train=202212,\n",
    "    start_test=202301,\n",
    "    end_test=202312,\n",
    "    mode=\"snapshot\",\n",
    "    snapshot_counts=2,\n",
    "    force_gap=True,\n",
    ")\n",
    "\n",
    "df_train, df_test = sampler.sample()\n",
    "print(df_train.shape, df_test.shape)\n",
    "\n",
    "# Depois extrair X e y a partir dos DataFrames\n",
    "X_train, y_train = df_train[FEATURES], df_train[TARGET]\n",
    "X_test , y_test  = df_test[FEATURES] , df_test[TARGET]\n",
    "\n",
    "\n",
    "print(X_train.shape)\n",
    "print(X_test.shape)"
   ]
  },
  {
   "cell_type": "code",
   "execution_count": 89,
   "id": "0f0a0eec",
   "metadata": {},
   "outputs": [
    {
     "name": "stdout",
     "output_type": "stream",
     "text": [
      "Colunas 'object' restantes em X_train: Series([], dtype: object)\n",
      "Colunas 'object' restantes em df_test: Series([], dtype: object)\n",
      "(23000, 20)\n",
      "(17000, 20)\n"
     ]
    }
   ],
   "source": [
    "# --------------------------------------------------\n",
    "# Garantir cópias independentes dos conjuntos de treino e teste\n",
    "# --------------------------------------------------\n",
    "X_train = df_train[FEATURES].copy()\n",
    "X_test = df_test[FEATURES].copy()\n",
    "\n",
    "# --------------------------------------------------\n",
    "# Converter colunas categóricas (tipo object) para 'category' em X e df\n",
    "# --------------------------------------------------\n",
    "def convert_object_to_category(df):\n",
    "    obj_cols = df.select_dtypes(include='object').columns\n",
    "    df[obj_cols] = df[obj_cols].astype('category')\n",
    "    return df\n",
    "\n",
    "# Aplicar nos conjuntos usados no modelo\n",
    "X_train = convert_object_to_category(X_train)\n",
    "X_test = convert_object_to_category(X_test)\n",
    "\n",
    "# Garantir que df_train e df_test também estejam com tipos consistentes\n",
    "df_train = convert_object_to_category(df_train)\n",
    "df_test = convert_object_to_category(df_test)\n",
    "\n",
    "# --------------------------------------------------\n",
    "# Verificações finais\n",
    "# --------------------------------------------------\n",
    "print(\"Colunas 'object' restantes em X_train:\", X_train.dtypes[X_train.dtypes == 'object'])\n",
    "print(\"Colunas 'object' restantes em df_test:\", df_test.dtypes[df_test.dtypes == 'object'])\n",
    "\n",
    "print(X_train.shape)\n",
    "print(X_test.shape)"
   ]
  },
  {
   "cell_type": "code",
   "execution_count": 90,
   "id": "54283e46",
   "metadata": {},
   "outputs": [],
   "source": [
    "num_cols = df_train.select_dtypes(include=[float, int]).columns.tolist()\n",
    "\n",
    "for col in ['index', 'id', TARGET]:\n",
    "    try:\n",
    "        num_cols.remove(col)\n",
    "    except:\n",
    "        pass   "
   ]
  },
  {
   "cell_type": "code",
   "execution_count": 14,
   "id": "3773b9e4",
   "metadata": {},
   "outputs": [],
   "source": [
    "# # Linhas “extras” que existem em evaluator.df_train mas não em y_train (via índice)\n",
    "# extra_idx = set(evaluator.df_train.index) - set(y_train.index)\n",
    "# print(f\"Linhas extras: {len(extra_idx)}\")     # → 3 832 (= 54 615-50 783)\n",
    "# # Inspecione algumas para ver por que foram descartadas na etapa de modelagem\n",
    "# evaluator.df_train.loc[list(extra_idx)].head()\n"
   ]
  },
  {
   "cell_type": "code",
   "execution_count": 93,
   "id": "c955d81b",
   "metadata": {},
   "outputs": [
    {
     "name": "stderr",
     "output_type": "stream",
     "text": [
      "INFO: Ignoring columns (no scaling): ['target']\n",
      "WARNING: Ignoring non-numeric columns: ['id', 'target', 'date']\n"
     ]
    },
    {
     "name": "stdout",
     "output_type": "stream",
     "text": [
      "\n",
      "Resumo das decisões por feature:\n"
     ]
    },
    {
     "data": {
      "text/html": [
       "<div>\n",
       "<style scoped>\n",
       "    .dataframe tbody tr th:only-of-type {\n",
       "        vertical-align: middle;\n",
       "    }\n",
       "\n",
       "    .dataframe tbody tr th {\n",
       "        vertical-align: top;\n",
       "    }\n",
       "\n",
       "    .dataframe thead th {\n",
       "        text-align: right;\n",
       "    }\n",
       "</style>\n",
       "<table border=\"1\" class=\"dataframe\">\n",
       "  <thead>\n",
       "    <tr style=\"text-align: right;\">\n",
       "      <th></th>\n",
       "      <th>chosen_scaler</th>\n",
       "      <th>validation_stats</th>\n",
       "      <th>ignored</th>\n",
       "      <th>candidates_tried</th>\n",
       "      <th>reason</th>\n",
       "    </tr>\n",
       "  </thead>\n",
       "  <tbody>\n",
       "    <tr>\n",
       "      <th>funded_amnt_inv</th>\n",
       "      <td>None</td>\n",
       "      <td>{'post_std': nan, 'post_iqr': nan, 'post_n_uni...</td>\n",
       "      <td>[]</td>\n",
       "      <td>[PowerTransformer, QuantileTransformer, Robust...</td>\n",
       "      <td>all_rejected</td>\n",
       "    </tr>\n",
       "    <tr>\n",
       "      <th>annual_inc</th>\n",
       "      <td>PowerTransformer</td>\n",
       "      <td>{'post_std': 1.0, 'post_iqr': 1.26501964263322...</td>\n",
       "      <td>[]</td>\n",
       "      <td>[PowerTransformer]</td>\n",
       "      <td>stats|skew|kurt</td>\n",
       "    </tr>\n",
       "    <tr>\n",
       "      <th>dti</th>\n",
       "      <td>None</td>\n",
       "      <td>{'post_std': nan, 'post_iqr': nan, 'post_n_uni...</td>\n",
       "      <td>[]</td>\n",
       "      <td>[PowerTransformer, QuantileTransformer, Robust...</td>\n",
       "      <td>all_rejected</td>\n",
       "    </tr>\n",
       "    <tr>\n",
       "      <th>fico_range_high</th>\n",
       "      <td>None</td>\n",
       "      <td>{'post_std': nan, 'post_iqr': nan, 'post_n_uni...</td>\n",
       "      <td>[]</td>\n",
       "      <td>[PowerTransformer, QuantileTransformer, Robust...</td>\n",
       "      <td>all_rejected</td>\n",
       "    </tr>\n",
       "    <tr>\n",
       "      <th>out_prncp_inv</th>\n",
       "      <td>None</td>\n",
       "      <td>{'post_std': nan, 'post_iqr': nan, 'post_n_uni...</td>\n",
       "      <td>[]</td>\n",
       "      <td>[PowerTransformer, QuantileTransformer, Robust...</td>\n",
       "      <td>all_rejected</td>\n",
       "    </tr>\n",
       "    <tr>\n",
       "      <th>total_rec_prncp</th>\n",
       "      <td>None</td>\n",
       "      <td>{'post_std': nan, 'post_iqr': nan, 'post_n_uni...</td>\n",
       "      <td>[]</td>\n",
       "      <td>[PowerTransformer, QuantileTransformer, Robust...</td>\n",
       "      <td>all_rejected</td>\n",
       "    </tr>\n",
       "    <tr>\n",
       "      <th>last_pymnt_amnt</th>\n",
       "      <td>PowerTransformer</td>\n",
       "      <td>{'post_std': 1.0, 'post_iqr': 1.56923735127910...</td>\n",
       "      <td>[]</td>\n",
       "      <td>[PowerTransformer]</td>\n",
       "      <td>stats|skew|kurt</td>\n",
       "    </tr>\n",
       "    <tr>\n",
       "      <th>last_fico_range_low</th>\n",
       "      <td>PowerTransformer</td>\n",
       "      <td>{'post_std': 1.0000000000000002, 'post_iqr': 1...</td>\n",
       "      <td>[]</td>\n",
       "      <td>[PowerTransformer]</td>\n",
       "      <td>stats|skew|kurt</td>\n",
       "    </tr>\n",
       "    <tr>\n",
       "      <th>acc_open_past_24mths</th>\n",
       "      <td>PowerTransformer</td>\n",
       "      <td>{'post_std': 1.0, 'post_iqr': 1.20893883988883...</td>\n",
       "      <td>[]</td>\n",
       "      <td>[PowerTransformer]</td>\n",
       "      <td>stats|skew|kurt</td>\n",
       "    </tr>\n",
       "    <tr>\n",
       "      <th>avg_cur_bal</th>\n",
       "      <td>PowerTransformer</td>\n",
       "      <td>{'post_std': 1.0, 'post_iqr': 1.51249370739571...</td>\n",
       "      <td>[]</td>\n",
       "      <td>[PowerTransformer]</td>\n",
       "      <td>stats|skew|kurt</td>\n",
       "    </tr>\n",
       "    <tr>\n",
       "      <th>bc_open_to_buy</th>\n",
       "      <td>PowerTransformer</td>\n",
       "      <td>{'post_std': 1.0, 'post_iqr': 1.29055342504368...</td>\n",
       "      <td>[]</td>\n",
       "      <td>[PowerTransformer]</td>\n",
       "      <td>stats|skew|kurt</td>\n",
       "    </tr>\n",
       "    <tr>\n",
       "      <th>mo_sin_old_rev_tl_op</th>\n",
       "      <td>None</td>\n",
       "      <td>{'post_std': nan, 'post_iqr': nan, 'post_n_uni...</td>\n",
       "      <td>[]</td>\n",
       "      <td>[PowerTransformer, QuantileTransformer, Robust...</td>\n",
       "      <td>all_rejected</td>\n",
       "    </tr>\n",
       "    <tr>\n",
       "      <th>mo_sin_rcnt_rev_tl_op</th>\n",
       "      <td>PowerTransformer</td>\n",
       "      <td>{'post_std': 1.0, 'post_iqr': 1.43332116911265...</td>\n",
       "      <td>[]</td>\n",
       "      <td>[PowerTransformer]</td>\n",
       "      <td>stats|skew|kurt</td>\n",
       "    </tr>\n",
       "    <tr>\n",
       "      <th>mo_sin_rcnt_tl</th>\n",
       "      <td>PowerTransformer</td>\n",
       "      <td>{'post_std': 1.0, 'post_iqr': 1.49008591585322...</td>\n",
       "      <td>[]</td>\n",
       "      <td>[PowerTransformer]</td>\n",
       "      <td>stats|skew|kurt</td>\n",
       "    </tr>\n",
       "    <tr>\n",
       "      <th>mort_acc</th>\n",
       "      <td>PowerTransformer</td>\n",
       "      <td>{'post_std': 1.0, 'post_iqr': 2.0841449775629,...</td>\n",
       "      <td>[]</td>\n",
       "      <td>[PowerTransformer]</td>\n",
       "      <td>stats|skew|kurt</td>\n",
       "    </tr>\n",
       "    <tr>\n",
       "      <th>mths_since_recent_bc</th>\n",
       "      <td>PowerTransformer</td>\n",
       "      <td>{'post_std': 1.0000000000000002, 'post_iqr': 1...</td>\n",
       "      <td>[]</td>\n",
       "      <td>[PowerTransformer]</td>\n",
       "      <td>stats|skew|kurt</td>\n",
       "    </tr>\n",
       "    <tr>\n",
       "      <th>mths_since_recent_inq</th>\n",
       "      <td>None</td>\n",
       "      <td>{'post_std': nan, 'post_iqr': nan, 'post_n_uni...</td>\n",
       "      <td>[]</td>\n",
       "      <td>[PowerTransformer, QuantileTransformer, Robust...</td>\n",
       "      <td>all_rejected</td>\n",
       "    </tr>\n",
       "    <tr>\n",
       "      <th>num_tl_op_past_12m</th>\n",
       "      <td>PowerTransformer</td>\n",
       "      <td>{'post_std': 1.0, 'post_iqr': 1.16035020794397...</td>\n",
       "      <td>[]</td>\n",
       "      <td>[PowerTransformer]</td>\n",
       "      <td>stats|skew|kurt</td>\n",
       "    </tr>\n",
       "    <tr>\n",
       "      <th>percent_bc_gt_75</th>\n",
       "      <td>PowerTransformer</td>\n",
       "      <td>{'post_std': 1.0000000000000002, 'post_iqr': 1...</td>\n",
       "      <td>[]</td>\n",
       "      <td>[PowerTransformer]</td>\n",
       "      <td>stats|skew|kurt</td>\n",
       "    </tr>\n",
       "    <tr>\n",
       "      <th>total_bc_limit</th>\n",
       "      <td>PowerTransformer</td>\n",
       "      <td>{'post_std': 1.0, 'post_iqr': 1.26037469956186...</td>\n",
       "      <td>[]</td>\n",
       "      <td>[PowerTransformer]</td>\n",
       "      <td>stats|skew|kurt</td>\n",
       "    </tr>\n",
       "  </tbody>\n",
       "</table>\n",
       "</div>"
      ],
      "text/plain": [
       "                          chosen_scaler  \\\n",
       "funded_amnt_inv                    None   \n",
       "annual_inc             PowerTransformer   \n",
       "dti                                None   \n",
       "fico_range_high                    None   \n",
       "out_prncp_inv                      None   \n",
       "total_rec_prncp                    None   \n",
       "last_pymnt_amnt        PowerTransformer   \n",
       "last_fico_range_low    PowerTransformer   \n",
       "acc_open_past_24mths   PowerTransformer   \n",
       "avg_cur_bal            PowerTransformer   \n",
       "bc_open_to_buy         PowerTransformer   \n",
       "mo_sin_old_rev_tl_op               None   \n",
       "mo_sin_rcnt_rev_tl_op  PowerTransformer   \n",
       "mo_sin_rcnt_tl         PowerTransformer   \n",
       "mort_acc               PowerTransformer   \n",
       "mths_since_recent_bc   PowerTransformer   \n",
       "mths_since_recent_inq              None   \n",
       "num_tl_op_past_12m     PowerTransformer   \n",
       "percent_bc_gt_75       PowerTransformer   \n",
       "total_bc_limit         PowerTransformer   \n",
       "\n",
       "                                                        validation_stats  \\\n",
       "funded_amnt_inv        {'post_std': nan, 'post_iqr': nan, 'post_n_uni...   \n",
       "annual_inc             {'post_std': 1.0, 'post_iqr': 1.26501964263322...   \n",
       "dti                    {'post_std': nan, 'post_iqr': nan, 'post_n_uni...   \n",
       "fico_range_high        {'post_std': nan, 'post_iqr': nan, 'post_n_uni...   \n",
       "out_prncp_inv          {'post_std': nan, 'post_iqr': nan, 'post_n_uni...   \n",
       "total_rec_prncp        {'post_std': nan, 'post_iqr': nan, 'post_n_uni...   \n",
       "last_pymnt_amnt        {'post_std': 1.0, 'post_iqr': 1.56923735127910...   \n",
       "last_fico_range_low    {'post_std': 1.0000000000000002, 'post_iqr': 1...   \n",
       "acc_open_past_24mths   {'post_std': 1.0, 'post_iqr': 1.20893883988883...   \n",
       "avg_cur_bal            {'post_std': 1.0, 'post_iqr': 1.51249370739571...   \n",
       "bc_open_to_buy         {'post_std': 1.0, 'post_iqr': 1.29055342504368...   \n",
       "mo_sin_old_rev_tl_op   {'post_std': nan, 'post_iqr': nan, 'post_n_uni...   \n",
       "mo_sin_rcnt_rev_tl_op  {'post_std': 1.0, 'post_iqr': 1.43332116911265...   \n",
       "mo_sin_rcnt_tl         {'post_std': 1.0, 'post_iqr': 1.49008591585322...   \n",
       "mort_acc               {'post_std': 1.0, 'post_iqr': 2.0841449775629,...   \n",
       "mths_since_recent_bc   {'post_std': 1.0000000000000002, 'post_iqr': 1...   \n",
       "mths_since_recent_inq  {'post_std': nan, 'post_iqr': nan, 'post_n_uni...   \n",
       "num_tl_op_past_12m     {'post_std': 1.0, 'post_iqr': 1.16035020794397...   \n",
       "percent_bc_gt_75       {'post_std': 1.0000000000000002, 'post_iqr': 1...   \n",
       "total_bc_limit         {'post_std': 1.0, 'post_iqr': 1.26037469956186...   \n",
       "\n",
       "                      ignored  \\\n",
       "funded_amnt_inv            []   \n",
       "annual_inc                 []   \n",
       "dti                        []   \n",
       "fico_range_high            []   \n",
       "out_prncp_inv              []   \n",
       "total_rec_prncp            []   \n",
       "last_pymnt_amnt            []   \n",
       "last_fico_range_low        []   \n",
       "acc_open_past_24mths       []   \n",
       "avg_cur_bal                []   \n",
       "bc_open_to_buy             []   \n",
       "mo_sin_old_rev_tl_op       []   \n",
       "mo_sin_rcnt_rev_tl_op      []   \n",
       "mo_sin_rcnt_tl             []   \n",
       "mort_acc                   []   \n",
       "mths_since_recent_bc       []   \n",
       "mths_since_recent_inq      []   \n",
       "num_tl_op_past_12m         []   \n",
       "percent_bc_gt_75           []   \n",
       "total_bc_limit             []   \n",
       "\n",
       "                                                        candidates_tried  \\\n",
       "funded_amnt_inv        [PowerTransformer, QuantileTransformer, Robust...   \n",
       "annual_inc                                            [PowerTransformer]   \n",
       "dti                    [PowerTransformer, QuantileTransformer, Robust...   \n",
       "fico_range_high        [PowerTransformer, QuantileTransformer, Robust...   \n",
       "out_prncp_inv          [PowerTransformer, QuantileTransformer, Robust...   \n",
       "total_rec_prncp        [PowerTransformer, QuantileTransformer, Robust...   \n",
       "last_pymnt_amnt                                       [PowerTransformer]   \n",
       "last_fico_range_low                                   [PowerTransformer]   \n",
       "acc_open_past_24mths                                  [PowerTransformer]   \n",
       "avg_cur_bal                                           [PowerTransformer]   \n",
       "bc_open_to_buy                                        [PowerTransformer]   \n",
       "mo_sin_old_rev_tl_op   [PowerTransformer, QuantileTransformer, Robust...   \n",
       "mo_sin_rcnt_rev_tl_op                                 [PowerTransformer]   \n",
       "mo_sin_rcnt_tl                                        [PowerTransformer]   \n",
       "mort_acc                                              [PowerTransformer]   \n",
       "mths_since_recent_bc                                  [PowerTransformer]   \n",
       "mths_since_recent_inq  [PowerTransformer, QuantileTransformer, Robust...   \n",
       "num_tl_op_past_12m                                    [PowerTransformer]   \n",
       "percent_bc_gt_75                                      [PowerTransformer]   \n",
       "total_bc_limit                                        [PowerTransformer]   \n",
       "\n",
       "                                reason  \n",
       "funded_amnt_inv           all_rejected  \n",
       "annual_inc             stats|skew|kurt  \n",
       "dti                       all_rejected  \n",
       "fico_range_high           all_rejected  \n",
       "out_prncp_inv             all_rejected  \n",
       "total_rec_prncp           all_rejected  \n",
       "last_pymnt_amnt        stats|skew|kurt  \n",
       "last_fico_range_low    stats|skew|kurt  \n",
       "acc_open_past_24mths   stats|skew|kurt  \n",
       "avg_cur_bal            stats|skew|kurt  \n",
       "bc_open_to_buy         stats|skew|kurt  \n",
       "mo_sin_old_rev_tl_op      all_rejected  \n",
       "mo_sin_rcnt_rev_tl_op  stats|skew|kurt  \n",
       "mo_sin_rcnt_tl         stats|skew|kurt  \n",
       "mort_acc               stats|skew|kurt  \n",
       "mths_since_recent_bc   stats|skew|kurt  \n",
       "mths_since_recent_inq     all_rejected  \n",
       "num_tl_op_past_12m     stats|skew|kurt  \n",
       "percent_bc_gt_75       stats|skew|kurt  \n",
       "total_bc_limit         stats|skew|kurt  "
      ]
     },
     "metadata": {},
     "output_type": "display_data"
    }
   ],
   "source": [
    "# Aplicar o DynamicScaler no treino\n",
    "from riskpilot.utils.scaler import DynamicScaler\n",
    "scaler = DynamicScaler(\n",
    "    strategy=\"auto\",\n",
    "    shapiro_p_val = 0.01, # se aumentar fica mais restritiva a escolha de StandardScaler()\n",
    "    #serialize=True,\n",
    "    #save_path=\"scalers.pkl\", # arquivo com informações de escalonamento salvas \n",
    "    random_state=42,\n",
    "    ignore_cols=ID_COLS+IGNORE_COLS+DATE_COLS+[TARGET]\n",
    ")\n",
    "\n",
    "scaler.fit(df_train)\n",
    "\n",
    "# Relatório das decisões\n",
    "print(\"\\nResumo das decisões por feature:\")\n",
    "display(scaler.report_as_df())"
   ]
  },
  {
   "cell_type": "code",
   "execution_count": 94,
   "id": "42b96416",
   "metadata": {},
   "outputs": [
    {
     "name": "stderr",
     "output_type": "stream",
     "text": [
      "INFO: Untouched columns preserved: ['id', 'target', 'date']\n"
     ]
    },
    {
     "name": "stdout",
     "output_type": "stream",
     "text": [
      "(23000, 20)\n",
      "(23000, 20)\n"
     ]
    }
   ],
   "source": [
    "#display(X_train.head())\n",
    "\n",
    "# 5. Transformar o conjunto de treino\n",
    "df_train_scaled = scaler.transform(df_train, return_df=True)\n",
    "X_train_scaled = scaler.transform(X_train, return_df=True)\n",
    "\n",
    "print(X_train.shape)\n",
    "print(X_train_scaled.shape)\n",
    "\n",
    "# print(\"\\nExemplo de dados escalados (treino):\")\n",
    "# display(X_train_scaled.head())"
   ]
  },
  {
   "cell_type": "code",
   "execution_count": 95,
   "id": "4bacd8fa",
   "metadata": {},
   "outputs": [
    {
     "name": "stderr",
     "output_type": "stream",
     "text": [
      "INFO: Untouched columns preserved: ['id', 'target', 'date']\n"
     ]
    },
    {
     "name": "stdout",
     "output_type": "stream",
     "text": [
      "(17000, 20)\n",
      "(17000, 20)\n"
     ]
    }
   ],
   "source": [
    "#display(X_test.head())\n",
    "\n",
    "# 5. Transformar o conjunto de treino\n",
    "df_test_scaled = scaler.transform(df_test, return_df=True)\n",
    "X_test_scaled = scaler.transform(X_test, return_df=True)\n",
    "\n",
    "print(X_test.shape)\n",
    "print(X_test_scaled.shape)\n",
    "\n",
    "\n",
    "# print(\"\\nExemplo de dados escalados (treino):\")\n",
    "# display(X_test_scaled.head())"
   ]
  },
  {
   "cell_type": "code",
   "execution_count": 18,
   "id": "2472fa54",
   "metadata": {},
   "outputs": [],
   "source": [
    "# # Visualizar\n",
    "# scaler.plot_histograms(\n",
    "#     df_train,\n",
    "#     X_train_scaled,\n",
    "#     features=num_cols)"
   ]
  },
  {
   "cell_type": "code",
   "execution_count": 19,
   "id": "5e4b67fa",
   "metadata": {},
   "outputs": [],
   "source": [
    "# encoder = WOEGuard(\n",
    "#     categorical_cols=categorical_cols,\n",
    "#     drop_original=True,       # mantém ou remove colunas originais\n",
    "#     suffix='_woe',            # sufixo para as novas colunas\n",
    "#     alpha=0.5,                # suavização Laplace\n",
    "#     default_woe=0.0,          # WoE default para categorias novas\n",
    "#     include_nan=True          # trata NaN como categoria separada\n",
    "# )"
   ]
  },
  {
   "cell_type": "code",
   "execution_count": 20,
   "id": "115645bf",
   "metadata": {},
   "outputs": [],
   "source": [
    "# # 2. Ajustar e transformar\n",
    "# df_transformed = encoder.fit_transform(\n",
    "#     X=df[categorical_cols], # a lista de colunas não precisa ser igual à categorical_cols, mas somente as que forem instanciadas no WOEGuard que serão codificadas.\n",
    "#     y=df[TARGET]\n",
    "# )\n",
    "# display(df_transformed)"
   ]
  },
  {
   "cell_type": "code",
   "execution_count": null,
   "id": "0e73d52a",
   "metadata": {},
   "outputs": [],
   "source": [
    "sample_weights_train = compute_sample_weight(class_weight='balanced', y=y_train)\n",
    "\n",
    "# # Modelo 1: Regressão Logística\n",
    "# model1 = LogisticRegression(\n",
    "#     max_iter=2000,\n",
    "#     solver='lbfgs',\n",
    "#     class_weight=None,      # Removido porque vamos usar sample_weight manualmente\n",
    "#     C=1.0\n",
    "# )\n",
    "# model1.fit(X_train, y_train, sample_weight=sample_weights_train)\n",
    "\n",
    "\n",
    "# Modelo 2: XGBoost\n",
    "\n",
    "\n",
    "model2 = XGBClassifier(\n",
    "    n_estimators=150,\n",
    "    #class_weights='balanced',\n",
    "    learning_rate=0.05,\n",
    "    max_depth=5,\n",
    "    subsample=0.85,\n",
    "    colsample_bytree=0.80,\n",
    "    #scale_pos_weight=1.0,\n",
    "    eval_metric='logloss',\n",
    "    random_state=42,\n",
    "    n_jobs=-1,\n",
    "    #enable_categorical=True,\n",
    "    #tree_method='hist'  # necessário com enable_categorical=True\n",
    ")\n",
    "model2.fit(\n",
    "    X_train,\n",
    "    y_train,\n",
    "    sample_weight=sample_weights_train\n",
    "    );"
   ]
  },
  {
   "cell_type": "code",
   "execution_count": 22,
   "id": "ed77aa39",
   "metadata": {},
   "outputs": [],
   "source": [
    "# gambiarra rapida\n",
    "#df_train = pd.concat([X_train_scaled, y_train], axis=1)\n",
    "#df_test = pd.concat([X_test_scaled, y_train], axis=1)"
   ]
  },
  {
   "cell_type": "code",
   "execution_count": null,
   "id": "b41417db",
   "metadata": {},
   "outputs": [
    {
     "data": {
      "text/plain": [
       "(Timestamp('2022-01-01 00:00:00'), Timestamp('2022-12-01 00:00:00'))"
      ]
     },
     "execution_count": 97,
     "metadata": {},
     "output_type": "execute_result"
    }
   ],
   "source": [
    "#df_train.shape\n",
    "df_train['date'].min(),df_train['date'].max()"
   ]
  },
  {
   "cell_type": "code",
   "execution_count": 98,
   "id": "9f09ed14",
   "metadata": {},
   "outputs": [],
   "source": [
    "evaluator = BinaryPerformanceEvaluator(\n",
    "    model=model2,\n",
    "    df_train=df_train,\n",
    "    df_test=df_test,\n",
    "    target_col='target',\n",
    "    id_cols=['id'],\n",
    "    date_col='date',\n",
    "    homogeneous_group='auto'\n",
    "    #group_col='group'\n",
    ")"
   ]
  },
  {
   "cell_type": "code",
   "execution_count": 99,
   "id": "5da19b01",
   "metadata": {},
   "outputs": [
    {
     "data": {
      "text/html": [
       "<div>\n",
       "<style scoped>\n",
       "    .dataframe tbody tr th:only-of-type {\n",
       "        vertical-align: middle;\n",
       "    }\n",
       "\n",
       "    .dataframe tbody tr th {\n",
       "        vertical-align: top;\n",
       "    }\n",
       "\n",
       "    .dataframe thead th {\n",
       "        text-align: right;\n",
       "    }\n",
       "</style>\n",
       "<table border=\"1\" class=\"dataframe\">\n",
       "  <thead>\n",
       "    <tr style=\"text-align: right;\">\n",
       "      <th></th>\n",
       "      <th>MCC</th>\n",
       "      <th>AUC_ROC</th>\n",
       "      <th>AUC_PR</th>\n",
       "      <th>Precision</th>\n",
       "      <th>Recall</th>\n",
       "      <th>Brier</th>\n",
       "    </tr>\n",
       "    <tr>\n",
       "      <th>Split</th>\n",
       "      <th></th>\n",
       "      <th></th>\n",
       "      <th></th>\n",
       "      <th></th>\n",
       "      <th></th>\n",
       "      <th></th>\n",
       "    </tr>\n",
       "  </thead>\n",
       "  <tbody>\n",
       "    <tr>\n",
       "      <th>Train</th>\n",
       "      <td>-0.741985</td>\n",
       "      <td>0.024709</td>\n",
       "      <td>0.094367</td>\n",
       "      <td>0.017004</td>\n",
       "      <td>0.073333</td>\n",
       "      <td>0.777770</td>\n",
       "    </tr>\n",
       "    <tr>\n",
       "      <th>Test</th>\n",
       "      <td>-0.550732</td>\n",
       "      <td>0.090639</td>\n",
       "      <td>0.097530</td>\n",
       "      <td>0.042036</td>\n",
       "      <td>0.169113</td>\n",
       "      <td>0.678358</td>\n",
       "    </tr>\n",
       "  </tbody>\n",
       "</table>\n",
       "</div>"
      ],
      "text/plain": [
       "            MCC   AUC_ROC    AUC_PR  Precision    Recall     Brier\n",
       "Split                                                             \n",
       "Train -0.741985  0.024709  0.094367   0.017004  0.073333  0.777770\n",
       "Test  -0.550732  0.090639  0.097530   0.042036  0.169113  0.678358"
      ]
     },
     "metadata": {},
     "output_type": "display_data"
    }
   ],
   "source": [
    "# 1) Como antes – métricas globais por split\n",
    "metrics_global = evaluator.compute_metrics()\n",
    "display(metrics_global)"
   ]
  },
  {
   "cell_type": "code",
   "execution_count": 100,
   "id": "a07f9e00",
   "metadata": {},
   "outputs": [
    {
     "data": {
      "text/html": [
       "<div>\n",
       "<style scoped>\n",
       "    .dataframe tbody tr th:only-of-type {\n",
       "        vertical-align: middle;\n",
       "    }\n",
       "\n",
       "    .dataframe tbody tr th {\n",
       "        vertical-align: top;\n",
       "    }\n",
       "\n",
       "    .dataframe thead th {\n",
       "        text-align: right;\n",
       "    }\n",
       "</style>\n",
       "<table border=\"1\" class=\"dataframe\">\n",
       "  <thead>\n",
       "    <tr style=\"text-align: right;\">\n",
       "      <th></th>\n",
       "      <th></th>\n",
       "      <th>MCC</th>\n",
       "      <th>AUC_ROC</th>\n",
       "      <th>AUC_PR</th>\n",
       "      <th>Precision</th>\n",
       "      <th>Recall</th>\n",
       "      <th>Brier</th>\n",
       "    </tr>\n",
       "    <tr>\n",
       "      <th>Split</th>\n",
       "      <th>Period</th>\n",
       "      <th></th>\n",
       "      <th></th>\n",
       "      <th></th>\n",
       "      <th></th>\n",
       "      <th></th>\n",
       "      <th></th>\n",
       "    </tr>\n",
       "  </thead>\n",
       "  <tbody>\n",
       "    <tr>\n",
       "      <th rowspan=\"12\" valign=\"top\">Train</th>\n",
       "      <th>2022-01-01</th>\n",
       "      <td>-0.978695</td>\n",
       "      <td>0.000607</td>\n",
       "      <td>0.094347</td>\n",
       "      <td>0.004249</td>\n",
       "      <td>0.019763</td>\n",
       "      <td>0.889340</td>\n",
       "    </tr>\n",
       "    <tr>\n",
       "      <th>2022-02-01</th>\n",
       "      <td>-0.628980</td>\n",
       "      <td>0.060852</td>\n",
       "      <td>0.100368</td>\n",
       "      <td>0.034341</td>\n",
       "      <td>0.136612</td>\n",
       "      <td>0.702400</td>\n",
       "    </tr>\n",
       "    <tr>\n",
       "      <th>2022-03-01</th>\n",
       "      <td>-0.602675</td>\n",
       "      <td>0.055851</td>\n",
       "      <td>0.085090</td>\n",
       "      <td>0.023320</td>\n",
       "      <td>0.108280</td>\n",
       "      <td>0.696905</td>\n",
       "    </tr>\n",
       "    <tr>\n",
       "      <th>2022-04-01</th>\n",
       "      <td>-0.600001</td>\n",
       "      <td>0.064109</td>\n",
       "      <td>0.100673</td>\n",
       "      <td>0.037604</td>\n",
       "      <td>0.147541</td>\n",
       "      <td>0.696587</td>\n",
       "    </tr>\n",
       "    <tr>\n",
       "      <th>2022-05-01</th>\n",
       "      <td>-0.600345</td>\n",
       "      <td>0.055312</td>\n",
       "      <td>0.098895</td>\n",
       "      <td>0.031161</td>\n",
       "      <td>0.122222</td>\n",
       "      <td>0.685484</td>\n",
       "    </tr>\n",
       "    <tr>\n",
       "      <th>2022-06-01</th>\n",
       "      <td>-0.593724</td>\n",
       "      <td>0.059125</td>\n",
       "      <td>0.097028</td>\n",
       "      <td>0.030561</td>\n",
       "      <td>0.120787</td>\n",
       "      <td>0.693893</td>\n",
       "    </tr>\n",
       "    <tr>\n",
       "      <th>2022-07-01</th>\n",
       "      <td>-0.645598</td>\n",
       "      <td>0.043282</td>\n",
       "      <td>0.094004</td>\n",
       "      <td>0.008696</td>\n",
       "      <td>0.034884</td>\n",
       "      <td>0.684514</td>\n",
       "    </tr>\n",
       "    <tr>\n",
       "      <th>2022-08-01</th>\n",
       "      <td>-0.605637</td>\n",
       "      <td>0.061283</td>\n",
       "      <td>0.091125</td>\n",
       "      <td>0.025766</td>\n",
       "      <td>0.110448</td>\n",
       "      <td>0.687094</td>\n",
       "    </tr>\n",
       "    <tr>\n",
       "      <th>2022-09-01</th>\n",
       "      <td>-0.626632</td>\n",
       "      <td>0.053689</td>\n",
       "      <td>0.096588</td>\n",
       "      <td>0.022663</td>\n",
       "      <td>0.090395</td>\n",
       "      <td>0.699636</td>\n",
       "    </tr>\n",
       "    <tr>\n",
       "      <th>2022-10-01</th>\n",
       "      <td>-0.597877</td>\n",
       "      <td>0.061351</td>\n",
       "      <td>0.097168</td>\n",
       "      <td>0.029745</td>\n",
       "      <td>0.118644</td>\n",
       "      <td>0.690910</td>\n",
       "    </tr>\n",
       "    <tr>\n",
       "      <th>2022-11-01</th>\n",
       "      <td>-0.595941</td>\n",
       "      <td>0.065040</td>\n",
       "      <td>0.095423</td>\n",
       "      <td>0.026429</td>\n",
       "      <td>0.106017</td>\n",
       "      <td>0.685064</td>\n",
       "    </tr>\n",
       "    <tr>\n",
       "      <th>2022-12-01</th>\n",
       "      <td>-0.591588</td>\n",
       "      <td>0.063129</td>\n",
       "      <td>0.102267</td>\n",
       "      <td>0.035663</td>\n",
       "      <td>0.134409</td>\n",
       "      <td>0.691763</td>\n",
       "    </tr>\n",
       "  </tbody>\n",
       "</table>\n",
       "</div>"
      ],
      "text/plain": [
       "                       MCC   AUC_ROC    AUC_PR  Precision    Recall     Brier\n",
       "Split Period                                                                 \n",
       "Train 2022-01-01 -0.978695  0.000607  0.094347   0.004249  0.019763  0.889340\n",
       "      2022-02-01 -0.628980  0.060852  0.100368   0.034341  0.136612  0.702400\n",
       "      2022-03-01 -0.602675  0.055851  0.085090   0.023320  0.108280  0.696905\n",
       "      2022-04-01 -0.600001  0.064109  0.100673   0.037604  0.147541  0.696587\n",
       "      2022-05-01 -0.600345  0.055312  0.098895   0.031161  0.122222  0.685484\n",
       "      2022-06-01 -0.593724  0.059125  0.097028   0.030561  0.120787  0.693893\n",
       "      2022-07-01 -0.645598  0.043282  0.094004   0.008696  0.034884  0.684514\n",
       "      2022-08-01 -0.605637  0.061283  0.091125   0.025766  0.110448  0.687094\n",
       "      2022-09-01 -0.626632  0.053689  0.096588   0.022663  0.090395  0.699636\n",
       "      2022-10-01 -0.597877  0.061351  0.097168   0.029745  0.118644  0.690910\n",
       "      2022-11-01 -0.595941  0.065040  0.095423   0.026429  0.106017  0.685064\n",
       "      2022-12-01 -0.591588  0.063129  0.102267   0.035663  0.134409  0.691763"
      ]
     },
     "metadata": {},
     "output_type": "display_data"
    }
   ],
   "source": [
    "# 2) Evolução por safra\n",
    "metrics_by_vintage = evaluator.compute_metrics(by_date_col=True)\n",
    "display(metrics_by_vintage.head(12))"
   ]
  },
  {
   "cell_type": "code",
   "execution_count": 101,
   "id": "712b8111",
   "metadata": {},
   "outputs": [
    {
     "data": {
      "image/png": "[encoded data removed]",
      "text/plain": [
       "<Figure size 800x400 with 1 Axes>"
      ]
     },
     "metadata": {},
     "output_type": "display_data"
    }
   ],
   "source": [
    "# Ex.: plotar MCC ao longo do tempo\n",
    "(\n",
    "    metrics_by_vintage[\"AUC_ROC\"]\n",
    "    .unstack(level=\"Split\")\n",
    "    .plot(marker=\"o\", figsize=(8,4), title=\"AUC_ROC por safra\").grid(visible=False)\n",
    ")"
   ]
  },
  {
   "cell_type": "code",
   "execution_count": 102,
   "id": "57a4aaa8",
   "metadata": {},
   "outputs": [
    {
     "data": {
      "image/png": "[encoded data removed]",
      "text/plain": [
       "<Figure size 1000x500 with 2 Axes>"
      ]
     },
     "execution_count": 102,
     "metadata": {},
     "output_type": "execute_result"
    }
   ],
   "source": [
    "evaluator.plot_confusion(\n",
    "    splits=[\"train\",'test']\n",
    "    )"
   ]
  },
  {
   "cell_type": "code",
   "execution_count": 103,
   "id": "4237ea03",
   "metadata": {},
   "outputs": [
    {
     "data": {
      "image/png": "[encoded data removed]",
      "text/plain": [
       "<Figure size 1000x500 with 2 Axes>"
      ]
     },
     "execution_count": 103,
     "metadata": {},
     "output_type": "execute_result"
    }
   ],
   "source": [
    "evaluator.plot_calibration(\n",
    "    splits=[\"train\",'test']\n",
    "    )"
   ]
  },
  {
   "cell_type": "code",
   "execution_count": null,
   "id": "e63df1e0",
   "metadata": {},
   "outputs": [],
   "source": [
    "# hover text nao foi melhorado\n",
    "\n",
    "#evaluator.plot_event_rate()"
   ]
  },
  {
   "cell_type": "code",
   "execution_count": null,
   "id": "5547e6ac",
   "metadata": {},
   "outputs": [],
   "source": [
    "# falta aplicar a separação por graficos com parametro features\n",
    "# feature='acc_open_past_24_mths'\n",
    "\n",
    "#evaluator.plot_psi()"
   ]
  },
  {
   "cell_type": "code",
   "execution_count": 104,
   "id": "96a246ff",
   "metadata": {},
   "outputs": [
    {
     "data": {
      "application/vnd.plotly.v1+json": {
       "config": {
        "plotlyServerURL": "https://plot.ly"
       },
       "data": [
        {
         "mode": "lines+markers",
         "name": "Test",
         "type": "scatter",
         "x": [
          "2023-01-01T00:00:00.000000000",
          "2023-02-01T00:00:00.000000000",
          "2023-03-01T00:00:00.000000000",
          "2023-04-01T00:00:00.000000000",
          "2023-05-01T00:00:00.000000000",
          "2023-06-01T00:00:00.000000000",
          "2023-07-01T00:00:00.000000000",
          "2023-08-01T00:00:00.000000000",
          "2023-09-01T00:00:00.000000000",
          "2023-10-01T00:00:00.000000000",
          "2023-11-01T00:00:00.000000000",
          "2023-12-01T00:00:00.000000000"
         ],
         "y": {
          "bdata": "U4qlW3H35T/wMTmEsNDkP5RX1gqpouY/XBWdpi+t4z+YFPaPwoflP3EObumxF+U/wvKG24f85T/iUBQhkOLkPwLlAtepH+Q/3OMW3pKP5T8YaccKhJHmP1oqG1wCFuU/",
          "dtype": "f8"
         }
        },
        {
         "mode": "lines+markers",
         "name": "Train",
         "type": "scatter",
         "x": [
          "2022-01-01T00:00:00.000000000",
          "2022-02-01T00:00:00.000000000",
          "2022-03-01T00:00:00.000000000",
          "2022-04-01T00:00:00.000000000",
          "2022-05-01T00:00:00.000000000",
          "2022-06-01T00:00:00.000000000",
          "2022-07-01T00:00:00.000000000",
          "2022-08-01T00:00:00.000000000",
          "2022-09-01T00:00:00.000000000",
          "2022-10-01T00:00:00.000000000",
          "2022-11-01T00:00:00.000000000",
          "2022-12-01T00:00:00.000000000"
         ],
         "y": {
          "bdata": "/sqLt8hh7z++QmRT92XnP1pB+2oNGeg/FwGlp10x5z+BbGod/CvnP/eVROj02uY/WqZIuhcb6j/+3LHqa5rnP9BSImOqU+g/NoIVB3ei5z9K/IwHezDnPyREfy37Kuc/",
          "dtype": "f8"
         }
        }
       ],
       "layout": {
        "annotations": [
         {
          "showarrow": false,
          "text": "0.05",
          "x": 1,
          "xanchor": "right",
          "xref": "x domain",
          "y": 0.05,
          "yanchor": "bottom",
          "yref": "y"
         }
        ],
        "shapes": [
         {
          "line": {
           "color": "gray",
           "dash": "dash"
          },
          "type": "line",
          "x0": 0,
          "x1": 1,
          "xref": "x domain",
          "y0": 0.05,
          "y1": 0.05,
          "yref": "y"
         }
        ],
        "template": {
         "data": {
          "bar": [
           {
            "error_x": {
             "color": "#2a3f5f"
            },
            "error_y": {
             "color": "#2a3f5f"
            },
            "marker": {
             "line": {
              "color": "white",
              "width": 0.5
             },
             "pattern": {
              "fillmode": "overlay",
              "size": 10,
              "solidity": 0.2
             }
            },
            "type": "bar"
           }
          ],
          "barpolar": [
           {
            "marker": {
             "line": {
              "color": "white",
              "width": 0.5
             },
             "pattern": {
              "fillmode": "overlay",
              "size": 10,
              "solidity": 0.2
             }
            },
            "type": "barpolar"
           }
          ],
          "carpet": [
           {
            "aaxis": {
             "endlinecolor": "#2a3f5f",
             "gridcolor": "#C8D4E3",
             "linecolor": "#C8D4E3",
             "minorgridcolor": "#C8D4E3",
             "startlinecolor": "#2a3f5f"
            },
            "baxis": {
             "endlinecolor": "#2a3f5f",
             "gridcolor": "#C8D4E3",
             "linecolor": "#C8D4E3",
             "minorgridcolor": "#C8D4E3",
             "startlinecolor": "#2a3f5f"
            },
            "type": "carpet"
           }
          ],
          "choropleth": [
           {
            "colorbar": {
             "outlinewidth": 0,
             "ticks": ""
            },
            "type": "choropleth"
           }
          ],
          "contour": [
           {
            "colorbar": {
             "outlinewidth": 0,
             "ticks": ""
            },
            "colorscale": [
             [
              0,
              "#0d0887"
             ],
             [
              0.1111111111111111,
              "#46039f"
             ],
             [
              0.2222222222222222,
              "#7201a8"
             ],
             [
              0.3333333333333333,
              "#9c179e"
             ],
             [
              0.4444444444444444,
              "#bd3786"
             ],
             [
              0.5555555555555556,
              "#d8576b"
             ],
             [
              0.6666666666666666,
              "#ed7953"
             ],
             [
              0.7777777777777778,
              "#fb9f3a"
             ],
             [
              0.8888888888888888,
              "#fdca26"
             ],
             [
              1,
              "#f0f921"
             ]
            ],
            "type": "contour"
           }
          ],
          "contourcarpet": [
           {
            "colorbar": {
             "outlinewidth": 0,
             "ticks": ""
            },
            "type": "contourcarpet"
           }
          ],
          "heatmap": [
           {
            "colorbar": {
             "outlinewidth": 0,
             "ticks": ""
            },
            "colorscale": [
             [
              0,
              "#0d0887"
             ],
             [
              0.1111111111111111,
              "#46039f"
             ],
             [
              0.2222222222222222,
              "#7201a8"
             ],
             [
              0.3333333333333333,
              "#9c179e"
             ],
             [
              0.4444444444444444,
              "#bd3786"
             ],
             [
              0.5555555555555556,
              "#d8576b"
             ],
             [
              0.6666666666666666,
              "#ed7953"
             ],
             [
              0.7777777777777778,
              "#fb9f3a"
             ],
             [
              0.8888888888888888,
              "#fdca26"
             ],
             [
              1,
              "#f0f921"
             ]
            ],
            "type": "heatmap"
           }
          ],
          "histogram": [
           {
            "marker": {
             "pattern": {
              "fillmode": "overlay",
              "size": 10,
              "solidity": 0.2
             }
            },
            "type": "histogram"
           }
          ],
          "histogram2d": [
           {
            "colorbar": {
             "outlinewidth": 0,
             "ticks": ""
            },
            "colorscale": [
             [
              0,
              "#0d0887"
             ],
             [
              0.1111111111111111,
              "#46039f"
             ],
             [
              0.2222222222222222,
              "#7201a8"
             ],
             [
              0.3333333333333333,
              "#9c179e"
             ],
             [
              0.4444444444444444,
              "#bd3786"
             ],
             [
              0.5555555555555556,
              "#d8576b"
             ],
             [
              0.6666666666666666,
              "#ed7953"
             ],
             [
              0.7777777777777778,
              "#fb9f3a"
             ],
             [
              0.8888888888888888,
              "#fdca26"
             ],
             [
              1,
              "#f0f921"
             ]
            ],
            "type": "histogram2d"
           }
          ],
          "histogram2dcontour": [
           {
            "colorbar": {
             "outlinewidth": 0,
             "ticks": ""
            },
            "colorscale": [
             [
              0,
              "#0d0887"
             ],
             [
              0.1111111111111111,
              "#46039f"
             ],
             [
              0.2222222222222222,
              "#7201a8"
             ],
             [
              0.3333333333333333,
              "#9c179e"
             ],
             [
              0.4444444444444444,
              "#bd3786"
             ],
             [
              0.5555555555555556,
              "#d8576b"
             ],
             [
              0.6666666666666666,
              "#ed7953"
             ],
             [
              0.7777777777777778,
              "#fb9f3a"
             ],
             [
              0.8888888888888888,
              "#fdca26"
             ],
             [
              1,
              "#f0f921"
             ]
            ],
            "type": "histogram2dcontour"
           }
          ],
          "mesh3d": [
           {
            "colorbar": {
             "outlinewidth": 0,
             "ticks": ""
            },
            "type": "mesh3d"
           }
          ],
          "parcoords": [
           {
            "line": {
             "colorbar": {
              "outlinewidth": 0,
              "ticks": ""
             }
            },
            "type": "parcoords"
           }
          ],
          "pie": [
           {
            "automargin": true,
            "type": "pie"
           }
          ],
          "scatter": [
           {
            "fillpattern": {
             "fillmode": "overlay",
             "size": 10,
             "solidity": 0.2
            },
            "type": "scatter"
           }
          ],
          "scatter3d": [
           {
            "line": {
             "colorbar": {
              "outlinewidth": 0,
              "ticks": ""
             }
            },
            "marker": {
             "colorbar": {
              "outlinewidth": 0,
              "ticks": ""
             }
            },
            "type": "scatter3d"
           }
          ],
          "scattercarpet": [
           {
            "marker": {
             "colorbar": {
              "outlinewidth": 0,
              "ticks": ""
             }
            },
            "type": "scattercarpet"
           }
          ],
          "scattergeo": [
           {
            "marker": {
             "colorbar": {
              "outlinewidth": 0,
              "ticks": ""
             }
            },
            "type": "scattergeo"
           }
          ],
          "scattergl": [
           {
            "marker": {
             "colorbar": {
              "outlinewidth": 0,
              "ticks": ""
             }
            },
            "type": "scattergl"
           }
          ],
          "scattermap": [
           {
            "marker": {
             "colorbar": {
              "outlinewidth": 0,
              "ticks": ""
             }
            },
            "type": "scattermap"
           }
          ],
          "scattermapbox": [
           {
            "marker": {
             "colorbar": {
              "outlinewidth": 0,
              "ticks": ""
             }
            },
            "type": "scattermapbox"
           }
          ],
          "scatterpolar": [
           {
            "marker": {
             "colorbar": {
              "outlinewidth": 0,
              "ticks": ""
             }
            },
            "type": "scatterpolar"
           }
          ],
          "scatterpolargl": [
           {
            "marker": {
             "colorbar": {
              "outlinewidth": 0,
              "ticks": ""
             }
            },
            "type": "scatterpolargl"
           }
          ],
          "scatterternary": [
           {
            "marker": {
             "colorbar": {
              "outlinewidth": 0,
              "ticks": ""
             }
            },
            "type": "scatterternary"
           }
          ],
          "surface": [
           {
            "colorbar": {
             "outlinewidth": 0,
             "ticks": ""
            },
            "colorscale": [
             [
              0,
              "#0d0887"
             ],
             [
              0.1111111111111111,
              "#46039f"
             ],
             [
              0.2222222222222222,
              "#7201a8"
             ],
             [
              0.3333333333333333,
              "#9c179e"
             ],
             [
              0.4444444444444444,
              "#bd3786"
             ],
             [
              0.5555555555555556,
              "#d8576b"
             ],
             [
              0.6666666666666666,
              "#ed7953"
             ],
             [
              0.7777777777777778,
              "#fb9f3a"
             ],
             [
              0.8888888888888888,
              "#fdca26"
             ],
             [
              1,
              "#f0f921"
             ]
            ],
            "type": "surface"
           }
          ],
          "table": [
           {
            "cells": {
             "fill": {
              "color": "#EBF0F8"
             },
             "line": {
              "color": "white"
             }
            },
            "header": {
             "fill": {
              "color": "#C8D4E3"
             },
             "line": {
              "color": "white"
             }
            },
            "type": "table"
           }
          ]
         },
         "layout": {
          "annotationdefaults": {
           "arrowcolor": "#2a3f5f",
           "arrowhead": 0,
           "arrowwidth": 1
          },
          "autotypenumbers": "strict",
          "coloraxis": {
           "colorbar": {
            "outlinewidth": 0,
            "ticks": ""
           }
          },
          "colorscale": {
           "diverging": [
            [
             0,
             "#8e0152"
            ],
            [
             0.1,
             "#c51b7d"
            ],
            [
             0.2,
             "#de77ae"
            ],
            [
             0.3,
             "#f1b6da"
            ],
            [
             0.4,
             "#fde0ef"
            ],
            [
             0.5,
             "#f7f7f7"
            ],
            [
             0.6,
             "#e6f5d0"
            ],
            [
             0.7,
             "#b8e186"
            ],
            [
             0.8,
             "#7fbc41"
            ],
            [
             0.9,
             "#4d9221"
            ],
            [
             1,
             "#276419"
            ]
           ],
           "sequential": [
            [
             0,
             "#0d0887"
            ],
            [
             0.1111111111111111,
             "#46039f"
            ],
            [
             0.2222222222222222,
             "#7201a8"
            ],
            [
             0.3333333333333333,
             "#9c179e"
            ],
            [
             0.4444444444444444,
             "#bd3786"
            ],
            [
             0.5555555555555556,
             "#d8576b"
            ],
            [
             0.6666666666666666,
             "#ed7953"
            ],
            [
             0.7777777777777778,
             "#fb9f3a"
            ],
            [
             0.8888888888888888,
             "#fdca26"
            ],
            [
             1,
             "#f0f921"
            ]
           ],
           "sequentialminus": [
            [
             0,
             "#0d0887"
            ],
            [
             0.1111111111111111,
             "#46039f"
            ],
            [
             0.2222222222222222,
             "#7201a8"
            ],
            [
             0.3333333333333333,
             "#9c179e"
            ],
            [
             0.4444444444444444,
             "#bd3786"
            ],
            [
             0.5555555555555556,
             "#d8576b"
            ],
            [
             0.6666666666666666,
             "#ed7953"
            ],
            [
             0.7777777777777778,
             "#fb9f3a"
            ],
            [
             0.8888888888888888,
             "#fdca26"
            ],
            [
             1,
             "#f0f921"
            ]
           ]
          },
          "colorway": [
           "#636efa",
           "#EF553B",
           "#00cc96",
           "#ab63fa",
           "#FFA15A",
           "#19d3f3",
           "#FF6692",
           "#B6E880",
           "#FF97FF",
           "#FECB52"
          ],
          "font": {
           "color": "#2a3f5f"
          },
          "geo": {
           "bgcolor": "white",
           "lakecolor": "white",
           "landcolor": "white",
           "showlakes": true,
           "showland": true,
           "subunitcolor": "#C8D4E3"
          },
          "hoverlabel": {
           "align": "left"
          },
          "hovermode": "closest",
          "mapbox": {
           "style": "light"
          },
          "paper_bgcolor": "white",
          "plot_bgcolor": "white",
          "polar": {
           "angularaxis": {
            "gridcolor": "#EBF0F8",
            "linecolor": "#EBF0F8",
            "ticks": ""
           },
           "bgcolor": "white",
           "radialaxis": {
            "gridcolor": "#EBF0F8",
            "linecolor": "#EBF0F8",
            "ticks": ""
           }
          },
          "scene": {
           "xaxis": {
            "backgroundcolor": "white",
            "gridcolor": "#DFE8F3",
            "gridwidth": 2,
            "linecolor": "#EBF0F8",
            "showbackground": true,
            "ticks": "",
            "zerolinecolor": "#EBF0F8"
           },
           "yaxis": {
            "backgroundcolor": "white",
            "gridcolor": "#DFE8F3",
            "gridwidth": 2,
            "linecolor": "#EBF0F8",
            "showbackground": true,
            "ticks": "",
            "zerolinecolor": "#EBF0F8"
           },
           "zaxis": {
            "backgroundcolor": "white",
            "gridcolor": "#DFE8F3",
            "gridwidth": 2,
            "linecolor": "#EBF0F8",
            "showbackground": true,
            "ticks": "",
            "zerolinecolor": "#EBF0F8"
           }
          },
          "shapedefaults": {
           "line": {
            "color": "#2a3f5f"
           }
          },
          "ternary": {
           "aaxis": {
            "gridcolor": "#DFE8F3",
            "linecolor": "#A2B1C6",
            "ticks": ""
           },
           "baxis": {
            "gridcolor": "#DFE8F3",
            "linecolor": "#A2B1C6",
            "ticks": ""
           },
           "bgcolor": "white",
           "caxis": {
            "gridcolor": "#DFE8F3",
            "linecolor": "#A2B1C6",
            "ticks": ""
           }
          },
          "title": {
           "x": 0.05
          },
          "xaxis": {
           "automargin": true,
           "gridcolor": "#EBF0F8",
           "linecolor": "#EBF0F8",
           "ticks": "",
           "title": {
            "standoff": 15
           },
           "zerolinecolor": "#EBF0F8",
           "zerolinewidth": 2
          },
          "yaxis": {
           "automargin": true,
           "gridcolor": "#EBF0F8",
           "linecolor": "#EBF0F8",
           "ticks": "",
           "title": {
            "standoff": 15
           },
           "zerolinecolor": "#EBF0F8",
           "zerolinewidth": 2
          }
         }
        },
        "title": {
         "text": "KS Evolution over Time"
        },
        "xaxis": {
         "title": {
          "text": "Period"
         }
        },
        "yaxis": {
         "title": {
          "text": "Kolmogorov–Smirnov"
         }
        }
       }
      }
     },
     "metadata": {},
     "output_type": "display_data"
    }
   ],
   "source": [
    "evaluator.plot_ks()"
   ]
  },
  {
   "cell_type": "code",
   "execution_count": 105,
   "id": "31d816de",
   "metadata": {},
   "outputs": [
    {
     "data": {
      "application/vnd.plotly.v1+json": {
       "config": {
        "plotlyServerURL": "https://plot.ly"
       },
       "data": [
        {
         "fill": "toself",
         "fillcolor": "rgba(217,58,70,0.3)",
         "line": {
          "color": "rgba(217,58,70,0.8)"
         },
         "name": "Group (-inf, 33.29)",
         "r": [
          0.1661607360648954,
          -0.08080284433439737,
          0.17410262312351477,
          -0.3165463785482239,
          -0.3005014706448251,
          -1.0428684541900972,
          -0.5955152742871754,
          -1.8331377801355377,
          0.3966056603933603,
          -0.1663431991674608,
          -0.17419603904518352,
          -0.21000505638420525,
          -0.149734614041369,
          -0.18432069292239336,
          -0.15494377281502933,
          -0.1859239154727921,
          -0.180929022278998,
          0.3285187895807089,
          0.1349125045519261,
          -0.1487457350889001,
          0.1661607360648954
         ],
         "theta": [
          "funded_amnt_inv",
          "annual_inc",
          "dti",
          "fico_range_high",
          "out_prncp_inv",
          "total_rec_prncp",
          "last_pymnt_amnt",
          "last_fico_range_low",
          "acc_open_past_24mths",
          "avg_cur_bal",
          "bc_open_to_buy",
          "mo_sin_old_rev_tl_op",
          "mo_sin_rcnt_rev_tl_op",
          "mo_sin_rcnt_tl",
          "mort_acc",
          "mths_since_recent_bc",
          "mths_since_recent_inq",
          "num_tl_op_past_12m",
          "percent_bc_gt_75",
          "total_bc_limit",
          "funded_amnt_inv"
         ],
         "type": "scatterpolar"
        },
        {
         "fill": "toself",
         "fillcolor": "rgba(242,241,241,0.3)",
         "line": {
          "color": "rgba(242,241,241,0.8)"
         },
         "name": "Group [118.55, 462.37)",
         "r": [
          0.022503780102828396,
          -0.0395913221758969,
          0.0915976180535877,
          -0.19658186756509236,
          -0.010984041382656231,
          -0.49854804843380257,
          -0.3436455683789517,
          -0.5021258504371856,
          0.14183289504108043,
          -0.05717832538396704,
          -0.11308888906351887,
          -0.0751327886417995,
          -0.05092988177283975,
          -0.08860874891331108,
          -0.07966629066744758,
          -0.05528358055757705,
          -0.06657904543703012,
          0.12690052103201707,
          0.09079396220894077,
          -0.10274323098881921,
          0.022503780102828396
         ],
         "theta": [
          "funded_amnt_inv",
          "annual_inc",
          "dti",
          "fico_range_high",
          "out_prncp_inv",
          "total_rec_prncp",
          "last_pymnt_amnt",
          "last_fico_range_low",
          "acc_open_past_24mths",
          "avg_cur_bal",
          "bc_open_to_buy",
          "mo_sin_old_rev_tl_op",
          "mo_sin_rcnt_rev_tl_op",
          "mo_sin_rcnt_tl",
          "mort_acc",
          "mths_since_recent_bc",
          "mths_since_recent_inq",
          "num_tl_op_past_12m",
          "percent_bc_gt_75",
          "total_bc_limit",
          "funded_amnt_inv"
         ],
         "type": "scatterpolar"
        },
        {
         "fill": "toself",
         "fillcolor": "rgba(230,148,154,0.3)",
         "line": {
          "color": "rgba(230,148,154,0.8)"
         },
         "name": "Group [33.29, 118.55)",
         "r": [
          -0.06551174950415897,
          -0.077118155259666,
          0.1061704281462227,
          -0.29877775995926514,
          -0.20050357970211222,
          -0.7787518364554479,
          -0.48737113953042716,
          -1.1559523909650036,
          0.24544012384630823,
          -0.1639192982138477,
          -0.17197763988007989,
          -0.16712733192665893,
          -0.1301023039196961,
          -0.15188129977024797,
          -0.15258303961968603,
          -0.12178970397119841,
          -0.1535852115547722,
          0.2283621447855694,
          0.0753469557094121,
          -0.206135289939524,
          -0.06551174950415897
         ],
         "theta": [
          "funded_amnt_inv",
          "annual_inc",
          "dti",
          "fico_range_high",
          "out_prncp_inv",
          "total_rec_prncp",
          "last_pymnt_amnt",
          "last_fico_range_low",
          "acc_open_past_24mths",
          "avg_cur_bal",
          "bc_open_to_buy",
          "mo_sin_old_rev_tl_op",
          "mo_sin_rcnt_rev_tl_op",
          "mo_sin_rcnt_tl",
          "mort_acc",
          "mths_since_recent_bc",
          "mths_since_recent_inq",
          "num_tl_op_past_12m",
          "percent_bc_gt_75",
          "total_bc_limit",
          "funded_amnt_inv"
         ],
         "type": "scatterpolar"
        },
        {
         "fill": "toself",
         "fillcolor": "rgba(153,183,205,0.3)",
         "line": {
          "color": "rgba(153,183,205,0.8)"
         },
         "name": "Group [462.37, 885.84)",
         "r": [
          0.05853285232739947,
          0.011803483910294609,
          0.02905194932702637,
          -0.027463482349200197,
          0.1073724352229755,
          -0.1695205921716827,
          -0.14706417126956295,
          -0.008794660289879935,
          0.043947195497799636,
          -0.007182897294469233,
          -0.01497852469761936,
          -0.0122432433168766,
          -0.04145346204084412,
          -0.04279277772327971,
          -0.003913693894692273,
          -0.02672187145281726,
          -0.02911129243366516,
          0.0370303371355487,
          0.007723895826126578,
          -0.016382792480105757,
          0.05853285232739947
         ],
         "theta": [
          "funded_amnt_inv",
          "annual_inc",
          "dti",
          "fico_range_high",
          "out_prncp_inv",
          "total_rec_prncp",
          "last_pymnt_amnt",
          "last_fico_range_low",
          "acc_open_past_24mths",
          "avg_cur_bal",
          "bc_open_to_buy",
          "mo_sin_old_rev_tl_op",
          "mo_sin_rcnt_rev_tl_op",
          "mo_sin_rcnt_tl",
          "mort_acc",
          "mths_since_recent_bc",
          "mths_since_recent_inq",
          "num_tl_op_past_12m",
          "percent_bc_gt_75",
          "total_bc_limit",
          "funded_amnt_inv"
         ],
         "type": "scatterpolar"
        },
        {
         "fill": "toself",
         "fillcolor": "rgba(65,124,167,0.3)",
         "line": {
          "color": "rgba(65,124,167,0.8)"
         },
         "name": "Group [885.84, inf)",
         "r": [
          -0.03477498013726023,
          0.022400946382072247,
          -0.06340228194028323,
          0.12659425566737834,
          0.013702541152842366,
          0.3850359879774296,
          0.25976159108299546,
          0.44322195142441445,
          -0.1199757741166444,
          0.053457936421203944,
          0.07180648651054551,
          0.06412954579801727,
          0.05955870971737244,
          0.07517794306014265,
          0.05503840123791359,
          0.056877064933699664,
          0.06435840546106521,
          -0.10525226425506737,
          -0.04709945639847119,
          0.07216942011461565,
          -0.03477498013726023
         ],
         "theta": [
          "funded_amnt_inv",
          "annual_inc",
          "dti",
          "fico_range_high",
          "out_prncp_inv",
          "total_rec_prncp",
          "last_pymnt_amnt",
          "last_fico_range_low",
          "acc_open_past_24mths",
          "avg_cur_bal",
          "bc_open_to_buy",
          "mo_sin_old_rev_tl_op",
          "mo_sin_rcnt_rev_tl_op",
          "mo_sin_rcnt_tl",
          "mort_acc",
          "mths_since_recent_bc",
          "mths_since_recent_inq",
          "num_tl_op_past_12m",
          "percent_bc_gt_75",
          "total_bc_limit",
          "funded_amnt_inv"
         ],
         "type": "scatterpolar"
        }
       ],
       "layout": {
        "polar": {
         "radialaxis": {
          "visible": false
         }
        },
        "showlegend": true,
        "template": {
         "data": {
          "bar": [
           {
            "error_x": {
             "color": "#2a3f5f"
            },
            "error_y": {
             "color": "#2a3f5f"
            },
            "marker": {
             "line": {
              "color": "white",
              "width": 0.5
             },
             "pattern": {
              "fillmode": "overlay",
              "size": 10,
              "solidity": 0.2
             }
            },
            "type": "bar"
           }
          ],
          "barpolar": [
           {
            "marker": {
             "line": {
              "color": "white",
              "width": 0.5
             },
             "pattern": {
              "fillmode": "overlay",
              "size": 10,
              "solidity": 0.2
             }
            },
            "type": "barpolar"
           }
          ],
          "carpet": [
           {
            "aaxis": {
             "endlinecolor": "#2a3f5f",
             "gridcolor": "#C8D4E3",
             "linecolor": "#C8D4E3",
             "minorgridcolor": "#C8D4E3",
             "startlinecolor": "#2a3f5f"
            },
            "baxis": {
             "endlinecolor": "#2a3f5f",
             "gridcolor": "#C8D4E3",
             "linecolor": "#C8D4E3",
             "minorgridcolor": "#C8D4E3",
             "startlinecolor": "#2a3f5f"
            },
            "type": "carpet"
           }
          ],
          "choropleth": [
           {
            "colorbar": {
             "outlinewidth": 0,
             "ticks": ""
            },
            "type": "choropleth"
           }
          ],
          "contour": [
           {
            "colorbar": {
             "outlinewidth": 0,
             "ticks": ""
            },
            "colorscale": [
             [
              0,
              "#0d0887"
             ],
             [
              0.1111111111111111,
              "#46039f"
             ],
             [
              0.2222222222222222,
              "#7201a8"
             ],
             [
              0.3333333333333333,
              "#9c179e"
             ],
             [
              0.4444444444444444,
              "#bd3786"
             ],
             [
              0.5555555555555556,
              "#d8576b"
             ],
             [
              0.6666666666666666,
              "#ed7953"
             ],
             [
              0.7777777777777778,
              "#fb9f3a"
             ],
             [
              0.8888888888888888,
              "#fdca26"
             ],
             [
              1,
              "#f0f921"
             ]
            ],
            "type": "contour"
           }
          ],
          "contourcarpet": [
           {
            "colorbar": {
             "outlinewidth": 0,
             "ticks": ""
            },
            "type": "contourcarpet"
           }
          ],
          "heatmap": [
           {
            "colorbar": {
             "outlinewidth": 0,
             "ticks": ""
            },
            "colorscale": [
             [
              0,
              "#0d0887"
             ],
             [
              0.1111111111111111,
              "#46039f"
             ],
             [
              0.2222222222222222,
              "#7201a8"
             ],
             [
              0.3333333333333333,
              "#9c179e"
             ],
             [
              0.4444444444444444,
              "#bd3786"
             ],
             [
              0.5555555555555556,
              "#d8576b"
             ],
             [
              0.6666666666666666,
              "#ed7953"
             ],
             [
              0.7777777777777778,
              "#fb9f3a"
             ],
             [
              0.8888888888888888,
              "#fdca26"
             ],
             [
              1,
              "#f0f921"
             ]
            ],
            "type": "heatmap"
           }
          ],
          "histogram": [
           {
            "marker": {
             "pattern": {
              "fillmode": "overlay",
              "size": 10,
              "solidity": 0.2
             }
            },
            "type": "histogram"
           }
          ],
          "histogram2d": [
           {
            "colorbar": {
             "outlinewidth": 0,
             "ticks": ""
            },
            "colorscale": [
             [
              0,
              "#0d0887"
             ],
             [
              0.1111111111111111,
              "#46039f"
             ],
             [
              0.2222222222222222,
              "#7201a8"
             ],
             [
              0.3333333333333333,
              "#9c179e"
             ],
             [
              0.4444444444444444,
              "#bd3786"
             ],
             [
              0.5555555555555556,
              "#d8576b"
             ],
             [
              0.6666666666666666,
              "#ed7953"
             ],
             [
              0.7777777777777778,
              "#fb9f3a"
             ],
             [
              0.8888888888888888,
              "#fdca26"
             ],
             [
              1,
              "#f0f921"
             ]
            ],
            "type": "histogram2d"
           }
          ],
          "histogram2dcontour": [
           {
            "colorbar": {
             "outlinewidth": 0,
             "ticks": ""
            },
            "colorscale": [
             [
              0,
              "#0d0887"
             ],
             [
              0.1111111111111111,
              "#46039f"
             ],
             [
              0.2222222222222222,
              "#7201a8"
             ],
             [
              0.3333333333333333,
              "#9c179e"
             ],
             [
              0.4444444444444444,
              "#bd3786"
             ],
             [
              0.5555555555555556,
              "#d8576b"
             ],
             [
              0.6666666666666666,
              "#ed7953"
             ],
             [
              0.7777777777777778,
              "#fb9f3a"
             ],
             [
              0.8888888888888888,
              "#fdca26"
             ],
             [
              1,
              "#f0f921"
             ]
            ],
            "type": "histogram2dcontour"
           }
          ],
          "mesh3d": [
           {
            "colorbar": {
             "outlinewidth": 0,
             "ticks": ""
            },
            "type": "mesh3d"
           }
          ],
          "parcoords": [
           {
            "line": {
             "colorbar": {
              "outlinewidth": 0,
              "ticks": ""
             }
            },
            "type": "parcoords"
           }
          ],
          "pie": [
           {
            "automargin": true,
            "type": "pie"
           }
          ],
          "scatter": [
           {
            "fillpattern": {
             "fillmode": "overlay",
             "size": 10,
             "solidity": 0.2
            },
            "type": "scatter"
           }
          ],
          "scatter3d": [
           {
            "line": {
             "colorbar": {
              "outlinewidth": 0,
              "ticks": ""
             }
            },
            "marker": {
             "colorbar": {
              "outlinewidth": 0,
              "ticks": ""
             }
            },
            "type": "scatter3d"
           }
          ],
          "scattercarpet": [
           {
            "marker": {
             "colorbar": {
              "outlinewidth": 0,
              "ticks": ""
             }
            },
            "type": "scattercarpet"
           }
          ],
          "scattergeo": [
           {
            "marker": {
             "colorbar": {
              "outlinewidth": 0,
              "ticks": ""
             }
            },
            "type": "scattergeo"
           }
          ],
          "scattergl": [
           {
            "marker": {
             "colorbar": {
              "outlinewidth": 0,
              "ticks": ""
             }
            },
            "type": "scattergl"
           }
          ],
          "scattermap": [
           {
            "marker": {
             "colorbar": {
              "outlinewidth": 0,
              "ticks": ""
             }
            },
            "type": "scattermap"
           }
          ],
          "scattermapbox": [
           {
            "marker": {
             "colorbar": {
              "outlinewidth": 0,
              "ticks": ""
             }
            },
            "type": "scattermapbox"
           }
          ],
          "scatterpolar": [
           {
            "marker": {
             "colorbar": {
              "outlinewidth": 0,
              "ticks": ""
             }
            },
            "type": "scatterpolar"
           }
          ],
          "scatterpolargl": [
           {
            "marker": {
             "colorbar": {
              "outlinewidth": 0,
              "ticks": ""
             }
            },
            "type": "scatterpolargl"
           }
          ],
          "scatterternary": [
           {
            "marker": {
             "colorbar": {
              "outlinewidth": 0,
              "ticks": ""
             }
            },
            "type": "scatterternary"
           }
          ],
          "surface": [
           {
            "colorbar": {
             "outlinewidth": 0,
             "ticks": ""
            },
            "colorscale": [
             [
              0,
              "#0d0887"
             ],
             [
              0.1111111111111111,
              "#46039f"
             ],
             [
              0.2222222222222222,
              "#7201a8"
             ],
             [
              0.3333333333333333,
              "#9c179e"
             ],
             [
              0.4444444444444444,
              "#bd3786"
             ],
             [
              0.5555555555555556,
              "#d8576b"
             ],
             [
              0.6666666666666666,
              "#ed7953"
             ],
             [
              0.7777777777777778,
              "#fb9f3a"
             ],
             [
              0.8888888888888888,
              "#fdca26"
             ],
             [
              1,
              "#f0f921"
             ]
            ],
            "type": "surface"
           }
          ],
          "table": [
           {
            "cells": {
             "fill": {
              "color": "#EBF0F8"
             },
             "line": {
              "color": "white"
             }
            },
            "header": {
             "fill": {
              "color": "#C8D4E3"
             },
             "line": {
              "color": "white"
             }
            },
            "type": "table"
           }
          ]
         },
         "layout": {
          "annotationdefaults": {
           "arrowcolor": "#2a3f5f",
           "arrowhead": 0,
           "arrowwidth": 1
          },
          "autotypenumbers": "strict",
          "coloraxis": {
           "colorbar": {
            "outlinewidth": 0,
            "ticks": ""
           }
          },
          "colorscale": {
           "diverging": [
            [
             0,
             "#8e0152"
            ],
            [
             0.1,
             "#c51b7d"
            ],
            [
             0.2,
             "#de77ae"
            ],
            [
             0.3,
             "#f1b6da"
            ],
            [
             0.4,
             "#fde0ef"
            ],
            [
             0.5,
             "#f7f7f7"
            ],
            [
             0.6,
             "#e6f5d0"
            ],
            [
             0.7,
             "#b8e186"
            ],
            [
             0.8,
             "#7fbc41"
            ],
            [
             0.9,
             "#4d9221"
            ],
            [
             1,
             "#276419"
            ]
           ],
           "sequential": [
            [
             0,
             "#0d0887"
            ],
            [
             0.1111111111111111,
             "#46039f"
            ],
            [
             0.2222222222222222,
             "#7201a8"
            ],
            [
             0.3333333333333333,
             "#9c179e"
            ],
            [
             0.4444444444444444,
             "#bd3786"
            ],
            [
             0.5555555555555556,
             "#d8576b"
            ],
            [
             0.6666666666666666,
             "#ed7953"
            ],
            [
             0.7777777777777778,
             "#fb9f3a"
            ],
            [
             0.8888888888888888,
             "#fdca26"
            ],
            [
             1,
             "#f0f921"
            ]
           ],
           "sequentialminus": [
            [
             0,
             "#0d0887"
            ],
            [
             0.1111111111111111,
             "#46039f"
            ],
            [
             0.2222222222222222,
             "#7201a8"
            ],
            [
             0.3333333333333333,
             "#9c179e"
            ],
            [
             0.4444444444444444,
             "#bd3786"
            ],
            [
             0.5555555555555556,
             "#d8576b"
            ],
            [
             0.6666666666666666,
             "#ed7953"
            ],
            [
             0.7777777777777778,
             "#fb9f3a"
            ],
            [
             0.8888888888888888,
             "#fdca26"
            ],
            [
             1,
             "#f0f921"
            ]
           ]
          },
          "colorway": [
           "#636efa",
           "#EF553B",
           "#00cc96",
           "#ab63fa",
           "#FFA15A",
           "#19d3f3",
           "#FF6692",
           "#B6E880",
           "#FF97FF",
           "#FECB52"
          ],
          "font": {
           "color": "#2a3f5f"
          },
          "geo": {
           "bgcolor": "white",
           "lakecolor": "white",
           "landcolor": "white",
           "showlakes": true,
           "showland": true,
           "subunitcolor": "#C8D4E3"
          },
          "hoverlabel": {
           "align": "left"
          },
          "hovermode": "closest",
          "mapbox": {
           "style": "light"
          },
          "paper_bgcolor": "white",
          "plot_bgcolor": "white",
          "polar": {
           "angularaxis": {
            "gridcolor": "#EBF0F8",
            "linecolor": "#EBF0F8",
            "ticks": ""
           },
           "bgcolor": "white",
           "radialaxis": {
            "gridcolor": "#EBF0F8",
            "linecolor": "#EBF0F8",
            "ticks": ""
           }
          },
          "scene": {
           "xaxis": {
            "backgroundcolor": "white",
            "gridcolor": "#DFE8F3",
            "gridwidth": 2,
            "linecolor": "#EBF0F8",
            "showbackground": true,
            "ticks": "",
            "zerolinecolor": "#EBF0F8"
           },
           "yaxis": {
            "backgroundcolor": "white",
            "gridcolor": "#DFE8F3",
            "gridwidth": 2,
            "linecolor": "#EBF0F8",
            "showbackground": true,
            "ticks": "",
            "zerolinecolor": "#EBF0F8"
           },
           "zaxis": {
            "backgroundcolor": "white",
            "gridcolor": "#DFE8F3",
            "gridwidth": 2,
            "linecolor": "#EBF0F8",
            "showbackground": true,
            "ticks": "",
            "zerolinecolor": "#EBF0F8"
           }
          },
          "shapedefaults": {
           "line": {
            "color": "#2a3f5f"
           }
          },
          "ternary": {
           "aaxis": {
            "gridcolor": "#DFE8F3",
            "linecolor": "#A2B1C6",
            "ticks": ""
           },
           "baxis": {
            "gridcolor": "#DFE8F3",
            "linecolor": "#A2B1C6",
            "ticks": ""
           },
           "bgcolor": "white",
           "caxis": {
            "gridcolor": "#DFE8F3",
            "linecolor": "#A2B1C6",
            "ticks": ""
           }
          },
          "title": {
           "x": 0.05
          },
          "xaxis": {
           "automargin": true,
           "gridcolor": "#EBF0F8",
           "linecolor": "#EBF0F8",
           "ticks": "",
           "title": {
            "standoff": 15
           },
           "zerolinecolor": "#EBF0F8",
           "zerolinewidth": 2
          },
          "yaxis": {
           "automargin": true,
           "gridcolor": "#EBF0F8",
           "linecolor": "#EBF0F8",
           "ticks": "",
           "title": {
            "standoff": 15
           },
           "zerolinecolor": "#EBF0F8",
           "zerolinewidth": 2
          }
         }
        },
        "title": {
         "text": "Group Radar"
        }
       }
      }
     },
     "metadata": {},
     "output_type": "display_data"
    }
   ],
   "source": [
    "evaluator.plot_group_radar()"
   ]
  },
  {
   "cell_type": "code",
   "execution_count": 106,
   "id": "7f354455",
   "metadata": {},
   "outputs": [
    {
     "data": {
      "application/vnd.plotly.v1+json": {
       "config": {
        "plotlyServerURL": "https://plot.ly"
       },
       "data": [
        {
         "marker": {
          "color": "#4527a0"
         },
         "name": "Qtd contrato decil",
         "text": [
          "4.000",
          "4.000",
          "4.000",
          "4.000",
          "4.000",
          "4.000",
          "4.000",
          "4.000",
          "4.000",
          "4.000"
         ],
         "textfont": {
          "family": "Arial Black"
         },
         "type": "bar",
         "x": [
          "1",
          "2",
          "3",
          "4",
          "5",
          "6",
          "7",
          "8",
          "9",
          "10"
         ],
         "xaxis": "x",
         "y": {
          "bdata": "oA+gD6APoA+gD6APoA+gD6APoA8=",
          "dtype": "i2"
         },
         "yaxis": "y"
        },
        {
         "line": {
          "color": "#fa6300"
         },
         "marker": {
          "color": "#fa6300"
         },
         "mode": "lines+markers+text",
         "name": "Taxa default",
         "text": [
          "87.95%",
          "50.85%",
          "23.18%",
          "9.75%",
          "3.12%",
          "0.68%",
          "0.38%",
          "0.22%",
          "0.05%",
          "0.03%"
         ],
         "textfont": {
          "color": "#fa6300",
          "family": "Arial Black"
         },
         "textposition": "top center",
         "type": "scatter",
         "x": [
          "1",
          "2",
          "3",
          "4",
          "5",
          "6",
          "7",
          "8",
          "9",
          "10"
         ],
         "xaxis": "x",
         "y": {
          "bdata": "vp8aL90k7D8Sg8DKoUXgP0SLbOf7qc0/9ihcj8L1uD8AAAAAAACgP9nO91PjpXs/uB6F61G4bj8730+Nl25iP/yp8dJNYkA//Knx0k1iMD8=",
          "dtype": "f8"
         },
         "yaxis": "y2"
        }
       ],
       "layout": {
        "annotations": [
         {
          "font": {
           "color": "#059fed"
          },
          "showarrow": false,
          "text": "<b>Média</b>",
          "x": 1,
          "xanchor": "right",
          "xref": "x domain",
          "y": 0.1762,
          "yanchor": "bottom",
          "yref": "y"
         }
        ],
        "bargap": 0.2,
        "legend": {
         "orientation": "h",
         "x": 1,
         "xanchor": "right",
         "y": 1.02,
         "yanchor": "bottom"
        },
        "shapes": [
         {
          "line": {
           "color": "#059fed",
           "dash": "dash"
          },
          "type": "line",
          "x0": 0,
          "x1": 1,
          "xref": "x domain",
          "y0": 0.1762,
          "y1": 0.1762,
          "yref": "y2"
         }
        ],
        "template": {
         "data": {
          "bar": [
           {
            "error_x": {
             "color": "rgb(36,36,36)"
            },
            "error_y": {
             "color": "rgb(36,36,36)"
            },
            "marker": {
             "line": {
              "color": "white",
              "width": 0.5
             },
             "pattern": {
              "fillmode": "overlay",
              "size": 10,
              "solidity": 0.2
             }
            },
            "type": "bar"
           }
          ],
          "barpolar": [
           {
            "marker": {
             "line": {
              "color": "white",
              "width": 0.5
             },
             "pattern": {
              "fillmode": "overlay",
              "size": 10,
              "solidity": 0.2
             }
            },
            "type": "barpolar"
           }
          ],
          "carpet": [
           {
            "aaxis": {
             "endlinecolor": "rgb(36,36,36)",
             "gridcolor": "white",
             "linecolor": "white",
             "minorgridcolor": "white",
             "startlinecolor": "rgb(36,36,36)"
            },
            "baxis": {
             "endlinecolor": "rgb(36,36,36)",
             "gridcolor": "white",
             "linecolor": "white",
             "minorgridcolor": "white",
             "startlinecolor": "rgb(36,36,36)"
            },
            "type": "carpet"
           }
          ],
          "choropleth": [
           {
            "colorbar": {
             "outlinewidth": 1,
             "tickcolor": "rgb(36,36,36)",
             "ticks": "outside"
            },
            "type": "choropleth"
           }
          ],
          "contour": [
           {
            "colorbar": {
             "outlinewidth": 1,
             "tickcolor": "rgb(36,36,36)",
             "ticks": "outside"
            },
            "colorscale": [
             [
              0,
              "#440154"
             ],
             [
              0.1111111111111111,
              "#482878"
             ],
             [
              0.2222222222222222,
              "#3e4989"
             ],
             [
              0.3333333333333333,
              "#31688e"
             ],
             [
              0.4444444444444444,
              "#26828e"
             ],
             [
              0.5555555555555556,
              "#1f9e89"
             ],
             [
              0.6666666666666666,
              "#35b779"
             ],
             [
              0.7777777777777778,
              "#6ece58"
             ],
             [
              0.8888888888888888,
              "#b5de2b"
             ],
             [
              1,
              "#fde725"
             ]
            ],
            "type": "contour"
           }
          ],
          "contourcarpet": [
           {
            "colorbar": {
             "outlinewidth": 1,
             "tickcolor": "rgb(36,36,36)",
             "ticks": "outside"
            },
            "type": "contourcarpet"
           }
          ],
          "heatmap": [
           {
            "colorbar": {
             "outlinewidth": 1,
             "tickcolor": "rgb(36,36,36)",
             "ticks": "outside"
            },
            "colorscale": [
             [
              0,
              "#440154"
             ],
             [
              0.1111111111111111,
              "#482878"
             ],
             [
              0.2222222222222222,
              "#3e4989"
             ],
             [
              0.3333333333333333,
              "#31688e"
             ],
             [
              0.4444444444444444,
              "#26828e"
             ],
             [
              0.5555555555555556,
              "#1f9e89"
             ],
             [
              0.6666666666666666,
              "#35b779"
             ],
             [
              0.7777777777777778,
              "#6ece58"
             ],
             [
              0.8888888888888888,
              "#b5de2b"
             ],
             [
              1,
              "#fde725"
             ]
            ],
            "type": "heatmap"
           }
          ],
          "histogram": [
           {
            "marker": {
             "line": {
              "color": "white",
              "width": 0.6
             }
            },
            "type": "histogram"
           }
          ],
          "histogram2d": [
           {
            "colorbar": {
             "outlinewidth": 1,
             "tickcolor": "rgb(36,36,36)",
             "ticks": "outside"
            },
            "colorscale": [
             [
              0,
              "#440154"
             ],
             [
              0.1111111111111111,
              "#482878"
             ],
             [
              0.2222222222222222,
              "#3e4989"
             ],
             [
              0.3333333333333333,
              "#31688e"
             ],
             [
              0.4444444444444444,
              "#26828e"
             ],
             [
              0.5555555555555556,
              "#1f9e89"
             ],
             [
              0.6666666666666666,
              "#35b779"
             ],
             [
              0.7777777777777778,
              "#6ece58"
             ],
             [
              0.8888888888888888,
              "#b5de2b"
             ],
             [
              1,
              "#fde725"
             ]
            ],
            "type": "histogram2d"
           }
          ],
          "histogram2dcontour": [
           {
            "colorbar": {
             "outlinewidth": 1,
             "tickcolor": "rgb(36,36,36)",
             "ticks": "outside"
            },
            "colorscale": [
             [
              0,
              "#440154"
             ],
             [
              0.1111111111111111,
              "#482878"
             ],
             [
              0.2222222222222222,
              "#3e4989"
             ],
             [
              0.3333333333333333,
              "#31688e"
             ],
             [
              0.4444444444444444,
              "#26828e"
             ],
             [
              0.5555555555555556,
              "#1f9e89"
             ],
             [
              0.6666666666666666,
              "#35b779"
             ],
             [
              0.7777777777777778,
              "#6ece58"
             ],
             [
              0.8888888888888888,
              "#b5de2b"
             ],
             [
              1,
              "#fde725"
             ]
            ],
            "type": "histogram2dcontour"
           }
          ],
          "mesh3d": [
           {
            "colorbar": {
             "outlinewidth": 1,
             "tickcolor": "rgb(36,36,36)",
             "ticks": "outside"
            },
            "type": "mesh3d"
           }
          ],
          "parcoords": [
           {
            "line": {
             "colorbar": {
              "outlinewidth": 1,
              "tickcolor": "rgb(36,36,36)",
              "ticks": "outside"
             }
            },
            "type": "parcoords"
           }
          ],
          "pie": [
           {
            "automargin": true,
            "type": "pie"
           }
          ],
          "scatter": [
           {
            "fillpattern": {
             "fillmode": "overlay",
             "size": 10,
             "solidity": 0.2
            },
            "type": "scatter"
           }
          ],
          "scatter3d": [
           {
            "line": {
             "colorbar": {
              "outlinewidth": 1,
              "tickcolor": "rgb(36,36,36)",
              "ticks": "outside"
             }
            },
            "marker": {
             "colorbar": {
              "outlinewidth": 1,
              "tickcolor": "rgb(36,36,36)",
              "ticks": "outside"
             }
            },
            "type": "scatter3d"
           }
          ],
          "scattercarpet": [
           {
            "marker": {
             "colorbar": {
              "outlinewidth": 1,
              "tickcolor": "rgb(36,36,36)",
              "ticks": "outside"
             }
            },
            "type": "scattercarpet"
           }
          ],
          "scattergeo": [
           {
            "marker": {
             "colorbar": {
              "outlinewidth": 1,
              "tickcolor": "rgb(36,36,36)",
              "ticks": "outside"
             }
            },
            "type": "scattergeo"
           }
          ],
          "scattergl": [
           {
            "marker": {
             "colorbar": {
              "outlinewidth": 1,
              "tickcolor": "rgb(36,36,36)",
              "ticks": "outside"
             }
            },
            "type": "scattergl"
           }
          ],
          "scattermap": [
           {
            "marker": {
             "colorbar": {
              "outlinewidth": 1,
              "tickcolor": "rgb(36,36,36)",
              "ticks": "outside"
             }
            },
            "type": "scattermap"
           }
          ],
          "scattermapbox": [
           {
            "marker": {
             "colorbar": {
              "outlinewidth": 1,
              "tickcolor": "rgb(36,36,36)",
              "ticks": "outside"
             }
            },
            "type": "scattermapbox"
           }
          ],
          "scatterpolar": [
           {
            "marker": {
             "colorbar": {
              "outlinewidth": 1,
              "tickcolor": "rgb(36,36,36)",
              "ticks": "outside"
             }
            },
            "type": "scatterpolar"
           }
          ],
          "scatterpolargl": [
           {
            "marker": {
             "colorbar": {
              "outlinewidth": 1,
              "tickcolor": "rgb(36,36,36)",
              "ticks": "outside"
             }
            },
            "type": "scatterpolargl"
           }
          ],
          "scatterternary": [
           {
            "marker": {
             "colorbar": {
              "outlinewidth": 1,
              "tickcolor": "rgb(36,36,36)",
              "ticks": "outside"
             }
            },
            "type": "scatterternary"
           }
          ],
          "surface": [
           {
            "colorbar": {
             "outlinewidth": 1,
             "tickcolor": "rgb(36,36,36)",
             "ticks": "outside"
            },
            "colorscale": [
             [
              0,
              "#440154"
             ],
             [
              0.1111111111111111,
              "#482878"
             ],
             [
              0.2222222222222222,
              "#3e4989"
             ],
             [
              0.3333333333333333,
              "#31688e"
             ],
             [
              0.4444444444444444,
              "#26828e"
             ],
             [
              0.5555555555555556,
              "#1f9e89"
             ],
             [
              0.6666666666666666,
              "#35b779"
             ],
             [
              0.7777777777777778,
              "#6ece58"
             ],
             [
              0.8888888888888888,
              "#b5de2b"
             ],
             [
              1,
              "#fde725"
             ]
            ],
            "type": "surface"
           }
          ],
          "table": [
           {
            "cells": {
             "fill": {
              "color": "rgb(237,237,237)"
             },
             "line": {
              "color": "white"
             }
            },
            "header": {
             "fill": {
              "color": "rgb(217,217,217)"
             },
             "line": {
              "color": "white"
             }
            },
            "type": "table"
           }
          ]
         },
         "layout": {
          "annotationdefaults": {
           "arrowhead": 0,
           "arrowwidth": 1
          },
          "autotypenumbers": "strict",
          "coloraxis": {
           "colorbar": {
            "outlinewidth": 1,
            "tickcolor": "rgb(36,36,36)",
            "ticks": "outside"
           }
          },
          "colorscale": {
           "diverging": [
            [
             0,
             "rgb(103,0,31)"
            ],
            [
             0.1,
             "rgb(178,24,43)"
            ],
            [
             0.2,
             "rgb(214,96,77)"
            ],
            [
             0.3,
             "rgb(244,165,130)"
            ],
            [
             0.4,
             "rgb(253,219,199)"
            ],
            [
             0.5,
             "rgb(247,247,247)"
            ],
            [
             0.6,
             "rgb(209,229,240)"
            ],
            [
             0.7,
             "rgb(146,197,222)"
            ],
            [
             0.8,
             "rgb(67,147,195)"
            ],
            [
             0.9,
             "rgb(33,102,172)"
            ],
            [
             1,
             "rgb(5,48,97)"
            ]
           ],
           "sequential": [
            [
             0,
             "#440154"
            ],
            [
             0.1111111111111111,
             "#482878"
            ],
            [
             0.2222222222222222,
             "#3e4989"
            ],
            [
             0.3333333333333333,
             "#31688e"
            ],
            [
             0.4444444444444444,
             "#26828e"
            ],
            [
             0.5555555555555556,
             "#1f9e89"
            ],
            [
             0.6666666666666666,
             "#35b779"
            ],
            [
             0.7777777777777778,
             "#6ece58"
            ],
            [
             0.8888888888888888,
             "#b5de2b"
            ],
            [
             1,
             "#fde725"
            ]
           ],
           "sequentialminus": [
            [
             0,
             "#440154"
            ],
            [
             0.1111111111111111,
             "#482878"
            ],
            [
             0.2222222222222222,
             "#3e4989"
            ],
            [
             0.3333333333333333,
             "#31688e"
            ],
            [
             0.4444444444444444,
             "#26828e"
            ],
            [
             0.5555555555555556,
             "#1f9e89"
            ],
            [
             0.6666666666666666,
             "#35b779"
            ],
            [
             0.7777777777777778,
             "#6ece58"
            ],
            [
             0.8888888888888888,
             "#b5de2b"
            ],
            [
             1,
             "#fde725"
            ]
           ]
          },
          "colorway": [
           "#1F77B4",
           "#FF7F0E",
           "#2CA02C",
           "#D62728",
           "#9467BD",
           "#8C564B",
           "#E377C2",
           "#7F7F7F",
           "#BCBD22",
           "#17BECF"
          ],
          "font": {
           "color": "rgb(36,36,36)"
          },
          "geo": {
           "bgcolor": "white",
           "lakecolor": "white",
           "landcolor": "white",
           "showlakes": true,
           "showland": true,
           "subunitcolor": "white"
          },
          "hoverlabel": {
           "align": "left"
          },
          "hovermode": "closest",
          "mapbox": {
           "style": "light"
          },
          "paper_bgcolor": "white",
          "plot_bgcolor": "white",
          "polar": {
           "angularaxis": {
            "gridcolor": "rgb(232,232,232)",
            "linecolor": "rgb(36,36,36)",
            "showgrid": false,
            "showline": true,
            "ticks": "outside"
           },
           "bgcolor": "white",
           "radialaxis": {
            "gridcolor": "rgb(232,232,232)",
            "linecolor": "rgb(36,36,36)",
            "showgrid": false,
            "showline": true,
            "ticks": "outside"
           }
          },
          "scene": {
           "xaxis": {
            "backgroundcolor": "white",
            "gridcolor": "rgb(232,232,232)",
            "gridwidth": 2,
            "linecolor": "rgb(36,36,36)",
            "showbackground": true,
            "showgrid": false,
            "showline": true,
            "ticks": "outside",
            "zeroline": false,
            "zerolinecolor": "rgb(36,36,36)"
           },
           "yaxis": {
            "backgroundcolor": "white",
            "gridcolor": "rgb(232,232,232)",
            "gridwidth": 2,
            "linecolor": "rgb(36,36,36)",
            "showbackground": true,
            "showgrid": false,
            "showline": true,
            "ticks": "outside",
            "zeroline": false,
            "zerolinecolor": "rgb(36,36,36)"
           },
           "zaxis": {
            "backgroundcolor": "white",
            "gridcolor": "rgb(232,232,232)",
            "gridwidth": 2,
            "linecolor": "rgb(36,36,36)",
            "showbackground": true,
            "showgrid": false,
            "showline": true,
            "ticks": "outside",
            "zeroline": false,
            "zerolinecolor": "rgb(36,36,36)"
           }
          },
          "shapedefaults": {
           "fillcolor": "black",
           "line": {
            "width": 0
           },
           "opacity": 0.3
          },
          "ternary": {
           "aaxis": {
            "gridcolor": "rgb(232,232,232)",
            "linecolor": "rgb(36,36,36)",
            "showgrid": false,
            "showline": true,
            "ticks": "outside"
           },
           "baxis": {
            "gridcolor": "rgb(232,232,232)",
            "linecolor": "rgb(36,36,36)",
            "showgrid": false,
            "showline": true,
            "ticks": "outside"
           },
           "bgcolor": "white",
           "caxis": {
            "gridcolor": "rgb(232,232,232)",
            "linecolor": "rgb(36,36,36)",
            "showgrid": false,
            "showline": true,
            "ticks": "outside"
           }
          },
          "title": {
           "x": 0.05
          },
          "xaxis": {
           "automargin": true,
           "gridcolor": "rgb(232,232,232)",
           "linecolor": "rgb(36,36,36)",
           "showgrid": false,
           "showline": true,
           "ticks": "outside",
           "title": {
            "standoff": 15
           },
           "zeroline": false,
           "zerolinecolor": "rgb(36,36,36)"
          },
          "yaxis": {
           "automargin": true,
           "gridcolor": "rgb(232,232,232)",
           "linecolor": "rgb(36,36,36)",
           "showgrid": false,
           "showline": true,
           "ticks": "outside",
           "title": {
            "standoff": 15
           },
           "zeroline": false,
           "zerolinecolor": "rgb(36,36,36)"
          }
         }
        },
        "title": {
         "font": {
          "family": "Arial Black"
         },
         "text": "Ordenação por decil – KS 75.17%"
        },
        "xaxis": {
         "anchor": "y",
         "domain": [
          0,
          0.94
         ],
         "title": {
          "font": {
           "family": "Arial Black"
          },
          "text": "Decil"
         }
        },
        "yaxis": {
         "anchor": "x",
         "domain": [
          0,
          1
         ],
         "title": {
          "font": {
           "family": "Arial Black"
          },
          "text": "<b>Total Ocorrências<b>"
         }
        },
        "yaxis2": {
         "anchor": "x",
         "overlaying": "y",
         "side": "right",
         "tickformat": ".2%",
         "title": {
          "text": "<b>Taxa target – MEC2<b>"
         }
        }
       }
      }
     },
     "metadata": {},
     "output_type": "display_data"
    }
   ],
   "source": [
    "evaluator.plot_decile_ks()"
   ]
  },
  {
   "cell_type": "markdown",
   "id": "c37de622",
   "metadata": {},
   "source": [
    "### Teste de Stress"
   ]
  },
  {
   "cell_type": "code",
   "execution_count": null,
   "id": "aeb091ee",
   "metadata": {},
   "outputs": [],
   "source": [
    "gen = LookAhead(id_cols=['id'], date_cols=['date']).fit(train)\n",
    "evaluator.synthetic_gen = gen\n",
    "stress = evaluator.run_stress_test()\n",
    "stress['metrics']"
   ]
  }
 ],
 "metadata": {
  "kernelspec": {
   "display_name": "ENV_STONE",
   "language": "python",
   "name": "python3"
  },
  "language_info": {
   "codemirror_mode": {
    "name": "ipython",
    "version": 3
   },
   "file_extension": ".py",
   "mimetype": "text/x-python",
   "name": "python",
   "nbconvert_exporter": "python",
   "pygments_lexer": "ipython3",
   "version": "3.10.16"
  }
 },
 "nbformat": 4,
 "nbformat_minor": 5
}
