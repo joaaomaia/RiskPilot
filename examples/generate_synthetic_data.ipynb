{
 "cells": [
  {
   "cell_type": "code",
   "execution_count": null,
   "id": "908a8e47",
   "metadata": {},
   "outputs": [],
   "source": [
    "import pandas as pd"
   ]
  },
  {
   "cell_type": "code",
   "execution_count": null,
   "id": "83f69ef5",
   "metadata": {},
   "outputs": [],
   "source": [
    "# histórico\n",
    "df_hist = pd.read_parquet(\"loans_history.parquet\")\n",
    "\n",
    "gen = (\n",
    "    LookAhead(\n",
    "        id_cols=[\"contract_id\"],\n",
    "        date_cols=[\"booking_date\"],\n",
    "        keep_cols=[\"pd_observed\"],\n",
    "        ignore_cols=[\"target_pd\"],\n",
    "        random_state=42,\n",
    "    )\n",
    "    .fit(df_hist)\n",
    ")\n",
    "\n",
    "# choques de stress\n",
    "shocks_cfg = {\n",
    "    \"days_past_due\": {\"Δμ\": 7, \"stretch\": 1.4},\n",
    "    \"utilization_ratio\": {\n",
    "        \"quantile_fn\": lambda q: np.minimum(1, q ** 0.7)\n",
    "    },\n",
    "}\n",
    "\n",
    "df_future = gen.generate(\n",
    "    n_periods=6,\n",
    "    freq=\"M\",\n",
    "    start_vintage=\"2025-07-01\",\n",
    "    scenario=\"stress\",\n",
    "    shocks=shocks_cfg,\n",
    "    n_per_vintage=5000,\n",
    ")\n",
    "\n",
    "gen.validate(df_future)\n",
    "print(df_future.head())\n"
   ]
  }
 ],
 "metadata": {
  "language_info": {
   "name": "python"
  }
 },
 "nbformat": 4,
 "nbformat_minor": 5
}
