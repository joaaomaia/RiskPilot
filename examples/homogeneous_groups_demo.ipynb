{
 "cells": [
  {
   "cell_type": "markdown",
   "metadata": {},
   "source": [
    "# Homogeneous Groups Demo"
   ]
  },
  {
   "cell_type": "code",
   "execution_count": 1,
   "metadata": {},
   "outputs": [
    {
     "ename": "IndentationError",
     "evalue": "unexpected indent (binary_performance_evaluator.py, line 341)",
     "output_type": "error",
     "traceback": [
      "Traceback \u001b[1;36m(most recent call last)\u001b[0m:\n",
      "\u001b[0m  File \u001b[0;32mc:\\Users\\JM\\AppData\\Local\\anaconda3\\envs\\ENV_STONE\\lib\\site-packages\\IPython\\core\\interactiveshell.py:3579\u001b[0m in \u001b[0;35mrun_code\u001b[0m\n    exec(code_obj, self.user_global_ns, self.user_ns)\u001b[0m\n",
      "\u001b[1;36m  Cell \u001b[1;32mIn[1], line 8\u001b[1;36m\n\u001b[1;33m    from binary_performance_evaluator import BinaryPerformanceEvaluator\u001b[1;36m\n",
      "\u001b[1;36m  File \u001b[1;32mc:\\Users\\JM\\Documents\\0_CienciaDados\\1_Frameworks\\RiskPilot\\examples\\binary_performance_evaluator.py:341\u001b[1;36m\u001b[0m\n\u001b[1;33m    psi_records.append({'Variable': var, 'Period': period.to_timestamp(), 'PSI': psi})\u001b[0m\n\u001b[1;37m    ^\u001b[0m\n\u001b[1;31mIndentationError\u001b[0m\u001b[1;31m:\u001b[0m unexpected indent\n"
     ]
    }
   ],
   "source": [
    "import pandas as pd\n",
    "import numpy as np\n",
    "from sklearn.model_selection import train_test_split\n",
    "from sklearn.linear_model import LogisticRegression\n",
    "from sklearn.tree import DecisionTreeClassifier\n",
    "from xgboost import XGBClassifier\n",
    "from lightgbm import LGBMClassifier\n",
    "from binary_performance_evaluator import BinaryPerformanceEvaluator\n",
    "\n",
    "# --------------------------------------------------\n",
    "# 1. CONFIGURAÇÕES\n",
    "# --------------------------------------------------\n",
    "FILE_PATH = \"../../datasets/lending_club/accepted_2007_to_2018Q4.csv\"\n",
    "NROWS     = 1_000\n",
    "TARGET_RAW = \"loan_status\"          # coluna original\n",
    "TARGET     = \"target\"               # nome final binário\n",
    "\n",
    "# --------------------------------------------------\n",
    "# 2. LEITURA E CONVERSÃO DE TIPOS MISTOS\n",
    "# --------------------------------------------------\n",
    "def read_and_clean_csv_mixed_types(path, nrows=None, verbose=True):\n",
    "    df = pd.read_csv(path, low_memory=False, nrows=nrows)\n",
    "\n",
    "    # identificar colunas com tipos mistos\n",
    "    for col in df.columns:\n",
    "        types = df[col].dropna().map(type).value_counts()\n",
    "        if len(types) > 1 and verbose:\n",
    "            print(f\"[!] '{col}' com múltiplos tipos: {dict(types)}\")\n",
    "\n",
    "        # tentativa de conversão automática p/ numérico\n",
    "        if len(types) > 1:\n",
    "            try:\n",
    "                df[col] = pd.to_numeric(df[col], errors=\"coerce\")\n",
    "            except Exception:\n",
    "                df[col] = df[col].astype(str)\n",
    "\n",
    "    return df\n",
    "\n",
    "df = read_and_clean_csv_mixed_types(FILE_PATH, nrows=NROWS)\n",
    "\n",
    "# drop de colunas não usadas (caso existam)\n",
    "df.drop(columns=[c for c in [\"member_id\"] if c in df.columns], inplace=True)\n",
    "\n",
    "# --------------------------------------------------\n",
    "# 3. TARGET BINÁRIO\n",
    "# --------------------------------------------------\n",
    "bad_status = [\"Charged Off\", \"Default\", \"Late (31-120 days)\"]\n",
    "df[TARGET] = df[TARGET_RAW].isin(bad_status).astype(int)\n",
    "\n",
    "# --------------------------------------------------\n",
    "# 4. DATA E ID\n",
    "# --------------------------------------------------\n",
    "df[\"date\"] = pd.to_datetime(df[\"issue_d\"], format=\"%b-%Y\", errors=\"coerce\")\n",
    "df.drop(columns=[\"issue_d\", TARGET_RAW], inplace=True)\n",
    "\n",
    "df.reset_index(drop=False, inplace=True)   # index ➜ nova coluna\n",
    "\n",
    "# --------------------------------------------------\n",
    "# 5. FEATURES NUMÉRICAS + IMPUTAÇÃO\n",
    "# --------------------------------------------------\n",
    "numeric_cols = df.select_dtypes(include=[np.number]).columns.drop([\"id\", TARGET])\n",
    "na_threshold = 0.30\n",
    "valid_cols = numeric_cols[df[numeric_cols].isna().mean() < na_threshold].tolist()\n",
    "valid_cols.remove('index')\n",
    "\n",
    "df[valid_cols] = df[valid_cols].fillna(df[valid_cols].median())\n",
    "\n",
    "# --------------------------------------------------\n",
    "# 6. DATAFRAME FINAL\n",
    "# --------------------------------------------------\n",
    "df_model = df[[\"id\", \"date\", TARGET] + valid_cols].dropna().copy()"
   ]
  },
  {
   "cell_type": "code",
   "execution_count": null,
   "id": "accfd194",
   "metadata": {},
   "outputs": [],
   "source": [
    "def create_safras_with_perturbations(\n",
    "    df: pd.DataFrame,\n",
    "    start_ym: str = \"2023-01\",          # inclusive\n",
    "    end_ym: str   = \"2023-06\",          # inclusive\n",
    "    target_col: str = \"target\",\n",
    "    id_col: str = \"id\",\n",
    "    noise_level: float = 0.05,          # 5 % do desvio-padrão\n",
    "    random_state: int = 42,\n",
    "    add_date_col: bool = True,\n",
    "    date_col_name: str = \"ref_date\"\n",
    ") -> pd.DataFrame:\n",
    "    \"\"\"\n",
    "    Gera um dataset concatenado com múltiplas 'safras' mensais.\n",
    "    Cada safra é uma cópia da anterior com perturbação gaussiana\n",
    "    (ruído aditivo proporcional ao desvio-padrão da feature).\n",
    "\n",
    "    Parâmetros\n",
    "    ----------\n",
    "    df : DataFrame já preparado (ex.: df_model)\n",
    "    start_ym, end_ym : 'YYYY-MM' de início e fim inclusive\n",
    "    target_col : nome da coluna binária de target (não perturbada)\n",
    "    id_col     : identificador único mantido entre safras\n",
    "    noise_level: fração do desvio-padrão adicionada como ruído (σ_ruído = noise_level * σ_feature)\n",
    "    random_state : semente para reprodutibilidade\n",
    "    add_date_col : se True, cria coluna de timestamp no 1º dia do mês\n",
    "    date_col_name: nome desta coluna de data gerada\n",
    "    \"\"\"\n",
    "    rng = np.random.default_rng(random_state)\n",
    "\n",
    "    # --- 1. Pré-processamento ----------------------------------------------\n",
    "    df_base = df.copy(deep=True)\n",
    "    # Elimina quaisquer colunas de datas já existentes\n",
    "    date_like = df_base.select_dtypes(include=[\"datetime\", \"datetimetz\"]).columns\n",
    "    df_base.drop(columns=date_like, errors=\"ignore\", inplace=True)\n",
    "\n",
    "    # Identifica colunas numéricas a perturbar (exclui id e target)\n",
    "    num_cols = df_base.select_dtypes(include=[np.number]).columns.difference([id_col, target_col])\n",
    "\n",
    "    # Constrói sequência de Year-Month entre start e end (inclusive)\n",
    "    periods = pd.period_range(start=start_ym, end=end_ym, freq=\"M\")\n",
    "\n",
    "    # --- 2. Geração das safras ---------------------------------------------\n",
    "    all_batches = []\n",
    "    prev_batch = df_base\n",
    "\n",
    "    for idx, period in enumerate(periods):\n",
    "        batch = prev_batch.copy(deep=True)\n",
    "\n",
    "        # Atualiza coluna de safra\n",
    "        batch[\"safra\"] = int(period.strftime(\"%Y%m\"))\n",
    "\n",
    "        # Gera coluna de data opcional\n",
    "        if add_date_col:\n",
    "            batch[date_col_name] = period.to_timestamp(\"D\")  # 1º dia do mês\n",
    "\n",
    "        # Aplica ruído a partir da 2ª safra\n",
    "        if idx > 0:\n",
    "            for col in num_cols:\n",
    "                std = prev_batch[col].std(ddof=0)\n",
    "                noise = rng.normal(loc=0.0, scale=noise_level * std, size=len(batch))\n",
    "                batch[col] = prev_batch[col] + noise\n",
    "\n",
    "        all_batches.append(batch)\n",
    "        prev_batch = batch  # referência para próxima perturbação\n",
    "\n",
    "    # --- 3. Concatena e devolve --------------------------------------------\n",
    "    df_safras = pd.concat(all_batches, ignore_index=True)\n",
    "    return df_safras\n"
   ]
  },
  {
   "cell_type": "code",
   "execution_count": null,
   "id": "bddb1f6c",
   "metadata": {},
   "outputs": [
    {
     "data": {
      "text/plain": [
       "safra\n",
       "202301    1000\n",
       "202302    1000\n",
       "202303    1000\n",
       "202304    1000\n",
       "202305    1000\n",
       "202306    1000\n",
       "202307    1000\n",
       "202308    1000\n",
       "202309    1000\n",
       "202310    1000\n",
       "202311    1000\n",
       "202312    1000\n",
       "202401    1000\n",
       "202402    1000\n",
       "202403    1000\n",
       "202404    1000\n",
       "202405    1000\n",
       "202406    1000\n",
       "202407    1000\n",
       "202408    1000\n",
       "202409    1000\n",
       "202410    1000\n",
       "202411    1000\n",
       "202412    1000\n",
       "dtype: int64"
      ]
     },
     "metadata": {},
     "output_type": "display_data"
    }
   ],
   "source": [
    "# df_model é o DataFrame que você produziu acima\n",
    "df_model = create_safras_with_perturbations(\n",
    "    df_model,\n",
    "    start_ym=\"2023-01\",\n",
    "    end_ym=\"2024-12\",\n",
    "    noise_level=0.05,        # 5 % do desvio-padrão\n",
    "    random_state=123\n",
    ")\n",
    "\n",
    "display(df_model.groupby(\"safra\").size())"
   ]
  },
  {
   "cell_type": "code",
   "execution_count": null,
   "id": "95fc4071",
   "metadata": {},
   "outputs": [],
   "source": [
    "# --------------------------------------------------\n",
    "# 7. SPLIT TREINO / TESTE\n",
    "# --------------------------------------------------\n",
    "train_idx, test_idx = train_test_split(\n",
    "    df_model.index,\n",
    "    test_size=0.30,\n",
    "    stratify=df_model[TARGET],\n",
    "    random_state=42,\n",
    ")\n",
    "\n",
    "df_train = df_model.loc[train_idx].copy()\n",
    "df_test  = df_model.loc[test_idx].copy()\n",
    "\n",
    "X_train, y_train = df_train[valid_cols], df_train[TARGET]\n",
    "X_test , y_test  = df_test[valid_cols] , df_test[TARGET]\n"
   ]
  },
  {
   "cell_type": "code",
   "execution_count": null,
   "id": "aafb8662",
   "metadata": {},
   "outputs": [],
   "source": [
    "# --------------------------------------------------\n",
    "# 8. MODELOS COM PARÂMETROS APRIMORADOS\n",
    "# --------------------------------------------------\n",
    "models = {\n",
    "    \"LogisticRegression\": LogisticRegression(\n",
    "        max_iter=2000,\n",
    "        solver='lbfgs',       # bom para datasets médios\n",
    "        class_weight='balanced',  # trata desbalanceamento\n",
    "        C=1.0                 # regularização inversa (quanto menor, mais regularizado)\n",
    "    ),\n",
    "    \n",
    "    \"DecisionTree\": DecisionTreeClassifier(\n",
    "        max_depth=6,          # evita overfitting\n",
    "        min_samples_leaf=50,  # tamanho mínimo das folhas\n",
    "        class_weight='balanced',\n",
    "        random_state=42\n",
    "    ),\n",
    "\n",
    "    \"XGBoost\": XGBClassifier(\n",
    "        n_estimators=300,     \n",
    "        learning_rate=0.05,   \n",
    "        max_depth=4,          \n",
    "        subsample=0.8,\n",
    "        colsample_bytree=0.8,\n",
    "        scale_pos_weight=1.0,     # pode ser ajustado com base no desbalanceamento\n",
    "        #use_label_encoder=False,\n",
    "        eval_metric='logloss',\n",
    "        random_state=42,\n",
    "        n_jobs=-1\n",
    "    ),\n",
    "\n",
    "    \"LightGBM\": LGBMClassifier(\n",
    "        n_estimators=300,\n",
    "        learning_rate=0.05,\n",
    "        max_depth=4,\n",
    "        num_leaves=15,            # normalmente ≈ 2^max_depth\n",
    "        min_child_samples=50,\n",
    "        subsample=0.8,\n",
    "        colsample_bytree=0.8,\n",
    "        class_weight='balanced',\n",
    "        random_state=42,\n",
    "        n_jobs=-1,\n",
    "        verbosity=-1\n",
    "    )\n",
    "}"
   ]
  },
  {
   "cell_type": "code",
   "execution_count": null,
   "id": "f2151921",
   "metadata": {},
   "outputs": [
    {
     "name": "stdout",
     "output_type": "stream",
     "text": [
      "\n",
      "🔹  Treinando LogisticRegression\n"
     ]
    },
    {
     "name": "stderr",
     "output_type": "stream",
     "text": [
      "c:\\Users\\JM\\AppData\\Local\\anaconda3\\envs\\ENV_STONE\\lib\\site-packages\\sklearn\\linear_model\\_logistic.py:469: ConvergenceWarning:\n",
      "\n",
      "lbfgs failed to converge (status=1):\n",
      "STOP: TOTAL NO. OF ITERATIONS REACHED LIMIT.\n",
      "\n",
      "Increase the number of iterations (max_iter) or scale the data as shown in:\n",
      "    https://scikit-learn.org/stable/modules/preprocessing.html\n",
      "Please also refer to the documentation for alternative solver options:\n",
      "    https://scikit-learn.org/stable/modules/linear_model.html#logistic-regression\n",
      "\n"
     ]
    },
    {
     "data": {
      "application/vnd.plotly.v1+json": {
       "config": {
        "plotlyServerURL": "https://plot.ly"
       },
       "data": [
        {
         "fill": "toself",
         "name": "Group (-inf, 64.32)",
         "r": {
          "bdata": "y1sJ/Xzzpj/en8+z8PykP5SoVvboOqQ/X20nd710vL9zcju8rBqpP5lzqUXCXKs/ECeqfsN6qb9fhiWXOCGYvwImPta6crM/HXGcEAoftT9D/5gh67erv2TvYws0qKS/cGa+nngOob8qEPmGz5WjP+/84F4pxXo/z+yMG0vSeL9CtCRk/X6bP5jJzSytJ6A/4oRHAOfvxD8bR4KoUqbEP2tgk7AyVMo/9Z+Zzp/yjj+0LQB1BKS5v2//uww4Esq/J8FsiGlmyL8bkvk5RTbDPx9RR/j/k9Y/TicCj3+20z+8UQyGFWyVvwAAAAAAAPh/MGVWvFAjkz+iEKgc7mhgP3uDpS71wK0/PwHv8RistL8a2nRb3xqVv2Cd0WXM+Ke/SQylpUeCmr/cGYg6uIWiP4IxJfilEIE/EoMqZ9Hdkb+PJ7iaHT6wv8MAZ59YHrO/JqVcWy8grT+4GXkU4BiFv74iYPN6Rac/5xqt0HCjnr8b3OPY1Vlmv8HzPbEBi6e/UJVi0Abos79twYDXwDGwP/1yLxejWKk/3ya076USbT+03G4t5ORqv4DgB2q/3X4/X5Xh4weWY79DFDfMrEWxP8ddJ4BlJ6s/1jnQhwwmqz/yNTBFAt6qP5w1jVS9W6k/wzIeLxKkpz/V2bF2SCpyv8EM4UqIIoq/ULud7KQzqL//HJLToZ5zP594b7mYw4U/xCCM9piQcL+jZRgYih6jvw4HyYnGIZK/mpnhFBTwqL8VUrTlP1ijvwAAAAAAAPh/pKTnyx1vkD+py3JtIi5nP+Km5R66p7O/dlVSCPRlmz+R0a05qGJ5v2Z265xYWIq/hknlw8ador+VemwwzaKsP6Bjzc2bkJA/Ue1B+KZcrD8OXaiMShp+Pw==",
          "dtype": "f8"
         },
         "theta": [
          "loan_amnt",
          "funded_amnt",
          "funded_amnt_inv",
          "int_rate",
          "installment",
          "annual_inc",
          "dti",
          "delinq_2yrs",
          "fico_range_low",
          "fico_range_high",
          "inq_last_6mths",
          "open_acc",
          "pub_rec",
          "revol_bal",
          "revol_util",
          "total_acc",
          "out_prncp",
          "out_prncp_inv",
          "total_pymnt",
          "total_pymnt_inv",
          "total_rec_prncp",
          "total_rec_int",
          "total_rec_late_fee",
          "recoveries",
          "collection_recovery_fee",
          "last_pymnt_amnt",
          "last_fico_range_high",
          "last_fico_range_low",
          "collections_12_mths_ex_med",
          "policy_code",
          "acc_now_delinq",
          "tot_coll_amt",
          "tot_cur_bal",
          "open_acc_6m",
          "open_act_il",
          "open_il_12m",
          "open_il_24m",
          "mths_since_rcnt_il",
          "total_bal_il",
          "il_util",
          "open_rv_12m",
          "open_rv_24m",
          "max_bal_bc",
          "all_util",
          "total_rev_hi_lim",
          "inq_fi",
          "total_cu_tl",
          "inq_last_12m",
          "acc_open_past_24mths",
          "avg_cur_bal",
          "bc_open_to_buy",
          "bc_util",
          "chargeoff_within_12_mths",
          "delinq_amnt",
          "mo_sin_old_il_acct",
          "mo_sin_old_rev_tl_op",
          "mo_sin_rcnt_rev_tl_op",
          "mo_sin_rcnt_tl",
          "mort_acc",
          "mths_since_recent_bc",
          "mths_since_recent_inq",
          "num_accts_ever_120_pd",
          "num_actv_bc_tl",
          "num_actv_rev_tl",
          "num_bc_sats",
          "num_bc_tl",
          "num_il_tl",
          "num_op_rev_tl",
          "num_rev_accts",
          "num_rev_tl_bal_gt_0",
          "num_sats",
          "num_tl_120dpd_2m",
          "num_tl_30dpd",
          "num_tl_90g_dpd_24m",
          "num_tl_op_past_12m",
          "pct_tl_nvr_dlq",
          "percent_bc_gt_75",
          "pub_rec_bankruptcies",
          "tax_liens",
          "tot_hi_cred_lim",
          "total_bal_ex_mort",
          "total_bc_limit",
          "total_il_high_credit_limit"
         ],
         "type": "scatterpolar"
        },
        {
         "fill": "toself",
         "name": "Group [64.32, 980.00)",
         "r": {
          "bdata": "jqnsR0zo4b9Nu3IgnPLgv4YJANpsqOG/YT+L4/NEuz8jnVFjWz7kv812ur24EtC/XXEg6v7tuj/mMGiUyTC6PwFW/yaAZr+/+XZ9xreWyL9XVJWP2V3FP3pLVhqW14I/LXhZiPqStT8YUSu2ZSHIv4GaA2tftrC/eMzsk5IVsr+ywyqUhbXZP4Uu+n5Aftc/Zz1gkTi+4b8SdD1GlDDhv8s3JPxgveS/jKs2yaZ8ur/3dlIicObiPxKdaBxg0r+/mPxhFqmKxL+VmxTv7VTivwmnSr/77+y/PVdQ2dpq4L+FTC+ybIiRPwAAAAAAAPh/GPzDBeSKob/1ouosOcaXvx9ADbRGkci/KmXtL5QOsT+fDakE6vTCP7WRGtH7EoK/JAgWUoxGtr/E141DH8mBv0AM7Wyut1S/Z+KQnBjNmr+NevmM2DixP2Igf8ply6K/rp3sESNOxr8XMn7AVp98v+7LK8RU+sa/A4WRnPc7lD93dCeJ0P2yv6uv1e3rU6c/6T393AoCqb+aw/5DE869vzHPJ+iAoNC/kj9+AnV1pj+5UDgYXE/GP7JA6R0UO6i/0TJasLFCxz+iiBNnlzC8vxXug7x+isO/XiOHCWFewr9SjrTTiRDGv4s5UCYtx7m/jwFenQOeo7+EWcuLqJ62PyxdVmcnt7i/pybicqaMrD96VfLrJrfRv82o+fqGAM6/b1OgFwKlnz8LHF7P3m23v895Eb23qLO/zJSsv3zXtD/Az6/oNeWgvwAAAAAAAPh/ojxMkjHEp7+Jp6iNTlKDv4po1mikh6U/mFeNvISe0b+uAIxhidLAP6jMVw9R+rq/Eg3NDaDglj++PGwSQhDGv2DZHg+tNq6/B1pgwzTz0b+Qc0rcGhaUPw==",
          "dtype": "f8"
         },
         "theta": [
          "loan_amnt",
          "funded_amnt",
          "funded_amnt_inv",
          "int_rate",
          "installment",
          "annual_inc",
          "dti",
          "delinq_2yrs",
          "fico_range_low",
          "fico_range_high",
          "inq_last_6mths",
          "open_acc",
          "pub_rec",
          "revol_bal",
          "revol_util",
          "total_acc",
          "out_prncp",
          "out_prncp_inv",
          "total_pymnt",
          "total_pymnt_inv",
          "total_rec_prncp",
          "total_rec_int",
          "total_rec_late_fee",
          "recoveries",
          "collection_recovery_fee",
          "last_pymnt_amnt",
          "last_fico_range_high",
          "last_fico_range_low",
          "collections_12_mths_ex_med",
          "policy_code",
          "acc_now_delinq",
          "tot_coll_amt",
          "tot_cur_bal",
          "open_acc_6m",
          "open_act_il",
          "open_il_12m",
          "open_il_24m",
          "mths_since_rcnt_il",
          "total_bal_il",
          "il_util",
          "open_rv_12m",
          "open_rv_24m",
          "max_bal_bc",
          "all_util",
          "total_rev_hi_lim",
          "inq_fi",
          "total_cu_tl",
          "inq_last_12m",
          "acc_open_past_24mths",
          "avg_cur_bal",
          "bc_open_to_buy",
          "bc_util",
          "chargeoff_within_12_mths",
          "delinq_amnt",
          "mo_sin_old_il_acct",
          "mo_sin_old_rev_tl_op",
          "mo_sin_rcnt_rev_tl_op",
          "mo_sin_rcnt_tl",
          "mort_acc",
          "mths_since_recent_bc",
          "mths_since_recent_inq",
          "num_accts_ever_120_pd",
          "num_actv_bc_tl",
          "num_actv_rev_tl",
          "num_bc_sats",
          "num_bc_tl",
          "num_il_tl",
          "num_op_rev_tl",
          "num_rev_accts",
          "num_rev_tl_bal_gt_0",
          "num_sats",
          "num_tl_120dpd_2m",
          "num_tl_30dpd",
          "num_tl_90g_dpd_24m",
          "num_tl_op_past_12m",
          "pct_tl_nvr_dlq",
          "percent_bc_gt_75",
          "pub_rec_bankruptcies",
          "tax_liens",
          "tot_hi_cred_lim",
          "total_bal_ex_mort",
          "total_bc_limit",
          "total_il_high_credit_limit"
         ],
         "type": "scatterpolar"
        },
        {
         "fill": "toself",
         "name": "Group [980.00, inf)",
         "r": {
          "bdata": "KXAX/uASkb/steHdRap+v0D93lET94U/SLfpWr0f4z8XMv8gOh2Dv4EDUXqLqsm/50wu7B4Nzz8qLe3uLJK3Pw0JAGBFwdi/ut07N4I/2b+Lg3onytzOP99EtsEeZ80/XR9QsywExD/LtNEOZuLBv24ePAIAe4O/2bgHDKjWsD/RLPemFh7Vv3HzzsHu5dW/IAI8/Zad5r/ekEzqiXDmv7o3vi1WH+2/SBYSiZvQpb+SKl7HzrfUPxB67X2nvfM/sZbNejzI8j+2yYMAnNzjvwDuXV7pafq/aUtFLYz7+L9mmOowdR69PwAAAAAAAPh/1Y3gpN/nt7+ZuhyLMvFYvwTqQATDNdC/Q8mKgakV3D9On7z6fDOsP3May9g7mtE/Og2+mMIHyD9ZuXwzFFfKv7lkaTVrbqi/Zcy3yUfIvD9skhnb6qbVP24cYabOtNw//jRJqhU/0L9RlbsZcQ2wP07PWdoTuce/8502qgYWxT+4yCbzjpWoP54rOFWlj88/qKKQbTMv3j/SpShoWDfUv/sjvaoBRMa/7QByM/BGpL922bNvFAOtv7YsgY3yp5e/UWMD9IKnsL93P8kQzfPVv7H7Vlxu1s6/9t4AwspWz796BFXKo1PNv70sojYzIM+/gow4OocN0L/7EWQIR/aJv2jn37Sup70/UticYMDyzz+atp5Daaq3P6ZGivpTl6Q/y0VpmOB+hD9NMcIJDWPQP5redOySZcE/2Z5suaSWzz9xTKV1BtnNPwAAAAAAAPh/o4GN6ZCjsr/rIfyWsi2JvzZIjSZ2S9s/9OCWO00mor+8qzXMfayVv4PDvJkfyr4/0ReG/Jq3yT9xKEMtd+PPv4dX8fq9bbG/XTWqe9p7yb8yicNKPCiqvw==",
          "dtype": "f8"
         },
         "theta": [
          "loan_amnt",
          "funded_amnt",
          "funded_amnt_inv",
          "int_rate",
          "installment",
          "annual_inc",
          "dti",
          "delinq_2yrs",
          "fico_range_low",
          "fico_range_high",
          "inq_last_6mths",
          "open_acc",
          "pub_rec",
          "revol_bal",
          "revol_util",
          "total_acc",
          "out_prncp",
          "out_prncp_inv",
          "total_pymnt",
          "total_pymnt_inv",
          "total_rec_prncp",
          "total_rec_int",
          "total_rec_late_fee",
          "recoveries",
          "collection_recovery_fee",
          "last_pymnt_amnt",
          "last_fico_range_high",
          "last_fico_range_low",
          "collections_12_mths_ex_med",
          "policy_code",
          "acc_now_delinq",
          "tot_coll_amt",
          "tot_cur_bal",
          "open_acc_6m",
          "open_act_il",
          "open_il_12m",
          "open_il_24m",
          "mths_since_rcnt_il",
          "total_bal_il",
          "il_util",
          "open_rv_12m",
          "open_rv_24m",
          "max_bal_bc",
          "all_util",
          "total_rev_hi_lim",
          "inq_fi",
          "total_cu_tl",
          "inq_last_12m",
          "acc_open_past_24mths",
          "avg_cur_bal",
          "bc_open_to_buy",
          "bc_util",
          "chargeoff_within_12_mths",
          "delinq_amnt",
          "mo_sin_old_il_acct",
          "mo_sin_old_rev_tl_op",
          "mo_sin_rcnt_rev_tl_op",
          "mo_sin_rcnt_tl",
          "mort_acc",
          "mths_since_recent_bc",
          "mths_since_recent_inq",
          "num_accts_ever_120_pd",
          "num_actv_bc_tl",
          "num_actv_rev_tl",
          "num_bc_sats",
          "num_bc_tl",
          "num_il_tl",
          "num_op_rev_tl",
          "num_rev_accts",
          "num_rev_tl_bal_gt_0",
          "num_sats",
          "num_tl_120dpd_2m",
          "num_tl_30dpd",
          "num_tl_90g_dpd_24m",
          "num_tl_op_past_12m",
          "pct_tl_nvr_dlq",
          "percent_bc_gt_75",
          "pub_rec_bankruptcies",
          "tax_liens",
          "tot_hi_cred_lim",
          "total_bal_ex_mort",
          "total_bc_limit",
          "total_il_high_credit_limit"
         ],
         "type": "scatterpolar"
        }
       ],
       "layout": {
        "template": {
         "data": {
          "bar": [
           {
            "error_x": {
             "color": "#2a3f5f"
            },
            "error_y": {
             "color": "#2a3f5f"
            },
            "marker": {
             "line": {
              "color": "white",
              "width": 0.5
             },
             "pattern": {
              "fillmode": "overlay",
              "size": 10,
              "solidity": 0.2
             }
            },
            "type": "bar"
           }
          ],
          "barpolar": [
           {
            "marker": {
             "line": {
              "color": "white",
              "width": 0.5
             },
             "pattern": {
              "fillmode": "overlay",
              "size": 10,
              "solidity": 0.2
             }
            },
            "type": "barpolar"
           }
          ],
          "carpet": [
           {
            "aaxis": {
             "endlinecolor": "#2a3f5f",
             "gridcolor": "#C8D4E3",
             "linecolor": "#C8D4E3",
             "minorgridcolor": "#C8D4E3",
             "startlinecolor": "#2a3f5f"
            },
            "baxis": {
             "endlinecolor": "#2a3f5f",
             "gridcolor": "#C8D4E3",
             "linecolor": "#C8D4E3",
             "minorgridcolor": "#C8D4E3",
             "startlinecolor": "#2a3f5f"
            },
            "type": "carpet"
           }
          ],
          "choropleth": [
           {
            "colorbar": {
             "outlinewidth": 0,
             "ticks": ""
            },
            "type": "choropleth"
           }
          ],
          "contour": [
           {
            "colorbar": {
             "outlinewidth": 0,
             "ticks": ""
            },
            "colorscale": [
             [
              0,
              "#0d0887"
             ],
             [
              0.1111111111111111,
              "#46039f"
             ],
             [
              0.2222222222222222,
              "#7201a8"
             ],
             [
              0.3333333333333333,
              "#9c179e"
             ],
             [
              0.4444444444444444,
              "#bd3786"
             ],
             [
              0.5555555555555556,
              "#d8576b"
             ],
             [
              0.6666666666666666,
              "#ed7953"
             ],
             [
              0.7777777777777778,
              "#fb9f3a"
             ],
             [
              0.8888888888888888,
              "#fdca26"
             ],
             [
              1,
              "#f0f921"
             ]
            ],
            "type": "contour"
           }
          ],
          "contourcarpet": [
           {
            "colorbar": {
             "outlinewidth": 0,
             "ticks": ""
            },
            "type": "contourcarpet"
           }
          ],
          "heatmap": [
           {
            "colorbar": {
             "outlinewidth": 0,
             "ticks": ""
            },
            "colorscale": [
             [
              0,
              "#0d0887"
             ],
             [
              0.1111111111111111,
              "#46039f"
             ],
             [
              0.2222222222222222,
              "#7201a8"
             ],
             [
              0.3333333333333333,
              "#9c179e"
             ],
             [
              0.4444444444444444,
              "#bd3786"
             ],
             [
              0.5555555555555556,
              "#d8576b"
             ],
             [
              0.6666666666666666,
              "#ed7953"
             ],
             [
              0.7777777777777778,
              "#fb9f3a"
             ],
             [
              0.8888888888888888,
              "#fdca26"
             ],
             [
              1,
              "#f0f921"
             ]
            ],
            "type": "heatmap"
           }
          ],
          "histogram": [
           {
            "marker": {
             "pattern": {
              "fillmode": "overlay",
              "size": 10,
              "solidity": 0.2
             }
            },
            "type": "histogram"
           }
          ],
          "histogram2d": [
           {
            "colorbar": {
             "outlinewidth": 0,
             "ticks": ""
            },
            "colorscale": [
             [
              0,
              "#0d0887"
             ],
             [
              0.1111111111111111,
              "#46039f"
             ],
             [
              0.2222222222222222,
              "#7201a8"
             ],
             [
              0.3333333333333333,
              "#9c179e"
             ],
             [
              0.4444444444444444,
              "#bd3786"
             ],
             [
              0.5555555555555556,
              "#d8576b"
             ],
             [
              0.6666666666666666,
              "#ed7953"
             ],
             [
              0.7777777777777778,
              "#fb9f3a"
             ],
             [
              0.8888888888888888,
              "#fdca26"
             ],
             [
              1,
              "#f0f921"
             ]
            ],
            "type": "histogram2d"
           }
          ],
          "histogram2dcontour": [
           {
            "colorbar": {
             "outlinewidth": 0,
             "ticks": ""
            },
            "colorscale": [
             [
              0,
              "#0d0887"
             ],
             [
              0.1111111111111111,
              "#46039f"
             ],
             [
              0.2222222222222222,
              "#7201a8"
             ],
             [
              0.3333333333333333,
              "#9c179e"
             ],
             [
              0.4444444444444444,
              "#bd3786"
             ],
             [
              0.5555555555555556,
              "#d8576b"
             ],
             [
              0.6666666666666666,
              "#ed7953"
             ],
             [
              0.7777777777777778,
              "#fb9f3a"
             ],
             [
              0.8888888888888888,
              "#fdca26"
             ],
             [
              1,
              "#f0f921"
             ]
            ],
            "type": "histogram2dcontour"
           }
          ],
          "mesh3d": [
           {
            "colorbar": {
             "outlinewidth": 0,
             "ticks": ""
            },
            "type": "mesh3d"
           }
          ],
          "parcoords": [
           {
            "line": {
             "colorbar": {
              "outlinewidth": 0,
              "ticks": ""
             }
            },
            "type": "parcoords"
           }
          ],
          "pie": [
           {
            "automargin": true,
            "type": "pie"
           }
          ],
          "scatter": [
           {
            "fillpattern": {
             "fillmode": "overlay",
             "size": 10,
             "solidity": 0.2
            },
            "type": "scatter"
           }
          ],
          "scatter3d": [
           {
            "line": {
             "colorbar": {
              "outlinewidth": 0,
              "ticks": ""
             }
            },
            "marker": {
             "colorbar": {
              "outlinewidth": 0,
              "ticks": ""
             }
            },
            "type": "scatter3d"
           }
          ],
          "scattercarpet": [
           {
            "marker": {
             "colorbar": {
              "outlinewidth": 0,
              "ticks": ""
             }
            },
            "type": "scattercarpet"
           }
          ],
          "scattergeo": [
           {
            "marker": {
             "colorbar": {
              "outlinewidth": 0,
              "ticks": ""
             }
            },
            "type": "scattergeo"
           }
          ],
          "scattergl": [
           {
            "marker": {
             "colorbar": {
              "outlinewidth": 0,
              "ticks": ""
             }
            },
            "type": "scattergl"
           }
          ],
          "scattermap": [
           {
            "marker": {
             "colorbar": {
              "outlinewidth": 0,
              "ticks": ""
             }
            },
            "type": "scattermap"
           }
          ],
          "scattermapbox": [
           {
            "marker": {
             "colorbar": {
              "outlinewidth": 0,
              "ticks": ""
             }
            },
            "type": "scattermapbox"
           }
          ],
          "scatterpolar": [
           {
            "marker": {
             "colorbar": {
              "outlinewidth": 0,
              "ticks": ""
             }
            },
            "type": "scatterpolar"
           }
          ],
          "scatterpolargl": [
           {
            "marker": {
             "colorbar": {
              "outlinewidth": 0,
              "ticks": ""
             }
            },
            "type": "scatterpolargl"
           }
          ],
          "scatterternary": [
           {
            "marker": {
             "colorbar": {
              "outlinewidth": 0,
              "ticks": ""
             }
            },
            "type": "scatterternary"
           }
          ],
          "surface": [
           {
            "colorbar": {
             "outlinewidth": 0,
             "ticks": ""
            },
            "colorscale": [
             [
              0,
              "#0d0887"
             ],
             [
              0.1111111111111111,
              "#46039f"
             ],
             [
              0.2222222222222222,
              "#7201a8"
             ],
             [
              0.3333333333333333,
              "#9c179e"
             ],
             [
              0.4444444444444444,
              "#bd3786"
             ],
             [
              0.5555555555555556,
              "#d8576b"
             ],
             [
              0.6666666666666666,
              "#ed7953"
             ],
             [
              0.7777777777777778,
              "#fb9f3a"
             ],
             [
              0.8888888888888888,
              "#fdca26"
             ],
             [
              1,
              "#f0f921"
             ]
            ],
            "type": "surface"
           }
          ],
          "table": [
           {
            "cells": {
             "fill": {
              "color": "#EBF0F8"
             },
             "line": {
              "color": "white"
             }
            },
            "header": {
             "fill": {
              "color": "#C8D4E3"
             },
             "line": {
              "color": "white"
             }
            },
            "type": "table"
           }
          ]
         },
         "layout": {
          "annotationdefaults": {
           "arrowcolor": "#2a3f5f",
           "arrowhead": 0,
           "arrowwidth": 1
          },
          "autotypenumbers": "strict",
          "coloraxis": {
           "colorbar": {
            "outlinewidth": 0,
            "ticks": ""
           }
          },
          "colorscale": {
           "diverging": [
            [
             0,
             "#8e0152"
            ],
            [
             0.1,
             "#c51b7d"
            ],
            [
             0.2,
             "#de77ae"
            ],
            [
             0.3,
             "#f1b6da"
            ],
            [
             0.4,
             "#fde0ef"
            ],
            [
             0.5,
             "#f7f7f7"
            ],
            [
             0.6,
             "#e6f5d0"
            ],
            [
             0.7,
             "#b8e186"
            ],
            [
             0.8,
             "#7fbc41"
            ],
            [
             0.9,
             "#4d9221"
            ],
            [
             1,
             "#276419"
            ]
           ],
           "sequential": [
            [
             0,
             "#0d0887"
            ],
            [
             0.1111111111111111,
             "#46039f"
            ],
            [
             0.2222222222222222,
             "#7201a8"
            ],
            [
             0.3333333333333333,
             "#9c179e"
            ],
            [
             0.4444444444444444,
             "#bd3786"
            ],
            [
             0.5555555555555556,
             "#d8576b"
            ],
            [
             0.6666666666666666,
             "#ed7953"
            ],
            [
             0.7777777777777778,
             "#fb9f3a"
            ],
            [
             0.8888888888888888,
             "#fdca26"
            ],
            [
             1,
             "#f0f921"
            ]
           ],
           "sequentialminus": [
            [
             0,
             "#0d0887"
            ],
            [
             0.1111111111111111,
             "#46039f"
            ],
            [
             0.2222222222222222,
             "#7201a8"
            ],
            [
             0.3333333333333333,
             "#9c179e"
            ],
            [
             0.4444444444444444,
             "#bd3786"
            ],
            [
             0.5555555555555556,
             "#d8576b"
            ],
            [
             0.6666666666666666,
             "#ed7953"
            ],
            [
             0.7777777777777778,
             "#fb9f3a"
            ],
            [
             0.8888888888888888,
             "#fdca26"
            ],
            [
             1,
             "#f0f921"
            ]
           ]
          },
          "colorway": [
           "#636efa",
           "#EF553B",
           "#00cc96",
           "#ab63fa",
           "#FFA15A",
           "#19d3f3",
           "#FF6692",
           "#B6E880",
           "#FF97FF",
           "#FECB52"
          ],
          "font": {
           "color": "#2a3f5f"
          },
          "geo": {
           "bgcolor": "white",
           "lakecolor": "white",
           "landcolor": "white",
           "showlakes": true,
           "showland": true,
           "subunitcolor": "#C8D4E3"
          },
          "hoverlabel": {
           "align": "left"
          },
          "hovermode": "closest",
          "mapbox": {
           "style": "light"
          },
          "paper_bgcolor": "white",
          "plot_bgcolor": "white",
          "polar": {
           "angularaxis": {
            "gridcolor": "#EBF0F8",
            "linecolor": "#EBF0F8",
            "ticks": ""
           },
           "bgcolor": "white",
           "radialaxis": {
            "gridcolor": "#EBF0F8",
            "linecolor": "#EBF0F8",
            "ticks": ""
           }
          },
          "scene": {
           "xaxis": {
            "backgroundcolor": "white",
            "gridcolor": "#DFE8F3",
            "gridwidth": 2,
            "linecolor": "#EBF0F8",
            "showbackground": true,
            "ticks": "",
            "zerolinecolor": "#EBF0F8"
           },
           "yaxis": {
            "backgroundcolor": "white",
            "gridcolor": "#DFE8F3",
            "gridwidth": 2,
            "linecolor": "#EBF0F8",
            "showbackground": true,
            "ticks": "",
            "zerolinecolor": "#EBF0F8"
           },
           "zaxis": {
            "backgroundcolor": "white",
            "gridcolor": "#DFE8F3",
            "gridwidth": 2,
            "linecolor": "#EBF0F8",
            "showbackground": true,
            "ticks": "",
            "zerolinecolor": "#EBF0F8"
           }
          },
          "shapedefaults": {
           "line": {
            "color": "#2a3f5f"
           }
          },
          "ternary": {
           "aaxis": {
            "gridcolor": "#DFE8F3",
            "linecolor": "#A2B1C6",
            "ticks": ""
           },
           "baxis": {
            "gridcolor": "#DFE8F3",
            "linecolor": "#A2B1C6",
            "ticks": ""
           },
           "bgcolor": "white",
           "caxis": {
            "gridcolor": "#DFE8F3",
            "linecolor": "#A2B1C6",
            "ticks": ""
           }
          },
          "title": {
           "x": 0.05
          },
          "xaxis": {
           "automargin": true,
           "gridcolor": "#EBF0F8",
           "linecolor": "#EBF0F8",
           "ticks": "",
           "title": {
            "standoff": 15
           },
           "zerolinecolor": "#EBF0F8",
           "zerolinewidth": 2
          },
          "yaxis": {
           "automargin": true,
           "gridcolor": "#EBF0F8",
           "linecolor": "#EBF0F8",
           "ticks": "",
           "title": {
            "standoff": 15
           },
           "zerolinecolor": "#EBF0F8",
           "zerolinewidth": 2
          }
         }
        },
        "title": {
         "text": "Radar – LogisticRegression"
        }
       }
      }
     },
     "metadata": {},
     "output_type": "display_data"
    },
    {
     "name": "stdout",
     "output_type": "stream",
     "text": [
      "\n",
      "🔹  Treinando DecisionTree\n"
     ]
    },
    {
     "data": {
      "application/vnd.plotly.v1+json": {
       "config": {
        "plotlyServerURL": "https://plot.ly"
       },
       "data": [
        {
         "fill": "toself",
         "name": "Group (-inf, 208.66)",
         "r": {
          "bdata": "W/kIK9UDoD+eDZnzGludP6ZmN9VKsZo/bCCSA/M/vr/dqMQZ2S+eP6IowzpYiKU/KAOSF+xjpL92txghEGyiv9PF/1e3fLc/q30OE02euD+CeIxEsnSvv6or7N5q3KK/sSSpHiJYpr+RlluILIqjP2eNAtyU9Ws/Mf/g8GnedL+njIrPJbioP502zN+Ovak/nASHobTSwT9fmd9zDbXBPzFksOAx5sY/SYwEu19Xgz8sHdS4CGu7v7C6ICwh9Mm//JhemqOEyL+Gqgdyg2zAPyd96hCHt9U/0iNxAqsR0j+h3/TQm+6PvwAAAAAAAPh/vwQKks+4hT/QrYRZaC5Mv4d4pClmIaw/GnICUmkWtb//fNpwwmSJv/WB4+Xc9Km/tzeYo33Ol79+3raNkk2jPwNF4/LJv4A/iSfUej+ak7+ILqtkwfKzvx+lUtHTare/dgLIVMb3rD9x/IMJm2h5v7pksdO0Gqc/MFoc2XncpL9NIjLCaNCAP32Gf+959a2/7sIXCb1gtr/63ATprgGvP1X/qUzSAqg/W3Ad6k75Rb8KUSNbWdt4P+mH2pdfG3g/lg1yzmsqZD/NWJ9aJv6vPyQqUMrtGqw/Opfn4TAMrT/10mM11HipP1SZUxnBX6o/DHAidqnPpz8MmYCJ3cCNvxaUctQ3G4+/QJ6A08aSp7/wI26pU3RNPwVcq1cgM3I/gACIVipqfD+Bqc4B1PWkv3puL+hDL5i/B2pGRnj5p7/Bqk9Xc0WhvwAAAAAAAPh/Wu0OtPVncD9xfakNrWlEv7unnKkWdbe/zU5hphVvpT8R/kRkcyd/v2v8nT+IbJe/l5qc9X/tor/JSDy8rF2rPwhZi7QTUZI/RQ0hSh38qz9JUH036xiBPw==",
          "dtype": "f8"
         },
         "theta": [
          "loan_amnt",
          "funded_amnt",
          "funded_amnt_inv",
          "int_rate",
          "installment",
          "annual_inc",
          "dti",
          "delinq_2yrs",
          "fico_range_low",
          "fico_range_high",
          "inq_last_6mths",
          "open_acc",
          "pub_rec",
          "revol_bal",
          "revol_util",
          "total_acc",
          "out_prncp",
          "out_prncp_inv",
          "total_pymnt",
          "total_pymnt_inv",
          "total_rec_prncp",
          "total_rec_int",
          "total_rec_late_fee",
          "recoveries",
          "collection_recovery_fee",
          "last_pymnt_amnt",
          "last_fico_range_high",
          "last_fico_range_low",
          "collections_12_mths_ex_med",
          "policy_code",
          "acc_now_delinq",
          "tot_coll_amt",
          "tot_cur_bal",
          "open_acc_6m",
          "open_act_il",
          "open_il_12m",
          "open_il_24m",
          "mths_since_rcnt_il",
          "total_bal_il",
          "il_util",
          "open_rv_12m",
          "open_rv_24m",
          "max_bal_bc",
          "all_util",
          "total_rev_hi_lim",
          "inq_fi",
          "total_cu_tl",
          "inq_last_12m",
          "acc_open_past_24mths",
          "avg_cur_bal",
          "bc_open_to_buy",
          "bc_util",
          "chargeoff_within_12_mths",
          "delinq_amnt",
          "mo_sin_old_il_acct",
          "mo_sin_old_rev_tl_op",
          "mo_sin_rcnt_rev_tl_op",
          "mo_sin_rcnt_tl",
          "mort_acc",
          "mths_since_recent_bc",
          "mths_since_recent_inq",
          "num_accts_ever_120_pd",
          "num_actv_bc_tl",
          "num_actv_rev_tl",
          "num_bc_sats",
          "num_bc_tl",
          "num_il_tl",
          "num_op_rev_tl",
          "num_rev_accts",
          "num_rev_tl_bal_gt_0",
          "num_sats",
          "num_tl_120dpd_2m",
          "num_tl_30dpd",
          "num_tl_90g_dpd_24m",
          "num_tl_op_past_12m",
          "pct_tl_nvr_dlq",
          "percent_bc_gt_75",
          "pub_rec_bankruptcies",
          "tax_liens",
          "tot_hi_cred_lim",
          "total_bal_ex_mort",
          "total_bc_limit",
          "total_il_high_credit_limit"
         ],
         "type": "scatterpolar"
        },
        {
         "fill": "toself",
         "name": "Group [208.66, 959.46)",
         "r": {
          "bdata": "hMgYy8oA1r91Ouz5o1bUv2Gp2WqUtdW/hPw2BJWB1z/jOoVpnXDUvxZLfTRF9sS/onjLJxhJhT8guv7qih/EP0iG1+Itnt6/u8WU/uab3r+xLZjPJ9HQP/xJB2MYhsA/9FdiD7lTzD8t0a5cCY7KvwJyN/WyybO/BHbZ124DqD+7GWMpN8Ssv4xmXmR+qLO//WuWndJg1r+jqIYMFYTVvxbK+1Vscdy/q1mJ4x+/ob+HbJuT47fqP+EN1cMupsE/dQL4phg6wT/YDjYa7jbXv6cVJUIQ/O+/1g0VkI0h6b/JSxhMmHS+vwAAAAAAAPh/IcQkHOeypj/ViIT96nSdPwA3S8+IjMy/JHS9DWbt0D/GY31jMDa0P0QOYmVtSsM/zPJSVfJtob+aF+JjcIC6v7ID6Niy1YM/MkC04H+Frj+4Gi+T4NzgP0JS9EJkn9Y/h1ee1Dcz0L8FtuBi2CCJvydW0J7Ji8u/8lBgHpewzT88X5s2VerIv6VfPZP2rs8/aS/jHP/jzT994KCWQZ3Iv1xNw0VwpdK/Th1zOXvCpz+t7o5VIMqxvxp83X1VFaC/rOESSDGOzT9f34VRIgnMv06jYt9pGtC/nxOvANvLzL9Ac2cOT9LHv0WLagrET82/d4IG3i/+hr+VNdkCygG3P508SqkOtqy/3MJhVs2BxT85+DcU7r7EvwnFhywqN8C/APdM+44Wlj9TlPyJi3bDP7UNvN5qqLA/48TH7uM0yj+6GBrK82i3PwAAAAAAAPh/tNY8mqy/vD8/tR5wfO6zv39XPPZ8HuE/d5tlp7TY2L8F8cS/iCjAP36q6khYbqA/LLk2V9I8vT/aLmvMu/vMv06SrNEgbbS/0eXOI9vc1L9uOTCIbsKCvw==",
          "dtype": "f8"
         },
         "theta": [
          "loan_amnt",
          "funded_amnt",
          "funded_amnt_inv",
          "int_rate",
          "installment",
          "annual_inc",
          "dti",
          "delinq_2yrs",
          "fico_range_low",
          "fico_range_high",
          "inq_last_6mths",
          "open_acc",
          "pub_rec",
          "revol_bal",
          "revol_util",
          "total_acc",
          "out_prncp",
          "out_prncp_inv",
          "total_pymnt",
          "total_pymnt_inv",
          "total_rec_prncp",
          "total_rec_int",
          "total_rec_late_fee",
          "recoveries",
          "collection_recovery_fee",
          "last_pymnt_amnt",
          "last_fico_range_high",
          "last_fico_range_low",
          "collections_12_mths_ex_med",
          "policy_code",
          "acc_now_delinq",
          "tot_coll_amt",
          "tot_cur_bal",
          "open_acc_6m",
          "open_act_il",
          "open_il_12m",
          "open_il_24m",
          "mths_since_rcnt_il",
          "total_bal_il",
          "il_util",
          "open_rv_12m",
          "open_rv_24m",
          "max_bal_bc",
          "all_util",
          "total_rev_hi_lim",
          "inq_fi",
          "total_cu_tl",
          "inq_last_12m",
          "acc_open_past_24mths",
          "avg_cur_bal",
          "bc_open_to_buy",
          "bc_util",
          "chargeoff_within_12_mths",
          "delinq_amnt",
          "mo_sin_old_il_acct",
          "mo_sin_old_rev_tl_op",
          "mo_sin_rcnt_rev_tl_op",
          "mo_sin_rcnt_tl",
          "mort_acc",
          "mths_since_recent_bc",
          "mths_since_recent_inq",
          "num_accts_ever_120_pd",
          "num_actv_bc_tl",
          "num_actv_rev_tl",
          "num_bc_sats",
          "num_bc_tl",
          "num_il_tl",
          "num_op_rev_tl",
          "num_rev_accts",
          "num_rev_tl_bal_gt_0",
          "num_sats",
          "num_tl_120dpd_2m",
          "num_tl_30dpd",
          "num_tl_90g_dpd_24m",
          "num_tl_op_past_12m",
          "pct_tl_nvr_dlq",
          "percent_bc_gt_75",
          "pub_rec_bankruptcies",
          "tax_liens",
          "tot_hi_cred_lim",
          "total_bal_ex_mort",
          "total_bc_limit",
          "total_il_high_credit_limit"
         ],
         "type": "scatterpolar"
        },
        {
         "fill": "toself",
         "name": "Group [959.46, inf)",
         "r": {
          "bdata": "/L1B+ThVp7+68fSXEM6kv9I3wZgQL5C/6SKCY/gM4j8vcV5siv2mvwTUSSgP68e/GCD2xw5xzj/Py+o4vorDP7LvNjrA09a/O3M8L/6M2L87Xca/OdbQP094sHpFucU/w6rZ/akNxj/R3vDn+IjCvzPyn1wKGYg/j2GCBeQKhz95hiupVEfRv9nI1jICgNG/uupxe+dj5r+u2sNCQmXmvyXhqKoC1ey/DX4lRYHwpb8yjt3v3DPTP6V1m7o5zfI/ncQ3Zou78T9FMFI2RBbkvywZKUIZSvq/p6NKR18v9r8eYtSEZYvCPwAAAAAAAPh/ZHdAvM5Jtb8apGm+LSd8v4VCr03fwc6/dmYmRGzw2D+PuhOOlpmlP/pfEkr0WM8/uGwq+V7uwz/eAm6F2sXHvzUE2I1Cjau/oA1cWPBhtz9CBc1iliPQP9ahkoPAFdo/0b/x2/tozr9nrd/udPWlP7BZOM6dice/hJjxXaU5wz9HCUklfV6gPza5VUb0G9A/c84ioyS82z9AS4hTkWTSv9EELs6y0MS/QU5xaMyij7/UD4ePamh/vwi3Xc4lHpe/E+0XVCq0vL8E3k4MOmzSvw89rHEVLs2/LyECaxoG0L/g29mDWLTMv5EKJ74WxMu/Nw9MiYTM0b+96YRIU+CpP9RPzCfrr70/T0rGhafKyj9N1WsZ9Q6wP4D6RHFQ6Zo/+N3H22c/qr9+43s4wK3HP4ZNYlrmwr0/a3ZT4ZRsyT+8OIbIklXFPwAAAAAAAPh/c/s/QAhVsr85VKWKYLaiPzolTq0yQtU/mPd6c9xbt7+awSbMvxd8v6z6yNMXFMA/fU0TlnCgxj/QQet9gWnNv7RuxaYRQbO/sxGR/+X9yL+NfXKbfQWovw==",
          "dtype": "f8"
         },
         "theta": [
          "loan_amnt",
          "funded_amnt",
          "funded_amnt_inv",
          "int_rate",
          "installment",
          "annual_inc",
          "dti",
          "delinq_2yrs",
          "fico_range_low",
          "fico_range_high",
          "inq_last_6mths",
          "open_acc",
          "pub_rec",
          "revol_bal",
          "revol_util",
          "total_acc",
          "out_prncp",
          "out_prncp_inv",
          "total_pymnt",
          "total_pymnt_inv",
          "total_rec_prncp",
          "total_rec_int",
          "total_rec_late_fee",
          "recoveries",
          "collection_recovery_fee",
          "last_pymnt_amnt",
          "last_fico_range_high",
          "last_fico_range_low",
          "collections_12_mths_ex_med",
          "policy_code",
          "acc_now_delinq",
          "tot_coll_amt",
          "tot_cur_bal",
          "open_acc_6m",
          "open_act_il",
          "open_il_12m",
          "open_il_24m",
          "mths_since_rcnt_il",
          "total_bal_il",
          "il_util",
          "open_rv_12m",
          "open_rv_24m",
          "max_bal_bc",
          "all_util",
          "total_rev_hi_lim",
          "inq_fi",
          "total_cu_tl",
          "inq_last_12m",
          "acc_open_past_24mths",
          "avg_cur_bal",
          "bc_open_to_buy",
          "bc_util",
          "chargeoff_within_12_mths",
          "delinq_amnt",
          "mo_sin_old_il_acct",
          "mo_sin_old_rev_tl_op",
          "mo_sin_rcnt_rev_tl_op",
          "mo_sin_rcnt_tl",
          "mort_acc",
          "mths_since_recent_bc",
          "mths_since_recent_inq",
          "num_accts_ever_120_pd",
          "num_actv_bc_tl",
          "num_actv_rev_tl",
          "num_bc_sats",
          "num_bc_tl",
          "num_il_tl",
          "num_op_rev_tl",
          "num_rev_accts",
          "num_rev_tl_bal_gt_0",
          "num_sats",
          "num_tl_120dpd_2m",
          "num_tl_30dpd",
          "num_tl_90g_dpd_24m",
          "num_tl_op_past_12m",
          "pct_tl_nvr_dlq",
          "percent_bc_gt_75",
          "pub_rec_bankruptcies",
          "tax_liens",
          "tot_hi_cred_lim",
          "total_bal_ex_mort",
          "total_bc_limit",
          "total_il_high_credit_limit"
         ],
         "type": "scatterpolar"
        }
       ],
       "layout": {
        "template": {
         "data": {
          "bar": [
           {
            "error_x": {
             "color": "#2a3f5f"
            },
            "error_y": {
             "color": "#2a3f5f"
            },
            "marker": {
             "line": {
              "color": "white",
              "width": 0.5
             },
             "pattern": {
              "fillmode": "overlay",
              "size": 10,
              "solidity": 0.2
             }
            },
            "type": "bar"
           }
          ],
          "barpolar": [
           {
            "marker": {
             "line": {
              "color": "white",
              "width": 0.5
             },
             "pattern": {
              "fillmode": "overlay",
              "size": 10,
              "solidity": 0.2
             }
            },
            "type": "barpolar"
           }
          ],
          "carpet": [
           {
            "aaxis": {
             "endlinecolor": "#2a3f5f",
             "gridcolor": "#C8D4E3",
             "linecolor": "#C8D4E3",
             "minorgridcolor": "#C8D4E3",
             "startlinecolor": "#2a3f5f"
            },
            "baxis": {
             "endlinecolor": "#2a3f5f",
             "gridcolor": "#C8D4E3",
             "linecolor": "#C8D4E3",
             "minorgridcolor": "#C8D4E3",
             "startlinecolor": "#2a3f5f"
            },
            "type": "carpet"
           }
          ],
          "choropleth": [
           {
            "colorbar": {
             "outlinewidth": 0,
             "ticks": ""
            },
            "type": "choropleth"
           }
          ],
          "contour": [
           {
            "colorbar": {
             "outlinewidth": 0,
             "ticks": ""
            },
            "colorscale": [
             [
              0,
              "#0d0887"
             ],
             [
              0.1111111111111111,
              "#46039f"
             ],
             [
              0.2222222222222222,
              "#7201a8"
             ],
             [
              0.3333333333333333,
              "#9c179e"
             ],
             [
              0.4444444444444444,
              "#bd3786"
             ],
             [
              0.5555555555555556,
              "#d8576b"
             ],
             [
              0.6666666666666666,
              "#ed7953"
             ],
             [
              0.7777777777777778,
              "#fb9f3a"
             ],
             [
              0.8888888888888888,
              "#fdca26"
             ],
             [
              1,
              "#f0f921"
             ]
            ],
            "type": "contour"
           }
          ],
          "contourcarpet": [
           {
            "colorbar": {
             "outlinewidth": 0,
             "ticks": ""
            },
            "type": "contourcarpet"
           }
          ],
          "heatmap": [
           {
            "colorbar": {
             "outlinewidth": 0,
             "ticks": ""
            },
            "colorscale": [
             [
              0,
              "#0d0887"
             ],
             [
              0.1111111111111111,
              "#46039f"
             ],
             [
              0.2222222222222222,
              "#7201a8"
             ],
             [
              0.3333333333333333,
              "#9c179e"
             ],
             [
              0.4444444444444444,
              "#bd3786"
             ],
             [
              0.5555555555555556,
              "#d8576b"
             ],
             [
              0.6666666666666666,
              "#ed7953"
             ],
             [
              0.7777777777777778,
              "#fb9f3a"
             ],
             [
              0.8888888888888888,
              "#fdca26"
             ],
             [
              1,
              "#f0f921"
             ]
            ],
            "type": "heatmap"
           }
          ],
          "histogram": [
           {
            "marker": {
             "pattern": {
              "fillmode": "overlay",
              "size": 10,
              "solidity": 0.2
             }
            },
            "type": "histogram"
           }
          ],
          "histogram2d": [
           {
            "colorbar": {
             "outlinewidth": 0,
             "ticks": ""
            },
            "colorscale": [
             [
              0,
              "#0d0887"
             ],
             [
              0.1111111111111111,
              "#46039f"
             ],
             [
              0.2222222222222222,
              "#7201a8"
             ],
             [
              0.3333333333333333,
              "#9c179e"
             ],
             [
              0.4444444444444444,
              "#bd3786"
             ],
             [
              0.5555555555555556,
              "#d8576b"
             ],
             [
              0.6666666666666666,
              "#ed7953"
             ],
             [
              0.7777777777777778,
              "#fb9f3a"
             ],
             [
              0.8888888888888888,
              "#fdca26"
             ],
             [
              1,
              "#f0f921"
             ]
            ],
            "type": "histogram2d"
           }
          ],
          "histogram2dcontour": [
           {
            "colorbar": {
             "outlinewidth": 0,
             "ticks": ""
            },
            "colorscale": [
             [
              0,
              "#0d0887"
             ],
             [
              0.1111111111111111,
              "#46039f"
             ],
             [
              0.2222222222222222,
              "#7201a8"
             ],
             [
              0.3333333333333333,
              "#9c179e"
             ],
             [
              0.4444444444444444,
              "#bd3786"
             ],
             [
              0.5555555555555556,
              "#d8576b"
             ],
             [
              0.6666666666666666,
              "#ed7953"
             ],
             [
              0.7777777777777778,
              "#fb9f3a"
             ],
             [
              0.8888888888888888,
              "#fdca26"
             ],
             [
              1,
              "#f0f921"
             ]
            ],
            "type": "histogram2dcontour"
           }
          ],
          "mesh3d": [
           {
            "colorbar": {
             "outlinewidth": 0,
             "ticks": ""
            },
            "type": "mesh3d"
           }
          ],
          "parcoords": [
           {
            "line": {
             "colorbar": {
              "outlinewidth": 0,
              "ticks": ""
             }
            },
            "type": "parcoords"
           }
          ],
          "pie": [
           {
            "automargin": true,
            "type": "pie"
           }
          ],
          "scatter": [
           {
            "fillpattern": {
             "fillmode": "overlay",
             "size": 10,
             "solidity": 0.2
            },
            "type": "scatter"
           }
          ],
          "scatter3d": [
           {
            "line": {
             "colorbar": {
              "outlinewidth": 0,
              "ticks": ""
             }
            },
            "marker": {
             "colorbar": {
              "outlinewidth": 0,
              "ticks": ""
             }
            },
            "type": "scatter3d"
           }
          ],
          "scattercarpet": [
           {
            "marker": {
             "colorbar": {
              "outlinewidth": 0,
              "ticks": ""
             }
            },
            "type": "scattercarpet"
           }
          ],
          "scattergeo": [
           {
            "marker": {
             "colorbar": {
              "outlinewidth": 0,
              "ticks": ""
             }
            },
            "type": "scattergeo"
           }
          ],
          "scattergl": [
           {
            "marker": {
             "colorbar": {
              "outlinewidth": 0,
              "ticks": ""
             }
            },
            "type": "scattergl"
           }
          ],
          "scattermap": [
           {
            "marker": {
             "colorbar": {
              "outlinewidth": 0,
              "ticks": ""
             }
            },
            "type": "scattermap"
           }
          ],
          "scattermapbox": [
           {
            "marker": {
             "colorbar": {
              "outlinewidth": 0,
              "ticks": ""
             }
            },
            "type": "scattermapbox"
           }
          ],
          "scatterpolar": [
           {
            "marker": {
             "colorbar": {
              "outlinewidth": 0,
              "ticks": ""
             }
            },
            "type": "scatterpolar"
           }
          ],
          "scatterpolargl": [
           {
            "marker": {
             "colorbar": {
              "outlinewidth": 0,
              "ticks": ""
             }
            },
            "type": "scatterpolargl"
           }
          ],
          "scatterternary": [
           {
            "marker": {
             "colorbar": {
              "outlinewidth": 0,
              "ticks": ""
             }
            },
            "type": "scatterternary"
           }
          ],
          "surface": [
           {
            "colorbar": {
             "outlinewidth": 0,
             "ticks": ""
            },
            "colorscale": [
             [
              0,
              "#0d0887"
             ],
             [
              0.1111111111111111,
              "#46039f"
             ],
             [
              0.2222222222222222,
              "#7201a8"
             ],
             [
              0.3333333333333333,
              "#9c179e"
             ],
             [
              0.4444444444444444,
              "#bd3786"
             ],
             [
              0.5555555555555556,
              "#d8576b"
             ],
             [
              0.6666666666666666,
              "#ed7953"
             ],
             [
              0.7777777777777778,
              "#fb9f3a"
             ],
             [
              0.8888888888888888,
              "#fdca26"
             ],
             [
              1,
              "#f0f921"
             ]
            ],
            "type": "surface"
           }
          ],
          "table": [
           {
            "cells": {
             "fill": {
              "color": "#EBF0F8"
             },
             "line": {
              "color": "white"
             }
            },
            "header": {
             "fill": {
              "color": "#C8D4E3"
             },
             "line": {
              "color": "white"
             }
            },
            "type": "table"
           }
          ]
         },
         "layout": {
          "annotationdefaults": {
           "arrowcolor": "#2a3f5f",
           "arrowhead": 0,
           "arrowwidth": 1
          },
          "autotypenumbers": "strict",
          "coloraxis": {
           "colorbar": {
            "outlinewidth": 0,
            "ticks": ""
           }
          },
          "colorscale": {
           "diverging": [
            [
             0,
             "#8e0152"
            ],
            [
             0.1,
             "#c51b7d"
            ],
            [
             0.2,
             "#de77ae"
            ],
            [
             0.3,
             "#f1b6da"
            ],
            [
             0.4,
             "#fde0ef"
            ],
            [
             0.5,
             "#f7f7f7"
            ],
            [
             0.6,
             "#e6f5d0"
            ],
            [
             0.7,
             "#b8e186"
            ],
            [
             0.8,
             "#7fbc41"
            ],
            [
             0.9,
             "#4d9221"
            ],
            [
             1,
             "#276419"
            ]
           ],
           "sequential": [
            [
             0,
             "#0d0887"
            ],
            [
             0.1111111111111111,
             "#46039f"
            ],
            [
             0.2222222222222222,
             "#7201a8"
            ],
            [
             0.3333333333333333,
             "#9c179e"
            ],
            [
             0.4444444444444444,
             "#bd3786"
            ],
            [
             0.5555555555555556,
             "#d8576b"
            ],
            [
             0.6666666666666666,
             "#ed7953"
            ],
            [
             0.7777777777777778,
             "#fb9f3a"
            ],
            [
             0.8888888888888888,
             "#fdca26"
            ],
            [
             1,
             "#f0f921"
            ]
           ],
           "sequentialminus": [
            [
             0,
             "#0d0887"
            ],
            [
             0.1111111111111111,
             "#46039f"
            ],
            [
             0.2222222222222222,
             "#7201a8"
            ],
            [
             0.3333333333333333,
             "#9c179e"
            ],
            [
             0.4444444444444444,
             "#bd3786"
            ],
            [
             0.5555555555555556,
             "#d8576b"
            ],
            [
             0.6666666666666666,
             "#ed7953"
            ],
            [
             0.7777777777777778,
             "#fb9f3a"
            ],
            [
             0.8888888888888888,
             "#fdca26"
            ],
            [
             1,
             "#f0f921"
            ]
           ]
          },
          "colorway": [
           "#636efa",
           "#EF553B",
           "#00cc96",
           "#ab63fa",
           "#FFA15A",
           "#19d3f3",
           "#FF6692",
           "#B6E880",
           "#FF97FF",
           "#FECB52"
          ],
          "font": {
           "color": "#2a3f5f"
          },
          "geo": {
           "bgcolor": "white",
           "lakecolor": "white",
           "landcolor": "white",
           "showlakes": true,
           "showland": true,
           "subunitcolor": "#C8D4E3"
          },
          "hoverlabel": {
           "align": "left"
          },
          "hovermode": "closest",
          "mapbox": {
           "style": "light"
          },
          "paper_bgcolor": "white",
          "plot_bgcolor": "white",
          "polar": {
           "angularaxis": {
            "gridcolor": "#EBF0F8",
            "linecolor": "#EBF0F8",
            "ticks": ""
           },
           "bgcolor": "white",
           "radialaxis": {
            "gridcolor": "#EBF0F8",
            "linecolor": "#EBF0F8",
            "ticks": ""
           }
          },
          "scene": {
           "xaxis": {
            "backgroundcolor": "white",
            "gridcolor": "#DFE8F3",
            "gridwidth": 2,
            "linecolor": "#EBF0F8",
            "showbackground": true,
            "ticks": "",
            "zerolinecolor": "#EBF0F8"
           },
           "yaxis": {
            "backgroundcolor": "white",
            "gridcolor": "#DFE8F3",
            "gridwidth": 2,
            "linecolor": "#EBF0F8",
            "showbackground": true,
            "ticks": "",
            "zerolinecolor": "#EBF0F8"
           },
           "zaxis": {
            "backgroundcolor": "white",
            "gridcolor": "#DFE8F3",
            "gridwidth": 2,
            "linecolor": "#EBF0F8",
            "showbackground": true,
            "ticks": "",
            "zerolinecolor": "#EBF0F8"
           }
          },
          "shapedefaults": {
           "line": {
            "color": "#2a3f5f"
           }
          },
          "ternary": {
           "aaxis": {
            "gridcolor": "#DFE8F3",
            "linecolor": "#A2B1C6",
            "ticks": ""
           },
           "baxis": {
            "gridcolor": "#DFE8F3",
            "linecolor": "#A2B1C6",
            "ticks": ""
           },
           "bgcolor": "white",
           "caxis": {
            "gridcolor": "#DFE8F3",
            "linecolor": "#A2B1C6",
            "ticks": ""
           }
          },
          "title": {
           "x": 0.05
          },
          "xaxis": {
           "automargin": true,
           "gridcolor": "#EBF0F8",
           "linecolor": "#EBF0F8",
           "ticks": "",
           "title": {
            "standoff": 15
           },
           "zerolinecolor": "#EBF0F8",
           "zerolinewidth": 2
          },
          "yaxis": {
           "automargin": true,
           "gridcolor": "#EBF0F8",
           "linecolor": "#EBF0F8",
           "ticks": "",
           "title": {
            "standoff": 15
           },
           "zerolinecolor": "#EBF0F8",
           "zerolinewidth": 2
          }
         }
        },
        "title": {
         "text": "Radar – DecisionTree"
        }
       }
      }
     },
     "metadata": {},
     "output_type": "display_data"
    },
    {
     "name": "stdout",
     "output_type": "stream",
     "text": [
      "\n",
      "🔹  Treinando XGBoost\n"
     ]
    },
    {
     "data": {
      "application/vnd.plotly.v1+json": {
       "config": {
        "plotlyServerURL": "https://plot.ly"
       },
       "data": [
        {
         "fill": "toself",
         "name": "Group (-inf, inf)",
         "r": {
          "bdata": "PsOuALnXoTyPwvUoXI+dPEIZvS1rdVw8ZmZmZmYWwrwkTak4+/CoPMi95kLSlKS8ke18PzVeiDwrhxbZzvdnvHMhaUrFma88xGfYFSBX37x6ov6NUEZfPLErQO41F268+cWSXyz5gjw9CtejcPWovBM8mCfq34A8F9nO91NjuTzhehSuR+GAvHsUrkfheou8Rrbz/dT4mrxTcfbhM+yxvDBP1L8Ryoi8D+aJ+jdCkrwGgZVDi+xYvBT1b4QyekO85F5zIWlqeLyamZmZmZmGvAwCK4cWmaO8NheSplScfryJiIiIiIhhvAAAAAAAAPh/GQRWDi2SdbyMJb9Y8otPPG5Zq2OCB588REREREREjbzufD81XhqcPFFGb8taHTM8WmQ7309tpLzNzMzMzMx0vJB7zYWkKY48exSuR+GaxLxU46WbxKCRPNv5fmq8dIE84cE8Uf/GgzxP1L8RyuitPJ7vp8ZLN3m8IPeaC0lTSjyLsw+fYVdyvBM8mCfq33g8MsGDeaL+iLyTXyz5xZJ9PHMhaUrF2Zc8NOwKkHvNm7xeAXKvuZBOvO41F5KmVFQ8gNxrLiRNk7yK+jdCGf2hvE8b6LSBfno8ERERERGRlDwOdNpApw2OPBKDwMqhRZa8fIZdAXKvfzyF61G4HoVjPK3VMcGDeWq8EFg5tMjWn7zzRP0boYydPMOuALnX3KU85dAi2/n+nrzQaQOdNhCuPMkvlvxiyW+8rkfhehSOlTwqFWcfPgOhPAAAAAAAAPh/CWX0tqxVYTxZq2OCB/NwvAFyr7mQNJO8CtejcD1atbx56SYxCKyCvOOlm8QgsI+8yuhtWatjOrxTcfbhM+xmPIDcay4kTZ+8zYWkKRXnk7wRERERETGUPA==",
          "dtype": "f8"
         },
         "theta": [
          "loan_amnt",
          "funded_amnt",
          "funded_amnt_inv",
          "int_rate",
          "installment",
          "annual_inc",
          "dti",
          "delinq_2yrs",
          "fico_range_low",
          "fico_range_high",
          "inq_last_6mths",
          "open_acc",
          "pub_rec",
          "revol_bal",
          "revol_util",
          "total_acc",
          "out_prncp",
          "out_prncp_inv",
          "total_pymnt",
          "total_pymnt_inv",
          "total_rec_prncp",
          "total_rec_int",
          "total_rec_late_fee",
          "recoveries",
          "collection_recovery_fee",
          "last_pymnt_amnt",
          "last_fico_range_high",
          "last_fico_range_low",
          "collections_12_mths_ex_med",
          "policy_code",
          "acc_now_delinq",
          "tot_coll_amt",
          "tot_cur_bal",
          "open_acc_6m",
          "open_act_il",
          "open_il_12m",
          "open_il_24m",
          "mths_since_rcnt_il",
          "total_bal_il",
          "il_util",
          "open_rv_12m",
          "open_rv_24m",
          "max_bal_bc",
          "all_util",
          "total_rev_hi_lim",
          "inq_fi",
          "total_cu_tl",
          "inq_last_12m",
          "acc_open_past_24mths",
          "avg_cur_bal",
          "bc_open_to_buy",
          "bc_util",
          "chargeoff_within_12_mths",
          "delinq_amnt",
          "mo_sin_old_il_acct",
          "mo_sin_old_rev_tl_op",
          "mo_sin_rcnt_rev_tl_op",
          "mo_sin_rcnt_tl",
          "mort_acc",
          "mths_since_recent_bc",
          "mths_since_recent_inq",
          "num_accts_ever_120_pd",
          "num_actv_bc_tl",
          "num_actv_rev_tl",
          "num_bc_sats",
          "num_bc_tl",
          "num_il_tl",
          "num_op_rev_tl",
          "num_rev_accts",
          "num_rev_tl_bal_gt_0",
          "num_sats",
          "num_tl_120dpd_2m",
          "num_tl_30dpd",
          "num_tl_90g_dpd_24m",
          "num_tl_op_past_12m",
          "pct_tl_nvr_dlq",
          "percent_bc_gt_75",
          "pub_rec_bankruptcies",
          "tax_liens",
          "tot_hi_cred_lim",
          "total_bal_ex_mort",
          "total_bc_limit",
          "total_il_high_credit_limit"
         ],
         "type": "scatterpolar"
        }
       ],
       "layout": {
        "template": {
         "data": {
          "bar": [
           {
            "error_x": {
             "color": "#2a3f5f"
            },
            "error_y": {
             "color": "#2a3f5f"
            },
            "marker": {
             "line": {
              "color": "white",
              "width": 0.5
             },
             "pattern": {
              "fillmode": "overlay",
              "size": 10,
              "solidity": 0.2
             }
            },
            "type": "bar"
           }
          ],
          "barpolar": [
           {
            "marker": {
             "line": {
              "color": "white",
              "width": 0.5
             },
             "pattern": {
              "fillmode": "overlay",
              "size": 10,
              "solidity": 0.2
             }
            },
            "type": "barpolar"
           }
          ],
          "carpet": [
           {
            "aaxis": {
             "endlinecolor": "#2a3f5f",
             "gridcolor": "#C8D4E3",
             "linecolor": "#C8D4E3",
             "minorgridcolor": "#C8D4E3",
             "startlinecolor": "#2a3f5f"
            },
            "baxis": {
             "endlinecolor": "#2a3f5f",
             "gridcolor": "#C8D4E3",
             "linecolor": "#C8D4E3",
             "minorgridcolor": "#C8D4E3",
             "startlinecolor": "#2a3f5f"
            },
            "type": "carpet"
           }
          ],
          "choropleth": [
           {
            "colorbar": {
             "outlinewidth": 0,
             "ticks": ""
            },
            "type": "choropleth"
           }
          ],
          "contour": [
           {
            "colorbar": {
             "outlinewidth": 0,
             "ticks": ""
            },
            "colorscale": [
             [
              0,
              "#0d0887"
             ],
             [
              0.1111111111111111,
              "#46039f"
             ],
             [
              0.2222222222222222,
              "#7201a8"
             ],
             [
              0.3333333333333333,
              "#9c179e"
             ],
             [
              0.4444444444444444,
              "#bd3786"
             ],
             [
              0.5555555555555556,
              "#d8576b"
             ],
             [
              0.6666666666666666,
              "#ed7953"
             ],
             [
              0.7777777777777778,
              "#fb9f3a"
             ],
             [
              0.8888888888888888,
              "#fdca26"
             ],
             [
              1,
              "#f0f921"
             ]
            ],
            "type": "contour"
           }
          ],
          "contourcarpet": [
           {
            "colorbar": {
             "outlinewidth": 0,
             "ticks": ""
            },
            "type": "contourcarpet"
           }
          ],
          "heatmap": [
           {
            "colorbar": {
             "outlinewidth": 0,
             "ticks": ""
            },
            "colorscale": [
             [
              0,
              "#0d0887"
             ],
             [
              0.1111111111111111,
              "#46039f"
             ],
             [
              0.2222222222222222,
              "#7201a8"
             ],
             [
              0.3333333333333333,
              "#9c179e"
             ],
             [
              0.4444444444444444,
              "#bd3786"
             ],
             [
              0.5555555555555556,
              "#d8576b"
             ],
             [
              0.6666666666666666,
              "#ed7953"
             ],
             [
              0.7777777777777778,
              "#fb9f3a"
             ],
             [
              0.8888888888888888,
              "#fdca26"
             ],
             [
              1,
              "#f0f921"
             ]
            ],
            "type": "heatmap"
           }
          ],
          "histogram": [
           {
            "marker": {
             "pattern": {
              "fillmode": "overlay",
              "size": 10,
              "solidity": 0.2
             }
            },
            "type": "histogram"
           }
          ],
          "histogram2d": [
           {
            "colorbar": {
             "outlinewidth": 0,
             "ticks": ""
            },
            "colorscale": [
             [
              0,
              "#0d0887"
             ],
             [
              0.1111111111111111,
              "#46039f"
             ],
             [
              0.2222222222222222,
              "#7201a8"
             ],
             [
              0.3333333333333333,
              "#9c179e"
             ],
             [
              0.4444444444444444,
              "#bd3786"
             ],
             [
              0.5555555555555556,
              "#d8576b"
             ],
             [
              0.6666666666666666,
              "#ed7953"
             ],
             [
              0.7777777777777778,
              "#fb9f3a"
             ],
             [
              0.8888888888888888,
              "#fdca26"
             ],
             [
              1,
              "#f0f921"
             ]
            ],
            "type": "histogram2d"
           }
          ],
          "histogram2dcontour": [
           {
            "colorbar": {
             "outlinewidth": 0,
             "ticks": ""
            },
            "colorscale": [
             [
              0,
              "#0d0887"
             ],
             [
              0.1111111111111111,
              "#46039f"
             ],
             [
              0.2222222222222222,
              "#7201a8"
             ],
             [
              0.3333333333333333,
              "#9c179e"
             ],
             [
              0.4444444444444444,
              "#bd3786"
             ],
             [
              0.5555555555555556,
              "#d8576b"
             ],
             [
              0.6666666666666666,
              "#ed7953"
             ],
             [
              0.7777777777777778,
              "#fb9f3a"
             ],
             [
              0.8888888888888888,
              "#fdca26"
             ],
             [
              1,
              "#f0f921"
             ]
            ],
            "type": "histogram2dcontour"
           }
          ],
          "mesh3d": [
           {
            "colorbar": {
             "outlinewidth": 0,
             "ticks": ""
            },
            "type": "mesh3d"
           }
          ],
          "parcoords": [
           {
            "line": {
             "colorbar": {
              "outlinewidth": 0,
              "ticks": ""
             }
            },
            "type": "parcoords"
           }
          ],
          "pie": [
           {
            "automargin": true,
            "type": "pie"
           }
          ],
          "scatter": [
           {
            "fillpattern": {
             "fillmode": "overlay",
             "size": 10,
             "solidity": 0.2
            },
            "type": "scatter"
           }
          ],
          "scatter3d": [
           {
            "line": {
             "colorbar": {
              "outlinewidth": 0,
              "ticks": ""
             }
            },
            "marker": {
             "colorbar": {
              "outlinewidth": 0,
              "ticks": ""
             }
            },
            "type": "scatter3d"
           }
          ],
          "scattercarpet": [
           {
            "marker": {
             "colorbar": {
              "outlinewidth": 0,
              "ticks": ""
             }
            },
            "type": "scattercarpet"
           }
          ],
          "scattergeo": [
           {
            "marker": {
             "colorbar": {
              "outlinewidth": 0,
              "ticks": ""
             }
            },
            "type": "scattergeo"
           }
          ],
          "scattergl": [
           {
            "marker": {
             "colorbar": {
              "outlinewidth": 0,
              "ticks": ""
             }
            },
            "type": "scattergl"
           }
          ],
          "scattermap": [
           {
            "marker": {
             "colorbar": {
              "outlinewidth": 0,
              "ticks": ""
             }
            },
            "type": "scattermap"
           }
          ],
          "scattermapbox": [
           {
            "marker": {
             "colorbar": {
              "outlinewidth": 0,
              "ticks": ""
             }
            },
            "type": "scattermapbox"
           }
          ],
          "scatterpolar": [
           {
            "marker": {
             "colorbar": {
              "outlinewidth": 0,
              "ticks": ""
             }
            },
            "type": "scatterpolar"
           }
          ],
          "scatterpolargl": [
           {
            "marker": {
             "colorbar": {
              "outlinewidth": 0,
              "ticks": ""
             }
            },
            "type": "scatterpolargl"
           }
          ],
          "scatterternary": [
           {
            "marker": {
             "colorbar": {
              "outlinewidth": 0,
              "ticks": ""
             }
            },
            "type": "scatterternary"
           }
          ],
          "surface": [
           {
            "colorbar": {
             "outlinewidth": 0,
             "ticks": ""
            },
            "colorscale": [
             [
              0,
              "#0d0887"
             ],
             [
              0.1111111111111111,
              "#46039f"
             ],
             [
              0.2222222222222222,
              "#7201a8"
             ],
             [
              0.3333333333333333,
              "#9c179e"
             ],
             [
              0.4444444444444444,
              "#bd3786"
             ],
             [
              0.5555555555555556,
              "#d8576b"
             ],
             [
              0.6666666666666666,
              "#ed7953"
             ],
             [
              0.7777777777777778,
              "#fb9f3a"
             ],
             [
              0.8888888888888888,
              "#fdca26"
             ],
             [
              1,
              "#f0f921"
             ]
            ],
            "type": "surface"
           }
          ],
          "table": [
           {
            "cells": {
             "fill": {
              "color": "#EBF0F8"
             },
             "line": {
              "color": "white"
             }
            },
            "header": {
             "fill": {
              "color": "#C8D4E3"
             },
             "line": {
              "color": "white"
             }
            },
            "type": "table"
           }
          ]
         },
         "layout": {
          "annotationdefaults": {
           "arrowcolor": "#2a3f5f",
           "arrowhead": 0,
           "arrowwidth": 1
          },
          "autotypenumbers": "strict",
          "coloraxis": {
           "colorbar": {
            "outlinewidth": 0,
            "ticks": ""
           }
          },
          "colorscale": {
           "diverging": [
            [
             0,
             "#8e0152"
            ],
            [
             0.1,
             "#c51b7d"
            ],
            [
             0.2,
             "#de77ae"
            ],
            [
             0.3,
             "#f1b6da"
            ],
            [
             0.4,
             "#fde0ef"
            ],
            [
             0.5,
             "#f7f7f7"
            ],
            [
             0.6,
             "#e6f5d0"
            ],
            [
             0.7,
             "#b8e186"
            ],
            [
             0.8,
             "#7fbc41"
            ],
            [
             0.9,
             "#4d9221"
            ],
            [
             1,
             "#276419"
            ]
           ],
           "sequential": [
            [
             0,
             "#0d0887"
            ],
            [
             0.1111111111111111,
             "#46039f"
            ],
            [
             0.2222222222222222,
             "#7201a8"
            ],
            [
             0.3333333333333333,
             "#9c179e"
            ],
            [
             0.4444444444444444,
             "#bd3786"
            ],
            [
             0.5555555555555556,
             "#d8576b"
            ],
            [
             0.6666666666666666,
             "#ed7953"
            ],
            [
             0.7777777777777778,
             "#fb9f3a"
            ],
            [
             0.8888888888888888,
             "#fdca26"
            ],
            [
             1,
             "#f0f921"
            ]
           ],
           "sequentialminus": [
            [
             0,
             "#0d0887"
            ],
            [
             0.1111111111111111,
             "#46039f"
            ],
            [
             0.2222222222222222,
             "#7201a8"
            ],
            [
             0.3333333333333333,
             "#9c179e"
            ],
            [
             0.4444444444444444,
             "#bd3786"
            ],
            [
             0.5555555555555556,
             "#d8576b"
            ],
            [
             0.6666666666666666,
             "#ed7953"
            ],
            [
             0.7777777777777778,
             "#fb9f3a"
            ],
            [
             0.8888888888888888,
             "#fdca26"
            ],
            [
             1,
             "#f0f921"
            ]
           ]
          },
          "colorway": [
           "#636efa",
           "#EF553B",
           "#00cc96",
           "#ab63fa",
           "#FFA15A",
           "#19d3f3",
           "#FF6692",
           "#B6E880",
           "#FF97FF",
           "#FECB52"
          ],
          "font": {
           "color": "#2a3f5f"
          },
          "geo": {
           "bgcolor": "white",
           "lakecolor": "white",
           "landcolor": "white",
           "showlakes": true,
           "showland": true,
           "subunitcolor": "#C8D4E3"
          },
          "hoverlabel": {
           "align": "left"
          },
          "hovermode": "closest",
          "mapbox": {
           "style": "light"
          },
          "paper_bgcolor": "white",
          "plot_bgcolor": "white",
          "polar": {
           "angularaxis": {
            "gridcolor": "#EBF0F8",
            "linecolor": "#EBF0F8",
            "ticks": ""
           },
           "bgcolor": "white",
           "radialaxis": {
            "gridcolor": "#EBF0F8",
            "linecolor": "#EBF0F8",
            "ticks": ""
           }
          },
          "scene": {
           "xaxis": {
            "backgroundcolor": "white",
            "gridcolor": "#DFE8F3",
            "gridwidth": 2,
            "linecolor": "#EBF0F8",
            "showbackground": true,
            "ticks": "",
            "zerolinecolor": "#EBF0F8"
           },
           "yaxis": {
            "backgroundcolor": "white",
            "gridcolor": "#DFE8F3",
            "gridwidth": 2,
            "linecolor": "#EBF0F8",
            "showbackground": true,
            "ticks": "",
            "zerolinecolor": "#EBF0F8"
           },
           "zaxis": {
            "backgroundcolor": "white",
            "gridcolor": "#DFE8F3",
            "gridwidth": 2,
            "linecolor": "#EBF0F8",
            "showbackground": true,
            "ticks": "",
            "zerolinecolor": "#EBF0F8"
           }
          },
          "shapedefaults": {
           "line": {
            "color": "#2a3f5f"
           }
          },
          "ternary": {
           "aaxis": {
            "gridcolor": "#DFE8F3",
            "linecolor": "#A2B1C6",
            "ticks": ""
           },
           "baxis": {
            "gridcolor": "#DFE8F3",
            "linecolor": "#A2B1C6",
            "ticks": ""
           },
           "bgcolor": "white",
           "caxis": {
            "gridcolor": "#DFE8F3",
            "linecolor": "#A2B1C6",
            "ticks": ""
           }
          },
          "title": {
           "x": 0.05
          },
          "xaxis": {
           "automargin": true,
           "gridcolor": "#EBF0F8",
           "linecolor": "#EBF0F8",
           "ticks": "",
           "title": {
            "standoff": 15
           },
           "zerolinecolor": "#EBF0F8",
           "zerolinewidth": 2
          },
          "yaxis": {
           "automargin": true,
           "gridcolor": "#EBF0F8",
           "linecolor": "#EBF0F8",
           "ticks": "",
           "title": {
            "standoff": 15
           },
           "zerolinecolor": "#EBF0F8",
           "zerolinewidth": 2
          }
         }
        },
        "title": {
         "text": "Radar – XGBoost"
        }
       }
      }
     },
     "metadata": {},
     "output_type": "display_data"
    },
    {
     "name": "stdout",
     "output_type": "stream",
     "text": [
      "\n",
      "🔹  Treinando LightGBM\n"
     ]
    },
    {
     "data": {
      "application/vnd.plotly.v1+json": {
       "config": {
        "plotlyServerURL": "https://plot.ly"
       },
       "data": [
        {
         "fill": "toself",
         "name": "Group (-inf, inf)",
         "r": {
          "bdata": "PsOuALnXoTyPwvUoXI+dPEIZvS1rdVw8ZmZmZmYWwrwkTak4+/CoPMi95kLSlKS8ke18PzVeiDwrhxbZzvdnvHMhaUrFma88xGfYFSBX37x6ov6NUEZfPLErQO41F268+cWSXyz5gjw9CtejcPWovBM8mCfq34A8F9nO91NjuTzhehSuR+GAvHsUrkfheou8Rrbz/dT4mrxTcfbhM+yxvDBP1L8Ryoi8D+aJ+jdCkrwGgZVDi+xYvBT1b4QyekO85F5zIWlqeLyamZmZmZmGvAwCK4cWmaO8NheSplScfryJiIiIiIhhvAAAAAAAAPh/GQRWDi2SdbyMJb9Y8otPPG5Zq2OCB588REREREREjbzufD81XhqcPFFGb8taHTM8WmQ7309tpLzNzMzMzMx0vJB7zYWkKY48exSuR+GaxLxU46WbxKCRPNv5fmq8dIE84cE8Uf/GgzxP1L8RyuitPJ7vp8ZLN3m8IPeaC0lTSjyLsw+fYVdyvBM8mCfq33g8MsGDeaL+iLyTXyz5xZJ9PHMhaUrF2Zc8NOwKkHvNm7xeAXKvuZBOvO41F5KmVFQ8gNxrLiRNk7yK+jdCGf2hvE8b6LSBfno8ERERERGRlDwOdNpApw2OPBKDwMqhRZa8fIZdAXKvfzyF61G4HoVjPK3VMcGDeWq8EFg5tMjWn7zzRP0boYydPMOuALnX3KU85dAi2/n+nrzQaQOdNhCuPMkvlvxiyW+8rkfhehSOlTwqFWcfPgOhPAAAAAAAAPh/CWX0tqxVYTxZq2OCB/NwvAFyr7mQNJO8CtejcD1atbx56SYxCKyCvOOlm8QgsI+8yuhtWatjOrxTcfbhM+xmPIDcay4kTZ+8zYWkKRXnk7wRERERETGUPA==",
          "dtype": "f8"
         },
         "theta": [
          "loan_amnt",
          "funded_amnt",
          "funded_amnt_inv",
          "int_rate",
          "installment",
          "annual_inc",
          "dti",
          "delinq_2yrs",
          "fico_range_low",
          "fico_range_high",
          "inq_last_6mths",
          "open_acc",
          "pub_rec",
          "revol_bal",
          "revol_util",
          "total_acc",
          "out_prncp",
          "out_prncp_inv",
          "total_pymnt",
          "total_pymnt_inv",
          "total_rec_prncp",
          "total_rec_int",
          "total_rec_late_fee",
          "recoveries",
          "collection_recovery_fee",
          "last_pymnt_amnt",
          "last_fico_range_high",
          "last_fico_range_low",
          "collections_12_mths_ex_med",
          "policy_code",
          "acc_now_delinq",
          "tot_coll_amt",
          "tot_cur_bal",
          "open_acc_6m",
          "open_act_il",
          "open_il_12m",
          "open_il_24m",
          "mths_since_rcnt_il",
          "total_bal_il",
          "il_util",
          "open_rv_12m",
          "open_rv_24m",
          "max_bal_bc",
          "all_util",
          "total_rev_hi_lim",
          "inq_fi",
          "total_cu_tl",
          "inq_last_12m",
          "acc_open_past_24mths",
          "avg_cur_bal",
          "bc_open_to_buy",
          "bc_util",
          "chargeoff_within_12_mths",
          "delinq_amnt",
          "mo_sin_old_il_acct",
          "mo_sin_old_rev_tl_op",
          "mo_sin_rcnt_rev_tl_op",
          "mo_sin_rcnt_tl",
          "mort_acc",
          "mths_since_recent_bc",
          "mths_since_recent_inq",
          "num_accts_ever_120_pd",
          "num_actv_bc_tl",
          "num_actv_rev_tl",
          "num_bc_sats",
          "num_bc_tl",
          "num_il_tl",
          "num_op_rev_tl",
          "num_rev_accts",
          "num_rev_tl_bal_gt_0",
          "num_sats",
          "num_tl_120dpd_2m",
          "num_tl_30dpd",
          "num_tl_90g_dpd_24m",
          "num_tl_op_past_12m",
          "pct_tl_nvr_dlq",
          "percent_bc_gt_75",
          "pub_rec_bankruptcies",
          "tax_liens",
          "tot_hi_cred_lim",
          "total_bal_ex_mort",
          "total_bc_limit",
          "total_il_high_credit_limit"
         ],
         "type": "scatterpolar"
        }
       ],
       "layout": {
        "template": {
         "data": {
          "bar": [
           {
            "error_x": {
             "color": "#2a3f5f"
            },
            "error_y": {
             "color": "#2a3f5f"
            },
            "marker": {
             "line": {
              "color": "white",
              "width": 0.5
             },
             "pattern": {
              "fillmode": "overlay",
              "size": 10,
              "solidity": 0.2
             }
            },
            "type": "bar"
           }
          ],
          "barpolar": [
           {
            "marker": {
             "line": {
              "color": "white",
              "width": 0.5
             },
             "pattern": {
              "fillmode": "overlay",
              "size": 10,
              "solidity": 0.2
             }
            },
            "type": "barpolar"
           }
          ],
          "carpet": [
           {
            "aaxis": {
             "endlinecolor": "#2a3f5f",
             "gridcolor": "#C8D4E3",
             "linecolor": "#C8D4E3",
             "minorgridcolor": "#C8D4E3",
             "startlinecolor": "#2a3f5f"
            },
            "baxis": {
             "endlinecolor": "#2a3f5f",
             "gridcolor": "#C8D4E3",
             "linecolor": "#C8D4E3",
             "minorgridcolor": "#C8D4E3",
             "startlinecolor": "#2a3f5f"
            },
            "type": "carpet"
           }
          ],
          "choropleth": [
           {
            "colorbar": {
             "outlinewidth": 0,
             "ticks": ""
            },
            "type": "choropleth"
           }
          ],
          "contour": [
           {
            "colorbar": {
             "outlinewidth": 0,
             "ticks": ""
            },
            "colorscale": [
             [
              0,
              "#0d0887"
             ],
             [
              0.1111111111111111,
              "#46039f"
             ],
             [
              0.2222222222222222,
              "#7201a8"
             ],
             [
              0.3333333333333333,
              "#9c179e"
             ],
             [
              0.4444444444444444,
              "#bd3786"
             ],
             [
              0.5555555555555556,
              "#d8576b"
             ],
             [
              0.6666666666666666,
              "#ed7953"
             ],
             [
              0.7777777777777778,
              "#fb9f3a"
             ],
             [
              0.8888888888888888,
              "#fdca26"
             ],
             [
              1,
              "#f0f921"
             ]
            ],
            "type": "contour"
           }
          ],
          "contourcarpet": [
           {
            "colorbar": {
             "outlinewidth": 0,
             "ticks": ""
            },
            "type": "contourcarpet"
           }
          ],
          "heatmap": [
           {
            "colorbar": {
             "outlinewidth": 0,
             "ticks": ""
            },
            "colorscale": [
             [
              0,
              "#0d0887"
             ],
             [
              0.1111111111111111,
              "#46039f"
             ],
             [
              0.2222222222222222,
              "#7201a8"
             ],
             [
              0.3333333333333333,
              "#9c179e"
             ],
             [
              0.4444444444444444,
              "#bd3786"
             ],
             [
              0.5555555555555556,
              "#d8576b"
             ],
             [
              0.6666666666666666,
              "#ed7953"
             ],
             [
              0.7777777777777778,
              "#fb9f3a"
             ],
             [
              0.8888888888888888,
              "#fdca26"
             ],
             [
              1,
              "#f0f921"
             ]
            ],
            "type": "heatmap"
           }
          ],
          "histogram": [
           {
            "marker": {
             "pattern": {
              "fillmode": "overlay",
              "size": 10,
              "solidity": 0.2
             }
            },
            "type": "histogram"
           }
          ],
          "histogram2d": [
           {
            "colorbar": {
             "outlinewidth": 0,
             "ticks": ""
            },
            "colorscale": [
             [
              0,
              "#0d0887"
             ],
             [
              0.1111111111111111,
              "#46039f"
             ],
             [
              0.2222222222222222,
              "#7201a8"
             ],
             [
              0.3333333333333333,
              "#9c179e"
             ],
             [
              0.4444444444444444,
              "#bd3786"
             ],
             [
              0.5555555555555556,
              "#d8576b"
             ],
             [
              0.6666666666666666,
              "#ed7953"
             ],
             [
              0.7777777777777778,
              "#fb9f3a"
             ],
             [
              0.8888888888888888,
              "#fdca26"
             ],
             [
              1,
              "#f0f921"
             ]
            ],
            "type": "histogram2d"
           }
          ],
          "histogram2dcontour": [
           {
            "colorbar": {
             "outlinewidth": 0,
             "ticks": ""
            },
            "colorscale": [
             [
              0,
              "#0d0887"
             ],
             [
              0.1111111111111111,
              "#46039f"
             ],
             [
              0.2222222222222222,
              "#7201a8"
             ],
             [
              0.3333333333333333,
              "#9c179e"
             ],
             [
              0.4444444444444444,
              "#bd3786"
             ],
             [
              0.5555555555555556,
              "#d8576b"
             ],
             [
              0.6666666666666666,
              "#ed7953"
             ],
             [
              0.7777777777777778,
              "#fb9f3a"
             ],
             [
              0.8888888888888888,
              "#fdca26"
             ],
             [
              1,
              "#f0f921"
             ]
            ],
            "type": "histogram2dcontour"
           }
          ],
          "mesh3d": [
           {
            "colorbar": {
             "outlinewidth": 0,
             "ticks": ""
            },
            "type": "mesh3d"
           }
          ],
          "parcoords": [
           {
            "line": {
             "colorbar": {
              "outlinewidth": 0,
              "ticks": ""
             }
            },
            "type": "parcoords"
           }
          ],
          "pie": [
           {
            "automargin": true,
            "type": "pie"
           }
          ],
          "scatter": [
           {
            "fillpattern": {
             "fillmode": "overlay",
             "size": 10,
             "solidity": 0.2
            },
            "type": "scatter"
           }
          ],
          "scatter3d": [
           {
            "line": {
             "colorbar": {
              "outlinewidth": 0,
              "ticks": ""
             }
            },
            "marker": {
             "colorbar": {
              "outlinewidth": 0,
              "ticks": ""
             }
            },
            "type": "scatter3d"
           }
          ],
          "scattercarpet": [
           {
            "marker": {
             "colorbar": {
              "outlinewidth": 0,
              "ticks": ""
             }
            },
            "type": "scattercarpet"
           }
          ],
          "scattergeo": [
           {
            "marker": {
             "colorbar": {
              "outlinewidth": 0,
              "ticks": ""
             }
            },
            "type": "scattergeo"
           }
          ],
          "scattergl": [
           {
            "marker": {
             "colorbar": {
              "outlinewidth": 0,
              "ticks": ""
             }
            },
            "type": "scattergl"
           }
          ],
          "scattermap": [
           {
            "marker": {
             "colorbar": {
              "outlinewidth": 0,
              "ticks": ""
             }
            },
            "type": "scattermap"
           }
          ],
          "scattermapbox": [
           {
            "marker": {
             "colorbar": {
              "outlinewidth": 0,
              "ticks": ""
             }
            },
            "type": "scattermapbox"
           }
          ],
          "scatterpolar": [
           {
            "marker": {
             "colorbar": {
              "outlinewidth": 0,
              "ticks": ""
             }
            },
            "type": "scatterpolar"
           }
          ],
          "scatterpolargl": [
           {
            "marker": {
             "colorbar": {
              "outlinewidth": 0,
              "ticks": ""
             }
            },
            "type": "scatterpolargl"
           }
          ],
          "scatterternary": [
           {
            "marker": {
             "colorbar": {
              "outlinewidth": 0,
              "ticks": ""
             }
            },
            "type": "scatterternary"
           }
          ],
          "surface": [
           {
            "colorbar": {
             "outlinewidth": 0,
             "ticks": ""
            },
            "colorscale": [
             [
              0,
              "#0d0887"
             ],
             [
              0.1111111111111111,
              "#46039f"
             ],
             [
              0.2222222222222222,
              "#7201a8"
             ],
             [
              0.3333333333333333,
              "#9c179e"
             ],
             [
              0.4444444444444444,
              "#bd3786"
             ],
             [
              0.5555555555555556,
              "#d8576b"
             ],
             [
              0.6666666666666666,
              "#ed7953"
             ],
             [
              0.7777777777777778,
              "#fb9f3a"
             ],
             [
              0.8888888888888888,
              "#fdca26"
             ],
             [
              1,
              "#f0f921"
             ]
            ],
            "type": "surface"
           }
          ],
          "table": [
           {
            "cells": {
             "fill": {
              "color": "#EBF0F8"
             },
             "line": {
              "color": "white"
             }
            },
            "header": {
             "fill": {
              "color": "#C8D4E3"
             },
             "line": {
              "color": "white"
             }
            },
            "type": "table"
           }
          ]
         },
         "layout": {
          "annotationdefaults": {
           "arrowcolor": "#2a3f5f",
           "arrowhead": 0,
           "arrowwidth": 1
          },
          "autotypenumbers": "strict",
          "coloraxis": {
           "colorbar": {
            "outlinewidth": 0,
            "ticks": ""
           }
          },
          "colorscale": {
           "diverging": [
            [
             0,
             "#8e0152"
            ],
            [
             0.1,
             "#c51b7d"
            ],
            [
             0.2,
             "#de77ae"
            ],
            [
             0.3,
             "#f1b6da"
            ],
            [
             0.4,
             "#fde0ef"
            ],
            [
             0.5,
             "#f7f7f7"
            ],
            [
             0.6,
             "#e6f5d0"
            ],
            [
             0.7,
             "#b8e186"
            ],
            [
             0.8,
             "#7fbc41"
            ],
            [
             0.9,
             "#4d9221"
            ],
            [
             1,
             "#276419"
            ]
           ],
           "sequential": [
            [
             0,
             "#0d0887"
            ],
            [
             0.1111111111111111,
             "#46039f"
            ],
            [
             0.2222222222222222,
             "#7201a8"
            ],
            [
             0.3333333333333333,
             "#9c179e"
            ],
            [
             0.4444444444444444,
             "#bd3786"
            ],
            [
             0.5555555555555556,
             "#d8576b"
            ],
            [
             0.6666666666666666,
             "#ed7953"
            ],
            [
             0.7777777777777778,
             "#fb9f3a"
            ],
            [
             0.8888888888888888,
             "#fdca26"
            ],
            [
             1,
             "#f0f921"
            ]
           ],
           "sequentialminus": [
            [
             0,
             "#0d0887"
            ],
            [
             0.1111111111111111,
             "#46039f"
            ],
            [
             0.2222222222222222,
             "#7201a8"
            ],
            [
             0.3333333333333333,
             "#9c179e"
            ],
            [
             0.4444444444444444,
             "#bd3786"
            ],
            [
             0.5555555555555556,
             "#d8576b"
            ],
            [
             0.6666666666666666,
             "#ed7953"
            ],
            [
             0.7777777777777778,
             "#fb9f3a"
            ],
            [
             0.8888888888888888,
             "#fdca26"
            ],
            [
             1,
             "#f0f921"
            ]
           ]
          },
          "colorway": [
           "#636efa",
           "#EF553B",
           "#00cc96",
           "#ab63fa",
           "#FFA15A",
           "#19d3f3",
           "#FF6692",
           "#B6E880",
           "#FF97FF",
           "#FECB52"
          ],
          "font": {
           "color": "#2a3f5f"
          },
          "geo": {
           "bgcolor": "white",
           "lakecolor": "white",
           "landcolor": "white",
           "showlakes": true,
           "showland": true,
           "subunitcolor": "#C8D4E3"
          },
          "hoverlabel": {
           "align": "left"
          },
          "hovermode": "closest",
          "mapbox": {
           "style": "light"
          },
          "paper_bgcolor": "white",
          "plot_bgcolor": "white",
          "polar": {
           "angularaxis": {
            "gridcolor": "#EBF0F8",
            "linecolor": "#EBF0F8",
            "ticks": ""
           },
           "bgcolor": "white",
           "radialaxis": {
            "gridcolor": "#EBF0F8",
            "linecolor": "#EBF0F8",
            "ticks": ""
           }
          },
          "scene": {
           "xaxis": {
            "backgroundcolor": "white",
            "gridcolor": "#DFE8F3",
            "gridwidth": 2,
            "linecolor": "#EBF0F8",
            "showbackground": true,
            "ticks": "",
            "zerolinecolor": "#EBF0F8"
           },
           "yaxis": {
            "backgroundcolor": "white",
            "gridcolor": "#DFE8F3",
            "gridwidth": 2,
            "linecolor": "#EBF0F8",
            "showbackground": true,
            "ticks": "",
            "zerolinecolor": "#EBF0F8"
           },
           "zaxis": {
            "backgroundcolor": "white",
            "gridcolor": "#DFE8F3",
            "gridwidth": 2,
            "linecolor": "#EBF0F8",
            "showbackground": true,
            "ticks": "",
            "zerolinecolor": "#EBF0F8"
           }
          },
          "shapedefaults": {
           "line": {
            "color": "#2a3f5f"
           }
          },
          "ternary": {
           "aaxis": {
            "gridcolor": "#DFE8F3",
            "linecolor": "#A2B1C6",
            "ticks": ""
           },
           "baxis": {
            "gridcolor": "#DFE8F3",
            "linecolor": "#A2B1C6",
            "ticks": ""
           },
           "bgcolor": "white",
           "caxis": {
            "gridcolor": "#DFE8F3",
            "linecolor": "#A2B1C6",
            "ticks": ""
           }
          },
          "title": {
           "x": 0.05
          },
          "xaxis": {
           "automargin": true,
           "gridcolor": "#EBF0F8",
           "linecolor": "#EBF0F8",
           "ticks": "",
           "title": {
            "standoff": 15
           },
           "zerolinecolor": "#EBF0F8",
           "zerolinewidth": 2
          },
          "yaxis": {
           "automargin": true,
           "gridcolor": "#EBF0F8",
           "linecolor": "#EBF0F8",
           "ticks": "",
           "title": {
            "standoff": 15
           },
           "zerolinecolor": "#EBF0F8",
           "zerolinewidth": 2
          }
         }
        },
        "title": {
         "text": "Radar – LightGBM"
        }
       }
      }
     },
     "metadata": {},
     "output_type": "display_data"
    }
   ],
   "source": [
    "# --------------------------------------------------\n",
    "# 9. LOOP DE TREINO + AVALIAÇÃO COM BinaryPerformanceEvaluator\n",
    "# --------------------------------------------------\n",
    "results = {}\n",
    "for name, model in models.items():\n",
    "    print(f\"\\n🔹  Treinando {name}\")\n",
    "    model.fit(X_train, y_train)\n",
    "\n",
    "    evaluator = BinaryPerformanceEvaluator(\n",
    "        model=model,\n",
    "        df_train=df_train,\n",
    "        df_test=df_test,\n",
    "        target_col=TARGET,\n",
    "        id_cols=[\"id\"],\n",
    "        date_col=\"date\",\n",
    "        homogeneous_group=\"auto\",\n",
    "    )\n",
    "\n",
    "    metrics = evaluator.compute_metrics()\n",
    "    results[name] = metrics\n",
    "\n",
    "    radar = evaluator.plot_group_radar()\n",
    "    radar.update_layout(title=f\"Radar – {name}\")\n",
    "    radar.show()\n",
    "\n",
    "# (opcional) métricas comparativas\n",
    "#all_metrics = pd.concat(results, names=[\"model\"])\n",
    "#display(all_metrics)"
   ]
  },
  {
   "cell_type": "code",
   "execution_count": null,
   "id": "690da477",
   "metadata": {},
   "outputs": [
    {
     "name": "stdout",
     "output_type": "stream",
     "text": [
      "\n",
      "🚀 Treinando modelo: LogisticRegression\n"
     ]
    },
    {
     "name": "stderr",
     "output_type": "stream",
     "text": [
      "c:\\Users\\JM\\AppData\\Local\\anaconda3\\envs\\ENV_STONE\\lib\\site-packages\\sklearn\\linear_model\\_logistic.py:469: ConvergenceWarning:\n",
      "\n",
      "lbfgs failed to converge (status=1):\n",
      "STOP: TOTAL NO. OF ITERATIONS REACHED LIMIT.\n",
      "\n",
      "Increase the number of iterations (max_iter) or scale the data as shown in:\n",
      "    https://scikit-learn.org/stable/modules/preprocessing.html\n",
      "Please also refer to the documentation for alternative solver options:\n",
      "    https://scikit-learn.org/stable/modules/linear_model.html#logistic-regression\n",
      "\n"
     ]
    }
   ],
   "source": [
    "results = {}\n",
    "for name, model in models.items():\n",
    "    print(f\"\\n🚀 Treinando modelo: {name}\")\n",
    "    model.fit(X_train, y_train)\n",
    "\n",
    "    evaluator = BinaryPerformanceEvaluator(\n",
    "        model=model,\n",
    "        df_train=df_train,\n",
    "        df_test=df_test,\n",
    "        target_col=\"target\",\n",
    "        id_cols=[\"id\"],\n",
    "        date_col=\"ref_date\",\n",
    "        homogeneous_group=\"auto\",  # usa Optimal Binning\n",
    "    )\n",
    "    break\n",
    "\n",
    "    print(f\"📊 Avaliando modelo: {name}\")\n",
    "    metrics_df = evaluator.compute_metrics()\n",
    "    results[name] = metrics_df\n",
    "\n",
    "    radar_fig = evaluator.plot_group_radar()\n",
    "    radar_fig.update_layout(title=f\"Radar – {name}\")\n",
    "    radar_fig.show()\n",
    "\n",
    "# Opcional: juntar todas as métricas em um DataFrame\n",
    "#df_results = pd.concat(results, names=[\"modelo\"])\n",
    "#display(df_results)"
   ]
  },
  {
   "cell_type": "code",
   "execution_count": null,
   "id": "7daffcab",
   "metadata": {},
   "outputs": [],
   "source": [
    "metrics = evaluator.compute_metrics()\n",
    "metrics"
   ]
  },
  {
   "cell_type": "code",
   "execution_count": null,
   "id": "3d7df38d",
   "metadata": {},
   "outputs": [
    {
     "name": "stderr",
     "output_type": "stream",
     "text": [
      "c:\\Users\\JM\\Documents\\0_CienciaDados\\1_Frameworks\\RiskPilot\\examples\\binary_performance_evaluator.py:180: UserWarning:\n",
      "\n",
      "compute_metrics() has not been called; metrics may be missing.\n",
      "\n"
     ]
    },
    {
     "data": {
      "image/png": "[encoded data removed]",
      "text/plain": [
       "<Figure size 1800x500 with 2 Axes>"
      ]
     },
     "metadata": {},
     "output_type": "display_data"
    }
   ],
   "source": [
    "# Matriz de confusão\n",
    "evaluator.plot_confusion(save=True)"
   ]
  },
  {
   "cell_type": "code",
   "execution_count": null,
   "id": "d48e99e4",
   "metadata": {},
   "outputs": [
    {
     "data": {
      "application/vnd.plotly.v1+json": {
       "config": {
        "plotlyServerURL": "https://plot.ly"
       },
       "data": [
        {
         "mode": "lines+markers",
         "name": "Model",
         "type": "scatter",
         "x": {
          "bdata": "Hfht+7gHbD/CUSapbdzCP1Jaoqkv5M4/NUsGipMu1j9yCsoh8O/cP7WQo/M9guE/o1LPCTKI5D8h/Rr/pT7oPzVS+zfFXus/E0DZp1ro7z8=",
          "dtype": "f8"
         },
         "y": {
          "bdata": "AAAAAAAAAAAAAAAAAAAAABZf8RVf8bU/GIZhGIZhuD+amZmZmZnJP1VVVVVVVdU/exSuR+F61D8zMzMzMzPjP5GFLGQhC+k/6qR8Oimf7j8=",
          "dtype": "f8"
         }
        },
        {
         "line": {
          "dash": "dash"
         },
         "mode": "lines",
         "name": "Ideal",
         "type": "scatter",
         "x": [
          0,
          1
         ],
         "y": [
          0,
          1
         ]
        }
       ],
       "layout": {
        "template": {
         "data": {
          "bar": [
           {
            "error_x": {
             "color": "#2a3f5f"
            },
            "error_y": {
             "color": "#2a3f5f"
            },
            "marker": {
             "line": {
              "color": "white",
              "width": 0.5
             },
             "pattern": {
              "fillmode": "overlay",
              "size": 10,
              "solidity": 0.2
             }
            },
            "type": "bar"
           }
          ],
          "barpolar": [
           {
            "marker": {
             "line": {
              "color": "white",
              "width": 0.5
             },
             "pattern": {
              "fillmode": "overlay",
              "size": 10,
              "solidity": 0.2
             }
            },
            "type": "barpolar"
           }
          ],
          "carpet": [
           {
            "aaxis": {
             "endlinecolor": "#2a3f5f",
             "gridcolor": "#C8D4E3",
             "linecolor": "#C8D4E3",
             "minorgridcolor": "#C8D4E3",
             "startlinecolor": "#2a3f5f"
            },
            "baxis": {
             "endlinecolor": "#2a3f5f",
             "gridcolor": "#C8D4E3",
             "linecolor": "#C8D4E3",
             "minorgridcolor": "#C8D4E3",
             "startlinecolor": "#2a3f5f"
            },
            "type": "carpet"
           }
          ],
          "choropleth": [
           {
            "colorbar": {
             "outlinewidth": 0,
             "ticks": ""
            },
            "type": "choropleth"
           }
          ],
          "contour": [
           {
            "colorbar": {
             "outlinewidth": 0,
             "ticks": ""
            },
            "colorscale": [
             [
              0,
              "#0d0887"
             ],
             [
              0.1111111111111111,
              "#46039f"
             ],
             [
              0.2222222222222222,
              "#7201a8"
             ],
             [
              0.3333333333333333,
              "#9c179e"
             ],
             [
              0.4444444444444444,
              "#bd3786"
             ],
             [
              0.5555555555555556,
              "#d8576b"
             ],
             [
              0.6666666666666666,
              "#ed7953"
             ],
             [
              0.7777777777777778,
              "#fb9f3a"
             ],
             [
              0.8888888888888888,
              "#fdca26"
             ],
             [
              1,
              "#f0f921"
             ]
            ],
            "type": "contour"
           }
          ],
          "contourcarpet": [
           {
            "colorbar": {
             "outlinewidth": 0,
             "ticks": ""
            },
            "type": "contourcarpet"
           }
          ],
          "heatmap": [
           {
            "colorbar": {
             "outlinewidth": 0,
             "ticks": ""
            },
            "colorscale": [
             [
              0,
              "#0d0887"
             ],
             [
              0.1111111111111111,
              "#46039f"
             ],
             [
              0.2222222222222222,
              "#7201a8"
             ],
             [
              0.3333333333333333,
              "#9c179e"
             ],
             [
              0.4444444444444444,
              "#bd3786"
             ],
             [
              0.5555555555555556,
              "#d8576b"
             ],
             [
              0.6666666666666666,
              "#ed7953"
             ],
             [
              0.7777777777777778,
              "#fb9f3a"
             ],
             [
              0.8888888888888888,
              "#fdca26"
             ],
             [
              1,
              "#f0f921"
             ]
            ],
            "type": "heatmap"
           }
          ],
          "histogram": [
           {
            "marker": {
             "pattern": {
              "fillmode": "overlay",
              "size": 10,
              "solidity": 0.2
             }
            },
            "type": "histogram"
           }
          ],
          "histogram2d": [
           {
            "colorbar": {
             "outlinewidth": 0,
             "ticks": ""
            },
            "colorscale": [
             [
              0,
              "#0d0887"
             ],
             [
              0.1111111111111111,
              "#46039f"
             ],
             [
              0.2222222222222222,
              "#7201a8"
             ],
             [
              0.3333333333333333,
              "#9c179e"
             ],
             [
              0.4444444444444444,
              "#bd3786"
             ],
             [
              0.5555555555555556,
              "#d8576b"
             ],
             [
              0.6666666666666666,
              "#ed7953"
             ],
             [
              0.7777777777777778,
              "#fb9f3a"
             ],
             [
              0.8888888888888888,
              "#fdca26"
             ],
             [
              1,
              "#f0f921"
             ]
            ],
            "type": "histogram2d"
           }
          ],
          "histogram2dcontour": [
           {
            "colorbar": {
             "outlinewidth": 0,
             "ticks": ""
            },
            "colorscale": [
             [
              0,
              "#0d0887"
             ],
             [
              0.1111111111111111,
              "#46039f"
             ],
             [
              0.2222222222222222,
              "#7201a8"
             ],
             [
              0.3333333333333333,
              "#9c179e"
             ],
             [
              0.4444444444444444,
              "#bd3786"
             ],
             [
              0.5555555555555556,
              "#d8576b"
             ],
             [
              0.6666666666666666,
              "#ed7953"
             ],
             [
              0.7777777777777778,
              "#fb9f3a"
             ],
             [
              0.8888888888888888,
              "#fdca26"
             ],
             [
              1,
              "#f0f921"
             ]
            ],
            "type": "histogram2dcontour"
           }
          ],
          "mesh3d": [
           {
            "colorbar": {
             "outlinewidth": 0,
             "ticks": ""
            },
            "type": "mesh3d"
           }
          ],
          "parcoords": [
           {
            "line": {
             "colorbar": {
              "outlinewidth": 0,
              "ticks": ""
             }
            },
            "type": "parcoords"
           }
          ],
          "pie": [
           {
            "automargin": true,
            "type": "pie"
           }
          ],
          "scatter": [
           {
            "fillpattern": {
             "fillmode": "overlay",
             "size": 10,
             "solidity": 0.2
            },
            "type": "scatter"
           }
          ],
          "scatter3d": [
           {
            "line": {
             "colorbar": {
              "outlinewidth": 0,
              "ticks": ""
             }
            },
            "marker": {
             "colorbar": {
              "outlinewidth": 0,
              "ticks": ""
             }
            },
            "type": "scatter3d"
           }
          ],
          "scattercarpet": [
           {
            "marker": {
             "colorbar": {
              "outlinewidth": 0,
              "ticks": ""
             }
            },
            "type": "scattercarpet"
           }
          ],
          "scattergeo": [
           {
            "marker": {
             "colorbar": {
              "outlinewidth": 0,
              "ticks": ""
             }
            },
            "type": "scattergeo"
           }
          ],
          "scattergl": [
           {
            "marker": {
             "colorbar": {
              "outlinewidth": 0,
              "ticks": ""
             }
            },
            "type": "scattergl"
           }
          ],
          "scattermap": [
           {
            "marker": {
             "colorbar": {
              "outlinewidth": 0,
              "ticks": ""
             }
            },
            "type": "scattermap"
           }
          ],
          "scattermapbox": [
           {
            "marker": {
             "colorbar": {
              "outlinewidth": 0,
              "ticks": ""
             }
            },
            "type": "scattermapbox"
           }
          ],
          "scatterpolar": [
           {
            "marker": {
             "colorbar": {
              "outlinewidth": 0,
              "ticks": ""
             }
            },
            "type": "scatterpolar"
           }
          ],
          "scatterpolargl": [
           {
            "marker": {
             "colorbar": {
              "outlinewidth": 0,
              "ticks": ""
             }
            },
            "type": "scatterpolargl"
           }
          ],
          "scatterternary": [
           {
            "marker": {
             "colorbar": {
              "outlinewidth": 0,
              "ticks": ""
             }
            },
            "type": "scatterternary"
           }
          ],
          "surface": [
           {
            "colorbar": {
             "outlinewidth": 0,
             "ticks": ""
            },
            "colorscale": [
             [
              0,
              "#0d0887"
             ],
             [
              0.1111111111111111,
              "#46039f"
             ],
             [
              0.2222222222222222,
              "#7201a8"
             ],
             [
              0.3333333333333333,
              "#9c179e"
             ],
             [
              0.4444444444444444,
              "#bd3786"
             ],
             [
              0.5555555555555556,
              "#d8576b"
             ],
             [
              0.6666666666666666,
              "#ed7953"
             ],
             [
              0.7777777777777778,
              "#fb9f3a"
             ],
             [
              0.8888888888888888,
              "#fdca26"
             ],
             [
              1,
              "#f0f921"
             ]
            ],
            "type": "surface"
           }
          ],
          "table": [
           {
            "cells": {
             "fill": {
              "color": "#EBF0F8"
             },
             "line": {
              "color": "white"
             }
            },
            "header": {
             "fill": {
              "color": "#C8D4E3"
             },
             "line": {
              "color": "white"
             }
            },
            "type": "table"
           }
          ]
         },
         "layout": {
          "annotationdefaults": {
           "arrowcolor": "#2a3f5f",
           "arrowhead": 0,
           "arrowwidth": 1
          },
          "autotypenumbers": "strict",
          "coloraxis": {
           "colorbar": {
            "outlinewidth": 0,
            "ticks": ""
           }
          },
          "colorscale": {
           "diverging": [
            [
             0,
             "#8e0152"
            ],
            [
             0.1,
             "#c51b7d"
            ],
            [
             0.2,
             "#de77ae"
            ],
            [
             0.3,
             "#f1b6da"
            ],
            [
             0.4,
             "#fde0ef"
            ],
            [
             0.5,
             "#f7f7f7"
            ],
            [
             0.6,
             "#e6f5d0"
            ],
            [
             0.7,
             "#b8e186"
            ],
            [
             0.8,
             "#7fbc41"
            ],
            [
             0.9,
             "#4d9221"
            ],
            [
             1,
             "#276419"
            ]
           ],
           "sequential": [
            [
             0,
             "#0d0887"
            ],
            [
             0.1111111111111111,
             "#46039f"
            ],
            [
             0.2222222222222222,
             "#7201a8"
            ],
            [
             0.3333333333333333,
             "#9c179e"
            ],
            [
             0.4444444444444444,
             "#bd3786"
            ],
            [
             0.5555555555555556,
             "#d8576b"
            ],
            [
             0.6666666666666666,
             "#ed7953"
            ],
            [
             0.7777777777777778,
             "#fb9f3a"
            ],
            [
             0.8888888888888888,
             "#fdca26"
            ],
            [
             1,
             "#f0f921"
            ]
           ],
           "sequentialminus": [
            [
             0,
             "#0d0887"
            ],
            [
             0.1111111111111111,
             "#46039f"
            ],
            [
             0.2222222222222222,
             "#7201a8"
            ],
            [
             0.3333333333333333,
             "#9c179e"
            ],
            [
             0.4444444444444444,
             "#bd3786"
            ],
            [
             0.5555555555555556,
             "#d8576b"
            ],
            [
             0.6666666666666666,
             "#ed7953"
            ],
            [
             0.7777777777777778,
             "#fb9f3a"
            ],
            [
             0.8888888888888888,
             "#fdca26"
            ],
            [
             1,
             "#f0f921"
            ]
           ]
          },
          "colorway": [
           "#636efa",
           "#EF553B",
           "#00cc96",
           "#ab63fa",
           "#FFA15A",
           "#19d3f3",
           "#FF6692",
           "#B6E880",
           "#FF97FF",
           "#FECB52"
          ],
          "font": {
           "color": "#2a3f5f"
          },
          "geo": {
           "bgcolor": "white",
           "lakecolor": "white",
           "landcolor": "white",
           "showlakes": true,
           "showland": true,
           "subunitcolor": "#C8D4E3"
          },
          "hoverlabel": {
           "align": "left"
          },
          "hovermode": "closest",
          "mapbox": {
           "style": "light"
          },
          "paper_bgcolor": "white",
          "plot_bgcolor": "white",
          "polar": {
           "angularaxis": {
            "gridcolor": "#EBF0F8",
            "linecolor": "#EBF0F8",
            "ticks": ""
           },
           "bgcolor": "white",
           "radialaxis": {
            "gridcolor": "#EBF0F8",
            "linecolor": "#EBF0F8",
            "ticks": ""
           }
          },
          "scene": {
           "xaxis": {
            "backgroundcolor": "white",
            "gridcolor": "#DFE8F3",
            "gridwidth": 2,
            "linecolor": "#EBF0F8",
            "showbackground": true,
            "ticks": "",
            "zerolinecolor": "#EBF0F8"
           },
           "yaxis": {
            "backgroundcolor": "white",
            "gridcolor": "#DFE8F3",
            "gridwidth": 2,
            "linecolor": "#EBF0F8",
            "showbackground": true,
            "ticks": "",
            "zerolinecolor": "#EBF0F8"
           },
           "zaxis": {
            "backgroundcolor": "white",
            "gridcolor": "#DFE8F3",
            "gridwidth": 2,
            "linecolor": "#EBF0F8",
            "showbackground": true,
            "ticks": "",
            "zerolinecolor": "#EBF0F8"
           }
          },
          "shapedefaults": {
           "line": {
            "color": "#2a3f5f"
           }
          },
          "ternary": {
           "aaxis": {
            "gridcolor": "#DFE8F3",
            "linecolor": "#A2B1C6",
            "ticks": ""
           },
           "baxis": {
            "gridcolor": "#DFE8F3",
            "linecolor": "#A2B1C6",
            "ticks": ""
           },
           "bgcolor": "white",
           "caxis": {
            "gridcolor": "#DFE8F3",
            "linecolor": "#A2B1C6",
            "ticks": ""
           }
          },
          "title": {
           "x": 0.05
          },
          "xaxis": {
           "automargin": true,
           "gridcolor": "#EBF0F8",
           "linecolor": "#EBF0F8",
           "ticks": "",
           "title": {
            "standoff": 15
           },
           "zerolinecolor": "#EBF0F8",
           "zerolinewidth": 2
          },
          "yaxis": {
           "automargin": true,
           "gridcolor": "#EBF0F8",
           "linecolor": "#EBF0F8",
           "ticks": "",
           "title": {
            "standoff": 15
           },
           "zerolinecolor": "#EBF0F8",
           "zerolinewidth": 2
          }
         }
        },
        "title": {
         "text": "Calibration Curve – Test (Brier = 0.0118)"
        },
        "xaxis": {
         "title": {
          "text": "Predicted probability"
         }
        },
        "yaxis": {
         "title": {
          "text": "Observed frequency"
         }
        }
       }
      }
     },
     "metadata": {},
     "output_type": "display_data"
    }
   ],
   "source": [
    "# Curva de calibração\n",
    "evaluator.plot_calibration()"
   ]
  },
  {
   "cell_type": "code",
   "execution_count": null,
   "id": "b8284278",
   "metadata": {},
   "outputs": [
    {
     "data": {
      "application/vnd.plotly.v1+json": {
       "config": {
        "plotlyServerURL": "https://plot.ly"
       },
       "data": [
        {
         "mode": "lines+markers",
         "name": "(-inf, 64.32)",
         "type": "scatter",
         "x": [
          "2023-01-01T00:00:00.000000000",
          "2023-02-01T00:00:00.000000000",
          "2023-03-01T00:00:00.000000000",
          "2023-04-01T00:00:00.000000000",
          "2023-05-01T00:00:00.000000000",
          "2023-06-01T00:00:00.000000000",
          "2023-07-01T00:00:00.000000000",
          "2023-08-01T00:00:00.000000000",
          "2023-09-01T00:00:00.000000000",
          "2023-10-01T00:00:00.000000000",
          "2023-11-01T00:00:00.000000000",
          "2023-12-01T00:00:00.000000000",
          "2024-01-01T00:00:00.000000000",
          "2024-02-01T00:00:00.000000000",
          "2024-03-01T00:00:00.000000000",
          "2024-04-01T00:00:00.000000000",
          "2024-05-01T00:00:00.000000000",
          "2024-06-01T00:00:00.000000000",
          "2024-07-01T00:00:00.000000000",
          "2024-08-01T00:00:00.000000000",
          "2024-09-01T00:00:00.000000000",
          "2024-10-01T00:00:00.000000000",
          "2024-11-01T00:00:00.000000000",
          "2024-12-01T00:00:00.000000000"
         ],
         "y": {
          "bdata": "AAAAAAAAAAAAAAAAAAAAAAAAAAAAAAAAAAAAAAAAAAAAAAAAAAAAAAAAAAAAAAAAAAAAAAAAAAAAAAAAAAAAAAAAAAAAAAAAAAAAAAAAAAAAAAAAAAAAAAAAAAAAAAAAAAAAAAAAAAAAAAAAAAAAAAAAAAAAAAAAAAAAAAAAAAAAAAAAAAAAAAAAAAAAAAAAAAAAAAAAAAAAAAAAAAAAAAAAAAAAAAAAAAAAAAAAAAAAAAAAAAAAAE7LFe970VQ/",
          "dtype": "f8"
         }
        },
        {
         "mode": "lines+markers",
         "name": "[64.32, 980.00)",
         "type": "scatter",
         "x": [
          "2023-01-01T00:00:00.000000000",
          "2023-02-01T00:00:00.000000000",
          "2023-03-01T00:00:00.000000000",
          "2023-04-01T00:00:00.000000000",
          "2023-05-01T00:00:00.000000000",
          "2023-06-01T00:00:00.000000000",
          "2023-07-01T00:00:00.000000000",
          "2023-08-01T00:00:00.000000000",
          "2023-09-01T00:00:00.000000000",
          "2023-10-01T00:00:00.000000000",
          "2023-11-01T00:00:00.000000000",
          "2023-12-01T00:00:00.000000000",
          "2024-01-01T00:00:00.000000000",
          "2024-02-01T00:00:00.000000000",
          "2024-03-01T00:00:00.000000000",
          "2024-04-01T00:00:00.000000000",
          "2024-05-01T00:00:00.000000000",
          "2024-06-01T00:00:00.000000000",
          "2024-07-01T00:00:00.000000000",
          "2024-08-01T00:00:00.000000000",
          "2024-09-01T00:00:00.000000000",
          "2024-10-01T00:00:00.000000000",
          "2024-11-01T00:00:00.000000000",
          "2024-12-01T00:00:00.000000000"
         ],
         "y": {
          "bdata": "q6qqqqqq0j+rqqqqqqrWPxQUFBQUFNQ/FDuxEzux0z/T0tLS0tLSP5KRkZGRkdE/IQtZyEIW0j9MriAmVxDTPzi96U1vetM/dNFFF1100T8iIiIiIiLSPyIiIiIiItI/AAAAAAAA0z9+eWxF0HDSP4J1tHmf4tI/5ewWfjUm0j/x8PDw8PDQPzmO4ziO49A/UAd1UAd10D9f8RVf8RXPP33WDabIZ80/G8prKK+hzD/u3Llz587NP9KkSZMmTco/",
          "dtype": "f8"
         }
        },
        {
         "mode": "lines+markers",
         "name": "[980.00, inf)",
         "type": "scatter",
         "x": [
          "2023-01-01T00:00:00.000000000",
          "2023-02-01T00:00:00.000000000",
          "2023-03-01T00:00:00.000000000",
          "2023-04-01T00:00:00.000000000",
          "2023-05-01T00:00:00.000000000",
          "2023-06-01T00:00:00.000000000",
          "2023-07-01T00:00:00.000000000",
          "2023-08-01T00:00:00.000000000",
          "2023-09-01T00:00:00.000000000",
          "2023-10-01T00:00:00.000000000",
          "2023-11-01T00:00:00.000000000",
          "2023-12-01T00:00:00.000000000",
          "2024-01-01T00:00:00.000000000",
          "2024-02-01T00:00:00.000000000",
          "2024-03-01T00:00:00.000000000",
          "2024-04-01T00:00:00.000000000",
          "2024-05-01T00:00:00.000000000",
          "2024-06-01T00:00:00.000000000",
          "2024-07-01T00:00:00.000000000",
          "2024-08-01T00:00:00.000000000",
          "2024-09-01T00:00:00.000000000",
          "2024-10-01T00:00:00.000000000",
          "2024-11-01T00:00:00.000000000",
          "2024-12-01T00:00:00.000000000"
         ],
         "y": {
          "bdata": "e6xl6IDd7j/MO+BI0RDvP/EzSvyMEu8/8TNK/IwS7z+3bdu2bdvuP3usZeiA3e4/8tulnozf7j97rGXogN3uP3usZeiA3e4/t23btm3b7j/twFw7MNfuP+3AXDsw1+4/09LS0tLS7j/twFw7MNfuP79KGJsF1e4/09LS0tLS7j+/ShibBdXuP9PS0tLS0u4/v0oYmwXV7j/MO+BI0RDvP8w74EjREO8/zDvgSNEQ7z/twFw7MNfuPw/qoA7qoO4/",
          "dtype": "f8"
         }
        }
       ],
       "layout": {
        "template": {
         "data": {
          "bar": [
           {
            "error_x": {
             "color": "#2a3f5f"
            },
            "error_y": {
             "color": "#2a3f5f"
            },
            "marker": {
             "line": {
              "color": "white",
              "width": 0.5
             },
             "pattern": {
              "fillmode": "overlay",
              "size": 10,
              "solidity": 0.2
             }
            },
            "type": "bar"
           }
          ],
          "barpolar": [
           {
            "marker": {
             "line": {
              "color": "white",
              "width": 0.5
             },
             "pattern": {
              "fillmode": "overlay",
              "size": 10,
              "solidity": 0.2
             }
            },
            "type": "barpolar"
           }
          ],
          "carpet": [
           {
            "aaxis": {
             "endlinecolor": "#2a3f5f",
             "gridcolor": "#C8D4E3",
             "linecolor": "#C8D4E3",
             "minorgridcolor": "#C8D4E3",
             "startlinecolor": "#2a3f5f"
            },
            "baxis": {
             "endlinecolor": "#2a3f5f",
             "gridcolor": "#C8D4E3",
             "linecolor": "#C8D4E3",
             "minorgridcolor": "#C8D4E3",
             "startlinecolor": "#2a3f5f"
            },
            "type": "carpet"
           }
          ],
          "choropleth": [
           {
            "colorbar": {
             "outlinewidth": 0,
             "ticks": ""
            },
            "type": "choropleth"
           }
          ],
          "contour": [
           {
            "colorbar": {
             "outlinewidth": 0,
             "ticks": ""
            },
            "colorscale": [
             [
              0,
              "#0d0887"
             ],
             [
              0.1111111111111111,
              "#46039f"
             ],
             [
              0.2222222222222222,
              "#7201a8"
             ],
             [
              0.3333333333333333,
              "#9c179e"
             ],
             [
              0.4444444444444444,
              "#bd3786"
             ],
             [
              0.5555555555555556,
              "#d8576b"
             ],
             [
              0.6666666666666666,
              "#ed7953"
             ],
             [
              0.7777777777777778,
              "#fb9f3a"
             ],
             [
              0.8888888888888888,
              "#fdca26"
             ],
             [
              1,
              "#f0f921"
             ]
            ],
            "type": "contour"
           }
          ],
          "contourcarpet": [
           {
            "colorbar": {
             "outlinewidth": 0,
             "ticks": ""
            },
            "type": "contourcarpet"
           }
          ],
          "heatmap": [
           {
            "colorbar": {
             "outlinewidth": 0,
             "ticks": ""
            },
            "colorscale": [
             [
              0,
              "#0d0887"
             ],
             [
              0.1111111111111111,
              "#46039f"
             ],
             [
              0.2222222222222222,
              "#7201a8"
             ],
             [
              0.3333333333333333,
              "#9c179e"
             ],
             [
              0.4444444444444444,
              "#bd3786"
             ],
             [
              0.5555555555555556,
              "#d8576b"
             ],
             [
              0.6666666666666666,
              "#ed7953"
             ],
             [
              0.7777777777777778,
              "#fb9f3a"
             ],
             [
              0.8888888888888888,
              "#fdca26"
             ],
             [
              1,
              "#f0f921"
             ]
            ],
            "type": "heatmap"
           }
          ],
          "histogram": [
           {
            "marker": {
             "pattern": {
              "fillmode": "overlay",
              "size": 10,
              "solidity": 0.2
             }
            },
            "type": "histogram"
           }
          ],
          "histogram2d": [
           {
            "colorbar": {
             "outlinewidth": 0,
             "ticks": ""
            },
            "colorscale": [
             [
              0,
              "#0d0887"
             ],
             [
              0.1111111111111111,
              "#46039f"
             ],
             [
              0.2222222222222222,
              "#7201a8"
             ],
             [
              0.3333333333333333,
              "#9c179e"
             ],
             [
              0.4444444444444444,
              "#bd3786"
             ],
             [
              0.5555555555555556,
              "#d8576b"
             ],
             [
              0.6666666666666666,
              "#ed7953"
             ],
             [
              0.7777777777777778,
              "#fb9f3a"
             ],
             [
              0.8888888888888888,
              "#fdca26"
             ],
             [
              1,
              "#f0f921"
             ]
            ],
            "type": "histogram2d"
           }
          ],
          "histogram2dcontour": [
           {
            "colorbar": {
             "outlinewidth": 0,
             "ticks": ""
            },
            "colorscale": [
             [
              0,
              "#0d0887"
             ],
             [
              0.1111111111111111,
              "#46039f"
             ],
             [
              0.2222222222222222,
              "#7201a8"
             ],
             [
              0.3333333333333333,
              "#9c179e"
             ],
             [
              0.4444444444444444,
              "#bd3786"
             ],
             [
              0.5555555555555556,
              "#d8576b"
             ],
             [
              0.6666666666666666,
              "#ed7953"
             ],
             [
              0.7777777777777778,
              "#fb9f3a"
             ],
             [
              0.8888888888888888,
              "#fdca26"
             ],
             [
              1,
              "#f0f921"
             ]
            ],
            "type": "histogram2dcontour"
           }
          ],
          "mesh3d": [
           {
            "colorbar": {
             "outlinewidth": 0,
             "ticks": ""
            },
            "type": "mesh3d"
           }
          ],
          "parcoords": [
           {
            "line": {
             "colorbar": {
              "outlinewidth": 0,
              "ticks": ""
             }
            },
            "type": "parcoords"
           }
          ],
          "pie": [
           {
            "automargin": true,
            "type": "pie"
           }
          ],
          "scatter": [
           {
            "fillpattern": {
             "fillmode": "overlay",
             "size": 10,
             "solidity": 0.2
            },
            "type": "scatter"
           }
          ],
          "scatter3d": [
           {
            "line": {
             "colorbar": {
              "outlinewidth": 0,
              "ticks": ""
             }
            },
            "marker": {
             "colorbar": {
              "outlinewidth": 0,
              "ticks": ""
             }
            },
            "type": "scatter3d"
           }
          ],
          "scattercarpet": [
           {
            "marker": {
             "colorbar": {
              "outlinewidth": 0,
              "ticks": ""
             }
            },
            "type": "scattercarpet"
           }
          ],
          "scattergeo": [
           {
            "marker": {
             "colorbar": {
              "outlinewidth": 0,
              "ticks": ""
             }
            },
            "type": "scattergeo"
           }
          ],
          "scattergl": [
           {
            "marker": {
             "colorbar": {
              "outlinewidth": 0,
              "ticks": ""
             }
            },
            "type": "scattergl"
           }
          ],
          "scattermap": [
           {
            "marker": {
             "colorbar": {
              "outlinewidth": 0,
              "ticks": ""
             }
            },
            "type": "scattermap"
           }
          ],
          "scattermapbox": [
           {
            "marker": {
             "colorbar": {
              "outlinewidth": 0,
              "ticks": ""
             }
            },
            "type": "scattermapbox"
           }
          ],
          "scatterpolar": [
           {
            "marker": {
             "colorbar": {
              "outlinewidth": 0,
              "ticks": ""
             }
            },
            "type": "scatterpolar"
           }
          ],
          "scatterpolargl": [
           {
            "marker": {
             "colorbar": {
              "outlinewidth": 0,
              "ticks": ""
             }
            },
            "type": "scatterpolargl"
           }
          ],
          "scatterternary": [
           {
            "marker": {
             "colorbar": {
              "outlinewidth": 0,
              "ticks": ""
             }
            },
            "type": "scatterternary"
           }
          ],
          "surface": [
           {
            "colorbar": {
             "outlinewidth": 0,
             "ticks": ""
            },
            "colorscale": [
             [
              0,
              "#0d0887"
             ],
             [
              0.1111111111111111,
              "#46039f"
             ],
             [
              0.2222222222222222,
              "#7201a8"
             ],
             [
              0.3333333333333333,
              "#9c179e"
             ],
             [
              0.4444444444444444,
              "#bd3786"
             ],
             [
              0.5555555555555556,
              "#d8576b"
             ],
             [
              0.6666666666666666,
              "#ed7953"
             ],
             [
              0.7777777777777778,
              "#fb9f3a"
             ],
             [
              0.8888888888888888,
              "#fdca26"
             ],
             [
              1,
              "#f0f921"
             ]
            ],
            "type": "surface"
           }
          ],
          "table": [
           {
            "cells": {
             "fill": {
              "color": "#EBF0F8"
             },
             "line": {
              "color": "white"
             }
            },
            "header": {
             "fill": {
              "color": "#C8D4E3"
             },
             "line": {
              "color": "white"
             }
            },
            "type": "table"
           }
          ]
         },
         "layout": {
          "annotationdefaults": {
           "arrowcolor": "#2a3f5f",
           "arrowhead": 0,
           "arrowwidth": 1
          },
          "autotypenumbers": "strict",
          "coloraxis": {
           "colorbar": {
            "outlinewidth": 0,
            "ticks": ""
           }
          },
          "colorscale": {
           "diverging": [
            [
             0,
             "#8e0152"
            ],
            [
             0.1,
             "#c51b7d"
            ],
            [
             0.2,
             "#de77ae"
            ],
            [
             0.3,
             "#f1b6da"
            ],
            [
             0.4,
             "#fde0ef"
            ],
            [
             0.5,
             "#f7f7f7"
            ],
            [
             0.6,
             "#e6f5d0"
            ],
            [
             0.7,
             "#b8e186"
            ],
            [
             0.8,
             "#7fbc41"
            ],
            [
             0.9,
             "#4d9221"
            ],
            [
             1,
             "#276419"
            ]
           ],
           "sequential": [
            [
             0,
             "#0d0887"
            ],
            [
             0.1111111111111111,
             "#46039f"
            ],
            [
             0.2222222222222222,
             "#7201a8"
            ],
            [
             0.3333333333333333,
             "#9c179e"
            ],
            [
             0.4444444444444444,
             "#bd3786"
            ],
            [
             0.5555555555555556,
             "#d8576b"
            ],
            [
             0.6666666666666666,
             "#ed7953"
            ],
            [
             0.7777777777777778,
             "#fb9f3a"
            ],
            [
             0.8888888888888888,
             "#fdca26"
            ],
            [
             1,
             "#f0f921"
            ]
           ],
           "sequentialminus": [
            [
             0,
             "#0d0887"
            ],
            [
             0.1111111111111111,
             "#46039f"
            ],
            [
             0.2222222222222222,
             "#7201a8"
            ],
            [
             0.3333333333333333,
             "#9c179e"
            ],
            [
             0.4444444444444444,
             "#bd3786"
            ],
            [
             0.5555555555555556,
             "#d8576b"
            ],
            [
             0.6666666666666666,
             "#ed7953"
            ],
            [
             0.7777777777777778,
             "#fb9f3a"
            ],
            [
             0.8888888888888888,
             "#fdca26"
            ],
            [
             1,
             "#f0f921"
            ]
           ]
          },
          "colorway": [
           "#636efa",
           "#EF553B",
           "#00cc96",
           "#ab63fa",
           "#FFA15A",
           "#19d3f3",
           "#FF6692",
           "#B6E880",
           "#FF97FF",
           "#FECB52"
          ],
          "font": {
           "color": "#2a3f5f"
          },
          "geo": {
           "bgcolor": "white",
           "lakecolor": "white",
           "landcolor": "white",
           "showlakes": true,
           "showland": true,
           "subunitcolor": "#C8D4E3"
          },
          "hoverlabel": {
           "align": "left"
          },
          "hovermode": "closest",
          "mapbox": {
           "style": "light"
          },
          "paper_bgcolor": "white",
          "plot_bgcolor": "white",
          "polar": {
           "angularaxis": {
            "gridcolor": "#EBF0F8",
            "linecolor": "#EBF0F8",
            "ticks": ""
           },
           "bgcolor": "white",
           "radialaxis": {
            "gridcolor": "#EBF0F8",
            "linecolor": "#EBF0F8",
            "ticks": ""
           }
          },
          "scene": {
           "xaxis": {
            "backgroundcolor": "white",
            "gridcolor": "#DFE8F3",
            "gridwidth": 2,
            "linecolor": "#EBF0F8",
            "showbackground": true,
            "ticks": "",
            "zerolinecolor": "#EBF0F8"
           },
           "yaxis": {
            "backgroundcolor": "white",
            "gridcolor": "#DFE8F3",
            "gridwidth": 2,
            "linecolor": "#EBF0F8",
            "showbackground": true,
            "ticks": "",
            "zerolinecolor": "#EBF0F8"
           },
           "zaxis": {
            "backgroundcolor": "white",
            "gridcolor": "#DFE8F3",
            "gridwidth": 2,
            "linecolor": "#EBF0F8",
            "showbackground": true,
            "ticks": "",
            "zerolinecolor": "#EBF0F8"
           }
          },
          "shapedefaults": {
           "line": {
            "color": "#2a3f5f"
           }
          },
          "ternary": {
           "aaxis": {
            "gridcolor": "#DFE8F3",
            "linecolor": "#A2B1C6",
            "ticks": ""
           },
           "baxis": {
            "gridcolor": "#DFE8F3",
            "linecolor": "#A2B1C6",
            "ticks": ""
           },
           "bgcolor": "white",
           "caxis": {
            "gridcolor": "#DFE8F3",
            "linecolor": "#A2B1C6",
            "ticks": ""
           }
          },
          "title": {
           "x": 0.05
          },
          "xaxis": {
           "automargin": true,
           "gridcolor": "#EBF0F8",
           "linecolor": "#EBF0F8",
           "ticks": "",
           "title": {
            "standoff": 15
           },
           "zerolinecolor": "#EBF0F8",
           "zerolinewidth": 2
          },
          "yaxis": {
           "automargin": true,
           "gridcolor": "#EBF0F8",
           "linecolor": "#EBF0F8",
           "ticks": "",
           "title": {
            "standoff": 15
           },
           "zerolinecolor": "#EBF0F8",
           "zerolinewidth": 2
          }
         }
        },
        "title": {
         "text": "Event Rate by Group over Time"
        },
        "xaxis": {
         "title": {
          "text": "ref_date"
         }
        },
        "yaxis": {
         "title": {
          "text": "Event rate"
         }
        }
       }
      }
     },
     "metadata": {},
     "output_type": "display_data"
    }
   ],
   "source": [
    "# Taxa de eventos por grupo\n",
    "evaluator.plot_event_rate()"
   ]
  },
  {
   "cell_type": "code",
   "execution_count": null,
   "id": "6dc52467",
   "metadata": {},
   "outputs": [
    {
     "name": "stderr",
     "output_type": "stream",
     "text": [
      "c:\\Users\\JM\\Documents\\0_CienciaDados\\1_Frameworks\\RiskPilot\\examples\\binary_performance_evaluator.py:338: RuntimeWarning:\n",
      "\n",
      "divide by zero encountered in log\n",
      "\n",
      "c:\\Users\\JM\\Documents\\0_CienciaDados\\1_Frameworks\\RiskPilot\\examples\\binary_performance_evaluator.py:338: RuntimeWarning:\n",
      "\n",
      "invalid value encountered in divide\n",
      "\n"
     ]
    },
    {
     "data": {
      "application/vnd.plotly.v1+json": {
       "config": {
        "plotlyServerURL": "https://plot.ly"
       },
       "data": [
        {
         "mode": "lines+markers",
         "name": "acc_now_delinq",
         "type": "scatter",
         "x": [
          "2023-01-01T00:00:00.000000000",
          "2023-02-01T00:00:00.000000000",
          "2023-03-01T00:00:00.000000000",
          "2023-04-01T00:00:00.000000000",
          "2023-05-01T00:00:00.000000000",
          "2023-06-01T00:00:00.000000000",
          "2023-07-01T00:00:00.000000000",
          "2023-08-01T00:00:00.000000000",
          "2023-09-01T00:00:00.000000000",
          "2023-10-01T00:00:00.000000000",
          "2023-11-01T00:00:00.000000000",
          "2023-12-01T00:00:00.000000000",
          "2024-01-01T00:00:00.000000000",
          "2024-02-01T00:00:00.000000000",
          "2024-03-01T00:00:00.000000000",
          "2024-04-01T00:00:00.000000000",
          "2024-05-01T00:00:00.000000000",
          "2024-06-01T00:00:00.000000000",
          "2024-07-01T00:00:00.000000000",
          "2024-08-01T00:00:00.000000000",
          "2024-09-01T00:00:00.000000000",
          "2024-10-01T00:00:00.000000000",
          "2024-11-01T00:00:00.000000000",
          "2024-12-01T00:00:00.000000000"
         ],
         "y": {
          "bdata": "DqSz0WKeSD96dlGvuXM6P6dQ+atG3G0/9eEmn6efST+BQS8IYuY0P6GpNvIekGo/YowI9NAqRz9ijAj00CpHPzY3VxgD7zk/X2Fu7ean9j64ZRumw0VMPxvnSSkC4TY/geGOPTsjSj/sgMqKUp5sP+bh7q3ZYUI/nzY2VWWvPj/TTXgqRyqCP5Hym4Er8Vg/dnVvGqr1TT/lk3XnZzk/P++10lQMHkk//471UgCdPT956oziyQxEP0Zipp5HXEI/",
          "dtype": "f8"
         }
        },
        {
         "mode": "lines+markers",
         "name": "acc_open_past_24mths",
         "type": "scatter",
         "x": [
          "2023-01-01T00:00:00.000000000",
          "2023-02-01T00:00:00.000000000",
          "2023-03-01T00:00:00.000000000",
          "2023-04-01T00:00:00.000000000",
          "2023-05-01T00:00:00.000000000",
          "2023-06-01T00:00:00.000000000",
          "2023-07-01T00:00:00.000000000",
          "2023-08-01T00:00:00.000000000",
          "2023-09-01T00:00:00.000000000",
          "2023-10-01T00:00:00.000000000",
          "2023-11-01T00:00:00.000000000",
          "2023-12-01T00:00:00.000000000",
          "2024-01-01T00:00:00.000000000",
          "2024-02-01T00:00:00.000000000",
          "2024-03-01T00:00:00.000000000",
          "2024-04-01T00:00:00.000000000",
          "2024-05-01T00:00:00.000000000",
          "2024-06-01T00:00:00.000000000",
          "2024-07-01T00:00:00.000000000",
          "2024-08-01T00:00:00.000000000",
          "2024-09-01T00:00:00.000000000",
          "2024-10-01T00:00:00.000000000",
          "2024-11-01T00:00:00.000000000",
          "2024-12-01T00:00:00.000000000"
         ],
         "y": {
          "bdata": "biNH0Ef7kT/NS4RyFe93PyANRlo+6Y8/UBAGc2NEkz/mBxmPASiIP9CV6heaoJQ/m/iTM2L+oD/sMfCERk2UP2VuG6vm6ZI/53XtrqRlmT9nIFxlPOaBP+wagepkFZI/QHXoDW63gj+JMGHXXGqSP7DvBa1YfJQ/z1R2y1JVkD/0GFtA+YGUP9YPAoXMtY4/TIpdF0oYnT+yyMNxwWqjP4Fgt8PKZ6A/EN5BFVrMlz9qo1lYuVyOP+f7uwrec5E/",
          "dtype": "f8"
         }
        },
        {
         "mode": "lines+markers",
         "name": "all_util",
         "type": "scatter",
         "x": [
          "2023-01-01T00:00:00.000000000",
          "2023-02-01T00:00:00.000000000",
          "2023-03-01T00:00:00.000000000",
          "2023-04-01T00:00:00.000000000",
          "2023-05-01T00:00:00.000000000",
          "2023-06-01T00:00:00.000000000",
          "2023-07-01T00:00:00.000000000",
          "2023-08-01T00:00:00.000000000",
          "2023-09-01T00:00:00.000000000",
          "2023-10-01T00:00:00.000000000",
          "2023-11-01T00:00:00.000000000",
          "2023-12-01T00:00:00.000000000",
          "2024-01-01T00:00:00.000000000",
          "2024-02-01T00:00:00.000000000",
          "2024-03-01T00:00:00.000000000",
          "2024-04-01T00:00:00.000000000",
          "2024-05-01T00:00:00.000000000",
          "2024-06-01T00:00:00.000000000",
          "2024-07-01T00:00:00.000000000",
          "2024-08-01T00:00:00.000000000",
          "2024-09-01T00:00:00.000000000",
          "2024-10-01T00:00:00.000000000",
          "2024-11-01T00:00:00.000000000",
          "2024-12-01T00:00:00.000000000"
         ],
         "y": {
          "bdata": "8w9SaXuskT9+VeC+PAWfP8m9P9R55aI/IMFHIfQjjj/J4i87o0ebPws9sdD7sqI/wy80Fzv1kT/+kLmCvyaYP3FSt/bmpoc/tgnsTqAWkD/yCDIJgXqLPwN8EA9Cg5Y/fIZAAc9GmT+HioOvEYqQPwxkcUAceJk/YHLbPP/zeT/IquYm/kiRP0AyUlXR5KA/q0jL2iO0oj8pdzqsUzSJP23QeQjLko0/Ry299awnpD8a+SocLaGeP0e5DVoGZJc/",
          "dtype": "f8"
         }
        },
        {
         "mode": "lines+markers",
         "name": "annual_inc",
         "type": "scatter",
         "x": [
          "2023-01-01T00:00:00.000000000",
          "2023-02-01T00:00:00.000000000",
          "2023-03-01T00:00:00.000000000",
          "2023-04-01T00:00:00.000000000",
          "2023-05-01T00:00:00.000000000",
          "2023-06-01T00:00:00.000000000",
          "2023-07-01T00:00:00.000000000",
          "2023-08-01T00:00:00.000000000",
          "2023-09-01T00:00:00.000000000",
          "2023-10-01T00:00:00.000000000",
          "2023-11-01T00:00:00.000000000",
          "2023-12-01T00:00:00.000000000",
          "2024-01-01T00:00:00.000000000",
          "2024-02-01T00:00:00.000000000",
          "2024-03-01T00:00:00.000000000",
          "2024-04-01T00:00:00.000000000",
          "2024-05-01T00:00:00.000000000",
          "2024-06-01T00:00:00.000000000",
          "2024-07-01T00:00:00.000000000",
          "2024-08-01T00:00:00.000000000",
          "2024-09-01T00:00:00.000000000",
          "2024-10-01T00:00:00.000000000",
          "2024-11-01T00:00:00.000000000",
          "2024-12-01T00:00:00.000000000"
         ],
         "y": {
          "bdata": "ipJwr1ifeT/NcDQzzHimP8ovxC6WK3w/XWvgtwt+pD+W1zROyYOAPyAuM5GIGnI/b7185q1Jgz9Eyu1zepWWP7ByW8CL0nc/yYjoK8RTlj+L9DQfyE2BPwZuw1LIJow/lgTwKO9ggz+E00Z3w2F3P73iEzDQa4M/0lmlyzrlhT9cXJT8cqKfP8Yq1e8X0Jc/Sv5H0uswjz9RLWoSyBZqPyD5ATIAdH8/wrh8JGMDhz8WTVWZT1d+P+uwxoCrjIc/",
          "dtype": "f8"
         }
        },
        {
         "mode": "lines+markers",
         "name": "avg_cur_bal",
         "type": "scatter",
         "x": [
          "2023-01-01T00:00:00.000000000",
          "2023-02-01T00:00:00.000000000",
          "2023-03-01T00:00:00.000000000",
          "2023-04-01T00:00:00.000000000",
          "2023-05-01T00:00:00.000000000",
          "2023-06-01T00:00:00.000000000",
          "2023-07-01T00:00:00.000000000",
          "2023-08-01T00:00:00.000000000",
          "2023-09-01T00:00:00.000000000",
          "2023-10-01T00:00:00.000000000",
          "2023-11-01T00:00:00.000000000",
          "2023-12-01T00:00:00.000000000",
          "2024-01-01T00:00:00.000000000",
          "2024-02-01T00:00:00.000000000",
          "2024-03-01T00:00:00.000000000",
          "2024-04-01T00:00:00.000000000",
          "2024-05-01T00:00:00.000000000",
          "2024-06-01T00:00:00.000000000",
          "2024-07-01T00:00:00.000000000",
          "2024-08-01T00:00:00.000000000",
          "2024-09-01T00:00:00.000000000",
          "2024-10-01T00:00:00.000000000",
          "2024-11-01T00:00:00.000000000",
          "2024-12-01T00:00:00.000000000"
         ],
         "y": {
          "bdata": "x62HjfjxcT9IwlP3w5uZPz0lV7QsSXI/MlaA6odSjj/CpK3K0uqaP9QNJTKRrIE/AmWi6OtXij8Vi2u/Nt+EP880guW4hJo/Q0Qw3gHIfj+wrdJgtX57P/gQ5jXrsYI/r2egMSM4mz8DCKqYv1eAP6of/9+eHYc/4EgaQvPpiT+tXYOzpL2CP5teqGfs05Q/7Xmu9fXDej/4qkm3ABdvP0oBIO9IG2E/hl6MrNFzpT8TRP2K9BmCP1V96BU06IA/",
          "dtype": "f8"
         }
        },
        {
         "mode": "lines+markers",
         "name": "bc_open_to_buy",
         "type": "scatter",
         "x": [
          "2023-01-01T00:00:00.000000000",
          "2023-02-01T00:00:00.000000000",
          "2023-03-01T00:00:00.000000000",
          "2023-04-01T00:00:00.000000000",
          "2023-05-01T00:00:00.000000000",
          "2023-06-01T00:00:00.000000000",
          "2023-07-01T00:00:00.000000000",
          "2023-08-01T00:00:00.000000000",
          "2023-09-01T00:00:00.000000000",
          "2023-10-01T00:00:00.000000000",
          "2023-11-01T00:00:00.000000000",
          "2023-12-01T00:00:00.000000000",
          "2024-01-01T00:00:00.000000000",
          "2024-02-01T00:00:00.000000000",
          "2024-03-01T00:00:00.000000000",
          "2024-04-01T00:00:00.000000000",
          "2024-05-01T00:00:00.000000000",
          "2024-06-01T00:00:00.000000000",
          "2024-07-01T00:00:00.000000000",
          "2024-08-01T00:00:00.000000000",
          "2024-09-01T00:00:00.000000000",
          "2024-10-01T00:00:00.000000000",
          "2024-11-01T00:00:00.000000000",
          "2024-12-01T00:00:00.000000000"
         ],
         "y": {
          "bdata": "X4nF7CU0eD+ogTxNXJ+DP+QMuxofF4s/k37UddetSj+ab0Pyku96P+1c+mfTyYM/vYRB8Gj6nT8SlgXud+h5PzgZBhS/oHo//03XjjgymD/LwBKiFcWDP8SyWB7bBog/4X1yK4leoD+UvA6f25eTP5iH4rSVooM/yH2MUVb5cT+isK0WHnxZP8y2RFNXu5M/bGCEi0H4Zj9sknmEb3eAP5h95xc02Hc/2RhFMGEBiD8ZsmJxrzuXPzDoFg+h7Xs/",
          "dtype": "f8"
         }
        },
        {
         "mode": "lines+markers",
         "name": "bc_util",
         "type": "scatter",
         "x": [
          "2023-01-01T00:00:00.000000000",
          "2023-02-01T00:00:00.000000000",
          "2023-03-01T00:00:00.000000000",
          "2023-04-01T00:00:00.000000000",
          "2023-05-01T00:00:00.000000000",
          "2023-06-01T00:00:00.000000000",
          "2023-07-01T00:00:00.000000000",
          "2023-08-01T00:00:00.000000000",
          "2023-09-01T00:00:00.000000000",
          "2023-10-01T00:00:00.000000000",
          "2023-11-01T00:00:00.000000000",
          "2023-12-01T00:00:00.000000000",
          "2024-01-01T00:00:00.000000000",
          "2024-02-01T00:00:00.000000000",
          "2024-03-01T00:00:00.000000000",
          "2024-04-01T00:00:00.000000000",
          "2024-05-01T00:00:00.000000000",
          "2024-06-01T00:00:00.000000000",
          "2024-07-01T00:00:00.000000000",
          "2024-08-01T00:00:00.000000000",
          "2024-09-01T00:00:00.000000000",
          "2024-10-01T00:00:00.000000000",
          "2024-11-01T00:00:00.000000000",
          "2024-12-01T00:00:00.000000000"
         ],
         "y": {
          "bdata": "tm6Rya90nz9tDbZFDOioPwRFEqcQk5Q/tvSlKAONoD+rLSy2erKcP/50u5tL5JY/Kpeu1HKanT8Nn1p/DPCSPwG+1bldEXc/BCEis9IDnD/zEfecfsKSP9hdp52ViJk/RluTrBMbnj8JTa4DniycP2fDsi1k24A/6Lf5llurlj91jzXX3b2bPybIYqIQqaM/7YhsEVAxmD88HETxU4yWP1sVZymqzaQ/0oOpbEDDrD+Ct5Z5j2qpP6NrNhdFRJQ/",
          "dtype": "f8"
         }
        },
        {
         "mode": "lines+markers",
         "name": "chargeoff_within_12_mths",
         "type": "scatter",
         "x": [
          "2023-01-01T00:00:00.000000000",
          "2023-02-01T00:00:00.000000000",
          "2023-03-01T00:00:00.000000000",
          "2023-04-01T00:00:00.000000000",
          "2023-05-01T00:00:00.000000000",
          "2023-06-01T00:00:00.000000000",
          "2023-07-01T00:00:00.000000000",
          "2023-08-01T00:00:00.000000000",
          "2023-09-01T00:00:00.000000000",
          "2023-10-01T00:00:00.000000000",
          "2023-11-01T00:00:00.000000000",
          "2023-12-01T00:00:00.000000000",
          "2024-01-01T00:00:00.000000000",
          "2024-02-01T00:00:00.000000000",
          "2024-03-01T00:00:00.000000000",
          "2024-04-01T00:00:00.000000000",
          "2024-05-01T00:00:00.000000000",
          "2024-06-01T00:00:00.000000000",
          "2024-07-01T00:00:00.000000000",
          "2024-08-01T00:00:00.000000000",
          "2024-09-01T00:00:00.000000000",
          "2024-10-01T00:00:00.000000000",
          "2024-11-01T00:00:00.000000000",
          "2024-12-01T00:00:00.000000000"
         ],
         "y": {
          "bdata": "08/AQ0Bafz+CCOqPINxYP5AxIQ1o+Uk/tnEXhM0Qfz9UT2WImVB9P1NURjzI/kM/qjT8CsPHfz9Uhhnv8YJAP1SGGe/xgkA/Mojmtb/ZiD9YC+WelRKKPwgZ8Kd9tHE/90wgGfLrfj/eHbOYkUt7P6+RtUNfEHM/a4EniQYgQj/yOm6SyAx/P5tB65EZHUc/AQJtncMpZz9muxuwA7+BP+Xd/wnLcJ0//e32vNTjjT9oPuY2V2JmP4SqR9PfB24/",
          "dtype": "f8"
         }
        },
        {
         "mode": "lines+markers",
         "name": "collection_recovery_fee",
         "type": "scatter",
         "x": [
          "2023-01-01T00:00:00.000000000",
          "2023-02-01T00:00:00.000000000",
          "2023-03-01T00:00:00.000000000",
          "2023-04-01T00:00:00.000000000",
          "2023-05-01T00:00:00.000000000",
          "2023-06-01T00:00:00.000000000",
          "2023-07-01T00:00:00.000000000",
          "2023-08-01T00:00:00.000000000",
          "2023-09-01T00:00:00.000000000",
          "2023-10-01T00:00:00.000000000",
          "2023-11-01T00:00:00.000000000",
          "2023-12-01T00:00:00.000000000",
          "2024-01-01T00:00:00.000000000",
          "2024-02-01T00:00:00.000000000",
          "2024-03-01T00:00:00.000000000",
          "2024-04-01T00:00:00.000000000",
          "2024-05-01T00:00:00.000000000",
          "2024-06-01T00:00:00.000000000",
          "2024-07-01T00:00:00.000000000",
          "2024-08-01T00:00:00.000000000",
          "2024-09-01T00:00:00.000000000",
          "2024-10-01T00:00:00.000000000",
          "2024-11-01T00:00:00.000000000",
          "2024-12-01T00:00:00.000000000"
         ],
         "y": {
          "bdata": "7uqiopesgD986UARj9CYP8wAFGDV/Ig/xAUSAoEjgD/C0rYJpuSHP9JM9shhOmo/XUBTQnmshj/OYjoCaWN/P3SyJ2vHd3k/Z+S/7vprgD8FYfMtAQSOPy0n+wl4OpU/EZhDsjR2iD8q8y1rVSiBPxSrrT9NpYY/EWobjVwtaT//+flwWV+JP2TSmZEIsJY/3mnokxMDdD+zBOTHERNqP2PKRe+t91w/qFhM+7EzgD88AYJXTY2DPwcsLqhea3E/",
          "dtype": "f8"
         }
        },
        {
         "mode": "lines+markers",
         "name": "collections_12_mths_ex_med",
         "type": "scatter",
         "x": [
          "2023-01-01T00:00:00.000000000",
          "2023-02-01T00:00:00.000000000",
          "2023-03-01T00:00:00.000000000",
          "2023-04-01T00:00:00.000000000",
          "2023-05-01T00:00:00.000000000",
          "2023-06-01T00:00:00.000000000",
          "2023-07-01T00:00:00.000000000",
          "2023-08-01T00:00:00.000000000",
          "2023-09-01T00:00:00.000000000",
          "2023-10-01T00:00:00.000000000",
          "2023-11-01T00:00:00.000000000",
          "2023-12-01T00:00:00.000000000",
          "2024-01-01T00:00:00.000000000",
          "2024-02-01T00:00:00.000000000",
          "2024-03-01T00:00:00.000000000",
          "2024-04-01T00:00:00.000000000",
          "2024-05-01T00:00:00.000000000",
          "2024-06-01T00:00:00.000000000",
          "2024-07-01T00:00:00.000000000",
          "2024-08-01T00:00:00.000000000",
          "2024-09-01T00:00:00.000000000",
          "2024-10-01T00:00:00.000000000",
          "2024-11-01T00:00:00.000000000",
          "2024-12-01T00:00:00.000000000"
         ],
         "y": {
          "bdata": "mn2cWbcDhD+0mh+WQHKPP91dgGS4jIc/a2VfbQjt0j/00rQecjTAP6U8BRD8/b4/TbGZznXSsz89cO7+JK2qP0rZi96F7rQ/+5nYk9elkj9iuc4UkhyPP7OJ4OKMwKA/Ljd6qU/XYD8srrh/yM0kP7vdbIvzM5w/LkgCa24gYj9wZ8P5JSOXP7PbiOREkKI/OeMgKnXekT8cnebDmDSxP21RWNHXNsA/FEjpDnFArT+4hw3oMha9P9iJg00h77Y/",
          "dtype": "f8"
         }
        },
        {
         "mode": "lines+markers",
         "name": "delinq_2yrs",
         "type": "scatter",
         "x": [
          "2023-01-01T00:00:00.000000000",
          "2023-02-01T00:00:00.000000000",
          "2023-03-01T00:00:00.000000000",
          "2023-04-01T00:00:00.000000000",
          "2023-05-01T00:00:00.000000000",
          "2023-06-01T00:00:00.000000000",
          "2023-07-01T00:00:00.000000000",
          "2023-08-01T00:00:00.000000000",
          "2023-09-01T00:00:00.000000000",
          "2023-10-01T00:00:00.000000000",
          "2023-11-01T00:00:00.000000000",
          "2023-12-01T00:00:00.000000000",
          "2024-01-01T00:00:00.000000000",
          "2024-02-01T00:00:00.000000000",
          "2024-03-01T00:00:00.000000000",
          "2024-04-01T00:00:00.000000000",
          "2024-05-01T00:00:00.000000000",
          "2024-06-01T00:00:00.000000000",
          "2024-07-01T00:00:00.000000000",
          "2024-08-01T00:00:00.000000000",
          "2024-09-01T00:00:00.000000000",
          "2024-10-01T00:00:00.000000000",
          "2024-11-01T00:00:00.000000000",
          "2024-12-01T00:00:00.000000000"
         ],
         "y": {
          "bdata": "Y8UpJYOfpj/y006NVbWYP3CFE3whQYQ/8NZyWPUXiT82faCn59qTP/S0ccIkC3I/4XkR1sTZhD8jx8NVg8+BP0hE7U0VPnE/czk8af/SbD8IQCWnk2p3P/Rz/XJDanQ/vJHSZ/2RdT/UXFxzkNiFP6qsZ2a5VYI/qNp8UVMifD84jHsgSipeP+do425kAnc/l9MhYNW9eD+bQlhxWZWEPwXNDNuE3U8/zTou0TKXgz88q0EOQFxiP3cUDC9HWls/",
          "dtype": "f8"
         }
        },
        {
         "mode": "lines+markers",
         "name": "delinq_amnt",
         "type": "scatter",
         "x": [
          "2023-01-01T00:00:00.000000000",
          "2023-02-01T00:00:00.000000000",
          "2023-03-01T00:00:00.000000000",
          "2023-04-01T00:00:00.000000000",
          "2023-05-01T00:00:00.000000000",
          "2023-06-01T00:00:00.000000000",
          "2023-07-01T00:00:00.000000000",
          "2023-08-01T00:00:00.000000000",
          "2023-09-01T00:00:00.000000000",
          "2023-10-01T00:00:00.000000000",
          "2023-11-01T00:00:00.000000000",
          "2023-12-01T00:00:00.000000000",
          "2024-01-01T00:00:00.000000000",
          "2024-02-01T00:00:00.000000000",
          "2024-03-01T00:00:00.000000000",
          "2024-04-01T00:00:00.000000000",
          "2024-05-01T00:00:00.000000000",
          "2024-06-01T00:00:00.000000000",
          "2024-07-01T00:00:00.000000000",
          "2024-08-01T00:00:00.000000000",
          "2024-09-01T00:00:00.000000000",
          "2024-10-01T00:00:00.000000000",
          "2024-11-01T00:00:00.000000000",
          "2024-12-01T00:00:00.000000000"
         ],
         "y": {
          "bdata": "pdd9pbehaD8rtGPuwHbOPopjJ7KTenY/tIIxmDsTeT8rtGPuwHbOPhFO6VGhtmQ/9vM075wYaD/28zTvnBhoPyu0Y+7Ads4+K7Rj7sB2zj4Yqx+3IgV6P2Yh6HEzhmo/K7Rj7sB2zj6xjnO5L8ZlPyu0Y+7Ads4+K7Rj7sB2zj4soAbr6KV3Pyu0Y+7Ads4+ZiHocTOGaj8rtGPuwHbOPsz0lho80Gg/K7Rj7sB2zj4rtGPuwHbOPiu0Y+7Ads4+",
          "dtype": "f8"
         }
        },
        {
         "mode": "lines+markers",
         "name": "dti",
         "type": "scatter",
         "x": [
          "2023-01-01T00:00:00.000000000",
          "2023-02-01T00:00:00.000000000",
          "2023-03-01T00:00:00.000000000",
          "2023-04-01T00:00:00.000000000",
          "2023-05-01T00:00:00.000000000",
          "2023-06-01T00:00:00.000000000",
          "2023-07-01T00:00:00.000000000",
          "2023-08-01T00:00:00.000000000",
          "2023-09-01T00:00:00.000000000",
          "2023-10-01T00:00:00.000000000",
          "2023-11-01T00:00:00.000000000",
          "2023-12-01T00:00:00.000000000",
          "2024-01-01T00:00:00.000000000",
          "2024-02-01T00:00:00.000000000",
          "2024-03-01T00:00:00.000000000",
          "2024-04-01T00:00:00.000000000",
          "2024-05-01T00:00:00.000000000",
          "2024-06-01T00:00:00.000000000",
          "2024-07-01T00:00:00.000000000",
          "2024-08-01T00:00:00.000000000",
          "2024-09-01T00:00:00.000000000",
          "2024-10-01T00:00:00.000000000",
          "2024-11-01T00:00:00.000000000",
          "2024-12-01T00:00:00.000000000"
         ],
         "y": {
          "bdata": "KBOF2Xc2gT8cBS/r3gyQP33JETpb+nU/QJWCL1VMpz+7uHeP+qOjP2iAup2+VJQ/EiiduO67nT/mPdyjXDKaP3jEmzzCcoQ/Gsy/weW0mj/MYuOmYC2UP6gevs3mhok/xeB5bUeyjj/794aoIjiNP1CD8frH+3c/0mECvXs3kz9GcTmD6ZmhP4g9IL5fsKY/y2qyoLg7jz8FYyvjAqqdPxGigBEB+I4/7kibuRJIlz8iWPLfD9mcP21uaW+yv5I/",
          "dtype": "f8"
         }
        },
        {
         "mode": "lines+markers",
         "name": "fico_range_high",
         "type": "scatter",
         "x": [
          "2023-01-01T00:00:00.000000000",
          "2023-02-01T00:00:00.000000000",
          "2023-03-01T00:00:00.000000000",
          "2023-04-01T00:00:00.000000000",
          "2023-05-01T00:00:00.000000000",
          "2023-06-01T00:00:00.000000000",
          "2023-07-01T00:00:00.000000000",
          "2023-08-01T00:00:00.000000000",
          "2023-09-01T00:00:00.000000000",
          "2023-10-01T00:00:00.000000000",
          "2023-11-01T00:00:00.000000000",
          "2023-12-01T00:00:00.000000000",
          "2024-01-01T00:00:00.000000000",
          "2024-02-01T00:00:00.000000000",
          "2024-03-01T00:00:00.000000000",
          "2024-04-01T00:00:00.000000000",
          "2024-05-01T00:00:00.000000000",
          "2024-06-01T00:00:00.000000000",
          "2024-07-01T00:00:00.000000000",
          "2024-08-01T00:00:00.000000000",
          "2024-09-01T00:00:00.000000000",
          "2024-10-01T00:00:00.000000000",
          "2024-11-01T00:00:00.000000000",
          "2024-12-01T00:00:00.000000000"
         ],
         "y": {
          "bdata": "GTsP6143hT+XpUdPO1WOP24eN71c35U/NZDTvLEQgj+a92fLuOmgPxJMTrDFu4k/acm+bCeWgj8Yn7YtflKgP0o/9Oihh4g/IeuTDIC2ij+0bmh08FiSP9pcoU/hKZk/oQ9pLQmIhj/AMWAGE2KQP77c8HYn7JE/0ajKXq5Irj+xdLNsQLt0P+WGG2lmIaI/edxrUxzplT89snIJSGufP4UXfdLNE4Y/pgYkLtQOoz+xu64RqRiVP+tnqljKYJM/",
          "dtype": "f8"
         }
        },
        {
         "mode": "lines+markers",
         "name": "fico_range_low",
         "type": "scatter",
         "x": [
          "2023-01-01T00:00:00.000000000",
          "2023-02-01T00:00:00.000000000",
          "2023-03-01T00:00:00.000000000",
          "2023-04-01T00:00:00.000000000",
          "2023-05-01T00:00:00.000000000",
          "2023-06-01T00:00:00.000000000",
          "2023-07-01T00:00:00.000000000",
          "2023-08-01T00:00:00.000000000",
          "2023-09-01T00:00:00.000000000",
          "2023-10-01T00:00:00.000000000",
          "2023-11-01T00:00:00.000000000",
          "2023-12-01T00:00:00.000000000",
          "2024-01-01T00:00:00.000000000",
          "2024-02-01T00:00:00.000000000",
          "2024-03-01T00:00:00.000000000",
          "2024-04-01T00:00:00.000000000",
          "2024-05-01T00:00:00.000000000",
          "2024-06-01T00:00:00.000000000",
          "2024-07-01T00:00:00.000000000",
          "2024-08-01T00:00:00.000000000",
          "2024-09-01T00:00:00.000000000",
          "2024-10-01T00:00:00.000000000",
          "2024-11-01T00:00:00.000000000",
          "2024-12-01T00:00:00.000000000"
         ],
         "y": {
          "bdata": "eqKxm4RssD/SUN6ovxyZP1PAY4A1HKM/ittuemR7mD9W6jvyq92iP4wlYHwjgn0/EjjGb0sThD9XkzGMSVacP7BhSF9+7JM/qAJSTW9Edz+Iv3rWVwuMP7jB0kfCbJE/VKcZ3vgyjj+eoB4tZreSPwh0+kaOhX8/kEPC/Oz3qj8fzksDl+GbP3lovE+yv5s/Pn3M4gdejD+crlCt/Q2SP7jrGYLp+54/ypUpHWB/pz/0z74rOK6UPzHls/pUn5Q/",
          "dtype": "f8"
         }
        },
        {
         "mode": "lines+markers",
         "name": "funded_amnt",
         "type": "scatter",
         "x": [
          "2023-01-01T00:00:00.000000000",
          "2023-02-01T00:00:00.000000000",
          "2023-03-01T00:00:00.000000000",
          "2023-04-01T00:00:00.000000000",
          "2023-05-01T00:00:00.000000000",
          "2023-06-01T00:00:00.000000000",
          "2023-07-01T00:00:00.000000000",
          "2023-08-01T00:00:00.000000000",
          "2023-09-01T00:00:00.000000000",
          "2023-10-01T00:00:00.000000000",
          "2023-11-01T00:00:00.000000000",
          "2023-12-01T00:00:00.000000000",
          "2024-01-01T00:00:00.000000000",
          "2024-02-01T00:00:00.000000000",
          "2024-03-01T00:00:00.000000000",
          "2024-04-01T00:00:00.000000000",
          "2024-05-01T00:00:00.000000000",
          "2024-06-01T00:00:00.000000000",
          "2024-07-01T00:00:00.000000000",
          "2024-08-01T00:00:00.000000000",
          "2024-09-01T00:00:00.000000000",
          "2024-10-01T00:00:00.000000000",
          "2024-11-01T00:00:00.000000000",
          "2024-12-01T00:00:00.000000000"
         ],
         "y": {
          "bdata": "Csqg72Z9oT8wW6KE4j2lPzQk8sWNXKQ/S+WnxuygqT88jQpdDV2gP3y7wfw0x5M/Sqe48x+iez9kFgE8smibP7JsaqHycZI/gkhPUBSMlz/Tgu512imSP3UkeUgqzZQ/TJBY/B06gj+7Tte9p12lPwgdXfx1JJQ//IOjAApRiD9XWhyVVhOTPw0wKGoHk5U/PlJ3H4Aglj9Gepj+sxGRPwtwaQiFf4s/i90fSZ6ZoT+q1jVlepCTP/66/ZL3qYQ/",
          "dtype": "f8"
         }
        },
        {
         "mode": "lines+markers",
         "name": "funded_amnt_inv",
         "type": "scatter",
         "x": [
          "2023-01-01T00:00:00.000000000",
          "2023-02-01T00:00:00.000000000",
          "2023-03-01T00:00:00.000000000",
          "2023-04-01T00:00:00.000000000",
          "2023-05-01T00:00:00.000000000",
          "2023-06-01T00:00:00.000000000",
          "2023-07-01T00:00:00.000000000",
          "2023-08-01T00:00:00.000000000",
          "2023-09-01T00:00:00.000000000",
          "2023-10-01T00:00:00.000000000",
          "2023-11-01T00:00:00.000000000",
          "2023-12-01T00:00:00.000000000",
          "2024-01-01T00:00:00.000000000",
          "2024-02-01T00:00:00.000000000",
          "2024-03-01T00:00:00.000000000",
          "2024-04-01T00:00:00.000000000",
          "2024-05-01T00:00:00.000000000",
          "2024-06-01T00:00:00.000000000",
          "2024-07-01T00:00:00.000000000",
          "2024-08-01T00:00:00.000000000",
          "2024-09-01T00:00:00.000000000",
          "2024-10-01T00:00:00.000000000",
          "2024-11-01T00:00:00.000000000",
          "2024-12-01T00:00:00.000000000"
         ],
         "y": {
          "bdata": "bwlauboxtj869lSZZpOfP9GZkG9g6JE/4QPmLpgUoD9umf7c+dOKPxappHd7lYs/7CpYgNfmmD/9PYyyBdSUP+v3u00YUZ4/IPcHpIamgD8UjBXooCaiPyL5132PcZk/TnP77xdelj/FJU0nw7WcPz3LoX8D050/piHI350riT8TLxkzb+iZP9eZAOXIIYs/AJtmTG1Tpj/DbzLNgBOlP2O1CMgewaA/i5czBHXDpD+KRjtFei+jPytDCq2kSpY/",
          "dtype": "f8"
         }
        },
        {
         "mode": "lines+markers",
         "name": "il_util",
         "type": "scatter",
         "x": [
          "2023-01-01T00:00:00.000000000",
          "2023-02-01T00:00:00.000000000",
          "2023-03-01T00:00:00.000000000",
          "2023-04-01T00:00:00.000000000",
          "2023-05-01T00:00:00.000000000",
          "2023-06-01T00:00:00.000000000",
          "2023-07-01T00:00:00.000000000",
          "2023-08-01T00:00:00.000000000",
          "2023-09-01T00:00:00.000000000",
          "2023-10-01T00:00:00.000000000",
          "2023-11-01T00:00:00.000000000",
          "2023-12-01T00:00:00.000000000",
          "2024-01-01T00:00:00.000000000",
          "2024-02-01T00:00:00.000000000",
          "2024-03-01T00:00:00.000000000",
          "2024-04-01T00:00:00.000000000",
          "2024-05-01T00:00:00.000000000",
          "2024-06-01T00:00:00.000000000",
          "2024-07-01T00:00:00.000000000",
          "2024-08-01T00:00:00.000000000",
          "2024-09-01T00:00:00.000000000",
          "2024-10-01T00:00:00.000000000",
          "2024-11-01T00:00:00.000000000",
          "2024-12-01T00:00:00.000000000"
         ],
         "y": {
          "bdata": "/i4t/OZOlD9TjV1H3lCNP86VLa3+ZqM/l1M49gUjjj+6otoAQReWPzxLUWR9E44/AJFQ4A7hkz9fnHGjhROVP2bkkwz0P4o/YljE4UIAmD9vluuqjIymPwAUfue8QZo/RhNh6ejjlz9iCKBC6B+CP6M1QkCcYJ0/0Pc8jMCPlD+gyBY6LOGlP2HziOwf0os/FkXKnKU7kD8GvOl/M2iGPyV4CgNhep0/V64Y3+yllD/a1bnc0nORP3zEqIgCQ4k/",
          "dtype": "f8"
         }
        },
        {
         "mode": "lines+markers",
         "name": "inq_fi",
         "type": "scatter",
         "x": [
          "2023-01-01T00:00:00.000000000",
          "2023-02-01T00:00:00.000000000",
          "2023-03-01T00:00:00.000000000",
          "2023-04-01T00:00:00.000000000",
          "2023-05-01T00:00:00.000000000",
          "2023-06-01T00:00:00.000000000",
          "2023-07-01T00:00:00.000000000",
          "2023-08-01T00:00:00.000000000",
          "2023-09-01T00:00:00.000000000",
          "2023-10-01T00:00:00.000000000",
          "2023-11-01T00:00:00.000000000",
          "2023-12-01T00:00:00.000000000",
          "2024-01-01T00:00:00.000000000",
          "2024-02-01T00:00:00.000000000",
          "2024-03-01T00:00:00.000000000",
          "2024-04-01T00:00:00.000000000",
          "2024-05-01T00:00:00.000000000",
          "2024-06-01T00:00:00.000000000",
          "2024-07-01T00:00:00.000000000",
          "2024-08-01T00:00:00.000000000",
          "2024-09-01T00:00:00.000000000",
          "2024-10-01T00:00:00.000000000",
          "2024-11-01T00:00:00.000000000",
          "2024-12-01T00:00:00.000000000"
         ],
         "y": {
          "bdata": "4E2jKlaHoD9mCpfSKOprP6hv43ENx3w/UVUqo1xrcD8sEPETkTt7PyZ6jh2qOIY/r9tSxU/nij8ysUh+V1hnPw8MjTLu1Jc/tkbS9S+Xbj/pxzFv+4+YPwxfPFSRlYU/nLudc/fjdj+bQ9JB3itwPwOnv4TO9JQ/Ce+/Z/zlmz/iCK3i5TpgP8ObUVNy93U/jAyhSzBJfj+dahAW7nJ2P0UCnUFfUpM/iyiNWB3IkT+M7rJB6aeJP/Bphzkb7Is/",
          "dtype": "f8"
         }
        },
        {
         "mode": "lines+markers",
         "name": "inq_last_12m",
         "type": "scatter",
         "x": [
          "2023-01-01T00:00:00.000000000",
          "2023-02-01T00:00:00.000000000",
          "2023-03-01T00:00:00.000000000",
          "2023-04-01T00:00:00.000000000",
          "2023-05-01T00:00:00.000000000",
          "2023-06-01T00:00:00.000000000",
          "2023-07-01T00:00:00.000000000",
          "2023-08-01T00:00:00.000000000",
          "2023-09-01T00:00:00.000000000",
          "2023-10-01T00:00:00.000000000",
          "2023-11-01T00:00:00.000000000",
          "2023-12-01T00:00:00.000000000",
          "2024-01-01T00:00:00.000000000",
          "2024-02-01T00:00:00.000000000",
          "2024-03-01T00:00:00.000000000",
          "2024-04-01T00:00:00.000000000",
          "2024-05-01T00:00:00.000000000",
          "2024-06-01T00:00:00.000000000",
          "2024-07-01T00:00:00.000000000",
          "2024-08-01T00:00:00.000000000",
          "2024-09-01T00:00:00.000000000",
          "2024-10-01T00:00:00.000000000",
          "2024-11-01T00:00:00.000000000",
          "2024-12-01T00:00:00.000000000"
         ],
         "y": {
          "bdata": "goCDvfZbnT8n03Ri/OCqP4IriWCdiZk/ApIOPoc7fz+yBvUvCn6gPyqZQ7SZ5Ws/sE6Vbfjofj/63RkxEQWKP36ZBVUOFpA/mGA7TSUGlD8bwMhC1FF0P92ql4AP9oM/HtMBgNIqkj/cEL0eRiWUP6iM9Zaum48/w5Bi/rqzdT/x9W0y0UWCP6LECXogP4g/YyuGaqlCjz/cGQenX0ONP+ws/h1PkqE/nVC6tSVEgz9krOG6XEOIP3wzfWH0rXc/",
          "dtype": "f8"
         }
        },
        {
         "mode": "lines+markers",
         "name": "inq_last_6mths",
         "type": "scatter",
         "x": [
          "2023-01-01T00:00:00.000000000",
          "2023-02-01T00:00:00.000000000",
          "2023-03-01T00:00:00.000000000",
          "2023-04-01T00:00:00.000000000",
          "2023-05-01T00:00:00.000000000",
          "2023-06-01T00:00:00.000000000",
          "2023-07-01T00:00:00.000000000",
          "2023-08-01T00:00:00.000000000",
          "2023-09-01T00:00:00.000000000",
          "2023-10-01T00:00:00.000000000",
          "2023-11-01T00:00:00.000000000",
          "2023-12-01T00:00:00.000000000",
          "2024-01-01T00:00:00.000000000",
          "2024-02-01T00:00:00.000000000",
          "2024-03-01T00:00:00.000000000",
          "2024-04-01T00:00:00.000000000",
          "2024-05-01T00:00:00.000000000",
          "2024-06-01T00:00:00.000000000",
          "2024-07-01T00:00:00.000000000",
          "2024-08-01T00:00:00.000000000",
          "2024-09-01T00:00:00.000000000",
          "2024-10-01T00:00:00.000000000",
          "2024-11-01T00:00:00.000000000",
          "2024-12-01T00:00:00.000000000"
         ],
         "y": {
          "bdata": "T96RxGvpwz95NqfKOWjNPwtGMBlBPMI/hu2DK7NrtD/A8E3VZ3vAP2CTUygGb5Q/Ze3siUFYoz/fB2g09iiVP1dCSevHlJI/TW8c2C85oT/jYnV0j32gP77WfRMKY4g/SukNXBF4lT8Vz/UpRh+gP6761hL/fac/L7eGyuiknT9/1hQ3YfygP4TNp8Oulqc/09ALmmeBuT9XG4NXn2GxP8djLRWOSrI/D38z1H1HrT9BNdsqlLysP0eMgMsh26g/",
          "dtype": "f8"
         }
        },
        {
         "mode": "lines+markers",
         "name": "installment",
         "type": "scatter",
         "x": [
          "2023-01-01T00:00:00.000000000",
          "2023-02-01T00:00:00.000000000",
          "2023-03-01T00:00:00.000000000",
          "2023-04-01T00:00:00.000000000",
          "2023-05-01T00:00:00.000000000",
          "2023-06-01T00:00:00.000000000",
          "2023-07-01T00:00:00.000000000",
          "2023-08-01T00:00:00.000000000",
          "2023-09-01T00:00:00.000000000",
          "2023-10-01T00:00:00.000000000",
          "2023-11-01T00:00:00.000000000",
          "2023-12-01T00:00:00.000000000",
          "2024-01-01T00:00:00.000000000",
          "2024-02-01T00:00:00.000000000",
          "2024-03-01T00:00:00.000000000",
          "2024-04-01T00:00:00.000000000",
          "2024-05-01T00:00:00.000000000",
          "2024-06-01T00:00:00.000000000",
          "2024-07-01T00:00:00.000000000",
          "2024-08-01T00:00:00.000000000",
          "2024-09-01T00:00:00.000000000",
          "2024-10-01T00:00:00.000000000",
          "2024-11-01T00:00:00.000000000",
          "2024-12-01T00:00:00.000000000"
         ],
         "y": {
          "bdata": "Cry3Zm12pT8pm03PfvWWP3Z1NDWvQJI/Vylu1tKlpD/g8lo3kL+oP/qkTdCdKpg/VeG8hf8Qgj9E3xKn3aGQPwLn86bXiJA/CoQxwI27mj9wdYCFM8+tP2h+iySMJpQ/LZelpEu2nD/4Kf+ixPWiPwlHzMAyk6A/1B4kEbGIkz+rv6p5+fSWP2XdrecbSJE/uscgc/w5nT+kE3rldpmCPw+mFaIkJ6A/rlvJpnhPlT8Td4c0teuRPwfOWWFrI5U/",
          "dtype": "f8"
         }
        },
        {
         "mode": "lines+markers",
         "name": "int_rate",
         "type": "scatter",
         "x": [
          "2023-01-01T00:00:00.000000000",
          "2023-02-01T00:00:00.000000000",
          "2023-03-01T00:00:00.000000000",
          "2023-04-01T00:00:00.000000000",
          "2023-05-01T00:00:00.000000000",
          "2023-06-01T00:00:00.000000000",
          "2023-07-01T00:00:00.000000000",
          "2023-08-01T00:00:00.000000000",
          "2023-09-01T00:00:00.000000000",
          "2023-10-01T00:00:00.000000000",
          "2023-11-01T00:00:00.000000000",
          "2023-12-01T00:00:00.000000000",
          "2024-01-01T00:00:00.000000000",
          "2024-02-01T00:00:00.000000000",
          "2024-03-01T00:00:00.000000000",
          "2024-04-01T00:00:00.000000000",
          "2024-05-01T00:00:00.000000000",
          "2024-06-01T00:00:00.000000000",
          "2024-07-01T00:00:00.000000000",
          "2024-08-01T00:00:00.000000000",
          "2024-09-01T00:00:00.000000000",
          "2024-10-01T00:00:00.000000000",
          "2024-11-01T00:00:00.000000000",
          "2024-12-01T00:00:00.000000000"
         ],
         "y": {
          "bdata": "zOY0zvcynD8Wr3uz+jGVP2B0Ph5G3JM/9/xYMNGSkT86QT9hwHKtP00P2s6N2Zc/YqPlCYrMlT+55m552p2LPxPWFdEWRJw/xlxis4Mcnj/nPApxcYyMP3zABfUMkpY/XCwr8WL1mj+eqb7iTECnP/34g17X4pc/igoehuEolz9G3mU9eWyEP33MBcvOTKA/FV428Wljnj9sNznmDdOOPw0raXhWAZE/UX1Ka3N3nT+HG3YFm1KQP6h4G8fHsZE/",
          "dtype": "f8"
         }
        },
        {
         "mode": "lines+markers",
         "name": "last_fico_range_high",
         "type": "scatter",
         "x": [
          "2023-01-01T00:00:00.000000000",
          "2023-02-01T00:00:00.000000000",
          "2023-03-01T00:00:00.000000000",
          "2023-04-01T00:00:00.000000000",
          "2023-05-01T00:00:00.000000000",
          "2023-06-01T00:00:00.000000000",
          "2023-07-01T00:00:00.000000000",
          "2023-08-01T00:00:00.000000000",
          "2023-09-01T00:00:00.000000000",
          "2023-10-01T00:00:00.000000000",
          "2023-11-01T00:00:00.000000000",
          "2023-12-01T00:00:00.000000000",
          "2024-01-01T00:00:00.000000000",
          "2024-02-01T00:00:00.000000000",
          "2024-03-01T00:00:00.000000000",
          "2024-04-01T00:00:00.000000000",
          "2024-05-01T00:00:00.000000000",
          "2024-06-01T00:00:00.000000000",
          "2024-07-01T00:00:00.000000000",
          "2024-08-01T00:00:00.000000000",
          "2024-09-01T00:00:00.000000000",
          "2024-10-01T00:00:00.000000000",
          "2024-11-01T00:00:00.000000000",
          "2024-12-01T00:00:00.000000000"
         ],
         "y": {
          "bdata": "DsxLzgljlj/x0eiKLTihP9N5xXVqa60/8MujejN8nD+IAH2M9zuaPyJPeVJrv5U/Rj8Teik7kD8ExeoB/wWnP0mpfBFz8qI/12LDz5I8lj/yW5IZ6YyAP2gOQeJZp5U/ATuBuFS4lT/4iMgPG3uVPwIwCD9n3qM/2fuk1aq5jz9bQt7okT+dPwci/jvotJ0/5JFongGGkD9FNj6oB1WpP3hyQJnzEZc//N3WoR7siT/lP4xZTyWnP9rUZzZm4KQ/",
          "dtype": "f8"
         }
        },
        {
         "mode": "lines+markers",
         "name": "last_fico_range_low",
         "type": "scatter",
         "x": [
          "2023-01-01T00:00:00.000000000",
          "2023-02-01T00:00:00.000000000",
          "2023-03-01T00:00:00.000000000",
          "2023-04-01T00:00:00.000000000",
          "2023-05-01T00:00:00.000000000",
          "2023-06-01T00:00:00.000000000",
          "2023-07-01T00:00:00.000000000",
          "2023-08-01T00:00:00.000000000",
          "2023-09-01T00:00:00.000000000",
          "2023-10-01T00:00:00.000000000",
          "2023-11-01T00:00:00.000000000",
          "2023-12-01T00:00:00.000000000",
          "2024-01-01T00:00:00.000000000",
          "2024-02-01T00:00:00.000000000",
          "2024-03-01T00:00:00.000000000",
          "2024-04-01T00:00:00.000000000",
          "2024-05-01T00:00:00.000000000",
          "2024-06-01T00:00:00.000000000",
          "2024-07-01T00:00:00.000000000",
          "2024-08-01T00:00:00.000000000",
          "2024-09-01T00:00:00.000000000",
          "2024-10-01T00:00:00.000000000",
          "2024-11-01T00:00:00.000000000",
          "2024-12-01T00:00:00.000000000"
         ],
         "y": {
          "bdata": "Cd6hEFrGgj+df1qmLyqeP3aOI1jC+JE/xcqeu46ufD/UgVI3nNOKP8w0emzXZJs/YJXDdwStnT/j5sYVMbCLP341lBx17II//dUCHQ8pgD/cjaAnBg6NP4B4iLDsTJA/z5QlLHS9fj8Ig6Il6KKXP23eCTjXi3Y/KeuRooLCjD9myVf6wxmXP4fkuMiSCng/WnTCtUwJfj9Bo6pVxKioP894CwokkJU/mCqE3Cd4mz+H2D7cKbSKP6aMYJUjjmM/",
          "dtype": "f8"
         }
        },
        {
         "mode": "lines+markers",
         "name": "last_pymnt_amnt",
         "type": "scatter",
         "x": [
          "2023-01-01T00:00:00.000000000",
          "2023-02-01T00:00:00.000000000",
          "2023-03-01T00:00:00.000000000",
          "2023-04-01T00:00:00.000000000",
          "2023-05-01T00:00:00.000000000",
          "2023-06-01T00:00:00.000000000",
          "2023-07-01T00:00:00.000000000",
          "2023-08-01T00:00:00.000000000",
          "2023-09-01T00:00:00.000000000",
          "2023-10-01T00:00:00.000000000",
          "2023-11-01T00:00:00.000000000",
          "2023-12-01T00:00:00.000000000",
          "2024-01-01T00:00:00.000000000",
          "2024-02-01T00:00:00.000000000",
          "2024-03-01T00:00:00.000000000",
          "2024-04-01T00:00:00.000000000",
          "2024-05-01T00:00:00.000000000",
          "2024-06-01T00:00:00.000000000",
          "2024-07-01T00:00:00.000000000",
          "2024-08-01T00:00:00.000000000",
          "2024-09-01T00:00:00.000000000",
          "2024-10-01T00:00:00.000000000",
          "2024-11-01T00:00:00.000000000",
          "2024-12-01T00:00:00.000000000"
         ],
         "y": {
          "bdata": "X4OZspWQnz/mpgAI8yrEP6WHXxI0MbY/XXLgbDaosj+28r6sMCSlP15QZbau3ZY/zwjLeiYhoz94QZ+k4pyhP3o7rmizKpg/0LDGN9QAkz/KQ55wwyeHP8JjuBAW5qA/GW5xLaXFlD9wa33Oq2+SP95A2jke26A/0MBDxGNxpT+M1SLldSOnP4ERFtgkPak/HcRyfCnaqz+tDursghykP/Gtk8NBO7I/9uStvv4spD+AtuO7iVyzPwmFo1KeAac/",
          "dtype": "f8"
         }
        },
        {
         "mode": "lines+markers",
         "name": "loan_amnt",
         "type": "scatter",
         "x": [
          "2023-01-01T00:00:00.000000000",
          "2023-02-01T00:00:00.000000000",
          "2023-03-01T00:00:00.000000000",
          "2023-04-01T00:00:00.000000000",
          "2023-05-01T00:00:00.000000000",
          "2023-06-01T00:00:00.000000000",
          "2023-07-01T00:00:00.000000000",
          "2023-08-01T00:00:00.000000000",
          "2023-09-01T00:00:00.000000000",
          "2023-10-01T00:00:00.000000000",
          "2023-11-01T00:00:00.000000000",
          "2023-12-01T00:00:00.000000000",
          "2024-01-01T00:00:00.000000000",
          "2024-02-01T00:00:00.000000000",
          "2024-03-01T00:00:00.000000000",
          "2024-04-01T00:00:00.000000000",
          "2024-05-01T00:00:00.000000000",
          "2024-06-01T00:00:00.000000000",
          "2024-07-01T00:00:00.000000000",
          "2024-08-01T00:00:00.000000000",
          "2024-09-01T00:00:00.000000000",
          "2024-10-01T00:00:00.000000000",
          "2024-11-01T00:00:00.000000000",
          "2024-12-01T00:00:00.000000000"
         ],
         "y": {
          "bdata": "BmSG34qznz/sEOt0/nSXP/NxNdkp35k/wAVvHTDqnj/K1kV4rouaP4r3dN3mJ4Y/7rUyMJ1GmD+2d9rEhPWdP8JeQKmtD54/7Ezeve9PnT9wGnEDJYOQP7d6CSzwEIY/uMJnKXUbfT/o/6P8a7GkP1IftRJXL5g/ZrdVr8jQmT/NPcSx2M6ZP9y+mpMtXZ0/klSbJV6pmz+tiTjAlTCaP7jMra/WbaA/OHtuMd6voj8UPfFyJg6bP8NoWZgn56Q/",
          "dtype": "f8"
         }
        },
        {
         "mode": "lines+markers",
         "name": "max_bal_bc",
         "type": "scatter",
         "x": [
          "2023-01-01T00:00:00.000000000",
          "2023-02-01T00:00:00.000000000",
          "2023-03-01T00:00:00.000000000",
          "2023-04-01T00:00:00.000000000",
          "2023-05-01T00:00:00.000000000",
          "2023-06-01T00:00:00.000000000",
          "2023-07-01T00:00:00.000000000",
          "2023-08-01T00:00:00.000000000",
          "2023-09-01T00:00:00.000000000",
          "2023-10-01T00:00:00.000000000",
          "2023-11-01T00:00:00.000000000",
          "2023-12-01T00:00:00.000000000",
          "2024-01-01T00:00:00.000000000",
          "2024-02-01T00:00:00.000000000",
          "2024-03-01T00:00:00.000000000",
          "2024-04-01T00:00:00.000000000",
          "2024-05-01T00:00:00.000000000",
          "2024-06-01T00:00:00.000000000",
          "2024-07-01T00:00:00.000000000",
          "2024-08-01T00:00:00.000000000",
          "2024-09-01T00:00:00.000000000",
          "2024-10-01T00:00:00.000000000",
          "2024-11-01T00:00:00.000000000",
          "2024-12-01T00:00:00.000000000"
         ],
         "y": {
          "bdata": "UjS90LthXD+GNKBxHNdFP+Dl9naCs4A/L6iJuolUbj+gzmuBTBxyPyLw25Orp4Q/570iZaaafT/hg+yRpRWDP1lfu3/+b0A/ndv1Lq8Ujj/HJB0q84dqPxLvQr3ZbJE/3qJ3svzjWz/6zCOv7fZ8PwxZb4fIzFk/6Mhv5HFeTj97Dj58bOl9Pz74n3WaTXk/HnsGst4hhT8dzS0KdSh/Px7kAGxPIFk/eJCtjHa0fz+YRE9Qb+J2P750qhSF0Ig/",
          "dtype": "f8"
         }
        },
        {
         "mode": "lines+markers",
         "name": "mo_sin_old_il_acct",
         "type": "scatter",
         "x": [
          "2023-01-01T00:00:00.000000000",
          "2023-02-01T00:00:00.000000000",
          "2023-03-01T00:00:00.000000000",
          "2023-04-01T00:00:00.000000000",
          "2023-05-01T00:00:00.000000000",
          "2023-06-01T00:00:00.000000000",
          "2023-07-01T00:00:00.000000000",
          "2023-08-01T00:00:00.000000000",
          "2023-09-01T00:00:00.000000000",
          "2023-10-01T00:00:00.000000000",
          "2023-11-01T00:00:00.000000000",
          "2023-12-01T00:00:00.000000000",
          "2024-01-01T00:00:00.000000000",
          "2024-02-01T00:00:00.000000000",
          "2024-03-01T00:00:00.000000000",
          "2024-04-01T00:00:00.000000000",
          "2024-05-01T00:00:00.000000000",
          "2024-06-01T00:00:00.000000000",
          "2024-07-01T00:00:00.000000000",
          "2024-08-01T00:00:00.000000000",
          "2024-09-01T00:00:00.000000000",
          "2024-10-01T00:00:00.000000000",
          "2024-11-01T00:00:00.000000000",
          "2024-12-01T00:00:00.000000000"
         ],
         "y": {
          "bdata": "yG/6TBsLhj/YsOEf0bOWPzZIgHtgkJI/1UT4F4nZfD+/Lufrx+KOPyJoR2TvN5o/FwZB/DD9lz8aD3c6Y1ekP+9w+MJuk5g/DcMCaYEnkD8ndNcEQVCaPxgsEfG2Eoc/ApoWj8iCoz+SjeGjOoqRPzXjb1uaPJc/uHBKQo9pnT9+uvNoXqlwPyauZq6F1Jc/AgZgrXF6dT98C6npHfuIP7jkMWv+m5Y/wnTrDbIahz/LMwTqm+h8P+nt8O1TCas/",
          "dtype": "f8"
         }
        },
        {
         "mode": "lines+markers",
         "name": "mo_sin_old_rev_tl_op",
         "type": "scatter",
         "x": [
          "2023-01-01T00:00:00.000000000",
          "2023-02-01T00:00:00.000000000",
          "2023-03-01T00:00:00.000000000",
          "2023-04-01T00:00:00.000000000",
          "2023-05-01T00:00:00.000000000",
          "2023-06-01T00:00:00.000000000",
          "2023-07-01T00:00:00.000000000",
          "2023-08-01T00:00:00.000000000",
          "2023-09-01T00:00:00.000000000",
          "2023-10-01T00:00:00.000000000",
          "2023-11-01T00:00:00.000000000",
          "2023-12-01T00:00:00.000000000",
          "2024-01-01T00:00:00.000000000",
          "2024-02-01T00:00:00.000000000",
          "2024-03-01T00:00:00.000000000",
          "2024-04-01T00:00:00.000000000",
          "2024-05-01T00:00:00.000000000",
          "2024-06-01T00:00:00.000000000",
          "2024-07-01T00:00:00.000000000",
          "2024-08-01T00:00:00.000000000",
          "2024-09-01T00:00:00.000000000",
          "2024-10-01T00:00:00.000000000",
          "2024-11-01T00:00:00.000000000",
          "2024-12-01T00:00:00.000000000"
         ],
         "y": {
          "bdata": "VdHTAORkkD8iM2U4IrGTP8IvceieQHs/rD+hly+3jT9vGLasiYORPyxKUto/UpE/9OifxLI0oj8XeM/oRpN6P8IW/FCfK3w/fE/QjU/qlz/DdbAXYCSTP54sF8AX1pI/ModW22zchz+brm0JDKCJP6DWYvhAhpI/CAHtn51Zgj88nemSIfeNP0UvCoixvpc/1ziiJAC3nz+gy8/JhFeSPyxCrteUTYU/UtaoL2AUmT/Ur/6YmV+aP7a2lWSD4p4/",
          "dtype": "f8"
         }
        },
        {
         "mode": "lines+markers",
         "name": "mo_sin_rcnt_rev_tl_op",
         "type": "scatter",
         "x": [
          "2023-01-01T00:00:00.000000000",
          "2023-02-01T00:00:00.000000000",
          "2023-03-01T00:00:00.000000000",
          "2023-04-01T00:00:00.000000000",
          "2023-05-01T00:00:00.000000000",
          "2023-06-01T00:00:00.000000000",
          "2023-07-01T00:00:00.000000000",
          "2023-08-01T00:00:00.000000000",
          "2023-09-01T00:00:00.000000000",
          "2023-10-01T00:00:00.000000000",
          "2023-11-01T00:00:00.000000000",
          "2023-12-01T00:00:00.000000000",
          "2024-01-01T00:00:00.000000000",
          "2024-02-01T00:00:00.000000000",
          "2024-03-01T00:00:00.000000000",
          "2024-04-01T00:00:00.000000000",
          "2024-05-01T00:00:00.000000000",
          "2024-06-01T00:00:00.000000000",
          "2024-07-01T00:00:00.000000000",
          "2024-08-01T00:00:00.000000000",
          "2024-09-01T00:00:00.000000000",
          "2024-10-01T00:00:00.000000000",
          "2024-11-01T00:00:00.000000000",
          "2024-12-01T00:00:00.000000000"
         ],
         "y": {
          "bdata": "m7U5BkZBkD99SjtbJkeLP4aJcYVVboU/VCLZAqChaj+XCEhMwYaPP9i5qcSna54/eqCIlBIhlD8myHa/Ov6XPxYO6I/fYpU/Mg57V1kMjz8sCnTzBIh6PyEIY0guY3w/5amjgFPvcD/EAmqUSniMPzXaAZElwoA/RRftg7bNkT+qaxRzJXyVP45M4kAolpQ/NOHulp2flz/yCBncFbmQP+gNwlRRUoA/GLTxDv4znD/9g6dFdMqWP+I6JXb40oo/",
          "dtype": "f8"
         }
        },
        {
         "mode": "lines+markers",
         "name": "mo_sin_rcnt_tl",
         "type": "scatter",
         "x": [
          "2023-01-01T00:00:00.000000000",
          "2023-02-01T00:00:00.000000000",
          "2023-03-01T00:00:00.000000000",
          "2023-04-01T00:00:00.000000000",
          "2023-05-01T00:00:00.000000000",
          "2023-06-01T00:00:00.000000000",
          "2023-07-01T00:00:00.000000000",
          "2023-08-01T00:00:00.000000000",
          "2023-09-01T00:00:00.000000000",
          "2023-10-01T00:00:00.000000000",
          "2023-11-01T00:00:00.000000000",
          "2023-12-01T00:00:00.000000000",
          "2024-01-01T00:00:00.000000000",
          "2024-02-01T00:00:00.000000000",
          "2024-03-01T00:00:00.000000000",
          "2024-04-01T00:00:00.000000000",
          "2024-05-01T00:00:00.000000000",
          "2024-06-01T00:00:00.000000000",
          "2024-07-01T00:00:00.000000000",
          "2024-08-01T00:00:00.000000000",
          "2024-09-01T00:00:00.000000000",
          "2024-10-01T00:00:00.000000000",
          "2024-11-01T00:00:00.000000000",
          "2024-12-01T00:00:00.000000000"
         ],
         "y": {
          "bdata": "ER5VBn8iWj/nGShO0DqIPzoNaI9Qpog/3MB1N+UKkD9baKX8Uc9eP7p5mhovnYQ/lJd92P7siD9Fr+c1bKCCP3jFzNuNDoA/KK//CI+Tez9XmDw+ZUV8P/C3zxa7KIo/ruB36jMOfD9CM8BY0iKBP4laRGfjvHU/F5VQhSccfD96T0wOrX9tP3CWTZl3RIc/PD2q9s4zjj9GEffxe3R+P9ZSKKhTMXs/BUpMn+QGfD8U4RZSSBd0PzzY54YSvII/",
          "dtype": "f8"
         }
        },
        {
         "mode": "lines+markers",
         "name": "mort_acc",
         "type": "scatter",
         "x": [
          "2023-01-01T00:00:00.000000000",
          "2023-02-01T00:00:00.000000000",
          "2023-03-01T00:00:00.000000000",
          "2023-04-01T00:00:00.000000000",
          "2023-05-01T00:00:00.000000000",
          "2023-06-01T00:00:00.000000000",
          "2023-07-01T00:00:00.000000000",
          "2023-08-01T00:00:00.000000000",
          "2023-09-01T00:00:00.000000000",
          "2023-10-01T00:00:00.000000000",
          "2023-11-01T00:00:00.000000000",
          "2023-12-01T00:00:00.000000000",
          "2024-01-01T00:00:00.000000000",
          "2024-02-01T00:00:00.000000000",
          "2024-03-01T00:00:00.000000000",
          "2024-04-01T00:00:00.000000000",
          "2024-05-01T00:00:00.000000000",
          "2024-06-01T00:00:00.000000000",
          "2024-07-01T00:00:00.000000000",
          "2024-08-01T00:00:00.000000000",
          "2024-09-01T00:00:00.000000000",
          "2024-10-01T00:00:00.000000000",
          "2024-11-01T00:00:00.000000000",
          "2024-12-01T00:00:00.000000000"
         ],
         "y": {
          "bdata": "qJfotokBxD/tIA0xptCfPzV262dcqKg/nBIOpxCLoT/iHB4LUVOOP7eO7a5TMoY/7XlyJ/yMmz/s17Q6HCyWP6fcERnkh5c/ROHXne/qkj/GeG7n5gShP7FKWavZAXo/nqpKyLyIdz8+x7LOiUKXP4ApV8tmkqI/9sYkcQOEoD9oUAcEWyySP0yWE2QCFZc/BBIaYP9OeT8wTyKiiqeBP8dg1bl2+JA/F/xmdNkKoT9dMnnQqPuYP1C8sEMP9pQ/",
          "dtype": "f8"
         }
        },
        {
         "mode": "lines+markers",
         "name": "mths_since_rcnt_il",
         "type": "scatter",
         "x": [
          "2023-01-01T00:00:00.000000000",
          "2023-02-01T00:00:00.000000000",
          "2023-03-01T00:00:00.000000000",
          "2023-04-01T00:00:00.000000000",
          "2023-05-01T00:00:00.000000000",
          "2023-06-01T00:00:00.000000000",
          "2023-07-01T00:00:00.000000000",
          "2023-08-01T00:00:00.000000000",
          "2023-09-01T00:00:00.000000000",
          "2023-10-01T00:00:00.000000000",
          "2023-11-01T00:00:00.000000000",
          "2023-12-01T00:00:00.000000000",
          "2024-01-01T00:00:00.000000000",
          "2024-02-01T00:00:00.000000000",
          "2024-03-01T00:00:00.000000000",
          "2024-04-01T00:00:00.000000000",
          "2024-05-01T00:00:00.000000000",
          "2024-06-01T00:00:00.000000000",
          "2024-07-01T00:00:00.000000000",
          "2024-08-01T00:00:00.000000000",
          "2024-09-01T00:00:00.000000000",
          "2024-10-01T00:00:00.000000000",
          "2024-11-01T00:00:00.000000000",
          "2024-12-01T00:00:00.000000000"
         ],
         "y": {
          "bdata": "4Kl/QCOLlD/sGgTmgXV+PwYOrqUP+KI/2sDSY3pwdz9Diil7rNtoP6hM4Nf2J5Y/LBAdH7+BlD9ZRmd7ALl9P5ivBciSiJQ//ElHZ6f+bj84h8wlCml9P/4VXMqcm20/+LBoB0zGkz85R2Be9AKJP3OL4tTfBp0/V6w15DnFhT8g/iBUKAOAP53fzALhgKA/nB823cN0iD8p2OSHH9eXPw43jpzRapE/1mYCkcmkmD/sohZUHWGEP8N59k6PCng/",
          "dtype": "f8"
         }
        },
        {
         "mode": "lines+markers",
         "name": "mths_since_recent_bc",
         "type": "scatter",
         "x": [
          "2023-01-01T00:00:00.000000000",
          "2023-02-01T00:00:00.000000000",
          "2023-03-01T00:00:00.000000000",
          "2023-04-01T00:00:00.000000000",
          "2023-05-01T00:00:00.000000000",
          "2023-06-01T00:00:00.000000000",
          "2023-07-01T00:00:00.000000000",
          "2023-08-01T00:00:00.000000000",
          "2023-09-01T00:00:00.000000000",
          "2023-10-01T00:00:00.000000000",
          "2023-11-01T00:00:00.000000000",
          "2023-12-01T00:00:00.000000000",
          "2024-01-01T00:00:00.000000000",
          "2024-02-01T00:00:00.000000000",
          "2024-03-01T00:00:00.000000000",
          "2024-04-01T00:00:00.000000000",
          "2024-05-01T00:00:00.000000000",
          "2024-06-01T00:00:00.000000000",
          "2024-07-01T00:00:00.000000000",
          "2024-08-01T00:00:00.000000000",
          "2024-09-01T00:00:00.000000000",
          "2024-10-01T00:00:00.000000000",
          "2024-11-01T00:00:00.000000000",
          "2024-12-01T00:00:00.000000000"
         ],
         "y": {
          "bdata": "KHrrRK31jT/PtRSMIxaiP3Fy3b0wN5M/ZnyqslEDjT+m1LrIpjuAP0Lxx+B5354/UqW9i5KLoT/FDDkChteTP+Gf7wottXg/biss3t8FdT/HHu7D6PORP4AzCaHPrYQ/04o3tpDNjz/dN5VBqsiIP1oZF5cbo4E/f3zJLiuIbD/fOG625beZP82PLjmIb48/RCZtFVVinj/f+2R4yvmMP8pH/cTNvoI/G/9jYWbQmz8xmCJy85qFPxSOQoQ/SJc/",
          "dtype": "f8"
         }
        },
        {
         "mode": "lines+markers",
         "name": "mths_since_recent_inq",
         "type": "scatter",
         "x": [
          "2023-01-01T00:00:00.000000000",
          "2023-02-01T00:00:00.000000000",
          "2023-03-01T00:00:00.000000000",
          "2023-04-01T00:00:00.000000000",
          "2023-05-01T00:00:00.000000000",
          "2023-06-01T00:00:00.000000000",
          "2023-07-01T00:00:00.000000000",
          "2023-08-01T00:00:00.000000000",
          "2023-09-01T00:00:00.000000000",
          "2023-10-01T00:00:00.000000000",
          "2023-11-01T00:00:00.000000000",
          "2023-12-01T00:00:00.000000000",
          "2024-01-01T00:00:00.000000000",
          "2024-02-01T00:00:00.000000000",
          "2024-03-01T00:00:00.000000000",
          "2024-04-01T00:00:00.000000000",
          "2024-05-01T00:00:00.000000000",
          "2024-06-01T00:00:00.000000000",
          "2024-07-01T00:00:00.000000000",
          "2024-08-01T00:00:00.000000000",
          "2024-09-01T00:00:00.000000000",
          "2024-10-01T00:00:00.000000000",
          "2024-11-01T00:00:00.000000000",
          "2024-12-01T00:00:00.000000000"
         ],
         "y": {
          "bdata": "5l872g/LrD++rIiM9FqcP+quAxOd+bE/DXZ+VFanoz9DDLtUwHmrP+K8QoXDGpE/G9xVmp83lz/GUJv1gz6kP0PLXFq0b40/y9FtxUsImj9CKbqJgzqbP9D3t6ehS6I/EDP4iLqajD/t2fHAX/aCP66SoakChpM/U1a9p6eaij/chNjvIUWPP9yRGoNneJI/KxbVg46FpT82RyBoaOqlP2bUkwvTgqM/VDTxWa02pD+XyiMNkjegPzWGk93FyaM/",
          "dtype": "f8"
         }
        },
        {
         "mode": "lines+markers",
         "name": "num_accts_ever_120_pd",
         "type": "scatter",
         "x": [
          "2023-01-01T00:00:00.000000000",
          "2023-02-01T00:00:00.000000000",
          "2023-03-01T00:00:00.000000000",
          "2023-04-01T00:00:00.000000000",
          "2023-05-01T00:00:00.000000000",
          "2023-06-01T00:00:00.000000000",
          "2023-07-01T00:00:00.000000000",
          "2023-08-01T00:00:00.000000000",
          "2023-09-01T00:00:00.000000000",
          "2023-10-01T00:00:00.000000000",
          "2023-11-01T00:00:00.000000000",
          "2023-12-01T00:00:00.000000000",
          "2024-01-01T00:00:00.000000000",
          "2024-02-01T00:00:00.000000000",
          "2024-03-01T00:00:00.000000000",
          "2024-04-01T00:00:00.000000000",
          "2024-05-01T00:00:00.000000000",
          "2024-06-01T00:00:00.000000000",
          "2024-07-01T00:00:00.000000000",
          "2024-08-01T00:00:00.000000000",
          "2024-09-01T00:00:00.000000000",
          "2024-10-01T00:00:00.000000000",
          "2024-11-01T00:00:00.000000000",
          "2024-12-01T00:00:00.000000000"
         ],
         "y": {
          "bdata": "TDE0WYoGiD+qzXv3TGVlP82mnhP0bpA/zHq1+PiYgj/06XAtOiaHP7LHY3rZGXY/5Fq+oheJeT9Peu6D39p7P0+pcnuBxYE/OCy+cVjrgz/OfzqZuPaDP1feMX1N3ZI/VDr8RIKCgD9O6l+MtVSMPwcT6+oEemY/MJ81vPaJez+F5FiXjgaMP4vtn4VdUJA/cp8bhVH7lD9zN0HdVgeRP1zibk3cJWI/dlw5Z1XGfj9OkxhkNzaAPyzwi7oShII/",
          "dtype": "f8"
         }
        },
        {
         "mode": "lines+markers",
         "name": "num_actv_bc_tl",
         "type": "scatter",
         "x": [
          "2023-01-01T00:00:00.000000000",
          "2023-02-01T00:00:00.000000000",
          "2023-03-01T00:00:00.000000000",
          "2023-04-01T00:00:00.000000000",
          "2023-05-01T00:00:00.000000000",
          "2023-06-01T00:00:00.000000000",
          "2023-07-01T00:00:00.000000000",
          "2023-08-01T00:00:00.000000000",
          "2023-09-01T00:00:00.000000000",
          "2023-10-01T00:00:00.000000000",
          "2023-11-01T00:00:00.000000000",
          "2023-12-01T00:00:00.000000000",
          "2024-01-01T00:00:00.000000000",
          "2024-02-01T00:00:00.000000000",
          "2024-03-01T00:00:00.000000000",
          "2024-04-01T00:00:00.000000000",
          "2024-05-01T00:00:00.000000000",
          "2024-06-01T00:00:00.000000000",
          "2024-07-01T00:00:00.000000000",
          "2024-08-01T00:00:00.000000000",
          "2024-09-01T00:00:00.000000000",
          "2024-10-01T00:00:00.000000000",
          "2024-11-01T00:00:00.000000000",
          "2024-12-01T00:00:00.000000000"
         ],
         "y": {
          "bdata": "DdmqPpByuj+f8NFRcEGUP6nfTBi+nJY/08fGj5w9jz8tE2Zn/EWbP4b+lff2gII/livJhxtIoD/Kd1eDIqiXP+MUnO1h3o0/ocXqZJWkmT+7iu73G6J2PyzTCiYAFZo/HdBfbgAzkD/aE6HDsoWAP4HKRlRwN50/ApWpTEY8gT/TjAsMV2uWP5DRzOHI5J4/QxxWJPMbiz8SXC/KrXVjP/egXDfXX5g/mw/IILpeoD82rnuxUtF9P+2QlRicIIk/",
          "dtype": "f8"
         }
        },
        {
         "mode": "lines+markers",
         "name": "num_actv_rev_tl",
         "type": "scatter",
         "x": [
          "2023-01-01T00:00:00.000000000",
          "2023-02-01T00:00:00.000000000",
          "2023-03-01T00:00:00.000000000",
          "2023-04-01T00:00:00.000000000",
          "2023-05-01T00:00:00.000000000",
          "2023-06-01T00:00:00.000000000",
          "2023-07-01T00:00:00.000000000",
          "2023-08-01T00:00:00.000000000",
          "2023-09-01T00:00:00.000000000",
          "2023-10-01T00:00:00.000000000",
          "2023-11-01T00:00:00.000000000",
          "2023-12-01T00:00:00.000000000",
          "2024-01-01T00:00:00.000000000",
          "2024-02-01T00:00:00.000000000",
          "2024-03-01T00:00:00.000000000",
          "2024-04-01T00:00:00.000000000",
          "2024-05-01T00:00:00.000000000",
          "2024-06-01T00:00:00.000000000",
          "2024-07-01T00:00:00.000000000",
          "2024-08-01T00:00:00.000000000",
          "2024-09-01T00:00:00.000000000",
          "2024-10-01T00:00:00.000000000",
          "2024-11-01T00:00:00.000000000",
          "2024-12-01T00:00:00.000000000"
         ],
         "y": {
          "bdata": "HL6fId/Oqj+9OXXyMy2cPwKEsb+AHog/sAIOCdgtkz8lAdb13e14P64b3KCt/3w/xTefX7RLkT9ycVNaSHuTPwbNwxDhQII/en5VeCneoj8Q2LbBlTGEP2Opdx+s2pQ/rDmR8UcNiz9BWJxjZTyWP+NTgcI7rIY/hSt5ifRZhj/+s8h8LUqSPzxqjJaVDJs/uAVeiPf+hz8iQRRrSt2VP0ijFTTYQYk/u1Dagh3hjz+LbnTdoGWSP1iTSuslIHQ/",
          "dtype": "f8"
         }
        },
        {
         "mode": "lines+markers",
         "name": "num_bc_sats",
         "type": "scatter",
         "x": [
          "2023-01-01T00:00:00.000000000",
          "2023-02-01T00:00:00.000000000",
          "2023-03-01T00:00:00.000000000",
          "2023-04-01T00:00:00.000000000",
          "2023-05-01T00:00:00.000000000",
          "2023-06-01T00:00:00.000000000",
          "2023-07-01T00:00:00.000000000",
          "2023-08-01T00:00:00.000000000",
          "2023-09-01T00:00:00.000000000",
          "2023-10-01T00:00:00.000000000",
          "2023-11-01T00:00:00.000000000",
          "2023-12-01T00:00:00.000000000",
          "2024-01-01T00:00:00.000000000",
          "2024-02-01T00:00:00.000000000",
          "2024-03-01T00:00:00.000000000",
          "2024-04-01T00:00:00.000000000",
          "2024-05-01T00:00:00.000000000",
          "2024-06-01T00:00:00.000000000",
          "2024-07-01T00:00:00.000000000",
          "2024-08-01T00:00:00.000000000",
          "2024-09-01T00:00:00.000000000",
          "2024-10-01T00:00:00.000000000",
          "2024-11-01T00:00:00.000000000",
          "2024-12-01T00:00:00.000000000"
         ],
         "y": {
          "bdata": "tEn/Itc4oT9fznkfT1WQP96NFVktmY0/j2p0xXnOhD+tOapcEdCGP/BIGWF/PoA/CH9eoUpdhT+vb9Q2frSFP3mK3k+lmYQ/W/RmaR1qmz9Yr4hObcSOPzhHHCv5p38/EMnfCJZcej9QMfN9QW+GP10cU42j444/3isy3bkHkz9eKKl6ctSXP/ATRzYs7aU/DsGZq4Fsmj9WYbYVo7meP2SPtQPsX4Y/BH9KF4yKoD80f553D7iBP1I0sQQgYJ4/",
          "dtype": "f8"
         }
        },
        {
         "mode": "lines+markers",
         "name": "num_bc_tl",
         "type": "scatter",
         "x": [
          "2023-01-01T00:00:00.000000000",
          "2023-02-01T00:00:00.000000000",
          "2023-03-01T00:00:00.000000000",
          "2023-04-01T00:00:00.000000000",
          "2023-05-01T00:00:00.000000000",
          "2023-06-01T00:00:00.000000000",
          "2023-07-01T00:00:00.000000000",
          "2023-08-01T00:00:00.000000000",
          "2023-09-01T00:00:00.000000000",
          "2023-10-01T00:00:00.000000000",
          "2023-11-01T00:00:00.000000000",
          "2023-12-01T00:00:00.000000000",
          "2024-01-01T00:00:00.000000000",
          "2024-02-01T00:00:00.000000000",
          "2024-03-01T00:00:00.000000000",
          "2024-04-01T00:00:00.000000000",
          "2024-05-01T00:00:00.000000000",
          "2024-06-01T00:00:00.000000000",
          "2024-07-01T00:00:00.000000000",
          "2024-08-01T00:00:00.000000000",
          "2024-09-01T00:00:00.000000000",
          "2024-10-01T00:00:00.000000000",
          "2024-11-01T00:00:00.000000000",
          "2024-12-01T00:00:00.000000000"
         ],
         "y": {
          "bdata": "6Gkn5nHBnT9Nr3siRzGUP0d31ufyWY0/CgXL0vvRiD8aPcbfzHaPPw01su0qD3k/tGuRwFabhT9u0PnJrM6PP2xEjZUuSII/fmnMeoQZkT/smap7/Qx9PxzJnHuPAnw/g20TIRAXkD/iF0+9gz+CP8wlybRfens/cpKhB6rsbj/hQKCzxfaYP7KU/Ky32JY/9IK0RYz4gT/qNrP7R7+gP/ghjVaTN5U/bHcm/7sIbT9W1sJFXO6fPwg8W+Nn4nk/",
          "dtype": "f8"
         }
        },
        {
         "mode": "lines+markers",
         "name": "num_il_tl",
         "type": "scatter",
         "x": [
          "2023-01-01T00:00:00.000000000",
          "2023-02-01T00:00:00.000000000",
          "2023-03-01T00:00:00.000000000",
          "2023-04-01T00:00:00.000000000",
          "2023-05-01T00:00:00.000000000",
          "2023-06-01T00:00:00.000000000",
          "2023-07-01T00:00:00.000000000",
          "2023-08-01T00:00:00.000000000",
          "2023-09-01T00:00:00.000000000",
          "2023-10-01T00:00:00.000000000",
          "2023-11-01T00:00:00.000000000",
          "2023-12-01T00:00:00.000000000",
          "2024-01-01T00:00:00.000000000",
          "2024-02-01T00:00:00.000000000",
          "2024-03-01T00:00:00.000000000",
          "2024-04-01T00:00:00.000000000",
          "2024-05-01T00:00:00.000000000",
          "2024-06-01T00:00:00.000000000",
          "2024-07-01T00:00:00.000000000",
          "2024-08-01T00:00:00.000000000",
          "2024-09-01T00:00:00.000000000",
          "2024-10-01T00:00:00.000000000",
          "2024-11-01T00:00:00.000000000",
          "2024-12-01T00:00:00.000000000"
         ],
         "y": {
          "bdata": "IVzgLFAKkT/G9pPMAw2TPzA6/3dUFZE/41lgqGeQiT+fUrAVAXyLP0pkmB6F8os/TBEcHJyFpD8LCeHxggCbP9jJkJllHIk/X931UaYdmT+Df70igACfPww0YHaLcJ4/y1K4jfOWfT+JT4kG/jOIP/YonessJoA/OWapWlC0lD/1SIpDqeSSP0he3oovQ5U/E59DW+Vwiz9sqbYlsJp/P98E8dQDOpY/rYwTk2Ogpz8QbNKQi86cP/xz5FaOIGI/",
          "dtype": "f8"
         }
        },
        {
         "mode": "lines+markers",
         "name": "num_op_rev_tl",
         "type": "scatter",
         "x": [
          "2023-01-01T00:00:00.000000000",
          "2023-02-01T00:00:00.000000000",
          "2023-03-01T00:00:00.000000000",
          "2023-04-01T00:00:00.000000000",
          "2023-05-01T00:00:00.000000000",
          "2023-06-01T00:00:00.000000000",
          "2023-07-01T00:00:00.000000000",
          "2023-08-01T00:00:00.000000000",
          "2023-09-01T00:00:00.000000000",
          "2023-10-01T00:00:00.000000000",
          "2023-11-01T00:00:00.000000000",
          "2023-12-01T00:00:00.000000000",
          "2024-01-01T00:00:00.000000000",
          "2024-02-01T00:00:00.000000000",
          "2024-03-01T00:00:00.000000000",
          "2024-04-01T00:00:00.000000000",
          "2024-05-01T00:00:00.000000000",
          "2024-06-01T00:00:00.000000000",
          "2024-07-01T00:00:00.000000000",
          "2024-08-01T00:00:00.000000000",
          "2024-09-01T00:00:00.000000000",
          "2024-10-01T00:00:00.000000000",
          "2024-11-01T00:00:00.000000000",
          "2024-12-01T00:00:00.000000000"
         ],
         "y": {
          "bdata": "+0gOGXjYoj+JQ/JyVD+sPzQHzVOo5Yc/Kp2bvs03mj+gF8wZzlOeP+PYqd35Dpk/zJkYoMoZkz/m1FAJNDudP5QnjPwq6Zo/ISLuc4lEpD9jg1+HL5aQP/zt/zO2LaE/oe+Hcwr7jz8uj7ThhMCKP+X55eCzo5c/4Fw6PRwblz990TXv91iKP6PU0eWwmaQ/NYk10/Rkfz+jURXItEOoPwt2qildPqU/fBqVvJa8kD+Qg2hVHtyUP4dnM4/rbJI/",
          "dtype": "f8"
         }
        },
        {
         "mode": "lines+markers",
         "name": "num_rev_accts",
         "type": "scatter",
         "x": [
          "2023-01-01T00:00:00.000000000",
          "2023-02-01T00:00:00.000000000",
          "2023-03-01T00:00:00.000000000",
          "2023-04-01T00:00:00.000000000",
          "2023-05-01T00:00:00.000000000",
          "2023-06-01T00:00:00.000000000",
          "2023-07-01T00:00:00.000000000",
          "2023-08-01T00:00:00.000000000",
          "2023-09-01T00:00:00.000000000",
          "2023-10-01T00:00:00.000000000",
          "2023-11-01T00:00:00.000000000",
          "2023-12-01T00:00:00.000000000",
          "2024-01-01T00:00:00.000000000",
          "2024-02-01T00:00:00.000000000",
          "2024-03-01T00:00:00.000000000",
          "2024-04-01T00:00:00.000000000",
          "2024-05-01T00:00:00.000000000",
          "2024-06-01T00:00:00.000000000",
          "2024-07-01T00:00:00.000000000",
          "2024-08-01T00:00:00.000000000",
          "2024-09-01T00:00:00.000000000",
          "2024-10-01T00:00:00.000000000",
          "2024-11-01T00:00:00.000000000",
          "2024-12-01T00:00:00.000000000"
         ],
         "y": {
          "bdata": "8I1O4SX2ij9ayzkq4hd3P9KW88NGSXg/JFV/gFtsgT/WQg5ZXQl9P26dHAhO3Ig/+wnX6vIniz/wH2S9Vy2TPyQX93ALgYY/Z0JspHx4kj+IPNLNtwiHP/+2kLx6tH0/UIe8hHHkaz+yWGF/UviGP6BKY+VjkKA/ZQDBYtoViz+iCgOIu/SLP6k4S3M8tYg/9AvA2tNjlj/+imnblVyYPw+ACvFMBok/Tj3+Aqm1fj+G7dbL/WFnPwJzetlAf5I/",
          "dtype": "f8"
         }
        },
        {
         "mode": "lines+markers",
         "name": "num_rev_tl_bal_gt_0",
         "type": "scatter",
         "x": [
          "2023-01-01T00:00:00.000000000",
          "2023-02-01T00:00:00.000000000",
          "2023-03-01T00:00:00.000000000",
          "2023-04-01T00:00:00.000000000",
          "2023-05-01T00:00:00.000000000",
          "2023-06-01T00:00:00.000000000",
          "2023-07-01T00:00:00.000000000",
          "2023-08-01T00:00:00.000000000",
          "2023-09-01T00:00:00.000000000",
          "2023-10-01T00:00:00.000000000",
          "2023-11-01T00:00:00.000000000",
          "2023-12-01T00:00:00.000000000",
          "2024-01-01T00:00:00.000000000",
          "2024-02-01T00:00:00.000000000",
          "2024-03-01T00:00:00.000000000",
          "2024-04-01T00:00:00.000000000",
          "2024-05-01T00:00:00.000000000",
          "2024-06-01T00:00:00.000000000",
          "2024-07-01T00:00:00.000000000",
          "2024-08-01T00:00:00.000000000",
          "2024-09-01T00:00:00.000000000",
          "2024-10-01T00:00:00.000000000",
          "2024-11-01T00:00:00.000000000",
          "2024-12-01T00:00:00.000000000"
         ],
         "y": {
          "bdata": "ePG9hxG9pj+S3q4eSlqPPyKHWNYzl4c/MNnX9i0klD+GWIBb/naUP2Rh2wig2Wk/h9n6Rl6Foj/1XNjDoH9/PywuVIF9hGo/v8zRVbEApD95x+8j7M2YP+32yHQqL4g/KKNo17zvgD9PM2XRp6aKP+GcwaJvFJI/sgAI/zvsdz8j0rGP9A2EP+v2VSYL/pI/mBDRiUDSmz+ZdkoQW92RP0DbbELxQpo/7LsAGpViiT+mr9TQ7lKIP6hl4y6223c/",
          "dtype": "f8"
         }
        },
        {
         "mode": "lines+markers",
         "name": "num_sats",
         "type": "scatter",
         "x": [
          "2023-01-01T00:00:00.000000000",
          "2023-02-01T00:00:00.000000000",
          "2023-03-01T00:00:00.000000000",
          "2023-04-01T00:00:00.000000000",
          "2023-05-01T00:00:00.000000000",
          "2023-06-01T00:00:00.000000000",
          "2023-07-01T00:00:00.000000000",
          "2023-08-01T00:00:00.000000000",
          "2023-09-01T00:00:00.000000000",
          "2023-10-01T00:00:00.000000000",
          "2023-11-01T00:00:00.000000000",
          "2023-12-01T00:00:00.000000000",
          "2024-01-01T00:00:00.000000000",
          "2024-02-01T00:00:00.000000000",
          "2024-03-01T00:00:00.000000000",
          "2024-04-01T00:00:00.000000000",
          "2024-05-01T00:00:00.000000000",
          "2024-06-01T00:00:00.000000000",
          "2024-07-01T00:00:00.000000000",
          "2024-08-01T00:00:00.000000000",
          "2024-09-01T00:00:00.000000000",
          "2024-10-01T00:00:00.000000000",
          "2024-11-01T00:00:00.000000000",
          "2024-12-01T00:00:00.000000000"
         ],
         "y": {
          "bdata": "+jTwL88Noj/xyG2vls6YP7DcyGxp25w/BQ/Ey9K/gT9m0BQ+zAeSP0DNpPAhdJY/TGVrmMyxjj+s55ct5vKPPz0ewgO6O3E/4to72Xsxpj9jPjRI5Q2RP3KH72DmroE/DXMtt424iz8PjwyWoUaYP0pbdGHEmJc/gYAK/eBTiT9Se0GlshqDP4F2QTV9/p4/SrwGoZPYkT+lliCaSmCWP2zGdkCOT6Q/yweAA6f5kj9Bu/pjXhmgP/6Bypll+JE/",
          "dtype": "f8"
         }
        },
        {
         "mode": "lines+markers",
         "name": "num_tl_120dpd_2m",
         "type": "scatter",
         "x": [
          "2023-01-01T00:00:00.000000000",
          "2023-02-01T00:00:00.000000000",
          "2023-03-01T00:00:00.000000000",
          "2023-04-01T00:00:00.000000000",
          "2023-05-01T00:00:00.000000000",
          "2023-06-01T00:00:00.000000000",
          "2023-07-01T00:00:00.000000000",
          "2023-08-01T00:00:00.000000000",
          "2023-09-01T00:00:00.000000000",
          "2023-10-01T00:00:00.000000000",
          "2023-11-01T00:00:00.000000000",
          "2023-12-01T00:00:00.000000000",
          "2024-01-01T00:00:00.000000000",
          "2024-02-01T00:00:00.000000000",
          "2024-03-01T00:00:00.000000000",
          "2024-04-01T00:00:00.000000000",
          "2024-05-01T00:00:00.000000000",
          "2024-06-01T00:00:00.000000000",
          "2024-07-01T00:00:00.000000000",
          "2024-08-01T00:00:00.000000000",
          "2024-09-01T00:00:00.000000000",
          "2024-10-01T00:00:00.000000000",
          "2024-11-01T00:00:00.000000000",
          "2024-12-01T00:00:00.000000000"
         ],
         "y": {
          "bdata": "AAAAAAAAAAAAAAAAAAAAAAAAAAAAAAAAAAAAAAAAAAAAAAAAAAAAAAAAAAAAAAAAAAAAAAAAAAAAAAAAAAAAAAAAAAAAAAAAAAAAAAAAAAAAAAAAAAAAAAAAAAAAAAAAAAAAAAAAAAAAAAAAAAAAAAAAAAAAAAAAAAAAAAAAAAAAAAAAAAAAAAAAAAAAAAAAAAAAAAAAAAAAAAAAAAAAAAAAAAAAAAAAAAAAAAAAAAAAAAAAAAAAAAAAAAAAAAAA",
          "dtype": "f8"
         }
        },
        {
         "mode": "lines+markers",
         "name": "num_tl_30dpd",
         "type": "scatter",
         "x": [
          "2023-01-01T00:00:00.000000000",
          "2023-02-01T00:00:00.000000000",
          "2023-03-01T00:00:00.000000000",
          "2023-04-01T00:00:00.000000000",
          "2023-05-01T00:00:00.000000000",
          "2023-06-01T00:00:00.000000000",
          "2023-07-01T00:00:00.000000000",
          "2023-08-01T00:00:00.000000000",
          "2023-09-01T00:00:00.000000000",
          "2023-10-01T00:00:00.000000000",
          "2023-11-01T00:00:00.000000000",
          "2023-12-01T00:00:00.000000000",
          "2024-01-01T00:00:00.000000000",
          "2024-02-01T00:00:00.000000000",
          "2024-03-01T00:00:00.000000000",
          "2024-04-01T00:00:00.000000000",
          "2024-05-01T00:00:00.000000000",
          "2024-06-01T00:00:00.000000000",
          "2024-07-01T00:00:00.000000000",
          "2024-08-01T00:00:00.000000000",
          "2024-09-01T00:00:00.000000000",
          "2024-10-01T00:00:00.000000000",
          "2024-11-01T00:00:00.000000000",
          "2024-12-01T00:00:00.000000000"
         ],
         "y": {
          "bdata": "5HebthraYD8aTEL1u8jVPim2uvWCtlw/k3ZtAe1EYT8wecCe9RkoPqP+H6GXJXc/TuJIdlA+YD9O4kh2UD5gP2mudsVaLdI+PWgKaCPp6T7xqb/tx1piPxCKIzmo0Kk+EPq0Pz97YT+xDODbO1FbPyGWJ3ayW1w/VEGBkzWg7j59PlOYUBqKP8S8rj9JrGo/EIojOajQqT4+PHINdNzwPh04fcw2D2E/PWgKaCPp6T49aApoI+npPi4Oijew6gE/",
          "dtype": "f8"
         }
        },
        {
         "mode": "lines+markers",
         "name": "num_tl_90g_dpd_24m",
         "type": "scatter",
         "x": [
          "2023-01-01T00:00:00.000000000",
          "2023-02-01T00:00:00.000000000",
          "2023-03-01T00:00:00.000000000",
          "2023-04-01T00:00:00.000000000",
          "2023-05-01T00:00:00.000000000",
          "2023-06-01T00:00:00.000000000",
          "2023-07-01T00:00:00.000000000",
          "2023-08-01T00:00:00.000000000",
          "2023-09-01T00:00:00.000000000",
          "2023-10-01T00:00:00.000000000",
          "2023-11-01T00:00:00.000000000",
          "2023-12-01T00:00:00.000000000",
          "2024-01-01T00:00:00.000000000",
          "2024-02-01T00:00:00.000000000",
          "2024-03-01T00:00:00.000000000",
          "2024-04-01T00:00:00.000000000",
          "2024-05-01T00:00:00.000000000",
          "2024-06-01T00:00:00.000000000",
          "2024-07-01T00:00:00.000000000",
          "2024-08-01T00:00:00.000000000",
          "2024-09-01T00:00:00.000000000",
          "2024-10-01T00:00:00.000000000",
          "2024-11-01T00:00:00.000000000",
          "2024-12-01T00:00:00.000000000"
         ],
         "y": {
          "bdata": "R+ynnrQbZT/vJaPH1oiEPwV4eTpHT30/e1n6pW6LdT/DdDanM7NwPw1FFEK+6WI/xvPqQ1hmiD/rE0/EueddPx5tB9zPC4I/42Z6LnuUcD9bHqJ13x1cP4PtOUtV22M/hYRbxkRsfT+ggEDNySGHPzjvG2PzXls/kli0lvWlgT/Qa9VsYiFSPyOdBkLMsIU/6CKz0Do3UD/YPJ7G7fN2P1jWAorEH2w/bf8ALgmlZj/h/w7ectuGP9xnaITlg3g/",
          "dtype": "f8"
         }
        },
        {
         "mode": "lines+markers",
         "name": "num_tl_op_past_12m",
         "type": "scatter",
         "x": [
          "2023-01-01T00:00:00.000000000",
          "2023-02-01T00:00:00.000000000",
          "2023-03-01T00:00:00.000000000",
          "2023-04-01T00:00:00.000000000",
          "2023-05-01T00:00:00.000000000",
          "2023-06-01T00:00:00.000000000",
          "2023-07-01T00:00:00.000000000",
          "2023-08-01T00:00:00.000000000",
          "2023-09-01T00:00:00.000000000",
          "2023-10-01T00:00:00.000000000",
          "2023-11-01T00:00:00.000000000",
          "2023-12-01T00:00:00.000000000",
          "2024-01-01T00:00:00.000000000",
          "2024-02-01T00:00:00.000000000",
          "2024-03-01T00:00:00.000000000",
          "2024-04-01T00:00:00.000000000",
          "2024-05-01T00:00:00.000000000",
          "2024-06-01T00:00:00.000000000",
          "2024-07-01T00:00:00.000000000",
          "2024-08-01T00:00:00.000000000",
          "2024-09-01T00:00:00.000000000",
          "2024-10-01T00:00:00.000000000",
          "2024-11-01T00:00:00.000000000",
          "2024-12-01T00:00:00.000000000"
         ],
         "y": {
          "bdata": "Kd3CB0Y4tj+4I0Z3KcWrP2N8g5Uum5A/4AaZ0s3brT+IwXefy4qeP+PDJX9fvrE/8rJhaAQmrT+/2YmALoWQPw0flDlpCJc/y/+Carovqz/RO9thk5uEP0/KJz1mXYo/dLeSeXeAkz9e+csAI7ySPxSEcHlKMoo/2YRWTPJfkj+8BZAHmgWjP+POwB1cVow/ZR79ykCymT99kYU2bpCuP/aEmYeAvKc/Shh62ex4mj8UHB/PxSyHP60nOYnCCH4/",
          "dtype": "f8"
         }
        },
        {
         "mode": "lines+markers",
         "name": "open_acc",
         "type": "scatter",
         "x": [
          "2023-01-01T00:00:00.000000000",
          "2023-02-01T00:00:00.000000000",
          "2023-03-01T00:00:00.000000000",
          "2023-04-01T00:00:00.000000000",
          "2023-05-01T00:00:00.000000000",
          "2023-06-01T00:00:00.000000000",
          "2023-07-01T00:00:00.000000000",
          "2023-08-01T00:00:00.000000000",
          "2023-09-01T00:00:00.000000000",
          "2023-10-01T00:00:00.000000000",
          "2023-11-01T00:00:00.000000000",
          "2023-12-01T00:00:00.000000000",
          "2024-01-01T00:00:00.000000000",
          "2024-02-01T00:00:00.000000000",
          "2024-03-01T00:00:00.000000000",
          "2024-04-01T00:00:00.000000000",
          "2024-05-01T00:00:00.000000000",
          "2024-06-01T00:00:00.000000000",
          "2024-07-01T00:00:00.000000000",
          "2024-08-01T00:00:00.000000000",
          "2024-09-01T00:00:00.000000000",
          "2024-10-01T00:00:00.000000000",
          "2024-11-01T00:00:00.000000000",
          "2024-12-01T00:00:00.000000000"
         ],
         "y": {
          "bdata": "+HDzUXzhpD/xOeBJMB+eP4azgap464M/rD1JrbgQhj/CdPgI1BWSP9C9H/pWHZE/hOC4H/U4nD+0orLkCAuYPzkBsRKojoU/7KSD2HKXmT/CXpby6kiWP4hhLNdVDHs/jESnkq7zcj/+Gc1jtKiFP8Pqavdb3JI/xlvo6rMPkj8QjzjK24aPP7fJ4ZytU5Y/rgsLutUYez8a1TKKSiaOP7C4d4ner5I/sfeX4pbFjD+Qh7l5ArmVP2YHWJSlP3I/",
          "dtype": "f8"
         }
        },
        {
         "mode": "lines+markers",
         "name": "open_acc_6m",
         "type": "scatter",
         "x": [
          "2023-01-01T00:00:00.000000000",
          "2023-02-01T00:00:00.000000000",
          "2023-03-01T00:00:00.000000000",
          "2023-04-01T00:00:00.000000000",
          "2023-05-01T00:00:00.000000000",
          "2023-06-01T00:00:00.000000000",
          "2023-07-01T00:00:00.000000000",
          "2023-08-01T00:00:00.000000000",
          "2023-09-01T00:00:00.000000000",
          "2023-10-01T00:00:00.000000000",
          "2023-11-01T00:00:00.000000000",
          "2023-12-01T00:00:00.000000000",
          "2024-01-01T00:00:00.000000000",
          "2024-02-01T00:00:00.000000000",
          "2024-03-01T00:00:00.000000000",
          "2024-04-01T00:00:00.000000000",
          "2024-05-01T00:00:00.000000000",
          "2024-06-01T00:00:00.000000000",
          "2024-07-01T00:00:00.000000000",
          "2024-08-01T00:00:00.000000000",
          "2024-09-01T00:00:00.000000000",
          "2024-10-01T00:00:00.000000000",
          "2024-11-01T00:00:00.000000000",
          "2024-12-01T00:00:00.000000000"
         ],
         "y": {
          "bdata": "/6jH0+k+sj9jWZYZ8tK0P/pMN4n9aps/FGinjq4DoT/2OZPYNHioPwjDuPngcJw/NjGknvDtij9GHhPOR3CWPxM6tObss4g/RMHtGYQDfD8uIyElCOSaPzP9a0UwpIY/ZBvpoM/hlD9MJMGF3GqhP7s0izeNNYA/rjd8TXYNlj/jpiwAnN6cP8Exzjeix5M/Apg9zbX8lz9fcvtwxdKvPxry+rmRLZY/ltWTlNyZgD/i/BRJGahvP+zSwrdA+50/",
          "dtype": "f8"
         }
        },
        {
         "mode": "lines+markers",
         "name": "open_act_il",
         "type": "scatter",
         "x": [
          "2023-01-01T00:00:00.000000000",
          "2023-02-01T00:00:00.000000000",
          "2023-03-01T00:00:00.000000000",
          "2023-04-01T00:00:00.000000000",
          "2023-05-01T00:00:00.000000000",
          "2023-06-01T00:00:00.000000000",
          "2023-07-01T00:00:00.000000000",
          "2023-08-01T00:00:00.000000000",
          "2023-09-01T00:00:00.000000000",
          "2023-10-01T00:00:00.000000000",
          "2023-11-01T00:00:00.000000000",
          "2023-12-01T00:00:00.000000000",
          "2024-01-01T00:00:00.000000000",
          "2024-02-01T00:00:00.000000000",
          "2024-03-01T00:00:00.000000000",
          "2024-04-01T00:00:00.000000000",
          "2024-05-01T00:00:00.000000000",
          "2024-06-01T00:00:00.000000000",
          "2024-07-01T00:00:00.000000000",
          "2024-08-01T00:00:00.000000000",
          "2024-09-01T00:00:00.000000000",
          "2024-10-01T00:00:00.000000000",
          "2024-11-01T00:00:00.000000000",
          "2024-12-01T00:00:00.000000000"
         ],
         "y": {
          "bdata": "ESPrRjNHqj+u+Sj5FE+QP3CbsQDK640/DPbzY/kHqT+yost1Ray1P+ock0eBcac/BjG1GvDekD8XsGyxkLaJP/qKmHXSRJY/aM1cqOneiD8VPO4ZPjpxP0arChjt354/4YeKl7lymz/N/pDW7kuNPy6LjR9FUoU/KgVuCxD/hT/4cgtQuWZzP66nIMHZlJU/zRtu63lthD8V237UplSaP6iDISNrh40/0S7CDkrCkz9B213WkPalP/P7xxbVDpk/",
          "dtype": "f8"
         }
        },
        {
         "mode": "lines+markers",
         "name": "open_il_12m",
         "type": "scatter",
         "x": [
          "2023-01-01T00:00:00.000000000",
          "2023-02-01T00:00:00.000000000",
          "2023-03-01T00:00:00.000000000",
          "2023-04-01T00:00:00.000000000",
          "2023-05-01T00:00:00.000000000",
          "2023-06-01T00:00:00.000000000",
          "2023-07-01T00:00:00.000000000",
          "2023-08-01T00:00:00.000000000",
          "2023-09-01T00:00:00.000000000",
          "2023-10-01T00:00:00.000000000",
          "2023-11-01T00:00:00.000000000",
          "2023-12-01T00:00:00.000000000",
          "2024-01-01T00:00:00.000000000",
          "2024-02-01T00:00:00.000000000",
          "2024-03-01T00:00:00.000000000",
          "2024-04-01T00:00:00.000000000",
          "2024-05-01T00:00:00.000000000",
          "2024-06-01T00:00:00.000000000",
          "2024-07-01T00:00:00.000000000",
          "2024-08-01T00:00:00.000000000",
          "2024-09-01T00:00:00.000000000",
          "2024-10-01T00:00:00.000000000",
          "2024-11-01T00:00:00.000000000",
          "2024-12-01T00:00:00.000000000"
         ],
         "y": {
          "bdata": "qgVI6CWRwT/63anuJ/vFP+gTwoJEWbE/QQEoeGynpD8qFFeMsG+3P3bRT7yqxqY/Wv9VHnR4fj/MenkqpfyGP0evmZZ334k/d+ZNvazMlD+uhUlb3JuWP1jRcfG7lI8/VoP39HONlj+z0eRmcQiUP3RdlFBOf5c/T/453lO4gj80gjBEU9ekPxbFgRopDJg/G5k6Rh9Spj91gGeu1YmtP3DskKwbUZ4/+nURPKbXmD/JrIRX05mZP3R9HUSHSqA/",
          "dtype": "f8"
         }
        },
        {
         "mode": "lines+markers",
         "name": "open_il_24m",
         "type": "scatter",
         "x": [
          "2023-01-01T00:00:00.000000000",
          "2023-02-01T00:00:00.000000000",
          "2023-03-01T00:00:00.000000000",
          "2023-04-01T00:00:00.000000000",
          "2023-05-01T00:00:00.000000000",
          "2023-06-01T00:00:00.000000000",
          "2023-07-01T00:00:00.000000000",
          "2023-08-01T00:00:00.000000000",
          "2023-09-01T00:00:00.000000000",
          "2023-10-01T00:00:00.000000000",
          "2023-11-01T00:00:00.000000000",
          "2023-12-01T00:00:00.000000000",
          "2024-01-01T00:00:00.000000000",
          "2024-02-01T00:00:00.000000000",
          "2024-03-01T00:00:00.000000000",
          "2024-04-01T00:00:00.000000000",
          "2024-05-01T00:00:00.000000000",
          "2024-06-01T00:00:00.000000000",
          "2024-07-01T00:00:00.000000000",
          "2024-08-01T00:00:00.000000000",
          "2024-09-01T00:00:00.000000000",
          "2024-10-01T00:00:00.000000000",
          "2024-11-01T00:00:00.000000000",
          "2024-12-01T00:00:00.000000000"
         ],
         "y": {
          "bdata": "Y1zP80+C0D96X0DoS0itP+AVGOpbBLM/HaqsNlTRqz/I6X/NuVKHP6HKfZEhko4/YWom9HwXlD9YZDTU3b+aP42if8L7yZg/o9D7Ids1nj/xBss04u6YP1xRQaPIZII/IgNP2+6eiD+VRAcP97mJPw0Jgq2YXJA/kkr00TRonz/LaEG9BXCRP9gJi/xbNZs/+yoe1zbBoT+L8P5jG4igP0Jc22nbA4A/BGaQwWFUlj9lbgaFXdahP80K6tYxX5M/",
          "dtype": "f8"
         }
        },
        {
         "mode": "lines+markers",
         "name": "open_rv_12m",
         "type": "scatter",
         "x": [
          "2023-01-01T00:00:00.000000000",
          "2023-02-01T00:00:00.000000000",
          "2023-03-01T00:00:00.000000000",
          "2023-04-01T00:00:00.000000000",
          "2023-05-01T00:00:00.000000000",
          "2023-06-01T00:00:00.000000000",
          "2023-07-01T00:00:00.000000000",
          "2023-08-01T00:00:00.000000000",
          "2023-09-01T00:00:00.000000000",
          "2023-10-01T00:00:00.000000000",
          "2023-11-01T00:00:00.000000000",
          "2023-12-01T00:00:00.000000000",
          "2024-01-01T00:00:00.000000000",
          "2024-02-01T00:00:00.000000000",
          "2024-03-01T00:00:00.000000000",
          "2024-04-01T00:00:00.000000000",
          "2024-05-01T00:00:00.000000000",
          "2024-06-01T00:00:00.000000000",
          "2024-07-01T00:00:00.000000000",
          "2024-08-01T00:00:00.000000000",
          "2024-09-01T00:00:00.000000000",
          "2024-10-01T00:00:00.000000000",
          "2024-11-01T00:00:00.000000000",
          "2024-12-01T00:00:00.000000000"
         ],
         "y": {
          "bdata": "RMow02Ufuz8VwLd6v+u3P2VnQRtWlpI/n3/3IdM3pT8Cz2wpA6mQP/j3mrfJAZk/IAndNYP0qT+9dlneZtSBP2eq+/2Yno4//47NzHuWjj/fHQKG4mqEP3SS6XWRyIY/NLuQdN88nT+biUyu9UWQP4jCjC0F6YU/T9CVEk0eiz95JCrJTxKYP2pgWVY8yok/nrB/RUR3kD/YHUsTRtqbPyHR6QmIk5Y/sf6Z+d/tlj8HWDh6V02GP/57XAz2OZM/",
          "dtype": "f8"
         }
        },
        {
         "mode": "lines+markers",
         "name": "open_rv_24m",
         "type": "scatter",
         "x": [
          "2023-01-01T00:00:00.000000000",
          "2023-02-01T00:00:00.000000000",
          "2023-03-01T00:00:00.000000000",
          "2023-04-01T00:00:00.000000000",
          "2023-05-01T00:00:00.000000000",
          "2023-06-01T00:00:00.000000000",
          "2023-07-01T00:00:00.000000000",
          "2023-08-01T00:00:00.000000000",
          "2023-09-01T00:00:00.000000000",
          "2023-10-01T00:00:00.000000000",
          "2023-11-01T00:00:00.000000000",
          "2023-12-01T00:00:00.000000000",
          "2024-01-01T00:00:00.000000000",
          "2024-02-01T00:00:00.000000000",
          "2024-03-01T00:00:00.000000000",
          "2024-04-01T00:00:00.000000000",
          "2024-05-01T00:00:00.000000000",
          "2024-06-01T00:00:00.000000000",
          "2024-07-01T00:00:00.000000000",
          "2024-08-01T00:00:00.000000000",
          "2024-09-01T00:00:00.000000000",
          "2024-10-01T00:00:00.000000000",
          "2024-11-01T00:00:00.000000000",
          "2024-12-01T00:00:00.000000000"
         ],
         "y": {
          "bdata": "j+OBPz5yqz/SE9dLvf2ZP25WW1VYVJU/n9YHfMd6gT92lT3Qq/SCPwQ5FzkVV4U/IkoKIp7chj/QsfQFvquSP+G6Pz5hUIo/WgcUV0ahij+lq/FcUySMP1ERiQ01G28/pLErXCbOkT9USxvgAQ2AP5DyGtc9PqI/HGqG20hNhj9nZX9Zk9yWP5inxgfGOYQ/mZRlVMH5hT+oRqmiwbqRP/PjLFA7fI0/WGAo4WwNhD8FjBsImgKIP2DUlWAWVX4/",
          "dtype": "f8"
         }
        },
        {
         "mode": "lines+markers",
         "name": "out_prncp",
         "type": "scatter",
         "x": [
          "2023-01-01T00:00:00.000000000",
          "2023-02-01T00:00:00.000000000",
          "2023-03-01T00:00:00.000000000",
          "2023-04-01T00:00:00.000000000",
          "2023-05-01T00:00:00.000000000",
          "2023-06-01T00:00:00.000000000",
          "2023-07-01T00:00:00.000000000",
          "2023-08-01T00:00:00.000000000",
          "2023-09-01T00:00:00.000000000",
          "2023-10-01T00:00:00.000000000",
          "2023-11-01T00:00:00.000000000",
          "2023-12-01T00:00:00.000000000",
          "2024-01-01T00:00:00.000000000",
          "2024-02-01T00:00:00.000000000",
          "2024-03-01T00:00:00.000000000",
          "2024-04-01T00:00:00.000000000",
          "2024-05-01T00:00:00.000000000",
          "2024-06-01T00:00:00.000000000",
          "2024-07-01T00:00:00.000000000",
          "2024-08-01T00:00:00.000000000",
          "2024-09-01T00:00:00.000000000",
          "2024-10-01T00:00:00.000000000",
          "2024-11-01T00:00:00.000000000",
          "2024-12-01T00:00:00.000000000"
         ],
         "y": {
          "bdata": "JjN/HmODtD/TtgOuxkWpP9arpBp/Y9E/ckT5oEs8sj8UZbMn2SCuPzL4qnjFEqA/05R2twRtoj82oqe8hFOhP9uwuVh3tYU/N+fcGMaGjz9HgN5+jhiUP//xdWhzg40/y5FSRH/lkT9KADNq54eUP17esoDMvp0/4QPMa6Kioj+GLb4MeKOgP/pR6Cjti5w/fKK7oY6Gnz8jAKuKaV2uPyLzRiYRFqo/JlXFqckdsj8Bt0ynsdimP8z2SVkfmq0/",
          "dtype": "f8"
         }
        },
        {
         "mode": "lines+markers",
         "name": "out_prncp_inv",
         "type": "scatter",
         "x": [
          "2023-01-01T00:00:00.000000000",
          "2023-02-01T00:00:00.000000000",
          "2023-03-01T00:00:00.000000000",
          "2023-04-01T00:00:00.000000000",
          "2023-05-01T00:00:00.000000000",
          "2023-06-01T00:00:00.000000000",
          "2023-07-01T00:00:00.000000000",
          "2023-08-01T00:00:00.000000000",
          "2023-09-01T00:00:00.000000000",
          "2023-10-01T00:00:00.000000000",
          "2023-11-01T00:00:00.000000000",
          "2023-12-01T00:00:00.000000000",
          "2024-01-01T00:00:00.000000000",
          "2024-02-01T00:00:00.000000000",
          "2024-03-01T00:00:00.000000000",
          "2024-04-01T00:00:00.000000000",
          "2024-05-01T00:00:00.000000000",
          "2024-06-01T00:00:00.000000000",
          "2024-07-01T00:00:00.000000000",
          "2024-08-01T00:00:00.000000000",
          "2024-09-01T00:00:00.000000000",
          "2024-10-01T00:00:00.000000000",
          "2024-11-01T00:00:00.000000000",
          "2024-12-01T00:00:00.000000000"
         ],
         "y": {
          "bdata": "MSlwAWTgtj/nFG5M5kLjPzJCNz8YDsw/xC9m6f89uz+A48h5QmW3P+IYHrNeKbE/9At5dXRsnD8d5vlUjfGvP0I96sDVGXg/ezctA3xOhT8cybv8IKabPzyxGBVlVoU/RK6Z81Ydjj+GzoV8X8OjP3/i0fjqVKc/4AEXJstipj/TjzHSmzaeP8HPyv291ac/IGY83lERpD+f/XF3oje2P22FkGMEh6o/UStRlEPevz+5CMoVIfW0PwCDp7FuHr8/",
          "dtype": "f8"
         }
        },
        {
         "mode": "lines+markers",
         "name": "pct_tl_nvr_dlq",
         "type": "scatter",
         "x": [
          "2023-01-01T00:00:00.000000000",
          "2023-02-01T00:00:00.000000000",
          "2023-03-01T00:00:00.000000000",
          "2023-04-01T00:00:00.000000000",
          "2023-05-01T00:00:00.000000000",
          "2023-06-01T00:00:00.000000000",
          "2023-07-01T00:00:00.000000000",
          "2023-08-01T00:00:00.000000000",
          "2023-09-01T00:00:00.000000000",
          "2023-10-01T00:00:00.000000000",
          "2023-11-01T00:00:00.000000000",
          "2023-12-01T00:00:00.000000000",
          "2024-01-01T00:00:00.000000000",
          "2024-02-01T00:00:00.000000000",
          "2024-03-01T00:00:00.000000000",
          "2024-04-01T00:00:00.000000000",
          "2024-05-01T00:00:00.000000000",
          "2024-06-01T00:00:00.000000000",
          "2024-07-01T00:00:00.000000000",
          "2024-08-01T00:00:00.000000000",
          "2024-09-01T00:00:00.000000000",
          "2024-10-01T00:00:00.000000000",
          "2024-11-01T00:00:00.000000000",
          "2024-12-01T00:00:00.000000000"
         ],
         "y": {
          "bdata": "rmoRD45Gqz9fUl8VOhuyP3/AURjJpaQ/rAWcAf0YnT/OQXlk/2eRPwFY71BYepU/R32sorC8lj+QShtDxwiKP8YqVhgMj5s/TACX1ApClj8LiR1drWeCP2viYsUMkZg/rr+UmYwJoj+njgKmTc2YP9aFLbX7XJA/ORGRJyiakj9/8VDS0mWPPyNgkc0Ew6Q/eoNyyAGOmj9nHizR6kGWP5IaItzpDZ8/quiNB8BImD8ByXa6SvezPyY+xRIoJJY/",
          "dtype": "f8"
         }
        },
        {
         "mode": "lines+markers",
         "name": "percent_bc_gt_75",
         "type": "scatter",
         "x": [
          "2023-01-01T00:00:00.000000000",
          "2023-02-01T00:00:00.000000000",
          "2023-03-01T00:00:00.000000000",
          "2023-04-01T00:00:00.000000000",
          "2023-05-01T00:00:00.000000000",
          "2023-06-01T00:00:00.000000000",
          "2023-07-01T00:00:00.000000000",
          "2023-08-01T00:00:00.000000000",
          "2023-09-01T00:00:00.000000000",
          "2023-10-01T00:00:00.000000000",
          "2023-11-01T00:00:00.000000000",
          "2023-12-01T00:00:00.000000000",
          "2024-01-01T00:00:00.000000000",
          "2024-02-01T00:00:00.000000000",
          "2024-03-01T00:00:00.000000000",
          "2024-04-01T00:00:00.000000000",
          "2024-05-01T00:00:00.000000000",
          "2024-06-01T00:00:00.000000000",
          "2024-07-01T00:00:00.000000000",
          "2024-08-01T00:00:00.000000000",
          "2024-09-01T00:00:00.000000000",
          "2024-10-01T00:00:00.000000000",
          "2024-11-01T00:00:00.000000000",
          "2024-12-01T00:00:00.000000000"
         ],
         "y": {
          "bdata": "PpIgTGFlsj9o+NaDX0C7P7qnd3FuWcA/ma+6q5NZxz+/2Yl1gGa5P0nouMIRpbA/doEZPuoasT/J2AOMSzSqPwtKcR3ek5k/JWIgGEECoz/1uXQtoWqVP8rut4X4V50/gybqAlWjpj8iMeWxiG+fPyUSNnBKBJg//zoEaE/Kmj/3rEUhnTuTPz+RK2zc+KA/NEDhdkPZqj8CCVJ/oOKSP/6mgbSNSKY/OKlgXo79sz/CcMUWMUu1P7d2CH+vnsA/",
          "dtype": "f8"
         }
        },
        {
         "mode": "lines+markers",
         "name": "policy_code",
         "type": "scatter",
         "x": [
          "2023-01-01T00:00:00.000000000",
          "2023-02-01T00:00:00.000000000",
          "2023-03-01T00:00:00.000000000",
          "2023-04-01T00:00:00.000000000",
          "2023-05-01T00:00:00.000000000",
          "2023-06-01T00:00:00.000000000",
          "2023-07-01T00:00:00.000000000",
          "2023-08-01T00:00:00.000000000",
          "2023-09-01T00:00:00.000000000",
          "2023-10-01T00:00:00.000000000",
          "2023-11-01T00:00:00.000000000",
          "2023-12-01T00:00:00.000000000",
          "2024-01-01T00:00:00.000000000",
          "2024-02-01T00:00:00.000000000",
          "2024-03-01T00:00:00.000000000",
          "2024-04-01T00:00:00.000000000",
          "2024-05-01T00:00:00.000000000",
          "2024-06-01T00:00:00.000000000",
          "2024-07-01T00:00:00.000000000",
          "2024-08-01T00:00:00.000000000",
          "2024-09-01T00:00:00.000000000",
          "2024-10-01T00:00:00.000000000",
          "2024-11-01T00:00:00.000000000",
          "2024-12-01T00:00:00.000000000"
         ],
         "y": {
          "bdata": "AAAAAAAAAAAAAAAAAAAAAAAAAAAAAAAAAAAAAAAAAAAAAAAAAAAAAAAAAAAAAAAAAAAAAAAAAAAAAAAAAAAAAAAAAAAAAAAAAAAAAAAAAAAAAAAAAAAAAAAAAAAAAAAAAAAAAAAAAAAAAAAAAAAAAAAAAAAAAAAAAAAAAAAAAAAAAAAAAAAAAAAAAAAAAAAAAAAAAAAAAAAAAAAAAAAAAAAAAAAAAAAAAAAAAAAAAAAAAAAAAAAAAAAAAAAAAAAA",
          "dtype": "f8"
         }
        },
        {
         "mode": "lines+markers",
         "name": "pub_rec",
         "type": "scatter",
         "x": [
          "2023-01-01T00:00:00.000000000",
          "2023-02-01T00:00:00.000000000",
          "2023-03-01T00:00:00.000000000",
          "2023-04-01T00:00:00.000000000",
          "2023-05-01T00:00:00.000000000",
          "2023-06-01T00:00:00.000000000",
          "2023-07-01T00:00:00.000000000",
          "2023-08-01T00:00:00.000000000",
          "2023-09-01T00:00:00.000000000",
          "2023-10-01T00:00:00.000000000",
          "2023-11-01T00:00:00.000000000",
          "2023-12-01T00:00:00.000000000",
          "2024-01-01T00:00:00.000000000",
          "2024-02-01T00:00:00.000000000",
          "2024-03-01T00:00:00.000000000",
          "2024-04-01T00:00:00.000000000",
          "2024-05-01T00:00:00.000000000",
          "2024-06-01T00:00:00.000000000",
          "2024-07-01T00:00:00.000000000",
          "2024-08-01T00:00:00.000000000",
          "2024-09-01T00:00:00.000000000",
          "2024-10-01T00:00:00.000000000",
          "2024-11-01T00:00:00.000000000",
          "2024-12-01T00:00:00.000000000"
         ],
         "y": {
          "bdata": "y5ndJqLMkD9cChxuCT5wP5T9l7mg/5Q/MWnhmIVFwT8ZVvtw8Q3DP9QFu6MErMI/Sd0E9C6wnT/C4N6gNunAP+TtHxBcR6g/IkbG/pLSgj8gp5v+TpF/PxP5qb1JOp0/Azyd/BAQnD80G8LLRWZwP/paQcJGTXE/VBXWtGsKVD8VbiV3qp5+P28QRV+3oaY/GCK7DYkSlT9hUCsDWLCTP63Be3qEeaE/4qSihUt9qj8Vnr30R0iwP8l158pK3aU/",
          "dtype": "f8"
         }
        },
        {
         "mode": "lines+markers",
         "name": "pub_rec_bankruptcies",
         "type": "scatter",
         "x": [
          "2023-01-01T00:00:00.000000000",
          "2023-02-01T00:00:00.000000000",
          "2023-03-01T00:00:00.000000000",
          "2023-04-01T00:00:00.000000000",
          "2023-05-01T00:00:00.000000000",
          "2023-06-01T00:00:00.000000000",
          "2023-07-01T00:00:00.000000000",
          "2023-08-01T00:00:00.000000000",
          "2023-09-01T00:00:00.000000000",
          "2023-10-01T00:00:00.000000000",
          "2023-11-01T00:00:00.000000000",
          "2023-12-01T00:00:00.000000000",
          "2024-01-01T00:00:00.000000000",
          "2024-02-01T00:00:00.000000000",
          "2024-03-01T00:00:00.000000000",
          "2024-04-01T00:00:00.000000000",
          "2024-05-01T00:00:00.000000000",
          "2024-06-01T00:00:00.000000000",
          "2024-07-01T00:00:00.000000000",
          "2024-08-01T00:00:00.000000000",
          "2024-09-01T00:00:00.000000000",
          "2024-10-01T00:00:00.000000000",
          "2024-11-01T00:00:00.000000000",
          "2024-12-01T00:00:00.000000000"
         ],
         "y": {
          "bdata": "AETcAVm6wD/KvPZNIzvTP1iL3IR2f7k/cN4cUujVqT8MMAliyfCjP1NH3hAkPow/TAhhWTGnQT/LAGGRGPhpP1ZLwdDZ64o/+soo4dEUjz/azmZfB592P/8I/t5JhZg/ljiGF+1UpT8wGxM87cKaP1EJXbaSd4w/AzC4nGP/qj9Bu45JGSOwP+StOaiu7aw/NT3S2GHOoj8OSel1QIOiP+I9h7bUqZo/RhSFd36aqz9LcxgADsCYP56nUie906c/",
          "dtype": "f8"
         }
        },
        {
         "mode": "lines+markers",
         "name": "recoveries",
         "type": "scatter",
         "x": [
          "2023-01-01T00:00:00.000000000",
          "2023-02-01T00:00:00.000000000",
          "2023-03-01T00:00:00.000000000",
          "2023-04-01T00:00:00.000000000",
          "2023-05-01T00:00:00.000000000",
          "2023-06-01T00:00:00.000000000",
          "2023-07-01T00:00:00.000000000",
          "2023-08-01T00:00:00.000000000",
          "2023-09-01T00:00:00.000000000",
          "2023-10-01T00:00:00.000000000",
          "2023-11-01T00:00:00.000000000",
          "2023-12-01T00:00:00.000000000",
          "2024-01-01T00:00:00.000000000",
          "2024-02-01T00:00:00.000000000",
          "2024-03-01T00:00:00.000000000",
          "2024-04-01T00:00:00.000000000",
          "2024-05-01T00:00:00.000000000",
          "2024-06-01T00:00:00.000000000",
          "2024-07-01T00:00:00.000000000",
          "2024-08-01T00:00:00.000000000",
          "2024-09-01T00:00:00.000000000",
          "2024-10-01T00:00:00.000000000",
          "2024-11-01T00:00:00.000000000",
          "2024-12-01T00:00:00.000000000"
         ],
         "y": {
          "bdata": "nHwQbYPdeT/OEb9kZhaeP7Ro7Ueg9Y8/aPDqQabVgD98zG/4UHCVP9IKL1fzUYU/8RdC0SjSgD/OBqDOE9yCP8rmhQoHIHA/ghXbjN9KlT+hRRabBAmIP3qaSA/9WIU/27tjMJc8gD824/y+VvR9PxAapXD1/I8/Ok42HI2pfz+Q5RUwPUSTP/vq0i6yDZU/NKx4jGiccD+MksW5KBt1P9ylpiCwTH0/stI1NGaRiD8IZ89uTRuMPxaRZWkkMXk/",
          "dtype": "f8"
         }
        },
        {
         "mode": "lines+markers",
         "name": "revol_bal",
         "type": "scatter",
         "x": [
          "2023-01-01T00:00:00.000000000",
          "2023-02-01T00:00:00.000000000",
          "2023-03-01T00:00:00.000000000",
          "2023-04-01T00:00:00.000000000",
          "2023-05-01T00:00:00.000000000",
          "2023-06-01T00:00:00.000000000",
          "2023-07-01T00:00:00.000000000",
          "2023-08-01T00:00:00.000000000",
          "2023-09-01T00:00:00.000000000",
          "2023-10-01T00:00:00.000000000",
          "2023-11-01T00:00:00.000000000",
          "2023-12-01T00:00:00.000000000",
          "2024-01-01T00:00:00.000000000",
          "2024-02-01T00:00:00.000000000",
          "2024-03-01T00:00:00.000000000",
          "2024-04-01T00:00:00.000000000",
          "2024-05-01T00:00:00.000000000",
          "2024-06-01T00:00:00.000000000",
          "2024-07-01T00:00:00.000000000",
          "2024-08-01T00:00:00.000000000",
          "2024-09-01T00:00:00.000000000",
          "2024-10-01T00:00:00.000000000",
          "2024-11-01T00:00:00.000000000",
          "2024-12-01T00:00:00.000000000"
         ],
         "y": {
          "bdata": "MhG9Yu0bbz+dB6gJPUKCP7pZrol8rIE/BxZP1snwgz9MWoGGYsmMP2EFIpK4I5A/UCmBcxqxkj/JshBfmM1aP99QPFyOd1s/Rmh09nQhkD+UCRQjutZyP6+g2Ig1aog/orRrcI3/gz9dz1evZLOXP1FzNYrHZ5w/1a69XJnQcj8ukCfwRreTP3JOn1by85I/f3bob63Oez98cDbAe7+HP+yXfAVAwYA/StjWh3VLlT/AtgNBrX+GP0wQHOBbBnQ/",
          "dtype": "f8"
         }
        },
        {
         "mode": "lines+markers",
         "name": "revol_util",
         "type": "scatter",
         "x": [
          "2023-01-01T00:00:00.000000000",
          "2023-02-01T00:00:00.000000000",
          "2023-03-01T00:00:00.000000000",
          "2023-04-01T00:00:00.000000000",
          "2023-05-01T00:00:00.000000000",
          "2023-06-01T00:00:00.000000000",
          "2023-07-01T00:00:00.000000000",
          "2023-08-01T00:00:00.000000000",
          "2023-09-01T00:00:00.000000000",
          "2023-10-01T00:00:00.000000000",
          "2023-11-01T00:00:00.000000000",
          "2023-12-01T00:00:00.000000000",
          "2024-01-01T00:00:00.000000000",
          "2024-02-01T00:00:00.000000000",
          "2024-03-01T00:00:00.000000000",
          "2024-04-01T00:00:00.000000000",
          "2024-05-01T00:00:00.000000000",
          "2024-06-01T00:00:00.000000000",
          "2024-07-01T00:00:00.000000000",
          "2024-08-01T00:00:00.000000000",
          "2024-09-01T00:00:00.000000000",
          "2024-10-01T00:00:00.000000000",
          "2024-11-01T00:00:00.000000000",
          "2024-12-01T00:00:00.000000000"
         ],
         "y": {
          "bdata": "5qVfMhBYpD/bB0SHqIyyPznt0JfFEZs/ILbLXJlWlz/QK0y9iL2WP4PBAWVtOp8/6XK86zQlmD8d71la+2eSP6uraXXRKJs/M6OAzk/yoj9NrFK1Mz2aPw70e4K9zJE/JcRg7Dv3pT/RcB5f7M+TPwNrOhZ2044/JzQP6E/3cT8vk1ONAoyZPy+rnR2ODZc/KjQhXHokkD+MLSXZ7ouBP8hQtCiWKpI/JBMoGn+pkD+3ABSCUauUP2M3qBfXKpY/",
          "dtype": "f8"
         }
        },
        {
         "mode": "lines+markers",
         "name": "safra",
         "type": "scatter",
         "x": [
          "2023-01-01T00:00:00.000000000",
          "2023-02-01T00:00:00.000000000",
          "2023-03-01T00:00:00.000000000",
          "2023-04-01T00:00:00.000000000",
          "2023-05-01T00:00:00.000000000",
          "2023-06-01T00:00:00.000000000",
          "2023-07-01T00:00:00.000000000",
          "2023-08-01T00:00:00.000000000",
          "2023-09-01T00:00:00.000000000",
          "2023-10-01T00:00:00.000000000",
          "2023-11-01T00:00:00.000000000",
          "2023-12-01T00:00:00.000000000",
          "2024-01-01T00:00:00.000000000",
          "2024-02-01T00:00:00.000000000",
          "2024-03-01T00:00:00.000000000",
          "2024-04-01T00:00:00.000000000",
          "2024-05-01T00:00:00.000000000",
          "2024-06-01T00:00:00.000000000",
          "2024-07-01T00:00:00.000000000",
          "2024-08-01T00:00:00.000000000",
          "2024-09-01T00:00:00.000000000",
          "2024-10-01T00:00:00.000000000",
          "2024-11-01T00:00:00.000000000",
          "2024-12-01T00:00:00.000000000"
         ],
         "y": {
          "bdata": "Z2Tb/hYF1j9nZNv+FgXWP2dk2/4WBdY/Z2Tb/hYF1j9nZNv+FgXWP2dk2/4WBdY/Z2Tb/hYF1j9nZNv+FgXWP2dk2/4WBdY/Z2Tb/hYF1j9nZNv+FgXWP2dk2/4WBdY/Qrd8uaZX1j9Ct3y5plfWP0K3fLmmV9Y/Qrd8uaZX1j9Ct3y5plfWP0K3fLmmV9Y/Qrd8uaZX1j9Ct3y5plfWP0K3fLmmV9Y/Qrd8uaZX1j9Ct3y5plfWP0K3fLmmV9Y/",
          "dtype": "f8"
         }
        },
        {
         "mode": "lines+markers",
         "name": "tax_liens",
         "type": "scatter",
         "x": [
          "2023-01-01T00:00:00.000000000",
          "2023-02-01T00:00:00.000000000",
          "2023-03-01T00:00:00.000000000",
          "2023-04-01T00:00:00.000000000",
          "2023-05-01T00:00:00.000000000",
          "2023-06-01T00:00:00.000000000",
          "2023-07-01T00:00:00.000000000",
          "2023-08-01T00:00:00.000000000",
          "2023-09-01T00:00:00.000000000",
          "2023-10-01T00:00:00.000000000",
          "2023-11-01T00:00:00.000000000",
          "2023-12-01T00:00:00.000000000",
          "2024-01-01T00:00:00.000000000",
          "2024-02-01T00:00:00.000000000",
          "2024-03-01T00:00:00.000000000",
          "2024-04-01T00:00:00.000000000",
          "2024-05-01T00:00:00.000000000",
          "2024-06-01T00:00:00.000000000",
          "2024-07-01T00:00:00.000000000",
          "2024-08-01T00:00:00.000000000",
          "2024-09-01T00:00:00.000000000",
          "2024-10-01T00:00:00.000000000",
          "2024-11-01T00:00:00.000000000",
          "2024-12-01T00:00:00.000000000"
         ],
         "y": {
          "bdata": "HoAz/nw9gT+kG1eUthpyP3fKVVlkb5A/8VU1Z6GdZD9Z2MmQpqGbP9uUYSLdUGQ/UjopryIGdT/bNYF3Ijh0PxsqSyyfsU0/MjG38NiDhj9zIzbtHzGlP/Bq/9JZpYE/CkouFEgMeD+cwkbYzvduP8X5yvqDC08/X2Df8V+XBj/Uxiczf6NkPyyk3Jn4sXE/ah9+3xSUiD8NoLgZEVZ0P7rG2yca6JQ/HFb1ZR/gbz9qqFuoALyOP0xdSa6IWGo/",
          "dtype": "f8"
         }
        },
        {
         "mode": "lines+markers",
         "name": "tot_coll_amt",
         "type": "scatter",
         "x": [
          "2023-01-01T00:00:00.000000000",
          "2023-02-01T00:00:00.000000000",
          "2023-03-01T00:00:00.000000000",
          "2023-04-01T00:00:00.000000000",
          "2023-05-01T00:00:00.000000000",
          "2023-06-01T00:00:00.000000000",
          "2023-07-01T00:00:00.000000000",
          "2023-08-01T00:00:00.000000000",
          "2023-09-01T00:00:00.000000000",
          "2023-10-01T00:00:00.000000000",
          "2023-11-01T00:00:00.000000000",
          "2023-12-01T00:00:00.000000000",
          "2024-01-01T00:00:00.000000000",
          "2024-02-01T00:00:00.000000000",
          "2024-03-01T00:00:00.000000000",
          "2024-04-01T00:00:00.000000000",
          "2024-05-01T00:00:00.000000000",
          "2024-06-01T00:00:00.000000000",
          "2024-07-01T00:00:00.000000000",
          "2024-08-01T00:00:00.000000000",
          "2024-09-01T00:00:00.000000000",
          "2024-10-01T00:00:00.000000000",
          "2024-11-01T00:00:00.000000000",
          "2024-12-01T00:00:00.000000000"
         ],
         "y": {
          "bdata": "+DIwIRdFsz74MjAhF0WzPvgyMCEXRbM++DIwIRdFsz74MjAhF0WzPvgyMCEXRbM+cgWa9aG+ZD/4MjAhF0WzPoKRlmJV62U/DPtBBmgeaD/4MjAhF0WzPvgyMCEXRbM++DIwIRdFsz5fre72PZtiP/gyMCEXRbM++DIwIRdFsz74MjAhF0WzPvgyMCEXRbM++DIwIRdFsz74MjAhF0WzPjFryEQaaGU/+DIwIRdFsz7RKAafkedhP/gyMCEXRbM+",
          "dtype": "f8"
         }
        },
        {
         "mode": "lines+markers",
         "name": "tot_cur_bal",
         "type": "scatter",
         "x": [
          "2023-01-01T00:00:00.000000000",
          "2023-02-01T00:00:00.000000000",
          "2023-03-01T00:00:00.000000000",
          "2023-04-01T00:00:00.000000000",
          "2023-05-01T00:00:00.000000000",
          "2023-06-01T00:00:00.000000000",
          "2023-07-01T00:00:00.000000000",
          "2023-08-01T00:00:00.000000000",
          "2023-09-01T00:00:00.000000000",
          "2023-10-01T00:00:00.000000000",
          "2023-11-01T00:00:00.000000000",
          "2023-12-01T00:00:00.000000000",
          "2024-01-01T00:00:00.000000000",
          "2024-02-01T00:00:00.000000000",
          "2024-03-01T00:00:00.000000000",
          "2024-04-01T00:00:00.000000000",
          "2024-05-01T00:00:00.000000000",
          "2024-06-01T00:00:00.000000000",
          "2024-07-01T00:00:00.000000000",
          "2024-08-01T00:00:00.000000000",
          "2024-09-01T00:00:00.000000000",
          "2024-10-01T00:00:00.000000000",
          "2024-11-01T00:00:00.000000000",
          "2024-12-01T00:00:00.000000000"
         ],
         "y": {
          "bdata": "yBYkDxgujz8KpFx/6qCgP5juBZEg430/QBw1ifxwgj/ClMg2Wkd7Pzywgw5KRYM/6D/q0J3ddT8qKR71O5qSP5GyuCk8y3M/LO3FedGYiT/6Jye71XeJPxlTSdpC7X0/PMT7Bvw9qD8G5vNisoKCP8qxeMlKX34/l/l4Mo4hiD95btKRuf2bP5eJbu13l5M/H5b2z2OIjz8z6IWeeNNgP2yt8XFsSZw/T90JPj70kD8Y+2rm5RSJP/McSQPZu4s/",
          "dtype": "f8"
         }
        },
        {
         "mode": "lines+markers",
         "name": "tot_hi_cred_lim",
         "type": "scatter",
         "x": [
          "2023-01-01T00:00:00.000000000",
          "2023-02-01T00:00:00.000000000",
          "2023-03-01T00:00:00.000000000",
          "2023-04-01T00:00:00.000000000",
          "2023-05-01T00:00:00.000000000",
          "2023-06-01T00:00:00.000000000",
          "2023-07-01T00:00:00.000000000",
          "2023-08-01T00:00:00.000000000",
          "2023-09-01T00:00:00.000000000",
          "2023-10-01T00:00:00.000000000",
          "2023-11-01T00:00:00.000000000",
          "2023-12-01T00:00:00.000000000",
          "2024-01-01T00:00:00.000000000",
          "2024-02-01T00:00:00.000000000",
          "2024-03-01T00:00:00.000000000",
          "2024-04-01T00:00:00.000000000",
          "2024-05-01T00:00:00.000000000",
          "2024-06-01T00:00:00.000000000",
          "2024-07-01T00:00:00.000000000",
          "2024-08-01T00:00:00.000000000",
          "2024-09-01T00:00:00.000000000",
          "2024-10-01T00:00:00.000000000",
          "2024-11-01T00:00:00.000000000",
          "2024-12-01T00:00:00.000000000"
         ],
         "y": {
          "bdata": "zTI+vVMThT86U/y0KhWGPwgQtUvr/nw/vniLVa4fZj+T4eTU415tP6TkQzFBw4c/8FTPwIdphj9aQ4I8K6yRP/nyblI+rWQ/hYnVN/YAmz/WZT7CFFqKPwKKLkv2M4o/AngtsOJPkz874A1z78yVP4VMKu8kVng/KDouhQmNez+aXmNev9OBP3TaeqaT9Ic/IGZW3FUQlj94w+QyQvyEP91Psypp4oo/tARB6pO1hD/AvkF1mZqRP4q9JZVZgIc/",
          "dtype": "f8"
         }
        },
        {
         "mode": "lines+markers",
         "name": "total_acc",
         "type": "scatter",
         "x": [
          "2023-01-01T00:00:00.000000000",
          "2023-02-01T00:00:00.000000000",
          "2023-03-01T00:00:00.000000000",
          "2023-04-01T00:00:00.000000000",
          "2023-05-01T00:00:00.000000000",
          "2023-06-01T00:00:00.000000000",
          "2023-07-01T00:00:00.000000000",
          "2023-08-01T00:00:00.000000000",
          "2023-09-01T00:00:00.000000000",
          "2023-10-01T00:00:00.000000000",
          "2023-11-01T00:00:00.000000000",
          "2023-12-01T00:00:00.000000000",
          "2024-01-01T00:00:00.000000000",
          "2024-02-01T00:00:00.000000000",
          "2024-03-01T00:00:00.000000000",
          "2024-04-01T00:00:00.000000000",
          "2024-05-01T00:00:00.000000000",
          "2024-06-01T00:00:00.000000000",
          "2024-07-01T00:00:00.000000000",
          "2024-08-01T00:00:00.000000000",
          "2024-09-01T00:00:00.000000000",
          "2024-10-01T00:00:00.000000000",
          "2024-11-01T00:00:00.000000000",
          "2024-12-01T00:00:00.000000000"
         ],
         "y": {
          "bdata": "fpEJ6oSojz96ENL/f5KFP1Kl5nxLopE//EBfV2Vyhz8tqt1ItJGLP5cfhDHyX5Y/1sPu29MnhD94P3t+NLl3P2Ctf/52f4k/sC0f+0UblD9lHS5Bh46jP7ejzdnXmJk/gBpx+oiefD+8sMDM8zN5P/YOn/v9eYQ/tyg3ThwwlT88vgrlVc2dP0aDaBUg1p4/EhvVXkcMjD8/572cxMiQP32tcepPtqA/PITNMPlLiz9ponRudDeLP7F87ZGNh50/",
          "dtype": "f8"
         }
        },
        {
         "mode": "lines+markers",
         "name": "total_bal_ex_mort",
         "type": "scatter",
         "x": [
          "2023-01-01T00:00:00.000000000",
          "2023-02-01T00:00:00.000000000",
          "2023-03-01T00:00:00.000000000",
          "2023-04-01T00:00:00.000000000",
          "2023-05-01T00:00:00.000000000",
          "2023-06-01T00:00:00.000000000",
          "2023-07-01T00:00:00.000000000",
          "2023-08-01T00:00:00.000000000",
          "2023-09-01T00:00:00.000000000",
          "2023-10-01T00:00:00.000000000",
          "2023-11-01T00:00:00.000000000",
          "2023-12-01T00:00:00.000000000",
          "2024-01-01T00:00:00.000000000",
          "2024-02-01T00:00:00.000000000",
          "2024-03-01T00:00:00.000000000",
          "2024-04-01T00:00:00.000000000",
          "2024-05-01T00:00:00.000000000",
          "2024-06-01T00:00:00.000000000",
          "2024-07-01T00:00:00.000000000",
          "2024-08-01T00:00:00.000000000",
          "2024-09-01T00:00:00.000000000",
          "2024-10-01T00:00:00.000000000",
          "2024-11-01T00:00:00.000000000",
          "2024-12-01T00:00:00.000000000"
         ],
         "y": {
          "bdata": "fUtPgQJffj/3Q2xBwc90P79QcpuAUJc/WkzaobHXhz8Y6PbtMrCNPx6y96f2LIc/8PD3rdNHij9f8McRP2aPP4y6N5ISJpU/RsviTfdtiz8bBZ0UrAqCP09F1mFM4nw/lljSAqIkgz/a9xuWx3OQPzaCW4wclos/KGnw84v3hT+7slW2LE6HP2ZXdoqv7p0/t+UjnurZgD+1R8SXmRCMP7KMuNALwX8/5LF2J8q6kT9eFHIeKoeBP4gVwVDbt5Q/",
          "dtype": "f8"
         }
        },
        {
         "mode": "lines+markers",
         "name": "total_bal_il",
         "type": "scatter",
         "x": [
          "2023-01-01T00:00:00.000000000",
          "2023-02-01T00:00:00.000000000",
          "2023-03-01T00:00:00.000000000",
          "2023-04-01T00:00:00.000000000",
          "2023-05-01T00:00:00.000000000",
          "2023-06-01T00:00:00.000000000",
          "2023-07-01T00:00:00.000000000",
          "2023-08-01T00:00:00.000000000",
          "2023-09-01T00:00:00.000000000",
          "2023-10-01T00:00:00.000000000",
          "2023-11-01T00:00:00.000000000",
          "2023-12-01T00:00:00.000000000",
          "2024-01-01T00:00:00.000000000",
          "2024-02-01T00:00:00.000000000",
          "2024-03-01T00:00:00.000000000",
          "2024-04-01T00:00:00.000000000",
          "2024-05-01T00:00:00.000000000",
          "2024-06-01T00:00:00.000000000",
          "2024-07-01T00:00:00.000000000",
          "2024-08-01T00:00:00.000000000",
          "2024-09-01T00:00:00.000000000",
          "2024-10-01T00:00:00.000000000",
          "2024-11-01T00:00:00.000000000",
          "2024-12-01T00:00:00.000000000"
         ],
         "y": {
          "bdata": "I04OrC/pjz/vt/n0X2+BP1CjbYP6O5o/4fL8skiRlz/pVFrEAEGSP/C2s4q56IA/NvZJ+cQsgT+3lKQwwvFwP8o2cugAgY4/A3NIqt33lT+ApH5z9PuGPwgZQyls1pE/AN9uCgIphz8E0nT9mxqTPykOf+1fqIM/Do2xtX8kjz+j8gzpC3SHP9d8wSt4P5o/BXAINNHhlj/J+fSexkmKP99TpEFU1Kc/wrrydXOQhz9roqxAmWuGP4K+yfpGOIY/",
          "dtype": "f8"
         }
        },
        {
         "mode": "lines+markers",
         "name": "total_bc_limit",
         "type": "scatter",
         "x": [
          "2023-01-01T00:00:00.000000000",
          "2023-02-01T00:00:00.000000000",
          "2023-03-01T00:00:00.000000000",
          "2023-04-01T00:00:00.000000000",
          "2023-05-01T00:00:00.000000000",
          "2023-06-01T00:00:00.000000000",
          "2023-07-01T00:00:00.000000000",
          "2023-08-01T00:00:00.000000000",
          "2023-09-01T00:00:00.000000000",
          "2023-10-01T00:00:00.000000000",
          "2023-11-01T00:00:00.000000000",
          "2023-12-01T00:00:00.000000000",
          "2024-01-01T00:00:00.000000000",
          "2024-02-01T00:00:00.000000000",
          "2024-03-01T00:00:00.000000000",
          "2024-04-01T00:00:00.000000000",
          "2024-05-01T00:00:00.000000000",
          "2024-06-01T00:00:00.000000000",
          "2024-07-01T00:00:00.000000000",
          "2024-08-01T00:00:00.000000000",
          "2024-09-01T00:00:00.000000000",
          "2024-10-01T00:00:00.000000000",
          "2024-11-01T00:00:00.000000000",
          "2024-12-01T00:00:00.000000000"
         ],
         "y": {
          "bdata": "nN+4feS4kj/AtW/isJCVP45Z8fZjNaI/k1R4KQpdkD/m19Szuv2DP8Vdcd9+Po8/GLHyFnVGkD/NH1/smepwP87h3ZDz7pM/Vh0GfuyIkD8kwWE+JlaAP7wmiQFV9IU/NFQuAemAjT9vCHEnHkCSP6N4bCs8nYw/2D7Z+9mTdj9xASFHUHx0PwsOZpEIf5A/fzja4XNikT+Qapwmh/dyP+B/ZWClWIA/aK7HatvvnT8/gfiCXzeOP7pGrYSmqYM/",
          "dtype": "f8"
         }
        },
        {
         "mode": "lines+markers",
         "name": "total_cu_tl",
         "type": "scatter",
         "x": [
          "2023-01-01T00:00:00.000000000",
          "2023-02-01T00:00:00.000000000",
          "2023-03-01T00:00:00.000000000",
          "2023-04-01T00:00:00.000000000",
          "2023-05-01T00:00:00.000000000",
          "2023-06-01T00:00:00.000000000",
          "2023-07-01T00:00:00.000000000",
          "2023-08-01T00:00:00.000000000",
          "2023-09-01T00:00:00.000000000",
          "2023-10-01T00:00:00.000000000",
          "2023-11-01T00:00:00.000000000",
          "2023-12-01T00:00:00.000000000",
          "2024-01-01T00:00:00.000000000",
          "2024-02-01T00:00:00.000000000",
          "2024-03-01T00:00:00.000000000",
          "2024-04-01T00:00:00.000000000",
          "2024-05-01T00:00:00.000000000",
          "2024-06-01T00:00:00.000000000",
          "2024-07-01T00:00:00.000000000",
          "2024-08-01T00:00:00.000000000",
          "2024-09-01T00:00:00.000000000",
          "2024-10-01T00:00:00.000000000",
          "2024-11-01T00:00:00.000000000",
          "2024-12-01T00:00:00.000000000"
         ],
         "y": {
          "bdata": "d/lQZZVryT8al33tDDCeP8Uneqiw0ok/yX7N0p6Coz9cVm/7xOadP2zrxwItwZA/N1KsEWRpnz8d2yC8ZcWQP0c6rnRLNH0/3N+eUkc0nj/vKIZaVKmWPwJJC31xoHs/a03wKfhljD9vspLyAT+XPyV4vLazipw/5s301FZZoz/sH83cEmqWP0fCXvgmfYs/nFNQOdMyjD87zddAoqaOPzZWqKglnZQ/ZnGeJoTfkT86LuNyQUWVP+yd/p4lFHw/",
          "dtype": "f8"
         }
        },
        {
         "mode": "lines+markers",
         "name": "total_il_high_credit_limit",
         "type": "scatter",
         "x": [
          "2023-01-01T00:00:00.000000000",
          "2023-02-01T00:00:00.000000000",
          "2023-03-01T00:00:00.000000000",
          "2023-04-01T00:00:00.000000000",
          "2023-05-01T00:00:00.000000000",
          "2023-06-01T00:00:00.000000000",
          "2023-07-01T00:00:00.000000000",
          "2023-08-01T00:00:00.000000000",
          "2023-09-01T00:00:00.000000000",
          "2023-10-01T00:00:00.000000000",
          "2023-11-01T00:00:00.000000000",
          "2023-12-01T00:00:00.000000000",
          "2024-01-01T00:00:00.000000000",
          "2024-02-01T00:00:00.000000000",
          "2024-03-01T00:00:00.000000000",
          "2024-04-01T00:00:00.000000000",
          "2024-05-01T00:00:00.000000000",
          "2024-06-01T00:00:00.000000000",
          "2024-07-01T00:00:00.000000000",
          "2024-08-01T00:00:00.000000000",
          "2024-09-01T00:00:00.000000000",
          "2024-10-01T00:00:00.000000000",
          "2024-11-01T00:00:00.000000000",
          "2024-12-01T00:00:00.000000000"
         ],
         "y": {
          "bdata": "t56MwyuvfD/83y3E6kybPxOMGMuH1pM/8Aya7Y1soz8I84CUhRGQP+b/mFRUKoI/IIW08cpgcD/faQ3bDDWIP+y7rm+36oU/qnxmlqexjz9kY8HQgnhpP0lNbrJf+I4/5wgwCaMQfj9C0Hpz2719Pxwk0NTA8ok/GbeHy2wyjD+hsWGwpfGWP3ReeFJ155g/StUU4j+2ij+QzFUR5TuXP6TLtx+TlHc/OJoxqPjYhT+t7hBGZlWDPwzeOFAu6IU/",
          "dtype": "f8"
         }
        },
        {
         "mode": "lines+markers",
         "name": "total_pymnt",
         "type": "scatter",
         "x": [
          "2023-01-01T00:00:00.000000000",
          "2023-02-01T00:00:00.000000000",
          "2023-03-01T00:00:00.000000000",
          "2023-04-01T00:00:00.000000000",
          "2023-05-01T00:00:00.000000000",
          "2023-06-01T00:00:00.000000000",
          "2023-07-01T00:00:00.000000000",
          "2023-08-01T00:00:00.000000000",
          "2023-09-01T00:00:00.000000000",
          "2023-10-01T00:00:00.000000000",
          "2023-11-01T00:00:00.000000000",
          "2023-12-01T00:00:00.000000000",
          "2024-01-01T00:00:00.000000000",
          "2024-02-01T00:00:00.000000000",
          "2024-03-01T00:00:00.000000000",
          "2024-04-01T00:00:00.000000000",
          "2024-05-01T00:00:00.000000000",
          "2024-06-01T00:00:00.000000000",
          "2024-07-01T00:00:00.000000000",
          "2024-08-01T00:00:00.000000000",
          "2024-09-01T00:00:00.000000000",
          "2024-10-01T00:00:00.000000000",
          "2024-11-01T00:00:00.000000000",
          "2024-12-01T00:00:00.000000000"
         ],
         "y": {
          "bdata": "XzTylmZRsj9+Tna2ofCfPwebQwNLj5Y/xdb46JxJpz9eFRH3d8iiP7nmnR1mR5Q/olPc7bQfnD9ZW29AQ8GdP+tYijKBR6c/9hcFIkssjz/kchtTKl+QP3Wewt66mKA/LKQVlaMblD8JeUCX/f+TP5GmP6XsRYo/arKQpeFnkj/h15ax5xuYP7ZPg5Qa1JA/wLka80f+kD88uYlGcIqXPw+FRF15w5A/ELovtziulz8YxWHJvGuYP/Kvs5HCTYs/",
          "dtype": "f8"
         }
        },
        {
         "mode": "lines+markers",
         "name": "total_pymnt_inv",
         "type": "scatter",
         "x": [
          "2023-01-01T00:00:00.000000000",
          "2023-02-01T00:00:00.000000000",
          "2023-03-01T00:00:00.000000000",
          "2023-04-01T00:00:00.000000000",
          "2023-05-01T00:00:00.000000000",
          "2023-06-01T00:00:00.000000000",
          "2023-07-01T00:00:00.000000000",
          "2023-08-01T00:00:00.000000000",
          "2023-09-01T00:00:00.000000000",
          "2023-10-01T00:00:00.000000000",
          "2023-11-01T00:00:00.000000000",
          "2023-12-01T00:00:00.000000000",
          "2024-01-01T00:00:00.000000000",
          "2024-02-01T00:00:00.000000000",
          "2024-03-01T00:00:00.000000000",
          "2024-04-01T00:00:00.000000000",
          "2024-05-01T00:00:00.000000000",
          "2024-06-01T00:00:00.000000000",
          "2024-07-01T00:00:00.000000000",
          "2024-08-01T00:00:00.000000000",
          "2024-09-01T00:00:00.000000000",
          "2024-10-01T00:00:00.000000000",
          "2024-11-01T00:00:00.000000000",
          "2024-12-01T00:00:00.000000000"
         ],
         "y": {
          "bdata": "D7U3IK3uqz9Cy57JzkGbP2baSFErPZU/Fgu6X8hImj8Q6aryVYChP+dX4QAPS4c/cJv8TPhzgD+8JqCFpMeJP7juDi/z9Zg/vJorhAMWnj/cLiHpfn2eP1rrxdOeUqY/2p5faVvMkj/TjsLqLPahP7oRfO/vhJA/HJ6Hl76+jD/tKfNOYOGHP4SH0GKdVqM/rCV0QoZZpj+K12Pyz6CEP44X9nq12oc/u/oLSkVsmT9gOEK7zpOhP1xVFsj4boM/",
          "dtype": "f8"
         }
        },
        {
         "mode": "lines+markers",
         "name": "total_rec_int",
         "type": "scatter",
         "x": [
          "2023-01-01T00:00:00.000000000",
          "2023-02-01T00:00:00.000000000",
          "2023-03-01T00:00:00.000000000",
          "2023-04-01T00:00:00.000000000",
          "2023-05-01T00:00:00.000000000",
          "2023-06-01T00:00:00.000000000",
          "2023-07-01T00:00:00.000000000",
          "2023-08-01T00:00:00.000000000",
          "2023-09-01T00:00:00.000000000",
          "2023-10-01T00:00:00.000000000",
          "2023-11-01T00:00:00.000000000",
          "2023-12-01T00:00:00.000000000",
          "2024-01-01T00:00:00.000000000",
          "2024-02-01T00:00:00.000000000",
          "2024-03-01T00:00:00.000000000",
          "2024-04-01T00:00:00.000000000",
          "2024-05-01T00:00:00.000000000",
          "2024-06-01T00:00:00.000000000",
          "2024-07-01T00:00:00.000000000",
          "2024-08-01T00:00:00.000000000",
          "2024-09-01T00:00:00.000000000",
          "2024-10-01T00:00:00.000000000",
          "2024-11-01T00:00:00.000000000",
          "2024-12-01T00:00:00.000000000"
         ],
         "y": {
          "bdata": "zskfFwzluT+COv4wBrKoP/99Erg5ZqQ/+GZyTeqQoj+tJucuXpOqP7dcbZBBfn0/HKdN+59tmz8sab3ggnyTPwGSgp26eZQ/pIVpeE6elD9Ql41ZVmeOP/Nswr8hKqM/AnN6fT0ApT/SnVfXdmyNP2JGrtezUpI/8OF2bsU1nj/ulnyZZauKP3uhD4u4FpU/M2fg/OQHmD+6QdnxqNWcP+Y1g88EPIs/uzCYV3SEoj/IDO73mC2zP1tKx8YXr6E/",
          "dtype": "f8"
         }
        },
        {
         "mode": "lines+markers",
         "name": "total_rec_late_fee",
         "type": "scatter",
         "x": [
          "2023-01-01T00:00:00.000000000",
          "2023-02-01T00:00:00.000000000",
          "2023-03-01T00:00:00.000000000",
          "2023-04-01T00:00:00.000000000",
          "2023-05-01T00:00:00.000000000",
          "2023-06-01T00:00:00.000000000",
          "2023-07-01T00:00:00.000000000",
          "2023-08-01T00:00:00.000000000",
          "2023-09-01T00:00:00.000000000",
          "2023-10-01T00:00:00.000000000",
          "2023-11-01T00:00:00.000000000",
          "2023-12-01T00:00:00.000000000",
          "2024-01-01T00:00:00.000000000",
          "2024-02-01T00:00:00.000000000",
          "2024-03-01T00:00:00.000000000",
          "2024-04-01T00:00:00.000000000",
          "2024-05-01T00:00:00.000000000",
          "2024-06-01T00:00:00.000000000",
          "2024-07-01T00:00:00.000000000",
          "2024-08-01T00:00:00.000000000",
          "2024-09-01T00:00:00.000000000",
          "2024-10-01T00:00:00.000000000",
          "2024-11-01T00:00:00.000000000",
          "2024-12-01T00:00:00.000000000"
         ],
         "y": {
          "bdata": "3wWa07ZLWT+6p5Yf9qhaP4IJQ1N3Mls/0PTZtugcZj/sJNj4YnshPwDOmXTJfII/wQ3SV6Cndj9thEDI6wdlP9Cu9hMoM3k/HOUdt56eaz/GyautrHZ2P2aYVbXh/FU/WiUyzUSWdj+0gfao5rxtP2AVHg7u6nc/WDpHiV2vfD+GjvAB/0peP2QVap1Rt4A/mMeOVHiHNz8EH617E6llP5tGYCLpAls/lOQVE8Vdaz+NG6JOnZ8tP8zaytAMgJE/",
          "dtype": "f8"
         }
        },
        {
         "mode": "lines+markers",
         "name": "total_rec_prncp",
         "type": "scatter",
         "x": [
          "2023-01-01T00:00:00.000000000",
          "2023-02-01T00:00:00.000000000",
          "2023-03-01T00:00:00.000000000",
          "2023-04-01T00:00:00.000000000",
          "2023-05-01T00:00:00.000000000",
          "2023-06-01T00:00:00.000000000",
          "2023-07-01T00:00:00.000000000",
          "2023-08-01T00:00:00.000000000",
          "2023-09-01T00:00:00.000000000",
          "2023-10-01T00:00:00.000000000",
          "2023-11-01T00:00:00.000000000",
          "2023-12-01T00:00:00.000000000",
          "2024-01-01T00:00:00.000000000",
          "2024-02-01T00:00:00.000000000",
          "2024-03-01T00:00:00.000000000",
          "2024-04-01T00:00:00.000000000",
          "2024-05-01T00:00:00.000000000",
          "2024-06-01T00:00:00.000000000",
          "2024-07-01T00:00:00.000000000",
          "2024-08-01T00:00:00.000000000",
          "2024-09-01T00:00:00.000000000",
          "2024-10-01T00:00:00.000000000",
          "2024-11-01T00:00:00.000000000",
          "2024-12-01T00:00:00.000000000"
         ],
         "y": {
          "bdata": "INQL/Sv8lD/ai/csvEelP8dlzhsThZU/9GtqYyOvlT/88pBLfjGiPw0+LdUhJpw/dd7cNklSij9l6y+pkSqOP/yTMvm/i5o/2zoeA/78jD/LEScWYXiXP530XJnceKo/pfu4hhVbjj+gTWk97nyeP2iUbCfrs5I/djEC9I3ukD9n8wGvdlqcPyUSgll/r6E/9igX0RpHmD+LkP574xqmPzpCWCtzK40/FTVjeOHGnD9KzV7p8cGWP9ZjK4frLJM/",
          "dtype": "f8"
         }
        },
        {
         "mode": "lines+markers",
         "name": "total_rev_hi_lim",
         "type": "scatter",
         "x": [
          "2023-01-01T00:00:00.000000000",
          "2023-02-01T00:00:00.000000000",
          "2023-03-01T00:00:00.000000000",
          "2023-04-01T00:00:00.000000000",
          "2023-05-01T00:00:00.000000000",
          "2023-06-01T00:00:00.000000000",
          "2023-07-01T00:00:00.000000000",
          "2023-08-01T00:00:00.000000000",
          "2023-09-01T00:00:00.000000000",
          "2023-10-01T00:00:00.000000000",
          "2023-11-01T00:00:00.000000000",
          "2023-12-01T00:00:00.000000000",
          "2024-01-01T00:00:00.000000000",
          "2024-02-01T00:00:00.000000000",
          "2024-03-01T00:00:00.000000000",
          "2024-04-01T00:00:00.000000000",
          "2024-05-01T00:00:00.000000000",
          "2024-06-01T00:00:00.000000000",
          "2024-07-01T00:00:00.000000000",
          "2024-08-01T00:00:00.000000000",
          "2024-09-01T00:00:00.000000000",
          "2024-10-01T00:00:00.000000000",
          "2024-11-01T00:00:00.000000000",
          "2024-12-01T00:00:00.000000000"
         ],
         "y": {
          "bdata": "+NZWSZAJkj/ODXdULmyHP/5LHrpPwps/+hZhKCpOeD8ko9rkxOeRP0ACaZLkEI8/FuTUK3E1pD8kPc3rNK6PPxbPR4kNsno/cgMf/2J0iz+cbbpx7h2HPxx0uePlyXw/Zg/+5tlklj/hm8PfRFahP6tPHaIGWZw/Oth2Knxzlj/8Sv36ZDWUP5duJ940cZE/vif2iWizbj/ocJwb4aiTP8/ltaM7mYE/PYecQIrrkj85mjpjF+eTP8VcSNzxEn8/",
          "dtype": "f8"
         }
        },
        {
         "mode": "lines+markers",
         "name": "y_pred_label",
         "type": "scatter",
         "x": [
          "2023-01-01T00:00:00.000000000",
          "2023-02-01T00:00:00.000000000",
          "2023-03-01T00:00:00.000000000",
          "2023-04-01T00:00:00.000000000",
          "2023-05-01T00:00:00.000000000",
          "2023-06-01T00:00:00.000000000",
          "2023-07-01T00:00:00.000000000",
          "2023-08-01T00:00:00.000000000",
          "2023-09-01T00:00:00.000000000",
          "2023-10-01T00:00:00.000000000",
          "2023-11-01T00:00:00.000000000",
          "2023-12-01T00:00:00.000000000",
          "2024-01-01T00:00:00.000000000",
          "2024-02-01T00:00:00.000000000",
          "2024-03-01T00:00:00.000000000",
          "2024-04-01T00:00:00.000000000",
          "2024-05-01T00:00:00.000000000",
          "2024-06-01T00:00:00.000000000",
          "2024-07-01T00:00:00.000000000",
          "2024-08-01T00:00:00.000000000",
          "2024-09-01T00:00:00.000000000",
          "2024-10-01T00:00:00.000000000",
          "2024-11-01T00:00:00.000000000",
          "2024-12-01T00:00:00.000000000"
         ],
         "y": {
          "bdata": "WmsmiK8jEz+7vu3XWU2OP929iF8ZvBs/FShcXWpaTD+hoVN3GttxP8sTj0yVXnE/v3fcNq/F+D7QF9DyxKxtPyb1sBcTYOs+Pb6rhutY8T4+szM/Vps0PzTokEnP7Vw/jCt8ExY9Qj8GeR7Zz1hHPx0mMw/Ff1k/ms0vCngvtj7R8rpGNkFIP/4spZSajTc/fDaOpZAKXT+BnUSBBXxePxxG55mD83A/4k666LgJPz8As4l6er5AP3Kk0s3mPOA+",
          "dtype": "f8"
         }
        },
        {
         "mode": "lines+markers",
         "name": "y_pred_proba",
         "type": "scatter",
         "x": [
          "2023-01-01T00:00:00.000000000",
          "2023-02-01T00:00:00.000000000",
          "2023-03-01T00:00:00.000000000",
          "2023-04-01T00:00:00.000000000",
          "2023-05-01T00:00:00.000000000",
          "2023-06-01T00:00:00.000000000",
          "2023-07-01T00:00:00.000000000",
          "2023-08-01T00:00:00.000000000",
          "2023-09-01T00:00:00.000000000",
          "2023-10-01T00:00:00.000000000",
          "2023-11-01T00:00:00.000000000",
          "2023-12-01T00:00:00.000000000",
          "2024-01-01T00:00:00.000000000",
          "2024-02-01T00:00:00.000000000",
          "2024-03-01T00:00:00.000000000",
          "2024-04-01T00:00:00.000000000",
          "2024-05-01T00:00:00.000000000",
          "2024-06-01T00:00:00.000000000",
          "2024-07-01T00:00:00.000000000",
          "2024-08-01T00:00:00.000000000",
          "2024-09-01T00:00:00.000000000",
          "2024-10-01T00:00:00.000000000",
          "2024-11-01T00:00:00.000000000",
          "2024-12-01T00:00:00.000000000"
         ],
         "y": {
          "bdata": "COVLEyGfdz9d+JAAoU+cP+NsD03UiJE/tF6pmD45eT9AiOawuBJ7P7woU2ncwIY/YqsuFauEcz/EKv8bVHmTP090VqFT4oM/OzBxD+q0gD/Zbq1kLw14PxSUfayC5pA/2htf0Yg4gD/KPvPPnAeJP9pPMImp94I/gDEHJA1giD80kV1ul7toP2eGWSC4CXg/s+OwcpE5gj/GVTlY2Ch1P6a5WJPqhog/F4B7osC2kT/EfnbrID2IP85s7TLfx30/",
          "dtype": "f8"
         }
        }
       ],
       "layout": {
        "annotations": [
         {
          "showarrow": false,
          "text": "0.10",
          "x": 1,
          "xanchor": "right",
          "xref": "x domain",
          "y": 0.1,
          "yanchor": "bottom",
          "yref": "y"
         },
         {
          "showarrow": false,
          "text": "0.25",
          "x": 1,
          "xanchor": "right",
          "xref": "x domain",
          "y": 0.25,
          "yanchor": "bottom",
          "yref": "y"
         }
        ],
        "shapes": [
         {
          "line": {
           "color": "orange",
           "dash": "dash"
          },
          "type": "line",
          "x0": 0,
          "x1": 1,
          "xref": "x domain",
          "y0": 0.1,
          "y1": 0.1,
          "yref": "y"
         },
         {
          "line": {
           "color": "red",
           "dash": "dash"
          },
          "type": "line",
          "x0": 0,
          "x1": 1,
          "xref": "x domain",
          "y0": 0.25,
          "y1": 0.25,
          "yref": "y"
         }
        ],
        "template": {
         "data": {
          "bar": [
           {
            "error_x": {
             "color": "#2a3f5f"
            },
            "error_y": {
             "color": "#2a3f5f"
            },
            "marker": {
             "line": {
              "color": "white",
              "width": 0.5
             },
             "pattern": {
              "fillmode": "overlay",
              "size": 10,
              "solidity": 0.2
             }
            },
            "type": "bar"
           }
          ],
          "barpolar": [
           {
            "marker": {
             "line": {
              "color": "white",
              "width": 0.5
             },
             "pattern": {
              "fillmode": "overlay",
              "size": 10,
              "solidity": 0.2
             }
            },
            "type": "barpolar"
           }
          ],
          "carpet": [
           {
            "aaxis": {
             "endlinecolor": "#2a3f5f",
             "gridcolor": "#C8D4E3",
             "linecolor": "#C8D4E3",
             "minorgridcolor": "#C8D4E3",
             "startlinecolor": "#2a3f5f"
            },
            "baxis": {
             "endlinecolor": "#2a3f5f",
             "gridcolor": "#C8D4E3",
             "linecolor": "#C8D4E3",
             "minorgridcolor": "#C8D4E3",
             "startlinecolor": "#2a3f5f"
            },
            "type": "carpet"
           }
          ],
          "choropleth": [
           {
            "colorbar": {
             "outlinewidth": 0,
             "ticks": ""
            },
            "type": "choropleth"
           }
          ],
          "contour": [
           {
            "colorbar": {
             "outlinewidth": 0,
             "ticks": ""
            },
            "colorscale": [
             [
              0,
              "#0d0887"
             ],
             [
              0.1111111111111111,
              "#46039f"
             ],
             [
              0.2222222222222222,
              "#7201a8"
             ],
             [
              0.3333333333333333,
              "#9c179e"
             ],
             [
              0.4444444444444444,
              "#bd3786"
             ],
             [
              0.5555555555555556,
              "#d8576b"
             ],
             [
              0.6666666666666666,
              "#ed7953"
             ],
             [
              0.7777777777777778,
              "#fb9f3a"
             ],
             [
              0.8888888888888888,
              "#fdca26"
             ],
             [
              1,
              "#f0f921"
             ]
            ],
            "type": "contour"
           }
          ],
          "contourcarpet": [
           {
            "colorbar": {
             "outlinewidth": 0,
             "ticks": ""
            },
            "type": "contourcarpet"
           }
          ],
          "heatmap": [
           {
            "colorbar": {
             "outlinewidth": 0,
             "ticks": ""
            },
            "colorscale": [
             [
              0,
              "#0d0887"
             ],
             [
              0.1111111111111111,
              "#46039f"
             ],
             [
              0.2222222222222222,
              "#7201a8"
             ],
             [
              0.3333333333333333,
              "#9c179e"
             ],
             [
              0.4444444444444444,
              "#bd3786"
             ],
             [
              0.5555555555555556,
              "#d8576b"
             ],
             [
              0.6666666666666666,
              "#ed7953"
             ],
             [
              0.7777777777777778,
              "#fb9f3a"
             ],
             [
              0.8888888888888888,
              "#fdca26"
             ],
             [
              1,
              "#f0f921"
             ]
            ],
            "type": "heatmap"
           }
          ],
          "histogram": [
           {
            "marker": {
             "pattern": {
              "fillmode": "overlay",
              "size": 10,
              "solidity": 0.2
             }
            },
            "type": "histogram"
           }
          ],
          "histogram2d": [
           {
            "colorbar": {
             "outlinewidth": 0,
             "ticks": ""
            },
            "colorscale": [
             [
              0,
              "#0d0887"
             ],
             [
              0.1111111111111111,
              "#46039f"
             ],
             [
              0.2222222222222222,
              "#7201a8"
             ],
             [
              0.3333333333333333,
              "#9c179e"
             ],
             [
              0.4444444444444444,
              "#bd3786"
             ],
             [
              0.5555555555555556,
              "#d8576b"
             ],
             [
              0.6666666666666666,
              "#ed7953"
             ],
             [
              0.7777777777777778,
              "#fb9f3a"
             ],
             [
              0.8888888888888888,
              "#fdca26"
             ],
             [
              1,
              "#f0f921"
             ]
            ],
            "type": "histogram2d"
           }
          ],
          "histogram2dcontour": [
           {
            "colorbar": {
             "outlinewidth": 0,
             "ticks": ""
            },
            "colorscale": [
             [
              0,
              "#0d0887"
             ],
             [
              0.1111111111111111,
              "#46039f"
             ],
             [
              0.2222222222222222,
              "#7201a8"
             ],
             [
              0.3333333333333333,
              "#9c179e"
             ],
             [
              0.4444444444444444,
              "#bd3786"
             ],
             [
              0.5555555555555556,
              "#d8576b"
             ],
             [
              0.6666666666666666,
              "#ed7953"
             ],
             [
              0.7777777777777778,
              "#fb9f3a"
             ],
             [
              0.8888888888888888,
              "#fdca26"
             ],
             [
              1,
              "#f0f921"
             ]
            ],
            "type": "histogram2dcontour"
           }
          ],
          "mesh3d": [
           {
            "colorbar": {
             "outlinewidth": 0,
             "ticks": ""
            },
            "type": "mesh3d"
           }
          ],
          "parcoords": [
           {
            "line": {
             "colorbar": {
              "outlinewidth": 0,
              "ticks": ""
             }
            },
            "type": "parcoords"
           }
          ],
          "pie": [
           {
            "automargin": true,
            "type": "pie"
           }
          ],
          "scatter": [
           {
            "fillpattern": {
             "fillmode": "overlay",
             "size": 10,
             "solidity": 0.2
            },
            "type": "scatter"
           }
          ],
          "scatter3d": [
           {
            "line": {
             "colorbar": {
              "outlinewidth": 0,
              "ticks": ""
             }
            },
            "marker": {
             "colorbar": {
              "outlinewidth": 0,
              "ticks": ""
             }
            },
            "type": "scatter3d"
           }
          ],
          "scattercarpet": [
           {
            "marker": {
             "colorbar": {
              "outlinewidth": 0,
              "ticks": ""
             }
            },
            "type": "scattercarpet"
           }
          ],
          "scattergeo": [
           {
            "marker": {
             "colorbar": {
              "outlinewidth": 0,
              "ticks": ""
             }
            },
            "type": "scattergeo"
           }
          ],
          "scattergl": [
           {
            "marker": {
             "colorbar": {
              "outlinewidth": 0,
              "ticks": ""
             }
            },
            "type": "scattergl"
           }
          ],
          "scattermap": [
           {
            "marker": {
             "colorbar": {
              "outlinewidth": 0,
              "ticks": ""
             }
            },
            "type": "scattermap"
           }
          ],
          "scattermapbox": [
           {
            "marker": {
             "colorbar": {
              "outlinewidth": 0,
              "ticks": ""
             }
            },
            "type": "scattermapbox"
           }
          ],
          "scatterpolar": [
           {
            "marker": {
             "colorbar": {
              "outlinewidth": 0,
              "ticks": ""
             }
            },
            "type": "scatterpolar"
           }
          ],
          "scatterpolargl": [
           {
            "marker": {
             "colorbar": {
              "outlinewidth": 0,
              "ticks": ""
             }
            },
            "type": "scatterpolargl"
           }
          ],
          "scatterternary": [
           {
            "marker": {
             "colorbar": {
              "outlinewidth": 0,
              "ticks": ""
             }
            },
            "type": "scatterternary"
           }
          ],
          "surface": [
           {
            "colorbar": {
             "outlinewidth": 0,
             "ticks": ""
            },
            "colorscale": [
             [
              0,
              "#0d0887"
             ],
             [
              0.1111111111111111,
              "#46039f"
             ],
             [
              0.2222222222222222,
              "#7201a8"
             ],
             [
              0.3333333333333333,
              "#9c179e"
             ],
             [
              0.4444444444444444,
              "#bd3786"
             ],
             [
              0.5555555555555556,
              "#d8576b"
             ],
             [
              0.6666666666666666,
              "#ed7953"
             ],
             [
              0.7777777777777778,
              "#fb9f3a"
             ],
             [
              0.8888888888888888,
              "#fdca26"
             ],
             [
              1,
              "#f0f921"
             ]
            ],
            "type": "surface"
           }
          ],
          "table": [
           {
            "cells": {
             "fill": {
              "color": "#EBF0F8"
             },
             "line": {
              "color": "white"
             }
            },
            "header": {
             "fill": {
              "color": "#C8D4E3"
             },
             "line": {
              "color": "white"
             }
            },
            "type": "table"
           }
          ]
         },
         "layout": {
          "annotationdefaults": {
           "arrowcolor": "#2a3f5f",
           "arrowhead": 0,
           "arrowwidth": 1
          },
          "autotypenumbers": "strict",
          "coloraxis": {
           "colorbar": {
            "outlinewidth": 0,
            "ticks": ""
           }
          },
          "colorscale": {
           "diverging": [
            [
             0,
             "#8e0152"
            ],
            [
             0.1,
             "#c51b7d"
            ],
            [
             0.2,
             "#de77ae"
            ],
            [
             0.3,
             "#f1b6da"
            ],
            [
             0.4,
             "#fde0ef"
            ],
            [
             0.5,
             "#f7f7f7"
            ],
            [
             0.6,
             "#e6f5d0"
            ],
            [
             0.7,
             "#b8e186"
            ],
            [
             0.8,
             "#7fbc41"
            ],
            [
             0.9,
             "#4d9221"
            ],
            [
             1,
             "#276419"
            ]
           ],
           "sequential": [
            [
             0,
             "#0d0887"
            ],
            [
             0.1111111111111111,
             "#46039f"
            ],
            [
             0.2222222222222222,
             "#7201a8"
            ],
            [
             0.3333333333333333,
             "#9c179e"
            ],
            [
             0.4444444444444444,
             "#bd3786"
            ],
            [
             0.5555555555555556,
             "#d8576b"
            ],
            [
             0.6666666666666666,
             "#ed7953"
            ],
            [
             0.7777777777777778,
             "#fb9f3a"
            ],
            [
             0.8888888888888888,
             "#fdca26"
            ],
            [
             1,
             "#f0f921"
            ]
           ],
           "sequentialminus": [
            [
             0,
             "#0d0887"
            ],
            [
             0.1111111111111111,
             "#46039f"
            ],
            [
             0.2222222222222222,
             "#7201a8"
            ],
            [
             0.3333333333333333,
             "#9c179e"
            ],
            [
             0.4444444444444444,
             "#bd3786"
            ],
            [
             0.5555555555555556,
             "#d8576b"
            ],
            [
             0.6666666666666666,
             "#ed7953"
            ],
            [
             0.7777777777777778,
             "#fb9f3a"
            ],
            [
             0.8888888888888888,
             "#fdca26"
            ],
            [
             1,
             "#f0f921"
            ]
           ]
          },
          "colorway": [
           "#636efa",
           "#EF553B",
           "#00cc96",
           "#ab63fa",
           "#FFA15A",
           "#19d3f3",
           "#FF6692",
           "#B6E880",
           "#FF97FF",
           "#FECB52"
          ],
          "font": {
           "color": "#2a3f5f"
          },
          "geo": {
           "bgcolor": "white",
           "lakecolor": "white",
           "landcolor": "white",
           "showlakes": true,
           "showland": true,
           "subunitcolor": "#C8D4E3"
          },
          "hoverlabel": {
           "align": "left"
          },
          "hovermode": "closest",
          "mapbox": {
           "style": "light"
          },
          "paper_bgcolor": "white",
          "plot_bgcolor": "white",
          "polar": {
           "angularaxis": {
            "gridcolor": "#EBF0F8",
            "linecolor": "#EBF0F8",
            "ticks": ""
           },
           "bgcolor": "white",
           "radialaxis": {
            "gridcolor": "#EBF0F8",
            "linecolor": "#EBF0F8",
            "ticks": ""
           }
          },
          "scene": {
           "xaxis": {
            "backgroundcolor": "white",
            "gridcolor": "#DFE8F3",
            "gridwidth": 2,
            "linecolor": "#EBF0F8",
            "showbackground": true,
            "ticks": "",
            "zerolinecolor": "#EBF0F8"
           },
           "yaxis": {
            "backgroundcolor": "white",
            "gridcolor": "#DFE8F3",
            "gridwidth": 2,
            "linecolor": "#EBF0F8",
            "showbackground": true,
            "ticks": "",
            "zerolinecolor": "#EBF0F8"
           },
           "zaxis": {
            "backgroundcolor": "white",
            "gridcolor": "#DFE8F3",
            "gridwidth": 2,
            "linecolor": "#EBF0F8",
            "showbackground": true,
            "ticks": "",
            "zerolinecolor": "#EBF0F8"
           }
          },
          "shapedefaults": {
           "line": {
            "color": "#2a3f5f"
           }
          },
          "ternary": {
           "aaxis": {
            "gridcolor": "#DFE8F3",
            "linecolor": "#A2B1C6",
            "ticks": ""
           },
           "baxis": {
            "gridcolor": "#DFE8F3",
            "linecolor": "#A2B1C6",
            "ticks": ""
           },
           "bgcolor": "white",
           "caxis": {
            "gridcolor": "#DFE8F3",
            "linecolor": "#A2B1C6",
            "ticks": ""
           }
          },
          "title": {
           "x": 0.05
          },
          "xaxis": {
           "automargin": true,
           "gridcolor": "#EBF0F8",
           "linecolor": "#EBF0F8",
           "ticks": "",
           "title": {
            "standoff": 15
           },
           "zerolinecolor": "#EBF0F8",
           "zerolinewidth": 2
          },
          "yaxis": {
           "automargin": true,
           "gridcolor": "#EBF0F8",
           "linecolor": "#EBF0F8",
           "ticks": "",
           "title": {
            "standoff": 15
           },
           "zerolinecolor": "#EBF0F8",
           "zerolinewidth": 2
          }
         }
        },
        "title": {
         "text": "PSI over Time by Variable"
        },
        "xaxis": {
         "title": {
          "text": "Period"
         }
        },
        "yaxis": {
         "title": {
          "text": "Population Stability Index"
         }
        }
       }
      }
     },
     "metadata": {},
     "output_type": "display_data"
    }
   ],
   "source": [
    "# PSI por variável\n",
    "evaluator.plot_psi()"
   ]
  },
  {
   "cell_type": "code",
   "execution_count": 42,
   "id": "68f91cbe",
   "metadata": {},
   "outputs": [
    {
     "data": {
      "application/vnd.plotly.v1+json": {
       "config": {
        "plotlyServerURL": "https://plot.ly"
       },
       "data": [
        {
         "mode": "lines+markers",
         "name": "Test",
         "type": "scatter",
         "x": [
          "2023-01-01T00:00:00.000000000",
          "2023-02-01T00:00:00.000000000",
          "2023-03-01T00:00:00.000000000",
          "2023-04-01T00:00:00.000000000",
          "2023-05-01T00:00:00.000000000",
          "2023-06-01T00:00:00.000000000",
          "2023-07-01T00:00:00.000000000",
          "2023-08-01T00:00:00.000000000",
          "2023-09-01T00:00:00.000000000",
          "2023-10-01T00:00:00.000000000",
          "2023-11-01T00:00:00.000000000",
          "2023-12-01T00:00:00.000000000",
          "2024-01-01T00:00:00.000000000",
          "2024-02-01T00:00:00.000000000",
          "2024-03-01T00:00:00.000000000",
          "2024-04-01T00:00:00.000000000",
          "2024-05-01T00:00:00.000000000",
          "2024-06-01T00:00:00.000000000",
          "2024-07-01T00:00:00.000000000",
          "2024-08-01T00:00:00.000000000",
          "2024-09-01T00:00:00.000000000",
          "2024-10-01T00:00:00.000000000",
          "2024-11-01T00:00:00.000000000",
          "2024-12-01T00:00:00.000000000"
         ],
         "y": {
          "bdata": "rBxaZDvf7z/21oZp7oLvP+GDDz744O8/7f2NgdXe7z++9957773vPyI9UDm7he8/IOAf4B/g7z8Q/MAP/MDvPyHg1mczvu8/AAAAAAAA8D9CwK3PZnzvP71f1vtlve8/+JdRENBc7z/aLfxqTKTvPxL6Aaocoe8/GPhXjXuB7z/21oZp7oLvP5IkSZIkSe8/Wu+X9X5Z7z8AAAAAAEDvPyL5mnrnBO8/TIuB5SQb7z/5GSV+RonvP42J9EDl7O4/",
          "dtype": "f8"
         }
        },
        {
         "mode": "lines+markers",
         "name": "Train",
         "type": "scatter",
         "x": [
          "2023-01-01T00:00:00.000000000",
          "2023-02-01T00:00:00.000000000",
          "2023-03-01T00:00:00.000000000",
          "2023-04-01T00:00:00.000000000",
          "2023-05-01T00:00:00.000000000",
          "2023-06-01T00:00:00.000000000",
          "2023-07-01T00:00:00.000000000",
          "2023-08-01T00:00:00.000000000",
          "2023-09-01T00:00:00.000000000",
          "2023-10-01T00:00:00.000000000",
          "2023-11-01T00:00:00.000000000",
          "2023-12-01T00:00:00.000000000",
          "2024-01-01T00:00:00.000000000",
          "2024-02-01T00:00:00.000000000",
          "2024-03-01T00:00:00.000000000",
          "2024-04-01T00:00:00.000000000",
          "2024-05-01T00:00:00.000000000",
          "2024-06-01T00:00:00.000000000",
          "2024-07-01T00:00:00.000000000",
          "2024-08-01T00:00:00.000000000",
          "2024-09-01T00:00:00.000000000",
          "2024-10-01T00:00:00.000000000",
          "2024-11-01T00:00:00.000000000",
          "2024-12-01T00:00:00.000000000"
         ],
         "y": {
          "bdata": "VDAm2p9q7z/rQ2N9aKzvP4OiTi4vgu8/7UMgXCV47z/oC/qCvqDvP3AL8Tqfue8/cseS7Byt7z/nGreLCYPvP0B6yX/0ku8/QOqUP+qU7z/4StDvlaDvP/t0fbo+Xe8/9zMvPTgp7z+fuW8L8TrvP7jXkkNcZe8/GVrQMWN17z/aUYuQv2bvP3EmWSsjfe8/uWXcMm4Z7z+G3ee7tkzvP/jee++99+4/YS3ha4ap7j8HhdMr7yruPydxQCtYOe4/",
          "dtype": "f8"
         }
        }
       ],
       "layout": {
        "annotations": [
         {
          "showarrow": false,
          "text": "0.05",
          "x": 1,
          "xanchor": "right",
          "xref": "x domain",
          "y": 0.05,
          "yanchor": "bottom",
          "yref": "y"
         }
        ],
        "shapes": [
         {
          "line": {
           "color": "gray",
           "dash": "dash"
          },
          "type": "line",
          "x0": 0,
          "x1": 1,
          "xref": "x domain",
          "y0": 0.05,
          "y1": 0.05,
          "yref": "y"
         }
        ],
        "template": {
         "data": {
          "bar": [
           {
            "error_x": {
             "color": "#2a3f5f"
            },
            "error_y": {
             "color": "#2a3f5f"
            },
            "marker": {
             "line": {
              "color": "white",
              "width": 0.5
             },
             "pattern": {
              "fillmode": "overlay",
              "size": 10,
              "solidity": 0.2
             }
            },
            "type": "bar"
           }
          ],
          "barpolar": [
           {
            "marker": {
             "line": {
              "color": "white",
              "width": 0.5
             },
             "pattern": {
              "fillmode": "overlay",
              "size": 10,
              "solidity": 0.2
             }
            },
            "type": "barpolar"
           }
          ],
          "carpet": [
           {
            "aaxis": {
             "endlinecolor": "#2a3f5f",
             "gridcolor": "#C8D4E3",
             "linecolor": "#C8D4E3",
             "minorgridcolor": "#C8D4E3",
             "startlinecolor": "#2a3f5f"
            },
            "baxis": {
             "endlinecolor": "#2a3f5f",
             "gridcolor": "#C8D4E3",
             "linecolor": "#C8D4E3",
             "minorgridcolor": "#C8D4E3",
             "startlinecolor": "#2a3f5f"
            },
            "type": "carpet"
           }
          ],
          "choropleth": [
           {
            "colorbar": {
             "outlinewidth": 0,
             "ticks": ""
            },
            "type": "choropleth"
           }
          ],
          "contour": [
           {
            "colorbar": {
             "outlinewidth": 0,
             "ticks": ""
            },
            "colorscale": [
             [
              0,
              "#0d0887"
             ],
             [
              0.1111111111111111,
              "#46039f"
             ],
             [
              0.2222222222222222,
              "#7201a8"
             ],
             [
              0.3333333333333333,
              "#9c179e"
             ],
             [
              0.4444444444444444,
              "#bd3786"
             ],
             [
              0.5555555555555556,
              "#d8576b"
             ],
             [
              0.6666666666666666,
              "#ed7953"
             ],
             [
              0.7777777777777778,
              "#fb9f3a"
             ],
             [
              0.8888888888888888,
              "#fdca26"
             ],
             [
              1,
              "#f0f921"
             ]
            ],
            "type": "contour"
           }
          ],
          "contourcarpet": [
           {
            "colorbar": {
             "outlinewidth": 0,
             "ticks": ""
            },
            "type": "contourcarpet"
           }
          ],
          "heatmap": [
           {
            "colorbar": {
             "outlinewidth": 0,
             "ticks": ""
            },
            "colorscale": [
             [
              0,
              "#0d0887"
             ],
             [
              0.1111111111111111,
              "#46039f"
             ],
             [
              0.2222222222222222,
              "#7201a8"
             ],
             [
              0.3333333333333333,
              "#9c179e"
             ],
             [
              0.4444444444444444,
              "#bd3786"
             ],
             [
              0.5555555555555556,
              "#d8576b"
             ],
             [
              0.6666666666666666,
              "#ed7953"
             ],
             [
              0.7777777777777778,
              "#fb9f3a"
             ],
             [
              0.8888888888888888,
              "#fdca26"
             ],
             [
              1,
              "#f0f921"
             ]
            ],
            "type": "heatmap"
           }
          ],
          "histogram": [
           {
            "marker": {
             "pattern": {
              "fillmode": "overlay",
              "size": 10,
              "solidity": 0.2
             }
            },
            "type": "histogram"
           }
          ],
          "histogram2d": [
           {
            "colorbar": {
             "outlinewidth": 0,
             "ticks": ""
            },
            "colorscale": [
             [
              0,
              "#0d0887"
             ],
             [
              0.1111111111111111,
              "#46039f"
             ],
             [
              0.2222222222222222,
              "#7201a8"
             ],
             [
              0.3333333333333333,
              "#9c179e"
             ],
             [
              0.4444444444444444,
              "#bd3786"
             ],
             [
              0.5555555555555556,
              "#d8576b"
             ],
             [
              0.6666666666666666,
              "#ed7953"
             ],
             [
              0.7777777777777778,
              "#fb9f3a"
             ],
             [
              0.8888888888888888,
              "#fdca26"
             ],
             [
              1,
              "#f0f921"
             ]
            ],
            "type": "histogram2d"
           }
          ],
          "histogram2dcontour": [
           {
            "colorbar": {
             "outlinewidth": 0,
             "ticks": ""
            },
            "colorscale": [
             [
              0,
              "#0d0887"
             ],
             [
              0.1111111111111111,
              "#46039f"
             ],
             [
              0.2222222222222222,
              "#7201a8"
             ],
             [
              0.3333333333333333,
              "#9c179e"
             ],
             [
              0.4444444444444444,
              "#bd3786"
             ],
             [
              0.5555555555555556,
              "#d8576b"
             ],
             [
              0.6666666666666666,
              "#ed7953"
             ],
             [
              0.7777777777777778,
              "#fb9f3a"
             ],
             [
              0.8888888888888888,
              "#fdca26"
             ],
             [
              1,
              "#f0f921"
             ]
            ],
            "type": "histogram2dcontour"
           }
          ],
          "mesh3d": [
           {
            "colorbar": {
             "outlinewidth": 0,
             "ticks": ""
            },
            "type": "mesh3d"
           }
          ],
          "parcoords": [
           {
            "line": {
             "colorbar": {
              "outlinewidth": 0,
              "ticks": ""
             }
            },
            "type": "parcoords"
           }
          ],
          "pie": [
           {
            "automargin": true,
            "type": "pie"
           }
          ],
          "scatter": [
           {
            "fillpattern": {
             "fillmode": "overlay",
             "size": 10,
             "solidity": 0.2
            },
            "type": "scatter"
           }
          ],
          "scatter3d": [
           {
            "line": {
             "colorbar": {
              "outlinewidth": 0,
              "ticks": ""
             }
            },
            "marker": {
             "colorbar": {
              "outlinewidth": 0,
              "ticks": ""
             }
            },
            "type": "scatter3d"
           }
          ],
          "scattercarpet": [
           {
            "marker": {
             "colorbar": {
              "outlinewidth": 0,
              "ticks": ""
             }
            },
            "type": "scattercarpet"
           }
          ],
          "scattergeo": [
           {
            "marker": {
             "colorbar": {
              "outlinewidth": 0,
              "ticks": ""
             }
            },
            "type": "scattergeo"
           }
          ],
          "scattergl": [
           {
            "marker": {
             "colorbar": {
              "outlinewidth": 0,
              "ticks": ""
             }
            },
            "type": "scattergl"
           }
          ],
          "scattermap": [
           {
            "marker": {
             "colorbar": {
              "outlinewidth": 0,
              "ticks": ""
             }
            },
            "type": "scattermap"
           }
          ],
          "scattermapbox": [
           {
            "marker": {
             "colorbar": {
              "outlinewidth": 0,
              "ticks": ""
             }
            },
            "type": "scattermapbox"
           }
          ],
          "scatterpolar": [
           {
            "marker": {
             "colorbar": {
              "outlinewidth": 0,
              "ticks": ""
             }
            },
            "type": "scatterpolar"
           }
          ],
          "scatterpolargl": [
           {
            "marker": {
             "colorbar": {
              "outlinewidth": 0,
              "ticks": ""
             }
            },
            "type": "scatterpolargl"
           }
          ],
          "scatterternary": [
           {
            "marker": {
             "colorbar": {
              "outlinewidth": 0,
              "ticks": ""
             }
            },
            "type": "scatterternary"
           }
          ],
          "surface": [
           {
            "colorbar": {
             "outlinewidth": 0,
             "ticks": ""
            },
            "colorscale": [
             [
              0,
              "#0d0887"
             ],
             [
              0.1111111111111111,
              "#46039f"
             ],
             [
              0.2222222222222222,
              "#7201a8"
             ],
             [
              0.3333333333333333,
              "#9c179e"
             ],
             [
              0.4444444444444444,
              "#bd3786"
             ],
             [
              0.5555555555555556,
              "#d8576b"
             ],
             [
              0.6666666666666666,
              "#ed7953"
             ],
             [
              0.7777777777777778,
              "#fb9f3a"
             ],
             [
              0.8888888888888888,
              "#fdca26"
             ],
             [
              1,
              "#f0f921"
             ]
            ],
            "type": "surface"
           }
          ],
          "table": [
           {
            "cells": {
             "fill": {
              "color": "#EBF0F8"
             },
             "line": {
              "color": "white"
             }
            },
            "header": {
             "fill": {
              "color": "#C8D4E3"
             },
             "line": {
              "color": "white"
             }
            },
            "type": "table"
           }
          ]
         },
         "layout": {
          "annotationdefaults": {
           "arrowcolor": "#2a3f5f",
           "arrowhead": 0,
           "arrowwidth": 1
          },
          "autotypenumbers": "strict",
          "coloraxis": {
           "colorbar": {
            "outlinewidth": 0,
            "ticks": ""
           }
          },
          "colorscale": {
           "diverging": [
            [
             0,
             "#8e0152"
            ],
            [
             0.1,
             "#c51b7d"
            ],
            [
             0.2,
             "#de77ae"
            ],
            [
             0.3,
             "#f1b6da"
            ],
            [
             0.4,
             "#fde0ef"
            ],
            [
             0.5,
             "#f7f7f7"
            ],
            [
             0.6,
             "#e6f5d0"
            ],
            [
             0.7,
             "#b8e186"
            ],
            [
             0.8,
             "#7fbc41"
            ],
            [
             0.9,
             "#4d9221"
            ],
            [
             1,
             "#276419"
            ]
           ],
           "sequential": [
            [
             0,
             "#0d0887"
            ],
            [
             0.1111111111111111,
             "#46039f"
            ],
            [
             0.2222222222222222,
             "#7201a8"
            ],
            [
             0.3333333333333333,
             "#9c179e"
            ],
            [
             0.4444444444444444,
             "#bd3786"
            ],
            [
             0.5555555555555556,
             "#d8576b"
            ],
            [
             0.6666666666666666,
             "#ed7953"
            ],
            [
             0.7777777777777778,
             "#fb9f3a"
            ],
            [
             0.8888888888888888,
             "#fdca26"
            ],
            [
             1,
             "#f0f921"
            ]
           ],
           "sequentialminus": [
            [
             0,
             "#0d0887"
            ],
            [
             0.1111111111111111,
             "#46039f"
            ],
            [
             0.2222222222222222,
             "#7201a8"
            ],
            [
             0.3333333333333333,
             "#9c179e"
            ],
            [
             0.4444444444444444,
             "#bd3786"
            ],
            [
             0.5555555555555556,
             "#d8576b"
            ],
            [
             0.6666666666666666,
             "#ed7953"
            ],
            [
             0.7777777777777778,
             "#fb9f3a"
            ],
            [
             0.8888888888888888,
             "#fdca26"
            ],
            [
             1,
             "#f0f921"
            ]
           ]
          },
          "colorway": [
           "#636efa",
           "#EF553B",
           "#00cc96",
           "#ab63fa",
           "#FFA15A",
           "#19d3f3",
           "#FF6692",
           "#B6E880",
           "#FF97FF",
           "#FECB52"
          ],
          "font": {
           "color": "#2a3f5f"
          },
          "geo": {
           "bgcolor": "white",
           "lakecolor": "white",
           "landcolor": "white",
           "showlakes": true,
           "showland": true,
           "subunitcolor": "#C8D4E3"
          },
          "hoverlabel": {
           "align": "left"
          },
          "hovermode": "closest",
          "mapbox": {
           "style": "light"
          },
          "paper_bgcolor": "white",
          "plot_bgcolor": "white",
          "polar": {
           "angularaxis": {
            "gridcolor": "#EBF0F8",
            "linecolor": "#EBF0F8",
            "ticks": ""
           },
           "bgcolor": "white",
           "radialaxis": {
            "gridcolor": "#EBF0F8",
            "linecolor": "#EBF0F8",
            "ticks": ""
           }
          },
          "scene": {
           "xaxis": {
            "backgroundcolor": "white",
            "gridcolor": "#DFE8F3",
            "gridwidth": 2,
            "linecolor": "#EBF0F8",
            "showbackground": true,
            "ticks": "",
            "zerolinecolor": "#EBF0F8"
           },
           "yaxis": {
            "backgroundcolor": "white",
            "gridcolor": "#DFE8F3",
            "gridwidth": 2,
            "linecolor": "#EBF0F8",
            "showbackground": true,
            "ticks": "",
            "zerolinecolor": "#EBF0F8"
           },
           "zaxis": {
            "backgroundcolor": "white",
            "gridcolor": "#DFE8F3",
            "gridwidth": 2,
            "linecolor": "#EBF0F8",
            "showbackground": true,
            "ticks": "",
            "zerolinecolor": "#EBF0F8"
           }
          },
          "shapedefaults": {
           "line": {
            "color": "#2a3f5f"
           }
          },
          "ternary": {
           "aaxis": {
            "gridcolor": "#DFE8F3",
            "linecolor": "#A2B1C6",
            "ticks": ""
           },
           "baxis": {
            "gridcolor": "#DFE8F3",
            "linecolor": "#A2B1C6",
            "ticks": ""
           },
           "bgcolor": "white",
           "caxis": {
            "gridcolor": "#DFE8F3",
            "linecolor": "#A2B1C6",
            "ticks": ""
           }
          },
          "title": {
           "x": 0.05
          },
          "xaxis": {
           "automargin": true,
           "gridcolor": "#EBF0F8",
           "linecolor": "#EBF0F8",
           "ticks": "",
           "title": {
            "standoff": 15
           },
           "zerolinecolor": "#EBF0F8",
           "zerolinewidth": 2
          },
          "yaxis": {
           "automargin": true,
           "gridcolor": "#EBF0F8",
           "linecolor": "#EBF0F8",
           "ticks": "",
           "title": {
            "standoff": 15
           },
           "zerolinecolor": "#EBF0F8",
           "zerolinewidth": 2
          }
         }
        },
        "title": {
         "text": "KS Evolution over Time"
        },
        "xaxis": {
         "title": {
          "text": "Period"
         }
        },
        "yaxis": {
         "title": {
          "text": "Kolmogorov–Smirnov"
         }
        }
       }
      }
     },
     "metadata": {},
     "output_type": "display_data"
    }
   ],
   "source": [
    "# Evolução do KS\n",
    "evaluator.plot_ks()"
   ]
  }
 ],
 "metadata": {
  "kernelspec": {
   "display_name": "ENV_STONE",
   "language": "python",
   "name": "python3"
  },
  "language_info": {
   "codemirror_mode": {
    "name": "ipython",
    "version": 3
   },
   "file_extension": ".py",
   "mimetype": "text/x-python",
   "name": "python",
   "nbconvert_exporter": "python",
   "pygments_lexer": "ipython3",
   "version": "3.10.16"
  }
 },
 "nbformat": 4,
 "nbformat_minor": 5
}
