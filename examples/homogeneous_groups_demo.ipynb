{
 "cells": [
  {
   "cell_type": "markdown",
   "metadata": {},
   "source": [
    "# Homogeneous Groups Demo"
   ]
  },
  {
   "cell_type": "code",
   "execution_count": null,
   "metadata": {},
   "outputs": [],
   "source": [
    "from sklearn.datasets import make_classification\n",
    "from sklearn.linear_model import LogisticRegression\n",
    "import pandas as pd\n",
    "from binary_performance_evaluator import BinaryPerformanceEvaluator\n",
    "\n",
    "X, y = make_classification(n_samples=200, n_features=5, random_state=0)\n",
    "df = pd.DataFrame(X, columns=[f'f{i}' for i in range(5)])\n",
    "df['target'] = y\n",
    "df['id'] = range(len(df))\n",
    "df['date'] = pd.date_range('2021-01-01', periods=len(df))\n",
    "train = df.iloc[:150]\n",
    "test = df.iloc[150:]\n",
    "model = LogisticRegression().fit(train[[f'f{i}' for i in range(5)]], train['target'])\n",
    "\n",
    "evaluator = BinaryPerformanceEvaluator(\n",
    "    model=model,\n",
    "    df_train=train,\n",
    "    df_test=test,\n",
    "    target_col='target',\n",
    "    id_cols=['id'],\n",
    "    date_col='date',\n",
    "    homogeneous_group='auto',\n",
    ")\n",
    "evaluator.compute_metrics()\n",
    "\n",
    "radar = evaluator.plot_group_radar()\n",
    "radar.show()\n"
   ]
  }
 ],
 "metadata": {
  "language_info": {
   "name": "python"
  }
 },
 "nbformat": 4,
 "nbformat_minor": 5
}
