{
 "cells": [
  {
   "cell_type": "markdown",
   "metadata": {},
   "source": [
    "# Homogeneous Groups Demo"
   ]
  },
  {
   "cell_type": "code",
   "execution_count": 21,
   "metadata": {},
   "outputs": [],
   "source": [
    "import pandas as pd\n",
    "import numpy as np\n",
    "from sklearn.model_selection import train_test_split\n",
    "from sklearn.linear_model import LogisticRegression\n",
    "from sklearn.tree import DecisionTreeClassifier\n",
    "from xgboost import XGBClassifier\n",
    "from lightgbm import LGBMClassifier\n",
    "from binary_performance_evaluator import BinaryPerformanceEvaluator\n",
    "\n",
    "# --------------------------------------------------\n",
    "# 1. CONFIGURAÇÕES\n",
    "# --------------------------------------------------\n",
    "FILE_PATH = \"../../datasets/lending_club/accepted_2007_to_2018Q4.csv\"\n",
    "NROWS     = 1_000\n",
    "TARGET_RAW = \"loan_status\"          # coluna original\n",
    "TARGET     = \"target\"               # nome final binário\n",
    "\n",
    "# --------------------------------------------------\n",
    "# 2. LEITURA E CONVERSÃO DE TIPOS MISTOS\n",
    "# --------------------------------------------------\n",
    "def read_and_clean_csv_mixed_types(path, nrows=None, verbose=True):\n",
    "    df = pd.read_csv(path, low_memory=False, nrows=nrows)\n",
    "\n",
    "    # identificar colunas com tipos mistos\n",
    "    for col in df.columns:\n",
    "        types = df[col].dropna().map(type).value_counts()\n",
    "        if len(types) > 1 and verbose:\n",
    "            print(f\"[!] '{col}' com múltiplos tipos: {dict(types)}\")\n",
    "\n",
    "        # tentativa de conversão automática p/ numérico\n",
    "        if len(types) > 1:\n",
    "            try:\n",
    "                df[col] = pd.to_numeric(df[col], errors=\"coerce\")\n",
    "            except Exception:\n",
    "                df[col] = df[col].astype(str)\n",
    "\n",
    "    return df\n",
    "\n",
    "df = read_and_clean_csv_mixed_types(FILE_PATH, nrows=NROWS)\n",
    "\n",
    "# drop de colunas não usadas (caso existam)\n",
    "df.drop(columns=[c for c in [\"member_id\"] if c in df.columns], inplace=True)\n",
    "\n",
    "# --------------------------------------------------\n",
    "# 3. TARGET BINÁRIO\n",
    "# --------------------------------------------------\n",
    "bad_status = [\"Charged Off\", \"Default\", \"Late (31-120 days)\"]\n",
    "df[TARGET] = df[TARGET_RAW].isin(bad_status).astype(int)\n",
    "\n",
    "# --------------------------------------------------\n",
    "# 4. DATA E ID\n",
    "# --------------------------------------------------\n",
    "df[\"date\"] = pd.to_datetime(df[\"issue_d\"], format=\"%b-%Y\", errors=\"coerce\")\n",
    "df.drop(columns=[\"issue_d\", TARGET_RAW], inplace=True)\n",
    "\n",
    "df.reset_index(drop=False, inplace=True)   # index ➜ nova coluna\n",
    "\n",
    "# --------------------------------------------------\n",
    "# 5. FEATURES NUMÉRICAS + IMPUTAÇÃO\n",
    "# --------------------------------------------------\n",
    "numeric_cols = df.select_dtypes(include=[np.number]).columns.drop([\"id\", TARGET])\n",
    "na_threshold = 0.30\n",
    "valid_cols = numeric_cols[df[numeric_cols].isna().mean() < na_threshold].tolist()\n",
    "valid_cols.remove('index')\n",
    "\n",
    "df[valid_cols] = df[valid_cols].fillna(df[valid_cols].median())\n",
    "\n",
    "# --------------------------------------------------\n",
    "# 6. DATAFRAME FINAL\n",
    "# --------------------------------------------------\n",
    "\n",
    "FEATURES = [\n",
    "    'total_rec_prncp',\n",
    "    'out_prncp_inv',\n",
    "    'out_prncp',\n",
    "    'total_rec_int',\n",
    "    'last_pymnt_amnt',\n",
    "    'loan_amnt',\n",
    "    'funded_amnt'\n",
    "]\n",
    "\n",
    "\n",
    "df_model = df[[\"id\", \"date\", TARGET] + FEATURES].dropna().copy()"
   ]
  },
  {
   "cell_type": "code",
   "execution_count": 22,
   "id": "accfd194",
   "metadata": {},
   "outputs": [],
   "source": [
    "def create_safras_with_perturbations(\n",
    "    df: pd.DataFrame,\n",
    "    start_ym: str = \"2023-01\",          # inclusive\n",
    "    end_ym: str   = \"2023-06\",          # inclusive\n",
    "    target_col: str = \"target\",\n",
    "    id_col: str = \"id\",\n",
    "    noise_level: float = 0.05,          # 5 % do desvio-padrão\n",
    "    random_state: int = 42,\n",
    "    add_date_col: bool = True,\n",
    "    date_col_name: str = \"ref_date\"\n",
    ") -> pd.DataFrame:\n",
    "    \"\"\"\n",
    "    Gera um dataset concatenado com múltiplas 'safras' mensais.\n",
    "    Cada safra é uma cópia da anterior com perturbação gaussiana\n",
    "    (ruído aditivo proporcional ao desvio-padrão da feature).\n",
    "\n",
    "    Parâmetros\n",
    "    ----------\n",
    "    df : DataFrame já preparado (ex.: df_model)\n",
    "    start_ym, end_ym : 'YYYY-MM' de início e fim inclusive\n",
    "    target_col : nome da coluna binária de target (não perturbada)\n",
    "    id_col     : identificador único mantido entre safras\n",
    "    noise_level: fração do desvio-padrão adicionada como ruído (σ_ruído = noise_level * σ_feature)\n",
    "    random_state : semente para reprodutibilidade\n",
    "    add_date_col : se True, cria coluna de timestamp no 1º dia do mês\n",
    "    date_col_name: nome desta coluna de data gerada\n",
    "    \"\"\"\n",
    "    rng = np.random.default_rng(random_state)\n",
    "\n",
    "    # --- 1. Pré-processamento ----------------------------------------------\n",
    "    df_base = df.copy(deep=True)\n",
    "    # Elimina quaisquer colunas de datas já existentes\n",
    "    date_like = df_base.select_dtypes(include=[\"datetime\", \"datetimetz\"]).columns\n",
    "    df_base.drop(columns=date_like, errors=\"ignore\", inplace=True)\n",
    "\n",
    "    # Identifica colunas numéricas a perturbar (exclui id e target)\n",
    "    num_cols = df_base.select_dtypes(include=[np.number]).columns.difference([id_col, target_col])\n",
    "\n",
    "    # Constrói sequência de Year-Month entre start e end (inclusive)\n",
    "    periods = pd.period_range(start=start_ym, end=end_ym, freq=\"M\")\n",
    "\n",
    "    # --- 2. Geração das safras ---------------------------------------------\n",
    "    all_batches = []\n",
    "    prev_batch = df_base\n",
    "\n",
    "    for idx, period in enumerate(periods):\n",
    "        batch = prev_batch.copy(deep=True)\n",
    "\n",
    "        # Atualiza coluna de safra\n",
    "        batch[\"safra\"] = int(period.strftime(\"%Y%m\"))\n",
    "\n",
    "        # Gera coluna de data opcional\n",
    "        if add_date_col:\n",
    "            batch[date_col_name] = period.to_timestamp(\"D\")  # 1º dia do mês\n",
    "\n",
    "        # Aplica ruído a partir da 2ª safra\n",
    "        if idx > 0:\n",
    "            for col in num_cols:\n",
    "                std = prev_batch[col].std(ddof=0)\n",
    "                noise = rng.normal(loc=0.0, scale=noise_level * std, size=len(batch))\n",
    "                batch[col] = prev_batch[col] + noise\n",
    "\n",
    "        all_batches.append(batch)\n",
    "        prev_batch = batch  # referência para próxima perturbação\n",
    "\n",
    "    # --- 3. Concatena e devolve --------------------------------------------\n",
    "    df_safras = pd.concat(all_batches, ignore_index=True)\n",
    "    return df_safras\n"
   ]
  },
  {
   "cell_type": "code",
   "execution_count": 23,
   "id": "bddb1f6c",
   "metadata": {},
   "outputs": [
    {
     "data": {
      "text/plain": [
       "safra\n",
       "202201    1000\n",
       "202202    1000\n",
       "202203    1000\n",
       "202204    1000\n",
       "202205    1000\n",
       "202206    1000\n",
       "202207    1000\n",
       "202208    1000\n",
       "202209    1000\n",
       "202210    1000\n",
       "202211    1000\n",
       "202212    1000\n",
       "202301    1000\n",
       "202302    1000\n",
       "202303    1000\n",
       "202304    1000\n",
       "202305    1000\n",
       "202306    1000\n",
       "202307    1000\n",
       "202308    1000\n",
       "202309    1000\n",
       "202310    1000\n",
       "202311    1000\n",
       "202312    1000\n",
       "202401    1000\n",
       "202402    1000\n",
       "202403    1000\n",
       "202404    1000\n",
       "202405    1000\n",
       "202406    1000\n",
       "202407    1000\n",
       "202408    1000\n",
       "202409    1000\n",
       "202410    1000\n",
       "202411    1000\n",
       "202412    1000\n",
       "202501    1000\n",
       "202502    1000\n",
       "202503    1000\n",
       "202504    1000\n",
       "202505    1000\n",
       "202506    1000\n",
       "202507    1000\n",
       "202508    1000\n",
       "202509    1000\n",
       "202510    1000\n",
       "202511    1000\n",
       "202512    1000\n",
       "dtype: int64"
      ]
     },
     "metadata": {},
     "output_type": "display_data"
    }
   ],
   "source": [
    "# df_model é o DataFrame que você produziu acima\n",
    "df_model = create_safras_with_perturbations(\n",
    "    df_model,\n",
    "    start_ym=\"2022-01\",\n",
    "    end_ym=\"2025-12\",\n",
    "    noise_level=0.30,        # 5 % do desvio-padrão\n",
    "    random_state=123\n",
    ")\n",
    "\n",
    "display(df_model.groupby(\"safra\").size())"
   ]
  },
  {
   "cell_type": "code",
   "execution_count": 24,
   "id": "95fc4071",
   "metadata": {},
   "outputs": [],
   "source": [
    "# --------------------------------------------------\n",
    "# 7. SPLIT TREINO / TESTE\n",
    "# --------------------------------------------------\n",
    "train_idx, test_idx = train_test_split(\n",
    "    df_model.index,\n",
    "    test_size=0.30,\n",
    "    stratify=df_model[TARGET],\n",
    "    random_state=42,\n",
    ")\n",
    "\n",
    "df_train = df_model.loc[train_idx].copy()\n",
    "df_test  = df_model.loc[test_idx].copy()\n",
    "\n",
    "X_train, y_train = df_train[FEATURES], df_train[TARGET]\n",
    "X_test , y_test  = df_test[FEATURES] , df_test[TARGET]\n"
   ]
  },
  {
   "cell_type": "code",
   "execution_count": 25,
   "id": "aafb8662",
   "metadata": {},
   "outputs": [],
   "source": [
    "# --------------------------------------------------\n",
    "# 8. MODELOS COM PARÂMETROS APRIMORADOS\n",
    "# --------------------------------------------------\n",
    "models = {\n",
    "    \"LogisticRegression\": LogisticRegression(\n",
    "        max_iter=2000,\n",
    "        solver='lbfgs',       # bom para datasets médios\n",
    "        class_weight='balanced',  # trata desbalanceamento\n",
    "        C=1.0                 # regularização inversa (quanto menor, mais regularizado)\n",
    "    ),\n",
    "    \n",
    "    \"DecisionTree\": DecisionTreeClassifier(\n",
    "        max_depth=6,          # evita overfitting\n",
    "        min_samples_leaf=50,  # tamanho mínimo das folhas\n",
    "        class_weight='balanced',\n",
    "        random_state=42\n",
    "    ),\n",
    "\n",
    "    \"XGBoost\": XGBClassifier(\n",
    "        n_estimators=300,     \n",
    "        learning_rate=0.05,   \n",
    "        max_depth=4,          \n",
    "        subsample=0.8,\n",
    "        colsample_bytree=0.8,\n",
    "        scale_pos_weight=1.0,     # pode ser ajustado com base no desbalanceamento\n",
    "        #use_label_encoder=False,\n",
    "        eval_metric='logloss',\n",
    "        random_state=42,\n",
    "        n_jobs=-1\n",
    "    ),\n",
    "\n",
    "    \"LightGBM\": LGBMClassifier(\n",
    "        n_estimators=300,\n",
    "        learning_rate=0.05,\n",
    "        max_depth=4,\n",
    "        num_leaves=15,            # normalmente ≈ 2^max_depth\n",
    "        min_child_samples=50,\n",
    "        subsample=0.8,\n",
    "        colsample_bytree=0.8,\n",
    "        class_weight='balanced',\n",
    "        random_state=42,\n",
    "        n_jobs=-1,\n",
    "        verbosity=-1\n",
    "    )\n",
    "}"
   ]
  },
  {
   "cell_type": "code",
   "execution_count": 26,
   "id": "f2151921",
   "metadata": {},
   "outputs": [
    {
     "name": "stdout",
     "output_type": "stream",
     "text": [
      "\n",
      "🔹  Treinando LogisticRegression\n"
     ]
    },
    {
     "data": {
      "application/vnd.plotly.v1+json": {
       "config": {
        "plotlyServerURL": "https://plot.ly"
       },
       "data": [
        {
         "fill": "toself",
         "fillcolor": "rgba(217,58,70,0.3)",
         "line": {
          "color": "rgba(217,58,70,0.8)"
         },
         "name": "Group (-inf, 482.86)",
         "r": {
          "bdata": "U1PQUUtW6L/JwsmMkFW/v1CYKnejjdC/qF+LcUBWwD8hnPWumqXbv46fHWPjVcq/F13AW/zwsD8=",
          "dtype": "f8"
         },
         "theta": [
          "total_rec_prncp",
          "out_prncp_inv",
          "out_prncp",
          "total_rec_int",
          "last_pymnt_amnt",
          "loan_amnt",
          "funded_amnt"
         ],
         "type": "scatterpolar"
        },
        {
         "fill": "toself",
         "fillcolor": "rgba(230,148,154,0.3)",
         "line": {
          "color": "rgba(230,148,154,0.8)"
         },
         "name": "Group [482.86, 498.45)",
         "r": {
          "bdata": "FCF1gO+Zxr9TBXIZPjmlv14sCmTJKrO/Ye7Ve1swnb/eXuy+vQa+v7V5rQVoK7q/Ecgl7Siiqb8=",
          "dtype": "f8"
         },
         "theta": [
          "total_rec_prncp",
          "out_prncp_inv",
          "out_prncp",
          "total_rec_int",
          "last_pymnt_amnt",
          "loan_amnt",
          "funded_amnt"
         ],
         "type": "scatterpolar"
        },
        {
         "fill": "toself",
         "fillcolor": "rgba(242,241,241,0.3)",
         "line": {
          "color": "rgba(242,241,241,0.8)"
         },
         "name": "Group [498.45, 513.40)",
         "r": {
          "bdata": "XkFndof+sL8/fBJEQY1wv2sWT15QeIq/FQZmhak8mr/5LpHMKmWxv+AKjxeHSK6/DP6qVy7XrL8=",
          "dtype": "f8"
         },
         "theta": [
          "total_rec_prncp",
          "out_prncp_inv",
          "out_prncp",
          "total_rec_int",
          "last_pymnt_amnt",
          "loan_amnt",
          "funded_amnt"
         ],
         "type": "scatterpolar"
        },
        {
         "fill": "toself",
         "fillcolor": "rgba(153,183,205,0.3)",
         "line": {
          "color": "rgba(153,183,205,0.8)"
         },
         "name": "Group [513.40, 534.47)",
         "r": {
          "bdata": "dY/1FlD1tD+sK4IrdXSnP/sBVjPCJ6U/0HMyGEvLkb9Uyt2UfkCDv9wgrdlzwpo/ZjXTkUYsMj8=",
          "dtype": "f8"
         },
         "theta": [
          "total_rec_prncp",
          "out_prncp_inv",
          "out_prncp",
          "total_rec_int",
          "last_pymnt_amnt",
          "loan_amnt",
          "funded_amnt"
         ],
         "type": "scatterpolar"
        },
        {
         "fill": "toself",
         "fillcolor": "rgba(65,124,167,0.3)",
         "line": {
          "color": "rgba(65,124,167,0.8)"
         },
         "name": "Group [534.47, inf)",
         "r": {
          "bdata": "i+enKAnR5j+pTRnWPzi7P+KJG4+zrc4/0kmSEBmUuL8W6W4xvLrbP+cGfUZ5b8s/5nmpaMN7ob8=",
          "dtype": "f8"
         },
         "theta": [
          "total_rec_prncp",
          "out_prncp_inv",
          "out_prncp",
          "total_rec_int",
          "last_pymnt_amnt",
          "loan_amnt",
          "funded_amnt"
         ],
         "type": "scatterpolar"
        }
       ],
       "layout": {
        "polar": {
         "radialaxis": {
          "showticklabels": false
         }
        },
        "template": {
         "data": {
          "bar": [
           {
            "error_x": {
             "color": "#2a3f5f"
            },
            "error_y": {
             "color": "#2a3f5f"
            },
            "marker": {
             "line": {
              "color": "white",
              "width": 0.5
             },
             "pattern": {
              "fillmode": "overlay",
              "size": 10,
              "solidity": 0.2
             }
            },
            "type": "bar"
           }
          ],
          "barpolar": [
           {
            "marker": {
             "line": {
              "color": "white",
              "width": 0.5
             },
             "pattern": {
              "fillmode": "overlay",
              "size": 10,
              "solidity": 0.2
             }
            },
            "type": "barpolar"
           }
          ],
          "carpet": [
           {
            "aaxis": {
             "endlinecolor": "#2a3f5f",
             "gridcolor": "#C8D4E3",
             "linecolor": "#C8D4E3",
             "minorgridcolor": "#C8D4E3",
             "startlinecolor": "#2a3f5f"
            },
            "baxis": {
             "endlinecolor": "#2a3f5f",
             "gridcolor": "#C8D4E3",
             "linecolor": "#C8D4E3",
             "minorgridcolor": "#C8D4E3",
             "startlinecolor": "#2a3f5f"
            },
            "type": "carpet"
           }
          ],
          "choropleth": [
           {
            "colorbar": {
             "outlinewidth": 0,
             "ticks": ""
            },
            "type": "choropleth"
           }
          ],
          "contour": [
           {
            "colorbar": {
             "outlinewidth": 0,
             "ticks": ""
            },
            "colorscale": [
             [
              0,
              "#0d0887"
             ],
             [
              0.1111111111111111,
              "#46039f"
             ],
             [
              0.2222222222222222,
              "#7201a8"
             ],
             [
              0.3333333333333333,
              "#9c179e"
             ],
             [
              0.4444444444444444,
              "#bd3786"
             ],
             [
              0.5555555555555556,
              "#d8576b"
             ],
             [
              0.6666666666666666,
              "#ed7953"
             ],
             [
              0.7777777777777778,
              "#fb9f3a"
             ],
             [
              0.8888888888888888,
              "#fdca26"
             ],
             [
              1,
              "#f0f921"
             ]
            ],
            "type": "contour"
           }
          ],
          "contourcarpet": [
           {
            "colorbar": {
             "outlinewidth": 0,
             "ticks": ""
            },
            "type": "contourcarpet"
           }
          ],
          "heatmap": [
           {
            "colorbar": {
             "outlinewidth": 0,
             "ticks": ""
            },
            "colorscale": [
             [
              0,
              "#0d0887"
             ],
             [
              0.1111111111111111,
              "#46039f"
             ],
             [
              0.2222222222222222,
              "#7201a8"
             ],
             [
              0.3333333333333333,
              "#9c179e"
             ],
             [
              0.4444444444444444,
              "#bd3786"
             ],
             [
              0.5555555555555556,
              "#d8576b"
             ],
             [
              0.6666666666666666,
              "#ed7953"
             ],
             [
              0.7777777777777778,
              "#fb9f3a"
             ],
             [
              0.8888888888888888,
              "#fdca26"
             ],
             [
              1,
              "#f0f921"
             ]
            ],
            "type": "heatmap"
           }
          ],
          "histogram": [
           {
            "marker": {
             "pattern": {
              "fillmode": "overlay",
              "size": 10,
              "solidity": 0.2
             }
            },
            "type": "histogram"
           }
          ],
          "histogram2d": [
           {
            "colorbar": {
             "outlinewidth": 0,
             "ticks": ""
            },
            "colorscale": [
             [
              0,
              "#0d0887"
             ],
             [
              0.1111111111111111,
              "#46039f"
             ],
             [
              0.2222222222222222,
              "#7201a8"
             ],
             [
              0.3333333333333333,
              "#9c179e"
             ],
             [
              0.4444444444444444,
              "#bd3786"
             ],
             [
              0.5555555555555556,
              "#d8576b"
             ],
             [
              0.6666666666666666,
              "#ed7953"
             ],
             [
              0.7777777777777778,
              "#fb9f3a"
             ],
             [
              0.8888888888888888,
              "#fdca26"
             ],
             [
              1,
              "#f0f921"
             ]
            ],
            "type": "histogram2d"
           }
          ],
          "histogram2dcontour": [
           {
            "colorbar": {
             "outlinewidth": 0,
             "ticks": ""
            },
            "colorscale": [
             [
              0,
              "#0d0887"
             ],
             [
              0.1111111111111111,
              "#46039f"
             ],
             [
              0.2222222222222222,
              "#7201a8"
             ],
             [
              0.3333333333333333,
              "#9c179e"
             ],
             [
              0.4444444444444444,
              "#bd3786"
             ],
             [
              0.5555555555555556,
              "#d8576b"
             ],
             [
              0.6666666666666666,
              "#ed7953"
             ],
             [
              0.7777777777777778,
              "#fb9f3a"
             ],
             [
              0.8888888888888888,
              "#fdca26"
             ],
             [
              1,
              "#f0f921"
             ]
            ],
            "type": "histogram2dcontour"
           }
          ],
          "mesh3d": [
           {
            "colorbar": {
             "outlinewidth": 0,
             "ticks": ""
            },
            "type": "mesh3d"
           }
          ],
          "parcoords": [
           {
            "line": {
             "colorbar": {
              "outlinewidth": 0,
              "ticks": ""
             }
            },
            "type": "parcoords"
           }
          ],
          "pie": [
           {
            "automargin": true,
            "type": "pie"
           }
          ],
          "scatter": [
           {
            "fillpattern": {
             "fillmode": "overlay",
             "size": 10,
             "solidity": 0.2
            },
            "type": "scatter"
           }
          ],
          "scatter3d": [
           {
            "line": {
             "colorbar": {
              "outlinewidth": 0,
              "ticks": ""
             }
            },
            "marker": {
             "colorbar": {
              "outlinewidth": 0,
              "ticks": ""
             }
            },
            "type": "scatter3d"
           }
          ],
          "scattercarpet": [
           {
            "marker": {
             "colorbar": {
              "outlinewidth": 0,
              "ticks": ""
             }
            },
            "type": "scattercarpet"
           }
          ],
          "scattergeo": [
           {
            "marker": {
             "colorbar": {
              "outlinewidth": 0,
              "ticks": ""
             }
            },
            "type": "scattergeo"
           }
          ],
          "scattergl": [
           {
            "marker": {
             "colorbar": {
              "outlinewidth": 0,
              "ticks": ""
             }
            },
            "type": "scattergl"
           }
          ],
          "scattermap": [
           {
            "marker": {
             "colorbar": {
              "outlinewidth": 0,
              "ticks": ""
             }
            },
            "type": "scattermap"
           }
          ],
          "scattermapbox": [
           {
            "marker": {
             "colorbar": {
              "outlinewidth": 0,
              "ticks": ""
             }
            },
            "type": "scattermapbox"
           }
          ],
          "scatterpolar": [
           {
            "marker": {
             "colorbar": {
              "outlinewidth": 0,
              "ticks": ""
             }
            },
            "type": "scatterpolar"
           }
          ],
          "scatterpolargl": [
           {
            "marker": {
             "colorbar": {
              "outlinewidth": 0,
              "ticks": ""
             }
            },
            "type": "scatterpolargl"
           }
          ],
          "scatterternary": [
           {
            "marker": {
             "colorbar": {
              "outlinewidth": 0,
              "ticks": ""
             }
            },
            "type": "scatterternary"
           }
          ],
          "surface": [
           {
            "colorbar": {
             "outlinewidth": 0,
             "ticks": ""
            },
            "colorscale": [
             [
              0,
              "#0d0887"
             ],
             [
              0.1111111111111111,
              "#46039f"
             ],
             [
              0.2222222222222222,
              "#7201a8"
             ],
             [
              0.3333333333333333,
              "#9c179e"
             ],
             [
              0.4444444444444444,
              "#bd3786"
             ],
             [
              0.5555555555555556,
              "#d8576b"
             ],
             [
              0.6666666666666666,
              "#ed7953"
             ],
             [
              0.7777777777777778,
              "#fb9f3a"
             ],
             [
              0.8888888888888888,
              "#fdca26"
             ],
             [
              1,
              "#f0f921"
             ]
            ],
            "type": "surface"
           }
          ],
          "table": [
           {
            "cells": {
             "fill": {
              "color": "#EBF0F8"
             },
             "line": {
              "color": "white"
             }
            },
            "header": {
             "fill": {
              "color": "#C8D4E3"
             },
             "line": {
              "color": "white"
             }
            },
            "type": "table"
           }
          ]
         },
         "layout": {
          "annotationdefaults": {
           "arrowcolor": "#2a3f5f",
           "arrowhead": 0,
           "arrowwidth": 1
          },
          "autotypenumbers": "strict",
          "coloraxis": {
           "colorbar": {
            "outlinewidth": 0,
            "ticks": ""
           }
          },
          "colorscale": {
           "diverging": [
            [
             0,
             "#8e0152"
            ],
            [
             0.1,
             "#c51b7d"
            ],
            [
             0.2,
             "#de77ae"
            ],
            [
             0.3,
             "#f1b6da"
            ],
            [
             0.4,
             "#fde0ef"
            ],
            [
             0.5,
             "#f7f7f7"
            ],
            [
             0.6,
             "#e6f5d0"
            ],
            [
             0.7,
             "#b8e186"
            ],
            [
             0.8,
             "#7fbc41"
            ],
            [
             0.9,
             "#4d9221"
            ],
            [
             1,
             "#276419"
            ]
           ],
           "sequential": [
            [
             0,
             "#0d0887"
            ],
            [
             0.1111111111111111,
             "#46039f"
            ],
            [
             0.2222222222222222,
             "#7201a8"
            ],
            [
             0.3333333333333333,
             "#9c179e"
            ],
            [
             0.4444444444444444,
             "#bd3786"
            ],
            [
             0.5555555555555556,
             "#d8576b"
            ],
            [
             0.6666666666666666,
             "#ed7953"
            ],
            [
             0.7777777777777778,
             "#fb9f3a"
            ],
            [
             0.8888888888888888,
             "#fdca26"
            ],
            [
             1,
             "#f0f921"
            ]
           ],
           "sequentialminus": [
            [
             0,
             "#0d0887"
            ],
            [
             0.1111111111111111,
             "#46039f"
            ],
            [
             0.2222222222222222,
             "#7201a8"
            ],
            [
             0.3333333333333333,
             "#9c179e"
            ],
            [
             0.4444444444444444,
             "#bd3786"
            ],
            [
             0.5555555555555556,
             "#d8576b"
            ],
            [
             0.6666666666666666,
             "#ed7953"
            ],
            [
             0.7777777777777778,
             "#fb9f3a"
            ],
            [
             0.8888888888888888,
             "#fdca26"
            ],
            [
             1,
             "#f0f921"
            ]
           ]
          },
          "colorway": [
           "#636efa",
           "#EF553B",
           "#00cc96",
           "#ab63fa",
           "#FFA15A",
           "#19d3f3",
           "#FF6692",
           "#B6E880",
           "#FF97FF",
           "#FECB52"
          ],
          "font": {
           "color": "#2a3f5f"
          },
          "geo": {
           "bgcolor": "white",
           "lakecolor": "white",
           "landcolor": "white",
           "showlakes": true,
           "showland": true,
           "subunitcolor": "#C8D4E3"
          },
          "hoverlabel": {
           "align": "left"
          },
          "hovermode": "closest",
          "mapbox": {
           "style": "light"
          },
          "paper_bgcolor": "white",
          "plot_bgcolor": "white",
          "polar": {
           "angularaxis": {
            "gridcolor": "#EBF0F8",
            "linecolor": "#EBF0F8",
            "ticks": ""
           },
           "bgcolor": "white",
           "radialaxis": {
            "gridcolor": "#EBF0F8",
            "linecolor": "#EBF0F8",
            "ticks": ""
           }
          },
          "scene": {
           "xaxis": {
            "backgroundcolor": "white",
            "gridcolor": "#DFE8F3",
            "gridwidth": 2,
            "linecolor": "#EBF0F8",
            "showbackground": true,
            "ticks": "",
            "zerolinecolor": "#EBF0F8"
           },
           "yaxis": {
            "backgroundcolor": "white",
            "gridcolor": "#DFE8F3",
            "gridwidth": 2,
            "linecolor": "#EBF0F8",
            "showbackground": true,
            "ticks": "",
            "zerolinecolor": "#EBF0F8"
           },
           "zaxis": {
            "backgroundcolor": "white",
            "gridcolor": "#DFE8F3",
            "gridwidth": 2,
            "linecolor": "#EBF0F8",
            "showbackground": true,
            "ticks": "",
            "zerolinecolor": "#EBF0F8"
           }
          },
          "shapedefaults": {
           "line": {
            "color": "#2a3f5f"
           }
          },
          "ternary": {
           "aaxis": {
            "gridcolor": "#DFE8F3",
            "linecolor": "#A2B1C6",
            "ticks": ""
           },
           "baxis": {
            "gridcolor": "#DFE8F3",
            "linecolor": "#A2B1C6",
            "ticks": ""
           },
           "bgcolor": "white",
           "caxis": {
            "gridcolor": "#DFE8F3",
            "linecolor": "#A2B1C6",
            "ticks": ""
           }
          },
          "title": {
           "x": 0.05
          },
          "xaxis": {
           "automargin": true,
           "gridcolor": "#EBF0F8",
           "linecolor": "#EBF0F8",
           "ticks": "",
           "title": {
            "standoff": 15
           },
           "zerolinecolor": "#EBF0F8",
           "zerolinewidth": 2
          },
          "yaxis": {
           "automargin": true,
           "gridcolor": "#EBF0F8",
           "linecolor": "#EBF0F8",
           "ticks": "",
           "title": {
            "standoff": 15
           },
           "zerolinecolor": "#EBF0F8",
           "zerolinewidth": 2
          }
         }
        },
        "title": {
         "text": "Radar – LogisticRegression"
        }
       }
      }
     },
     "metadata": {},
     "output_type": "display_data"
    },
    {
     "name": "stdout",
     "output_type": "stream",
     "text": [
      "\n",
      "🔹  Treinando DecisionTree\n"
     ]
    },
    {
     "data": {
      "application/vnd.plotly.v1+json": {
       "config": {
        "plotlyServerURL": "https://plot.ly"
       },
       "data": [
        {
         "fill": "toself",
         "fillcolor": "rgba(217,58,70,0.3)",
         "line": {
          "color": "rgba(217,58,70,0.8)"
         },
         "name": "Group (-inf, 279.81)",
         "r": {
          "bdata": "RhbBeBcB0L8hfvwgp8nHv/CsB0F5I9y/27eXj6Ftzj+NC4WaqIDQv9qV8aF6OtA/fEbsz+D04D8=",
          "dtype": "f8"
         },
         "theta": [
          "total_rec_prncp",
          "out_prncp_inv",
          "out_prncp",
          "total_rec_int",
          "last_pymnt_amnt",
          "loan_amnt",
          "funded_amnt"
         ],
         "type": "scatterpolar"
        },
        {
         "fill": "toself",
         "fillcolor": "rgba(230,148,154,0.3)",
         "line": {
          "color": "rgba(230,148,154,0.8)"
         },
         "name": "Group [279.81, 376.80)",
         "r": {
          "bdata": "+/tmBa/M5b/r5iJjc4KoPyi2gw64G8S/ZRuSmmGltz/x8vq74Hi9v8WKFxX9TMK/82EpmD9hY78=",
          "dtype": "f8"
         },
         "theta": [
          "total_rec_prncp",
          "out_prncp_inv",
          "out_prncp",
          "total_rec_int",
          "last_pymnt_amnt",
          "loan_amnt",
          "funded_amnt"
         ],
         "type": "scatterpolar"
        },
        {
         "fill": "toself",
         "fillcolor": "rgba(242,241,241,0.3)",
         "line": {
          "color": "rgba(242,241,241,0.8)"
         },
         "name": "Group [376.80, 521.96)",
         "r": {
          "bdata": "2WYFx0Mz2L/Q37ktSQORv1GIerDokby/JcrJvFKipj9p/iEIe7rYv78bBakh+cu/91byPIiQwL8=",
          "dtype": "f8"
         },
         "theta": [
          "total_rec_prncp",
          "out_prncp_inv",
          "out_prncp",
          "total_rec_int",
          "last_pymnt_amnt",
          "loan_amnt",
          "funded_amnt"
         ],
         "type": "scatterpolar"
        },
        {
         "fill": "toself",
         "fillcolor": "rgba(153,183,205,0.3)",
         "line": {
          "color": "rgba(153,183,205,0.8)"
         },
         "name": "Group [521.96, 687.25)",
         "r": {
          "bdata": "+fuNhb3xtD/90urYSiODvyBxCgQNOsA/8CHvDdOnkb8qfPqRc0uxP6Xu10afvMS/0Kcjq6niq78=",
          "dtype": "f8"
         },
         "theta": [
          "total_rec_prncp",
          "out_prncp_inv",
          "out_prncp",
          "total_rec_int",
          "last_pymnt_amnt",
          "loan_amnt",
          "funded_amnt"
         ],
         "type": "scatterpolar"
        },
        {
         "fill": "toself",
         "fillcolor": "rgba(65,124,167,0.3)",
         "line": {
          "color": "rgba(65,124,167,0.8)"
         },
         "name": "Group [687.25, inf)",
         "r": {
          "bdata": "AZdrg9E24j+GOCCg8iecPy7b8ivtPLQ/SMl4EB1Aur8eS9yoSZfQP6O7OG114Nc/4CYcAl+xqT8=",
          "dtype": "f8"
         },
         "theta": [
          "total_rec_prncp",
          "out_prncp_inv",
          "out_prncp",
          "total_rec_int",
          "last_pymnt_amnt",
          "loan_amnt",
          "funded_amnt"
         ],
         "type": "scatterpolar"
        }
       ],
       "layout": {
        "polar": {
         "radialaxis": {
          "showticklabels": false
         }
        },
        "template": {
         "data": {
          "bar": [
           {
            "error_x": {
             "color": "#2a3f5f"
            },
            "error_y": {
             "color": "#2a3f5f"
            },
            "marker": {
             "line": {
              "color": "white",
              "width": 0.5
             },
             "pattern": {
              "fillmode": "overlay",
              "size": 10,
              "solidity": 0.2
             }
            },
            "type": "bar"
           }
          ],
          "barpolar": [
           {
            "marker": {
             "line": {
              "color": "white",
              "width": 0.5
             },
             "pattern": {
              "fillmode": "overlay",
              "size": 10,
              "solidity": 0.2
             }
            },
            "type": "barpolar"
           }
          ],
          "carpet": [
           {
            "aaxis": {
             "endlinecolor": "#2a3f5f",
             "gridcolor": "#C8D4E3",
             "linecolor": "#C8D4E3",
             "minorgridcolor": "#C8D4E3",
             "startlinecolor": "#2a3f5f"
            },
            "baxis": {
             "endlinecolor": "#2a3f5f",
             "gridcolor": "#C8D4E3",
             "linecolor": "#C8D4E3",
             "minorgridcolor": "#C8D4E3",
             "startlinecolor": "#2a3f5f"
            },
            "type": "carpet"
           }
          ],
          "choropleth": [
           {
            "colorbar": {
             "outlinewidth": 0,
             "ticks": ""
            },
            "type": "choropleth"
           }
          ],
          "contour": [
           {
            "colorbar": {
             "outlinewidth": 0,
             "ticks": ""
            },
            "colorscale": [
             [
              0,
              "#0d0887"
             ],
             [
              0.1111111111111111,
              "#46039f"
             ],
             [
              0.2222222222222222,
              "#7201a8"
             ],
             [
              0.3333333333333333,
              "#9c179e"
             ],
             [
              0.4444444444444444,
              "#bd3786"
             ],
             [
              0.5555555555555556,
              "#d8576b"
             ],
             [
              0.6666666666666666,
              "#ed7953"
             ],
             [
              0.7777777777777778,
              "#fb9f3a"
             ],
             [
              0.8888888888888888,
              "#fdca26"
             ],
             [
              1,
              "#f0f921"
             ]
            ],
            "type": "contour"
           }
          ],
          "contourcarpet": [
           {
            "colorbar": {
             "outlinewidth": 0,
             "ticks": ""
            },
            "type": "contourcarpet"
           }
          ],
          "heatmap": [
           {
            "colorbar": {
             "outlinewidth": 0,
             "ticks": ""
            },
            "colorscale": [
             [
              0,
              "#0d0887"
             ],
             [
              0.1111111111111111,
              "#46039f"
             ],
             [
              0.2222222222222222,
              "#7201a8"
             ],
             [
              0.3333333333333333,
              "#9c179e"
             ],
             [
              0.4444444444444444,
              "#bd3786"
             ],
             [
              0.5555555555555556,
              "#d8576b"
             ],
             [
              0.6666666666666666,
              "#ed7953"
             ],
             [
              0.7777777777777778,
              "#fb9f3a"
             ],
             [
              0.8888888888888888,
              "#fdca26"
             ],
             [
              1,
              "#f0f921"
             ]
            ],
            "type": "heatmap"
           }
          ],
          "histogram": [
           {
            "marker": {
             "pattern": {
              "fillmode": "overlay",
              "size": 10,
              "solidity": 0.2
             }
            },
            "type": "histogram"
           }
          ],
          "histogram2d": [
           {
            "colorbar": {
             "outlinewidth": 0,
             "ticks": ""
            },
            "colorscale": [
             [
              0,
              "#0d0887"
             ],
             [
              0.1111111111111111,
              "#46039f"
             ],
             [
              0.2222222222222222,
              "#7201a8"
             ],
             [
              0.3333333333333333,
              "#9c179e"
             ],
             [
              0.4444444444444444,
              "#bd3786"
             ],
             [
              0.5555555555555556,
              "#d8576b"
             ],
             [
              0.6666666666666666,
              "#ed7953"
             ],
             [
              0.7777777777777778,
              "#fb9f3a"
             ],
             [
              0.8888888888888888,
              "#fdca26"
             ],
             [
              1,
              "#f0f921"
             ]
            ],
            "type": "histogram2d"
           }
          ],
          "histogram2dcontour": [
           {
            "colorbar": {
             "outlinewidth": 0,
             "ticks": ""
            },
            "colorscale": [
             [
              0,
              "#0d0887"
             ],
             [
              0.1111111111111111,
              "#46039f"
             ],
             [
              0.2222222222222222,
              "#7201a8"
             ],
             [
              0.3333333333333333,
              "#9c179e"
             ],
             [
              0.4444444444444444,
              "#bd3786"
             ],
             [
              0.5555555555555556,
              "#d8576b"
             ],
             [
              0.6666666666666666,
              "#ed7953"
             ],
             [
              0.7777777777777778,
              "#fb9f3a"
             ],
             [
              0.8888888888888888,
              "#fdca26"
             ],
             [
              1,
              "#f0f921"
             ]
            ],
            "type": "histogram2dcontour"
           }
          ],
          "mesh3d": [
           {
            "colorbar": {
             "outlinewidth": 0,
             "ticks": ""
            },
            "type": "mesh3d"
           }
          ],
          "parcoords": [
           {
            "line": {
             "colorbar": {
              "outlinewidth": 0,
              "ticks": ""
             }
            },
            "type": "parcoords"
           }
          ],
          "pie": [
           {
            "automargin": true,
            "type": "pie"
           }
          ],
          "scatter": [
           {
            "fillpattern": {
             "fillmode": "overlay",
             "size": 10,
             "solidity": 0.2
            },
            "type": "scatter"
           }
          ],
          "scatter3d": [
           {
            "line": {
             "colorbar": {
              "outlinewidth": 0,
              "ticks": ""
             }
            },
            "marker": {
             "colorbar": {
              "outlinewidth": 0,
              "ticks": ""
             }
            },
            "type": "scatter3d"
           }
          ],
          "scattercarpet": [
           {
            "marker": {
             "colorbar": {
              "outlinewidth": 0,
              "ticks": ""
             }
            },
            "type": "scattercarpet"
           }
          ],
          "scattergeo": [
           {
            "marker": {
             "colorbar": {
              "outlinewidth": 0,
              "ticks": ""
             }
            },
            "type": "scattergeo"
           }
          ],
          "scattergl": [
           {
            "marker": {
             "colorbar": {
              "outlinewidth": 0,
              "ticks": ""
             }
            },
            "type": "scattergl"
           }
          ],
          "scattermap": [
           {
            "marker": {
             "colorbar": {
              "outlinewidth": 0,
              "ticks": ""
             }
            },
            "type": "scattermap"
           }
          ],
          "scattermapbox": [
           {
            "marker": {
             "colorbar": {
              "outlinewidth": 0,
              "ticks": ""
             }
            },
            "type": "scattermapbox"
           }
          ],
          "scatterpolar": [
           {
            "marker": {
             "colorbar": {
              "outlinewidth": 0,
              "ticks": ""
             }
            },
            "type": "scatterpolar"
           }
          ],
          "scatterpolargl": [
           {
            "marker": {
             "colorbar": {
              "outlinewidth": 0,
              "ticks": ""
             }
            },
            "type": "scatterpolargl"
           }
          ],
          "scatterternary": [
           {
            "marker": {
             "colorbar": {
              "outlinewidth": 0,
              "ticks": ""
             }
            },
            "type": "scatterternary"
           }
          ],
          "surface": [
           {
            "colorbar": {
             "outlinewidth": 0,
             "ticks": ""
            },
            "colorscale": [
             [
              0,
              "#0d0887"
             ],
             [
              0.1111111111111111,
              "#46039f"
             ],
             [
              0.2222222222222222,
              "#7201a8"
             ],
             [
              0.3333333333333333,
              "#9c179e"
             ],
             [
              0.4444444444444444,
              "#bd3786"
             ],
             [
              0.5555555555555556,
              "#d8576b"
             ],
             [
              0.6666666666666666,
              "#ed7953"
             ],
             [
              0.7777777777777778,
              "#fb9f3a"
             ],
             [
              0.8888888888888888,
              "#fdca26"
             ],
             [
              1,
              "#f0f921"
             ]
            ],
            "type": "surface"
           }
          ],
          "table": [
           {
            "cells": {
             "fill": {
              "color": "#EBF0F8"
             },
             "line": {
              "color": "white"
             }
            },
            "header": {
             "fill": {
              "color": "#C8D4E3"
             },
             "line": {
              "color": "white"
             }
            },
            "type": "table"
           }
          ]
         },
         "layout": {
          "annotationdefaults": {
           "arrowcolor": "#2a3f5f",
           "arrowhead": 0,
           "arrowwidth": 1
          },
          "autotypenumbers": "strict",
          "coloraxis": {
           "colorbar": {
            "outlinewidth": 0,
            "ticks": ""
           }
          },
          "colorscale": {
           "diverging": [
            [
             0,
             "#8e0152"
            ],
            [
             0.1,
             "#c51b7d"
            ],
            [
             0.2,
             "#de77ae"
            ],
            [
             0.3,
             "#f1b6da"
            ],
            [
             0.4,
             "#fde0ef"
            ],
            [
             0.5,
             "#f7f7f7"
            ],
            [
             0.6,
             "#e6f5d0"
            ],
            [
             0.7,
             "#b8e186"
            ],
            [
             0.8,
             "#7fbc41"
            ],
            [
             0.9,
             "#4d9221"
            ],
            [
             1,
             "#276419"
            ]
           ],
           "sequential": [
            [
             0,
             "#0d0887"
            ],
            [
             0.1111111111111111,
             "#46039f"
            ],
            [
             0.2222222222222222,
             "#7201a8"
            ],
            [
             0.3333333333333333,
             "#9c179e"
            ],
            [
             0.4444444444444444,
             "#bd3786"
            ],
            [
             0.5555555555555556,
             "#d8576b"
            ],
            [
             0.6666666666666666,
             "#ed7953"
            ],
            [
             0.7777777777777778,
             "#fb9f3a"
            ],
            [
             0.8888888888888888,
             "#fdca26"
            ],
            [
             1,
             "#f0f921"
            ]
           ],
           "sequentialminus": [
            [
             0,
             "#0d0887"
            ],
            [
             0.1111111111111111,
             "#46039f"
            ],
            [
             0.2222222222222222,
             "#7201a8"
            ],
            [
             0.3333333333333333,
             "#9c179e"
            ],
            [
             0.4444444444444444,
             "#bd3786"
            ],
            [
             0.5555555555555556,
             "#d8576b"
            ],
            [
             0.6666666666666666,
             "#ed7953"
            ],
            [
             0.7777777777777778,
             "#fb9f3a"
            ],
            [
             0.8888888888888888,
             "#fdca26"
            ],
            [
             1,
             "#f0f921"
            ]
           ]
          },
          "colorway": [
           "#636efa",
           "#EF553B",
           "#00cc96",
           "#ab63fa",
           "#FFA15A",
           "#19d3f3",
           "#FF6692",
           "#B6E880",
           "#FF97FF",
           "#FECB52"
          ],
          "font": {
           "color": "#2a3f5f"
          },
          "geo": {
           "bgcolor": "white",
           "lakecolor": "white",
           "landcolor": "white",
           "showlakes": true,
           "showland": true,
           "subunitcolor": "#C8D4E3"
          },
          "hoverlabel": {
           "align": "left"
          },
          "hovermode": "closest",
          "mapbox": {
           "style": "light"
          },
          "paper_bgcolor": "white",
          "plot_bgcolor": "white",
          "polar": {
           "angularaxis": {
            "gridcolor": "#EBF0F8",
            "linecolor": "#EBF0F8",
            "ticks": ""
           },
           "bgcolor": "white",
           "radialaxis": {
            "gridcolor": "#EBF0F8",
            "linecolor": "#EBF0F8",
            "ticks": ""
           }
          },
          "scene": {
           "xaxis": {
            "backgroundcolor": "white",
            "gridcolor": "#DFE8F3",
            "gridwidth": 2,
            "linecolor": "#EBF0F8",
            "showbackground": true,
            "ticks": "",
            "zerolinecolor": "#EBF0F8"
           },
           "yaxis": {
            "backgroundcolor": "white",
            "gridcolor": "#DFE8F3",
            "gridwidth": 2,
            "linecolor": "#EBF0F8",
            "showbackground": true,
            "ticks": "",
            "zerolinecolor": "#EBF0F8"
           },
           "zaxis": {
            "backgroundcolor": "white",
            "gridcolor": "#DFE8F3",
            "gridwidth": 2,
            "linecolor": "#EBF0F8",
            "showbackground": true,
            "ticks": "",
            "zerolinecolor": "#EBF0F8"
           }
          },
          "shapedefaults": {
           "line": {
            "color": "#2a3f5f"
           }
          },
          "ternary": {
           "aaxis": {
            "gridcolor": "#DFE8F3",
            "linecolor": "#A2B1C6",
            "ticks": ""
           },
           "baxis": {
            "gridcolor": "#DFE8F3",
            "linecolor": "#A2B1C6",
            "ticks": ""
           },
           "bgcolor": "white",
           "caxis": {
            "gridcolor": "#DFE8F3",
            "linecolor": "#A2B1C6",
            "ticks": ""
           }
          },
          "title": {
           "x": 0.05
          },
          "xaxis": {
           "automargin": true,
           "gridcolor": "#EBF0F8",
           "linecolor": "#EBF0F8",
           "ticks": "",
           "title": {
            "standoff": 15
           },
           "zerolinecolor": "#EBF0F8",
           "zerolinewidth": 2
          },
          "yaxis": {
           "automargin": true,
           "gridcolor": "#EBF0F8",
           "linecolor": "#EBF0F8",
           "ticks": "",
           "title": {
            "standoff": 15
           },
           "zerolinecolor": "#EBF0F8",
           "zerolinewidth": 2
          }
         }
        },
        "title": {
         "text": "Radar – DecisionTree"
        }
       }
      }
     },
     "metadata": {},
     "output_type": "display_data"
    },
    {
     "name": "stdout",
     "output_type": "stream",
     "text": [
      "\n",
      "🔹  Treinando XGBoost\n"
     ]
    },
    {
     "data": {
      "application/vnd.plotly.v1+json": {
       "config": {
        "plotlyServerURL": "https://plot.ly"
       },
       "data": [
        {
         "fill": "toself",
         "fillcolor": "rgba(217,58,70,0.3)",
         "line": {
          "color": "rgba(217,58,70,0.8)"
         },
         "name": "Group (-inf, 658.02)",
         "r": {
          "bdata": "27nbRFM03L9LYHGtBOG6v4n5woCt69O/JAqcYiNxxT+Obtd6LpvavwpwHEZoxqc/URWFhXmg0D8=",
          "dtype": "f8"
         },
         "theta": [
          "total_rec_prncp",
          "out_prncp_inv",
          "out_prncp",
          "total_rec_int",
          "last_pymnt_amnt",
          "loan_amnt",
          "funded_amnt"
         ],
         "type": "scatterpolar"
        },
        {
         "fill": "toself",
         "fillcolor": "rgba(230,148,154,0.3)",
         "line": {
          "color": "rgba(230,148,154,0.8)"
         },
         "name": "Group [658.02, 798.62)",
         "r": {
          "bdata": "Fd5EpFgZ4r+iKr9Y1tqwvx28yr1dC8q/MCeixDl8sj/rbQqunpfNv/M4R1i6icy/c2/3smPgUL8=",
          "dtype": "f8"
         },
         "theta": [
          "total_rec_prncp",
          "out_prncp_inv",
          "out_prncp",
          "total_rec_int",
          "last_pymnt_amnt",
          "loan_amnt",
          "funded_amnt"
         ],
         "type": "scatterpolar"
        },
        {
         "fill": "toself",
         "fillcolor": "rgba(242,241,241,0.3)",
         "line": {
          "color": "rgba(242,241,241,0.8)"
         },
         "name": "Group [798.62, 896.40)",
         "r": {
          "bdata": "v7ItEek/yb9Ho2Id4ml1P96aPHwrpZA/uy2q7JcRpb/cBRe+LeW3v5j356q1vrG/AA6AEbs2oL8=",
          "dtype": "f8"
         },
         "theta": [
          "total_rec_prncp",
          "out_prncp_inv",
          "out_prncp",
          "total_rec_int",
          "last_pymnt_amnt",
          "loan_amnt",
          "funded_amnt"
         ],
         "type": "scatterpolar"
        },
        {
         "fill": "toself",
         "fillcolor": "rgba(153,183,205,0.3)",
         "line": {
          "color": "rgba(153,183,205,0.8)"
         },
         "name": "Group [896.40, 950.50)",
         "r": {
          "bdata": "8CYIm+XR2T9jHWrP/ISoPw55dh5Ztr0/SIm4spy+bD+3AB8oq0/CP9O82mUp97A/k05lhkCnkr8=",
          "dtype": "f8"
         },
         "theta": [
          "total_rec_prncp",
          "out_prncp_inv",
          "out_prncp",
          "total_rec_int",
          "last_pymnt_amnt",
          "loan_amnt",
          "funded_amnt"
         ],
         "type": "scatterpolar"
        },
        {
         "fill": "toself",
         "fillcolor": "rgba(65,124,167,0.3)",
         "line": {
          "color": "rgba(65,124,167,0.8)"
         },
         "name": "Group [950.50, inf)",
         "r": {
          "bdata": "489aduuH4z+L5gyv7B2OP0bI+rEVXr8/xKBo+Eaetr+SEQqVGtLdP2tPsvSHMNY/N0W8CPEcfD8=",
          "dtype": "f8"
         },
         "theta": [
          "total_rec_prncp",
          "out_prncp_inv",
          "out_prncp",
          "total_rec_int",
          "last_pymnt_amnt",
          "loan_amnt",
          "funded_amnt"
         ],
         "type": "scatterpolar"
        }
       ],
       "layout": {
        "polar": {
         "radialaxis": {
          "showticklabels": false
         }
        },
        "template": {
         "data": {
          "bar": [
           {
            "error_x": {
             "color": "#2a3f5f"
            },
            "error_y": {
             "color": "#2a3f5f"
            },
            "marker": {
             "line": {
              "color": "white",
              "width": 0.5
             },
             "pattern": {
              "fillmode": "overlay",
              "size": 10,
              "solidity": 0.2
             }
            },
            "type": "bar"
           }
          ],
          "barpolar": [
           {
            "marker": {
             "line": {
              "color": "white",
              "width": 0.5
             },
             "pattern": {
              "fillmode": "overlay",
              "size": 10,
              "solidity": 0.2
             }
            },
            "type": "barpolar"
           }
          ],
          "carpet": [
           {
            "aaxis": {
             "endlinecolor": "#2a3f5f",
             "gridcolor": "#C8D4E3",
             "linecolor": "#C8D4E3",
             "minorgridcolor": "#C8D4E3",
             "startlinecolor": "#2a3f5f"
            },
            "baxis": {
             "endlinecolor": "#2a3f5f",
             "gridcolor": "#C8D4E3",
             "linecolor": "#C8D4E3",
             "minorgridcolor": "#C8D4E3",
             "startlinecolor": "#2a3f5f"
            },
            "type": "carpet"
           }
          ],
          "choropleth": [
           {
            "colorbar": {
             "outlinewidth": 0,
             "ticks": ""
            },
            "type": "choropleth"
           }
          ],
          "contour": [
           {
            "colorbar": {
             "outlinewidth": 0,
             "ticks": ""
            },
            "colorscale": [
             [
              0,
              "#0d0887"
             ],
             [
              0.1111111111111111,
              "#46039f"
             ],
             [
              0.2222222222222222,
              "#7201a8"
             ],
             [
              0.3333333333333333,
              "#9c179e"
             ],
             [
              0.4444444444444444,
              "#bd3786"
             ],
             [
              0.5555555555555556,
              "#d8576b"
             ],
             [
              0.6666666666666666,
              "#ed7953"
             ],
             [
              0.7777777777777778,
              "#fb9f3a"
             ],
             [
              0.8888888888888888,
              "#fdca26"
             ],
             [
              1,
              "#f0f921"
             ]
            ],
            "type": "contour"
           }
          ],
          "contourcarpet": [
           {
            "colorbar": {
             "outlinewidth": 0,
             "ticks": ""
            },
            "type": "contourcarpet"
           }
          ],
          "heatmap": [
           {
            "colorbar": {
             "outlinewidth": 0,
             "ticks": ""
            },
            "colorscale": [
             [
              0,
              "#0d0887"
             ],
             [
              0.1111111111111111,
              "#46039f"
             ],
             [
              0.2222222222222222,
              "#7201a8"
             ],
             [
              0.3333333333333333,
              "#9c179e"
             ],
             [
              0.4444444444444444,
              "#bd3786"
             ],
             [
              0.5555555555555556,
              "#d8576b"
             ],
             [
              0.6666666666666666,
              "#ed7953"
             ],
             [
              0.7777777777777778,
              "#fb9f3a"
             ],
             [
              0.8888888888888888,
              "#fdca26"
             ],
             [
              1,
              "#f0f921"
             ]
            ],
            "type": "heatmap"
           }
          ],
          "histogram": [
           {
            "marker": {
             "pattern": {
              "fillmode": "overlay",
              "size": 10,
              "solidity": 0.2
             }
            },
            "type": "histogram"
           }
          ],
          "histogram2d": [
           {
            "colorbar": {
             "outlinewidth": 0,
             "ticks": ""
            },
            "colorscale": [
             [
              0,
              "#0d0887"
             ],
             [
              0.1111111111111111,
              "#46039f"
             ],
             [
              0.2222222222222222,
              "#7201a8"
             ],
             [
              0.3333333333333333,
              "#9c179e"
             ],
             [
              0.4444444444444444,
              "#bd3786"
             ],
             [
              0.5555555555555556,
              "#d8576b"
             ],
             [
              0.6666666666666666,
              "#ed7953"
             ],
             [
              0.7777777777777778,
              "#fb9f3a"
             ],
             [
              0.8888888888888888,
              "#fdca26"
             ],
             [
              1,
              "#f0f921"
             ]
            ],
            "type": "histogram2d"
           }
          ],
          "histogram2dcontour": [
           {
            "colorbar": {
             "outlinewidth": 0,
             "ticks": ""
            },
            "colorscale": [
             [
              0,
              "#0d0887"
             ],
             [
              0.1111111111111111,
              "#46039f"
             ],
             [
              0.2222222222222222,
              "#7201a8"
             ],
             [
              0.3333333333333333,
              "#9c179e"
             ],
             [
              0.4444444444444444,
              "#bd3786"
             ],
             [
              0.5555555555555556,
              "#d8576b"
             ],
             [
              0.6666666666666666,
              "#ed7953"
             ],
             [
              0.7777777777777778,
              "#fb9f3a"
             ],
             [
              0.8888888888888888,
              "#fdca26"
             ],
             [
              1,
              "#f0f921"
             ]
            ],
            "type": "histogram2dcontour"
           }
          ],
          "mesh3d": [
           {
            "colorbar": {
             "outlinewidth": 0,
             "ticks": ""
            },
            "type": "mesh3d"
           }
          ],
          "parcoords": [
           {
            "line": {
             "colorbar": {
              "outlinewidth": 0,
              "ticks": ""
             }
            },
            "type": "parcoords"
           }
          ],
          "pie": [
           {
            "automargin": true,
            "type": "pie"
           }
          ],
          "scatter": [
           {
            "fillpattern": {
             "fillmode": "overlay",
             "size": 10,
             "solidity": 0.2
            },
            "type": "scatter"
           }
          ],
          "scatter3d": [
           {
            "line": {
             "colorbar": {
              "outlinewidth": 0,
              "ticks": ""
             }
            },
            "marker": {
             "colorbar": {
              "outlinewidth": 0,
              "ticks": ""
             }
            },
            "type": "scatter3d"
           }
          ],
          "scattercarpet": [
           {
            "marker": {
             "colorbar": {
              "outlinewidth": 0,
              "ticks": ""
             }
            },
            "type": "scattercarpet"
           }
          ],
          "scattergeo": [
           {
            "marker": {
             "colorbar": {
              "outlinewidth": 0,
              "ticks": ""
             }
            },
            "type": "scattergeo"
           }
          ],
          "scattergl": [
           {
            "marker": {
             "colorbar": {
              "outlinewidth": 0,
              "ticks": ""
             }
            },
            "type": "scattergl"
           }
          ],
          "scattermap": [
           {
            "marker": {
             "colorbar": {
              "outlinewidth": 0,
              "ticks": ""
             }
            },
            "type": "scattermap"
           }
          ],
          "scattermapbox": [
           {
            "marker": {
             "colorbar": {
              "outlinewidth": 0,
              "ticks": ""
             }
            },
            "type": "scattermapbox"
           }
          ],
          "scatterpolar": [
           {
            "marker": {
             "colorbar": {
              "outlinewidth": 0,
              "ticks": ""
             }
            },
            "type": "scatterpolar"
           }
          ],
          "scatterpolargl": [
           {
            "marker": {
             "colorbar": {
              "outlinewidth": 0,
              "ticks": ""
             }
            },
            "type": "scatterpolargl"
           }
          ],
          "scatterternary": [
           {
            "marker": {
             "colorbar": {
              "outlinewidth": 0,
              "ticks": ""
             }
            },
            "type": "scatterternary"
           }
          ],
          "surface": [
           {
            "colorbar": {
             "outlinewidth": 0,
             "ticks": ""
            },
            "colorscale": [
             [
              0,
              "#0d0887"
             ],
             [
              0.1111111111111111,
              "#46039f"
             ],
             [
              0.2222222222222222,
              "#7201a8"
             ],
             [
              0.3333333333333333,
              "#9c179e"
             ],
             [
              0.4444444444444444,
              "#bd3786"
             ],
             [
              0.5555555555555556,
              "#d8576b"
             ],
             [
              0.6666666666666666,
              "#ed7953"
             ],
             [
              0.7777777777777778,
              "#fb9f3a"
             ],
             [
              0.8888888888888888,
              "#fdca26"
             ],
             [
              1,
              "#f0f921"
             ]
            ],
            "type": "surface"
           }
          ],
          "table": [
           {
            "cells": {
             "fill": {
              "color": "#EBF0F8"
             },
             "line": {
              "color": "white"
             }
            },
            "header": {
             "fill": {
              "color": "#C8D4E3"
             },
             "line": {
              "color": "white"
             }
            },
            "type": "table"
           }
          ]
         },
         "layout": {
          "annotationdefaults": {
           "arrowcolor": "#2a3f5f",
           "arrowhead": 0,
           "arrowwidth": 1
          },
          "autotypenumbers": "strict",
          "coloraxis": {
           "colorbar": {
            "outlinewidth": 0,
            "ticks": ""
           }
          },
          "colorscale": {
           "diverging": [
            [
             0,
             "#8e0152"
            ],
            [
             0.1,
             "#c51b7d"
            ],
            [
             0.2,
             "#de77ae"
            ],
            [
             0.3,
             "#f1b6da"
            ],
            [
             0.4,
             "#fde0ef"
            ],
            [
             0.5,
             "#f7f7f7"
            ],
            [
             0.6,
             "#e6f5d0"
            ],
            [
             0.7,
             "#b8e186"
            ],
            [
             0.8,
             "#7fbc41"
            ],
            [
             0.9,
             "#4d9221"
            ],
            [
             1,
             "#276419"
            ]
           ],
           "sequential": [
            [
             0,
             "#0d0887"
            ],
            [
             0.1111111111111111,
             "#46039f"
            ],
            [
             0.2222222222222222,
             "#7201a8"
            ],
            [
             0.3333333333333333,
             "#9c179e"
            ],
            [
             0.4444444444444444,
             "#bd3786"
            ],
            [
             0.5555555555555556,
             "#d8576b"
            ],
            [
             0.6666666666666666,
             "#ed7953"
            ],
            [
             0.7777777777777778,
             "#fb9f3a"
            ],
            [
             0.8888888888888888,
             "#fdca26"
            ],
            [
             1,
             "#f0f921"
            ]
           ],
           "sequentialminus": [
            [
             0,
             "#0d0887"
            ],
            [
             0.1111111111111111,
             "#46039f"
            ],
            [
             0.2222222222222222,
             "#7201a8"
            ],
            [
             0.3333333333333333,
             "#9c179e"
            ],
            [
             0.4444444444444444,
             "#bd3786"
            ],
            [
             0.5555555555555556,
             "#d8576b"
            ],
            [
             0.6666666666666666,
             "#ed7953"
            ],
            [
             0.7777777777777778,
             "#fb9f3a"
            ],
            [
             0.8888888888888888,
             "#fdca26"
            ],
            [
             1,
             "#f0f921"
            ]
           ]
          },
          "colorway": [
           "#636efa",
           "#EF553B",
           "#00cc96",
           "#ab63fa",
           "#FFA15A",
           "#19d3f3",
           "#FF6692",
           "#B6E880",
           "#FF97FF",
           "#FECB52"
          ],
          "font": {
           "color": "#2a3f5f"
          },
          "geo": {
           "bgcolor": "white",
           "lakecolor": "white",
           "landcolor": "white",
           "showlakes": true,
           "showland": true,
           "subunitcolor": "#C8D4E3"
          },
          "hoverlabel": {
           "align": "left"
          },
          "hovermode": "closest",
          "mapbox": {
           "style": "light"
          },
          "paper_bgcolor": "white",
          "plot_bgcolor": "white",
          "polar": {
           "angularaxis": {
            "gridcolor": "#EBF0F8",
            "linecolor": "#EBF0F8",
            "ticks": ""
           },
           "bgcolor": "white",
           "radialaxis": {
            "gridcolor": "#EBF0F8",
            "linecolor": "#EBF0F8",
            "ticks": ""
           }
          },
          "scene": {
           "xaxis": {
            "backgroundcolor": "white",
            "gridcolor": "#DFE8F3",
            "gridwidth": 2,
            "linecolor": "#EBF0F8",
            "showbackground": true,
            "ticks": "",
            "zerolinecolor": "#EBF0F8"
           },
           "yaxis": {
            "backgroundcolor": "white",
            "gridcolor": "#DFE8F3",
            "gridwidth": 2,
            "linecolor": "#EBF0F8",
            "showbackground": true,
            "ticks": "",
            "zerolinecolor": "#EBF0F8"
           },
           "zaxis": {
            "backgroundcolor": "white",
            "gridcolor": "#DFE8F3",
            "gridwidth": 2,
            "linecolor": "#EBF0F8",
            "showbackground": true,
            "ticks": "",
            "zerolinecolor": "#EBF0F8"
           }
          },
          "shapedefaults": {
           "line": {
            "color": "#2a3f5f"
           }
          },
          "ternary": {
           "aaxis": {
            "gridcolor": "#DFE8F3",
            "linecolor": "#A2B1C6",
            "ticks": ""
           },
           "baxis": {
            "gridcolor": "#DFE8F3",
            "linecolor": "#A2B1C6",
            "ticks": ""
           },
           "bgcolor": "white",
           "caxis": {
            "gridcolor": "#DFE8F3",
            "linecolor": "#A2B1C6",
            "ticks": ""
           }
          },
          "title": {
           "x": 0.05
          },
          "xaxis": {
           "automargin": true,
           "gridcolor": "#EBF0F8",
           "linecolor": "#EBF0F8",
           "ticks": "",
           "title": {
            "standoff": 15
           },
           "zerolinecolor": "#EBF0F8",
           "zerolinewidth": 2
          },
          "yaxis": {
           "automargin": true,
           "gridcolor": "#EBF0F8",
           "linecolor": "#EBF0F8",
           "ticks": "",
           "title": {
            "standoff": 15
           },
           "zerolinecolor": "#EBF0F8",
           "zerolinewidth": 2
          }
         }
        },
        "title": {
         "text": "Radar – XGBoost"
        }
       }
      }
     },
     "metadata": {},
     "output_type": "display_data"
    },
    {
     "name": "stdout",
     "output_type": "stream",
     "text": [
      "\n",
      "🔹  Treinando LightGBM\n"
     ]
    },
    {
     "data": {
      "application/vnd.plotly.v1+json": {
       "config": {
        "plotlyServerURL": "https://plot.ly"
       },
       "data": [
        {
         "fill": "toself",
         "fillcolor": "rgba(217,58,70,0.3)",
         "line": {
          "color": "rgba(217,58,70,0.8)"
         },
         "name": "Group (-inf, 320.18)",
         "r": {
          "bdata": "eCufECbw37/oAKtFyn7Bv9LOaZuru9O/Lj48h0pYwj99J4c520XWv3u4P20cQaq/Hl6tabhlxT8=",
          "dtype": "f8"
         },
         "theta": [
          "total_rec_prncp",
          "out_prncp_inv",
          "out_prncp",
          "total_rec_int",
          "last_pymnt_amnt",
          "loan_amnt",
          "funded_amnt"
         ],
         "type": "scatterpolar"
        },
        {
         "fill": "toself",
         "fillcolor": "rgba(230,148,154,0.3)",
         "line": {
          "color": "rgba(230,148,154,0.8)"
         },
         "name": "Group [320.18, 489.44)",
         "r": {
          "bdata": "4swK8GPL3r+kr4/m8saavynP94aOhrm/gvdbWJVDcb8ifxkFm0/Iv1cLzhA9Ecm/S9AwO5TDrb8=",
          "dtype": "f8"
         },
         "theta": [
          "total_rec_prncp",
          "out_prncp_inv",
          "out_prncp",
          "total_rec_int",
          "last_pymnt_amnt",
          "loan_amnt",
          "funded_amnt"
         ],
         "type": "scatterpolar"
        },
        {
         "fill": "toself",
         "fillcolor": "rgba(242,241,241,0.3)",
         "line": {
          "color": "rgba(242,241,241,0.8)"
         },
         "name": "Group [489.44, 666.66)",
         "r": {
          "bdata": "tw4M5hQqhT9YwxjY6Z6cP9f91Wr2aJQ/HMSiNGm5p7+6xDQIIYmuv6zRvVEMh5y/NZQSkNi+oL8=",
          "dtype": "f8"
         },
         "theta": [
          "total_rec_prncp",
          "out_prncp_inv",
          "out_prncp",
          "total_rec_int",
          "last_pymnt_amnt",
          "loan_amnt",
          "funded_amnt"
         ],
         "type": "scatterpolar"
        },
        {
         "fill": "toself",
         "fillcolor": "rgba(153,183,205,0.3)",
         "line": {
          "color": "rgba(153,183,205,0.8)"
         },
         "name": "Group [666.66, 763.85)",
         "r": {
          "bdata": "l2b/KoiU1z8Aza1jUVywP+YCf+V8KsI/losGHWrwqj8XmythB8rCP1lLO4GJcq4/vZ4/ohWKez8=",
          "dtype": "f8"
         },
         "theta": [
          "total_rec_prncp",
          "out_prncp_inv",
          "out_prncp",
          "total_rec_int",
          "last_pymnt_amnt",
          "loan_amnt",
          "funded_amnt"
         ],
         "type": "scatterpolar"
        },
        {
         "fill": "toself",
         "fillcolor": "rgba(65,124,167,0.3)",
         "line": {
          "color": "rgba(65,124,167,0.8)"
         },
         "name": "Group [763.85, inf)",
         "r": {
          "bdata": "K73fL+NF4T+tdY4s66B7P23bxE0+0cE/3mPTC7IHq79f0fO4ArbZP+beo9mKQ9E/0b4H/zoMmT8=",
          "dtype": "f8"
         },
         "theta": [
          "total_rec_prncp",
          "out_prncp_inv",
          "out_prncp",
          "total_rec_int",
          "last_pymnt_amnt",
          "loan_amnt",
          "funded_amnt"
         ],
         "type": "scatterpolar"
        }
       ],
       "layout": {
        "polar": {
         "radialaxis": {
          "showticklabels": false
         }
        },
        "template": {
         "data": {
          "bar": [
           {
            "error_x": {
             "color": "#2a3f5f"
            },
            "error_y": {
             "color": "#2a3f5f"
            },
            "marker": {
             "line": {
              "color": "white",
              "width": 0.5
             },
             "pattern": {
              "fillmode": "overlay",
              "size": 10,
              "solidity": 0.2
             }
            },
            "type": "bar"
           }
          ],
          "barpolar": [
           {
            "marker": {
             "line": {
              "color": "white",
              "width": 0.5
             },
             "pattern": {
              "fillmode": "overlay",
              "size": 10,
              "solidity": 0.2
             }
            },
            "type": "barpolar"
           }
          ],
          "carpet": [
           {
            "aaxis": {
             "endlinecolor": "#2a3f5f",
             "gridcolor": "#C8D4E3",
             "linecolor": "#C8D4E3",
             "minorgridcolor": "#C8D4E3",
             "startlinecolor": "#2a3f5f"
            },
            "baxis": {
             "endlinecolor": "#2a3f5f",
             "gridcolor": "#C8D4E3",
             "linecolor": "#C8D4E3",
             "minorgridcolor": "#C8D4E3",
             "startlinecolor": "#2a3f5f"
            },
            "type": "carpet"
           }
          ],
          "choropleth": [
           {
            "colorbar": {
             "outlinewidth": 0,
             "ticks": ""
            },
            "type": "choropleth"
           }
          ],
          "contour": [
           {
            "colorbar": {
             "outlinewidth": 0,
             "ticks": ""
            },
            "colorscale": [
             [
              0,
              "#0d0887"
             ],
             [
              0.1111111111111111,
              "#46039f"
             ],
             [
              0.2222222222222222,
              "#7201a8"
             ],
             [
              0.3333333333333333,
              "#9c179e"
             ],
             [
              0.4444444444444444,
              "#bd3786"
             ],
             [
              0.5555555555555556,
              "#d8576b"
             ],
             [
              0.6666666666666666,
              "#ed7953"
             ],
             [
              0.7777777777777778,
              "#fb9f3a"
             ],
             [
              0.8888888888888888,
              "#fdca26"
             ],
             [
              1,
              "#f0f921"
             ]
            ],
            "type": "contour"
           }
          ],
          "contourcarpet": [
           {
            "colorbar": {
             "outlinewidth": 0,
             "ticks": ""
            },
            "type": "contourcarpet"
           }
          ],
          "heatmap": [
           {
            "colorbar": {
             "outlinewidth": 0,
             "ticks": ""
            },
            "colorscale": [
             [
              0,
              "#0d0887"
             ],
             [
              0.1111111111111111,
              "#46039f"
             ],
             [
              0.2222222222222222,
              "#7201a8"
             ],
             [
              0.3333333333333333,
              "#9c179e"
             ],
             [
              0.4444444444444444,
              "#bd3786"
             ],
             [
              0.5555555555555556,
              "#d8576b"
             ],
             [
              0.6666666666666666,
              "#ed7953"
             ],
             [
              0.7777777777777778,
              "#fb9f3a"
             ],
             [
              0.8888888888888888,
              "#fdca26"
             ],
             [
              1,
              "#f0f921"
             ]
            ],
            "type": "heatmap"
           }
          ],
          "histogram": [
           {
            "marker": {
             "pattern": {
              "fillmode": "overlay",
              "size": 10,
              "solidity": 0.2
             }
            },
            "type": "histogram"
           }
          ],
          "histogram2d": [
           {
            "colorbar": {
             "outlinewidth": 0,
             "ticks": ""
            },
            "colorscale": [
             [
              0,
              "#0d0887"
             ],
             [
              0.1111111111111111,
              "#46039f"
             ],
             [
              0.2222222222222222,
              "#7201a8"
             ],
             [
              0.3333333333333333,
              "#9c179e"
             ],
             [
              0.4444444444444444,
              "#bd3786"
             ],
             [
              0.5555555555555556,
              "#d8576b"
             ],
             [
              0.6666666666666666,
              "#ed7953"
             ],
             [
              0.7777777777777778,
              "#fb9f3a"
             ],
             [
              0.8888888888888888,
              "#fdca26"
             ],
             [
              1,
              "#f0f921"
             ]
            ],
            "type": "histogram2d"
           }
          ],
          "histogram2dcontour": [
           {
            "colorbar": {
             "outlinewidth": 0,
             "ticks": ""
            },
            "colorscale": [
             [
              0,
              "#0d0887"
             ],
             [
              0.1111111111111111,
              "#46039f"
             ],
             [
              0.2222222222222222,
              "#7201a8"
             ],
             [
              0.3333333333333333,
              "#9c179e"
             ],
             [
              0.4444444444444444,
              "#bd3786"
             ],
             [
              0.5555555555555556,
              "#d8576b"
             ],
             [
              0.6666666666666666,
              "#ed7953"
             ],
             [
              0.7777777777777778,
              "#fb9f3a"
             ],
             [
              0.8888888888888888,
              "#fdca26"
             ],
             [
              1,
              "#f0f921"
             ]
            ],
            "type": "histogram2dcontour"
           }
          ],
          "mesh3d": [
           {
            "colorbar": {
             "outlinewidth": 0,
             "ticks": ""
            },
            "type": "mesh3d"
           }
          ],
          "parcoords": [
           {
            "line": {
             "colorbar": {
              "outlinewidth": 0,
              "ticks": ""
             }
            },
            "type": "parcoords"
           }
          ],
          "pie": [
           {
            "automargin": true,
            "type": "pie"
           }
          ],
          "scatter": [
           {
            "fillpattern": {
             "fillmode": "overlay",
             "size": 10,
             "solidity": 0.2
            },
            "type": "scatter"
           }
          ],
          "scatter3d": [
           {
            "line": {
             "colorbar": {
              "outlinewidth": 0,
              "ticks": ""
             }
            },
            "marker": {
             "colorbar": {
              "outlinewidth": 0,
              "ticks": ""
             }
            },
            "type": "scatter3d"
           }
          ],
          "scattercarpet": [
           {
            "marker": {
             "colorbar": {
              "outlinewidth": 0,
              "ticks": ""
             }
            },
            "type": "scattercarpet"
           }
          ],
          "scattergeo": [
           {
            "marker": {
             "colorbar": {
              "outlinewidth": 0,
              "ticks": ""
             }
            },
            "type": "scattergeo"
           }
          ],
          "scattergl": [
           {
            "marker": {
             "colorbar": {
              "outlinewidth": 0,
              "ticks": ""
             }
            },
            "type": "scattergl"
           }
          ],
          "scattermap": [
           {
            "marker": {
             "colorbar": {
              "outlinewidth": 0,
              "ticks": ""
             }
            },
            "type": "scattermap"
           }
          ],
          "scattermapbox": [
           {
            "marker": {
             "colorbar": {
              "outlinewidth": 0,
              "ticks": ""
             }
            },
            "type": "scattermapbox"
           }
          ],
          "scatterpolar": [
           {
            "marker": {
             "colorbar": {
              "outlinewidth": 0,
              "ticks": ""
             }
            },
            "type": "scatterpolar"
           }
          ],
          "scatterpolargl": [
           {
            "marker": {
             "colorbar": {
              "outlinewidth": 0,
              "ticks": ""
             }
            },
            "type": "scatterpolargl"
           }
          ],
          "scatterternary": [
           {
            "marker": {
             "colorbar": {
              "outlinewidth": 0,
              "ticks": ""
             }
            },
            "type": "scatterternary"
           }
          ],
          "surface": [
           {
            "colorbar": {
             "outlinewidth": 0,
             "ticks": ""
            },
            "colorscale": [
             [
              0,
              "#0d0887"
             ],
             [
              0.1111111111111111,
              "#46039f"
             ],
             [
              0.2222222222222222,
              "#7201a8"
             ],
             [
              0.3333333333333333,
              "#9c179e"
             ],
             [
              0.4444444444444444,
              "#bd3786"
             ],
             [
              0.5555555555555556,
              "#d8576b"
             ],
             [
              0.6666666666666666,
              "#ed7953"
             ],
             [
              0.7777777777777778,
              "#fb9f3a"
             ],
             [
              0.8888888888888888,
              "#fdca26"
             ],
             [
              1,
              "#f0f921"
             ]
            ],
            "type": "surface"
           }
          ],
          "table": [
           {
            "cells": {
             "fill": {
              "color": "#EBF0F8"
             },
             "line": {
              "color": "white"
             }
            },
            "header": {
             "fill": {
              "color": "#C8D4E3"
             },
             "line": {
              "color": "white"
             }
            },
            "type": "table"
           }
          ]
         },
         "layout": {
          "annotationdefaults": {
           "arrowcolor": "#2a3f5f",
           "arrowhead": 0,
           "arrowwidth": 1
          },
          "autotypenumbers": "strict",
          "coloraxis": {
           "colorbar": {
            "outlinewidth": 0,
            "ticks": ""
           }
          },
          "colorscale": {
           "diverging": [
            [
             0,
             "#8e0152"
            ],
            [
             0.1,
             "#c51b7d"
            ],
            [
             0.2,
             "#de77ae"
            ],
            [
             0.3,
             "#f1b6da"
            ],
            [
             0.4,
             "#fde0ef"
            ],
            [
             0.5,
             "#f7f7f7"
            ],
            [
             0.6,
             "#e6f5d0"
            ],
            [
             0.7,
             "#b8e186"
            ],
            [
             0.8,
             "#7fbc41"
            ],
            [
             0.9,
             "#4d9221"
            ],
            [
             1,
             "#276419"
            ]
           ],
           "sequential": [
            [
             0,
             "#0d0887"
            ],
            [
             0.1111111111111111,
             "#46039f"
            ],
            [
             0.2222222222222222,
             "#7201a8"
            ],
            [
             0.3333333333333333,
             "#9c179e"
            ],
            [
             0.4444444444444444,
             "#bd3786"
            ],
            [
             0.5555555555555556,
             "#d8576b"
            ],
            [
             0.6666666666666666,
             "#ed7953"
            ],
            [
             0.7777777777777778,
             "#fb9f3a"
            ],
            [
             0.8888888888888888,
             "#fdca26"
            ],
            [
             1,
             "#f0f921"
            ]
           ],
           "sequentialminus": [
            [
             0,
             "#0d0887"
            ],
            [
             0.1111111111111111,
             "#46039f"
            ],
            [
             0.2222222222222222,
             "#7201a8"
            ],
            [
             0.3333333333333333,
             "#9c179e"
            ],
            [
             0.4444444444444444,
             "#bd3786"
            ],
            [
             0.5555555555555556,
             "#d8576b"
            ],
            [
             0.6666666666666666,
             "#ed7953"
            ],
            [
             0.7777777777777778,
             "#fb9f3a"
            ],
            [
             0.8888888888888888,
             "#fdca26"
            ],
            [
             1,
             "#f0f921"
            ]
           ]
          },
          "colorway": [
           "#636efa",
           "#EF553B",
           "#00cc96",
           "#ab63fa",
           "#FFA15A",
           "#19d3f3",
           "#FF6692",
           "#B6E880",
           "#FF97FF",
           "#FECB52"
          ],
          "font": {
           "color": "#2a3f5f"
          },
          "geo": {
           "bgcolor": "white",
           "lakecolor": "white",
           "landcolor": "white",
           "showlakes": true,
           "showland": true,
           "subunitcolor": "#C8D4E3"
          },
          "hoverlabel": {
           "align": "left"
          },
          "hovermode": "closest",
          "mapbox": {
           "style": "light"
          },
          "paper_bgcolor": "white",
          "plot_bgcolor": "white",
          "polar": {
           "angularaxis": {
            "gridcolor": "#EBF0F8",
            "linecolor": "#EBF0F8",
            "ticks": ""
           },
           "bgcolor": "white",
           "radialaxis": {
            "gridcolor": "#EBF0F8",
            "linecolor": "#EBF0F8",
            "ticks": ""
           }
          },
          "scene": {
           "xaxis": {
            "backgroundcolor": "white",
            "gridcolor": "#DFE8F3",
            "gridwidth": 2,
            "linecolor": "#EBF0F8",
            "showbackground": true,
            "ticks": "",
            "zerolinecolor": "#EBF0F8"
           },
           "yaxis": {
            "backgroundcolor": "white",
            "gridcolor": "#DFE8F3",
            "gridwidth": 2,
            "linecolor": "#EBF0F8",
            "showbackground": true,
            "ticks": "",
            "zerolinecolor": "#EBF0F8"
           },
           "zaxis": {
            "backgroundcolor": "white",
            "gridcolor": "#DFE8F3",
            "gridwidth": 2,
            "linecolor": "#EBF0F8",
            "showbackground": true,
            "ticks": "",
            "zerolinecolor": "#EBF0F8"
           }
          },
          "shapedefaults": {
           "line": {
            "color": "#2a3f5f"
           }
          },
          "ternary": {
           "aaxis": {
            "gridcolor": "#DFE8F3",
            "linecolor": "#A2B1C6",
            "ticks": ""
           },
           "baxis": {
            "gridcolor": "#DFE8F3",
            "linecolor": "#A2B1C6",
            "ticks": ""
           },
           "bgcolor": "white",
           "caxis": {
            "gridcolor": "#DFE8F3",
            "linecolor": "#A2B1C6",
            "ticks": ""
           }
          },
          "title": {
           "x": 0.05
          },
          "xaxis": {
           "automargin": true,
           "gridcolor": "#EBF0F8",
           "linecolor": "#EBF0F8",
           "ticks": "",
           "title": {
            "standoff": 15
           },
           "zerolinecolor": "#EBF0F8",
           "zerolinewidth": 2
          },
          "yaxis": {
           "automargin": true,
           "gridcolor": "#EBF0F8",
           "linecolor": "#EBF0F8",
           "ticks": "",
           "title": {
            "standoff": 15
           },
           "zerolinecolor": "#EBF0F8",
           "zerolinewidth": 2
          }
         }
        },
        "title": {
         "text": "Radar – LightGBM"
        }
       }
      }
     },
     "metadata": {},
     "output_type": "display_data"
    }
   ],
   "source": [
    "# --------------------------------------------------\n",
    "# 9. LOOP DE TREINO + AVALIAÇÃO COM BinaryPerformanceEvaluator\n",
    "# --------------------------------------------------\n",
    "results = {}\n",
    "for name, model in models.items():\n",
    "    print(f\"\\n🔹  Treinando {name}\")\n",
    "    model.fit(X_train, y_train)\n",
    "\n",
    "    evaluator = BinaryPerformanceEvaluator(\n",
    "        model=model,\n",
    "        df_train=df_train,\n",
    "        df_test=df_test,\n",
    "        target_col=TARGET,\n",
    "        id_cols=[\"id\"],\n",
    "        date_col=\"date\",\n",
    "        homogeneous_group=\"auto\",\n",
    "    )\n",
    "\n",
    "    metrics = evaluator.compute_metrics()\n",
    "    results[name] = metrics\n",
    "\n",
    "    radar = evaluator.plot_group_radar()\n",
    "    radar.update_layout(title=f\"Radar – {name}\")\n",
    "    radar.show()\n",
    "\n",
    "# (opcional) métricas comparativas\n",
    "#all_metrics = pd.concat(results, names=[\"model\"])\n",
    "#display(all_metrics)"
   ]
  },
  {
   "cell_type": "code",
   "execution_count": 27,
   "id": "690da477",
   "metadata": {},
   "outputs": [
    {
     "name": "stdout",
     "output_type": "stream",
     "text": [
      "\n",
      "🚀 Treinando modelo: LogisticRegression\n",
      "📊 Avaliando modelo: LogisticRegression\n"
     ]
    },
    {
     "data": {
      "application/vnd.plotly.v1+json": {
       "config": {
        "plotlyServerURL": "https://plot.ly"
       },
       "data": [
        {
         "line": {
          "color": "rgb(217,58,70)"
         },
         "mode": "lines+markers",
         "name": "(-inf, 482.86)",
         "type": "scatter",
         "x": [
          "2022-01-01T00:00:00.000000000",
          "2022-02-01T00:00:00.000000000",
          "2022-03-01T00:00:00.000000000",
          "2022-04-01T00:00:00.000000000",
          "2022-05-01T00:00:00.000000000",
          "2022-06-01T00:00:00.000000000",
          "2022-07-01T00:00:00.000000000",
          "2022-08-01T00:00:00.000000000",
          "2022-09-01T00:00:00.000000000",
          "2022-10-01T00:00:00.000000000",
          "2022-11-01T00:00:00.000000000",
          "2022-12-01T00:00:00.000000000",
          "2023-01-01T00:00:00.000000000",
          "2023-02-01T00:00:00.000000000",
          "2023-03-01T00:00:00.000000000",
          "2023-04-01T00:00:00.000000000",
          "2023-05-01T00:00:00.000000000",
          "2023-06-01T00:00:00.000000000",
          "2023-07-01T00:00:00.000000000",
          "2023-08-01T00:00:00.000000000",
          "2023-09-01T00:00:00.000000000",
          "2023-10-01T00:00:00.000000000",
          "2023-11-01T00:00:00.000000000",
          "2023-12-01T00:00:00.000000000",
          "2024-01-01T00:00:00.000000000",
          "2024-02-01T00:00:00.000000000",
          "2024-03-01T00:00:00.000000000",
          "2024-04-01T00:00:00.000000000",
          "2024-05-01T00:00:00.000000000",
          "2024-06-01T00:00:00.000000000",
          "2024-07-01T00:00:00.000000000",
          "2024-08-01T00:00:00.000000000",
          "2024-09-01T00:00:00.000000000",
          "2024-10-01T00:00:00.000000000",
          "2024-11-01T00:00:00.000000000",
          "2024-12-01T00:00:00.000000000",
          "2025-01-01T00:00:00.000000000",
          "2025-02-01T00:00:00.000000000",
          "2025-03-01T00:00:00.000000000",
          "2025-04-01T00:00:00.000000000",
          "2025-05-01T00:00:00.000000000",
          "2025-06-01T00:00:00.000000000",
          "2025-07-01T00:00:00.000000000",
          "2025-08-01T00:00:00.000000000",
          "2025-09-01T00:00:00.000000000",
          "2025-10-01T00:00:00.000000000",
          "2025-11-01T00:00:00.000000000",
          "2025-12-01T00:00:00.000000000"
         ],
         "y": {
          "bdata": "8wcbj+YP5j/5uO+WQn/iPxtZXYa90t8/Xc3VXM3V3D/qWZiehenZPyv7HFITjNc/wMfu0Pb32D8ZosP92XnXP5vNZrPZbNY/oHJ2C78a0z/TLNMs0yzTP7ob2sQ/j9E/JX5GiZ9R0j85juM4juPSP+REy/W7j9M/zDal5hYE0z/PvohqnX3RP6unyz9CJ9A/mQcW88Bizj9BnhLkKUHOP9GyCm6Qzc0/H6fk45R8zD94DLv1ZfnMPzRPqAWMScw/+sf2BBGoyz/ux6MGlYLNP3npJjEIrMw/vMd7vMd7zD8KOQzeQdfLP092MUrvZso/yVEF+Avuyj/H+tBYHxrLP8lRBfgL7so//FWckJJnyT+amZmZmZnJP/QUIHlBhMo/OovpLKazyD9AdlybX9jIP5eWlpaWlsY/VVVVVVVVxT837vOAF5nFP4gwyFmyv8Y/dmIndmInxj/57VJPxm/HPybQO3UtB8c/AYVqCVCoxj+F9hLaS2jHP3waYbmnEcY/",
          "dtype": "f8"
         }
        },
        {
         "line": {
          "color": "rgb(230,148,154)"
         },
         "mode": "lines+markers",
         "name": "[482.86, 498.45)",
         "type": "scatter",
         "x": [
          "2022-01-01T00:00:00.000000000",
          "2022-02-01T00:00:00.000000000",
          "2022-03-01T00:00:00.000000000",
          "2022-04-01T00:00:00.000000000",
          "2022-05-01T00:00:00.000000000",
          "2022-06-01T00:00:00.000000000",
          "2022-07-01T00:00:00.000000000",
          "2022-08-01T00:00:00.000000000",
          "2022-09-01T00:00:00.000000000",
          "2022-10-01T00:00:00.000000000",
          "2022-11-01T00:00:00.000000000",
          "2022-12-01T00:00:00.000000000",
          "2023-01-01T00:00:00.000000000",
          "2023-02-01T00:00:00.000000000",
          "2023-03-01T00:00:00.000000000",
          "2023-04-01T00:00:00.000000000",
          "2023-05-01T00:00:00.000000000",
          "2023-06-01T00:00:00.000000000",
          "2023-07-01T00:00:00.000000000",
          "2023-08-01T00:00:00.000000000",
          "2023-09-01T00:00:00.000000000",
          "2023-10-01T00:00:00.000000000",
          "2023-11-01T00:00:00.000000000",
          "2023-12-01T00:00:00.000000000",
          "2024-01-01T00:00:00.000000000",
          "2024-02-01T00:00:00.000000000",
          "2024-03-01T00:00:00.000000000",
          "2024-04-01T00:00:00.000000000",
          "2024-05-01T00:00:00.000000000",
          "2024-06-01T00:00:00.000000000",
          "2024-07-01T00:00:00.000000000",
          "2024-08-01T00:00:00.000000000",
          "2024-09-01T00:00:00.000000000",
          "2024-10-01T00:00:00.000000000",
          "2024-11-01T00:00:00.000000000",
          "2024-12-01T00:00:00.000000000",
          "2025-01-01T00:00:00.000000000",
          "2025-02-01T00:00:00.000000000",
          "2025-03-01T00:00:00.000000000",
          "2025-04-01T00:00:00.000000000",
          "2025-05-01T00:00:00.000000000",
          "2025-06-01T00:00:00.000000000",
          "2025-07-01T00:00:00.000000000",
          "2025-08-01T00:00:00.000000000",
          "2025-09-01T00:00:00.000000000",
          "2025-10-01T00:00:00.000000000",
          "2025-11-01T00:00:00.000000000",
          "2025-12-01T00:00:00.000000000"
         ],
         "y": {
          "bdata": "AAAAAAAAwD88nx43Y3/IP9/0pje96c0/t8Sp33NLzD+P5g82Hs3PPwAAAAAAANA/0qRJkyZNyj/HUibBrsLHPxEREREREcE/eekmMQiszD8arNAZrNDJPyHQFAJNIdA/GHqhF3qhxz/FuY5RnOvIP8JyTyMs98Q/G63RGq3Ruj+eEuQpQZ7CP3d3d3d3d8c/YnIFMbmCyD/72WJl+EbEPxEO4RAO4cA/ZCELWchCxj/KwNOt+WHBP3sUrkfhesQ/nud5nud5zj9GF1100UXHPxGso837FMc/shVBw0ndxz9KkKcEeUrAPwnLPY2w3MM/sRM7sRM7wT8KxlvZ55DKP54S5ClBnsI/mpmZmZmZyT+SkZGRkZHBP57YiZ3Yib0/GqRBGqRBuj9CewntJbTHP3TRRRdddNE/HdRBHdRBzT8YhmEYhmHIP5GFLGQhC8k/3t3d3d3dzT9kIQtZyEKmP9C6wRT5rMs/HMdxHMdxvD+WexphuafBPwAAAAAAAAAA",
          "dtype": "f8"
         }
        },
        {
         "line": {
          "color": "rgb(242,241,241)"
         },
         "mode": "lines+markers",
         "name": "[498.45, 513.40)",
         "type": "scatter",
         "x": [
          "2022-01-01T00:00:00.000000000",
          "2022-02-01T00:00:00.000000000",
          "2022-03-01T00:00:00.000000000",
          "2022-04-01T00:00:00.000000000",
          "2022-05-01T00:00:00.000000000",
          "2022-06-01T00:00:00.000000000",
          "2022-07-01T00:00:00.000000000",
          "2022-08-01T00:00:00.000000000",
          "2022-09-01T00:00:00.000000000",
          "2022-10-01T00:00:00.000000000",
          "2022-11-01T00:00:00.000000000",
          "2022-12-01T00:00:00.000000000",
          "2023-01-01T00:00:00.000000000",
          "2023-02-01T00:00:00.000000000",
          "2023-03-01T00:00:00.000000000",
          "2023-04-01T00:00:00.000000000",
          "2023-05-01T00:00:00.000000000",
          "2023-06-01T00:00:00.000000000",
          "2023-07-01T00:00:00.000000000",
          "2023-08-01T00:00:00.000000000",
          "2023-09-01T00:00:00.000000000",
          "2023-10-01T00:00:00.000000000",
          "2023-11-01T00:00:00.000000000",
          "2023-12-01T00:00:00.000000000",
          "2024-01-01T00:00:00.000000000",
          "2024-02-01T00:00:00.000000000",
          "2024-03-01T00:00:00.000000000",
          "2024-04-01T00:00:00.000000000",
          "2024-05-01T00:00:00.000000000",
          "2024-06-01T00:00:00.000000000",
          "2024-07-01T00:00:00.000000000",
          "2024-08-01T00:00:00.000000000",
          "2024-09-01T00:00:00.000000000",
          "2024-10-01T00:00:00.000000000",
          "2024-11-01T00:00:00.000000000",
          "2024-12-01T00:00:00.000000000",
          "2025-01-01T00:00:00.000000000",
          "2025-02-01T00:00:00.000000000",
          "2025-03-01T00:00:00.000000000",
          "2025-04-01T00:00:00.000000000",
          "2025-05-01T00:00:00.000000000",
          "2025-06-01T00:00:00.000000000",
          "2025-07-01T00:00:00.000000000",
          "2025-08-01T00:00:00.000000000",
          "2025-09-01T00:00:00.000000000",
          "2025-10-01T00:00:00.000000000",
          "2025-11-01T00:00:00.000000000",
          "2025-12-01T00:00:00.000000000"
         ],
         "y": {
          "bdata": "dCopIOEnpz8LWchCFrKgPy+n4OUUvKw/YRsEpzJhuz+xqTTk3Ge3P35YpAw83bo/C1nIQhaywD94eHh4eHi4P5BxQcYFGcc/xgUZF2RcwD+XlpaWlpbGP96nuGQI1sE/QcNJ3ZfHxj8g+7Ef+7G/PxzHcRzHcbw/ZzGdxXQWwz+yAmGkHSvAP6uqqqqqqsI/cUfcEXfEvT8d1EEd1EHNP2pXonYlasc/kiRJkiRJwj8AAAAAAADIP6Bydgu/GsM/HMdxHMdxvD/8+PHjx4+/P6Bydgu/GsM/aC+hvYT2sj94eHh4eHjIPxQUFBQUFMQ/mpmZmZmZyT8cx3Ecx3G8PyVJkiRJksQ/dmIndmInxj/blahdidrFP2QhC1nIQsY/mpmZmZmZuT+amZmZmZm5PxZf8RVf8bU/exSuR+F6xD9xR9wRd8TNPwtZyEIWssA/MzMzMzMzwz8IH3zwwQfPP0YXXXTRRbc/C1nIQhaywD97FK5H4Xq0P7dt27Zt28Y/",
          "dtype": "f8"
         }
        },
        {
         "line": {
          "color": "rgb(153,183,205)"
         },
         "mode": "lines+markers",
         "name": "[513.40, 534.47)",
         "type": "scatter",
         "x": [
          "2022-01-01T00:00:00.000000000",
          "2022-02-01T00:00:00.000000000",
          "2022-03-01T00:00:00.000000000",
          "2022-04-01T00:00:00.000000000",
          "2022-05-01T00:00:00.000000000",
          "2022-06-01T00:00:00.000000000",
          "2022-07-01T00:00:00.000000000",
          "2022-08-01T00:00:00.000000000",
          "2022-09-01T00:00:00.000000000",
          "2022-10-01T00:00:00.000000000",
          "2022-11-01T00:00:00.000000000",
          "2022-12-01T00:00:00.000000000",
          "2023-01-01T00:00:00.000000000",
          "2023-02-01T00:00:00.000000000",
          "2023-03-01T00:00:00.000000000",
          "2023-04-01T00:00:00.000000000",
          "2023-05-01T00:00:00.000000000",
          "2023-06-01T00:00:00.000000000",
          "2023-07-01T00:00:00.000000000",
          "2023-08-01T00:00:00.000000000",
          "2023-09-01T00:00:00.000000000",
          "2023-10-01T00:00:00.000000000",
          "2023-11-01T00:00:00.000000000",
          "2023-12-01T00:00:00.000000000",
          "2024-01-01T00:00:00.000000000",
          "2024-02-01T00:00:00.000000000",
          "2024-03-01T00:00:00.000000000",
          "2024-04-01T00:00:00.000000000",
          "2024-05-01T00:00:00.000000000",
          "2024-06-01T00:00:00.000000000",
          "2024-07-01T00:00:00.000000000",
          "2024-08-01T00:00:00.000000000",
          "2024-09-01T00:00:00.000000000",
          "2024-10-01T00:00:00.000000000",
          "2024-11-01T00:00:00.000000000",
          "2024-12-01T00:00:00.000000000",
          "2025-01-01T00:00:00.000000000",
          "2025-02-01T00:00:00.000000000",
          "2025-03-01T00:00:00.000000000",
          "2025-04-01T00:00:00.000000000",
          "2025-05-01T00:00:00.000000000",
          "2025-06-01T00:00:00.000000000",
          "2025-07-01T00:00:00.000000000",
          "2025-08-01T00:00:00.000000000",
          "2025-09-01T00:00:00.000000000",
          "2025-10-01T00:00:00.000000000",
          "2025-11-01T00:00:00.000000000",
          "2025-12-01T00:00:00.000000000"
         ],
         "y": {
          "bdata": "kNEwARkNcz9AKwGtBLSSP+0b1r5h7Zs/FDiBEziBkz+XlpaWlpamP8YYY4wxxqg/aC+hvYT2oj9605ve9Ka3P0basQJhpK0/QGIBd/ojtj+SJEmSJEmyP0YXXXTRRbc/aC+hvYT2sj/xXLM6jDK1P7sStStRu7I/h2nugr+Ksz8arNAZrNC5P/KGvCFvyLs/VVVVVVVVxT8cx3Ecx3G8P5IkSZIkScI/OOQNeUPewD8eHh4eHh6+PzAbNPmyQcM/kiRJkiRJwj9vZ0jM2xnCP29nSMzbGbI/C4SRdqxAyD+FN5o6v/bAP5dv+ZZv+cY/MJb8Yskvxj+WWqmVWqnFP9u2bdu2bcs/VVVVVVVVxT/Oyk+Is/LDPx3UQR3UQb0/OY7jOI7jyD8UO7ETO7HDP7IVQcNJ3cc/QZ4S5ClBzj9oL6G9hPbCP5IkSZIkScI/fBphuacRxj9VVVVVVVXNPxiGYRiGYcg/GqRBGqRByj+rqqqqqqrKPyivobyG8ro/",
          "dtype": "f8"
         }
        },
        {
         "line": {
          "color": "rgb(65,124,167)"
         },
         "mode": "lines+markers",
         "name": "[534.47, inf)",
         "type": "scatter",
         "x": [
          "2022-01-01T00:00:00.000000000",
          "2022-02-01T00:00:00.000000000",
          "2022-03-01T00:00:00.000000000",
          "2022-04-01T00:00:00.000000000",
          "2022-05-01T00:00:00.000000000",
          "2022-06-01T00:00:00.000000000",
          "2022-07-01T00:00:00.000000000",
          "2022-08-01T00:00:00.000000000",
          "2022-09-01T00:00:00.000000000",
          "2022-10-01T00:00:00.000000000",
          "2022-11-01T00:00:00.000000000",
          "2022-12-01T00:00:00.000000000",
          "2023-01-01T00:00:00.000000000",
          "2023-02-01T00:00:00.000000000",
          "2023-03-01T00:00:00.000000000",
          "2023-04-01T00:00:00.000000000",
          "2023-05-01T00:00:00.000000000",
          "2023-06-01T00:00:00.000000000",
          "2023-07-01T00:00:00.000000000",
          "2023-08-01T00:00:00.000000000",
          "2023-09-01T00:00:00.000000000",
          "2023-10-01T00:00:00.000000000",
          "2023-11-01T00:00:00.000000000",
          "2023-12-01T00:00:00.000000000",
          "2024-01-01T00:00:00.000000000",
          "2024-02-01T00:00:00.000000000",
          "2024-03-01T00:00:00.000000000",
          "2024-04-01T00:00:00.000000000",
          "2024-05-01T00:00:00.000000000",
          "2024-06-01T00:00:00.000000000",
          "2024-07-01T00:00:00.000000000",
          "2024-08-01T00:00:00.000000000",
          "2024-09-01T00:00:00.000000000",
          "2024-10-01T00:00:00.000000000",
          "2024-11-01T00:00:00.000000000",
          "2024-12-01T00:00:00.000000000",
          "2025-01-01T00:00:00.000000000",
          "2025-02-01T00:00:00.000000000",
          "2025-03-01T00:00:00.000000000",
          "2025-04-01T00:00:00.000000000",
          "2025-05-01T00:00:00.000000000",
          "2025-06-01T00:00:00.000000000",
          "2025-07-01T00:00:00.000000000",
          "2025-08-01T00:00:00.000000000",
          "2025-09-01T00:00:00.000000000",
          "2025-10-01T00:00:00.000000000",
          "2025-11-01T00:00:00.000000000",
          "2025-12-01T00:00:00.000000000"
         ],
         "y": {
          "bdata": "Y38YLByZgz8AAAAAAAAAAAAAAAAAAAAAKe1GQEq7gT8QEBAQEBCAP42J9EDl7IY/8bh95ns4kj/nQKIVNgeSPxzHcRzHcZw/tvIua6fjnz8UFBQUFBSkP2gvob2E9qI/oQFLevnTpj91hp/O8NOpPw/0b6ZHYKk/N4fu5tDdrD9DcgGvt9GvPwT3EdxHcK8/Hh4eHh4erj8sqmF2cASxPzwIpK2XN7M/4VtRPBK+tT8fIfDMDWS1P0twqPx6uLQ/zspPiLPysz/pSuWggTG0P3pXZL40cbg/bfaeF6u0tT9o903h8ba2P/QFfUFf0Lc/XcvBzX4htj9jbnVGKua2P69MV6Yr07U/voT2EtpLuD+ththj9LO6P9JGtvaPSLs/A5020GkDvT9Jv84pCRC8P2CZKHRTUr0/yO7Q9vfYvT/Lgq+nIk2/Px7OWGoKP78/Ce4juI/gvj+k+wufylK8P+E5AkVbDb4/fE917l/Lvz98t/GE7za+P5qZmZmZmcE/",
          "dtype": "f8"
         }
        }
       ],
       "layout": {
        "template": {
         "data": {
          "bar": [
           {
            "error_x": {
             "color": "#2a3f5f"
            },
            "error_y": {
             "color": "#2a3f5f"
            },
            "marker": {
             "line": {
              "color": "white",
              "width": 0.5
             },
             "pattern": {
              "fillmode": "overlay",
              "size": 10,
              "solidity": 0.2
             }
            },
            "type": "bar"
           }
          ],
          "barpolar": [
           {
            "marker": {
             "line": {
              "color": "white",
              "width": 0.5
             },
             "pattern": {
              "fillmode": "overlay",
              "size": 10,
              "solidity": 0.2
             }
            },
            "type": "barpolar"
           }
          ],
          "carpet": [
           {
            "aaxis": {
             "endlinecolor": "#2a3f5f",
             "gridcolor": "#C8D4E3",
             "linecolor": "#C8D4E3",
             "minorgridcolor": "#C8D4E3",
             "startlinecolor": "#2a3f5f"
            },
            "baxis": {
             "endlinecolor": "#2a3f5f",
             "gridcolor": "#C8D4E3",
             "linecolor": "#C8D4E3",
             "minorgridcolor": "#C8D4E3",
             "startlinecolor": "#2a3f5f"
            },
            "type": "carpet"
           }
          ],
          "choropleth": [
           {
            "colorbar": {
             "outlinewidth": 0,
             "ticks": ""
            },
            "type": "choropleth"
           }
          ],
          "contour": [
           {
            "colorbar": {
             "outlinewidth": 0,
             "ticks": ""
            },
            "colorscale": [
             [
              0,
              "#0d0887"
             ],
             [
              0.1111111111111111,
              "#46039f"
             ],
             [
              0.2222222222222222,
              "#7201a8"
             ],
             [
              0.3333333333333333,
              "#9c179e"
             ],
             [
              0.4444444444444444,
              "#bd3786"
             ],
             [
              0.5555555555555556,
              "#d8576b"
             ],
             [
              0.6666666666666666,
              "#ed7953"
             ],
             [
              0.7777777777777778,
              "#fb9f3a"
             ],
             [
              0.8888888888888888,
              "#fdca26"
             ],
             [
              1,
              "#f0f921"
             ]
            ],
            "type": "contour"
           }
          ],
          "contourcarpet": [
           {
            "colorbar": {
             "outlinewidth": 0,
             "ticks": ""
            },
            "type": "contourcarpet"
           }
          ],
          "heatmap": [
           {
            "colorbar": {
             "outlinewidth": 0,
             "ticks": ""
            },
            "colorscale": [
             [
              0,
              "#0d0887"
             ],
             [
              0.1111111111111111,
              "#46039f"
             ],
             [
              0.2222222222222222,
              "#7201a8"
             ],
             [
              0.3333333333333333,
              "#9c179e"
             ],
             [
              0.4444444444444444,
              "#bd3786"
             ],
             [
              0.5555555555555556,
              "#d8576b"
             ],
             [
              0.6666666666666666,
              "#ed7953"
             ],
             [
              0.7777777777777778,
              "#fb9f3a"
             ],
             [
              0.8888888888888888,
              "#fdca26"
             ],
             [
              1,
              "#f0f921"
             ]
            ],
            "type": "heatmap"
           }
          ],
          "histogram": [
           {
            "marker": {
             "pattern": {
              "fillmode": "overlay",
              "size": 10,
              "solidity": 0.2
             }
            },
            "type": "histogram"
           }
          ],
          "histogram2d": [
           {
            "colorbar": {
             "outlinewidth": 0,
             "ticks": ""
            },
            "colorscale": [
             [
              0,
              "#0d0887"
             ],
             [
              0.1111111111111111,
              "#46039f"
             ],
             [
              0.2222222222222222,
              "#7201a8"
             ],
             [
              0.3333333333333333,
              "#9c179e"
             ],
             [
              0.4444444444444444,
              "#bd3786"
             ],
             [
              0.5555555555555556,
              "#d8576b"
             ],
             [
              0.6666666666666666,
              "#ed7953"
             ],
             [
              0.7777777777777778,
              "#fb9f3a"
             ],
             [
              0.8888888888888888,
              "#fdca26"
             ],
             [
              1,
              "#f0f921"
             ]
            ],
            "type": "histogram2d"
           }
          ],
          "histogram2dcontour": [
           {
            "colorbar": {
             "outlinewidth": 0,
             "ticks": ""
            },
            "colorscale": [
             [
              0,
              "#0d0887"
             ],
             [
              0.1111111111111111,
              "#46039f"
             ],
             [
              0.2222222222222222,
              "#7201a8"
             ],
             [
              0.3333333333333333,
              "#9c179e"
             ],
             [
              0.4444444444444444,
              "#bd3786"
             ],
             [
              0.5555555555555556,
              "#d8576b"
             ],
             [
              0.6666666666666666,
              "#ed7953"
             ],
             [
              0.7777777777777778,
              "#fb9f3a"
             ],
             [
              0.8888888888888888,
              "#fdca26"
             ],
             [
              1,
              "#f0f921"
             ]
            ],
            "type": "histogram2dcontour"
           }
          ],
          "mesh3d": [
           {
            "colorbar": {
             "outlinewidth": 0,
             "ticks": ""
            },
            "type": "mesh3d"
           }
          ],
          "parcoords": [
           {
            "line": {
             "colorbar": {
              "outlinewidth": 0,
              "ticks": ""
             }
            },
            "type": "parcoords"
           }
          ],
          "pie": [
           {
            "automargin": true,
            "type": "pie"
           }
          ],
          "scatter": [
           {
            "fillpattern": {
             "fillmode": "overlay",
             "size": 10,
             "solidity": 0.2
            },
            "type": "scatter"
           }
          ],
          "scatter3d": [
           {
            "line": {
             "colorbar": {
              "outlinewidth": 0,
              "ticks": ""
             }
            },
            "marker": {
             "colorbar": {
              "outlinewidth": 0,
              "ticks": ""
             }
            },
            "type": "scatter3d"
           }
          ],
          "scattercarpet": [
           {
            "marker": {
             "colorbar": {
              "outlinewidth": 0,
              "ticks": ""
             }
            },
            "type": "scattercarpet"
           }
          ],
          "scattergeo": [
           {
            "marker": {
             "colorbar": {
              "outlinewidth": 0,
              "ticks": ""
             }
            },
            "type": "scattergeo"
           }
          ],
          "scattergl": [
           {
            "marker": {
             "colorbar": {
              "outlinewidth": 0,
              "ticks": ""
             }
            },
            "type": "scattergl"
           }
          ],
          "scattermap": [
           {
            "marker": {
             "colorbar": {
              "outlinewidth": 0,
              "ticks": ""
             }
            },
            "type": "scattermap"
           }
          ],
          "scattermapbox": [
           {
            "marker": {
             "colorbar": {
              "outlinewidth": 0,
              "ticks": ""
             }
            },
            "type": "scattermapbox"
           }
          ],
          "scatterpolar": [
           {
            "marker": {
             "colorbar": {
              "outlinewidth": 0,
              "ticks": ""
             }
            },
            "type": "scatterpolar"
           }
          ],
          "scatterpolargl": [
           {
            "marker": {
             "colorbar": {
              "outlinewidth": 0,
              "ticks": ""
             }
            },
            "type": "scatterpolargl"
           }
          ],
          "scatterternary": [
           {
            "marker": {
             "colorbar": {
              "outlinewidth": 0,
              "ticks": ""
             }
            },
            "type": "scatterternary"
           }
          ],
          "surface": [
           {
            "colorbar": {
             "outlinewidth": 0,
             "ticks": ""
            },
            "colorscale": [
             [
              0,
              "#0d0887"
             ],
             [
              0.1111111111111111,
              "#46039f"
             ],
             [
              0.2222222222222222,
              "#7201a8"
             ],
             [
              0.3333333333333333,
              "#9c179e"
             ],
             [
              0.4444444444444444,
              "#bd3786"
             ],
             [
              0.5555555555555556,
              "#d8576b"
             ],
             [
              0.6666666666666666,
              "#ed7953"
             ],
             [
              0.7777777777777778,
              "#fb9f3a"
             ],
             [
              0.8888888888888888,
              "#fdca26"
             ],
             [
              1,
              "#f0f921"
             ]
            ],
            "type": "surface"
           }
          ],
          "table": [
           {
            "cells": {
             "fill": {
              "color": "#EBF0F8"
             },
             "line": {
              "color": "white"
             }
            },
            "header": {
             "fill": {
              "color": "#C8D4E3"
             },
             "line": {
              "color": "white"
             }
            },
            "type": "table"
           }
          ]
         },
         "layout": {
          "annotationdefaults": {
           "arrowcolor": "#2a3f5f",
           "arrowhead": 0,
           "arrowwidth": 1
          },
          "autotypenumbers": "strict",
          "coloraxis": {
           "colorbar": {
            "outlinewidth": 0,
            "ticks": ""
           }
          },
          "colorscale": {
           "diverging": [
            [
             0,
             "#8e0152"
            ],
            [
             0.1,
             "#c51b7d"
            ],
            [
             0.2,
             "#de77ae"
            ],
            [
             0.3,
             "#f1b6da"
            ],
            [
             0.4,
             "#fde0ef"
            ],
            [
             0.5,
             "#f7f7f7"
            ],
            [
             0.6,
             "#e6f5d0"
            ],
            [
             0.7,
             "#b8e186"
            ],
            [
             0.8,
             "#7fbc41"
            ],
            [
             0.9,
             "#4d9221"
            ],
            [
             1,
             "#276419"
            ]
           ],
           "sequential": [
            [
             0,
             "#0d0887"
            ],
            [
             0.1111111111111111,
             "#46039f"
            ],
            [
             0.2222222222222222,
             "#7201a8"
            ],
            [
             0.3333333333333333,
             "#9c179e"
            ],
            [
             0.4444444444444444,
             "#bd3786"
            ],
            [
             0.5555555555555556,
             "#d8576b"
            ],
            [
             0.6666666666666666,
             "#ed7953"
            ],
            [
             0.7777777777777778,
             "#fb9f3a"
            ],
            [
             0.8888888888888888,
             "#fdca26"
            ],
            [
             1,
             "#f0f921"
            ]
           ],
           "sequentialminus": [
            [
             0,
             "#0d0887"
            ],
            [
             0.1111111111111111,
             "#46039f"
            ],
            [
             0.2222222222222222,
             "#7201a8"
            ],
            [
             0.3333333333333333,
             "#9c179e"
            ],
            [
             0.4444444444444444,
             "#bd3786"
            ],
            [
             0.5555555555555556,
             "#d8576b"
            ],
            [
             0.6666666666666666,
             "#ed7953"
            ],
            [
             0.7777777777777778,
             "#fb9f3a"
            ],
            [
             0.8888888888888888,
             "#fdca26"
            ],
            [
             1,
             "#f0f921"
            ]
           ]
          },
          "colorway": [
           "#636efa",
           "#EF553B",
           "#00cc96",
           "#ab63fa",
           "#FFA15A",
           "#19d3f3",
           "#FF6692",
           "#B6E880",
           "#FF97FF",
           "#FECB52"
          ],
          "font": {
           "color": "#2a3f5f"
          },
          "geo": {
           "bgcolor": "white",
           "lakecolor": "white",
           "landcolor": "white",
           "showlakes": true,
           "showland": true,
           "subunitcolor": "#C8D4E3"
          },
          "hoverlabel": {
           "align": "left"
          },
          "hovermode": "closest",
          "mapbox": {
           "style": "light"
          },
          "paper_bgcolor": "white",
          "plot_bgcolor": "white",
          "polar": {
           "angularaxis": {
            "gridcolor": "#EBF0F8",
            "linecolor": "#EBF0F8",
            "ticks": ""
           },
           "bgcolor": "white",
           "radialaxis": {
            "gridcolor": "#EBF0F8",
            "linecolor": "#EBF0F8",
            "ticks": ""
           }
          },
          "scene": {
           "xaxis": {
            "backgroundcolor": "white",
            "gridcolor": "#DFE8F3",
            "gridwidth": 2,
            "linecolor": "#EBF0F8",
            "showbackground": true,
            "ticks": "",
            "zerolinecolor": "#EBF0F8"
           },
           "yaxis": {
            "backgroundcolor": "white",
            "gridcolor": "#DFE8F3",
            "gridwidth": 2,
            "linecolor": "#EBF0F8",
            "showbackground": true,
            "ticks": "",
            "zerolinecolor": "#EBF0F8"
           },
           "zaxis": {
            "backgroundcolor": "white",
            "gridcolor": "#DFE8F3",
            "gridwidth": 2,
            "linecolor": "#EBF0F8",
            "showbackground": true,
            "ticks": "",
            "zerolinecolor": "#EBF0F8"
           }
          },
          "shapedefaults": {
           "line": {
            "color": "#2a3f5f"
           }
          },
          "ternary": {
           "aaxis": {
            "gridcolor": "#DFE8F3",
            "linecolor": "#A2B1C6",
            "ticks": ""
           },
           "baxis": {
            "gridcolor": "#DFE8F3",
            "linecolor": "#A2B1C6",
            "ticks": ""
           },
           "bgcolor": "white",
           "caxis": {
            "gridcolor": "#DFE8F3",
            "linecolor": "#A2B1C6",
            "ticks": ""
           }
          },
          "title": {
           "x": 0.05
          },
          "xaxis": {
           "automargin": true,
           "gridcolor": "#EBF0F8",
           "linecolor": "#EBF0F8",
           "ticks": "",
           "title": {
            "standoff": 15
           },
           "zerolinecolor": "#EBF0F8",
           "zerolinewidth": 2
          },
          "yaxis": {
           "automargin": true,
           "gridcolor": "#EBF0F8",
           "linecolor": "#EBF0F8",
           "ticks": "",
           "title": {
            "standoff": 15
           },
           "zerolinecolor": "#EBF0F8",
           "zerolinewidth": 2
          }
         }
        },
        "title": {
         "text": "Event Rate by Group over Time"
        },
        "xaxis": {
         "title": {
          "text": "ref_date"
         }
        },
        "yaxis": {
         "title": {
          "text": "Event rate"
         }
        }
       }
      }
     },
     "metadata": {},
     "output_type": "display_data"
    },
    {
     "data": {
      "application/vnd.plotly.v1+json": {
       "config": {
        "plotlyServerURL": "https://plot.ly"
       },
       "data": [
        {
         "marker": {
          "color": "rgb(217,58,70)"
         },
         "name": "(-inf, 482.86)",
         "type": "bar",
         "x": [
          "2022-01-01T00:00:00.000000000",
          "2022-02-01T00:00:00.000000000",
          "2022-03-01T00:00:00.000000000",
          "2022-04-01T00:00:00.000000000",
          "2022-05-01T00:00:00.000000000",
          "2022-06-01T00:00:00.000000000",
          "2022-07-01T00:00:00.000000000",
          "2022-08-01T00:00:00.000000000",
          "2022-09-01T00:00:00.000000000",
          "2022-10-01T00:00:00.000000000",
          "2022-11-01T00:00:00.000000000",
          "2022-12-01T00:00:00.000000000",
          "2023-01-01T00:00:00.000000000",
          "2023-02-01T00:00:00.000000000",
          "2023-03-01T00:00:00.000000000",
          "2023-04-01T00:00:00.000000000",
          "2023-05-01T00:00:00.000000000",
          "2023-06-01T00:00:00.000000000",
          "2023-07-01T00:00:00.000000000",
          "2023-08-01T00:00:00.000000000",
          "2023-09-01T00:00:00.000000000",
          "2023-10-01T00:00:00.000000000",
          "2023-11-01T00:00:00.000000000",
          "2023-12-01T00:00:00.000000000",
          "2024-01-01T00:00:00.000000000",
          "2024-02-01T00:00:00.000000000",
          "2024-03-01T00:00:00.000000000",
          "2024-04-01T00:00:00.000000000",
          "2024-05-01T00:00:00.000000000",
          "2024-06-01T00:00:00.000000000",
          "2024-07-01T00:00:00.000000000",
          "2024-08-01T00:00:00.000000000",
          "2024-09-01T00:00:00.000000000",
          "2024-10-01T00:00:00.000000000",
          "2024-11-01T00:00:00.000000000",
          "2024-12-01T00:00:00.000000000",
          "2025-01-01T00:00:00.000000000",
          "2025-02-01T00:00:00.000000000",
          "2025-03-01T00:00:00.000000000",
          "2025-04-01T00:00:00.000000000",
          "2025-05-01T00:00:00.000000000",
          "2025-06-01T00:00:00.000000000",
          "2025-07-01T00:00:00.000000000",
          "2025-08-01T00:00:00.000000000",
          "2025-09-01T00:00:00.000000000",
          "2025-10-01T00:00:00.000000000",
          "2025-11-01T00:00:00.000000000",
          "2025-12-01T00:00:00.000000000"
         ],
         "y": {
          "bdata": "z/dT46WbxD++nxov3STGP166SQwCK8c/sp3vp8ZLxz89CtejcD3KP4lBYOXQIss/JQaBlUOLzD8dWmQ730/NP6jGSzeJQdA/9P3UeOkm0T+mm8QgsHLQP+58PzVeutE/RIts5/up0T8730+Nl27SP90kBoGVQ9M/1XjpJjEI1D/P91PjpZvUP9V46SYxCNQ/xSCwcmiR1T8fhetRuB7VP3E9CtejcNU/xSCwcmiR1T+8dJMYBFbWP166SQwCK9c/tMh2vp8a1z9oke18PzXWPwAAAAAAANg/sp3vp8ZL1z9U46WbxCDYP1CNl24Sg9g/pHA9Ctej2D9KDAIrhxbZP6RwPQrXo9g/9P3UeOkm2T/2KFyPwvXYP6AaL90kBtk/8KfGSzeJ2T8/NV66SQzaP+kmMQisHNo/5dAi2/l+2j+YbhKDwMrZPzVeukkMAts/ObTIdr6f2j/dJAaBlUPbPzEIrBxaZNs/16NwPQrX2z/ZzvdT46XbP9ejcD0K19s/",
          "dtype": "f8"
         }
        },
        {
         "marker": {
          "color": "rgb(230,148,154)"
         },
         "name": "[482.86, 498.45)",
         "type": "bar",
         "x": [
          "2022-01-01T00:00:00.000000000",
          "2022-02-01T00:00:00.000000000",
          "2022-03-01T00:00:00.000000000",
          "2022-04-01T00:00:00.000000000",
          "2022-05-01T00:00:00.000000000",
          "2022-06-01T00:00:00.000000000",
          "2022-07-01T00:00:00.000000000",
          "2022-08-01T00:00:00.000000000",
          "2022-09-01T00:00:00.000000000",
          "2022-10-01T00:00:00.000000000",
          "2022-11-01T00:00:00.000000000",
          "2022-12-01T00:00:00.000000000",
          "2023-01-01T00:00:00.000000000",
          "2023-02-01T00:00:00.000000000",
          "2023-03-01T00:00:00.000000000",
          "2023-04-01T00:00:00.000000000",
          "2023-05-01T00:00:00.000000000",
          "2023-06-01T00:00:00.000000000",
          "2023-07-01T00:00:00.000000000",
          "2023-08-01T00:00:00.000000000",
          "2023-09-01T00:00:00.000000000",
          "2023-10-01T00:00:00.000000000",
          "2023-11-01T00:00:00.000000000",
          "2023-12-01T00:00:00.000000000",
          "2024-01-01T00:00:00.000000000",
          "2024-02-01T00:00:00.000000000",
          "2024-03-01T00:00:00.000000000",
          "2024-04-01T00:00:00.000000000",
          "2024-05-01T00:00:00.000000000",
          "2024-06-01T00:00:00.000000000",
          "2024-07-01T00:00:00.000000000",
          "2024-08-01T00:00:00.000000000",
          "2024-09-01T00:00:00.000000000",
          "2024-10-01T00:00:00.000000000",
          "2024-11-01T00:00:00.000000000",
          "2024-12-01T00:00:00.000000000",
          "2025-01-01T00:00:00.000000000",
          "2025-02-01T00:00:00.000000000",
          "2025-03-01T00:00:00.000000000",
          "2025-04-01T00:00:00.000000000",
          "2025-05-01T00:00:00.000000000",
          "2025-06-01T00:00:00.000000000",
          "2025-07-01T00:00:00.000000000",
          "2025-08-01T00:00:00.000000000",
          "2025-09-01T00:00:00.000000000",
          "2025-10-01T00:00:00.000000000",
          "2025-11-01T00:00:00.000000000",
          "2025-12-01T00:00:00.000000000"
         ],
         "y": {
          "bdata": "2c73U+Olyz+Nl24Sg8DKP1pkO99Pjcc/UrgehetRyD/P91PjpZvEP2q8dJMYBMY/46WbxCCwwj/HSzeJQWDFP0jhehSuR8E/AAAAAAAAwD8QWDm0yHa+P7ByaJHtfL8/pHA9CtejwD8hsHJoke28PxkEVg4tsr0/4XoUrkfhuj8pXI/C9Si8P7gehetRuL4/qvHSTWIQuD9CYOXQItu5P7Kd76fGS7c/WmQ730+Ntz8j2/l+ary0PzMzMzMzM7M/Gy/dJAaBtT+6SQwCK4e2PwisHFpkO68/aJHtfD81rj8pXI/C9SisPxkEVg4tsq0/ObTIdr6fqj+JQWDl0CKrPylcj8L1KKw/CtejcD0Kpz/pJjEIrByqPzm0yHa+n6o/K4cW2c73oz/ZzvdT46WrP7pJDAIrh6Y/7FG4HoXroT8bL90kBoGlP1pkO99Pjac/uB6F61G4nj9aZDvfT42XP4ts5/up8aI/O99PjZduoj8ZBFYOLbKdP9v5fmq8dJM/",
          "dtype": "f8"
         }
        },
        {
         "marker": {
          "color": "rgb(242,241,241)"
         },
         "name": "[498.45, 513.40)",
         "type": "bar",
         "x": [
          "2022-01-01T00:00:00.000000000",
          "2022-02-01T00:00:00.000000000",
          "2022-03-01T00:00:00.000000000",
          "2022-04-01T00:00:00.000000000",
          "2022-05-01T00:00:00.000000000",
          "2022-06-01T00:00:00.000000000",
          "2022-07-01T00:00:00.000000000",
          "2022-08-01T00:00:00.000000000",
          "2022-09-01T00:00:00.000000000",
          "2022-10-01T00:00:00.000000000",
          "2022-11-01T00:00:00.000000000",
          "2022-12-01T00:00:00.000000000",
          "2023-01-01T00:00:00.000000000",
          "2023-02-01T00:00:00.000000000",
          "2023-03-01T00:00:00.000000000",
          "2023-04-01T00:00:00.000000000",
          "2023-05-01T00:00:00.000000000",
          "2023-06-01T00:00:00.000000000",
          "2023-07-01T00:00:00.000000000",
          "2023-08-01T00:00:00.000000000",
          "2023-09-01T00:00:00.000000000",
          "2023-10-01T00:00:00.000000000",
          "2023-11-01T00:00:00.000000000",
          "2023-12-01T00:00:00.000000000",
          "2024-01-01T00:00:00.000000000",
          "2024-02-01T00:00:00.000000000",
          "2024-03-01T00:00:00.000000000",
          "2024-04-01T00:00:00.000000000",
          "2024-05-01T00:00:00.000000000",
          "2024-06-01T00:00:00.000000000",
          "2024-07-01T00:00:00.000000000",
          "2024-08-01T00:00:00.000000000",
          "2024-09-01T00:00:00.000000000",
          "2024-10-01T00:00:00.000000000",
          "2024-11-01T00:00:00.000000000",
          "2024-12-01T00:00:00.000000000",
          "2025-01-01T00:00:00.000000000",
          "2025-02-01T00:00:00.000000000",
          "2025-03-01T00:00:00.000000000",
          "2025-04-01T00:00:00.000000000",
          "2025-05-01T00:00:00.000000000",
          "2025-06-01T00:00:00.000000000",
          "2025-07-01T00:00:00.000000000",
          "2025-08-01T00:00:00.000000000",
          "2025-09-01T00:00:00.000000000",
          "2025-10-01T00:00:00.000000000",
          "2025-11-01T00:00:00.000000000",
          "2025-12-01T00:00:00.000000000"
         ],
         "y": {
          "bdata": "Rrbz/dR4yT9aZDvfT43HP0oMAiuHFsk/Vg4tsp3vxz9mZmZmZmbGPyPb+X5qvMQ/z/dT46WbxD+cxCCwcmjBP6AaL90kBsE/oBov3SQGwT+cxCCwcmjBPwisHFpkO78/aJHtfD81vj/hehSuR+G6P8HKoUW2870/yXa+nxovvT9SuB6F61G4P/p+arx0k7g/arx0kxgEtj/sUbgeheuxP8uhRbbz/bQ/g8DKoUW2sz97FK5H4Xq0P/T91HjpJrE/O99PjZdusj/jpZvEILCyP/T91HjpJrE/I9v5fmq8tD+cxCCwcmixP+kmMQisHKo/uB6F61G4rj/ZzvdT46WrP3npJjEIrKw/ObTIdr6fqj/LoUW28/2kP1pkO99Pjac/exSuR+F6pD97FK5H4XqkP+xRuB6F66E/mpmZmZmZqT9qvHSTGASmP1pkO99PjZc/exSuR+F6pD9MN4lBYOWgP0w3iUFg5aA/WmQ730+Nlz+amZmZmZmZP3npJjEIrJw/",
          "dtype": "f8"
         }
        },
        {
         "marker": {
          "color": "rgb(153,183,205)"
         },
         "name": "[513.40, 534.47)",
         "type": "bar",
         "x": [
          "2022-01-01T00:00:00.000000000",
          "2022-02-01T00:00:00.000000000",
          "2022-03-01T00:00:00.000000000",
          "2022-04-01T00:00:00.000000000",
          "2022-05-01T00:00:00.000000000",
          "2022-06-01T00:00:00.000000000",
          "2022-07-01T00:00:00.000000000",
          "2022-08-01T00:00:00.000000000",
          "2022-09-01T00:00:00.000000000",
          "2022-10-01T00:00:00.000000000",
          "2022-11-01T00:00:00.000000000",
          "2022-12-01T00:00:00.000000000",
          "2023-01-01T00:00:00.000000000",
          "2023-02-01T00:00:00.000000000",
          "2023-03-01T00:00:00.000000000",
          "2023-04-01T00:00:00.000000000",
          "2023-05-01T00:00:00.000000000",
          "2023-06-01T00:00:00.000000000",
          "2023-07-01T00:00:00.000000000",
          "2023-08-01T00:00:00.000000000",
          "2023-09-01T00:00:00.000000000",
          "2023-10-01T00:00:00.000000000",
          "2023-11-01T00:00:00.000000000",
          "2023-12-01T00:00:00.000000000",
          "2024-01-01T00:00:00.000000000",
          "2024-02-01T00:00:00.000000000",
          "2024-03-01T00:00:00.000000000",
          "2024-04-01T00:00:00.000000000",
          "2024-05-01T00:00:00.000000000",
          "2024-06-01T00:00:00.000000000",
          "2024-07-01T00:00:00.000000000",
          "2024-08-01T00:00:00.000000000",
          "2024-09-01T00:00:00.000000000",
          "2024-10-01T00:00:00.000000000",
          "2024-11-01T00:00:00.000000000",
          "2024-12-01T00:00:00.000000000",
          "2025-01-01T00:00:00.000000000",
          "2025-02-01T00:00:00.000000000",
          "2025-03-01T00:00:00.000000000",
          "2025-04-01T00:00:00.000000000",
          "2025-05-01T00:00:00.000000000",
          "2025-06-01T00:00:00.000000000",
          "2025-07-01T00:00:00.000000000",
          "2025-08-01T00:00:00.000000000",
          "2025-09-01T00:00:00.000000000",
          "2025-10-01T00:00:00.000000000",
          "2025-11-01T00:00:00.000000000",
          "2025-12-01T00:00:00.000000000"
         ],
         "y": {
          "bdata": "hetRuB6Fyz/VeOkmMQjMPylcj8L1KMw/4XoUrkfhyj/pJjEIrBzKPwIrhxbZzsc//tR46SYxyD9aZDvfT43HP1K4HoXrUcg/rkfhehSuxz+yne+nxkvHP4PAyqFFtsM/I9v5fmq8xD9/arx0kxjEP7ByaJHtfL8/+FPjpZvEwD8QWDm0yHa+P1CNl24Sg8A/VOOlm8QgwD8v3SQGgZXDPxBYObTIdr4/UI2XbhKDwD8QWDm0yHa+PyGwcmiR7bw/SgwCK4cWuT/y0k1iEFi5P/LSTWIQWLk/UrgehetRuD9zaJHtfD+1PyuHFtnO97M/MzMzMzMzsz+kcD0K16OwP+xRuB6F67E/K4cW2c73sz+DwMqhRbazP+xRuB6F67E/O99PjZdusj85tMh2vp+qP2iR7Xw/Na4/KVyPwvUorD/ZzvdT46WrPxsv3SQGgaU/GQRWDi2yrT/6fmq8dJOoPxsv3SQGgaU/K4cW2c73oz/6fmq8dJOoP9v5fmq8dKM/",
          "dtype": "f8"
         }
        },
        {
         "marker": {
          "color": "rgb(65,124,167)"
         },
         "name": "[534.47, inf)",
         "type": "bar",
         "x": [
          "2022-01-01T00:00:00.000000000",
          "2022-02-01T00:00:00.000000000",
          "2022-03-01T00:00:00.000000000",
          "2022-04-01T00:00:00.000000000",
          "2022-05-01T00:00:00.000000000",
          "2022-06-01T00:00:00.000000000",
          "2022-07-01T00:00:00.000000000",
          "2022-08-01T00:00:00.000000000",
          "2022-09-01T00:00:00.000000000",
          "2022-10-01T00:00:00.000000000",
          "2022-11-01T00:00:00.000000000",
          "2022-12-01T00:00:00.000000000",
          "2023-01-01T00:00:00.000000000",
          "2023-02-01T00:00:00.000000000",
          "2023-03-01T00:00:00.000000000",
          "2023-04-01T00:00:00.000000000",
          "2023-05-01T00:00:00.000000000",
          "2023-06-01T00:00:00.000000000",
          "2023-07-01T00:00:00.000000000",
          "2023-08-01T00:00:00.000000000",
          "2023-09-01T00:00:00.000000000",
          "2023-10-01T00:00:00.000000000",
          "2023-11-01T00:00:00.000000000",
          "2023-12-01T00:00:00.000000000",
          "2024-01-01T00:00:00.000000000",
          "2024-02-01T00:00:00.000000000",
          "2024-03-01T00:00:00.000000000",
          "2024-04-01T00:00:00.000000000",
          "2024-05-01T00:00:00.000000000",
          "2024-06-01T00:00:00.000000000",
          "2024-07-01T00:00:00.000000000",
          "2024-08-01T00:00:00.000000000",
          "2024-09-01T00:00:00.000000000",
          "2024-10-01T00:00:00.000000000",
          "2024-11-01T00:00:00.000000000",
          "2024-12-01T00:00:00.000000000",
          "2025-01-01T00:00:00.000000000",
          "2025-02-01T00:00:00.000000000",
          "2025-03-01T00:00:00.000000000",
          "2025-04-01T00:00:00.000000000",
          "2025-05-01T00:00:00.000000000",
          "2025-06-01T00:00:00.000000000",
          "2025-07-01T00:00:00.000000000",
          "2025-08-01T00:00:00.000000000",
          "2025-09-01T00:00:00.000000000",
          "2025-10-01T00:00:00.000000000",
          "2025-11-01T00:00:00.000000000",
          "2025-12-01T00:00:00.000000000"
         ],
         "y": {
          "bdata": "jZduEoPAyj+F61G4HoXLP9V46SYxCMw/xSCwcmiRzT9SuB6F61HQP/T91HjpJtE/lkOLbOf70T+TGARWDi3SPzvfT42XbtI/5dAi2/l+0j8v3SQGgZXTPyPb+X5qvNQ/f2q8dJMY1D/FILByaJHVP8HKoUW289U/xSCwcmiR1T8OLbKd76fWPxfZzvdT49U/DAIrhxbZ1j++nxov3STWP6wcWmQ739c/XI/C9Shc1z9YObTIdr7XP1CNl24Sg9g/pHA9Ctej2D/0/dR46SbZP0a28/3UeNk/RIts5/up2T/jpZvEILDaP4XrUbgehds/MQisHFpk2z+BlUOLbOfbPy2yne+nxts/2c73U+Ol2z/TTWIQWDncP9NNYhBYOdw/zczMzMzM3D/P91PjpZvcP3WTGARWDt0/JQaBlUOL3D8dWmQ730/dPxfZzvdT490/yXa+nxov3T8UrkfhehTeP3E9CtejcN0/F9nO91Pj3T9t5/up8dLdP7gehetRuN4/",
          "dtype": "f8"
         }
        }
       ],
       "layout": {
        "barmode": "stack",
        "template": {
         "data": {
          "bar": [
           {
            "error_x": {
             "color": "#2a3f5f"
            },
            "error_y": {
             "color": "#2a3f5f"
            },
            "marker": {
             "line": {
              "color": "white",
              "width": 0.5
             },
             "pattern": {
              "fillmode": "overlay",
              "size": 10,
              "solidity": 0.2
             }
            },
            "type": "bar"
           }
          ],
          "barpolar": [
           {
            "marker": {
             "line": {
              "color": "white",
              "width": 0.5
             },
             "pattern": {
              "fillmode": "overlay",
              "size": 10,
              "solidity": 0.2
             }
            },
            "type": "barpolar"
           }
          ],
          "carpet": [
           {
            "aaxis": {
             "endlinecolor": "#2a3f5f",
             "gridcolor": "#C8D4E3",
             "linecolor": "#C8D4E3",
             "minorgridcolor": "#C8D4E3",
             "startlinecolor": "#2a3f5f"
            },
            "baxis": {
             "endlinecolor": "#2a3f5f",
             "gridcolor": "#C8D4E3",
             "linecolor": "#C8D4E3",
             "minorgridcolor": "#C8D4E3",
             "startlinecolor": "#2a3f5f"
            },
            "type": "carpet"
           }
          ],
          "choropleth": [
           {
            "colorbar": {
             "outlinewidth": 0,
             "ticks": ""
            },
            "type": "choropleth"
           }
          ],
          "contour": [
           {
            "colorbar": {
             "outlinewidth": 0,
             "ticks": ""
            },
            "colorscale": [
             [
              0,
              "#0d0887"
             ],
             [
              0.1111111111111111,
              "#46039f"
             ],
             [
              0.2222222222222222,
              "#7201a8"
             ],
             [
              0.3333333333333333,
              "#9c179e"
             ],
             [
              0.4444444444444444,
              "#bd3786"
             ],
             [
              0.5555555555555556,
              "#d8576b"
             ],
             [
              0.6666666666666666,
              "#ed7953"
             ],
             [
              0.7777777777777778,
              "#fb9f3a"
             ],
             [
              0.8888888888888888,
              "#fdca26"
             ],
             [
              1,
              "#f0f921"
             ]
            ],
            "type": "contour"
           }
          ],
          "contourcarpet": [
           {
            "colorbar": {
             "outlinewidth": 0,
             "ticks": ""
            },
            "type": "contourcarpet"
           }
          ],
          "heatmap": [
           {
            "colorbar": {
             "outlinewidth": 0,
             "ticks": ""
            },
            "colorscale": [
             [
              0,
              "#0d0887"
             ],
             [
              0.1111111111111111,
              "#46039f"
             ],
             [
              0.2222222222222222,
              "#7201a8"
             ],
             [
              0.3333333333333333,
              "#9c179e"
             ],
             [
              0.4444444444444444,
              "#bd3786"
             ],
             [
              0.5555555555555556,
              "#d8576b"
             ],
             [
              0.6666666666666666,
              "#ed7953"
             ],
             [
              0.7777777777777778,
              "#fb9f3a"
             ],
             [
              0.8888888888888888,
              "#fdca26"
             ],
             [
              1,
              "#f0f921"
             ]
            ],
            "type": "heatmap"
           }
          ],
          "histogram": [
           {
            "marker": {
             "pattern": {
              "fillmode": "overlay",
              "size": 10,
              "solidity": 0.2
             }
            },
            "type": "histogram"
           }
          ],
          "histogram2d": [
           {
            "colorbar": {
             "outlinewidth": 0,
             "ticks": ""
            },
            "colorscale": [
             [
              0,
              "#0d0887"
             ],
             [
              0.1111111111111111,
              "#46039f"
             ],
             [
              0.2222222222222222,
              "#7201a8"
             ],
             [
              0.3333333333333333,
              "#9c179e"
             ],
             [
              0.4444444444444444,
              "#bd3786"
             ],
             [
              0.5555555555555556,
              "#d8576b"
             ],
             [
              0.6666666666666666,
              "#ed7953"
             ],
             [
              0.7777777777777778,
              "#fb9f3a"
             ],
             [
              0.8888888888888888,
              "#fdca26"
             ],
             [
              1,
              "#f0f921"
             ]
            ],
            "type": "histogram2d"
           }
          ],
          "histogram2dcontour": [
           {
            "colorbar": {
             "outlinewidth": 0,
             "ticks": ""
            },
            "colorscale": [
             [
              0,
              "#0d0887"
             ],
             [
              0.1111111111111111,
              "#46039f"
             ],
             [
              0.2222222222222222,
              "#7201a8"
             ],
             [
              0.3333333333333333,
              "#9c179e"
             ],
             [
              0.4444444444444444,
              "#bd3786"
             ],
             [
              0.5555555555555556,
              "#d8576b"
             ],
             [
              0.6666666666666666,
              "#ed7953"
             ],
             [
              0.7777777777777778,
              "#fb9f3a"
             ],
             [
              0.8888888888888888,
              "#fdca26"
             ],
             [
              1,
              "#f0f921"
             ]
            ],
            "type": "histogram2dcontour"
           }
          ],
          "mesh3d": [
           {
            "colorbar": {
             "outlinewidth": 0,
             "ticks": ""
            },
            "type": "mesh3d"
           }
          ],
          "parcoords": [
           {
            "line": {
             "colorbar": {
              "outlinewidth": 0,
              "ticks": ""
             }
            },
            "type": "parcoords"
           }
          ],
          "pie": [
           {
            "automargin": true,
            "type": "pie"
           }
          ],
          "scatter": [
           {
            "fillpattern": {
             "fillmode": "overlay",
             "size": 10,
             "solidity": 0.2
            },
            "type": "scatter"
           }
          ],
          "scatter3d": [
           {
            "line": {
             "colorbar": {
              "outlinewidth": 0,
              "ticks": ""
             }
            },
            "marker": {
             "colorbar": {
              "outlinewidth": 0,
              "ticks": ""
             }
            },
            "type": "scatter3d"
           }
          ],
          "scattercarpet": [
           {
            "marker": {
             "colorbar": {
              "outlinewidth": 0,
              "ticks": ""
             }
            },
            "type": "scattercarpet"
           }
          ],
          "scattergeo": [
           {
            "marker": {
             "colorbar": {
              "outlinewidth": 0,
              "ticks": ""
             }
            },
            "type": "scattergeo"
           }
          ],
          "scattergl": [
           {
            "marker": {
             "colorbar": {
              "outlinewidth": 0,
              "ticks": ""
             }
            },
            "type": "scattergl"
           }
          ],
          "scattermap": [
           {
            "marker": {
             "colorbar": {
              "outlinewidth": 0,
              "ticks": ""
             }
            },
            "type": "scattermap"
           }
          ],
          "scattermapbox": [
           {
            "marker": {
             "colorbar": {
              "outlinewidth": 0,
              "ticks": ""
             }
            },
            "type": "scattermapbox"
           }
          ],
          "scatterpolar": [
           {
            "marker": {
             "colorbar": {
              "outlinewidth": 0,
              "ticks": ""
             }
            },
            "type": "scatterpolar"
           }
          ],
          "scatterpolargl": [
           {
            "marker": {
             "colorbar": {
              "outlinewidth": 0,
              "ticks": ""
             }
            },
            "type": "scatterpolargl"
           }
          ],
          "scatterternary": [
           {
            "marker": {
             "colorbar": {
              "outlinewidth": 0,
              "ticks": ""
             }
            },
            "type": "scatterternary"
           }
          ],
          "surface": [
           {
            "colorbar": {
             "outlinewidth": 0,
             "ticks": ""
            },
            "colorscale": [
             [
              0,
              "#0d0887"
             ],
             [
              0.1111111111111111,
              "#46039f"
             ],
             [
              0.2222222222222222,
              "#7201a8"
             ],
             [
              0.3333333333333333,
              "#9c179e"
             ],
             [
              0.4444444444444444,
              "#bd3786"
             ],
             [
              0.5555555555555556,
              "#d8576b"
             ],
             [
              0.6666666666666666,
              "#ed7953"
             ],
             [
              0.7777777777777778,
              "#fb9f3a"
             ],
             [
              0.8888888888888888,
              "#fdca26"
             ],
             [
              1,
              "#f0f921"
             ]
            ],
            "type": "surface"
           }
          ],
          "table": [
           {
            "cells": {
             "fill": {
              "color": "#EBF0F8"
             },
             "line": {
              "color": "white"
             }
            },
            "header": {
             "fill": {
              "color": "#C8D4E3"
             },
             "line": {
              "color": "white"
             }
            },
            "type": "table"
           }
          ]
         },
         "layout": {
          "annotationdefaults": {
           "arrowcolor": "#2a3f5f",
           "arrowhead": 0,
           "arrowwidth": 1
          },
          "autotypenumbers": "strict",
          "coloraxis": {
           "colorbar": {
            "outlinewidth": 0,
            "ticks": ""
           }
          },
          "colorscale": {
           "diverging": [
            [
             0,
             "#8e0152"
            ],
            [
             0.1,
             "#c51b7d"
            ],
            [
             0.2,
             "#de77ae"
            ],
            [
             0.3,
             "#f1b6da"
            ],
            [
             0.4,
             "#fde0ef"
            ],
            [
             0.5,
             "#f7f7f7"
            ],
            [
             0.6,
             "#e6f5d0"
            ],
            [
             0.7,
             "#b8e186"
            ],
            [
             0.8,
             "#7fbc41"
            ],
            [
             0.9,
             "#4d9221"
            ],
            [
             1,
             "#276419"
            ]
           ],
           "sequential": [
            [
             0,
             "#0d0887"
            ],
            [
             0.1111111111111111,
             "#46039f"
            ],
            [
             0.2222222222222222,
             "#7201a8"
            ],
            [
             0.3333333333333333,
             "#9c179e"
            ],
            [
             0.4444444444444444,
             "#bd3786"
            ],
            [
             0.5555555555555556,
             "#d8576b"
            ],
            [
             0.6666666666666666,
             "#ed7953"
            ],
            [
             0.7777777777777778,
             "#fb9f3a"
            ],
            [
             0.8888888888888888,
             "#fdca26"
            ],
            [
             1,
             "#f0f921"
            ]
           ],
           "sequentialminus": [
            [
             0,
             "#0d0887"
            ],
            [
             0.1111111111111111,
             "#46039f"
            ],
            [
             0.2222222222222222,
             "#7201a8"
            ],
            [
             0.3333333333333333,
             "#9c179e"
            ],
            [
             0.4444444444444444,
             "#bd3786"
            ],
            [
             0.5555555555555556,
             "#d8576b"
            ],
            [
             0.6666666666666666,
             "#ed7953"
            ],
            [
             0.7777777777777778,
             "#fb9f3a"
            ],
            [
             0.8888888888888888,
             "#fdca26"
            ],
            [
             1,
             "#f0f921"
            ]
           ]
          },
          "colorway": [
           "#636efa",
           "#EF553B",
           "#00cc96",
           "#ab63fa",
           "#FFA15A",
           "#19d3f3",
           "#FF6692",
           "#B6E880",
           "#FF97FF",
           "#FECB52"
          ],
          "font": {
           "color": "#2a3f5f"
          },
          "geo": {
           "bgcolor": "white",
           "lakecolor": "white",
           "landcolor": "white",
           "showlakes": true,
           "showland": true,
           "subunitcolor": "#C8D4E3"
          },
          "hoverlabel": {
           "align": "left"
          },
          "hovermode": "closest",
          "mapbox": {
           "style": "light"
          },
          "paper_bgcolor": "white",
          "plot_bgcolor": "white",
          "polar": {
           "angularaxis": {
            "gridcolor": "#EBF0F8",
            "linecolor": "#EBF0F8",
            "ticks": ""
           },
           "bgcolor": "white",
           "radialaxis": {
            "gridcolor": "#EBF0F8",
            "linecolor": "#EBF0F8",
            "ticks": ""
           }
          },
          "scene": {
           "xaxis": {
            "backgroundcolor": "white",
            "gridcolor": "#DFE8F3",
            "gridwidth": 2,
            "linecolor": "#EBF0F8",
            "showbackground": true,
            "ticks": "",
            "zerolinecolor": "#EBF0F8"
           },
           "yaxis": {
            "backgroundcolor": "white",
            "gridcolor": "#DFE8F3",
            "gridwidth": 2,
            "linecolor": "#EBF0F8",
            "showbackground": true,
            "ticks": "",
            "zerolinecolor": "#EBF0F8"
           },
           "zaxis": {
            "backgroundcolor": "white",
            "gridcolor": "#DFE8F3",
            "gridwidth": 2,
            "linecolor": "#EBF0F8",
            "showbackground": true,
            "ticks": "",
            "zerolinecolor": "#EBF0F8"
           }
          },
          "shapedefaults": {
           "line": {
            "color": "#2a3f5f"
           }
          },
          "ternary": {
           "aaxis": {
            "gridcolor": "#DFE8F3",
            "linecolor": "#A2B1C6",
            "ticks": ""
           },
           "baxis": {
            "gridcolor": "#DFE8F3",
            "linecolor": "#A2B1C6",
            "ticks": ""
           },
           "bgcolor": "white",
           "caxis": {
            "gridcolor": "#DFE8F3",
            "linecolor": "#A2B1C6",
            "ticks": ""
           }
          },
          "title": {
           "x": 0.05
          },
          "xaxis": {
           "automargin": true,
           "gridcolor": "#EBF0F8",
           "linecolor": "#EBF0F8",
           "ticks": "",
           "title": {
            "standoff": 15
           },
           "zerolinecolor": "#EBF0F8",
           "zerolinewidth": 2
          },
          "yaxis": {
           "automargin": true,
           "gridcolor": "#EBF0F8",
           "linecolor": "#EBF0F8",
           "ticks": "",
           "title": {
            "standoff": 15
           },
           "zerolinecolor": "#EBF0F8",
           "zerolinewidth": 2
          }
         }
        },
        "title": {
         "text": "Group Share over Time"
        },
        "xaxis": {
         "title": {
          "text": "ref_date"
         }
        },
        "yaxis": {
         "tickformat": ".0%",
         "title": {
          "text": "Group share"
         }
        }
       }
      }
     },
     "metadata": {},
     "output_type": "display_data"
    },
    {
     "name": "stdout",
     "output_type": "stream",
     "text": [
      "\n",
      "🚀 Treinando modelo: DecisionTree\n",
      "📊 Avaliando modelo: DecisionTree\n"
     ]
    },
    {
     "data": {
      "application/vnd.plotly.v1+json": {
       "config": {
        "plotlyServerURL": "https://plot.ly"
       },
       "data": [
        {
         "line": {
          "color": "rgb(217,58,70)"
         },
         "mode": "lines+markers",
         "name": "(-inf, 279.81)",
         "type": "scatter",
         "x": [
          "2022-01-01T00:00:00.000000000",
          "2022-02-01T00:00:00.000000000",
          "2022-03-01T00:00:00.000000000",
          "2022-04-01T00:00:00.000000000",
          "2022-05-01T00:00:00.000000000",
          "2022-06-01T00:00:00.000000000",
          "2022-07-01T00:00:00.000000000",
          "2022-08-01T00:00:00.000000000",
          "2022-09-01T00:00:00.000000000",
          "2022-10-01T00:00:00.000000000",
          "2022-11-01T00:00:00.000000000",
          "2022-12-01T00:00:00.000000000",
          "2023-01-01T00:00:00.000000000",
          "2023-02-01T00:00:00.000000000",
          "2023-03-01T00:00:00.000000000",
          "2023-04-01T00:00:00.000000000",
          "2023-05-01T00:00:00.000000000",
          "2023-06-01T00:00:00.000000000",
          "2023-07-01T00:00:00.000000000",
          "2023-08-01T00:00:00.000000000",
          "2023-09-01T00:00:00.000000000",
          "2023-10-01T00:00:00.000000000",
          "2023-11-01T00:00:00.000000000",
          "2023-12-01T00:00:00.000000000",
          "2024-01-01T00:00:00.000000000",
          "2024-02-01T00:00:00.000000000",
          "2024-03-01T00:00:00.000000000",
          "2024-04-01T00:00:00.000000000",
          "2024-05-01T00:00:00.000000000",
          "2024-06-01T00:00:00.000000000",
          "2024-07-01T00:00:00.000000000",
          "2024-08-01T00:00:00.000000000",
          "2024-09-01T00:00:00.000000000",
          "2024-10-01T00:00:00.000000000",
          "2024-11-01T00:00:00.000000000",
          "2024-12-01T00:00:00.000000000",
          "2025-01-01T00:00:00.000000000",
          "2025-02-01T00:00:00.000000000",
          "2025-03-01T00:00:00.000000000",
          "2025-04-01T00:00:00.000000000",
          "2025-05-01T00:00:00.000000000",
          "2025-06-01T00:00:00.000000000",
          "2025-07-01T00:00:00.000000000",
          "2025-08-01T00:00:00.000000000",
          "2025-09-01T00:00:00.000000000",
          "2025-10-01T00:00:00.000000000",
          "2025-11-01T00:00:00.000000000",
          "2025-12-01T00:00:00.000000000"
         ],
         "y": {
          "bdata": "AAAAAAAA8D9eQ3kN5TXsP4uv+Iqv+Oo/q6qqqqqq6j8YeqEXeqHnP1VVVVVVVeU/JkOwjjbv4z+SJEmSJEniP/EVX/EVX+E/a9+w9g1r3z9DsI4271PcP9u2bdu2bds/dNFFF1104T8AAAAAAADgP0tLS0tLS9s/JUmSJEmS3D+Uui+PrQjaP2WfQ2qC8dY/gnW0eZ/i0j/T0tLS0tLSP3d3d3d3d9c/JUmSJEmS1D+SkZGRkZHRP0GeEuQpQc4/HMdxHMdxzD8RERERERHRPz801ofG+tA/OQUvp+Dl1D+1tLS0tLTUP3aDKfJZN8g/R31no76z0T8UO7ETO7HTP8IU+awbTNE/q6qqqqqq0j8zMzMzMzPTPyivobyG8so/MzMzMzMz0z9huacRlnvKPzMzMzMzM9M/AAAAAAAA0D8nm2yyySbLPwAAAAAAAMA/DeU1lNdQzj8/NNaHxvrQPyVJkiRJktQ/MzMzMzMz0z8LWchCFrLQP6uqqqqqqtI/",
          "dtype": "f8"
         }
        },
        {
         "line": {
          "color": "rgb(230,148,154)"
         },
         "mode": "lines+markers",
         "name": "[279.81, 376.80)",
         "type": "scatter",
         "x": [
          "2022-01-01T00:00:00.000000000",
          "2022-02-01T00:00:00.000000000",
          "2022-03-01T00:00:00.000000000",
          "2022-04-01T00:00:00.000000000",
          "2022-05-01T00:00:00.000000000",
          "2022-06-01T00:00:00.000000000",
          "2022-07-01T00:00:00.000000000",
          "2022-08-01T00:00:00.000000000",
          "2022-09-01T00:00:00.000000000",
          "2022-10-01T00:00:00.000000000",
          "2022-11-01T00:00:00.000000000",
          "2022-12-01T00:00:00.000000000",
          "2023-01-01T00:00:00.000000000",
          "2023-02-01T00:00:00.000000000",
          "2023-03-01T00:00:00.000000000",
          "2023-04-01T00:00:00.000000000",
          "2023-05-01T00:00:00.000000000",
          "2023-06-01T00:00:00.000000000",
          "2023-07-01T00:00:00.000000000",
          "2023-08-01T00:00:00.000000000",
          "2023-09-01T00:00:00.000000000",
          "2023-10-01T00:00:00.000000000",
          "2023-11-01T00:00:00.000000000",
          "2023-12-01T00:00:00.000000000",
          "2024-01-01T00:00:00.000000000",
          "2024-02-01T00:00:00.000000000",
          "2024-03-01T00:00:00.000000000",
          "2024-04-01T00:00:00.000000000",
          "2024-05-01T00:00:00.000000000",
          "2024-06-01T00:00:00.000000000",
          "2024-07-01T00:00:00.000000000",
          "2024-08-01T00:00:00.000000000",
          "2024-09-01T00:00:00.000000000",
          "2024-10-01T00:00:00.000000000",
          "2024-11-01T00:00:00.000000000",
          "2024-12-01T00:00:00.000000000",
          "2025-01-01T00:00:00.000000000",
          "2025-02-01T00:00:00.000000000",
          "2025-03-01T00:00:00.000000000",
          "2025-04-01T00:00:00.000000000",
          "2025-05-01T00:00:00.000000000",
          "2025-06-01T00:00:00.000000000",
          "2025-07-01T00:00:00.000000000",
          "2025-08-01T00:00:00.000000000",
          "2025-09-01T00:00:00.000000000",
          "2025-10-01T00:00:00.000000000",
          "2025-11-01T00:00:00.000000000",
          "2025-12-01T00:00:00.000000000"
         ],
         "y": {
          "bdata": "GJItojlr0D8dkWKovxzRP5ze9KY3vdE/bhCcyoRt0D+SJEmSJEnSP1KdJgeZl9I/XVYMlPBG0z9mZmZmZmbSP22hAUt6+dM/L5BJ8QKZ1D9hPYX1FNbTP+6IO+KOuNM/aiupraS20j8C6VjKJNjVPw8GnHEtEtQ/VVVVVVVV1T+jiy666KLTP9RBHdRBHdQ/MyqjMiqj0j9SGZVRGZXRP/rRj370o88/SvECmRQv0D9RUVFRUVHRP+UnxFn5CdE/ERERERER0T+VUkoppZTSP9F7JtF7JtE/pHA9Ctej0D+P5g82Hs3PPzuxEzuxE8s/7ty5c+fOzT/xFV/xFV/RPzG/q8VNmM8/eQ3lNZTX0D/PvohqnX3RP5uOuUR4UtA/ggMHDhw40D8IG4/mDzbOP57YiZ3Yic0/mpmZmZmZyT8j5K/ZUYvQPzYHEq2wOdA/zLUDc+3AzD+OefpoNQnRP5XtXQd0Y84/0hxpjjRHyj/GGGOMMcbIP0N5DeU1lMc/",
          "dtype": "f8"
         }
        },
        {
         "line": {
          "color": "rgb(242,241,241)"
         },
         "mode": "lines+markers",
         "name": "[376.80, 521.96)",
         "type": "scatter",
         "x": [
          "2022-01-01T00:00:00.000000000",
          "2022-02-01T00:00:00.000000000",
          "2022-03-01T00:00:00.000000000",
          "2022-04-01T00:00:00.000000000",
          "2022-05-01T00:00:00.000000000",
          "2022-06-01T00:00:00.000000000",
          "2022-07-01T00:00:00.000000000",
          "2022-08-01T00:00:00.000000000",
          "2022-09-01T00:00:00.000000000",
          "2022-10-01T00:00:00.000000000",
          "2022-11-01T00:00:00.000000000",
          "2022-12-01T00:00:00.000000000",
          "2023-01-01T00:00:00.000000000",
          "2023-02-01T00:00:00.000000000",
          "2023-03-01T00:00:00.000000000",
          "2023-04-01T00:00:00.000000000",
          "2023-05-01T00:00:00.000000000",
          "2023-06-01T00:00:00.000000000",
          "2023-07-01T00:00:00.000000000",
          "2023-08-01T00:00:00.000000000",
          "2023-09-01T00:00:00.000000000",
          "2023-10-01T00:00:00.000000000",
          "2023-11-01T00:00:00.000000000",
          "2023-12-01T00:00:00.000000000",
          "2024-01-01T00:00:00.000000000",
          "2024-02-01T00:00:00.000000000",
          "2024-03-01T00:00:00.000000000",
          "2024-04-01T00:00:00.000000000",
          "2024-05-01T00:00:00.000000000",
          "2024-06-01T00:00:00.000000000",
          "2024-07-01T00:00:00.000000000",
          "2024-08-01T00:00:00.000000000",
          "2024-09-01T00:00:00.000000000",
          "2024-10-01T00:00:00.000000000",
          "2024-11-01T00:00:00.000000000",
          "2024-12-01T00:00:00.000000000",
          "2025-01-01T00:00:00.000000000",
          "2025-02-01T00:00:00.000000000",
          "2025-03-01T00:00:00.000000000",
          "2025-04-01T00:00:00.000000000",
          "2025-05-01T00:00:00.000000000",
          "2025-06-01T00:00:00.000000000",
          "2025-07-01T00:00:00.000000000",
          "2025-08-01T00:00:00.000000000",
          "2025-09-01T00:00:00.000000000",
          "2025-10-01T00:00:00.000000000",
          "2025-11-01T00:00:00.000000000",
          "2025-12-01T00:00:00.000000000"
         ],
         "y": {
          "bdata": "1e+5JU79vj9P7MRO7MS+P0jhehSuR8E/0l3GlK/Dwj/7E7A/AfvDP/vZYmX4RsQ/afHKJ2I2xz9VVVVVVVXFP1dzNVdzNcc/FEVRFEVRxD+yFUHDSd3HP8kQrKPN+8Q/gnW0eZ/iwj98GmG5pxHGP+GZ/gbdrsU/R31no76zwT8tb4xgor/DP6EBS3r508Y/r169evXqxT/SpEmTJk3KP6kn47dLPck/O7ETO7ETyz/QusEU+azLP6rPtDX+bs4/nfJHnfJHzT+U11BeQ3nNP4sz2j1sfcs/7TmZvkoYyz9VVVVVVVXNP7Msy7Isy9I/fUB17K0N0z8LWchCFrLQP/GrMZEeqMw/F1100UUXzT9fBbOkHBDJP8FfxQkpecY/uHzLt3zLxz86smcgKh3JP7a+DRiq6cg/OmkfJAPqyT+Y7UKY7ULIPwZ9QV/QF8Q/NJfRXEZzyT+oUKFChQrFPxZf8RVf8cU/wGZHLUL+yj+O4ziO4zjGPzx/i9Oa7cM/",
          "dtype": "f8"
         }
        },
        {
         "line": {
          "color": "rgb(153,183,205)"
         },
         "mode": "lines+markers",
         "name": "[521.96, 687.25)",
         "type": "scatter",
         "x": [
          "2022-01-01T00:00:00.000000000",
          "2022-02-01T00:00:00.000000000",
          "2022-03-01T00:00:00.000000000",
          "2022-04-01T00:00:00.000000000",
          "2022-05-01T00:00:00.000000000",
          "2022-06-01T00:00:00.000000000",
          "2022-07-01T00:00:00.000000000",
          "2022-08-01T00:00:00.000000000",
          "2022-09-01T00:00:00.000000000",
          "2022-10-01T00:00:00.000000000",
          "2022-11-01T00:00:00.000000000",
          "2022-12-01T00:00:00.000000000",
          "2023-01-01T00:00:00.000000000",
          "2023-02-01T00:00:00.000000000",
          "2023-03-01T00:00:00.000000000",
          "2023-04-01T00:00:00.000000000",
          "2023-05-01T00:00:00.000000000",
          "2023-06-01T00:00:00.000000000",
          "2023-07-01T00:00:00.000000000",
          "2023-08-01T00:00:00.000000000",
          "2023-09-01T00:00:00.000000000",
          "2023-10-01T00:00:00.000000000",
          "2023-11-01T00:00:00.000000000",
          "2023-12-01T00:00:00.000000000",
          "2024-01-01T00:00:00.000000000",
          "2024-02-01T00:00:00.000000000",
          "2024-03-01T00:00:00.000000000",
          "2024-04-01T00:00:00.000000000",
          "2024-05-01T00:00:00.000000000",
          "2024-06-01T00:00:00.000000000",
          "2024-07-01T00:00:00.000000000",
          "2024-08-01T00:00:00.000000000",
          "2024-09-01T00:00:00.000000000",
          "2024-10-01T00:00:00.000000000",
          "2024-11-01T00:00:00.000000000",
          "2024-12-01T00:00:00.000000000",
          "2025-01-01T00:00:00.000000000",
          "2025-02-01T00:00:00.000000000",
          "2025-03-01T00:00:00.000000000",
          "2025-04-01T00:00:00.000000000",
          "2025-05-01T00:00:00.000000000",
          "2025-06-01T00:00:00.000000000",
          "2025-07-01T00:00:00.000000000",
          "2025-08-01T00:00:00.000000000",
          "2025-09-01T00:00:00.000000000",
          "2025-10-01T00:00:00.000000000",
          "2025-11-01T00:00:00.000000000",
          "2025-12-01T00:00:00.000000000"
         ],
         "y": {
          "bdata": "lnsaYbmnoT/ZMxCVjuyZPxiGYRiGYag/5RMxm0uHqj9oL6G9hPayPzsVq1OxOrU/oTlULGgOtT8y2k6zgsO3P3MX/FWckLI/EayjzfsUtz85BS+n4OW0P48ht2PI7bg/HorBjCDpvT+gcnYLvxqzP88B2h2NbLg/+e1ST8Zvtz9GF1100UW3P9nY2NjY2Lg/g5KOT19bvD8fclkxUMK7P7kWCWoqRLs/lOFQy546uT/i4H1rZHW5PwiGZItozro/RtqxAmGkvT8sBWr9SoG6P2EUcGg+178/op3qgO8ovz/MuWsCpKe9P5Hfy5Dfy8A/8VR4KjwVvj+1nh/cXpS8P19GYjVc/MA/w8fful3gvT90SE0w3sq+P9MxlwhPCsI/1IxJP9HRwD8Y+Ejo2rjAPy8BXrEU7b8/hQoVKlSowD9r37D2DWu/P/G1eFfmM8E/7eYs5UHpwD/lSJUA+VPAPxAEQRAEQcA/jvxcMcuRvz81J4G4UHPCP1fyGArBtcI/",
          "dtype": "f8"
         }
        },
        {
         "line": {
          "color": "rgb(65,124,167)"
         },
         "mode": "lines+markers",
         "name": "[687.25, inf)",
         "type": "scatter",
         "x": [
          "2022-01-01T00:00:00.000000000",
          "2022-02-01T00:00:00.000000000",
          "2022-03-01T00:00:00.000000000",
          "2022-04-01T00:00:00.000000000",
          "2022-05-01T00:00:00.000000000",
          "2022-06-01T00:00:00.000000000",
          "2022-07-01T00:00:00.000000000",
          "2022-08-01T00:00:00.000000000",
          "2022-09-01T00:00:00.000000000",
          "2022-10-01T00:00:00.000000000",
          "2022-11-01T00:00:00.000000000",
          "2022-12-01T00:00:00.000000000",
          "2023-01-01T00:00:00.000000000",
          "2023-02-01T00:00:00.000000000",
          "2023-03-01T00:00:00.000000000",
          "2023-04-01T00:00:00.000000000",
          "2023-05-01T00:00:00.000000000",
          "2023-06-01T00:00:00.000000000",
          "2023-07-01T00:00:00.000000000",
          "2023-08-01T00:00:00.000000000",
          "2023-09-01T00:00:00.000000000",
          "2023-10-01T00:00:00.000000000",
          "2023-11-01T00:00:00.000000000",
          "2023-12-01T00:00:00.000000000",
          "2024-01-01T00:00:00.000000000",
          "2024-02-01T00:00:00.000000000",
          "2024-03-01T00:00:00.000000000",
          "2024-04-01T00:00:00.000000000",
          "2024-05-01T00:00:00.000000000",
          "2024-06-01T00:00:00.000000000",
          "2024-07-01T00:00:00.000000000",
          "2024-08-01T00:00:00.000000000",
          "2024-09-01T00:00:00.000000000",
          "2024-10-01T00:00:00.000000000",
          "2024-11-01T00:00:00.000000000",
          "2024-12-01T00:00:00.000000000",
          "2025-01-01T00:00:00.000000000",
          "2025-02-01T00:00:00.000000000",
          "2025-03-01T00:00:00.000000000",
          "2025-04-01T00:00:00.000000000",
          "2025-05-01T00:00:00.000000000",
          "2025-06-01T00:00:00.000000000",
          "2025-07-01T00:00:00.000000000",
          "2025-08-01T00:00:00.000000000",
          "2025-09-01T00:00:00.000000000",
          "2025-10-01T00:00:00.000000000",
          "2025-11-01T00:00:00.000000000",
          "2025-12-01T00:00:00.000000000"
         ],
         "y": {
          "bdata": "+EYUmHRqfj+UrjFosxSGPxdg8hZg8oY/F2DyFmDyhj9hyIEmptGGP/rN1qHfbI0/DcaaEQh5lz8QpVi0rIKbP/vVhbRYHqE/75IHA864pj+Q+24p9CepP/qDjUfzB6s/uB6F61G4nj/SExw9wdGjP3af79oyPaE/UpD8eZXFqT97rGXogN2uP+0b1r5h7as/4l4Fs6QcsD+n4x9cmNSwP0k4pXnxJ7I/Fk2rfDH8sz+dB9hR0u+0P8RSEUtFLLU/Ee8Q7xDvsD9RFEVRFEWxP1PQwaMuBa0/1ofG+tBYrz+SJEmSJEmyPzBd51gjEbA/ar5Wzw6Bqz9Mcxf8VZywP5TwRlPn164/xmyVuJitsj8icGMZlAqzP+jBalrHm7M/QCsBrQS0sj9zqFjQHCq2P49eGdvv6LU/XJ2RirnVuT8qqQ6xgc+4P1g6yYGlk7w/13Jws1+ItT8PsYHPGI62P27btm3btrU/OY7jOI7juD+lqJeRWA23P9piZfhGFLg/",
          "dtype": "f8"
         }
        }
       ],
       "layout": {
        "template": {
         "data": {
          "bar": [
           {
            "error_x": {
             "color": "#2a3f5f"
            },
            "error_y": {
             "color": "#2a3f5f"
            },
            "marker": {
             "line": {
              "color": "white",
              "width": 0.5
             },
             "pattern": {
              "fillmode": "overlay",
              "size": 10,
              "solidity": 0.2
             }
            },
            "type": "bar"
           }
          ],
          "barpolar": [
           {
            "marker": {
             "line": {
              "color": "white",
              "width": 0.5
             },
             "pattern": {
              "fillmode": "overlay",
              "size": 10,
              "solidity": 0.2
             }
            },
            "type": "barpolar"
           }
          ],
          "carpet": [
           {
            "aaxis": {
             "endlinecolor": "#2a3f5f",
             "gridcolor": "#C8D4E3",
             "linecolor": "#C8D4E3",
             "minorgridcolor": "#C8D4E3",
             "startlinecolor": "#2a3f5f"
            },
            "baxis": {
             "endlinecolor": "#2a3f5f",
             "gridcolor": "#C8D4E3",
             "linecolor": "#C8D4E3",
             "minorgridcolor": "#C8D4E3",
             "startlinecolor": "#2a3f5f"
            },
            "type": "carpet"
           }
          ],
          "choropleth": [
           {
            "colorbar": {
             "outlinewidth": 0,
             "ticks": ""
            },
            "type": "choropleth"
           }
          ],
          "contour": [
           {
            "colorbar": {
             "outlinewidth": 0,
             "ticks": ""
            },
            "colorscale": [
             [
              0,
              "#0d0887"
             ],
             [
              0.1111111111111111,
              "#46039f"
             ],
             [
              0.2222222222222222,
              "#7201a8"
             ],
             [
              0.3333333333333333,
              "#9c179e"
             ],
             [
              0.4444444444444444,
              "#bd3786"
             ],
             [
              0.5555555555555556,
              "#d8576b"
             ],
             [
              0.6666666666666666,
              "#ed7953"
             ],
             [
              0.7777777777777778,
              "#fb9f3a"
             ],
             [
              0.8888888888888888,
              "#fdca26"
             ],
             [
              1,
              "#f0f921"
             ]
            ],
            "type": "contour"
           }
          ],
          "contourcarpet": [
           {
            "colorbar": {
             "outlinewidth": 0,
             "ticks": ""
            },
            "type": "contourcarpet"
           }
          ],
          "heatmap": [
           {
            "colorbar": {
             "outlinewidth": 0,
             "ticks": ""
            },
            "colorscale": [
             [
              0,
              "#0d0887"
             ],
             [
              0.1111111111111111,
              "#46039f"
             ],
             [
              0.2222222222222222,
              "#7201a8"
             ],
             [
              0.3333333333333333,
              "#9c179e"
             ],
             [
              0.4444444444444444,
              "#bd3786"
             ],
             [
              0.5555555555555556,
              "#d8576b"
             ],
             [
              0.6666666666666666,
              "#ed7953"
             ],
             [
              0.7777777777777778,
              "#fb9f3a"
             ],
             [
              0.8888888888888888,
              "#fdca26"
             ],
             [
              1,
              "#f0f921"
             ]
            ],
            "type": "heatmap"
           }
          ],
          "histogram": [
           {
            "marker": {
             "pattern": {
              "fillmode": "overlay",
              "size": 10,
              "solidity": 0.2
             }
            },
            "type": "histogram"
           }
          ],
          "histogram2d": [
           {
            "colorbar": {
             "outlinewidth": 0,
             "ticks": ""
            },
            "colorscale": [
             [
              0,
              "#0d0887"
             ],
             [
              0.1111111111111111,
              "#46039f"
             ],
             [
              0.2222222222222222,
              "#7201a8"
             ],
             [
              0.3333333333333333,
              "#9c179e"
             ],
             [
              0.4444444444444444,
              "#bd3786"
             ],
             [
              0.5555555555555556,
              "#d8576b"
             ],
             [
              0.6666666666666666,
              "#ed7953"
             ],
             [
              0.7777777777777778,
              "#fb9f3a"
             ],
             [
              0.8888888888888888,
              "#fdca26"
             ],
             [
              1,
              "#f0f921"
             ]
            ],
            "type": "histogram2d"
           }
          ],
          "histogram2dcontour": [
           {
            "colorbar": {
             "outlinewidth": 0,
             "ticks": ""
            },
            "colorscale": [
             [
              0,
              "#0d0887"
             ],
             [
              0.1111111111111111,
              "#46039f"
             ],
             [
              0.2222222222222222,
              "#7201a8"
             ],
             [
              0.3333333333333333,
              "#9c179e"
             ],
             [
              0.4444444444444444,
              "#bd3786"
             ],
             [
              0.5555555555555556,
              "#d8576b"
             ],
             [
              0.6666666666666666,
              "#ed7953"
             ],
             [
              0.7777777777777778,
              "#fb9f3a"
             ],
             [
              0.8888888888888888,
              "#fdca26"
             ],
             [
              1,
              "#f0f921"
             ]
            ],
            "type": "histogram2dcontour"
           }
          ],
          "mesh3d": [
           {
            "colorbar": {
             "outlinewidth": 0,
             "ticks": ""
            },
            "type": "mesh3d"
           }
          ],
          "parcoords": [
           {
            "line": {
             "colorbar": {
              "outlinewidth": 0,
              "ticks": ""
             }
            },
            "type": "parcoords"
           }
          ],
          "pie": [
           {
            "automargin": true,
            "type": "pie"
           }
          ],
          "scatter": [
           {
            "fillpattern": {
             "fillmode": "overlay",
             "size": 10,
             "solidity": 0.2
            },
            "type": "scatter"
           }
          ],
          "scatter3d": [
           {
            "line": {
             "colorbar": {
              "outlinewidth": 0,
              "ticks": ""
             }
            },
            "marker": {
             "colorbar": {
              "outlinewidth": 0,
              "ticks": ""
             }
            },
            "type": "scatter3d"
           }
          ],
          "scattercarpet": [
           {
            "marker": {
             "colorbar": {
              "outlinewidth": 0,
              "ticks": ""
             }
            },
            "type": "scattercarpet"
           }
          ],
          "scattergeo": [
           {
            "marker": {
             "colorbar": {
              "outlinewidth": 0,
              "ticks": ""
             }
            },
            "type": "scattergeo"
           }
          ],
          "scattergl": [
           {
            "marker": {
             "colorbar": {
              "outlinewidth": 0,
              "ticks": ""
             }
            },
            "type": "scattergl"
           }
          ],
          "scattermap": [
           {
            "marker": {
             "colorbar": {
              "outlinewidth": 0,
              "ticks": ""
             }
            },
            "type": "scattermap"
           }
          ],
          "scattermapbox": [
           {
            "marker": {
             "colorbar": {
              "outlinewidth": 0,
              "ticks": ""
             }
            },
            "type": "scattermapbox"
           }
          ],
          "scatterpolar": [
           {
            "marker": {
             "colorbar": {
              "outlinewidth": 0,
              "ticks": ""
             }
            },
            "type": "scatterpolar"
           }
          ],
          "scatterpolargl": [
           {
            "marker": {
             "colorbar": {
              "outlinewidth": 0,
              "ticks": ""
             }
            },
            "type": "scatterpolargl"
           }
          ],
          "scatterternary": [
           {
            "marker": {
             "colorbar": {
              "outlinewidth": 0,
              "ticks": ""
             }
            },
            "type": "scatterternary"
           }
          ],
          "surface": [
           {
            "colorbar": {
             "outlinewidth": 0,
             "ticks": ""
            },
            "colorscale": [
             [
              0,
              "#0d0887"
             ],
             [
              0.1111111111111111,
              "#46039f"
             ],
             [
              0.2222222222222222,
              "#7201a8"
             ],
             [
              0.3333333333333333,
              "#9c179e"
             ],
             [
              0.4444444444444444,
              "#bd3786"
             ],
             [
              0.5555555555555556,
              "#d8576b"
             ],
             [
              0.6666666666666666,
              "#ed7953"
             ],
             [
              0.7777777777777778,
              "#fb9f3a"
             ],
             [
              0.8888888888888888,
              "#fdca26"
             ],
             [
              1,
              "#f0f921"
             ]
            ],
            "type": "surface"
           }
          ],
          "table": [
           {
            "cells": {
             "fill": {
              "color": "#EBF0F8"
             },
             "line": {
              "color": "white"
             }
            },
            "header": {
             "fill": {
              "color": "#C8D4E3"
             },
             "line": {
              "color": "white"
             }
            },
            "type": "table"
           }
          ]
         },
         "layout": {
          "annotationdefaults": {
           "arrowcolor": "#2a3f5f",
           "arrowhead": 0,
           "arrowwidth": 1
          },
          "autotypenumbers": "strict",
          "coloraxis": {
           "colorbar": {
            "outlinewidth": 0,
            "ticks": ""
           }
          },
          "colorscale": {
           "diverging": [
            [
             0,
             "#8e0152"
            ],
            [
             0.1,
             "#c51b7d"
            ],
            [
             0.2,
             "#de77ae"
            ],
            [
             0.3,
             "#f1b6da"
            ],
            [
             0.4,
             "#fde0ef"
            ],
            [
             0.5,
             "#f7f7f7"
            ],
            [
             0.6,
             "#e6f5d0"
            ],
            [
             0.7,
             "#b8e186"
            ],
            [
             0.8,
             "#7fbc41"
            ],
            [
             0.9,
             "#4d9221"
            ],
            [
             1,
             "#276419"
            ]
           ],
           "sequential": [
            [
             0,
             "#0d0887"
            ],
            [
             0.1111111111111111,
             "#46039f"
            ],
            [
             0.2222222222222222,
             "#7201a8"
            ],
            [
             0.3333333333333333,
             "#9c179e"
            ],
            [
             0.4444444444444444,
             "#bd3786"
            ],
            [
             0.5555555555555556,
             "#d8576b"
            ],
            [
             0.6666666666666666,
             "#ed7953"
            ],
            [
             0.7777777777777778,
             "#fb9f3a"
            ],
            [
             0.8888888888888888,
             "#fdca26"
            ],
            [
             1,
             "#f0f921"
            ]
           ],
           "sequentialminus": [
            [
             0,
             "#0d0887"
            ],
            [
             0.1111111111111111,
             "#46039f"
            ],
            [
             0.2222222222222222,
             "#7201a8"
            ],
            [
             0.3333333333333333,
             "#9c179e"
            ],
            [
             0.4444444444444444,
             "#bd3786"
            ],
            [
             0.5555555555555556,
             "#d8576b"
            ],
            [
             0.6666666666666666,
             "#ed7953"
            ],
            [
             0.7777777777777778,
             "#fb9f3a"
            ],
            [
             0.8888888888888888,
             "#fdca26"
            ],
            [
             1,
             "#f0f921"
            ]
           ]
          },
          "colorway": [
           "#636efa",
           "#EF553B",
           "#00cc96",
           "#ab63fa",
           "#FFA15A",
           "#19d3f3",
           "#FF6692",
           "#B6E880",
           "#FF97FF",
           "#FECB52"
          ],
          "font": {
           "color": "#2a3f5f"
          },
          "geo": {
           "bgcolor": "white",
           "lakecolor": "white",
           "landcolor": "white",
           "showlakes": true,
           "showland": true,
           "subunitcolor": "#C8D4E3"
          },
          "hoverlabel": {
           "align": "left"
          },
          "hovermode": "closest",
          "mapbox": {
           "style": "light"
          },
          "paper_bgcolor": "white",
          "plot_bgcolor": "white",
          "polar": {
           "angularaxis": {
            "gridcolor": "#EBF0F8",
            "linecolor": "#EBF0F8",
            "ticks": ""
           },
           "bgcolor": "white",
           "radialaxis": {
            "gridcolor": "#EBF0F8",
            "linecolor": "#EBF0F8",
            "ticks": ""
           }
          },
          "scene": {
           "xaxis": {
            "backgroundcolor": "white",
            "gridcolor": "#DFE8F3",
            "gridwidth": 2,
            "linecolor": "#EBF0F8",
            "showbackground": true,
            "ticks": "",
            "zerolinecolor": "#EBF0F8"
           },
           "yaxis": {
            "backgroundcolor": "white",
            "gridcolor": "#DFE8F3",
            "gridwidth": 2,
            "linecolor": "#EBF0F8",
            "showbackground": true,
            "ticks": "",
            "zerolinecolor": "#EBF0F8"
           },
           "zaxis": {
            "backgroundcolor": "white",
            "gridcolor": "#DFE8F3",
            "gridwidth": 2,
            "linecolor": "#EBF0F8",
            "showbackground": true,
            "ticks": "",
            "zerolinecolor": "#EBF0F8"
           }
          },
          "shapedefaults": {
           "line": {
            "color": "#2a3f5f"
           }
          },
          "ternary": {
           "aaxis": {
            "gridcolor": "#DFE8F3",
            "linecolor": "#A2B1C6",
            "ticks": ""
           },
           "baxis": {
            "gridcolor": "#DFE8F3",
            "linecolor": "#A2B1C6",
            "ticks": ""
           },
           "bgcolor": "white",
           "caxis": {
            "gridcolor": "#DFE8F3",
            "linecolor": "#A2B1C6",
            "ticks": ""
           }
          },
          "title": {
           "x": 0.05
          },
          "xaxis": {
           "automargin": true,
           "gridcolor": "#EBF0F8",
           "linecolor": "#EBF0F8",
           "ticks": "",
           "title": {
            "standoff": 15
           },
           "zerolinecolor": "#EBF0F8",
           "zerolinewidth": 2
          },
          "yaxis": {
           "automargin": true,
           "gridcolor": "#EBF0F8",
           "linecolor": "#EBF0F8",
           "ticks": "",
           "title": {
            "standoff": 15
           },
           "zerolinecolor": "#EBF0F8",
           "zerolinewidth": 2
          }
         }
        },
        "title": {
         "text": "Event Rate by Group over Time"
        },
        "xaxis": {
         "title": {
          "text": "ref_date"
         }
        },
        "yaxis": {
         "title": {
          "text": "Event rate"
         }
        }
       }
      }
     },
     "metadata": {},
     "output_type": "display_data"
    },
    {
     "data": {
      "application/vnd.plotly.v1+json": {
       "config": {
        "plotlyServerURL": "https://plot.ly"
       },
       "data": [
        {
         "marker": {
          "color": "rgb(217,58,70)"
         },
         "name": "(-inf, 279.81)",
         "type": "bar",
         "x": [
          "2022-01-01T00:00:00.000000000",
          "2022-02-01T00:00:00.000000000",
          "2022-03-01T00:00:00.000000000",
          "2022-04-01T00:00:00.000000000",
          "2022-05-01T00:00:00.000000000",
          "2022-06-01T00:00:00.000000000",
          "2022-07-01T00:00:00.000000000",
          "2022-08-01T00:00:00.000000000",
          "2022-09-01T00:00:00.000000000",
          "2022-10-01T00:00:00.000000000",
          "2022-11-01T00:00:00.000000000",
          "2022-12-01T00:00:00.000000000",
          "2023-01-01T00:00:00.000000000",
          "2023-02-01T00:00:00.000000000",
          "2023-03-01T00:00:00.000000000",
          "2023-04-01T00:00:00.000000000",
          "2023-05-01T00:00:00.000000000",
          "2023-06-01T00:00:00.000000000",
          "2023-07-01T00:00:00.000000000",
          "2023-08-01T00:00:00.000000000",
          "2023-09-01T00:00:00.000000000",
          "2023-10-01T00:00:00.000000000",
          "2023-11-01T00:00:00.000000000",
          "2023-12-01T00:00:00.000000000",
          "2024-01-01T00:00:00.000000000",
          "2024-02-01T00:00:00.000000000",
          "2024-03-01T00:00:00.000000000",
          "2024-04-01T00:00:00.000000000",
          "2024-05-01T00:00:00.000000000",
          "2024-06-01T00:00:00.000000000",
          "2024-07-01T00:00:00.000000000",
          "2024-08-01T00:00:00.000000000",
          "2024-09-01T00:00:00.000000000",
          "2024-10-01T00:00:00.000000000",
          "2024-11-01T00:00:00.000000000",
          "2024-12-01T00:00:00.000000000",
          "2025-01-01T00:00:00.000000000",
          "2025-02-01T00:00:00.000000000",
          "2025-03-01T00:00:00.000000000",
          "2025-04-01T00:00:00.000000000",
          "2025-05-01T00:00:00.000000000",
          "2025-06-01T00:00:00.000000000",
          "2025-07-01T00:00:00.000000000",
          "2025-08-01T00:00:00.000000000",
          "2025-09-01T00:00:00.000000000",
          "2025-10-01T00:00:00.000000000",
          "2025-11-01T00:00:00.000000000",
          "2025-12-01T00:00:00.000000000"
         ],
         "y": {
          "bdata": "7FG4HoXrsT/b+X5qvHSzP+xRuB6F67E/O99PjZdusj+kcD0K16OwP0w3iUFg5bA/CKwcWmQ7rz/sUbgeheuxP+xRuB6F67E/KVyPwvUorD8IrBxaZDuvP3npJjEIrKw/KVyPwvUorD85tMh2vp+qP5zEILByaLE/eekmMQisrD9oke18PzWuP4lBYOXQIqs/CKwcWmQ7rz/pJjEIrByqP7gehetRuK4/eekmMQisrD/pJjEIrByqPylcj8L1KKw/CtejcD0Kpz8K16NwPQqnP0oMAiuHFqk/SgwCK4cWqT+cxCCwcmihP4ts5/up8aI/qvHSTWIQqD8rhxbZzvejP4ts5/up8aI/+n5qvHSTmD+4HoXrUbieP9v5fmq8dKM/uB6F61G4nj8ZBFYOLbKdP3sUrkfheqQ/O99PjZduoj9MN4lBYOWgP/yp8dJNYqA/2/l+arx0oz9KDAIrhxapP3npJjEIrKw/exSuR+F6pD9aZDvfT42nP/p+arx0k6g/",
          "dtype": "f8"
         }
        },
        {
         "marker": {
          "color": "rgb(230,148,154)"
         },
         "name": "[279.81, 376.80)",
         "type": "bar",
         "x": [
          "2022-01-01T00:00:00.000000000",
          "2022-02-01T00:00:00.000000000",
          "2022-03-01T00:00:00.000000000",
          "2022-04-01T00:00:00.000000000",
          "2022-05-01T00:00:00.000000000",
          "2022-06-01T00:00:00.000000000",
          "2022-07-01T00:00:00.000000000",
          "2022-08-01T00:00:00.000000000",
          "2022-09-01T00:00:00.000000000",
          "2022-10-01T00:00:00.000000000",
          "2022-11-01T00:00:00.000000000",
          "2022-12-01T00:00:00.000000000",
          "2023-01-01T00:00:00.000000000",
          "2023-02-01T00:00:00.000000000",
          "2023-03-01T00:00:00.000000000",
          "2023-04-01T00:00:00.000000000",
          "2023-05-01T00:00:00.000000000",
          "2023-06-01T00:00:00.000000000",
          "2023-07-01T00:00:00.000000000",
          "2023-08-01T00:00:00.000000000",
          "2023-09-01T00:00:00.000000000",
          "2023-10-01T00:00:00.000000000",
          "2023-11-01T00:00:00.000000000",
          "2023-12-01T00:00:00.000000000",
          "2024-01-01T00:00:00.000000000",
          "2024-02-01T00:00:00.000000000",
          "2024-03-01T00:00:00.000000000",
          "2024-04-01T00:00:00.000000000",
          "2024-05-01T00:00:00.000000000",
          "2024-06-01T00:00:00.000000000",
          "2024-07-01T00:00:00.000000000",
          "2024-08-01T00:00:00.000000000",
          "2024-09-01T00:00:00.000000000",
          "2024-10-01T00:00:00.000000000",
          "2024-11-01T00:00:00.000000000",
          "2024-12-01T00:00:00.000000000",
          "2025-01-01T00:00:00.000000000",
          "2025-02-01T00:00:00.000000000",
          "2025-03-01T00:00:00.000000000",
          "2025-04-01T00:00:00.000000000",
          "2025-05-01T00:00:00.000000000",
          "2025-06-01T00:00:00.000000000",
          "2025-07-01T00:00:00.000000000",
          "2025-08-01T00:00:00.000000000",
          "2025-09-01T00:00:00.000000000",
          "2025-10-01T00:00:00.000000000",
          "2025-11-01T00:00:00.000000000",
          "2025-12-01T00:00:00.000000000"
         ],
         "y": {
          "bdata": "ppvEILByyD9WDi2yne/HP1pkO99Pjcc/Vg4tsp3vxz+yne+nxkvHP7bz/dR46cY/c2iR7Xw/xT97FK5H4XrEP39qvHSTGMQ/EoPAyqFFxj8X2c73U+PFP2q8dJMYBMY/F9nO91PjxT/HSzeJQWDFP28Sg8DKocU/EoPAyqFFxj+6SQwCK4fGP2ZmZmZmZsY/sp3vp8ZLxz+yne+nxkvHP2IQWDm0yMY/EoPAyqFFxj/D9Shcj8LFP4PAyqFFtsM/H4XrUbgexT/Xo3A9CtfDPy/dJAaBlcM/MzMzMzMzwz/P91PjpZvEPyuHFtnO98M/46WbxCCwwj/sUbgehevBP9NNYhBYOcQ/2/l+arx0wz/P91PjpZvEP99PjZduEsM/46WbxCCwwj/P91PjpZvEPyuHFtnO98M/j8L1KFyPwj83iUFg5dDCP5MYBFYOLcI/RIts5/upwT+YbhKDwMrBP5huEoPAysE/hxbZzvdTwz/Xo3A9CtfDP9v5fmq8dMM/",
          "dtype": "f8"
         }
        },
        {
         "marker": {
          "color": "rgb(242,241,241)"
         },
         "name": "[376.80, 521.96)",
         "type": "bar",
         "x": [
          "2022-01-01T00:00:00.000000000",
          "2022-02-01T00:00:00.000000000",
          "2022-03-01T00:00:00.000000000",
          "2022-04-01T00:00:00.000000000",
          "2022-05-01T00:00:00.000000000",
          "2022-06-01T00:00:00.000000000",
          "2022-07-01T00:00:00.000000000",
          "2022-08-01T00:00:00.000000000",
          "2022-09-01T00:00:00.000000000",
          "2022-10-01T00:00:00.000000000",
          "2022-11-01T00:00:00.000000000",
          "2022-12-01T00:00:00.000000000",
          "2023-01-01T00:00:00.000000000",
          "2023-02-01T00:00:00.000000000",
          "2023-03-01T00:00:00.000000000",
          "2023-04-01T00:00:00.000000000",
          "2023-05-01T00:00:00.000000000",
          "2023-06-01T00:00:00.000000000",
          "2023-07-01T00:00:00.000000000",
          "2023-08-01T00:00:00.000000000",
          "2023-09-01T00:00:00.000000000",
          "2023-10-01T00:00:00.000000000",
          "2023-11-01T00:00:00.000000000",
          "2023-12-01T00:00:00.000000000",
          "2024-01-01T00:00:00.000000000",
          "2024-02-01T00:00:00.000000000",
          "2024-03-01T00:00:00.000000000",
          "2024-04-01T00:00:00.000000000",
          "2024-05-01T00:00:00.000000000",
          "2024-06-01T00:00:00.000000000",
          "2024-07-01T00:00:00.000000000",
          "2024-08-01T00:00:00.000000000",
          "2024-09-01T00:00:00.000000000",
          "2024-10-01T00:00:00.000000000",
          "2024-11-01T00:00:00.000000000",
          "2024-12-01T00:00:00.000000000",
          "2025-01-01T00:00:00.000000000",
          "2025-02-01T00:00:00.000000000",
          "2025-03-01T00:00:00.000000000",
          "2025-04-01T00:00:00.000000000",
          "2025-05-01T00:00:00.000000000",
          "2025-06-01T00:00:00.000000000",
          "2025-07-01T00:00:00.000000000",
          "2025-08-01T00:00:00.000000000",
          "2025-09-01T00:00:00.000000000",
          "2025-10-01T00:00:00.000000000",
          "2025-11-01T00:00:00.000000000",
          "2025-12-01T00:00:00.000000000"
         ],
         "y": {
          "bdata": "UrgehetRyD85tMh2vp/KP5qZmZmZmck/ppvEILByyD89CtejcD3KP0Jg5dAi28k/TmIQWDm0yD/y0k1iEFjJP7Kd76fGS8c//tR46SYxyD8OLbKd76fGPwaBlUOLbMc/BoGVQ4tsxz+WQ4ts5/vJPwaBlUOLbMc/qvHSTWIQyD9mZmZmZmbGP39qvHSTGMQ/46WbxCCwwj/jpZvEILDCP5MYBFYOLcI/K4cW2c73wz+LbOf7qfHCP+f7qfHSTcI/L90kBoGVwz/b+X5qvHTDP99PjZduEsM/8KfGSzeJwT8730+Nl27CP1TjpZvEIMA/+FPjpZvEwD9Ei2zn+6nBP/T91HjpJsE/g8DKoUW2wz/n+6nx0k3CP/hT46WbxMA/K4cW2c73wz/TTWIQWDnEP99PjZduEsM/d76fGi/dxD8v3SQGgZXDP2q8dJMYBMY/F9nO91PjxT/jpZvEILDCP+xRuB6F68E/N4lBYOXQwj8730+Nl27CP8dLN4lBYMU/",
          "dtype": "f8"
         }
        },
        {
         "marker": {
          "color": "rgb(153,183,205)"
         },
         "name": "[521.96, 687.25)",
         "type": "bar",
         "x": [
          "2022-01-01T00:00:00.000000000",
          "2022-02-01T00:00:00.000000000",
          "2022-03-01T00:00:00.000000000",
          "2022-04-01T00:00:00.000000000",
          "2022-05-01T00:00:00.000000000",
          "2022-06-01T00:00:00.000000000",
          "2022-07-01T00:00:00.000000000",
          "2022-08-01T00:00:00.000000000",
          "2022-09-01T00:00:00.000000000",
          "2022-10-01T00:00:00.000000000",
          "2022-11-01T00:00:00.000000000",
          "2022-12-01T00:00:00.000000000",
          "2023-01-01T00:00:00.000000000",
          "2023-02-01T00:00:00.000000000",
          "2023-03-01T00:00:00.000000000",
          "2023-04-01T00:00:00.000000000",
          "2023-05-01T00:00:00.000000000",
          "2023-06-01T00:00:00.000000000",
          "2023-07-01T00:00:00.000000000",
          "2023-08-01T00:00:00.000000000",
          "2023-09-01T00:00:00.000000000",
          "2023-10-01T00:00:00.000000000",
          "2023-11-01T00:00:00.000000000",
          "2023-12-01T00:00:00.000000000",
          "2024-01-01T00:00:00.000000000",
          "2024-02-01T00:00:00.000000000",
          "2024-03-01T00:00:00.000000000",
          "2024-04-01T00:00:00.000000000",
          "2024-05-01T00:00:00.000000000",
          "2024-06-01T00:00:00.000000000",
          "2024-07-01T00:00:00.000000000",
          "2024-08-01T00:00:00.000000000",
          "2024-09-01T00:00:00.000000000",
          "2024-10-01T00:00:00.000000000",
          "2024-11-01T00:00:00.000000000",
          "2024-12-01T00:00:00.000000000",
          "2025-01-01T00:00:00.000000000",
          "2025-02-01T00:00:00.000000000",
          "2025-03-01T00:00:00.000000000",
          "2025-04-01T00:00:00.000000000",
          "2025-05-01T00:00:00.000000000",
          "2025-06-01T00:00:00.000000000",
          "2025-07-01T00:00:00.000000000",
          "2025-08-01T00:00:00.000000000",
          "2025-09-01T00:00:00.000000000",
          "2025-10-01T00:00:00.000000000",
          "2025-11-01T00:00:00.000000000",
          "2025-12-01T00:00:00.000000000"
         ],
         "y": {
          "bdata": "j8L1KFyPwj/TTWIQWDnEP/7UeOkmMcg/TmIQWDm0yD/+1HjpJjHIPz0K16NwPco/xSCwcmiRzT+8dJMYBFbOP/hT46WbxNA/CKwcWmQ7zz9cj8L1KFzPP0oMAiuHFtE/ObTIdr6f0j/0/dR46SbRP+kmMQisHNI/kxgEVg4t0j+DwMqhRbbTP8P1KFyPwtU/zczMzMzM1D9zaJHtfD/VP28Sg8DKodU/FK5H4XoU1j9eukkMAivXP6abxCCwctg/UrgehetR2D/y0k1iEFjZP+58PzVeutk/N4lBYOXQ2j/fT42XbhLbP30/NV66Sdw/LbKd76fG2z+LbOf7qfHaPzVeukkMAts/K4cW2c732z+JQWDl0CLbP8/3U+Olm9w/I9v5fmq83D+LbOf7qfHaP4PAyqFFtts/1XjpJjEI3D8pXI/C9SjcP39qvHSTGNw/f2q8dJMY3D9/arx0kxjcP9NNYhBYOdw/JQaBlUOL3D/RItv5fmrcPy/dJAaBlds/",
          "dtype": "f8"
         }
        },
        {
         "marker": {
          "color": "rgb(65,124,167)"
         },
         "name": "[687.25, inf)",
         "type": "bar",
         "x": [
          "2022-01-01T00:00:00.000000000",
          "2022-02-01T00:00:00.000000000",
          "2022-03-01T00:00:00.000000000",
          "2022-04-01T00:00:00.000000000",
          "2022-05-01T00:00:00.000000000",
          "2022-06-01T00:00:00.000000000",
          "2022-07-01T00:00:00.000000000",
          "2022-08-01T00:00:00.000000000",
          "2022-09-01T00:00:00.000000000",
          "2022-10-01T00:00:00.000000000",
          "2022-11-01T00:00:00.000000000",
          "2022-12-01T00:00:00.000000000",
          "2023-01-01T00:00:00.000000000",
          "2023-02-01T00:00:00.000000000",
          "2023-03-01T00:00:00.000000000",
          "2023-04-01T00:00:00.000000000",
          "2023-05-01T00:00:00.000000000",
          "2023-06-01T00:00:00.000000000",
          "2023-07-01T00:00:00.000000000",
          "2023-08-01T00:00:00.000000000",
          "2023-09-01T00:00:00.000000000",
          "2023-10-01T00:00:00.000000000",
          "2023-11-01T00:00:00.000000000",
          "2023-12-01T00:00:00.000000000",
          "2024-01-01T00:00:00.000000000",
          "2024-02-01T00:00:00.000000000",
          "2024-03-01T00:00:00.000000000",
          "2024-04-01T00:00:00.000000000",
          "2024-05-01T00:00:00.000000000",
          "2024-06-01T00:00:00.000000000",
          "2024-07-01T00:00:00.000000000",
          "2024-08-01T00:00:00.000000000",
          "2024-09-01T00:00:00.000000000",
          "2024-10-01T00:00:00.000000000",
          "2024-11-01T00:00:00.000000000",
          "2024-12-01T00:00:00.000000000",
          "2025-01-01T00:00:00.000000000",
          "2025-02-01T00:00:00.000000000",
          "2025-03-01T00:00:00.000000000",
          "2025-04-01T00:00:00.000000000",
          "2025-05-01T00:00:00.000000000",
          "2025-06-01T00:00:00.000000000",
          "2025-07-01T00:00:00.000000000",
          "2025-08-01T00:00:00.000000000",
          "2025-09-01T00:00:00.000000000",
          "2025-10-01T00:00:00.000000000",
          "2025-11-01T00:00:00.000000000",
          "2025-12-01T00:00:00.000000000"
         ],
         "y": {
          "bdata": "QmDl0CLb2T9YObTIdr7XPwwCK4cW2dY/DAIrhxbZ1j9g5dAi2/nWPxKDwMqhRdY/vHSTGARW1j9xPQrXo3DVP3WTGARWDtU/bxKDwMqh1T++nxov3STWP8/3U+Olm9Q/MzMzMzMz0z/Xo3A9CtfTPzVeukkMAtM/30+Nl24S0z8/NV66SQzSP5qZmZmZmdE/5/up8dJN0j/l0CLb+X7SPz81XrpJDNI/nu+nxks30T+e76fGSzfRP6AaL90kBtE/ppvEILBy0D9U46WbxCDQPwRWDi2ync8/XI/C9Shczz8QWDm0yHbOP2Q730+Nl84/YOXQItv5zj/4U+Olm8TQP6wcWmQ7388/bef7qfHSzT9g5dAi2/nOPxSuR+F6FM4/1XjpJjEIzD/FILByaJHNP9Ei2/l+asw/gZVDi2znyz91kxgEVg7NP4XrUbgehcs/MQisHFpkyz91kxgEVg7NP3npJjEIrMw/2c73U+Olyz81XrpJDALLP0Jg5dAi28k/",
          "dtype": "f8"
         }
        }
       ],
       "layout": {
        "barmode": "stack",
        "template": {
         "data": {
          "bar": [
           {
            "error_x": {
             "color": "#2a3f5f"
            },
            "error_y": {
             "color": "#2a3f5f"
            },
            "marker": {
             "line": {
              "color": "white",
              "width": 0.5
             },
             "pattern": {
              "fillmode": "overlay",
              "size": 10,
              "solidity": 0.2
             }
            },
            "type": "bar"
           }
          ],
          "barpolar": [
           {
            "marker": {
             "line": {
              "color": "white",
              "width": 0.5
             },
             "pattern": {
              "fillmode": "overlay",
              "size": 10,
              "solidity": 0.2
             }
            },
            "type": "barpolar"
           }
          ],
          "carpet": [
           {
            "aaxis": {
             "endlinecolor": "#2a3f5f",
             "gridcolor": "#C8D4E3",
             "linecolor": "#C8D4E3",
             "minorgridcolor": "#C8D4E3",
             "startlinecolor": "#2a3f5f"
            },
            "baxis": {
             "endlinecolor": "#2a3f5f",
             "gridcolor": "#C8D4E3",
             "linecolor": "#C8D4E3",
             "minorgridcolor": "#C8D4E3",
             "startlinecolor": "#2a3f5f"
            },
            "type": "carpet"
           }
          ],
          "choropleth": [
           {
            "colorbar": {
             "outlinewidth": 0,
             "ticks": ""
            },
            "type": "choropleth"
           }
          ],
          "contour": [
           {
            "colorbar": {
             "outlinewidth": 0,
             "ticks": ""
            },
            "colorscale": [
             [
              0,
              "#0d0887"
             ],
             [
              0.1111111111111111,
              "#46039f"
             ],
             [
              0.2222222222222222,
              "#7201a8"
             ],
             [
              0.3333333333333333,
              "#9c179e"
             ],
             [
              0.4444444444444444,
              "#bd3786"
             ],
             [
              0.5555555555555556,
              "#d8576b"
             ],
             [
              0.6666666666666666,
              "#ed7953"
             ],
             [
              0.7777777777777778,
              "#fb9f3a"
             ],
             [
              0.8888888888888888,
              "#fdca26"
             ],
             [
              1,
              "#f0f921"
             ]
            ],
            "type": "contour"
           }
          ],
          "contourcarpet": [
           {
            "colorbar": {
             "outlinewidth": 0,
             "ticks": ""
            },
            "type": "contourcarpet"
           }
          ],
          "heatmap": [
           {
            "colorbar": {
             "outlinewidth": 0,
             "ticks": ""
            },
            "colorscale": [
             [
              0,
              "#0d0887"
             ],
             [
              0.1111111111111111,
              "#46039f"
             ],
             [
              0.2222222222222222,
              "#7201a8"
             ],
             [
              0.3333333333333333,
              "#9c179e"
             ],
             [
              0.4444444444444444,
              "#bd3786"
             ],
             [
              0.5555555555555556,
              "#d8576b"
             ],
             [
              0.6666666666666666,
              "#ed7953"
             ],
             [
              0.7777777777777778,
              "#fb9f3a"
             ],
             [
              0.8888888888888888,
              "#fdca26"
             ],
             [
              1,
              "#f0f921"
             ]
            ],
            "type": "heatmap"
           }
          ],
          "histogram": [
           {
            "marker": {
             "pattern": {
              "fillmode": "overlay",
              "size": 10,
              "solidity": 0.2
             }
            },
            "type": "histogram"
           }
          ],
          "histogram2d": [
           {
            "colorbar": {
             "outlinewidth": 0,
             "ticks": ""
            },
            "colorscale": [
             [
              0,
              "#0d0887"
             ],
             [
              0.1111111111111111,
              "#46039f"
             ],
             [
              0.2222222222222222,
              "#7201a8"
             ],
             [
              0.3333333333333333,
              "#9c179e"
             ],
             [
              0.4444444444444444,
              "#bd3786"
             ],
             [
              0.5555555555555556,
              "#d8576b"
             ],
             [
              0.6666666666666666,
              "#ed7953"
             ],
             [
              0.7777777777777778,
              "#fb9f3a"
             ],
             [
              0.8888888888888888,
              "#fdca26"
             ],
             [
              1,
              "#f0f921"
             ]
            ],
            "type": "histogram2d"
           }
          ],
          "histogram2dcontour": [
           {
            "colorbar": {
             "outlinewidth": 0,
             "ticks": ""
            },
            "colorscale": [
             [
              0,
              "#0d0887"
             ],
             [
              0.1111111111111111,
              "#46039f"
             ],
             [
              0.2222222222222222,
              "#7201a8"
             ],
             [
              0.3333333333333333,
              "#9c179e"
             ],
             [
              0.4444444444444444,
              "#bd3786"
             ],
             [
              0.5555555555555556,
              "#d8576b"
             ],
             [
              0.6666666666666666,
              "#ed7953"
             ],
             [
              0.7777777777777778,
              "#fb9f3a"
             ],
             [
              0.8888888888888888,
              "#fdca26"
             ],
             [
              1,
              "#f0f921"
             ]
            ],
            "type": "histogram2dcontour"
           }
          ],
          "mesh3d": [
           {
            "colorbar": {
             "outlinewidth": 0,
             "ticks": ""
            },
            "type": "mesh3d"
           }
          ],
          "parcoords": [
           {
            "line": {
             "colorbar": {
              "outlinewidth": 0,
              "ticks": ""
             }
            },
            "type": "parcoords"
           }
          ],
          "pie": [
           {
            "automargin": true,
            "type": "pie"
           }
          ],
          "scatter": [
           {
            "fillpattern": {
             "fillmode": "overlay",
             "size": 10,
             "solidity": 0.2
            },
            "type": "scatter"
           }
          ],
          "scatter3d": [
           {
            "line": {
             "colorbar": {
              "outlinewidth": 0,
              "ticks": ""
             }
            },
            "marker": {
             "colorbar": {
              "outlinewidth": 0,
              "ticks": ""
             }
            },
            "type": "scatter3d"
           }
          ],
          "scattercarpet": [
           {
            "marker": {
             "colorbar": {
              "outlinewidth": 0,
              "ticks": ""
             }
            },
            "type": "scattercarpet"
           }
          ],
          "scattergeo": [
           {
            "marker": {
             "colorbar": {
              "outlinewidth": 0,
              "ticks": ""
             }
            },
            "type": "scattergeo"
           }
          ],
          "scattergl": [
           {
            "marker": {
             "colorbar": {
              "outlinewidth": 0,
              "ticks": ""
             }
            },
            "type": "scattergl"
           }
          ],
          "scattermap": [
           {
            "marker": {
             "colorbar": {
              "outlinewidth": 0,
              "ticks": ""
             }
            },
            "type": "scattermap"
           }
          ],
          "scattermapbox": [
           {
            "marker": {
             "colorbar": {
              "outlinewidth": 0,
              "ticks": ""
             }
            },
            "type": "scattermapbox"
           }
          ],
          "scatterpolar": [
           {
            "marker": {
             "colorbar": {
              "outlinewidth": 0,
              "ticks": ""
             }
            },
            "type": "scatterpolar"
           }
          ],
          "scatterpolargl": [
           {
            "marker": {
             "colorbar": {
              "outlinewidth": 0,
              "ticks": ""
             }
            },
            "type": "scatterpolargl"
           }
          ],
          "scatterternary": [
           {
            "marker": {
             "colorbar": {
              "outlinewidth": 0,
              "ticks": ""
             }
            },
            "type": "scatterternary"
           }
          ],
          "surface": [
           {
            "colorbar": {
             "outlinewidth": 0,
             "ticks": ""
            },
            "colorscale": [
             [
              0,
              "#0d0887"
             ],
             [
              0.1111111111111111,
              "#46039f"
             ],
             [
              0.2222222222222222,
              "#7201a8"
             ],
             [
              0.3333333333333333,
              "#9c179e"
             ],
             [
              0.4444444444444444,
              "#bd3786"
             ],
             [
              0.5555555555555556,
              "#d8576b"
             ],
             [
              0.6666666666666666,
              "#ed7953"
             ],
             [
              0.7777777777777778,
              "#fb9f3a"
             ],
             [
              0.8888888888888888,
              "#fdca26"
             ],
             [
              1,
              "#f0f921"
             ]
            ],
            "type": "surface"
           }
          ],
          "table": [
           {
            "cells": {
             "fill": {
              "color": "#EBF0F8"
             },
             "line": {
              "color": "white"
             }
            },
            "header": {
             "fill": {
              "color": "#C8D4E3"
             },
             "line": {
              "color": "white"
             }
            },
            "type": "table"
           }
          ]
         },
         "layout": {
          "annotationdefaults": {
           "arrowcolor": "#2a3f5f",
           "arrowhead": 0,
           "arrowwidth": 1
          },
          "autotypenumbers": "strict",
          "coloraxis": {
           "colorbar": {
            "outlinewidth": 0,
            "ticks": ""
           }
          },
          "colorscale": {
           "diverging": [
            [
             0,
             "#8e0152"
            ],
            [
             0.1,
             "#c51b7d"
            ],
            [
             0.2,
             "#de77ae"
            ],
            [
             0.3,
             "#f1b6da"
            ],
            [
             0.4,
             "#fde0ef"
            ],
            [
             0.5,
             "#f7f7f7"
            ],
            [
             0.6,
             "#e6f5d0"
            ],
            [
             0.7,
             "#b8e186"
            ],
            [
             0.8,
             "#7fbc41"
            ],
            [
             0.9,
             "#4d9221"
            ],
            [
             1,
             "#276419"
            ]
           ],
           "sequential": [
            [
             0,
             "#0d0887"
            ],
            [
             0.1111111111111111,
             "#46039f"
            ],
            [
             0.2222222222222222,
             "#7201a8"
            ],
            [
             0.3333333333333333,
             "#9c179e"
            ],
            [
             0.4444444444444444,
             "#bd3786"
            ],
            [
             0.5555555555555556,
             "#d8576b"
            ],
            [
             0.6666666666666666,
             "#ed7953"
            ],
            [
             0.7777777777777778,
             "#fb9f3a"
            ],
            [
             0.8888888888888888,
             "#fdca26"
            ],
            [
             1,
             "#f0f921"
            ]
           ],
           "sequentialminus": [
            [
             0,
             "#0d0887"
            ],
            [
             0.1111111111111111,
             "#46039f"
            ],
            [
             0.2222222222222222,
             "#7201a8"
            ],
            [
             0.3333333333333333,
             "#9c179e"
            ],
            [
             0.4444444444444444,
             "#bd3786"
            ],
            [
             0.5555555555555556,
             "#d8576b"
            ],
            [
             0.6666666666666666,
             "#ed7953"
            ],
            [
             0.7777777777777778,
             "#fb9f3a"
            ],
            [
             0.8888888888888888,
             "#fdca26"
            ],
            [
             1,
             "#f0f921"
            ]
           ]
          },
          "colorway": [
           "#636efa",
           "#EF553B",
           "#00cc96",
           "#ab63fa",
           "#FFA15A",
           "#19d3f3",
           "#FF6692",
           "#B6E880",
           "#FF97FF",
           "#FECB52"
          ],
          "font": {
           "color": "#2a3f5f"
          },
          "geo": {
           "bgcolor": "white",
           "lakecolor": "white",
           "landcolor": "white",
           "showlakes": true,
           "showland": true,
           "subunitcolor": "#C8D4E3"
          },
          "hoverlabel": {
           "align": "left"
          },
          "hovermode": "closest",
          "mapbox": {
           "style": "light"
          },
          "paper_bgcolor": "white",
          "plot_bgcolor": "white",
          "polar": {
           "angularaxis": {
            "gridcolor": "#EBF0F8",
            "linecolor": "#EBF0F8",
            "ticks": ""
           },
           "bgcolor": "white",
           "radialaxis": {
            "gridcolor": "#EBF0F8",
            "linecolor": "#EBF0F8",
            "ticks": ""
           }
          },
          "scene": {
           "xaxis": {
            "backgroundcolor": "white",
            "gridcolor": "#DFE8F3",
            "gridwidth": 2,
            "linecolor": "#EBF0F8",
            "showbackground": true,
            "ticks": "",
            "zerolinecolor": "#EBF0F8"
           },
           "yaxis": {
            "backgroundcolor": "white",
            "gridcolor": "#DFE8F3",
            "gridwidth": 2,
            "linecolor": "#EBF0F8",
            "showbackground": true,
            "ticks": "",
            "zerolinecolor": "#EBF0F8"
           },
           "zaxis": {
            "backgroundcolor": "white",
            "gridcolor": "#DFE8F3",
            "gridwidth": 2,
            "linecolor": "#EBF0F8",
            "showbackground": true,
            "ticks": "",
            "zerolinecolor": "#EBF0F8"
           }
          },
          "shapedefaults": {
           "line": {
            "color": "#2a3f5f"
           }
          },
          "ternary": {
           "aaxis": {
            "gridcolor": "#DFE8F3",
            "linecolor": "#A2B1C6",
            "ticks": ""
           },
           "baxis": {
            "gridcolor": "#DFE8F3",
            "linecolor": "#A2B1C6",
            "ticks": ""
           },
           "bgcolor": "white",
           "caxis": {
            "gridcolor": "#DFE8F3",
            "linecolor": "#A2B1C6",
            "ticks": ""
           }
          },
          "title": {
           "x": 0.05
          },
          "xaxis": {
           "automargin": true,
           "gridcolor": "#EBF0F8",
           "linecolor": "#EBF0F8",
           "ticks": "",
           "title": {
            "standoff": 15
           },
           "zerolinecolor": "#EBF0F8",
           "zerolinewidth": 2
          },
          "yaxis": {
           "automargin": true,
           "gridcolor": "#EBF0F8",
           "linecolor": "#EBF0F8",
           "ticks": "",
           "title": {
            "standoff": 15
           },
           "zerolinecolor": "#EBF0F8",
           "zerolinewidth": 2
          }
         }
        },
        "title": {
         "text": "Group Share over Time"
        },
        "xaxis": {
         "title": {
          "text": "ref_date"
         }
        },
        "yaxis": {
         "tickformat": ".0%",
         "title": {
          "text": "Group share"
         }
        }
       }
      }
     },
     "metadata": {},
     "output_type": "display_data"
    },
    {
     "name": "stdout",
     "output_type": "stream",
     "text": [
      "\n",
      "🚀 Treinando modelo: XGBoost\n",
      "📊 Avaliando modelo: XGBoost\n"
     ]
    },
    {
     "data": {
      "application/vnd.plotly.v1+json": {
       "config": {
        "plotlyServerURL": "https://plot.ly"
       },
       "data": [
        {
         "line": {
          "color": "rgb(217,58,70)"
         },
         "mode": "lines+markers",
         "name": "(-inf, 658.02)",
         "type": "scatter",
         "x": [
          "2022-01-01T00:00:00.000000000",
          "2022-02-01T00:00:00.000000000",
          "2022-03-01T00:00:00.000000000",
          "2022-04-01T00:00:00.000000000",
          "2022-05-01T00:00:00.000000000",
          "2022-06-01T00:00:00.000000000",
          "2022-07-01T00:00:00.000000000",
          "2022-08-01T00:00:00.000000000",
          "2022-09-01T00:00:00.000000000",
          "2022-10-01T00:00:00.000000000",
          "2022-11-01T00:00:00.000000000",
          "2022-12-01T00:00:00.000000000",
          "2023-01-01T00:00:00.000000000",
          "2023-02-01T00:00:00.000000000",
          "2023-03-01T00:00:00.000000000",
          "2023-04-01T00:00:00.000000000",
          "2023-05-01T00:00:00.000000000",
          "2023-06-01T00:00:00.000000000",
          "2023-07-01T00:00:00.000000000",
          "2023-08-01T00:00:00.000000000",
          "2023-09-01T00:00:00.000000000",
          "2023-10-01T00:00:00.000000000",
          "2023-11-01T00:00:00.000000000",
          "2023-12-01T00:00:00.000000000",
          "2024-01-01T00:00:00.000000000",
          "2024-02-01T00:00:00.000000000",
          "2024-03-01T00:00:00.000000000",
          "2024-04-01T00:00:00.000000000",
          "2024-05-01T00:00:00.000000000",
          "2024-06-01T00:00:00.000000000",
          "2024-07-01T00:00:00.000000000",
          "2024-08-01T00:00:00.000000000",
          "2024-09-01T00:00:00.000000000",
          "2024-10-01T00:00:00.000000000",
          "2024-11-01T00:00:00.000000000",
          "2024-12-01T00:00:00.000000000",
          "2025-01-01T00:00:00.000000000",
          "2025-02-01T00:00:00.000000000",
          "2025-03-01T00:00:00.000000000",
          "2025-04-01T00:00:00.000000000",
          "2025-05-01T00:00:00.000000000",
          "2025-06-01T00:00:00.000000000",
          "2025-07-01T00:00:00.000000000",
          "2025-08-01T00:00:00.000000000",
          "2025-09-01T00:00:00.000000000",
          "2025-10-01T00:00:00.000000000",
          "2025-11-01T00:00:00.000000000",
          "2025-12-01T00:00:00.000000000"
         ],
         "y": {
          "bdata": "AAAAAAAA8D84H4PzMTjvP6uqqqqqquo/mH7pl37p5z8UFBQUFBTkP8hlxUAJb+Q/AAAAAAAA4z+c3vSmN73hPxxRYNKpeeA/+EYUmHRq3j+yAmGkHSvgP4d+s3XoN9s/whT5rBtM4T+/XerJ+O3iP6uqqqqqquI/ggMHDhw44D9CHdRBHdThP97d3d3d3d0/tbgJ87ta3D87qIM6qIPaP5dv+ZZv+dY/AAAAAAAA1T9XaqVWaqXWPxGso837FNc/iMb60Fgf2j9u27Zt27bVP8PaN6x9w9o/cFj7hrVv2D/d3Nzc3NzcP/JW9jmkJtg/4eUUvJyC1z+e2Imd2IndP2pXonYlatc/pHA9Ctej4D9lk0022WTjP0mSJEmSJNk/jDHGGGOM4T+VUkoppZTiPwnLPY2w3OM/MzMzMzMz4z+21lprrbXmP8prKK+hvOY/tbS0tLS05D+idiVqV6LmP6+hvIbyGuo/x3Ecx3Ec5z/NzMzMzMzoP1VVVVVVVeU/",
          "dtype": "f8"
         }
        },
        {
         "line": {
          "color": "rgb(230,148,154)"
         },
         "mode": "lines+markers",
         "name": "[658.02, 798.62)",
         "type": "scatter",
         "x": [
          "2022-01-01T00:00:00.000000000",
          "2022-02-01T00:00:00.000000000",
          "2022-03-01T00:00:00.000000000",
          "2022-04-01T00:00:00.000000000",
          "2022-05-01T00:00:00.000000000",
          "2022-06-01T00:00:00.000000000",
          "2022-07-01T00:00:00.000000000",
          "2022-08-01T00:00:00.000000000",
          "2022-09-01T00:00:00.000000000",
          "2022-10-01T00:00:00.000000000",
          "2022-11-01T00:00:00.000000000",
          "2022-12-01T00:00:00.000000000",
          "2023-01-01T00:00:00.000000000",
          "2023-02-01T00:00:00.000000000",
          "2023-03-01T00:00:00.000000000",
          "2023-04-01T00:00:00.000000000",
          "2023-05-01T00:00:00.000000000",
          "2023-06-01T00:00:00.000000000",
          "2023-07-01T00:00:00.000000000",
          "2023-08-01T00:00:00.000000000",
          "2023-09-01T00:00:00.000000000",
          "2023-10-01T00:00:00.000000000",
          "2023-11-01T00:00:00.000000000",
          "2023-12-01T00:00:00.000000000",
          "2024-01-01T00:00:00.000000000",
          "2024-02-01T00:00:00.000000000",
          "2024-03-01T00:00:00.000000000",
          "2024-04-01T00:00:00.000000000",
          "2024-05-01T00:00:00.000000000",
          "2024-06-01T00:00:00.000000000",
          "2024-07-01T00:00:00.000000000",
          "2024-08-01T00:00:00.000000000",
          "2024-09-01T00:00:00.000000000",
          "2024-10-01T00:00:00.000000000",
          "2024-11-01T00:00:00.000000000",
          "2024-12-01T00:00:00.000000000",
          "2025-01-01T00:00:00.000000000",
          "2025-02-01T00:00:00.000000000",
          "2025-03-01T00:00:00.000000000",
          "2025-04-01T00:00:00.000000000",
          "2025-05-01T00:00:00.000000000",
          "2025-06-01T00:00:00.000000000",
          "2025-07-01T00:00:00.000000000",
          "2025-08-01T00:00:00.000000000",
          "2025-09-01T00:00:00.000000000",
          "2025-10-01T00:00:00.000000000",
          "2025-11-01T00:00:00.000000000",
          "2025-12-01T00:00:00.000000000"
         ],
         "y": {
          "bdata": "463sc0hN4D9fwDanqzzTP+/DLaAwqtM/Fc0TagFj0j/5lGnnYM3SP3hUs/4MftM/YPqlX/qlzz/E5ApicgXRP+/DLaAwqtM/sAlB2fua0D9wtg79ZuvQP18eWxE0nNQ/QUyuICZX0D/tjdUf6JHSPxuStyF5G9I/ZZNNNtlk0z/MB7ILi5HQP3TRRRdddNE/obTxjmrWzz8Qg4UjcwLOPw5xlSlgPtA/GCeDyANX0T9oPtcfL4PRP4jJFcTkCtI/50CiFTYH0j8zMzMzMzPTP5IkSZIkSdI/IyMjIyMj0z9nSMzbGRLTP96nuGQI1tE/dLbjQ5By0z9FE0000UTTPwAAAAAAANQ/PgQpNxXN0z9MriAmVxDTP0ltJbWV1NY/QnsJ7SW01z9ZyUpWspLVP1VVVVVVVdU/rXZWO6ud1T/Fc83qMMrUP5z8Tf4mf9M/WQOuWAOu2D/dYIp81g3WP+ZbvuVbvtU/TjbZZJNN1j9VVVVVVVXVP3CXejJ+u9Q/",
          "dtype": "f8"
         }
        },
        {
         "line": {
          "color": "rgb(242,241,241)"
         },
         "mode": "lines+markers",
         "name": "[798.62, 896.40)",
         "type": "scatter",
         "x": [
          "2022-01-01T00:00:00.000000000",
          "2022-02-01T00:00:00.000000000",
          "2022-03-01T00:00:00.000000000",
          "2022-04-01T00:00:00.000000000",
          "2022-05-01T00:00:00.000000000",
          "2022-06-01T00:00:00.000000000",
          "2022-07-01T00:00:00.000000000",
          "2022-08-01T00:00:00.000000000",
          "2022-09-01T00:00:00.000000000",
          "2022-10-01T00:00:00.000000000",
          "2022-11-01T00:00:00.000000000",
          "2022-12-01T00:00:00.000000000",
          "2023-01-01T00:00:00.000000000",
          "2023-02-01T00:00:00.000000000",
          "2023-03-01T00:00:00.000000000",
          "2023-04-01T00:00:00.000000000",
          "2023-05-01T00:00:00.000000000",
          "2023-06-01T00:00:00.000000000",
          "2023-07-01T00:00:00.000000000",
          "2023-08-01T00:00:00.000000000",
          "2023-09-01T00:00:00.000000000",
          "2023-10-01T00:00:00.000000000",
          "2023-11-01T00:00:00.000000000",
          "2023-12-01T00:00:00.000000000",
          "2024-01-01T00:00:00.000000000",
          "2024-02-01T00:00:00.000000000",
          "2024-03-01T00:00:00.000000000",
          "2024-04-01T00:00:00.000000000",
          "2024-05-01T00:00:00.000000000",
          "2024-06-01T00:00:00.000000000",
          "2024-07-01T00:00:00.000000000",
          "2024-08-01T00:00:00.000000000",
          "2024-09-01T00:00:00.000000000",
          "2024-10-01T00:00:00.000000000",
          "2024-11-01T00:00:00.000000000",
          "2024-12-01T00:00:00.000000000",
          "2025-01-01T00:00:00.000000000",
          "2025-02-01T00:00:00.000000000",
          "2025-03-01T00:00:00.000000000",
          "2025-04-01T00:00:00.000000000",
          "2025-05-01T00:00:00.000000000",
          "2025-06-01T00:00:00.000000000",
          "2025-07-01T00:00:00.000000000",
          "2025-08-01T00:00:00.000000000",
          "2025-09-01T00:00:00.000000000",
          "2025-10-01T00:00:00.000000000",
          "2025-11-01T00:00:00.000000000",
          "2025-12-01T00:00:00.000000000"
         ],
         "y": {
          "bdata": "qFChQoUKhT8j+oDq2FurP4MruT2/P7U/aX3x4YrWtz9t1Hc26ju7P1dBbQam67w/nanlwl19wz+k7ZW3JNTAPxhxovK00L0/km2SbZJtwj/BeCv7HFLDP6vkzc6l2sA/zczMzMzMwD+czqMP+ym7PzuxEzuxE7s/CsZb2eeQuj8xDMMwDMPAP1yc1myfqL4/GVK+ZxOKwT8jZeDp1vzAPwtZyEIWssA/FKEIRShCwT/rfnBM8pC9P9hdqMTR8ME/UFIWIE5wwT+xK0DuNRfCPycEZe9rQsA/FtC4W+cVwD/ccMMNN9zAP5TINGw3y8M/IyMjIyMjwz8r8TK1Q7PCPySI92T948I/aC+hvYT2wj/mDpk7ZO7AP95kQhg61cI/2Ymd2ImdwD8iRLN7l4nAP8EgsYnOtcA/gflAdmExwj+IyRXE5ArCP6e6oBjOhsA/Y9BmKSxAwT95zqjSTuHDPzx/i9Oa7cM/GmcBNp9xxj/6tYdcVgzEP3hen0FXjcQ/",
          "dtype": "f8"
         }
        },
        {
         "line": {
          "color": "rgb(153,183,205)"
         },
         "mode": "lines+markers",
         "name": "[896.40, 950.50)",
         "type": "scatter",
         "x": [
          "2022-01-01T00:00:00.000000000",
          "2022-02-01T00:00:00.000000000",
          "2022-03-01T00:00:00.000000000",
          "2022-04-01T00:00:00.000000000",
          "2022-05-01T00:00:00.000000000",
          "2022-06-01T00:00:00.000000000",
          "2022-07-01T00:00:00.000000000",
          "2022-08-01T00:00:00.000000000",
          "2022-09-01T00:00:00.000000000",
          "2022-10-01T00:00:00.000000000",
          "2022-11-01T00:00:00.000000000",
          "2022-12-01T00:00:00.000000000",
          "2023-01-01T00:00:00.000000000",
          "2023-02-01T00:00:00.000000000",
          "2023-03-01T00:00:00.000000000",
          "2023-04-01T00:00:00.000000000",
          "2023-05-01T00:00:00.000000000",
          "2023-06-01T00:00:00.000000000",
          "2023-07-01T00:00:00.000000000",
          "2023-08-01T00:00:00.000000000",
          "2023-09-01T00:00:00.000000000",
          "2023-10-01T00:00:00.000000000",
          "2023-11-01T00:00:00.000000000",
          "2023-12-01T00:00:00.000000000",
          "2024-01-01T00:00:00.000000000",
          "2024-02-01T00:00:00.000000000",
          "2024-03-01T00:00:00.000000000",
          "2024-04-01T00:00:00.000000000",
          "2024-05-01T00:00:00.000000000",
          "2024-06-01T00:00:00.000000000",
          "2024-07-01T00:00:00.000000000",
          "2024-08-01T00:00:00.000000000",
          "2024-09-01T00:00:00.000000000",
          "2024-10-01T00:00:00.000000000",
          "2024-11-01T00:00:00.000000000",
          "2024-12-01T00:00:00.000000000",
          "2025-01-01T00:00:00.000000000",
          "2025-02-01T00:00:00.000000000",
          "2025-03-01T00:00:00.000000000",
          "2025-04-01T00:00:00.000000000",
          "2025-05-01T00:00:00.000000000",
          "2025-06-01T00:00:00.000000000",
          "2025-07-01T00:00:00.000000000",
          "2025-08-01T00:00:00.000000000",
          "2025-09-01T00:00:00.000000000",
          "2025-10-01T00:00:00.000000000",
          "2025-11-01T00:00:00.000000000",
          "2025-12-01T00:00:00.000000000"
         ],
         "y": {
          "bdata": "9AV9QV/Qhz/g6db8sEiJPwKh5E7Rwok/VVVVVVVVlT8cx3Ecx3GcP1nhMFHmgpo/Hh4eHh4enj/au7Vw03aoP6J+vbDuCqQ/ePMI1Wfaqj/lF0t+seSnP+DAgQMHDqw/GiV+RomfsT8F7r7j4mWrP7JydYCsXK0/m465RHhSsD+Uui+PrQiqP1xx+Hdv1rM/dMBuj7UMrT9DOm8xpPO2P4eFz7zqHLY/2r5QmLYvtD+amZmZmZm5P0tGORKdPa8/C5sDiVbYrD8coC45tSasP8aSXyz5xbI/N2CopmMusT+7HarbobqtPxzHcRzHcaw/2ru1cNN2qD/0BX1BX9CnP2ZmZmZmZq4/Hh4eHh4erj91aaqPfJOxP/oYnI/B+ag/flikDDzdqj97Ce0ltJewP4/mDzYeza8/Hh4eHh4erj+wq/DlhhiwPxQ4gRM4gbM/AqHkTtHCqT+/ECtK4yOjP0vUrkTtSqQ/EARBEARBoD8YeqEXeqGnP8rA0635YbE/",
          "dtype": "f8"
         }
        },
        {
         "line": {
          "color": "rgb(65,124,167)"
         },
         "mode": "lines+markers",
         "name": "[950.50, inf)",
         "type": "scatter",
         "x": [
          "2022-01-01T00:00:00.000000000",
          "2022-02-01T00:00:00.000000000",
          "2022-03-01T00:00:00.000000000",
          "2022-04-01T00:00:00.000000000",
          "2022-05-01T00:00:00.000000000",
          "2022-06-01T00:00:00.000000000",
          "2022-07-01T00:00:00.000000000",
          "2022-08-01T00:00:00.000000000",
          "2022-09-01T00:00:00.000000000",
          "2022-10-01T00:00:00.000000000",
          "2022-11-01T00:00:00.000000000",
          "2022-12-01T00:00:00.000000000",
          "2023-01-01T00:00:00.000000000",
          "2023-02-01T00:00:00.000000000",
          "2023-03-01T00:00:00.000000000",
          "2023-04-01T00:00:00.000000000",
          "2023-05-01T00:00:00.000000000",
          "2023-06-01T00:00:00.000000000",
          "2023-07-01T00:00:00.000000000",
          "2023-08-01T00:00:00.000000000",
          "2023-09-01T00:00:00.000000000",
          "2023-10-01T00:00:00.000000000",
          "2023-11-01T00:00:00.000000000",
          "2023-12-01T00:00:00.000000000",
          "2024-01-01T00:00:00.000000000",
          "2024-02-01T00:00:00.000000000",
          "2024-03-01T00:00:00.000000000",
          "2024-04-01T00:00:00.000000000",
          "2024-05-01T00:00:00.000000000",
          "2024-06-01T00:00:00.000000000",
          "2024-07-01T00:00:00.000000000",
          "2024-08-01T00:00:00.000000000",
          "2024-09-01T00:00:00.000000000",
          "2024-10-01T00:00:00.000000000",
          "2024-11-01T00:00:00.000000000",
          "2024-12-01T00:00:00.000000000",
          "2025-01-01T00:00:00.000000000",
          "2025-02-01T00:00:00.000000000",
          "2025-03-01T00:00:00.000000000",
          "2025-04-01T00:00:00.000000000",
          "2025-05-01T00:00:00.000000000",
          "2025-06-01T00:00:00.000000000",
          "2025-07-01T00:00:00.000000000",
          "2025-08-01T00:00:00.000000000",
          "2025-09-01T00:00:00.000000000",
          "2025-10-01T00:00:00.000000000",
          "2025-11-01T00:00:00.000000000",
          "2025-12-01T00:00:00.000000000"
         ],
         "y": {
          "bdata": "AAAAAAAAAAAAAAAAAAAAAAAAAAAAAAAAAAAAAAAAAAAAAAAAAAAAAPQFfUFf0Ic/w+zgCCKthz9GF1100UWHP7ICYaQdK5A/QH8B/QX0hz+q82sPuayIP5+pXHe82JI/C5sDiVbYfD8YhmEYhmGYPwgffPDBB38/ePshgbcfgj8UFBQUFBSEPx2Boq0Gz4E/CB988MEHnz8fmUDv1LWcPxQUFBQUFKQ/OQUvp+DlpD8IH3zwwQefPx4eHh4eHq4/yKR4gUyKpz8apEEapEGaP9kzEJWO7Jk/24G5dmCujT/bgbl2YK6NPx3UQR3UQZ0/24G5dmCunT++Y2pg75iqPxZf8RVf8aU/CB988MEHnz8IH3zwwQePP1VVVVVVVaU/Z7fwqzGRnj+amZmZmZmJP/QFfUFf0Jc/IHRU4Iurnz8eHh4eHh6eP/vZYmX4RpQ/xhhjjDHGmD+nEGgKgaaAPxzHcRzHcXw/KK+hvIbymj8UO7ETO7GTP6hQoUKFCpU/",
          "dtype": "f8"
         }
        }
       ],
       "layout": {
        "template": {
         "data": {
          "bar": [
           {
            "error_x": {
             "color": "#2a3f5f"
            },
            "error_y": {
             "color": "#2a3f5f"
            },
            "marker": {
             "line": {
              "color": "white",
              "width": 0.5
             },
             "pattern": {
              "fillmode": "overlay",
              "size": 10,
              "solidity": 0.2
             }
            },
            "type": "bar"
           }
          ],
          "barpolar": [
           {
            "marker": {
             "line": {
              "color": "white",
              "width": 0.5
             },
             "pattern": {
              "fillmode": "overlay",
              "size": 10,
              "solidity": 0.2
             }
            },
            "type": "barpolar"
           }
          ],
          "carpet": [
           {
            "aaxis": {
             "endlinecolor": "#2a3f5f",
             "gridcolor": "#C8D4E3",
             "linecolor": "#C8D4E3",
             "minorgridcolor": "#C8D4E3",
             "startlinecolor": "#2a3f5f"
            },
            "baxis": {
             "endlinecolor": "#2a3f5f",
             "gridcolor": "#C8D4E3",
             "linecolor": "#C8D4E3",
             "minorgridcolor": "#C8D4E3",
             "startlinecolor": "#2a3f5f"
            },
            "type": "carpet"
           }
          ],
          "choropleth": [
           {
            "colorbar": {
             "outlinewidth": 0,
             "ticks": ""
            },
            "type": "choropleth"
           }
          ],
          "contour": [
           {
            "colorbar": {
             "outlinewidth": 0,
             "ticks": ""
            },
            "colorscale": [
             [
              0,
              "#0d0887"
             ],
             [
              0.1111111111111111,
              "#46039f"
             ],
             [
              0.2222222222222222,
              "#7201a8"
             ],
             [
              0.3333333333333333,
              "#9c179e"
             ],
             [
              0.4444444444444444,
              "#bd3786"
             ],
             [
              0.5555555555555556,
              "#d8576b"
             ],
             [
              0.6666666666666666,
              "#ed7953"
             ],
             [
              0.7777777777777778,
              "#fb9f3a"
             ],
             [
              0.8888888888888888,
              "#fdca26"
             ],
             [
              1,
              "#f0f921"
             ]
            ],
            "type": "contour"
           }
          ],
          "contourcarpet": [
           {
            "colorbar": {
             "outlinewidth": 0,
             "ticks": ""
            },
            "type": "contourcarpet"
           }
          ],
          "heatmap": [
           {
            "colorbar": {
             "outlinewidth": 0,
             "ticks": ""
            },
            "colorscale": [
             [
              0,
              "#0d0887"
             ],
             [
              0.1111111111111111,
              "#46039f"
             ],
             [
              0.2222222222222222,
              "#7201a8"
             ],
             [
              0.3333333333333333,
              "#9c179e"
             ],
             [
              0.4444444444444444,
              "#bd3786"
             ],
             [
              0.5555555555555556,
              "#d8576b"
             ],
             [
              0.6666666666666666,
              "#ed7953"
             ],
             [
              0.7777777777777778,
              "#fb9f3a"
             ],
             [
              0.8888888888888888,
              "#fdca26"
             ],
             [
              1,
              "#f0f921"
             ]
            ],
            "type": "heatmap"
           }
          ],
          "histogram": [
           {
            "marker": {
             "pattern": {
              "fillmode": "overlay",
              "size": 10,
              "solidity": 0.2
             }
            },
            "type": "histogram"
           }
          ],
          "histogram2d": [
           {
            "colorbar": {
             "outlinewidth": 0,
             "ticks": ""
            },
            "colorscale": [
             [
              0,
              "#0d0887"
             ],
             [
              0.1111111111111111,
              "#46039f"
             ],
             [
              0.2222222222222222,
              "#7201a8"
             ],
             [
              0.3333333333333333,
              "#9c179e"
             ],
             [
              0.4444444444444444,
              "#bd3786"
             ],
             [
              0.5555555555555556,
              "#d8576b"
             ],
             [
              0.6666666666666666,
              "#ed7953"
             ],
             [
              0.7777777777777778,
              "#fb9f3a"
             ],
             [
              0.8888888888888888,
              "#fdca26"
             ],
             [
              1,
              "#f0f921"
             ]
            ],
            "type": "histogram2d"
           }
          ],
          "histogram2dcontour": [
           {
            "colorbar": {
             "outlinewidth": 0,
             "ticks": ""
            },
            "colorscale": [
             [
              0,
              "#0d0887"
             ],
             [
              0.1111111111111111,
              "#46039f"
             ],
             [
              0.2222222222222222,
              "#7201a8"
             ],
             [
              0.3333333333333333,
              "#9c179e"
             ],
             [
              0.4444444444444444,
              "#bd3786"
             ],
             [
              0.5555555555555556,
              "#d8576b"
             ],
             [
              0.6666666666666666,
              "#ed7953"
             ],
             [
              0.7777777777777778,
              "#fb9f3a"
             ],
             [
              0.8888888888888888,
              "#fdca26"
             ],
             [
              1,
              "#f0f921"
             ]
            ],
            "type": "histogram2dcontour"
           }
          ],
          "mesh3d": [
           {
            "colorbar": {
             "outlinewidth": 0,
             "ticks": ""
            },
            "type": "mesh3d"
           }
          ],
          "parcoords": [
           {
            "line": {
             "colorbar": {
              "outlinewidth": 0,
              "ticks": ""
             }
            },
            "type": "parcoords"
           }
          ],
          "pie": [
           {
            "automargin": true,
            "type": "pie"
           }
          ],
          "scatter": [
           {
            "fillpattern": {
             "fillmode": "overlay",
             "size": 10,
             "solidity": 0.2
            },
            "type": "scatter"
           }
          ],
          "scatter3d": [
           {
            "line": {
             "colorbar": {
              "outlinewidth": 0,
              "ticks": ""
             }
            },
            "marker": {
             "colorbar": {
              "outlinewidth": 0,
              "ticks": ""
             }
            },
            "type": "scatter3d"
           }
          ],
          "scattercarpet": [
           {
            "marker": {
             "colorbar": {
              "outlinewidth": 0,
              "ticks": ""
             }
            },
            "type": "scattercarpet"
           }
          ],
          "scattergeo": [
           {
            "marker": {
             "colorbar": {
              "outlinewidth": 0,
              "ticks": ""
             }
            },
            "type": "scattergeo"
           }
          ],
          "scattergl": [
           {
            "marker": {
             "colorbar": {
              "outlinewidth": 0,
              "ticks": ""
             }
            },
            "type": "scattergl"
           }
          ],
          "scattermap": [
           {
            "marker": {
             "colorbar": {
              "outlinewidth": 0,
              "ticks": ""
             }
            },
            "type": "scattermap"
           }
          ],
          "scattermapbox": [
           {
            "marker": {
             "colorbar": {
              "outlinewidth": 0,
              "ticks": ""
             }
            },
            "type": "scattermapbox"
           }
          ],
          "scatterpolar": [
           {
            "marker": {
             "colorbar": {
              "outlinewidth": 0,
              "ticks": ""
             }
            },
            "type": "scatterpolar"
           }
          ],
          "scatterpolargl": [
           {
            "marker": {
             "colorbar": {
              "outlinewidth": 0,
              "ticks": ""
             }
            },
            "type": "scatterpolargl"
           }
          ],
          "scatterternary": [
           {
            "marker": {
             "colorbar": {
              "outlinewidth": 0,
              "ticks": ""
             }
            },
            "type": "scatterternary"
           }
          ],
          "surface": [
           {
            "colorbar": {
             "outlinewidth": 0,
             "ticks": ""
            },
            "colorscale": [
             [
              0,
              "#0d0887"
             ],
             [
              0.1111111111111111,
              "#46039f"
             ],
             [
              0.2222222222222222,
              "#7201a8"
             ],
             [
              0.3333333333333333,
              "#9c179e"
             ],
             [
              0.4444444444444444,
              "#bd3786"
             ],
             [
              0.5555555555555556,
              "#d8576b"
             ],
             [
              0.6666666666666666,
              "#ed7953"
             ],
             [
              0.7777777777777778,
              "#fb9f3a"
             ],
             [
              0.8888888888888888,
              "#fdca26"
             ],
             [
              1,
              "#f0f921"
             ]
            ],
            "type": "surface"
           }
          ],
          "table": [
           {
            "cells": {
             "fill": {
              "color": "#EBF0F8"
             },
             "line": {
              "color": "white"
             }
            },
            "header": {
             "fill": {
              "color": "#C8D4E3"
             },
             "line": {
              "color": "white"
             }
            },
            "type": "table"
           }
          ]
         },
         "layout": {
          "annotationdefaults": {
           "arrowcolor": "#2a3f5f",
           "arrowhead": 0,
           "arrowwidth": 1
          },
          "autotypenumbers": "strict",
          "coloraxis": {
           "colorbar": {
            "outlinewidth": 0,
            "ticks": ""
           }
          },
          "colorscale": {
           "diverging": [
            [
             0,
             "#8e0152"
            ],
            [
             0.1,
             "#c51b7d"
            ],
            [
             0.2,
             "#de77ae"
            ],
            [
             0.3,
             "#f1b6da"
            ],
            [
             0.4,
             "#fde0ef"
            ],
            [
             0.5,
             "#f7f7f7"
            ],
            [
             0.6,
             "#e6f5d0"
            ],
            [
             0.7,
             "#b8e186"
            ],
            [
             0.8,
             "#7fbc41"
            ],
            [
             0.9,
             "#4d9221"
            ],
            [
             1,
             "#276419"
            ]
           ],
           "sequential": [
            [
             0,
             "#0d0887"
            ],
            [
             0.1111111111111111,
             "#46039f"
            ],
            [
             0.2222222222222222,
             "#7201a8"
            ],
            [
             0.3333333333333333,
             "#9c179e"
            ],
            [
             0.4444444444444444,
             "#bd3786"
            ],
            [
             0.5555555555555556,
             "#d8576b"
            ],
            [
             0.6666666666666666,
             "#ed7953"
            ],
            [
             0.7777777777777778,
             "#fb9f3a"
            ],
            [
             0.8888888888888888,
             "#fdca26"
            ],
            [
             1,
             "#f0f921"
            ]
           ],
           "sequentialminus": [
            [
             0,
             "#0d0887"
            ],
            [
             0.1111111111111111,
             "#46039f"
            ],
            [
             0.2222222222222222,
             "#7201a8"
            ],
            [
             0.3333333333333333,
             "#9c179e"
            ],
            [
             0.4444444444444444,
             "#bd3786"
            ],
            [
             0.5555555555555556,
             "#d8576b"
            ],
            [
             0.6666666666666666,
             "#ed7953"
            ],
            [
             0.7777777777777778,
             "#fb9f3a"
            ],
            [
             0.8888888888888888,
             "#fdca26"
            ],
            [
             1,
             "#f0f921"
            ]
           ]
          },
          "colorway": [
           "#636efa",
           "#EF553B",
           "#00cc96",
           "#ab63fa",
           "#FFA15A",
           "#19d3f3",
           "#FF6692",
           "#B6E880",
           "#FF97FF",
           "#FECB52"
          ],
          "font": {
           "color": "#2a3f5f"
          },
          "geo": {
           "bgcolor": "white",
           "lakecolor": "white",
           "landcolor": "white",
           "showlakes": true,
           "showland": true,
           "subunitcolor": "#C8D4E3"
          },
          "hoverlabel": {
           "align": "left"
          },
          "hovermode": "closest",
          "mapbox": {
           "style": "light"
          },
          "paper_bgcolor": "white",
          "plot_bgcolor": "white",
          "polar": {
           "angularaxis": {
            "gridcolor": "#EBF0F8",
            "linecolor": "#EBF0F8",
            "ticks": ""
           },
           "bgcolor": "white",
           "radialaxis": {
            "gridcolor": "#EBF0F8",
            "linecolor": "#EBF0F8",
            "ticks": ""
           }
          },
          "scene": {
           "xaxis": {
            "backgroundcolor": "white",
            "gridcolor": "#DFE8F3",
            "gridwidth": 2,
            "linecolor": "#EBF0F8",
            "showbackground": true,
            "ticks": "",
            "zerolinecolor": "#EBF0F8"
           },
           "yaxis": {
            "backgroundcolor": "white",
            "gridcolor": "#DFE8F3",
            "gridwidth": 2,
            "linecolor": "#EBF0F8",
            "showbackground": true,
            "ticks": "",
            "zerolinecolor": "#EBF0F8"
           },
           "zaxis": {
            "backgroundcolor": "white",
            "gridcolor": "#DFE8F3",
            "gridwidth": 2,
            "linecolor": "#EBF0F8",
            "showbackground": true,
            "ticks": "",
            "zerolinecolor": "#EBF0F8"
           }
          },
          "shapedefaults": {
           "line": {
            "color": "#2a3f5f"
           }
          },
          "ternary": {
           "aaxis": {
            "gridcolor": "#DFE8F3",
            "linecolor": "#A2B1C6",
            "ticks": ""
           },
           "baxis": {
            "gridcolor": "#DFE8F3",
            "linecolor": "#A2B1C6",
            "ticks": ""
           },
           "bgcolor": "white",
           "caxis": {
            "gridcolor": "#DFE8F3",
            "linecolor": "#A2B1C6",
            "ticks": ""
           }
          },
          "title": {
           "x": 0.05
          },
          "xaxis": {
           "automargin": true,
           "gridcolor": "#EBF0F8",
           "linecolor": "#EBF0F8",
           "ticks": "",
           "title": {
            "standoff": 15
           },
           "zerolinecolor": "#EBF0F8",
           "zerolinewidth": 2
          },
          "yaxis": {
           "automargin": true,
           "gridcolor": "#EBF0F8",
           "linecolor": "#EBF0F8",
           "ticks": "",
           "title": {
            "standoff": 15
           },
           "zerolinecolor": "#EBF0F8",
           "zerolinewidth": 2
          }
         }
        },
        "title": {
         "text": "Event Rate by Group over Time"
        },
        "xaxis": {
         "title": {
          "text": "ref_date"
         }
        },
        "yaxis": {
         "title": {
          "text": "Event rate"
         }
        }
       }
      }
     },
     "metadata": {},
     "output_type": "display_data"
    },
    {
     "data": {
      "application/vnd.plotly.v1+json": {
       "config": {
        "plotlyServerURL": "https://plot.ly"
       },
       "data": [
        {
         "marker": {
          "color": "rgb(217,58,70)"
         },
         "name": "(-inf, 658.02)",
         "type": "bar",
         "x": [
          "2022-01-01T00:00:00.000000000",
          "2022-02-01T00:00:00.000000000",
          "2022-03-01T00:00:00.000000000",
          "2022-04-01T00:00:00.000000000",
          "2022-05-01T00:00:00.000000000",
          "2022-06-01T00:00:00.000000000",
          "2022-07-01T00:00:00.000000000",
          "2022-08-01T00:00:00.000000000",
          "2022-09-01T00:00:00.000000000",
          "2022-10-01T00:00:00.000000000",
          "2022-11-01T00:00:00.000000000",
          "2022-12-01T00:00:00.000000000",
          "2023-01-01T00:00:00.000000000",
          "2023-02-01T00:00:00.000000000",
          "2023-03-01T00:00:00.000000000",
          "2023-04-01T00:00:00.000000000",
          "2023-05-01T00:00:00.000000000",
          "2023-06-01T00:00:00.000000000",
          "2023-07-01T00:00:00.000000000",
          "2023-08-01T00:00:00.000000000",
          "2023-09-01T00:00:00.000000000",
          "2023-10-01T00:00:00.000000000",
          "2023-11-01T00:00:00.000000000",
          "2023-12-01T00:00:00.000000000",
          "2024-01-01T00:00:00.000000000",
          "2024-02-01T00:00:00.000000000",
          "2024-03-01T00:00:00.000000000",
          "2024-04-01T00:00:00.000000000",
          "2024-05-01T00:00:00.000000000",
          "2024-06-01T00:00:00.000000000",
          "2024-07-01T00:00:00.000000000",
          "2024-08-01T00:00:00.000000000",
          "2024-09-01T00:00:00.000000000",
          "2024-10-01T00:00:00.000000000",
          "2024-11-01T00:00:00.000000000",
          "2024-12-01T00:00:00.000000000",
          "2025-01-01T00:00:00.000000000",
          "2025-02-01T00:00:00.000000000",
          "2025-03-01T00:00:00.000000000",
          "2025-04-01T00:00:00.000000000",
          "2025-05-01T00:00:00.000000000",
          "2025-06-01T00:00:00.000000000",
          "2025-07-01T00:00:00.000000000",
          "2025-08-01T00:00:00.000000000",
          "2025-09-01T00:00:00.000000000",
          "2025-10-01T00:00:00.000000000",
          "2025-11-01T00:00:00.000000000",
          "2025-12-01T00:00:00.000000000"
         ],
         "y": {
          "bdata": "YhBYObTItj/LoUW28/20Pxsv3SQGgbU/sp3vp8ZLtz/pJjEIrBy6P3Noke18P7U/+n5qvHSTuD9aZDvfT423P0Jg5dAi27k/QmDl0CLbuT9SuB6F61G4PxKDwMqhRbY/i2zn+6nxsj+TGARWDi2yPzvfT42XbrI/46WbxCCwsj/sUbgeheuxP7gehetRuK4/001iEFg5tD/sUbgeheuxPyuHFtnO97M//Knx0k1isD+kcD0K16OwPwisHFpkO68/SgwCK4cWqT956SYxCKysPylcj8L1KKw/KVyPwvUorD/pJjEIrByqP4lBYOXQIqs/SgwCK4cWqT8rhxbZzvejP8uhRbbz/aQ/mpmZmZmZmT9MN4lBYOWgP3npJjEIrJw/WDm0yHa+nz9YObTIdr6fPxkEVg4tsp0/7FG4HoXroT9YObTIdr6fP9v5fmq8dKM/nMQgsHJooT/LoUW28/2kP9v5fmq8dKM/O99PjZduoj97FK5H4XqkP0w3iUFg5aA/",
          "dtype": "f8"
         }
        },
        {
         "marker": {
          "color": "rgb(230,148,154)"
         },
         "name": "[658.02, 798.62)",
         "type": "bar",
         "x": [
          "2022-01-01T00:00:00.000000000",
          "2022-02-01T00:00:00.000000000",
          "2022-03-01T00:00:00.000000000",
          "2022-04-01T00:00:00.000000000",
          "2022-05-01T00:00:00.000000000",
          "2022-06-01T00:00:00.000000000",
          "2022-07-01T00:00:00.000000000",
          "2022-08-01T00:00:00.000000000",
          "2022-09-01T00:00:00.000000000",
          "2022-10-01T00:00:00.000000000",
          "2022-11-01T00:00:00.000000000",
          "2022-12-01T00:00:00.000000000",
          "2023-01-01T00:00:00.000000000",
          "2023-02-01T00:00:00.000000000",
          "2023-03-01T00:00:00.000000000",
          "2023-04-01T00:00:00.000000000",
          "2023-05-01T00:00:00.000000000",
          "2023-06-01T00:00:00.000000000",
          "2023-07-01T00:00:00.000000000",
          "2023-08-01T00:00:00.000000000",
          "2023-09-01T00:00:00.000000000",
          "2023-10-01T00:00:00.000000000",
          "2023-11-01T00:00:00.000000000",
          "2023-12-01T00:00:00.000000000",
          "2024-01-01T00:00:00.000000000",
          "2024-02-01T00:00:00.000000000",
          "2024-03-01T00:00:00.000000000",
          "2024-04-01T00:00:00.000000000",
          "2024-05-01T00:00:00.000000000",
          "2024-06-01T00:00:00.000000000",
          "2024-07-01T00:00:00.000000000",
          "2024-08-01T00:00:00.000000000",
          "2024-09-01T00:00:00.000000000",
          "2024-10-01T00:00:00.000000000",
          "2024-11-01T00:00:00.000000000",
          "2024-12-01T00:00:00.000000000",
          "2025-01-01T00:00:00.000000000",
          "2025-02-01T00:00:00.000000000",
          "2025-03-01T00:00:00.000000000",
          "2025-04-01T00:00:00.000000000",
          "2025-05-01T00:00:00.000000000",
          "2025-06-01T00:00:00.000000000",
          "2025-07-01T00:00:00.000000000",
          "2025-08-01T00:00:00.000000000",
          "2025-09-01T00:00:00.000000000",
          "2025-10-01T00:00:00.000000000",
          "2025-11-01T00:00:00.000000000",
          "2025-12-01T00:00:00.000000000"
         ],
         "y": {
          "bdata": "iUFg5dAiuz++nxov3STGP7bz/dR46cY/XrpJDAIrxz8OLbKd76fGP57vp8ZLN8k/sp3vp8ZLxz+q8dJNYhDIP7bz/dR46cY/rkfhehSuxz8Sg8DKoUXGPw4tsp3vp8Y/qvHSTWIQyD9OYhBYObTIPz0K16NwPco/8tJNYhBYyT+e76fGSzfJPylcj8L1KMw/nu+nxks3yT+Nl24Sg8DKP57vp8ZLN8k/lkOLbOf7yT/ufD81XrrJP6rx0k1iEMg/3SQGgZVDyz+amZmZmZnJP0oMAiuHFsk/6SYxCKwcyj/y0k1iEFjJPwaBlUOLbMc/XrpJDAIrxz8CK4cW2c7HP7pJDAIrh8Y/XrpJDAIrxz+q8dJNYhDIPxfZzvdT48U/I9v5fmq8xD9iEFg5tMjGPwrXo3A9Csc/hxbZzvdTwz9/arx0kxjEP4cW2c73U8M/L90kBoGVwz+LbOf7qfHCPyuHFtnO98M/TDeJQWDlwD83iUFg5dDCP5MYBFYOLcI/",
          "dtype": "f8"
         }
        },
        {
         "marker": {
          "color": "rgb(242,241,241)"
         },
         "name": "[798.62, 896.40)",
         "type": "bar",
         "x": [
          "2022-01-01T00:00:00.000000000",
          "2022-02-01T00:00:00.000000000",
          "2022-03-01T00:00:00.000000000",
          "2022-04-01T00:00:00.000000000",
          "2022-05-01T00:00:00.000000000",
          "2022-06-01T00:00:00.000000000",
          "2022-07-01T00:00:00.000000000",
          "2022-08-01T00:00:00.000000000",
          "2022-09-01T00:00:00.000000000",
          "2022-10-01T00:00:00.000000000",
          "2022-11-01T00:00:00.000000000",
          "2022-12-01T00:00:00.000000000",
          "2023-01-01T00:00:00.000000000",
          "2023-02-01T00:00:00.000000000",
          "2023-03-01T00:00:00.000000000",
          "2023-04-01T00:00:00.000000000",
          "2023-05-01T00:00:00.000000000",
          "2023-06-01T00:00:00.000000000",
          "2023-07-01T00:00:00.000000000",
          "2023-08-01T00:00:00.000000000",
          "2023-09-01T00:00:00.000000000",
          "2023-10-01T00:00:00.000000000",
          "2023-11-01T00:00:00.000000000",
          "2023-12-01T00:00:00.000000000",
          "2024-01-01T00:00:00.000000000",
          "2024-02-01T00:00:00.000000000",
          "2024-03-01T00:00:00.000000000",
          "2024-04-01T00:00:00.000000000",
          "2024-05-01T00:00:00.000000000",
          "2024-06-01T00:00:00.000000000",
          "2024-07-01T00:00:00.000000000",
          "2024-08-01T00:00:00.000000000",
          "2024-09-01T00:00:00.000000000",
          "2024-10-01T00:00:00.000000000",
          "2024-11-01T00:00:00.000000000",
          "2024-12-01T00:00:00.000000000",
          "2025-01-01T00:00:00.000000000",
          "2025-02-01T00:00:00.000000000",
          "2025-03-01T00:00:00.000000000",
          "2025-04-01T00:00:00.000000000",
          "2025-05-01T00:00:00.000000000",
          "2025-06-01T00:00:00.000000000",
          "2025-07-01T00:00:00.000000000",
          "2025-08-01T00:00:00.000000000",
          "2025-09-01T00:00:00.000000000",
          "2025-10-01T00:00:00.000000000",
          "2025-11-01T00:00:00.000000000",
          "2025-12-01T00:00:00.000000000"
         ],
         "y": {
          "bdata": "46WbxCCw0j/4U+Olm8TQP/7UeOkmMdA/BFYOLbKdzz8UrkfhehTOP2Q730+Nl84/tMh2vp8azz+q8dJNYhDQP6wcWmQ7388/ppvEILBy0D/2KFyPwvXQP5ZDi2zn+9E/exSuR+F61D+BlUOLbOfTPyuHFtnO99M/JzEIrBxa1D8bL90kBoHVP8dLN4lBYNU/wcqhRbbz1T8j2/l+arzUP8/3U+Olm9Q/YhBYObTI1j+4HoXrUbjWP1g5tMh2vtc/sHJoke181z8AAAAAAADYP65H4XoUrtc/Vg4tsp3v1z8CK4cW2c7XP6JFtvP91Ng/6SYxCKwc2j+cxCCwcmjZP/T91HjpJtk/7FG4HoXr2T/+1HjpJjHYP0SLbOf7qdk/ObTIdr6f2j/4U+Olm8TYP1CNl24Sg9g/nu+nxks32T+q8dJNYhDYP0jhehSuR9k/WDm0yHa+1z+wcmiR7XzXP8dLN4lBYNU/XI/C9Shc1z9zaJHtfD/VP7gehetRuNY/",
          "dtype": "f8"
         }
        },
        {
         "marker": {
          "color": "rgb(153,183,205)"
         },
         "name": "[896.40, 950.50)",
         "type": "bar",
         "x": [
          "2022-01-01T00:00:00.000000000",
          "2022-02-01T00:00:00.000000000",
          "2022-03-01T00:00:00.000000000",
          "2022-04-01T00:00:00.000000000",
          "2022-05-01T00:00:00.000000000",
          "2022-06-01T00:00:00.000000000",
          "2022-07-01T00:00:00.000000000",
          "2022-08-01T00:00:00.000000000",
          "2022-09-01T00:00:00.000000000",
          "2022-10-01T00:00:00.000000000",
          "2022-11-01T00:00:00.000000000",
          "2022-12-01T00:00:00.000000000",
          "2023-01-01T00:00:00.000000000",
          "2023-02-01T00:00:00.000000000",
          "2023-03-01T00:00:00.000000000",
          "2023-04-01T00:00:00.000000000",
          "2023-05-01T00:00:00.000000000",
          "2023-06-01T00:00:00.000000000",
          "2023-07-01T00:00:00.000000000",
          "2023-08-01T00:00:00.000000000",
          "2023-09-01T00:00:00.000000000",
          "2023-10-01T00:00:00.000000000",
          "2023-11-01T00:00:00.000000000",
          "2023-12-01T00:00:00.000000000",
          "2024-01-01T00:00:00.000000000",
          "2024-02-01T00:00:00.000000000",
          "2024-03-01T00:00:00.000000000",
          "2024-04-01T00:00:00.000000000",
          "2024-05-01T00:00:00.000000000",
          "2024-06-01T00:00:00.000000000",
          "2024-07-01T00:00:00.000000000",
          "2024-08-01T00:00:00.000000000",
          "2024-09-01T00:00:00.000000000",
          "2024-10-01T00:00:00.000000000",
          "2024-11-01T00:00:00.000000000",
          "2024-12-01T00:00:00.000000000",
          "2025-01-01T00:00:00.000000000",
          "2025-02-01T00:00:00.000000000",
          "2025-03-01T00:00:00.000000000",
          "2025-04-01T00:00:00.000000000",
          "2025-05-01T00:00:00.000000000",
          "2025-06-01T00:00:00.000000000",
          "2025-07-01T00:00:00.000000000",
          "2025-08-01T00:00:00.000000000",
          "2025-09-01T00:00:00.000000000",
          "2025-10-01T00:00:00.000000000",
          "2025-11-01T00:00:00.000000000",
          "2025-12-01T00:00:00.000000000"
         ],
         "y": {
          "bdata": "arx0kxgE1j8j2/l+arzUPycxCKwcWtQ/Gy/dJAaB1T8j2/l+arzUPy2yne+nxtM/L90kBoGV0z+Nl24Sg8DSP5ZDi2zn+9E/5/up8dJN0j8zMzMzMzPTP+Olm8QgsNI/RIts5/up0T+JQWDl0CLTP0Jg5dAi29E/30+Nl24S0z/hehSuR+HSP/LSTWIQWNE/PzVeukkM0j+PwvUoXI/SP90kBoGVQ9M/QmDl0CLb0T/sUbgehevRP+F6FK5H4dI/kxgEVg4t0j85tMh2vp/SPzMzMzMzM9M/30+Nl24S0z/Xo3A9CtfTPy/dJAaBldM/jZduEoPA0j/dJAaBlUPTP3sUrkfhetQ/eekmMQis1D9xPQrXo3DVP8uhRbbz/dQ/I9v5fmq81D8j2/l+arzUP8/3U+Olm9Q/eekmMQis1D/HSzeJQWDVPylcj8L1KNQ/JzEIrBxa1D8lBoGVQ4vUP8uhRbbz/dQ/KVyPwvUo1D/NzMzMzMzUPyPb+X5qvNQ/",
          "dtype": "f8"
         }
        },
        {
         "marker": {
          "color": "rgb(65,124,167)"
         },
         "name": "[950.50, inf)",
         "type": "bar",
         "x": [
          "2022-01-01T00:00:00.000000000",
          "2022-02-01T00:00:00.000000000",
          "2022-03-01T00:00:00.000000000",
          "2022-04-01T00:00:00.000000000",
          "2022-05-01T00:00:00.000000000",
          "2022-06-01T00:00:00.000000000",
          "2022-07-01T00:00:00.000000000",
          "2022-08-01T00:00:00.000000000",
          "2022-09-01T00:00:00.000000000",
          "2022-10-01T00:00:00.000000000",
          "2022-11-01T00:00:00.000000000",
          "2022-12-01T00:00:00.000000000",
          "2023-01-01T00:00:00.000000000",
          "2023-02-01T00:00:00.000000000",
          "2023-03-01T00:00:00.000000000",
          "2023-04-01T00:00:00.000000000",
          "2023-05-01T00:00:00.000000000",
          "2023-06-01T00:00:00.000000000",
          "2023-07-01T00:00:00.000000000",
          "2023-08-01T00:00:00.000000000",
          "2023-09-01T00:00:00.000000000",
          "2023-10-01T00:00:00.000000000",
          "2023-11-01T00:00:00.000000000",
          "2023-12-01T00:00:00.000000000",
          "2024-01-01T00:00:00.000000000",
          "2024-02-01T00:00:00.000000000",
          "2024-03-01T00:00:00.000000000",
          "2024-04-01T00:00:00.000000000",
          "2024-05-01T00:00:00.000000000",
          "2024-06-01T00:00:00.000000000",
          "2024-07-01T00:00:00.000000000",
          "2024-08-01T00:00:00.000000000",
          "2024-09-01T00:00:00.000000000",
          "2024-10-01T00:00:00.000000000",
          "2024-11-01T00:00:00.000000000",
          "2024-12-01T00:00:00.000000000",
          "2025-01-01T00:00:00.000000000",
          "2025-02-01T00:00:00.000000000",
          "2025-03-01T00:00:00.000000000",
          "2025-04-01T00:00:00.000000000",
          "2025-05-01T00:00:00.000000000",
          "2025-06-01T00:00:00.000000000",
          "2025-07-01T00:00:00.000000000",
          "2025-08-01T00:00:00.000000000",
          "2025-09-01T00:00:00.000000000",
          "2025-10-01T00:00:00.000000000",
          "2025-11-01T00:00:00.000000000",
          "2025-12-01T00:00:00.000000000"
         ],
         "y": {
          "bdata": "bxKDwMqhxT8nMQisHFrEP3Noke18P8U/j8L1KFyPwj8j2/l+arzEP2q8dJMYBMY/vp8aL90kxj+6SQwCK4fGP1K4HoXrUcg/F9nO91PjxT9zaJHtfD/FP3e+nxov3cQ/kxgEVg4twj9U46WbxCDAP0w3iUFg5cA/IbByaJHtvD/pJjEIrBy6P3E9CtejcL0/8tJNYhBYuT8xCKwcWmS7P+kmMQisHLo/SgwCK4cWuT/y0k1iEFi5P8P1KFyPwrU/EoPAyqFFtj8rhxbZzvezP9NNYhBYObQ/RIts5/upsT9Ei2zn+6mxP+xRuB6F67E/RIts5/upsT+DwMqhRbazP+xRuB6F67E/TDeJQWDlsD9MN4lBYOWwPzvfT42XbrI/9P3UeOkmsT97FK5H4Xq0P2q8dJMYBLY/okW28/3UuD/pJjEIrBy6P0Jg5dAi27k/WDm0yHa+vz+wcmiR7Xy/PzvfT42XbsI/2/l+arx0wz8rhxbZzvfDP+Olm8QgsMI/",
          "dtype": "f8"
         }
        }
       ],
       "layout": {
        "barmode": "stack",
        "template": {
         "data": {
          "bar": [
           {
            "error_x": {
             "color": "#2a3f5f"
            },
            "error_y": {
             "color": "#2a3f5f"
            },
            "marker": {
             "line": {
              "color": "white",
              "width": 0.5
             },
             "pattern": {
              "fillmode": "overlay",
              "size": 10,
              "solidity": 0.2
             }
            },
            "type": "bar"
           }
          ],
          "barpolar": [
           {
            "marker": {
             "line": {
              "color": "white",
              "width": 0.5
             },
             "pattern": {
              "fillmode": "overlay",
              "size": 10,
              "solidity": 0.2
             }
            },
            "type": "barpolar"
           }
          ],
          "carpet": [
           {
            "aaxis": {
             "endlinecolor": "#2a3f5f",
             "gridcolor": "#C8D4E3",
             "linecolor": "#C8D4E3",
             "minorgridcolor": "#C8D4E3",
             "startlinecolor": "#2a3f5f"
            },
            "baxis": {
             "endlinecolor": "#2a3f5f",
             "gridcolor": "#C8D4E3",
             "linecolor": "#C8D4E3",
             "minorgridcolor": "#C8D4E3",
             "startlinecolor": "#2a3f5f"
            },
            "type": "carpet"
           }
          ],
          "choropleth": [
           {
            "colorbar": {
             "outlinewidth": 0,
             "ticks": ""
            },
            "type": "choropleth"
           }
          ],
          "contour": [
           {
            "colorbar": {
             "outlinewidth": 0,
             "ticks": ""
            },
            "colorscale": [
             [
              0,
              "#0d0887"
             ],
             [
              0.1111111111111111,
              "#46039f"
             ],
             [
              0.2222222222222222,
              "#7201a8"
             ],
             [
              0.3333333333333333,
              "#9c179e"
             ],
             [
              0.4444444444444444,
              "#bd3786"
             ],
             [
              0.5555555555555556,
              "#d8576b"
             ],
             [
              0.6666666666666666,
              "#ed7953"
             ],
             [
              0.7777777777777778,
              "#fb9f3a"
             ],
             [
              0.8888888888888888,
              "#fdca26"
             ],
             [
              1,
              "#f0f921"
             ]
            ],
            "type": "contour"
           }
          ],
          "contourcarpet": [
           {
            "colorbar": {
             "outlinewidth": 0,
             "ticks": ""
            },
            "type": "contourcarpet"
           }
          ],
          "heatmap": [
           {
            "colorbar": {
             "outlinewidth": 0,
             "ticks": ""
            },
            "colorscale": [
             [
              0,
              "#0d0887"
             ],
             [
              0.1111111111111111,
              "#46039f"
             ],
             [
              0.2222222222222222,
              "#7201a8"
             ],
             [
              0.3333333333333333,
              "#9c179e"
             ],
             [
              0.4444444444444444,
              "#bd3786"
             ],
             [
              0.5555555555555556,
              "#d8576b"
             ],
             [
              0.6666666666666666,
              "#ed7953"
             ],
             [
              0.7777777777777778,
              "#fb9f3a"
             ],
             [
              0.8888888888888888,
              "#fdca26"
             ],
             [
              1,
              "#f0f921"
             ]
            ],
            "type": "heatmap"
           }
          ],
          "histogram": [
           {
            "marker": {
             "pattern": {
              "fillmode": "overlay",
              "size": 10,
              "solidity": 0.2
             }
            },
            "type": "histogram"
           }
          ],
          "histogram2d": [
           {
            "colorbar": {
             "outlinewidth": 0,
             "ticks": ""
            },
            "colorscale": [
             [
              0,
              "#0d0887"
             ],
             [
              0.1111111111111111,
              "#46039f"
             ],
             [
              0.2222222222222222,
              "#7201a8"
             ],
             [
              0.3333333333333333,
              "#9c179e"
             ],
             [
              0.4444444444444444,
              "#bd3786"
             ],
             [
              0.5555555555555556,
              "#d8576b"
             ],
             [
              0.6666666666666666,
              "#ed7953"
             ],
             [
              0.7777777777777778,
              "#fb9f3a"
             ],
             [
              0.8888888888888888,
              "#fdca26"
             ],
             [
              1,
              "#f0f921"
             ]
            ],
            "type": "histogram2d"
           }
          ],
          "histogram2dcontour": [
           {
            "colorbar": {
             "outlinewidth": 0,
             "ticks": ""
            },
            "colorscale": [
             [
              0,
              "#0d0887"
             ],
             [
              0.1111111111111111,
              "#46039f"
             ],
             [
              0.2222222222222222,
              "#7201a8"
             ],
             [
              0.3333333333333333,
              "#9c179e"
             ],
             [
              0.4444444444444444,
              "#bd3786"
             ],
             [
              0.5555555555555556,
              "#d8576b"
             ],
             [
              0.6666666666666666,
              "#ed7953"
             ],
             [
              0.7777777777777778,
              "#fb9f3a"
             ],
             [
              0.8888888888888888,
              "#fdca26"
             ],
             [
              1,
              "#f0f921"
             ]
            ],
            "type": "histogram2dcontour"
           }
          ],
          "mesh3d": [
           {
            "colorbar": {
             "outlinewidth": 0,
             "ticks": ""
            },
            "type": "mesh3d"
           }
          ],
          "parcoords": [
           {
            "line": {
             "colorbar": {
              "outlinewidth": 0,
              "ticks": ""
             }
            },
            "type": "parcoords"
           }
          ],
          "pie": [
           {
            "automargin": true,
            "type": "pie"
           }
          ],
          "scatter": [
           {
            "fillpattern": {
             "fillmode": "overlay",
             "size": 10,
             "solidity": 0.2
            },
            "type": "scatter"
           }
          ],
          "scatter3d": [
           {
            "line": {
             "colorbar": {
              "outlinewidth": 0,
              "ticks": ""
             }
            },
            "marker": {
             "colorbar": {
              "outlinewidth": 0,
              "ticks": ""
             }
            },
            "type": "scatter3d"
           }
          ],
          "scattercarpet": [
           {
            "marker": {
             "colorbar": {
              "outlinewidth": 0,
              "ticks": ""
             }
            },
            "type": "scattercarpet"
           }
          ],
          "scattergeo": [
           {
            "marker": {
             "colorbar": {
              "outlinewidth": 0,
              "ticks": ""
             }
            },
            "type": "scattergeo"
           }
          ],
          "scattergl": [
           {
            "marker": {
             "colorbar": {
              "outlinewidth": 0,
              "ticks": ""
             }
            },
            "type": "scattergl"
           }
          ],
          "scattermap": [
           {
            "marker": {
             "colorbar": {
              "outlinewidth": 0,
              "ticks": ""
             }
            },
            "type": "scattermap"
           }
          ],
          "scattermapbox": [
           {
            "marker": {
             "colorbar": {
              "outlinewidth": 0,
              "ticks": ""
             }
            },
            "type": "scattermapbox"
           }
          ],
          "scatterpolar": [
           {
            "marker": {
             "colorbar": {
              "outlinewidth": 0,
              "ticks": ""
             }
            },
            "type": "scatterpolar"
           }
          ],
          "scatterpolargl": [
           {
            "marker": {
             "colorbar": {
              "outlinewidth": 0,
              "ticks": ""
             }
            },
            "type": "scatterpolargl"
           }
          ],
          "scatterternary": [
           {
            "marker": {
             "colorbar": {
              "outlinewidth": 0,
              "ticks": ""
             }
            },
            "type": "scatterternary"
           }
          ],
          "surface": [
           {
            "colorbar": {
             "outlinewidth": 0,
             "ticks": ""
            },
            "colorscale": [
             [
              0,
              "#0d0887"
             ],
             [
              0.1111111111111111,
              "#46039f"
             ],
             [
              0.2222222222222222,
              "#7201a8"
             ],
             [
              0.3333333333333333,
              "#9c179e"
             ],
             [
              0.4444444444444444,
              "#bd3786"
             ],
             [
              0.5555555555555556,
              "#d8576b"
             ],
             [
              0.6666666666666666,
              "#ed7953"
             ],
             [
              0.7777777777777778,
              "#fb9f3a"
             ],
             [
              0.8888888888888888,
              "#fdca26"
             ],
             [
              1,
              "#f0f921"
             ]
            ],
            "type": "surface"
           }
          ],
          "table": [
           {
            "cells": {
             "fill": {
              "color": "#EBF0F8"
             },
             "line": {
              "color": "white"
             }
            },
            "header": {
             "fill": {
              "color": "#C8D4E3"
             },
             "line": {
              "color": "white"
             }
            },
            "type": "table"
           }
          ]
         },
         "layout": {
          "annotationdefaults": {
           "arrowcolor": "#2a3f5f",
           "arrowhead": 0,
           "arrowwidth": 1
          },
          "autotypenumbers": "strict",
          "coloraxis": {
           "colorbar": {
            "outlinewidth": 0,
            "ticks": ""
           }
          },
          "colorscale": {
           "diverging": [
            [
             0,
             "#8e0152"
            ],
            [
             0.1,
             "#c51b7d"
            ],
            [
             0.2,
             "#de77ae"
            ],
            [
             0.3,
             "#f1b6da"
            ],
            [
             0.4,
             "#fde0ef"
            ],
            [
             0.5,
             "#f7f7f7"
            ],
            [
             0.6,
             "#e6f5d0"
            ],
            [
             0.7,
             "#b8e186"
            ],
            [
             0.8,
             "#7fbc41"
            ],
            [
             0.9,
             "#4d9221"
            ],
            [
             1,
             "#276419"
            ]
           ],
           "sequential": [
            [
             0,
             "#0d0887"
            ],
            [
             0.1111111111111111,
             "#46039f"
            ],
            [
             0.2222222222222222,
             "#7201a8"
            ],
            [
             0.3333333333333333,
             "#9c179e"
            ],
            [
             0.4444444444444444,
             "#bd3786"
            ],
            [
             0.5555555555555556,
             "#d8576b"
            ],
            [
             0.6666666666666666,
             "#ed7953"
            ],
            [
             0.7777777777777778,
             "#fb9f3a"
            ],
            [
             0.8888888888888888,
             "#fdca26"
            ],
            [
             1,
             "#f0f921"
            ]
           ],
           "sequentialminus": [
            [
             0,
             "#0d0887"
            ],
            [
             0.1111111111111111,
             "#46039f"
            ],
            [
             0.2222222222222222,
             "#7201a8"
            ],
            [
             0.3333333333333333,
             "#9c179e"
            ],
            [
             0.4444444444444444,
             "#bd3786"
            ],
            [
             0.5555555555555556,
             "#d8576b"
            ],
            [
             0.6666666666666666,
             "#ed7953"
            ],
            [
             0.7777777777777778,
             "#fb9f3a"
            ],
            [
             0.8888888888888888,
             "#fdca26"
            ],
            [
             1,
             "#f0f921"
            ]
           ]
          },
          "colorway": [
           "#636efa",
           "#EF553B",
           "#00cc96",
           "#ab63fa",
           "#FFA15A",
           "#19d3f3",
           "#FF6692",
           "#B6E880",
           "#FF97FF",
           "#FECB52"
          ],
          "font": {
           "color": "#2a3f5f"
          },
          "geo": {
           "bgcolor": "white",
           "lakecolor": "white",
           "landcolor": "white",
           "showlakes": true,
           "showland": true,
           "subunitcolor": "#C8D4E3"
          },
          "hoverlabel": {
           "align": "left"
          },
          "hovermode": "closest",
          "mapbox": {
           "style": "light"
          },
          "paper_bgcolor": "white",
          "plot_bgcolor": "white",
          "polar": {
           "angularaxis": {
            "gridcolor": "#EBF0F8",
            "linecolor": "#EBF0F8",
            "ticks": ""
           },
           "bgcolor": "white",
           "radialaxis": {
            "gridcolor": "#EBF0F8",
            "linecolor": "#EBF0F8",
            "ticks": ""
           }
          },
          "scene": {
           "xaxis": {
            "backgroundcolor": "white",
            "gridcolor": "#DFE8F3",
            "gridwidth": 2,
            "linecolor": "#EBF0F8",
            "showbackground": true,
            "ticks": "",
            "zerolinecolor": "#EBF0F8"
           },
           "yaxis": {
            "backgroundcolor": "white",
            "gridcolor": "#DFE8F3",
            "gridwidth": 2,
            "linecolor": "#EBF0F8",
            "showbackground": true,
            "ticks": "",
            "zerolinecolor": "#EBF0F8"
           },
           "zaxis": {
            "backgroundcolor": "white",
            "gridcolor": "#DFE8F3",
            "gridwidth": 2,
            "linecolor": "#EBF0F8",
            "showbackground": true,
            "ticks": "",
            "zerolinecolor": "#EBF0F8"
           }
          },
          "shapedefaults": {
           "line": {
            "color": "#2a3f5f"
           }
          },
          "ternary": {
           "aaxis": {
            "gridcolor": "#DFE8F3",
            "linecolor": "#A2B1C6",
            "ticks": ""
           },
           "baxis": {
            "gridcolor": "#DFE8F3",
            "linecolor": "#A2B1C6",
            "ticks": ""
           },
           "bgcolor": "white",
           "caxis": {
            "gridcolor": "#DFE8F3",
            "linecolor": "#A2B1C6",
            "ticks": ""
           }
          },
          "title": {
           "x": 0.05
          },
          "xaxis": {
           "automargin": true,
           "gridcolor": "#EBF0F8",
           "linecolor": "#EBF0F8",
           "ticks": "",
           "title": {
            "standoff": 15
           },
           "zerolinecolor": "#EBF0F8",
           "zerolinewidth": 2
          },
          "yaxis": {
           "automargin": true,
           "gridcolor": "#EBF0F8",
           "linecolor": "#EBF0F8",
           "ticks": "",
           "title": {
            "standoff": 15
           },
           "zerolinecolor": "#EBF0F8",
           "zerolinewidth": 2
          }
         }
        },
        "title": {
         "text": "Group Share over Time"
        },
        "xaxis": {
         "title": {
          "text": "ref_date"
         }
        },
        "yaxis": {
         "tickformat": ".0%",
         "title": {
          "text": "Group share"
         }
        }
       }
      }
     },
     "metadata": {},
     "output_type": "display_data"
    },
    {
     "name": "stdout",
     "output_type": "stream",
     "text": [
      "\n",
      "🚀 Treinando modelo: LightGBM\n",
      "📊 Avaliando modelo: LightGBM\n"
     ]
    },
    {
     "data": {
      "application/vnd.plotly.v1+json": {
       "config": {
        "plotlyServerURL": "https://plot.ly"
       },
       "data": [
        {
         "line": {
          "color": "rgb(217,58,70)"
         },
         "mode": "lines+markers",
         "name": "(-inf, 320.18)",
         "type": "scatter",
         "x": [
          "2022-01-01T00:00:00.000000000",
          "2022-02-01T00:00:00.000000000",
          "2022-03-01T00:00:00.000000000",
          "2022-04-01T00:00:00.000000000",
          "2022-05-01T00:00:00.000000000",
          "2022-06-01T00:00:00.000000000",
          "2022-07-01T00:00:00.000000000",
          "2022-08-01T00:00:00.000000000",
          "2022-09-01T00:00:00.000000000",
          "2022-10-01T00:00:00.000000000",
          "2022-11-01T00:00:00.000000000",
          "2022-12-01T00:00:00.000000000",
          "2023-01-01T00:00:00.000000000",
          "2023-02-01T00:00:00.000000000",
          "2023-03-01T00:00:00.000000000",
          "2023-04-01T00:00:00.000000000",
          "2023-05-01T00:00:00.000000000",
          "2023-06-01T00:00:00.000000000",
          "2023-07-01T00:00:00.000000000",
          "2023-08-01T00:00:00.000000000",
          "2023-09-01T00:00:00.000000000",
          "2023-10-01T00:00:00.000000000",
          "2023-11-01T00:00:00.000000000",
          "2023-12-01T00:00:00.000000000",
          "2024-01-01T00:00:00.000000000",
          "2024-02-01T00:00:00.000000000",
          "2024-03-01T00:00:00.000000000",
          "2024-04-01T00:00:00.000000000",
          "2024-05-01T00:00:00.000000000",
          "2024-06-01T00:00:00.000000000",
          "2024-07-01T00:00:00.000000000",
          "2024-08-01T00:00:00.000000000",
          "2024-09-01T00:00:00.000000000",
          "2024-10-01T00:00:00.000000000",
          "2024-11-01T00:00:00.000000000",
          "2024-12-01T00:00:00.000000000",
          "2025-01-01T00:00:00.000000000",
          "2025-02-01T00:00:00.000000000",
          "2025-03-01T00:00:00.000000000",
          "2025-04-01T00:00:00.000000000",
          "2025-05-01T00:00:00.000000000",
          "2025-06-01T00:00:00.000000000",
          "2025-07-01T00:00:00.000000000",
          "2025-08-01T00:00:00.000000000",
          "2025-09-01T00:00:00.000000000",
          "2025-10-01T00:00:00.000000000",
          "2025-11-01T00:00:00.000000000",
          "2025-12-01T00:00:00.000000000"
         ],
         "y": {
          "bdata": "AAAAAAAA8D84rH3D2jfsP3d3d3d3d+c/AAAAAACA5D+IAx5/OODhPy+66KKLLuI/NfxtilHD3z9yHMdxHMfdP2NI5y2GdN4/Lt/yLd/y3T+qeK5ZHUbZP6iDOqiDOtg/27Zt27Zt2z9XBA0ndV/eP/jee++9994/NSbSA5Wz2z+pXYnalajdP5O2pC1pS9o/iZ9R4meU2D9mZmZmZmbWPzE2C6o9J9M/pORZRvQB1T9LpVKpVCrVP18eWxE0nNQ/doMp8lk32D+q8dJNYhDYPwJxoeYkENc/+602hqY72D+amZmZmZnZP65H4XoUrtc/JUmSJEmS1D9vetOb3vTWP2RqYO+YGtg/TxvotIFO2z/kOI7jOI7bPy+66KKLLto/24G5dmCu3T8XXXTRRRfdPwRz7cBcO+A/Hh4eHh4e3j/44IMPPvjgP+sGU+SzbuA/mCKfdYMp4j+lSZMmTZrkP7ETO7ETO+E/ERERERER4T9zTyMs9zTiP0GeEuQpQd4/",
          "dtype": "f8"
         }
        },
        {
         "line": {
          "color": "rgb(230,148,154)"
         },
         "mode": "lines+markers",
         "name": "[320.18, 489.44)",
         "type": "scatter",
         "x": [
          "2022-01-01T00:00:00.000000000",
          "2022-02-01T00:00:00.000000000",
          "2022-03-01T00:00:00.000000000",
          "2022-04-01T00:00:00.000000000",
          "2022-05-01T00:00:00.000000000",
          "2022-06-01T00:00:00.000000000",
          "2022-07-01T00:00:00.000000000",
          "2022-08-01T00:00:00.000000000",
          "2022-09-01T00:00:00.000000000",
          "2022-10-01T00:00:00.000000000",
          "2022-11-01T00:00:00.000000000",
          "2022-12-01T00:00:00.000000000",
          "2023-01-01T00:00:00.000000000",
          "2023-02-01T00:00:00.000000000",
          "2023-03-01T00:00:00.000000000",
          "2023-04-01T00:00:00.000000000",
          "2023-05-01T00:00:00.000000000",
          "2023-06-01T00:00:00.000000000",
          "2023-07-01T00:00:00.000000000",
          "2023-08-01T00:00:00.000000000",
          "2023-09-01T00:00:00.000000000",
          "2023-10-01T00:00:00.000000000",
          "2023-11-01T00:00:00.000000000",
          "2023-12-01T00:00:00.000000000",
          "2024-01-01T00:00:00.000000000",
          "2024-02-01T00:00:00.000000000",
          "2024-03-01T00:00:00.000000000",
          "2024-04-01T00:00:00.000000000",
          "2024-05-01T00:00:00.000000000",
          "2024-06-01T00:00:00.000000000",
          "2024-07-01T00:00:00.000000000",
          "2024-08-01T00:00:00.000000000",
          "2024-09-01T00:00:00.000000000",
          "2024-10-01T00:00:00.000000000",
          "2024-11-01T00:00:00.000000000",
          "2024-12-01T00:00:00.000000000",
          "2025-01-01T00:00:00.000000000",
          "2025-02-01T00:00:00.000000000",
          "2025-03-01T00:00:00.000000000",
          "2025-04-01T00:00:00.000000000",
          "2025-05-01T00:00:00.000000000",
          "2025-06-01T00:00:00.000000000",
          "2025-07-01T00:00:00.000000000",
          "2025-08-01T00:00:00.000000000",
          "2025-09-01T00:00:00.000000000",
          "2025-10-01T00:00:00.000000000",
          "2025-11-01T00:00:00.000000000",
          "2025-12-01T00:00:00.000000000"
         ],
         "y": {
          "bdata": "AkeKhvjj1j+96U1vetPLPzDncenbX8k/MZ3FdBbTyT/Uy0ishovPPz6NsNzTCMs//2h/tD/azz/sxE7sxE7MP+wYxbmOUcw/aj9ZApv2wz9nt/CrMZHOP5ZGj6gg29A/q6qqqqqqyj8cx3Ecx3HMPzdMcxf8Vcw/uMJph30rzD+WaZZplmnGPzPUKowQ2cc/pXPZDFE6xz//qnEv8K/KP/y+7/u+78s/n9+fioPWzD+bmpqamprKP4tKJF9T78w/xOUmzwHazT9xR9wRd8TNP7gehetRuM4/px9q+qGmzz+d3cKvxkTKP4ZzN7SJf84/KBQKhUKh0D+/7/u+7/vOPxv823Kmw9E/JCrINgQUzz9Dd+xqWHrRP9TT09PT09M/lVJKKaWU0j/eScProzbSP6tnh8CNZdA/Ke1GQEq70T/SggTU7HrRP3kN5TWU19A/bS4darA70z9HNevP4DfRPxZf8RVf8dU/exSuR+F61D8AAAAAAADVP2ELtmALttA/",
          "dtype": "f8"
         }
        },
        {
         "line": {
          "color": "rgb(242,241,241)"
         },
         "mode": "lines+markers",
         "name": "[489.44, 666.66)",
         "type": "scatter",
         "x": [
          "2022-01-01T00:00:00.000000000",
          "2022-02-01T00:00:00.000000000",
          "2022-03-01T00:00:00.000000000",
          "2022-04-01T00:00:00.000000000",
          "2022-05-01T00:00:00.000000000",
          "2022-06-01T00:00:00.000000000",
          "2022-07-01T00:00:00.000000000",
          "2022-08-01T00:00:00.000000000",
          "2022-09-01T00:00:00.000000000",
          "2022-10-01T00:00:00.000000000",
          "2022-11-01T00:00:00.000000000",
          "2022-12-01T00:00:00.000000000",
          "2023-01-01T00:00:00.000000000",
          "2023-02-01T00:00:00.000000000",
          "2023-03-01T00:00:00.000000000",
          "2023-04-01T00:00:00.000000000",
          "2023-05-01T00:00:00.000000000",
          "2023-06-01T00:00:00.000000000",
          "2023-07-01T00:00:00.000000000",
          "2023-08-01T00:00:00.000000000",
          "2023-09-01T00:00:00.000000000",
          "2023-10-01T00:00:00.000000000",
          "2023-11-01T00:00:00.000000000",
          "2023-12-01T00:00:00.000000000",
          "2024-01-01T00:00:00.000000000",
          "2024-02-01T00:00:00.000000000",
          "2024-03-01T00:00:00.000000000",
          "2024-04-01T00:00:00.000000000",
          "2024-05-01T00:00:00.000000000",
          "2024-06-01T00:00:00.000000000",
          "2024-07-01T00:00:00.000000000",
          "2024-08-01T00:00:00.000000000",
          "2024-09-01T00:00:00.000000000",
          "2024-10-01T00:00:00.000000000",
          "2024-11-01T00:00:00.000000000",
          "2024-12-01T00:00:00.000000000",
          "2025-01-01T00:00:00.000000000",
          "2025-02-01T00:00:00.000000000",
          "2025-03-01T00:00:00.000000000",
          "2025-04-01T00:00:00.000000000",
          "2025-05-01T00:00:00.000000000",
          "2025-06-01T00:00:00.000000000",
          "2025-07-01T00:00:00.000000000",
          "2025-08-01T00:00:00.000000000",
          "2025-09-01T00:00:00.000000000",
          "2025-10-01T00:00:00.000000000",
          "2025-11-01T00:00:00.000000000",
          "2025-12-01T00:00:00.000000000"
         ],
         "y": {
          "bdata": "GHqhF3qhhz/6GJyPwfmIP04CcaHmJLA/pmbD/i4GtT86i+ksprOoP27btm3btrU/SvWVzM+iuD9TxuxOGl6/P/6FT2UpDrk/O80KDl9IwT8cx3Ecx3G8P2gvob2E9rI/mpmZmZmZuT8TExMTExOzPxd+NSbSA7U/UCSc0rz4sz9+87Q9cq3APxvKayivobw/C1nIQhaywD8bK2WPf0W7PxIkvUMxmME/su8ROUG4uz9hHxf2cWG/P2ZmZmZmZr4/Xi1uwvyutj/VkAESTw25P6AcxYcqLLo/uZLAvCd0uD/I4HwMzsfAPx9yWTFQwrs/qV2J2pWovT8DF7jABS7AP5S6L4+tCLo/+N577733vj+Uui+PrQi6P6CkggFKKrg/OY7jOI7juD+DrhENK+i6PxsbGxsbG7s/Wi9gm9NVvj8AAAAAAADAP7TflOcSyLo/V+HLDTEgvT9XRvo+S8TAPx/v8R7v8b4/k/OyiE8gxT9FE0000UTDPwAAAAAAAMg/",
          "dtype": "f8"
         }
        },
        {
         "line": {
          "color": "rgb(153,183,205)"
         },
         "mode": "lines+markers",
         "name": "[666.66, 763.85)",
         "type": "scatter",
         "x": [
          "2022-01-01T00:00:00.000000000",
          "2022-02-01T00:00:00.000000000",
          "2022-03-01T00:00:00.000000000",
          "2022-04-01T00:00:00.000000000",
          "2022-05-01T00:00:00.000000000",
          "2022-06-01T00:00:00.000000000",
          "2022-07-01T00:00:00.000000000",
          "2022-08-01T00:00:00.000000000",
          "2022-09-01T00:00:00.000000000",
          "2022-10-01T00:00:00.000000000",
          "2022-11-01T00:00:00.000000000",
          "2022-12-01T00:00:00.000000000",
          "2023-01-01T00:00:00.000000000",
          "2023-02-01T00:00:00.000000000",
          "2023-03-01T00:00:00.000000000",
          "2023-04-01T00:00:00.000000000",
          "2023-05-01T00:00:00.000000000",
          "2023-06-01T00:00:00.000000000",
          "2023-07-01T00:00:00.000000000",
          "2023-08-01T00:00:00.000000000",
          "2023-09-01T00:00:00.000000000",
          "2023-10-01T00:00:00.000000000",
          "2023-11-01T00:00:00.000000000",
          "2023-12-01T00:00:00.000000000",
          "2024-01-01T00:00:00.000000000",
          "2024-02-01T00:00:00.000000000",
          "2024-03-01T00:00:00.000000000",
          "2024-04-01T00:00:00.000000000",
          "2024-05-01T00:00:00.000000000",
          "2024-06-01T00:00:00.000000000",
          "2024-07-01T00:00:00.000000000",
          "2024-08-01T00:00:00.000000000",
          "2024-09-01T00:00:00.000000000",
          "2024-10-01T00:00:00.000000000",
          "2024-11-01T00:00:00.000000000",
          "2024-12-01T00:00:00.000000000",
          "2025-01-01T00:00:00.000000000",
          "2025-02-01T00:00:00.000000000",
          "2025-03-01T00:00:00.000000000",
          "2025-04-01T00:00:00.000000000",
          "2025-05-01T00:00:00.000000000",
          "2025-06-01T00:00:00.000000000",
          "2025-07-01T00:00:00.000000000",
          "2025-08-01T00:00:00.000000000",
          "2025-09-01T00:00:00.000000000",
          "2025-10-01T00:00:00.000000000",
          "2025-11-01T00:00:00.000000000",
          "2025-12-01T00:00:00.000000000"
         ],
         "y": {
          "bdata": "hx/VJWYtlD+rqqqqqqqaPxVQARVQAYU/GYnVcPFDmD/HN0Nr9+GWP0B/Af0F9Jc/xzdDa/fhlj8AAAAAAACgP4jQQ+gh9KA/ZmZmZmZmpj/g6db8sEipP4U3mjq/9rA/qjTk3GcXsD8XXXTRRRetPzR1fu0hl6U/lPBGU+fXrj/jJszvanGjPxK9ZxK9Z7I/Akt6+dMWqj9YpAw83ZqvPxsbGxsbG6s/0hMcPcHRsz80dX7tIZe1P8Ps4Agirac/QDqWMgl2pT9yuAz45HCpPzRPqAWMSaw/lG5fWb1Lrj/QusEU+aybP5ByU9E8oaY/hBBCCCGEoD9VVVVVVVWlP3AfwX0E96E/NE+oBYxJrD/UH7GAO/2xP1VVVVVVVaU/HMIhHMIhrD8LWchCFrKwP1VVVVVVVbE/EARBEARBsD9FE0000USjP1VVVVVVVbU/qvNrD7msqD/4NSEoe1+jPxQ7sRM7saM/RRNNNNFEoz80T6gFjEmcPxDfQXwH8a0/",
          "dtype": "f8"
         }
        },
        {
         "line": {
          "color": "rgb(65,124,167)"
         },
         "mode": "lines+markers",
         "name": "[763.85, inf)",
         "type": "scatter",
         "x": [
          "2022-01-01T00:00:00.000000000",
          "2022-02-01T00:00:00.000000000",
          "2022-03-01T00:00:00.000000000",
          "2022-04-01T00:00:00.000000000",
          "2022-05-01T00:00:00.000000000",
          "2022-06-01T00:00:00.000000000",
          "2022-07-01T00:00:00.000000000",
          "2022-08-01T00:00:00.000000000",
          "2022-09-01T00:00:00.000000000",
          "2022-10-01T00:00:00.000000000",
          "2022-11-01T00:00:00.000000000",
          "2022-12-01T00:00:00.000000000",
          "2023-01-01T00:00:00.000000000",
          "2023-02-01T00:00:00.000000000",
          "2023-03-01T00:00:00.000000000",
          "2023-04-01T00:00:00.000000000",
          "2023-05-01T00:00:00.000000000",
          "2023-06-01T00:00:00.000000000",
          "2023-07-01T00:00:00.000000000",
          "2023-08-01T00:00:00.000000000",
          "2023-09-01T00:00:00.000000000",
          "2023-10-01T00:00:00.000000000",
          "2023-11-01T00:00:00.000000000",
          "2023-12-01T00:00:00.000000000",
          "2024-01-01T00:00:00.000000000",
          "2024-02-01T00:00:00.000000000",
          "2024-03-01T00:00:00.000000000",
          "2024-04-01T00:00:00.000000000",
          "2024-05-01T00:00:00.000000000",
          "2024-06-01T00:00:00.000000000",
          "2024-07-01T00:00:00.000000000",
          "2024-08-01T00:00:00.000000000",
          "2024-09-01T00:00:00.000000000",
          "2024-10-01T00:00:00.000000000",
          "2024-11-01T00:00:00.000000000",
          "2024-12-01T00:00:00.000000000",
          "2025-01-01T00:00:00.000000000",
          "2025-02-01T00:00:00.000000000",
          "2025-03-01T00:00:00.000000000",
          "2025-04-01T00:00:00.000000000",
          "2025-05-01T00:00:00.000000000",
          "2025-06-01T00:00:00.000000000",
          "2025-07-01T00:00:00.000000000",
          "2025-08-01T00:00:00.000000000",
          "2025-09-01T00:00:00.000000000",
          "2025-10-01T00:00:00.000000000",
          "2025-11-01T00:00:00.000000000",
          "2025-12-01T00:00:00.000000000"
         ],
         "y": {
          "bdata": "AAAAAAAAAAAAAAAAAAAAAA0ndV8eW3E/AAAAAAAAAAA7zQoOX0iBPxlofhlofok/HYGirQbPgT95c0KJBm5xP+Dp1vywSIk/dLg/O+/ikT/gwIEDBw6MPxQ7sRM7sZM/sAlB2fuakD80T6gFjEmcPxEREREREZE/wXgr+xxSkz9tGtCmAW2KP6NgUbAoWJQ/OQUvp+DllD8cTJHPusGkPxEREREREaE/9waUiSvdmz9ItMLmQKKVPwAAAAAAAKw/Ix020mEjrT/0BX1BX9CXPxEREREREZE/DSd1Xx5bgT9MZzGdxXSmP+0b1r5h7Zs/ERERERERoT8IH3zwwQefPxdswRZswaY/8Af8AX/Anz8d1EEd1EGNP9C6wRT5rJs/dMBuj7UMfT/6GJyPwfl4PwJLevnTFpo/qvNrD7mseD/lEzGbS4eaP+AXbu2N1Y8/nKKMgFOUkT+WexphuaeBPxdswRZswYY/dOUByTpXjj/SeYshnbeYP5Z7GmG5p6E/",
          "dtype": "f8"
         }
        }
       ],
       "layout": {
        "template": {
         "data": {
          "bar": [
           {
            "error_x": {
             "color": "#2a3f5f"
            },
            "error_y": {
             "color": "#2a3f5f"
            },
            "marker": {
             "line": {
              "color": "white",
              "width": 0.5
             },
             "pattern": {
              "fillmode": "overlay",
              "size": 10,
              "solidity": 0.2
             }
            },
            "type": "bar"
           }
          ],
          "barpolar": [
           {
            "marker": {
             "line": {
              "color": "white",
              "width": 0.5
             },
             "pattern": {
              "fillmode": "overlay",
              "size": 10,
              "solidity": 0.2
             }
            },
            "type": "barpolar"
           }
          ],
          "carpet": [
           {
            "aaxis": {
             "endlinecolor": "#2a3f5f",
             "gridcolor": "#C8D4E3",
             "linecolor": "#C8D4E3",
             "minorgridcolor": "#C8D4E3",
             "startlinecolor": "#2a3f5f"
            },
            "baxis": {
             "endlinecolor": "#2a3f5f",
             "gridcolor": "#C8D4E3",
             "linecolor": "#C8D4E3",
             "minorgridcolor": "#C8D4E3",
             "startlinecolor": "#2a3f5f"
            },
            "type": "carpet"
           }
          ],
          "choropleth": [
           {
            "colorbar": {
             "outlinewidth": 0,
             "ticks": ""
            },
            "type": "choropleth"
           }
          ],
          "contour": [
           {
            "colorbar": {
             "outlinewidth": 0,
             "ticks": ""
            },
            "colorscale": [
             [
              0,
              "#0d0887"
             ],
             [
              0.1111111111111111,
              "#46039f"
             ],
             [
              0.2222222222222222,
              "#7201a8"
             ],
             [
              0.3333333333333333,
              "#9c179e"
             ],
             [
              0.4444444444444444,
              "#bd3786"
             ],
             [
              0.5555555555555556,
              "#d8576b"
             ],
             [
              0.6666666666666666,
              "#ed7953"
             ],
             [
              0.7777777777777778,
              "#fb9f3a"
             ],
             [
              0.8888888888888888,
              "#fdca26"
             ],
             [
              1,
              "#f0f921"
             ]
            ],
            "type": "contour"
           }
          ],
          "contourcarpet": [
           {
            "colorbar": {
             "outlinewidth": 0,
             "ticks": ""
            },
            "type": "contourcarpet"
           }
          ],
          "heatmap": [
           {
            "colorbar": {
             "outlinewidth": 0,
             "ticks": ""
            },
            "colorscale": [
             [
              0,
              "#0d0887"
             ],
             [
              0.1111111111111111,
              "#46039f"
             ],
             [
              0.2222222222222222,
              "#7201a8"
             ],
             [
              0.3333333333333333,
              "#9c179e"
             ],
             [
              0.4444444444444444,
              "#bd3786"
             ],
             [
              0.5555555555555556,
              "#d8576b"
             ],
             [
              0.6666666666666666,
              "#ed7953"
             ],
             [
              0.7777777777777778,
              "#fb9f3a"
             ],
             [
              0.8888888888888888,
              "#fdca26"
             ],
             [
              1,
              "#f0f921"
             ]
            ],
            "type": "heatmap"
           }
          ],
          "histogram": [
           {
            "marker": {
             "pattern": {
              "fillmode": "overlay",
              "size": 10,
              "solidity": 0.2
             }
            },
            "type": "histogram"
           }
          ],
          "histogram2d": [
           {
            "colorbar": {
             "outlinewidth": 0,
             "ticks": ""
            },
            "colorscale": [
             [
              0,
              "#0d0887"
             ],
             [
              0.1111111111111111,
              "#46039f"
             ],
             [
              0.2222222222222222,
              "#7201a8"
             ],
             [
              0.3333333333333333,
              "#9c179e"
             ],
             [
              0.4444444444444444,
              "#bd3786"
             ],
             [
              0.5555555555555556,
              "#d8576b"
             ],
             [
              0.6666666666666666,
              "#ed7953"
             ],
             [
              0.7777777777777778,
              "#fb9f3a"
             ],
             [
              0.8888888888888888,
              "#fdca26"
             ],
             [
              1,
              "#f0f921"
             ]
            ],
            "type": "histogram2d"
           }
          ],
          "histogram2dcontour": [
           {
            "colorbar": {
             "outlinewidth": 0,
             "ticks": ""
            },
            "colorscale": [
             [
              0,
              "#0d0887"
             ],
             [
              0.1111111111111111,
              "#46039f"
             ],
             [
              0.2222222222222222,
              "#7201a8"
             ],
             [
              0.3333333333333333,
              "#9c179e"
             ],
             [
              0.4444444444444444,
              "#bd3786"
             ],
             [
              0.5555555555555556,
              "#d8576b"
             ],
             [
              0.6666666666666666,
              "#ed7953"
             ],
             [
              0.7777777777777778,
              "#fb9f3a"
             ],
             [
              0.8888888888888888,
              "#fdca26"
             ],
             [
              1,
              "#f0f921"
             ]
            ],
            "type": "histogram2dcontour"
           }
          ],
          "mesh3d": [
           {
            "colorbar": {
             "outlinewidth": 0,
             "ticks": ""
            },
            "type": "mesh3d"
           }
          ],
          "parcoords": [
           {
            "line": {
             "colorbar": {
              "outlinewidth": 0,
              "ticks": ""
             }
            },
            "type": "parcoords"
           }
          ],
          "pie": [
           {
            "automargin": true,
            "type": "pie"
           }
          ],
          "scatter": [
           {
            "fillpattern": {
             "fillmode": "overlay",
             "size": 10,
             "solidity": 0.2
            },
            "type": "scatter"
           }
          ],
          "scatter3d": [
           {
            "line": {
             "colorbar": {
              "outlinewidth": 0,
              "ticks": ""
             }
            },
            "marker": {
             "colorbar": {
              "outlinewidth": 0,
              "ticks": ""
             }
            },
            "type": "scatter3d"
           }
          ],
          "scattercarpet": [
           {
            "marker": {
             "colorbar": {
              "outlinewidth": 0,
              "ticks": ""
             }
            },
            "type": "scattercarpet"
           }
          ],
          "scattergeo": [
           {
            "marker": {
             "colorbar": {
              "outlinewidth": 0,
              "ticks": ""
             }
            },
            "type": "scattergeo"
           }
          ],
          "scattergl": [
           {
            "marker": {
             "colorbar": {
              "outlinewidth": 0,
              "ticks": ""
             }
            },
            "type": "scattergl"
           }
          ],
          "scattermap": [
           {
            "marker": {
             "colorbar": {
              "outlinewidth": 0,
              "ticks": ""
             }
            },
            "type": "scattermap"
           }
          ],
          "scattermapbox": [
           {
            "marker": {
             "colorbar": {
              "outlinewidth": 0,
              "ticks": ""
             }
            },
            "type": "scattermapbox"
           }
          ],
          "scatterpolar": [
           {
            "marker": {
             "colorbar": {
              "outlinewidth": 0,
              "ticks": ""
             }
            },
            "type": "scatterpolar"
           }
          ],
          "scatterpolargl": [
           {
            "marker": {
             "colorbar": {
              "outlinewidth": 0,
              "ticks": ""
             }
            },
            "type": "scatterpolargl"
           }
          ],
          "scatterternary": [
           {
            "marker": {
             "colorbar": {
              "outlinewidth": 0,
              "ticks": ""
             }
            },
            "type": "scatterternary"
           }
          ],
          "surface": [
           {
            "colorbar": {
             "outlinewidth": 0,
             "ticks": ""
            },
            "colorscale": [
             [
              0,
              "#0d0887"
             ],
             [
              0.1111111111111111,
              "#46039f"
             ],
             [
              0.2222222222222222,
              "#7201a8"
             ],
             [
              0.3333333333333333,
              "#9c179e"
             ],
             [
              0.4444444444444444,
              "#bd3786"
             ],
             [
              0.5555555555555556,
              "#d8576b"
             ],
             [
              0.6666666666666666,
              "#ed7953"
             ],
             [
              0.7777777777777778,
              "#fb9f3a"
             ],
             [
              0.8888888888888888,
              "#fdca26"
             ],
             [
              1,
              "#f0f921"
             ]
            ],
            "type": "surface"
           }
          ],
          "table": [
           {
            "cells": {
             "fill": {
              "color": "#EBF0F8"
             },
             "line": {
              "color": "white"
             }
            },
            "header": {
             "fill": {
              "color": "#C8D4E3"
             },
             "line": {
              "color": "white"
             }
            },
            "type": "table"
           }
          ]
         },
         "layout": {
          "annotationdefaults": {
           "arrowcolor": "#2a3f5f",
           "arrowhead": 0,
           "arrowwidth": 1
          },
          "autotypenumbers": "strict",
          "coloraxis": {
           "colorbar": {
            "outlinewidth": 0,
            "ticks": ""
           }
          },
          "colorscale": {
           "diverging": [
            [
             0,
             "#8e0152"
            ],
            [
             0.1,
             "#c51b7d"
            ],
            [
             0.2,
             "#de77ae"
            ],
            [
             0.3,
             "#f1b6da"
            ],
            [
             0.4,
             "#fde0ef"
            ],
            [
             0.5,
             "#f7f7f7"
            ],
            [
             0.6,
             "#e6f5d0"
            ],
            [
             0.7,
             "#b8e186"
            ],
            [
             0.8,
             "#7fbc41"
            ],
            [
             0.9,
             "#4d9221"
            ],
            [
             1,
             "#276419"
            ]
           ],
           "sequential": [
            [
             0,
             "#0d0887"
            ],
            [
             0.1111111111111111,
             "#46039f"
            ],
            [
             0.2222222222222222,
             "#7201a8"
            ],
            [
             0.3333333333333333,
             "#9c179e"
            ],
            [
             0.4444444444444444,
             "#bd3786"
            ],
            [
             0.5555555555555556,
             "#d8576b"
            ],
            [
             0.6666666666666666,
             "#ed7953"
            ],
            [
             0.7777777777777778,
             "#fb9f3a"
            ],
            [
             0.8888888888888888,
             "#fdca26"
            ],
            [
             1,
             "#f0f921"
            ]
           ],
           "sequentialminus": [
            [
             0,
             "#0d0887"
            ],
            [
             0.1111111111111111,
             "#46039f"
            ],
            [
             0.2222222222222222,
             "#7201a8"
            ],
            [
             0.3333333333333333,
             "#9c179e"
            ],
            [
             0.4444444444444444,
             "#bd3786"
            ],
            [
             0.5555555555555556,
             "#d8576b"
            ],
            [
             0.6666666666666666,
             "#ed7953"
            ],
            [
             0.7777777777777778,
             "#fb9f3a"
            ],
            [
             0.8888888888888888,
             "#fdca26"
            ],
            [
             1,
             "#f0f921"
            ]
           ]
          },
          "colorway": [
           "#636efa",
           "#EF553B",
           "#00cc96",
           "#ab63fa",
           "#FFA15A",
           "#19d3f3",
           "#FF6692",
           "#B6E880",
           "#FF97FF",
           "#FECB52"
          ],
          "font": {
           "color": "#2a3f5f"
          },
          "geo": {
           "bgcolor": "white",
           "lakecolor": "white",
           "landcolor": "white",
           "showlakes": true,
           "showland": true,
           "subunitcolor": "#C8D4E3"
          },
          "hoverlabel": {
           "align": "left"
          },
          "hovermode": "closest",
          "mapbox": {
           "style": "light"
          },
          "paper_bgcolor": "white",
          "plot_bgcolor": "white",
          "polar": {
           "angularaxis": {
            "gridcolor": "#EBF0F8",
            "linecolor": "#EBF0F8",
            "ticks": ""
           },
           "bgcolor": "white",
           "radialaxis": {
            "gridcolor": "#EBF0F8",
            "linecolor": "#EBF0F8",
            "ticks": ""
           }
          },
          "scene": {
           "xaxis": {
            "backgroundcolor": "white",
            "gridcolor": "#DFE8F3",
            "gridwidth": 2,
            "linecolor": "#EBF0F8",
            "showbackground": true,
            "ticks": "",
            "zerolinecolor": "#EBF0F8"
           },
           "yaxis": {
            "backgroundcolor": "white",
            "gridcolor": "#DFE8F3",
            "gridwidth": 2,
            "linecolor": "#EBF0F8",
            "showbackground": true,
            "ticks": "",
            "zerolinecolor": "#EBF0F8"
           },
           "zaxis": {
            "backgroundcolor": "white",
            "gridcolor": "#DFE8F3",
            "gridwidth": 2,
            "linecolor": "#EBF0F8",
            "showbackground": true,
            "ticks": "",
            "zerolinecolor": "#EBF0F8"
           }
          },
          "shapedefaults": {
           "line": {
            "color": "#2a3f5f"
           }
          },
          "ternary": {
           "aaxis": {
            "gridcolor": "#DFE8F3",
            "linecolor": "#A2B1C6",
            "ticks": ""
           },
           "baxis": {
            "gridcolor": "#DFE8F3",
            "linecolor": "#A2B1C6",
            "ticks": ""
           },
           "bgcolor": "white",
           "caxis": {
            "gridcolor": "#DFE8F3",
            "linecolor": "#A2B1C6",
            "ticks": ""
           }
          },
          "title": {
           "x": 0.05
          },
          "xaxis": {
           "automargin": true,
           "gridcolor": "#EBF0F8",
           "linecolor": "#EBF0F8",
           "ticks": "",
           "title": {
            "standoff": 15
           },
           "zerolinecolor": "#EBF0F8",
           "zerolinewidth": 2
          },
          "yaxis": {
           "automargin": true,
           "gridcolor": "#EBF0F8",
           "linecolor": "#EBF0F8",
           "ticks": "",
           "title": {
            "standoff": 15
           },
           "zerolinecolor": "#EBF0F8",
           "zerolinewidth": 2
          }
         }
        },
        "title": {
         "text": "Event Rate by Group over Time"
        },
        "xaxis": {
         "title": {
          "text": "ref_date"
         }
        },
        "yaxis": {
         "title": {
          "text": "Event rate"
         }
        }
       }
      }
     },
     "metadata": {},
     "output_type": "display_data"
    },
    {
     "data": {
      "application/vnd.plotly.v1+json": {
       "config": {
        "plotlyServerURL": "https://plot.ly"
       },
       "data": [
        {
         "marker": {
          "color": "rgb(217,58,70)"
         },
         "name": "(-inf, 320.18)",
         "type": "bar",
         "x": [
          "2022-01-01T00:00:00.000000000",
          "2022-02-01T00:00:00.000000000",
          "2022-03-01T00:00:00.000000000",
          "2022-04-01T00:00:00.000000000",
          "2022-05-01T00:00:00.000000000",
          "2022-06-01T00:00:00.000000000",
          "2022-07-01T00:00:00.000000000",
          "2022-08-01T00:00:00.000000000",
          "2022-09-01T00:00:00.000000000",
          "2022-10-01T00:00:00.000000000",
          "2022-11-01T00:00:00.000000000",
          "2022-12-01T00:00:00.000000000",
          "2023-01-01T00:00:00.000000000",
          "2023-02-01T00:00:00.000000000",
          "2023-03-01T00:00:00.000000000",
          "2023-04-01T00:00:00.000000000",
          "2023-05-01T00:00:00.000000000",
          "2023-06-01T00:00:00.000000000",
          "2023-07-01T00:00:00.000000000",
          "2023-08-01T00:00:00.000000000",
          "2023-09-01T00:00:00.000000000",
          "2023-10-01T00:00:00.000000000",
          "2023-11-01T00:00:00.000000000",
          "2023-12-01T00:00:00.000000000",
          "2024-01-01T00:00:00.000000000",
          "2024-02-01T00:00:00.000000000",
          "2024-03-01T00:00:00.000000000",
          "2024-04-01T00:00:00.000000000",
          "2024-05-01T00:00:00.000000000",
          "2024-06-01T00:00:00.000000000",
          "2024-07-01T00:00:00.000000000",
          "2024-08-01T00:00:00.000000000",
          "2024-09-01T00:00:00.000000000",
          "2024-10-01T00:00:00.000000000",
          "2024-11-01T00:00:00.000000000",
          "2024-12-01T00:00:00.000000000",
          "2025-01-01T00:00:00.000000000",
          "2025-02-01T00:00:00.000000000",
          "2025-03-01T00:00:00.000000000",
          "2025-04-01T00:00:00.000000000",
          "2025-05-01T00:00:00.000000000",
          "2025-06-01T00:00:00.000000000",
          "2025-07-01T00:00:00.000000000",
          "2025-08-01T00:00:00.000000000",
          "2025-09-01T00:00:00.000000000",
          "2025-10-01T00:00:00.000000000",
          "2025-11-01T00:00:00.000000000",
          "2025-12-01T00:00:00.000000000"
         ],
         "y": {
          "bdata": "qvHSTWIQuD8pXI/C9Si8P7gehetRuL4//Knx0k1iwD+PwvUoXI/CP0w3iUFg5cA/SOF6FK5HwT8730+Nl27CP4/C9Shcj8I/K4cW2c73wz9/arx0kxjEP+xRuB6F68E/7FG4HoXrwT9oke18PzW+P1g5tMh2vr8/9P3UeOkmwT+wcmiR7Xy/P1CNl24Sg8A/RIts5/upwT/sUbgehevBP/Cnxks3icE/+FPjpZvEwD+oxks3iUHAP2iR7Xw/Nb4/0SLb+X5qvD8AAAAAAADAP9Ei2/l+arw/ke18PzVeuj/hehSuR+G6P5qZmZmZmbk/eekmMQisvD9aZDvfT423P4PAyqFFtrM/MzMzMzMzsz8730+Nl26yP0w3iUFg5bA/RIts5/upsT9MN4lBYOWwP0SLbOf7qbE/nMQgsHJosT9MN4lBYOWwP4ts5/up8bI/i2zn+6nxsj/jpZvEILCyP6RwPQrXo7A/uB6F61G4rj8ZBFYOLbKtPylcj8L1KKw/",
          "dtype": "f8"
         }
        },
        {
         "marker": {
          "color": "rgb(230,148,154)"
         },
         "name": "[320.18, 489.44)",
         "type": "bar",
         "x": [
          "2022-01-01T00:00:00.000000000",
          "2022-02-01T00:00:00.000000000",
          "2022-03-01T00:00:00.000000000",
          "2022-04-01T00:00:00.000000000",
          "2022-05-01T00:00:00.000000000",
          "2022-06-01T00:00:00.000000000",
          "2022-07-01T00:00:00.000000000",
          "2022-08-01T00:00:00.000000000",
          "2022-09-01T00:00:00.000000000",
          "2022-10-01T00:00:00.000000000",
          "2022-11-01T00:00:00.000000000",
          "2022-12-01T00:00:00.000000000",
          "2023-01-01T00:00:00.000000000",
          "2023-02-01T00:00:00.000000000",
          "2023-03-01T00:00:00.000000000",
          "2023-04-01T00:00:00.000000000",
          "2023-05-01T00:00:00.000000000",
          "2023-06-01T00:00:00.000000000",
          "2023-07-01T00:00:00.000000000",
          "2023-08-01T00:00:00.000000000",
          "2023-09-01T00:00:00.000000000",
          "2023-10-01T00:00:00.000000000",
          "2023-11-01T00:00:00.000000000",
          "2023-12-01T00:00:00.000000000",
          "2024-01-01T00:00:00.000000000",
          "2024-02-01T00:00:00.000000000",
          "2024-03-01T00:00:00.000000000",
          "2024-04-01T00:00:00.000000000",
          "2024-05-01T00:00:00.000000000",
          "2024-06-01T00:00:00.000000000",
          "2024-07-01T00:00:00.000000000",
          "2024-08-01T00:00:00.000000000",
          "2024-09-01T00:00:00.000000000",
          "2024-10-01T00:00:00.000000000",
          "2024-11-01T00:00:00.000000000",
          "2024-12-01T00:00:00.000000000",
          "2025-01-01T00:00:00.000000000",
          "2025-02-01T00:00:00.000000000",
          "2025-03-01T00:00:00.000000000",
          "2025-04-01T00:00:00.000000000",
          "2025-05-01T00:00:00.000000000",
          "2025-06-01T00:00:00.000000000",
          "2025-07-01T00:00:00.000000000",
          "2025-08-01T00:00:00.000000000",
          "2025-09-01T00:00:00.000000000",
          "2025-10-01T00:00:00.000000000",
          "2025-11-01T00:00:00.000000000",
          "2025-12-01T00:00:00.000000000"
         ],
         "y": {
          "bdata": "8KfGSzeJwT/l0CLb+X7KP3WTGARWDs0/yXa+nxovzT81XrpJDALLPxkEVg4tss0/LbKd76fGyz85tMh2vp/KPyGwcmiR7cw/gZVDi2znyz/ufD81XrrJP7TIdr6fGs8/uB6F61G4zj9I4XoUrkfRP/hT46WbxNA/+n5qvHST0D+mm8QgsHLQP6JFtvP91NA/+n5qvHST0D/6fmq8dJPQP1TjpZvEINA//tR46SYx0D9SuB6F61HQP05iEFg5tNA/6SYxCKwc0j9QjZduEoPQP5qZmZmZmdE/mpmZmZmZ0T/0/dR46SbRP+58PzVeutE/qMZLN4lB0D9U46WbxCDQP6JFtvP91NA/tMh2vp8azz+sHFpkO9/PP1K4HoXrUdA/WDm0yHa+zz/+1HjpJjHQP2Dl0CLb+c4/xSCwcmiRzT91kxgEVg7NP8l2vp8aL80/TmIQWDm0yD+e76fGSzfJP+F6FK5H4co/ZmZmZmZmxj/6fmq8dJPIPwrXo3A9Csc/",
          "dtype": "f8"
         }
        },
        {
         "marker": {
          "color": "rgb(242,241,241)"
         },
         "name": "[489.44, 666.66)",
         "type": "bar",
         "x": [
          "2022-01-01T00:00:00.000000000",
          "2022-02-01T00:00:00.000000000",
          "2022-03-01T00:00:00.000000000",
          "2022-04-01T00:00:00.000000000",
          "2022-05-01T00:00:00.000000000",
          "2022-06-01T00:00:00.000000000",
          "2022-07-01T00:00:00.000000000",
          "2022-08-01T00:00:00.000000000",
          "2022-09-01T00:00:00.000000000",
          "2022-10-01T00:00:00.000000000",
          "2022-11-01T00:00:00.000000000",
          "2022-12-01T00:00:00.000000000",
          "2023-01-01T00:00:00.000000000",
          "2023-02-01T00:00:00.000000000",
          "2023-03-01T00:00:00.000000000",
          "2023-04-01T00:00:00.000000000",
          "2023-05-01T00:00:00.000000000",
          "2023-06-01T00:00:00.000000000",
          "2023-07-01T00:00:00.000000000",
          "2023-08-01T00:00:00.000000000",
          "2023-09-01T00:00:00.000000000",
          "2023-10-01T00:00:00.000000000",
          "2023-11-01T00:00:00.000000000",
          "2023-12-01T00:00:00.000000000",
          "2024-01-01T00:00:00.000000000",
          "2024-02-01T00:00:00.000000000",
          "2024-03-01T00:00:00.000000000",
          "2024-04-01T00:00:00.000000000",
          "2024-05-01T00:00:00.000000000",
          "2024-06-01T00:00:00.000000000",
          "2024-07-01T00:00:00.000000000",
          "2024-08-01T00:00:00.000000000",
          "2024-09-01T00:00:00.000000000",
          "2024-10-01T00:00:00.000000000",
          "2024-11-01T00:00:00.000000000",
          "2024-12-01T00:00:00.000000000",
          "2025-01-01T00:00:00.000000000",
          "2025-02-01T00:00:00.000000000",
          "2025-03-01T00:00:00.000000000",
          "2025-04-01T00:00:00.000000000",
          "2025-05-01T00:00:00.000000000",
          "2025-06-01T00:00:00.000000000",
          "2025-07-01T00:00:00.000000000",
          "2025-08-01T00:00:00.000000000",
          "2025-09-01T00:00:00.000000000",
          "2025-10-01T00:00:00.000000000",
          "2025-11-01T00:00:00.000000000",
          "2025-12-01T00:00:00.000000000"
         ],
         "y": {
          "bdata": "pHA9Ctej0D+wcmiR7XzPP9Ei2/l+asw/5dAi2/l+yj/Jdr6fGi/NP3npJjEIrMw/ZDvfT42Xzj/+1HjpJjHQPxSuR+F6FM4/vHSTGARWzj9OYhBYObTQP7TIdr6fGs8/pHA9Ctej0D9SuB6F61HQP/T91HjpJtE/PzVeukkM0j/ZzvdT46XTP9v5fmq8dNM/iUFg5dAi0z85tMh2vp/SPzm0yHa+n9I/f2q8dJMY1D/Xo3A9CtfTP3sUrkfhetQ/001iEFg51D8hsHJoke3UP9V46SYxCNQ/cT0K16Nw1T/LoUW28/3UP3Noke18P9U/y6FFtvP91D9iEFg5tMjWPw4tsp3vp9Y/AiuHFtnO1z8OLbKd76fWPxkEVg4tstU/CtejcD0K1z8dWmQ730/VP8P1KFyPwtU/vp8aL90k1j/LoUW28/3UP83MzMzMzNQ/x0s3iUFg1T/VeOkmMQjUP0a28/3UeNE/LbKd76fG0z9CYOXQItvRP9v5fmq8dNM/",
          "dtype": "f8"
         }
        },
        {
         "marker": {
          "color": "rgb(153,183,205)"
         },
         "name": "[666.66, 763.85)",
         "type": "bar",
         "x": [
          "2022-01-01T00:00:00.000000000",
          "2022-02-01T00:00:00.000000000",
          "2022-03-01T00:00:00.000000000",
          "2022-04-01T00:00:00.000000000",
          "2022-05-01T00:00:00.000000000",
          "2022-06-01T00:00:00.000000000",
          "2022-07-01T00:00:00.000000000",
          "2022-08-01T00:00:00.000000000",
          "2022-09-01T00:00:00.000000000",
          "2022-10-01T00:00:00.000000000",
          "2022-11-01T00:00:00.000000000",
          "2022-12-01T00:00:00.000000000",
          "2023-01-01T00:00:00.000000000",
          "2023-02-01T00:00:00.000000000",
          "2023-03-01T00:00:00.000000000",
          "2023-04-01T00:00:00.000000000",
          "2023-05-01T00:00:00.000000000",
          "2023-06-01T00:00:00.000000000",
          "2023-07-01T00:00:00.000000000",
          "2023-08-01T00:00:00.000000000",
          "2023-09-01T00:00:00.000000000",
          "2023-10-01T00:00:00.000000000",
          "2023-11-01T00:00:00.000000000",
          "2023-12-01T00:00:00.000000000",
          "2024-01-01T00:00:00.000000000",
          "2024-02-01T00:00:00.000000000",
          "2024-03-01T00:00:00.000000000",
          "2024-04-01T00:00:00.000000000",
          "2024-05-01T00:00:00.000000000",
          "2024-06-01T00:00:00.000000000",
          "2024-07-01T00:00:00.000000000",
          "2024-08-01T00:00:00.000000000",
          "2024-09-01T00:00:00.000000000",
          "2024-10-01T00:00:00.000000000",
          "2024-11-01T00:00:00.000000000",
          "2024-12-01T00:00:00.000000000",
          "2025-01-01T00:00:00.000000000",
          "2025-02-01T00:00:00.000000000",
          "2025-03-01T00:00:00.000000000",
          "2025-04-01T00:00:00.000000000",
          "2025-05-01T00:00:00.000000000",
          "2025-06-01T00:00:00.000000000",
          "2025-07-01T00:00:00.000000000",
          "2025-08-01T00:00:00.000000000",
          "2025-09-01T00:00:00.000000000",
          "2025-10-01T00:00:00.000000000",
          "2025-11-01T00:00:00.000000000",
          "2025-12-01T00:00:00.000000000"
         ],
         "y": {
          "bdata": "lkOLbOf7yT/6fmq8dJPIP/YoXI/C9cg/NV66SQwCyz+28/3UeOnGPxfZzvdT48U/tvP91Hjpxj97FK5H4XrEP4cW2c73U8M/exSuR+F6xD8j2/l+arzEP3Noke18P8U/ZmZmZmZmxj+6SQwCK4fGP3Noke18P8U/c2iR7Xw/xT/TTWIQWDnEPy/dJAaBlcM/f2q8dJMYxD8j2/l+arzEP8P1KFyPwsU/16NwPQrXwz9zaJHtfD/FP76fGi/dJMY/x0s3iUFgxT/P91PjpZvEP166SQwCK8c/bxKDwMqhxT+uR+F6FK7HP166SQwCK8c/AiuHFtnOxz8bL90kBoHFPxfZzvdT48U/XrpJDAIrxz+uR+F6FK7HP/p+arx0k8g/sp3vp8ZLxz9aZDvfT43HP/p+arx0k8g//tR46SYxyD8CK4cW2c7HPwrXo3A9Csc/c2iR7Xw/xT+uR+F6FK7HP7Kd76fGS8c/AiuHFtnOxz9eukkMAivHPxfZzvdT48U/",
          "dtype": "f8"
         }
        },
        {
         "marker": {
          "color": "rgb(65,124,167)"
         },
         "name": "[763.85, inf)",
         "type": "bar",
         "x": [
          "2022-01-01T00:00:00.000000000",
          "2022-02-01T00:00:00.000000000",
          "2022-03-01T00:00:00.000000000",
          "2022-04-01T00:00:00.000000000",
          "2022-05-01T00:00:00.000000000",
          "2022-06-01T00:00:00.000000000",
          "2022-07-01T00:00:00.000000000",
          "2022-08-01T00:00:00.000000000",
          "2022-09-01T00:00:00.000000000",
          "2022-10-01T00:00:00.000000000",
          "2022-11-01T00:00:00.000000000",
          "2022-12-01T00:00:00.000000000",
          "2023-01-01T00:00:00.000000000",
          "2023-02-01T00:00:00.000000000",
          "2023-03-01T00:00:00.000000000",
          "2023-04-01T00:00:00.000000000",
          "2023-05-01T00:00:00.000000000",
          "2023-06-01T00:00:00.000000000",
          "2023-07-01T00:00:00.000000000",
          "2023-08-01T00:00:00.000000000",
          "2023-09-01T00:00:00.000000000",
          "2023-10-01T00:00:00.000000000",
          "2023-11-01T00:00:00.000000000",
          "2023-12-01T00:00:00.000000000",
          "2024-01-01T00:00:00.000000000",
          "2024-02-01T00:00:00.000000000",
          "2024-03-01T00:00:00.000000000",
          "2024-04-01T00:00:00.000000000",
          "2024-05-01T00:00:00.000000000",
          "2024-06-01T00:00:00.000000000",
          "2024-07-01T00:00:00.000000000",
          "2024-08-01T00:00:00.000000000",
          "2024-09-01T00:00:00.000000000",
          "2024-10-01T00:00:00.000000000",
          "2024-11-01T00:00:00.000000000",
          "2024-12-01T00:00:00.000000000",
          "2025-01-01T00:00:00.000000000",
          "2025-02-01T00:00:00.000000000",
          "2025-03-01T00:00:00.000000000",
          "2025-04-01T00:00:00.000000000",
          "2025-05-01T00:00:00.000000000",
          "2025-06-01T00:00:00.000000000",
          "2025-07-01T00:00:00.000000000",
          "2025-08-01T00:00:00.000000000",
          "2025-09-01T00:00:00.000000000",
          "2025-10-01T00:00:00.000000000",
          "2025-11-01T00:00:00.000000000",
          "2025-12-01T00:00:00.000000000"
         ],
         "y": {
          "bdata": "L90kBoGV0z9cj8L1KFzPP2iR7Xw/Nc4/IbByaJHtzD+8dJMYBFbOPwwCK4cW2c4/cT0K16NwzT8UrkfhehTOP7TIdr6fGs8/HVpkO99PzT/VeOkmMQjMPzm0yHa+n8o/rkfhehSuxz9eukkMAivHPwrXo3A9Csc/JzEIrBxaxD/Xo3A9CtfDP4cW2c73U8M/N4lBYOXQwj+LbOf7qfHCPzMzMzMzM8M/N4lBYOXQwj+TGARWDi3CP/yp8dJNYsA/sHJoke18vz9QjZduEoPAP7gehetRuL4/aJHtfD81vj/Jdr6fGi+9Pylcj8L1KLw/uB6F61G4vj9MN4lBYOXAP0jhehSuR8E/UI2XbhKDwD/sUbgehevBP4ts5/up8cI/PzVeukkMwj/LoUW28/3EP39qvHSTGMQ/c2iR7Xw/xT9OYhBYObTIP05iEFg5tMg/bef7qfHSzT8ZBFYOLbLNP0jhehSuR9E/SOF6FK5H0T+PwvUoXI/SP4/C9Shcj9I/",
          "dtype": "f8"
         }
        }
       ],
       "layout": {
        "barmode": "stack",
        "template": {
         "data": {
          "bar": [
           {
            "error_x": {
             "color": "#2a3f5f"
            },
            "error_y": {
             "color": "#2a3f5f"
            },
            "marker": {
             "line": {
              "color": "white",
              "width": 0.5
             },
             "pattern": {
              "fillmode": "overlay",
              "size": 10,
              "solidity": 0.2
             }
            },
            "type": "bar"
           }
          ],
          "barpolar": [
           {
            "marker": {
             "line": {
              "color": "white",
              "width": 0.5
             },
             "pattern": {
              "fillmode": "overlay",
              "size": 10,
              "solidity": 0.2
             }
            },
            "type": "barpolar"
           }
          ],
          "carpet": [
           {
            "aaxis": {
             "endlinecolor": "#2a3f5f",
             "gridcolor": "#C8D4E3",
             "linecolor": "#C8D4E3",
             "minorgridcolor": "#C8D4E3",
             "startlinecolor": "#2a3f5f"
            },
            "baxis": {
             "endlinecolor": "#2a3f5f",
             "gridcolor": "#C8D4E3",
             "linecolor": "#C8D4E3",
             "minorgridcolor": "#C8D4E3",
             "startlinecolor": "#2a3f5f"
            },
            "type": "carpet"
           }
          ],
          "choropleth": [
           {
            "colorbar": {
             "outlinewidth": 0,
             "ticks": ""
            },
            "type": "choropleth"
           }
          ],
          "contour": [
           {
            "colorbar": {
             "outlinewidth": 0,
             "ticks": ""
            },
            "colorscale": [
             [
              0,
              "#0d0887"
             ],
             [
              0.1111111111111111,
              "#46039f"
             ],
             [
              0.2222222222222222,
              "#7201a8"
             ],
             [
              0.3333333333333333,
              "#9c179e"
             ],
             [
              0.4444444444444444,
              "#bd3786"
             ],
             [
              0.5555555555555556,
              "#d8576b"
             ],
             [
              0.6666666666666666,
              "#ed7953"
             ],
             [
              0.7777777777777778,
              "#fb9f3a"
             ],
             [
              0.8888888888888888,
              "#fdca26"
             ],
             [
              1,
              "#f0f921"
             ]
            ],
            "type": "contour"
           }
          ],
          "contourcarpet": [
           {
            "colorbar": {
             "outlinewidth": 0,
             "ticks": ""
            },
            "type": "contourcarpet"
           }
          ],
          "heatmap": [
           {
            "colorbar": {
             "outlinewidth": 0,
             "ticks": ""
            },
            "colorscale": [
             [
              0,
              "#0d0887"
             ],
             [
              0.1111111111111111,
              "#46039f"
             ],
             [
              0.2222222222222222,
              "#7201a8"
             ],
             [
              0.3333333333333333,
              "#9c179e"
             ],
             [
              0.4444444444444444,
              "#bd3786"
             ],
             [
              0.5555555555555556,
              "#d8576b"
             ],
             [
              0.6666666666666666,
              "#ed7953"
             ],
             [
              0.7777777777777778,
              "#fb9f3a"
             ],
             [
              0.8888888888888888,
              "#fdca26"
             ],
             [
              1,
              "#f0f921"
             ]
            ],
            "type": "heatmap"
           }
          ],
          "histogram": [
           {
            "marker": {
             "pattern": {
              "fillmode": "overlay",
              "size": 10,
              "solidity": 0.2
             }
            },
            "type": "histogram"
           }
          ],
          "histogram2d": [
           {
            "colorbar": {
             "outlinewidth": 0,
             "ticks": ""
            },
            "colorscale": [
             [
              0,
              "#0d0887"
             ],
             [
              0.1111111111111111,
              "#46039f"
             ],
             [
              0.2222222222222222,
              "#7201a8"
             ],
             [
              0.3333333333333333,
              "#9c179e"
             ],
             [
              0.4444444444444444,
              "#bd3786"
             ],
             [
              0.5555555555555556,
              "#d8576b"
             ],
             [
              0.6666666666666666,
              "#ed7953"
             ],
             [
              0.7777777777777778,
              "#fb9f3a"
             ],
             [
              0.8888888888888888,
              "#fdca26"
             ],
             [
              1,
              "#f0f921"
             ]
            ],
            "type": "histogram2d"
           }
          ],
          "histogram2dcontour": [
           {
            "colorbar": {
             "outlinewidth": 0,
             "ticks": ""
            },
            "colorscale": [
             [
              0,
              "#0d0887"
             ],
             [
              0.1111111111111111,
              "#46039f"
             ],
             [
              0.2222222222222222,
              "#7201a8"
             ],
             [
              0.3333333333333333,
              "#9c179e"
             ],
             [
              0.4444444444444444,
              "#bd3786"
             ],
             [
              0.5555555555555556,
              "#d8576b"
             ],
             [
              0.6666666666666666,
              "#ed7953"
             ],
             [
              0.7777777777777778,
              "#fb9f3a"
             ],
             [
              0.8888888888888888,
              "#fdca26"
             ],
             [
              1,
              "#f0f921"
             ]
            ],
            "type": "histogram2dcontour"
           }
          ],
          "mesh3d": [
           {
            "colorbar": {
             "outlinewidth": 0,
             "ticks": ""
            },
            "type": "mesh3d"
           }
          ],
          "parcoords": [
           {
            "line": {
             "colorbar": {
              "outlinewidth": 0,
              "ticks": ""
             }
            },
            "type": "parcoords"
           }
          ],
          "pie": [
           {
            "automargin": true,
            "type": "pie"
           }
          ],
          "scatter": [
           {
            "fillpattern": {
             "fillmode": "overlay",
             "size": 10,
             "solidity": 0.2
            },
            "type": "scatter"
           }
          ],
          "scatter3d": [
           {
            "line": {
             "colorbar": {
              "outlinewidth": 0,
              "ticks": ""
             }
            },
            "marker": {
             "colorbar": {
              "outlinewidth": 0,
              "ticks": ""
             }
            },
            "type": "scatter3d"
           }
          ],
          "scattercarpet": [
           {
            "marker": {
             "colorbar": {
              "outlinewidth": 0,
              "ticks": ""
             }
            },
            "type": "scattercarpet"
           }
          ],
          "scattergeo": [
           {
            "marker": {
             "colorbar": {
              "outlinewidth": 0,
              "ticks": ""
             }
            },
            "type": "scattergeo"
           }
          ],
          "scattergl": [
           {
            "marker": {
             "colorbar": {
              "outlinewidth": 0,
              "ticks": ""
             }
            },
            "type": "scattergl"
           }
          ],
          "scattermap": [
           {
            "marker": {
             "colorbar": {
              "outlinewidth": 0,
              "ticks": ""
             }
            },
            "type": "scattermap"
           }
          ],
          "scattermapbox": [
           {
            "marker": {
             "colorbar": {
              "outlinewidth": 0,
              "ticks": ""
             }
            },
            "type": "scattermapbox"
           }
          ],
          "scatterpolar": [
           {
            "marker": {
             "colorbar": {
              "outlinewidth": 0,
              "ticks": ""
             }
            },
            "type": "scatterpolar"
           }
          ],
          "scatterpolargl": [
           {
            "marker": {
             "colorbar": {
              "outlinewidth": 0,
              "ticks": ""
             }
            },
            "type": "scatterpolargl"
           }
          ],
          "scatterternary": [
           {
            "marker": {
             "colorbar": {
              "outlinewidth": 0,
              "ticks": ""
             }
            },
            "type": "scatterternary"
           }
          ],
          "surface": [
           {
            "colorbar": {
             "outlinewidth": 0,
             "ticks": ""
            },
            "colorscale": [
             [
              0,
              "#0d0887"
             ],
             [
              0.1111111111111111,
              "#46039f"
             ],
             [
              0.2222222222222222,
              "#7201a8"
             ],
             [
              0.3333333333333333,
              "#9c179e"
             ],
             [
              0.4444444444444444,
              "#bd3786"
             ],
             [
              0.5555555555555556,
              "#d8576b"
             ],
             [
              0.6666666666666666,
              "#ed7953"
             ],
             [
              0.7777777777777778,
              "#fb9f3a"
             ],
             [
              0.8888888888888888,
              "#fdca26"
             ],
             [
              1,
              "#f0f921"
             ]
            ],
            "type": "surface"
           }
          ],
          "table": [
           {
            "cells": {
             "fill": {
              "color": "#EBF0F8"
             },
             "line": {
              "color": "white"
             }
            },
            "header": {
             "fill": {
              "color": "#C8D4E3"
             },
             "line": {
              "color": "white"
             }
            },
            "type": "table"
           }
          ]
         },
         "layout": {
          "annotationdefaults": {
           "arrowcolor": "#2a3f5f",
           "arrowhead": 0,
           "arrowwidth": 1
          },
          "autotypenumbers": "strict",
          "coloraxis": {
           "colorbar": {
            "outlinewidth": 0,
            "ticks": ""
           }
          },
          "colorscale": {
           "diverging": [
            [
             0,
             "#8e0152"
            ],
            [
             0.1,
             "#c51b7d"
            ],
            [
             0.2,
             "#de77ae"
            ],
            [
             0.3,
             "#f1b6da"
            ],
            [
             0.4,
             "#fde0ef"
            ],
            [
             0.5,
             "#f7f7f7"
            ],
            [
             0.6,
             "#e6f5d0"
            ],
            [
             0.7,
             "#b8e186"
            ],
            [
             0.8,
             "#7fbc41"
            ],
            [
             0.9,
             "#4d9221"
            ],
            [
             1,
             "#276419"
            ]
           ],
           "sequential": [
            [
             0,
             "#0d0887"
            ],
            [
             0.1111111111111111,
             "#46039f"
            ],
            [
             0.2222222222222222,
             "#7201a8"
            ],
            [
             0.3333333333333333,
             "#9c179e"
            ],
            [
             0.4444444444444444,
             "#bd3786"
            ],
            [
             0.5555555555555556,
             "#d8576b"
            ],
            [
             0.6666666666666666,
             "#ed7953"
            ],
            [
             0.7777777777777778,
             "#fb9f3a"
            ],
            [
             0.8888888888888888,
             "#fdca26"
            ],
            [
             1,
             "#f0f921"
            ]
           ],
           "sequentialminus": [
            [
             0,
             "#0d0887"
            ],
            [
             0.1111111111111111,
             "#46039f"
            ],
            [
             0.2222222222222222,
             "#7201a8"
            ],
            [
             0.3333333333333333,
             "#9c179e"
            ],
            [
             0.4444444444444444,
             "#bd3786"
            ],
            [
             0.5555555555555556,
             "#d8576b"
            ],
            [
             0.6666666666666666,
             "#ed7953"
            ],
            [
             0.7777777777777778,
             "#fb9f3a"
            ],
            [
             0.8888888888888888,
             "#fdca26"
            ],
            [
             1,
             "#f0f921"
            ]
           ]
          },
          "colorway": [
           "#636efa",
           "#EF553B",
           "#00cc96",
           "#ab63fa",
           "#FFA15A",
           "#19d3f3",
           "#FF6692",
           "#B6E880",
           "#FF97FF",
           "#FECB52"
          ],
          "font": {
           "color": "#2a3f5f"
          },
          "geo": {
           "bgcolor": "white",
           "lakecolor": "white",
           "landcolor": "white",
           "showlakes": true,
           "showland": true,
           "subunitcolor": "#C8D4E3"
          },
          "hoverlabel": {
           "align": "left"
          },
          "hovermode": "closest",
          "mapbox": {
           "style": "light"
          },
          "paper_bgcolor": "white",
          "plot_bgcolor": "white",
          "polar": {
           "angularaxis": {
            "gridcolor": "#EBF0F8",
            "linecolor": "#EBF0F8",
            "ticks": ""
           },
           "bgcolor": "white",
           "radialaxis": {
            "gridcolor": "#EBF0F8",
            "linecolor": "#EBF0F8",
            "ticks": ""
           }
          },
          "scene": {
           "xaxis": {
            "backgroundcolor": "white",
            "gridcolor": "#DFE8F3",
            "gridwidth": 2,
            "linecolor": "#EBF0F8",
            "showbackground": true,
            "ticks": "",
            "zerolinecolor": "#EBF0F8"
           },
           "yaxis": {
            "backgroundcolor": "white",
            "gridcolor": "#DFE8F3",
            "gridwidth": 2,
            "linecolor": "#EBF0F8",
            "showbackground": true,
            "ticks": "",
            "zerolinecolor": "#EBF0F8"
           },
           "zaxis": {
            "backgroundcolor": "white",
            "gridcolor": "#DFE8F3",
            "gridwidth": 2,
            "linecolor": "#EBF0F8",
            "showbackground": true,
            "ticks": "",
            "zerolinecolor": "#EBF0F8"
           }
          },
          "shapedefaults": {
           "line": {
            "color": "#2a3f5f"
           }
          },
          "ternary": {
           "aaxis": {
            "gridcolor": "#DFE8F3",
            "linecolor": "#A2B1C6",
            "ticks": ""
           },
           "baxis": {
            "gridcolor": "#DFE8F3",
            "linecolor": "#A2B1C6",
            "ticks": ""
           },
           "bgcolor": "white",
           "caxis": {
            "gridcolor": "#DFE8F3",
            "linecolor": "#A2B1C6",
            "ticks": ""
           }
          },
          "title": {
           "x": 0.05
          },
          "xaxis": {
           "automargin": true,
           "gridcolor": "#EBF0F8",
           "linecolor": "#EBF0F8",
           "ticks": "",
           "title": {
            "standoff": 15
           },
           "zerolinecolor": "#EBF0F8",
           "zerolinewidth": 2
          },
          "yaxis": {
           "automargin": true,
           "gridcolor": "#EBF0F8",
           "linecolor": "#EBF0F8",
           "ticks": "",
           "title": {
            "standoff": 15
           },
           "zerolinecolor": "#EBF0F8",
           "zerolinewidth": 2
          }
         }
        },
        "title": {
         "text": "Group Share over Time"
        },
        "xaxis": {
         "title": {
          "text": "ref_date"
         }
        },
        "yaxis": {
         "tickformat": ".0%",
         "title": {
          "text": "Group share"
         }
        }
       }
      }
     },
     "metadata": {},
     "output_type": "display_data"
    }
   ],
   "source": [
    "results = {}\n",
    "for name, model in models.items():\n",
    "    print(f\"\\n🚀 Treinando modelo: {name}\")\n",
    "    model.fit(X_train, y_train)\n",
    "\n",
    "    evaluator = BinaryPerformanceEvaluator(\n",
    "        model=model,\n",
    "        df_train=df_train,\n",
    "        df_test=df_test,\n",
    "        target_col=\"target\",\n",
    "        id_cols=[\"id\"],\n",
    "        date_col=\"ref_date\",\n",
    "        homogeneous_group=\"auto\",  # usa Optimal Binning\n",
    "    )\n",
    "    #break\n",
    "\n",
    "    print(f\"📊 Avaliando modelo: {name}\")\n",
    "    metrics_df = evaluator.compute_metrics()\n",
    "    results[name] = metrics_df\n",
    "\n",
    "    plot_event_rate = evaluator.plot_event_rate()\n",
    "    #radar_fig.update_layout(title=f\"Radar – {name}\")\n",
    "    #radar_fig.show()\n",
    "\n",
    "# Opcional: juntar todas as métricas em um DataFrame\n",
    "#df_results = pd.concat(results, names=[\"modelo\"])\n",
    "#display(df_results)"
   ]
  },
  {
   "cell_type": "code",
   "execution_count": 28,
   "id": "7daffcab",
   "metadata": {},
   "outputs": [
    {
     "data": {
      "text/html": [
       "<div>\n",
       "<style scoped>\n",
       "    .dataframe tbody tr th:only-of-type {\n",
       "        vertical-align: middle;\n",
       "    }\n",
       "\n",
       "    .dataframe tbody tr th {\n",
       "        vertical-align: top;\n",
       "    }\n",
       "\n",
       "    .dataframe thead th {\n",
       "        text-align: right;\n",
       "    }\n",
       "</style>\n",
       "<table border=\"1\" class=\"dataframe\">\n",
       "  <thead>\n",
       "    <tr style=\"text-align: right;\">\n",
       "      <th></th>\n",
       "      <th>MCC</th>\n",
       "      <th>AUC_ROC</th>\n",
       "      <th>AUC_PR</th>\n",
       "      <th>Precision</th>\n",
       "      <th>Recall</th>\n",
       "      <th>Brier</th>\n",
       "    </tr>\n",
       "    <tr>\n",
       "      <th>Split</th>\n",
       "      <th></th>\n",
       "      <th></th>\n",
       "      <th></th>\n",
       "      <th></th>\n",
       "      <th></th>\n",
       "      <th></th>\n",
       "    </tr>\n",
       "  </thead>\n",
       "  <tbody>\n",
       "    <tr>\n",
       "      <th>Train</th>\n",
       "      <td>-0.349148</td>\n",
       "      <td>0.189952</td>\n",
       "      <td>0.088178</td>\n",
       "      <td>0.056370</td>\n",
       "      <td>0.240278</td>\n",
       "      <td>0.396455</td>\n",
       "    </tr>\n",
       "    <tr>\n",
       "      <th>Test</th>\n",
       "      <td>-0.255589</td>\n",
       "      <td>0.266824</td>\n",
       "      <td>0.095817</td>\n",
       "      <td>0.081284</td>\n",
       "      <td>0.345833</td>\n",
       "      <td>0.381156</td>\n",
       "    </tr>\n",
       "  </tbody>\n",
       "</table>\n",
       "</div>"
      ],
      "text/plain": [
       "            MCC   AUC_ROC    AUC_PR  Precision    Recall     Brier\n",
       "Split                                                             \n",
       "Train -0.349148  0.189952  0.088178   0.056370  0.240278  0.396455\n",
       "Test  -0.255589  0.266824  0.095817   0.081284  0.345833  0.381156"
      ]
     },
     "execution_count": 28,
     "metadata": {},
     "output_type": "execute_result"
    }
   ],
   "source": [
    "metrics = evaluator.compute_metrics()\n",
    "metrics"
   ]
  },
  {
   "cell_type": "code",
   "execution_count": 30,
   "id": "3d7df38d",
   "metadata": {},
   "outputs": [
    {
     "ename": "TypeError",
     "evalue": "BinaryPerformanceEvaluator.plot_confusion() missing 2 required positional arguments: 'y_true' and 'y_pred_proba'",
     "output_type": "error",
     "traceback": [
      "\u001b[1;31m---------------------------------------------------------------------------\u001b[0m",
      "\u001b[1;31mTypeError\u001b[0m                                 Traceback (most recent call last)",
      "Cell \u001b[1;32mIn[30], line 2\u001b[0m\n\u001b[0;32m      1\u001b[0m \u001b[38;5;66;03m# Matriz de confusão\u001b[39;00m\n\u001b[1;32m----> 2\u001b[0m \u001b[43mevaluator\u001b[49m\u001b[38;5;241;43m.\u001b[39;49m\u001b[43mplot_confusion\u001b[49m\u001b[43m(\u001b[49m\u001b[43m)\u001b[49m\n",
      "\u001b[1;31mTypeError\u001b[0m: BinaryPerformanceEvaluator.plot_confusion() missing 2 required positional arguments: 'y_true' and 'y_pred_proba'"
     ]
    }
   ],
   "source": [
    "# Matriz de confusão\n",
    "evaluator.plot_confusion()"
   ]
  },
  {
   "cell_type": "code",
   "execution_count": 31,
   "id": "d48e99e4",
   "metadata": {},
   "outputs": [
    {
     "data": {
      "application/vnd.plotly.v1+json": {
       "config": {
        "plotlyServerURL": "https://plot.ly"
       },
       "data": [
        {
         "mode": "lines+markers",
         "name": "Model",
         "type": "scatter",
         "x": {
          "bdata": "knA/B19rsj9HrMNwuHbEP4ORxMyBFtA/Qj1Szypp1j8EkjzsEsTcPxadekiVi+E/kdlw7p635D811njePM7nP9m0hVfCruo/yyBC2/TS7D8=",
          "dtype": "f8"
         },
         "y": {
          "bdata": "cLHBxQYXmz+Gyg5Tl9ufP81FLZ0Oaaw/mnGkpGtSuT8DQQs/qVXAP2NyTJewfsg/xG8BgQ0j0j8CerCa1vHWP6uqqqqqquI/AAAAAAAA8D8=",
          "dtype": "f8"
         }
        },
        {
         "line": {
          "dash": "dash"
         },
         "mode": "lines",
         "name": "Ideal",
         "type": "scatter",
         "x": [
          0,
          1
         ],
         "y": [
          0,
          1
         ]
        }
       ],
       "layout": {
        "template": {
         "data": {
          "bar": [
           {
            "error_x": {
             "color": "#2a3f5f"
            },
            "error_y": {
             "color": "#2a3f5f"
            },
            "marker": {
             "line": {
              "color": "white",
              "width": 0.5
             },
             "pattern": {
              "fillmode": "overlay",
              "size": 10,
              "solidity": 0.2
             }
            },
            "type": "bar"
           }
          ],
          "barpolar": [
           {
            "marker": {
             "line": {
              "color": "white",
              "width": 0.5
             },
             "pattern": {
              "fillmode": "overlay",
              "size": 10,
              "solidity": 0.2
             }
            },
            "type": "barpolar"
           }
          ],
          "carpet": [
           {
            "aaxis": {
             "endlinecolor": "#2a3f5f",
             "gridcolor": "#C8D4E3",
             "linecolor": "#C8D4E3",
             "minorgridcolor": "#C8D4E3",
             "startlinecolor": "#2a3f5f"
            },
            "baxis": {
             "endlinecolor": "#2a3f5f",
             "gridcolor": "#C8D4E3",
             "linecolor": "#C8D4E3",
             "minorgridcolor": "#C8D4E3",
             "startlinecolor": "#2a3f5f"
            },
            "type": "carpet"
           }
          ],
          "choropleth": [
           {
            "colorbar": {
             "outlinewidth": 0,
             "ticks": ""
            },
            "type": "choropleth"
           }
          ],
          "contour": [
           {
            "colorbar": {
             "outlinewidth": 0,
             "ticks": ""
            },
            "colorscale": [
             [
              0,
              "#0d0887"
             ],
             [
              0.1111111111111111,
              "#46039f"
             ],
             [
              0.2222222222222222,
              "#7201a8"
             ],
             [
              0.3333333333333333,
              "#9c179e"
             ],
             [
              0.4444444444444444,
              "#bd3786"
             ],
             [
              0.5555555555555556,
              "#d8576b"
             ],
             [
              0.6666666666666666,
              "#ed7953"
             ],
             [
              0.7777777777777778,
              "#fb9f3a"
             ],
             [
              0.8888888888888888,
              "#fdca26"
             ],
             [
              1,
              "#f0f921"
             ]
            ],
            "type": "contour"
           }
          ],
          "contourcarpet": [
           {
            "colorbar": {
             "outlinewidth": 0,
             "ticks": ""
            },
            "type": "contourcarpet"
           }
          ],
          "heatmap": [
           {
            "colorbar": {
             "outlinewidth": 0,
             "ticks": ""
            },
            "colorscale": [
             [
              0,
              "#0d0887"
             ],
             [
              0.1111111111111111,
              "#46039f"
             ],
             [
              0.2222222222222222,
              "#7201a8"
             ],
             [
              0.3333333333333333,
              "#9c179e"
             ],
             [
              0.4444444444444444,
              "#bd3786"
             ],
             [
              0.5555555555555556,
              "#d8576b"
             ],
             [
              0.6666666666666666,
              "#ed7953"
             ],
             [
              0.7777777777777778,
              "#fb9f3a"
             ],
             [
              0.8888888888888888,
              "#fdca26"
             ],
             [
              1,
              "#f0f921"
             ]
            ],
            "type": "heatmap"
           }
          ],
          "histogram": [
           {
            "marker": {
             "pattern": {
              "fillmode": "overlay",
              "size": 10,
              "solidity": 0.2
             }
            },
            "type": "histogram"
           }
          ],
          "histogram2d": [
           {
            "colorbar": {
             "outlinewidth": 0,
             "ticks": ""
            },
            "colorscale": [
             [
              0,
              "#0d0887"
             ],
             [
              0.1111111111111111,
              "#46039f"
             ],
             [
              0.2222222222222222,
              "#7201a8"
             ],
             [
              0.3333333333333333,
              "#9c179e"
             ],
             [
              0.4444444444444444,
              "#bd3786"
             ],
             [
              0.5555555555555556,
              "#d8576b"
             ],
             [
              0.6666666666666666,
              "#ed7953"
             ],
             [
              0.7777777777777778,
              "#fb9f3a"
             ],
             [
              0.8888888888888888,
              "#fdca26"
             ],
             [
              1,
              "#f0f921"
             ]
            ],
            "type": "histogram2d"
           }
          ],
          "histogram2dcontour": [
           {
            "colorbar": {
             "outlinewidth": 0,
             "ticks": ""
            },
            "colorscale": [
             [
              0,
              "#0d0887"
             ],
             [
              0.1111111111111111,
              "#46039f"
             ],
             [
              0.2222222222222222,
              "#7201a8"
             ],
             [
              0.3333333333333333,
              "#9c179e"
             ],
             [
              0.4444444444444444,
              "#bd3786"
             ],
             [
              0.5555555555555556,
              "#d8576b"
             ],
             [
              0.6666666666666666,
              "#ed7953"
             ],
             [
              0.7777777777777778,
              "#fb9f3a"
             ],
             [
              0.8888888888888888,
              "#fdca26"
             ],
             [
              1,
              "#f0f921"
             ]
            ],
            "type": "histogram2dcontour"
           }
          ],
          "mesh3d": [
           {
            "colorbar": {
             "outlinewidth": 0,
             "ticks": ""
            },
            "type": "mesh3d"
           }
          ],
          "parcoords": [
           {
            "line": {
             "colorbar": {
              "outlinewidth": 0,
              "ticks": ""
             }
            },
            "type": "parcoords"
           }
          ],
          "pie": [
           {
            "automargin": true,
            "type": "pie"
           }
          ],
          "scatter": [
           {
            "fillpattern": {
             "fillmode": "overlay",
             "size": 10,
             "solidity": 0.2
            },
            "type": "scatter"
           }
          ],
          "scatter3d": [
           {
            "line": {
             "colorbar": {
              "outlinewidth": 0,
              "ticks": ""
             }
            },
            "marker": {
             "colorbar": {
              "outlinewidth": 0,
              "ticks": ""
             }
            },
            "type": "scatter3d"
           }
          ],
          "scattercarpet": [
           {
            "marker": {
             "colorbar": {
              "outlinewidth": 0,
              "ticks": ""
             }
            },
            "type": "scattercarpet"
           }
          ],
          "scattergeo": [
           {
            "marker": {
             "colorbar": {
              "outlinewidth": 0,
              "ticks": ""
             }
            },
            "type": "scattergeo"
           }
          ],
          "scattergl": [
           {
            "marker": {
             "colorbar": {
              "outlinewidth": 0,
              "ticks": ""
             }
            },
            "type": "scattergl"
           }
          ],
          "scattermap": [
           {
            "marker": {
             "colorbar": {
              "outlinewidth": 0,
              "ticks": ""
             }
            },
            "type": "scattermap"
           }
          ],
          "scattermapbox": [
           {
            "marker": {
             "colorbar": {
              "outlinewidth": 0,
              "ticks": ""
             }
            },
            "type": "scattermapbox"
           }
          ],
          "scatterpolar": [
           {
            "marker": {
             "colorbar": {
              "outlinewidth": 0,
              "ticks": ""
             }
            },
            "type": "scatterpolar"
           }
          ],
          "scatterpolargl": [
           {
            "marker": {
             "colorbar": {
              "outlinewidth": 0,
              "ticks": ""
             }
            },
            "type": "scatterpolargl"
           }
          ],
          "scatterternary": [
           {
            "marker": {
             "colorbar": {
              "outlinewidth": 0,
              "ticks": ""
             }
            },
            "type": "scatterternary"
           }
          ],
          "surface": [
           {
            "colorbar": {
             "outlinewidth": 0,
             "ticks": ""
            },
            "colorscale": [
             [
              0,
              "#0d0887"
             ],
             [
              0.1111111111111111,
              "#46039f"
             ],
             [
              0.2222222222222222,
              "#7201a8"
             ],
             [
              0.3333333333333333,
              "#9c179e"
             ],
             [
              0.4444444444444444,
              "#bd3786"
             ],
             [
              0.5555555555555556,
              "#d8576b"
             ],
             [
              0.6666666666666666,
              "#ed7953"
             ],
             [
              0.7777777777777778,
              "#fb9f3a"
             ],
             [
              0.8888888888888888,
              "#fdca26"
             ],
             [
              1,
              "#f0f921"
             ]
            ],
            "type": "surface"
           }
          ],
          "table": [
           {
            "cells": {
             "fill": {
              "color": "#EBF0F8"
             },
             "line": {
              "color": "white"
             }
            },
            "header": {
             "fill": {
              "color": "#C8D4E3"
             },
             "line": {
              "color": "white"
             }
            },
            "type": "table"
           }
          ]
         },
         "layout": {
          "annotationdefaults": {
           "arrowcolor": "#2a3f5f",
           "arrowhead": 0,
           "arrowwidth": 1
          },
          "autotypenumbers": "strict",
          "coloraxis": {
           "colorbar": {
            "outlinewidth": 0,
            "ticks": ""
           }
          },
          "colorscale": {
           "diverging": [
            [
             0,
             "#8e0152"
            ],
            [
             0.1,
             "#c51b7d"
            ],
            [
             0.2,
             "#de77ae"
            ],
            [
             0.3,
             "#f1b6da"
            ],
            [
             0.4,
             "#fde0ef"
            ],
            [
             0.5,
             "#f7f7f7"
            ],
            [
             0.6,
             "#e6f5d0"
            ],
            [
             0.7,
             "#b8e186"
            ],
            [
             0.8,
             "#7fbc41"
            ],
            [
             0.9,
             "#4d9221"
            ],
            [
             1,
             "#276419"
            ]
           ],
           "sequential": [
            [
             0,
             "#0d0887"
            ],
            [
             0.1111111111111111,
             "#46039f"
            ],
            [
             0.2222222222222222,
             "#7201a8"
            ],
            [
             0.3333333333333333,
             "#9c179e"
            ],
            [
             0.4444444444444444,
             "#bd3786"
            ],
            [
             0.5555555555555556,
             "#d8576b"
            ],
            [
             0.6666666666666666,
             "#ed7953"
            ],
            [
             0.7777777777777778,
             "#fb9f3a"
            ],
            [
             0.8888888888888888,
             "#fdca26"
            ],
            [
             1,
             "#f0f921"
            ]
           ],
           "sequentialminus": [
            [
             0,
             "#0d0887"
            ],
            [
             0.1111111111111111,
             "#46039f"
            ],
            [
             0.2222222222222222,
             "#7201a8"
            ],
            [
             0.3333333333333333,
             "#9c179e"
            ],
            [
             0.4444444444444444,
             "#bd3786"
            ],
            [
             0.5555555555555556,
             "#d8576b"
            ],
            [
             0.6666666666666666,
             "#ed7953"
            ],
            [
             0.7777777777777778,
             "#fb9f3a"
            ],
            [
             0.8888888888888888,
             "#fdca26"
            ],
            [
             1,
             "#f0f921"
            ]
           ]
          },
          "colorway": [
           "#636efa",
           "#EF553B",
           "#00cc96",
           "#ab63fa",
           "#FFA15A",
           "#19d3f3",
           "#FF6692",
           "#B6E880",
           "#FF97FF",
           "#FECB52"
          ],
          "font": {
           "color": "#2a3f5f"
          },
          "geo": {
           "bgcolor": "white",
           "lakecolor": "white",
           "landcolor": "white",
           "showlakes": true,
           "showland": true,
           "subunitcolor": "#C8D4E3"
          },
          "hoverlabel": {
           "align": "left"
          },
          "hovermode": "closest",
          "mapbox": {
           "style": "light"
          },
          "paper_bgcolor": "white",
          "plot_bgcolor": "white",
          "polar": {
           "angularaxis": {
            "gridcolor": "#EBF0F8",
            "linecolor": "#EBF0F8",
            "ticks": ""
           },
           "bgcolor": "white",
           "radialaxis": {
            "gridcolor": "#EBF0F8",
            "linecolor": "#EBF0F8",
            "ticks": ""
           }
          },
          "scene": {
           "xaxis": {
            "backgroundcolor": "white",
            "gridcolor": "#DFE8F3",
            "gridwidth": 2,
            "linecolor": "#EBF0F8",
            "showbackground": true,
            "ticks": "",
            "zerolinecolor": "#EBF0F8"
           },
           "yaxis": {
            "backgroundcolor": "white",
            "gridcolor": "#DFE8F3",
            "gridwidth": 2,
            "linecolor": "#EBF0F8",
            "showbackground": true,
            "ticks": "",
            "zerolinecolor": "#EBF0F8"
           },
           "zaxis": {
            "backgroundcolor": "white",
            "gridcolor": "#DFE8F3",
            "gridwidth": 2,
            "linecolor": "#EBF0F8",
            "showbackground": true,
            "ticks": "",
            "zerolinecolor": "#EBF0F8"
           }
          },
          "shapedefaults": {
           "line": {
            "color": "#2a3f5f"
           }
          },
          "ternary": {
           "aaxis": {
            "gridcolor": "#DFE8F3",
            "linecolor": "#A2B1C6",
            "ticks": ""
           },
           "baxis": {
            "gridcolor": "#DFE8F3",
            "linecolor": "#A2B1C6",
            "ticks": ""
           },
           "bgcolor": "white",
           "caxis": {
            "gridcolor": "#DFE8F3",
            "linecolor": "#A2B1C6",
            "ticks": ""
           }
          },
          "title": {
           "x": 0.05
          },
          "xaxis": {
           "automargin": true,
           "gridcolor": "#EBF0F8",
           "linecolor": "#EBF0F8",
           "ticks": "",
           "title": {
            "standoff": 15
           },
           "zerolinecolor": "#EBF0F8",
           "zerolinewidth": 2
          },
          "yaxis": {
           "automargin": true,
           "gridcolor": "#EBF0F8",
           "linecolor": "#EBF0F8",
           "ticks": "",
           "title": {
            "standoff": 15
           },
           "zerolinecolor": "#EBF0F8",
           "zerolinewidth": 2
          }
         }
        },
        "title": {
         "text": "Calibration Curve – Test (Brier = 0.1985)"
        },
        "xaxis": {
         "title": {
          "text": "Predicted probability"
         }
        },
        "yaxis": {
         "title": {
          "text": "Observed frequency"
         }
        }
       }
      }
     },
     "metadata": {},
     "output_type": "display_data"
    }
   ],
   "source": [
    "# Curva de calibração\n",
    "evaluator.plot_calibration()"
   ]
  },
  {
   "cell_type": "code",
   "execution_count": 32,
   "id": "b8284278",
   "metadata": {},
   "outputs": [
    {
     "data": {
      "application/vnd.plotly.v1+json": {
       "config": {
        "plotlyServerURL": "https://plot.ly"
       },
       "data": [
        {
         "line": {
          "color": "rgb(217,58,70)"
         },
         "mode": "lines+markers",
         "name": "(-inf, 320.18)",
         "type": "scatter",
         "x": [
          "2022-01-01T00:00:00.000000000",
          "2022-02-01T00:00:00.000000000",
          "2022-03-01T00:00:00.000000000",
          "2022-04-01T00:00:00.000000000",
          "2022-05-01T00:00:00.000000000",
          "2022-06-01T00:00:00.000000000",
          "2022-07-01T00:00:00.000000000",
          "2022-08-01T00:00:00.000000000",
          "2022-09-01T00:00:00.000000000",
          "2022-10-01T00:00:00.000000000",
          "2022-11-01T00:00:00.000000000",
          "2022-12-01T00:00:00.000000000",
          "2023-01-01T00:00:00.000000000",
          "2023-02-01T00:00:00.000000000",
          "2023-03-01T00:00:00.000000000",
          "2023-04-01T00:00:00.000000000",
          "2023-05-01T00:00:00.000000000",
          "2023-06-01T00:00:00.000000000",
          "2023-07-01T00:00:00.000000000",
          "2023-08-01T00:00:00.000000000",
          "2023-09-01T00:00:00.000000000",
          "2023-10-01T00:00:00.000000000",
          "2023-11-01T00:00:00.000000000",
          "2023-12-01T00:00:00.000000000",
          "2024-01-01T00:00:00.000000000",
          "2024-02-01T00:00:00.000000000",
          "2024-03-01T00:00:00.000000000",
          "2024-04-01T00:00:00.000000000",
          "2024-05-01T00:00:00.000000000",
          "2024-06-01T00:00:00.000000000",
          "2024-07-01T00:00:00.000000000",
          "2024-08-01T00:00:00.000000000",
          "2024-09-01T00:00:00.000000000",
          "2024-10-01T00:00:00.000000000",
          "2024-11-01T00:00:00.000000000",
          "2024-12-01T00:00:00.000000000",
          "2025-01-01T00:00:00.000000000",
          "2025-02-01T00:00:00.000000000",
          "2025-03-01T00:00:00.000000000",
          "2025-04-01T00:00:00.000000000",
          "2025-05-01T00:00:00.000000000",
          "2025-06-01T00:00:00.000000000",
          "2025-07-01T00:00:00.000000000",
          "2025-08-01T00:00:00.000000000",
          "2025-09-01T00:00:00.000000000",
          "2025-10-01T00:00:00.000000000",
          "2025-11-01T00:00:00.000000000",
          "2025-12-01T00:00:00.000000000"
         ],
         "y": {
          "bdata": "AAAAAAAA8D84rH3D2jfsP3d3d3d3d+c/AAAAAACA5D+IAx5/OODhPy+66KKLLuI/NfxtilHD3z9yHMdxHMfdP2NI5y2GdN4/Lt/yLd/y3T+qeK5ZHUbZP6iDOqiDOtg/27Zt27Zt2z9XBA0ndV/eP/jee++9994/NSbSA5Wz2z+pXYnalajdP5O2pC1pS9o/iZ9R4meU2D9mZmZmZmbWPzE2C6o9J9M/pORZRvQB1T9LpVKpVCrVP18eWxE0nNQ/doMp8lk32D+q8dJNYhDYPwJxoeYkENc/+602hqY72D+amZmZmZnZP65H4XoUrtc/JUmSJEmS1D9vetOb3vTWP2RqYO+YGtg/TxvotIFO2z/kOI7jOI7bPy+66KKLLto/24G5dmCu3T8XXXTRRRfdPwRz7cBcO+A/Hh4eHh4e3j/44IMPPvjgP+sGU+SzbuA/mCKfdYMp4j+lSZMmTZrkP7ETO7ETO+E/ERERERER4T9zTyMs9zTiP0GeEuQpQd4/",
          "dtype": "f8"
         }
        },
        {
         "line": {
          "color": "rgb(230,148,154)"
         },
         "mode": "lines+markers",
         "name": "[320.18, 489.44)",
         "type": "scatter",
         "x": [
          "2022-01-01T00:00:00.000000000",
          "2022-02-01T00:00:00.000000000",
          "2022-03-01T00:00:00.000000000",
          "2022-04-01T00:00:00.000000000",
          "2022-05-01T00:00:00.000000000",
          "2022-06-01T00:00:00.000000000",
          "2022-07-01T00:00:00.000000000",
          "2022-08-01T00:00:00.000000000",
          "2022-09-01T00:00:00.000000000",
          "2022-10-01T00:00:00.000000000",
          "2022-11-01T00:00:00.000000000",
          "2022-12-01T00:00:00.000000000",
          "2023-01-01T00:00:00.000000000",
          "2023-02-01T00:00:00.000000000",
          "2023-03-01T00:00:00.000000000",
          "2023-04-01T00:00:00.000000000",
          "2023-05-01T00:00:00.000000000",
          "2023-06-01T00:00:00.000000000",
          "2023-07-01T00:00:00.000000000",
          "2023-08-01T00:00:00.000000000",
          "2023-09-01T00:00:00.000000000",
          "2023-10-01T00:00:00.000000000",
          "2023-11-01T00:00:00.000000000",
          "2023-12-01T00:00:00.000000000",
          "2024-01-01T00:00:00.000000000",
          "2024-02-01T00:00:00.000000000",
          "2024-03-01T00:00:00.000000000",
          "2024-04-01T00:00:00.000000000",
          "2024-05-01T00:00:00.000000000",
          "2024-06-01T00:00:00.000000000",
          "2024-07-01T00:00:00.000000000",
          "2024-08-01T00:00:00.000000000",
          "2024-09-01T00:00:00.000000000",
          "2024-10-01T00:00:00.000000000",
          "2024-11-01T00:00:00.000000000",
          "2024-12-01T00:00:00.000000000",
          "2025-01-01T00:00:00.000000000",
          "2025-02-01T00:00:00.000000000",
          "2025-03-01T00:00:00.000000000",
          "2025-04-01T00:00:00.000000000",
          "2025-05-01T00:00:00.000000000",
          "2025-06-01T00:00:00.000000000",
          "2025-07-01T00:00:00.000000000",
          "2025-08-01T00:00:00.000000000",
          "2025-09-01T00:00:00.000000000",
          "2025-10-01T00:00:00.000000000",
          "2025-11-01T00:00:00.000000000",
          "2025-12-01T00:00:00.000000000"
         ],
         "y": {
          "bdata": "AkeKhvjj1j+96U1vetPLPzDncenbX8k/MZ3FdBbTyT/Uy0ishovPPz6NsNzTCMs//2h/tD/azz/sxE7sxE7MP+wYxbmOUcw/aj9ZApv2wz9nt/CrMZHOP5ZGj6gg29A/q6qqqqqqyj8cx3Ecx3HMPzdMcxf8Vcw/uMJph30rzD+WaZZplmnGPzPUKowQ2cc/pXPZDFE6xz//qnEv8K/KP/y+7/u+78s/n9+fioPWzD+bmpqamprKP4tKJF9T78w/xOUmzwHazT9xR9wRd8TNP7gehetRuM4/px9q+qGmzz+d3cKvxkTKP4ZzN7SJf84/KBQKhUKh0D+/7/u+7/vOPxv823Kmw9E/JCrINgQUzz9Dd+xqWHrRP9TT09PT09M/lVJKKaWU0j/eScProzbSP6tnh8CNZdA/Ke1GQEq70T/SggTU7HrRP3kN5TWU19A/bS4darA70z9HNevP4DfRPxZf8RVf8dU/exSuR+F61D8AAAAAAADVP2ELtmALttA/",
          "dtype": "f8"
         }
        },
        {
         "line": {
          "color": "rgb(242,241,241)"
         },
         "mode": "lines+markers",
         "name": "[489.44, 666.66)",
         "type": "scatter",
         "x": [
          "2022-01-01T00:00:00.000000000",
          "2022-02-01T00:00:00.000000000",
          "2022-03-01T00:00:00.000000000",
          "2022-04-01T00:00:00.000000000",
          "2022-05-01T00:00:00.000000000",
          "2022-06-01T00:00:00.000000000",
          "2022-07-01T00:00:00.000000000",
          "2022-08-01T00:00:00.000000000",
          "2022-09-01T00:00:00.000000000",
          "2022-10-01T00:00:00.000000000",
          "2022-11-01T00:00:00.000000000",
          "2022-12-01T00:00:00.000000000",
          "2023-01-01T00:00:00.000000000",
          "2023-02-01T00:00:00.000000000",
          "2023-03-01T00:00:00.000000000",
          "2023-04-01T00:00:00.000000000",
          "2023-05-01T00:00:00.000000000",
          "2023-06-01T00:00:00.000000000",
          "2023-07-01T00:00:00.000000000",
          "2023-08-01T00:00:00.000000000",
          "2023-09-01T00:00:00.000000000",
          "2023-10-01T00:00:00.000000000",
          "2023-11-01T00:00:00.000000000",
          "2023-12-01T00:00:00.000000000",
          "2024-01-01T00:00:00.000000000",
          "2024-02-01T00:00:00.000000000",
          "2024-03-01T00:00:00.000000000",
          "2024-04-01T00:00:00.000000000",
          "2024-05-01T00:00:00.000000000",
          "2024-06-01T00:00:00.000000000",
          "2024-07-01T00:00:00.000000000",
          "2024-08-01T00:00:00.000000000",
          "2024-09-01T00:00:00.000000000",
          "2024-10-01T00:00:00.000000000",
          "2024-11-01T00:00:00.000000000",
          "2024-12-01T00:00:00.000000000",
          "2025-01-01T00:00:00.000000000",
          "2025-02-01T00:00:00.000000000",
          "2025-03-01T00:00:00.000000000",
          "2025-04-01T00:00:00.000000000",
          "2025-05-01T00:00:00.000000000",
          "2025-06-01T00:00:00.000000000",
          "2025-07-01T00:00:00.000000000",
          "2025-08-01T00:00:00.000000000",
          "2025-09-01T00:00:00.000000000",
          "2025-10-01T00:00:00.000000000",
          "2025-11-01T00:00:00.000000000",
          "2025-12-01T00:00:00.000000000"
         ],
         "y": {
          "bdata": "GHqhF3qhhz/6GJyPwfmIP04CcaHmJLA/pmbD/i4GtT86i+ksprOoP27btm3btrU/SvWVzM+iuD9TxuxOGl6/P/6FT2UpDrk/O80KDl9IwT8cx3Ecx3G8P2gvob2E9rI/mpmZmZmZuT8TExMTExOzPxd+NSbSA7U/UCSc0rz4sz9+87Q9cq3APxvKayivobw/C1nIQhaywD8bK2WPf0W7PxIkvUMxmME/su8ROUG4uz9hHxf2cWG/P2ZmZmZmZr4/Xi1uwvyutj/VkAESTw25P6AcxYcqLLo/uZLAvCd0uD/I4HwMzsfAPx9yWTFQwrs/qV2J2pWovT8DF7jABS7AP5S6L4+tCLo/+N577733vj+Uui+PrQi6P6CkggFKKrg/OY7jOI7juD+DrhENK+i6PxsbGxsbG7s/Wi9gm9NVvj8AAAAAAADAP7TflOcSyLo/V+HLDTEgvT9XRvo+S8TAPx/v8R7v8b4/k/OyiE8gxT9FE0000UTDPwAAAAAAAMg/",
          "dtype": "f8"
         }
        },
        {
         "line": {
          "color": "rgb(153,183,205)"
         },
         "mode": "lines+markers",
         "name": "[666.66, 763.85)",
         "type": "scatter",
         "x": [
          "2022-01-01T00:00:00.000000000",
          "2022-02-01T00:00:00.000000000",
          "2022-03-01T00:00:00.000000000",
          "2022-04-01T00:00:00.000000000",
          "2022-05-01T00:00:00.000000000",
          "2022-06-01T00:00:00.000000000",
          "2022-07-01T00:00:00.000000000",
          "2022-08-01T00:00:00.000000000",
          "2022-09-01T00:00:00.000000000",
          "2022-10-01T00:00:00.000000000",
          "2022-11-01T00:00:00.000000000",
          "2022-12-01T00:00:00.000000000",
          "2023-01-01T00:00:00.000000000",
          "2023-02-01T00:00:00.000000000",
          "2023-03-01T00:00:00.000000000",
          "2023-04-01T00:00:00.000000000",
          "2023-05-01T00:00:00.000000000",
          "2023-06-01T00:00:00.000000000",
          "2023-07-01T00:00:00.000000000",
          "2023-08-01T00:00:00.000000000",
          "2023-09-01T00:00:00.000000000",
          "2023-10-01T00:00:00.000000000",
          "2023-11-01T00:00:00.000000000",
          "2023-12-01T00:00:00.000000000",
          "2024-01-01T00:00:00.000000000",
          "2024-02-01T00:00:00.000000000",
          "2024-03-01T00:00:00.000000000",
          "2024-04-01T00:00:00.000000000",
          "2024-05-01T00:00:00.000000000",
          "2024-06-01T00:00:00.000000000",
          "2024-07-01T00:00:00.000000000",
          "2024-08-01T00:00:00.000000000",
          "2024-09-01T00:00:00.000000000",
          "2024-10-01T00:00:00.000000000",
          "2024-11-01T00:00:00.000000000",
          "2024-12-01T00:00:00.000000000",
          "2025-01-01T00:00:00.000000000",
          "2025-02-01T00:00:00.000000000",
          "2025-03-01T00:00:00.000000000",
          "2025-04-01T00:00:00.000000000",
          "2025-05-01T00:00:00.000000000",
          "2025-06-01T00:00:00.000000000",
          "2025-07-01T00:00:00.000000000",
          "2025-08-01T00:00:00.000000000",
          "2025-09-01T00:00:00.000000000",
          "2025-10-01T00:00:00.000000000",
          "2025-11-01T00:00:00.000000000",
          "2025-12-01T00:00:00.000000000"
         ],
         "y": {
          "bdata": "hx/VJWYtlD+rqqqqqqqaPxVQARVQAYU/GYnVcPFDmD/HN0Nr9+GWP0B/Af0F9Jc/xzdDa/fhlj8AAAAAAACgP4jQQ+gh9KA/ZmZmZmZmpj/g6db8sEipP4U3mjq/9rA/qjTk3GcXsD8XXXTRRRetPzR1fu0hl6U/lPBGU+fXrj/jJszvanGjPxK9ZxK9Z7I/Akt6+dMWqj9YpAw83ZqvPxsbGxsbG6s/0hMcPcHRsz80dX7tIZe1P8Ps4Agirac/QDqWMgl2pT9yuAz45HCpPzRPqAWMSaw/lG5fWb1Lrj/QusEU+aybP5ByU9E8oaY/hBBCCCGEoD9VVVVVVVWlP3AfwX0E96E/NE+oBYxJrD/UH7GAO/2xP1VVVVVVVaU/HMIhHMIhrD8LWchCFrKwP1VVVVVVVbE/EARBEARBsD9FE0000USjP1VVVVVVVbU/qvNrD7msqD/4NSEoe1+jPxQ7sRM7saM/RRNNNNFEoz80T6gFjEmcPxDfQXwH8a0/",
          "dtype": "f8"
         }
        },
        {
         "line": {
          "color": "rgb(65,124,167)"
         },
         "mode": "lines+markers",
         "name": "[763.85, inf)",
         "type": "scatter",
         "x": [
          "2022-01-01T00:00:00.000000000",
          "2022-02-01T00:00:00.000000000",
          "2022-03-01T00:00:00.000000000",
          "2022-04-01T00:00:00.000000000",
          "2022-05-01T00:00:00.000000000",
          "2022-06-01T00:00:00.000000000",
          "2022-07-01T00:00:00.000000000",
          "2022-08-01T00:00:00.000000000",
          "2022-09-01T00:00:00.000000000",
          "2022-10-01T00:00:00.000000000",
          "2022-11-01T00:00:00.000000000",
          "2022-12-01T00:00:00.000000000",
          "2023-01-01T00:00:00.000000000",
          "2023-02-01T00:00:00.000000000",
          "2023-03-01T00:00:00.000000000",
          "2023-04-01T00:00:00.000000000",
          "2023-05-01T00:00:00.000000000",
          "2023-06-01T00:00:00.000000000",
          "2023-07-01T00:00:00.000000000",
          "2023-08-01T00:00:00.000000000",
          "2023-09-01T00:00:00.000000000",
          "2023-10-01T00:00:00.000000000",
          "2023-11-01T00:00:00.000000000",
          "2023-12-01T00:00:00.000000000",
          "2024-01-01T00:00:00.000000000",
          "2024-02-01T00:00:00.000000000",
          "2024-03-01T00:00:00.000000000",
          "2024-04-01T00:00:00.000000000",
          "2024-05-01T00:00:00.000000000",
          "2024-06-01T00:00:00.000000000",
          "2024-07-01T00:00:00.000000000",
          "2024-08-01T00:00:00.000000000",
          "2024-09-01T00:00:00.000000000",
          "2024-10-01T00:00:00.000000000",
          "2024-11-01T00:00:00.000000000",
          "2024-12-01T00:00:00.000000000",
          "2025-01-01T00:00:00.000000000",
          "2025-02-01T00:00:00.000000000",
          "2025-03-01T00:00:00.000000000",
          "2025-04-01T00:00:00.000000000",
          "2025-05-01T00:00:00.000000000",
          "2025-06-01T00:00:00.000000000",
          "2025-07-01T00:00:00.000000000",
          "2025-08-01T00:00:00.000000000",
          "2025-09-01T00:00:00.000000000",
          "2025-10-01T00:00:00.000000000",
          "2025-11-01T00:00:00.000000000",
          "2025-12-01T00:00:00.000000000"
         ],
         "y": {
          "bdata": "AAAAAAAAAAAAAAAAAAAAAA0ndV8eW3E/AAAAAAAAAAA7zQoOX0iBPxlofhlofok/HYGirQbPgT95c0KJBm5xP+Dp1vywSIk/dLg/O+/ikT/gwIEDBw6MPxQ7sRM7sZM/sAlB2fuakD80T6gFjEmcPxEREREREZE/wXgr+xxSkz9tGtCmAW2KP6NgUbAoWJQ/OQUvp+DllD8cTJHPusGkPxEREREREaE/9waUiSvdmz9ItMLmQKKVPwAAAAAAAKw/Ix020mEjrT/0BX1BX9CXPxEREREREZE/DSd1Xx5bgT9MZzGdxXSmP+0b1r5h7Zs/ERERERERoT8IH3zwwQefPxdswRZswaY/8Af8AX/Anz8d1EEd1EGNP9C6wRT5rJs/dMBuj7UMfT/6GJyPwfl4PwJLevnTFpo/qvNrD7mseD/lEzGbS4eaP+AXbu2N1Y8/nKKMgFOUkT+WexphuaeBPxdswRZswYY/dOUByTpXjj/SeYshnbeYP5Z7GmG5p6E/",
          "dtype": "f8"
         }
        }
       ],
       "layout": {
        "template": {
         "data": {
          "bar": [
           {
            "error_x": {
             "color": "#2a3f5f"
            },
            "error_y": {
             "color": "#2a3f5f"
            },
            "marker": {
             "line": {
              "color": "white",
              "width": 0.5
             },
             "pattern": {
              "fillmode": "overlay",
              "size": 10,
              "solidity": 0.2
             }
            },
            "type": "bar"
           }
          ],
          "barpolar": [
           {
            "marker": {
             "line": {
              "color": "white",
              "width": 0.5
             },
             "pattern": {
              "fillmode": "overlay",
              "size": 10,
              "solidity": 0.2
             }
            },
            "type": "barpolar"
           }
          ],
          "carpet": [
           {
            "aaxis": {
             "endlinecolor": "#2a3f5f",
             "gridcolor": "#C8D4E3",
             "linecolor": "#C8D4E3",
             "minorgridcolor": "#C8D4E3",
             "startlinecolor": "#2a3f5f"
            },
            "baxis": {
             "endlinecolor": "#2a3f5f",
             "gridcolor": "#C8D4E3",
             "linecolor": "#C8D4E3",
             "minorgridcolor": "#C8D4E3",
             "startlinecolor": "#2a3f5f"
            },
            "type": "carpet"
           }
          ],
          "choropleth": [
           {
            "colorbar": {
             "outlinewidth": 0,
             "ticks": ""
            },
            "type": "choropleth"
           }
          ],
          "contour": [
           {
            "colorbar": {
             "outlinewidth": 0,
             "ticks": ""
            },
            "colorscale": [
             [
              0,
              "#0d0887"
             ],
             [
              0.1111111111111111,
              "#46039f"
             ],
             [
              0.2222222222222222,
              "#7201a8"
             ],
             [
              0.3333333333333333,
              "#9c179e"
             ],
             [
              0.4444444444444444,
              "#bd3786"
             ],
             [
              0.5555555555555556,
              "#d8576b"
             ],
             [
              0.6666666666666666,
              "#ed7953"
             ],
             [
              0.7777777777777778,
              "#fb9f3a"
             ],
             [
              0.8888888888888888,
              "#fdca26"
             ],
             [
              1,
              "#f0f921"
             ]
            ],
            "type": "contour"
           }
          ],
          "contourcarpet": [
           {
            "colorbar": {
             "outlinewidth": 0,
             "ticks": ""
            },
            "type": "contourcarpet"
           }
          ],
          "heatmap": [
           {
            "colorbar": {
             "outlinewidth": 0,
             "ticks": ""
            },
            "colorscale": [
             [
              0,
              "#0d0887"
             ],
             [
              0.1111111111111111,
              "#46039f"
             ],
             [
              0.2222222222222222,
              "#7201a8"
             ],
             [
              0.3333333333333333,
              "#9c179e"
             ],
             [
              0.4444444444444444,
              "#bd3786"
             ],
             [
              0.5555555555555556,
              "#d8576b"
             ],
             [
              0.6666666666666666,
              "#ed7953"
             ],
             [
              0.7777777777777778,
              "#fb9f3a"
             ],
             [
              0.8888888888888888,
              "#fdca26"
             ],
             [
              1,
              "#f0f921"
             ]
            ],
            "type": "heatmap"
           }
          ],
          "histogram": [
           {
            "marker": {
             "pattern": {
              "fillmode": "overlay",
              "size": 10,
              "solidity": 0.2
             }
            },
            "type": "histogram"
           }
          ],
          "histogram2d": [
           {
            "colorbar": {
             "outlinewidth": 0,
             "ticks": ""
            },
            "colorscale": [
             [
              0,
              "#0d0887"
             ],
             [
              0.1111111111111111,
              "#46039f"
             ],
             [
              0.2222222222222222,
              "#7201a8"
             ],
             [
              0.3333333333333333,
              "#9c179e"
             ],
             [
              0.4444444444444444,
              "#bd3786"
             ],
             [
              0.5555555555555556,
              "#d8576b"
             ],
             [
              0.6666666666666666,
              "#ed7953"
             ],
             [
              0.7777777777777778,
              "#fb9f3a"
             ],
             [
              0.8888888888888888,
              "#fdca26"
             ],
             [
              1,
              "#f0f921"
             ]
            ],
            "type": "histogram2d"
           }
          ],
          "histogram2dcontour": [
           {
            "colorbar": {
             "outlinewidth": 0,
             "ticks": ""
            },
            "colorscale": [
             [
              0,
              "#0d0887"
             ],
             [
              0.1111111111111111,
              "#46039f"
             ],
             [
              0.2222222222222222,
              "#7201a8"
             ],
             [
              0.3333333333333333,
              "#9c179e"
             ],
             [
              0.4444444444444444,
              "#bd3786"
             ],
             [
              0.5555555555555556,
              "#d8576b"
             ],
             [
              0.6666666666666666,
              "#ed7953"
             ],
             [
              0.7777777777777778,
              "#fb9f3a"
             ],
             [
              0.8888888888888888,
              "#fdca26"
             ],
             [
              1,
              "#f0f921"
             ]
            ],
            "type": "histogram2dcontour"
           }
          ],
          "mesh3d": [
           {
            "colorbar": {
             "outlinewidth": 0,
             "ticks": ""
            },
            "type": "mesh3d"
           }
          ],
          "parcoords": [
           {
            "line": {
             "colorbar": {
              "outlinewidth": 0,
              "ticks": ""
             }
            },
            "type": "parcoords"
           }
          ],
          "pie": [
           {
            "automargin": true,
            "type": "pie"
           }
          ],
          "scatter": [
           {
            "fillpattern": {
             "fillmode": "overlay",
             "size": 10,
             "solidity": 0.2
            },
            "type": "scatter"
           }
          ],
          "scatter3d": [
           {
            "line": {
             "colorbar": {
              "outlinewidth": 0,
              "ticks": ""
             }
            },
            "marker": {
             "colorbar": {
              "outlinewidth": 0,
              "ticks": ""
             }
            },
            "type": "scatter3d"
           }
          ],
          "scattercarpet": [
           {
            "marker": {
             "colorbar": {
              "outlinewidth": 0,
              "ticks": ""
             }
            },
            "type": "scattercarpet"
           }
          ],
          "scattergeo": [
           {
            "marker": {
             "colorbar": {
              "outlinewidth": 0,
              "ticks": ""
             }
            },
            "type": "scattergeo"
           }
          ],
          "scattergl": [
           {
            "marker": {
             "colorbar": {
              "outlinewidth": 0,
              "ticks": ""
             }
            },
            "type": "scattergl"
           }
          ],
          "scattermap": [
           {
            "marker": {
             "colorbar": {
              "outlinewidth": 0,
              "ticks": ""
             }
            },
            "type": "scattermap"
           }
          ],
          "scattermapbox": [
           {
            "marker": {
             "colorbar": {
              "outlinewidth": 0,
              "ticks": ""
             }
            },
            "type": "scattermapbox"
           }
          ],
          "scatterpolar": [
           {
            "marker": {
             "colorbar": {
              "outlinewidth": 0,
              "ticks": ""
             }
            },
            "type": "scatterpolar"
           }
          ],
          "scatterpolargl": [
           {
            "marker": {
             "colorbar": {
              "outlinewidth": 0,
              "ticks": ""
             }
            },
            "type": "scatterpolargl"
           }
          ],
          "scatterternary": [
           {
            "marker": {
             "colorbar": {
              "outlinewidth": 0,
              "ticks": ""
             }
            },
            "type": "scatterternary"
           }
          ],
          "surface": [
           {
            "colorbar": {
             "outlinewidth": 0,
             "ticks": ""
            },
            "colorscale": [
             [
              0,
              "#0d0887"
             ],
             [
              0.1111111111111111,
              "#46039f"
             ],
             [
              0.2222222222222222,
              "#7201a8"
             ],
             [
              0.3333333333333333,
              "#9c179e"
             ],
             [
              0.4444444444444444,
              "#bd3786"
             ],
             [
              0.5555555555555556,
              "#d8576b"
             ],
             [
              0.6666666666666666,
              "#ed7953"
             ],
             [
              0.7777777777777778,
              "#fb9f3a"
             ],
             [
              0.8888888888888888,
              "#fdca26"
             ],
             [
              1,
              "#f0f921"
             ]
            ],
            "type": "surface"
           }
          ],
          "table": [
           {
            "cells": {
             "fill": {
              "color": "#EBF0F8"
             },
             "line": {
              "color": "white"
             }
            },
            "header": {
             "fill": {
              "color": "#C8D4E3"
             },
             "line": {
              "color": "white"
             }
            },
            "type": "table"
           }
          ]
         },
         "layout": {
          "annotationdefaults": {
           "arrowcolor": "#2a3f5f",
           "arrowhead": 0,
           "arrowwidth": 1
          },
          "autotypenumbers": "strict",
          "coloraxis": {
           "colorbar": {
            "outlinewidth": 0,
            "ticks": ""
           }
          },
          "colorscale": {
           "diverging": [
            [
             0,
             "#8e0152"
            ],
            [
             0.1,
             "#c51b7d"
            ],
            [
             0.2,
             "#de77ae"
            ],
            [
             0.3,
             "#f1b6da"
            ],
            [
             0.4,
             "#fde0ef"
            ],
            [
             0.5,
             "#f7f7f7"
            ],
            [
             0.6,
             "#e6f5d0"
            ],
            [
             0.7,
             "#b8e186"
            ],
            [
             0.8,
             "#7fbc41"
            ],
            [
             0.9,
             "#4d9221"
            ],
            [
             1,
             "#276419"
            ]
           ],
           "sequential": [
            [
             0,
             "#0d0887"
            ],
            [
             0.1111111111111111,
             "#46039f"
            ],
            [
             0.2222222222222222,
             "#7201a8"
            ],
            [
             0.3333333333333333,
             "#9c179e"
            ],
            [
             0.4444444444444444,
             "#bd3786"
            ],
            [
             0.5555555555555556,
             "#d8576b"
            ],
            [
             0.6666666666666666,
             "#ed7953"
            ],
            [
             0.7777777777777778,
             "#fb9f3a"
            ],
            [
             0.8888888888888888,
             "#fdca26"
            ],
            [
             1,
             "#f0f921"
            ]
           ],
           "sequentialminus": [
            [
             0,
             "#0d0887"
            ],
            [
             0.1111111111111111,
             "#46039f"
            ],
            [
             0.2222222222222222,
             "#7201a8"
            ],
            [
             0.3333333333333333,
             "#9c179e"
            ],
            [
             0.4444444444444444,
             "#bd3786"
            ],
            [
             0.5555555555555556,
             "#d8576b"
            ],
            [
             0.6666666666666666,
             "#ed7953"
            ],
            [
             0.7777777777777778,
             "#fb9f3a"
            ],
            [
             0.8888888888888888,
             "#fdca26"
            ],
            [
             1,
             "#f0f921"
            ]
           ]
          },
          "colorway": [
           "#636efa",
           "#EF553B",
           "#00cc96",
           "#ab63fa",
           "#FFA15A",
           "#19d3f3",
           "#FF6692",
           "#B6E880",
           "#FF97FF",
           "#FECB52"
          ],
          "font": {
           "color": "#2a3f5f"
          },
          "geo": {
           "bgcolor": "white",
           "lakecolor": "white",
           "landcolor": "white",
           "showlakes": true,
           "showland": true,
           "subunitcolor": "#C8D4E3"
          },
          "hoverlabel": {
           "align": "left"
          },
          "hovermode": "closest",
          "mapbox": {
           "style": "light"
          },
          "paper_bgcolor": "white",
          "plot_bgcolor": "white",
          "polar": {
           "angularaxis": {
            "gridcolor": "#EBF0F8",
            "linecolor": "#EBF0F8",
            "ticks": ""
           },
           "bgcolor": "white",
           "radialaxis": {
            "gridcolor": "#EBF0F8",
            "linecolor": "#EBF0F8",
            "ticks": ""
           }
          },
          "scene": {
           "xaxis": {
            "backgroundcolor": "white",
            "gridcolor": "#DFE8F3",
            "gridwidth": 2,
            "linecolor": "#EBF0F8",
            "showbackground": true,
            "ticks": "",
            "zerolinecolor": "#EBF0F8"
           },
           "yaxis": {
            "backgroundcolor": "white",
            "gridcolor": "#DFE8F3",
            "gridwidth": 2,
            "linecolor": "#EBF0F8",
            "showbackground": true,
            "ticks": "",
            "zerolinecolor": "#EBF0F8"
           },
           "zaxis": {
            "backgroundcolor": "white",
            "gridcolor": "#DFE8F3",
            "gridwidth": 2,
            "linecolor": "#EBF0F8",
            "showbackground": true,
            "ticks": "",
            "zerolinecolor": "#EBF0F8"
           }
          },
          "shapedefaults": {
           "line": {
            "color": "#2a3f5f"
           }
          },
          "ternary": {
           "aaxis": {
            "gridcolor": "#DFE8F3",
            "linecolor": "#A2B1C6",
            "ticks": ""
           },
           "baxis": {
            "gridcolor": "#DFE8F3",
            "linecolor": "#A2B1C6",
            "ticks": ""
           },
           "bgcolor": "white",
           "caxis": {
            "gridcolor": "#DFE8F3",
            "linecolor": "#A2B1C6",
            "ticks": ""
           }
          },
          "title": {
           "x": 0.05
          },
          "xaxis": {
           "automargin": true,
           "gridcolor": "#EBF0F8",
           "linecolor": "#EBF0F8",
           "ticks": "",
           "title": {
            "standoff": 15
           },
           "zerolinecolor": "#EBF0F8",
           "zerolinewidth": 2
          },
          "yaxis": {
           "automargin": true,
           "gridcolor": "#EBF0F8",
           "linecolor": "#EBF0F8",
           "ticks": "",
           "title": {
            "standoff": 15
           },
           "zerolinecolor": "#EBF0F8",
           "zerolinewidth": 2
          }
         }
        },
        "title": {
         "text": "Event Rate by Group over Time"
        },
        "xaxis": {
         "title": {
          "text": "ref_date"
         }
        },
        "yaxis": {
         "title": {
          "text": "Event rate"
         }
        }
       }
      }
     },
     "metadata": {},
     "output_type": "display_data"
    },
    {
     "data": {
      "application/vnd.plotly.v1+json": {
       "config": {
        "plotlyServerURL": "https://plot.ly"
       },
       "data": [
        {
         "marker": {
          "color": "rgb(217,58,70)"
         },
         "name": "(-inf, 320.18)",
         "type": "bar",
         "x": [
          "2022-01-01T00:00:00.000000000",
          "2022-02-01T00:00:00.000000000",
          "2022-03-01T00:00:00.000000000",
          "2022-04-01T00:00:00.000000000",
          "2022-05-01T00:00:00.000000000",
          "2022-06-01T00:00:00.000000000",
          "2022-07-01T00:00:00.000000000",
          "2022-08-01T00:00:00.000000000",
          "2022-09-01T00:00:00.000000000",
          "2022-10-01T00:00:00.000000000",
          "2022-11-01T00:00:00.000000000",
          "2022-12-01T00:00:00.000000000",
          "2023-01-01T00:00:00.000000000",
          "2023-02-01T00:00:00.000000000",
          "2023-03-01T00:00:00.000000000",
          "2023-04-01T00:00:00.000000000",
          "2023-05-01T00:00:00.000000000",
          "2023-06-01T00:00:00.000000000",
          "2023-07-01T00:00:00.000000000",
          "2023-08-01T00:00:00.000000000",
          "2023-09-01T00:00:00.000000000",
          "2023-10-01T00:00:00.000000000",
          "2023-11-01T00:00:00.000000000",
          "2023-12-01T00:00:00.000000000",
          "2024-01-01T00:00:00.000000000",
          "2024-02-01T00:00:00.000000000",
          "2024-03-01T00:00:00.000000000",
          "2024-04-01T00:00:00.000000000",
          "2024-05-01T00:00:00.000000000",
          "2024-06-01T00:00:00.000000000",
          "2024-07-01T00:00:00.000000000",
          "2024-08-01T00:00:00.000000000",
          "2024-09-01T00:00:00.000000000",
          "2024-10-01T00:00:00.000000000",
          "2024-11-01T00:00:00.000000000",
          "2024-12-01T00:00:00.000000000",
          "2025-01-01T00:00:00.000000000",
          "2025-02-01T00:00:00.000000000",
          "2025-03-01T00:00:00.000000000",
          "2025-04-01T00:00:00.000000000",
          "2025-05-01T00:00:00.000000000",
          "2025-06-01T00:00:00.000000000",
          "2025-07-01T00:00:00.000000000",
          "2025-08-01T00:00:00.000000000",
          "2025-09-01T00:00:00.000000000",
          "2025-10-01T00:00:00.000000000",
          "2025-11-01T00:00:00.000000000",
          "2025-12-01T00:00:00.000000000"
         ],
         "y": {
          "bdata": "qvHSTWIQuD8pXI/C9Si8P7gehetRuL4//Knx0k1iwD+PwvUoXI/CP0w3iUFg5cA/SOF6FK5HwT8730+Nl27CP4/C9Shcj8I/K4cW2c73wz9/arx0kxjEP+xRuB6F68E/7FG4HoXrwT9oke18PzW+P1g5tMh2vr8/9P3UeOkmwT+wcmiR7Xy/P1CNl24Sg8A/RIts5/upwT/sUbgehevBP/Cnxks3icE/+FPjpZvEwD+oxks3iUHAP2iR7Xw/Nb4/0SLb+X5qvD8AAAAAAADAP9Ei2/l+arw/ke18PzVeuj/hehSuR+G6P5qZmZmZmbk/eekmMQisvD9aZDvfT423P4PAyqFFtrM/MzMzMzMzsz8730+Nl26yP0w3iUFg5bA/RIts5/upsT9MN4lBYOWwP0SLbOf7qbE/nMQgsHJosT9MN4lBYOWwP4ts5/up8bI/i2zn+6nxsj/jpZvEILCyP6RwPQrXo7A/uB6F61G4rj8ZBFYOLbKtPylcj8L1KKw/",
          "dtype": "f8"
         }
        },
        {
         "marker": {
          "color": "rgb(230,148,154)"
         },
         "name": "[320.18, 489.44)",
         "type": "bar",
         "x": [
          "2022-01-01T00:00:00.000000000",
          "2022-02-01T00:00:00.000000000",
          "2022-03-01T00:00:00.000000000",
          "2022-04-01T00:00:00.000000000",
          "2022-05-01T00:00:00.000000000",
          "2022-06-01T00:00:00.000000000",
          "2022-07-01T00:00:00.000000000",
          "2022-08-01T00:00:00.000000000",
          "2022-09-01T00:00:00.000000000",
          "2022-10-01T00:00:00.000000000",
          "2022-11-01T00:00:00.000000000",
          "2022-12-01T00:00:00.000000000",
          "2023-01-01T00:00:00.000000000",
          "2023-02-01T00:00:00.000000000",
          "2023-03-01T00:00:00.000000000",
          "2023-04-01T00:00:00.000000000",
          "2023-05-01T00:00:00.000000000",
          "2023-06-01T00:00:00.000000000",
          "2023-07-01T00:00:00.000000000",
          "2023-08-01T00:00:00.000000000",
          "2023-09-01T00:00:00.000000000",
          "2023-10-01T00:00:00.000000000",
          "2023-11-01T00:00:00.000000000",
          "2023-12-01T00:00:00.000000000",
          "2024-01-01T00:00:00.000000000",
          "2024-02-01T00:00:00.000000000",
          "2024-03-01T00:00:00.000000000",
          "2024-04-01T00:00:00.000000000",
          "2024-05-01T00:00:00.000000000",
          "2024-06-01T00:00:00.000000000",
          "2024-07-01T00:00:00.000000000",
          "2024-08-01T00:00:00.000000000",
          "2024-09-01T00:00:00.000000000",
          "2024-10-01T00:00:00.000000000",
          "2024-11-01T00:00:00.000000000",
          "2024-12-01T00:00:00.000000000",
          "2025-01-01T00:00:00.000000000",
          "2025-02-01T00:00:00.000000000",
          "2025-03-01T00:00:00.000000000",
          "2025-04-01T00:00:00.000000000",
          "2025-05-01T00:00:00.000000000",
          "2025-06-01T00:00:00.000000000",
          "2025-07-01T00:00:00.000000000",
          "2025-08-01T00:00:00.000000000",
          "2025-09-01T00:00:00.000000000",
          "2025-10-01T00:00:00.000000000",
          "2025-11-01T00:00:00.000000000",
          "2025-12-01T00:00:00.000000000"
         ],
         "y": {
          "bdata": "8KfGSzeJwT/l0CLb+X7KP3WTGARWDs0/yXa+nxovzT81XrpJDALLPxkEVg4tss0/LbKd76fGyz85tMh2vp/KPyGwcmiR7cw/gZVDi2znyz/ufD81XrrJP7TIdr6fGs8/uB6F61G4zj9I4XoUrkfRP/hT46WbxNA/+n5qvHST0D+mm8QgsHLQP6JFtvP91NA/+n5qvHST0D/6fmq8dJPQP1TjpZvEINA//tR46SYx0D9SuB6F61HQP05iEFg5tNA/6SYxCKwc0j9QjZduEoPQP5qZmZmZmdE/mpmZmZmZ0T/0/dR46SbRP+58PzVeutE/qMZLN4lB0D9U46WbxCDQP6JFtvP91NA/tMh2vp8azz+sHFpkO9/PP1K4HoXrUdA/WDm0yHa+zz/+1HjpJjHQP2Dl0CLb+c4/xSCwcmiRzT91kxgEVg7NP8l2vp8aL80/TmIQWDm0yD+e76fGSzfJP+F6FK5H4co/ZmZmZmZmxj/6fmq8dJPIPwrXo3A9Csc/",
          "dtype": "f8"
         }
        },
        {
         "marker": {
          "color": "rgb(242,241,241)"
         },
         "name": "[489.44, 666.66)",
         "type": "bar",
         "x": [
          "2022-01-01T00:00:00.000000000",
          "2022-02-01T00:00:00.000000000",
          "2022-03-01T00:00:00.000000000",
          "2022-04-01T00:00:00.000000000",
          "2022-05-01T00:00:00.000000000",
          "2022-06-01T00:00:00.000000000",
          "2022-07-01T00:00:00.000000000",
          "2022-08-01T00:00:00.000000000",
          "2022-09-01T00:00:00.000000000",
          "2022-10-01T00:00:00.000000000",
          "2022-11-01T00:00:00.000000000",
          "2022-12-01T00:00:00.000000000",
          "2023-01-01T00:00:00.000000000",
          "2023-02-01T00:00:00.000000000",
          "2023-03-01T00:00:00.000000000",
          "2023-04-01T00:00:00.000000000",
          "2023-05-01T00:00:00.000000000",
          "2023-06-01T00:00:00.000000000",
          "2023-07-01T00:00:00.000000000",
          "2023-08-01T00:00:00.000000000",
          "2023-09-01T00:00:00.000000000",
          "2023-10-01T00:00:00.000000000",
          "2023-11-01T00:00:00.000000000",
          "2023-12-01T00:00:00.000000000",
          "2024-01-01T00:00:00.000000000",
          "2024-02-01T00:00:00.000000000",
          "2024-03-01T00:00:00.000000000",
          "2024-04-01T00:00:00.000000000",
          "2024-05-01T00:00:00.000000000",
          "2024-06-01T00:00:00.000000000",
          "2024-07-01T00:00:00.000000000",
          "2024-08-01T00:00:00.000000000",
          "2024-09-01T00:00:00.000000000",
          "2024-10-01T00:00:00.000000000",
          "2024-11-01T00:00:00.000000000",
          "2024-12-01T00:00:00.000000000",
          "2025-01-01T00:00:00.000000000",
          "2025-02-01T00:00:00.000000000",
          "2025-03-01T00:00:00.000000000",
          "2025-04-01T00:00:00.000000000",
          "2025-05-01T00:00:00.000000000",
          "2025-06-01T00:00:00.000000000",
          "2025-07-01T00:00:00.000000000",
          "2025-08-01T00:00:00.000000000",
          "2025-09-01T00:00:00.000000000",
          "2025-10-01T00:00:00.000000000",
          "2025-11-01T00:00:00.000000000",
          "2025-12-01T00:00:00.000000000"
         ],
         "y": {
          "bdata": "pHA9Ctej0D+wcmiR7XzPP9Ei2/l+asw/5dAi2/l+yj/Jdr6fGi/NP3npJjEIrMw/ZDvfT42Xzj/+1HjpJjHQPxSuR+F6FM4/vHSTGARWzj9OYhBYObTQP7TIdr6fGs8/pHA9Ctej0D9SuB6F61HQP/T91HjpJtE/PzVeukkM0j/ZzvdT46XTP9v5fmq8dNM/iUFg5dAi0z85tMh2vp/SPzm0yHa+n9I/f2q8dJMY1D/Xo3A9CtfTP3sUrkfhetQ/001iEFg51D8hsHJoke3UP9V46SYxCNQ/cT0K16Nw1T/LoUW28/3UP3Noke18P9U/y6FFtvP91D9iEFg5tMjWPw4tsp3vp9Y/AiuHFtnO1z8OLbKd76fWPxkEVg4tstU/CtejcD0K1z8dWmQ730/VP8P1KFyPwtU/vp8aL90k1j/LoUW28/3UP83MzMzMzNQ/x0s3iUFg1T/VeOkmMQjUP0a28/3UeNE/LbKd76fG0z9CYOXQItvRP9v5fmq8dNM/",
          "dtype": "f8"
         }
        },
        {
         "marker": {
          "color": "rgb(153,183,205)"
         },
         "name": "[666.66, 763.85)",
         "type": "bar",
         "x": [
          "2022-01-01T00:00:00.000000000",
          "2022-02-01T00:00:00.000000000",
          "2022-03-01T00:00:00.000000000",
          "2022-04-01T00:00:00.000000000",
          "2022-05-01T00:00:00.000000000",
          "2022-06-01T00:00:00.000000000",
          "2022-07-01T00:00:00.000000000",
          "2022-08-01T00:00:00.000000000",
          "2022-09-01T00:00:00.000000000",
          "2022-10-01T00:00:00.000000000",
          "2022-11-01T00:00:00.000000000",
          "2022-12-01T00:00:00.000000000",
          "2023-01-01T00:00:00.000000000",
          "2023-02-01T00:00:00.000000000",
          "2023-03-01T00:00:00.000000000",
          "2023-04-01T00:00:00.000000000",
          "2023-05-01T00:00:00.000000000",
          "2023-06-01T00:00:00.000000000",
          "2023-07-01T00:00:00.000000000",
          "2023-08-01T00:00:00.000000000",
          "2023-09-01T00:00:00.000000000",
          "2023-10-01T00:00:00.000000000",
          "2023-11-01T00:00:00.000000000",
          "2023-12-01T00:00:00.000000000",
          "2024-01-01T00:00:00.000000000",
          "2024-02-01T00:00:00.000000000",
          "2024-03-01T00:00:00.000000000",
          "2024-04-01T00:00:00.000000000",
          "2024-05-01T00:00:00.000000000",
          "2024-06-01T00:00:00.000000000",
          "2024-07-01T00:00:00.000000000",
          "2024-08-01T00:00:00.000000000",
          "2024-09-01T00:00:00.000000000",
          "2024-10-01T00:00:00.000000000",
          "2024-11-01T00:00:00.000000000",
          "2024-12-01T00:00:00.000000000",
          "2025-01-01T00:00:00.000000000",
          "2025-02-01T00:00:00.000000000",
          "2025-03-01T00:00:00.000000000",
          "2025-04-01T00:00:00.000000000",
          "2025-05-01T00:00:00.000000000",
          "2025-06-01T00:00:00.000000000",
          "2025-07-01T00:00:00.000000000",
          "2025-08-01T00:00:00.000000000",
          "2025-09-01T00:00:00.000000000",
          "2025-10-01T00:00:00.000000000",
          "2025-11-01T00:00:00.000000000",
          "2025-12-01T00:00:00.000000000"
         ],
         "y": {
          "bdata": "lkOLbOf7yT/6fmq8dJPIP/YoXI/C9cg/NV66SQwCyz+28/3UeOnGPxfZzvdT48U/tvP91Hjpxj97FK5H4XrEP4cW2c73U8M/exSuR+F6xD8j2/l+arzEP3Noke18P8U/ZmZmZmZmxj+6SQwCK4fGP3Noke18P8U/c2iR7Xw/xT/TTWIQWDnEPy/dJAaBlcM/f2q8dJMYxD8j2/l+arzEP8P1KFyPwsU/16NwPQrXwz9zaJHtfD/FP76fGi/dJMY/x0s3iUFgxT/P91PjpZvEP166SQwCK8c/bxKDwMqhxT+uR+F6FK7HP166SQwCK8c/AiuHFtnOxz8bL90kBoHFPxfZzvdT48U/XrpJDAIrxz+uR+F6FK7HP/p+arx0k8g/sp3vp8ZLxz9aZDvfT43HP/p+arx0k8g//tR46SYxyD8CK4cW2c7HPwrXo3A9Csc/c2iR7Xw/xT+uR+F6FK7HP7Kd76fGS8c/AiuHFtnOxz9eukkMAivHPxfZzvdT48U/",
          "dtype": "f8"
         }
        },
        {
         "marker": {
          "color": "rgb(65,124,167)"
         },
         "name": "[763.85, inf)",
         "type": "bar",
         "x": [
          "2022-01-01T00:00:00.000000000",
          "2022-02-01T00:00:00.000000000",
          "2022-03-01T00:00:00.000000000",
          "2022-04-01T00:00:00.000000000",
          "2022-05-01T00:00:00.000000000",
          "2022-06-01T00:00:00.000000000",
          "2022-07-01T00:00:00.000000000",
          "2022-08-01T00:00:00.000000000",
          "2022-09-01T00:00:00.000000000",
          "2022-10-01T00:00:00.000000000",
          "2022-11-01T00:00:00.000000000",
          "2022-12-01T00:00:00.000000000",
          "2023-01-01T00:00:00.000000000",
          "2023-02-01T00:00:00.000000000",
          "2023-03-01T00:00:00.000000000",
          "2023-04-01T00:00:00.000000000",
          "2023-05-01T00:00:00.000000000",
          "2023-06-01T00:00:00.000000000",
          "2023-07-01T00:00:00.000000000",
          "2023-08-01T00:00:00.000000000",
          "2023-09-01T00:00:00.000000000",
          "2023-10-01T00:00:00.000000000",
          "2023-11-01T00:00:00.000000000",
          "2023-12-01T00:00:00.000000000",
          "2024-01-01T00:00:00.000000000",
          "2024-02-01T00:00:00.000000000",
          "2024-03-01T00:00:00.000000000",
          "2024-04-01T00:00:00.000000000",
          "2024-05-01T00:00:00.000000000",
          "2024-06-01T00:00:00.000000000",
          "2024-07-01T00:00:00.000000000",
          "2024-08-01T00:00:00.000000000",
          "2024-09-01T00:00:00.000000000",
          "2024-10-01T00:00:00.000000000",
          "2024-11-01T00:00:00.000000000",
          "2024-12-01T00:00:00.000000000",
          "2025-01-01T00:00:00.000000000",
          "2025-02-01T00:00:00.000000000",
          "2025-03-01T00:00:00.000000000",
          "2025-04-01T00:00:00.000000000",
          "2025-05-01T00:00:00.000000000",
          "2025-06-01T00:00:00.000000000",
          "2025-07-01T00:00:00.000000000",
          "2025-08-01T00:00:00.000000000",
          "2025-09-01T00:00:00.000000000",
          "2025-10-01T00:00:00.000000000",
          "2025-11-01T00:00:00.000000000",
          "2025-12-01T00:00:00.000000000"
         ],
         "y": {
          "bdata": "L90kBoGV0z9cj8L1KFzPP2iR7Xw/Nc4/IbByaJHtzD+8dJMYBFbOPwwCK4cW2c4/cT0K16NwzT8UrkfhehTOP7TIdr6fGs8/HVpkO99PzT/VeOkmMQjMPzm0yHa+n8o/rkfhehSuxz9eukkMAivHPwrXo3A9Csc/JzEIrBxaxD/Xo3A9CtfDP4cW2c73U8M/N4lBYOXQwj+LbOf7qfHCPzMzMzMzM8M/N4lBYOXQwj+TGARWDi3CP/yp8dJNYsA/sHJoke18vz9QjZduEoPAP7gehetRuL4/aJHtfD81vj/Jdr6fGi+9Pylcj8L1KLw/uB6F61G4vj9MN4lBYOXAP0jhehSuR8E/UI2XbhKDwD/sUbgehevBP4ts5/up8cI/PzVeukkMwj/LoUW28/3EP39qvHSTGMQ/c2iR7Xw/xT9OYhBYObTIP05iEFg5tMg/bef7qfHSzT8ZBFYOLbLNP0jhehSuR9E/SOF6FK5H0T+PwvUoXI/SP4/C9Shcj9I/",
          "dtype": "f8"
         }
        }
       ],
       "layout": {
        "barmode": "stack",
        "template": {
         "data": {
          "bar": [
           {
            "error_x": {
             "color": "#2a3f5f"
            },
            "error_y": {
             "color": "#2a3f5f"
            },
            "marker": {
             "line": {
              "color": "white",
              "width": 0.5
             },
             "pattern": {
              "fillmode": "overlay",
              "size": 10,
              "solidity": 0.2
             }
            },
            "type": "bar"
           }
          ],
          "barpolar": [
           {
            "marker": {
             "line": {
              "color": "white",
              "width": 0.5
             },
             "pattern": {
              "fillmode": "overlay",
              "size": 10,
              "solidity": 0.2
             }
            },
            "type": "barpolar"
           }
          ],
          "carpet": [
           {
            "aaxis": {
             "endlinecolor": "#2a3f5f",
             "gridcolor": "#C8D4E3",
             "linecolor": "#C8D4E3",
             "minorgridcolor": "#C8D4E3",
             "startlinecolor": "#2a3f5f"
            },
            "baxis": {
             "endlinecolor": "#2a3f5f",
             "gridcolor": "#C8D4E3",
             "linecolor": "#C8D4E3",
             "minorgridcolor": "#C8D4E3",
             "startlinecolor": "#2a3f5f"
            },
            "type": "carpet"
           }
          ],
          "choropleth": [
           {
            "colorbar": {
             "outlinewidth": 0,
             "ticks": ""
            },
            "type": "choropleth"
           }
          ],
          "contour": [
           {
            "colorbar": {
             "outlinewidth": 0,
             "ticks": ""
            },
            "colorscale": [
             [
              0,
              "#0d0887"
             ],
             [
              0.1111111111111111,
              "#46039f"
             ],
             [
              0.2222222222222222,
              "#7201a8"
             ],
             [
              0.3333333333333333,
              "#9c179e"
             ],
             [
              0.4444444444444444,
              "#bd3786"
             ],
             [
              0.5555555555555556,
              "#d8576b"
             ],
             [
              0.6666666666666666,
              "#ed7953"
             ],
             [
              0.7777777777777778,
              "#fb9f3a"
             ],
             [
              0.8888888888888888,
              "#fdca26"
             ],
             [
              1,
              "#f0f921"
             ]
            ],
            "type": "contour"
           }
          ],
          "contourcarpet": [
           {
            "colorbar": {
             "outlinewidth": 0,
             "ticks": ""
            },
            "type": "contourcarpet"
           }
          ],
          "heatmap": [
           {
            "colorbar": {
             "outlinewidth": 0,
             "ticks": ""
            },
            "colorscale": [
             [
              0,
              "#0d0887"
             ],
             [
              0.1111111111111111,
              "#46039f"
             ],
             [
              0.2222222222222222,
              "#7201a8"
             ],
             [
              0.3333333333333333,
              "#9c179e"
             ],
             [
              0.4444444444444444,
              "#bd3786"
             ],
             [
              0.5555555555555556,
              "#d8576b"
             ],
             [
              0.6666666666666666,
              "#ed7953"
             ],
             [
              0.7777777777777778,
              "#fb9f3a"
             ],
             [
              0.8888888888888888,
              "#fdca26"
             ],
             [
              1,
              "#f0f921"
             ]
            ],
            "type": "heatmap"
           }
          ],
          "histogram": [
           {
            "marker": {
             "pattern": {
              "fillmode": "overlay",
              "size": 10,
              "solidity": 0.2
             }
            },
            "type": "histogram"
           }
          ],
          "histogram2d": [
           {
            "colorbar": {
             "outlinewidth": 0,
             "ticks": ""
            },
            "colorscale": [
             [
              0,
              "#0d0887"
             ],
             [
              0.1111111111111111,
              "#46039f"
             ],
             [
              0.2222222222222222,
              "#7201a8"
             ],
             [
              0.3333333333333333,
              "#9c179e"
             ],
             [
              0.4444444444444444,
              "#bd3786"
             ],
             [
              0.5555555555555556,
              "#d8576b"
             ],
             [
              0.6666666666666666,
              "#ed7953"
             ],
             [
              0.7777777777777778,
              "#fb9f3a"
             ],
             [
              0.8888888888888888,
              "#fdca26"
             ],
             [
              1,
              "#f0f921"
             ]
            ],
            "type": "histogram2d"
           }
          ],
          "histogram2dcontour": [
           {
            "colorbar": {
             "outlinewidth": 0,
             "ticks": ""
            },
            "colorscale": [
             [
              0,
              "#0d0887"
             ],
             [
              0.1111111111111111,
              "#46039f"
             ],
             [
              0.2222222222222222,
              "#7201a8"
             ],
             [
              0.3333333333333333,
              "#9c179e"
             ],
             [
              0.4444444444444444,
              "#bd3786"
             ],
             [
              0.5555555555555556,
              "#d8576b"
             ],
             [
              0.6666666666666666,
              "#ed7953"
             ],
             [
              0.7777777777777778,
              "#fb9f3a"
             ],
             [
              0.8888888888888888,
              "#fdca26"
             ],
             [
              1,
              "#f0f921"
             ]
            ],
            "type": "histogram2dcontour"
           }
          ],
          "mesh3d": [
           {
            "colorbar": {
             "outlinewidth": 0,
             "ticks": ""
            },
            "type": "mesh3d"
           }
          ],
          "parcoords": [
           {
            "line": {
             "colorbar": {
              "outlinewidth": 0,
              "ticks": ""
             }
            },
            "type": "parcoords"
           }
          ],
          "pie": [
           {
            "automargin": true,
            "type": "pie"
           }
          ],
          "scatter": [
           {
            "fillpattern": {
             "fillmode": "overlay",
             "size": 10,
             "solidity": 0.2
            },
            "type": "scatter"
           }
          ],
          "scatter3d": [
           {
            "line": {
             "colorbar": {
              "outlinewidth": 0,
              "ticks": ""
             }
            },
            "marker": {
             "colorbar": {
              "outlinewidth": 0,
              "ticks": ""
             }
            },
            "type": "scatter3d"
           }
          ],
          "scattercarpet": [
           {
            "marker": {
             "colorbar": {
              "outlinewidth": 0,
              "ticks": ""
             }
            },
            "type": "scattercarpet"
           }
          ],
          "scattergeo": [
           {
            "marker": {
             "colorbar": {
              "outlinewidth": 0,
              "ticks": ""
             }
            },
            "type": "scattergeo"
           }
          ],
          "scattergl": [
           {
            "marker": {
             "colorbar": {
              "outlinewidth": 0,
              "ticks": ""
             }
            },
            "type": "scattergl"
           }
          ],
          "scattermap": [
           {
            "marker": {
             "colorbar": {
              "outlinewidth": 0,
              "ticks": ""
             }
            },
            "type": "scattermap"
           }
          ],
          "scattermapbox": [
           {
            "marker": {
             "colorbar": {
              "outlinewidth": 0,
              "ticks": ""
             }
            },
            "type": "scattermapbox"
           }
          ],
          "scatterpolar": [
           {
            "marker": {
             "colorbar": {
              "outlinewidth": 0,
              "ticks": ""
             }
            },
            "type": "scatterpolar"
           }
          ],
          "scatterpolargl": [
           {
            "marker": {
             "colorbar": {
              "outlinewidth": 0,
              "ticks": ""
             }
            },
            "type": "scatterpolargl"
           }
          ],
          "scatterternary": [
           {
            "marker": {
             "colorbar": {
              "outlinewidth": 0,
              "ticks": ""
             }
            },
            "type": "scatterternary"
           }
          ],
          "surface": [
           {
            "colorbar": {
             "outlinewidth": 0,
             "ticks": ""
            },
            "colorscale": [
             [
              0,
              "#0d0887"
             ],
             [
              0.1111111111111111,
              "#46039f"
             ],
             [
              0.2222222222222222,
              "#7201a8"
             ],
             [
              0.3333333333333333,
              "#9c179e"
             ],
             [
              0.4444444444444444,
              "#bd3786"
             ],
             [
              0.5555555555555556,
              "#d8576b"
             ],
             [
              0.6666666666666666,
              "#ed7953"
             ],
             [
              0.7777777777777778,
              "#fb9f3a"
             ],
             [
              0.8888888888888888,
              "#fdca26"
             ],
             [
              1,
              "#f0f921"
             ]
            ],
            "type": "surface"
           }
          ],
          "table": [
           {
            "cells": {
             "fill": {
              "color": "#EBF0F8"
             },
             "line": {
              "color": "white"
             }
            },
            "header": {
             "fill": {
              "color": "#C8D4E3"
             },
             "line": {
              "color": "white"
             }
            },
            "type": "table"
           }
          ]
         },
         "layout": {
          "annotationdefaults": {
           "arrowcolor": "#2a3f5f",
           "arrowhead": 0,
           "arrowwidth": 1
          },
          "autotypenumbers": "strict",
          "coloraxis": {
           "colorbar": {
            "outlinewidth": 0,
            "ticks": ""
           }
          },
          "colorscale": {
           "diverging": [
            [
             0,
             "#8e0152"
            ],
            [
             0.1,
             "#c51b7d"
            ],
            [
             0.2,
             "#de77ae"
            ],
            [
             0.3,
             "#f1b6da"
            ],
            [
             0.4,
             "#fde0ef"
            ],
            [
             0.5,
             "#f7f7f7"
            ],
            [
             0.6,
             "#e6f5d0"
            ],
            [
             0.7,
             "#b8e186"
            ],
            [
             0.8,
             "#7fbc41"
            ],
            [
             0.9,
             "#4d9221"
            ],
            [
             1,
             "#276419"
            ]
           ],
           "sequential": [
            [
             0,
             "#0d0887"
            ],
            [
             0.1111111111111111,
             "#46039f"
            ],
            [
             0.2222222222222222,
             "#7201a8"
            ],
            [
             0.3333333333333333,
             "#9c179e"
            ],
            [
             0.4444444444444444,
             "#bd3786"
            ],
            [
             0.5555555555555556,
             "#d8576b"
            ],
            [
             0.6666666666666666,
             "#ed7953"
            ],
            [
             0.7777777777777778,
             "#fb9f3a"
            ],
            [
             0.8888888888888888,
             "#fdca26"
            ],
            [
             1,
             "#f0f921"
            ]
           ],
           "sequentialminus": [
            [
             0,
             "#0d0887"
            ],
            [
             0.1111111111111111,
             "#46039f"
            ],
            [
             0.2222222222222222,
             "#7201a8"
            ],
            [
             0.3333333333333333,
             "#9c179e"
            ],
            [
             0.4444444444444444,
             "#bd3786"
            ],
            [
             0.5555555555555556,
             "#d8576b"
            ],
            [
             0.6666666666666666,
             "#ed7953"
            ],
            [
             0.7777777777777778,
             "#fb9f3a"
            ],
            [
             0.8888888888888888,
             "#fdca26"
            ],
            [
             1,
             "#f0f921"
            ]
           ]
          },
          "colorway": [
           "#636efa",
           "#EF553B",
           "#00cc96",
           "#ab63fa",
           "#FFA15A",
           "#19d3f3",
           "#FF6692",
           "#B6E880",
           "#FF97FF",
           "#FECB52"
          ],
          "font": {
           "color": "#2a3f5f"
          },
          "geo": {
           "bgcolor": "white",
           "lakecolor": "white",
           "landcolor": "white",
           "showlakes": true,
           "showland": true,
           "subunitcolor": "#C8D4E3"
          },
          "hoverlabel": {
           "align": "left"
          },
          "hovermode": "closest",
          "mapbox": {
           "style": "light"
          },
          "paper_bgcolor": "white",
          "plot_bgcolor": "white",
          "polar": {
           "angularaxis": {
            "gridcolor": "#EBF0F8",
            "linecolor": "#EBF0F8",
            "ticks": ""
           },
           "bgcolor": "white",
           "radialaxis": {
            "gridcolor": "#EBF0F8",
            "linecolor": "#EBF0F8",
            "ticks": ""
           }
          },
          "scene": {
           "xaxis": {
            "backgroundcolor": "white",
            "gridcolor": "#DFE8F3",
            "gridwidth": 2,
            "linecolor": "#EBF0F8",
            "showbackground": true,
            "ticks": "",
            "zerolinecolor": "#EBF0F8"
           },
           "yaxis": {
            "backgroundcolor": "white",
            "gridcolor": "#DFE8F3",
            "gridwidth": 2,
            "linecolor": "#EBF0F8",
            "showbackground": true,
            "ticks": "",
            "zerolinecolor": "#EBF0F8"
           },
           "zaxis": {
            "backgroundcolor": "white",
            "gridcolor": "#DFE8F3",
            "gridwidth": 2,
            "linecolor": "#EBF0F8",
            "showbackground": true,
            "ticks": "",
            "zerolinecolor": "#EBF0F8"
           }
          },
          "shapedefaults": {
           "line": {
            "color": "#2a3f5f"
           }
          },
          "ternary": {
           "aaxis": {
            "gridcolor": "#DFE8F3",
            "linecolor": "#A2B1C6",
            "ticks": ""
           },
           "baxis": {
            "gridcolor": "#DFE8F3",
            "linecolor": "#A2B1C6",
            "ticks": ""
           },
           "bgcolor": "white",
           "caxis": {
            "gridcolor": "#DFE8F3",
            "linecolor": "#A2B1C6",
            "ticks": ""
           }
          },
          "title": {
           "x": 0.05
          },
          "xaxis": {
           "automargin": true,
           "gridcolor": "#EBF0F8",
           "linecolor": "#EBF0F8",
           "ticks": "",
           "title": {
            "standoff": 15
           },
           "zerolinecolor": "#EBF0F8",
           "zerolinewidth": 2
          },
          "yaxis": {
           "automargin": true,
           "gridcolor": "#EBF0F8",
           "linecolor": "#EBF0F8",
           "ticks": "",
           "title": {
            "standoff": 15
           },
           "zerolinecolor": "#EBF0F8",
           "zerolinewidth": 2
          }
         }
        },
        "title": {
         "text": "Group Share over Time"
        },
        "xaxis": {
         "title": {
          "text": "ref_date"
         }
        },
        "yaxis": {
         "tickformat": ".0%",
         "title": {
          "text": "Group share"
         }
        }
       }
      }
     },
     "metadata": {},
     "output_type": "display_data"
    },
    {
     "data": {
      "text/plain": [
       "(Figure({\n",
       "     'data': [{'line': {'color': 'rgb(217,58,70)'},\n",
       "               'mode': 'lines+markers',\n",
       "               'name': '(-inf, 320.18)',\n",
       "               'type': 'scatter',\n",
       "               'x': array(['2022-01-01T00:00:00.000000000', '2022-02-01T00:00:00.000000000',\n",
       "                           '2022-03-01T00:00:00.000000000', '2022-04-01T00:00:00.000000000',\n",
       "                           '2022-05-01T00:00:00.000000000', '2022-06-01T00:00:00.000000000',\n",
       "                           '2022-07-01T00:00:00.000000000', '2022-08-01T00:00:00.000000000',\n",
       "                           '2022-09-01T00:00:00.000000000', '2022-10-01T00:00:00.000000000',\n",
       "                           '2022-11-01T00:00:00.000000000', '2022-12-01T00:00:00.000000000',\n",
       "                           '2023-01-01T00:00:00.000000000', '2023-02-01T00:00:00.000000000',\n",
       "                           '2023-03-01T00:00:00.000000000', '2023-04-01T00:00:00.000000000',\n",
       "                           '2023-05-01T00:00:00.000000000', '2023-06-01T00:00:00.000000000',\n",
       "                           '2023-07-01T00:00:00.000000000', '2023-08-01T00:00:00.000000000',\n",
       "                           '2023-09-01T00:00:00.000000000', '2023-10-01T00:00:00.000000000',\n",
       "                           '2023-11-01T00:00:00.000000000', '2023-12-01T00:00:00.000000000',\n",
       "                           '2024-01-01T00:00:00.000000000', '2024-02-01T00:00:00.000000000',\n",
       "                           '2024-03-01T00:00:00.000000000', '2024-04-01T00:00:00.000000000',\n",
       "                           '2024-05-01T00:00:00.000000000', '2024-06-01T00:00:00.000000000',\n",
       "                           '2024-07-01T00:00:00.000000000', '2024-08-01T00:00:00.000000000',\n",
       "                           '2024-09-01T00:00:00.000000000', '2024-10-01T00:00:00.000000000',\n",
       "                           '2024-11-01T00:00:00.000000000', '2024-12-01T00:00:00.000000000',\n",
       "                           '2025-01-01T00:00:00.000000000', '2025-02-01T00:00:00.000000000',\n",
       "                           '2025-03-01T00:00:00.000000000', '2025-04-01T00:00:00.000000000',\n",
       "                           '2025-05-01T00:00:00.000000000', '2025-06-01T00:00:00.000000000',\n",
       "                           '2025-07-01T00:00:00.000000000', '2025-08-01T00:00:00.000000000',\n",
       "                           '2025-09-01T00:00:00.000000000', '2025-10-01T00:00:00.000000000',\n",
       "                           '2025-11-01T00:00:00.000000000', '2025-12-01T00:00:00.000000000'],\n",
       "                          dtype='datetime64[ns]'),\n",
       "               'y': {'bdata': ('AAAAAAAA8D84rH3D2jfsP3d3d3d3d+' ... 'ERERER4T9zTyMs9zTiP0GeEuQpQd4/'),\n",
       "                     'dtype': 'f8'}},\n",
       "              {'line': {'color': 'rgb(230,148,154)'},\n",
       "               'mode': 'lines+markers',\n",
       "               'name': '[320.18, 489.44)',\n",
       "               'type': 'scatter',\n",
       "               'x': array(['2022-01-01T00:00:00.000000000', '2022-02-01T00:00:00.000000000',\n",
       "                           '2022-03-01T00:00:00.000000000', '2022-04-01T00:00:00.000000000',\n",
       "                           '2022-05-01T00:00:00.000000000', '2022-06-01T00:00:00.000000000',\n",
       "                           '2022-07-01T00:00:00.000000000', '2022-08-01T00:00:00.000000000',\n",
       "                           '2022-09-01T00:00:00.000000000', '2022-10-01T00:00:00.000000000',\n",
       "                           '2022-11-01T00:00:00.000000000', '2022-12-01T00:00:00.000000000',\n",
       "                           '2023-01-01T00:00:00.000000000', '2023-02-01T00:00:00.000000000',\n",
       "                           '2023-03-01T00:00:00.000000000', '2023-04-01T00:00:00.000000000',\n",
       "                           '2023-05-01T00:00:00.000000000', '2023-06-01T00:00:00.000000000',\n",
       "                           '2023-07-01T00:00:00.000000000', '2023-08-01T00:00:00.000000000',\n",
       "                           '2023-09-01T00:00:00.000000000', '2023-10-01T00:00:00.000000000',\n",
       "                           '2023-11-01T00:00:00.000000000', '2023-12-01T00:00:00.000000000',\n",
       "                           '2024-01-01T00:00:00.000000000', '2024-02-01T00:00:00.000000000',\n",
       "                           '2024-03-01T00:00:00.000000000', '2024-04-01T00:00:00.000000000',\n",
       "                           '2024-05-01T00:00:00.000000000', '2024-06-01T00:00:00.000000000',\n",
       "                           '2024-07-01T00:00:00.000000000', '2024-08-01T00:00:00.000000000',\n",
       "                           '2024-09-01T00:00:00.000000000', '2024-10-01T00:00:00.000000000',\n",
       "                           '2024-11-01T00:00:00.000000000', '2024-12-01T00:00:00.000000000',\n",
       "                           '2025-01-01T00:00:00.000000000', '2025-02-01T00:00:00.000000000',\n",
       "                           '2025-03-01T00:00:00.000000000', '2025-04-01T00:00:00.000000000',\n",
       "                           '2025-05-01T00:00:00.000000000', '2025-06-01T00:00:00.000000000',\n",
       "                           '2025-07-01T00:00:00.000000000', '2025-08-01T00:00:00.000000000',\n",
       "                           '2025-09-01T00:00:00.000000000', '2025-10-01T00:00:00.000000000',\n",
       "                           '2025-11-01T00:00:00.000000000', '2025-12-01T00:00:00.000000000'],\n",
       "                          dtype='datetime64[ns]'),\n",
       "               'y': {'bdata': ('AkeKhvjj1j+96U1vetPLPzDncenbX8' ... 'SuR+F61D8AAAAAAADVP2ELtmALttA/'),\n",
       "                     'dtype': 'f8'}},\n",
       "              {'line': {'color': 'rgb(242,241,241)'},\n",
       "               'mode': 'lines+markers',\n",
       "               'name': '[489.44, 666.66)',\n",
       "               'type': 'scatter',\n",
       "               'x': array(['2022-01-01T00:00:00.000000000', '2022-02-01T00:00:00.000000000',\n",
       "                           '2022-03-01T00:00:00.000000000', '2022-04-01T00:00:00.000000000',\n",
       "                           '2022-05-01T00:00:00.000000000', '2022-06-01T00:00:00.000000000',\n",
       "                           '2022-07-01T00:00:00.000000000', '2022-08-01T00:00:00.000000000',\n",
       "                           '2022-09-01T00:00:00.000000000', '2022-10-01T00:00:00.000000000',\n",
       "                           '2022-11-01T00:00:00.000000000', '2022-12-01T00:00:00.000000000',\n",
       "                           '2023-01-01T00:00:00.000000000', '2023-02-01T00:00:00.000000000',\n",
       "                           '2023-03-01T00:00:00.000000000', '2023-04-01T00:00:00.000000000',\n",
       "                           '2023-05-01T00:00:00.000000000', '2023-06-01T00:00:00.000000000',\n",
       "                           '2023-07-01T00:00:00.000000000', '2023-08-01T00:00:00.000000000',\n",
       "                           '2023-09-01T00:00:00.000000000', '2023-10-01T00:00:00.000000000',\n",
       "                           '2023-11-01T00:00:00.000000000', '2023-12-01T00:00:00.000000000',\n",
       "                           '2024-01-01T00:00:00.000000000', '2024-02-01T00:00:00.000000000',\n",
       "                           '2024-03-01T00:00:00.000000000', '2024-04-01T00:00:00.000000000',\n",
       "                           '2024-05-01T00:00:00.000000000', '2024-06-01T00:00:00.000000000',\n",
       "                           '2024-07-01T00:00:00.000000000', '2024-08-01T00:00:00.000000000',\n",
       "                           '2024-09-01T00:00:00.000000000', '2024-10-01T00:00:00.000000000',\n",
       "                           '2024-11-01T00:00:00.000000000', '2024-12-01T00:00:00.000000000',\n",
       "                           '2025-01-01T00:00:00.000000000', '2025-02-01T00:00:00.000000000',\n",
       "                           '2025-03-01T00:00:00.000000000', '2025-04-01T00:00:00.000000000',\n",
       "                           '2025-05-01T00:00:00.000000000', '2025-06-01T00:00:00.000000000',\n",
       "                           '2025-07-01T00:00:00.000000000', '2025-08-01T00:00:00.000000000',\n",
       "                           '2025-09-01T00:00:00.000000000', '2025-10-01T00:00:00.000000000',\n",
       "                           '2025-11-01T00:00:00.000000000', '2025-12-01T00:00:00.000000000'],\n",
       "                          dtype='datetime64[ns]'),\n",
       "               'y': {'bdata': ('GHqhF3qhhz/6GJyPwfmIP04CcaHmJL' ... 'OyiE8gxT9FE0000UTDPwAAAAAAAMg/'),\n",
       "                     'dtype': 'f8'}},\n",
       "              {'line': {'color': 'rgb(153,183,205)'},\n",
       "               'mode': 'lines+markers',\n",
       "               'name': '[666.66, 763.85)',\n",
       "               'type': 'scatter',\n",
       "               'x': array(['2022-01-01T00:00:00.000000000', '2022-02-01T00:00:00.000000000',\n",
       "                           '2022-03-01T00:00:00.000000000', '2022-04-01T00:00:00.000000000',\n",
       "                           '2022-05-01T00:00:00.000000000', '2022-06-01T00:00:00.000000000',\n",
       "                           '2022-07-01T00:00:00.000000000', '2022-08-01T00:00:00.000000000',\n",
       "                           '2022-09-01T00:00:00.000000000', '2022-10-01T00:00:00.000000000',\n",
       "                           '2022-11-01T00:00:00.000000000', '2022-12-01T00:00:00.000000000',\n",
       "                           '2023-01-01T00:00:00.000000000', '2023-02-01T00:00:00.000000000',\n",
       "                           '2023-03-01T00:00:00.000000000', '2023-04-01T00:00:00.000000000',\n",
       "                           '2023-05-01T00:00:00.000000000', '2023-06-01T00:00:00.000000000',\n",
       "                           '2023-07-01T00:00:00.000000000', '2023-08-01T00:00:00.000000000',\n",
       "                           '2023-09-01T00:00:00.000000000', '2023-10-01T00:00:00.000000000',\n",
       "                           '2023-11-01T00:00:00.000000000', '2023-12-01T00:00:00.000000000',\n",
       "                           '2024-01-01T00:00:00.000000000', '2024-02-01T00:00:00.000000000',\n",
       "                           '2024-03-01T00:00:00.000000000', '2024-04-01T00:00:00.000000000',\n",
       "                           '2024-05-01T00:00:00.000000000', '2024-06-01T00:00:00.000000000',\n",
       "                           '2024-07-01T00:00:00.000000000', '2024-08-01T00:00:00.000000000',\n",
       "                           '2024-09-01T00:00:00.000000000', '2024-10-01T00:00:00.000000000',\n",
       "                           '2024-11-01T00:00:00.000000000', '2024-12-01T00:00:00.000000000',\n",
       "                           '2025-01-01T00:00:00.000000000', '2025-02-01T00:00:00.000000000',\n",
       "                           '2025-03-01T00:00:00.000000000', '2025-04-01T00:00:00.000000000',\n",
       "                           '2025-05-01T00:00:00.000000000', '2025-06-01T00:00:00.000000000',\n",
       "                           '2025-07-01T00:00:00.000000000', '2025-08-01T00:00:00.000000000',\n",
       "                           '2025-09-01T00:00:00.000000000', '2025-10-01T00:00:00.000000000',\n",
       "                           '2025-11-01T00:00:00.000000000', '2025-12-01T00:00:00.000000000'],\n",
       "                          dtype='datetime64[ns]'),\n",
       "               'y': {'bdata': ('hx/VJWYtlD+rqqqqqqqaPxVQARVQAY' ... 'NNNNFEoz80T6gFjEmcPxDfQXwH8a0/'),\n",
       "                     'dtype': 'f8'}},\n",
       "              {'line': {'color': 'rgb(65,124,167)'},\n",
       "               'mode': 'lines+markers',\n",
       "               'name': '[763.85, inf)',\n",
       "               'type': 'scatter',\n",
       "               'x': array(['2022-01-01T00:00:00.000000000', '2022-02-01T00:00:00.000000000',\n",
       "                           '2022-03-01T00:00:00.000000000', '2022-04-01T00:00:00.000000000',\n",
       "                           '2022-05-01T00:00:00.000000000', '2022-06-01T00:00:00.000000000',\n",
       "                           '2022-07-01T00:00:00.000000000', '2022-08-01T00:00:00.000000000',\n",
       "                           '2022-09-01T00:00:00.000000000', '2022-10-01T00:00:00.000000000',\n",
       "                           '2022-11-01T00:00:00.000000000', '2022-12-01T00:00:00.000000000',\n",
       "                           '2023-01-01T00:00:00.000000000', '2023-02-01T00:00:00.000000000',\n",
       "                           '2023-03-01T00:00:00.000000000', '2023-04-01T00:00:00.000000000',\n",
       "                           '2023-05-01T00:00:00.000000000', '2023-06-01T00:00:00.000000000',\n",
       "                           '2023-07-01T00:00:00.000000000', '2023-08-01T00:00:00.000000000',\n",
       "                           '2023-09-01T00:00:00.000000000', '2023-10-01T00:00:00.000000000',\n",
       "                           '2023-11-01T00:00:00.000000000', '2023-12-01T00:00:00.000000000',\n",
       "                           '2024-01-01T00:00:00.000000000', '2024-02-01T00:00:00.000000000',\n",
       "                           '2024-03-01T00:00:00.000000000', '2024-04-01T00:00:00.000000000',\n",
       "                           '2024-05-01T00:00:00.000000000', '2024-06-01T00:00:00.000000000',\n",
       "                           '2024-07-01T00:00:00.000000000', '2024-08-01T00:00:00.000000000',\n",
       "                           '2024-09-01T00:00:00.000000000', '2024-10-01T00:00:00.000000000',\n",
       "                           '2024-11-01T00:00:00.000000000', '2024-12-01T00:00:00.000000000',\n",
       "                           '2025-01-01T00:00:00.000000000', '2025-02-01T00:00:00.000000000',\n",
       "                           '2025-03-01T00:00:00.000000000', '2025-04-01T00:00:00.000000000',\n",
       "                           '2025-05-01T00:00:00.000000000', '2025-06-01T00:00:00.000000000',\n",
       "                           '2025-07-01T00:00:00.000000000', '2025-08-01T00:00:00.000000000',\n",
       "                           '2025-09-01T00:00:00.000000000', '2025-10-01T00:00:00.000000000',\n",
       "                           '2025-11-01T00:00:00.000000000', '2025-12-01T00:00:00.000000000'],\n",
       "                          dtype='datetime64[ns]'),\n",
       "               'y': {'bdata': ('AAAAAAAAAAAAAAAAAAAAAA0ndV8eW3' ... 'UByTpXjj/SeYshnbeYP5Z7GmG5p6E/'),\n",
       "                     'dtype': 'f8'}}],\n",
       "     'layout': {'template': '...',\n",
       "                'title': {'text': 'Event Rate by Group over Time'},\n",
       "                'xaxis': {'title': {'text': 'ref_date'}},\n",
       "                'yaxis': {'title': {'text': 'Event rate'}}}\n",
       " }),\n",
       " Figure({\n",
       "     'data': [{'marker': {'color': 'rgb(217,58,70)'},\n",
       "               'name': '(-inf, 320.18)',\n",
       "               'type': 'bar',\n",
       "               'x': array(['2022-01-01T00:00:00.000000000', '2022-02-01T00:00:00.000000000',\n",
       "                           '2022-03-01T00:00:00.000000000', '2022-04-01T00:00:00.000000000',\n",
       "                           '2022-05-01T00:00:00.000000000', '2022-06-01T00:00:00.000000000',\n",
       "                           '2022-07-01T00:00:00.000000000', '2022-08-01T00:00:00.000000000',\n",
       "                           '2022-09-01T00:00:00.000000000', '2022-10-01T00:00:00.000000000',\n",
       "                           '2022-11-01T00:00:00.000000000', '2022-12-01T00:00:00.000000000',\n",
       "                           '2023-01-01T00:00:00.000000000', '2023-02-01T00:00:00.000000000',\n",
       "                           '2023-03-01T00:00:00.000000000', '2023-04-01T00:00:00.000000000',\n",
       "                           '2023-05-01T00:00:00.000000000', '2023-06-01T00:00:00.000000000',\n",
       "                           '2023-07-01T00:00:00.000000000', '2023-08-01T00:00:00.000000000',\n",
       "                           '2023-09-01T00:00:00.000000000', '2023-10-01T00:00:00.000000000',\n",
       "                           '2023-11-01T00:00:00.000000000', '2023-12-01T00:00:00.000000000',\n",
       "                           '2024-01-01T00:00:00.000000000', '2024-02-01T00:00:00.000000000',\n",
       "                           '2024-03-01T00:00:00.000000000', '2024-04-01T00:00:00.000000000',\n",
       "                           '2024-05-01T00:00:00.000000000', '2024-06-01T00:00:00.000000000',\n",
       "                           '2024-07-01T00:00:00.000000000', '2024-08-01T00:00:00.000000000',\n",
       "                           '2024-09-01T00:00:00.000000000', '2024-10-01T00:00:00.000000000',\n",
       "                           '2024-11-01T00:00:00.000000000', '2024-12-01T00:00:00.000000000',\n",
       "                           '2025-01-01T00:00:00.000000000', '2025-02-01T00:00:00.000000000',\n",
       "                           '2025-03-01T00:00:00.000000000', '2025-04-01T00:00:00.000000000',\n",
       "                           '2025-05-01T00:00:00.000000000', '2025-06-01T00:00:00.000000000',\n",
       "                           '2025-07-01T00:00:00.000000000', '2025-08-01T00:00:00.000000000',\n",
       "                           '2025-09-01T00:00:00.000000000', '2025-10-01T00:00:00.000000000',\n",
       "                           '2025-11-01T00:00:00.000000000', '2025-12-01T00:00:00.000000000'],\n",
       "                          dtype='datetime64[ns]'),\n",
       "               'y': {'bdata': ('qvHSTWIQuD8pXI/C9Si8P7gehetRuL' ... '6F61G4rj8ZBFYOLbKtPylcj8L1KKw/'),\n",
       "                     'dtype': 'f8'}},\n",
       "              {'marker': {'color': 'rgb(230,148,154)'},\n",
       "               'name': '[320.18, 489.44)',\n",
       "               'type': 'bar',\n",
       "               'x': array(['2022-01-01T00:00:00.000000000', '2022-02-01T00:00:00.000000000',\n",
       "                           '2022-03-01T00:00:00.000000000', '2022-04-01T00:00:00.000000000',\n",
       "                           '2022-05-01T00:00:00.000000000', '2022-06-01T00:00:00.000000000',\n",
       "                           '2022-07-01T00:00:00.000000000', '2022-08-01T00:00:00.000000000',\n",
       "                           '2022-09-01T00:00:00.000000000', '2022-10-01T00:00:00.000000000',\n",
       "                           '2022-11-01T00:00:00.000000000', '2022-12-01T00:00:00.000000000',\n",
       "                           '2023-01-01T00:00:00.000000000', '2023-02-01T00:00:00.000000000',\n",
       "                           '2023-03-01T00:00:00.000000000', '2023-04-01T00:00:00.000000000',\n",
       "                           '2023-05-01T00:00:00.000000000', '2023-06-01T00:00:00.000000000',\n",
       "                           '2023-07-01T00:00:00.000000000', '2023-08-01T00:00:00.000000000',\n",
       "                           '2023-09-01T00:00:00.000000000', '2023-10-01T00:00:00.000000000',\n",
       "                           '2023-11-01T00:00:00.000000000', '2023-12-01T00:00:00.000000000',\n",
       "                           '2024-01-01T00:00:00.000000000', '2024-02-01T00:00:00.000000000',\n",
       "                           '2024-03-01T00:00:00.000000000', '2024-04-01T00:00:00.000000000',\n",
       "                           '2024-05-01T00:00:00.000000000', '2024-06-01T00:00:00.000000000',\n",
       "                           '2024-07-01T00:00:00.000000000', '2024-08-01T00:00:00.000000000',\n",
       "                           '2024-09-01T00:00:00.000000000', '2024-10-01T00:00:00.000000000',\n",
       "                           '2024-11-01T00:00:00.000000000', '2024-12-01T00:00:00.000000000',\n",
       "                           '2025-01-01T00:00:00.000000000', '2025-02-01T00:00:00.000000000',\n",
       "                           '2025-03-01T00:00:00.000000000', '2025-04-01T00:00:00.000000000',\n",
       "                           '2025-05-01T00:00:00.000000000', '2025-06-01T00:00:00.000000000',\n",
       "                           '2025-07-01T00:00:00.000000000', '2025-08-01T00:00:00.000000000',\n",
       "                           '2025-09-01T00:00:00.000000000', '2025-10-01T00:00:00.000000000',\n",
       "                           '2025-11-01T00:00:00.000000000', '2025-12-01T00:00:00.000000000'],\n",
       "                          dtype='datetime64[ns]'),\n",
       "               'y': {'bdata': ('8KfGSzeJwT/l0CLb+X7KP3WTGARWDs' ... 'ZmZmZmxj/6fmq8dJPIPwrXo3A9Csc/'),\n",
       "                     'dtype': 'f8'}},\n",
       "              {'marker': {'color': 'rgb(242,241,241)'},\n",
       "               'name': '[489.44, 666.66)',\n",
       "               'type': 'bar',\n",
       "               'x': array(['2022-01-01T00:00:00.000000000', '2022-02-01T00:00:00.000000000',\n",
       "                           '2022-03-01T00:00:00.000000000', '2022-04-01T00:00:00.000000000',\n",
       "                           '2022-05-01T00:00:00.000000000', '2022-06-01T00:00:00.000000000',\n",
       "                           '2022-07-01T00:00:00.000000000', '2022-08-01T00:00:00.000000000',\n",
       "                           '2022-09-01T00:00:00.000000000', '2022-10-01T00:00:00.000000000',\n",
       "                           '2022-11-01T00:00:00.000000000', '2022-12-01T00:00:00.000000000',\n",
       "                           '2023-01-01T00:00:00.000000000', '2023-02-01T00:00:00.000000000',\n",
       "                           '2023-03-01T00:00:00.000000000', '2023-04-01T00:00:00.000000000',\n",
       "                           '2023-05-01T00:00:00.000000000', '2023-06-01T00:00:00.000000000',\n",
       "                           '2023-07-01T00:00:00.000000000', '2023-08-01T00:00:00.000000000',\n",
       "                           '2023-09-01T00:00:00.000000000', '2023-10-01T00:00:00.000000000',\n",
       "                           '2023-11-01T00:00:00.000000000', '2023-12-01T00:00:00.000000000',\n",
       "                           '2024-01-01T00:00:00.000000000', '2024-02-01T00:00:00.000000000',\n",
       "                           '2024-03-01T00:00:00.000000000', '2024-04-01T00:00:00.000000000',\n",
       "                           '2024-05-01T00:00:00.000000000', '2024-06-01T00:00:00.000000000',\n",
       "                           '2024-07-01T00:00:00.000000000', '2024-08-01T00:00:00.000000000',\n",
       "                           '2024-09-01T00:00:00.000000000', '2024-10-01T00:00:00.000000000',\n",
       "                           '2024-11-01T00:00:00.000000000', '2024-12-01T00:00:00.000000000',\n",
       "                           '2025-01-01T00:00:00.000000000', '2025-02-01T00:00:00.000000000',\n",
       "                           '2025-03-01T00:00:00.000000000', '2025-04-01T00:00:00.000000000',\n",
       "                           '2025-05-01T00:00:00.000000000', '2025-06-01T00:00:00.000000000',\n",
       "                           '2025-07-01T00:00:00.000000000', '2025-08-01T00:00:00.000000000',\n",
       "                           '2025-09-01T00:00:00.000000000', '2025-10-01T00:00:00.000000000',\n",
       "                           '2025-11-01T00:00:00.000000000', '2025-12-01T00:00:00.000000000'],\n",
       "                          dtype='datetime64[ns]'),\n",
       "               'y': {'bdata': ('pHA9Ctej0D+wcmiR7XzPP9Ei2/l+as' ... 'Kd76fG0z9CYOXQItvRP9v5fmq8dNM/'),\n",
       "                     'dtype': 'f8'}},\n",
       "              {'marker': {'color': 'rgb(153,183,205)'},\n",
       "               'name': '[666.66, 763.85)',\n",
       "               'type': 'bar',\n",
       "               'x': array(['2022-01-01T00:00:00.000000000', '2022-02-01T00:00:00.000000000',\n",
       "                           '2022-03-01T00:00:00.000000000', '2022-04-01T00:00:00.000000000',\n",
       "                           '2022-05-01T00:00:00.000000000', '2022-06-01T00:00:00.000000000',\n",
       "                           '2022-07-01T00:00:00.000000000', '2022-08-01T00:00:00.000000000',\n",
       "                           '2022-09-01T00:00:00.000000000', '2022-10-01T00:00:00.000000000',\n",
       "                           '2022-11-01T00:00:00.000000000', '2022-12-01T00:00:00.000000000',\n",
       "                           '2023-01-01T00:00:00.000000000', '2023-02-01T00:00:00.000000000',\n",
       "                           '2023-03-01T00:00:00.000000000', '2023-04-01T00:00:00.000000000',\n",
       "                           '2023-05-01T00:00:00.000000000', '2023-06-01T00:00:00.000000000',\n",
       "                           '2023-07-01T00:00:00.000000000', '2023-08-01T00:00:00.000000000',\n",
       "                           '2023-09-01T00:00:00.000000000', '2023-10-01T00:00:00.000000000',\n",
       "                           '2023-11-01T00:00:00.000000000', '2023-12-01T00:00:00.000000000',\n",
       "                           '2024-01-01T00:00:00.000000000', '2024-02-01T00:00:00.000000000',\n",
       "                           '2024-03-01T00:00:00.000000000', '2024-04-01T00:00:00.000000000',\n",
       "                           '2024-05-01T00:00:00.000000000', '2024-06-01T00:00:00.000000000',\n",
       "                           '2024-07-01T00:00:00.000000000', '2024-08-01T00:00:00.000000000',\n",
       "                           '2024-09-01T00:00:00.000000000', '2024-10-01T00:00:00.000000000',\n",
       "                           '2024-11-01T00:00:00.000000000', '2024-12-01T00:00:00.000000000',\n",
       "                           '2025-01-01T00:00:00.000000000', '2025-02-01T00:00:00.000000000',\n",
       "                           '2025-03-01T00:00:00.000000000', '2025-04-01T00:00:00.000000000',\n",
       "                           '2025-05-01T00:00:00.000000000', '2025-06-01T00:00:00.000000000',\n",
       "                           '2025-07-01T00:00:00.000000000', '2025-08-01T00:00:00.000000000',\n",
       "                           '2025-09-01T00:00:00.000000000', '2025-10-01T00:00:00.000000000',\n",
       "                           '2025-11-01T00:00:00.000000000', '2025-12-01T00:00:00.000000000'],\n",
       "                          dtype='datetime64[ns]'),\n",
       "               'y': {'bdata': ('lkOLbOf7yT/6fmq8dJPIP/YoXI/C9c' ... 'uHFtnOxz9eukkMAivHPxfZzvdT48U/'),\n",
       "                     'dtype': 'f8'}},\n",
       "              {'marker': {'color': 'rgb(65,124,167)'},\n",
       "               'name': '[763.85, inf)',\n",
       "               'type': 'bar',\n",
       "               'x': array(['2022-01-01T00:00:00.000000000', '2022-02-01T00:00:00.000000000',\n",
       "                           '2022-03-01T00:00:00.000000000', '2022-04-01T00:00:00.000000000',\n",
       "                           '2022-05-01T00:00:00.000000000', '2022-06-01T00:00:00.000000000',\n",
       "                           '2022-07-01T00:00:00.000000000', '2022-08-01T00:00:00.000000000',\n",
       "                           '2022-09-01T00:00:00.000000000', '2022-10-01T00:00:00.000000000',\n",
       "                           '2022-11-01T00:00:00.000000000', '2022-12-01T00:00:00.000000000',\n",
       "                           '2023-01-01T00:00:00.000000000', '2023-02-01T00:00:00.000000000',\n",
       "                           '2023-03-01T00:00:00.000000000', '2023-04-01T00:00:00.000000000',\n",
       "                           '2023-05-01T00:00:00.000000000', '2023-06-01T00:00:00.000000000',\n",
       "                           '2023-07-01T00:00:00.000000000', '2023-08-01T00:00:00.000000000',\n",
       "                           '2023-09-01T00:00:00.000000000', '2023-10-01T00:00:00.000000000',\n",
       "                           '2023-11-01T00:00:00.000000000', '2023-12-01T00:00:00.000000000',\n",
       "                           '2024-01-01T00:00:00.000000000', '2024-02-01T00:00:00.000000000',\n",
       "                           '2024-03-01T00:00:00.000000000', '2024-04-01T00:00:00.000000000',\n",
       "                           '2024-05-01T00:00:00.000000000', '2024-06-01T00:00:00.000000000',\n",
       "                           '2024-07-01T00:00:00.000000000', '2024-08-01T00:00:00.000000000',\n",
       "                           '2024-09-01T00:00:00.000000000', '2024-10-01T00:00:00.000000000',\n",
       "                           '2024-11-01T00:00:00.000000000', '2024-12-01T00:00:00.000000000',\n",
       "                           '2025-01-01T00:00:00.000000000', '2025-02-01T00:00:00.000000000',\n",
       "                           '2025-03-01T00:00:00.000000000', '2025-04-01T00:00:00.000000000',\n",
       "                           '2025-05-01T00:00:00.000000000', '2025-06-01T00:00:00.000000000',\n",
       "                           '2025-07-01T00:00:00.000000000', '2025-08-01T00:00:00.000000000',\n",
       "                           '2025-09-01T00:00:00.000000000', '2025-10-01T00:00:00.000000000',\n",
       "                           '2025-11-01T00:00:00.000000000', '2025-12-01T00:00:00.000000000'],\n",
       "                          dtype='datetime64[ns]'),\n",
       "               'y': {'bdata': ('L90kBoGV0z9cj8L1KFzPP2iR7Xw/Nc' ... 'F6FK5H0T+PwvUoXI/SP4/C9Shcj9I/'),\n",
       "                     'dtype': 'f8'}}],\n",
       "     'layout': {'barmode': 'stack',\n",
       "                'template': '...',\n",
       "                'title': {'text': 'Group Share over Time'},\n",
       "                'xaxis': {'title': {'text': 'ref_date'}},\n",
       "                'yaxis': {'tickformat': '.0%', 'title': {'text': 'Group share'}}}\n",
       " }))"
      ]
     },
     "execution_count": 32,
     "metadata": {},
     "output_type": "execute_result"
    }
   ],
   "source": [
    "# Taxa de eventos por grupo\n",
    "evaluator.plot_event_rate()"
   ]
  },
  {
   "cell_type": "code",
   "execution_count": null,
   "id": "6dc52467",
   "metadata": {},
   "outputs": [
    {
     "name": "stderr",
     "output_type": "stream",
     "text": [
      "c:\\Users\\JM\\Documents\\0_CienciaDados\\1_Frameworks\\RiskPilot\\examples\\binary_performance_evaluator.py:338: RuntimeWarning:\n",
      "\n",
      "divide by zero encountered in log\n",
      "\n",
      "c:\\Users\\JM\\Documents\\0_CienciaDados\\1_Frameworks\\RiskPilot\\examples\\binary_performance_evaluator.py:338: RuntimeWarning:\n",
      "\n",
      "invalid value encountered in divide\n",
      "\n"
     ]
    },
    {
     "data": {
      "application/vnd.plotly.v1+json": {
       "config": {
        "plotlyServerURL": "https://plot.ly"
       },
       "data": [
        {
         "mode": "lines+markers",
         "name": "acc_now_delinq",
         "type": "scatter",
         "x": [
          "2023-01-01T00:00:00.000000000",
          "2023-02-01T00:00:00.000000000",
          "2023-03-01T00:00:00.000000000",
          "2023-04-01T00:00:00.000000000",
          "2023-05-01T00:00:00.000000000",
          "2023-06-01T00:00:00.000000000",
          "2023-07-01T00:00:00.000000000",
          "2023-08-01T00:00:00.000000000",
          "2023-09-01T00:00:00.000000000",
          "2023-10-01T00:00:00.000000000",
          "2023-11-01T00:00:00.000000000",
          "2023-12-01T00:00:00.000000000",
          "2024-01-01T00:00:00.000000000",
          "2024-02-01T00:00:00.000000000",
          "2024-03-01T00:00:00.000000000",
          "2024-04-01T00:00:00.000000000",
          "2024-05-01T00:00:00.000000000",
          "2024-06-01T00:00:00.000000000",
          "2024-07-01T00:00:00.000000000",
          "2024-08-01T00:00:00.000000000",
          "2024-09-01T00:00:00.000000000",
          "2024-10-01T00:00:00.000000000",
          "2024-11-01T00:00:00.000000000",
          "2024-12-01T00:00:00.000000000"
         ],
         "y": {
          "bdata": "DqSz0WKeSD96dlGvuXM6P6dQ+atG3G0/9eEmn6efST+BQS8IYuY0P6GpNvIekGo/YowI9NAqRz9ijAj00CpHPzY3VxgD7zk/X2Fu7ean9j64ZRumw0VMPxvnSSkC4TY/geGOPTsjSj/sgMqKUp5sP+bh7q3ZYUI/nzY2VWWvPj/TTXgqRyqCP5Hym4Er8Vg/dnVvGqr1TT/lk3XnZzk/P++10lQMHkk//471UgCdPT956oziyQxEP0Zipp5HXEI/",
          "dtype": "f8"
         }
        },
        {
         "mode": "lines+markers",
         "name": "acc_open_past_24mths",
         "type": "scatter",
         "x": [
          "2023-01-01T00:00:00.000000000",
          "2023-02-01T00:00:00.000000000",
          "2023-03-01T00:00:00.000000000",
          "2023-04-01T00:00:00.000000000",
          "2023-05-01T00:00:00.000000000",
          "2023-06-01T00:00:00.000000000",
          "2023-07-01T00:00:00.000000000",
          "2023-08-01T00:00:00.000000000",
          "2023-09-01T00:00:00.000000000",
          "2023-10-01T00:00:00.000000000",
          "2023-11-01T00:00:00.000000000",
          "2023-12-01T00:00:00.000000000",
          "2024-01-01T00:00:00.000000000",
          "2024-02-01T00:00:00.000000000",
          "2024-03-01T00:00:00.000000000",
          "2024-04-01T00:00:00.000000000",
          "2024-05-01T00:00:00.000000000",
          "2024-06-01T00:00:00.000000000",
          "2024-07-01T00:00:00.000000000",
          "2024-08-01T00:00:00.000000000",
          "2024-09-01T00:00:00.000000000",
          "2024-10-01T00:00:00.000000000",
          "2024-11-01T00:00:00.000000000",
          "2024-12-01T00:00:00.000000000"
         ],
         "y": {
          "bdata": "biNH0Ef7kT/NS4RyFe93PyANRlo+6Y8/UBAGc2NEkz/mBxmPASiIP9CV6heaoJQ/m/iTM2L+oD/sMfCERk2UP2VuG6vm6ZI/53XtrqRlmT9nIFxlPOaBP+wagepkFZI/QHXoDW63gj+JMGHXXGqSP7DvBa1YfJQ/z1R2y1JVkD/0GFtA+YGUP9YPAoXMtY4/TIpdF0oYnT+yyMNxwWqjP4Fgt8PKZ6A/EN5BFVrMlz9qo1lYuVyOP+f7uwrec5E/",
          "dtype": "f8"
         }
        },
        {
         "mode": "lines+markers",
         "name": "all_util",
         "type": "scatter",
         "x": [
          "2023-01-01T00:00:00.000000000",
          "2023-02-01T00:00:00.000000000",
          "2023-03-01T00:00:00.000000000",
          "2023-04-01T00:00:00.000000000",
          "2023-05-01T00:00:00.000000000",
          "2023-06-01T00:00:00.000000000",
          "2023-07-01T00:00:00.000000000",
          "2023-08-01T00:00:00.000000000",
          "2023-09-01T00:00:00.000000000",
          "2023-10-01T00:00:00.000000000",
          "2023-11-01T00:00:00.000000000",
          "2023-12-01T00:00:00.000000000",
          "2024-01-01T00:00:00.000000000",
          "2024-02-01T00:00:00.000000000",
          "2024-03-01T00:00:00.000000000",
          "2024-04-01T00:00:00.000000000",
          "2024-05-01T00:00:00.000000000",
          "2024-06-01T00:00:00.000000000",
          "2024-07-01T00:00:00.000000000",
          "2024-08-01T00:00:00.000000000",
          "2024-09-01T00:00:00.000000000",
          "2024-10-01T00:00:00.000000000",
          "2024-11-01T00:00:00.000000000",
          "2024-12-01T00:00:00.000000000"
         ],
         "y": {
          "bdata": "8w9SaXuskT9+VeC+PAWfP8m9P9R55aI/IMFHIfQjjj/J4i87o0ebPws9sdD7sqI/wy80Fzv1kT/+kLmCvyaYP3FSt/bmpoc/tgnsTqAWkD/yCDIJgXqLPwN8EA9Cg5Y/fIZAAc9GmT+HioOvEYqQPwxkcUAceJk/YHLbPP/zeT/IquYm/kiRP0AyUlXR5KA/q0jL2iO0oj8pdzqsUzSJP23QeQjLko0/Ry299awnpD8a+SocLaGeP0e5DVoGZJc/",
          "dtype": "f8"
         }
        },
        {
         "mode": "lines+markers",
         "name": "annual_inc",
         "type": "scatter",
         "x": [
          "2023-01-01T00:00:00.000000000",
          "2023-02-01T00:00:00.000000000",
          "2023-03-01T00:00:00.000000000",
          "2023-04-01T00:00:00.000000000",
          "2023-05-01T00:00:00.000000000",
          "2023-06-01T00:00:00.000000000",
          "2023-07-01T00:00:00.000000000",
          "2023-08-01T00:00:00.000000000",
          "2023-09-01T00:00:00.000000000",
          "2023-10-01T00:00:00.000000000",
          "2023-11-01T00:00:00.000000000",
          "2023-12-01T00:00:00.000000000",
          "2024-01-01T00:00:00.000000000",
          "2024-02-01T00:00:00.000000000",
          "2024-03-01T00:00:00.000000000",
          "2024-04-01T00:00:00.000000000",
          "2024-05-01T00:00:00.000000000",
          "2024-06-01T00:00:00.000000000",
          "2024-07-01T00:00:00.000000000",
          "2024-08-01T00:00:00.000000000",
          "2024-09-01T00:00:00.000000000",
          "2024-10-01T00:00:00.000000000",
          "2024-11-01T00:00:00.000000000",
          "2024-12-01T00:00:00.000000000"
         ],
         "y": {
          "bdata": "ipJwr1ifeT/NcDQzzHimP8ovxC6WK3w/XWvgtwt+pD+W1zROyYOAPyAuM5GIGnI/b7185q1Jgz9Eyu1zepWWP7ByW8CL0nc/yYjoK8RTlj+L9DQfyE2BPwZuw1LIJow/lgTwKO9ggz+E00Z3w2F3P73iEzDQa4M/0lmlyzrlhT9cXJT8cqKfP8Yq1e8X0Jc/Sv5H0uswjz9RLWoSyBZqPyD5ATIAdH8/wrh8JGMDhz8WTVWZT1d+P+uwxoCrjIc/",
          "dtype": "f8"
         }
        },
        {
         "mode": "lines+markers",
         "name": "avg_cur_bal",
         "type": "scatter",
         "x": [
          "2023-01-01T00:00:00.000000000",
          "2023-02-01T00:00:00.000000000",
          "2023-03-01T00:00:00.000000000",
          "2023-04-01T00:00:00.000000000",
          "2023-05-01T00:00:00.000000000",
          "2023-06-01T00:00:00.000000000",
          "2023-07-01T00:00:00.000000000",
          "2023-08-01T00:00:00.000000000",
          "2023-09-01T00:00:00.000000000",
          "2023-10-01T00:00:00.000000000",
          "2023-11-01T00:00:00.000000000",
          "2023-12-01T00:00:00.000000000",
          "2024-01-01T00:00:00.000000000",
          "2024-02-01T00:00:00.000000000",
          "2024-03-01T00:00:00.000000000",
          "2024-04-01T00:00:00.000000000",
          "2024-05-01T00:00:00.000000000",
          "2024-06-01T00:00:00.000000000",
          "2024-07-01T00:00:00.000000000",
          "2024-08-01T00:00:00.000000000",
          "2024-09-01T00:00:00.000000000",
          "2024-10-01T00:00:00.000000000",
          "2024-11-01T00:00:00.000000000",
          "2024-12-01T00:00:00.000000000"
         ],
         "y": {
          "bdata": "x62HjfjxcT9IwlP3w5uZPz0lV7QsSXI/MlaA6odSjj/CpK3K0uqaP9QNJTKRrIE/AmWi6OtXij8Vi2u/Nt+EP880guW4hJo/Q0Qw3gHIfj+wrdJgtX57P/gQ5jXrsYI/r2egMSM4mz8DCKqYv1eAP6of/9+eHYc/4EgaQvPpiT+tXYOzpL2CP5teqGfs05Q/7Xmu9fXDej/4qkm3ABdvP0oBIO9IG2E/hl6MrNFzpT8TRP2K9BmCP1V96BU06IA/",
          "dtype": "f8"
         }
        },
        {
         "mode": "lines+markers",
         "name": "bc_open_to_buy",
         "type": "scatter",
         "x": [
          "2023-01-01T00:00:00.000000000",
          "2023-02-01T00:00:00.000000000",
          "2023-03-01T00:00:00.000000000",
          "2023-04-01T00:00:00.000000000",
          "2023-05-01T00:00:00.000000000",
          "2023-06-01T00:00:00.000000000",
          "2023-07-01T00:00:00.000000000",
          "2023-08-01T00:00:00.000000000",
          "2023-09-01T00:00:00.000000000",
          "2023-10-01T00:00:00.000000000",
          "2023-11-01T00:00:00.000000000",
          "2023-12-01T00:00:00.000000000",
          "2024-01-01T00:00:00.000000000",
          "2024-02-01T00:00:00.000000000",
          "2024-03-01T00:00:00.000000000",
          "2024-04-01T00:00:00.000000000",
          "2024-05-01T00:00:00.000000000",
          "2024-06-01T00:00:00.000000000",
          "2024-07-01T00:00:00.000000000",
          "2024-08-01T00:00:00.000000000",
          "2024-09-01T00:00:00.000000000",
          "2024-10-01T00:00:00.000000000",
          "2024-11-01T00:00:00.000000000",
          "2024-12-01T00:00:00.000000000"
         ],
         "y": {
          "bdata": "X4nF7CU0eD+ogTxNXJ+DP+QMuxofF4s/k37UddetSj+ab0Pyku96P+1c+mfTyYM/vYRB8Gj6nT8SlgXud+h5PzgZBhS/oHo//03XjjgymD/LwBKiFcWDP8SyWB7bBog/4X1yK4leoD+UvA6f25eTP5iH4rSVooM/yH2MUVb5cT+isK0WHnxZP8y2RFNXu5M/bGCEi0H4Zj9sknmEb3eAP5h95xc02Hc/2RhFMGEBiD8ZsmJxrzuXPzDoFg+h7Xs/",
          "dtype": "f8"
         }
        },
        {
         "mode": "lines+markers",
         "name": "bc_util",
         "type": "scatter",
         "x": [
          "2023-01-01T00:00:00.000000000",
          "2023-02-01T00:00:00.000000000",
          "2023-03-01T00:00:00.000000000",
          "2023-04-01T00:00:00.000000000",
          "2023-05-01T00:00:00.000000000",
          "2023-06-01T00:00:00.000000000",
          "2023-07-01T00:00:00.000000000",
          "2023-08-01T00:00:00.000000000",
          "2023-09-01T00:00:00.000000000",
          "2023-10-01T00:00:00.000000000",
          "2023-11-01T00:00:00.000000000",
          "2023-12-01T00:00:00.000000000",
          "2024-01-01T00:00:00.000000000",
          "2024-02-01T00:00:00.000000000",
          "2024-03-01T00:00:00.000000000",
          "2024-04-01T00:00:00.000000000",
          "2024-05-01T00:00:00.000000000",
          "2024-06-01T00:00:00.000000000",
          "2024-07-01T00:00:00.000000000",
          "2024-08-01T00:00:00.000000000",
          "2024-09-01T00:00:00.000000000",
          "2024-10-01T00:00:00.000000000",
          "2024-11-01T00:00:00.000000000",
          "2024-12-01T00:00:00.000000000"
         ],
         "y": {
          "bdata": "tm6Rya90nz9tDbZFDOioPwRFEqcQk5Q/tvSlKAONoD+rLSy2erKcP/50u5tL5JY/Kpeu1HKanT8Nn1p/DPCSPwG+1bldEXc/BCEis9IDnD/zEfecfsKSP9hdp52ViJk/RluTrBMbnj8JTa4DniycP2fDsi1k24A/6Lf5llurlj91jzXX3b2bPybIYqIQqaM/7YhsEVAxmD88HETxU4yWP1sVZymqzaQ/0oOpbEDDrD+Ct5Z5j2qpP6NrNhdFRJQ/",
          "dtype": "f8"
         }
        },
        {
         "mode": "lines+markers",
         "name": "chargeoff_within_12_mths",
         "type": "scatter",
         "x": [
          "2023-01-01T00:00:00.000000000",
          "2023-02-01T00:00:00.000000000",
          "2023-03-01T00:00:00.000000000",
          "2023-04-01T00:00:00.000000000",
          "2023-05-01T00:00:00.000000000",
          "2023-06-01T00:00:00.000000000",
          "2023-07-01T00:00:00.000000000",
          "2023-08-01T00:00:00.000000000",
          "2023-09-01T00:00:00.000000000",
          "2023-10-01T00:00:00.000000000",
          "2023-11-01T00:00:00.000000000",
          "2023-12-01T00:00:00.000000000",
          "2024-01-01T00:00:00.000000000",
          "2024-02-01T00:00:00.000000000",
          "2024-03-01T00:00:00.000000000",
          "2024-04-01T00:00:00.000000000",
          "2024-05-01T00:00:00.000000000",
          "2024-06-01T00:00:00.000000000",
          "2024-07-01T00:00:00.000000000",
          "2024-08-01T00:00:00.000000000",
          "2024-09-01T00:00:00.000000000",
          "2024-10-01T00:00:00.000000000",
          "2024-11-01T00:00:00.000000000",
          "2024-12-01T00:00:00.000000000"
         ],
         "y": {
          "bdata": "08/AQ0Bafz+CCOqPINxYP5AxIQ1o+Uk/tnEXhM0Qfz9UT2WImVB9P1NURjzI/kM/qjT8CsPHfz9Uhhnv8YJAP1SGGe/xgkA/Mojmtb/ZiD9YC+WelRKKPwgZ8Kd9tHE/90wgGfLrfj/eHbOYkUt7P6+RtUNfEHM/a4EniQYgQj/yOm6SyAx/P5tB65EZHUc/AQJtncMpZz9muxuwA7+BP+Xd/wnLcJ0//e32vNTjjT9oPuY2V2JmP4SqR9PfB24/",
          "dtype": "f8"
         }
        },
        {
         "mode": "lines+markers",
         "name": "collection_recovery_fee",
         "type": "scatter",
         "x": [
          "2023-01-01T00:00:00.000000000",
          "2023-02-01T00:00:00.000000000",
          "2023-03-01T00:00:00.000000000",
          "2023-04-01T00:00:00.000000000",
          "2023-05-01T00:00:00.000000000",
          "2023-06-01T00:00:00.000000000",
          "2023-07-01T00:00:00.000000000",
          "2023-08-01T00:00:00.000000000",
          "2023-09-01T00:00:00.000000000",
          "2023-10-01T00:00:00.000000000",
          "2023-11-01T00:00:00.000000000",
          "2023-12-01T00:00:00.000000000",
          "2024-01-01T00:00:00.000000000",
          "2024-02-01T00:00:00.000000000",
          "2024-03-01T00:00:00.000000000",
          "2024-04-01T00:00:00.000000000",
          "2024-05-01T00:00:00.000000000",
          "2024-06-01T00:00:00.000000000",
          "2024-07-01T00:00:00.000000000",
          "2024-08-01T00:00:00.000000000",
          "2024-09-01T00:00:00.000000000",
          "2024-10-01T00:00:00.000000000",
          "2024-11-01T00:00:00.000000000",
          "2024-12-01T00:00:00.000000000"
         ],
         "y": {
          "bdata": "7uqiopesgD986UARj9CYP8wAFGDV/Ig/xAUSAoEjgD/C0rYJpuSHP9JM9shhOmo/XUBTQnmshj/OYjoCaWN/P3SyJ2vHd3k/Z+S/7vprgD8FYfMtAQSOPy0n+wl4OpU/EZhDsjR2iD8q8y1rVSiBPxSrrT9NpYY/EWobjVwtaT//+flwWV+JP2TSmZEIsJY/3mnokxMDdD+zBOTHERNqP2PKRe+t91w/qFhM+7EzgD88AYJXTY2DPwcsLqhea3E/",
          "dtype": "f8"
         }
        },
        {
         "mode": "lines+markers",
         "name": "collections_12_mths_ex_med",
         "type": "scatter",
         "x": [
          "2023-01-01T00:00:00.000000000",
          "2023-02-01T00:00:00.000000000",
          "2023-03-01T00:00:00.000000000",
          "2023-04-01T00:00:00.000000000",
          "2023-05-01T00:00:00.000000000",
          "2023-06-01T00:00:00.000000000",
          "2023-07-01T00:00:00.000000000",
          "2023-08-01T00:00:00.000000000",
          "2023-09-01T00:00:00.000000000",
          "2023-10-01T00:00:00.000000000",
          "2023-11-01T00:00:00.000000000",
          "2023-12-01T00:00:00.000000000",
          "2024-01-01T00:00:00.000000000",
          "2024-02-01T00:00:00.000000000",
          "2024-03-01T00:00:00.000000000",
          "2024-04-01T00:00:00.000000000",
          "2024-05-01T00:00:00.000000000",
          "2024-06-01T00:00:00.000000000",
          "2024-07-01T00:00:00.000000000",
          "2024-08-01T00:00:00.000000000",
          "2024-09-01T00:00:00.000000000",
          "2024-10-01T00:00:00.000000000",
          "2024-11-01T00:00:00.000000000",
          "2024-12-01T00:00:00.000000000"
         ],
         "y": {
          "bdata": "mn2cWbcDhD+0mh+WQHKPP91dgGS4jIc/a2VfbQjt0j/00rQecjTAP6U8BRD8/b4/TbGZznXSsz89cO7+JK2qP0rZi96F7rQ/+5nYk9elkj9iuc4UkhyPP7OJ4OKMwKA/Ljd6qU/XYD8srrh/yM0kP7vdbIvzM5w/LkgCa24gYj9wZ8P5JSOXP7PbiOREkKI/OeMgKnXekT8cnebDmDSxP21RWNHXNsA/FEjpDnFArT+4hw3oMha9P9iJg00h77Y/",
          "dtype": "f8"
         }
        },
        {
         "mode": "lines+markers",
         "name": "delinq_2yrs",
         "type": "scatter",
         "x": [
          "2023-01-01T00:00:00.000000000",
          "2023-02-01T00:00:00.000000000",
          "2023-03-01T00:00:00.000000000",
          "2023-04-01T00:00:00.000000000",
          "2023-05-01T00:00:00.000000000",
          "2023-06-01T00:00:00.000000000",
          "2023-07-01T00:00:00.000000000",
          "2023-08-01T00:00:00.000000000",
          "2023-09-01T00:00:00.000000000",
          "2023-10-01T00:00:00.000000000",
          "2023-11-01T00:00:00.000000000",
          "2023-12-01T00:00:00.000000000",
          "2024-01-01T00:00:00.000000000",
          "2024-02-01T00:00:00.000000000",
          "2024-03-01T00:00:00.000000000",
          "2024-04-01T00:00:00.000000000",
          "2024-05-01T00:00:00.000000000",
          "2024-06-01T00:00:00.000000000",
          "2024-07-01T00:00:00.000000000",
          "2024-08-01T00:00:00.000000000",
          "2024-09-01T00:00:00.000000000",
          "2024-10-01T00:00:00.000000000",
          "2024-11-01T00:00:00.000000000",
          "2024-12-01T00:00:00.000000000"
         ],
         "y": {
          "bdata": "Y8UpJYOfpj/y006NVbWYP3CFE3whQYQ/8NZyWPUXiT82faCn59qTP/S0ccIkC3I/4XkR1sTZhD8jx8NVg8+BP0hE7U0VPnE/czk8af/SbD8IQCWnk2p3P/Rz/XJDanQ/vJHSZ/2RdT/UXFxzkNiFP6qsZ2a5VYI/qNp8UVMifD84jHsgSipeP+do425kAnc/l9MhYNW9eD+bQlhxWZWEPwXNDNuE3U8/zTou0TKXgz88q0EOQFxiP3cUDC9HWls/",
          "dtype": "f8"
         }
        },
        {
         "mode": "lines+markers",
         "name": "delinq_amnt",
         "type": "scatter",
         "x": [
          "2023-01-01T00:00:00.000000000",
          "2023-02-01T00:00:00.000000000",
          "2023-03-01T00:00:00.000000000",
          "2023-04-01T00:00:00.000000000",
          "2023-05-01T00:00:00.000000000",
          "2023-06-01T00:00:00.000000000",
          "2023-07-01T00:00:00.000000000",
          "2023-08-01T00:00:00.000000000",
          "2023-09-01T00:00:00.000000000",
          "2023-10-01T00:00:00.000000000",
          "2023-11-01T00:00:00.000000000",
          "2023-12-01T00:00:00.000000000",
          "2024-01-01T00:00:00.000000000",
          "2024-02-01T00:00:00.000000000",
          "2024-03-01T00:00:00.000000000",
          "2024-04-01T00:00:00.000000000",
          "2024-05-01T00:00:00.000000000",
          "2024-06-01T00:00:00.000000000",
          "2024-07-01T00:00:00.000000000",
          "2024-08-01T00:00:00.000000000",
          "2024-09-01T00:00:00.000000000",
          "2024-10-01T00:00:00.000000000",
          "2024-11-01T00:00:00.000000000",
          "2024-12-01T00:00:00.000000000"
         ],
         "y": {
          "bdata": "pdd9pbehaD8rtGPuwHbOPopjJ7KTenY/tIIxmDsTeT8rtGPuwHbOPhFO6VGhtmQ/9vM075wYaD/28zTvnBhoPyu0Y+7Ads4+K7Rj7sB2zj4Yqx+3IgV6P2Yh6HEzhmo/K7Rj7sB2zj6xjnO5L8ZlPyu0Y+7Ads4+K7Rj7sB2zj4soAbr6KV3Pyu0Y+7Ads4+ZiHocTOGaj8rtGPuwHbOPsz0lho80Gg/K7Rj7sB2zj4rtGPuwHbOPiu0Y+7Ads4+",
          "dtype": "f8"
         }
        },
        {
         "mode": "lines+markers",
         "name": "dti",
         "type": "scatter",
         "x": [
          "2023-01-01T00:00:00.000000000",
          "2023-02-01T00:00:00.000000000",
          "2023-03-01T00:00:00.000000000",
          "2023-04-01T00:00:00.000000000",
          "2023-05-01T00:00:00.000000000",
          "2023-06-01T00:00:00.000000000",
          "2023-07-01T00:00:00.000000000",
          "2023-08-01T00:00:00.000000000",
          "2023-09-01T00:00:00.000000000",
          "2023-10-01T00:00:00.000000000",
          "2023-11-01T00:00:00.000000000",
          "2023-12-01T00:00:00.000000000",
          "2024-01-01T00:00:00.000000000",
          "2024-02-01T00:00:00.000000000",
          "2024-03-01T00:00:00.000000000",
          "2024-04-01T00:00:00.000000000",
          "2024-05-01T00:00:00.000000000",
          "2024-06-01T00:00:00.000000000",
          "2024-07-01T00:00:00.000000000",
          "2024-08-01T00:00:00.000000000",
          "2024-09-01T00:00:00.000000000",
          "2024-10-01T00:00:00.000000000",
          "2024-11-01T00:00:00.000000000",
          "2024-12-01T00:00:00.000000000"
         ],
         "y": {
          "bdata": "KBOF2Xc2gT8cBS/r3gyQP33JETpb+nU/QJWCL1VMpz+7uHeP+qOjP2iAup2+VJQ/EiiduO67nT/mPdyjXDKaP3jEmzzCcoQ/Gsy/weW0mj/MYuOmYC2UP6gevs3mhok/xeB5bUeyjj/794aoIjiNP1CD8frH+3c/0mECvXs3kz9GcTmD6ZmhP4g9IL5fsKY/y2qyoLg7jz8FYyvjAqqdPxGigBEB+I4/7kibuRJIlz8iWPLfD9mcP21uaW+yv5I/",
          "dtype": "f8"
         }
        },
        {
         "mode": "lines+markers",
         "name": "fico_range_high",
         "type": "scatter",
         "x": [
          "2023-01-01T00:00:00.000000000",
          "2023-02-01T00:00:00.000000000",
          "2023-03-01T00:00:00.000000000",
          "2023-04-01T00:00:00.000000000",
          "2023-05-01T00:00:00.000000000",
          "2023-06-01T00:00:00.000000000",
          "2023-07-01T00:00:00.000000000",
          "2023-08-01T00:00:00.000000000",
          "2023-09-01T00:00:00.000000000",
          "2023-10-01T00:00:00.000000000",
          "2023-11-01T00:00:00.000000000",
          "2023-12-01T00:00:00.000000000",
          "2024-01-01T00:00:00.000000000",
          "2024-02-01T00:00:00.000000000",
          "2024-03-01T00:00:00.000000000",
          "2024-04-01T00:00:00.000000000",
          "2024-05-01T00:00:00.000000000",
          "2024-06-01T00:00:00.000000000",
          "2024-07-01T00:00:00.000000000",
          "2024-08-01T00:00:00.000000000",
          "2024-09-01T00:00:00.000000000",
          "2024-10-01T00:00:00.000000000",
          "2024-11-01T00:00:00.000000000",
          "2024-12-01T00:00:00.000000000"
         ],
         "y": {
          "bdata": "GTsP6143hT+XpUdPO1WOP24eN71c35U/NZDTvLEQgj+a92fLuOmgPxJMTrDFu4k/acm+bCeWgj8Yn7YtflKgP0o/9Oihh4g/IeuTDIC2ij+0bmh08FiSP9pcoU/hKZk/oQ9pLQmIhj/AMWAGE2KQP77c8HYn7JE/0ajKXq5Irj+xdLNsQLt0P+WGG2lmIaI/edxrUxzplT89snIJSGufP4UXfdLNE4Y/pgYkLtQOoz+xu64RqRiVP+tnqljKYJM/",
          "dtype": "f8"
         }
        },
        {
         "mode": "lines+markers",
         "name": "fico_range_low",
         "type": "scatter",
         "x": [
          "2023-01-01T00:00:00.000000000",
          "2023-02-01T00:00:00.000000000",
          "2023-03-01T00:00:00.000000000",
          "2023-04-01T00:00:00.000000000",
          "2023-05-01T00:00:00.000000000",
          "2023-06-01T00:00:00.000000000",
          "2023-07-01T00:00:00.000000000",
          "2023-08-01T00:00:00.000000000",
          "2023-09-01T00:00:00.000000000",
          "2023-10-01T00:00:00.000000000",
          "2023-11-01T00:00:00.000000000",
          "2023-12-01T00:00:00.000000000",
          "2024-01-01T00:00:00.000000000",
          "2024-02-01T00:00:00.000000000",
          "2024-03-01T00:00:00.000000000",
          "2024-04-01T00:00:00.000000000",
          "2024-05-01T00:00:00.000000000",
          "2024-06-01T00:00:00.000000000",
          "2024-07-01T00:00:00.000000000",
          "2024-08-01T00:00:00.000000000",
          "2024-09-01T00:00:00.000000000",
          "2024-10-01T00:00:00.000000000",
          "2024-11-01T00:00:00.000000000",
          "2024-12-01T00:00:00.000000000"
         ],
         "y": {
          "bdata": "eqKxm4RssD/SUN6ovxyZP1PAY4A1HKM/ittuemR7mD9W6jvyq92iP4wlYHwjgn0/EjjGb0sThD9XkzGMSVacP7BhSF9+7JM/qAJSTW9Edz+Iv3rWVwuMP7jB0kfCbJE/VKcZ3vgyjj+eoB4tZreSPwh0+kaOhX8/kEPC/Oz3qj8fzksDl+GbP3lovE+yv5s/Pn3M4gdejD+crlCt/Q2SP7jrGYLp+54/ypUpHWB/pz/0z74rOK6UPzHls/pUn5Q/",
          "dtype": "f8"
         }
        },
        {
         "mode": "lines+markers",
         "name": "funded_amnt",
         "type": "scatter",
         "x": [
          "2023-01-01T00:00:00.000000000",
          "2023-02-01T00:00:00.000000000",
          "2023-03-01T00:00:00.000000000",
          "2023-04-01T00:00:00.000000000",
          "2023-05-01T00:00:00.000000000",
          "2023-06-01T00:00:00.000000000",
          "2023-07-01T00:00:00.000000000",
          "2023-08-01T00:00:00.000000000",
          "2023-09-01T00:00:00.000000000",
          "2023-10-01T00:00:00.000000000",
          "2023-11-01T00:00:00.000000000",
          "2023-12-01T00:00:00.000000000",
          "2024-01-01T00:00:00.000000000",
          "2024-02-01T00:00:00.000000000",
          "2024-03-01T00:00:00.000000000",
          "2024-04-01T00:00:00.000000000",
          "2024-05-01T00:00:00.000000000",
          "2024-06-01T00:00:00.000000000",
          "2024-07-01T00:00:00.000000000",
          "2024-08-01T00:00:00.000000000",
          "2024-09-01T00:00:00.000000000",
          "2024-10-01T00:00:00.000000000",
          "2024-11-01T00:00:00.000000000",
          "2024-12-01T00:00:00.000000000"
         ],
         "y": {
          "bdata": "Csqg72Z9oT8wW6KE4j2lPzQk8sWNXKQ/S+WnxuygqT88jQpdDV2gP3y7wfw0x5M/Sqe48x+iez9kFgE8smibP7JsaqHycZI/gkhPUBSMlz/Tgu512imSP3UkeUgqzZQ/TJBY/B06gj+7Tte9p12lPwgdXfx1JJQ//IOjAApRiD9XWhyVVhOTPw0wKGoHk5U/PlJ3H4Aglj9Gepj+sxGRPwtwaQiFf4s/i90fSZ6ZoT+q1jVlepCTP/66/ZL3qYQ/",
          "dtype": "f8"
         }
        },
        {
         "mode": "lines+markers",
         "name": "funded_amnt_inv",
         "type": "scatter",
         "x": [
          "2023-01-01T00:00:00.000000000",
          "2023-02-01T00:00:00.000000000",
          "2023-03-01T00:00:00.000000000",
          "2023-04-01T00:00:00.000000000",
          "2023-05-01T00:00:00.000000000",
          "2023-06-01T00:00:00.000000000",
          "2023-07-01T00:00:00.000000000",
          "2023-08-01T00:00:00.000000000",
          "2023-09-01T00:00:00.000000000",
          "2023-10-01T00:00:00.000000000",
          "2023-11-01T00:00:00.000000000",
          "2023-12-01T00:00:00.000000000",
          "2024-01-01T00:00:00.000000000",
          "2024-02-01T00:00:00.000000000",
          "2024-03-01T00:00:00.000000000",
          "2024-04-01T00:00:00.000000000",
          "2024-05-01T00:00:00.000000000",
          "2024-06-01T00:00:00.000000000",
          "2024-07-01T00:00:00.000000000",
          "2024-08-01T00:00:00.000000000",
          "2024-09-01T00:00:00.000000000",
          "2024-10-01T00:00:00.000000000",
          "2024-11-01T00:00:00.000000000",
          "2024-12-01T00:00:00.000000000"
         ],
         "y": {
          "bdata": "bwlauboxtj869lSZZpOfP9GZkG9g6JE/4QPmLpgUoD9umf7c+dOKPxappHd7lYs/7CpYgNfmmD/9PYyyBdSUP+v3u00YUZ4/IPcHpIamgD8UjBXooCaiPyL5132PcZk/TnP77xdelj/FJU0nw7WcPz3LoX8D050/piHI350riT8TLxkzb+iZP9eZAOXIIYs/AJtmTG1Tpj/DbzLNgBOlP2O1CMgewaA/i5czBHXDpD+KRjtFei+jPytDCq2kSpY/",
          "dtype": "f8"
         }
        },
        {
         "mode": "lines+markers",
         "name": "il_util",
         "type": "scatter",
         "x": [
          "2023-01-01T00:00:00.000000000",
          "2023-02-01T00:00:00.000000000",
          "2023-03-01T00:00:00.000000000",
          "2023-04-01T00:00:00.000000000",
          "2023-05-01T00:00:00.000000000",
          "2023-06-01T00:00:00.000000000",
          "2023-07-01T00:00:00.000000000",
          "2023-08-01T00:00:00.000000000",
          "2023-09-01T00:00:00.000000000",
          "2023-10-01T00:00:00.000000000",
          "2023-11-01T00:00:00.000000000",
          "2023-12-01T00:00:00.000000000",
          "2024-01-01T00:00:00.000000000",
          "2024-02-01T00:00:00.000000000",
          "2024-03-01T00:00:00.000000000",
          "2024-04-01T00:00:00.000000000",
          "2024-05-01T00:00:00.000000000",
          "2024-06-01T00:00:00.000000000",
          "2024-07-01T00:00:00.000000000",
          "2024-08-01T00:00:00.000000000",
          "2024-09-01T00:00:00.000000000",
          "2024-10-01T00:00:00.000000000",
          "2024-11-01T00:00:00.000000000",
          "2024-12-01T00:00:00.000000000"
         ],
         "y": {
          "bdata": "/i4t/OZOlD9TjV1H3lCNP86VLa3+ZqM/l1M49gUjjj+6otoAQReWPzxLUWR9E44/AJFQ4A7hkz9fnHGjhROVP2bkkwz0P4o/YljE4UIAmD9vluuqjIymPwAUfue8QZo/RhNh6ejjlz9iCKBC6B+CP6M1QkCcYJ0/0Pc8jMCPlD+gyBY6LOGlP2HziOwf0os/FkXKnKU7kD8GvOl/M2iGPyV4CgNhep0/V64Y3+yllD/a1bnc0nORP3zEqIgCQ4k/",
          "dtype": "f8"
         }
        },
        {
         "mode": "lines+markers",
         "name": "inq_fi",
         "type": "scatter",
         "x": [
          "2023-01-01T00:00:00.000000000",
          "2023-02-01T00:00:00.000000000",
          "2023-03-01T00:00:00.000000000",
          "2023-04-01T00:00:00.000000000",
          "2023-05-01T00:00:00.000000000",
          "2023-06-01T00:00:00.000000000",
          "2023-07-01T00:00:00.000000000",
          "2023-08-01T00:00:00.000000000",
          "2023-09-01T00:00:00.000000000",
          "2023-10-01T00:00:00.000000000",
          "2023-11-01T00:00:00.000000000",
          "2023-12-01T00:00:00.000000000",
          "2024-01-01T00:00:00.000000000",
          "2024-02-01T00:00:00.000000000",
          "2024-03-01T00:00:00.000000000",
          "2024-04-01T00:00:00.000000000",
          "2024-05-01T00:00:00.000000000",
          "2024-06-01T00:00:00.000000000",
          "2024-07-01T00:00:00.000000000",
          "2024-08-01T00:00:00.000000000",
          "2024-09-01T00:00:00.000000000",
          "2024-10-01T00:00:00.000000000",
          "2024-11-01T00:00:00.000000000",
          "2024-12-01T00:00:00.000000000"
         ],
         "y": {
          "bdata": "4E2jKlaHoD9mCpfSKOprP6hv43ENx3w/UVUqo1xrcD8sEPETkTt7PyZ6jh2qOIY/r9tSxU/nij8ysUh+V1hnPw8MjTLu1Jc/tkbS9S+Xbj/pxzFv+4+YPwxfPFSRlYU/nLudc/fjdj+bQ9JB3itwPwOnv4TO9JQ/Ce+/Z/zlmz/iCK3i5TpgP8ObUVNy93U/jAyhSzBJfj+dahAW7nJ2P0UCnUFfUpM/iyiNWB3IkT+M7rJB6aeJP/Bphzkb7Is/",
          "dtype": "f8"
         }
        },
        {
         "mode": "lines+markers",
         "name": "inq_last_12m",
         "type": "scatter",
         "x": [
          "2023-01-01T00:00:00.000000000",
          "2023-02-01T00:00:00.000000000",
          "2023-03-01T00:00:00.000000000",
          "2023-04-01T00:00:00.000000000",
          "2023-05-01T00:00:00.000000000",
          "2023-06-01T00:00:00.000000000",
          "2023-07-01T00:00:00.000000000",
          "2023-08-01T00:00:00.000000000",
          "2023-09-01T00:00:00.000000000",
          "2023-10-01T00:00:00.000000000",
          "2023-11-01T00:00:00.000000000",
          "2023-12-01T00:00:00.000000000",
          "2024-01-01T00:00:00.000000000",
          "2024-02-01T00:00:00.000000000",
          "2024-03-01T00:00:00.000000000",
          "2024-04-01T00:00:00.000000000",
          "2024-05-01T00:00:00.000000000",
          "2024-06-01T00:00:00.000000000",
          "2024-07-01T00:00:00.000000000",
          "2024-08-01T00:00:00.000000000",
          "2024-09-01T00:00:00.000000000",
          "2024-10-01T00:00:00.000000000",
          "2024-11-01T00:00:00.000000000",
          "2024-12-01T00:00:00.000000000"
         ],
         "y": {
          "bdata": "goCDvfZbnT8n03Ri/OCqP4IriWCdiZk/ApIOPoc7fz+yBvUvCn6gPyqZQ7SZ5Ws/sE6Vbfjofj/63RkxEQWKP36ZBVUOFpA/mGA7TSUGlD8bwMhC1FF0P92ql4AP9oM/HtMBgNIqkj/cEL0eRiWUP6iM9Zaum48/w5Bi/rqzdT/x9W0y0UWCP6LECXogP4g/YyuGaqlCjz/cGQenX0ONP+ws/h1PkqE/nVC6tSVEgz9krOG6XEOIP3wzfWH0rXc/",
          "dtype": "f8"
         }
        },
        {
         "mode": "lines+markers",
         "name": "inq_last_6mths",
         "type": "scatter",
         "x": [
          "2023-01-01T00:00:00.000000000",
          "2023-02-01T00:00:00.000000000",
          "2023-03-01T00:00:00.000000000",
          "2023-04-01T00:00:00.000000000",
          "2023-05-01T00:00:00.000000000",
          "2023-06-01T00:00:00.000000000",
          "2023-07-01T00:00:00.000000000",
          "2023-08-01T00:00:00.000000000",
          "2023-09-01T00:00:00.000000000",
          "2023-10-01T00:00:00.000000000",
          "2023-11-01T00:00:00.000000000",
          "2023-12-01T00:00:00.000000000",
          "2024-01-01T00:00:00.000000000",
          "2024-02-01T00:00:00.000000000",
          "2024-03-01T00:00:00.000000000",
          "2024-04-01T00:00:00.000000000",
          "2024-05-01T00:00:00.000000000",
          "2024-06-01T00:00:00.000000000",
          "2024-07-01T00:00:00.000000000",
          "2024-08-01T00:00:00.000000000",
          "2024-09-01T00:00:00.000000000",
          "2024-10-01T00:00:00.000000000",
          "2024-11-01T00:00:00.000000000",
          "2024-12-01T00:00:00.000000000"
         ],
         "y": {
          "bdata": "T96RxGvpwz95NqfKOWjNPwtGMBlBPMI/hu2DK7NrtD/A8E3VZ3vAP2CTUygGb5Q/Ze3siUFYoz/fB2g09iiVP1dCSevHlJI/TW8c2C85oT/jYnV0j32gP77WfRMKY4g/SukNXBF4lT8Vz/UpRh+gP6761hL/fac/L7eGyuiknT9/1hQ3YfygP4TNp8Oulqc/09ALmmeBuT9XG4NXn2GxP8djLRWOSrI/D38z1H1HrT9BNdsqlLysP0eMgMsh26g/",
          "dtype": "f8"
         }
        },
        {
         "mode": "lines+markers",
         "name": "installment",
         "type": "scatter",
         "x": [
          "2023-01-01T00:00:00.000000000",
          "2023-02-01T00:00:00.000000000",
          "2023-03-01T00:00:00.000000000",
          "2023-04-01T00:00:00.000000000",
          "2023-05-01T00:00:00.000000000",
          "2023-06-01T00:00:00.000000000",
          "2023-07-01T00:00:00.000000000",
          "2023-08-01T00:00:00.000000000",
          "2023-09-01T00:00:00.000000000",
          "2023-10-01T00:00:00.000000000",
          "2023-11-01T00:00:00.000000000",
          "2023-12-01T00:00:00.000000000",
          "2024-01-01T00:00:00.000000000",
          "2024-02-01T00:00:00.000000000",
          "2024-03-01T00:00:00.000000000",
          "2024-04-01T00:00:00.000000000",
          "2024-05-01T00:00:00.000000000",
          "2024-06-01T00:00:00.000000000",
          "2024-07-01T00:00:00.000000000",
          "2024-08-01T00:00:00.000000000",
          "2024-09-01T00:00:00.000000000",
          "2024-10-01T00:00:00.000000000",
          "2024-11-01T00:00:00.000000000",
          "2024-12-01T00:00:00.000000000"
         ],
         "y": {
          "bdata": "Cry3Zm12pT8pm03PfvWWP3Z1NDWvQJI/Vylu1tKlpD/g8lo3kL+oP/qkTdCdKpg/VeG8hf8Qgj9E3xKn3aGQPwLn86bXiJA/CoQxwI27mj9wdYCFM8+tP2h+iySMJpQ/LZelpEu2nD/4Kf+ixPWiPwlHzMAyk6A/1B4kEbGIkz+rv6p5+fSWP2XdrecbSJE/uscgc/w5nT+kE3rldpmCPw+mFaIkJ6A/rlvJpnhPlT8Td4c0teuRPwfOWWFrI5U/",
          "dtype": "f8"
         }
        },
        {
         "mode": "lines+markers",
         "name": "int_rate",
         "type": "scatter",
         "x": [
          "2023-01-01T00:00:00.000000000",
          "2023-02-01T00:00:00.000000000",
          "2023-03-01T00:00:00.000000000",
          "2023-04-01T00:00:00.000000000",
          "2023-05-01T00:00:00.000000000",
          "2023-06-01T00:00:00.000000000",
          "2023-07-01T00:00:00.000000000",
          "2023-08-01T00:00:00.000000000",
          "2023-09-01T00:00:00.000000000",
          "2023-10-01T00:00:00.000000000",
          "2023-11-01T00:00:00.000000000",
          "2023-12-01T00:00:00.000000000",
          "2024-01-01T00:00:00.000000000",
          "2024-02-01T00:00:00.000000000",
          "2024-03-01T00:00:00.000000000",
          "2024-04-01T00:00:00.000000000",
          "2024-05-01T00:00:00.000000000",
          "2024-06-01T00:00:00.000000000",
          "2024-07-01T00:00:00.000000000",
          "2024-08-01T00:00:00.000000000",
          "2024-09-01T00:00:00.000000000",
          "2024-10-01T00:00:00.000000000",
          "2024-11-01T00:00:00.000000000",
          "2024-12-01T00:00:00.000000000"
         ],
         "y": {
          "bdata": "zOY0zvcynD8Wr3uz+jGVP2B0Ph5G3JM/9/xYMNGSkT86QT9hwHKtP00P2s6N2Zc/YqPlCYrMlT+55m552p2LPxPWFdEWRJw/xlxis4Mcnj/nPApxcYyMP3zABfUMkpY/XCwr8WL1mj+eqb7iTECnP/34g17X4pc/igoehuEolz9G3mU9eWyEP33MBcvOTKA/FV428Wljnj9sNznmDdOOPw0raXhWAZE/UX1Ka3N3nT+HG3YFm1KQP6h4G8fHsZE/",
          "dtype": "f8"
         }
        },
        {
         "mode": "lines+markers",
         "name": "last_fico_range_high",
         "type": "scatter",
         "x": [
          "2023-01-01T00:00:00.000000000",
          "2023-02-01T00:00:00.000000000",
          "2023-03-01T00:00:00.000000000",
          "2023-04-01T00:00:00.000000000",
          "2023-05-01T00:00:00.000000000",
          "2023-06-01T00:00:00.000000000",
          "2023-07-01T00:00:00.000000000",
          "2023-08-01T00:00:00.000000000",
          "2023-09-01T00:00:00.000000000",
          "2023-10-01T00:00:00.000000000",
          "2023-11-01T00:00:00.000000000",
          "2023-12-01T00:00:00.000000000",
          "2024-01-01T00:00:00.000000000",
          "2024-02-01T00:00:00.000000000",
          "2024-03-01T00:00:00.000000000",
          "2024-04-01T00:00:00.000000000",
          "2024-05-01T00:00:00.000000000",
          "2024-06-01T00:00:00.000000000",
          "2024-07-01T00:00:00.000000000",
          "2024-08-01T00:00:00.000000000",
          "2024-09-01T00:00:00.000000000",
          "2024-10-01T00:00:00.000000000",
          "2024-11-01T00:00:00.000000000",
          "2024-12-01T00:00:00.000000000"
         ],
         "y": {
          "bdata": "DsxLzgljlj/x0eiKLTihP9N5xXVqa60/8MujejN8nD+IAH2M9zuaPyJPeVJrv5U/Rj8Teik7kD8ExeoB/wWnP0mpfBFz8qI/12LDz5I8lj/yW5IZ6YyAP2gOQeJZp5U/ATuBuFS4lT/4iMgPG3uVPwIwCD9n3qM/2fuk1aq5jz9bQt7okT+dPwci/jvotJ0/5JFongGGkD9FNj6oB1WpP3hyQJnzEZc//N3WoR7siT/lP4xZTyWnP9rUZzZm4KQ/",
          "dtype": "f8"
         }
        },
        {
         "mode": "lines+markers",
         "name": "last_fico_range_low",
         "type": "scatter",
         "x": [
          "2023-01-01T00:00:00.000000000",
          "2023-02-01T00:00:00.000000000",
          "2023-03-01T00:00:00.000000000",
          "2023-04-01T00:00:00.000000000",
          "2023-05-01T00:00:00.000000000",
          "2023-06-01T00:00:00.000000000",
          "2023-07-01T00:00:00.000000000",
          "2023-08-01T00:00:00.000000000",
          "2023-09-01T00:00:00.000000000",
          "2023-10-01T00:00:00.000000000",
          "2023-11-01T00:00:00.000000000",
          "2023-12-01T00:00:00.000000000",
          "2024-01-01T00:00:00.000000000",
          "2024-02-01T00:00:00.000000000",
          "2024-03-01T00:00:00.000000000",
          "2024-04-01T00:00:00.000000000",
          "2024-05-01T00:00:00.000000000",
          "2024-06-01T00:00:00.000000000",
          "2024-07-01T00:00:00.000000000",
          "2024-08-01T00:00:00.000000000",
          "2024-09-01T00:00:00.000000000",
          "2024-10-01T00:00:00.000000000",
          "2024-11-01T00:00:00.000000000",
          "2024-12-01T00:00:00.000000000"
         ],
         "y": {
          "bdata": "Cd6hEFrGgj+df1qmLyqeP3aOI1jC+JE/xcqeu46ufD/UgVI3nNOKP8w0emzXZJs/YJXDdwStnT/j5sYVMbCLP341lBx17II//dUCHQ8pgD/cjaAnBg6NP4B4iLDsTJA/z5QlLHS9fj8Ig6Il6KKXP23eCTjXi3Y/KeuRooLCjD9myVf6wxmXP4fkuMiSCng/WnTCtUwJfj9Bo6pVxKioP894CwokkJU/mCqE3Cd4mz+H2D7cKbSKP6aMYJUjjmM/",
          "dtype": "f8"
         }
        },
        {
         "mode": "lines+markers",
         "name": "last_pymnt_amnt",
         "type": "scatter",
         "x": [
          "2023-01-01T00:00:00.000000000",
          "2023-02-01T00:00:00.000000000",
          "2023-03-01T00:00:00.000000000",
          "2023-04-01T00:00:00.000000000",
          "2023-05-01T00:00:00.000000000",
          "2023-06-01T00:00:00.000000000",
          "2023-07-01T00:00:00.000000000",
          "2023-08-01T00:00:00.000000000",
          "2023-09-01T00:00:00.000000000",
          "2023-10-01T00:00:00.000000000",
          "2023-11-01T00:00:00.000000000",
          "2023-12-01T00:00:00.000000000",
          "2024-01-01T00:00:00.000000000",
          "2024-02-01T00:00:00.000000000",
          "2024-03-01T00:00:00.000000000",
          "2024-04-01T00:00:00.000000000",
          "2024-05-01T00:00:00.000000000",
          "2024-06-01T00:00:00.000000000",
          "2024-07-01T00:00:00.000000000",
          "2024-08-01T00:00:00.000000000",
          "2024-09-01T00:00:00.000000000",
          "2024-10-01T00:00:00.000000000",
          "2024-11-01T00:00:00.000000000",
          "2024-12-01T00:00:00.000000000"
         ],
         "y": {
          "bdata": "X4OZspWQnz/mpgAI8yrEP6WHXxI0MbY/XXLgbDaosj+28r6sMCSlP15QZbau3ZY/zwjLeiYhoz94QZ+k4pyhP3o7rmizKpg/0LDGN9QAkz/KQ55wwyeHP8JjuBAW5qA/GW5xLaXFlD9wa33Oq2+SP95A2jke26A/0MBDxGNxpT+M1SLldSOnP4ERFtgkPak/HcRyfCnaqz+tDursghykP/Gtk8NBO7I/9uStvv4spD+AtuO7iVyzPwmFo1KeAac/",
          "dtype": "f8"
         }
        },
        {
         "mode": "lines+markers",
         "name": "loan_amnt",
         "type": "scatter",
         "x": [
          "2023-01-01T00:00:00.000000000",
          "2023-02-01T00:00:00.000000000",
          "2023-03-01T00:00:00.000000000",
          "2023-04-01T00:00:00.000000000",
          "2023-05-01T00:00:00.000000000",
          "2023-06-01T00:00:00.000000000",
          "2023-07-01T00:00:00.000000000",
          "2023-08-01T00:00:00.000000000",
          "2023-09-01T00:00:00.000000000",
          "2023-10-01T00:00:00.000000000",
          "2023-11-01T00:00:00.000000000",
          "2023-12-01T00:00:00.000000000",
          "2024-01-01T00:00:00.000000000",
          "2024-02-01T00:00:00.000000000",
          "2024-03-01T00:00:00.000000000",
          "2024-04-01T00:00:00.000000000",
          "2024-05-01T00:00:00.000000000",
          "2024-06-01T00:00:00.000000000",
          "2024-07-01T00:00:00.000000000",
          "2024-08-01T00:00:00.000000000",
          "2024-09-01T00:00:00.000000000",
          "2024-10-01T00:00:00.000000000",
          "2024-11-01T00:00:00.000000000",
          "2024-12-01T00:00:00.000000000"
         ],
         "y": {
          "bdata": "BmSG34qznz/sEOt0/nSXP/NxNdkp35k/wAVvHTDqnj/K1kV4rouaP4r3dN3mJ4Y/7rUyMJ1GmD+2d9rEhPWdP8JeQKmtD54/7Ezeve9PnT9wGnEDJYOQP7d6CSzwEIY/uMJnKXUbfT/o/6P8a7GkP1IftRJXL5g/ZrdVr8jQmT/NPcSx2M6ZP9y+mpMtXZ0/klSbJV6pmz+tiTjAlTCaP7jMra/WbaA/OHtuMd6voj8UPfFyJg6bP8NoWZgn56Q/",
          "dtype": "f8"
         }
        },
        {
         "mode": "lines+markers",
         "name": "max_bal_bc",
         "type": "scatter",
         "x": [
          "2023-01-01T00:00:00.000000000",
          "2023-02-01T00:00:00.000000000",
          "2023-03-01T00:00:00.000000000",
          "2023-04-01T00:00:00.000000000",
          "2023-05-01T00:00:00.000000000",
          "2023-06-01T00:00:00.000000000",
          "2023-07-01T00:00:00.000000000",
          "2023-08-01T00:00:00.000000000",
          "2023-09-01T00:00:00.000000000",
          "2023-10-01T00:00:00.000000000",
          "2023-11-01T00:00:00.000000000",
          "2023-12-01T00:00:00.000000000",
          "2024-01-01T00:00:00.000000000",
          "2024-02-01T00:00:00.000000000",
          "2024-03-01T00:00:00.000000000",
          "2024-04-01T00:00:00.000000000",
          "2024-05-01T00:00:00.000000000",
          "2024-06-01T00:00:00.000000000",
          "2024-07-01T00:00:00.000000000",
          "2024-08-01T00:00:00.000000000",
          "2024-09-01T00:00:00.000000000",
          "2024-10-01T00:00:00.000000000",
          "2024-11-01T00:00:00.000000000",
          "2024-12-01T00:00:00.000000000"
         ],
         "y": {
          "bdata": "UjS90LthXD+GNKBxHNdFP+Dl9naCs4A/L6iJuolUbj+gzmuBTBxyPyLw25Orp4Q/570iZaaafT/hg+yRpRWDP1lfu3/+b0A/ndv1Lq8Ujj/HJB0q84dqPxLvQr3ZbJE/3qJ3svzjWz/6zCOv7fZ8PwxZb4fIzFk/6Mhv5HFeTj97Dj58bOl9Pz74n3WaTXk/HnsGst4hhT8dzS0KdSh/Px7kAGxPIFk/eJCtjHa0fz+YRE9Qb+J2P750qhSF0Ig/",
          "dtype": "f8"
         }
        },
        {
         "mode": "lines+markers",
         "name": "mo_sin_old_il_acct",
         "type": "scatter",
         "x": [
          "2023-01-01T00:00:00.000000000",
          "2023-02-01T00:00:00.000000000",
          "2023-03-01T00:00:00.000000000",
          "2023-04-01T00:00:00.000000000",
          "2023-05-01T00:00:00.000000000",
          "2023-06-01T00:00:00.000000000",
          "2023-07-01T00:00:00.000000000",
          "2023-08-01T00:00:00.000000000",
          "2023-09-01T00:00:00.000000000",
          "2023-10-01T00:00:00.000000000",
          "2023-11-01T00:00:00.000000000",
          "2023-12-01T00:00:00.000000000",
          "2024-01-01T00:00:00.000000000",
          "2024-02-01T00:00:00.000000000",
          "2024-03-01T00:00:00.000000000",
          "2024-04-01T00:00:00.000000000",
          "2024-05-01T00:00:00.000000000",
          "2024-06-01T00:00:00.000000000",
          "2024-07-01T00:00:00.000000000",
          "2024-08-01T00:00:00.000000000",
          "2024-09-01T00:00:00.000000000",
          "2024-10-01T00:00:00.000000000",
          "2024-11-01T00:00:00.000000000",
          "2024-12-01T00:00:00.000000000"
         ],
         "y": {
          "bdata": "yG/6TBsLhj/YsOEf0bOWPzZIgHtgkJI/1UT4F4nZfD+/Lufrx+KOPyJoR2TvN5o/FwZB/DD9lz8aD3c6Y1ekP+9w+MJuk5g/DcMCaYEnkD8ndNcEQVCaPxgsEfG2Eoc/ApoWj8iCoz+SjeGjOoqRPzXjb1uaPJc/uHBKQo9pnT9+uvNoXqlwPyauZq6F1Jc/AgZgrXF6dT98C6npHfuIP7jkMWv+m5Y/wnTrDbIahz/LMwTqm+h8P+nt8O1TCas/",
          "dtype": "f8"
         }
        },
        {
         "mode": "lines+markers",
         "name": "mo_sin_old_rev_tl_op",
         "type": "scatter",
         "x": [
          "2023-01-01T00:00:00.000000000",
          "2023-02-01T00:00:00.000000000",
          "2023-03-01T00:00:00.000000000",
          "2023-04-01T00:00:00.000000000",
          "2023-05-01T00:00:00.000000000",
          "2023-06-01T00:00:00.000000000",
          "2023-07-01T00:00:00.000000000",
          "2023-08-01T00:00:00.000000000",
          "2023-09-01T00:00:00.000000000",
          "2023-10-01T00:00:00.000000000",
          "2023-11-01T00:00:00.000000000",
          "2023-12-01T00:00:00.000000000",
          "2024-01-01T00:00:00.000000000",
          "2024-02-01T00:00:00.000000000",
          "2024-03-01T00:00:00.000000000",
          "2024-04-01T00:00:00.000000000",
          "2024-05-01T00:00:00.000000000",
          "2024-06-01T00:00:00.000000000",
          "2024-07-01T00:00:00.000000000",
          "2024-08-01T00:00:00.000000000",
          "2024-09-01T00:00:00.000000000",
          "2024-10-01T00:00:00.000000000",
          "2024-11-01T00:00:00.000000000",
          "2024-12-01T00:00:00.000000000"
         ],
         "y": {
          "bdata": "VdHTAORkkD8iM2U4IrGTP8IvceieQHs/rD+hly+3jT9vGLasiYORPyxKUto/UpE/9OifxLI0oj8XeM/oRpN6P8IW/FCfK3w/fE/QjU/qlz/DdbAXYCSTP54sF8AX1pI/ModW22zchz+brm0JDKCJP6DWYvhAhpI/CAHtn51Zgj88nemSIfeNP0UvCoixvpc/1ziiJAC3nz+gy8/JhFeSPyxCrteUTYU/UtaoL2AUmT/Ur/6YmV+aP7a2lWSD4p4/",
          "dtype": "f8"
         }
        },
        {
         "mode": "lines+markers",
         "name": "mo_sin_rcnt_rev_tl_op",
         "type": "scatter",
         "x": [
          "2023-01-01T00:00:00.000000000",
          "2023-02-01T00:00:00.000000000",
          "2023-03-01T00:00:00.000000000",
          "2023-04-01T00:00:00.000000000",
          "2023-05-01T00:00:00.000000000",
          "2023-06-01T00:00:00.000000000",
          "2023-07-01T00:00:00.000000000",
          "2023-08-01T00:00:00.000000000",
          "2023-09-01T00:00:00.000000000",
          "2023-10-01T00:00:00.000000000",
          "2023-11-01T00:00:00.000000000",
          "2023-12-01T00:00:00.000000000",
          "2024-01-01T00:00:00.000000000",
          "2024-02-01T00:00:00.000000000",
          "2024-03-01T00:00:00.000000000",
          "2024-04-01T00:00:00.000000000",
          "2024-05-01T00:00:00.000000000",
          "2024-06-01T00:00:00.000000000",
          "2024-07-01T00:00:00.000000000",
          "2024-08-01T00:00:00.000000000",
          "2024-09-01T00:00:00.000000000",
          "2024-10-01T00:00:00.000000000",
          "2024-11-01T00:00:00.000000000",
          "2024-12-01T00:00:00.000000000"
         ],
         "y": {
          "bdata": "m7U5BkZBkD99SjtbJkeLP4aJcYVVboU/VCLZAqChaj+XCEhMwYaPP9i5qcSna54/eqCIlBIhlD8myHa/Ov6XPxYO6I/fYpU/Mg57V1kMjz8sCnTzBIh6PyEIY0guY3w/5amjgFPvcD/EAmqUSniMPzXaAZElwoA/RRftg7bNkT+qaxRzJXyVP45M4kAolpQ/NOHulp2flz/yCBncFbmQP+gNwlRRUoA/GLTxDv4znD/9g6dFdMqWP+I6JXb40oo/",
          "dtype": "f8"
         }
        },
        {
         "mode": "lines+markers",
         "name": "mo_sin_rcnt_tl",
         "type": "scatter",
         "x": [
          "2023-01-01T00:00:00.000000000",
          "2023-02-01T00:00:00.000000000",
          "2023-03-01T00:00:00.000000000",
          "2023-04-01T00:00:00.000000000",
          "2023-05-01T00:00:00.000000000",
          "2023-06-01T00:00:00.000000000",
          "2023-07-01T00:00:00.000000000",
          "2023-08-01T00:00:00.000000000",
          "2023-09-01T00:00:00.000000000",
          "2023-10-01T00:00:00.000000000",
          "2023-11-01T00:00:00.000000000",
          "2023-12-01T00:00:00.000000000",
          "2024-01-01T00:00:00.000000000",
          "2024-02-01T00:00:00.000000000",
          "2024-03-01T00:00:00.000000000",
          "2024-04-01T00:00:00.000000000",
          "2024-05-01T00:00:00.000000000",
          "2024-06-01T00:00:00.000000000",
          "2024-07-01T00:00:00.000000000",
          "2024-08-01T00:00:00.000000000",
          "2024-09-01T00:00:00.000000000",
          "2024-10-01T00:00:00.000000000",
          "2024-11-01T00:00:00.000000000",
          "2024-12-01T00:00:00.000000000"
         ],
         "y": {
          "bdata": "ER5VBn8iWj/nGShO0DqIPzoNaI9Qpog/3MB1N+UKkD9baKX8Uc9eP7p5mhovnYQ/lJd92P7siD9Fr+c1bKCCP3jFzNuNDoA/KK//CI+Tez9XmDw+ZUV8P/C3zxa7KIo/ruB36jMOfD9CM8BY0iKBP4laRGfjvHU/F5VQhSccfD96T0wOrX9tP3CWTZl3RIc/PD2q9s4zjj9GEffxe3R+P9ZSKKhTMXs/BUpMn+QGfD8U4RZSSBd0PzzY54YSvII/",
          "dtype": "f8"
         }
        },
        {
         "mode": "lines+markers",
         "name": "mort_acc",
         "type": "scatter",
         "x": [
          "2023-01-01T00:00:00.000000000",
          "2023-02-01T00:00:00.000000000",
          "2023-03-01T00:00:00.000000000",
          "2023-04-01T00:00:00.000000000",
          "2023-05-01T00:00:00.000000000",
          "2023-06-01T00:00:00.000000000",
          "2023-07-01T00:00:00.000000000",
          "2023-08-01T00:00:00.000000000",
          "2023-09-01T00:00:00.000000000",
          "2023-10-01T00:00:00.000000000",
          "2023-11-01T00:00:00.000000000",
          "2023-12-01T00:00:00.000000000",
          "2024-01-01T00:00:00.000000000",
          "2024-02-01T00:00:00.000000000",
          "2024-03-01T00:00:00.000000000",
          "2024-04-01T00:00:00.000000000",
          "2024-05-01T00:00:00.000000000",
          "2024-06-01T00:00:00.000000000",
          "2024-07-01T00:00:00.000000000",
          "2024-08-01T00:00:00.000000000",
          "2024-09-01T00:00:00.000000000",
          "2024-10-01T00:00:00.000000000",
          "2024-11-01T00:00:00.000000000",
          "2024-12-01T00:00:00.000000000"
         ],
         "y": {
          "bdata": "qJfotokBxD/tIA0xptCfPzV262dcqKg/nBIOpxCLoT/iHB4LUVOOP7eO7a5TMoY/7XlyJ/yMmz/s17Q6HCyWP6fcERnkh5c/ROHXne/qkj/GeG7n5gShP7FKWavZAXo/nqpKyLyIdz8+x7LOiUKXP4ApV8tmkqI/9sYkcQOEoD9oUAcEWyySP0yWE2QCFZc/BBIaYP9OeT8wTyKiiqeBP8dg1bl2+JA/F/xmdNkKoT9dMnnQqPuYP1C8sEMP9pQ/",
          "dtype": "f8"
         }
        },
        {
         "mode": "lines+markers",
         "name": "mths_since_rcnt_il",
         "type": "scatter",
         "x": [
          "2023-01-01T00:00:00.000000000",
          "2023-02-01T00:00:00.000000000",
          "2023-03-01T00:00:00.000000000",
          "2023-04-01T00:00:00.000000000",
          "2023-05-01T00:00:00.000000000",
          "2023-06-01T00:00:00.000000000",
          "2023-07-01T00:00:00.000000000",
          "2023-08-01T00:00:00.000000000",
          "2023-09-01T00:00:00.000000000",
          "2023-10-01T00:00:00.000000000",
          "2023-11-01T00:00:00.000000000",
          "2023-12-01T00:00:00.000000000",
          "2024-01-01T00:00:00.000000000",
          "2024-02-01T00:00:00.000000000",
          "2024-03-01T00:00:00.000000000",
          "2024-04-01T00:00:00.000000000",
          "2024-05-01T00:00:00.000000000",
          "2024-06-01T00:00:00.000000000",
          "2024-07-01T00:00:00.000000000",
          "2024-08-01T00:00:00.000000000",
          "2024-09-01T00:00:00.000000000",
          "2024-10-01T00:00:00.000000000",
          "2024-11-01T00:00:00.000000000",
          "2024-12-01T00:00:00.000000000"
         ],
         "y": {
          "bdata": "4Kl/QCOLlD/sGgTmgXV+PwYOrqUP+KI/2sDSY3pwdz9Diil7rNtoP6hM4Nf2J5Y/LBAdH7+BlD9ZRmd7ALl9P5ivBciSiJQ//ElHZ6f+bj84h8wlCml9P/4VXMqcm20/+LBoB0zGkz85R2Be9AKJP3OL4tTfBp0/V6w15DnFhT8g/iBUKAOAP53fzALhgKA/nB823cN0iD8p2OSHH9eXPw43jpzRapE/1mYCkcmkmD/sohZUHWGEP8N59k6PCng/",
          "dtype": "f8"
         }
        },
        {
         "mode": "lines+markers",
         "name": "mths_since_recent_bc",
         "type": "scatter",
         "x": [
          "2023-01-01T00:00:00.000000000",
          "2023-02-01T00:00:00.000000000",
          "2023-03-01T00:00:00.000000000",
          "2023-04-01T00:00:00.000000000",
          "2023-05-01T00:00:00.000000000",
          "2023-06-01T00:00:00.000000000",
          "2023-07-01T00:00:00.000000000",
          "2023-08-01T00:00:00.000000000",
          "2023-09-01T00:00:00.000000000",
          "2023-10-01T00:00:00.000000000",
          "2023-11-01T00:00:00.000000000",
          "2023-12-01T00:00:00.000000000",
          "2024-01-01T00:00:00.000000000",
          "2024-02-01T00:00:00.000000000",
          "2024-03-01T00:00:00.000000000",
          "2024-04-01T00:00:00.000000000",
          "2024-05-01T00:00:00.000000000",
          "2024-06-01T00:00:00.000000000",
          "2024-07-01T00:00:00.000000000",
          "2024-08-01T00:00:00.000000000",
          "2024-09-01T00:00:00.000000000",
          "2024-10-01T00:00:00.000000000",
          "2024-11-01T00:00:00.000000000",
          "2024-12-01T00:00:00.000000000"
         ],
         "y": {
          "bdata": "KHrrRK31jT/PtRSMIxaiP3Fy3b0wN5M/ZnyqslEDjT+m1LrIpjuAP0Lxx+B5354/UqW9i5KLoT/FDDkChteTP+Gf7wottXg/biss3t8FdT/HHu7D6PORP4AzCaHPrYQ/04o3tpDNjz/dN5VBqsiIP1oZF5cbo4E/f3zJLiuIbD/fOG625beZP82PLjmIb48/RCZtFVVinj/f+2R4yvmMP8pH/cTNvoI/G/9jYWbQmz8xmCJy85qFPxSOQoQ/SJc/",
          "dtype": "f8"
         }
        },
        {
         "mode": "lines+markers",
         "name": "mths_since_recent_inq",
         "type": "scatter",
         "x": [
          "2023-01-01T00:00:00.000000000",
          "2023-02-01T00:00:00.000000000",
          "2023-03-01T00:00:00.000000000",
          "2023-04-01T00:00:00.000000000",
          "2023-05-01T00:00:00.000000000",
          "2023-06-01T00:00:00.000000000",
          "2023-07-01T00:00:00.000000000",
          "2023-08-01T00:00:00.000000000",
          "2023-09-01T00:00:00.000000000",
          "2023-10-01T00:00:00.000000000",
          "2023-11-01T00:00:00.000000000",
          "2023-12-01T00:00:00.000000000",
          "2024-01-01T00:00:00.000000000",
          "2024-02-01T00:00:00.000000000",
          "2024-03-01T00:00:00.000000000",
          "2024-04-01T00:00:00.000000000",
          "2024-05-01T00:00:00.000000000",
          "2024-06-01T00:00:00.000000000",
          "2024-07-01T00:00:00.000000000",
          "2024-08-01T00:00:00.000000000",
          "2024-09-01T00:00:00.000000000",
          "2024-10-01T00:00:00.000000000",
          "2024-11-01T00:00:00.000000000",
          "2024-12-01T00:00:00.000000000"
         ],
         "y": {
          "bdata": "5l872g/LrD++rIiM9FqcP+quAxOd+bE/DXZ+VFanoz9DDLtUwHmrP+K8QoXDGpE/G9xVmp83lz/GUJv1gz6kP0PLXFq0b40/y9FtxUsImj9CKbqJgzqbP9D3t6ehS6I/EDP4iLqajD/t2fHAX/aCP66SoakChpM/U1a9p6eaij/chNjvIUWPP9yRGoNneJI/KxbVg46FpT82RyBoaOqlP2bUkwvTgqM/VDTxWa02pD+XyiMNkjegPzWGk93FyaM/",
          "dtype": "f8"
         }
        },
        {
         "mode": "lines+markers",
         "name": "num_accts_ever_120_pd",
         "type": "scatter",
         "x": [
          "2023-01-01T00:00:00.000000000",
          "2023-02-01T00:00:00.000000000",
          "2023-03-01T00:00:00.000000000",
          "2023-04-01T00:00:00.000000000",
          "2023-05-01T00:00:00.000000000",
          "2023-06-01T00:00:00.000000000",
          "2023-07-01T00:00:00.000000000",
          "2023-08-01T00:00:00.000000000",
          "2023-09-01T00:00:00.000000000",
          "2023-10-01T00:00:00.000000000",
          "2023-11-01T00:00:00.000000000",
          "2023-12-01T00:00:00.000000000",
          "2024-01-01T00:00:00.000000000",
          "2024-02-01T00:00:00.000000000",
          "2024-03-01T00:00:00.000000000",
          "2024-04-01T00:00:00.000000000",
          "2024-05-01T00:00:00.000000000",
          "2024-06-01T00:00:00.000000000",
          "2024-07-01T00:00:00.000000000",
          "2024-08-01T00:00:00.000000000",
          "2024-09-01T00:00:00.000000000",
          "2024-10-01T00:00:00.000000000",
          "2024-11-01T00:00:00.000000000",
          "2024-12-01T00:00:00.000000000"
         ],
         "y": {
          "bdata": "TDE0WYoGiD+qzXv3TGVlP82mnhP0bpA/zHq1+PiYgj/06XAtOiaHP7LHY3rZGXY/5Fq+oheJeT9Peu6D39p7P0+pcnuBxYE/OCy+cVjrgz/OfzqZuPaDP1feMX1N3ZI/VDr8RIKCgD9O6l+MtVSMPwcT6+oEemY/MJ81vPaJez+F5FiXjgaMP4vtn4VdUJA/cp8bhVH7lD9zN0HdVgeRP1zibk3cJWI/dlw5Z1XGfj9OkxhkNzaAPyzwi7oShII/",
          "dtype": "f8"
         }
        },
        {
         "mode": "lines+markers",
         "name": "num_actv_bc_tl",
         "type": "scatter",
         "x": [
          "2023-01-01T00:00:00.000000000",
          "2023-02-01T00:00:00.000000000",
          "2023-03-01T00:00:00.000000000",
          "2023-04-01T00:00:00.000000000",
          "2023-05-01T00:00:00.000000000",
          "2023-06-01T00:00:00.000000000",
          "2023-07-01T00:00:00.000000000",
          "2023-08-01T00:00:00.000000000",
          "2023-09-01T00:00:00.000000000",
          "2023-10-01T00:00:00.000000000",
          "2023-11-01T00:00:00.000000000",
          "2023-12-01T00:00:00.000000000",
          "2024-01-01T00:00:00.000000000",
          "2024-02-01T00:00:00.000000000",
          "2024-03-01T00:00:00.000000000",
          "2024-04-01T00:00:00.000000000",
          "2024-05-01T00:00:00.000000000",
          "2024-06-01T00:00:00.000000000",
          "2024-07-01T00:00:00.000000000",
          "2024-08-01T00:00:00.000000000",
          "2024-09-01T00:00:00.000000000",
          "2024-10-01T00:00:00.000000000",
          "2024-11-01T00:00:00.000000000",
          "2024-12-01T00:00:00.000000000"
         ],
         "y": {
          "bdata": "DdmqPpByuj+f8NFRcEGUP6nfTBi+nJY/08fGj5w9jz8tE2Zn/EWbP4b+lff2gII/livJhxtIoD/Kd1eDIqiXP+MUnO1h3o0/ocXqZJWkmT+7iu73G6J2PyzTCiYAFZo/HdBfbgAzkD/aE6HDsoWAP4HKRlRwN50/ApWpTEY8gT/TjAsMV2uWP5DRzOHI5J4/QxxWJPMbiz8SXC/KrXVjP/egXDfXX5g/mw/IILpeoD82rnuxUtF9P+2QlRicIIk/",
          "dtype": "f8"
         }
        },
        {
         "mode": "lines+markers",
         "name": "num_actv_rev_tl",
         "type": "scatter",
         "x": [
          "2023-01-01T00:00:00.000000000",
          "2023-02-01T00:00:00.000000000",
          "2023-03-01T00:00:00.000000000",
          "2023-04-01T00:00:00.000000000",
          "2023-05-01T00:00:00.000000000",
          "2023-06-01T00:00:00.000000000",
          "2023-07-01T00:00:00.000000000",
          "2023-08-01T00:00:00.000000000",
          "2023-09-01T00:00:00.000000000",
          "2023-10-01T00:00:00.000000000",
          "2023-11-01T00:00:00.000000000",
          "2023-12-01T00:00:00.000000000",
          "2024-01-01T00:00:00.000000000",
          "2024-02-01T00:00:00.000000000",
          "2024-03-01T00:00:00.000000000",
          "2024-04-01T00:00:00.000000000",
          "2024-05-01T00:00:00.000000000",
          "2024-06-01T00:00:00.000000000",
          "2024-07-01T00:00:00.000000000",
          "2024-08-01T00:00:00.000000000",
          "2024-09-01T00:00:00.000000000",
          "2024-10-01T00:00:00.000000000",
          "2024-11-01T00:00:00.000000000",
          "2024-12-01T00:00:00.000000000"
         ],
         "y": {
          "bdata": "HL6fId/Oqj+9OXXyMy2cPwKEsb+AHog/sAIOCdgtkz8lAdb13e14P64b3KCt/3w/xTefX7RLkT9ycVNaSHuTPwbNwxDhQII/en5VeCneoj8Q2LbBlTGEP2Opdx+s2pQ/rDmR8UcNiz9BWJxjZTyWP+NTgcI7rIY/hSt5ifRZhj/+s8h8LUqSPzxqjJaVDJs/uAVeiPf+hz8iQRRrSt2VP0ijFTTYQYk/u1Dagh3hjz+LbnTdoGWSP1iTSuslIHQ/",
          "dtype": "f8"
         }
        },
        {
         "mode": "lines+markers",
         "name": "num_bc_sats",
         "type": "scatter",
         "x": [
          "2023-01-01T00:00:00.000000000",
          "2023-02-01T00:00:00.000000000",
          "2023-03-01T00:00:00.000000000",
          "2023-04-01T00:00:00.000000000",
          "2023-05-01T00:00:00.000000000",
          "2023-06-01T00:00:00.000000000",
          "2023-07-01T00:00:00.000000000",
          "2023-08-01T00:00:00.000000000",
          "2023-09-01T00:00:00.000000000",
          "2023-10-01T00:00:00.000000000",
          "2023-11-01T00:00:00.000000000",
          "2023-12-01T00:00:00.000000000",
          "2024-01-01T00:00:00.000000000",
          "2024-02-01T00:00:00.000000000",
          "2024-03-01T00:00:00.000000000",
          "2024-04-01T00:00:00.000000000",
          "2024-05-01T00:00:00.000000000",
          "2024-06-01T00:00:00.000000000",
          "2024-07-01T00:00:00.000000000",
          "2024-08-01T00:00:00.000000000",
          "2024-09-01T00:00:00.000000000",
          "2024-10-01T00:00:00.000000000",
          "2024-11-01T00:00:00.000000000",
          "2024-12-01T00:00:00.000000000"
         ],
         "y": {
          "bdata": "tEn/Itc4oT9fznkfT1WQP96NFVktmY0/j2p0xXnOhD+tOapcEdCGP/BIGWF/PoA/CH9eoUpdhT+vb9Q2frSFP3mK3k+lmYQ/W/RmaR1qmz9Yr4hObcSOPzhHHCv5p38/EMnfCJZcej9QMfN9QW+GP10cU42j444/3isy3bkHkz9eKKl6ctSXP/ATRzYs7aU/DsGZq4Fsmj9WYbYVo7meP2SPtQPsX4Y/BH9KF4yKoD80f553D7iBP1I0sQQgYJ4/",
          "dtype": "f8"
         }
        },
        {
         "mode": "lines+markers",
         "name": "num_bc_tl",
         "type": "scatter",
         "x": [
          "2023-01-01T00:00:00.000000000",
          "2023-02-01T00:00:00.000000000",
          "2023-03-01T00:00:00.000000000",
          "2023-04-01T00:00:00.000000000",
          "2023-05-01T00:00:00.000000000",
          "2023-06-01T00:00:00.000000000",
          "2023-07-01T00:00:00.000000000",
          "2023-08-01T00:00:00.000000000",
          "2023-09-01T00:00:00.000000000",
          "2023-10-01T00:00:00.000000000",
          "2023-11-01T00:00:00.000000000",
          "2023-12-01T00:00:00.000000000",
          "2024-01-01T00:00:00.000000000",
          "2024-02-01T00:00:00.000000000",
          "2024-03-01T00:00:00.000000000",
          "2024-04-01T00:00:00.000000000",
          "2024-05-01T00:00:00.000000000",
          "2024-06-01T00:00:00.000000000",
          "2024-07-01T00:00:00.000000000",
          "2024-08-01T00:00:00.000000000",
          "2024-09-01T00:00:00.000000000",
          "2024-10-01T00:00:00.000000000",
          "2024-11-01T00:00:00.000000000",
          "2024-12-01T00:00:00.000000000"
         ],
         "y": {
          "bdata": "6Gkn5nHBnT9Nr3siRzGUP0d31ufyWY0/CgXL0vvRiD8aPcbfzHaPPw01su0qD3k/tGuRwFabhT9u0PnJrM6PP2xEjZUuSII/fmnMeoQZkT/smap7/Qx9PxzJnHuPAnw/g20TIRAXkD/iF0+9gz+CP8wlybRfens/cpKhB6rsbj/hQKCzxfaYP7KU/Ky32JY/9IK0RYz4gT/qNrP7R7+gP/ghjVaTN5U/bHcm/7sIbT9W1sJFXO6fPwg8W+Nn4nk/",
          "dtype": "f8"
         }
        },
        {
         "mode": "lines+markers",
         "name": "num_il_tl",
         "type": "scatter",
         "x": [
          "2023-01-01T00:00:00.000000000",
          "2023-02-01T00:00:00.000000000",
          "2023-03-01T00:00:00.000000000",
          "2023-04-01T00:00:00.000000000",
          "2023-05-01T00:00:00.000000000",
          "2023-06-01T00:00:00.000000000",
          "2023-07-01T00:00:00.000000000",
          "2023-08-01T00:00:00.000000000",
          "2023-09-01T00:00:00.000000000",
          "2023-10-01T00:00:00.000000000",
          "2023-11-01T00:00:00.000000000",
          "2023-12-01T00:00:00.000000000",
          "2024-01-01T00:00:00.000000000",
          "2024-02-01T00:00:00.000000000",
          "2024-03-01T00:00:00.000000000",
          "2024-04-01T00:00:00.000000000",
          "2024-05-01T00:00:00.000000000",
          "2024-06-01T00:00:00.000000000",
          "2024-07-01T00:00:00.000000000",
          "2024-08-01T00:00:00.000000000",
          "2024-09-01T00:00:00.000000000",
          "2024-10-01T00:00:00.000000000",
          "2024-11-01T00:00:00.000000000",
          "2024-12-01T00:00:00.000000000"
         ],
         "y": {
          "bdata": "IVzgLFAKkT/G9pPMAw2TPzA6/3dUFZE/41lgqGeQiT+fUrAVAXyLP0pkmB6F8os/TBEcHJyFpD8LCeHxggCbP9jJkJllHIk/X931UaYdmT+Df70igACfPww0YHaLcJ4/y1K4jfOWfT+JT4kG/jOIP/YonessJoA/OWapWlC0lD/1SIpDqeSSP0he3oovQ5U/E59DW+Vwiz9sqbYlsJp/P98E8dQDOpY/rYwTk2Ogpz8QbNKQi86cP/xz5FaOIGI/",
          "dtype": "f8"
         }
        },
        {
         "mode": "lines+markers",
         "name": "num_op_rev_tl",
         "type": "scatter",
         "x": [
          "2023-01-01T00:00:00.000000000",
          "2023-02-01T00:00:00.000000000",
          "2023-03-01T00:00:00.000000000",
          "2023-04-01T00:00:00.000000000",
          "2023-05-01T00:00:00.000000000",
          "2023-06-01T00:00:00.000000000",
          "2023-07-01T00:00:00.000000000",
          "2023-08-01T00:00:00.000000000",
          "2023-09-01T00:00:00.000000000",
          "2023-10-01T00:00:00.000000000",
          "2023-11-01T00:00:00.000000000",
          "2023-12-01T00:00:00.000000000",
          "2024-01-01T00:00:00.000000000",
          "2024-02-01T00:00:00.000000000",
          "2024-03-01T00:00:00.000000000",
          "2024-04-01T00:00:00.000000000",
          "2024-05-01T00:00:00.000000000",
          "2024-06-01T00:00:00.000000000",
          "2024-07-01T00:00:00.000000000",
          "2024-08-01T00:00:00.000000000",
          "2024-09-01T00:00:00.000000000",
          "2024-10-01T00:00:00.000000000",
          "2024-11-01T00:00:00.000000000",
          "2024-12-01T00:00:00.000000000"
         ],
         "y": {
          "bdata": "+0gOGXjYoj+JQ/JyVD+sPzQHzVOo5Yc/Kp2bvs03mj+gF8wZzlOeP+PYqd35Dpk/zJkYoMoZkz/m1FAJNDudP5QnjPwq6Zo/ISLuc4lEpD9jg1+HL5aQP/zt/zO2LaE/oe+Hcwr7jz8uj7ThhMCKP+X55eCzo5c/4Fw6PRwblz990TXv91iKP6PU0eWwmaQ/NYk10/Rkfz+jURXItEOoPwt2qildPqU/fBqVvJa8kD+Qg2hVHtyUP4dnM4/rbJI/",
          "dtype": "f8"
         }
        },
        {
         "mode": "lines+markers",
         "name": "num_rev_accts",
         "type": "scatter",
         "x": [
          "2023-01-01T00:00:00.000000000",
          "2023-02-01T00:00:00.000000000",
          "2023-03-01T00:00:00.000000000",
          "2023-04-01T00:00:00.000000000",
          "2023-05-01T00:00:00.000000000",
          "2023-06-01T00:00:00.000000000",
          "2023-07-01T00:00:00.000000000",
          "2023-08-01T00:00:00.000000000",
          "2023-09-01T00:00:00.000000000",
          "2023-10-01T00:00:00.000000000",
          "2023-11-01T00:00:00.000000000",
          "2023-12-01T00:00:00.000000000",
          "2024-01-01T00:00:00.000000000",
          "2024-02-01T00:00:00.000000000",
          "2024-03-01T00:00:00.000000000",
          "2024-04-01T00:00:00.000000000",
          "2024-05-01T00:00:00.000000000",
          "2024-06-01T00:00:00.000000000",
          "2024-07-01T00:00:00.000000000",
          "2024-08-01T00:00:00.000000000",
          "2024-09-01T00:00:00.000000000",
          "2024-10-01T00:00:00.000000000",
          "2024-11-01T00:00:00.000000000",
          "2024-12-01T00:00:00.000000000"
         ],
         "y": {
          "bdata": "8I1O4SX2ij9ayzkq4hd3P9KW88NGSXg/JFV/gFtsgT/WQg5ZXQl9P26dHAhO3Ig/+wnX6vIniz/wH2S9Vy2TPyQX93ALgYY/Z0JspHx4kj+IPNLNtwiHP/+2kLx6tH0/UIe8hHHkaz+yWGF/UviGP6BKY+VjkKA/ZQDBYtoViz+iCgOIu/SLP6k4S3M8tYg/9AvA2tNjlj/+imnblVyYPw+ACvFMBok/Tj3+Aqm1fj+G7dbL/WFnPwJzetlAf5I/",
          "dtype": "f8"
         }
        },
        {
         "mode": "lines+markers",
         "name": "num_rev_tl_bal_gt_0",
         "type": "scatter",
         "x": [
          "2023-01-01T00:00:00.000000000",
          "2023-02-01T00:00:00.000000000",
          "2023-03-01T00:00:00.000000000",
          "2023-04-01T00:00:00.000000000",
          "2023-05-01T00:00:00.000000000",
          "2023-06-01T00:00:00.000000000",
          "2023-07-01T00:00:00.000000000",
          "2023-08-01T00:00:00.000000000",
          "2023-09-01T00:00:00.000000000",
          "2023-10-01T00:00:00.000000000",
          "2023-11-01T00:00:00.000000000",
          "2023-12-01T00:00:00.000000000",
          "2024-01-01T00:00:00.000000000",
          "2024-02-01T00:00:00.000000000",
          "2024-03-01T00:00:00.000000000",
          "2024-04-01T00:00:00.000000000",
          "2024-05-01T00:00:00.000000000",
          "2024-06-01T00:00:00.000000000",
          "2024-07-01T00:00:00.000000000",
          "2024-08-01T00:00:00.000000000",
          "2024-09-01T00:00:00.000000000",
          "2024-10-01T00:00:00.000000000",
          "2024-11-01T00:00:00.000000000",
          "2024-12-01T00:00:00.000000000"
         ],
         "y": {
          "bdata": "ePG9hxG9pj+S3q4eSlqPPyKHWNYzl4c/MNnX9i0klD+GWIBb/naUP2Rh2wig2Wk/h9n6Rl6Foj/1XNjDoH9/PywuVIF9hGo/v8zRVbEApD95x+8j7M2YP+32yHQqL4g/KKNo17zvgD9PM2XRp6aKP+GcwaJvFJI/sgAI/zvsdz8j0rGP9A2EP+v2VSYL/pI/mBDRiUDSmz+ZdkoQW92RP0DbbELxQpo/7LsAGpViiT+mr9TQ7lKIP6hl4y6223c/",
          "dtype": "f8"
         }
        },
        {
         "mode": "lines+markers",
         "name": "num_sats",
         "type": "scatter",
         "x": [
          "2023-01-01T00:00:00.000000000",
          "2023-02-01T00:00:00.000000000",
          "2023-03-01T00:00:00.000000000",
          "2023-04-01T00:00:00.000000000",
          "2023-05-01T00:00:00.000000000",
          "2023-06-01T00:00:00.000000000",
          "2023-07-01T00:00:00.000000000",
          "2023-08-01T00:00:00.000000000",
          "2023-09-01T00:00:00.000000000",
          "2023-10-01T00:00:00.000000000",
          "2023-11-01T00:00:00.000000000",
          "2023-12-01T00:00:00.000000000",
          "2024-01-01T00:00:00.000000000",
          "2024-02-01T00:00:00.000000000",
          "2024-03-01T00:00:00.000000000",
          "2024-04-01T00:00:00.000000000",
          "2024-05-01T00:00:00.000000000",
          "2024-06-01T00:00:00.000000000",
          "2024-07-01T00:00:00.000000000",
          "2024-08-01T00:00:00.000000000",
          "2024-09-01T00:00:00.000000000",
          "2024-10-01T00:00:00.000000000",
          "2024-11-01T00:00:00.000000000",
          "2024-12-01T00:00:00.000000000"
         ],
         "y": {
          "bdata": "+jTwL88Noj/xyG2vls6YP7DcyGxp25w/BQ/Ey9K/gT9m0BQ+zAeSP0DNpPAhdJY/TGVrmMyxjj+s55ct5vKPPz0ewgO6O3E/4to72Xsxpj9jPjRI5Q2RP3KH72DmroE/DXMtt424iz8PjwyWoUaYP0pbdGHEmJc/gYAK/eBTiT9Se0GlshqDP4F2QTV9/p4/SrwGoZPYkT+lliCaSmCWP2zGdkCOT6Q/yweAA6f5kj9Bu/pjXhmgP/6Bypll+JE/",
          "dtype": "f8"
         }
        },
        {
         "mode": "lines+markers",
         "name": "num_tl_120dpd_2m",
         "type": "scatter",
         "x": [
          "2023-01-01T00:00:00.000000000",
          "2023-02-01T00:00:00.000000000",
          "2023-03-01T00:00:00.000000000",
          "2023-04-01T00:00:00.000000000",
          "2023-05-01T00:00:00.000000000",
          "2023-06-01T00:00:00.000000000",
          "2023-07-01T00:00:00.000000000",
          "2023-08-01T00:00:00.000000000",
          "2023-09-01T00:00:00.000000000",
          "2023-10-01T00:00:00.000000000",
          "2023-11-01T00:00:00.000000000",
          "2023-12-01T00:00:00.000000000",
          "2024-01-01T00:00:00.000000000",
          "2024-02-01T00:00:00.000000000",
          "2024-03-01T00:00:00.000000000",
          "2024-04-01T00:00:00.000000000",
          "2024-05-01T00:00:00.000000000",
          "2024-06-01T00:00:00.000000000",
          "2024-07-01T00:00:00.000000000",
          "2024-08-01T00:00:00.000000000",
          "2024-09-01T00:00:00.000000000",
          "2024-10-01T00:00:00.000000000",
          "2024-11-01T00:00:00.000000000",
          "2024-12-01T00:00:00.000000000"
         ],
         "y": {
          "bdata": "AAAAAAAAAAAAAAAAAAAAAAAAAAAAAAAAAAAAAAAAAAAAAAAAAAAAAAAAAAAAAAAAAAAAAAAAAAAAAAAAAAAAAAAAAAAAAAAAAAAAAAAAAAAAAAAAAAAAAAAAAAAAAAAAAAAAAAAAAAAAAAAAAAAAAAAAAAAAAAAAAAAAAAAAAAAAAAAAAAAAAAAAAAAAAAAAAAAAAAAAAAAAAAAAAAAAAAAAAAAAAAAAAAAAAAAAAAAAAAAAAAAAAAAAAAAAAAAA",
          "dtype": "f8"
         }
        },
        {
         "mode": "lines+markers",
         "name": "num_tl_30dpd",
         "type": "scatter",
         "x": [
          "2023-01-01T00:00:00.000000000",
          "2023-02-01T00:00:00.000000000",
          "2023-03-01T00:00:00.000000000",
          "2023-04-01T00:00:00.000000000",
          "2023-05-01T00:00:00.000000000",
          "2023-06-01T00:00:00.000000000",
          "2023-07-01T00:00:00.000000000",
          "2023-08-01T00:00:00.000000000",
          "2023-09-01T00:00:00.000000000",
          "2023-10-01T00:00:00.000000000",
          "2023-11-01T00:00:00.000000000",
          "2023-12-01T00:00:00.000000000",
          "2024-01-01T00:00:00.000000000",
          "2024-02-01T00:00:00.000000000",
          "2024-03-01T00:00:00.000000000",
          "2024-04-01T00:00:00.000000000",
          "2024-05-01T00:00:00.000000000",
          "2024-06-01T00:00:00.000000000",
          "2024-07-01T00:00:00.000000000",
          "2024-08-01T00:00:00.000000000",
          "2024-09-01T00:00:00.000000000",
          "2024-10-01T00:00:00.000000000",
          "2024-11-01T00:00:00.000000000",
          "2024-12-01T00:00:00.000000000"
         ],
         "y": {
          "bdata": "5HebthraYD8aTEL1u8jVPim2uvWCtlw/k3ZtAe1EYT8wecCe9RkoPqP+H6GXJXc/TuJIdlA+YD9O4kh2UD5gP2mudsVaLdI+PWgKaCPp6T7xqb/tx1piPxCKIzmo0Kk+EPq0Pz97YT+xDODbO1FbPyGWJ3ayW1w/VEGBkzWg7j59PlOYUBqKP8S8rj9JrGo/EIojOajQqT4+PHINdNzwPh04fcw2D2E/PWgKaCPp6T49aApoI+npPi4Oijew6gE/",
          "dtype": "f8"
         }
        },
        {
         "mode": "lines+markers",
         "name": "num_tl_90g_dpd_24m",
         "type": "scatter",
         "x": [
          "2023-01-01T00:00:00.000000000",
          "2023-02-01T00:00:00.000000000",
          "2023-03-01T00:00:00.000000000",
          "2023-04-01T00:00:00.000000000",
          "2023-05-01T00:00:00.000000000",
          "2023-06-01T00:00:00.000000000",
          "2023-07-01T00:00:00.000000000",
          "2023-08-01T00:00:00.000000000",
          "2023-09-01T00:00:00.000000000",
          "2023-10-01T00:00:00.000000000",
          "2023-11-01T00:00:00.000000000",
          "2023-12-01T00:00:00.000000000",
          "2024-01-01T00:00:00.000000000",
          "2024-02-01T00:00:00.000000000",
          "2024-03-01T00:00:00.000000000",
          "2024-04-01T00:00:00.000000000",
          "2024-05-01T00:00:00.000000000",
          "2024-06-01T00:00:00.000000000",
          "2024-07-01T00:00:00.000000000",
          "2024-08-01T00:00:00.000000000",
          "2024-09-01T00:00:00.000000000",
          "2024-10-01T00:00:00.000000000",
          "2024-11-01T00:00:00.000000000",
          "2024-12-01T00:00:00.000000000"
         ],
         "y": {
          "bdata": "R+ynnrQbZT/vJaPH1oiEPwV4eTpHT30/e1n6pW6LdT/DdDanM7NwPw1FFEK+6WI/xvPqQ1hmiD/rE0/EueddPx5tB9zPC4I/42Z6LnuUcD9bHqJ13x1cP4PtOUtV22M/hYRbxkRsfT+ggEDNySGHPzjvG2PzXls/kli0lvWlgT/Qa9VsYiFSPyOdBkLMsIU/6CKz0Do3UD/YPJ7G7fN2P1jWAorEH2w/bf8ALgmlZj/h/w7ectuGP9xnaITlg3g/",
          "dtype": "f8"
         }
        },
        {
         "mode": "lines+markers",
         "name": "num_tl_op_past_12m",
         "type": "scatter",
         "x": [
          "2023-01-01T00:00:00.000000000",
          "2023-02-01T00:00:00.000000000",
          "2023-03-01T00:00:00.000000000",
          "2023-04-01T00:00:00.000000000",
          "2023-05-01T00:00:00.000000000",
          "2023-06-01T00:00:00.000000000",
          "2023-07-01T00:00:00.000000000",
          "2023-08-01T00:00:00.000000000",
          "2023-09-01T00:00:00.000000000",
          "2023-10-01T00:00:00.000000000",
          "2023-11-01T00:00:00.000000000",
          "2023-12-01T00:00:00.000000000",
          "2024-01-01T00:00:00.000000000",
          "2024-02-01T00:00:00.000000000",
          "2024-03-01T00:00:00.000000000",
          "2024-04-01T00:00:00.000000000",
          "2024-05-01T00:00:00.000000000",
          "2024-06-01T00:00:00.000000000",
          "2024-07-01T00:00:00.000000000",
          "2024-08-01T00:00:00.000000000",
          "2024-09-01T00:00:00.000000000",
          "2024-10-01T00:00:00.000000000",
          "2024-11-01T00:00:00.000000000",
          "2024-12-01T00:00:00.000000000"
         ],
         "y": {
          "bdata": "Kd3CB0Y4tj+4I0Z3KcWrP2N8g5Uum5A/4AaZ0s3brT+IwXefy4qeP+PDJX9fvrE/8rJhaAQmrT+/2YmALoWQPw0flDlpCJc/y/+Carovqz/RO9thk5uEP0/KJz1mXYo/dLeSeXeAkz9e+csAI7ySPxSEcHlKMoo/2YRWTPJfkj+8BZAHmgWjP+POwB1cVow/ZR79ykCymT99kYU2bpCuP/aEmYeAvKc/Shh62ex4mj8UHB/PxSyHP60nOYnCCH4/",
          "dtype": "f8"
         }
        },
        {
         "mode": "lines+markers",
         "name": "open_acc",
         "type": "scatter",
         "x": [
          "2023-01-01T00:00:00.000000000",
          "2023-02-01T00:00:00.000000000",
          "2023-03-01T00:00:00.000000000",
          "2023-04-01T00:00:00.000000000",
          "2023-05-01T00:00:00.000000000",
          "2023-06-01T00:00:00.000000000",
          "2023-07-01T00:00:00.000000000",
          "2023-08-01T00:00:00.000000000",
          "2023-09-01T00:00:00.000000000",
          "2023-10-01T00:00:00.000000000",
          "2023-11-01T00:00:00.000000000",
          "2023-12-01T00:00:00.000000000",
          "2024-01-01T00:00:00.000000000",
          "2024-02-01T00:00:00.000000000",
          "2024-03-01T00:00:00.000000000",
          "2024-04-01T00:00:00.000000000",
          "2024-05-01T00:00:00.000000000",
          "2024-06-01T00:00:00.000000000",
          "2024-07-01T00:00:00.000000000",
          "2024-08-01T00:00:00.000000000",
          "2024-09-01T00:00:00.000000000",
          "2024-10-01T00:00:00.000000000",
          "2024-11-01T00:00:00.000000000",
          "2024-12-01T00:00:00.000000000"
         ],
         "y": {
          "bdata": "+HDzUXzhpD/xOeBJMB+eP4azgap464M/rD1JrbgQhj/CdPgI1BWSP9C9H/pWHZE/hOC4H/U4nD+0orLkCAuYPzkBsRKojoU/7KSD2HKXmT/CXpby6kiWP4hhLNdVDHs/jESnkq7zcj/+Gc1jtKiFP8Pqavdb3JI/xlvo6rMPkj8QjzjK24aPP7fJ4ZytU5Y/rgsLutUYez8a1TKKSiaOP7C4d4ner5I/sfeX4pbFjD+Qh7l5ArmVP2YHWJSlP3I/",
          "dtype": "f8"
         }
        },
        {
         "mode": "lines+markers",
         "name": "open_acc_6m",
         "type": "scatter",
         "x": [
          "2023-01-01T00:00:00.000000000",
          "2023-02-01T00:00:00.000000000",
          "2023-03-01T00:00:00.000000000",
          "2023-04-01T00:00:00.000000000",
          "2023-05-01T00:00:00.000000000",
          "2023-06-01T00:00:00.000000000",
          "2023-07-01T00:00:00.000000000",
          "2023-08-01T00:00:00.000000000",
          "2023-09-01T00:00:00.000000000",
          "2023-10-01T00:00:00.000000000",
          "2023-11-01T00:00:00.000000000",
          "2023-12-01T00:00:00.000000000",
          "2024-01-01T00:00:00.000000000",
          "2024-02-01T00:00:00.000000000",
          "2024-03-01T00:00:00.000000000",
          "2024-04-01T00:00:00.000000000",
          "2024-05-01T00:00:00.000000000",
          "2024-06-01T00:00:00.000000000",
          "2024-07-01T00:00:00.000000000",
          "2024-08-01T00:00:00.000000000",
          "2024-09-01T00:00:00.000000000",
          "2024-10-01T00:00:00.000000000",
          "2024-11-01T00:00:00.000000000",
          "2024-12-01T00:00:00.000000000"
         ],
         "y": {
          "bdata": "/6jH0+k+sj9jWZYZ8tK0P/pMN4n9aps/FGinjq4DoT/2OZPYNHioPwjDuPngcJw/NjGknvDtij9GHhPOR3CWPxM6tObss4g/RMHtGYQDfD8uIyElCOSaPzP9a0UwpIY/ZBvpoM/hlD9MJMGF3GqhP7s0izeNNYA/rjd8TXYNlj/jpiwAnN6cP8Exzjeix5M/Apg9zbX8lz9fcvtwxdKvPxry+rmRLZY/ltWTlNyZgD/i/BRJGahvP+zSwrdA+50/",
          "dtype": "f8"
         }
        },
        {
         "mode": "lines+markers",
         "name": "open_act_il",
         "type": "scatter",
         "x": [
          "2023-01-01T00:00:00.000000000",
          "2023-02-01T00:00:00.000000000",
          "2023-03-01T00:00:00.000000000",
          "2023-04-01T00:00:00.000000000",
          "2023-05-01T00:00:00.000000000",
          "2023-06-01T00:00:00.000000000",
          "2023-07-01T00:00:00.000000000",
          "2023-08-01T00:00:00.000000000",
          "2023-09-01T00:00:00.000000000",
          "2023-10-01T00:00:00.000000000",
          "2023-11-01T00:00:00.000000000",
          "2023-12-01T00:00:00.000000000",
          "2024-01-01T00:00:00.000000000",
          "2024-02-01T00:00:00.000000000",
          "2024-03-01T00:00:00.000000000",
          "2024-04-01T00:00:00.000000000",
          "2024-05-01T00:00:00.000000000",
          "2024-06-01T00:00:00.000000000",
          "2024-07-01T00:00:00.000000000",
          "2024-08-01T00:00:00.000000000",
          "2024-09-01T00:00:00.000000000",
          "2024-10-01T00:00:00.000000000",
          "2024-11-01T00:00:00.000000000",
          "2024-12-01T00:00:00.000000000"
         ],
         "y": {
          "bdata": "ESPrRjNHqj+u+Sj5FE+QP3CbsQDK640/DPbzY/kHqT+yost1Ray1P+ock0eBcac/BjG1GvDekD8XsGyxkLaJP/qKmHXSRJY/aM1cqOneiD8VPO4ZPjpxP0arChjt354/4YeKl7lymz/N/pDW7kuNPy6LjR9FUoU/KgVuCxD/hT/4cgtQuWZzP66nIMHZlJU/zRtu63lthD8V237UplSaP6iDISNrh40/0S7CDkrCkz9B213WkPalP/P7xxbVDpk/",
          "dtype": "f8"
         }
        },
        {
         "mode": "lines+markers",
         "name": "open_il_12m",
         "type": "scatter",
         "x": [
          "2023-01-01T00:00:00.000000000",
          "2023-02-01T00:00:00.000000000",
          "2023-03-01T00:00:00.000000000",
          "2023-04-01T00:00:00.000000000",
          "2023-05-01T00:00:00.000000000",
          "2023-06-01T00:00:00.000000000",
          "2023-07-01T00:00:00.000000000",
          "2023-08-01T00:00:00.000000000",
          "2023-09-01T00:00:00.000000000",
          "2023-10-01T00:00:00.000000000",
          "2023-11-01T00:00:00.000000000",
          "2023-12-01T00:00:00.000000000",
          "2024-01-01T00:00:00.000000000",
          "2024-02-01T00:00:00.000000000",
          "2024-03-01T00:00:00.000000000",
          "2024-04-01T00:00:00.000000000",
          "2024-05-01T00:00:00.000000000",
          "2024-06-01T00:00:00.000000000",
          "2024-07-01T00:00:00.000000000",
          "2024-08-01T00:00:00.000000000",
          "2024-09-01T00:00:00.000000000",
          "2024-10-01T00:00:00.000000000",
          "2024-11-01T00:00:00.000000000",
          "2024-12-01T00:00:00.000000000"
         ],
         "y": {
          "bdata": "qgVI6CWRwT/63anuJ/vFP+gTwoJEWbE/QQEoeGynpD8qFFeMsG+3P3bRT7yqxqY/Wv9VHnR4fj/MenkqpfyGP0evmZZ334k/d+ZNvazMlD+uhUlb3JuWP1jRcfG7lI8/VoP39HONlj+z0eRmcQiUP3RdlFBOf5c/T/453lO4gj80gjBEU9ekPxbFgRopDJg/G5k6Rh9Spj91gGeu1YmtP3DskKwbUZ4/+nURPKbXmD/JrIRX05mZP3R9HUSHSqA/",
          "dtype": "f8"
         }
        },
        {
         "mode": "lines+markers",
         "name": "open_il_24m",
         "type": "scatter",
         "x": [
          "2023-01-01T00:00:00.000000000",
          "2023-02-01T00:00:00.000000000",
          "2023-03-01T00:00:00.000000000",
          "2023-04-01T00:00:00.000000000",
          "2023-05-01T00:00:00.000000000",
          "2023-06-01T00:00:00.000000000",
          "2023-07-01T00:00:00.000000000",
          "2023-08-01T00:00:00.000000000",
          "2023-09-01T00:00:00.000000000",
          "2023-10-01T00:00:00.000000000",
          "2023-11-01T00:00:00.000000000",
          "2023-12-01T00:00:00.000000000",
          "2024-01-01T00:00:00.000000000",
          "2024-02-01T00:00:00.000000000",
          "2024-03-01T00:00:00.000000000",
          "2024-04-01T00:00:00.000000000",
          "2024-05-01T00:00:00.000000000",
          "2024-06-01T00:00:00.000000000",
          "2024-07-01T00:00:00.000000000",
          "2024-08-01T00:00:00.000000000",
          "2024-09-01T00:00:00.000000000",
          "2024-10-01T00:00:00.000000000",
          "2024-11-01T00:00:00.000000000",
          "2024-12-01T00:00:00.000000000"
         ],
         "y": {
          "bdata": "Y1zP80+C0D96X0DoS0itP+AVGOpbBLM/HaqsNlTRqz/I6X/NuVKHP6HKfZEhko4/YWom9HwXlD9YZDTU3b+aP42if8L7yZg/o9D7Ids1nj/xBss04u6YP1xRQaPIZII/IgNP2+6eiD+VRAcP97mJPw0Jgq2YXJA/kkr00TRonz/LaEG9BXCRP9gJi/xbNZs/+yoe1zbBoT+L8P5jG4igP0Jc22nbA4A/BGaQwWFUlj9lbgaFXdahP80K6tYxX5M/",
          "dtype": "f8"
         }
        },
        {
         "mode": "lines+markers",
         "name": "open_rv_12m",
         "type": "scatter",
         "x": [
          "2023-01-01T00:00:00.000000000",
          "2023-02-01T00:00:00.000000000",
          "2023-03-01T00:00:00.000000000",
          "2023-04-01T00:00:00.000000000",
          "2023-05-01T00:00:00.000000000",
          "2023-06-01T00:00:00.000000000",
          "2023-07-01T00:00:00.000000000",
          "2023-08-01T00:00:00.000000000",
          "2023-09-01T00:00:00.000000000",
          "2023-10-01T00:00:00.000000000",
          "2023-11-01T00:00:00.000000000",
          "2023-12-01T00:00:00.000000000",
          "2024-01-01T00:00:00.000000000",
          "2024-02-01T00:00:00.000000000",
          "2024-03-01T00:00:00.000000000",
          "2024-04-01T00:00:00.000000000",
          "2024-05-01T00:00:00.000000000",
          "2024-06-01T00:00:00.000000000",
          "2024-07-01T00:00:00.000000000",
          "2024-08-01T00:00:00.000000000",
          "2024-09-01T00:00:00.000000000",
          "2024-10-01T00:00:00.000000000",
          "2024-11-01T00:00:00.000000000",
          "2024-12-01T00:00:00.000000000"
         ],
         "y": {
          "bdata": "RMow02Ufuz8VwLd6v+u3P2VnQRtWlpI/n3/3IdM3pT8Cz2wpA6mQP/j3mrfJAZk/IAndNYP0qT+9dlneZtSBP2eq+/2Yno4//47NzHuWjj/fHQKG4mqEP3SS6XWRyIY/NLuQdN88nT+biUyu9UWQP4jCjC0F6YU/T9CVEk0eiz95JCrJTxKYP2pgWVY8yok/nrB/RUR3kD/YHUsTRtqbPyHR6QmIk5Y/sf6Z+d/tlj8HWDh6V02GP/57XAz2OZM/",
          "dtype": "f8"
         }
        },
        {
         "mode": "lines+markers",
         "name": "open_rv_24m",
         "type": "scatter",
         "x": [
          "2023-01-01T00:00:00.000000000",
          "2023-02-01T00:00:00.000000000",
          "2023-03-01T00:00:00.000000000",
          "2023-04-01T00:00:00.000000000",
          "2023-05-01T00:00:00.000000000",
          "2023-06-01T00:00:00.000000000",
          "2023-07-01T00:00:00.000000000",
          "2023-08-01T00:00:00.000000000",
          "2023-09-01T00:00:00.000000000",
          "2023-10-01T00:00:00.000000000",
          "2023-11-01T00:00:00.000000000",
          "2023-12-01T00:00:00.000000000",
          "2024-01-01T00:00:00.000000000",
          "2024-02-01T00:00:00.000000000",
          "2024-03-01T00:00:00.000000000",
          "2024-04-01T00:00:00.000000000",
          "2024-05-01T00:00:00.000000000",
          "2024-06-01T00:00:00.000000000",
          "2024-07-01T00:00:00.000000000",
          "2024-08-01T00:00:00.000000000",
          "2024-09-01T00:00:00.000000000",
          "2024-10-01T00:00:00.000000000",
          "2024-11-01T00:00:00.000000000",
          "2024-12-01T00:00:00.000000000"
         ],
         "y": {
          "bdata": "j+OBPz5yqz/SE9dLvf2ZP25WW1VYVJU/n9YHfMd6gT92lT3Qq/SCPwQ5FzkVV4U/IkoKIp7chj/QsfQFvquSP+G6Pz5hUIo/WgcUV0ahij+lq/FcUySMP1ERiQ01G28/pLErXCbOkT9USxvgAQ2AP5DyGtc9PqI/HGqG20hNhj9nZX9Zk9yWP5inxgfGOYQ/mZRlVMH5hT+oRqmiwbqRP/PjLFA7fI0/WGAo4WwNhD8FjBsImgKIP2DUlWAWVX4/",
          "dtype": "f8"
         }
        },
        {
         "mode": "lines+markers",
         "name": "out_prncp",
         "type": "scatter",
         "x": [
          "2023-01-01T00:00:00.000000000",
          "2023-02-01T00:00:00.000000000",
          "2023-03-01T00:00:00.000000000",
          "2023-04-01T00:00:00.000000000",
          "2023-05-01T00:00:00.000000000",
          "2023-06-01T00:00:00.000000000",
          "2023-07-01T00:00:00.000000000",
          "2023-08-01T00:00:00.000000000",
          "2023-09-01T00:00:00.000000000",
          "2023-10-01T00:00:00.000000000",
          "2023-11-01T00:00:00.000000000",
          "2023-12-01T00:00:00.000000000",
          "2024-01-01T00:00:00.000000000",
          "2024-02-01T00:00:00.000000000",
          "2024-03-01T00:00:00.000000000",
          "2024-04-01T00:00:00.000000000",
          "2024-05-01T00:00:00.000000000",
          "2024-06-01T00:00:00.000000000",
          "2024-07-01T00:00:00.000000000",
          "2024-08-01T00:00:00.000000000",
          "2024-09-01T00:00:00.000000000",
          "2024-10-01T00:00:00.000000000",
          "2024-11-01T00:00:00.000000000",
          "2024-12-01T00:00:00.000000000"
         ],
         "y": {
          "bdata": "JjN/HmODtD/TtgOuxkWpP9arpBp/Y9E/ckT5oEs8sj8UZbMn2SCuPzL4qnjFEqA/05R2twRtoj82oqe8hFOhP9uwuVh3tYU/N+fcGMaGjz9HgN5+jhiUP//xdWhzg40/y5FSRH/lkT9KADNq54eUP17esoDMvp0/4QPMa6Kioj+GLb4MeKOgP/pR6Cjti5w/fKK7oY6Gnz8jAKuKaV2uPyLzRiYRFqo/JlXFqckdsj8Bt0ynsdimP8z2SVkfmq0/",
          "dtype": "f8"
         }
        },
        {
         "mode": "lines+markers",
         "name": "out_prncp_inv",
         "type": "scatter",
         "x": [
          "2023-01-01T00:00:00.000000000",
          "2023-02-01T00:00:00.000000000",
          "2023-03-01T00:00:00.000000000",
          "2023-04-01T00:00:00.000000000",
          "2023-05-01T00:00:00.000000000",
          "2023-06-01T00:00:00.000000000",
          "2023-07-01T00:00:00.000000000",
          "2023-08-01T00:00:00.000000000",
          "2023-09-01T00:00:00.000000000",
          "2023-10-01T00:00:00.000000000",
          "2023-11-01T00:00:00.000000000",
          "2023-12-01T00:00:00.000000000",
          "2024-01-01T00:00:00.000000000",
          "2024-02-01T00:00:00.000000000",
          "2024-03-01T00:00:00.000000000",
          "2024-04-01T00:00:00.000000000",
          "2024-05-01T00:00:00.000000000",
          "2024-06-01T00:00:00.000000000",
          "2024-07-01T00:00:00.000000000",
          "2024-08-01T00:00:00.000000000",
          "2024-09-01T00:00:00.000000000",
          "2024-10-01T00:00:00.000000000",
          "2024-11-01T00:00:00.000000000",
          "2024-12-01T00:00:00.000000000"
         ],
         "y": {
          "bdata": "MSlwAWTgtj/nFG5M5kLjPzJCNz8YDsw/xC9m6f89uz+A48h5QmW3P+IYHrNeKbE/9At5dXRsnD8d5vlUjfGvP0I96sDVGXg/ezctA3xOhT8cybv8IKabPzyxGBVlVoU/RK6Z81Ydjj+GzoV8X8OjP3/i0fjqVKc/4AEXJstipj/TjzHSmzaeP8HPyv291ac/IGY83lERpD+f/XF3oje2P22FkGMEh6o/UStRlEPevz+5CMoVIfW0PwCDp7FuHr8/",
          "dtype": "f8"
         }
        },
        {
         "mode": "lines+markers",
         "name": "pct_tl_nvr_dlq",
         "type": "scatter",
         "x": [
          "2023-01-01T00:00:00.000000000",
          "2023-02-01T00:00:00.000000000",
          "2023-03-01T00:00:00.000000000",
          "2023-04-01T00:00:00.000000000",
          "2023-05-01T00:00:00.000000000",
          "2023-06-01T00:00:00.000000000",
          "2023-07-01T00:00:00.000000000",
          "2023-08-01T00:00:00.000000000",
          "2023-09-01T00:00:00.000000000",
          "2023-10-01T00:00:00.000000000",
          "2023-11-01T00:00:00.000000000",
          "2023-12-01T00:00:00.000000000",
          "2024-01-01T00:00:00.000000000",
          "2024-02-01T00:00:00.000000000",
          "2024-03-01T00:00:00.000000000",
          "2024-04-01T00:00:00.000000000",
          "2024-05-01T00:00:00.000000000",
          "2024-06-01T00:00:00.000000000",
          "2024-07-01T00:00:00.000000000",
          "2024-08-01T00:00:00.000000000",
          "2024-09-01T00:00:00.000000000",
          "2024-10-01T00:00:00.000000000",
          "2024-11-01T00:00:00.000000000",
          "2024-12-01T00:00:00.000000000"
         ],
         "y": {
          "bdata": "rmoRD45Gqz9fUl8VOhuyP3/AURjJpaQ/rAWcAf0YnT/OQXlk/2eRPwFY71BYepU/R32sorC8lj+QShtDxwiKP8YqVhgMj5s/TACX1ApClj8LiR1drWeCP2viYsUMkZg/rr+UmYwJoj+njgKmTc2YP9aFLbX7XJA/ORGRJyiakj9/8VDS0mWPPyNgkc0Ew6Q/eoNyyAGOmj9nHizR6kGWP5IaItzpDZ8/quiNB8BImD8ByXa6SvezPyY+xRIoJJY/",
          "dtype": "f8"
         }
        },
        {
         "mode": "lines+markers",
         "name": "percent_bc_gt_75",
         "type": "scatter",
         "x": [
          "2023-01-01T00:00:00.000000000",
          "2023-02-01T00:00:00.000000000",
          "2023-03-01T00:00:00.000000000",
          "2023-04-01T00:00:00.000000000",
          "2023-05-01T00:00:00.000000000",
          "2023-06-01T00:00:00.000000000",
          "2023-07-01T00:00:00.000000000",
          "2023-08-01T00:00:00.000000000",
          "2023-09-01T00:00:00.000000000",
          "2023-10-01T00:00:00.000000000",
          "2023-11-01T00:00:00.000000000",
          "2023-12-01T00:00:00.000000000",
          "2024-01-01T00:00:00.000000000",
          "2024-02-01T00:00:00.000000000",
          "2024-03-01T00:00:00.000000000",
          "2024-04-01T00:00:00.000000000",
          "2024-05-01T00:00:00.000000000",
          "2024-06-01T00:00:00.000000000",
          "2024-07-01T00:00:00.000000000",
          "2024-08-01T00:00:00.000000000",
          "2024-09-01T00:00:00.000000000",
          "2024-10-01T00:00:00.000000000",
          "2024-11-01T00:00:00.000000000",
          "2024-12-01T00:00:00.000000000"
         ],
         "y": {
          "bdata": "PpIgTGFlsj9o+NaDX0C7P7qnd3FuWcA/ma+6q5NZxz+/2Yl1gGa5P0nouMIRpbA/doEZPuoasT/J2AOMSzSqPwtKcR3ek5k/JWIgGEECoz/1uXQtoWqVP8rut4X4V50/gybqAlWjpj8iMeWxiG+fPyUSNnBKBJg//zoEaE/Kmj/3rEUhnTuTPz+RK2zc+KA/NEDhdkPZqj8CCVJ/oOKSP/6mgbSNSKY/OKlgXo79sz/CcMUWMUu1P7d2CH+vnsA/",
          "dtype": "f8"
         }
        },
        {
         "mode": "lines+markers",
         "name": "policy_code",
         "type": "scatter",
         "x": [
          "2023-01-01T00:00:00.000000000",
          "2023-02-01T00:00:00.000000000",
          "2023-03-01T00:00:00.000000000",
          "2023-04-01T00:00:00.000000000",
          "2023-05-01T00:00:00.000000000",
          "2023-06-01T00:00:00.000000000",
          "2023-07-01T00:00:00.000000000",
          "2023-08-01T00:00:00.000000000",
          "2023-09-01T00:00:00.000000000",
          "2023-10-01T00:00:00.000000000",
          "2023-11-01T00:00:00.000000000",
          "2023-12-01T00:00:00.000000000",
          "2024-01-01T00:00:00.000000000",
          "2024-02-01T00:00:00.000000000",
          "2024-03-01T00:00:00.000000000",
          "2024-04-01T00:00:00.000000000",
          "2024-05-01T00:00:00.000000000",
          "2024-06-01T00:00:00.000000000",
          "2024-07-01T00:00:00.000000000",
          "2024-08-01T00:00:00.000000000",
          "2024-09-01T00:00:00.000000000",
          "2024-10-01T00:00:00.000000000",
          "2024-11-01T00:00:00.000000000",
          "2024-12-01T00:00:00.000000000"
         ],
         "y": {
          "bdata": "AAAAAAAAAAAAAAAAAAAAAAAAAAAAAAAAAAAAAAAAAAAAAAAAAAAAAAAAAAAAAAAAAAAAAAAAAAAAAAAAAAAAAAAAAAAAAAAAAAAAAAAAAAAAAAAAAAAAAAAAAAAAAAAAAAAAAAAAAAAAAAAAAAAAAAAAAAAAAAAAAAAAAAAAAAAAAAAAAAAAAAAAAAAAAAAAAAAAAAAAAAAAAAAAAAAAAAAAAAAAAAAAAAAAAAAAAAAAAAAAAAAAAAAAAAAAAAAA",
          "dtype": "f8"
         }
        },
        {
         "mode": "lines+markers",
         "name": "pub_rec",
         "type": "scatter",
         "x": [
          "2023-01-01T00:00:00.000000000",
          "2023-02-01T00:00:00.000000000",
          "2023-03-01T00:00:00.000000000",
          "2023-04-01T00:00:00.000000000",
          "2023-05-01T00:00:00.000000000",
          "2023-06-01T00:00:00.000000000",
          "2023-07-01T00:00:00.000000000",
          "2023-08-01T00:00:00.000000000",
          "2023-09-01T00:00:00.000000000",
          "2023-10-01T00:00:00.000000000",
          "2023-11-01T00:00:00.000000000",
          "2023-12-01T00:00:00.000000000",
          "2024-01-01T00:00:00.000000000",
          "2024-02-01T00:00:00.000000000",
          "2024-03-01T00:00:00.000000000",
          "2024-04-01T00:00:00.000000000",
          "2024-05-01T00:00:00.000000000",
          "2024-06-01T00:00:00.000000000",
          "2024-07-01T00:00:00.000000000",
          "2024-08-01T00:00:00.000000000",
          "2024-09-01T00:00:00.000000000",
          "2024-10-01T00:00:00.000000000",
          "2024-11-01T00:00:00.000000000",
          "2024-12-01T00:00:00.000000000"
         ],
         "y": {
          "bdata": "y5ndJqLMkD9cChxuCT5wP5T9l7mg/5Q/MWnhmIVFwT8ZVvtw8Q3DP9QFu6MErMI/Sd0E9C6wnT/C4N6gNunAP+TtHxBcR6g/IkbG/pLSgj8gp5v+TpF/PxP5qb1JOp0/Azyd/BAQnD80G8LLRWZwP/paQcJGTXE/VBXWtGsKVD8VbiV3qp5+P28QRV+3oaY/GCK7DYkSlT9hUCsDWLCTP63Be3qEeaE/4qSihUt9qj8Vnr30R0iwP8l158pK3aU/",
          "dtype": "f8"
         }
        },
        {
         "mode": "lines+markers",
         "name": "pub_rec_bankruptcies",
         "type": "scatter",
         "x": [
          "2023-01-01T00:00:00.000000000",
          "2023-02-01T00:00:00.000000000",
          "2023-03-01T00:00:00.000000000",
          "2023-04-01T00:00:00.000000000",
          "2023-05-01T00:00:00.000000000",
          "2023-06-01T00:00:00.000000000",
          "2023-07-01T00:00:00.000000000",
          "2023-08-01T00:00:00.000000000",
          "2023-09-01T00:00:00.000000000",
          "2023-10-01T00:00:00.000000000",
          "2023-11-01T00:00:00.000000000",
          "2023-12-01T00:00:00.000000000",
          "2024-01-01T00:00:00.000000000",
          "2024-02-01T00:00:00.000000000",
          "2024-03-01T00:00:00.000000000",
          "2024-04-01T00:00:00.000000000",
          "2024-05-01T00:00:00.000000000",
          "2024-06-01T00:00:00.000000000",
          "2024-07-01T00:00:00.000000000",
          "2024-08-01T00:00:00.000000000",
          "2024-09-01T00:00:00.000000000",
          "2024-10-01T00:00:00.000000000",
          "2024-11-01T00:00:00.000000000",
          "2024-12-01T00:00:00.000000000"
         ],
         "y": {
          "bdata": "AETcAVm6wD/KvPZNIzvTP1iL3IR2f7k/cN4cUujVqT8MMAliyfCjP1NH3hAkPow/TAhhWTGnQT/LAGGRGPhpP1ZLwdDZ64o/+soo4dEUjz/azmZfB592P/8I/t5JhZg/ljiGF+1UpT8wGxM87cKaP1EJXbaSd4w/AzC4nGP/qj9Bu45JGSOwP+StOaiu7aw/NT3S2GHOoj8OSel1QIOiP+I9h7bUqZo/RhSFd36aqz9LcxgADsCYP56nUie906c/",
          "dtype": "f8"
         }
        },
        {
         "mode": "lines+markers",
         "name": "recoveries",
         "type": "scatter",
         "x": [
          "2023-01-01T00:00:00.000000000",
          "2023-02-01T00:00:00.000000000",
          "2023-03-01T00:00:00.000000000",
          "2023-04-01T00:00:00.000000000",
          "2023-05-01T00:00:00.000000000",
          "2023-06-01T00:00:00.000000000",
          "2023-07-01T00:00:00.000000000",
          "2023-08-01T00:00:00.000000000",
          "2023-09-01T00:00:00.000000000",
          "2023-10-01T00:00:00.000000000",
          "2023-11-01T00:00:00.000000000",
          "2023-12-01T00:00:00.000000000",
          "2024-01-01T00:00:00.000000000",
          "2024-02-01T00:00:00.000000000",
          "2024-03-01T00:00:00.000000000",
          "2024-04-01T00:00:00.000000000",
          "2024-05-01T00:00:00.000000000",
          "2024-06-01T00:00:00.000000000",
          "2024-07-01T00:00:00.000000000",
          "2024-08-01T00:00:00.000000000",
          "2024-09-01T00:00:00.000000000",
          "2024-10-01T00:00:00.000000000",
          "2024-11-01T00:00:00.000000000",
          "2024-12-01T00:00:00.000000000"
         ],
         "y": {
          "bdata": "nHwQbYPdeT/OEb9kZhaeP7Ro7Ueg9Y8/aPDqQabVgD98zG/4UHCVP9IKL1fzUYU/8RdC0SjSgD/OBqDOE9yCP8rmhQoHIHA/ghXbjN9KlT+hRRabBAmIP3qaSA/9WIU/27tjMJc8gD824/y+VvR9PxAapXD1/I8/Ok42HI2pfz+Q5RUwPUSTP/vq0i6yDZU/NKx4jGiccD+MksW5KBt1P9ylpiCwTH0/stI1NGaRiD8IZ89uTRuMPxaRZWkkMXk/",
          "dtype": "f8"
         }
        },
        {
         "mode": "lines+markers",
         "name": "revol_bal",
         "type": "scatter",
         "x": [
          "2023-01-01T00:00:00.000000000",
          "2023-02-01T00:00:00.000000000",
          "2023-03-01T00:00:00.000000000",
          "2023-04-01T00:00:00.000000000",
          "2023-05-01T00:00:00.000000000",
          "2023-06-01T00:00:00.000000000",
          "2023-07-01T00:00:00.000000000",
          "2023-08-01T00:00:00.000000000",
          "2023-09-01T00:00:00.000000000",
          "2023-10-01T00:00:00.000000000",
          "2023-11-01T00:00:00.000000000",
          "2023-12-01T00:00:00.000000000",
          "2024-01-01T00:00:00.000000000",
          "2024-02-01T00:00:00.000000000",
          "2024-03-01T00:00:00.000000000",
          "2024-04-01T00:00:00.000000000",
          "2024-05-01T00:00:00.000000000",
          "2024-06-01T00:00:00.000000000",
          "2024-07-01T00:00:00.000000000",
          "2024-08-01T00:00:00.000000000",
          "2024-09-01T00:00:00.000000000",
          "2024-10-01T00:00:00.000000000",
          "2024-11-01T00:00:00.000000000",
          "2024-12-01T00:00:00.000000000"
         ],
         "y": {
          "bdata": "MhG9Yu0bbz+dB6gJPUKCP7pZrol8rIE/BxZP1snwgz9MWoGGYsmMP2EFIpK4I5A/UCmBcxqxkj/JshBfmM1aP99QPFyOd1s/Rmh09nQhkD+UCRQjutZyP6+g2Ig1aog/orRrcI3/gz9dz1evZLOXP1FzNYrHZ5w/1a69XJnQcj8ukCfwRreTP3JOn1by85I/f3bob63Oez98cDbAe7+HP+yXfAVAwYA/StjWh3VLlT/AtgNBrX+GP0wQHOBbBnQ/",
          "dtype": "f8"
         }
        },
        {
         "mode": "lines+markers",
         "name": "revol_util",
         "type": "scatter",
         "x": [
          "2023-01-01T00:00:00.000000000",
          "2023-02-01T00:00:00.000000000",
          "2023-03-01T00:00:00.000000000",
          "2023-04-01T00:00:00.000000000",
          "2023-05-01T00:00:00.000000000",
          "2023-06-01T00:00:00.000000000",
          "2023-07-01T00:00:00.000000000",
          "2023-08-01T00:00:00.000000000",
          "2023-09-01T00:00:00.000000000",
          "2023-10-01T00:00:00.000000000",
          "2023-11-01T00:00:00.000000000",
          "2023-12-01T00:00:00.000000000",
          "2024-01-01T00:00:00.000000000",
          "2024-02-01T00:00:00.000000000",
          "2024-03-01T00:00:00.000000000",
          "2024-04-01T00:00:00.000000000",
          "2024-05-01T00:00:00.000000000",
          "2024-06-01T00:00:00.000000000",
          "2024-07-01T00:00:00.000000000",
          "2024-08-01T00:00:00.000000000",
          "2024-09-01T00:00:00.000000000",
          "2024-10-01T00:00:00.000000000",
          "2024-11-01T00:00:00.000000000",
          "2024-12-01T00:00:00.000000000"
         ],
         "y": {
          "bdata": "5qVfMhBYpD/bB0SHqIyyPznt0JfFEZs/ILbLXJlWlz/QK0y9iL2WP4PBAWVtOp8/6XK86zQlmD8d71la+2eSP6uraXXRKJs/M6OAzk/yoj9NrFK1Mz2aPw70e4K9zJE/JcRg7Dv3pT/RcB5f7M+TPwNrOhZ2044/JzQP6E/3cT8vk1ONAoyZPy+rnR2ODZc/KjQhXHokkD+MLSXZ7ouBP8hQtCiWKpI/JBMoGn+pkD+3ABSCUauUP2M3qBfXKpY/",
          "dtype": "f8"
         }
        },
        {
         "mode": "lines+markers",
         "name": "safra",
         "type": "scatter",
         "x": [
          "2023-01-01T00:00:00.000000000",
          "2023-02-01T00:00:00.000000000",
          "2023-03-01T00:00:00.000000000",
          "2023-04-01T00:00:00.000000000",
          "2023-05-01T00:00:00.000000000",
          "2023-06-01T00:00:00.000000000",
          "2023-07-01T00:00:00.000000000",
          "2023-08-01T00:00:00.000000000",
          "2023-09-01T00:00:00.000000000",
          "2023-10-01T00:00:00.000000000",
          "2023-11-01T00:00:00.000000000",
          "2023-12-01T00:00:00.000000000",
          "2024-01-01T00:00:00.000000000",
          "2024-02-01T00:00:00.000000000",
          "2024-03-01T00:00:00.000000000",
          "2024-04-01T00:00:00.000000000",
          "2024-05-01T00:00:00.000000000",
          "2024-06-01T00:00:00.000000000",
          "2024-07-01T00:00:00.000000000",
          "2024-08-01T00:00:00.000000000",
          "2024-09-01T00:00:00.000000000",
          "2024-10-01T00:00:00.000000000",
          "2024-11-01T00:00:00.000000000",
          "2024-12-01T00:00:00.000000000"
         ],
         "y": {
          "bdata": "Z2Tb/hYF1j9nZNv+FgXWP2dk2/4WBdY/Z2Tb/hYF1j9nZNv+FgXWP2dk2/4WBdY/Z2Tb/hYF1j9nZNv+FgXWP2dk2/4WBdY/Z2Tb/hYF1j9nZNv+FgXWP2dk2/4WBdY/Qrd8uaZX1j9Ct3y5plfWP0K3fLmmV9Y/Qrd8uaZX1j9Ct3y5plfWP0K3fLmmV9Y/Qrd8uaZX1j9Ct3y5plfWP0K3fLmmV9Y/Qrd8uaZX1j9Ct3y5plfWP0K3fLmmV9Y/",
          "dtype": "f8"
         }
        },
        {
         "mode": "lines+markers",
         "name": "tax_liens",
         "type": "scatter",
         "x": [
          "2023-01-01T00:00:00.000000000",
          "2023-02-01T00:00:00.000000000",
          "2023-03-01T00:00:00.000000000",
          "2023-04-01T00:00:00.000000000",
          "2023-05-01T00:00:00.000000000",
          "2023-06-01T00:00:00.000000000",
          "2023-07-01T00:00:00.000000000",
          "2023-08-01T00:00:00.000000000",
          "2023-09-01T00:00:00.000000000",
          "2023-10-01T00:00:00.000000000",
          "2023-11-01T00:00:00.000000000",
          "2023-12-01T00:00:00.000000000",
          "2024-01-01T00:00:00.000000000",
          "2024-02-01T00:00:00.000000000",
          "2024-03-01T00:00:00.000000000",
          "2024-04-01T00:00:00.000000000",
          "2024-05-01T00:00:00.000000000",
          "2024-06-01T00:00:00.000000000",
          "2024-07-01T00:00:00.000000000",
          "2024-08-01T00:00:00.000000000",
          "2024-09-01T00:00:00.000000000",
          "2024-10-01T00:00:00.000000000",
          "2024-11-01T00:00:00.000000000",
          "2024-12-01T00:00:00.000000000"
         ],
         "y": {
          "bdata": "HoAz/nw9gT+kG1eUthpyP3fKVVlkb5A/8VU1Z6GdZD9Z2MmQpqGbP9uUYSLdUGQ/UjopryIGdT/bNYF3Ijh0PxsqSyyfsU0/MjG38NiDhj9zIzbtHzGlP/Bq/9JZpYE/CkouFEgMeD+cwkbYzvduP8X5yvqDC08/X2Df8V+XBj/Uxiczf6NkPyyk3Jn4sXE/ah9+3xSUiD8NoLgZEVZ0P7rG2yca6JQ/HFb1ZR/gbz9qqFuoALyOP0xdSa6IWGo/",
          "dtype": "f8"
         }
        },
        {
         "mode": "lines+markers",
         "name": "tot_coll_amt",
         "type": "scatter",
         "x": [
          "2023-01-01T00:00:00.000000000",
          "2023-02-01T00:00:00.000000000",
          "2023-03-01T00:00:00.000000000",
          "2023-04-01T00:00:00.000000000",
          "2023-05-01T00:00:00.000000000",
          "2023-06-01T00:00:00.000000000",
          "2023-07-01T00:00:00.000000000",
          "2023-08-01T00:00:00.000000000",
          "2023-09-01T00:00:00.000000000",
          "2023-10-01T00:00:00.000000000",
          "2023-11-01T00:00:00.000000000",
          "2023-12-01T00:00:00.000000000",
          "2024-01-01T00:00:00.000000000",
          "2024-02-01T00:00:00.000000000",
          "2024-03-01T00:00:00.000000000",
          "2024-04-01T00:00:00.000000000",
          "2024-05-01T00:00:00.000000000",
          "2024-06-01T00:00:00.000000000",
          "2024-07-01T00:00:00.000000000",
          "2024-08-01T00:00:00.000000000",
          "2024-09-01T00:00:00.000000000",
          "2024-10-01T00:00:00.000000000",
          "2024-11-01T00:00:00.000000000",
          "2024-12-01T00:00:00.000000000"
         ],
         "y": {
          "bdata": "+DIwIRdFsz74MjAhF0WzPvgyMCEXRbM++DIwIRdFsz74MjAhF0WzPvgyMCEXRbM+cgWa9aG+ZD/4MjAhF0WzPoKRlmJV62U/DPtBBmgeaD/4MjAhF0WzPvgyMCEXRbM++DIwIRdFsz5fre72PZtiP/gyMCEXRbM++DIwIRdFsz74MjAhF0WzPvgyMCEXRbM++DIwIRdFsz74MjAhF0WzPjFryEQaaGU/+DIwIRdFsz7RKAafkedhP/gyMCEXRbM+",
          "dtype": "f8"
         }
        },
        {
         "mode": "lines+markers",
         "name": "tot_cur_bal",
         "type": "scatter",
         "x": [
          "2023-01-01T00:00:00.000000000",
          "2023-02-01T00:00:00.000000000",
          "2023-03-01T00:00:00.000000000",
          "2023-04-01T00:00:00.000000000",
          "2023-05-01T00:00:00.000000000",
          "2023-06-01T00:00:00.000000000",
          "2023-07-01T00:00:00.000000000",
          "2023-08-01T00:00:00.000000000",
          "2023-09-01T00:00:00.000000000",
          "2023-10-01T00:00:00.000000000",
          "2023-11-01T00:00:00.000000000",
          "2023-12-01T00:00:00.000000000",
          "2024-01-01T00:00:00.000000000",
          "2024-02-01T00:00:00.000000000",
          "2024-03-01T00:00:00.000000000",
          "2024-04-01T00:00:00.000000000",
          "2024-05-01T00:00:00.000000000",
          "2024-06-01T00:00:00.000000000",
          "2024-07-01T00:00:00.000000000",
          "2024-08-01T00:00:00.000000000",
          "2024-09-01T00:00:00.000000000",
          "2024-10-01T00:00:00.000000000",
          "2024-11-01T00:00:00.000000000",
          "2024-12-01T00:00:00.000000000"
         ],
         "y": {
          "bdata": "yBYkDxgujz8KpFx/6qCgP5juBZEg430/QBw1ifxwgj/ClMg2Wkd7Pzywgw5KRYM/6D/q0J3ddT8qKR71O5qSP5GyuCk8y3M/LO3FedGYiT/6Jye71XeJPxlTSdpC7X0/PMT7Bvw9qD8G5vNisoKCP8qxeMlKX34/l/l4Mo4hiD95btKRuf2bP5eJbu13l5M/H5b2z2OIjz8z6IWeeNNgP2yt8XFsSZw/T90JPj70kD8Y+2rm5RSJP/McSQPZu4s/",
          "dtype": "f8"
         }
        },
        {
         "mode": "lines+markers",
         "name": "tot_hi_cred_lim",
         "type": "scatter",
         "x": [
          "2023-01-01T00:00:00.000000000",
          "2023-02-01T00:00:00.000000000",
          "2023-03-01T00:00:00.000000000",
          "2023-04-01T00:00:00.000000000",
          "2023-05-01T00:00:00.000000000",
          "2023-06-01T00:00:00.000000000",
          "2023-07-01T00:00:00.000000000",
          "2023-08-01T00:00:00.000000000",
          "2023-09-01T00:00:00.000000000",
          "2023-10-01T00:00:00.000000000",
          "2023-11-01T00:00:00.000000000",
          "2023-12-01T00:00:00.000000000",
          "2024-01-01T00:00:00.000000000",
          "2024-02-01T00:00:00.000000000",
          "2024-03-01T00:00:00.000000000",
          "2024-04-01T00:00:00.000000000",
          "2024-05-01T00:00:00.000000000",
          "2024-06-01T00:00:00.000000000",
          "2024-07-01T00:00:00.000000000",
          "2024-08-01T00:00:00.000000000",
          "2024-09-01T00:00:00.000000000",
          "2024-10-01T00:00:00.000000000",
          "2024-11-01T00:00:00.000000000",
          "2024-12-01T00:00:00.000000000"
         ],
         "y": {
          "bdata": "zTI+vVMThT86U/y0KhWGPwgQtUvr/nw/vniLVa4fZj+T4eTU415tP6TkQzFBw4c/8FTPwIdphj9aQ4I8K6yRP/nyblI+rWQ/hYnVN/YAmz/WZT7CFFqKPwKKLkv2M4o/AngtsOJPkz874A1z78yVP4VMKu8kVng/KDouhQmNez+aXmNev9OBP3TaeqaT9Ic/IGZW3FUQlj94w+QyQvyEP91Psypp4oo/tARB6pO1hD/AvkF1mZqRP4q9JZVZgIc/",
          "dtype": "f8"
         }
        },
        {
         "mode": "lines+markers",
         "name": "total_acc",
         "type": "scatter",
         "x": [
          "2023-01-01T00:00:00.000000000",
          "2023-02-01T00:00:00.000000000",
          "2023-03-01T00:00:00.000000000",
          "2023-04-01T00:00:00.000000000",
          "2023-05-01T00:00:00.000000000",
          "2023-06-01T00:00:00.000000000",
          "2023-07-01T00:00:00.000000000",
          "2023-08-01T00:00:00.000000000",
          "2023-09-01T00:00:00.000000000",
          "2023-10-01T00:00:00.000000000",
          "2023-11-01T00:00:00.000000000",
          "2023-12-01T00:00:00.000000000",
          "2024-01-01T00:00:00.000000000",
          "2024-02-01T00:00:00.000000000",
          "2024-03-01T00:00:00.000000000",
          "2024-04-01T00:00:00.000000000",
          "2024-05-01T00:00:00.000000000",
          "2024-06-01T00:00:00.000000000",
          "2024-07-01T00:00:00.000000000",
          "2024-08-01T00:00:00.000000000",
          "2024-09-01T00:00:00.000000000",
          "2024-10-01T00:00:00.000000000",
          "2024-11-01T00:00:00.000000000",
          "2024-12-01T00:00:00.000000000"
         ],
         "y": {
          "bdata": "fpEJ6oSojz96ENL/f5KFP1Kl5nxLopE//EBfV2Vyhz8tqt1ItJGLP5cfhDHyX5Y/1sPu29MnhD94P3t+NLl3P2Ctf/52f4k/sC0f+0UblD9lHS5Bh46jP7ejzdnXmJk/gBpx+oiefD+8sMDM8zN5P/YOn/v9eYQ/tyg3ThwwlT88vgrlVc2dP0aDaBUg1p4/EhvVXkcMjD8/572cxMiQP32tcepPtqA/PITNMPlLiz9ponRudDeLP7F87ZGNh50/",
          "dtype": "f8"
         }
        },
        {
         "mode": "lines+markers",
         "name": "total_bal_ex_mort",
         "type": "scatter",
         "x": [
          "2023-01-01T00:00:00.000000000",
          "2023-02-01T00:00:00.000000000",
          "2023-03-01T00:00:00.000000000",
          "2023-04-01T00:00:00.000000000",
          "2023-05-01T00:00:00.000000000",
          "2023-06-01T00:00:00.000000000",
          "2023-07-01T00:00:00.000000000",
          "2023-08-01T00:00:00.000000000",
          "2023-09-01T00:00:00.000000000",
          "2023-10-01T00:00:00.000000000",
          "2023-11-01T00:00:00.000000000",
          "2023-12-01T00:00:00.000000000",
          "2024-01-01T00:00:00.000000000",
          "2024-02-01T00:00:00.000000000",
          "2024-03-01T00:00:00.000000000",
          "2024-04-01T00:00:00.000000000",
          "2024-05-01T00:00:00.000000000",
          "2024-06-01T00:00:00.000000000",
          "2024-07-01T00:00:00.000000000",
          "2024-08-01T00:00:00.000000000",
          "2024-09-01T00:00:00.000000000",
          "2024-10-01T00:00:00.000000000",
          "2024-11-01T00:00:00.000000000",
          "2024-12-01T00:00:00.000000000"
         ],
         "y": {
          "bdata": "fUtPgQJffj/3Q2xBwc90P79QcpuAUJc/WkzaobHXhz8Y6PbtMrCNPx6y96f2LIc/8PD3rdNHij9f8McRP2aPP4y6N5ISJpU/RsviTfdtiz8bBZ0UrAqCP09F1mFM4nw/lljSAqIkgz/a9xuWx3OQPzaCW4wclos/KGnw84v3hT+7slW2LE6HP2ZXdoqv7p0/t+UjnurZgD+1R8SXmRCMP7KMuNALwX8/5LF2J8q6kT9eFHIeKoeBP4gVwVDbt5Q/",
          "dtype": "f8"
         }
        },
        {
         "mode": "lines+markers",
         "name": "total_bal_il",
         "type": "scatter",
         "x": [
          "2023-01-01T00:00:00.000000000",
          "2023-02-01T00:00:00.000000000",
          "2023-03-01T00:00:00.000000000",
          "2023-04-01T00:00:00.000000000",
          "2023-05-01T00:00:00.000000000",
          "2023-06-01T00:00:00.000000000",
          "2023-07-01T00:00:00.000000000",
          "2023-08-01T00:00:00.000000000",
          "2023-09-01T00:00:00.000000000",
          "2023-10-01T00:00:00.000000000",
          "2023-11-01T00:00:00.000000000",
          "2023-12-01T00:00:00.000000000",
          "2024-01-01T00:00:00.000000000",
          "2024-02-01T00:00:00.000000000",
          "2024-03-01T00:00:00.000000000",
          "2024-04-01T00:00:00.000000000",
          "2024-05-01T00:00:00.000000000",
          "2024-06-01T00:00:00.000000000",
          "2024-07-01T00:00:00.000000000",
          "2024-08-01T00:00:00.000000000",
          "2024-09-01T00:00:00.000000000",
          "2024-10-01T00:00:00.000000000",
          "2024-11-01T00:00:00.000000000",
          "2024-12-01T00:00:00.000000000"
         ],
         "y": {
          "bdata": "I04OrC/pjz/vt/n0X2+BP1CjbYP6O5o/4fL8skiRlz/pVFrEAEGSP/C2s4q56IA/NvZJ+cQsgT+3lKQwwvFwP8o2cugAgY4/A3NIqt33lT+ApH5z9PuGPwgZQyls1pE/AN9uCgIphz8E0nT9mxqTPykOf+1fqIM/Do2xtX8kjz+j8gzpC3SHP9d8wSt4P5o/BXAINNHhlj/J+fSexkmKP99TpEFU1Kc/wrrydXOQhz9roqxAmWuGP4K+yfpGOIY/",
          "dtype": "f8"
         }
        },
        {
         "mode": "lines+markers",
         "name": "total_bc_limit",
         "type": "scatter",
         "x": [
          "2023-01-01T00:00:00.000000000",
          "2023-02-01T00:00:00.000000000",
          "2023-03-01T00:00:00.000000000",
          "2023-04-01T00:00:00.000000000",
          "2023-05-01T00:00:00.000000000",
          "2023-06-01T00:00:00.000000000",
          "2023-07-01T00:00:00.000000000",
          "2023-08-01T00:00:00.000000000",
          "2023-09-01T00:00:00.000000000",
          "2023-10-01T00:00:00.000000000",
          "2023-11-01T00:00:00.000000000",
          "2023-12-01T00:00:00.000000000",
          "2024-01-01T00:00:00.000000000",
          "2024-02-01T00:00:00.000000000",
          "2024-03-01T00:00:00.000000000",
          "2024-04-01T00:00:00.000000000",
          "2024-05-01T00:00:00.000000000",
          "2024-06-01T00:00:00.000000000",
          "2024-07-01T00:00:00.000000000",
          "2024-08-01T00:00:00.000000000",
          "2024-09-01T00:00:00.000000000",
          "2024-10-01T00:00:00.000000000",
          "2024-11-01T00:00:00.000000000",
          "2024-12-01T00:00:00.000000000"
         ],
         "y": {
          "bdata": "nN+4feS4kj/AtW/isJCVP45Z8fZjNaI/k1R4KQpdkD/m19Szuv2DP8Vdcd9+Po8/GLHyFnVGkD/NH1/smepwP87h3ZDz7pM/Vh0GfuyIkD8kwWE+JlaAP7wmiQFV9IU/NFQuAemAjT9vCHEnHkCSP6N4bCs8nYw/2D7Z+9mTdj9xASFHUHx0PwsOZpEIf5A/fzja4XNikT+Qapwmh/dyP+B/ZWClWIA/aK7HatvvnT8/gfiCXzeOP7pGrYSmqYM/",
          "dtype": "f8"
         }
        },
        {
         "mode": "lines+markers",
         "name": "total_cu_tl",
         "type": "scatter",
         "x": [
          "2023-01-01T00:00:00.000000000",
          "2023-02-01T00:00:00.000000000",
          "2023-03-01T00:00:00.000000000",
          "2023-04-01T00:00:00.000000000",
          "2023-05-01T00:00:00.000000000",
          "2023-06-01T00:00:00.000000000",
          "2023-07-01T00:00:00.000000000",
          "2023-08-01T00:00:00.000000000",
          "2023-09-01T00:00:00.000000000",
          "2023-10-01T00:00:00.000000000",
          "2023-11-01T00:00:00.000000000",
          "2023-12-01T00:00:00.000000000",
          "2024-01-01T00:00:00.000000000",
          "2024-02-01T00:00:00.000000000",
          "2024-03-01T00:00:00.000000000",
          "2024-04-01T00:00:00.000000000",
          "2024-05-01T00:00:00.000000000",
          "2024-06-01T00:00:00.000000000",
          "2024-07-01T00:00:00.000000000",
          "2024-08-01T00:00:00.000000000",
          "2024-09-01T00:00:00.000000000",
          "2024-10-01T00:00:00.000000000",
          "2024-11-01T00:00:00.000000000",
          "2024-12-01T00:00:00.000000000"
         ],
         "y": {
          "bdata": "d/lQZZVryT8al33tDDCeP8Uneqiw0ok/yX7N0p6Coz9cVm/7xOadP2zrxwItwZA/N1KsEWRpnz8d2yC8ZcWQP0c6rnRLNH0/3N+eUkc0nj/vKIZaVKmWPwJJC31xoHs/a03wKfhljD9vspLyAT+XPyV4vLazipw/5s301FZZoz/sH83cEmqWP0fCXvgmfYs/nFNQOdMyjD87zddAoqaOPzZWqKglnZQ/ZnGeJoTfkT86LuNyQUWVP+yd/p4lFHw/",
          "dtype": "f8"
         }
        },
        {
         "mode": "lines+markers",
         "name": "total_il_high_credit_limit",
         "type": "scatter",
         "x": [
          "2023-01-01T00:00:00.000000000",
          "2023-02-01T00:00:00.000000000",
          "2023-03-01T00:00:00.000000000",
          "2023-04-01T00:00:00.000000000",
          "2023-05-01T00:00:00.000000000",
          "2023-06-01T00:00:00.000000000",
          "2023-07-01T00:00:00.000000000",
          "2023-08-01T00:00:00.000000000",
          "2023-09-01T00:00:00.000000000",
          "2023-10-01T00:00:00.000000000",
          "2023-11-01T00:00:00.000000000",
          "2023-12-01T00:00:00.000000000",
          "2024-01-01T00:00:00.000000000",
          "2024-02-01T00:00:00.000000000",
          "2024-03-01T00:00:00.000000000",
          "2024-04-01T00:00:00.000000000",
          "2024-05-01T00:00:00.000000000",
          "2024-06-01T00:00:00.000000000",
          "2024-07-01T00:00:00.000000000",
          "2024-08-01T00:00:00.000000000",
          "2024-09-01T00:00:00.000000000",
          "2024-10-01T00:00:00.000000000",
          "2024-11-01T00:00:00.000000000",
          "2024-12-01T00:00:00.000000000"
         ],
         "y": {
          "bdata": "t56MwyuvfD/83y3E6kybPxOMGMuH1pM/8Aya7Y1soz8I84CUhRGQP+b/mFRUKoI/IIW08cpgcD/faQ3bDDWIP+y7rm+36oU/qnxmlqexjz9kY8HQgnhpP0lNbrJf+I4/5wgwCaMQfj9C0Hpz2719Pxwk0NTA8ok/GbeHy2wyjD+hsWGwpfGWP3ReeFJ155g/StUU4j+2ij+QzFUR5TuXP6TLtx+TlHc/OJoxqPjYhT+t7hBGZlWDPwzeOFAu6IU/",
          "dtype": "f8"
         }
        },
        {
         "mode": "lines+markers",
         "name": "total_pymnt",
         "type": "scatter",
         "x": [
          "2023-01-01T00:00:00.000000000",
          "2023-02-01T00:00:00.000000000",
          "2023-03-01T00:00:00.000000000",
          "2023-04-01T00:00:00.000000000",
          "2023-05-01T00:00:00.000000000",
          "2023-06-01T00:00:00.000000000",
          "2023-07-01T00:00:00.000000000",
          "2023-08-01T00:00:00.000000000",
          "2023-09-01T00:00:00.000000000",
          "2023-10-01T00:00:00.000000000",
          "2023-11-01T00:00:00.000000000",
          "2023-12-01T00:00:00.000000000",
          "2024-01-01T00:00:00.000000000",
          "2024-02-01T00:00:00.000000000",
          "2024-03-01T00:00:00.000000000",
          "2024-04-01T00:00:00.000000000",
          "2024-05-01T00:00:00.000000000",
          "2024-06-01T00:00:00.000000000",
          "2024-07-01T00:00:00.000000000",
          "2024-08-01T00:00:00.000000000",
          "2024-09-01T00:00:00.000000000",
          "2024-10-01T00:00:00.000000000",
          "2024-11-01T00:00:00.000000000",
          "2024-12-01T00:00:00.000000000"
         ],
         "y": {
          "bdata": "XzTylmZRsj9+Tna2ofCfPwebQwNLj5Y/xdb46JxJpz9eFRH3d8iiP7nmnR1mR5Q/olPc7bQfnD9ZW29AQ8GdP+tYijKBR6c/9hcFIkssjz/kchtTKl+QP3Wewt66mKA/LKQVlaMblD8JeUCX/f+TP5GmP6XsRYo/arKQpeFnkj/h15ax5xuYP7ZPg5Qa1JA/wLka80f+kD88uYlGcIqXPw+FRF15w5A/ELovtziulz8YxWHJvGuYP/Kvs5HCTYs/",
          "dtype": "f8"
         }
        },
        {
         "mode": "lines+markers",
         "name": "total_pymnt_inv",
         "type": "scatter",
         "x": [
          "2023-01-01T00:00:00.000000000",
          "2023-02-01T00:00:00.000000000",
          "2023-03-01T00:00:00.000000000",
          "2023-04-01T00:00:00.000000000",
          "2023-05-01T00:00:00.000000000",
          "2023-06-01T00:00:00.000000000",
          "2023-07-01T00:00:00.000000000",
          "2023-08-01T00:00:00.000000000",
          "2023-09-01T00:00:00.000000000",
          "2023-10-01T00:00:00.000000000",
          "2023-11-01T00:00:00.000000000",
          "2023-12-01T00:00:00.000000000",
          "2024-01-01T00:00:00.000000000",
          "2024-02-01T00:00:00.000000000",
          "2024-03-01T00:00:00.000000000",
          "2024-04-01T00:00:00.000000000",
          "2024-05-01T00:00:00.000000000",
          "2024-06-01T00:00:00.000000000",
          "2024-07-01T00:00:00.000000000",
          "2024-08-01T00:00:00.000000000",
          "2024-09-01T00:00:00.000000000",
          "2024-10-01T00:00:00.000000000",
          "2024-11-01T00:00:00.000000000",
          "2024-12-01T00:00:00.000000000"
         ],
         "y": {
          "bdata": "D7U3IK3uqz9Cy57JzkGbP2baSFErPZU/Fgu6X8hImj8Q6aryVYChP+dX4QAPS4c/cJv8TPhzgD+8JqCFpMeJP7juDi/z9Zg/vJorhAMWnj/cLiHpfn2eP1rrxdOeUqY/2p5faVvMkj/TjsLqLPahP7oRfO/vhJA/HJ6Hl76+jD/tKfNOYOGHP4SH0GKdVqM/rCV0QoZZpj+K12Pyz6CEP44X9nq12oc/u/oLSkVsmT9gOEK7zpOhP1xVFsj4boM/",
          "dtype": "f8"
         }
        },
        {
         "mode": "lines+markers",
         "name": "total_rec_int",
         "type": "scatter",
         "x": [
          "2023-01-01T00:00:00.000000000",
          "2023-02-01T00:00:00.000000000",
          "2023-03-01T00:00:00.000000000",
          "2023-04-01T00:00:00.000000000",
          "2023-05-01T00:00:00.000000000",
          "2023-06-01T00:00:00.000000000",
          "2023-07-01T00:00:00.000000000",
          "2023-08-01T00:00:00.000000000",
          "2023-09-01T00:00:00.000000000",
          "2023-10-01T00:00:00.000000000",
          "2023-11-01T00:00:00.000000000",
          "2023-12-01T00:00:00.000000000",
          "2024-01-01T00:00:00.000000000",
          "2024-02-01T00:00:00.000000000",
          "2024-03-01T00:00:00.000000000",
          "2024-04-01T00:00:00.000000000",
          "2024-05-01T00:00:00.000000000",
          "2024-06-01T00:00:00.000000000",
          "2024-07-01T00:00:00.000000000",
          "2024-08-01T00:00:00.000000000",
          "2024-09-01T00:00:00.000000000",
          "2024-10-01T00:00:00.000000000",
          "2024-11-01T00:00:00.000000000",
          "2024-12-01T00:00:00.000000000"
         ],
         "y": {
          "bdata": "zskfFwzluT+COv4wBrKoP/99Erg5ZqQ/+GZyTeqQoj+tJucuXpOqP7dcbZBBfn0/HKdN+59tmz8sab3ggnyTPwGSgp26eZQ/pIVpeE6elD9Ql41ZVmeOP/Nswr8hKqM/AnN6fT0ApT/SnVfXdmyNP2JGrtezUpI/8OF2bsU1nj/ulnyZZauKP3uhD4u4FpU/M2fg/OQHmD+6QdnxqNWcP+Y1g88EPIs/uzCYV3SEoj/IDO73mC2zP1tKx8YXr6E/",
          "dtype": "f8"
         }
        },
        {
         "mode": "lines+markers",
         "name": "total_rec_late_fee",
         "type": "scatter",
         "x": [
          "2023-01-01T00:00:00.000000000",
          "2023-02-01T00:00:00.000000000",
          "2023-03-01T00:00:00.000000000",
          "2023-04-01T00:00:00.000000000",
          "2023-05-01T00:00:00.000000000",
          "2023-06-01T00:00:00.000000000",
          "2023-07-01T00:00:00.000000000",
          "2023-08-01T00:00:00.000000000",
          "2023-09-01T00:00:00.000000000",
          "2023-10-01T00:00:00.000000000",
          "2023-11-01T00:00:00.000000000",
          "2023-12-01T00:00:00.000000000",
          "2024-01-01T00:00:00.000000000",
          "2024-02-01T00:00:00.000000000",
          "2024-03-01T00:00:00.000000000",
          "2024-04-01T00:00:00.000000000",
          "2024-05-01T00:00:00.000000000",
          "2024-06-01T00:00:00.000000000",
          "2024-07-01T00:00:00.000000000",
          "2024-08-01T00:00:00.000000000",
          "2024-09-01T00:00:00.000000000",
          "2024-10-01T00:00:00.000000000",
          "2024-11-01T00:00:00.000000000",
          "2024-12-01T00:00:00.000000000"
         ],
         "y": {
          "bdata": "3wWa07ZLWT+6p5Yf9qhaP4IJQ1N3Mls/0PTZtugcZj/sJNj4YnshPwDOmXTJfII/wQ3SV6Cndj9thEDI6wdlP9Cu9hMoM3k/HOUdt56eaz/GyautrHZ2P2aYVbXh/FU/WiUyzUSWdj+0gfao5rxtP2AVHg7u6nc/WDpHiV2vfD+GjvAB/0peP2QVap1Rt4A/mMeOVHiHNz8EH617E6llP5tGYCLpAls/lOQVE8Vdaz+NG6JOnZ8tP8zaytAMgJE/",
          "dtype": "f8"
         }
        },
        {
         "mode": "lines+markers",
         "name": "total_rec_prncp",
         "type": "scatter",
         "x": [
          "2023-01-01T00:00:00.000000000",
          "2023-02-01T00:00:00.000000000",
          "2023-03-01T00:00:00.000000000",
          "2023-04-01T00:00:00.000000000",
          "2023-05-01T00:00:00.000000000",
          "2023-06-01T00:00:00.000000000",
          "2023-07-01T00:00:00.000000000",
          "2023-08-01T00:00:00.000000000",
          "2023-09-01T00:00:00.000000000",
          "2023-10-01T00:00:00.000000000",
          "2023-11-01T00:00:00.000000000",
          "2023-12-01T00:00:00.000000000",
          "2024-01-01T00:00:00.000000000",
          "2024-02-01T00:00:00.000000000",
          "2024-03-01T00:00:00.000000000",
          "2024-04-01T00:00:00.000000000",
          "2024-05-01T00:00:00.000000000",
          "2024-06-01T00:00:00.000000000",
          "2024-07-01T00:00:00.000000000",
          "2024-08-01T00:00:00.000000000",
          "2024-09-01T00:00:00.000000000",
          "2024-10-01T00:00:00.000000000",
          "2024-11-01T00:00:00.000000000",
          "2024-12-01T00:00:00.000000000"
         ],
         "y": {
          "bdata": "INQL/Sv8lD/ai/csvEelP8dlzhsThZU/9GtqYyOvlT/88pBLfjGiPw0+LdUhJpw/dd7cNklSij9l6y+pkSqOP/yTMvm/i5o/2zoeA/78jD/LEScWYXiXP530XJnceKo/pfu4hhVbjj+gTWk97nyeP2iUbCfrs5I/djEC9I3ukD9n8wGvdlqcPyUSgll/r6E/9igX0RpHmD+LkP574xqmPzpCWCtzK40/FTVjeOHGnD9KzV7p8cGWP9ZjK4frLJM/",
          "dtype": "f8"
         }
        },
        {
         "mode": "lines+markers",
         "name": "total_rev_hi_lim",
         "type": "scatter",
         "x": [
          "2023-01-01T00:00:00.000000000",
          "2023-02-01T00:00:00.000000000",
          "2023-03-01T00:00:00.000000000",
          "2023-04-01T00:00:00.000000000",
          "2023-05-01T00:00:00.000000000",
          "2023-06-01T00:00:00.000000000",
          "2023-07-01T00:00:00.000000000",
          "2023-08-01T00:00:00.000000000",
          "2023-09-01T00:00:00.000000000",
          "2023-10-01T00:00:00.000000000",
          "2023-11-01T00:00:00.000000000",
          "2023-12-01T00:00:00.000000000",
          "2024-01-01T00:00:00.000000000",
          "2024-02-01T00:00:00.000000000",
          "2024-03-01T00:00:00.000000000",
          "2024-04-01T00:00:00.000000000",
          "2024-05-01T00:00:00.000000000",
          "2024-06-01T00:00:00.000000000",
          "2024-07-01T00:00:00.000000000",
          "2024-08-01T00:00:00.000000000",
          "2024-09-01T00:00:00.000000000",
          "2024-10-01T00:00:00.000000000",
          "2024-11-01T00:00:00.000000000",
          "2024-12-01T00:00:00.000000000"
         ],
         "y": {
          "bdata": "+NZWSZAJkj/ODXdULmyHP/5LHrpPwps/+hZhKCpOeD8ko9rkxOeRP0ACaZLkEI8/FuTUK3E1pD8kPc3rNK6PPxbPR4kNsno/cgMf/2J0iz+cbbpx7h2HPxx0uePlyXw/Zg/+5tlklj/hm8PfRFahP6tPHaIGWZw/Oth2Knxzlj/8Sv36ZDWUP5duJ940cZE/vif2iWizbj/ocJwb4aiTP8/ltaM7mYE/PYecQIrrkj85mjpjF+eTP8VcSNzxEn8/",
          "dtype": "f8"
         }
        },
        {
         "mode": "lines+markers",
         "name": "y_pred_label",
         "type": "scatter",
         "x": [
          "2023-01-01T00:00:00.000000000",
          "2023-02-01T00:00:00.000000000",
          "2023-03-01T00:00:00.000000000",
          "2023-04-01T00:00:00.000000000",
          "2023-05-01T00:00:00.000000000",
          "2023-06-01T00:00:00.000000000",
          "2023-07-01T00:00:00.000000000",
          "2023-08-01T00:00:00.000000000",
          "2023-09-01T00:00:00.000000000",
          "2023-10-01T00:00:00.000000000",
          "2023-11-01T00:00:00.000000000",
          "2023-12-01T00:00:00.000000000",
          "2024-01-01T00:00:00.000000000",
          "2024-02-01T00:00:00.000000000",
          "2024-03-01T00:00:00.000000000",
          "2024-04-01T00:00:00.000000000",
          "2024-05-01T00:00:00.000000000",
          "2024-06-01T00:00:00.000000000",
          "2024-07-01T00:00:00.000000000",
          "2024-08-01T00:00:00.000000000",
          "2024-09-01T00:00:00.000000000",
          "2024-10-01T00:00:00.000000000",
          "2024-11-01T00:00:00.000000000",
          "2024-12-01T00:00:00.000000000"
         ],
         "y": {
          "bdata": "WmsmiK8jEz+7vu3XWU2OP929iF8ZvBs/FShcXWpaTD+hoVN3GttxP8sTj0yVXnE/v3fcNq/F+D7QF9DyxKxtPyb1sBcTYOs+Pb6rhutY8T4+szM/Vps0PzTokEnP7Vw/jCt8ExY9Qj8GeR7Zz1hHPx0mMw/Ff1k/ms0vCngvtj7R8rpGNkFIP/4spZSajTc/fDaOpZAKXT+BnUSBBXxePxxG55mD83A/4k666LgJPz8As4l6er5AP3Kk0s3mPOA+",
          "dtype": "f8"
         }
        },
        {
         "mode": "lines+markers",
         "name": "y_pred_proba",
         "type": "scatter",
         "x": [
          "2023-01-01T00:00:00.000000000",
          "2023-02-01T00:00:00.000000000",
          "2023-03-01T00:00:00.000000000",
          "2023-04-01T00:00:00.000000000",
          "2023-05-01T00:00:00.000000000",
          "2023-06-01T00:00:00.000000000",
          "2023-07-01T00:00:00.000000000",
          "2023-08-01T00:00:00.000000000",
          "2023-09-01T00:00:00.000000000",
          "2023-10-01T00:00:00.000000000",
          "2023-11-01T00:00:00.000000000",
          "2023-12-01T00:00:00.000000000",
          "2024-01-01T00:00:00.000000000",
          "2024-02-01T00:00:00.000000000",
          "2024-03-01T00:00:00.000000000",
          "2024-04-01T00:00:00.000000000",
          "2024-05-01T00:00:00.000000000",
          "2024-06-01T00:00:00.000000000",
          "2024-07-01T00:00:00.000000000",
          "2024-08-01T00:00:00.000000000",
          "2024-09-01T00:00:00.000000000",
          "2024-10-01T00:00:00.000000000",
          "2024-11-01T00:00:00.000000000",
          "2024-12-01T00:00:00.000000000"
         ],
         "y": {
          "bdata": "COVLEyGfdz9d+JAAoU+cP+NsD03UiJE/tF6pmD45eT9AiOawuBJ7P7woU2ncwIY/YqsuFauEcz/EKv8bVHmTP090VqFT4oM/OzBxD+q0gD/Zbq1kLw14PxSUfayC5pA/2htf0Yg4gD/KPvPPnAeJP9pPMImp94I/gDEHJA1giD80kV1ul7toP2eGWSC4CXg/s+OwcpE5gj/GVTlY2Ch1P6a5WJPqhog/F4B7osC2kT/EfnbrID2IP85s7TLfx30/",
          "dtype": "f8"
         }
        }
       ],
       "layout": {
        "annotations": [
         {
          "showarrow": false,
          "text": "0.10",
          "x": 1,
          "xanchor": "right",
          "xref": "x domain",
          "y": 0.1,
          "yanchor": "bottom",
          "yref": "y"
         },
         {
          "showarrow": false,
          "text": "0.25",
          "x": 1,
          "xanchor": "right",
          "xref": "x domain",
          "y": 0.25,
          "yanchor": "bottom",
          "yref": "y"
         }
        ],
        "shapes": [
         {
          "line": {
           "color": "orange",
           "dash": "dash"
          },
          "type": "line",
          "x0": 0,
          "x1": 1,
          "xref": "x domain",
          "y0": 0.1,
          "y1": 0.1,
          "yref": "y"
         },
         {
          "line": {
           "color": "red",
           "dash": "dash"
          },
          "type": "line",
          "x0": 0,
          "x1": 1,
          "xref": "x domain",
          "y0": 0.25,
          "y1": 0.25,
          "yref": "y"
         }
        ],
        "template": {
         "data": {
          "bar": [
           {
            "error_x": {
             "color": "#2a3f5f"
            },
            "error_y": {
             "color": "#2a3f5f"
            },
            "marker": {
             "line": {
              "color": "white",
              "width": 0.5
             },
             "pattern": {
              "fillmode": "overlay",
              "size": 10,
              "solidity": 0.2
             }
            },
            "type": "bar"
           }
          ],
          "barpolar": [
           {
            "marker": {
             "line": {
              "color": "white",
              "width": 0.5
             },
             "pattern": {
              "fillmode": "overlay",
              "size": 10,
              "solidity": 0.2
             }
            },
            "type": "barpolar"
           }
          ],
          "carpet": [
           {
            "aaxis": {
             "endlinecolor": "#2a3f5f",
             "gridcolor": "#C8D4E3",
             "linecolor": "#C8D4E3",
             "minorgridcolor": "#C8D4E3",
             "startlinecolor": "#2a3f5f"
            },
            "baxis": {
             "endlinecolor": "#2a3f5f",
             "gridcolor": "#C8D4E3",
             "linecolor": "#C8D4E3",
             "minorgridcolor": "#C8D4E3",
             "startlinecolor": "#2a3f5f"
            },
            "type": "carpet"
           }
          ],
          "choropleth": [
           {
            "colorbar": {
             "outlinewidth": 0,
             "ticks": ""
            },
            "type": "choropleth"
           }
          ],
          "contour": [
           {
            "colorbar": {
             "outlinewidth": 0,
             "ticks": ""
            },
            "colorscale": [
             [
              0,
              "#0d0887"
             ],
             [
              0.1111111111111111,
              "#46039f"
             ],
             [
              0.2222222222222222,
              "#7201a8"
             ],
             [
              0.3333333333333333,
              "#9c179e"
             ],
             [
              0.4444444444444444,
              "#bd3786"
             ],
             [
              0.5555555555555556,
              "#d8576b"
             ],
             [
              0.6666666666666666,
              "#ed7953"
             ],
             [
              0.7777777777777778,
              "#fb9f3a"
             ],
             [
              0.8888888888888888,
              "#fdca26"
             ],
             [
              1,
              "#f0f921"
             ]
            ],
            "type": "contour"
           }
          ],
          "contourcarpet": [
           {
            "colorbar": {
             "outlinewidth": 0,
             "ticks": ""
            },
            "type": "contourcarpet"
           }
          ],
          "heatmap": [
           {
            "colorbar": {
             "outlinewidth": 0,
             "ticks": ""
            },
            "colorscale": [
             [
              0,
              "#0d0887"
             ],
             [
              0.1111111111111111,
              "#46039f"
             ],
             [
              0.2222222222222222,
              "#7201a8"
             ],
             [
              0.3333333333333333,
              "#9c179e"
             ],
             [
              0.4444444444444444,
              "#bd3786"
             ],
             [
              0.5555555555555556,
              "#d8576b"
             ],
             [
              0.6666666666666666,
              "#ed7953"
             ],
             [
              0.7777777777777778,
              "#fb9f3a"
             ],
             [
              0.8888888888888888,
              "#fdca26"
             ],
             [
              1,
              "#f0f921"
             ]
            ],
            "type": "heatmap"
           }
          ],
          "histogram": [
           {
            "marker": {
             "pattern": {
              "fillmode": "overlay",
              "size": 10,
              "solidity": 0.2
             }
            },
            "type": "histogram"
           }
          ],
          "histogram2d": [
           {
            "colorbar": {
             "outlinewidth": 0,
             "ticks": ""
            },
            "colorscale": [
             [
              0,
              "#0d0887"
             ],
             [
              0.1111111111111111,
              "#46039f"
             ],
             [
              0.2222222222222222,
              "#7201a8"
             ],
             [
              0.3333333333333333,
              "#9c179e"
             ],
             [
              0.4444444444444444,
              "#bd3786"
             ],
             [
              0.5555555555555556,
              "#d8576b"
             ],
             [
              0.6666666666666666,
              "#ed7953"
             ],
             [
              0.7777777777777778,
              "#fb9f3a"
             ],
             [
              0.8888888888888888,
              "#fdca26"
             ],
             [
              1,
              "#f0f921"
             ]
            ],
            "type": "histogram2d"
           }
          ],
          "histogram2dcontour": [
           {
            "colorbar": {
             "outlinewidth": 0,
             "ticks": ""
            },
            "colorscale": [
             [
              0,
              "#0d0887"
             ],
             [
              0.1111111111111111,
              "#46039f"
             ],
             [
              0.2222222222222222,
              "#7201a8"
             ],
             [
              0.3333333333333333,
              "#9c179e"
             ],
             [
              0.4444444444444444,
              "#bd3786"
             ],
             [
              0.5555555555555556,
              "#d8576b"
             ],
             [
              0.6666666666666666,
              "#ed7953"
             ],
             [
              0.7777777777777778,
              "#fb9f3a"
             ],
             [
              0.8888888888888888,
              "#fdca26"
             ],
             [
              1,
              "#f0f921"
             ]
            ],
            "type": "histogram2dcontour"
           }
          ],
          "mesh3d": [
           {
            "colorbar": {
             "outlinewidth": 0,
             "ticks": ""
            },
            "type": "mesh3d"
           }
          ],
          "parcoords": [
           {
            "line": {
             "colorbar": {
              "outlinewidth": 0,
              "ticks": ""
             }
            },
            "type": "parcoords"
           }
          ],
          "pie": [
           {
            "automargin": true,
            "type": "pie"
           }
          ],
          "scatter": [
           {
            "fillpattern": {
             "fillmode": "overlay",
             "size": 10,
             "solidity": 0.2
            },
            "type": "scatter"
           }
          ],
          "scatter3d": [
           {
            "line": {
             "colorbar": {
              "outlinewidth": 0,
              "ticks": ""
             }
            },
            "marker": {
             "colorbar": {
              "outlinewidth": 0,
              "ticks": ""
             }
            },
            "type": "scatter3d"
           }
          ],
          "scattercarpet": [
           {
            "marker": {
             "colorbar": {
              "outlinewidth": 0,
              "ticks": ""
             }
            },
            "type": "scattercarpet"
           }
          ],
          "scattergeo": [
           {
            "marker": {
             "colorbar": {
              "outlinewidth": 0,
              "ticks": ""
             }
            },
            "type": "scattergeo"
           }
          ],
          "scattergl": [
           {
            "marker": {
             "colorbar": {
              "outlinewidth": 0,
              "ticks": ""
             }
            },
            "type": "scattergl"
           }
          ],
          "scattermap": [
           {
            "marker": {
             "colorbar": {
              "outlinewidth": 0,
              "ticks": ""
             }
            },
            "type": "scattermap"
           }
          ],
          "scattermapbox": [
           {
            "marker": {
             "colorbar": {
              "outlinewidth": 0,
              "ticks": ""
             }
            },
            "type": "scattermapbox"
           }
          ],
          "scatterpolar": [
           {
            "marker": {
             "colorbar": {
              "outlinewidth": 0,
              "ticks": ""
             }
            },
            "type": "scatterpolar"
           }
          ],
          "scatterpolargl": [
           {
            "marker": {
             "colorbar": {
              "outlinewidth": 0,
              "ticks": ""
             }
            },
            "type": "scatterpolargl"
           }
          ],
          "scatterternary": [
           {
            "marker": {
             "colorbar": {
              "outlinewidth": 0,
              "ticks": ""
             }
            },
            "type": "scatterternary"
           }
          ],
          "surface": [
           {
            "colorbar": {
             "outlinewidth": 0,
             "ticks": ""
            },
            "colorscale": [
             [
              0,
              "#0d0887"
             ],
             [
              0.1111111111111111,
              "#46039f"
             ],
             [
              0.2222222222222222,
              "#7201a8"
             ],
             [
              0.3333333333333333,
              "#9c179e"
             ],
             [
              0.4444444444444444,
              "#bd3786"
             ],
             [
              0.5555555555555556,
              "#d8576b"
             ],
             [
              0.6666666666666666,
              "#ed7953"
             ],
             [
              0.7777777777777778,
              "#fb9f3a"
             ],
             [
              0.8888888888888888,
              "#fdca26"
             ],
             [
              1,
              "#f0f921"
             ]
            ],
            "type": "surface"
           }
          ],
          "table": [
           {
            "cells": {
             "fill": {
              "color": "#EBF0F8"
             },
             "line": {
              "color": "white"
             }
            },
            "header": {
             "fill": {
              "color": "#C8D4E3"
             },
             "line": {
              "color": "white"
             }
            },
            "type": "table"
           }
          ]
         },
         "layout": {
          "annotationdefaults": {
           "arrowcolor": "#2a3f5f",
           "arrowhead": 0,
           "arrowwidth": 1
          },
          "autotypenumbers": "strict",
          "coloraxis": {
           "colorbar": {
            "outlinewidth": 0,
            "ticks": ""
           }
          },
          "colorscale": {
           "diverging": [
            [
             0,
             "#8e0152"
            ],
            [
             0.1,
             "#c51b7d"
            ],
            [
             0.2,
             "#de77ae"
            ],
            [
             0.3,
             "#f1b6da"
            ],
            [
             0.4,
             "#fde0ef"
            ],
            [
             0.5,
             "#f7f7f7"
            ],
            [
             0.6,
             "#e6f5d0"
            ],
            [
             0.7,
             "#b8e186"
            ],
            [
             0.8,
             "#7fbc41"
            ],
            [
             0.9,
             "#4d9221"
            ],
            [
             1,
             "#276419"
            ]
           ],
           "sequential": [
            [
             0,
             "#0d0887"
            ],
            [
             0.1111111111111111,
             "#46039f"
            ],
            [
             0.2222222222222222,
             "#7201a8"
            ],
            [
             0.3333333333333333,
             "#9c179e"
            ],
            [
             0.4444444444444444,
             "#bd3786"
            ],
            [
             0.5555555555555556,
             "#d8576b"
            ],
            [
             0.6666666666666666,
             "#ed7953"
            ],
            [
             0.7777777777777778,
             "#fb9f3a"
            ],
            [
             0.8888888888888888,
             "#fdca26"
            ],
            [
             1,
             "#f0f921"
            ]
           ],
           "sequentialminus": [
            [
             0,
             "#0d0887"
            ],
            [
             0.1111111111111111,
             "#46039f"
            ],
            [
             0.2222222222222222,
             "#7201a8"
            ],
            [
             0.3333333333333333,
             "#9c179e"
            ],
            [
             0.4444444444444444,
             "#bd3786"
            ],
            [
             0.5555555555555556,
             "#d8576b"
            ],
            [
             0.6666666666666666,
             "#ed7953"
            ],
            [
             0.7777777777777778,
             "#fb9f3a"
            ],
            [
             0.8888888888888888,
             "#fdca26"
            ],
            [
             1,
             "#f0f921"
            ]
           ]
          },
          "colorway": [
           "#636efa",
           "#EF553B",
           "#00cc96",
           "#ab63fa",
           "#FFA15A",
           "#19d3f3",
           "#FF6692",
           "#B6E880",
           "#FF97FF",
           "#FECB52"
          ],
          "font": {
           "color": "#2a3f5f"
          },
          "geo": {
           "bgcolor": "white",
           "lakecolor": "white",
           "landcolor": "white",
           "showlakes": true,
           "showland": true,
           "subunitcolor": "#C8D4E3"
          },
          "hoverlabel": {
           "align": "left"
          },
          "hovermode": "closest",
          "mapbox": {
           "style": "light"
          },
          "paper_bgcolor": "white",
          "plot_bgcolor": "white",
          "polar": {
           "angularaxis": {
            "gridcolor": "#EBF0F8",
            "linecolor": "#EBF0F8",
            "ticks": ""
           },
           "bgcolor": "white",
           "radialaxis": {
            "gridcolor": "#EBF0F8",
            "linecolor": "#EBF0F8",
            "ticks": ""
           }
          },
          "scene": {
           "xaxis": {
            "backgroundcolor": "white",
            "gridcolor": "#DFE8F3",
            "gridwidth": 2,
            "linecolor": "#EBF0F8",
            "showbackground": true,
            "ticks": "",
            "zerolinecolor": "#EBF0F8"
           },
           "yaxis": {
            "backgroundcolor": "white",
            "gridcolor": "#DFE8F3",
            "gridwidth": 2,
            "linecolor": "#EBF0F8",
            "showbackground": true,
            "ticks": "",
            "zerolinecolor": "#EBF0F8"
           },
           "zaxis": {
            "backgroundcolor": "white",
            "gridcolor": "#DFE8F3",
            "gridwidth": 2,
            "linecolor": "#EBF0F8",
            "showbackground": true,
            "ticks": "",
            "zerolinecolor": "#EBF0F8"
           }
          },
          "shapedefaults": {
           "line": {
            "color": "#2a3f5f"
           }
          },
          "ternary": {
           "aaxis": {
            "gridcolor": "#DFE8F3",
            "linecolor": "#A2B1C6",
            "ticks": ""
           },
           "baxis": {
            "gridcolor": "#DFE8F3",
            "linecolor": "#A2B1C6",
            "ticks": ""
           },
           "bgcolor": "white",
           "caxis": {
            "gridcolor": "#DFE8F3",
            "linecolor": "#A2B1C6",
            "ticks": ""
           }
          },
          "title": {
           "x": 0.05
          },
          "xaxis": {
           "automargin": true,
           "gridcolor": "#EBF0F8",
           "linecolor": "#EBF0F8",
           "ticks": "",
           "title": {
            "standoff": 15
           },
           "zerolinecolor": "#EBF0F8",
           "zerolinewidth": 2
          },
          "yaxis": {
           "automargin": true,
           "gridcolor": "#EBF0F8",
           "linecolor": "#EBF0F8",
           "ticks": "",
           "title": {
            "standoff": 15
           },
           "zerolinecolor": "#EBF0F8",
           "zerolinewidth": 2
          }
         }
        },
        "title": {
         "text": "PSI over Time by Variable"
        },
        "xaxis": {
         "title": {
          "text": "Period"
         }
        },
        "yaxis": {
         "title": {
          "text": "Population Stability Index"
         }
        }
       }
      }
     },
     "metadata": {},
     "output_type": "display_data"
    }
   ],
   "source": [
    "# PSI por variável\n",
    "evaluator.plot_psi()"
   ]
  },
  {
   "cell_type": "code",
   "execution_count": null,
   "id": "68f91cbe",
   "metadata": {},
   "outputs": [
    {
     "data": {
      "application/vnd.plotly.v1+json": {
       "config": {
        "plotlyServerURL": "https://plot.ly"
       },
       "data": [
        {
         "mode": "lines+markers",
         "name": "Test",
         "type": "scatter",
         "x": [
          "2023-01-01T00:00:00.000000000",
          "2023-02-01T00:00:00.000000000",
          "2023-03-01T00:00:00.000000000",
          "2023-04-01T00:00:00.000000000",
          "2023-05-01T00:00:00.000000000",
          "2023-06-01T00:00:00.000000000",
          "2023-07-01T00:00:00.000000000",
          "2023-08-01T00:00:00.000000000",
          "2023-09-01T00:00:00.000000000",
          "2023-10-01T00:00:00.000000000",
          "2023-11-01T00:00:00.000000000",
          "2023-12-01T00:00:00.000000000",
          "2024-01-01T00:00:00.000000000",
          "2024-02-01T00:00:00.000000000",
          "2024-03-01T00:00:00.000000000",
          "2024-04-01T00:00:00.000000000",
          "2024-05-01T00:00:00.000000000",
          "2024-06-01T00:00:00.000000000",
          "2024-07-01T00:00:00.000000000",
          "2024-08-01T00:00:00.000000000",
          "2024-09-01T00:00:00.000000000",
          "2024-10-01T00:00:00.000000000",
          "2024-11-01T00:00:00.000000000",
          "2024-12-01T00:00:00.000000000"
         ],
         "y": {
          "bdata": "rBxaZDvf7z/21oZp7oLvP+GDDz744O8/7f2NgdXe7z++9957773vPyI9UDm7he8/IOAf4B/g7z8Q/MAP/MDvPyHg1mczvu8/AAAAAAAA8D9CwK3PZnzvP71f1vtlve8/+JdRENBc7z/aLfxqTKTvPxL6Aaocoe8/GPhXjXuB7z/21oZp7oLvP5IkSZIkSe8/Wu+X9X5Z7z8AAAAAAEDvPyL5mnrnBO8/TIuB5SQb7z/5GSV+RonvP42J9EDl7O4/",
          "dtype": "f8"
         }
        },
        {
         "mode": "lines+markers",
         "name": "Train",
         "type": "scatter",
         "x": [
          "2023-01-01T00:00:00.000000000",
          "2023-02-01T00:00:00.000000000",
          "2023-03-01T00:00:00.000000000",
          "2023-04-01T00:00:00.000000000",
          "2023-05-01T00:00:00.000000000",
          "2023-06-01T00:00:00.000000000",
          "2023-07-01T00:00:00.000000000",
          "2023-08-01T00:00:00.000000000",
          "2023-09-01T00:00:00.000000000",
          "2023-10-01T00:00:00.000000000",
          "2023-11-01T00:00:00.000000000",
          "2023-12-01T00:00:00.000000000",
          "2024-01-01T00:00:00.000000000",
          "2024-02-01T00:00:00.000000000",
          "2024-03-01T00:00:00.000000000",
          "2024-04-01T00:00:00.000000000",
          "2024-05-01T00:00:00.000000000",
          "2024-06-01T00:00:00.000000000",
          "2024-07-01T00:00:00.000000000",
          "2024-08-01T00:00:00.000000000",
          "2024-09-01T00:00:00.000000000",
          "2024-10-01T00:00:00.000000000",
          "2024-11-01T00:00:00.000000000",
          "2024-12-01T00:00:00.000000000"
         ],
         "y": {
          "bdata": "VDAm2p9q7z/rQ2N9aKzvP4OiTi4vgu8/7UMgXCV47z/oC/qCvqDvP3AL8Tqfue8/cseS7Byt7z/nGreLCYPvP0B6yX/0ku8/QOqUP+qU7z/4StDvlaDvP/t0fbo+Xe8/9zMvPTgp7z+fuW8L8TrvP7jXkkNcZe8/GVrQMWN17z/aUYuQv2bvP3EmWSsjfe8/uWXcMm4Z7z+G3ee7tkzvP/jee++99+4/YS3ha4ap7j8HhdMr7yruPydxQCtYOe4/",
          "dtype": "f8"
         }
        }
       ],
       "layout": {
        "annotations": [
         {
          "showarrow": false,
          "text": "0.05",
          "x": 1,
          "xanchor": "right",
          "xref": "x domain",
          "y": 0.05,
          "yanchor": "bottom",
          "yref": "y"
         }
        ],
        "shapes": [
         {
          "line": {
           "color": "gray",
           "dash": "dash"
          },
          "type": "line",
          "x0": 0,
          "x1": 1,
          "xref": "x domain",
          "y0": 0.05,
          "y1": 0.05,
          "yref": "y"
         }
        ],
        "template": {
         "data": {
          "bar": [
           {
            "error_x": {
             "color": "#2a3f5f"
            },
            "error_y": {
             "color": "#2a3f5f"
            },
            "marker": {
             "line": {
              "color": "white",
              "width": 0.5
             },
             "pattern": {
              "fillmode": "overlay",
              "size": 10,
              "solidity": 0.2
             }
            },
            "type": "bar"
           }
          ],
          "barpolar": [
           {
            "marker": {
             "line": {
              "color": "white",
              "width": 0.5
             },
             "pattern": {
              "fillmode": "overlay",
              "size": 10,
              "solidity": 0.2
             }
            },
            "type": "barpolar"
           }
          ],
          "carpet": [
           {
            "aaxis": {
             "endlinecolor": "#2a3f5f",
             "gridcolor": "#C8D4E3",
             "linecolor": "#C8D4E3",
             "minorgridcolor": "#C8D4E3",
             "startlinecolor": "#2a3f5f"
            },
            "baxis": {
             "endlinecolor": "#2a3f5f",
             "gridcolor": "#C8D4E3",
             "linecolor": "#C8D4E3",
             "minorgridcolor": "#C8D4E3",
             "startlinecolor": "#2a3f5f"
            },
            "type": "carpet"
           }
          ],
          "choropleth": [
           {
            "colorbar": {
             "outlinewidth": 0,
             "ticks": ""
            },
            "type": "choropleth"
           }
          ],
          "contour": [
           {
            "colorbar": {
             "outlinewidth": 0,
             "ticks": ""
            },
            "colorscale": [
             [
              0,
              "#0d0887"
             ],
             [
              0.1111111111111111,
              "#46039f"
             ],
             [
              0.2222222222222222,
              "#7201a8"
             ],
             [
              0.3333333333333333,
              "#9c179e"
             ],
             [
              0.4444444444444444,
              "#bd3786"
             ],
             [
              0.5555555555555556,
              "#d8576b"
             ],
             [
              0.6666666666666666,
              "#ed7953"
             ],
             [
              0.7777777777777778,
              "#fb9f3a"
             ],
             [
              0.8888888888888888,
              "#fdca26"
             ],
             [
              1,
              "#f0f921"
             ]
            ],
            "type": "contour"
           }
          ],
          "contourcarpet": [
           {
            "colorbar": {
             "outlinewidth": 0,
             "ticks": ""
            },
            "type": "contourcarpet"
           }
          ],
          "heatmap": [
           {
            "colorbar": {
             "outlinewidth": 0,
             "ticks": ""
            },
            "colorscale": [
             [
              0,
              "#0d0887"
             ],
             [
              0.1111111111111111,
              "#46039f"
             ],
             [
              0.2222222222222222,
              "#7201a8"
             ],
             [
              0.3333333333333333,
              "#9c179e"
             ],
             [
              0.4444444444444444,
              "#bd3786"
             ],
             [
              0.5555555555555556,
              "#d8576b"
             ],
             [
              0.6666666666666666,
              "#ed7953"
             ],
             [
              0.7777777777777778,
              "#fb9f3a"
             ],
             [
              0.8888888888888888,
              "#fdca26"
             ],
             [
              1,
              "#f0f921"
             ]
            ],
            "type": "heatmap"
           }
          ],
          "histogram": [
           {
            "marker": {
             "pattern": {
              "fillmode": "overlay",
              "size": 10,
              "solidity": 0.2
             }
            },
            "type": "histogram"
           }
          ],
          "histogram2d": [
           {
            "colorbar": {
             "outlinewidth": 0,
             "ticks": ""
            },
            "colorscale": [
             [
              0,
              "#0d0887"
             ],
             [
              0.1111111111111111,
              "#46039f"
             ],
             [
              0.2222222222222222,
              "#7201a8"
             ],
             [
              0.3333333333333333,
              "#9c179e"
             ],
             [
              0.4444444444444444,
              "#bd3786"
             ],
             [
              0.5555555555555556,
              "#d8576b"
             ],
             [
              0.6666666666666666,
              "#ed7953"
             ],
             [
              0.7777777777777778,
              "#fb9f3a"
             ],
             [
              0.8888888888888888,
              "#fdca26"
             ],
             [
              1,
              "#f0f921"
             ]
            ],
            "type": "histogram2d"
           }
          ],
          "histogram2dcontour": [
           {
            "colorbar": {
             "outlinewidth": 0,
             "ticks": ""
            },
            "colorscale": [
             [
              0,
              "#0d0887"
             ],
             [
              0.1111111111111111,
              "#46039f"
             ],
             [
              0.2222222222222222,
              "#7201a8"
             ],
             [
              0.3333333333333333,
              "#9c179e"
             ],
             [
              0.4444444444444444,
              "#bd3786"
             ],
             [
              0.5555555555555556,
              "#d8576b"
             ],
             [
              0.6666666666666666,
              "#ed7953"
             ],
             [
              0.7777777777777778,
              "#fb9f3a"
             ],
             [
              0.8888888888888888,
              "#fdca26"
             ],
             [
              1,
              "#f0f921"
             ]
            ],
            "type": "histogram2dcontour"
           }
          ],
          "mesh3d": [
           {
            "colorbar": {
             "outlinewidth": 0,
             "ticks": ""
            },
            "type": "mesh3d"
           }
          ],
          "parcoords": [
           {
            "line": {
             "colorbar": {
              "outlinewidth": 0,
              "ticks": ""
             }
            },
            "type": "parcoords"
           }
          ],
          "pie": [
           {
            "automargin": true,
            "type": "pie"
           }
          ],
          "scatter": [
           {
            "fillpattern": {
             "fillmode": "overlay",
             "size": 10,
             "solidity": 0.2
            },
            "type": "scatter"
           }
          ],
          "scatter3d": [
           {
            "line": {
             "colorbar": {
              "outlinewidth": 0,
              "ticks": ""
             }
            },
            "marker": {
             "colorbar": {
              "outlinewidth": 0,
              "ticks": ""
             }
            },
            "type": "scatter3d"
           }
          ],
          "scattercarpet": [
           {
            "marker": {
             "colorbar": {
              "outlinewidth": 0,
              "ticks": ""
             }
            },
            "type": "scattercarpet"
           }
          ],
          "scattergeo": [
           {
            "marker": {
             "colorbar": {
              "outlinewidth": 0,
              "ticks": ""
             }
            },
            "type": "scattergeo"
           }
          ],
          "scattergl": [
           {
            "marker": {
             "colorbar": {
              "outlinewidth": 0,
              "ticks": ""
             }
            },
            "type": "scattergl"
           }
          ],
          "scattermap": [
           {
            "marker": {
             "colorbar": {
              "outlinewidth": 0,
              "ticks": ""
             }
            },
            "type": "scattermap"
           }
          ],
          "scattermapbox": [
           {
            "marker": {
             "colorbar": {
              "outlinewidth": 0,
              "ticks": ""
             }
            },
            "type": "scattermapbox"
           }
          ],
          "scatterpolar": [
           {
            "marker": {
             "colorbar": {
              "outlinewidth": 0,
              "ticks": ""
             }
            },
            "type": "scatterpolar"
           }
          ],
          "scatterpolargl": [
           {
            "marker": {
             "colorbar": {
              "outlinewidth": 0,
              "ticks": ""
             }
            },
            "type": "scatterpolargl"
           }
          ],
          "scatterternary": [
           {
            "marker": {
             "colorbar": {
              "outlinewidth": 0,
              "ticks": ""
             }
            },
            "type": "scatterternary"
           }
          ],
          "surface": [
           {
            "colorbar": {
             "outlinewidth": 0,
             "ticks": ""
            },
            "colorscale": [
             [
              0,
              "#0d0887"
             ],
             [
              0.1111111111111111,
              "#46039f"
             ],
             [
              0.2222222222222222,
              "#7201a8"
             ],
             [
              0.3333333333333333,
              "#9c179e"
             ],
             [
              0.4444444444444444,
              "#bd3786"
             ],
             [
              0.5555555555555556,
              "#d8576b"
             ],
             [
              0.6666666666666666,
              "#ed7953"
             ],
             [
              0.7777777777777778,
              "#fb9f3a"
             ],
             [
              0.8888888888888888,
              "#fdca26"
             ],
             [
              1,
              "#f0f921"
             ]
            ],
            "type": "surface"
           }
          ],
          "table": [
           {
            "cells": {
             "fill": {
              "color": "#EBF0F8"
             },
             "line": {
              "color": "white"
             }
            },
            "header": {
             "fill": {
              "color": "#C8D4E3"
             },
             "line": {
              "color": "white"
             }
            },
            "type": "table"
           }
          ]
         },
         "layout": {
          "annotationdefaults": {
           "arrowcolor": "#2a3f5f",
           "arrowhead": 0,
           "arrowwidth": 1
          },
          "autotypenumbers": "strict",
          "coloraxis": {
           "colorbar": {
            "outlinewidth": 0,
            "ticks": ""
           }
          },
          "colorscale": {
           "diverging": [
            [
             0,
             "#8e0152"
            ],
            [
             0.1,
             "#c51b7d"
            ],
            [
             0.2,
             "#de77ae"
            ],
            [
             0.3,
             "#f1b6da"
            ],
            [
             0.4,
             "#fde0ef"
            ],
            [
             0.5,
             "#f7f7f7"
            ],
            [
             0.6,
             "#e6f5d0"
            ],
            [
             0.7,
             "#b8e186"
            ],
            [
             0.8,
             "#7fbc41"
            ],
            [
             0.9,
             "#4d9221"
            ],
            [
             1,
             "#276419"
            ]
           ],
           "sequential": [
            [
             0,
             "#0d0887"
            ],
            [
             0.1111111111111111,
             "#46039f"
            ],
            [
             0.2222222222222222,
             "#7201a8"
            ],
            [
             0.3333333333333333,
             "#9c179e"
            ],
            [
             0.4444444444444444,
             "#bd3786"
            ],
            [
             0.5555555555555556,
             "#d8576b"
            ],
            [
             0.6666666666666666,
             "#ed7953"
            ],
            [
             0.7777777777777778,
             "#fb9f3a"
            ],
            [
             0.8888888888888888,
             "#fdca26"
            ],
            [
             1,
             "#f0f921"
            ]
           ],
           "sequentialminus": [
            [
             0,
             "#0d0887"
            ],
            [
             0.1111111111111111,
             "#46039f"
            ],
            [
             0.2222222222222222,
             "#7201a8"
            ],
            [
             0.3333333333333333,
             "#9c179e"
            ],
            [
             0.4444444444444444,
             "#bd3786"
            ],
            [
             0.5555555555555556,
             "#d8576b"
            ],
            [
             0.6666666666666666,
             "#ed7953"
            ],
            [
             0.7777777777777778,
             "#fb9f3a"
            ],
            [
             0.8888888888888888,
             "#fdca26"
            ],
            [
             1,
             "#f0f921"
            ]
           ]
          },
          "colorway": [
           "#636efa",
           "#EF553B",
           "#00cc96",
           "#ab63fa",
           "#FFA15A",
           "#19d3f3",
           "#FF6692",
           "#B6E880",
           "#FF97FF",
           "#FECB52"
          ],
          "font": {
           "color": "#2a3f5f"
          },
          "geo": {
           "bgcolor": "white",
           "lakecolor": "white",
           "landcolor": "white",
           "showlakes": true,
           "showland": true,
           "subunitcolor": "#C8D4E3"
          },
          "hoverlabel": {
           "align": "left"
          },
          "hovermode": "closest",
          "mapbox": {
           "style": "light"
          },
          "paper_bgcolor": "white",
          "plot_bgcolor": "white",
          "polar": {
           "angularaxis": {
            "gridcolor": "#EBF0F8",
            "linecolor": "#EBF0F8",
            "ticks": ""
           },
           "bgcolor": "white",
           "radialaxis": {
            "gridcolor": "#EBF0F8",
            "linecolor": "#EBF0F8",
            "ticks": ""
           }
          },
          "scene": {
           "xaxis": {
            "backgroundcolor": "white",
            "gridcolor": "#DFE8F3",
            "gridwidth": 2,
            "linecolor": "#EBF0F8",
            "showbackground": true,
            "ticks": "",
            "zerolinecolor": "#EBF0F8"
           },
           "yaxis": {
            "backgroundcolor": "white",
            "gridcolor": "#DFE8F3",
            "gridwidth": 2,
            "linecolor": "#EBF0F8",
            "showbackground": true,
            "ticks": "",
            "zerolinecolor": "#EBF0F8"
           },
           "zaxis": {
            "backgroundcolor": "white",
            "gridcolor": "#DFE8F3",
            "gridwidth": 2,
            "linecolor": "#EBF0F8",
            "showbackground": true,
            "ticks": "",
            "zerolinecolor": "#EBF0F8"
           }
          },
          "shapedefaults": {
           "line": {
            "color": "#2a3f5f"
           }
          },
          "ternary": {
           "aaxis": {
            "gridcolor": "#DFE8F3",
            "linecolor": "#A2B1C6",
            "ticks": ""
           },
           "baxis": {
            "gridcolor": "#DFE8F3",
            "linecolor": "#A2B1C6",
            "ticks": ""
           },
           "bgcolor": "white",
           "caxis": {
            "gridcolor": "#DFE8F3",
            "linecolor": "#A2B1C6",
            "ticks": ""
           }
          },
          "title": {
           "x": 0.05
          },
          "xaxis": {
           "automargin": true,
           "gridcolor": "#EBF0F8",
           "linecolor": "#EBF0F8",
           "ticks": "",
           "title": {
            "standoff": 15
           },
           "zerolinecolor": "#EBF0F8",
           "zerolinewidth": 2
          },
          "yaxis": {
           "automargin": true,
           "gridcolor": "#EBF0F8",
           "linecolor": "#EBF0F8",
           "ticks": "",
           "title": {
            "standoff": 15
           },
           "zerolinecolor": "#EBF0F8",
           "zerolinewidth": 2
          }
         }
        },
        "title": {
         "text": "KS Evolution over Time"
        },
        "xaxis": {
         "title": {
          "text": "Period"
         }
        },
        "yaxis": {
         "title": {
          "text": "Kolmogorov–Smirnov"
         }
        }
       }
      }
     },
     "metadata": {},
     "output_type": "display_data"
    }
   ],
   "source": [
    "# Evolução do KS\n",
    "evaluator.plot_ks()"
   ]
  }
 ],
 "metadata": {
  "kernelspec": {
   "display_name": "ENV_STONE",
   "language": "python",
   "name": "python3"
  },
  "language_info": {
   "codemirror_mode": {
    "name": "ipython",
    "version": 3
   },
   "file_extension": ".py",
   "mimetype": "text/x-python",
   "name": "python",
   "nbconvert_exporter": "python",
   "pygments_lexer": "ipython3",
   "version": "3.10.16"
  }
 },
 "nbformat": 4,
 "nbformat_minor": 5
}
