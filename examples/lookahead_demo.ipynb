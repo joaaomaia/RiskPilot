{
 "cells": [
  {
   "cell_type": "markdown",
   "metadata": {},
   "source": [
    "# Synthetic Vintage Generator – Demo"
   ]
  },
  {
   "cell_type": "markdown",
   "metadata": {},
   "source": [
    "Este notebook mostra como criar conjuntos de dados sintéticos com a classe `LookAhead`.\n",
    "Vamos gerar safras mensais de um portfólio fictício."
   ]
  },
  {
   "cell_type": "code",
   "execution_count": 1,
   "metadata": {},
   "outputs": [],
   "source": [
    "import pandas as pd\n",
    "import numpy as np\n",
    "from riskpilot.synthetic import LookAhead"
   ]
  },
  {
   "cell_type": "code",
   "execution_count": 2,
   "metadata": {},
   "outputs": [],
   "source": [
    "np.random.seed(0)\n",
    "base = pd.DataFrame({\n",
    "    'id': range(100),\n",
    "    'date': pd.date_range('2024-01-01', periods=100, freq='D'),\n",
    "    'utilization': np.random.beta(2,5,100)*100,\n",
    "    'age': np.random.normal(40,10,100).astype(int),\n",
    "    'segment': np.random.choice(['A','B','C'], size=100)\n",
    "})"
   ]
  },
  {
   "cell_type": "code",
   "execution_count": 3,
   "metadata": {},
   "outputs": [],
   "source": [
    "gen = LookAhead(\n",
    "    id_cols=['id'],\n",
    "    date_cols=['date']\n",
    ").fit(base)"
   ]
  },
  {
   "cell_type": "code",
   "execution_count": 4,
   "metadata": {},
   "outputs": [
    {
     "data": {
      "text/html": [
       "<div>\n",
       "<style scoped>\n",
       "    .dataframe tbody tr th:only-of-type {\n",
       "        vertical-align: middle;\n",
       "    }\n",
       "\n",
       "    .dataframe tbody tr th {\n",
       "        vertical-align: top;\n",
       "    }\n",
       "\n",
       "    .dataframe thead th {\n",
       "        text-align: right;\n",
       "    }\n",
       "</style>\n",
       "<table border=\"1\" class=\"dataframe\">\n",
       "  <thead>\n",
       "    <tr style=\"text-align: right;\">\n",
       "      <th></th>\n",
       "      <th>id</th>\n",
       "      <th>date</th>\n",
       "      <th>utilization</th>\n",
       "      <th>age</th>\n",
       "      <th>segment</th>\n",
       "    </tr>\n",
       "  </thead>\n",
       "  <tbody>\n",
       "    <tr>\n",
       "      <th>0</th>\n",
       "      <td>663480daa27841fca0f8d49da6caf5f2</td>\n",
       "      <td>2025-06-30</td>\n",
       "      <td>51.898056</td>\n",
       "      <td>36.0</td>\n",
       "      <td>A</td>\n",
       "    </tr>\n",
       "    <tr>\n",
       "      <th>1</th>\n",
       "      <td>63e9709a3b7a460a9dedd4f05a7d14af</td>\n",
       "      <td>2025-06-30</td>\n",
       "      <td>22.384816</td>\n",
       "      <td>43.0</td>\n",
       "      <td>A</td>\n",
       "    </tr>\n",
       "    <tr>\n",
       "      <th>2</th>\n",
       "      <td>b5b14c51c26d4a05bb16797443cab7b9</td>\n",
       "      <td>2025-06-30</td>\n",
       "      <td>51.020442</td>\n",
       "      <td>37.0</td>\n",
       "      <td>C</td>\n",
       "    </tr>\n",
       "    <tr>\n",
       "      <th>3</th>\n",
       "      <td>ea9336ebb86541e58204c82ba9ad5a89</td>\n",
       "      <td>2025-06-30</td>\n",
       "      <td>47.253774</td>\n",
       "      <td>30.0</td>\n",
       "      <td>C</td>\n",
       "    </tr>\n",
       "    <tr>\n",
       "      <th>4</th>\n",
       "      <td>ea8ec5a219ad46d1a714958c4f292ade</td>\n",
       "      <td>2025-06-30</td>\n",
       "      <td>3.761292</td>\n",
       "      <td>48.0</td>\n",
       "      <td>C</td>\n",
       "    </tr>\n",
       "  </tbody>\n",
       "</table>\n",
       "</div>"
      ],
      "text/plain": [
       "                                 id       date  utilization   age segment\n",
       "0  663480daa27841fca0f8d49da6caf5f2 2025-06-30    51.898056  36.0       A\n",
       "1  63e9709a3b7a460a9dedd4f05a7d14af 2025-06-30    22.384816  43.0       A\n",
       "2  b5b14c51c26d4a05bb16797443cab7b9 2025-06-30    51.020442  37.0       C\n",
       "3  ea9336ebb86541e58204c82ba9ad5a89 2025-06-30    47.253774  30.0       C\n",
       "4  ea8ec5a219ad46d1a714958c4f292ade 2025-06-30     3.761292  48.0       C"
      ]
     },
     "execution_count": 4,
     "metadata": {},
     "output_type": "execute_result"
    }
   ],
   "source": [
    "synthetic = gen.generate(\n",
    "    n_periods=3,\n",
    "    freq='ME',\n",
    "    scenario='base')\n",
    "synthetic.head()"
   ]
  },
  {
   "cell_type": "markdown",
   "metadata": {},
   "source": [
    "### Ajustando ruídos específicos"
   ]
  },
  {
   "cell_type": "code",
   "execution_count": 5,
   "metadata": {},
   "outputs": [
    {
     "data": {
      "text/html": [
       "<div>\n",
       "<style scoped>\n",
       "    .dataframe tbody tr th:only-of-type {\n",
       "        vertical-align: middle;\n",
       "    }\n",
       "\n",
       "    .dataframe tbody tr th {\n",
       "        vertical-align: top;\n",
       "    }\n",
       "\n",
       "    .dataframe thead th {\n",
       "        text-align: right;\n",
       "    }\n",
       "</style>\n",
       "<table border=\"1\" class=\"dataframe\">\n",
       "  <thead>\n",
       "    <tr style=\"text-align: right;\">\n",
       "      <th></th>\n",
       "      <th>id</th>\n",
       "      <th>date</th>\n",
       "      <th>utilization</th>\n",
       "      <th>age</th>\n",
       "      <th>segment</th>\n",
       "    </tr>\n",
       "  </thead>\n",
       "  <tbody>\n",
       "    <tr>\n",
       "      <th>0</th>\n",
       "      <td>b7c868fdfcee45a5bcebb65a6a3376e1</td>\n",
       "      <td>2025-06-30</td>\n",
       "      <td>13.294172</td>\n",
       "      <td>48.000000</td>\n",
       "      <td>C</td>\n",
       "    </tr>\n",
       "    <tr>\n",
       "      <th>1</th>\n",
       "      <td>257cda203ec74faebff6dbd0d4a14285</td>\n",
       "      <td>2025-06-30</td>\n",
       "      <td>8.989357</td>\n",
       "      <td>37.000000</td>\n",
       "      <td>A</td>\n",
       "    </tr>\n",
       "    <tr>\n",
       "      <th>2</th>\n",
       "      <td>8e1680500ef5458e8c08dd2a282cd69c</td>\n",
       "      <td>2025-06-30</td>\n",
       "      <td>64.611154</td>\n",
       "      <td>31.233678</td>\n",
       "      <td>B</td>\n",
       "    </tr>\n",
       "    <tr>\n",
       "      <th>3</th>\n",
       "      <td>2dc7593106f14075899d1971754dca6a</td>\n",
       "      <td>2025-06-30</td>\n",
       "      <td>53.238217</td>\n",
       "      <td>37.000000</td>\n",
       "      <td>B</td>\n",
       "    </tr>\n",
       "    <tr>\n",
       "      <th>4</th>\n",
       "      <td>a208264307014ec3b45670525f801bb4</td>\n",
       "      <td>2025-06-30</td>\n",
       "      <td>49.965688</td>\n",
       "      <td>37.000000</td>\n",
       "      <td>B</td>\n",
       "    </tr>\n",
       "  </tbody>\n",
       "</table>\n",
       "</div>"
      ],
      "text/plain": [
       "                                 id       date  utilization        age segment\n",
       "0  b7c868fdfcee45a5bcebb65a6a3376e1 2025-06-30    13.294172  48.000000       C\n",
       "1  257cda203ec74faebff6dbd0d4a14285 2025-06-30     8.989357  37.000000       A\n",
       "2  8e1680500ef5458e8c08dd2a282cd69c 2025-06-30    64.611154  31.233678       B\n",
       "3  2dc7593106f14075899d1971754dca6a 2025-06-30    53.238217  37.000000       B\n",
       "4  a208264307014ec3b45670525f801bb4 2025-06-30    49.965688  37.000000       B"
      ]
     },
     "execution_count": 5,
     "metadata": {},
     "output_type": "execute_result"
    }
   ],
   "source": [
    "custom_noise = {\n",
    "    'utilization': {'func': np.random.exponential, 'kwargs': {'scale':50}},\n",
    "}\n",
    "custom_gen = LookAhead(id_cols=['id'], date_cols=['date'], custom_noise=custom_noise).fit(base)\n",
    "custom = custom_gen.generate(n_periods=2, freq='ME', scenario='stress')\n",
    "custom.head()"
   ]
  }
 ],
 "metadata": {
  "kernelspec": {
   "display_name": "ENV_STONE",
   "language": "python",
   "name": "python3"
  },
  "language_info": {
   "codemirror_mode": {
    "name": "ipython",
    "version": 3
   },
   "file_extension": ".py",
   "mimetype": "text/x-python",
   "name": "python",
   "nbconvert_exporter": "python",
   "pygments_lexer": "ipython3",
   "version": "3.10.16"
  }
 },
 "nbformat": 4,
 "nbformat_minor": 5
}
