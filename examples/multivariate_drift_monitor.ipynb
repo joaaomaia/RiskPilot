{
 "cells": [
  {
   "cell_type": "markdown",
   "id": "0ba65144",
   "metadata": {},
   "source": [
    "# Multivariate Drift Monitor – Demo"
   ]
  },
  {
   "cell_type": "markdown",
   "id": "2cc45630",
   "metadata": {},
   "source": [
    "Este notebook demonstra usos **básico** e **avançado** da classe `MultivariateDriftMonitor` em conjuntos de dados sintéticos."
   ]
  },
  {
   "cell_type": "code",
   "execution_count": null,
   "id": "a3bcedaa",
   "metadata": {},
   "outputs": [],
   "source": [
    "import numpy as np, pandas as pd, plotly.io as pio\n",
    "from multivariate_drift_monitor import MultivariateDriftMonitor\n",
    "pio.renderers.default = 'notebook'\n",
    "np.random.seed(42)"
   ]
  },
  {
   "cell_type": "markdown",
   "id": "12a1f47e",
   "metadata": {},
   "source": [
    "## 1. Exemplo simples – sem deriva"
   ]
  },
  {
   "cell_type": "code",
   "execution_count": null,
   "id": "dbe5e9a6",
   "metadata": {},
   "outputs": [],
   "source": [
    "N = 1000\n",
    "features = ['f1', 'f2', 'f3', 'f4', 'f5']\n",
    "base = pd.DataFrame(np.random.normal(0, 1, (N, len(features))), columns=features)\n",
    "base['date'] = pd.date_range('2025-01-01', periods=N, freq='H')\n",
    "\n",
    "monitor = MultivariateDriftMonitor(features_cols=features, date_col='date')\n",
    "monitor.fit(base)\n",
    "\n",
    "new_ok = pd.DataFrame(np.random.normal(0, 1, (N, len(features))), columns=features)\n",
    "new_ok['date'] = pd.date_range('2025-02-01', periods=N, freq='H')\n",
    "monitor.score(new_ok)\n",
    "monitor.plot_drift()"
   ]
  },
  {
   "cell_type": "markdown",
   "id": "6d4c2261",
   "metadata": {},
   "source": [
    "## 2. Exemplo avançado – introduzindo deriva"
   ]
  },
  {
   "cell_type": "code",
   "execution_count": null,
   "id": "d64050cd",
   "metadata": {},
   "outputs": [],
   "source": [
    "drift = pd.DataFrame(np.random.normal(0.8, 1, (N, len(features))), columns=features)\n",
    "drift['date'] = pd.date_range('2025-03-01', periods=N, freq='H')\n",
    "monitor.score(drift)\n",
    "fig = monitor.plot_drift()\n",
    "fig"
   ]
  },
  {
   "cell_type": "markdown",
   "id": "240ac43d",
   "metadata": {},
   "source": [
    "### Relatório consolidado"
   ]
  },
  {
   "cell_type": "code",
   "execution_count": null,
   "id": "9186b46d",
   "metadata": {},
   "outputs": [],
   "source": [
    "import pprint\n",
    "pprint.pp(monitor.get_report())"
   ]
  }
 ],
 "metadata": {},
 "nbformat": 4,
 "nbformat_minor": 5
}
