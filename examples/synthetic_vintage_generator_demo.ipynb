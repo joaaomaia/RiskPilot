{
 "cells": [
  {
   "cell_type": "markdown",
   "metadata": {},
   "source": [
    "# Synthetic Vintage Generator – Demo"
   ]
  },
  {
   "cell_type": "markdown",
   "metadata": {},
   "source": [
    "Este notebook mostra como criar conjuntos de dados sintéticos com a classe `SyntheticVintageGenerator`.\n",
    "Vamos gerar safras mensais de um portfólio fictício."
   ]
  },
  {
   "cell_type": "code",
   "execution_count": 8,
   "metadata": {},
   "outputs": [],
   "source": [
    "import pandas as pd\n",
    "import numpy as np\n",
    "from riskpilot.synthetic import SyntheticVintageGenerator"
   ]
  },
  {
   "cell_type": "code",
   "execution_count": 9,
   "metadata": {},
   "outputs": [],
   "source": [
    "np.random.seed(0)\n",
    "base = pd.DataFrame({\n",
    "    'id': range(100),\n",
    "    'date': pd.date_range('2024-01-01', periods=100, freq='D'),\n",
    "    'utilization': np.random.beta(2,5,100)*100,\n",
    "    'age': np.random.normal(40,10,100).astype(int),\n",
    "    'segment': np.random.choice(['A','B','C'], size=100)\n",
    "})"
   ]
  },
  {
   "cell_type": "code",
   "execution_count": 10,
   "id": "b1e4746b",
   "metadata": {},
   "outputs": [
    {
     "data": {
      "text/plain": [
       "0    2024-01-01\n",
       "1    2024-01-02\n",
       "2    2024-01-03\n",
       "3    2024-01-04\n",
       "4    2024-01-05\n",
       "        ...    \n",
       "95   2024-04-05\n",
       "96   2024-04-06\n",
       "97   2024-04-07\n",
       "98   2024-04-08\n",
       "99   2024-04-09\n",
       "Name: date, Length: 100, dtype: datetime64[ns]"
      ]
     },
     "execution_count": 10,
     "metadata": {},
     "output_type": "execute_result"
    }
   ],
   "source": [
    "base['date']"
   ]
  },
  {
   "cell_type": "code",
   "execution_count": 11,
   "metadata": {},
   "outputs": [],
   "source": [
    "gen = SyntheticVintageGenerator(\n",
    "    id_cols=['id'],\n",
    "    date_cols=['date']\n",
    ").fit(base)"
   ]
  },
  {
   "cell_type": "code",
   "execution_count": 12,
   "metadata": {},
   "outputs": [
    {
     "data": {
      "text/html": [
       "<div>\n",
       "<style scoped>\n",
       "    .dataframe tbody tr th:only-of-type {\n",
       "        vertical-align: middle;\n",
       "    }\n",
       "\n",
       "    .dataframe tbody tr th {\n",
       "        vertical-align: top;\n",
       "    }\n",
       "\n",
       "    .dataframe thead th {\n",
       "        text-align: right;\n",
       "    }\n",
       "</style>\n",
       "<table border=\"1\" class=\"dataframe\">\n",
       "  <thead>\n",
       "    <tr style=\"text-align: right;\">\n",
       "      <th></th>\n",
       "      <th>id</th>\n",
       "      <th>date</th>\n",
       "      <th>utilization</th>\n",
       "      <th>age</th>\n",
       "      <th>segment</th>\n",
       "    </tr>\n",
       "  </thead>\n",
       "  <tbody>\n",
       "    <tr>\n",
       "      <th>0</th>\n",
       "      <td>cc4f2cbdcddf408aa9fa4630695ace65</td>\n",
       "      <td>2025-06-30</td>\n",
       "      <td>23.569908</td>\n",
       "      <td>25.0</td>\n",
       "      <td>C</td>\n",
       "    </tr>\n",
       "    <tr>\n",
       "      <th>1</th>\n",
       "      <td>392f26edd29a4c2da68692fce93fa9a8</td>\n",
       "      <td>2025-06-30</td>\n",
       "      <td>8.938071</td>\n",
       "      <td>41.0</td>\n",
       "      <td>B</td>\n",
       "    </tr>\n",
       "    <tr>\n",
       "      <th>2</th>\n",
       "      <td>0e72f2f549fb4d03aeff3bb9e8993f5e</td>\n",
       "      <td>2025-06-30</td>\n",
       "      <td>22.380341</td>\n",
       "      <td>34.0</td>\n",
       "      <td>B</td>\n",
       "    </tr>\n",
       "    <tr>\n",
       "      <th>3</th>\n",
       "      <td>fffd46d031af4389b0c1365f72b77f03</td>\n",
       "      <td>2025-06-30</td>\n",
       "      <td>24.808378</td>\n",
       "      <td>41.0</td>\n",
       "      <td>B</td>\n",
       "    </tr>\n",
       "    <tr>\n",
       "      <th>4</th>\n",
       "      <td>ea942dcd3a854fef8345d02830c06c53</td>\n",
       "      <td>2025-06-30</td>\n",
       "      <td>50.960118</td>\n",
       "      <td>28.0</td>\n",
       "      <td>C</td>\n",
       "    </tr>\n",
       "  </tbody>\n",
       "</table>\n",
       "</div>"
      ],
      "text/plain": [
       "                                 id       date  utilization   age segment\n",
       "0  cc4f2cbdcddf408aa9fa4630695ace65 2025-06-30    23.569908  25.0       C\n",
       "1  392f26edd29a4c2da68692fce93fa9a8 2025-06-30     8.938071  41.0       B\n",
       "2  0e72f2f549fb4d03aeff3bb9e8993f5e 2025-06-30    22.380341  34.0       B\n",
       "3  fffd46d031af4389b0c1365f72b77f03 2025-06-30    24.808378  41.0       B\n",
       "4  ea942dcd3a854fef8345d02830c06c53 2025-06-30    50.960118  28.0       C"
      ]
     },
     "execution_count": 12,
     "metadata": {},
     "output_type": "execute_result"
    }
   ],
   "source": [
    "synthetic = gen.generate(\n",
    "    n_periods=3,\n",
    "    freq='ME',\n",
    "    scenario='base')\n",
    "synthetic.head()"
   ]
  },
  {
   "cell_type": "markdown",
   "metadata": {},
   "source": [
    "### Ajustando ruídos específicos"
   ]
  },
  {
   "cell_type": "code",
   "execution_count": 5,
   "metadata": {},
   "outputs": [
    {
     "name": "stderr",
     "output_type": "stream",
     "text": [
      "C:\\Users\\JM\\Documents\\0_CienciaDados\\1_Frameworks\\RiskPilot\\riskpilot\\synthetic\\synthetic_vintage_generator.py:130: FutureWarning: 'M' is deprecated and will be removed in a future version, please use 'ME' instead.\n",
      "  start_vintage = pd.Timestamp.today().normalize() + pd.tseries.frequencies.to_offset(freq)\n",
      "C:\\Users\\JM\\Documents\\0_CienciaDados\\1_Frameworks\\RiskPilot\\riskpilot\\synthetic\\synthetic_vintage_generator.py:131: FutureWarning: 'M' is deprecated and will be removed in a future version, please use 'ME' instead.\n",
      "  vint_dates = pd.date_range(start=start_vintage, periods=n_periods, freq=freq)\n"
     ]
    },
    {
     "ename": "TypeError",
     "evalue": "exponential() got multiple values for keyword argument 'scale'",
     "output_type": "error",
     "traceback": [
      "\u001b[1;31m---------------------------------------------------------------------------\u001b[0m",
      "\u001b[1;31mTypeError\u001b[0m                                 Traceback (most recent call last)",
      "Cell \u001b[1;32mIn[5], line 5\u001b[0m\n\u001b[0;32m      1\u001b[0m custom_noise \u001b[38;5;241m=\u001b[39m {\n\u001b[0;32m      2\u001b[0m     \u001b[38;5;124m'\u001b[39m\u001b[38;5;124mutilization\u001b[39m\u001b[38;5;124m'\u001b[39m: {\u001b[38;5;124m'\u001b[39m\u001b[38;5;124mfunc\u001b[39m\u001b[38;5;124m'\u001b[39m: np\u001b[38;5;241m.\u001b[39mrandom\u001b[38;5;241m.\u001b[39mexponential, \u001b[38;5;124m'\u001b[39m\u001b[38;5;124mkwargs\u001b[39m\u001b[38;5;124m'\u001b[39m: {\u001b[38;5;124m'\u001b[39m\u001b[38;5;124mscale\u001b[39m\u001b[38;5;124m'\u001b[39m:\u001b[38;5;241m50\u001b[39m}},\n\u001b[0;32m      3\u001b[0m }\n\u001b[0;32m      4\u001b[0m custom_gen \u001b[38;5;241m=\u001b[39m SyntheticVintageGenerator(id_cols\u001b[38;5;241m=\u001b[39m[\u001b[38;5;124m'\u001b[39m\u001b[38;5;124mid\u001b[39m\u001b[38;5;124m'\u001b[39m], date_cols\u001b[38;5;241m=\u001b[39m[\u001b[38;5;124m'\u001b[39m\u001b[38;5;124mdate\u001b[39m\u001b[38;5;124m'\u001b[39m], custom_noise\u001b[38;5;241m=\u001b[39mcustom_noise)\u001b[38;5;241m.\u001b[39mfit(base)\n\u001b[1;32m----> 5\u001b[0m custom \u001b[38;5;241m=\u001b[39m \u001b[43mcustom_gen\u001b[49m\u001b[38;5;241;43m.\u001b[39;49m\u001b[43mgenerate\u001b[49m\u001b[43m(\u001b[49m\u001b[43mn_periods\u001b[49m\u001b[38;5;241;43m=\u001b[39;49m\u001b[38;5;241;43m2\u001b[39;49m\u001b[43m,\u001b[49m\u001b[43m \u001b[49m\u001b[43mfreq\u001b[49m\u001b[38;5;241;43m=\u001b[39;49m\u001b[38;5;124;43m'\u001b[39;49m\u001b[38;5;124;43mM\u001b[39;49m\u001b[38;5;124;43m'\u001b[39;49m\u001b[43m,\u001b[49m\u001b[43m \u001b[49m\u001b[43mscenario\u001b[49m\u001b[38;5;241;43m=\u001b[39;49m\u001b[38;5;124;43m'\u001b[39;49m\u001b[38;5;124;43mstress\u001b[39;49m\u001b[38;5;124;43m'\u001b[39;49m\u001b[43m)\u001b[49m\n\u001b[0;32m      6\u001b[0m custom\u001b[38;5;241m.\u001b[39mhead()\n",
      "File \u001b[1;32m~\\Documents\\0_CienciaDados\\1_Frameworks\\RiskPilot\\riskpilot\\synthetic\\synthetic_vintage_generator.py:135\u001b[0m, in \u001b[0;36mSyntheticVintageGenerator.generate\u001b[1;34m(self, n_periods, freq, start_vintage, scenario, shocks, n_per_vintage, preserve_corr)\u001b[0m\n\u001b[0;32m    133\u001b[0m \u001b[38;5;28;01mfor\u001b[39;00m vint \u001b[38;5;129;01min\u001b[39;00m vint_dates:\n\u001b[0;32m    134\u001b[0m     n_rows \u001b[38;5;241m=\u001b[39m n_per_vintage \u001b[38;5;129;01mor\u001b[39;00m \u001b[38;5;28mself\u001b[39m\u001b[38;5;241m.\u001b[39mrandom_state\u001b[38;5;241m.\u001b[39mchoice([\u001b[38;5;241m500\u001b[39m, \u001b[38;5;241m1000\u001b[39m, \u001b[38;5;241m2000\u001b[39m])\n\u001b[1;32m--> 135\u001b[0m     df_v \u001b[38;5;241m=\u001b[39m \u001b[38;5;28;43mself\u001b[39;49m\u001b[38;5;241;43m.\u001b[39;49m\u001b[43m_generate_one_vintage\u001b[49m\u001b[43m(\u001b[49m\u001b[43mn_rows\u001b[49m\u001b[43m,\u001b[49m\u001b[43m \u001b[49m\u001b[43mvint\u001b[49m\u001b[43m,\u001b[49m\u001b[43m \u001b[49m\u001b[43mscenario\u001b[49m\u001b[43m,\u001b[49m\n\u001b[0;32m    136\u001b[0m \u001b[43m                                      \u001b[49m\u001b[43mshocks\u001b[49m\u001b[43m,\u001b[49m\u001b[43m \u001b[49m\u001b[43mpreserve_corr\u001b[49m\u001b[43m)\u001b[49m\n\u001b[0;32m    137\u001b[0m     df_list\u001b[38;5;241m.\u001b[39mappend(df_v)\n\u001b[0;32m    139\u001b[0m \u001b[38;5;28;01mreturn\u001b[39;00m pd\u001b[38;5;241m.\u001b[39mconcat(df_list, ignore_index\u001b[38;5;241m=\u001b[39m\u001b[38;5;28;01mTrue\u001b[39;00m)\n",
      "File \u001b[1;32m~\\Documents\\0_CienciaDados\\1_Frameworks\\RiskPilot\\riskpilot\\synthetic\\synthetic_vintage_generator.py:162\u001b[0m, in \u001b[0;36mSyntheticVintageGenerator._generate_one_vintage\u001b[1;34m(self, n_rows, vint_date, scenario, shocks, preserve_corr)\u001b[0m\n\u001b[0;32m    160\u001b[0m indep_vars \u001b[38;5;241m=\u001b[39m {}\n\u001b[0;32m    161\u001b[0m \u001b[38;5;28;01mfor\u001b[39;00m col, meta \u001b[38;5;129;01min\u001b[39;00m \u001b[38;5;28mself\u001b[39m\u001b[38;5;241m.\u001b[39m_meta\u001b[38;5;241m.\u001b[39mitems():\n\u001b[1;32m--> 162\u001b[0m     indep_vars[col] \u001b[38;5;241m=\u001b[39m \u001b[38;5;28;43mself\u001b[39;49m\u001b[38;5;241;43m.\u001b[39;49m\u001b[43m_sample_marginal\u001b[49m\u001b[43m(\u001b[49m\u001b[43mcol\u001b[49m\u001b[43m,\u001b[49m\u001b[43m \u001b[49m\u001b[43mmeta\u001b[49m\u001b[43m,\u001b[49m\u001b[43m \u001b[49m\u001b[43mn_rows\u001b[49m\u001b[43m,\u001b[49m\u001b[43m \u001b[49m\u001b[43mscenario\u001b[49m\u001b[43m)\u001b[49m\n\u001b[0;32m    164\u001b[0m df_num \u001b[38;5;241m=\u001b[39m pd\u001b[38;5;241m.\u001b[39mDataFrame(indep_vars)\n\u001b[0;32m    166\u001b[0m \u001b[38;5;66;03m# 3. aplica cópula (só numéricas) se desejado\u001b[39;00m\n",
      "File \u001b[1;32m~\\Documents\\0_CienciaDados\\1_Frameworks\\RiskPilot\\riskpilot\\synthetic\\synthetic_vintage_generator.py:196\u001b[0m, in \u001b[0;36mSyntheticVintageGenerator._sample_marginal\u001b[1;34m(self, col, meta, n, scenario)\u001b[0m\n\u001b[0;32m    194\u001b[0m cust \u001b[38;5;241m=\u001b[39m \u001b[38;5;28mself\u001b[39m\u001b[38;5;241m.\u001b[39mcustom_noise\u001b[38;5;241m.\u001b[39mget(col)\n\u001b[0;32m    195\u001b[0m \u001b[38;5;28;01mif\u001b[39;00m cust \u001b[38;5;129;01mis\u001b[39;00m \u001b[38;5;129;01mnot\u001b[39;00m \u001b[38;5;28;01mNone\u001b[39;00m:\n\u001b[1;32m--> 196\u001b[0m     \u001b[38;5;28;01mreturn\u001b[39;00m cust[\u001b[38;5;124m\"\u001b[39m\u001b[38;5;124mfunc\u001b[39m\u001b[38;5;124m\"\u001b[39m](n, \u001b[38;5;241m*\u001b[39m\u001b[38;5;241m*\u001b[39mcust\u001b[38;5;241m.\u001b[39mget(\u001b[38;5;124m\"\u001b[39m\u001b[38;5;124mkwargs\u001b[39m\u001b[38;5;124m\"\u001b[39m, {}))\n\u001b[0;32m    198\u001b[0m \u001b[38;5;28;01mif\u001b[39;00m meta\u001b[38;5;241m.\u001b[39mdtype \u001b[38;5;241m==\u001b[39m \u001b[38;5;124m\"\u001b[39m\u001b[38;5;124mcont\u001b[39m\u001b[38;5;124m\"\u001b[39m:\n\u001b[0;32m    199\u001b[0m     u \u001b[38;5;241m=\u001b[39m \u001b[38;5;28mself\u001b[39m\u001b[38;5;241m.\u001b[39mrandom_state\u001b[38;5;241m.\u001b[39muniform(\u001b[38;5;241m0\u001b[39m, \u001b[38;5;241m1\u001b[39m, size\u001b[38;5;241m=\u001b[39mn)\n",
      "File \u001b[1;32mnumpy\\\\random\\\\mtrand.pyx:500\u001b[0m, in \u001b[0;36mnumpy.random.mtrand.RandomState.exponential\u001b[1;34m()\u001b[0m\n",
      "\u001b[1;31mTypeError\u001b[0m: exponential() got multiple values for keyword argument 'scale'"
     ]
    }
   ],
   "source": [
    "custom_noise = {\n",
    "    'utilization': {'func': np.random.exponential, 'kwargs': {'scale':50}},\n",
    "}\n",
    "custom_gen = SyntheticVintageGenerator(id_cols=['id'], date_cols=['date'], custom_noise=custom_noise).fit(base)\n",
    "custom = custom_gen.generate(n_periods=2, freq='M', scenario='stress')\n",
    "custom.head()"
   ]
  }
 ],
 "metadata": {
  "kernelspec": {
   "display_name": "ENV_STONE",
   "language": "python",
   "name": "python3"
  },
  "language_info": {
   "codemirror_mode": {
    "name": "ipython",
    "version": 3
   },
   "file_extension": ".py",
   "mimetype": "text/x-python",
   "name": "python",
   "nbconvert_exporter": "python",
   "pygments_lexer": "ipython3",
   "version": "3.10.16"
  }
 },
 "nbformat": 4,
 "nbformat_minor": 5
}
