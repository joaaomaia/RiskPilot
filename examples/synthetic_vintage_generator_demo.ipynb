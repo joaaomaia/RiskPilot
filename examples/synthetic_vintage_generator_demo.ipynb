{
 "cells": [
  {
   "cell_type": "markdown",
   "metadata": {},
   "source": [
    "# Synthetic Vintage Generator – Demo"
   ]
  },
  {
   "cell_type": "markdown",
   "metadata": {},
   "source": [
    "Este notebook mostra como criar conjuntos de dados sintéticos com a classe `SyntheticVintageGenerator`.\n",
    "Vamos gerar safras mensais de um portfólio fictício."
   ]
  },
  {
   "cell_type": "code",
   "execution_count": 1,
   "metadata": {},
   "outputs": [],
   "source": [
    "import pandas as pd\n",
    "import numpy as np\n",
    "from riskpilot.synthetic import SyntheticVintageGenerator"
   ]
  },
  {
   "cell_type": "code",
   "execution_count": 2,
   "metadata": {},
   "outputs": [],
   "source": [
    "np.random.seed(0)\n",
    "base = pd.DataFrame({\n",
    "    'id': range(100),\n",
    "    'date': pd.date_range('2024-01-01', periods=100, freq='D'),\n",
    "    'utilization': np.random.beta(2,5,100)*100,\n",
    "    'age': np.random.normal(40,10,100).astype(int),\n",
    "    'segment': np.random.choice(['A','B','C'], size=100)\n",
    "})"
   ]
  },
  {
   "cell_type": "code",
   "execution_count": 3,
   "id": "b1e4746b",
   "metadata": {},
   "outputs": [
    {
     "data": {
      "text/plain": [
       "0    2024-01-01\n",
       "1    2024-01-02\n",
       "2    2024-01-03\n",
       "3    2024-01-04\n",
       "4    2024-01-05\n",
       "        ...    \n",
       "95   2024-04-05\n",
       "96   2024-04-06\n",
       "97   2024-04-07\n",
       "98   2024-04-08\n",
       "99   2024-04-09\n",
       "Name: date, Length: 100, dtype: datetime64[ns]"
      ]
     },
     "execution_count": 3,
     "metadata": {},
     "output_type": "execute_result"
    }
   ],
   "source": [
    "base['date']"
   ]
  },
  {
   "cell_type": "code",
   "execution_count": 4,
   "metadata": {},
   "outputs": [],
   "source": [
    "gen = SyntheticVintageGenerator(\n",
    "    id_cols=['id'],\n",
    "    date_cols=['date']\n",
    ").fit(base)"
   ]
  },
  {
   "cell_type": "code",
   "execution_count": 5,
   "metadata": {},
   "outputs": [
    {
     "data": {
      "text/html": [
       "<div>\n",
       "<style scoped>\n",
       "    .dataframe tbody tr th:only-of-type {\n",
       "        vertical-align: middle;\n",
       "    }\n",
       "\n",
       "    .dataframe tbody tr th {\n",
       "        vertical-align: top;\n",
       "    }\n",
       "\n",
       "    .dataframe thead th {\n",
       "        text-align: right;\n",
       "    }\n",
       "</style>\n",
       "<table border=\"1\" class=\"dataframe\">\n",
       "  <thead>\n",
       "    <tr style=\"text-align: right;\">\n",
       "      <th></th>\n",
       "      <th>id</th>\n",
       "      <th>date</th>\n",
       "      <th>utilization</th>\n",
       "      <th>age</th>\n",
       "      <th>segment</th>\n",
       "    </tr>\n",
       "  </thead>\n",
       "  <tbody>\n",
       "    <tr>\n",
       "      <th>0</th>\n",
       "      <td>f73b8c8eb8014f4c903fa97202816295</td>\n",
       "      <td>2025-06-30</td>\n",
       "      <td>29.327637</td>\n",
       "      <td>25.000000</td>\n",
       "      <td>C</td>\n",
       "    </tr>\n",
       "    <tr>\n",
       "      <th>1</th>\n",
       "      <td>ccffd329238f4a8390e8f0293c3f8b9f</td>\n",
       "      <td>2025-06-30</td>\n",
       "      <td>11.253387</td>\n",
       "      <td>40.000000</td>\n",
       "      <td>C</td>\n",
       "    </tr>\n",
       "    <tr>\n",
       "      <th>2</th>\n",
       "      <td>69f67dc3e5c34a8481b6022ee9abff43</td>\n",
       "      <td>2025-06-30</td>\n",
       "      <td>32.253716</td>\n",
       "      <td>43.000000</td>\n",
       "      <td>A</td>\n",
       "    </tr>\n",
       "    <tr>\n",
       "      <th>3</th>\n",
       "      <td>bc9e41bb17ca49d6be264f0269e0d35b</td>\n",
       "      <td>2025-06-30</td>\n",
       "      <td>21.403067</td>\n",
       "      <td>38.798072</td>\n",
       "      <td>A</td>\n",
       "    </tr>\n",
       "    <tr>\n",
       "      <th>4</th>\n",
       "      <td>2ab593c2daf04cd695c3aed44d5203ac</td>\n",
       "      <td>2025-06-30</td>\n",
       "      <td>7.279738</td>\n",
       "      <td>48.000000</td>\n",
       "      <td>A</td>\n",
       "    </tr>\n",
       "  </tbody>\n",
       "</table>\n",
       "</div>"
      ],
      "text/plain": [
       "                                 id       date  utilization        age segment\n",
       "0  f73b8c8eb8014f4c903fa97202816295 2025-06-30    29.327637  25.000000       C\n",
       "1  ccffd329238f4a8390e8f0293c3f8b9f 2025-06-30    11.253387  40.000000       C\n",
       "2  69f67dc3e5c34a8481b6022ee9abff43 2025-06-30    32.253716  43.000000       A\n",
       "3  bc9e41bb17ca49d6be264f0269e0d35b 2025-06-30    21.403067  38.798072       A\n",
       "4  2ab593c2daf04cd695c3aed44d5203ac 2025-06-30     7.279738  48.000000       A"
      ]
     },
     "execution_count": 5,
     "metadata": {},
     "output_type": "execute_result"
    }
   ],
   "source": [
    "synthetic = gen.generate(\n",
    "    n_periods=3,\n",
    "    freq='ME',\n",
    "    scenario='base')\n",
    "synthetic.head()"
   ]
  },
  {
   "cell_type": "markdown",
   "metadata": {},
   "source": [
    "### Ajustando ruídos específicos"
   ]
  },
  {
   "cell_type": "code",
   "execution_count": 6,
   "metadata": {},
   "outputs": [
    {
     "data": {
      "text/html": [
       "<div>\n",
       "<style scoped>\n",
       "    .dataframe tbody tr th:only-of-type {\n",
       "        vertical-align: middle;\n",
       "    }\n",
       "\n",
       "    .dataframe tbody tr th {\n",
       "        vertical-align: top;\n",
       "    }\n",
       "\n",
       "    .dataframe thead th {\n",
       "        text-align: right;\n",
       "    }\n",
       "</style>\n",
       "<table border=\"1\" class=\"dataframe\">\n",
       "  <thead>\n",
       "    <tr style=\"text-align: right;\">\n",
       "      <th></th>\n",
       "      <th>id</th>\n",
       "      <th>date</th>\n",
       "      <th>utilization</th>\n",
       "      <th>age</th>\n",
       "      <th>segment</th>\n",
       "    </tr>\n",
       "  </thead>\n",
       "  <tbody>\n",
       "    <tr>\n",
       "      <th>0</th>\n",
       "      <td>2ea345dd97044990ae52f076a42a1fec</td>\n",
       "      <td>2025-06-30</td>\n",
       "      <td>22.882767</td>\n",
       "      <td>37.000000</td>\n",
       "      <td>B</td>\n",
       "    </tr>\n",
       "    <tr>\n",
       "      <th>1</th>\n",
       "      <td>69ea90d929db4431aa65c49f5639c788</td>\n",
       "      <td>2025-06-30</td>\n",
       "      <td>32.891299</td>\n",
       "      <td>39.000000</td>\n",
       "      <td>C</td>\n",
       "    </tr>\n",
       "    <tr>\n",
       "      <th>2</th>\n",
       "      <td>1ddb97ab70b247e1b8ca02bf76f389ef</td>\n",
       "      <td>2025-06-30</td>\n",
       "      <td>35.012272</td>\n",
       "      <td>42.000000</td>\n",
       "      <td>A</td>\n",
       "    </tr>\n",
       "    <tr>\n",
       "      <th>3</th>\n",
       "      <td>e73ae95e82e042148e0198bde1e42e25</td>\n",
       "      <td>2025-06-30</td>\n",
       "      <td>6.227921</td>\n",
       "      <td>22.167062</td>\n",
       "      <td>B</td>\n",
       "    </tr>\n",
       "    <tr>\n",
       "      <th>4</th>\n",
       "      <td>14ba674cace84414807c5ba14ff19f6d</td>\n",
       "      <td>2025-06-30</td>\n",
       "      <td>47.246435</td>\n",
       "      <td>45.430923</td>\n",
       "      <td>C</td>\n",
       "    </tr>\n",
       "  </tbody>\n",
       "</table>\n",
       "</div>"
      ],
      "text/plain": [
       "                                 id       date  utilization        age segment\n",
       "0  2ea345dd97044990ae52f076a42a1fec 2025-06-30    22.882767  37.000000       B\n",
       "1  69ea90d929db4431aa65c49f5639c788 2025-06-30    32.891299  39.000000       C\n",
       "2  1ddb97ab70b247e1b8ca02bf76f389ef 2025-06-30    35.012272  42.000000       A\n",
       "3  e73ae95e82e042148e0198bde1e42e25 2025-06-30     6.227921  22.167062       B\n",
       "4  14ba674cace84414807c5ba14ff19f6d 2025-06-30    47.246435  45.430923       C"
      ]
     },
     "execution_count": 6,
     "metadata": {},
     "output_type": "execute_result"
    }
   ],
   "source": [
    "custom_noise = {\n",
    "    'utilization': {'func': np.random.exponential, 'kwargs': {'scale':50}},\n",
    "}\n",
    "custom_gen = SyntheticVintageGenerator(id_cols=['id'], date_cols=['date'], custom_noise=custom_noise).fit(base)\n",
    "custom = custom_gen.generate(n_periods=2, freq='ME', scenario='stress')\n",
    "custom.head()"
   ]
  }
 ],
 "metadata": {
  "kernelspec": {
   "display_name": "ENV_STONE",
   "language": "python",
   "name": "python3"
  },
  "language_info": {
   "codemirror_mode": {
    "name": "ipython",
    "version": 3
   },
   "file_extension": ".py",
   "mimetype": "text/x-python",
   "name": "python",
   "nbconvert_exporter": "python",
   "pygments_lexer": "ipython3",
   "version": "3.10.16"
  }
 },
 "nbformat": 4,
 "nbformat_minor": 5
}
